{
  "cells": [
    {
      "cell_type": "code",
      "execution_count": null,
      "id": "5a639b74-03bd-4292-80d4-1459d9316725",
      "metadata": {
        "id": "5a639b74-03bd-4292-80d4-1459d9316725"
      },
      "outputs": [],
      "source": [
        "# Copyright 2024 Google LLC\n",
        "#\n",
        "# Licensed under the Apache License, Version 2.0 (the \"License\");\n",
        "# you may not use this file except in compliance with the License.\n",
        "# You may obtain a copy of the License at\n",
        "#\n",
        "#     https://www.apache.org/licenses/LICENSE-2.0\n",
        "#\n",
        "# Unless required by applicable law or agreed to in writing, software\n",
        "# distributed under the License is distributed on an \"AS IS\" BASIS,\n",
        "# WITHOUT WARRANTIES OR CONDITIONS OF ANY KIND, either express or implied.\n",
        "# See the License for the specific language governing permissions and\n",
        "# limitations under the License."
      ]
    },
    {
      "cell_type": "markdown",
      "id": "4727f40b-d241-443b-bb8a-5a429d4dfa6e",
      "metadata": {
        "id": "4727f40b-d241-443b-bb8a-5a429d4dfa6e"
      },
      "source": [
        "# Gen AI for Marketing - Place Logo & Text Overlays on Image\n",
        "\n",
        "<table align=\"left\">\n",
        "  <td style=\"text-align: center\">\n",
        "    <a href=\"https://colab.research.google.com/github/GoogleCloudPlatform/generative-ai/blob/main/language/use-cases/marketing-image-overlay/marketing_image_overlay.ipynb\">\n",
        "      <img width=\"32px\" src=\"https://www.gstatic.com/pantheon/images/bigquery/welcome_page/colab-logo.svg\" alt=\"Google Colaboratory logo\"><br> Run in Colab\n",
        "    </a>\n",
        "  </td>\n",
        "  <td style=\"text-align: center\">\n",
        "    <a href=\"https://console.cloud.google.com/vertex-ai/colab/import/https:%2F%2Fraw.githubusercontent.com%2FGoogleCloudPlatform%2Fgenerative-ai%2Fmain%2Flanguage%2Fuse-cases%2Fmarketing-image-overlay%2Fmarketing_image_overlay.ipynb\">\n",
        "      <img width=\"32px\" src=\"https://lh3.googleusercontent.com/JmcxdQi-qOpctIvWKgPtrzZdJJK-J3sWE1RsfjZNwshCFgE_9fULcNpuXYTilIR2hjwN\" alt=\"Google Cloud Colab Enterprise logo\"><br> Run in Colab Enterprise\n",
        "    </a>\n",
        "  </td>\n",
        "  <td style=\"text-align: center\">\n",
        "    <a href=\"https://console.cloud.google.com/vertex-ai/workbench/deploy-notebook?download_url=https://raw.githubusercontent.com/GoogleCloudPlatform/generative-ai/main/language/use-cases/marketing-image-overlay/marketing_image_overlay.ipynb\">\n",
        "      <img src=\"https://www.gstatic.com/images/branding/gcpiconscolors/vertexai/v1/32px.svg\" alt=\"Vertex AI logo\"><br> Open in Vertex AI Workbench\n",
        "    </a>\n",
        "  </td>\n",
        "  <td style=\"text-align: center\">\n",
        "    <a href=\"https://github.com/GoogleCloudPlatform/generative-ai/blob/main/language/use-cases/marketing-image-overlay/marketing_image_overlay.ipynb\">\n",
        "      <img width=\"32px\" src=\"https://upload.wikimedia.org/wikipedia/commons/9/91/Octicons-mark-github.svg\" alt=\"GitHub logo\"><br> View on GitHub\n",
        "    </a>\n",
        "  </td>\n",
        "</table>\n",
        "\n",
        "<div style=\"clear: both;\"></div>\n",
        "\n",
        "<b>Share to:</b>\n",
        "\n",
        "<a href=\"https://www.linkedin.com/sharing/share-offsite/?url=https%3A//github.com/GoogleCloudPlatform/generative-ai/blob/main/language/use-cases/marketing-image-overlay/marketing_image_overlay.ipynb\" target=\"_blank\">\n",
        "  <img width=\"20px\" src=\"https://upload.wikimedia.org/wikipedia/commons/8/81/LinkedIn_icon.svg\" alt=\"LinkedIn logo\">\n",
        "</a>\n",
        "\n",
        "<a href=\"https://bsky.app/intent/compose?text=https%3A//github.com/GoogleCloudPlatform/generative-ai/blob/main/language/use-cases/marketing-image-overlay/marketing_image_overlay.ipynb\" target=\"_blank\">\n",
        "  <img width=\"20px\" src=\"https://upload.wikimedia.org/wikipedia/commons/7/7a/Bluesky_Logo.svg\" alt=\"Bluesky logo\">\n",
        "</a>\n",
        "\n",
        "<a href=\"https://twitter.com/intent/tweet?url=https%3A//github.com/GoogleCloudPlatform/generative-ai/blob/main/language/use-cases/marketing-image-overlay/marketing_image_overlay.ipynb\" target=\"_blank\">\n",
        "  <img width=\"20px\" src=\"https://upload.wikimedia.org/wikipedia/commons/5/53/X_logo_2023_original.svg\" alt=\"X logo\">\n",
        "</a>\n",
        "\n",
        "<a href=\"https://reddit.com/submit?url=https%3A//github.com/GoogleCloudPlatform/generative-ai/blob/main/language/use-cases/marketing-image-overlay/marketing_image_overlay.ipynb\" target=\"_blank\">\n",
        "  <img width=\"20px\" src=\"https://redditinc.com/hubfs/Reddit%20Inc/Brand/Reddit_Logo.png\" alt=\"Reddit logo\">\n",
        "</a>\n",
        "\n",
        "<a href=\"https://www.facebook.com/sharer/sharer.php?u=https%3A//github.com/GoogleCloudPlatform/generative-ai/blob/main/language/use-cases/marketing-image-overlay/marketing_image_overlay.ipynb\" target=\"_blank\">\n",
        "  <img width=\"20px\" src=\"https://upload.wikimedia.org/wikipedia/commons/5/51/Facebook_f_logo_%282019%29.svg\" alt=\"Facebook logo\">\n",
        "</a>            "
      ]
    },
    {
      "cell_type": "markdown",
      "id": "0dd64ef3-4aa8-4ae5-91b4-cfbc2a60fc4c",
      "metadata": {
        "id": "0dd64ef3-4aa8-4ae5-91b4-cfbc2a60fc4c"
      },
      "source": [
        "| | |\n",
        "|-|-|\n",
        "|Author(s) | [Rohit Naidu](https://github.com/rohitnaiduG) |\n",
        "|Contributor(s) | [Suddhasatwa Bhaumik](https://github.com/suddhasatwabhaumik) |"
      ]
    },
    {
      "cell_type": "markdown",
      "id": "8b5cb8ed-7404-4a5d-9099-cc197c40744f",
      "metadata": {
        "id": "8b5cb8ed-7404-4a5d-9099-cc197c40744f"
      },
      "source": [
        "## Overview\n",
        "\n",
        "- Imagine we are creating marketing Images for a Restaurant Brand. We generate Images using Imagen, but now we want to add branding by adding a Logo and some Text on the Image.\n",
        "- Currently, this is quite challenging as these tasks should not modify the Original Image, rather add layers on top.\n",
        "- We may want to add the Brand Logo at one of the corners, resize it etc.\n",
        "- We may want to add Text in a particular Font, Position, Size & Colour etc. to the Image.\n",
        "- We solve this using Generative Code from Text Instructions using Code Bison.\n",
        "- We Prompt the Model with a base code and the desired Tasks eg: Make the logo Transparent.\n",
        "- CodeBison will return executable Python code\n",
        "- We immediately execute this code and validate the Output\n",
        "- Repeat the process till the output is as expected.\n",
        "- Final code is saved for applying consistently to multiple Images\n",
        "\n",
        "[CodeBison on Vertex AI](https://cloud.google.com/vertex-ai/docs/generative-ai/model-reference/code-generation) (Code Generative AI) offers a variety of features:\n",
        "- Unit tests: Use the prompt to request a unit test for a function.\n",
        "- Write a function: Pass a problem to the model to get a function that solves that problem.\n",
        "- Create a class: Use a prompt to describe the purpose of a class and have code that defines the class returned.\n",
        "This notebook focuses on **applying code generation for image overlays** only."
      ]
    },
    {
      "cell_type": "markdown",
      "id": "1c36b252-3e6b-477b-abe2-3636e4c96904",
      "metadata": {
        "id": "1c36b252-3e6b-477b-abe2-3636e4c96904"
      },
      "source": [
        "### Objectives\n",
        "\n",
        "In this notebook, you will learn how to use the Vertex AI Python SDK to:\n",
        "\n",
        "- Adding logo, overlay and text at the same exact place is not a Generative task.\n",
        "- We need something more Deterministic to do this repetitively at scale\n",
        "- All we have are Rules in raw text that describe the intent of the task\n",
        "- We use this text to create a Prompt for Google's CodeBison model\n",
        "- CodeBison model is designed to Generate code given Text descriptions\n",
        "- We ask the model for working Python code and it delivers.\n",
        "- We test output the code, and if it doesnt work as expected, we again prompt the model to modify the Code.\n",
        "- The model interactively keeps updating the code. It can also fix Errors that we encounter.\n",
        "- Finally, the working code that suits our task is saved and we can use this same code for any number of images."
      ]
    },
    {
      "cell_type": "markdown",
      "id": "67b5a5ee-3c96-4901-abff-bded4686f67d",
      "metadata": {
        "id": "67b5a5ee-3c96-4901-abff-bded4686f67d"
      },
      "source": [
        "### Costs\n",
        "\n",
        "This tutorial uses billable components of Google Cloud:\n",
        "- Vertex AI (Code Bison)\n",
        "\n",
        "Learn about [Vertex AI pricing](https://cloud.google.com/vertex-ai/pricing) and use the [Pricing Calculator](https://cloud.google.com/products/calculator/) to generate a cost estimate based on your projected usage."
      ]
    },
    {
      "cell_type": "markdown",
      "id": "21eba7e1-0f15-4567-a8e9-c1de63e660e0",
      "metadata": {
        "id": "21eba7e1-0f15-4567-a8e9-c1de63e660e0"
      },
      "source": [
        "## Getting Started"
      ]
    },
    {
      "cell_type": "markdown",
      "id": "10263482-e319-4d9d-962c-9b3ba84b7ad7",
      "metadata": {
        "id": "10263482-e319-4d9d-962c-9b3ba84b7ad7"
      },
      "source": [
        "### Install Vertex AI SDK for Python"
      ]
    },
    {
      "cell_type": "code",
      "execution_count": null,
      "id": "f03f3b74-d42c-43bb-87c4-9307655efccd",
      "metadata": {
        "id": "f03f3b74-d42c-43bb-87c4-9307655efccd"
      },
      "outputs": [],
      "source": [
        "%pip install -q --upgrade --user google-cloud-aiplatform"
      ]
    },
    {
      "cell_type": "markdown",
      "id": "0c5840fb-3947-411a-aa2a-8343e8965c42",
      "metadata": {
        "id": "0c5840fb-3947-411a-aa2a-8343e8965c42"
      },
      "source": [
        "### Restart current runtime\n",
        "\n",
        "To use the newly installed packages in this Jupyter runtime, you must restart the runtime. You can do this by running the cell below, which will restart the current kernel."
      ]
    },
    {
      "cell_type": "code",
      "execution_count": null,
      "id": "dJMx6lb6TEgM",
      "metadata": {
        "id": "dJMx6lb6TEgM"
      },
      "outputs": [],
      "source": [
        "# Restart kernel after installs so that your environment can access the new packages\n",
        "import IPython\n",
        "\n",
        "app = IPython.Application.instance()\n",
        "app.kernel.do_shutdown(True)"
      ]
    },
    {
      "cell_type": "markdown",
      "id": "6Fom0ZkMSBW6",
      "metadata": {
        "id": "6Fom0ZkMSBW6"
      },
      "source": [
        "### Authenticate your notebook environment (Colab only)\n",
        "\n",
        "If you are running this notebook on Google Colab, run the following cell to authenticate your environment. This step is not required if you are using [Vertex AI Workbench](https://cloud.google.com/vertex-ai-workbench).\n"
      ]
    },
    {
      "cell_type": "code",
      "execution_count": null,
      "id": "LCaCx6PLSBW6",
      "metadata": {
        "id": "LCaCx6PLSBW6"
      },
      "outputs": [],
      "source": [
        "import sys\n",
        "import types\n",
        "\n",
        "# Additional authentication is required for Google Colab\n",
        "if \"google.colab\" in sys.modules:\n",
        "    # Authenticate user to Google Cloud\n",
        "    from google.colab import auth\n",
        "\n",
        "    auth.authenticate_user()"
      ]
    },
    {
      "cell_type": "markdown",
      "id": "QGB8Txa_e4V0",
      "metadata": {
        "id": "QGB8Txa_e4V0"
      },
      "source": [
        "### Define Google Cloud project information and initialize Vertex AI\n",
        "\n",
        "Initialize the Vertex AI SDK for Python for your project:"
      ]
    },
    {
      "cell_type": "code",
      "execution_count": null,
      "id": "JGOJHtgDe5-r",
      "metadata": {
        "id": "JGOJHtgDe5-r"
      },
      "outputs": [],
      "source": [
        "# Define project information\n",
        "PROJECT_ID = \"[your-project-id]\"  # @param {type:\"string\"}\n",
        "LOCATION = \"us-central1\"  # @param {type:\"string\"}\n",
        "\n",
        "# Initialize Vertex AI\n",
        "import vertexai\n",
        "from vertexai.language_models import CodeGenerationModel\n",
        "\n",
        "vertexai.init(project=PROJECT_ID, location=LOCATION)"
      ]
    },
    {
      "cell_type": "markdown",
      "id": "1c555a6f-8501-49fe-8c02-682914d0f06c",
      "metadata": {
        "id": "1c555a6f-8501-49fe-8c02-682914d0f06c"
      },
      "source": [
        "### Download Assets"
      ]
    },
    {
      "cell_type": "markdown",
      "id": "hGx91QPaA2PE",
      "metadata": {
        "id": "hGx91QPaA2PE"
      },
      "source": [
        "- We need a few assets which have been uploaded to a public Google Cloud Storage bucket:\n",
        "  - A Base Image: This is the main image (mostly generated by Imagen)\n",
        "  - Logo Image: This is a small logo to place on the base image (generated using Imagen)\n",
        "  - A Font File: This is a default font to apply to text on the image."
      ]
    },
    {
      "cell_type": "code",
      "execution_count": null,
      "id": "HgKLsb0y_8CZ",
      "metadata": {
        "id": "HgKLsb0y_8CZ"
      },
      "outputs": [],
      "source": [
        "!gsutil cp gs://github-repo/use-cases/marketing-image-overlay/* ."
      ]
    },
    {
      "cell_type": "markdown",
      "id": "e5617d42-2556-40f7-8c5d-053c02034b8f",
      "metadata": {
        "id": "e5617d42-2556-40f7-8c5d-053c02034b8f"
      },
      "source": [
        "### Generate Code to Edit Image Using LLM"
      ]
    },
    {
      "cell_type": "markdown",
      "id": "074e2167-0aa1-499c-8e8c-f7104d41eee0",
      "metadata": {
        "id": "074e2167-0aa1-499c-8e8c-f7104d41eee0"
      },
      "source": [
        "- We create a module that defines the function call signature as starting point\n",
        "- Then we ask Code Bison to modify the code to perform the Task we like\n",
        "    - Eg: Make the Logo Transparent\n",
        "- The model gives us working Python code which we save in a file.\n",
        "- This can now be imported and executed directly"
      ]
    },
    {
      "cell_type": "code",
      "execution_count": null,
      "id": "sOm-vH-c0y-4",
      "metadata": {
        "id": "sOm-vH-c0y-4"
      },
      "outputs": [],
      "source": [
        "# The below code is a basic skeleton which informs CodeBison how we want our module structured\n",
        "\n",
        "BASE_CODE = \"\"\"from PIL import Image, ImageColor, ImageFont, ImageDraw\n",
        "\n",
        "\n",
        "def add_logo(image, logo_path, corner, padding):\n",
        "\n",
        "    # Load the logo image.\n",
        "    logo = Image.open(logo_path)\n",
        "\n",
        "    # Resize the logo image to be 10% of the image height.\n",
        "    logo = logo.resize((int(image.height * 0.1), int(image.height * 0.1)))\n",
        "\n",
        "    # Add the logo image to the specified corner of the original image.\n",
        "    if corner == \"top left\":\n",
        "        image.paste(logo, (padding, padding), logo)\n",
        "    elif corner == \"top right\":\n",
        "        image.paste(logo, (image.width - logo.width - padding, padding), logo)\n",
        "    elif corner == \"bottom left\":\n",
        "        image.paste(logo, (padding, image.height - logo.height - padding), logo)\n",
        "    elif corner == \"bottom right\":\n",
        "        image.paste(\n",
        "            logo,\n",
        "            (image.width - logo.width - padding, image.height - logo.height - padding),\n",
        "            logo,\n",
        "        )\n",
        "\n",
        "\n",
        "def add_text(image, text, font_path, font_size, color, position):\n",
        "\n",
        "    # Create a new image that is the same size as the original image.\n",
        "    new_image = Image.new(\"RGBA\", image.size)\n",
        "    draw = ImageDraw.Draw(new_image)\n",
        "\n",
        "    # Create a font object.\n",
        "    font = ImageFont.truetype(font_path, font_size)\n",
        "\n",
        "    # Draw the text on the new image.\n",
        "    draw.text(position, text, font=font, fill=color)\n",
        "\n",
        "    # Add the new image to the original image as a mask.\n",
        "    image.paste(new_image, (0, 0), new_image)\n",
        "\n",
        "\n",
        "def run_pipeline(\n",
        "    image_path,\n",
        "    logo_path,\n",
        "    corner,\n",
        "    padding,\n",
        "    text,\n",
        "    font_path,\n",
        "    font_size,\n",
        "    color,\n",
        "    position,\n",
        "    **kwargs\n",
        "):\n",
        "\n",
        "    # Load the image.\n",
        "    image = Image.open(image_path)\n",
        "\n",
        "    # Add the logo to the image.\n",
        "    add_logo(image, logo_path, corner, padding)\n",
        "\n",
        "    # Add the text to the image.\n",
        "    add_text(image, text, font_path, font_size, color, position)\n",
        "\n",
        "    return image\n",
        "\n",
        "\"\"\""
      ]
    },
    {
      "cell_type": "code",
      "execution_count": null,
      "id": "46E8u6Av5JEb",
      "metadata": {
        "id": "46E8u6Av5JEb"
      },
      "outputs": [],
      "source": [
        "def create_executable(code: str, name: str) -> types.ModuleType:\n",
        "    \"\"\"This function takes Python code in text as Input and makes it executable.\"\"\"\n",
        "    module = types.ModuleType(name)\n",
        "    exec(code, module.__dict__)\n",
        "    return module"
      ]
    },
    {
      "cell_type": "code",
      "execution_count": null,
      "id": "QxVKy2XD8FZG",
      "metadata": {
        "id": "QxVKy2XD8FZG"
      },
      "outputs": [],
      "source": [
        "PROMPT = \"\"\"\n",
        "    The following Python code adds a logo and text to an Image.\n",
        "    User will call the run_pipeline() function.\n",
        "    modify the add_logo function to make the logo 50% transparent.\n",
        "    Keep everything else the same and make minimum changes.\n",
        "    \"\"\""
      ]
    },
    {
      "cell_type": "markdown",
      "id": "Wnr0phacU-3o",
      "metadata": {
        "id": "Wnr0phacU-3o"
      },
      "source": [
        "- Create a function that takes working Python code & modifies it\n",
        "- It gets Python code in raw text, we make it executable\n",
        "- The function returns the output image after executing generated code on it."
      ]
    },
    {
      "cell_type": "code",
      "execution_count": null,
      "id": "ecda35d0-6161-4880-b629-f8e12391761a",
      "metadata": {
        "id": "ecda35d0-6161-4880-b629-f8e12391761a"
      },
      "outputs": [],
      "source": [
        "def generate_code(code: str, **config) -> tuple:\n",
        "    prompt = PROMPT + \":\\n\" + code\n",
        "\n",
        "    parameters = {\"candidate_count\": 1, \"max_output_tokens\": 1024, \"temperature\": 0.9}\n",
        "    model = CodeGenerationModel.from_pretrained(\"code-bison\")\n",
        "    response = model.predict(prefix=prompt, **parameters)\n",
        "\n",
        "    lines = response.text.splitlines()\n",
        "    filtered_lines = []\n",
        "    for line in lines:\n",
        "        if not line.startswith(\"`\"):\n",
        "            filtered_lines.append(line)\n",
        "\n",
        "    final_code = \"\\n\".join(filtered_lines)\n",
        "\n",
        "    m = create_executable(final_code, \"test\")\n",
        "    response = m.run_pipeline(**config)\n",
        "\n",
        "    return (response, final_code)"
      ]
    },
    {
      "cell_type": "markdown",
      "id": "0d9c66b7-1e14-4ee4-a44e-ebaffe2db46e",
      "metadata": {
        "id": "0d9c66b7-1e14-4ee4-a44e-ebaffe2db46e"
      },
      "source": [
        "### Run Pipeline"
      ]
    },
    {
      "cell_type": "code",
      "execution_count": null,
      "id": "ad11022e-ef5e-4ec7-85e2-10d2a2648557",
      "metadata": {
        "id": "ad11022e-ef5e-4ec7-85e2-10d2a2648557"
      },
      "outputs": [],
      "source": [
        "config = {\n",
        "    \"image_path\": \"./image_3.png\",\n",
        "    \"logo_path\": \"./logo.png\",\n",
        "    \"font_path\": \"./Roboto-Bold.ttf\",\n",
        "    \"corner\": \"top right\",\n",
        "    \"text\": \"This shows the Code Works!\",\n",
        "    \"padding\": 20,\n",
        "    \"font_size\": 60,\n",
        "    \"color\": (135, 206, 235),\n",
        "    \"position\": (100, 100),\n",
        "}"
      ]
    },
    {
      "cell_type": "code",
      "execution_count": null,
      "id": "79bac92e-3f06-425c-a396-e13bad264cfb",
      "metadata": {
        "id": "79bac92e-3f06-425c-a396-e13bad264cfb"
      },
      "outputs": [],
      "source": [
        "response, generated_code = generate_code(BASE_CODE, **config)\n",
        "response"
      ]
    },
    {
      "cell_type": "markdown",
      "id": "a1dac82c-899d-4966-8abe-35057b51177b",
      "metadata": {
        "id": "a1dac82c-899d-4966-8abe-35057b51177b"
      },
      "source": [
        "### Response Generated"
      ]
    },
    {
      "cell_type": "markdown",
      "id": "13f5aa1f-62bd-40cb-b84e-9425dcffd1f7",
      "metadata": {
        "id": "13f5aa1f-62bd-40cb-b84e-9425dcffd1f7"
      },
      "source": [
        "- We can validate the Generated code\n",
        "- We can validate the generated Output"
      ]
    },
    {
      "cell_type": "code",
      "execution_count": null,
      "id": "gYXnsZG2Evz8",
      "metadata": {
        "id": "gYXnsZG2Evz8"
      },
      "outputs": [],
      "source": [
        "print(generated_code)"
      ]
    },
    {
      "cell_type": "markdown",
      "id": "2JhGprtLWP1P",
      "metadata": {
        "id": "2JhGprtLWP1P"
      },
      "source": [
        "### Save the Output & Code"
      ]
    },
    {
      "cell_type": "code",
      "execution_count": null,
      "id": "QWOXgyeK0wHN",
      "metadata": {
        "id": "QWOXgyeK0wHN"
      },
      "outputs": [],
      "source": [
        "# Save the Output Image\n",
        "response.save(\"output.png\", \"PNG\")"
      ]
    },
    {
      "cell_type": "code",
      "execution_count": null,
      "id": "AbtAz3DsWUzs",
      "metadata": {
        "id": "AbtAz3DsWUzs"
      },
      "outputs": [],
      "source": [
        "# Save the Output Code\n",
        "with open(\"generated_code.py\", \"w\") as file:\n",
        "    file.write(generated_code)"
      ]
    },
    {
      "cell_type": "markdown",
      "id": "8cf66be4-312b-486b-99a5-b1d2ad0b7626",
      "metadata": {
        "id": "8cf66be4-312b-486b-99a5-b1d2ad0b7626"
      },
      "source": [
        "# Conclusion"
      ]
    },
    {
      "cell_type": "markdown",
      "id": "6a61a05c-a1fb-469c-af92-8299c08421b7",
      "metadata": {
        "id": "6a61a05c-a1fb-469c-af92-8299c08421b7"
      },
      "source": [
        "* The Original Python Function Does not make Logo Transparent\n",
        "* The New Code works directly end-to-end\n",
        "* It does the necessary tasks that we have asked it to do ie. Make Logo Transparent\n",
        "* It respects the function signatures and does not break the working code\n",
        "* It makes minimal changes to existing code.\n",
        "* ***The Original Image has not been Modified at all.***\n",
        "* As we can see below, the Logo has been place in the top right corner\n",
        "* The Logo has been resized\n",
        "* The Logo is transparent\n",
        "* The Text is printed on the image\n",
        "* The Text has appropriate Size, Colour, Font etc."
      ]
    }
  ],
  "metadata": {
    "colab": {
      "name": "marketing_image_overlay.ipynb",
      "toc_visible": true
    },
    "kernelspec": {
      "display_name": "Python 3",
      "name": "python3"
    }
  },
  "nbformat": 4,
  "nbformat_minor": 0
}
