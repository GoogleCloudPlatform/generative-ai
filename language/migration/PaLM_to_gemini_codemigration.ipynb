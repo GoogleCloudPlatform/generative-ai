{
  "cells": [
    {
      "cell_type": "code",
      "execution_count": null,
      "id": "ijGzTHJJUCPY",
      "metadata": {
        "id": "ijGzTHJJUCPY"
      },
      "outputs": [],
      "source": [
        "# Copyright 2024 Google LLC\n",
        "#\n",
        "# Licensed under the Apache License, Version 2.0 (the \"License\");\n",
        "# you may not use this file except in compliance with the License.\n",
        "# You may obtain a copy of the License at\n",
        "#\n",
        "#     https://www.apache.org/licenses/LICENSE-2.0\n",
        "#\n",
        "# Unless required by applicable law or agreed to in writing, software\n",
        "# distributed under the License is distributed on an \"AS IS\" BASIS,\n",
        "# WITHOUT WARRANTIES OR CONDITIONS OF ANY KIND, either express or implied.\n",
        "# See the License for the specific language governing permissions and\n",
        "# limitations under the License."
      ]
    },
    {
      "cell_type": "markdown",
      "id": "4fRtiUgPZfJj",
      "metadata": {
        "id": "4fRtiUgPZfJj"
      },
      "source": [
        "# Code migration from PaLM to Gemini\n",
        "<table align=\"left\">\n",
        "  <td style=\"text-align: center\">\n",
        "    <a href=\"https://colab.research.google.com/github/GoogleCloudPlatform/generative-ai/blob/main/language/migration/PaLM_to_gemini_codemigration.ipynb\">\n",
        "      <img src=\"https://cloud.google.com/ml-engine/images/colab-logo-32px.png\" alt=\"Google Colaboratory logo\"><br> Run in Colab\n",
        "    </a>\n",
        "  </td>\n",
        "  <td style=\"text-align: center\">\n",
        "    <a href=\"https://console.cloud.google.com/vertex-ai/colab/import/https:%2F%2Fraw.githubusercontent.com%2FGoogleCloudPlatform%2Fgenerative-ai%2Fmain%2Flanguage%2Fmigration%2FPaLM_to_gemini_codemigration.ipynb\">\n",
        "      <img width=\"32px\" src=\"https://lh3.googleusercontent.com/JmcxdQi-qOpctIvWKgPtrzZdJJK-J3sWE1RsfjZNwshCFgE_9fULcNpuXYTilIR2hjwN\" alt=\"Google Cloud Colab Enterprise logo\"><br> Open in Colab Enterprise\n",
        "    </a>\n",
        "  </td>\n",
        "  <td style=\"text-align: center\">\n",
        "    <a href=\"https://github.com/GoogleCloudPlatform/generative-ai/blob/main/language/migration/PaLM_to_gemini_codemigration.ipynb\">\n",
        "      <img src=\"https://cloud.google.com/ml-engine/images/github-logo-32px.png\" alt=\"GitHub logo\"><br> View on GitHub\n",
        "    </a>\n",
        "  </td>\n",
        "  <td style=\"text-align: center\">\n",
        "    <a href=\"https://console.cloud.google.com/vertex-ai/workbench/deploy-notebook?download_url=https://raw.githubusercontent.com/GoogleCloudPlatform/generative-ai/main/language/migration/PaLM_to_gemini_codemigration.ipynb\">\n",
        "      <img src=\"https://lh3.googleusercontent.com/UiNooY4LUgW_oTvpsNhPpQzsstV5W8F7rYgxgGBD85cWJoLmrOzhVs_ksK_vgx40SHs7jCqkTkCk=e14-rj-sc0xffffff-h130-w32\" alt=\"Vertex AI logo\"><br> Open in Vertex AI Workbench\n",
        "    </a>\n",
        "  </td>\n",
        "</table>\n",
        "\n",
        "<div style=\"clear: both;\"></div>\n",
        "\n",
        "<b>Share to:</b>\n",
        "\n",
        "<a href=\"https://www.linkedin.com/sharing/share-offsite/?url=https%3A//github.com/GoogleCloudPlatform/generative-ai/blob/main/language/migration/palm_to_gemini_codemigration.ipynb\" target=\"_blank\">\n",
        "  <img width=\"20px\" src=\"https://upload.wikimedia.org/wikipedia/commons/8/81/LinkedIn_icon.svg\" alt=\"LinkedIn logo\">\n",
        "</a>\n",
        "\n",
        "<a href=\"https://bsky.app/intent/compose?text=https%3A//github.com/GoogleCloudPlatform/generative-ai/blob/main/language/migration/palm_to_gemini_codemigration.ipynb\" target=\"_blank\">\n",
        "  <img width=\"20px\" src=\"https://upload.wikimedia.org/wikipedia/commons/7/7a/Bluesky_Logo.svg\" alt=\"Bluesky logo\">\n",
        "</a>\n",
        "\n",
        "<a href=\"https://twitter.com/intent/tweet?url=https%3A//github.com/GoogleCloudPlatform/generative-ai/blob/main/language/migration/palm_to_gemini_codemigration.ipynb\" target=\"_blank\">\n",
        "  <img width=\"20px\" src=\"https://upload.wikimedia.org/wikipedia/commons/5/53/X_logo_2023_original.svg\" alt=\"X logo\">\n",
        "</a>\n",
        "\n",
        "<a href=\"https://reddit.com/submit?url=https%3A//github.com/GoogleCloudPlatform/generative-ai/blob/main/language/migration/palm_to_gemini_codemigration.ipynb\" target=\"_blank\">\n",
        "  <img width=\"20px\" src=\"https://redditinc.com/hubfs/Reddit%20Inc/Brand/Reddit_Logo.png\" alt=\"Reddit logo\">\n",
        "</a>\n",
        "\n",
        "<a href=\"https://www.facebook.com/sharer/sharer.php?u=https%3A//github.com/GoogleCloudPlatform/generative-ai/blob/main/language/migration/palm_to_gemini_codemigration.ipynb\" target=\"_blank\">\n",
        "  <img width=\"20px\" src=\"https://upload.wikimedia.org/wikipedia/commons/5/51/Facebook_f_logo_%282019%29.svg\" alt=\"Facebook logo\">\n",
        "</a>            \n"
      ]
    },
    {
      "cell_type": "markdown",
      "id": "YtpP_chNbjtf",
      "metadata": {
        "id": "YtpP_chNbjtf"
      },
      "source": [
        "| | |\n",
        "|-|-|\n",
        "|Author(s) | [Neelima Reddy](https://github.com/NeelRed) |"
      ]
    },
    {
      "cell_type": "markdown",
      "id": "Cq2PLBip0Ddu",
      "metadata": {
        "id": "Cq2PLBip0Ddu"
      },
      "source": [
        "## Overview\n",
        "\n",
        "\n",
        "This guide shows how to migrate the Vertex AI SDK for Python from using the PaLM API to using the Gemini API. You can generate text, multi-turn conversations (chat), and code with Gemini. After you migrate, check your responses because the Gemini output might be different from PaLM output. For more information, see the Introduction to multimodal classes in the [Vertex AI SDK]( https://cloud.google.com/vertex-ai/generative-ai/docs/model-reference/gemini).\n",
        "\n",
        "\n",
        "## Differences between PaLM and Gemini\n",
        "\n",
        "The following are some differences between Gemini and PaLM models:\n",
        "\n",
        "- Their response structures are different. To learn about the Gemini response structure, see the [Gemini API model reference response body](https://cloud.google.com/vertex-ai/generative-ai/docs/model-reference/gemini#response_body).\n",
        "\n",
        "- Their safety categories are different. To learn about differences between Gemini and PaLM safety settings, see [Key differences between Gemini and other model families](https://cloud.google.com/vertex-ai/generative-ai/docs/migrate/migrate-palm-to-gemini#:~:text=Key%20differences%20between%20Gemini%20and%20other%20model%20families).\n",
        "\n",
        "- Gemini can't perform code completion. If you need to create a code completion application, use the `code-gecko` model. For more information, see [Codey code completion model](https://cloud.google.com/vertex-ai/generative-ai/docs/code/test-code-completion-prompts).\n",
        "\n",
        "- For code generation, Gemini has a higher recitation block rate. The token generation stops if the response is flagged for unauthorised citations. For more information, see [Gemini API reference](https://cloud.google.com/vertex-ai/docs/reference/rest/v1/GenerateContentResponse#FinishReason)\n",
        "\n",
        "- The confidence score in Codey code generation models that indicates how confident the model is in its response isn't exposed in Gemini.\n"
      ]
    },
    {
      "cell_type": "markdown",
      "id": "2TeHsFhiWgev",
      "metadata": {
        "id": "2TeHsFhiWgev"
      },
      "source": [
        "## Update PaLM code to use Gemini models\n",
        "\n",
        "The methods on the `GenerativeModel` class are mostly the same as the methods on the PaLM classes. For example, use `GenerativeModel.start_chat()` to replace the PaLM equivalent, `ChatModel.start_chat()`. However, because Google Cloud is always improving and updating Gemini, you might run into some differences. For more information, see the [Python SDK Reference](https://ai.google.dev/api/python/google/generativeai).\n",
        "\n",
        "To migrate from the PaLM API to the Gemini API, the following code modifications are required:\n",
        "\n",
        "- For all PaLM model classes, you use the `GenerativeModel` class in Gemini.\n",
        "\n",
        "- To use the `GenerativeModel` class, run the following import statement:\n",
        "\n",
        "  from `vertexai.generative_models` import `GenerativeModel`\n",
        "\n",
        "\n",
        "\n",
        "- To generate text in Gemini, use the `GenerativeModel.generate_content()` method instead of the `predict()` method that's used on PaLM models.  \n"
      ]
    },
    {
      "cell_type": "markdown",
      "id": "N08EftNIWvei",
      "metadata": {
        "id": "N08EftNIWvei"
      },
      "source": [
        "## Getting Started\n",
        "\n",
        "### Install Vertex AI SDK and other required packages"
      ]
    },
    {
      "cell_type": "code",
      "execution_count": null,
      "id": "Mn48WWTSt4Jt",
      "metadata": {
        "id": "Mn48WWTSt4Jt"
      },
      "outputs": [],
      "source": [
        "%pip install --upgrade --user --quiet google-cloud-aiplatform"
      ]
    },
    {
      "cell_type": "markdown",
      "id": "xK6PLyXE3ocb",
      "metadata": {
        "id": "xK6PLyXE3ocb"
      },
      "source": [
        "### Restart runtime\n",
        "\n",
        "To use the newly installed packages in this Jupyter runtime, you must restart the runtime. You can do this by running the cell below, which restarts the current kernel.\n",
        "\n",
        "The restart might take a minute or longer. After it's restarted, continue to the next step."
      ]
    },
    {
      "cell_type": "code",
      "execution_count": null,
      "id": "z47wmKX_7oLm",
      "metadata": {
        "id": "z47wmKX_7oLm"
      },
      "outputs": [],
      "source": [
        "# Restart kernel after installs so that your environment can access the new packages\n",
        "import IPython\n",
        "\n",
        "app = IPython.Application.instance()\n",
        "app.kernel.do_shutdown(True)"
      ]
    },
    {
      "cell_type": "markdown",
      "id": "nZEcpJ1p7q6H",
      "metadata": {
        "id": "nZEcpJ1p7q6H"
      },
      "source": [
        "### Authenticate your notebook environment (Colab only)\n",
        "\n",
        "If you are running this notebook on Google Colab, run the cell below to authenticate your environment. This step is not required if you are using [Vertex AI Workbench](https://cloud.google.com/vertex-ai-workbench)."
      ]
    },
    {
      "cell_type": "code",
      "execution_count": null,
      "id": "ZrRpT8Ey7til",
      "metadata": {
        "id": "ZrRpT8Ey7til"
      },
      "outputs": [],
      "source": [
        "import sys\n",
        "\n",
        "# Additional authentication is required for Google Colab\n",
        "if \"google.colab\" in sys.modules:\n",
        "    # Authenticate user to Google Cloud\n",
        "    from google.colab import auth\n",
        "\n",
        "    auth.authenticate_user()"
      ]
    },
    {
      "cell_type": "markdown",
      "id": "kUBxY2Am7wRk",
      "metadata": {
        "id": "kUBxY2Am7wRk"
      },
      "source": [
        "### Set Google Cloud project information and initialize Vertex AI SDK\n",
        "\n",
        "To get started using Vertex AI, you must have an existing Google Cloud project and enable the Vertex AI API. Learn more about [setting up a project and a development environment](https://cloud.google.com/vertex-ai/docs/start/cloud-environment).\n",
        "\n",
        "Learn more about [setting up a project and a development environment](https://cloud.google.com/vertex-ai/docs/start/cloud-environment).\n"
      ]
    },
    {
      "cell_type": "code",
      "execution_count": null,
      "id": "M1OebQqA75fK",
      "metadata": {
        "id": "M1OebQqA75fK"
      },
      "outputs": [],
      "source": [
        "# Define project information\n",
        "\n",
        "PROJECT_ID = \"your-project-id\"  # @param {type:\"string\"}\n",
        "LOCATION = \"us-central1\"  # @param {type:\"string\"}\n",
        "\n",
        "# Initialize Vertex AI\n",
        "import vertexai\n",
        "\n",
        "vertexai.init(project=PROJECT_ID, location=LOCATION)"
      ]
    },
    {
      "cell_type": "markdown",
      "id": "y6ViL-wgBJ4Y",
      "metadata": {
        "id": "y6ViL-wgBJ4Y"
      },
      "source": [
        "## Use case : Basic Text generation\n",
        "\n",
        "The following code samples show the differences between the PaLM API and Gemini API for creating a text generation model."
      ]
    },
    {
      "cell_type": "markdown",
      "id": "f-84pT3PYqCx",
      "metadata": {
        "id": "f-84pT3PYqCx"
      },
      "source": [
        "#### Code sample using the PaLM API"
      ]
    },
    {
      "cell_type": "code",
      "execution_count": null,
      "id": "UBmKgRa69YOF",
      "metadata": {
        "id": "UBmKgRa69YOF"
      },
      "outputs": [],
      "source": [
        "from vertexai.language_models import TextGenerationModel\n",
        "\n",
        "model = TextGenerationModel.from_pretrained(\"text-bison@002\")\n",
        "\n",
        "response = model.predict(prompt=\"The opposite of hot is\")\n",
        "print(response.text)"
      ]
    },
    {
      "cell_type": "markdown",
      "id": "yMhyWZyeXotL",
      "metadata": {
        "id": "yMhyWZyeXotL"
      },
      "source": [
        "#### Code sample using the Gemini API"
      ]
    },
    {
      "cell_type": "markdown",
      "id": "4nPg7SG8X7-N",
      "metadata": {
        "id": "4nPg7SG8X7-N"
      },
      "source": [
        "To load a Gemini model, replace the PaLM model class with the GenerativeModel class\n"
      ]
    },
    {
      "cell_type": "code",
      "execution_count": null,
      "id": "RPheF3yMXGmu",
      "metadata": {
        "id": "RPheF3yMXGmu"
      },
      "outputs": [],
      "source": [
        "from vertexai.generative_models import GenerativeModel"
      ]
    },
    {
      "cell_type": "code",
      "execution_count": null,
      "id": "SKnBYA4iBYFD",
      "metadata": {
        "id": "SKnBYA4iBYFD"
      },
      "outputs": [],
      "source": [
        "model = GenerativeModel(\"gemini-1.0-pro\")"
      ]
    },
    {
      "cell_type": "markdown",
      "id": "7cEsVrmTYJp8",
      "metadata": {
        "id": "7cEsVrmTYJp8"
      },
      "source": [
        "To generate text in Gemini, use the 'generate_content' method instead of the 'predict' method that's used in PaLM models."
      ]
    },
    {
      "cell_type": "code",
      "execution_count": null,
      "id": "rOnkN5utAlVN",
      "metadata": {
        "id": "rOnkN5utAlVN"
      },
      "outputs": [],
      "source": [
        "response = model.generate_content(\"The opposite of hot is\")\n",
        "\n",
        "\n",
        "print(response.text)"
      ]
    },
    {
      "cell_type": "markdown",
      "id": "mF8va1xGDnLz",
      "metadata": {
        "id": "mF8va1xGDnLz"
      },
      "source": [
        "## Use case : Text generation with parameters\n",
        "\n",
        "The following code samples show the differences between the PaLM API and Gemini API for creating a text generation model, with optional parameters."
      ]
    },
    {
      "cell_type": "markdown",
      "id": "hXHMFtTrAn4q",
      "metadata": {
        "id": "hXHMFtTrAn4q"
      },
      "source": [
        "#### Code sample using the PaLM API"
      ]
    },
    {
      "cell_type": "code",
      "execution_count": null,
      "id": "naYr5KIwA1Tm",
      "metadata": {
        "id": "naYr5KIwA1Tm"
      },
      "outputs": [],
      "source": [
        "from vertexai.language_models import TextGenerationModel\n",
        "\n",
        "model = TextGenerationModel.from_pretrained(\"text-bison@002\")\n",
        "\n",
        "prompt = \"\"\"\n",
        "You are an expert at solving word problems.\n",
        "\n",
        "Solve the following problem:\n",
        "\n",
        "I have three houses, each with three cats.\n",
        "each cat owns 4 mittens, and a hat. Each mitten was\n",
        "knit from 7m of yarn, each hat from 4m.\n",
        "How much yarn was needed to make all the items?\n",
        "\n",
        "Think about it step by step, and show your work.\n",
        "\"\"\"\n",
        "\n",
        "response = model.predict(\n",
        "    prompt=prompt, temperature=0.1, max_output_tokens=800, top_p=1.0, top_k=40\n",
        ")\n",
        "\n",
        "print(response.text)"
      ]
    },
    {
      "cell_type": "markdown",
      "id": "pZTywU9W_V0P",
      "metadata": {
        "id": "pZTywU9W_V0P"
      },
      "source": [
        "#### Code sample using the Gemini API"
      ]
    },
    {
      "cell_type": "code",
      "execution_count": null,
      "id": "GhHPGuJN_s4N",
      "metadata": {
        "id": "GhHPGuJN_s4N"
      },
      "outputs": [],
      "source": [
        "from vertexai.generative_models import GenerationConfig, GenerativeModel"
      ]
    },
    {
      "cell_type": "code",
      "execution_count": null,
      "id": "3kB7vLz5_w8J",
      "metadata": {
        "id": "3kB7vLz5_w8J"
      },
      "outputs": [],
      "source": [
        "model = GenerativeModel(\"gemini-1.0-pro\")"
      ]
    },
    {
      "cell_type": "markdown",
      "id": "_P_nwwC4_0rV",
      "metadata": {
        "id": "_P_nwwC4_0rV"
      },
      "source": [
        "To generate text in Gemini, use the generate_content method instead of the predict method that's used on PaLM models."
      ]
    },
    {
      "cell_type": "code",
      "execution_count": null,
      "id": "v0JJBiymDo19",
      "metadata": {
        "id": "v0JJBiymDo19"
      },
      "outputs": [],
      "source": [
        "prompt = \"\"\"\n",
        "You are an expert at solving word problems.\n",
        "\n",
        "Solve the following problem:\n",
        "\n",
        "I have three houses, each with three cats.\n",
        "each cat owns 4 mittens, and a hat. Each mitten was\n",
        "knit from 7m of yarn, each hat from 4m.\n",
        "How much yarn was needed to make all the items?\n",
        "\n",
        "Think about it step by step, and show your work.\n",
        "\"\"\"\n",
        "\n",
        "generation_config = GenerationConfig(\n",
        "    temperature=0.1,\n",
        "    max_output_tokens=800,\n",
        "    top_p=1.0,\n",
        "    top_k=40,\n",
        ")\n",
        "\n",
        "gemini_response = model.generate_content(\n",
        "    prompt,\n",
        "    generation_config=generation_config,\n",
        ")\n",
        "\n",
        "print(gemini_response.text)"
      ]
    },
    {
      "cell_type": "markdown",
      "id": "zq13JmRkEmYb",
      "metadata": {
        "id": "zq13JmRkEmYb"
      },
      "source": [
        "## Use case : Chat\n",
        "\n",
        "The following code samples show the differences between the PaLM API and Gemini API for creating a chat model."
      ]
    },
    {
      "cell_type": "markdown",
      "id": "Jysr2zCXD7av",
      "metadata": {
        "id": "Jysr2zCXD7av"
      },
      "source": [
        "#### Code sample using the PaLM API"
      ]
    },
    {
      "cell_type": "code",
      "execution_count": null,
      "id": "ksLUPHzqD-Tr",
      "metadata": {
        "id": "ksLUPHzqD-Tr"
      },
      "outputs": [],
      "source": [
        "from vertexai.language_models import ChatModel\n",
        "\n",
        "model = ChatModel.from_pretrained(\"chat-bison@002\")\n",
        "\n",
        "chat = model.start_chat()\n",
        "\n",
        "response = chat.send_message(\n",
        "    \"\"\"\n",
        "Hello! Can you write a 300 word abstract in paragraph format for a research paper I need to write about the impact of AI on society?\n",
        "\"\"\"\n",
        ")\n",
        "print(response.text)\n",
        "\n",
        "response = chat.send_message(\n",
        "    \"\"\"\n",
        "Could you give me a catchy title for the paper?\n",
        "\"\"\"\n",
        ")\n",
        "print(response.text)"
      ]
    },
    {
      "cell_type": "markdown",
      "id": "hbZowHeoBYzA",
      "metadata": {
        "id": "hbZowHeoBYzA"
      },
      "source": [
        "#### Code sample using the Gemini API"
      ]
    },
    {
      "cell_type": "code",
      "execution_count": null,
      "id": "zux3IYXmEqA_",
      "metadata": {
        "id": "zux3IYXmEqA_"
      },
      "outputs": [],
      "source": [
        "from vertexai.generative_models import GenerativeModel\n",
        "\n",
        "model = GenerativeModel(\"gemini-1.0-pro\")\n",
        "\n",
        "chat = model.start_chat()\n",
        "\n",
        "\n",
        "response = chat.send_message(\n",
        "    \"\"\"\n",
        "Hello! Can you write a 300 word abstract for a research paper I need to write about the impact of AI on society?\n",
        "\"\"\"\n",
        ")\n",
        "\n",
        "\n",
        "print(response.text)\n",
        "\n",
        "\n",
        "response = chat.send_message(\n",
        "    \"\"\"\n",
        "Could you give me a catchy title for the paper?\n",
        "\"\"\"\n",
        ")\n",
        "\n",
        "\n",
        "print(response.text)"
      ]
    },
    {
      "cell_type": "markdown",
      "id": "f6qeCb6qFueK",
      "metadata": {
        "id": "f6qeCb6qFueK"
      },
      "source": [
        "## Use case : Code generation\n",
        "\n",
        "The following code samples show the differences between the PaLM API and Gemini API for generating a function that predicts if a year is a leap year."
      ]
    },
    {
      "cell_type": "markdown",
      "id": "RzpHqi4SF-ZG",
      "metadata": {
        "id": "RzpHqi4SF-ZG"
      },
      "source": [
        "#### Code sample using the PaLM API"
      ]
    },
    {
      "cell_type": "code",
      "execution_count": null,
      "id": "x3vUJdhKGC-0",
      "metadata": {
        "id": "x3vUJdhKGC-0"
      },
      "outputs": [],
      "source": [
        "from vertexai.language_models import CodeGenerationModel\n",
        "\n",
        "model = CodeGenerationModel.from_pretrained(\"code-bison@002\")\n",
        "\n",
        "response = model.predict(\n",
        "    prefix=\"Write a function that checks if a year is a leap year.\"\n",
        ")\n",
        "\n",
        "print(response.text)"
      ]
    },
    {
      "cell_type": "markdown",
      "id": "kbeza_iHFvpW",
      "metadata": {
        "id": "kbeza_iHFvpW"
      },
      "source": [
        "#### Code sample using the Gemini API"
      ]
    },
    {
      "cell_type": "code",
      "execution_count": null,
      "id": "cpgoxO0dFyQc",
      "metadata": {
        "id": "cpgoxO0dFyQc"
      },
      "outputs": [],
      "source": [
        "from vertexai.generative_models import GenerativeModel\n",
        "\n",
        "model = GenerativeModel(\"gemini-1.0-pro-002\")\n",
        "\n",
        "response = model.generate_content(\n",
        "    \"Write a function that checks if a year is a leap year.\"\n",
        ")\n",
        "\n",
        "print(response.text)"
      ]
    }
  ],
  "metadata": {
    "colab": {
      "name": "PaLM_to_gemini_codemigration.ipynb",
      "toc_visible": true
    },
    "kernelspec": {
      "display_name": "Python 3",
      "name": "python3"
    }
  },
  "nbformat": 4,
  "nbformat_minor": 0
}
