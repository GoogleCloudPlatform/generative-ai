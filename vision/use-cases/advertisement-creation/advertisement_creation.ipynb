{
  "cells": [
    {
      "cell_type": "code",
      "execution_count": null,
      "metadata": {
        "id": "Nj63qDBxJpcd"
      },
      "outputs": [],
      "source": [
        "# Copyright 2024 Google LLC\n",
        "#\n",
        "# Licensed under the Apache License, Version 2.0 (the \"License\");\n",
        "# you may not use this file except in compliance with the License.\n",
        "# You may obtain a copy of the License at\n",
        "#\n",
        "#     https://www.apache.org/licenses/LICENSE-2.0\n",
        "#\n",
        "# Unless required by applicable law or agreed to in writing, software\n",
        "# distributed under the License is distributed on an \"AS IS\" BASIS,\n",
        "# WITHOUT WARRANTIES OR CONDITIONS OF ANY KIND, either express or implied.\n",
        "# See the License for the specific language governing permissions and\n",
        "# limitations under the License."
      ]
    },
    {
      "cell_type": "markdown",
      "metadata": {
        "id": "Zg0-U6COJFUE"
      },
      "source": [
        "<table align=\"left\">\n",
        "  <td style=\"text-align: center\">\n",
        "    <a href=\"https://colab.research.google.com/github/GoogleCloudPlatform/generative-ai/blob/main/vision/use-cases/advertisement-creation/advertisement_creation.ipynb\">\n",
        "      <img width=\"32px\" src=\"https://www.gstatic.com/pantheon/images/bigquery/welcome_page/colab-logo.svg\" alt=\"Google Colaboratory logo\"><br> Run in Colab\n",
        "    </a>\n",
        "  </td>\n",
        "  <td style=\"text-align: center\">\n",
        "    <a href=\"https://colab.research.google.com/github/GoogleCloudPlatform/generative-ai/blob/main/vision/use-cases/advertisement-creation/advertisement_creation.ipynb\">\n",
        "      <img width=\"32px\" src=\"https://lh3.googleusercontent.com/JmcxdQi-qOpctIvWKgPtrzZdJJK-J3sWE1RsfjZNwshCFgE_9fULcNpuXYTilIR2hjwN\" alt=\"Google Cloud Colab Enterprise logo\"><br> Run in Colab Enterprise\n",
        "    </a>\n",
        "  </td>\n",
        "  <td style=\"text-align: center\">\n",
        "    <a href=\"https://console.cloud.google.com/vertex-ai/workbench/deploy-notebook?download_url=https://raw.githubusercontent.com/GoogleCloudPlatform/generative-ai/main/vision/use-cases/advertisement-creation/advertisement_creation.ipynb\">\n",
        "      <img src=\"https://www.gstatic.com/images/branding/gcpiconscolors/vertexai/v1/32px.svg\" alt=\"Vertex AI logo\"><br> Open in Vertex AI Workbench\n",
        "    </a>\n",
        "  </td>\n",
        "  <td style=\"text-align: center\">\n",
        "    <a href=\"https://colab.research.google.com/github/GoogleCloudPlatform/generative-ai/blob/main/vision/use-cases/advertisement-creation/advertisement_creation.ipynb\">\n",
        "      <img width=\"32px\" src=\"https://upload.wikimedia.org/wikipedia/commons/9/91/Octicons-mark-github.svg\" alt=\"GitHub logo\"><br> View on GitHub\n",
        "    </a>\n",
        "  </td>\n",
        "</table>\n",
        "\n",
        "<div style=\"clear: both;\"></div>\n",
        "\n",
        "<b>Share to:</b>\n",
        "\n",
        "<a href=\"https://www.linkedin.com/sharing/share-offsite/?url=https%3A//github.com/GoogleCloudPlatform/generative-ai/blob/main/vision/use-cases/advertisement-creation/advertisement_creation.ipynb\" target=\"_blank\">\n",
        "  <img width=\"20px\" src=\"https://upload.wikimedia.org/wikipedia/commons/8/81/LinkedIn_icon.svg\" alt=\"LinkedIn logo\">\n",
        "</a>\n",
        "\n",
        "<a href=\"https://bsky.app/intent/compose?text=https%3A//github.com/GoogleCloudPlatform/generative-ai/blob/main/vision/use-cases/advertisement-creation/advertisement_creation.ipynb\" target=\"_blank\">\n",
        "  <img width=\"20px\" src=\"https://upload.wikimedia.org/wikipedia/commons/7/7a/Bluesky_Logo.svg\" alt=\"Bluesky logo\">\n",
        "</a>\n",
        "\n",
        "<a href=\"https://twitter.com/intent/tweet?url=https%3A//github.com/GoogleCloudPlatform/generative-ai/blob/main/vision/use-cases/advertisement-creation/advertisement_creation.ipynb\" target=\"_blank\">\n",
        "  <img width=\"20px\" src=\"https://upload.wikimedia.org/wikipedia/commons/5/53/X_logo_2023_original.svg\" alt=\"X logo\">\n",
        "</a>\n",
        "\n",
        "<a href=\"https://reddit.com/submit?url=https%3A//github.com/GoogleCloudPlatform/generative-ai/blob/main/vision/use-cases/advertisement-creation/advertisement_creation.ipynb\" target=\"_blank\">\n",
        "  <img width=\"20px\" src=\"https://redditinc.com/hubfs/Reddit%20Inc/Brand/Reddit_Logo.png\" alt=\"Reddit logo\">\n",
        "</a>\n",
        "\n",
        "<a href=\"https://www.facebook.com/sharer/sharer.php?u=https%3A//github.com/GoogleCloudPlatform/generative-ai/blob/main/vision/use-cases/advertisement-creation/advertisement_creation.ipynb\" target=\"_blank\">\n",
        "  <img width=\"20px\" src=\"https://upload.wikimedia.org/wikipedia/commons/5/51/Facebook_f_logo_%282019%29.svg\" alt=\"Facebook logo\">\n",
        "</a>            "
      ]
    },
    {
      "cell_type": "markdown",
      "metadata": {
        "id": "hHMr77xnhO-c"
      },
      "source": [
        "</t> |Author(s) | [Ankul Jain](https://github.com/ankuljain09) , [Koyel Guha](https://github.com/koyelguha)\n",
        "\n",
        "\n",
        "---\n"
      ]
    },
    {
      "cell_type": "markdown",
      "metadata": {
        "id": "gOf8hNI3k3bj"
      },
      "source": [
        "# Generating Advertising Images using Gemini and  Imagen 3\n",
        "\n",
        "\n",
        "# Overview\n",
        "To create advertising materials in the marketing department of any company is a time consuming process. Additionally, it is a time consuming process to respond to the individual customization of materials from the sales department, as it requires output within a short period of time (creating images with ad texts and text placement in mind).\n",
        "This notebook effectively combines the strengths of Imagen 3 for image generation and Gemini for text creation, with Python acting as the bridge to integrate and finalize the advertisement.\n",
        "\n",
        "1.   **Image Generation with Imagen 3**: A detailed prompt is used to generate multiple image options using Imagen 3. The best image is selected.\n",
        "2.   **Ad Text Creation with Gemini**: A prompt is used to generate multiple ad copy options using Gemini. The best ad copy is selected.\n",
        "3.   **Image and Text Integration using Python**: The chosen image and ad copy are combined using Python code, The position and style of the text are customized.\n",
        "4.   **Finalizing and Saving**:  Review the final image and download.\n",
        "\n",
        "![Architecture](https://storage.googleapis.com/github-repo/generative-ai/vision/advertisement-creation/architecture.png)"
      ]
    },
    {
      "cell_type": "markdown",
      "metadata": {
        "id": "wrGLs1MgKe55"
      },
      "source": [
        "# Get Started"
      ]
    },
    {
      "cell_type": "markdown",
      "metadata": {
        "id": "ZqXGC9E2Byn9"
      },
      "source": [
        "## Install Vertex AI SDK and other required packages"
      ]
    },
    {
      "cell_type": "code",
      "execution_count": null,
      "metadata": {
        "id": "0B4VoWMEG8rT"
      },
      "outputs": [],
      "source": [
        "%pip install --upgrade --user -q google-cloud-aiplatform Pillow gradio"
      ]
    },
    {
      "cell_type": "markdown",
      "metadata": {
        "id": "gsxxTr18LF4g"
      },
      "source": [
        "## Restart runtime\n",
        "To use the newly installed packages in this Jupyter runtime, you must restart the runtime. You can do this by running the cell below, which restarts the current kernel.\n",
        "\n",
        "The restart might take a minute or longer. After it's restarted, continue to the next step."
      ]
    },
    {
      "cell_type": "code",
      "execution_count": null,
      "metadata": {
        "id": "_mVzPOuqNQZo"
      },
      "outputs": [],
      "source": [
        "import IPython\n",
        "\n",
        "app = IPython.Application.instance()\n",
        "app.kernel.do_shutdown(True)"
      ]
    },
    {
      "cell_type": "markdown",
      "metadata": {
        "id": "GTdx_NRxkD5M"
      },
      "source": [
        "<div class=\"alert alert-block alert-warning\">\n",
        "<b>⚠️ The kernel is going to restart. Please wait until it is finished before continuing to the next step. ⚠️</b>\n",
        "</div>"
      ]
    },
    {
      "cell_type": "markdown",
      "metadata": {
        "id": "YOZqnfZPLigW"
      },
      "source": [
        "## Authenticate your notebook environment (Colab only)\n",
        "If you're running this notebook on Google Colab, run the cell below to authenticate your environment."
      ]
    },
    {
      "cell_type": "code",
      "execution_count": null,
      "metadata": {
        "id": "jHpBt0iSNPSw"
      },
      "outputs": [],
      "source": [
        "import sys\n",
        "\n",
        "# Additional authentication is required for Google Colab\n",
        "if \"google.colab\" in sys.modules:\n",
        "    # Authenticate user to Google Cloud\n",
        "    from google.colab import auth\n",
        "\n",
        "    auth.authenticate_user()"
      ]
    },
    {
      "cell_type": "markdown",
      "metadata": {
        "id": "Y6Z7zrI4B_zZ"
      },
      "source": [
        "## Set Google Cloud project information and initialize Vertex AI SDK\n",
        "To get started using Vertex AI, you must have an existing Google Cloud project and [enable the Vertex AI API](https://console.cloud.google.com/flows/enableapi?apiid=aiplatform.googleapis.com). <br>\n",
        "\n",
        "Learn more about [setting up a project and a development environment](https://cloud.google.com/vertex-ai/docs/start/cloud-environment)."
      ]
    },
    {
      "cell_type": "code",
      "execution_count": null,
      "metadata": {
        "id": "tiK8y9MQM4iG"
      },
      "outputs": [],
      "source": [
        "# Use the environment variable if the user doesn't provide Project ID.\n",
        "import os\n",
        "\n",
        "import vertexai\n",
        "\n",
        "PROJECT_ID = \"your-project-id\"  # @param {type: \"string\", placeholder: \"[your-project-id]\", isTemplate: true}\n",
        "if not PROJECT_ID or PROJECT_ID == \"[your-project-id]\":\n",
        "    PROJECT_ID = str(os.environ.get(\"GOOGLE_CLOUD_PROJECT\"))\n",
        "\n",
        "LOCATION = os.environ.get(\"GOOGLE_CLOUD_REGION\", \"us-central1\")\n",
        "\n",
        "vertexai.init(project=PROJECT_ID, location=LOCATION)"
      ]
    },
    {
      "cell_type": "markdown",
      "metadata": {
        "id": "TrdL4odjKp_p"
      },
      "source": [
        "## Import Required Libraries"
      ]
    },
    {
      "cell_type": "code",
      "execution_count": null,
      "metadata": {
        "id": "NbY68POkV-Xo"
      },
      "outputs": [],
      "source": [
        "from enum import Enum\n",
        "import random\n",
        "import time\n",
        "\n",
        "from IPython.display import display\n",
        "from PIL import Image, ImageDraw, ImageFont\n",
        "import gradio as gr"
      ]
    },
    {
      "cell_type": "markdown",
      "metadata": {
        "id": "Kly42fQ_L-rx"
      },
      "source": [
        "## Load Model"
      ]
    },
    {
      "cell_type": "code",
      "execution_count": null,
      "metadata": {
        "id": "nAYZGRHgK5pk"
      },
      "outputs": [],
      "source": [
        "from vertexai.preview.vision_models import ImageGenerationModel\n",
        "\n",
        "imagen_model = ImageGenerationModel.from_pretrained(\"imagen-3.0-generate-001\")\n",
        "\n",
        "from vertexai.preview.generative_models import GenerativeModel\n",
        "\n",
        "gemini_flash_model = GenerativeModel(\"gemini-1.5-flash-002\")"
      ]
    },
    {
      "cell_type": "markdown",
      "metadata": {
        "id": "XJXc1L8gCHDi"
      },
      "source": [
        "## Generate Images using Imagen 3\n",
        "The images are generated using google vertexai SDK that works on ImageGenerationModel module.\n",
        "\n",
        "\n",
        "*   The Imagen 3 model requires a prompt to generate the image\n",
        "*   A negative prompt can be provided additionally, if required\n",
        "*   Aspect Ratio - 16:9\n",
        "*   Seed - Same value for consistent responses\n",
        "\n",
        "\n",
        "For more details refer to the Imagen 3 documentation [here](https://cloud.google.com/vertex-ai/generative-ai/docs/image/generate-images#text-image-gen)"
      ]
    },
    {
      "cell_type": "code",
      "execution_count": null,
      "metadata": {
        "id": "qRR39dxqWdSA"
      },
      "outputs": [],
      "source": [
        "# Generate image using Imagen 3\n",
        "\n",
        "\n",
        "def imagen_generate_sdk(\n",
        "    model_name: str,\n",
        "    prompt: str,\n",
        "    negativePrompt: str,\n",
        "    sampleCount: int,\n",
        "    seed: int | None = None,\n",
        "    disablePersonFace: bool | None = False,\n",
        "    sampleImageStyle: str | None = None,\n",
        ") -> list[Image.Image]:\n",
        "    response = model_name.generate_images(\n",
        "        prompt=prompt,\n",
        "        number_of_images=sampleCount,\n",
        "        negative_prompt=negativePrompt,\n",
        "        aspect_ratio=\"16:9\",\n",
        "        seed=seed,\n",
        "        add_watermark=False,\n",
        "    )\n",
        "\n",
        "    pillow_images = []\n",
        "    for image in response.images:\n",
        "        pillow_images.append(image._pil_image)\n",
        "    return pillow_images\n",
        "\n",
        "\n",
        "# Display Images as an array of images in PIL image format\n",
        "def display_images(pil_images: list[Image.Image]):\n",
        "    scale = 1\n",
        "    sampleImageSize = 100\n",
        "    width = int(float(sampleImageSize) * scale)\n",
        "    height = int(float(sampleImageSize) * scale)\n",
        "    for index, result in enumerate(pil_images):\n",
        "        width, height = pil_images[index].size\n",
        "        print(index)\n",
        "        display.display(\n",
        "            pil_images[index].resize(\n",
        "                (\n",
        "                    int(pil_images[index].size[0] * scale),\n",
        "                    int(pil_images[index].size[1] * scale),\n",
        "                ),\n",
        "                0,\n",
        "            )\n",
        "        )\n",
        "        print()"
      ]
    },
    {
      "cell_type": "markdown",
      "metadata": {
        "id": "78DhEIvffF06"
      },
      "source": [
        "## Generate advertisement text using Gemini"
      ]
    },
    {
      "cell_type": "code",
      "execution_count": null,
      "metadata": {
        "id": "2xynof6TfFbl"
      },
      "outputs": [],
      "source": [
        "# Generate ad text using Gemini 1.5 Flash\n",
        "\n",
        "\n",
        "def generate_ad_text(text_prompt: str) -> str:\n",
        "    responses = gemini_flash_model.generate_content(text_prompt)\n",
        "\n",
        "    return responses.text\n",
        "\n",
        "\n",
        "text_prompt = \"\"\"Create a catchy advertisement tagline featuring the comparative strengths of Cymbal\\'s internet service that sets them apart from the competition. Keep the tagline within 50 characters.\n",
        "\"\"\"\n",
        "\n",
        "generated_text = generate_ad_text(text_prompt).replace(\"\\n\", \"\")\n",
        "print(generated_text)"
      ]
    },
    {
      "cell_type": "markdown",
      "metadata": {
        "id": "v-p4kbGFCMEy"
      },
      "source": [
        "## Add text overlay on the generated images\n",
        "Before running the below code, download a font file (eg. [Roboto](https://fonts.google.com/selection?selection.family=Roboto:wght@700)) and provide the font `.ttf` file path in the below variable `downloaded_font_path`"
      ]
    },
    {
      "cell_type": "code",
      "execution_count": null,
      "metadata": {
        "id": "t1MT1gbYex--"
      },
      "outputs": [],
      "source": [
        "downloaded_font_path = \"./Roboto-Bold.ttf\"  # @param {type: \"string\", placeholder: \"./Roboto-Bold.ttf\", isTemplate: true}"
      ]
    },
    {
      "cell_type": "code",
      "execution_count": null,
      "metadata": {
        "id": "WL14A7ZEXvN4"
      },
      "outputs": [],
      "source": [
        "# Superimpose the AI generated text on AI generated image\n",
        "\n",
        "\n",
        "def superimpose_text_on_image(\n",
        "    base_image: Image.Image,\n",
        "    text_sections: list[str],\n",
        "    position: str,\n",
        "    font_size: int = 100,\n",
        "    text_color: tuple[int, int, int] = (255, 255, 255),\n",
        "    font_path: str = downloaded_font_path,\n",
        ") -> Image.Image:\n",
        "    # Create a draw object\n",
        "    draw = ImageDraw.Draw(base_image)\n",
        "\n",
        "    font = ImageFont.truetype(font_path, font_size)\n",
        "\n",
        "    # Starting position based on the specified position\n",
        "    if position == \"TOP_LEFT\":\n",
        "        x = 0\n",
        "        y = 0\n",
        "    elif position == \"TOP_CENTER\":\n",
        "        x = base_image.width // 2\n",
        "        y = 0\n",
        "    elif position == \"TOP_RIGHT\":\n",
        "        x = base_image.width\n",
        "        y = 0\n",
        "    elif position == \"CENTER\":\n",
        "        x = base_image.width // 2\n",
        "        y = (base_image.height // 2) - (\n",
        "            font_size * len(text_sections) // 2\n",
        "        )  # Center vertically\n",
        "    elif position == \"BOTTOM_LEFT\":\n",
        "        x = 0\n",
        "        y = base_image.height - font_size * len(text_sections)\n",
        "    elif position == \"BOTTOM_CENTER\":\n",
        "        x = base_image.width // 2\n",
        "        y = base_image.height - font_size * len(text_sections)\n",
        "    elif position == \"BOTTOM_RIGHT\":\n",
        "        x = base_image.width\n",
        "        y = base_image.height - font_size * len(text_sections)\n",
        "    elif position == \"MIDDLE_LEFT\":\n",
        "        x = 0\n",
        "        y = (base_image.height // 2) - (\n",
        "            font_size * len(text_sections) // 2\n",
        "        )  # Center vertically\n",
        "    elif position == \"MIDDLE_CENTER\":\n",
        "        x = base_image.width // 2\n",
        "        y = (base_image.height // 2) - (\n",
        "            font_size * len(text_sections) // 2\n",
        "        )  # Center vertically\n",
        "    elif position == \"MIDDLE_RIGHT\":\n",
        "        x = base_image.width\n",
        "        y = (base_image.height // 2) - (\n",
        "            font_size * len(text_sections) // 2\n",
        "        )  # Center vertically\n",
        "\n",
        "    # Draw each section of the text\n",
        "    for i, text in enumerate(text_sections):\n",
        "        # Adjust x for center positioning\n",
        "        if position in [\"TOP_CENTER\", \"CENTER\", \"BOTTOM_CENTER\", \"MIDDLE_CENTER\"]:\n",
        "            text_width = draw.textlength(text, font=font)\n",
        "            x = (base_image.width - text_width) // 2  # Center the text horizontally\n",
        "        elif position in [\"MIDDLE_LEFT\", \"MIDDLE_RIGHT\"]:\n",
        "            text_width = draw.textlength(text, font=font)\n",
        "            if position == \"MIDDLE_RIGHT\":\n",
        "                x = base_image.width - text_width  # Right align text\n",
        "\n",
        "        draw.text((x, y), text.strip(), fill=text_color, font=font)\n",
        "        y += font_size  # Move y position down for the next line of text\n",
        "\n",
        "    return base_image\n",
        "\n",
        "\n",
        "# Function to resize image to 16:9 aspect ratio\n",
        "\n",
        "\n",
        "def resize_to_aspect_ratio(image: Image.Image) -> Image.Image:\n",
        "    width, height = image.size\n",
        "    new_height = int(width * (9 / 16))\n",
        "    if new_height > height:\n",
        "        new_width = int(height * (16 / 9))\n",
        "        new_height = height\n",
        "    else:\n",
        "        new_width = width\n",
        "\n",
        "    return image.resize((new_width, new_height), Image.BICUBIC)"
      ]
    },
    {
      "cell_type": "markdown",
      "metadata": {
        "id": "KrRMvy8QCwXd"
      },
      "source": [
        "## Styling the Advertisement Image\n",
        "\n",
        "\n",
        "\n",
        "*   Specify where do you want to superimpose the text on the image.\n",
        "*   Provide font file to be used\n",
        "*   Provide logo to be inserted on the image\n"
      ]
    },
    {
      "cell_type": "code",
      "execution_count": null,
      "metadata": {
        "id": "bOD1X5v0uwyz"
      },
      "outputs": [],
      "source": [
        "class Position(Enum):\n",
        "    TOP_RIGHT = \"TOP_RIGHT\"\n",
        "    TOP_CENTER = \"TOP_CENTER\"\n",
        "    TOP_LEFT = \"TOP_LEFT\"\n",
        "    MIDDLE_RIGHT = \"MIDDLE_RIGHT\"\n",
        "    CENTER = \"CENTER\"\n",
        "    MIDDLE_CENTER = \"MIDDLE_CENTER\"\n",
        "    MIDDLE_LEFT = \"MIDDLE_LEFT\"\n",
        "    BOTTOM_RIGHT = \"BOTTOM_RIGHT\"\n",
        "    BOTTOM_CENTER = \"BOTTOM_CENTER\"\n",
        "    BOTTOM_LEFT = \"BOTTOM_LEFT\""
      ]
    },
    {
      "cell_type": "code",
      "execution_count": null,
      "metadata": {
        "id": "QN6aWwJdX3xY"
      },
      "outputs": [],
      "source": [
        "# Function to create advertisement\n",
        "\n",
        "\n",
        "def call_ad_maker(\n",
        "    prompt: str, negative_prompt: str, sample_resultcount: int = 4, seed: int = 101\n",
        ") -> list[Image.Image]:\n",
        "\n",
        "    IMAGE_MODEL_NAME = imagen_model\n",
        "    sampleCount = int(sample_resultcount)\n",
        "    negativePrompt = (\n",
        "        \"any other branded images, laptops, mobiles, animals, food, large objects\"\n",
        "    )\n",
        "\n",
        "    # Advanced option, try different seed numbers which can be a random integer number under range: (0, 2147483647)\n",
        "    sampleImageStyle = None\n",
        "\n",
        "    images = imagen_generate_sdk(\n",
        "        IMAGE_MODEL_NAME,\n",
        "        prompt,\n",
        "        negativePrompt,\n",
        "        sampleCount,\n",
        "        seed,\n",
        "        False,\n",
        "        sampleImageStyle,\n",
        "    )\n",
        "\n",
        "    # Get the current timestamp and a random number\n",
        "    current_timestamp = int(time.time())\n",
        "    random_number = random.randint(1000, 9999)\n",
        "    unique_number = int(str(current_timestamp) + str(random_number))\n",
        "    # Concatenate timestamp and random number to create a unique number\n",
        "    directory_path = \"results/\" + str(unique_number)\n",
        "    if not os.path.exists(directory_path):\n",
        "        # Create the directory\n",
        "        os.makedirs(directory_path)\n",
        "\n",
        "    results = []\n",
        "    for bg_image in images:\n",
        "        img_resized = resize_to_aspect_ratio(bg_image)\n",
        "        results.append(img_resized)\n",
        "    return results"
      ]
    },
    {
      "cell_type": "markdown",
      "metadata": {
        "id": "WUgy4c8kOceO"
      },
      "source": [
        "## Sample Run with Superimposing Gemini Generated advertisement text on Imagen 3 generated images"
      ]
    },
    {
      "cell_type": "code",
      "execution_count": null,
      "metadata": {
        "id": "7rnvLh73lVWg"
      },
      "outputs": [],
      "source": [
        "sample_resultcount = 1\n",
        "results = call_ad_maker(\n",
        "    \"An English woman on the right side of the image, smiling broadly, pointing towards left . The background of the lady is orange color scheme with faded red bubbles. The majority of the background on left side is empty. Style: Modern, advertising, minimalist.\",\n",
        "    \"brands\",\n",
        "    sample_resultcount,\n",
        "    100,\n",
        ")\n",
        "\n",
        "for res in results:\n",
        "    img_with_text = superimpose_text_on_image(\n",
        "        res, [generated_text], Position.CENTER.value, 80\n",
        "    )\n",
        "    display(img_with_text)"
      ]
    },
    {
      "cell_type": "markdown",
      "metadata": {
        "id": "P9mqGZa_CfSC"
      },
      "source": [
        "## Gradio UI for generating advertisement images with few clicks"
      ]
    },
    {
      "cell_type": "code",
      "execution_count": null,
      "metadata": {
        "id": "8W5U5YVuG_nI"
      },
      "outputs": [],
      "source": [
        "current_text = generated_text  # Variable to store the current text\n",
        "# Initialize a variable to keep track of original images\n",
        "original_images = []\n",
        "\n",
        "\n",
        "# List of sample prompts and placeholder images\n",
        "sample_data = [\n",
        "    {\n",
        "        \"prompt\": \"An English woman on the right side of the image, smiling broadly, pointing towards left . The background of the lady is orange color scheme with faded bubbles. The majority of the background on left side is empty. Style: Modern, advertising, minimalist.\",\n",
        "        \"image\": \"![Ad Image 1](https://storage.googleapis.com/github-repo/generative-ai/vision/advertisement-creation/sample_gemini_imagen_adImage_1.png)\",  # Placeholder paths for your reference images\n",
        "    },\n",
        "    {\n",
        "        \"prompt\": \"A  handsome Japanese Man on the right side of the image, smiling gently, pointing towards left . The background of the man is blue color scheme with faded geometric  patterns. The majority of the background on left side is empty. Style: Modern, advertising, minimalist.\",\n",
        "        \"image\": \"![Ad Image 2](https://storage.googleapis.com/github-repo/generative-ai/vision/advertisement-creation/sample_gemini_imagen_adImage_2.png)\",\n",
        "    },\n",
        "]\n",
        "\n",
        "\n",
        "# Gradio interface components\n",
        "image_choices = [data[\"image\"] for data in sample_data]\n",
        "prompts = [data[\"prompt\"] for data in sample_data]\n",
        "\n",
        "# Gradio interface setup\n",
        "with gr.Blocks() as demo:\n",
        "\n",
        "    with gr.Row():\n",
        "        with gr.Column(min_width=100):\n",
        "            selected_image = gr.Dropdown(\n",
        "                choices=image_choices, label=\"Select a Reference Image\"\n",
        "            )\n",
        "            selected_prompt = gr.Textbox(label=\"Prompt\", interactive=False)\n",
        "\n",
        "            ref_image_display = gr.Markdown(label=\"Reference Image\")\n",
        "\n",
        "            # Update reference image and prompt when an image is selected\n",
        "\n",
        "            def update_ref_image_and_prompt(image_name):\n",
        "                return image_name\n",
        "\n",
        "            selected_image.change(\n",
        "                fn=update_ref_image_and_prompt,\n",
        "                inputs=selected_image,\n",
        "                outputs=ref_image_display,\n",
        "            )\n",
        "\n",
        "            # Load initial prompt when an image is selected\n",
        "            def update_prompt(image_name):\n",
        "                idx = image_choices.index(image_name)\n",
        "                return prompts[idx]\n",
        "\n",
        "            selected_image.change(\n",
        "                fn=update_prompt, inputs=selected_image, outputs=selected_prompt\n",
        "            )\n",
        "\n",
        "            with gr.Row():\n",
        "                with gr.Column(min_width=100):\n",
        "                    background_context = gr.Textbox(\n",
        "                        label=\"Enter your prompt for image background\"\n",
        "                    )\n",
        "                    negative_prompt = gr.Textbox(\n",
        "                        label=\"Anything you want to avoid seeing in the image? eg: forest, plants, car\"\n",
        "                    )\n",
        "\n",
        "                    sample_resultcount = gr.Textbox(\n",
        "                        label=\"How many images you want to see? 1-4\"\n",
        "                    )\n",
        "                    seed_value = gr.Slider(\n",
        "                        minimum=10, maximum=200, label=\"Enter Seed\", randomize=True\n",
        "                    )\n",
        "\n",
        "            with gr.Row():\n",
        "                with gr.Row():\n",
        "                    with gr.Column(min_width=50):\n",
        "                        generate_btn = gr.Button(\"Generate\")\n",
        "                    with gr.Column(min_width=50):\n",
        "                        clear = gr.ClearButton()\n",
        "    with gr.Row():\n",
        "        with gr.Column():\n",
        "            with gr.Column():\n",
        "                with gr.Row():\n",
        "                    bg_gallery = gr.Gallery()\n",
        "\n",
        "    def on_click(\n",
        "        background_context: str,\n",
        "        negative_prompt: str,\n",
        "        sample_resultcount: int,\n",
        "        seed_value: int,\n",
        "    ) -> gr.Gallery:\n",
        "        global original_images  # Access the global variable\n",
        "        original_images = call_ad_maker(\n",
        "            prompt=background_context,\n",
        "            negative_prompt=negative_prompt,\n",
        "            sample_resultcount=sample_resultcount,\n",
        "            seed=int(seed_value),\n",
        "        )\n",
        "\n",
        "        return gr.Gallery(original_images)\n",
        "\n",
        "    generate_btn.click(\n",
        "        fn=on_click,\n",
        "        inputs=[background_context, negative_prompt, sample_resultcount, seed_value],\n",
        "        outputs=[bg_gallery],\n",
        "    )\n",
        "    # New section for superimposing text after image generation\n",
        "    with gr.Row():\n",
        "        # User Text input (allow to modify or add custom text)\n",
        "        text_sections = gr.Textbox(\n",
        "            label=\"Gemini Generated Text (Put comma-separated text for multiline effect)\",\n",
        "            placeholder=\"Enter text to superimpose\",\n",
        "            value=generated_text,\n",
        "        )\n",
        "\n",
        "        position_dropdown = gr.Dropdown(\n",
        "            label=\"Text Position\",\n",
        "            choices=[p.value for p in Position],\n",
        "            value=Position.BOTTOM_LEFT.value,\n",
        "        )\n",
        "        font_size_input = gr.Slider(\n",
        "            minimum=10, maximum=200, label=\"Enter Font Size\", randomize=True\n",
        "        )\n",
        "        apply_text_btn = gr.Button(\"Apply Text\")\n",
        "        clear_text_btn = gr.Button(\"Clear Text\")  # Button to clear text\n",
        "\n",
        "        def apply_text_to_images(images, text, position, font_size_input):\n",
        "            processed_images = []\n",
        "            text_sections = text.split(\",\")  # Split by comma to get sections\n",
        "            for img in images:\n",
        "                if isinstance(img, tuple):  # Check if img is a tuple\n",
        "                    img_path = img[0]  # Extract the image path from the tuple\n",
        "                else:\n",
        "                    img_path = img  # If it's not a tuple, use it directly\n",
        "                img = Image.open(img_path)\n",
        "                img_with_text = superimpose_text_on_image(\n",
        "                    img, text_sections, position, font_size_input\n",
        "                )\n",
        "                img_with_text = resize_to_aspect_ratio(\n",
        "                    img_with_text\n",
        "                )  # Resize to 16:9 aspect ratio\n",
        "                processed_images.append(img_with_text)\n",
        "            return processed_images\n",
        "\n",
        "        def clear_text(images: list[Image.Image]) -> list[Image.Image]:\n",
        "            global current_text\n",
        "            current_text = \"\"  # Clear the current text\n",
        "            return original_images  # Return images without text applied\n",
        "\n",
        "        apply_text_btn.click(\n",
        "            fn=apply_text_to_images,\n",
        "            inputs=[bg_gallery, text_sections, position_dropdown, font_size_input],\n",
        "            outputs=bg_gallery,\n",
        "        )\n",
        "\n",
        "        clear_text_btn.click(\n",
        "            fn=clear_text,\n",
        "            inputs=[bg_gallery],  # Input the current images\n",
        "            outputs=bg_gallery,\n",
        "        )\n",
        "\n",
        "\n",
        "# Launch the Gradio app\n",
        "demo.launch(debug=True, share=True)"
      ]
    },
    {
      "cell_type": "markdown",
      "metadata": {
        "id": "qPIkxH20UkrP"
      },
      "source": [
        "# Conclusion\n",
        "\n",
        "This notebook demonstrates the power of combining Google Cloud's Generative AI tools, Imagen 3 and Gemini, to create a seamless and dynamic advertising workflow. By integrating these cutting-edge technologies with a user-friendly interface, we've shown how we can efficiently generate and deploy captivating ads. This opens up exciting possibilities for streamlining the advertising pipeline and unlocking new levels of creativity."
      ]
    }
  ],
  "metadata": {
    "colab": {
      "name": "advertisement_creation.ipynb",
      "toc_visible": true
    },
    "kernelspec": {
      "display_name": "Python 3",
      "name": "python3"
    }
  },
  "nbformat": 4,
  "nbformat_minor": 0
}
