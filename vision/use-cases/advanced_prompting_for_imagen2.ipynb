{
  "cells": [
    {
      "cell_type": "code",
      "execution_count": null,
      "id": "0542b239",
      "metadata": {
        "id": "2eec5cc39a59"
      },
      "outputs": [],
      "source": [
        "# Copyright 2024 Google LLC\n",
        "#\n",
        "# Licensed under the Apache License, Version 2.0 (the \"License\");\n",
        "# you may not use this file except in compliance with the License.\n",
        "# You may obtain a copy of the License at\n",
        "#\n",
        "#     https://www.apache.org/licenses/LICENSE-2.0\n",
        "#\n",
        "# Unless required by applicable law or agreed to in writing, software\n",
        "# distributed under the License is distributed on an \"AS IS\" BASIS,\n",
        "# WITHOUT WARRANTIES OR CONDITIONS OF ANY KIND, either express or implied.\n",
        "# See the License for the specific language governing permissions and\n",
        "# limitations under the License."
      ]
    },
    {
      "cell_type": "markdown",
      "id": "f9c0b056",
      "metadata": {
        "id": "decb48434e63"
      },
      "source": [
        "# Advanced Prompting for ImageGeneration Using Imagen 2\n",
        "\n",
        "<table align=\"left\">\n",
        "  <td style=\"text-align: center\">\n",
        "    <a href=\"https://colab.research.google.com/github/GoogleCloudPlatform/generative-ai/blob/main/vision/use-cases/advanced_prompting_for_imagen2.ipynb\">\n",
        "      <img src=\"https://cloud.google.com/ml-engine/images/colab-logo-32px.png\" alt=\"Google Colaboratory logo\"><br> Open in Colab\n",
        "    </a>\n",
        "  </td>\n",
        "  <td style=\"text-align: center\">\n",
        "    <a href=\"https://console.cloud.google.com/vertex-ai/colab/import/https:%2F%2Fraw.githubusercontent.com%2FGoogleCloudPlatform%2Fgenerative-ai%2Fmain%2Fvision%2Fuse-cases%2Fadvanced_prompting_for_imagen2.ipynb\">\n",
        "      <img width=\"32px\" src=\"https://lh3.googleusercontent.com/JmcxdQi-qOpctIvWKgPtrzZdJJK-J3sWE1RsfjZNwshCFgE_9fULcNpuXYTilIR2hjwN\" alt=\"Google Cloud Colab Enterprise logo\"><br> Open in Colab Enterprise\n",
        "    </a>\n",
        "  </td>    \n",
        "  <td style=\"text-align: center\">\n",
        "    <a href=\"https://console.cloud.google.com/vertex-ai/workbench/deploy-notebook?download_url=https://raw.githubusercontent.com/GoogleCloudPlatform/generative-ai/main/vision/use-cases/advanced_prompting_for_imagen2.ipynb\">\n",
        "      <img src=\"https://lh3.googleusercontent.com/UiNooY4LUgW_oTvpsNhPpQzsstV5W8F7rYgxgGBD85cWJoLmrOzhVs_ksK_vgx40SHs7jCqkTkCk=e14-rj-sc0xffffff-h130-w32\" alt=\"Vertex AI logo\"><br> Open in Workbench\n",
        "    </a>\n",
        "  </td>\n",
        "  <td style=\"text-align: center\">\n",
        "    <a href=\"https://github.com/GoogleCloudPlatform/generative-ai/blob/main/vision/use-cases/advanced_prompting_for_imagen2.ipynb\">\n",
        "      <img src=\"https://cloud.google.com/ml-engine/images/github-logo-32px.png\" alt=\"GitHub logo\"><br> View on GitHub\n",
        "    </a>\n",
        "  </td>\n",
        "</table>\n",
        "\n",
        "<div style=\"clear: both;\"></div>\n",
        "\n",
        "<b>Share to:</b>\n",
        "\n",
        "<a href=\"https://www.linkedin.com/sharing/share-offsite/?url=https%3A//github.com/GoogleCloudPlatform/generative-ai/blob/main/vision/use-cases/advanced_prompting_for_imagen2.ipynb\" target=\"_blank\">\n",
        "  <img width=\"20px\" src=\"https://upload.wikimedia.org/wikipedia/commons/8/81/LinkedIn_icon.svg\" alt=\"LinkedIn logo\">\n",
        "</a>\n",
        "\n",
        "<a href=\"https://bsky.app/intent/compose?text=https%3A//github.com/GoogleCloudPlatform/generative-ai/blob/main/vision/use-cases/advanced_prompting_for_imagen2.ipynb\" target=\"_blank\">\n",
        "  <img width=\"20px\" src=\"https://upload.wikimedia.org/wikipedia/commons/7/7a/Bluesky_Logo.svg\" alt=\"Bluesky logo\">\n",
        "</a>\n",
        "\n",
        "<a href=\"https://twitter.com/intent/tweet?url=https%3A//github.com/GoogleCloudPlatform/generative-ai/blob/main/vision/use-cases/advanced_prompting_for_imagen2.ipynb\" target=\"_blank\">\n",
        "  <img width=\"20px\" src=\"https://upload.wikimedia.org/wikipedia/commons/5/53/X_logo_2023_original.svg\" alt=\"X logo\">\n",
        "</a>\n",
        "\n",
        "<a href=\"https://reddit.com/submit?url=https%3A//github.com/GoogleCloudPlatform/generative-ai/blob/main/vision/use-cases/advanced_prompting_for_imagen2.ipynb\" target=\"_blank\">\n",
        "  <img width=\"20px\" src=\"https://redditinc.com/hubfs/Reddit%20Inc/Brand/Reddit_Logo.png\" alt=\"Reddit logo\">\n",
        "</a>\n",
        "\n",
        "<a href=\"https://www.facebook.com/sharer/sharer.php?u=https%3A//github.com/GoogleCloudPlatform/generative-ai/blob/main/vision/use-cases/advanced_prompting_for_imagen2.ipynb\" target=\"_blank\">\n",
        "  <img width=\"20px\" src=\"https://upload.wikimedia.org/wikipedia/commons/5/51/Facebook_f_logo_%282019%29.svg\" alt=\"Facebook logo\">\n",
        "</a>            "
      ]
    },
    {
      "cell_type": "markdown",
      "id": "7f89ebbb",
      "metadata": {
        "id": "5ae011e81451"
      },
      "source": [
        "| | |\n",
        "|-|-|\n",
        "|Author(s) | [Abhijat Gupta](https://github.com/abhijat-gupta), [Harish Verma](https://github.com/harishverma8) |"
      ]
    },
    {
      "cell_type": "markdown",
      "id": "254969bc",
      "metadata": {
        "id": "0a78a0a4f99b"
      },
      "source": [
        "## Overview"
      ]
    },
    {
      "cell_type": "markdown",
      "id": "d55f3b63",
      "metadata": {
        "id": "9146cc4ee2f8"
      },
      "source": [
        "### Gemini\n",
        "Gemini is a family of generative AI models developed by Google DeepMind that is designed for multimodal use cases. The Gemini API gives you access to the Gemini Pro and Gemini Pro Vision models."
      ]
    },
    {
      "cell_type": "markdown",
      "id": "33516e34",
      "metadata": {
        "id": "634577a176c6"
      },
      "source": [
        "### Gemini API in Vertex AI\n",
        "The Gemini API in Vertex AI provides a unified interface for interacting with Gemini models. There are two Gemini 1.0 Pro models available in the Gemini API:\n",
        "\n",
        "**Gemini 1.0 Pro model** (gemini-1.0-pro): Designed to handle natural language tasks, multi-turn text and code chat, and code generation.\n",
        "**Gemini 1.0 Pro Vision model** (gemini-1.0-pro-vision): Supports multimodal prompts. You can include text, images, and video in your prompt requests and get text or code responses.\n",
        "You can interact with the Gemini API using the following methods:\n",
        "\n",
        "- Use [Vertex AI Studio](https://cloud.google.com/generative-ai-studio?hl=en) for quick testing and command generation\n",
        "- Use cURL commands\n",
        "- Use the Vertex AI SDK\n",
        "\n",
        "This notebook focuses on using the Vertex AI SDK for Python to call the Gemini API in Vertex AI.\n",
        "\n",
        "For more information, see the [Generative AI on Vertex AI](https://cloud.google.com/vertex-ai/generative-ai/docs/learn/overview) documentation."
      ]
    },
    {
      "cell_type": "markdown",
      "id": "3e046dc7",
      "metadata": {
        "id": "714d10d9a49c"
      },
      "source": [
        "## Objective\n",
        "\n",
        "AI image generation opens a world of visual possibilities, but unleashing its true power requires a touch of finesse. If you're ready to move beyond simple prompts and take creative control, this notebook is for you. We'll explore advanced prompting techniques that will transform the way you generate images with AI.\n",
        "\n",
        "The notebook demonstrates the usage of Gemini to enhance the prompt, which will then be consumed by Imagen 2. This enhancement will add supporting props and details to the user single liner prompts. We also sometimes want to generate images with a custom set of colors, this notebook helps you to achieve that through prompting. We also, at times, need to include styling to the generated images, like light conditions, lens positioning, people dressing styles, skin-tones, backgrounds, etc., this notebook also enables you provide such custom styles through pure test prompting.\n",
        "\n",
        "### Prompt Enhancement\n",
        "\n",
        "Enhance basic one liner prompts using Gemini to create more detailed and complete prompts\n",
        "\n",
        "### Using Hex color codes in Prompts\n",
        "\n",
        "We can pass the hex values of the colors that we wish to see in the generated images\n",
        "\n",
        "- Use `custom_color_palette` flag, set it to `True` if you wish to provide your color palette\n",
        "\n",
        "### Styling your image with text prompts\n",
        "\n",
        "- We can pass styles and append it to the original prompt with a **\",\"** (comma)\n",
        "- Styles can contain of type of people, their dressing, their skin tone, etc.\n",
        "- Styles can also contain details of the background and environment.\n",
        "- Example:\n",
        "\n",
        "    ```\n",
        "    'your_style_1': {\n",
        "        'persona': 'people dressed in business casuals with warm toned skin, showing positive charisma and healthy lifestyle',\n",
        "        'environment': 'saturated, pleasant, true to life, focused'\n",
        "    }\n",
        "    ```"
      ]
    },
    {
      "cell_type": "markdown",
      "id": "2537d265",
      "metadata": {
        "id": "66d8428794e3"
      },
      "source": [
        "## Costs\n",
        "\n",
        "This tutorial uses the following billable components of Google Cloud:\n",
        "- Vertex AI (Gemini 1.0 Pro, Imagen 2)\n",
        "\n",
        "Learn about [Vertex AI Generative AI pricing](https://cloud.google.com/vertex-ai/generative-ai/pricing) and use the [Pricing Calculator](https://cloud.google.com/products/calculator/) to generate a cost estimate based on your projected usage."
      ]
    },
    {
      "cell_type": "markdown",
      "id": "5cfb361c",
      "metadata": {
        "id": "39fb8cb87102"
      },
      "source": [
        "## Getting Started"
      ]
    },
    {
      "cell_type": "markdown",
      "id": "e7d732df",
      "metadata": {
        "id": "9c91fc823f26"
      },
      "source": [
        "### Install Vertex AI SDK for Python"
      ]
    },
    {
      "cell_type": "code",
      "execution_count": null,
      "id": "16803df5",
      "metadata": {
        "id": "68d56be9bd38"
      },
      "outputs": [],
      "source": [
        "%pip install -q --upgrade google-cloud-aiplatform"
      ]
    },
    {
      "cell_type": "markdown",
      "id": "0675bf83",
      "metadata": {
        "id": "b78e595e314b"
      },
      "source": [
        "## Restart current runtime\n",
        "To use the newly installed packages in this Jupyter runtime, you must restart the runtime. You can do this by running the cell below, which will restart the current kernel."
      ]
    },
    {
      "cell_type": "code",
      "execution_count": null,
      "id": "9d2118c9",
      "metadata": {
        "id": "a39f12dff208"
      },
      "outputs": [],
      "source": [
        "import sys\n",
        "\n",
        "if \"google.colab\" in sys.modules:\n",
        "    import IPython\n",
        "\n",
        "    app = IPython.Application.instance()\n",
        "    app.kernel.do_shutdown(True)"
      ]
    },
    {
      "cell_type": "markdown",
      "id": "d341776a",
      "metadata": {
        "id": "8f120477fa80"
      },
      "source": [
        "### Authenticate your notebook environment (Colab only)\n",
        "\n",
        "If you are running this notebook on Google Colab, run the following cell to authenticate your environment. This step is not required if you are using [Vertex AI Workbench](https://cloud.google.com/vertex-ai-notebooks?hl=en)."
      ]
    },
    {
      "cell_type": "code",
      "execution_count": null,
      "id": "e55ea059",
      "metadata": {
        "id": "59c887aafd02"
      },
      "outputs": [],
      "source": [
        "import sys\n",
        "\n",
        "if \"google.colab\" in sys.modules:\n",
        "    from google.colab import auth\n",
        "\n",
        "    auth.authenticate_user()"
      ]
    },
    {
      "cell_type": "markdown",
      "id": "82a0fa03",
      "metadata": {
        "id": "7210c3f2577a"
      },
      "source": [
        "### Set Google Cloud project information and initialize Vertex AI SDK\n",
        "To get started using Vertex AI, you must have an existing Google Cloud project and [enable the Vertex AI API](https://console.cloud.google.com/apis/enableflow?apiid=aiplatform.googleapis.com&e=13802955&mods=dm_deploy_from_gcs).\n",
        "\n",
        "Learn more about [setting up a project and a development environment](https://cloud.google.com/vertex-ai/docs/start/cloud-environment)."
      ]
    },
    {
      "cell_type": "code",
      "execution_count": null,
      "id": "3ef04fa6-9086-4fb2-979a-7eded09796aa",
      "metadata": {
        "id": "a023657a0814"
      },
      "outputs": [],
      "source": [
        "PROJECT_ID = \"your-project-id\"  # @param {type:\"string\"}\n",
        "LOCATION = \"us-central1\"  # @param {type:\"string\"}\n",
        "\n",
        "# Initialize Vertex AI\n",
        "import vertexai\n",
        "\n",
        "vertexai.init(project=PROJECT_ID, location=LOCATION)"
      ]
    },
    {
      "cell_type": "markdown",
      "id": "48c09d98",
      "metadata": {
        "id": "2b9f514f4dff"
      },
      "source": [
        "### Default parameters"
      ]
    },
    {
      "cell_type": "code",
      "execution_count": null,
      "id": "0e9b9770",
      "metadata": {
        "id": "9ed71b02b679"
      },
      "outputs": [],
      "source": [
        "DEFAULT_STYLE = \"no_style\"\n",
        "DEFAULT_PROMPT = \"a dog wearing sunglasses on a surfboard\"\n",
        "DEFAULT_ASPECT_RATIO = \"1:1\"\n",
        "DEFAULT_ENHANCE_PROMPTING = True\n",
        "DEFAULT_CUSTOM_COLOR_PALETTE = True\n",
        "DEFAULT_CUSTOM_COLORS = \"[#ED0007]\"  # a vibrant and bold shade of red"
      ]
    },
    {
      "cell_type": "markdown",
      "id": "88f45a0a",
      "metadata": {
        "id": "8073d110a407"
      },
      "source": [
        "### Model config\n",
        "\n",
        "- Providing the current versions for Gemini and Imagen models.\n",
        "- Please update this config as per your requirements"
      ]
    },
    {
      "cell_type": "code",
      "execution_count": null,
      "id": "ceb7bc33",
      "metadata": {
        "id": "c82f94d4f34c"
      },
      "outputs": [],
      "source": [
        "GEMINI_MODEL_PRO = \"gemini-1.0-pro-001\"\n",
        "VISION_MODEL = \"imagegeneration@006\"\n",
        "\n",
        "## Imagen 2 configs\n",
        "ASPECT_RATIOS_OPTIONS = [\"1:1\", \"9:16\", \"16:9\", \"3:4\", \"4:3\"]\n",
        "NUMBER_OF_IMAGES = 4  # Between 0-4\n",
        "GUIDANCE_SCALE = 90  # Controls the strength of the prompt. Suggested values are:* 0-9 (low strength) * 10-20 (medium strength)* 21+ (high strength)\n",
        "SEED = 915"
      ]
    },
    {
      "cell_type": "markdown",
      "id": "ca77dcfd",
      "metadata": {
        "id": "cb317737f952"
      },
      "source": [
        "### Color palette\n",
        "\n",
        "Try your own colors. We can pass any hex color code to this palette and see the difference in results.\n",
        "\n",
        "- `custom_color_palette` parameter in request_json dictionary corresponds to color palette prompting\n",
        "- It is recommended to put `custom_color_palette` flag as `False` if you want Gemini to enhance the user input."
      ]
    },
    {
      "cell_type": "code",
      "execution_count": null,
      "id": "fd0edfc1",
      "metadata": {
        "id": "69494bd3aa5e"
      },
      "outputs": [],
      "source": [
        "COLOR_PALETTE_SAMPLES = \"[#000000, #FFFFFF, #71767C, #ED0007, #9E2896, #007BC0, #18837E, #00884A, #C535BC, #007BC0, #18837E, #00884A]\""
      ]
    },
    {
      "cell_type": "markdown",
      "id": "d28ce885",
      "metadata": {
        "id": "8da7d54b2aa5"
      },
      "source": [
        "### Example styles"
      ]
    },
    {
      "cell_type": "code",
      "execution_count": null,
      "id": "7e3a711c",
      "metadata": {
        "id": "df286b7bf379"
      },
      "outputs": [],
      "source": [
        "# example styles\n",
        "STYLES = {\n",
        "    \"no_style\": {\n",
        "        \"persona\": \"people dressed as per the requirement, showing positive charisma and healthy lifestyle\",\n",
        "        \"environment\": \"saturated, true to life, realistic, extremely detailed\",\n",
        "    },\n",
        "    \"corporate\": {\n",
        "        \"persona\": \"people dressed in business casuals with warm toned skin, showing positive charisma and healthy lifestyle\",\n",
        "        \"environment\": \"saturated, pleasant, true to life, focused\",\n",
        "    },\n",
        "    \"healthcare_solutions\": {\n",
        "        \"persona\": \"warm toned people\",\n",
        "        \"environment\": \"more white backgrounds, clean surroundings, realistic, focused, depth of field, blue and turquoise colors\",\n",
        "    },\n",
        "    \"home_appliances\": {\n",
        "        \"persona\": \"warm toned people dressed casually, showing positive charisma and healthy lifestyle\",\n",
        "        \"environment\": \"pastel color backgrounds, realistic, focused, depth of field\",\n",
        "    },\n",
        "}"
      ]
    },
    {
      "cell_type": "markdown",
      "id": "11d4a733",
      "metadata": {
        "id": "01fcfcac47e9"
      },
      "source": [
        "### Flag for enhanced prompting\n",
        "\n",
        "- `enhanced_prompting` parameter in request_json dictionary corresponds to enhanced prompting\n",
        "- Change it to `False` to stop Gemini enhancement and use the user's input as the prompt for Imagen"
      ]
    },
    {
      "cell_type": "markdown",
      "id": "ab316cdc",
      "metadata": {
        "id": "3ca3fb903cc8"
      },
      "source": [
        "### Importing libraries and functions"
      ]
    },
    {
      "cell_type": "code",
      "execution_count": null,
      "id": "ad0fcc0f",
      "metadata": {
        "id": "b253033ab3eb"
      },
      "outputs": [],
      "source": [
        "from vertexai.generative_models import GenerativeModel\n",
        "from vertexai.preview.vision_models import ImageGenerationModel"
      ]
    },
    {
      "cell_type": "code",
      "execution_count": null,
      "id": "15c52dfe-8c89-491e-8551-adb004b60eec",
      "metadata": {
        "id": "074449a29ec6"
      },
      "outputs": [],
      "source": [
        "def parse_json(request_json: dict[str, str]) -> tuple[str, str, str, bool, bool]:\n",
        "    \"\"\"Parses JSON request from user.\"\"\"\n",
        "    style = STYLES.get(request_json.get(\"style\"), DEFAULT_STYLE)\n",
        "    user_prompt = request_json.get(\"prompt\", DEFAULT_PROMPT)\n",
        "    aspect_ratio_provided = request_json.get(\"aspect_ratio\", DEFAULT_ASPECT_RATIO)\n",
        "    enhanced_prompting = request_json.get(\n",
        "        \"enhanced_prompting\", DEFAULT_ENHANCE_PROMPTING\n",
        "    )\n",
        "    custom_color_palette = request_json.get(\n",
        "        \"custom_color_palette\", DEFAULT_CUSTOM_COLOR_PALETTE\n",
        "    )\n",
        "    color_palettes = request_json.get(\"color_palette\", DEFAULT_CUSTOM_COLORS)\n",
        "\n",
        "    return (\n",
        "        style,\n",
        "        user_prompt,\n",
        "        aspect_ratio_provided,\n",
        "        enhanced_prompting,\n",
        "        custom_color_palette,\n",
        "        color_palettes,\n",
        "    )\n",
        "\n",
        "\n",
        "def generate_enhanced_prompt(\n",
        "    user_prompt: str, custom_color_palette: bool, COLOR_PALETTE: str\n",
        ") -> str:\n",
        "    \"\"\"Generates enhanced prompt using text LLMs.\"\"\"\n",
        "    if custom_color_palette:\n",
        "        prompt_for_imagen = f\"\"\"{prompt_prefix}\n",
        "                - Color palette : {COLOR_PALETTE}\n",
        "        Prompt:\n",
        "        \"\"\"\n",
        "    else:\n",
        "        prompt_for_imagen = f\"\"\"{prompt_prefix}\n",
        "        Prompt:\n",
        "        \"\"\"\n",
        "    print(f\"Gemini Prompt provided to enhance: \\n\\n{prompt_for_imagen}\")\n",
        "\n",
        "    # Generate Imagen prompt using gemini-pro model\n",
        "    gemini = GenerativeModel(GEMINI_MODEL_PRO)\n",
        "\n",
        "    img_gen_prompt_gemini = gemini.generate_content(\n",
        "        prompt_for_imagen,\n",
        "    )\n",
        "    return img_gen_prompt_gemini.text\n",
        "\n",
        "\n",
        "def generate_images(\n",
        "    gemini_prompt: str, aspect_ratio_provided: str\n",
        ") -> vertexai.preview.vision_models.ImageGenerationResponse:\n",
        "    \"\"\"Generates images using imagen@006.\"\"\"\n",
        "    image_model = ImageGenerationModel.from_pretrained(VISION_MODEL)\n",
        "\n",
        "    prompt = gemini_prompt\n",
        "\n",
        "    images = image_model.generate_images(\n",
        "        prompt=prompt,\n",
        "        number_of_images=NUMBER_OF_IMAGES,\n",
        "        guidance_scale=GUIDANCE_SCALE,\n",
        "        aspect_ratio=aspect_ratio_provided,\n",
        "        # You can't use a seed value and watermark at the same time.\n",
        "        add_watermark=False,\n",
        "        seed=SEED,\n",
        "    )\n",
        "    return images"
      ]
    },
    {
      "cell_type": "markdown",
      "id": "bc02c149",
      "metadata": {
        "id": "a0724c16b5be"
      },
      "source": [
        "### Request\n",
        " JSON request with all the required parameters which can come from a user"
      ]
    },
    {
      "cell_type": "code",
      "execution_count": null,
      "id": "bf9a59a7",
      "metadata": {
        "id": "33afe79d928e"
      },
      "outputs": [],
      "source": [
        "### Provide your input details here\n",
        "request_json = {\n",
        "    \"style\": \"corporate\",\n",
        "    \"prompt\": \"A happy woman in the kitchen working with a mixer\",\n",
        "    \"aspect_ratio\": \"9:16\",\n",
        "    \"enhanced_prompting\": True,\n",
        "    \"custom_color_palette\": False,\n",
        "    \"color_palette\": \"[#00884A]\",\n",
        "}"
      ]
    },
    {
      "cell_type": "code",
      "execution_count": null,
      "id": "2bb9a0f4-1e35-41db-9980-c49142a21c25",
      "metadata": {
        "id": "901528ffa484"
      },
      "outputs": [],
      "source": [
        "(\n",
        "    style,\n",
        "    user_prompt,\n",
        "    aspect_ratio_provided,\n",
        "    enhanced_prompting,\n",
        "    custom_color_palette,\n",
        "    color_palettes,\n",
        ") = parse_json(request_json)\n",
        "\n",
        "print(\n",
        "    f\"############  USER PROVIDED REQUEST  ############\\nSTYLE = {style}\\nASPECT RATIO = {aspect_ratio_provided}\\nUSER PROMPT = {user_prompt}\"\n",
        ")\n",
        "print(f\"Enhanced Prompting = {enhanced_prompting}\")\n",
        "if custom_color_palette:\n",
        "    print(f\"Custom Color Palette = {custom_color_palette}\")\n",
        "    print(f\"Color Palette provided  = {color_palettes}\\n\")\n",
        "else:\n",
        "    print(f\"Custom Color Palette = {custom_color_palette}\\n\")"
      ]
    },
    {
      "cell_type": "markdown",
      "id": "258782dc",
      "metadata": {
        "id": "c5f086d88de5"
      },
      "source": [
        "### Prompt prefix"
      ]
    },
    {
      "cell_type": "code",
      "execution_count": null,
      "id": "6f4e189d",
      "metadata": {
        "id": "a098f3a4c22f"
      },
      "outputs": [],
      "source": [
        "prompt_prefix = f\"\"\"You are an expert in writing prompts for image generation model and have immense knowledge of photography, based on user_prompt and settings, generate a 150 words prompt adding supporting props to the image subject, but do NOT add too much information, keep it on the simpler side. Add \"a photo of\" prefix to every prompt.\n",
        "                Use below settings for generating the image:\n",
        "                - Persona: {style[\"persona\"]}\n",
        "                - Environment: {style[\"environment\"]}\n",
        "                - Scenario: {user_prompt}\"\"\""
      ]
    },
    {
      "cell_type": "code",
      "execution_count": null,
      "id": "41ee8c31-108c-4840-9808-976877849b90",
      "metadata": {
        "id": "bcd17646a537"
      },
      "outputs": [],
      "source": [
        "if enhanced_prompting:\n",
        "    gemini_prompt = generate_enhanced_prompt(\n",
        "        user_prompt, custom_color_palette, color_palettes\n",
        "    )\n",
        "    print(f\"Enhanced Prompt generated by Gemini: \\n\\n{gemini_prompt}\")\n",
        "    final_imagen_prompt = gemini_prompt\n",
        "else:\n",
        "    if custom_color_palette:\n",
        "        prompt_for_imagen_1 = f\"\"\"A photo of \\\n",
        "            - Persona: {style[\"persona\"]}\n",
        "            - Environment: {style[\"environment\"]}\n",
        "            - Scenario: {user_prompt}\n",
        "            - Color palette : {color_palettes}\"\"\"\n",
        "        final_imagen_prompt = prompt_for_imagen_1\n",
        "    else:\n",
        "        prompt_for_imagen_2 = f\"\"\"A photo of \\\n",
        "            - Persona: {style[\"persona\"]}\n",
        "            - Environment: {style[\"environment\"]}\n",
        "            - Scenario: {user_prompt}\"\"\"\n",
        "        final_imagen_prompt = prompt_for_imagen_2"
      ]
    },
    {
      "cell_type": "code",
      "execution_count": null,
      "id": "a42c900f-f777-4f7f-89d8-954edd33014c",
      "metadata": {
        "id": "98e272ac6507"
      },
      "outputs": [],
      "source": [
        "print(\"Imagen Prompt: \\n\", final_imagen_prompt)"
      ]
    },
    {
      "cell_type": "code",
      "execution_count": null,
      "id": "a7566753-496a-4280-ac41-f473d4ed4285",
      "metadata": {
        "id": "4abc751d486b"
      },
      "outputs": [],
      "source": [
        "results = generate_images(final_imagen_prompt, aspect_ratio_provided)"
      ]
    },
    {
      "cell_type": "markdown",
      "id": "e7c8e2f6",
      "metadata": {
        "id": "e6f970618923"
      },
      "source": [
        "## View generated images"
      ]
    },
    {
      "cell_type": "code",
      "execution_count": null,
      "id": "e5df64ff",
      "metadata": {
        "id": "f18d5ff20caa"
      },
      "outputs": [],
      "source": [
        "for result in results:\n",
        "    result.show()\n",
        "    break"
      ]
    }
  ],
  "metadata": {
    "colab": {
      "name": "advanced_prompting_for_imagen2.ipynb",
      "toc_visible": true
    },
    "kernelspec": {
      "display_name": "Python 3",
      "name": "python3"
    }
  },
  "nbformat": 4,
  "nbformat_minor": 0
}
