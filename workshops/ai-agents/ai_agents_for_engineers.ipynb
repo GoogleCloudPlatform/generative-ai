{
  "cells": [
    {
      "cell_type": "code",
      "execution_count": null,
      "metadata": {
        "id": "ur8xi4C7S06n"
      },
      "outputs": [],
      "source": [
        "# Copyright 2024 Google LLC\n",
        "#\n",
        "# Licensed under the Apache License, Version 2.0 (the \"License\");\n",
        "# you may not use this file except in compliance with the License.\n",
        "# You may obtain a copy of the License at\n",
        "#\n",
        "#     https://www.apache.org/licenses/LICENSE-2.0\n",
        "#\n",
        "# Unless required by applicable law or agreed to in writing, software\n",
        "# distributed under the License is distributed on an \"AS IS\" BASIS,\n",
        "# WITHOUT WARRANTIES OR CONDITIONS OF ANY KIND, either express or implied.\n",
        "# See the License for the specific language governing permissions and\n",
        "# limitations under the License."
      ]
    },
    {
      "cell_type": "markdown",
      "metadata": {
        "id": "JAPoU8Sm5E6e"
      },
      "source": [
        "# AI Agents for Engineers (Evolution of AI Agents)\n",
        "\n",
        "<a target=\"_blank\" href=\"https://colab.research.google.com/github/GoogleCloudPlatform/generative-ai/blob/main/workshops/ai-agents/ai_agents_for_engineers.ipynb\">\n",
        "  <img src=\"https://colab.research.google.com/assets/colab-badge.svg\" alt=\"Open In Colab\"/>\n",
        "</a>"
      ]
    },
    {
      "cell_type": "markdown",
      "metadata": {
        "id": "84f0f73a0f76"
      },
      "source": [
        "| | |\n",
        "|-|-|\n",
        "| Author(s) | [Kristopher Overholt](https://github.com/koverholt) [Holt Skinner](https://github.com/holtskinner)|"
      ]
    },
    {
      "cell_type": "markdown",
      "metadata": {
        "id": "tvgnzT1CKxrO"
      },
      "source": [
        "## Overview\n",
        "\n",
        "This notebook demonstrates 3 different approaches to generating essays using the [Gemini API in Google AI Studio](https://ai.google.dev/gemini-api/docs). Each method illustrates a distinct paradigm for running AI Agents in differing levels of complexity.\n",
        "\n",
        "1. Zero-Shot Approach with the Gemini API\n",
        "2. Step-by-Step Approach With LangChain\n",
        "3. Iterative, AI-Agent Approach with LangGraph"
      ]
    },
    {
      "cell_type": "markdown",
      "metadata": {
        "id": "61RBz8LLbxCR"
      },
      "source": [
        "## Get started"
      ]
    },
    {
      "cell_type": "markdown",
      "metadata": {
        "id": "No17Cw5hgx12"
      },
      "source": [
        "### Install Gemini SDK and other required packages\n"
      ]
    },
    {
      "cell_type": "code",
      "execution_count": null,
      "metadata": {
        "id": "tFy3H3aPgx12"
      },
      "outputs": [],
      "source": [
        "%pip install --upgrade --quiet \\\n",
        "    google-genai \\\n",
        "    langgraph \\\n",
        "    langchain \\\n",
        "    langchain-google-genai \\\n",
        "    # langchain-google-vertexai \\\n",
        "    langchain-community \\\n",
        "    tavily-python \\\n",
        "    pydantic"
      ]
    },
    {
      "cell_type": "markdown",
      "metadata": {
        "id": "R5Xep4W9lq-Z"
      },
      "source": [
        "### Restart runtime\n",
        "\n",
        "To use the newly installed packages in this Jupyter runtime, you must restart the runtime. You can do this by running the cell below, which restarts the current kernel.\n",
        "\n",
        "The restart might take a minute or longer. After it's restarted, continue to the next step."
      ]
    },
    {
      "cell_type": "code",
      "execution_count": null,
      "metadata": {
        "id": "XRvKdaPDTznN"
      },
      "outputs": [],
      "source": [
        "import IPython\n",
        "\n",
        "app = IPython.Application.instance()\n",
        "app.kernel.do_shutdown(True)"
      ]
    },
    {
      "cell_type": "markdown",
      "metadata": {
        "id": "SbmM4z7FOBpM"
      },
      "source": [
        "<div class=\"alert alert-block alert-warning\">\n",
        "<b>⚠️ The kernel is going to restart. Wait until it's finished before continuing to the next step. ⚠️</b>\n",
        "</div>\n"
      ]
    },
    {
      "cell_type": "markdown",
      "metadata": {
        "id": "0781fd4c9001"
      },
      "source": [
        "### Configure API keys\n",
        "\n",
        "Get API keys from [Google AI Studio](https://ai.google.dev/gemini-api/docs/api-key) and [Tavily](https://tavily.com/)."
      ]
    },
    {
      "cell_type": "code",
      "execution_count": 1,
      "metadata": {
        "id": "f2d2ecd0e96d"
      },
      "outputs": [],
      "source": [
        "import os\n",
        "\n",
        "os.environ[\"GOOGLE_API_KEY\"] = \"YOUR_API_KEY_HERE\"\n",
        "os.environ[\"TAVILY_API_KEY\"] = \"YOUR_API_KEY_HERE\""
      ]
    },
    {
      "cell_type": "code",
      "execution_count": 30,
      "metadata": {
        "id": "nvuDx1V6buOQ"
      },
      "outputs": [],
      "source": [
        "# If your API Keys are in Colab Secrets\n",
        "from google.colab import userdata\n",
        "\n",
        "os.environ[\"GOOGLE_API_KEY\"] = userdata.get(\"GOOGLE_API_KEY\")\n",
        "os.environ[\"TAVILY_API_KEY\"] = userdata.get(\"TAVILY_API_KEY\")"
      ]
    },
    {
      "cell_type": "markdown",
      "metadata": {
        "id": "65c5d2c58412"
      },
      "source": [
        "Create a client to make API calls."
      ]
    },
    {
      "cell_type": "code",
      "execution_count": 2,
      "metadata": {
        "id": "0e61c124d460"
      },
      "outputs": [],
      "source": [
        "from google import genai\n",
        "\n",
        "client = genai.Client(api_key=os.environ[\"GOOGLE_API_KEY\"])"
      ]
    },
    {
      "cell_type": "markdown",
      "metadata": {
        "id": "EdvJRUWRNGHE"
      },
      "source": [
        "## Generating Essays Using a Zero-Shot Approach with the Gemini API\n",
        "\n",
        "With just a single call to the `generate_content` method, users can create detailed, structured essays on any topic by leveraging state-of-the-art language models such as Gemini 1.5 Pro or Gemini 1.5 Flash.\n",
        "\n",
        "<img src=\"https://github.com/GoogleCloudPlatform/generative-ai/blob/main/workshops/ai-agents/1-prompt-essay.png?raw=1\" width=\"350px\">"
      ]
    },
    {
      "cell_type": "markdown",
      "metadata": {
        "id": "5303c05f7aa6"
      },
      "source": [
        "### Import libraries"
      ]
    },
    {
      "cell_type": "code",
      "execution_count": 3,
      "metadata": {
        "id": "6fc324893334"
      },
      "outputs": [],
      "source": [
        "from IPython.display import Markdown, display"
      ]
    },
    {
      "cell_type": "markdown",
      "metadata": {
        "id": "e43229f3ad4f"
      },
      "source": [
        "### Load model"
      ]
    },
    {
      "cell_type": "code",
      "execution_count": 4,
      "metadata": {
        "id": "cf93d5f0ce00"
      },
      "outputs": [],
      "source": [
        "MODEL_ID = \"gemini-2.0-flash-exp\""
      ]
    },
    {
      "cell_type": "markdown",
      "metadata": {
        "id": "bbcd4f57190f"
      },
      "source": [
        "### Make an API call to generate the essay"
      ]
    },
    {
      "cell_type": "code",
      "execution_count": 5,
      "metadata": {
        "id": "3734f520c1b3"
      },
      "outputs": [
        {
          "data": {
            "text/markdown": [
              "Heat transfer plays a critical, often unseen, role in the efficient operation of modern data centers. These facilities, packed with powerful servers generating substantial amounts of heat, rely heavily on sophisticated cooling systems to prevent equipment malfunctions and ensure optimal performance.  Various methods of heat transfer are employed, including conduction through heat sinks and heat pipes attached to processors, convection via air currents driven by fans and air conditioning units, and radiation from hot components to cooler surfaces. The effective management of this heat, utilizing these principles, is paramount to preventing overheating and maintaining the stable environment required for continuous, reliable data processing and storage.  Without the careful application of heat transfer knowledge, data centers would be plagued by frequent failures, leading to significant disruptions in the digital services we rely upon.\n",
              "\n",
              "The strategies employed for heat management in data centers are constantly evolving, driven by both increasing processing power and the desire for greater energy efficiency.  Traditional air-based cooling systems, while still prevalent, are often supplemented or replaced by liquid cooling technologies. These methods, using either direct liquid immersion of components or chilled water circulated through cooling plates, provide significantly more efficient heat removal than air alone. This shift towards liquid cooling highlights the crucial role of conduction and convection in this context. Furthermore, sophisticated thermal modeling techniques are used to simulate airflow patterns and identify potential hotspots within data centers, allowing engineers to proactively optimize cooling solutions and reduce unnecessary energy consumption. This continuous innovation demonstrates the dynamic interplay between heat transfer principles and the pragmatic needs of modern data infrastructure.\n",
              "\n",
              "In conclusion, the application of heat transfer principles is not just an operational necessity but a crucial driver of efficiency and sustainability in modern data centers.  From basic heat sinks to complex liquid cooling systems and advanced thermal modeling, a thorough understanding of conduction, convection, and radiation is essential for maintaining stable operating temperatures, preventing equipment failures, and minimizing the environmental impact of these energy-intensive facilities.  As computational demands continue to grow, the importance of innovative heat transfer technologies will only increase, solidifying its position as a fundamental element in the continued advancement of our digital world.\n"
            ],
            "text/plain": [
              "<IPython.core.display.Markdown object>"
            ]
          },
          "metadata": {},
          "output_type": "display_data"
        }
      ],
      "source": [
        "prompt = \"Write a 3-paragraph essay about the application of heat transfer in modern data centers\"\n",
        "\n",
        "response = client.models.generate_content(model=MODEL_ID, contents=prompt)\n",
        "display(Markdown(response.text))"
      ]
    },
    {
      "cell_type": "markdown",
      "metadata": {
        "id": "520e23ea4332"
      },
      "source": [
        "---\n",
        "\n",
        "However, what if we ask the model to write an essay about an event that happened more recently and the LLM doesn't inherently know about that event?"
      ]
    },
    {
      "cell_type": "code",
      "execution_count": 26,
      "metadata": {
        "id": "dcb775b83997"
      },
      "outputs": [
        {
          "data": {
            "text/markdown": [
              "While Hurricane Helene and Hurricane Milton might sound like real storms, they are, in fact, fictional.  Therefore, any discussion of their impacts in 2024 requires a degree of creative speculation.  Let us imagine that Hurricane Helene, a powerful Category 4 storm, made landfall in late August along the southern coast of Florida.  The hypothetical impact would be devastating.  Coastal communities would be ravaged by storm surges, leading to widespread flooding and structural damage. Inland areas, battered by torrential rains and high winds, would suffer from significant power outages, downed trees, and transportation disruptions. The ensuing economic impact would be substantial, with businesses shuttered, agriculture destroyed, and tourism grinding to a halt. The human cost, measured in displacement, injuries, and potential loss of life, would undoubtedly be the most profound consequence of this fictitious hurricane.\n",
              "\n",
              "Now let's consider Hurricane Milton, a weaker, but still significant, Category 2 storm, which hypothetically struck the Carolinas in late September.  Unlike Helene's concentrated fury, Milton's impacts would be more widespread across a larger geographic region.  Areas inland would experience substantial rainfall leading to river flooding and flash flooding, disrupting travel and isolating communities. Coastal areas would deal with eroding shorelines and flooding in low-lying regions. This hypothetical hurricane would create a challenge for emergency services and disaster relief, requiring coordinated efforts across multiple states. Furthermore, the extended impact of Milton would hinder the rebuilding efforts from the earlier hypothetical blow from Helene, causing significant delays in recovery and contributing to the feeling of being \"double-punched\" in affected areas.\n",
              "\n",
              "Ultimately, the hypothetical Hurricanes Helene and Milton would serve as a reminder of the profound power of nature and the vulnerability of human infrastructure and communities to such events.  The imagined disruptions would highlight the critical need for robust disaster preparedness, effective emergency response, and long-term resilience planning. While fictitious, these scenarios underscore the real-world dangers of hurricanes and the crucial role that preventative measures, coupled with ongoing climate change adaptation, play in minimizing the impact of future storms. These fictional impacts would also spark public discourse on infrastructure weaknesses, disaster relief inadequacies, and the importance of climate change awareness.\n"
            ],
            "text/plain": [
              "<IPython.core.display.Markdown object>"
            ]
          },
          "metadata": {},
          "output_type": "display_data"
        }
      ],
      "source": [
        "prompt = \"Write a 3-paragraph essay about the impacts of Hurricane Helene and Hurricane Milton in 2024.\"\n",
        "response = client.models.generate_content(model=MODEL_ID, contents=prompt)\n",
        "display(Markdown(response.text))"
      ]
    },
    {
      "cell_type": "markdown",
      "metadata": {
        "id": "764ce71aecd5"
      },
      "source": [
        "In this case, the model had no information about these recent events and was unable to write an effective essay."
      ]
    },
    {
      "cell_type": "markdown",
      "metadata": {
        "id": "16aafc60d80b"
      },
      "source": [
        "## Generating Essays Using a Step-by-Step Approach With LangChain\n",
        "\n",
        "This step demonstrates how to build an essay-writing pipeline using [LangChain](https://www.langchain.com/), the [Gemini API in Google AI Studio](https://ai.google.dev/gemini-api/docs), and [Tavily](https://tavily.com/) for search.\n",
        "\n",
        "By combining these tools, we create a seamless workflow that plans an essay outline, performs web searches for relevant information, and generates a complete essay draft based on the collected data.\n",
        "\n",
        "This solution showcases the power of chaining LLM models and external tools to tackle complex tasks with minimal human intervention, providing a robust approach to automated content generation.\n",
        "\n",
        "<img src=\"https://github.com/GoogleCloudPlatform/generative-ai/blob/main/workshops/ai-agents/2-langchain-essay.png?raw=1\" width=\"550px\">\n"
      ]
    },
    {
      "cell_type": "markdown",
      "metadata": {
        "id": "85666976a359"
      },
      "source": [
        "### Import libraries"
      ]
    },
    {
      "cell_type": "code",
      "execution_count": 7,
      "metadata": {
        "id": "29d6e42d27ae"
      },
      "outputs": [],
      "source": [
        "from IPython.display import Markdown, display\n",
        "from langchain import LLMChain\n",
        "from langchain.prompts import ChatPromptTemplate\n",
        "from langchain_community.tools import TavilySearchResults\n",
        "from langchain_core.output_parsers import StrOutputParser\n",
        "from langchain_google_genai import ChatGoogleGenerativeAI"
      ]
    },
    {
      "cell_type": "markdown",
      "metadata": {
        "id": "43392590b1d8"
      },
      "source": [
        "### Initialize Gemini model & search tool"
      ]
    },
    {
      "cell_type": "code",
      "execution_count": 8,
      "metadata": {
        "id": "6f8b0c205551"
      },
      "outputs": [],
      "source": [
        "model = ChatGoogleGenerativeAI(model=MODEL_ID, temperature=0)\n",
        "tavily_tool = TavilySearchResults(max_results=5)"
      ]
    },
    {
      "cell_type": "markdown",
      "metadata": {
        "id": "7ee8707e1867"
      },
      "source": [
        "### Define prompt templates and Runnables"
      ]
    },
    {
      "cell_type": "code",
      "execution_count": 9,
      "metadata": {
        "id": "a09a6a6d1f36"
      },
      "outputs": [],
      "source": [
        "# Planning: Create an outline for the essay\n",
        "outline_template = ChatPromptTemplate.from_template(\n",
        "    \"Create a detailed outline for an essay on {topic}\"\n",
        ")\n",
        "\n",
        "\n",
        "# Research: Web search\n",
        "def research_fn(topic):\n",
        "    response = tavily_tool.invoke({\"query\": topic})\n",
        "    return \"\\n\".join([f\"- {result['content']}\" for result in response])\n",
        "\n",
        "\n",
        "# Writing: Write the essay based on outline and research\n",
        "writing_template = ChatPromptTemplate.from_template(\n",
        "    \"Based on the following outline and research, write a 3-paragraph essay on '{topic}':\\n\\nOutline:\\n{outline}\\n\\nResearch:\\n{research}\\n\\nEssay:\"\n",
        ")"
      ]
    },
    {
      "cell_type": "markdown",
      "metadata": {
        "id": "9a18006523f7"
      },
      "source": [
        "### Define the Runnable Chain using [LangChain Expression Language (LCEL)](https://python.langchain.com/docs/how_to/#langchain-expression-language-lcel)"
      ]
    },
    {
      "cell_type": "code",
      "execution_count": null,
      "metadata": {
        "id": "cf48601613fd"
      },
      "outputs": [],
      "source": [
        "# Define individual chains\n",
        "outline_chain = LLMChain(llm=model, prompt=outline_template)\n",
        "writing_chain = LLMChain(llm=model, prompt=writing_template)\n",
        "\n",
        "# Use the pipe operator to combine chains\n",
        "chain = (\n",
        "    outline_chain\n",
        "    | (\n",
        "        lambda result: {\n",
        "            \"topic\": result[\"topic\"],\n",
        "            \"outline\": result[\"text\"],\n",
        "            \"research\": research_fn(result[\"topic\"]),\n",
        "        }\n",
        "    )\n",
        "    | writing_chain\n",
        "    | (lambda result: result[\"text\"])  # Extract the essay text from the final result\n",
        "    | StrOutputParser()\n",
        ")"
      ]
    },
    {
      "cell_type": "markdown",
      "metadata": {
        "id": "839fc48dd408"
      },
      "source": [
        "### Generate the essay"
      ]
    },
    {
      "cell_type": "code",
      "execution_count": null,
      "metadata": {
        "id": "a76f80ceec98"
      },
      "outputs": [
        {
          "data": {
            "text/markdown": [
              "The 2024 hurricane season will be remembered for the devastating impact of Hurricanes Helene and Milton, a stark reminder of the increasing ferocity of storms in a changing climate. These hypothetical hurricanes, while not actual events, serve as a powerful illustration of the potential for widespread destruction and disruption. This essay will analyze the simulated impacts of these two storms, exploring their diverse effects on different regions and sectors, highlighting the interconnectedness of geographical, economic, social, and environmental consequences.\n",
              "\n",
              "Hurricane Helene, a powerful Category 4 storm, made landfall in the southeastern United States, carving a path of destruction through Florida, Georgia, and the Carolinas. The storm's intense winds, exceeding 90 mph in some areas, caused widespread damage to infrastructure, tearing apart buildings and downing power lines. Coastal areas experienced severe flooding from storm surges, while inland regions were inundated by torrential rainfall, leading to devastating river flooding. The economic impact was immense, with billions of dollars in damage to infrastructure, businesses, and agriculture. Socially, the storm displaced thousands, causing injuries and loss of life, and raising concerns about public health and community resilience. Environmentally, Helene caused significant coastal erosion, habitat destruction, and pollution from oil spills and chemical leaks.\n",
              "\n",
              "Hurricane Milton, a Category 2 storm, followed a different trajectory, making landfall on Florida's west coast. While less intense than Helene, Milton still caused significant damage, particularly in the Tampa Bay area. The storm's heavy rainfall led to widespread flooding, inundating streets and homes. The economic impact was felt across various sectors, including tourism and fishing, with businesses struggling to recover. Socially, Milton added to the challenges already faced by communities recovering from Helene, further straining resources and testing community resilience. Environmentally, Milton contributed to coastal erosion and habitat destruction, compounding the damage caused by Helene. The back-to-back nature of these storms highlighted the vulnerability of the region and the need for improved disaster preparedness."
            ],
            "text/plain": [
              "<IPython.core.display.Markdown object>"
            ]
          },
          "metadata": {},
          "output_type": "display_data"
        }
      ],
      "source": [
        "essay = chain.invoke({\"topic\": prompt})\n",
        "display(Markdown(essay))"
      ]
    },
    {
      "cell_type": "markdown",
      "metadata": {
        "id": "294d3b7c43b2"
      },
      "source": [
        "## Generating Essays Using an Iterative, AI-Agent Approach with LangGraph\n",
        "\n",
        "This section demonstrates how to build a [LangGraph](https://langchain-ai.github.io/langgraph/)-powered AI agent to generate, revise, and critique essays using large language models such as Google's [Gemini API in Google AI Studio](https://ai.google.dev/gemini-api/docs) or the [Gemini API in Vertex AI](https://cloud.google.com/vertex-ai/generative-ai/docs/multimodal/overview). The LangGraph code was adapted from the awesome DeepLearning.AI course on [AI Agents in LangGraph](https://www.deeplearning.ai/short-courses/ai-agents-in-langgraph/).\n",
        "\n",
        "By defining a structured state flow with nodes such as \"Planner,\" \"Research Plan,\" \"Generate,\" \"Reflect,\" and \"Research Critique,\" the system iteratively creates an essay on a given topic, incorporates feedback, and provides research-backed insights.\n",
        "\n",
        "<img src=\"https://github.com/GoogleCloudPlatform/generative-ai/blob/main/workshops/ai-agents/3-langgraph-essay.png?raw=1\" width=\"900px\">\n",
        "\n",
        "The workflow enables automated essay generation with revision controls, making it ideal for structured writing tasks or educational use cases. Additionally, the notebook uses external search tools to gather and integrate real-time information into the essay content."
      ]
    },
    {
      "cell_type": "markdown",
      "metadata": {
        "id": "f8e41763086f"
      },
      "source": [
        "### Import libraries"
      ]
    },
    {
      "cell_type": "code",
      "execution_count": 12,
      "metadata": {
        "id": "52fbe2cb7be7"
      },
      "outputs": [],
      "source": [
        "from typing import TypedDict\n",
        "\n",
        "# Common libraries\n",
        "from IPython.display import Image, Markdown, display\n",
        "\n",
        "# LangChain and LangGraph components\n",
        "from langchain_core.messages import HumanMessage, SystemMessage\n",
        "\n",
        "# LangChain integrations for Gemini API in Google AI Studio and Vertex AI\n",
        "from langchain_google_genai import ChatGoogleGenerativeAI\n",
        "from langgraph.checkpoint.memory import MemorySaver\n",
        "from langgraph.graph import END, StateGraph\n",
        "\n",
        "# Typing utilities for data validation and schema definitions\n",
        "from pydantic.v1 import BaseModel\n",
        "\n",
        "# Tavily client for performing web searches\n",
        "from tavily import TavilyClient"
      ]
    },
    {
      "cell_type": "markdown",
      "metadata": {
        "id": "fc6ae1fac44f"
      },
      "source": [
        "### Initialize agent memory, agent state, and schema for search queries"
      ]
    },
    {
      "cell_type": "code",
      "execution_count": 13,
      "metadata": {
        "id": "6b92f7bab46d"
      },
      "outputs": [],
      "source": [
        "# Initialize agent memory\n",
        "memory = MemorySaver()\n",
        "\n",
        "\n",
        "# Define the agent's state\n",
        "class AgentState(TypedDict):\n",
        "    task: str\n",
        "    plan: str\n",
        "    draft: str\n",
        "    critique: str\n",
        "    content: list[str]\n",
        "    revision_number: int\n",
        "    max_revisions: int\n",
        "\n",
        "\n",
        "# Define a schema for search queries\n",
        "class Queries(BaseModel):\n",
        "    \"\"\"Variants of query to search for\"\"\"\n",
        "\n",
        "    queries: list[str]"
      ]
    },
    {
      "cell_type": "markdown",
      "metadata": {
        "id": "d9660e58afab"
      },
      "source": [
        "### Initialize Gemini model and search tool\n",
        "\n",
        "Remember to set the environment variables `GOOGLE_API_KEY` and `TAVILY_API_KEY`. And configure credentials for Vertex AI if you switch to it."
      ]
    },
    {
      "cell_type": "code",
      "execution_count": 14,
      "metadata": {
        "id": "ec96b00bb67f"
      },
      "outputs": [],
      "source": [
        "# Initialize Gemini API in Google AI Studio via LangChain\n",
        "model = ChatGoogleGenerativeAI(model=MODEL_ID, temperature=0)\n",
        "\n",
        "# Initialize Gemini API in Vertex AI via LangChain\n",
        "# model = ChatVertexAI(model=\"gemini-1.5-pro-002\", temperature=0)\n",
        "\n",
        "# Initialize Tavily client for performing web searches\n",
        "tavily = TavilyClient()"
      ]
    },
    {
      "cell_type": "markdown",
      "metadata": {
        "id": "d94dc64d3846"
      },
      "source": [
        "### Define prompt templates for each stage"
      ]
    },
    {
      "cell_type": "code",
      "execution_count": 15,
      "metadata": {
        "id": "2cc6f9b05d29"
      },
      "outputs": [],
      "source": [
        "PLAN_PROMPT = \"\"\"You are an expert writer tasked with writing a high level outline of an essay.\n",
        "Write such an outline for the user provided topic. Give an outline of the essay along with any\n",
        "relevant notes or instructions for the sections.\"\"\"\n",
        "\n",
        "WRITER_PROMPT = \"\"\"You are an essay assistant tasked with writing excellent 3-paragraph essays.\n",
        "Generate the best essay possible for the user's request and the initial outline.\n",
        "If the user provides critique, respond with a revised version of your previous attempts.\n",
        "Use Markdown formatting to specify a title and section headers for each paragraph.\n",
        "Utilize all of the information below as needed:\n",
        "---\n",
        "{content}\"\"\"\n",
        "\n",
        "REFLECTION_PROMPT = \"\"\"You are a teacher grading an essay submission.\n",
        "Generate critique and recommendations for the user's submission.\n",
        "Provide detailed recommendations, including requests for length, depth, style, etc.\"\"\"\n",
        "\n",
        "RESEARCH_PLAN_PROMPT = \"\"\"You are a researcher charged with providing information that can\n",
        "be used when writing the following essay. Generate a list of search queries that will gather\n",
        "any relevant information. Only generate 3 queries max.\"\"\"\n",
        "\n",
        "RESEARCH_CRITIQUE_PROMPT = \"\"\"You are a researcher charged with providing information that can\n",
        "be used when making any requested revisions (as outlined below).\n",
        "Generate a list of search queries that will gather any relevant information.\n",
        "Only generate 3 queries max.\"\"\""
      ]
    },
    {
      "cell_type": "markdown",
      "metadata": {
        "id": "c4f51c668222"
      },
      "source": [
        "### Define node functions for each stage"
      ]
    },
    {
      "cell_type": "code",
      "execution_count": 16,
      "metadata": {
        "id": "75c8d7021369"
      },
      "outputs": [],
      "source": [
        "# Generate an outline for the essay\n",
        "\n",
        "\n",
        "def plan_node(state: AgentState):\n",
        "    messages = [SystemMessage(content=PLAN_PROMPT), HumanMessage(content=state[\"task\"])]\n",
        "    response = model.invoke(messages)\n",
        "    return {\"plan\": response.content}\n",
        "\n",
        "\n",
        "# Conducts research based on the generated plan and web search results\n",
        "def research_plan_node(state: AgentState):\n",
        "    queries = model.with_structured_output(Queries).invoke(\n",
        "        [\n",
        "            SystemMessage(content=RESEARCH_PLAN_PROMPT),\n",
        "            HumanMessage(content=state[\"task\"]),\n",
        "        ]\n",
        "    )\n",
        "    content = state[\"content\"] or []\n",
        "    for q in queries.queries:\n",
        "        response = tavily.search(query=q, max_results=2)\n",
        "        for r in response[\"results\"]:\n",
        "            content.append(r[\"content\"])\n",
        "    return {\"content\": content}\n",
        "\n",
        "\n",
        "# Generates a draft based on the content and plan\n",
        "def generation_node(state: AgentState):\n",
        "    content = \"\\n\\n\".join(state[\"content\"] or [])\n",
        "    user_message = HumanMessage(\n",
        "        content=f\"{state['task']}\\n\\nHere is my plan:\\n\\n{state['plan']}\"\n",
        "    )\n",
        "    messages = [\n",
        "        SystemMessage(content=WRITER_PROMPT.format(content=content)),\n",
        "        user_message,\n",
        "    ]\n",
        "    response = model.invoke(messages)\n",
        "    return {\n",
        "        \"draft\": response.content,\n",
        "        \"revision_number\": state.get(\"revision_number\", 1) + 1,\n",
        "    }\n",
        "\n",
        "\n",
        "# Provides feedback or critique on the draft\n",
        "def reflection_node(state: AgentState):\n",
        "    messages = [\n",
        "        SystemMessage(content=REFLECTION_PROMPT),\n",
        "        HumanMessage(content=state[\"draft\"]),\n",
        "    ]\n",
        "    response = model.invoke(messages)\n",
        "    return {\"critique\": response.content}\n",
        "\n",
        "\n",
        "# Conducts research based on the critique\n",
        "def research_critique_node(state: AgentState):\n",
        "    queries = model.with_structured_output(Queries).invoke(\n",
        "        [\n",
        "            SystemMessage(content=RESEARCH_CRITIQUE_PROMPT),\n",
        "            HumanMessage(content=state[\"critique\"]),\n",
        "        ]\n",
        "    )\n",
        "    content = state[\"content\"] or []\n",
        "    for q in queries.queries:\n",
        "        response = tavily.search(query=q, max_results=2)\n",
        "        for r in response[\"results\"]:\n",
        "            content.append(r[\"content\"])\n",
        "    return {\"content\": content}\n",
        "\n",
        "\n",
        "# Determines whether the critique and research cycle should\n",
        "# continue based on the number of revisions\n",
        "def should_continue(state):\n",
        "    if state[\"revision_number\"] > state[\"max_revisions\"]:\n",
        "        return END\n",
        "    return \"reflect\""
      ]
    },
    {
      "cell_type": "markdown",
      "metadata": {
        "id": "48569416595a"
      },
      "source": [
        "### Define and compile the graph"
      ]
    },
    {
      "cell_type": "code",
      "execution_count": 17,
      "metadata": {
        "id": "86567ad87aa2"
      },
      "outputs": [],
      "source": [
        "# Initialize the state graph\n",
        "builder = StateGraph(AgentState)\n",
        "\n",
        "# Add nodes for each step in the workflow\n",
        "builder.add_node(\"planner\", plan_node)\n",
        "builder.add_node(\"generate\", generation_node)\n",
        "builder.add_node(\"reflect\", reflection_node)\n",
        "builder.add_node(\"research_plan\", research_plan_node)\n",
        "builder.add_node(\"research_critique\", research_critique_node)\n",
        "\n",
        "# Set the entry point of the workflow\n",
        "builder.set_entry_point(\"planner\")\n",
        "\n",
        "# Add conditional edges for task continuation or end\n",
        "builder.add_conditional_edges(\n",
        "    \"generate\", should_continue, {END: END, \"reflect\": \"reflect\"}\n",
        ")\n",
        "\n",
        "# Define task sequence edges\n",
        "builder.add_edge(\"planner\", \"research_plan\")\n",
        "builder.add_edge(\"research_plan\", \"generate\")\n",
        "\n",
        "builder.add_edge(\"reflect\", \"research_critique\")\n",
        "builder.add_edge(\"research_critique\", \"generate\")\n",
        "\n",
        "# Compile the graph with memory state management\n",
        "graph = builder.compile(checkpointer=memory)"
      ]
    },
    {
      "cell_type": "markdown",
      "metadata": {
        "id": "44d87b0a2052"
      },
      "source": [
        "### Show the compiled graph"
      ]
    },
    {
      "cell_type": "code",
      "execution_count": null,
      "metadata": {
        "id": "9c3170874384"
      },
      "outputs": [],
      "source": [
        "Image(graph.get_graph().draw_mermaid_png())"
      ]
    },
    {
      "cell_type": "markdown",
      "metadata": {
        "id": "c95bebc7e74c"
      },
      "source": [
        "### Run the agent - write on!"
      ]
    },
    {
      "cell_type": "code",
      "execution_count": 27,
      "metadata": {
        "id": "2a849843b454"
      },
      "outputs": [
        {
          "data": {
            "text/markdown": [
              "# planner"
            ],
            "text/plain": [
              "<IPython.core.display.Markdown object>"
            ]
          },
          "metadata": {},
          "output_type": "display_data"
        },
        {
          "data": {
            "text/markdown": [
              "Okay, here's a high-level outline for an essay discussing the impacts of hypothetical Hurricanes Helene and Milton in 2024. Since these are not real hurricanes, we'll need to approach this as a hypothetical scenario, drawing on our knowledge of typical hurricane impacts and using plausible locations and intensities.\n",
              "\n",
              "**Essay Title (Example):** Hypothetical Havoc: Analyzing the Potential Impacts of Hurricanes Helene and Milton in 2024\n",
              "\n",
              "**I. Introduction**\n",
              "\n",
              "*   **A. Hook:** Start with a compelling statement about the power and potential devastation of hurricanes, perhaps referencing a recent real-world example.\n",
              "*   **B. Background:** Briefly introduce the concept of hurricanes, their formation, and the general categories of impacts (wind, rain, storm surge, etc.).\n",
              "*   **C. Thesis Statement:** Clearly state the essay's purpose: to analyze the *potential* impacts of two hypothetical hurricanes, Helene and Milton, in 2024, considering their plausible paths and intensities.\n",
              "    *   **Note:** The thesis should emphasize the hypothetical nature of the analysis.\n",
              "\n",
              "**II. Hurricane Helene: A Hypothetical Scenario**\n",
              "\n",
              "*   **A. Hypothetical Track and Intensity:**\n",
              "    *   Describe a plausible track for Hurricane Helene. For example, it could be a storm that forms in the Atlantic and impacts the southeastern US coast.\n",
              "    *   Specify the hypothetical intensity (e.g., Category 3) and the timing of landfall.\n",
              "    *   **Note:** Be specific about the location and intensity to allow for a focused discussion of impacts.\n",
              "*   **B. Potential Impacts of Hurricane Helene:**\n",
              "    *   **1. Wind Damage:**\n",
              "        *   Discuss the potential for structural damage to buildings, downed trees, and power outages based on the hypothetical intensity.\n",
              "        *   Consider the vulnerability of the specific region you've chosen.\n",
              "    *   **2. Rainfall and Flooding:**\n",
              "        *   Analyze the potential for inland flooding due to heavy rainfall.\n",
              "        *   Discuss the impact on rivers, streams, and low-lying areas.\n",
              "    *   **3. Storm Surge:**\n",
              "        *   Describe the potential for coastal flooding due to storm surge, considering the coastline's topography.\n",
              "        *   Discuss the impact on coastal communities and infrastructure.\n",
              "    *   **4. Socioeconomic Impacts:**\n",
              "        *   Discuss potential disruptions to transportation, businesses, and daily life.\n",
              "        *   Consider the potential for displacement and the need for emergency services.\n",
              "    *   **5. Environmental Impacts:**\n",
              "        *   Discuss potential impacts on ecosystems, such as coastal erosion, damage to wetlands, and harm to wildlife.\n",
              "    *   **Note:** Use specific examples and details to make the impacts more vivid and realistic.\n",
              "\n",
              "**III. Hurricane Milton: A Hypothetical Scenario**\n",
              "\n",
              "*   **A. Hypothetical Track and Intensity:**\n",
              "    *   Describe a plausible track for Hurricane Milton. For example, it could be a storm that forms in the Gulf of Mexico and impacts the Texas or Louisiana coast.\n",
              "    *   Specify the hypothetical intensity (e.g., Category 2) and the timing of landfall.\n",
              "    *   **Note:** Choose a different location and intensity than Helene to allow for a comparison of impacts.\n",
              "*   **B. Potential Impacts of Hurricane Milton:**\n",
              "    *   **1. Wind Damage:**\n",
              "        *   Discuss the potential for structural damage, downed trees, and power outages based on the hypothetical intensity.\n",
              "    *   **2. Rainfall and Flooding:**\n",
              "        *   Analyze the potential for inland flooding due to heavy rainfall.\n",
              "    *   **3. Storm Surge:**\n",
              "        *   Describe the potential for coastal flooding due to storm surge.\n",
              "    *   **4. Socioeconomic Impacts:**\n",
              "        *   Discuss potential disruptions to transportation, businesses, and daily life.\n",
              "    *   **5. Environmental Impacts:**\n",
              "        *   Discuss potential impacts on ecosystems.\n",
              "    *   **Note:** Focus on the unique aspects of Milton's impacts based on its location and intensity.\n",
              "\n",
              "**IV. Comparison of Impacts**\n",
              "\n",
              "*   **A. Contrasting the Two Hurricanes:**\n",
              "    *   Compare and contrast the potential impacts of Helene and Milton, highlighting the differences in their effects based on their tracks, intensities, and the regions they impacted.\n",
              "    *   Discuss which hurricane might have caused more overall damage and why.\n",
              "*   **B. Factors Influencing Impact:**\n",
              "    *   Discuss the factors that influence the severity of hurricane impacts, such as population density, infrastructure, and preparedness measures.\n",
              "    *   Consider how these factors might have played a role in the hypothetical scenarios.\n",
              "\n",
              "**V. Conclusion**\n",
              "\n",
              "*   **A. Summary of Findings:** Briefly summarize the potential impacts of both hypothetical hurricanes.\n",
              "*   **B. Broader Implications:** Discuss the importance of hurricane preparedness and the need for effective disaster response strategies.\n",
              "*   **C. Final Thought:** End with a thought-provoking statement about the ongoing threat of hurricanes and the importance of understanding their potential impacts.\n",
              "    *   **Note:** The conclusion should reinforce the hypothetical nature of the analysis while emphasizing the real-world relevance of the topic.\n",
              "\n",
              "**General Notes:**\n",
              "\n",
              "*   **Hypothetical Nature:** Throughout the essay, emphasize that you are discussing *potential* impacts based on hypothetical scenarios.\n",
              "*   **Real-World Examples:** Use real-world examples of past hurricanes to illustrate the types of impacts you are discussing.\n",
              "*   **Data and Research:** While this is a hypothetical scenario, you can still use real data on hurricane tracks, intensities, and impacts to make your analysis more credible.\n",
              "*   **Clarity and Organization:** Ensure that your essay is well-organized, with clear transitions between sections and paragraphs.\n",
              "*   **Tone:** Maintain a formal and objective tone throughout the essay.\n",
              "\n",
              "This outline should provide a solid framework for your essay. Remember to be specific and detailed in your analysis, and to always emphasize the hypothetical nature of the scenarios you are discussing. Good luck!"
            ],
            "text/plain": [
              "<IPython.core.display.Markdown object>"
            ]
          },
          "metadata": {},
          "output_type": "display_data"
        },
        {
          "name": "stdout",
          "output_type": "stream",
          "text": [
            "\n",
            "---\n",
            "\n"
          ]
        },
        {
          "data": {
            "text/markdown": [
              "# research_plan"
            ],
            "text/plain": [
              "<IPython.core.display.Markdown object>"
            ]
          },
          "metadata": {},
          "output_type": "display_data"
        },
        {
          "data": {
            "text/markdown": [
              "HURRICANE HELENE Post-Storm Summary Report Prepared by Emily Powell, Florida Climate Center October 7, 2024 Hurricane Helene caused catastrophic damage across the Southeast U.S. in parts of Florida, Georgia, North and South Carolina, and Tennessee. As the storm moved inland, it maintained hurricane-force wind speeds into Georgia where it caused major wind damage and eventually produced torrential rainfall and flooding in western North Carolina and eastern Tennessee, devastating towns throughout the region. Peak Winds and Water Levels Tropical storm force winds were observed across a large area of Florida far from the storm’s center, and peak wind gusts over 90 mph were observed in areas directly in the storm’s path in Taylor, Jefferson, and Madison Counties."
            ],
            "text/plain": [
              "<IPython.core.display.Markdown object>"
            ]
          },
          "metadata": {},
          "output_type": "display_data"
        },
        {
          "data": {
            "text/markdown": [
              "Near Perry, Florida, power flashes were seen as Hurricane Helene downed power lines on September 26, 2024. SVC/Simon Brewer Juston Drake High winds and storm surge caused bridges to close in the"
            ],
            "text/plain": [
              "<IPython.core.display.Markdown object>"
            ]
          },
          "metadata": {},
          "output_type": "display_data"
        },
        {
          "data": {
            "text/markdown": [
              "Hurricane Milton was an extremely powerful and destructive tropical cyclone which became the second-most intense Atlantic hurricane ever recorded ... and caused widespread flooding in Florida. As of October 21, 2024, Hurricane Milton killed at least 35 people: 32 in the United States and three in Mexico. ... Due to the combined impacts of"
            ],
            "text/plain": [
              "<IPython.core.display.Markdown object>"
            ]
          },
          "metadata": {},
          "output_type": "display_data"
        },
        {
          "data": {
            "text/markdown": [
              "Tornado - Fort PierceSt Lucie CountyDate10/09/2024Time (Local)4:14 PM - 4:24 PMEF RatingEF-1Est. Peak Winds95 mphPath Length6.75 milesMax Width150 yardsInjuries/Deaths0 / 0Summary:An EF-1 tornado touched down near the Belcher Canal in Fort Pierce, causing vegetative damage and partial roof loss near St. Lucie Blvd and N 25th St. The tornado continued northwest across Treasure Coast International Airport, where several small planes were tossed and recorded gusts of 60 mph. Tornado - Palm City and Port St. LucieSt. Lucie and Indian River CountiesDate10/09/2024Time (EDT)5:00 PM - 5:50 PMEF RatingEF-2Est. Peak Winds125 mphPath Length31.6 milesMax Width300 yardsInjuries/Deaths0 / 0 Summary:A long-tracked tornado moved across the Palm Beach and Martin County lines producing scattered instances of residential and vegetative damage as it moved near and parallel to Citrus Blvd."
            ],
            "text/plain": [
              "<IPython.core.display.Markdown object>"
            ]
          },
          "metadata": {},
          "output_type": "display_data"
        },
        {
          "data": {
            "text/markdown": [
              "Florida was hit by three different hurricanes: Debby, Helene and Milton. The extremely active 2024 Atlantic Hurricane Season is coming to an end and it is time to take a look back at Helene, Milton and all of the other hurricanes and tropical storms that were in the news this year. Debris from Hurricane Helene lines a street in the Redington Beach section of St. Petersburg, Florida, on October 8, 2024, ahead of Hurricane Milton's expected landfall. J​an Childs, who you'll see writing a large chunk of our news updates here at weather.com, recently traveled back to her hometown on Anna Maria Island, south of Tampa Bay. Three storms - Debby, Helene and Milton - all caused damage."
            ],
            "text/plain": [
              "<IPython.core.display.Markdown object>"
            ]
          },
          "metadata": {},
          "output_type": "display_data"
        },
        {
          "data": {
            "text/markdown": [
              "Florida hurricanes: Debby, Helene, Milton tie record for landfalls HURRICANE Florida just ties record with 3 hurricanes making landfall in single year Hurricane Milton become the third hurricane to make landfall in Florida in 2024 Three hurricanes, THREE!, have made landfall in the state this hurricane season. Florida hurricanes: 3 hurricanes have made landfall in 2024 Hurricane Milton become the third hurricane to make landfall in Florida in 2024. This year is now tied with 1871, 1886, 1964, 2004 and 2005 for the most Florida landfalling hurricanes on record in a single season, according to Philip Klotzbach, meteorologist at Colorado State University specializing in Atlantic basin seasonal hurricane forecasts. There were six Gulf hurricanes that made landfall in 1886."
            ],
            "text/plain": [
              "<IPython.core.display.Markdown object>"
            ]
          },
          "metadata": {},
          "output_type": "display_data"
        },
        {
          "name": "stdout",
          "output_type": "stream",
          "text": [
            "\n",
            "---\n",
            "\n"
          ]
        },
        {
          "data": {
            "text/markdown": [
              "# generate"
            ],
            "text/plain": [
              "<IPython.core.display.Markdown object>"
            ]
          },
          "metadata": {},
          "output_type": "display_data"
        },
        {
          "data": {
            "text/markdown": [
              "Okay, here's a 3-paragraph essay based on the provided information and your outline, focusing on the impacts of Hurricanes Helene and Milton in 2024.\n",
              "\n",
              "### The Devastating Impacts of Hurricanes Helene and Milton in 2024\n",
              "\n",
              "#### Hurricane Helene's Destructive Path\n",
              "Hurricane Helene made landfall in Florida as a major hurricane, bringing with it catastrophic damage across the Southeast U.S. The storm's powerful winds, with gusts exceeding 90 mph, caused widespread destruction in Taylor, Jefferson, and Madison Counties, downing power lines and leaving many without electricity. As Helene moved inland, it maintained hurricane-force winds into Georgia, causing significant wind damage before unleashing torrential rainfall and severe flooding in western North Carolina and eastern Tennessee. The storm's impact was not limited to wind and rain; the storm surge caused bridges to close and inundated coastal communities, further exacerbating the devastation.\n",
              "\n",
              "#### Hurricane Milton's Record-Breaking Intensity\n",
              "Hurricane Milton, the second-most intense Atlantic hurricane ever recorded, also made landfall in Florida, causing widespread flooding and claiming at least 32 lives in the United States. The combined impacts of Milton's intense winds and heavy rainfall led to significant damage across the state. The storm's record-breaking intensity resulted in severe flooding, which displaced residents and caused extensive property damage. The sheer power of Milton, coupled with the damage already inflicted by Helene, made the 2024 hurricane season particularly devastating for Florida.\n",
              "\n",
              "#### A Season of Unprecedented Landfalls\n",
              "The 2024 Atlantic hurricane season was marked by an unprecedented number of landfalls in Florida, with Hurricanes Debby, Helene, and Milton all making landfall in the state. This tied the record for the most Florida landfalling hurricanes in a single season, a record previously held by the years 1871, 1886, 1964, 2004, and 2005. The cumulative effect of these storms left a trail of destruction, with debris lining streets and communities struggling to recover. The back-to-back impacts of Helene and Milton, in particular, highlighted the vulnerability of the region to extreme weather events and the urgent need for effective disaster preparedness and response strategies."
            ],
            "text/plain": [
              "<IPython.core.display.Markdown object>"
            ]
          },
          "metadata": {},
          "output_type": "display_data"
        },
        {
          "data": {
            "text/markdown": [
              "**Revision Number**: 2"
            ],
            "text/plain": [
              "<IPython.core.display.Markdown object>"
            ]
          },
          "metadata": {},
          "output_type": "display_data"
        },
        {
          "name": "stdout",
          "output_type": "stream",
          "text": [
            "\n",
            "---\n",
            "\n"
          ]
        },
        {
          "data": {
            "text/markdown": [
              "# reflect"
            ],
            "text/plain": [
              "<IPython.core.display.Markdown object>"
            ]
          },
          "metadata": {},
          "output_type": "display_data"
        },
        {
          "data": {
            "text/markdown": [
              "Okay, here's my critique of your essay, along with recommendations for improvement:\n",
              "\n",
              "**Overall Impression:**\n",
              "\n",
              "Your essay provides a decent overview of the impacts of Hurricanes Helene and Milton in 2024, and it successfully incorporates the information about the record-breaking season. The structure is logical, with each paragraph focusing on a specific aspect of the storms. However, the essay lacks depth and could benefit from more specific details and analysis.\n",
              "\n",
              "**Strengths:**\n",
              "\n",
              "*   **Clear Structure:** The three-paragraph structure is well-organized, with each paragraph focusing on a distinct aspect of the hurricanes and their impact.\n",
              "*   **Good Use of Information:** You've effectively incorporated the provided information about the storms' paths, intensity, and the record-breaking season.\n",
              "*   **Concise Language:** The writing is clear and easy to understand.\n",
              "\n",
              "**Weaknesses and Recommendations:**\n",
              "\n",
              "1.  **Lack of Specificity:**\n",
              "    *   **Issue:** While you mention \"widespread destruction,\" \"significant wind damage,\" and \"severe flooding,\" these terms are vague. You need to provide more concrete examples.\n",
              "    *   **Recommendation:**\n",
              "        *   **Length:** Add 1-2 sentences per paragraph to provide specific examples.\n",
              "        *   **Depth:** Instead of saying \"widespread destruction,\" mention specific types of damage, such as \"roofs torn off buildings,\" \"trees uprooted,\" or \"roads washed away.\" For flooding, mention the depth of the water, specific areas affected, or the number of homes inundated.\n",
              "        *   **Style:** Use more descriptive language to paint a vivid picture of the devastation. For example, instead of \"power lines down,\" try \"power lines snapped like twigs, leaving neighborhoods in darkness.\"\n",
              "2.  **Limited Analysis:**\n",
              "    *   **Issue:** The essay primarily describes the events but doesn't delve into the \"why\" or \"so what.\"\n",
              "    *   **Recommendation:**\n",
              "        *   **Length:** Add 1-2 sentences per paragraph to provide analysis.\n",
              "        *   **Depth:** Consider adding a sentence or two in each paragraph that analyzes the impact of the storm. For example, in the first paragraph, you could mention how the storm's path affected specific communities or industries. In the second paragraph, you could discuss the factors that contributed to Milton's record-breaking intensity. In the third paragraph, you could discuss the long-term consequences of such a devastating season.\n",
              "        *   **Style:** Use analytical language. For example, instead of just stating that the season was devastating, you could say, \"The unprecedented number of landfalls in Florida exposed the state's vulnerability to climate change-related extreme weather events.\"\n",
              "3.  **Limited Scope:**\n",
              "    *   **Issue:** The essay focuses primarily on the physical damage and doesn't touch on other important impacts.\n",
              "    *   **Recommendation:**\n",
              "        *   **Length:** Add 1-2 sentences to the third paragraph.\n",
              "        *   **Depth:** Consider briefly mentioning the economic impact (e.g., cost of repairs, business disruptions), the social impact (e.g., displacement of families, mental health challenges), or the environmental impact (e.g., pollution, habitat destruction).\n",
              "        *   **Style:** Use language that acknowledges the broader consequences of the storms. For example, \"Beyond the immediate physical damage, the storms left a lasting impact on the region's economy and the well-being of its residents.\"\n",
              "4.  **Conclusion:**\n",
              "    *   **Issue:** The final sentence is a bit weak and doesn't provide a strong sense of closure.\n",
              "    *   **Recommendation:**\n",
              "        *   **Length:** Add 1-2 sentences to the end of the third paragraph.\n",
              "        *   **Depth:** Instead of just stating the need for preparedness, you could briefly suggest specific actions or strategies that could be implemented.\n",
              "        *   **Style:** Use a more impactful concluding statement. For example, \"The 2024 hurricane season serves as a stark reminder of the urgent need for proactive disaster preparedness, robust infrastructure, and community resilience to mitigate the devastating impacts of future extreme weather events.\"\n",
              "\n",
              "**Revised Recommendations Summary:**\n",
              "\n",
              "*   **Length:** Aim to add 4-6 sentences to the essay, distributed across the three paragraphs.\n",
              "*   **Depth:** Provide more specific examples of the damage caused by the storms. Analyze the impacts of the storms, going beyond just describing the events. Briefly touch on the economic, social, and environmental impacts.\n",
              "*   **Style:** Use more descriptive language to paint a vivid picture of the devastation. Use analytical language to discuss the causes and consequences of the storms. Use a more impactful concluding statement.\n",
              "\n",
              "**Example of How to Incorporate Recommendations:**\n",
              "\n",
              "Here's an example of how you could revise the first paragraph:\n",
              "\n",
              "> **Original:** Hurricane Helene made landfall in Florida as a major hurricane, bringing with it catastrophic damage across the Southeast U.S. The storm's powerful winds, with gusts exceeding 90 mph, caused widespread destruction in Taylor, Jefferson, and Madison Counties, downing power lines and leaving many without electricity. As Helene moved inland, it maintained hurricane-force winds into Georgia, causing significant wind damage before unleashing torrential rainfall and severe flooding in western North Carolina and eastern Tennessee. The storm's impact was not limited to wind and rain; the storm surge caused bridges to close and inundated coastal communities, further exacerbating the devastation.\n",
              "\n",
              "> **Revised:** Hurricane Helene slammed into Florida as a major hurricane, unleashing catastrophic damage across the Southeast U.S. The storm's powerful winds, with gusts exceeding 90 mph, ripped roofs off homes, uprooted ancient oak trees, and snapped power lines like twigs, leaving entire neighborhoods in darkness across Taylor, Jefferson, and Madison Counties. As Helene moved inland, it maintained hurricane-force winds into Georgia, causing significant wind damage to agricultural fields and infrastructure before unleashing torrential rainfall and severe flooding in western North Carolina and eastern Tennessee, where rivers swelled to record levels, inundating homes and businesses. The storm surge, which reached heights of 10 feet in some areas, caused bridges to close and inundated coastal communities, further exacerbating the devastation and disrupting vital transportation routes.\n",
              "\n",
              "By incorporating these recommendations, you can elevate your essay from a basic summary to a more insightful and impactful analysis of the devastating impacts of Hurricanes Helene and Milton in 2024. Let me know if you'd like further clarification or assistance!"
            ],
            "text/plain": [
              "<IPython.core.display.Markdown object>"
            ]
          },
          "metadata": {},
          "output_type": "display_data"
        },
        {
          "name": "stdout",
          "output_type": "stream",
          "text": [
            "\n",
            "---\n",
            "\n"
          ]
        },
        {
          "data": {
            "text/markdown": [
              "# research_critique"
            ],
            "text/plain": [
              "<IPython.core.display.Markdown object>"
            ]
          },
          "metadata": {},
          "output_type": "display_data"
        },
        {
          "data": {
            "text/markdown": [
              "HURRICANE HELENE Post-Storm Summary Report Prepared by Emily Powell, Florida Climate Center October 7, 2024 Hurricane Helene caused catastrophic damage across the Southeast U.S. in parts of Florida, Georgia, North and South Carolina, and Tennessee. As the storm moved inland, it maintained hurricane-force wind speeds into Georgia where it caused major wind damage and eventually produced torrential rainfall and flooding in western North Carolina and eastern Tennessee, devastating towns throughout the region. Peak Winds and Water Levels Tropical storm force winds were observed across a large area of Florida far from the storm’s center, and peak wind gusts over 90 mph were observed in areas directly in the storm’s path in Taylor, Jefferson, and Madison Counties."
            ],
            "text/plain": [
              "<IPython.core.display.Markdown object>"
            ]
          },
          "metadata": {},
          "output_type": "display_data"
        },
        {
          "data": {
            "text/markdown": [
              "Near Perry, Florida, power flashes were seen as Hurricane Helene downed power lines on September 26, 2024. SVC/Simon Brewer Juston Drake High winds and storm surge caused bridges to close in the"
            ],
            "text/plain": [
              "<IPython.core.display.Markdown object>"
            ]
          },
          "metadata": {},
          "output_type": "display_data"
        },
        {
          "data": {
            "text/markdown": [
              "Hurricane Milton was an extremely powerful and destructive tropical cyclone which became the second-most intense Atlantic hurricane ever recorded ... and caused widespread flooding in Florida. As of October 21, 2024, Hurricane Milton killed at least 35 people: 32 in the United States and three in Mexico. ... Due to the combined impacts of"
            ],
            "text/plain": [
              "<IPython.core.display.Markdown object>"
            ]
          },
          "metadata": {},
          "output_type": "display_data"
        },
        {
          "data": {
            "text/markdown": [
              "Tornado - Fort PierceSt Lucie CountyDate10/09/2024Time (Local)4:14 PM - 4:24 PMEF RatingEF-1Est. Peak Winds95 mphPath Length6.75 milesMax Width150 yardsInjuries/Deaths0 / 0Summary:An EF-1 tornado touched down near the Belcher Canal in Fort Pierce, causing vegetative damage and partial roof loss near St. Lucie Blvd and N 25th St. The tornado continued northwest across Treasure Coast International Airport, where several small planes were tossed and recorded gusts of 60 mph. Tornado - Palm City and Port St. LucieSt. Lucie and Indian River CountiesDate10/09/2024Time (EDT)5:00 PM - 5:50 PMEF RatingEF-2Est. Peak Winds125 mphPath Length31.6 milesMax Width300 yardsInjuries/Deaths0 / 0 Summary:A long-tracked tornado moved across the Palm Beach and Martin County lines producing scattered instances of residential and vegetative damage as it moved near and parallel to Citrus Blvd."
            ],
            "text/plain": [
              "<IPython.core.display.Markdown object>"
            ]
          },
          "metadata": {},
          "output_type": "display_data"
        },
        {
          "data": {
            "text/markdown": [
              "Florida was hit by three different hurricanes: Debby, Helene and Milton. The extremely active 2024 Atlantic Hurricane Season is coming to an end and it is time to take a look back at Helene, Milton and all of the other hurricanes and tropical storms that were in the news this year. Debris from Hurricane Helene lines a street in the Redington Beach section of St. Petersburg, Florida, on October 8, 2024, ahead of Hurricane Milton's expected landfall. J​an Childs, who you'll see writing a large chunk of our news updates here at weather.com, recently traveled back to her hometown on Anna Maria Island, south of Tampa Bay. Three storms - Debby, Helene and Milton - all caused damage."
            ],
            "text/plain": [
              "<IPython.core.display.Markdown object>"
            ]
          },
          "metadata": {},
          "output_type": "display_data"
        },
        {
          "data": {
            "text/markdown": [
              "Florida hurricanes: Debby, Helene, Milton tie record for landfalls HURRICANE Florida just ties record with 3 hurricanes making landfall in single year Hurricane Milton become the third hurricane to make landfall in Florida in 2024 Three hurricanes, THREE!, have made landfall in the state this hurricane season. Florida hurricanes: 3 hurricanes have made landfall in 2024 Hurricane Milton become the third hurricane to make landfall in Florida in 2024. This year is now tied with 1871, 1886, 1964, 2004 and 2005 for the most Florida landfalling hurricanes on record in a single season, according to Philip Klotzbach, meteorologist at Colorado State University specializing in Atlantic basin seasonal hurricane forecasts. There were six Gulf hurricanes that made landfall in 1886."
            ],
            "text/plain": [
              "<IPython.core.display.Markdown object>"
            ]
          },
          "metadata": {},
          "output_type": "display_data"
        },
        {
          "data": {
            "text/markdown": [
              "By the morning of September 26, 2024 thousands in the Tampa Bay Area were experiencing power outages.[125] Wind gusts reached 64 mph (103 km/h) in Fort Lauderdale and 67 mph (108 km/h) in Naples.[126] Storm surges in Steinhatchee reached 9.63 feet (2.94 m).[127] Key West experienced storm surge of 1 to 3 feet (0.30 to 0.91 m).[128] Storm surges reached 9.5 feet (2.9 m) in Steinhatchee before the storm surge meter stopped recording, with heights reaching 7.18 feet (2.19 m) in Tampa.[129] About 1.3 million people lost power in the state.[130] The Stan Gober Memorial Bridge shut down due to flooding, and all sporting events in Collier County on September 27 were cancelled.[131]"
            ],
            "text/plain": [
              "<IPython.core.display.Markdown object>"
            ]
          },
          "metadata": {},
          "output_type": "display_data"
        },
        {
          "data": {
            "text/markdown": [
              "Near Perry, Florida, power flashes were seen as Hurricane Helene downed power lines on September 26, 2024. SVC/Simon Brewer Juston Drake High winds and storm surge caused bridges to close in the"
            ],
            "text/plain": [
              "<IPython.core.display.Markdown object>"
            ]
          },
          "metadata": {},
          "output_type": "display_data"
        },
        {
          "data": {
            "text/markdown": [
              "Hurricane Milton was an extremely powerful and destructive tropical cyclone which became the second-most intense Atlantic hurricane ever recorded ... and caused widespread flooding in Florida. As of October 21, 2024, Hurricane Milton killed at least 35 people: 32 in the United States and three in Mexico. ... Due to the combined impacts of"
            ],
            "text/plain": [
              "<IPython.core.display.Markdown object>"
            ]
          },
          "metadata": {},
          "output_type": "display_data"
        },
        {
          "data": {
            "text/markdown": [
              "Tornado - Fort PierceSt Lucie CountyDate10/09/2024Time (Local)4:14 PM - 4:24 PMEF RatingEF-1Est. Peak Winds95 mphPath Length6.75 milesMax Width150 yardsInjuries/Deaths0 / 0Summary:An EF-1 tornado touched down near the Belcher Canal in Fort Pierce, causing vegetative damage and partial roof loss near St. Lucie Blvd and N 25th St. The tornado continued northwest across Treasure Coast International Airport, where several small planes were tossed and recorded gusts of 60 mph. Tornado - Palm City and Port St. LucieSt. Lucie and Indian River CountiesDate10/09/2024Time (EDT)5:00 PM - 5:50 PMEF RatingEF-2Est. Peak Winds125 mphPath Length31.6 milesMax Width300 yardsInjuries/Deaths0 / 0 Summary:A long-tracked tornado moved across the Palm Beach and Martin County lines producing scattered instances of residential and vegetative damage as it moved near and parallel to Citrus Blvd."
            ],
            "text/plain": [
              "<IPython.core.display.Markdown object>"
            ]
          },
          "metadata": {},
          "output_type": "display_data"
        },
        {
          "data": {
            "text/markdown": [
              "1. Damages from 2024 hurricane season estimated at $500 billion. This year's Atlantic hurricane season caused an estimated $500 billion in damage and economic losses, according to AccuWeather. \"For perspective, this would equate to nearly 2% of the nation's gross domestic product,\" said AccuWeather Chief Meteorologist Jon Porter."
            ],
            "text/plain": [
              "<IPython.core.display.Markdown object>"
            ]
          },
          "metadata": {},
          "output_type": "display_data"
        },
        {
          "data": {
            "text/markdown": [
              "Social, Political, Economic and Environmental Issues That Affect Us All. Search this site Search. Get free updates via. Email; ... The 2024 hurricane season underscored the alarming trend of increasingly severe storms fueled by the climate crisis. ... with disproportionate impacts highlighting the need to scale up initiatives like the Early"
            ],
            "text/plain": [
              "<IPython.core.display.Markdown object>"
            ]
          },
          "metadata": {},
          "output_type": "display_data"
        },
        {
          "name": "stdout",
          "output_type": "stream",
          "text": [
            "\n",
            "---\n",
            "\n"
          ]
        },
        {
          "data": {
            "text/markdown": [
              "# generate"
            ],
            "text/plain": [
              "<IPython.core.display.Markdown object>"
            ]
          },
          "metadata": {},
          "output_type": "display_data"
        },
        {
          "data": {
            "text/markdown": [
              "Okay, I understand. You're looking for a 3-paragraph essay summarizing the impacts of Hurricanes Helene and Milton in 2024, using the provided documents. Here's my attempt:\n",
              "\n",
              "**Title: The Devastating Impacts of Hurricanes Helene and Milton in 2024**\n",
              "\n",
              "**Paragraph 1: Hurricane Helene's Destructive Path**\n",
              "\n",
              "Hurricane Helene made landfall in Florida on September 26, 2024, bringing widespread damage across the Southeast. The storm maintained hurricane-force winds as it moved inland, causing significant wind damage in Florida, particularly in Taylor, Jefferson, and Madison Counties, where gusts exceeded 90 mph. Power flashes were reported as power lines were downed near Perry, Florida. The storm's impact extended beyond Florida, with torrential rainfall and flooding devastating towns in western North Carolina and eastern Tennessee. Tropical storm-force winds were observed across a large area of Florida, far from the storm's center, demonstrating the storm's expansive reach.\n",
              "\n",
              "**Paragraph 2: Hurricane Milton's Catastrophic Effects**\n",
              "\n",
              "Hurricane Milton, which made landfall later in the season, was an extremely powerful and destructive tropical cyclone, becoming the second-most intense Atlantic hurricane ever recorded. Milton caused widespread flooding in Florida and resulted in at least 35 fatalities, 32 in the United States and 3 in Mexico. The combined impacts of the storm led to significant infrastructure damage and loss of life. The storm surge reached 9.63 feet in Steinhatchee, Florida, before the surge meter stopped recording, and 7.18 feet in Tampa. Approximately 1.3 million people lost power in Florida, and the Stan Gober Memorial Bridge was shut down due to flooding.\n",
              "\n",
              "**Paragraph 3: Combined Impacts and the 2024 Hurricane Season**\n",
              "\n",
              "The 2024 Atlantic hurricane season was exceptionally active, with Hurricanes Debby, Helene, and Milton all making landfall in Florida, tying a record for the most landfalling hurricanes in a single year. The combined damage from these storms, including the two tornadoes that touched down in St. Lucie and Indian River Counties, is estimated at $500 billion. This staggering figure underscores the severity of the season and the immense economic losses incurred. The season highlighted the increasing severity of storms, emphasizing the need for improved preparedness and disaster response strategies."
            ],
            "text/plain": [
              "<IPython.core.display.Markdown object>"
            ]
          },
          "metadata": {},
          "output_type": "display_data"
        },
        {
          "data": {
            "text/markdown": [
              "**Revision Number**: 3"
            ],
            "text/plain": [
              "<IPython.core.display.Markdown object>"
            ]
          },
          "metadata": {},
          "output_type": "display_data"
        },
        {
          "name": "stdout",
          "output_type": "stream",
          "text": [
            "\n",
            "---\n",
            "\n"
          ]
        }
      ],
      "source": [
        "# Define the topic of the essay\n",
        "ESSAY_TOPIC = \"What were the impacts of Hurricane Helene and Hurricane Milton in 2024?\"\n",
        "\n",
        "# Define a thread configuration with a unique thread ID\n",
        "thread = {\"configurable\": {\"thread_id\": \"1\"}}\n",
        "\n",
        "# Stream through the graph execution with an initial task and state\n",
        "for s in graph.stream(\n",
        "    {\n",
        "        \"task\": ESSAY_TOPIC,  # Initial task\n",
        "        \"max_revisions\": 2,  # Maximum number of revisions allowed\n",
        "        \"revision_number\": 1,  # Current revision number\n",
        "        \"content\": [],  # Initial empty content list\n",
        "    },\n",
        "    thread,\n",
        "):\n",
        "    step = next(iter(s))\n",
        "    display(Markdown(f\"# {step}\"))\n",
        "    for key, content in s[step].items():\n",
        "        if key == \"revision_number\":\n",
        "            display(Markdown(f\"**Revision Number**: {content}\"))\n",
        "        elif isinstance(content, list):\n",
        "            for c in content:\n",
        "                display(Markdown(c))\n",
        "        else:\n",
        "            display(Markdown(content))\n",
        "    print(\"\\n---\\n\")"
      ]
    },
    {
      "cell_type": "markdown",
      "metadata": {
        "id": "4c95d0cd7f6a"
      },
      "source": [
        "### Output the final draft of the essay"
      ]
    },
    {
      "cell_type": "code",
      "execution_count": 20,
      "metadata": {
        "id": "e50e674081f2"
      },
      "outputs": [
        {
          "data": {
            "text/markdown": [
              "Okay, I understand. Here's a 3-paragraph essay based on the provided information and your outline, focusing on the impacts of Hurricanes Helene and Milton in 2024.\n",
              "\n",
              "**Title: The Destructive Force of Hurricanes Helene and Milton in 2024**\n",
              "\n",
              "**Paragraph 1: Hurricane Helene's Devastation**\n",
              "\n",
              "Hurricane Helene made its presence known in late September 2024, leaving a trail of destruction across multiple states. The storm's powerful winds, reaching 67 mph in Naples, Florida, caused widespread power outages, leaving 1.3 million people in the dark. Coastal areas were battered by significant storm surges, with Steinhatchee experiencing a surge of 9.63 feet before the recording meter failed, and Tampa seeing surges of 7.18 feet. The Stan Gober Memorial Bridge was shut down due to flooding, and sporting events in Collier County were canceled, highlighting the storm's disruptive force. Beyond Florida, Hurricane Helene also caused severe impacts in North Carolina, particularly in the western Appalachian region, resulting in at least 104 reported deaths and significant damage to infrastructure and residential areas. The storm's path across land into Georgia further exacerbated the damage, demonstrating the widespread reach of a major hurricane.\n",
              "\n",
              "**Paragraph 2: Hurricane Milton's Ferocity**\n",
              "\n",
              "Hurricane Milton, an exceptionally powerful cyclone, struck Florida in October 2024, causing widespread flooding and devastation. It became the second-most intense Atlantic hurricane ever recorded, leaving a trail of destruction that included flattened homes and millions without power. The storm's impact was not limited to wind and flooding; an EF-2 tornado, spawned from Milton's outer rainbands, touched down in Stuart, Florida, causing significant damage to homes and infrastructure. The combined effects of wind, rain, and tornadoes resulted in at least 32 deaths in the United States, with the total death toll reaching 35 when including fatalities in Mexico. The storm's intensity and broad reach underscore the catastrophic potential of major hurricanes.\n",
              "\n",
              "**Paragraph 3: A Season of Unprecedented Storms**\n",
              "\n",
              "The 2024 Atlantic hurricane season was marked by the devastating impacts of both Helene and Milton, contributing to an exceptionally active season that exceeded long-term averages. The combined effects of these storms, along with others, resulted in significant loss of life, widespread property damage, and long-term disruptions to communities. The season's intensity highlights the increasing threat posed by hurricanes, particularly in vulnerable coastal and rural areas. The long-term effects of these weather disasters, including impacts on longevity and disproportionate effects on rural and coastal communities, underscore the need for continued research, preparedness, and effective disaster response strategies.\n",
              "\n",
              "---\n",
              "Let me know if you'd like any revisions or adjustments!"
            ],
            "text/plain": [
              "<IPython.core.display.Markdown object>"
            ]
          },
          "metadata": {},
          "output_type": "display_data"
        }
      ],
      "source": [
        "display(Markdown(s[\"generate\"][\"draft\"]))"
      ]
    },
    {
      "cell_type": "markdown",
      "metadata": {
        "id": "c01d26c8df5b"
      },
      "source": [
        "## Additional Resources\n",
        "\n",
        "- [Google Cloud Generative AI repository on GitHub](https://github.com/GoogleCloudPlatform/generative-ai/)\n",
        "- [Gemini API in Google AI Studio](https://ai.google.dev/gemini-api/docs)\n",
        "- [Gemini API in Vertex AI](https://cloud.google.com/vertex-ai/generative-ai/docs/multimodal/overview)\n",
        "- [LangGraph tutorials](https://langchain-ai.github.io/langgraph/tutorials/)\n",
        "- [DeepLearning.AI course on AI Agents in LangGraph](https://www.deeplearning.ai/short-courses/ai-agents-in-langgraph/)"
      ]
    }
  ],
  "metadata": {
    "colab": {
      "name": "ai_agents_for_engineers.ipynb",
      "toc_visible": true
    },
    "kernelspec": {
      "display_name": "Python 3",
      "name": "python3"
    }
  },
  "nbformat": 4,
  "nbformat_minor": 0
}
