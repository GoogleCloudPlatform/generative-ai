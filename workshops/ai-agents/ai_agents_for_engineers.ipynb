{
  "cells": [
    {
      "cell_type": "code",
      "execution_count": null,
      "metadata": {
        "id": "ur8xi4C7S06n"
      },
      "outputs": [],
      "source": [
        "# Copyright 2024 Google LLC\n",
        "#\n",
        "# Licensed under the Apache License, Version 2.0 (the \"License\");\n",
        "# you may not use this file except in compliance with the License.\n",
        "# You may obtain a copy of the License at\n",
        "#\n",
        "#     https://www.apache.org/licenses/LICENSE-2.0\n",
        "#\n",
        "# Unless required by applicable law or agreed to in writing, software\n",
        "# distributed under the License is distributed on an \"AS IS\" BASIS,\n",
        "# WITHOUT WARRANTIES OR CONDITIONS OF ANY KIND, either express or implied.\n",
        "# See the License for the specific language governing permissions and\n",
        "# limitations under the License."
      ]
    },
    {
      "cell_type": "markdown",
      "metadata": {
        "id": "JAPoU8Sm5E6e"
      },
      "source": [
        "# AI Agents for Engineers (Evolution of AI Agents)\n",
        "\n",
        "<a target=\"_blank\" href=\"https://colab.research.google.com/github/GoogleCloudPlatform/generative-ai/blob/main/workshops/ai-agents/ai_agents_for_engineers.ipynb\">\n",
        "  <img src=\"https://colab.research.google.com/assets/colab-badge.svg\" alt=\"Open In Colab\"/>\n",
        "</a>"
      ]
    },
    {
      "cell_type": "markdown",
      "metadata": {
        "id": "84f0f73a0f76"
      },
      "source": [
        "| | |\n",
        "|-|-|\n",
        "| Author(s) | [Kristopher Overholt](https://github.com/koverholt) [Holt Skinner](https://github.com/holtskinner)|"
      ]
    },
    {
      "cell_type": "markdown",
      "metadata": {
        "id": "tvgnzT1CKxrO"
      },
      "source": [
        "## Overview\n",
        "\n",
        "This notebook demonstrates 3 different approaches to generating essays using the [Gemini API in Google AI Studio](https://ai.google.dev/gemini-api/docs). Each method illustrates a distinct paradigm for running AI Agents in differing levels of complexity.\n",
        "\n",
        "1. Zero-Shot Approach with the Gemini API\n",
        "2. Step-by-Step Approach With LangChain\n",
        "3. Iterative, AI-Agent Approach with LangGraph"
      ]
    },
    {
      "cell_type": "markdown",
      "metadata": {
        "id": "61RBz8LLbxCR"
      },
      "source": [
        "## Get started"
      ]
    },
    {
      "cell_type": "markdown",
      "metadata": {
        "id": "No17Cw5hgx12"
      },
      "source": [
        "### Install Gemini SDK and other required packages\n"
      ]
    },
    {
      "cell_type": "code",
      "execution_count": null,
      "metadata": {
        "id": "tFy3H3aPgx12"
      },
      "outputs": [],
      "source": [
        "%pip install --upgrade --user --quiet \\\n",
        "    google-generativeai \\\n",
        "    langgraph \\\n",
        "    langchain \\\n",
        "    langchain-google-genai \\\n",
        "    # langchain-google-vertexai \\\n",
        "    langchain-community \\\n",
        "    tavily-python \\\n",
        "    pydantic"
      ]
    },
    {
      "cell_type": "markdown",
      "metadata": {
        "id": "R5Xep4W9lq-Z"
      },
      "source": [
        "### Restart runtime\n",
        "\n",
        "To use the newly installed packages in this Jupyter runtime, you must restart the runtime. You can do this by running the cell below, which restarts the current kernel.\n",
        "\n",
        "The restart might take a minute or longer. After it's restarted, continue to the next step."
      ]
    },
    {
      "cell_type": "code",
      "execution_count": null,
      "metadata": {
        "id": "XRvKdaPDTznN"
      },
      "outputs": [],
      "source": [
        "import IPython\n",
        "\n",
        "app = IPython.Application.instance()\n",
        "app.kernel.do_shutdown(True)"
      ]
    },
    {
      "cell_type": "markdown",
      "metadata": {
        "id": "SbmM4z7FOBpM"
      },
      "source": [
        "<div class=\"alert alert-block alert-warning\">\n",
        "<b>⚠️ The kernel is going to restart. Wait until it's finished before continuing to the next step. ⚠️</b>\n",
        "</div>\n"
      ]
    },
    {
      "cell_type": "markdown",
      "metadata": {
        "id": "0781fd4c9001"
      },
      "source": [
        "### Configure API keys\n",
        "\n",
        "Get API keys from [Google AI Studio](https://ai.google.dev/gemini-api/docs/api-key) and [Tavily](https://tavily.com/)."
      ]
    },
    {
      "cell_type": "code",
      "execution_count": 17,
      "metadata": {
        "id": "f2d2ecd0e96d"
      },
      "outputs": [],
      "source": [
        "import os\n",
        "\n",
        "os.environ[\"GOOGLE_API_KEY\"] = \"YOUR_API_KEY_HERE\"\n",
        "os.environ[\"TAVILY_API_KEY\"] = \"YOUR_API_KEY_HERE\""
      ]
    },
    {
      "cell_type": "code",
      "execution_count": 30,
      "metadata": {
        "id": "nvuDx1V6buOQ"
      },
      "outputs": [],
      "source": [
        "# If your API Keys are in Colab Secrets\n",
        "from google.colab import userdata\n",
        "\n",
        "os.environ[\"GOOGLE_API_KEY\"] = userdata.get(\"GOOGLE_API_KEY\")\n",
        "os.environ[\"TAVILY_API_KEY\"] = userdata.get(\"TAVILY_API_KEY\")"
      ]
    },
    {
      "cell_type": "markdown",
      "metadata": {
        "id": "EdvJRUWRNGHE"
      },
      "source": [
        "## Generating Essays Using a Zero-Shot Approach with the Gemini API\n",
        "\n",
        "With just a single call to the `generate_content` method, users can create detailed, structured essays on any topic by leveraging state-of-the-art language models such as Gemini 1.5 Pro or Gemini 1.5 Flash.\n",
        "\n",
        "<img src=\"https://github.com/GoogleCloudPlatform/generative-ai/blob/main/workshops/ai-agents/1-prompt-essay.png?raw=1\" width=\"350px\">"
      ]
    },
    {
      "cell_type": "markdown",
      "metadata": {
        "id": "5303c05f7aa6"
      },
      "source": [
        "### Import libraries"
      ]
    },
    {
      "cell_type": "code",
      "execution_count": 31,
      "metadata": {
        "id": "6fc324893334"
      },
      "outputs": [],
      "source": [
        "from IPython.display import Markdown, display\n",
        "import google.generativeai as genai"
      ]
    },
    {
      "cell_type": "markdown",
      "metadata": {
        "id": "e43229f3ad4f"
      },
      "source": [
        "### Load model"
      ]
    },
    {
      "cell_type": "code",
      "execution_count": 32,
      "metadata": {
        "id": "mbHCTDCLcbZS"
      },
      "outputs": [],
      "source": [
        "genai.configure(api_key=os.environ[\"GOOGLE_API_KEY\"])"
      ]
    },
    {
      "cell_type": "code",
      "execution_count": 33,
      "metadata": {
        "id": "cf93d5f0ce00"
      },
      "outputs": [],
      "source": [
        "model = genai.GenerativeModel(model_name=\"gemini-1.5-pro-002\")"
      ]
    },
    {
      "cell_type": "markdown",
      "metadata": {
        "id": "bbcd4f57190f"
      },
      "source": [
        "### Make an API call to generate the essay"
      ]
    },
    {
      "cell_type": "code",
      "execution_count": 34,
      "metadata": {
        "id": "3734f520c1b3"
      },
      "outputs": [
        {
          "data": {
            "text/markdown": [
              "Modern data centers, the backbone of our digital world, generate tremendous amounts of heat due to the constant operation of servers and other hardware.  Efficient heat transfer is therefore critical not only to maintain optimal operating temperatures for reliable performance but also to minimize energy consumption associated with cooling.  Various heat transfer mechanisms are employed, including conduction, convection, and radiation.  At the component level, heat spreaders and heat sinks utilizing conductive materials like copper and aluminum draw heat away from processors and other heat-generating components.  Forced convection, achieved through fans and sophisticated airflow management systems, then removes this heat from within the server racks.  At the data center level, chilled water cooling systems, often utilizing principles of convection and heat exchangers, dissipate the collected heat to the external environment.\n",
              "\n",
              "Advanced cooling techniques are increasingly crucial as data center power density continues to rise.  Liquid cooling, employing direct-to-chip or immersion cooling methods, offers significantly higher heat transfer efficiency compared to traditional air cooling.  These techniques involve circulating dielectric fluids, which have high thermal conductivity, directly over the heat-generating components or even submerging the servers entirely.  This allows for more effective heat removal, enabling denser packing of hardware and supporting higher performance processors.  Furthermore, waste heat captured from data centers can be repurposed for heating buildings or other industrial processes, increasing overall energy efficiency and promoting sustainability.\n",
              "\n",
              "The ongoing development and implementation of innovative heat transfer solutions are essential for the sustainable growth of the digital economy.  As data centers become larger and more power-hungry, the focus on optimizing heat management will only intensify.  Research into new materials, more efficient cooling fluids, and advanced heat recovery systems will pave the way for greener, more powerful data centers.  Ultimately, effective heat transfer is not just about keeping servers cool, it’s about enabling the continued expansion of our digital world while minimizing its environmental impact.\n"
            ],
            "text/plain": [
              "<IPython.core.display.Markdown object>"
            ]
          },
          "metadata": {},
          "output_type": "display_data"
        }
      ],
      "source": [
        "prompt = \"Write a 3-paragraph essay about the application of heat transfer in modern data centers\"\n",
        "response = model.generate_content([prompt])\n",
        "display(Markdown(response.text))"
      ]
    },
    {
      "cell_type": "markdown",
      "metadata": {
        "id": "520e23ea4332"
      },
      "source": [
        "---\n",
        "\n",
        "However, what if we ask the model to write an essay about an event that happened more recently and the LLM doesn't inherently know about that event?"
      ]
    },
    {
      "cell_type": "code",
      "execution_count": 35,
      "metadata": {
        "id": "dcb775b83997"
      },
      "outputs": [
        {
          "data": {
            "text/markdown": [
              "It is important to clarify that as of October 26, 2023, no Hurricanes Helene or Milton occurred in 2024.  Hurricane season officially ends on November 30th, and it's highly unusual for significant storms to form after October. Therefore, any discussion of the impacts of these fictitious hurricanes would be purely speculative.  To discuss hurricane impacts accurately, it is essential to refer to confirmed meteorological data and official reports following the actual occurrence of such events.  Using imagined scenarios can spread misinformation and create unnecessary anxiety.\n",
              "\n",
              "Instead of focusing on non-existent storms, it is more productive to discuss the potential impacts hurricanes *could* have in general. Coastal regions are particularly vulnerable to the devastating effects of high winds, storm surge, and heavy rainfall. These can lead to widespread property damage, flooding, displacement of populations, and loss of life.  The economic impact can be severe, disrupting industries like tourism, fishing, and agriculture.  Moreover, hurricanes can cause long-term environmental damage, impacting ecosystems and coastal infrastructure.  Preparedness and mitigation efforts are crucial to minimizing the impact of future hurricanes.\n",
              "\n",
              "Looking forward, accurate forecasting and timely warnings are vital for communities to prepare effectively for hurricanes.  Strengthening building codes, investing in resilient infrastructure, and developing comprehensive evacuation plans are crucial steps.  Public awareness campaigns can educate individuals on how to protect themselves and their property.  Furthermore, investing in research and technology to improve hurricane prediction models can enhance our ability to anticipate and respond to these powerful storms, ultimately reducing their impact and saving lives.\n"
            ],
            "text/plain": [
              "<IPython.core.display.Markdown object>"
            ]
          },
          "metadata": {},
          "output_type": "display_data"
        }
      ],
      "source": [
        "prompt = \"Write a 3-paragraph essay about the impacts of Hurricane Helene and Hurricane Milton in 2024.\"\n",
        "response = model.generate_content([prompt])\n",
        "display(Markdown(response.text))"
      ]
    },
    {
      "cell_type": "markdown",
      "metadata": {
        "id": "764ce71aecd5"
      },
      "source": [
        "In this case, the model had no information about these recent events and was unable to write an effective essay."
      ]
    },
    {
      "cell_type": "markdown",
      "metadata": {
        "id": "16aafc60d80b"
      },
      "source": [
        "## Generating Essays Using a Step-by-Step Approach With LangChain\n",
        "\n",
        "This step demonstrates how to build an essay-writing pipeline using [LangChain](https://www.langchain.com/), the [Gemini API in Google AI Studio](https://ai.google.dev/gemini-api/docs), and [Tavily](https://tavily.com/) for search.\n",
        "\n",
        "By combining these tools, we create a seamless workflow that plans an essay outline, performs web searches for relevant information, and generates a complete essay draft based on the collected data.\n",
        "\n",
        "This solution showcases the power of chaining LLM models and external tools to tackle complex tasks with minimal human intervention, providing a robust approach to automated content generation.\n",
        "\n",
        "<img src=\"https://github.com/GoogleCloudPlatform/generative-ai/blob/main/workshops/ai-agents/2-langchain-essay.png?raw=1\" width=\"550px\">\n"
      ]
    },
    {
      "cell_type": "markdown",
      "metadata": {
        "id": "85666976a359"
      },
      "source": [
        "### Import libraries"
      ]
    },
    {
      "cell_type": "code",
      "execution_count": 36,
      "metadata": {
        "id": "29d6e42d27ae"
      },
      "outputs": [],
      "source": [
        "from IPython.display import Markdown, display\n",
        "from langchain import LLMChain\n",
        "from langchain.prompts import ChatPromptTemplate\n",
        "from langchain_community.tools import TavilySearchResults\n",
        "from langchain_core.output_parsers import StrOutputParser\n",
        "from langchain_google_genai import ChatGoogleGenerativeAI"
      ]
    },
    {
      "cell_type": "markdown",
      "metadata": {
        "id": "43392590b1d8"
      },
      "source": [
        "### Initialize Gemini model & search tool"
      ]
    },
    {
      "cell_type": "code",
      "execution_count": 41,
      "metadata": {
        "id": "6f8b0c205551"
      },
      "outputs": [],
      "source": [
        "model = ChatGoogleGenerativeAI(model=\"gemini-1.5-pro\", temperature=0)\n",
        "tavily_tool = TavilySearchResults(max_results=5)"
      ]
    },
    {
      "cell_type": "markdown",
      "metadata": {
        "id": "7ee8707e1867"
      },
      "source": [
        "### Define prompt templates and Runnables"
      ]
    },
    {
      "cell_type": "code",
      "execution_count": 42,
      "metadata": {
        "id": "a09a6a6d1f36"
      },
      "outputs": [],
      "source": [
        "# Planning: Create an outline for the essay\n",
        "outline_template = ChatPromptTemplate.from_template(\n",
        "    \"Create a detailed outline for an essay on {topic}\"\n",
        ")\n",
        "\n",
        "\n",
        "# Research: Web search\n",
        "def research_fn(topic):\n",
        "    response = tavily_tool.invoke({\"query\": topic})\n",
        "    return \"\\n\".join([f\"- {result['content']}\" for result in response])\n",
        "\n",
        "\n",
        "# Writing: Write the essay based on outline and research\n",
        "writing_template = ChatPromptTemplate.from_template(\n",
        "    \"Based on the following outline and research, write a 3-paragraph essay on '{topic}':\\n\\nOutline:\\n{outline}\\n\\nResearch:\\n{research}\\n\\nEssay:\"\n",
        ")"
      ]
    },
    {
      "cell_type": "markdown",
      "metadata": {
        "id": "9a18006523f7"
      },
      "source": [
        "### Define the Runnable Chain using [LangChain Expression Language (LCEL)](https://python.langchain.com/docs/how_to/#langchain-expression-language-lcel)"
      ]
    },
    {
      "cell_type": "code",
      "execution_count": 43,
      "metadata": {
        "id": "cf48601613fd"
      },
      "outputs": [],
      "source": [
        "# Define individual chains\n",
        "outline_chain = LLMChain(llm=model, prompt=outline_template)\n",
        "writing_chain = LLMChain(llm=model, prompt=writing_template)\n",
        "\n",
        "# Use the pipe operator to combine chains\n",
        "chain = (\n",
        "    outline_chain\n",
        "    | (\n",
        "        lambda result: {\n",
        "            \"topic\": result[\"topic\"],\n",
        "            \"outline\": result[\"text\"],\n",
        "            \"research\": research_fn(result[\"topic\"]),\n",
        "        }\n",
        "    )\n",
        "    | writing_chain\n",
        "    | (lambda result: result[\"text\"])  # Extract the essay text from the final result\n",
        "    | StrOutputParser()\n",
        ")"
      ]
    },
    {
      "cell_type": "markdown",
      "metadata": {
        "id": "839fc48dd408"
      },
      "source": [
        "### Generate the essay"
      ]
    },
    {
      "cell_type": "code",
      "execution_count": 44,
      "metadata": {
        "id": "a76f80ceec98"
      },
      "outputs": [
        {
          "data": {
            "text/markdown": [
              "The 2024 Atlantic hurricane season will be remembered for its unprecedented intensity, marked by a series of powerful storms that left a trail of destruction across the Caribbean and the southeastern United States.  Among these, Hurricanes Helene and Milton stand out, not only for their individual ferocity but also for the contrasting ways in which they impacted affected regions. This essay explores the hypothetical impacts of these two hurricanes, examining their economic, social, and environmental consequences to understand the complex challenges posed by such extreme weather events. While distinct in their paths and intensities, Helene and Milton left a lasting mark on the 2024 season, demonstrating the devastating power of nature and the ongoing challenges of coastal vulnerability.\n",
              "\n",
              "Hurricane Helene, a powerful Category 4 hurricane, formed in the mid-Atlantic and carved a destructive path through the Caribbean before making landfall in North Carolina.  The storm's high winds and torrential rainfall caused widespread damage to infrastructure, leveling homes and businesses, crippling transportation networks, and devastating agricultural lands.  The economic toll was immense, with early estimates exceeding $100 billion.  Beyond the financial costs, Helene's impact rippled through communities, displacing thousands, straining emergency services, and leaving a deep scar on the social fabric of the region.  The storm surge inundated coastal ecosystems, causing significant erosion and damaging vital habitats like coral reefs and mangrove forests.  The influx of debris and runoff further polluted waterways, compounding the environmental damage.  North Carolina, home to roughly 45% of the region's small businesses, saw widespread economic disruption, impacting millions of employees and generating substantial revenue losses.\n",
              "\n",
              "In contrast, Hurricane Milton, a rapidly intensifying Category 5 storm, emerged in the Gulf of Mexico and slammed into the Florida panhandle less than two weeks after Helene.  While Milton's smaller geographic impact concentrated its economic damage, estimated at $50 billion, the storm's extreme intensity resulted in a higher death toll, tragically reaching at least 250 lives.  Florida's tourism industry suffered a significant blow, and the combined impact of Helene and Milton overwhelmed emergency response systems, delaying relief efforts in both regions.  Milton's storm surge, exacerbated by elevated sea surface temperatures attributed to climate change, caused catastrophic flooding in coastal communities, surpassing the inundation experienced during Helene.  The rapid intensification of Milton, fueled by unusually warm ocean waters, underscored the potential link between climate change and the increasing frequency and intensity of extreme weather events.  The combined impact of these two storms highlighted the vulnerability of coastal regions and the urgent need for improved disaster preparedness and mitigation strategies.\n"
            ],
            "text/plain": [
              "<IPython.core.display.Markdown object>"
            ]
          },
          "metadata": {},
          "output_type": "display_data"
        }
      ],
      "source": [
        "topic = (\n",
        "    \"Write an essay about the impacts of Hurricane Helene and Hurricane Milton in 2024.\"\n",
        ")\n",
        "essay = chain.invoke({\"topic\": topic})\n",
        "display(Markdown(essay))"
      ]
    },
    {
      "cell_type": "markdown",
      "metadata": {
        "id": "294d3b7c43b2"
      },
      "source": [
        "## Generating Essays Using an Iterative, AI-Agent Approach with LangGraph\n",
        "\n",
        "This section demonstrates how to build a [LangGraph](https://langchain-ai.github.io/langgraph/)-powered AI agent to generate, revise, and critique essays using large language models such as Google's [Gemini API in Google AI Studio](https://ai.google.dev/gemini-api/docs) or the [Gemini API in Vertex AI](https://cloud.google.com/vertex-ai/generative-ai/docs/multimodal/overview). The LangGraph code was adapted from the awesome DeepLearning.AI course on [AI Agents in LangGraph](https://www.deeplearning.ai/short-courses/ai-agents-in-langgraph/).\n",
        "\n",
        "By defining a structured state flow with nodes such as \"Planner,\" \"Research Plan,\" \"Generate,\" \"Reflect,\" and \"Research Critique,\" the system iteratively creates an essay on a given topic, incorporates feedback, and provides research-backed insights.\n",
        "\n",
        "<img src=\"https://github.com/GoogleCloudPlatform/generative-ai/blob/main/workshops/ai-agents/3-langgraph-essay.png?raw=1\" width=\"900px\">\n",
        "\n",
        "The workflow enables automated essay generation with revision controls, making it ideal for structured writing tasks or educational use cases. Additionally, the notebook uses external search tools to gather and integrate real-time information into the essay content."
      ]
    },
    {
      "cell_type": "markdown",
      "metadata": {
        "id": "f8e41763086f"
      },
      "source": [
        "### Import libraries"
      ]
    },
    {
      "cell_type": "code",
      "execution_count": 45,
      "metadata": {
        "id": "52fbe2cb7be7"
      },
      "outputs": [],
      "source": [
        "from typing import TypedDict\n",
        "\n",
        "# Common libraries\n",
        "from IPython.display import Image, Markdown, display\n",
        "\n",
        "# LangChain and LangGraph components\n",
        "from langchain_core.messages import HumanMessage, SystemMessage\n",
        "\n",
        "# LangChain integrations for Gemini API in Google AI Studio and Vertex AI\n",
        "from langchain_google_genai import ChatGoogleGenerativeAI\n",
        "from langgraph.checkpoint.memory import MemorySaver\n",
        "from langgraph.graph import END, StateGraph\n",
        "\n",
        "# Typing utilities for data validation and schema definitions\n",
        "from pydantic.v1 import BaseModel\n",
        "\n",
        "# Tavily client for performing web searches\n",
        "from tavily import TavilyClient"
      ]
    },
    {
      "cell_type": "markdown",
      "metadata": {
        "id": "fc6ae1fac44f"
      },
      "source": [
        "### Initialize agent memory, agent state, and schema for search queries"
      ]
    },
    {
      "cell_type": "code",
      "execution_count": 46,
      "metadata": {
        "id": "6b92f7bab46d"
      },
      "outputs": [],
      "source": [
        "# Initialize agent memory\n",
        "memory = MemorySaver()\n",
        "\n",
        "\n",
        "# Define the agent's state\n",
        "class AgentState(TypedDict):\n",
        "    task: str\n",
        "    plan: str\n",
        "    draft: str\n",
        "    critique: str\n",
        "    content: list[str]\n",
        "    revision_number: int\n",
        "    max_revisions: int\n",
        "\n",
        "\n",
        "# Define a schema for search queries\n",
        "class Queries(BaseModel):\n",
        "    \"\"\"Variants of query to search for\"\"\"\n",
        "\n",
        "    queries: list[str]"
      ]
    },
    {
      "cell_type": "markdown",
      "metadata": {
        "id": "d9660e58afab"
      },
      "source": [
        "### Initialize Gemini model and search tool\n",
        "\n",
        "Remember to set the environment variables `GOOGLE_API_KEY` and `TAVILY_API_KEY`. And configure credentials for Vertex AI if you switch to it."
      ]
    },
    {
      "cell_type": "code",
      "execution_count": 47,
      "metadata": {
        "id": "ec96b00bb67f"
      },
      "outputs": [],
      "source": [
        "# Initialize Gemini API in Google AI Studio via LangChain\n",
        "model = ChatGoogleGenerativeAI(model=\"gemini-1.5-pro\", temperature=0)\n",
        "\n",
        "# Initialize Gemini API in Vertex AI via LangChain\n",
        "# model = ChatVertexAI(model=\"gemini-1.5-pro-002\", temperature=0)\n",
        "\n",
        "# Initialize Tavily client for performing web searches\n",
        "tavily = TavilyClient()"
      ]
    },
    {
      "cell_type": "markdown",
      "metadata": {
        "id": "d94dc64d3846"
      },
      "source": [
        "### Define prompt templates for each stage"
      ]
    },
    {
      "cell_type": "code",
      "execution_count": 48,
      "metadata": {
        "id": "2cc6f9b05d29"
      },
      "outputs": [],
      "source": [
        "PLAN_PROMPT = \"\"\"You are an expert writer tasked with writing a high level outline of an essay.\n",
        "Write such an outline for the user provided topic. Give an outline of the essay along with any\n",
        "relevant notes or instructions for the sections.\"\"\"\n",
        "\n",
        "WRITER_PROMPT = \"\"\"You are an essay assistant tasked with writing excellent 3-paragraph essays.\n",
        "Generate the best essay possible for the user's request and the initial outline.\n",
        "If the user provides critique, respond with a revised version of your previous attempts.\n",
        "Use Markdown formatting to specify a title and section headers for each paragraph.\n",
        "Utilize all of the information below as needed:\n",
        "---\n",
        "{content}\"\"\"\n",
        "\n",
        "REFLECTION_PROMPT = \"\"\"You are a teacher grading an essay submission.\n",
        "Generate critique and recommendations for the user's submission.\n",
        "Provide detailed recommendations, including requests for length, depth, style, etc.\"\"\"\n",
        "\n",
        "RESEARCH_PLAN_PROMPT = \"\"\"You are a researcher charged with providing information that can\n",
        "be used when writing the following essay. Generate a list of search queries that will gather\n",
        "any relevant information. Only generate 3 queries max.\"\"\"\n",
        "\n",
        "RESEARCH_CRITIQUE_PROMPT = \"\"\"You are a researcher charged with providing information that can\n",
        "be used when making any requested revisions (as outlined below).\n",
        "Generate a list of search queries that will gather any relevant information.\n",
        "Only generate 3 queries max.\"\"\""
      ]
    },
    {
      "cell_type": "markdown",
      "metadata": {
        "id": "c4f51c668222"
      },
      "source": [
        "### Define node functions for each stage"
      ]
    },
    {
      "cell_type": "code",
      "execution_count": 49,
      "metadata": {
        "id": "75c8d7021369"
      },
      "outputs": [],
      "source": [
        "# Generate an outline for the essay\n",
        "\n",
        "\n",
        "def plan_node(state: AgentState):\n",
        "    messages = [SystemMessage(content=PLAN_PROMPT), HumanMessage(content=state[\"task\"])]\n",
        "    response = model.invoke(messages)\n",
        "    return {\"plan\": response.content}\n",
        "\n",
        "\n",
        "# Conducts research based on the generated plan and web search results\n",
        "def research_plan_node(state: AgentState):\n",
        "    queries = model.with_structured_output(Queries).invoke(\n",
        "        [\n",
        "            SystemMessage(content=RESEARCH_PLAN_PROMPT),\n",
        "            HumanMessage(content=state[\"task\"]),\n",
        "        ]\n",
        "    )\n",
        "    content = state[\"content\"] or []\n",
        "    for q in queries.queries:\n",
        "        response = tavily.search(query=q, max_results=2)\n",
        "        for r in response[\"results\"]:\n",
        "            content.append(r[\"content\"])\n",
        "    return {\"content\": content}\n",
        "\n",
        "\n",
        "# Generates a draft based on the content and plan\n",
        "def generation_node(state: AgentState):\n",
        "    content = \"\\n\\n\".join(state[\"content\"] or [])\n",
        "    user_message = HumanMessage(\n",
        "        content=f\"{state['task']}\\n\\nHere is my plan:\\n\\n{state['plan']}\"\n",
        "    )\n",
        "    messages = [\n",
        "        SystemMessage(content=WRITER_PROMPT.format(content=content)),\n",
        "        user_message,\n",
        "    ]\n",
        "    response = model.invoke(messages)\n",
        "    return {\n",
        "        \"draft\": response.content,\n",
        "        \"revision_number\": state.get(\"revision_number\", 1) + 1,\n",
        "    }\n",
        "\n",
        "\n",
        "# Provides feedback or critique on the draft\n",
        "def reflection_node(state: AgentState):\n",
        "    messages = [\n",
        "        SystemMessage(content=REFLECTION_PROMPT),\n",
        "        HumanMessage(content=state[\"draft\"]),\n",
        "    ]\n",
        "    response = model.invoke(messages)\n",
        "    return {\"critique\": response.content}\n",
        "\n",
        "\n",
        "# Conducts research based on the critique\n",
        "def research_critique_node(state: AgentState):\n",
        "    queries = model.with_structured_output(Queries).invoke(\n",
        "        [\n",
        "            SystemMessage(content=RESEARCH_CRITIQUE_PROMPT),\n",
        "            HumanMessage(content=state[\"critique\"]),\n",
        "        ]\n",
        "    )\n",
        "    content = state[\"content\"] or []\n",
        "    for q in queries.queries:\n",
        "        response = tavily.search(query=q, max_results=2)\n",
        "        for r in response[\"results\"]:\n",
        "            content.append(r[\"content\"])\n",
        "    return {\"content\": content}\n",
        "\n",
        "\n",
        "# Determines whether the critique and research cycle should\n",
        "# continue based on the number of revisions\n",
        "def should_continue(state):\n",
        "    if state[\"revision_number\"] > state[\"max_revisions\"]:\n",
        "        return END\n",
        "    return \"reflect\""
      ]
    },
    {
      "cell_type": "markdown",
      "metadata": {
        "id": "48569416595a"
      },
      "source": [
        "### Define and compile the graph"
      ]
    },
    {
      "cell_type": "code",
      "execution_count": 50,
      "metadata": {
        "id": "86567ad87aa2"
      },
      "outputs": [],
      "source": [
        "# Initialize the state graph\n",
        "builder = StateGraph(AgentState)\n",
        "\n",
        "# Add nodes for each step in the workflow\n",
        "builder.add_node(\"planner\", plan_node)\n",
        "builder.add_node(\"generate\", generation_node)\n",
        "builder.add_node(\"reflect\", reflection_node)\n",
        "builder.add_node(\"research_plan\", research_plan_node)\n",
        "builder.add_node(\"research_critique\", research_critique_node)\n",
        "\n",
        "# Set the entry point of the workflow\n",
        "builder.set_entry_point(\"planner\")\n",
        "\n",
        "# Add conditional edges for task continuation or end\n",
        "builder.add_conditional_edges(\n",
        "    \"generate\", should_continue, {END: END, \"reflect\": \"reflect\"}\n",
        ")\n",
        "\n",
        "# Define task sequence edges\n",
        "builder.add_edge(\"planner\", \"research_plan\")\n",
        "builder.add_edge(\"research_plan\", \"generate\")\n",
        "\n",
        "builder.add_edge(\"reflect\", \"research_critique\")\n",
        "builder.add_edge(\"research_critique\", \"generate\")\n",
        "\n",
        "# Compile the graph with memory state management\n",
        "graph = builder.compile(checkpointer=memory)"
      ]
    },
    {
      "cell_type": "markdown",
      "metadata": {
        "id": "44d87b0a2052"
      },
      "source": [
        "### Show the compiled graph"
      ]
    },
    {
      "cell_type": "code",
      "execution_count": null,
      "metadata": {
        "id": "9c3170874384"
      },
      "outputs": [],
      "source": [
        "Image(graph.get_graph().draw_mermaid_png())"
      ]
    },
    {
      "cell_type": "markdown",
      "metadata": {
        "id": "c95bebc7e74c"
      },
      "source": [
        "### Run the agent - write on!"
      ]
    },
    {
      "cell_type": "code",
      "execution_count": 62,
      "metadata": {
        "id": "2a849843b454"
      },
      "outputs": [
        {
          "data": {
            "text/markdown": [
              "# planner"
            ],
            "text/plain": [
              "<IPython.core.display.Markdown object>"
            ]
          },
          "metadata": {},
          "output_type": "display_data"
        },
        {
          "data": {
            "text/markdown": [
              "Essay Outline: The Impacts of Hurricanes Helene and Milton in 2024\n",
              "\n",
              "I. Introduction\n",
              "    A. Briefly introduce the 2024 Atlantic hurricane season.\n",
              "    B. Specifically mention Hurricanes Helene and Milton, highlighting their classifications (category, wind speeds, etc.).\n",
              "    C. Thesis statement:  While both Helene and Milton reached significant intensities in the 2024 Atlantic hurricane season, their impacts differed considerably. Helene primarily affected [mention areas affected and type of impact, e.g., the Azores with high waves and heavy rainfall], while Milton posed a greater threat to [mention areas affected and type of impact, e.g., Bermuda with potential for storm surge and damaging winds], ultimately resulting in [overall comparative impact - e.g., more economic damage from Milton but greater disruption to shipping from Helene].\n",
              "\n",
              "II. Hurricane Helene: A Tempest in the Atlantic\n",
              "    A. Formation and Tracking: Detail Helene's path and intensification. Include dates and locations.  Use maps if possible.\n",
              "    B. Impacts on Land: Discuss any landfalls or close approaches. Focus on the Azores.  Were there evacuations? What was the extent of damage (infrastructure, agriculture, etc.)?  Quantify impacts where possible (e.g., rainfall amounts, wind speeds recorded).\n",
              "    C. Marine Impacts:  Helene was a powerful hurricane at sea. Discuss its impact on shipping routes, wave heights, and any other maritime concerns.\n",
              "    D. Socioeconomic Consequences:  Analyze the economic and social disruption caused by Helene.  Did tourism suffer? Were there long-term recovery efforts?\n",
              "\n",
              "III. Hurricane Milton: A Threat to Bermuda\n",
              "    A. Formation and Tracking: Detail Milton's path and intensification. Include dates and locations. Use maps if possible.  Highlight any periods of rapid intensification.\n",
              "    B. Impacts on Bermuda:  Focus on the specific impacts on Bermuda.  Did it make landfall? What preparations were made?  Discuss the extent of damage (infrastructure, coastal erosion, etc.). Quantify impacts where possible (e.g., rainfall amounts, wind speeds recorded, storm surge height).\n",
              "    C. Impacts on Other Areas:  Did Milton affect any other regions besides Bermuda?  If so, briefly describe those impacts.\n",
              "    D. Socioeconomic Consequences: Analyze the economic and social disruption caused by Milton.  What were the insurance costs?  Were there long-term recovery efforts?\n",
              "\n",
              "IV. Comparison and Contrast\n",
              "    A. Directly compare the impacts of Helene and Milton.  Use a table or chart if helpful.  Consider:\n",
              "        1. Intensity and duration\n",
              "        2. Geographic area affected\n",
              "        3. Types of damage (wind, rain, surge)\n",
              "        4. Economic costs\n",
              "        5. Loss of life (if any)\n",
              "    B.  Discuss any lessons learned from these two storms.  Did forecasting models perform well? Were emergency preparedness measures effective?\n",
              "\n",
              "V. Conclusion\n",
              "    A. Briefly summarize the overall impacts of both hurricanes.\n",
              "    B. Reiterate the contrasting nature of their effects.\n",
              "    C. Offer a concluding thought about the 2024 hurricane season in the context of these two storms.  Perhaps mention the increasing importance of hurricane preparedness in a changing climate (if relevant).\n",
              "\n",
              "\n",
              "**Notes:**\n",
              "\n",
              "* **Data Sources:** Rely on reputable sources like the National Hurricane Center (NHC), NOAA, and other meteorological agencies for accurate data on storm tracks, intensities, and impacts.\n",
              "* **Visual Aids:** Incorporate maps showing the hurricanes' paths and graphs illustrating their intensities over time.  Images of the damage caused would also be beneficial.\n",
              "* **Human Impact:**  While focusing on the physical impacts, remember to include the human element.  Discuss how people were affected and how communities responded.\n",
              "* **Accuracy:** Double-check all facts and figures.  Hurricane data can sometimes be revised after the initial reports.  Use the most up-to-date information available.\n",
              "* **Objectivity:** Maintain an objective tone throughout the essay.  Avoid sensationalizing the events.  Let the facts speak for themselves.\n"
            ],
            "text/plain": [
              "<IPython.core.display.Markdown object>"
            ]
          },
          "metadata": {},
          "output_type": "display_data"
        },
        {
          "name": "stdout",
          "output_type": "stream",
          "text": [
            "\n",
            "---\n",
            "\n"
          ]
        },
        {
          "data": {
            "text/markdown": [
              "# research_plan"
            ],
            "text/plain": [
              "<IPython.core.display.Markdown object>"
            ]
          },
          "metadata": {},
          "output_type": "display_data"
        },
        {
          "data": {
            "text/markdown": [
              "Near Perry, Florida, power flashes were seen as Hurricane Helene downed power lines on September 26, 2024. SVC/Simon Brewer Juston Drake High winds and storm surge caused bridges to close in the"
            ],
            "text/plain": [
              "<IPython.core.display.Markdown object>"
            ]
          },
          "metadata": {},
          "output_type": "display_data"
        },
        {
          "data": {
            "text/markdown": [
              "Helene's toll: At least 100 dead, 2M customers without power amid water rescues in Florida, Georgia, Carolinas, Tennessee and Virginia Hurricane Helene, which left massive destruction along the Florida coast since making landfall Thursday, is now causing historic flooding, wide-ranging power outages, and other damage in an 800-mile northward path that's affecting the Carolinas, Tennessee, Georgia, and other states. Helene makes landfall at 11:10 p.m. near Perry, Florida, as a Category 4 storm with 140 mph-winds and large field of hurricane-force and tropical storm winds. 10Best USAT Wine Club Online Sports Betting Online Casino Reviewed Best-selling Booklist Southern Kitchen Jobs Sports Betting Sports Weekly Studio Gannett Classifieds Homefront Home Internet Blueprint Auto Insurance Pet Insurance Travel Insurance Credit Cards Banking Personal Loans LLC Formation Payroll Software"
            ],
            "text/plain": [
              "<IPython.core.display.Markdown object>"
            ]
          },
          "metadata": {},
          "output_type": "display_data"
        },
        {
          "data": {
            "text/markdown": [
              "Maps and charts: Hurricane Milton’s impact across Florida | CNN Follow CNN CNN10 CNN 5 Things About CNN Work for CNN CNN  —  Hurricane Milton slammed into Florida’s Gulf Coast on Wednesday night, making landfall as a powerful Category 3 storm. The intense hurricane spawned tornadoes, dumped rain across much of the state, left millions without power and claimed at least 16 lives, including five people in St. Lucie County. Milton is the third hurricane to hit Florida this year — which has only happened during five other hurricane seasons since 1871. CNN10 CNN 5 Things About CNN Work for CNN Follow CNN"
            ],
            "text/plain": [
              "<IPython.core.display.Markdown object>"
            ]
          },
          "metadata": {},
          "output_type": "display_data"
        },
        {
          "data": {
            "text/markdown": [
              "See the damage from Hurricane Milton in maps, photos and videos - The Washington Post The damage caused by Hurricane Milton in maps, photos and videos Hurricane Milton caused widespread damage across Florida with deadly tornadoes and storm surge. Milton’s quadruple-whammy of deadly tornadoes, heavy rain, hurricane-force wind and storm surge left damage from coast to coast, but the Tampa Bay area escaped the monster inundation meteorologists had feared. Hurricane Milton blew the roof off of Tropicana Field, home of the Tampa Bay Rays, in St. Petersburg, Fla. Hurricane Milton Milton, an extremely dangerous Category 3 hurricane, made landfall along Florida’s west coast Wednesday night."
            ],
            "text/plain": [
              "<IPython.core.display.Markdown object>"
            ]
          },
          "metadata": {},
          "output_type": "display_data"
        },
        {
          "data": {
            "text/markdown": [
              "AP News Alerts Keep your pulse on the news with breaking news alerts from The AP.AP Top 25 Poll Alerts Get email alerts for every college football Top 25 Poll release.The Morning Wire Our flagship newsletter breaks down the biggest headlines of the day.Ground Game Exclusive insights and key stories from the world of politics.Beyond the Story Executive Editor Julie Pace brings you behind the scenes of the AP newsroom.The Afternoon Wire Get caught up on what you may have missed throughout the day. AP & Elections AP & Elections"
            ],
            "text/plain": [
              "<IPython.core.display.Markdown object>"
            ]
          },
          "metadata": {},
          "output_type": "display_data"
        },
        {
          "data": {
            "text/markdown": [
              "An analysis by the international World Weather Attribution, or WWA, initiative, released October 9, analyzed the role of climate change in contributing to Hurricane Helene’s intensification and its torrential rainfall, including as it moved inland across the Southern Appalachian Mountains. And, in a separate alert released October 7, Climate Central reported that elevated sea surface temperatures in the southwestern Gulf of Mexico were also behind the “explosive” increase in intensity of Hurricane Milton. The analysis found that the sea surface temperatures in the Gulf were made 400 to 800 times more likely over the past two weeks due to human-caused climate change. Analysis: Ocean temperatures warmed by climate change provided fuel for Hurricane Milton's extreme rapid intensification."
            ],
            "text/plain": [
              "<IPython.core.display.Markdown object>"
            ]
          },
          "metadata": {},
          "output_type": "display_data"
        },
        {
          "name": "stdout",
          "output_type": "stream",
          "text": [
            "\n",
            "---\n",
            "\n"
          ]
        },
        {
          "data": {
            "text/markdown": [
              "# generate"
            ],
            "text/plain": [
              "<IPython.core.display.Markdown object>"
            ]
          },
          "metadata": {},
          "output_type": "display_data"
        },
        {
          "data": {
            "text/markdown": [
              "# The Contrasting Impacts of Hurricanes Helene and Milton in 2024\n",
              "\n",
              "## A Tale of Two Storms\n",
              "\n",
              "The 2024 Atlantic hurricane season witnessed the destructive forces of several powerful storms, two of the most notable being Hurricanes Helene and Milton. Helene, a major hurricane reaching Category 4 status with 140 mph winds, made landfall near Perry, Florida, on September 26.  Milton, a Category 3 hurricane, struck Florida's west coast on an unspecified date in 2024. While both storms brought significant destruction, their impacts differed considerably. Helene caused widespread damage across Florida, Georgia, the Carolinas, Tennessee, and Virginia, primarily through strong winds, storm surge, and flooding, leading to extensive power outages and over 100 fatalities. Milton, on the other hand, focused its wrath primarily on Florida, causing damage through tornadoes, heavy rain, and storm surge, with a death toll reaching at least 16.  Ultimately, Helene resulted in a broader swathe of destruction and loss of life across multiple states, while Milton's impact was more concentrated, though still devastating, within Florida.\n",
              "\n",
              "## Helene's Trail of Destruction\n",
              "\n",
              "Hurricane Helene's landfall near Perry, Florida, as a Category 4 hurricane marked a significant event in the 2024 season.  The storm's large wind field and powerful storm surge caused widespread damage across the region.  Downed power lines left two million customers without power, and bridges were closed due to high winds and surging waters.  The storm's impact extended far beyond Florida, causing historic flooding and damage in Georgia, the Carolinas, Tennessee, and Virginia.  Over 100 deaths were attributed to Helene, highlighting the storm's devastating power.  While specific details regarding evacuations and the extent of damage to infrastructure and agriculture are not available in the provided source material, the widespread power outages and flooding suggest significant disruption to daily life and economic activity.  The storm's impact on maritime activities is also not detailed in the provided information.\n",
              "\n",
              "## Milton's Concentrated Fury\n",
              "\n",
              "Hurricane Milton, while less intense than Helene at landfall, left a significant mark on Florida.  Making landfall as a Category 3 hurricane, Milton spawned tornadoes, dumped heavy rainfall, and generated a destructive storm surge.  The Tampa Bay area narrowly avoided the worst of the predicted storm surge, but other areas experienced significant damage.  The storm blew the roof off Tropicana Field in St. Petersburg and caused at least 16 fatalities, including five in St. Lucie County.  The provided source material does not specify the exact date of Milton's landfall or provide details on preparations made for the storm.  The extent of damage beyond the mentioned incidents is also not detailed, nor is information available on the storm's socioeconomic consequences, including insurance costs and long-term recovery efforts.  However, the available information paints a picture of a powerful storm causing significant damage and disruption within Florida.\n"
            ],
            "text/plain": [
              "<IPython.core.display.Markdown object>"
            ]
          },
          "metadata": {},
          "output_type": "display_data"
        },
        {
          "data": {
            "text/markdown": [
              "**Revision Number**: 2"
            ],
            "text/plain": [
              "<IPython.core.display.Markdown object>"
            ]
          },
          "metadata": {},
          "output_type": "display_data"
        },
        {
          "name": "stdout",
          "output_type": "stream",
          "text": [
            "\n",
            "---\n",
            "\n"
          ]
        },
        {
          "data": {
            "text/markdown": [
              "# reflect"
            ],
            "text/plain": [
              "<IPython.core.display.Markdown object>"
            ]
          },
          "metadata": {},
          "output_type": "display_data"
        },
        {
          "data": {
            "text/markdown": [
              "This essay provides a decent starting point for comparing and contrasting Hurricanes Helene and Milton, but it needs significant expansion and refinement to be truly effective.  Here's a breakdown of the strengths and weaknesses, along with recommendations for improvement:\n",
              "\n",
              "**Strengths:**\n",
              "\n",
              "* **Clear Thesis:** The essay establishes a clear thesis about the contrasting impacts of the two hurricanes.\n",
              "* **Organized Structure:** The use of headings and separate sections for each hurricane helps organize the information.\n",
              "* **Factual Basis:** The essay presents factual information about the hurricanes' paths and impacts.\n",
              "\n",
              "**Weaknesses:**\n",
              "\n",
              "* **Lack of Depth and Detail:** The essay lacks specific details about the storms' impacts.  It mentions flooding, power outages, and fatalities, but doesn't delve into the specifics of the damage, the economic consequences, or the human stories.\n",
              "* **Missing Information:** Key information is missing, such as the landfall date of Hurricane Milton, specific locations of major damage, evacuation efforts, and long-term recovery efforts.\n",
              "* **Repetitive Language:**  Phrases like \"significant damage\" and \"devastating power\" are used repeatedly, making the writing feel monotonous.\n",
              "* **Overreliance on Source Material Limitations:** The essay repeatedly mentions the limitations of the source material. While acknowledging limitations is important, constantly highlighting them weakens the essay.  Instead, seek out additional sources to fill in the gaps.\n",
              "* **Lack of Visual Aids:** Maps, charts, or graphs would greatly enhance the essay by visually representing the hurricanes' paths and impacts.\n",
              "* **Insufficient Analysis:** The essay describes the impacts but doesn't analyze *why* these differences occurred. Were there differences in preparedness, infrastructure, or the storms' characteristics that contributed to the varying levels of devastation?\n",
              "\n",
              "**Recommendations for Improvement:**\n",
              "\n",
              "1. **Expand on the Impacts:** Provide more specific details about the damage caused by each hurricane.  For example, instead of just saying \"widespread flooding,\" describe the areas that were flooded, the depth of the floodwaters, and the specific consequences of the flooding (e.g., displacement of residents, damage to businesses, contamination of water supplies).  Quantify the damage whenever possible (e.g., number of homes destroyed, estimated cost of repairs).\n",
              "\n",
              "2. **Fill in Missing Information:** Research and include the missing information, such as Milton's landfall date, specific locations of major damage, details about evacuation efforts, and the long-term recovery process for both storms.\n",
              "\n",
              "3. **Diversify Language:** Use a wider range of vocabulary to avoid repetition and make the writing more engaging.\n",
              "\n",
              "4. **Focus on Analysis:**  Go beyond simply describing the impacts and analyze the reasons behind the differences. Consider factors like storm intensity, population density in affected areas, preparedness measures, and geographical features.\n",
              "\n",
              "5. **Incorporate Visual Aids:** Include maps showing the hurricanes' paths and the areas affected.  Charts or graphs could be used to compare the storms' strengths, fatalities, and economic costs.\n",
              "\n",
              "6. **Consider Human Impact:** Include personal stories or anecdotes from people affected by the hurricanes to add a human dimension to the essay.\n",
              "\n",
              "7. **Length:** Aim for a more substantial essay.  The current length is too brief to provide a comprehensive comparison.  A good target would be at least double the current length, possibly more depending on the level of detail you include.\n",
              "\n",
              "8. **Cite Sources:**  Properly cite all sources used in your research.\n",
              "\n",
              "By addressing these weaknesses and incorporating the recommendations, you can transform this essay into a much stronger and more informative piece of writing.\n"
            ],
            "text/plain": [
              "<IPython.core.display.Markdown object>"
            ]
          },
          "metadata": {},
          "output_type": "display_data"
        },
        {
          "name": "stdout",
          "output_type": "stream",
          "text": [
            "\n",
            "---\n",
            "\n"
          ]
        },
        {
          "data": {
            "text/markdown": [
              "# research_critique"
            ],
            "text/plain": [
              "<IPython.core.display.Markdown object>"
            ]
          },
          "metadata": {},
          "output_type": "display_data"
        },
        {
          "data": {
            "text/markdown": [
              "Near Perry, Florida, power flashes were seen as Hurricane Helene downed power lines on September 26, 2024. SVC/Simon Brewer Juston Drake High winds and storm surge caused bridges to close in the"
            ],
            "text/plain": [
              "<IPython.core.display.Markdown object>"
            ]
          },
          "metadata": {},
          "output_type": "display_data"
        },
        {
          "data": {
            "text/markdown": [
              "Helene's toll: At least 100 dead, 2M customers without power amid water rescues in Florida, Georgia, Carolinas, Tennessee and Virginia Hurricane Helene, which left massive destruction along the Florida coast since making landfall Thursday, is now causing historic flooding, wide-ranging power outages, and other damage in an 800-mile northward path that's affecting the Carolinas, Tennessee, Georgia, and other states. Helene makes landfall at 11:10 p.m. near Perry, Florida, as a Category 4 storm with 140 mph-winds and large field of hurricane-force and tropical storm winds. 10Best USAT Wine Club Online Sports Betting Online Casino Reviewed Best-selling Booklist Southern Kitchen Jobs Sports Betting Sports Weekly Studio Gannett Classifieds Homefront Home Internet Blueprint Auto Insurance Pet Insurance Travel Insurance Credit Cards Banking Personal Loans LLC Formation Payroll Software"
            ],
            "text/plain": [
              "<IPython.core.display.Markdown object>"
            ]
          },
          "metadata": {},
          "output_type": "display_data"
        },
        {
          "data": {
            "text/markdown": [
              "Maps and charts: Hurricane Milton’s impact across Florida | CNN Follow CNN CNN10 CNN 5 Things About CNN Work for CNN CNN  —  Hurricane Milton slammed into Florida’s Gulf Coast on Wednesday night, making landfall as a powerful Category 3 storm. The intense hurricane spawned tornadoes, dumped rain across much of the state, left millions without power and claimed at least 16 lives, including five people in St. Lucie County. Milton is the third hurricane to hit Florida this year — which has only happened during five other hurricane seasons since 1871. CNN10 CNN 5 Things About CNN Work for CNN Follow CNN"
            ],
            "text/plain": [
              "<IPython.core.display.Markdown object>"
            ]
          },
          "metadata": {},
          "output_type": "display_data"
        },
        {
          "data": {
            "text/markdown": [
              "See the damage from Hurricane Milton in maps, photos and videos - The Washington Post The damage caused by Hurricane Milton in maps, photos and videos Hurricane Milton caused widespread damage across Florida with deadly tornadoes and storm surge. Milton’s quadruple-whammy of deadly tornadoes, heavy rain, hurricane-force wind and storm surge left damage from coast to coast, but the Tampa Bay area escaped the monster inundation meteorologists had feared. Hurricane Milton blew the roof off of Tropicana Field, home of the Tampa Bay Rays, in St. Petersburg, Fla. Hurricane Milton Milton, an extremely dangerous Category 3 hurricane, made landfall along Florida’s west coast Wednesday night."
            ],
            "text/plain": [
              "<IPython.core.display.Markdown object>"
            ]
          },
          "metadata": {},
          "output_type": "display_data"
        },
        {
          "data": {
            "text/markdown": [
              "AP News Alerts Keep your pulse on the news with breaking news alerts from The AP.AP Top 25 Poll Alerts Get email alerts for every college football Top 25 Poll release.The Morning Wire Our flagship newsletter breaks down the biggest headlines of the day.Ground Game Exclusive insights and key stories from the world of politics.Beyond the Story Executive Editor Julie Pace brings you behind the scenes of the AP newsroom.The Afternoon Wire Get caught up on what you may have missed throughout the day. AP & Elections AP & Elections"
            ],
            "text/plain": [
              "<IPython.core.display.Markdown object>"
            ]
          },
          "metadata": {},
          "output_type": "display_data"
        },
        {
          "data": {
            "text/markdown": [
              "An analysis by the international World Weather Attribution, or WWA, initiative, released October 9, analyzed the role of climate change in contributing to Hurricane Helene’s intensification and its torrential rainfall, including as it moved inland across the Southern Appalachian Mountains. And, in a separate alert released October 7, Climate Central reported that elevated sea surface temperatures in the southwestern Gulf of Mexico were also behind the “explosive” increase in intensity of Hurricane Milton. The analysis found that the sea surface temperatures in the Gulf were made 400 to 800 times more likely over the past two weeks due to human-caused climate change. Analysis: Ocean temperatures warmed by climate change provided fuel for Hurricane Milton's extreme rapid intensification."
            ],
            "text/plain": [
              "<IPython.core.display.Markdown object>"
            ]
          },
          "metadata": {},
          "output_type": "display_data"
        },
        {
          "data": {
            "text/markdown": [
              "Helene's toll: At least 100 dead, 2M customers without power amid water rescues in Florida, Georgia, Carolinas, Tennessee and Virginia Hurricane Helene, which left massive destruction along the Florida coast since making landfall Thursday, is now causing historic flooding, wide-ranging power outages, and other damage in an 800-mile northward path that's affecting the Carolinas, Tennessee, Georgia, and other states. Helene makes landfall at 11:10 p.m. near Perry, Florida, as a Category 4 storm with 140 mph-winds and large field of hurricane-force and tropical storm winds. 10Best USAT Wine Club Online Sports Betting Online Casino Reviewed Best-selling Booklist Southern Kitchen Jobs Sports Betting Sports Weekly Studio Gannett Classifieds Homefront Home Internet Blueprint Auto Insurance Pet Insurance Travel Insurance Credit Cards Banking Personal Loans LLC Formation Payroll Software"
            ],
            "text/plain": [
              "<IPython.core.display.Markdown object>"
            ]
          },
          "metadata": {},
          "output_type": "display_data"
        },
        {
          "data": {
            "text/markdown": [
              "Hurricane Helene has laid waste to the southeastern United States. Its sheer wind force and deadly floods left behind a path of destruction stretching over 500 miles from Florida to the Southern"
            ],
            "text/plain": [
              "<IPython.core.display.Markdown object>"
            ]
          },
          "metadata": {},
          "output_type": "display_data"
        },
        {
          "data": {
            "text/markdown": [
              "See the damage from Hurricane Milton in maps, photos and videos - The Washington Post The damage caused by Hurricane Milton in maps, photos and videos Hurricane Milton caused widespread damage across Florida with deadly tornadoes and storm surge. Milton’s quadruple-whammy of deadly tornadoes, heavy rain, hurricane-force wind and storm surge left damage from coast to coast, but the Tampa Bay area escaped the monster inundation meteorologists had feared. Hurricane Milton blew the roof off of Tropicana Field, home of the Tampa Bay Rays, in St. Petersburg, Fla. Hurricane Milton Milton, an extremely dangerous Category 3 hurricane, made landfall along Florida’s west coast Wednesday night."
            ],
            "text/plain": [
              "<IPython.core.display.Markdown object>"
            ]
          },
          "metadata": {},
          "output_type": "display_data"
        },
        {
          "data": {
            "text/markdown": [
              "Milton brings strong winds and storm surge after making landfall near city of Siesta Key on Florida’s western coast. Hurricane Milton has made landfall in the US state of Florida, where it is expected to lash communities with devastating winds and a dangerous storm surge. Milton made landfall as an intense Category 3 storm on Wednesday evening near the city of Siesta Key on Florida’s west coast, the National Hurricane Center (NHC) reported. Fed by warm waters in the Gulf of Mexico, Milton became the third-fastest intensifying storm on record in the Atlantic Ocean, the NHC said on Monday, as it surged from a tropical storm to a Category 5 hurricane in less than 24 hours."
            ],
            "text/plain": [
              "<IPython.core.display.Markdown object>"
            ]
          },
          "metadata": {},
          "output_type": "display_data"
        },
        {
          "data": {
            "text/markdown": [
              "FEMA Continues Recovery Efforts Following Hurricanes Helene and Milton, over $1.2 Billion in Direct Assistance to Survivors | FEMA.gov FEMA personnel remain on the ground in communities across the Southeast conducting damage assessments, coordinating with local officials, and helping individuals apply for disaster assistance programs. More than 1,400 FEMA Disaster Survivor Assistance team members are in affected neighborhoods helping survivors apply for assistance and connecting them with additional state, local, federal and voluntary agency resources. Disaster survivors in certain areas of Georgia, Florida (Helene), Florida (Milton), North Carolina, South Carolina, Tennessee and Virginia can begin their recovery process by applying for federal assistance through FEMA. FEMA now has 75 Disaster Recovery Centers open throughout the hurricane affected communities."
            ],
            "text/plain": [
              "<IPython.core.display.Markdown object>"
            ]
          },
          "metadata": {},
          "output_type": "display_data"
        },
        {
          "data": {
            "text/markdown": [
              "WASHINGTON – As communities across the Southeast recover from the devastation caused by Hurricanes Milton and Helene, FEMA and the federal family continue to support those affected, work side by side with state and local officials to assist survivors, and coordinate recovery operations. FEMA Disaster Survivor Assistance Teams are on the ground in neighborhoods across the affected counties continuing to help survivors apply for FEMA assistance and connect them with additional state, local, federal and voluntary agency resources. FEMA Disaster Survivor Assistance Teams are on the ground in neighborhoods across the affected counties helping survivors apply for FEMA assistance and connecting them with additional state, local, federal and voluntary agency resources."
            ],
            "text/plain": [
              "<IPython.core.display.Markdown object>"
            ]
          },
          "metadata": {},
          "output_type": "display_data"
        },
        {
          "name": "stdout",
          "output_type": "stream",
          "text": [
            "\n",
            "---\n",
            "\n"
          ]
        },
        {
          "data": {
            "text/markdown": [
              "# generate"
            ],
            "text/plain": [
              "<IPython.core.display.Markdown object>"
            ]
          },
          "metadata": {},
          "output_type": "display_data"
        },
        {
          "data": {
            "text/markdown": [
              "# The Impacts of Hurricanes Helene and Milton in 2024\n",
              "\n",
              "## A Season of Contrasts\n",
              "\n",
              "The 2024 Atlantic hurricane season witnessed the destructive power of two major hurricanes, Helene and Milton. Helene, a powerful Category 4 hurricane with 140 mph winds, made landfall near Perry, Florida, on September 26.  Milton, a rapidly intensifying Category 3 hurricane, struck Florida's west coast near Siesta Key on Wednesday night. While both storms brought significant impacts to the southeastern United States, their effects differed considerably. Helene caused widespread destruction across Florida, Georgia, the Carolinas, Tennessee, and Virginia, primarily through flooding, power outages, and high winds. Milton, while also causing damage across Florida, including tornadoes and storm surge, focused its most intense impacts on the western coast. Ultimately, Helene resulted in a higher death toll and more widespread power outages, while Milton caused significant structural damage and economic disruption in a more concentrated area.\n",
              "\n",
              "## Helene's Trail of Destruction\n",
              "\n",
              "Hurricane Helene's path began in the Atlantic, rapidly intensifying before making landfall in Florida.  The storm's 140 mph winds and torrential rainfall caused widespread damage, downing power lines, flooding communities, and forcing bridge closures.  Over two million customers lost power across Florida, Georgia, the Carolinas, Tennessee, and Virginia.  Tragically, at least 100 deaths were attributed to Helene, primarily due to flooding and falling debris.  The storm's impact extended far inland, causing historic flooding in the Southern Appalachian Mountains.  While the exact economic cost is still being assessed, the widespread damage to infrastructure, agriculture, and homes suggests a substantial financial burden.  The storm also disrupted daily life, forcing evacuations and school closures across multiple states.\n",
              "\n",
              "## Milton's Western Blow\n",
              "\n",
              "Hurricane Milton's rapid intensification in the Gulf of Mexico fueled its destructive potential.  Upon making landfall near Siesta Key, Florida, as a Category 3 hurricane, Milton unleashed strong winds, storm surge, and tornadoes.  The storm caused significant damage along Florida's western coast, including blowing the roof off of Tropicana Field in St. Petersburg. While the Tampa Bay area avoided the worst of the storm surge, coastal communities still experienced flooding and erosion.  Milton's strong winds also caused widespread power outages and downed trees.  The storm's rapid intensification, attributed to unusually warm ocean temperatures exacerbated by climate change, highlighted the increasing threat of powerful hurricanes.  FEMA has been actively involved in recovery efforts for both Helene and Milton, providing over $1.2 billion in direct assistance to survivors.  The long-term economic and social consequences of Milton are still being evaluated, but the storm's impact on infrastructure and businesses will undoubtedly require significant recovery efforts.\n"
            ],
            "text/plain": [
              "<IPython.core.display.Markdown object>"
            ]
          },
          "metadata": {},
          "output_type": "display_data"
        },
        {
          "data": {
            "text/markdown": [
              "**Revision Number**: 3"
            ],
            "text/plain": [
              "<IPython.core.display.Markdown object>"
            ]
          },
          "metadata": {},
          "output_type": "display_data"
        },
        {
          "name": "stdout",
          "output_type": "stream",
          "text": [
            "\n",
            "---\n",
            "\n"
          ]
        }
      ],
      "source": [
        "# Define the topic of the essay\n",
        "ESSAY_TOPIC = \"What were the impacts of Hurricane Helene and Hurricane Milton in 2024?\"\n",
        "\n",
        "# Define a thread configuration with a unique thread ID\n",
        "thread = {\"configurable\": {\"thread_id\": \"1\"}}\n",
        "\n",
        "# Stream through the graph execution with an initial task and state\n",
        "for s in graph.stream(\n",
        "    {\n",
        "        \"task\": ESSAY_TOPIC,  # Initial task\n",
        "        \"max_revisions\": 2,  # Maximum number of revisions allowed\n",
        "        \"revision_number\": 1,  # Current revision number\n",
        "        \"content\": [],  # Initial empty content list\n",
        "    },\n",
        "    thread,\n",
        "):\n",
        "    step = next(iter(s))\n",
        "    display(Markdown(f\"# {step}\"))\n",
        "    for key, content in s[step].items():\n",
        "        if key == \"revision_number\":\n",
        "            display(Markdown(f\"**Revision Number**: {content}\"))\n",
        "        elif isinstance(content, list):\n",
        "            for c in content:\n",
        "                display(Markdown(c))\n",
        "        else:\n",
        "            display(Markdown(content))\n",
        "    print(\"\\n---\\n\")"
      ]
    },
    {
      "cell_type": "markdown",
      "metadata": {
        "id": "4c95d0cd7f6a"
      },
      "source": [
        "### Output the final draft of the essay"
      ]
    },
    {
      "cell_type": "code",
      "execution_count": 53,
      "metadata": {
        "id": "e50e674081f2"
      },
      "outputs": [
        {
          "data": {
            "text/markdown": [
              "# Impacts of Hurricanes Helene and Milton in 2024\n",
              "\n",
              "## A Season of Destruction\n",
              "\n",
              "The 2024 Atlantic hurricane season proved to be a destructive one, marked by several powerful storms. Among the most impactful were Hurricanes Helene and Milton, which left a trail of devastation across different regions. Helene, a Category 4 hurricane, made landfall near Perry, Florida, on September 26th with 140 mph winds.  Milton followed less than two weeks later, striking Florida as well. While both storms posed significant threats, their impacts differed considerably due to variations in their landfall locations, intensities at landfall, and the preparedness measures in the affected regions.\n",
              "\n",
              "## Helene's Havoc\n",
              "\n",
              "Helene's impact was widespread, affecting Florida, Georgia, the Carolinas, Tennessee, and Virginia.  In Florida, the storm's intense winds and storm surge caused significant damage.  Downed power lines left two million customers without power, and widespread flooding necessitated numerous water rescues.  Coastal areas experienced severe erosion, and infrastructure, including bridges, suffered substantial damage.  The economic toll was significant, with early estimates suggesting billions of dollars in losses.  Beyond Florida, Helene's remnants brought heavy rainfall and flooding further inland, causing disruptions and damage across a wide swath of the southeastern United States.  While early warnings and evacuation orders were issued, the rapid intensification of the storm challenged preparedness efforts, and some areas were caught off guard by the storm's strength.\n",
              "\n",
              "## Milton's Aftermath\n",
              "\n",
              "Hurricane Milton, while also impactful, presented a different set of challenges.  Making landfall in Florida shortly after Helene, Milton exacerbated existing damage and further strained resources.  The storm spawned a confirmed EF-1 tornado in Cocoa Beach, damaging buildings and infrastructure.  Milton's flooding compounded the issues created by Helene, inundating areas still recovering from the previous storm.  The close succession of these two hurricanes created unique challenges for emergency response and recovery efforts.  Resources were stretched thin, and communities struggled to cope with the cumulative effects of the two storms.  The economic impact of Milton, estimated at $50 billion, added to the already substantial costs associated with Helene.  The combined impact of these storms highlighted the importance of robust infrastructure and the need for coordinated disaster response strategies.\n",
              "\n"
            ],
            "text/plain": [
              "<IPython.core.display.Markdown object>"
            ]
          },
          "metadata": {},
          "output_type": "display_data"
        }
      ],
      "source": [
        "display(Markdown(s[\"generate\"][\"draft\"]))"
      ]
    },
    {
      "cell_type": "markdown",
      "metadata": {
        "id": "c01d26c8df5b"
      },
      "source": [
        "## Additional Resources\n",
        "\n",
        "- [Google Cloud Generative AI repository on GitHub](https://github.com/GoogleCloudPlatform/generative-ai/)\n",
        "- [Gemini API in Google AI Studio](https://ai.google.dev/gemini-api/docs)\n",
        "- [Gemini API in Vertex AI](https://cloud.google.com/vertex-ai/generative-ai/docs/multimodal/overview)\n",
        "- [LangGraph tutorials](https://langchain-ai.github.io/langgraph/tutorials/)\n",
        "- [DeepLearning.AI course on AI Agents in LangGraph](https://www.deeplearning.ai/short-courses/ai-agents-in-langgraph/)"
      ]
    }
  ],
  "metadata": {
    "colab": {
      "name": "ai_agents_for_engineers.ipynb",
      "toc_visible": true
    },
    "kernelspec": {
      "display_name": "Python 3",
      "name": "python3"
    }
  },
  "nbformat": 4,
  "nbformat_minor": 0
}
