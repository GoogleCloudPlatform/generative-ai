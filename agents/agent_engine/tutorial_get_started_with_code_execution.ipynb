{
  "cells": [
    {
      "cell_type": "code",
      "execution_count": null,
      "metadata": {
        "id": "ur8xi4C7S06n"
      },
      "outputs": [],
      "source": [
        "# Copyright 2025 Google LLC\n",
        "#\n",
        "# Licensed under the Apache License, Version 2.0 (the \"License\");\n",
        "# you may not use this file except in compliance with the License.\n",
        "# You may obtain a copy of the License at\n",
        "#\n",
        "#     https://www.apache.org/licenses/LICENSE-2.0\n",
        "#\n",
        "# Unless required by applicable law or agreed to in writing, software\n",
        "# distributed under the License is distributed on an \"AS IS\" BASIS,\n",
        "# WITHOUT WARRANTIES OR CONDITIONS OF ANY KIND, either express or implied.\n",
        "# See the License for the specific language governing permissions and\n",
        "# limitations under the License."
      ]
    },
    {
      "cell_type": "markdown",
      "metadata": {
        "id": "JAPoU8Sm5E6e"
      },
      "source": [
        "# Get started with Code Execution on Vertex AI Agent Engine\n",
        "\n",
        "<table align=\"left\">\n",
        "  <td style=\"text-align: center\">\n",
        "    <a href=\"https://colab.research.google.com/github/GoogleCloudPlatform/generative-ai/blob/main/agents/agent_engine/tutorial_get_started_with_code_execution.ipynb\">\n",
        "      <img width=\"32px\" src=\"https://www.gstatic.com/pantheon/images/bigquery/welcome_page/colab-logo.svg\" alt=\"Google Colaboratory logo\"><br> Open in Colab\n",
        "    </a>\n",
        "  </td>\n",
        "  <td style=\"text-align: center\">\n",
        "    <a href=\"https://console.cloud.google.com/vertex-ai/colab/import/https:%2F%2Fraw.githubusercontent.com%2FGoogleCloudPlatform%2Fgenerative-ai%2Fmain%2Fagents%2Fagent_engine%2Ftutorial_get_started_with_code_execution.ipynb\">\n",
        "      <img width=\"32px\" src=\"https://lh3.googleusercontent.com/JmcxdQi-qOpctIvWKgPtrzZdJJK-J3sWE1RsfjZNwshCFgE_9fULcNpuXYTilIR2hjwN\" alt=\"Google Cloud Colab Enterprise logo\"><br> Open in Colab Enterprise\n",
        "    </a>\n",
        "  </td>\n",
        "  <td style=\"text-align: center\">\n",
        "    <a href=\"https://console.cloud.google.com/vertex-ai/workbench/deploy-notebook?download_url=https://raw.githubusercontent.com/GoogleCloudPlatform/generative-ai/main/agents/agent_engine/tutorial_get_started_with_code_execution.ipynb\">\n",
        "      <img src=\"https://www.gstatic.com/images/branding/gcpiconscolors/vertexai/v1/32px.svg\" alt=\"Vertex AI logo\"><br> Open in Vertex AI Workbench\n",
        "    </a>\n",
        "  </td>\n",
        "  <td style=\"text-align: center\">\n",
        "    <a href=\"https://github.com/GoogleCloudPlatform/generative-ai/blob/main/agents/agent_engine/tutorial_get_started_with_code_execution.ipynb\">\n",
        "      <img width=\"32px\" src=\"https://www.svgrepo.com/download/217753/github.svg\" alt=\"GitHub logo\"><br> View on GitHub\n",
        "    </a>\n",
        "  </td>\n",
        "</table>\n",
        "\n",
        "<div style=\"clear: both;\"></div>\n",
        "\n",
        "<b>Share to:</b>\n",
        "\n",
        "<a href=\"https://www.linkedin.com/sharing/share-offsite/?url=https%3A//github.com/GoogleCloudPlatform/generative-ai/blob/main/agents/agent_engine/tutorial_get_started_with_code_execution.ipynb\" target=\"_blank\">\n",
        "  <img width=\"20px\" src=\"https://upload.wikimedia.org/wikipedia/commons/8/81/LinkedIn_icon.svg\" alt=\"LinkedIn logo\">\n",
        "</a>\n",
        "\n",
        "<a href=\"https://bsky.app/intent/compose?text=https%3A//github.com/GoogleCloudPlatform/generative-ai/blob/main/agents/agent_engine/tutorial_get_started_with_code_execution.ipynb\" target=\"_blank\">\n",
        "  <img width=\"20px\" src=\"https://upload.wikimedia.org/wikipedia/commons/7/7a/Bluesky_Logo.svg\" alt=\"Bluesky logo\">\n",
        "</a>\n",
        "\n",
        "<a href=\"https://twitter.com/intent/tweet?url=https%3A//github.com/GoogleCloudPlatform/generative-ai/blob/main/agents/agent_engine/tutorial_get_started_with_code_execution.ipynb\" target=\"_blank\">\n",
        "  <img width=\"20px\" src=\"https://upload.wikimedia.org/wikipedia/commons/5/5a/X_icon_2.svg\" alt=\"X logo\">\n",
        "</a>\n",
        "\n",
        "<a href=\"https://reddit.com/submit?url=https%3A//github.com/GoogleCloudPlatform/generative-ai/blob/main/agents/agent_engine/tutorial_get_started_with_code_execution.ipynb\" target=\"_blank\">\n",
        "  <img width=\"20px\" src=\"https://redditinc.com/hubfs/Reddit%20Inc/Brand/Reddit_Logo.png\" alt=\"Reddit logo\">\n",
        "</a>\n",
        "\n",
        "<a href=\"https://www.facebook.com/sharer/sharer.php?u=https%3A//github.com/GoogleCloudPlatform/generative-ai/blob/main/agents/agent_engine/tutorial_get_started_with_code_execution.ipynb\" target=\"_blank\">\n",
        "  <img width=\"20px\" src=\"https://upload.wikimedia.org/wikipedia/commons/5/51/Facebook_f_logo_%282019%29.svg\" alt=\"Facebook logo\">\n",
        "</a>"
      ]
    },
    {
      "cell_type": "markdown",
      "metadata": {
        "id": "84f0f73a0f76"
      },
      "source": [
        "| Authors |\n",
        "| --- |\n",
        "| Shaoxiong Zhang |\n",
        "| [Ivan Nardini](https://github.com/inardini) |"
      ]
    },
    {
      "cell_type": "markdown",
      "metadata": {
        "id": "tvgnzT1CKxrO"
      },
      "source": [
        "## Overview\n",
        "\n",
        "This notebook is your comprehensive guide to the **Code Execution** feature on Vertex AI Agent Engine. We'll show you how to give your AI agents the ability to run code in a secure, managed environment, transforming them from simple conversationalists into capable problem-solvers.\n",
        "\n",
        "In this tutorial, you'll learn how to:\n",
        "\n",
        "* Create and manage a secure **Agent Engine Sandbox** for code execution.\n",
        "* Execute Python code **directly** using the Vertex AI SDK.\n",
        "* Integrate the sandbox with Large Language Models like **Gemini** and **Claude** for dynamic code generation and execution.\n",
        "* Build robust, stateful agents with the **Agent Development Kit (ADK)** that leverage code execution.\n",
        "* Manage the lifecycle of your sandboxes, from creation to cleanup.\n",
        "\n",
        "### What is Agent Engine Sandbox?\n",
        "\n",
        "**Agent Engine Sandbox** is Google's managed service for securely executing code generated by AI models. Think of it as a secure, isolated environment where your AI agents can run Python or JavaScript code without any risk to your underlying infrastructure. It's stateful, fast, and framework-agnostic, meaning you can integrate it with any agent framework and any LLM.\n",
        "\n",
        "### Why Use Agent Engine Sandbox?\n",
        "\n",
        "Key Benefits:\n",
        "\n",
        "1. **Security**: Code runs in an isolated sandbox, preventing interference with your host system's resources, files, or network.\n",
        "2. **Scalability**: Designed to handle production workloads with low latency for sandbox creation and execution.\n",
        "3. **Model-agnostic**: Works with any LLM, not just Gemini.\n",
        "4. **Managed**: No infrastructure to maintain. Google handles the environment, letting you focus on building great agents."
      ]
    },
    {
      "cell_type": "markdown",
      "metadata": {
        "id": "61RBz8LLbxCR"
      },
      "source": [
        "## Get started\n",
        "\n",
        "Let's begin by setting up our environment.\n"
      ]
    },
    {
      "cell_type": "markdown",
      "metadata": {
        "id": "No17Cw5hgx12"
      },
      "source": [
        "### Install Google Gen AI SDK and other required packages\n",
        "\n",
        "Installing the Python libraries needed to interact with Vertex AI's Agent Engine and build AI agents. The installation will complete in ~30 seconds. You'll see package names and version numbers scroll by."
      ]
    },
    {
      "cell_type": "code",
      "execution_count": 1,
      "metadata": {
        "id": "tFy3H3aPgx12",
        "colab": {
          "base_uri": "https://localhost:8080/"
        },
        "outputId": "819ce19b-17dc-4313-932c-a8357954fab0"
      },
      "outputs": [
        {
          "output_type": "stream",
          "name": "stdout",
          "text": [
            "\u001b[2K     \u001b[90m━━━━━━━━━━━━━━━━━━━━━━━━━━━━━━━━━━━━━━━━\u001b[0m \u001b[32m45.2/45.2 kB\u001b[0m \u001b[31m2.1 MB/s\u001b[0m eta \u001b[36m0:00:00\u001b[0m\n",
            "\u001b[2K     \u001b[90m━━━━━━━━━━━━━━━━━━━━━━━━━━━━━━━━━━━━━━━━\u001b[0m \u001b[32m46.8/46.8 kB\u001b[0m \u001b[31m2.0 MB/s\u001b[0m eta \u001b[36m0:00:00\u001b[0m\n",
            "\u001b[2K     \u001b[90m━━━━━━━━━━━━━━━━━━━━━━━━━━━━━━━━━━━━━━━━\u001b[0m \u001b[32m87.7/87.7 kB\u001b[0m \u001b[31m4.3 MB/s\u001b[0m eta \u001b[36m0:00:00\u001b[0m\n",
            "\u001b[2K     \u001b[90m━━━━━━━━━━━━━━━━━━━━━━━━━━━━━━━━━━━━━━━━\u001b[0m \u001b[32m85.2/85.2 kB\u001b[0m \u001b[31m1.3 MB/s\u001b[0m eta \u001b[36m0:00:00\u001b[0m\n",
            "\u001b[2K     \u001b[90m━━━━━━━━━━━━━━━━━━━━━━━━━━━━━━━━━━━━━━━━\u001b[0m \u001b[32m44.3/44.3 kB\u001b[0m \u001b[31m1.5 MB/s\u001b[0m eta \u001b[36m0:00:00\u001b[0m\n",
            "\u001b[2K     \u001b[90m━━━━━━━━━━━━━━━━━━━━━━━━━━━━━━━━━━━━━━━━\u001b[0m \u001b[32m62.1/62.1 kB\u001b[0m \u001b[31m4.6 MB/s\u001b[0m eta \u001b[36m0:00:00\u001b[0m\n",
            "\u001b[2K   \u001b[90m━━━━━━━━━━━━━━━━━━━━━━━━━━━━━━━━━━━━━━━━\u001b[0m \u001b[32m8.1/8.1 MB\u001b[0m \u001b[31m62.3 MB/s\u001b[0m eta \u001b[36m0:00:00\u001b[0m\n",
            "\u001b[2K   \u001b[90m━━━━━━━━━━━━━━━━━━━━━━━━━━━━━━━━━━━━━━━━\u001b[0m \u001b[32m357.5/357.5 kB\u001b[0m \u001b[31m22.8 MB/s\u001b[0m eta \u001b[36m0:00:00\u001b[0m\n",
            "\u001b[2K   \u001b[90m━━━━━━━━━━━━━━━━━━━━━━━━━━━━━━━━━━━━━━━━\u001b[0m \u001b[32m2.0/2.0 MB\u001b[0m \u001b[31m66.8 MB/s\u001b[0m eta \u001b[36m0:00:00\u001b[0m\n",
            "\u001b[2K   \u001b[90m━━━━━━━━━━━━━━━━━━━━━━━━━━━━━━━━━━━━━━━━\u001b[0m \u001b[32m109.1/109.1 kB\u001b[0m \u001b[31m7.7 MB/s\u001b[0m eta \u001b[36m0:00:00\u001b[0m\n",
            "\u001b[2K   \u001b[90m━━━━━━━━━━━━━━━━━━━━━━━━━━━━━━━━━━━━━━━━\u001b[0m \u001b[32m243.6/243.6 kB\u001b[0m \u001b[31m17.2 MB/s\u001b[0m eta \u001b[36m0:00:00\u001b[0m\n",
            "\u001b[2K   \u001b[90m━━━━━━━━━━━━━━━━━━━━━━━━━━━━━━━━━━━━━━━━\u001b[0m \u001b[32m107.3/107.3 kB\u001b[0m \u001b[31m7.9 MB/s\u001b[0m eta \u001b[36m0:00:00\u001b[0m\n",
            "\u001b[2K   \u001b[90m━━━━━━━━━━━━━━━━━━━━━━━━━━━━━━━━━━━━━━━━\u001b[0m \u001b[32m108.2/108.2 kB\u001b[0m \u001b[31m7.1 MB/s\u001b[0m eta \u001b[36m0:00:00\u001b[0m\n",
            "\u001b[2K   \u001b[90m━━━━━━━━━━━━━━━━━━━━━━━━━━━━━━━━━━━━━━━━\u001b[0m \u001b[32m173.7/173.7 kB\u001b[0m \u001b[31m11.7 MB/s\u001b[0m eta \u001b[36m0:00:00\u001b[0m\n",
            "\u001b[2K   \u001b[90m━━━━━━━━━━━━━━━━━━━━━━━━━━━━━━━━━━━━━━━━\u001b[0m \u001b[32m14.5/14.5 MB\u001b[0m \u001b[31m40.1 MB/s\u001b[0m eta \u001b[36m0:00:00\u001b[0m\n",
            "\u001b[2K   \u001b[90m━━━━━━━━━━━━━━━━━━━━━━━━━━━━━━━━━━━━━━━━\u001b[0m \u001b[32m222.6/222.6 kB\u001b[0m \u001b[31m15.2 MB/s\u001b[0m eta \u001b[36m0:00:00\u001b[0m\n",
            "\u001b[2K   \u001b[90m━━━━━━━━━━━━━━━━━━━━━━━━━━━━━━━━━━━━━━━━\u001b[0m \u001b[32m259.3/259.3 kB\u001b[0m \u001b[31m8.2 MB/s\u001b[0m eta \u001b[36m0:00:00\u001b[0m\n",
            "\u001b[2K   \u001b[90m━━━━━━━━━━━━━━━━━━━━━━━━━━━━━━━━━━━━━━━━\u001b[0m \u001b[32m537.0/537.0 kB\u001b[0m \u001b[31m27.0 MB/s\u001b[0m eta \u001b[36m0:00:00\u001b[0m\n",
            "\u001b[2K   \u001b[90m━━━━━━━━━━━━━━━━━━━━━━━━━━━━━━━━━━━━━━━━\u001b[0m \u001b[32m3.3/3.3 MB\u001b[0m \u001b[31m40.9 MB/s\u001b[0m eta \u001b[36m0:00:00\u001b[0m\n",
            "\u001b[2K   \u001b[90m━━━━━━━━━━━━━━━━━━━━━━━━━━━━━━━━━━━━━━━━\u001b[0m \u001b[32m397.2/397.2 kB\u001b[0m \u001b[31m26.3 MB/s\u001b[0m eta \u001b[36m0:00:00\u001b[0m\n",
            "\u001b[2K   \u001b[90m━━━━━━━━━━━━━━━━━━━━━━━━━━━━━━━━━━━━━━━━\u001b[0m \u001b[32m218.5/218.5 kB\u001b[0m \u001b[31m15.0 MB/s\u001b[0m eta \u001b[36m0:00:00\u001b[0m\n",
            "\u001b[2K   \u001b[90m━━━━━━━━━━━━━━━━━━━━━━━━━━━━━━━━━━━━━━━━\u001b[0m \u001b[32m502.6/502.6 kB\u001b[0m \u001b[31m32.6 MB/s\u001b[0m eta \u001b[36m0:00:00\u001b[0m\n",
            "\u001b[2K   \u001b[90m━━━━━━━━━━━━━━━━━━━━━━━━━━━━━━━━━━━━━━━━\u001b[0m \u001b[32m336.6/336.6 kB\u001b[0m \u001b[31m22.8 MB/s\u001b[0m eta \u001b[36m0:00:00\u001b[0m\n",
            "\u001b[2K   \u001b[90m━━━━━━━━━━━━━━━━━━━━━━━━━━━━━━━━━━━━━━━━\u001b[0m \u001b[32m131.8/131.8 kB\u001b[0m \u001b[31m9.6 MB/s\u001b[0m eta \u001b[36m0:00:00\u001b[0m\n",
            "\u001b[2K   \u001b[90m━━━━━━━━━━━━━━━━━━━━━━━━━━━━━━━━━━━━━━━━\u001b[0m \u001b[32m241.5/241.5 kB\u001b[0m \u001b[31m18.3 MB/s\u001b[0m eta \u001b[36m0:00:00\u001b[0m\n",
            "\u001b[2K   \u001b[90m━━━━━━━━━━━━━━━━━━━━━━━━━━━━━━━━━━━━━━━━\u001b[0m \u001b[32m47.3/47.3 kB\u001b[0m \u001b[31m3.5 MB/s\u001b[0m eta \u001b[36m0:00:00\u001b[0m\n",
            "\u001b[2K   \u001b[90m━━━━━━━━━━━━━━━━━━━━━━━━━━━━━━━━━━━━━━━━\u001b[0m \u001b[32m73.5/73.5 kB\u001b[0m \u001b[31m5.3 MB/s\u001b[0m eta \u001b[36m0:00:00\u001b[0m\n",
            "\u001b[2K   \u001b[90m━━━━━━━━━━━━━━━━━━━━━━━━━━━━━━━━━━━━━━━━\u001b[0m \u001b[32m78.8/78.8 kB\u001b[0m \u001b[31m5.8 MB/s\u001b[0m eta \u001b[36m0:00:00\u001b[0m\n",
            "\u001b[2K   \u001b[90m━━━━━━━━━━━━━━━━━━━━━━━━━━━━━━━━━━━━━━━━\u001b[0m \u001b[32m358.8/358.8 kB\u001b[0m \u001b[31m23.2 MB/s\u001b[0m eta \u001b[36m0:00:00\u001b[0m\n",
            "\u001b[2K   \u001b[90m━━━━━━━━━━━━━━━━━━━━━━━━━━━━━━━━━━━━━━━━\u001b[0m \u001b[32m173.1/173.1 kB\u001b[0m \u001b[31m13.1 MB/s\u001b[0m eta \u001b[36m0:00:00\u001b[0m\n",
            "\u001b[2K   \u001b[90m━━━━━━━━━━━━━━━━━━━━━━━━━━━━━━━━━━━━━━━━\u001b[0m \u001b[32m65.7/65.7 kB\u001b[0m \u001b[31m4.3 MB/s\u001b[0m eta \u001b[36m0:00:00\u001b[0m\n",
            "\u001b[2K   \u001b[90m━━━━━━━━━━━━━━━━━━━━━━━━━━━━━━━━━━━━━━━━\u001b[0m \u001b[32m72.5/72.5 kB\u001b[0m \u001b[31m4.4 MB/s\u001b[0m eta \u001b[36m0:00:00\u001b[0m\n",
            "\u001b[2K   \u001b[90m━━━━━━━━━━━━━━━━━━━━━━━━━━━━━━━━━━━━━━━━\u001b[0m \u001b[32m131.9/131.9 kB\u001b[0m \u001b[31m8.7 MB/s\u001b[0m eta \u001b[36m0:00:00\u001b[0m\n",
            "\u001b[2K   \u001b[90m━━━━━━━━━━━━━━━━━━━━━━━━━━━━━━━━━━━━━━━━\u001b[0m \u001b[32m208.0/208.0 kB\u001b[0m \u001b[31m14.4 MB/s\u001b[0m eta \u001b[36m0:00:00\u001b[0m\n",
            "\u001b[2K   \u001b[90m━━━━━━━━━━━━━━━━━━━━━━━━━━━━━━━━━━━━━━━━\u001b[0m \u001b[32m66.5/66.5 kB\u001b[0m \u001b[31m4.8 MB/s\u001b[0m eta \u001b[36m0:00:00\u001b[0m\n",
            "\u001b[2K   \u001b[90m━━━━━━━━━━━━━━━━━━━━━━━━━━━━━━━━━━━━━━━━\u001b[0m \u001b[32m50.2/50.2 kB\u001b[0m \u001b[31m3.6 MB/s\u001b[0m eta \u001b[36m0:00:00\u001b[0m\n",
            "\u001b[2K   \u001b[90m━━━━━━━━━━━━━━━━━━━━━━━━━━━━━━━━━━━━━━━━\u001b[0m \u001b[32m323.2/323.2 kB\u001b[0m \u001b[31m20.9 MB/s\u001b[0m eta \u001b[36m0:00:00\u001b[0m\n",
            "\u001b[2K   \u001b[90m━━━━━━━━━━━━━━━━━━━━━━━━━━━━━━━━━━━━━━━━\u001b[0m \u001b[32m462.4/462.4 kB\u001b[0m \u001b[31m31.0 MB/s\u001b[0m eta \u001b[36m0:00:00\u001b[0m\n",
            "\u001b[2K   \u001b[90m━━━━━━━━━━━━━━━━━━━━━━━━━━━━━━━━━━━━━━━━\u001b[0m \u001b[32m2.1/2.1 MB\u001b[0m \u001b[31m54.3 MB/s\u001b[0m eta \u001b[36m0:00:00\u001b[0m\n",
            "\u001b[2K   \u001b[90m━━━━━━━━━━━━━━━━━━━━━━━━━━━━━━━━━━━━━━━━\u001b[0m \u001b[32m229.9/229.9 kB\u001b[0m \u001b[31m17.2 MB/s\u001b[0m eta \u001b[36m0:00:00\u001b[0m\n",
            "\u001b[2K   \u001b[90m━━━━━━━━━━━━━━━━━━━━━━━━━━━━━━━━━━━━━━━━\u001b[0m \u001b[32m807.9/807.9 kB\u001b[0m \u001b[31m24.1 MB/s\u001b[0m eta \u001b[36m0:00:00\u001b[0m\n",
            "\u001b[2K   \u001b[90m━━━━━━━━━━━━━━━━━━━━━━━━━━━━━━━━━━━━━━━━\u001b[0m \u001b[32m64.7/64.7 kB\u001b[0m \u001b[31m5.3 MB/s\u001b[0m eta \u001b[36m0:00:00\u001b[0m\n",
            "\u001b[2K   \u001b[90m━━━━━━━━━━━━━━━━━━━━━━━━━━━━━━━━━━━━━━━━\u001b[0m \u001b[32m3.1/3.1 MB\u001b[0m \u001b[31m53.9 MB/s\u001b[0m eta \u001b[36m0:00:00\u001b[0m\n",
            "\u001b[2K   \u001b[90m━━━━━━━━━━━━━━━━━━━━━━━━━━━━━━━━━━━━━━━━\u001b[0m \u001b[32m3.3/3.3 MB\u001b[0m \u001b[31m38.6 MB/s\u001b[0m eta \u001b[36m0:00:00\u001b[0m\n",
            "\u001b[2K   \u001b[90m━━━━━━━━━━━━━━━━━━━━━━━━━━━━━━━━━━━━━━━━\u001b[0m \u001b[32m74.3/74.3 kB\u001b[0m \u001b[31m700.4 kB/s\u001b[0m eta \u001b[36m0:00:00\u001b[0m\n",
            "\u001b[2K   \u001b[90m━━━━━━━━━━━━━━━━━━━━━━━━━━━━━━━━━━━━━━━━\u001b[0m \u001b[32m44.6/44.6 kB\u001b[0m \u001b[31m3.1 MB/s\u001b[0m eta \u001b[36m0:00:00\u001b[0m\n",
            "\u001b[2K   \u001b[90m━━━━━━━━━━━━━━━━━━━━━━━━━━━━━━━━━━━━━━━━\u001b[0m \u001b[32m68.1/68.1 kB\u001b[0m \u001b[31m5.1 MB/s\u001b[0m eta \u001b[36m0:00:00\u001b[0m\n",
            "\u001b[2K   \u001b[90m━━━━━━━━━━━━━━━━━━━━━━━━━━━━━━━━━━━━━━━━\u001b[0m \u001b[32m79.1/79.1 kB\u001b[0m \u001b[31m6.1 MB/s\u001b[0m eta \u001b[36m0:00:00\u001b[0m\n",
            "\u001b[2K   \u001b[90m━━━━━━━━━━━━━━━━━━━━━━━━━━━━━━━━━━━━━━━━\u001b[0m \u001b[32m182.5/182.5 kB\u001b[0m \u001b[31m9.2 MB/s\u001b[0m eta \u001b[36m0:00:00\u001b[0m\n",
            "\u001b[2K   \u001b[90m━━━━━━━━━━━━━━━━━━━━━━━━━━━━━━━━━━━━━━━━\u001b[0m \u001b[32m163.3/163.3 kB\u001b[0m \u001b[31m12.9 MB/s\u001b[0m eta \u001b[36m0:00:00\u001b[0m\n",
            "\u001b[2K   \u001b[90m━━━━━━━━━━━━━━━━━━━━━━━━━━━━━━━━━━━━━━━━\u001b[0m \u001b[32m153.5/153.5 kB\u001b[0m \u001b[31m12.0 MB/s\u001b[0m eta \u001b[36m0:00:00\u001b[0m\n",
            "\u001b[2K   \u001b[90m━━━━━━━━━━━━━━━━━━━━━━━━━━━━━━━━━━━━━━━━\u001b[0m \u001b[32m229.5/229.5 kB\u001b[0m \u001b[31m18.9 MB/s\u001b[0m eta \u001b[36m0:00:00\u001b[0m\n",
            "\u001b[2K   \u001b[90m━━━━━━━━━━━━━━━━━━━━━━━━━━━━━━━━━━━━━━━━\u001b[0m \u001b[32m384.7/384.7 kB\u001b[0m \u001b[31m25.6 MB/s\u001b[0m eta \u001b[36m0:00:00\u001b[0m\n",
            "\u001b[2K   \u001b[90m━━━━━━━━━━━━━━━━━━━━━━━━━━━━━━━━━━━━━━━━\u001b[0m \u001b[32m104.1/104.1 kB\u001b[0m \u001b[31m7.5 MB/s\u001b[0m eta \u001b[36m0:00:00\u001b[0m\n",
            "\u001b[2K   \u001b[90m━━━━━━━━━━━━━━━━━━━━━━━━━━━━━━━━━━━━━━━━\u001b[0m \u001b[32m81.3/81.3 kB\u001b[0m \u001b[31m5.6 MB/s\u001b[0m eta \u001b[36m0:00:00\u001b[0m\n",
            "\u001b[2K   \u001b[90m━━━━━━━━━━━━━━━━━━━━━━━━━━━━━━━━━━━━━━━━\u001b[0m \u001b[32m294.6/294.6 kB\u001b[0m \u001b[31m18.2 MB/s\u001b[0m eta \u001b[36m0:00:00\u001b[0m\n",
            "\u001b[2K   \u001b[90m━━━━━━━━━━━━━━━━━━━━━━━━━━━━━━━━━━━━━━━━\u001b[0m \u001b[32m607.6/607.6 kB\u001b[0m \u001b[31m32.9 MB/s\u001b[0m eta \u001b[36m0:00:00\u001b[0m\n",
            "\u001b[2K   \u001b[90m━━━━━━━━━━━━━━━━━━━━━━━━━━━━━━━━━━━━━━━━\u001b[0m \u001b[32m6.6/6.6 MB\u001b[0m \u001b[31m48.5 MB/s\u001b[0m eta \u001b[36m0:00:00\u001b[0m\n",
            "\u001b[2K   \u001b[90m━━━━━━━━━━━━━━━━━━━━━━━━━━━━━━━━━━━━━━━━\u001b[0m \u001b[32m91.1/91.1 kB\u001b[0m \u001b[31m6.6 MB/s\u001b[0m eta \u001b[36m0:00:00\u001b[0m\n",
            "\u001b[2K   \u001b[90m━━━━━━━━━━━━━━━━━━━━━━━━━━━━━━━━━━━━━━━━\u001b[0m \u001b[32m71.0/71.0 kB\u001b[0m \u001b[31m5.0 MB/s\u001b[0m eta \u001b[36m0:00:00\u001b[0m\n",
            "\u001b[2K   \u001b[90m━━━━━━━━━━━━━━━━━━━━━━━━━━━━━━━━━━━━━━━━\u001b[0m \u001b[32m90.0/90.0 kB\u001b[0m \u001b[31m7.0 MB/s\u001b[0m eta \u001b[36m0:00:00\u001b[0m\n",
            "\u001b[2K   \u001b[90m━━━━━━━━━━━━━━━━━━━━━━━━━━━━━━━━━━━━━━━━\u001b[0m \u001b[32m16.6/16.6 MB\u001b[0m \u001b[31m76.0 MB/s\u001b[0m eta \u001b[36m0:00:00\u001b[0m\n",
            "\u001b[2K   \u001b[90m━━━━━━━━━━━━━━━━━━━━━━━━━━━━━━━━━━━━━━━━\u001b[0m \u001b[32m181.3/181.3 kB\u001b[0m \u001b[31m13.8 MB/s\u001b[0m eta \u001b[36m0:00:00\u001b[0m\n",
            "\u001b[2K   \u001b[90m━━━━━━━━━━━━━━━━━━━━━━━━━━━━━━━━━━━━━━━━\u001b[0m \u001b[32m48.6/48.6 kB\u001b[0m \u001b[31m3.4 MB/s\u001b[0m eta \u001b[36m0:00:00\u001b[0m\n",
            "\u001b[2K   \u001b[90m━━━━━━━━━━━━━━━━━━━━━━━━━━━━━━━━━━━━━━━━\u001b[0m \u001b[32m4.5/4.5 MB\u001b[0m \u001b[31m93.4 MB/s\u001b[0m eta \u001b[36m0:00:00\u001b[0m\n",
            "\u001b[2K   \u001b[90m━━━━━━━━━━━━━━━━━━━━━━━━━━━━━━━━━━━━━━━━\u001b[0m \u001b[32m44.4/44.4 kB\u001b[0m \u001b[31m3.1 MB/s\u001b[0m eta \u001b[36m0:00:00\u001b[0m\n",
            "\u001b[2K   \u001b[90m━━━━━━━━━━━━━━━━━━━━━━━━━━━━━━━━━━━━━━━━\u001b[0m \u001b[32m129.8/129.8 kB\u001b[0m \u001b[31m9.7 MB/s\u001b[0m eta \u001b[36m0:00:00\u001b[0m\n",
            "\u001b[2K   \u001b[90m━━━━━━━━━━━━━━━━━━━━━━━━━━━━━━━━━━━━━━━━\u001b[0m \u001b[32m247.8/247.8 kB\u001b[0m \u001b[31m18.1 MB/s\u001b[0m eta \u001b[36m0:00:00\u001b[0m\n",
            "\u001b[2K   \u001b[90m━━━━━━━━━━━━━━━━━━━━━━━━━━━━━━━━━━━━━━━━\u001b[0m \u001b[32m67.6/67.6 kB\u001b[0m \u001b[31m5.3 MB/s\u001b[0m eta \u001b[36m0:00:00\u001b[0m\n",
            "\u001b[2K   \u001b[90m━━━━━━━━━━━━━━━━━━━━━━━━━━━━━━━━━━━━━━━━\u001b[0m \u001b[32m219.6/219.6 kB\u001b[0m \u001b[31m16.7 MB/s\u001b[0m eta \u001b[36m0:00:00\u001b[0m\n",
            "\u001b[2K   \u001b[90m━━━━━━━━━━━━━━━━━━━━━━━━━━━━━━━━━━━━━━━━\u001b[0m \u001b[32m44.9/44.9 kB\u001b[0m \u001b[31m2.9 MB/s\u001b[0m eta \u001b[36m0:00:00\u001b[0m\n",
            "\u001b[2K   \u001b[90m━━━━━━━━━━━━━━━━━━━━━━━━━━━━━━━━━━━━━━━━\u001b[0m \u001b[32m83.1/83.1 kB\u001b[0m \u001b[31m6.6 MB/s\u001b[0m eta \u001b[36m0:00:00\u001b[0m\n",
            "\u001b[2K   \u001b[90m━━━━━━━━━━━━━━━━━━━━━━━━━━━━━━━━━━━━━━━━\u001b[0m \u001b[32m113.9/113.9 kB\u001b[0m \u001b[31m8.1 MB/s\u001b[0m eta \u001b[36m0:00:00\u001b[0m\n",
            "\u001b[2K   \u001b[90m━━━━━━━━━━━━━━━━━━━━━━━━━━━━━━━━━━━━━━━━\u001b[0m \u001b[32m386.4/386.4 kB\u001b[0m \u001b[31m22.7 MB/s\u001b[0m eta \u001b[36m0:00:00\u001b[0m\n",
            "\u001b[2K   \u001b[90m━━━━━━━━━━━━━━━━━━━━━━━━━━━━━━━━━━━━━━━━\u001b[0m \u001b[32m78.5/78.5 kB\u001b[0m \u001b[31m6.0 MB/s\u001b[0m eta \u001b[36m0:00:00\u001b[0m\n",
            "\u001b[2K   \u001b[90m━━━━━━━━━━━━━━━━━━━━━━━━━━━━━━━━━━━━━━━━\u001b[0m \u001b[32m118.1/118.1 kB\u001b[0m \u001b[31m8.2 MB/s\u001b[0m eta \u001b[36m0:00:00\u001b[0m\n",
            "\u001b[?25h\u001b[31mERROR: pip's dependency resolver does not currently take into account all the packages that are installed. This behaviour is the source of the following dependency conflicts.\n",
            "google-colab 1.0.0 requires google-auth==2.38.0, but you have google-auth 2.42.1 which is incompatible.\n",
            "google-colab 1.0.0 requires requests==2.32.4, but you have requests 2.32.5 which is incompatible.\n",
            "opencv-python-headless 4.12.0.88 requires numpy<2.3.0,>=2; python_version >= \"3.9\", but you have numpy 2.3.4 which is incompatible.\n",
            "numba 0.60.0 requires numpy<2.1,>=1.22, but you have numpy 2.3.4 which is incompatible.\n",
            "pydrive2 1.21.3 requires cryptography<44, but you have cryptography 46.0.3 which is incompatible.\n",
            "google-ai-generativelanguage 0.6.15 requires protobuf!=4.21.0,!=4.21.1,!=4.21.2,!=4.21.3,!=4.21.4,!=4.21.5,<6.0.0dev,>=3.20.2, but you have protobuf 6.33.0 which is incompatible.\n",
            "pyopenssl 24.2.1 requires cryptography<44,>=41.0.5, but you have cryptography 46.0.3 which is incompatible.\n",
            "gradio 5.49.1 requires pydantic<2.12,>=2.0, but you have pydantic 2.12.3 which is incompatible.\n",
            "cupy-cuda12x 13.3.0 requires numpy<2.3,>=1.22, but you have numpy 2.3.4 which is incompatible.\n",
            "tensorflow 2.19.0 requires numpy<2.2.0,>=1.26.0, but you have numpy 2.3.4 which is incompatible.\n",
            "tensorflow 2.19.0 requires protobuf!=4.21.0,!=4.21.1,!=4.21.2,!=4.21.3,!=4.21.4,!=4.21.5,<6.0.0dev,>=3.20.3, but you have protobuf 6.33.0 which is incompatible.\n",
            "opencv-python 4.12.0.88 requires numpy<2.3.0,>=2; python_version >= \"3.9\", but you have numpy 2.3.4 which is incompatible.\n",
            "opencv-contrib-python 4.12.0.88 requires numpy<2.3.0,>=2; python_version >= \"3.9\", but you have numpy 2.3.4 which is incompatible.\u001b[0m\u001b[31m\n",
            "\u001b[0m✅ Packages installed successfully!\n"
          ]
        }
      ],
      "source": [
        "%pip install --upgrade --quiet --force-reinstall \"google-cloud-aiplatform>=1.112.0\" anthropic google-adk\n",
        "\n",
        "# ✅ Installation complete!\n",
        "print(\"✅ Packages installed successfully!\")"
      ]
    },
    {
      "cell_type": "markdown",
      "metadata": {
        "id": "dmWOrTJ3gx13"
      },
      "source": [
        "### Authenticate your notebook environment (Colab only)\n",
        "\n",
        "Authenticating your Google account so this notebook can access Vertex AI services on your behalf. If you're on Google Colab, a pop-up will ask you to sign in and grant permissions. This is a one-time setup per session."
      ]
    },
    {
      "cell_type": "code",
      "execution_count": 2,
      "metadata": {
        "id": "NyKGtVQjgx13"
      },
      "outputs": [],
      "source": [
        "import sys\n",
        "\n",
        "if \"google.colab\" in sys.modules:\n",
        "    from google.colab import auth\n",
        "\n",
        "    auth.authenticate_user()"
      ]
    },
    {
      "cell_type": "markdown",
      "metadata": {
        "id": "DF4l8DTdWgPY"
      },
      "source": [
        "### Set Google Cloud project information\n",
        "\n",
        "Configuring the notebook to use your specific Google Cloud project and region. All Agent Engine resources will be created in this project and region. After running this cell, you'll see confirmation that Vertex AI is initialized."
      ]
    },
    {
      "cell_type": "code",
      "execution_count": 3,
      "metadata": {
        "id": "Nqwi-5ufWp_B",
        "colab": {
          "base_uri": "https://localhost:8080/"
        },
        "outputId": "2621e410-f549-4291-faf4-ed64e9512808"
      },
      "outputs": [
        {
          "output_type": "stream",
          "name": "stderr",
          "text": [
            "/usr/local/lib/python3.12/dist-packages/google/cloud/aiplatform/models.py:52: FutureWarning: Support for google-cloud-storage < 3.0.0 will be removed in a future version of google-cloud-aiplatform. Please upgrade to google-cloud-storage >= 3.0.0.\n",
            "  from google.cloud.aiplatform.utils import gcs_utils\n"
          ]
        },
        {
          "output_type": "stream",
          "name": "stdout",
          "text": [
            "✅ Vertex AI initialized successfully!\n",
            "   Project: inardini-demos\n",
            "   Location: us-central1\n"
          ]
        }
      ],
      "source": [
        "# Use the environment variable if the user doesn't provide Project ID.\n",
        "import os\n",
        "\n",
        "import vertexai\n",
        "\n",
        "PROJECT_ID = \"inardini-demos\"  # @param {type: \"string\", placeholder: \"[your-project-id]\", isTemplate: true}\n",
        "if not PROJECT_ID or PROJECT_ID == \"[your-project-id]\":\n",
        "    PROJECT_ID = str(os.environ.get(\"GOOGLE_CLOUD_PROJECT\"))\n",
        "\n",
        "LOCATION = os.environ.get(\"GOOGLE_CLOUD_REGION\", \"us-central1\")\n",
        "\n",
        "# ADK env variables\n",
        "GOOGLE_GENAI_USE_VERTEXAI = 1\n",
        "\n",
        "os.environ[\"GOOGLE_CLOUD_PROJECT\"] = PROJECT_ID\n",
        "os.environ[\"GOOGLE_CLOUD_LOCATION\"] = LOCATION\n",
        "os.environ[\"GOOGLE_GENAI_USE_VERTEXAI\"] = str(GOOGLE_GENAI_USE_VERTEXAI)\n",
        "\n",
        "# Initialize Vertex AI\n",
        "vertexai.init(project=PROJECT_ID, location=LOCATION)\n",
        "client = vertexai.Client(project=PROJECT_ID, location=LOCATION)\n",
        "\n",
        "# ✅ Confirmation\n",
        "print(f\"✅ Vertex AI initialized successfully!\")\n",
        "print(f\"   Project: {PROJECT_ID}\")\n",
        "print(f\"   Location: {LOCATION}\")"
      ]
    },
    {
      "cell_type": "markdown",
      "metadata": {
        "id": "5303c05f7aa6"
      },
      "source": [
        "### Import libraries\n",
        "\n",
        "Import all the necessary classes and types from the installed SDKs that we'll use throughout the tutorial."
      ]
    },
    {
      "cell_type": "code",
      "execution_count": 39,
      "metadata": {
        "id": "6fc324893334"
      },
      "outputs": [],
      "source": [
        "import json\n",
        "from vertexai import types\n",
        "from vertexai.generative_models import (\n",
        "    Content,\n",
        "    FunctionDeclaration,\n",
        "    GenerationConfig,\n",
        "    GenerativeModel,\n",
        "    Part,\n",
        "    Tool,\n",
        ")\n",
        "from anthropic import AnthropicVertex\n",
        "import re\n",
        "import base64\n",
        "import matplotlib.pyplot as plt\n",
        "from io import BytesIO\n",
        "import logging\n",
        "\n",
        "logging.getLogger().setLevel(logging.INFO)\n",
        "from google.adk.agents import LlmAgent\n",
        "from google.adk.artifacts import InMemoryArtifactService\n",
        "from google.adk.code_executors import BuiltInCodeExecutor\n",
        "from google.adk.code_executors.agent_engine_sandbox_code_executor import AgentEngineSandboxCodeExecutor\n",
        "from google.adk.events import Event\n",
        "from google.adk.memory import InMemoryMemoryService\n",
        "from google.adk.runners import Runner\n",
        "from google.adk.sessions import InMemorySessionService\n",
        "from google.adk.tools import FunctionTool, ToolContext\n",
        "from google.genai import types as genai_types\n",
        "from pydantic import BaseModel, Field"
      ]
    },
    {
      "cell_type": "markdown",
      "metadata": {
        "id": "jyMI-T-9Biga"
      },
      "source": [
        "### Helpers\n",
        "\n",
        "To make the output of our agent interactions easier to read, we'll use this helper function. It parses the event stream from the ADK Runner and prints the important parts—like tool calls, code execution steps, and final responses—in a clear, structured way."
      ]
    },
    {
      "cell_type": "code",
      "execution_count": 5,
      "metadata": {
        "id": "YR2_pxrjBkjF"
      },
      "outputs": [],
      "source": [
        "def parse_event(event: Event):\n",
        "    \"\"\"Parse agent events to highlight function calls and code execution.\"\"\"\n",
        "    if event.content and event.content.parts:\n",
        "        for part in event.content.parts:\n",
        "            # Check for function call (agent using tool)\n",
        "            if hasattr(part, \"function_call\") and part.function_call:\n",
        "                print(f\"\\nTOOL CALL: {part.function_call.name}\")\n",
        "                if \"code\" in part.function_call.args:\n",
        "                    print(\"Code to execute:\")\n",
        "                    print(part.function_call.args[\"code\"].strip())\n",
        "\n",
        "            # Check for function response (tool result)\n",
        "            elif hasattr(part, \"function_response\") and part.function_response:\n",
        "                resp = part.function_response.response\n",
        "                if isinstance(resp, dict) and resp.get(\"status\") == \"success\":\n",
        "                    print(\"\\nEXECUTION RESULT:\")\n",
        "                    print(resp.get(\"output\", \"\").strip())\n",
        "\n",
        "            # Check for Code Interpreter Extension executable code\n",
        "            elif hasattr(part, \"executable_code\") and part.executable_code:\n",
        "                print(\"\\nCODE INTERPRETER EXECUTION:\")\n",
        "                print(f\"Language: {part.executable_code.language}\")\n",
        "                print(\"Code:\")\n",
        "                print(part.executable_code.code.strip())\n",
        "\n",
        "            # Check for Code Interpreter Extension execution result\n",
        "            elif hasattr(part, \"code_execution_result\") and part.code_execution_result:\n",
        "                print(\"\\nCODE INTERPRETER RESULT:\")\n",
        "                print(f\"Status: {part.code_execution_result.outcome}\")\n",
        "                if part.code_execution_result.output:\n",
        "                    print(\"Output:\")\n",
        "                    print(part.code_execution_result.output.strip())\n",
        "                if (\n",
        "                    hasattr(part.code_execution_result, \"error\")\n",
        "                    and part.code_execution_result.error\n",
        "                ):\n",
        "                    print(f\"Error: {part.code_execution_result.error}\")\n",
        "\n",
        "            # Check for text responses (explanatory text or final response)\n",
        "            elif hasattr(part, \"text\") and part.text:\n",
        "                # For final responses, show with special formatting\n",
        "                if event.is_final_response():\n",
        "                    print(\"\\nAGENT RESPONSE:\")\n",
        "                    print(part.text.strip())\n",
        "                # For intermediate text (explanations before code)\n",
        "                elif len(part.text.strip()) > 0:\n",
        "                    print(\"\\nEXPLANATION:\")\n",
        "                    print(part.text.strip())"
      ]
    },
    {
      "cell_type": "markdown",
      "metadata": {
        "id": "CDm0an9O8dfN"
      },
      "source": [
        "# Your First Code Execution\n",
        "\n",
        "Let's start with the simplest possible example—executing code directly in an Agent Engine Sandbox. Create a secure, isolated environment to run Python code safely. The sandbox protects your infrastructure by running untrusted code in isolation."
      ]
    },
    {
      "cell_type": "code",
      "execution_count": 6,
      "metadata": {
        "id": "tS-m5UVd8l4V",
        "colab": {
          "base_uri": "https://localhost:8080/"
        },
        "outputId": "bf6f3a93-bf0a-44fd-f3f6-71fd25291ef4"
      },
      "outputs": [
        {
          "output_type": "stream",
          "name": "stderr",
          "text": [
            "INFO:httpx:HTTP Request: POST https://us-central1-aiplatform.googleapis.com/v1beta1/projects/inardini-demos/locations/us-central1/reasoningEngines \"HTTP/1.1 200 OK\"\n",
            "INFO:vertexai_genai.agentengines:View progress and logs at https://console.cloud.google.com/logs/query?project=inardini-demos.\n",
            "INFO:httpx:HTTP Request: GET https://us-central1-aiplatform.googleapis.com/v1beta1/projects/541923329259/locations/us-central1/reasoningEngines/1159945184885080064/operations/7785184113027186688 \"HTTP/1.1 200 OK\"\n",
            "INFO:httpx:HTTP Request: GET https://us-central1-aiplatform.googleapis.com/v1beta1/projects/541923329259/locations/us-central1/reasoningEngines/1159945184885080064/operations/7785184113027186688 \"HTTP/1.1 200 OK\"\n",
            "INFO:vertexai_genai.agentengines:Agent Engine created. To use it in another session:\n",
            "INFO:vertexai_genai.agentengines:agent_engine=client.agent_engines.get(name='projects/541923329259/locations/us-central1/reasoningEngines/1159945184885080064')\n"
          ]
        },
        {
          "output_type": "stream",
          "name": "stdout",
          "text": [
            "✅ Agent Engine created successfully!\n",
            "   Resource name: projects/541923329259/locations/us-central1/reasoningEngines/1159945184885080064\n"
          ]
        }
      ],
      "source": [
        "# Create an AgentEngine resource (top-level container)\n",
        "agent_engine = client.agent_engines.create()\n",
        "\n",
        "print(f\"✅ Agent Engine created successfully!\")\n",
        "print(f\"   Resource name: {agent_engine.api_resource.name}\")"
      ]
    },
    {
      "cell_type": "markdown",
      "metadata": {
        "id": "0nf0b5n8HXci"
      },
      "source": [
        "We're creating a sandbox within the Agent Engine. This secure runtime environment will execute our code."
      ]
    },
    {
      "cell_type": "code",
      "execution_count": 7,
      "metadata": {
        "id": "wSnSo_fB9GaL",
        "colab": {
          "base_uri": "https://localhost:8080/"
        },
        "outputId": "47eaddc6-d9ad-4d88-cd92-fd707a29020a"
      },
      "outputs": [
        {
          "output_type": "stream",
          "name": "stderr",
          "text": [
            "/tmp/ipython-input-1958057116.py:1: ExperimentalWarning: The Vertex SDK GenAI agent_engines.sandboxes module is experimental, and may change in future versions.\n",
            "  sandbox_operation = client.agent_engines.sandboxes.create(\n",
            "INFO:httpx:HTTP Request: POST https://us-central1-aiplatform.googleapis.com/v1beta1/projects/541923329259/locations/us-central1/reasoningEngines/1159945184885080064/sandboxEnvironments \"HTTP/1.1 200 OK\"\n",
            "INFO:httpx:HTTP Request: GET https://us-central1-aiplatform.googleapis.com/v1beta1/projects/541923329259/locations/us-central1/operations/5983282467195322368 \"HTTP/1.1 200 OK\"\n",
            "INFO:httpx:HTTP Request: GET https://us-central1-aiplatform.googleapis.com/v1beta1/projects/541923329259/locations/us-central1/operations/5983282467195322368 \"HTTP/1.1 200 OK\"\n",
            "INFO:httpx:HTTP Request: GET https://us-central1-aiplatform.googleapis.com/v1beta1/projects/541923329259/locations/us-central1/operations/5983282467195322368 \"HTTP/1.1 200 OK\"\n",
            "INFO:httpx:HTTP Request: GET https://us-central1-aiplatform.googleapis.com/v1beta1/projects/541923329259/locations/us-central1/operations/5983282467195322368 \"HTTP/1.1 200 OK\"\n",
            "INFO:httpx:HTTP Request: GET https://us-central1-aiplatform.googleapis.com/v1beta1/projects/541923329259/locations/us-central1/reasoningEngines/1159945184885080064/sandboxEnvironments/1293705172450541568 \"HTTP/1.1 200 OK\"\n"
          ]
        },
        {
          "output_type": "stream",
          "name": "stdout",
          "text": [
            "✅ Sandbox created successfully!\n",
            "   Display name: my_first_sandbox\n",
            "   Resource name: projects/541923329259/locations/us-central1/reasoningEngines/1159945184885080064/sandboxEnvironments/1293705172450541568\n",
            "   State: State.STATE_RUNNING\n"
          ]
        }
      ],
      "source": [
        "sandbox_operation = client.agent_engines.sandboxes.create(\n",
        "    name=agent_engine.api_resource.name,\n",
        "    config=types.CreateAgentEngineSandboxConfig(display_name=\"my_first_sandbox\"),\n",
        "    spec={\"code_execution_environment\": {}},\n",
        ")\n",
        "\n",
        "# Save the sandbox resource name for later use\n",
        "sandbox_resource_name = sandbox_operation.response.name\n",
        "\n",
        "print(f\"✅ Sandbox created successfully!\")\n",
        "print(f\"   Display name: my_first_sandbox\")\n",
        "print(f\"   Resource name: {sandbox_resource_name}\")\n",
        "print(f\"   State: {sandbox_operation.response.state}\")"
      ]
    },
    {
      "cell_type": "markdown",
      "metadata": {
        "id": "cHJzqS0UHb8-"
      },
      "source": [
        "Now we'll send Python code to the sandbox for execution. The sandbox will run it and return the output."
      ]
    },
    {
      "cell_type": "code",
      "execution_count": 8,
      "metadata": {
        "id": "C8q-cnZm8uA4",
        "colab": {
          "base_uri": "https://localhost:8080/"
        },
        "outputId": "f6396abb-63cb-446a-849c-58775c1a0f08"
      },
      "outputs": [
        {
          "output_type": "stream",
          "name": "stderr",
          "text": [
            "INFO:httpx:HTTP Request: POST https://us-central1-aiplatform.googleapis.com/v1beta1/projects/541923329259/locations/us-central1/reasoningEngines/1159945184885080064/sandboxEnvironments/1293705172450541568/:execute \"HTTP/1.1 200 OK\"\n"
          ]
        },
        {
          "output_type": "stream",
          "name": "stdout",
          "text": [
            "✅ Code executed successfully!\n"
          ]
        }
      ],
      "source": [
        "# Execute simple Python code in the sandbox\n",
        "response = client.agent_engines.sandboxes.execute_code(\n",
        "    name=sandbox_resource_name,\n",
        "    input_data={\n",
        "        \"code\": \"import math\\nprint(f'Square root of 15376: {math.sqrt(15376)}')\"\n",
        "    },\n",
        ")\n",
        "\n",
        "print(\"✅ Code executed successfully!\")"
      ]
    },
    {
      "cell_type": "markdown",
      "metadata": {
        "id": "C3HtiPkIHfRo"
      },
      "source": [
        "The sandbox returns output in a specific format. Let's parse it to see the results.\n",
        "\n",
        "The response contains an `outputs` array. Each output has:\n",
        "- `mime_type`: Indicates the type of content (JSON for stdout/stderr, or file types)\n",
        "- `data`: The actual content (encoded bytes)\n",
        "- `metadata`: Additional information (like file names for generated files)"
      ]
    },
    {
      "cell_type": "code",
      "execution_count": 9,
      "metadata": {
        "id": "-ILv6TxV8vQV",
        "colab": {
          "base_uri": "https://localhost:8080/"
        },
        "outputId": "857f88c7-a058-4f14-d7b5-a9fd603d6a8a"
      },
      "outputs": [
        {
          "output_type": "stream",
          "name": "stdout",
          "text": [
            "📤 Output:\n",
            "Square root of 15376: 124.0\n",
            "\n"
          ]
        }
      ],
      "source": [
        "# Parse the response to extract stdout/stderr\n",
        "# The JSON output (with stdout/stderr) has mime_type=\"application/json\" and no metadata\n",
        "for output in response.outputs:\n",
        "    if output.mime_type == \"application/json\" and output.metadata is None:\n",
        "        # Decode the bytes to string\n",
        "        result = json.loads(output.data.decode(\"utf-8\"))\n",
        "\n",
        "        # Display stdout (standard output)\n",
        "        if result.get(\"msg_out\"):\n",
        "            print(\"📤 Output:\")\n",
        "            print(result.get(\"msg_out\"))\n",
        "\n",
        "        # Display stderr (errors) if any\n",
        "        if result.get(\"msg_err\"):\n",
        "            print(\"❌ Errors:\")\n",
        "            print(result.get(\"msg_err\"))"
      ]
    },
    {
      "cell_type": "markdown",
      "metadata": {
        "id": "y5rFVnl9-qZv"
      },
      "source": [
        "# Integration with LLMs\n"
      ]
    },
    {
      "cell_type": "markdown",
      "metadata": {
        "id": "pMnRiIyITJSj"
      },
      "source": [
        "## Create a sandbox with customized configs\n",
        "\n",
        "Different tasks require different resources:\n",
        "- **Language:** Python for data science, JavaScript for web-related tasks\n",
        "- **Machine Config:** More vCPUs and RAM for computationally intensive operations\n",
        "\n",
        "You can customize the sandbox environment to fit specific needs.\n",
        "\n",
        "| Configuration Option | Values | Description |\n",
        "|---------------------|--------|-------------|\n",
        "| `code_language` | `LANGUAGE_PYTHON`, `LANGUAGE_JAVASCRIPT`, `LANGUAGE_UNSPECIFIED` | Programming language runtime |\n",
        "| `machine_config` | `MACHINE_CONFIG_VCPU4_RAM4GIB`, `MACHINE_CONFIG_UNSPECIFIED` | Compute resources (4 vCPUs, 4GB RAM) |\n"
      ]
    },
    {
      "cell_type": "code",
      "execution_count": 11,
      "metadata": {
        "id": "VED9E8FrTfYm",
        "colab": {
          "base_uri": "https://localhost:8080/"
        },
        "outputId": "1aa68fb1-f1cf-4ef7-ef7b-f20ab0f1befa"
      },
      "outputs": [
        {
          "output_type": "stream",
          "name": "stderr",
          "text": [
            "INFO:httpx:HTTP Request: POST https://us-central1-aiplatform.googleapis.com/v1beta1/projects/541923329259/locations/us-central1/reasoningEngines/1159945184885080064/sandboxEnvironments \"HTTP/1.1 200 OK\"\n",
            "INFO:httpx:HTTP Request: GET https://us-central1-aiplatform.googleapis.com/v1beta1/projects/541923329259/locations/us-central1/operations/3559923655204929536 \"HTTP/1.1 200 OK\"\n",
            "INFO:httpx:HTTP Request: GET https://us-central1-aiplatform.googleapis.com/v1beta1/projects/541923329259/locations/us-central1/operations/3559923655204929536 \"HTTP/1.1 200 OK\"\n",
            "INFO:httpx:HTTP Request: GET https://us-central1-aiplatform.googleapis.com/v1beta1/projects/541923329259/locations/us-central1/operations/3559923655204929536 \"HTTP/1.1 200 OK\"\n",
            "INFO:httpx:HTTP Request: GET https://us-central1-aiplatform.googleapis.com/v1beta1/projects/541923329259/locations/us-central1/operations/3559923655204929536 \"HTTP/1.1 200 OK\"\n",
            "INFO:httpx:HTTP Request: GET https://us-central1-aiplatform.googleapis.com/v1beta1/projects/541923329259/locations/us-central1/reasoningEngines/1159945184885080064/sandboxEnvironments/9154738322025742336 \"HTTP/1.1 200 OK\"\n"
          ]
        },
        {
          "output_type": "stream",
          "name": "stdout",
          "text": [
            "✅ Custom sandbox created successfully!\n",
            "   Language: LANGUAGE_PYTHON\n",
            "   Machine: MACHINE_CONFIG_VCPU4_RAM4GIB\n",
            "   Resource name: projects/541923329259/locations/us-central1/reasoningEngines/1159945184885080064/sandboxEnvironments/9154738322025742336\n"
          ]
        }
      ],
      "source": [
        "# Define the configuration parameters right before use\n",
        "language_config = \"LANGUAGE_PYTHON\"  # @param [\"LANGUAGE_UNSPECIFIED\", \"LANGUAGE_PYTHON\", \"LANGUAGE_JAVASCRIPT\"] {type:\"string\"}\n",
        "machine_config = \"MACHINE_CONFIG_VCPU4_RAM4GIB\"  # @param [\"MACHINE_CONFIG_UNSPECIFIED\", \"MACHINE_CONFIG_VCPU4_RAM4GIB\"] {type:\"string\"}\n",
        "\n",
        "# Create the custom sandbox\n",
        "sandbox_operation = client.agent_engines.sandboxes.create(\n",
        "    name=agent_engine.api_resource.name,\n",
        "    config=types.CreateAgentEngineSandboxConfig(display_name=\"my_custom_sandbox\"),\n",
        "    spec={\n",
        "        \"code_execution_environment\": {\n",
        "            \"code_language\": language_config,\n",
        "            \"machine_config\": machine_config,\n",
        "        }\n",
        "    },\n",
        ")\n",
        "\n",
        "# Update our sandbox resource name to use this new sandbox\n",
        "sandbox_resource_name = sandbox_operation.response.name\n",
        "\n",
        "print(f\"✅ Custom sandbox created successfully!\")\n",
        "print(f\"   Language: {language_config}\")\n",
        "print(f\"   Machine: {machine_config}\")\n",
        "print(f\"   Resource name: {sandbox_resource_name}\")"
      ]
    },
    {
      "cell_type": "markdown",
      "source": [
        "## Use Code Execution with Gemini\n",
        "\n",
        "You can combine Gemini's code generation with the Agent Engine Sandbox's secure execution.\n",
        "\n",
        "**Two approaches:**\n",
        "\n",
        "1. **Direct:** Ask Gemini to generate code, then execute it manually\n",
        "2. **Tool calling:** Give Gemini the sandbox as a tool to use autonomously\n",
        "\n",
        "Let's explore both."
      ],
      "metadata": {
        "id": "_A7zchrh6x6f"
      }
    },
    {
      "cell_type": "markdown",
      "source": [
        "### Gemini Integration - Direct Approach\n",
        "\n",
        "The most straightforward way to use the sandbox with an LLM is a two-step process: first, ask the LLM to generate code, and second, execute that code in the sandbox.\n",
        "\n",
        "This is perfect for one-off tasks where you want full control."
      ],
      "metadata": {
        "id": "8CTnvW-u68Ch"
      }
    },
    {
      "cell_type": "code",
      "source": [
        "# Initialize Gemini model\n",
        "model = GenerativeModel(\"gemini-2.5-flash\")\n",
        "\n",
        "# Ask Gemini to generate code for a calculation\n",
        "prompt = \"\"\"\n",
        "Write Python code to calculate the mean and standard deviation of these numbers:\n",
        "[23, 45, 67, 89, 12, 34, 56]\n",
        "\n",
        "Return only the Python code, no explanations.\n",
        "\"\"\"\n",
        "\n",
        "response = model.generate_content(prompt)\n",
        "generated_code = response.text.replace(\"```python\", \"\").replace(\"```\", \"\").strip()\n",
        "\n",
        "print(\"🤖 Gemini generated code:\")\n",
        "print(generated_code)"
      ],
      "metadata": {
        "colab": {
          "base_uri": "https://localhost:8080/"
        },
        "id": "asl9_6gc7Odd",
        "outputId": "7f3a7bc5-0c78-448d-84ad-e1bfa87e530f"
      },
      "execution_count": 13,
      "outputs": [
        {
          "output_type": "stream",
          "name": "stderr",
          "text": [
            "/usr/local/lib/python3.12/dist-packages/vertexai/generative_models/_generative_models.py:433: UserWarning: This feature is deprecated as of June 24, 2025 and will be removed on June 24, 2026. For details, see https://cloud.google.com/vertex-ai/generative-ai/docs/deprecations/genai-vertexai-sdk.\n",
            "  warning_logs.show_deprecation_warning()\n"
          ]
        },
        {
          "output_type": "stream",
          "name": "stdout",
          "text": [
            "🤖 Gemini generated code:\n",
            "import statistics\n",
            "\n",
            "numbers = [23, 45, 67, 89, 12, 34, 56]\n",
            "\n",
            "mean_value = statistics.mean(numbers)\n",
            "std_dev_value = statistics.stdev(numbers)\n",
            "\n",
            "print(f\"Mean: {mean_value}\")\n",
            "print(f\"Standard Deviation: {std_dev_value}\")\n"
          ]
        }
      ]
    },
    {
      "cell_type": "code",
      "source": [
        "# Execute the generated code in Agent Engine Sandbox using new pattern\n",
        "exec_response = client.agent_engines.sandboxes.execute_code(\n",
        "    name=sandbox_resource_name,\n",
        "    input_data={\"code\": generated_code},\n",
        ")\n",
        "\n",
        "print(\"✅ Code executed successfully!\")\n",
        "print(\"\\n📤 Results:\")\n",
        "\n",
        "# Use the new file handling pattern\n",
        "for output in exec_response.outputs:\n",
        "    if output.mime_type == \"application/json\" and output.metadata is None:\n",
        "        result = json.loads(output.data.decode(\"utf-8\"))\n",
        "        if result.get(\"msg_out\"):\n",
        "            print(result.get(\"msg_out\"))\n",
        "        if result.get(\"msg_err\"):\n",
        "            print(f\"❌ Error: {result.get('msg_err')}\")"
      ],
      "metadata": {
        "colab": {
          "base_uri": "https://localhost:8080/"
        },
        "id": "sCd1ovI_7TQx",
        "outputId": "cb0e2d99-b216-4439-fa29-d66b2ca30272"
      },
      "execution_count": 14,
      "outputs": [
        {
          "output_type": "stream",
          "name": "stderr",
          "text": [
            "INFO:httpx:HTTP Request: POST https://us-central1-aiplatform.googleapis.com/v1beta1/projects/541923329259/locations/us-central1/reasoningEngines/1159945184885080064/sandboxEnvironments/9154738322025742336/:execute \"HTTP/1.1 200 OK\"\n"
          ]
        },
        {
          "output_type": "stream",
          "name": "stdout",
          "text": [
            "✅ Code executed successfully!\n",
            "\n",
            "📤 Results:\n",
            "Mean: 46.57142857142857\n",
            "Standard Deviation: 26.513249158720267\n",
            "\n"
          ]
        }
      ]
    },
    {
      "cell_type": "markdown",
      "source": [
        "### Gemini with Tool Calling\n",
        "\n",
        "We expose the sandbox as a \"tool\" that Gemini can call. This enables the model to:\n",
        "\n",
        "* Decide *when* to execute code\n",
        "* Generate appropriate code\n",
        "* Interpret results\n",
        "* Provide natural language responses\n",
        "\n",
        "This is important for building AI agents that can act autonomously.\n",
        "\n",
        "| Parameter | Purpose |\n",
        "|-----------|---------|\n",
        "| `tools` | List of tools the model can use |\n",
        "| `function_call` | Model's request to use a tool |\n",
        "| `function_response` | Result we send back to the model |"
      ],
      "metadata": {
        "id": "iiaex-Sz7XKh"
      }
    },
    {
      "cell_type": "code",
      "source": [
        "# Define the code execution as a function for Gemini\n",
        "def execute_python_code(code: str) -> str:\n",
        "    \"\"\"Execute Python code in a secure sandbox.\n",
        "\n",
        "    Args:\n",
        "        code: Python code to execute\n",
        "    Returns:\n",
        "        The output from code execution\n",
        "    \"\"\"\n",
        "    # Extract code block if wrapped in markdown\n",
        "    code_match = re.search(r\"```python\\n(.*?)\\n```\", code, re.DOTALL)\n",
        "    if code_match:\n",
        "        code_to_execute = code_match.group(1)\n",
        "    else:\n",
        "        code_to_execute = code\n",
        "\n",
        "    # Execute in sandbox\n",
        "    response = client.agent_engines.sandboxes.execute_code(\n",
        "        name=sandbox_resource_name, input_data={\"code\": code_to_execute}\n",
        "    )\n",
        "\n",
        "    # Parse response using new pattern\n",
        "    for output in response.outputs:\n",
        "        if output.mime_type == \"application/json\" and output.metadata is None:\n",
        "            result = json.loads(output.data.decode(\"utf-8\"))\n",
        "\n",
        "            if result.get(\"msg_err\"):\n",
        "                return f\"Error: {result.get('msg_err')}\"\n",
        "            return result.get(\"msg_out\", \"Code executed successfully\")\n",
        "\n",
        "    return \"Code executed (no output)\""
      ],
      "metadata": {
        "id": "Sl4W-P5P7ksM"
      },
      "execution_count": 15,
      "outputs": []
    },
    {
      "cell_type": "code",
      "source": [
        "# Create a tool from the function\n",
        "code_tool = Tool(\n",
        "    function_declarations=[FunctionDeclaration.from_func(execute_python_code)]\n",
        ")\n",
        "\n",
        "# Send a request that will trigger tool use\n",
        "response = model.generate_content(\n",
        "    contents=[\n",
        "        Content(\n",
        "            role=\"user\",\n",
        "            parts=[\n",
        "                Part.from_text(\n",
        "                    \"Calculate the factorial of 10 and check if it's divisible by 100\"\n",
        "                ),\n",
        "            ],\n",
        "        )\n",
        "    ],\n",
        "    generation_config=GenerationConfig(temperature=0),\n",
        "    tools=[code_tool],\n",
        ")\n",
        "\n",
        "response"
      ],
      "metadata": {
        "colab": {
          "base_uri": "https://localhost:8080/"
        },
        "id": "zGRQ9DO_7lig",
        "outputId": "b2f0af2b-267c-442d-8f5a-a40605343b60"
      },
      "execution_count": 17,
      "outputs": [
        {
          "output_type": "execute_result",
          "data": {
            "text/plain": [
              "candidates {\n",
              "  content {\n",
              "    role: \"model\"\n",
              "    parts {\n",
              "      function_call {\n",
              "        name: \"execute_python_code\"\n",
              "        args {\n",
              "          fields {\n",
              "            key: \"code\"\n",
              "            value {\n",
              "              string_value: \"\\nimport math\\n\\nfactorial_10 = math.factorial(10)\\nis_divisible_by_100 = (factorial_10 % 100 == 0)\\n\\nprint(f\\\"Factorial of 10: {factorial_10}\\\")\\nprint(f\\\"Is {factorial_10} divisible by 100? {is_divisible_by_100}\\\")\\n\"\n",
              "            }\n",
              "          }\n",
              "        }\n",
              "      }\n",
              "      thought_signature: \"\\n\\227\\005\\001\\343\\361\\377^\\'v\\267\\333\\232\\003\\325\\236\\350\\270\\351\\033\\336Yb\\242\\3311\\270\\372\\0348\\007K\\205S\\267\\360\\034\\345\\365t\\323\\243\\312\\002\\307{\\t\\373\\255\\276\\322\\250\\247k^P\\357\\336{^z\\032\\375v\\317y\\235\\027\\206\\000\\335?UUW\\273\\202t\\270x\\220\\321\\305d8\\000\\334\\221\\2127v\\310Y~\\346\\031\\221\\246\\350G\\372\\323\\345\\032\\244\\006r\\372/1\\304\\256\\307\\013\\007D@\\265\\3312\\211\\3070\\271\\005\\332&\\031VVQ\\335\\373\\216\\333\\021\\\\~\\335\\273w\\267\\225\\246|\\222\\2445\\333\\005\\\\\\004\\216\\311*\\344\\307\\n\\357\\376\\3073\\251yQ\\022\\000\\202(\\231\\375yO\\361\\352\\303`\\373%\\277\\352>\\306\\370(\\222\\327\\262\\204t\\32246k\\n\\255\\014FI\\030\\333\\274C\\215x\\266l7f5rf\\316{\\250\\213\\215\\311\\262\\221\\357\\255\\007\\200d\\223o\\3072i\\300h\\357\\356g\\324\\327>\\355\\n\\206V\\002-B\\232\\017DL\\273\\036\\264gp\\307\\302\\337\\r\\212`\\246\\300\\221m|8\\317\\305\\026>\\370C\\2710\\2029;(\\247\\264\\216\\254\\2476j\\030\\362e\\006\\324!N\\340C\\026H\\177?\\254\\221\\227\\n\\021N\\265{D\\002\\343\\260\\273M\\016\\236\\313\\310\\014\\\"`\\331\\2475\\353\\350\\314 EH\\'G\\027o\\035DX\\300\\336@\\310\\257\\2710i\\017@k6;\\273\\034\\344i\\231\\347#\\000\\260\\356\\030\\265\\333-\\2768\\034\\\\\\353\\240\\264\\270U\\256\\352\\330\\272\\027F\\035\\361sT\\364\\217\\377;\\327\\314\\016\\302\\343J\\324\\004\\023\\271{\\017}Z\\330\\366\\237S\\361g\\210\\373\\035\\006E\\325\\300H\\223\\263\\361\\005c\\236\\333\\251\\362\\002\\340R|\\325\\177&\\000\\312f\\227\\235Ep\\311.\\006\\335Y\\033I\\236X/\\313\\303\\027c\\224\\226o\\205\\\"C\\241_\\236D\\027\\234>\\315&\\244\\020\\270M\\177H[\\024c\\256.j\\364m(9\\221\\020\\207\\364\\332\\024\\233\\347\\226\\362la\\323\\345\\324\\n\\245\\365\\312$\\367\\020H\\343\\314\\223\\324\\246\\317aN\\263\\\"S\\254\\\\\\245\\357w\\362\\350\\270\\332\\246\\274\\371Uy\\274\\327\\363\\'\\244\\224\\207\\314\\222i\\336\\220Vw\\266\\216s\\324\\362\\231i\\004\\244\\377\\276\\327\\246\\257b\\356\\201\\301\\351\\270\\022x\\276;\\033\\374\\362JEu\\304D(2\\315g\\374\\333\\230\\345L\\266\\235f\\034-h\\2609.\\023&\\221`\\337\\036\\241$\\357\\372\\033(6\\222_LqO\\372]\\245\\034\\035\\263\\004\\256\\n\\201\\221r\\320AH\\005P\\013r\\211P;c\\377\\007.H\\030\\036\\310\\212^a\\334\\252\\223]\\240nb@\\256\\242\\363\\252\\311l\\277\\347\\2604*%\\330\\342\"\n",
              "    }\n",
              "  }\n",
              "  finish_reason: STOP\n",
              "  avg_logprobs: -0.22847140565210458\n",
              "}\n",
              "usage_metadata {\n",
              "  prompt_token_count: 48\n",
              "  candidates_token_count: 98\n",
              "  total_token_count: 305\n",
              "  prompt_tokens_details {\n",
              "    modality: TEXT\n",
              "    token_count: 48\n",
              "  }\n",
              "  candidates_tokens_details {\n",
              "    modality: TEXT\n",
              "    token_count: 98\n",
              "  }\n",
              "  thoughts_token_count: 159\n",
              "}\n",
              "model_version: \"gemini-2.5-flash\"\n",
              "create_time {\n",
              "  seconds: 1762025972\n",
              "  nanos: 534863000\n",
              "}\n",
              "response_id: \"9GEGac_SIMC1gLUP3f7xQA\""
            ]
          },
          "metadata": {},
          "execution_count": 17
        }
      ]
    },
    {
      "cell_type": "code",
      "source": [
        "# Process the function call from Gemini\n",
        "function_response_parts = []\n",
        "\n",
        "for function_call in response.candidates[0].function_calls:\n",
        "    print(f\"🔧 Gemini wants to call: {function_call.name}\")\n",
        "    print(f\"📝 Generated code:\\n{function_call.args['code']}\\n\")\n",
        "\n",
        "    # Execute the code in Agent Engine Sandbox using new pattern\n",
        "    exec_response = client.agent_engines.sandboxes.execute_code(\n",
        "        name=sandbox_resource_name, input_data={\"code\": function_call.args[\"code\"]}\n",
        "    )\n",
        "\n",
        "    # Parse response with new pattern\n",
        "    execution_output = \"\"\n",
        "    for output in exec_response.outputs:\n",
        "        if output.mime_type == \"application/json\" and output.metadata is None:\n",
        "            result = json.loads(output.data.decode(\"utf-8\"))\n",
        "\n",
        "            if result.get(\"msg_err\"):\n",
        "                execution_output = f\"Error: {result.get('msg_err')}\"\n",
        "            else:\n",
        "                execution_output = result.get(\"msg_out\", \"Code executed successfully\")\n",
        "\n",
        "    print(f\"✅ Execution result:\\n{execution_output}\\n\")\n",
        "\n",
        "    # Prepare the function response for Gemini\n",
        "    function_response_parts.append(\n",
        "        Part.from_function_response(\n",
        "            name=function_call.name, response={\"result\": execution_output}\n",
        "        )\n",
        "    )\n",
        "\n",
        "# Send the function response back to the model\n",
        "function_response_content = Content(role=\"function\", parts=function_response_parts)\n",
        "\n",
        "# Get the final response from Gemini\n",
        "final_response = model.generate_content(\n",
        "    [\n",
        "        Content(\n",
        "            role=\"user\",\n",
        "            parts=[\n",
        "                Part.from_text(\n",
        "                    \"Calculate the factorial of 10 and check if it's divisible by 100\"\n",
        "                )\n",
        "            ],\n",
        "        ),\n",
        "        response.candidates[0].content,  # Original function call\n",
        "        function_response_content,  # Function execution results\n",
        "    ],\n",
        "    tools=[code_tool],\n",
        ")\n",
        "\n",
        "print(\"🤖 Gemini's final response:\")\n",
        "print(final_response.text)"
      ],
      "metadata": {
        "colab": {
          "base_uri": "https://localhost:8080/"
        },
        "id": "MFBG34re7rig",
        "outputId": "63802be2-e812-48d4-c2b1-33b163270be7"
      },
      "execution_count": 18,
      "outputs": [
        {
          "output_type": "stream",
          "name": "stdout",
          "text": [
            "🔧 Gemini wants to call: execute_python_code\n",
            "📝 Generated code:\n",
            "\n",
            "import math\n",
            "\n",
            "factorial_10 = math.factorial(10)\n",
            "is_divisible_by_100 = (factorial_10 % 100 == 0)\n",
            "\n",
            "print(f\"Factorial of 10: {factorial_10}\")\n",
            "print(f\"Is {factorial_10} divisible by 100? {is_divisible_by_100}\")\n",
            "\n",
            "\n"
          ]
        },
        {
          "output_type": "stream",
          "name": "stderr",
          "text": [
            "INFO:httpx:HTTP Request: POST https://us-central1-aiplatform.googleapis.com/v1beta1/projects/541923329259/locations/us-central1/reasoningEngines/1159945184885080064/sandboxEnvironments/9154738322025742336/:execute \"HTTP/1.1 200 OK\"\n"
          ]
        },
        {
          "output_type": "stream",
          "name": "stdout",
          "text": [
            "✅ Execution result:\n",
            "Factorial of 10: 3628800\n",
            "Is 3628800 divisible by 100? True\n",
            "\n",
            "\n",
            "🤖 Gemini's final response:\n",
            "The factorial of 10 is 3,628,800.\n",
            "Yes, 3,628,800 is divisible by 100.\n"
          ]
        }
      ]
    },
    {
      "cell_type": "markdown",
      "metadata": {
        "id": "TbkXs2eWH_sd"
      },
      "source": [
        "## Use Code Execution with Other Models\n",
        "\n",
        "One of the **key benefit of Agent Engine Sandbox** is model-agnostic! You can use it with any LLM on Vertex AI.\n",
        "\n",
        "Let's try with Anthropic's Claude, demonstrating that the same sandbox works across different models.\n",
        "\n",
        "**Note:** Claude model availability varies by region. We'll use `us-east5` for this example.\n"
      ]
    },
    {
      "cell_type": "markdown",
      "source": [
        "### Claude - Direct Approach\n",
        "\n",
        "The direct, two-step approach works seamlessly with Claude. First, we initialize the Claude client on Vertex AI.\n"
      ],
      "metadata": {
        "id": "HyFGAaC08Huq"
      }
    },
    {
      "cell_type": "code",
      "source": [
        "# Initialize Claude on Vertex\n",
        "claude = AnthropicVertex(\n",
        "    project_id=PROJECT_ID,\n",
        "    region=\"us-east5\",  # Claude availability varies by region\n",
        ")"
      ],
      "metadata": {
        "id": "4xIvvVhv8FaY"
      },
      "execution_count": 19,
      "outputs": []
    },
    {
      "cell_type": "markdown",
      "source": [
        "Now, we ask Claude to generate Python code to perform a more complex task: calculating prime numbers and creating a data visualization with matplotlib.\n"
      ],
      "metadata": {
        "id": "VECRZwTC8Lxi"
      }
    },
    {
      "cell_type": "code",
      "source": [
        "# Ask Claude to generate code\n",
        "message = claude.messages.create(\n",
        "    model=\"claude-sonnet-4@20250514\",\n",
        "    max_tokens=1000,\n",
        "    messages=[\n",
        "        {\n",
        "            \"role\": \"user\",\n",
        "            \"content\": \"\"\"Generate Python code to:\n",
        "        1. Create a list of the first 10 prime numbers\n",
        "        2. Calculate their sum and average\n",
        "        3. Create a simple bar chart showing each prime number\n",
        "\n",
        "        Use matplotlib for the chart. Save the chart as 'primes_chart.png'.\n",
        "        Return only the Python code.\"\"\",\n",
        "        }\n",
        "    ],\n",
        ")\n",
        "\n",
        "# Extract code from Claude's response\n",
        "claude_response = message.content[0].text\n",
        "\n",
        "# Extract code block if wrapped in markdown\n",
        "code_match = re.search(r\"```python\\n(.*?)\\n```\", claude_response, re.DOTALL)\n",
        "if code_match:\n",
        "    code_to_execute = code_match.group(1)\n",
        "else:\n",
        "    code_to_execute = claude_response\n",
        "\n",
        "print(\"🤖 Claude generated code:\")\n",
        "print(code_to_execute)"
      ],
      "metadata": {
        "colab": {
          "base_uri": "https://localhost:8080/"
        },
        "id": "zXdHRPb68KD7",
        "outputId": "9891ebbd-b703-40e4-ef78-6ba91bbd7253"
      },
      "execution_count": 20,
      "outputs": [
        {
          "output_type": "stream",
          "name": "stderr",
          "text": [
            "INFO:httpx:HTTP Request: POST https://us-east5-aiplatform.googleapis.com/v1/projects/inardini-demos/locations/us-east5/publishers/anthropic/models/claude-sonnet-4@20250514:rawPredict \"HTTP/1.1 200 OK\"\n"
          ]
        },
        {
          "output_type": "stream",
          "name": "stdout",
          "text": [
            "🤖 Claude generated code:\n",
            "import matplotlib.pyplot as plt\n",
            "\n",
            "def is_prime(n):\n",
            "    if n < 2:\n",
            "        return False\n",
            "    for i in range(2, int(n ** 0.5) + 1):\n",
            "        if n % i == 0:\n",
            "            return False\n",
            "    return True\n",
            "\n",
            "def get_first_n_primes(n):\n",
            "    primes = []\n",
            "    num = 2\n",
            "    while len(primes) < n:\n",
            "        if is_prime(num):\n",
            "            primes.append(num)\n",
            "        num += 1\n",
            "    return primes\n",
            "\n",
            "# Create list of first 10 prime numbers\n",
            "primes = get_first_n_primes(10)\n",
            "print(f\"First 10 prime numbers: {primes}\")\n",
            "\n",
            "# Calculate sum and average\n",
            "prime_sum = sum(primes)\n",
            "prime_average = prime_sum / len(primes)\n",
            "print(f\"Sum: {prime_sum}\")\n",
            "print(f\"Average: {prime_average:.2f}\")\n",
            "\n",
            "# Create bar chart\n",
            "plt.figure(figsize=(10, 6))\n",
            "plt.bar(range(1, 11), primes, color='skyblue', edgecolor='navy', alpha=0.7)\n",
            "plt.xlabel('Position')\n",
            "plt.ylabel('Prime Number')\n",
            "plt.title('First 10 Prime Numbers')\n",
            "plt.xticks(range(1, 11))\n",
            "plt.grid(axis='y', alpha=0.3)\n",
            "\n",
            "# Add value labels on bars\n",
            "for i, prime in enumerate(primes):\n",
            "    plt.text(i + 1, prime + 0.5, str(prime), ha='center', va='bottom')\n",
            "\n",
            "plt.tight_layout()\n",
            "plt.savefig('primes_chart.png', dpi=300, bbox_inches='tight')\n",
            "plt.show()\n"
          ]
        }
      ]
    },
    {
      "cell_type": "markdown",
      "source": [
        "We execute the code generated by Claude. The sandbox handles the matplotlib library and file I/O, generating the chart image.\n"
      ],
      "metadata": {
        "id": "91Q0pZvh8R91"
      }
    },
    {
      "cell_type": "code",
      "source": [
        "# Execute Claude's generated code in the Agent Engine Sandbox\n",
        "exec_response = client.agent_engines.sandboxes.execute_code(\n",
        "    name=sandbox_resource_name, input_data={\"code\": code_to_execute}\n",
        ")\n",
        "\n",
        "print(\"✅ Code executed successfully!\\n\")\n",
        "\n",
        "# Parse response with new pattern\n",
        "for output in exec_response.outputs:\n",
        "    if output.mime_type == \"application/json\" and output.metadata is None:\n",
        "        result = json.loads(output.data.decode(\"utf-8\"))\n",
        "\n",
        "        if result.get(\"msg_out\"):\n",
        "            print(\"📤 Execution Output:\")\n",
        "            print(result.get(\"msg_out\"))\n",
        "\n",
        "        if result.get(\"msg_err\"):\n",
        "            print(\"❌ Errors:\")\n",
        "            print(result.get(\"msg_err\"))"
      ],
      "metadata": {
        "colab": {
          "base_uri": "https://localhost:8080/"
        },
        "id": "I2lStaxA8Uso",
        "outputId": "d33193ff-509a-4958-cab2-8f4587dcd883"
      },
      "execution_count": 21,
      "outputs": [
        {
          "output_type": "stream",
          "name": "stderr",
          "text": [
            "INFO:httpx:HTTP Request: POST https://us-central1-aiplatform.googleapis.com/v1beta1/projects/541923329259/locations/us-central1/reasoningEngines/1159945184885080064/sandboxEnvironments/9154738322025742336/:execute \"HTTP/1.1 200 OK\"\n"
          ]
        },
        {
          "output_type": "stream",
          "name": "stdout",
          "text": [
            "✅ Code executed successfully!\n",
            "\n",
            "📤 Execution Output:\n",
            "First 10 prime numbers: [2, 3, 5, 7, 11, 13, 17, 19, 23, 29]\n",
            "Sum: 129\n",
            "Average: 12.90\n",
            "\n"
          ]
        }
      ]
    },
    {
      "cell_type": "markdown",
      "source": [
        "The sandbox can return multiple types of outputs, and we need to handle each appropriately.\n"
      ],
      "metadata": {
        "id": "5wvvD1uf8agN"
      }
    },
    {
      "cell_type": "code",
      "source": [
        "# Process all outputs from the sandbox\n",
        "for output in exec_response.outputs:\n",
        "    # Handle JSON output (stdout/stderr)\n",
        "    if output.mime_type == \"application/json\" and output.metadata is None:\n",
        "        result = json.loads(output.data.decode(\"utf-8\"))\n",
        "\n",
        "        if result.get(\"msg_out\"):\n",
        "            print(\"📤 Output:\")\n",
        "            print(result.get(\"msg_out\"))\n",
        "\n",
        "    # Handle generated files (like the chart)\n",
        "    elif output.metadata and output.metadata.attributes:\n",
        "        # Extract file name from metadata\n",
        "        file_name = output.metadata.attributes.get(\"file_name\")\n",
        "        if isinstance(file_name, bytes):\n",
        "            file_name = file_name.decode(\"utf-8\")\n",
        "\n",
        "        print(f\"\\n📊 Generated file: {file_name}\")\n",
        "        print(f\"   MIME type: {output.mime_type}\")\n",
        "        print(f\"   Size: {len(output.data)} bytes\")\n",
        "\n",
        "        # If it's an image file, display it\n",
        "        if file_name.endswith((\".png\", \".jpg\", \".jpeg\")):\n",
        "            print(f\"   Displaying chart...\")\n",
        "\n",
        "            # Decode and display the image\n",
        "            from io import BytesIO\n",
        "            import matplotlib.pyplot as plt\n",
        "\n",
        "            img = plt.imread(BytesIO(output.data))\n",
        "            fig, ax = plt.subplots(figsize=(8, 6))\n",
        "            ax.imshow(img)\n",
        "            ax.axis(\"off\")\n",
        "            plt.title(f\"Generated by Claude: {file_name}\")\n",
        "            plt.show()\n",
        "\n",
        "            # Optionally save locally\n",
        "            with open(file_name, \"wb\") as f:\n",
        "                f.write(output.data)\n",
        "            print(f\"   ✅ Saved locally as: {file_name}\")\n",
        "        else:\n",
        "            # For text files, display content\n",
        "            print(f\"   Content: {output.data.decode('utf-8', errors='ignore')}\")"
      ],
      "metadata": {
        "colab": {
          "base_uri": "https://localhost:8080/",
          "height": 624
        },
        "id": "WEU_nnbk8cMx",
        "outputId": "dc9eb514-9d69-452b-d603-a49882069977"
      },
      "execution_count": 22,
      "outputs": [
        {
          "output_type": "stream",
          "name": "stdout",
          "text": [
            "📤 Output:\n",
            "First 10 prime numbers: [2, 3, 5, 7, 11, 13, 17, 19, 23, 29]\n",
            "Sum: 129\n",
            "Average: 12.90\n",
            "\n",
            "\n",
            "📊 Generated file: primes_chart.png\n",
            "   MIME type: image/png\n",
            "   Size: 87038 bytes\n",
            "   Displaying chart...\n"
          ]
        },
        {
          "output_type": "display_data",
          "data": {
            "text/plain": [
              "<Figure size 800x600 with 1 Axes>"
            ],
            "image/png": "[encoded data removed]"
          },
          "metadata": {}
        },
        {
          "output_type": "stream",
          "name": "stdout",
          "text": [
            "   ✅ Saved locally as: primes_chart.png\n"
          ]
        }
      ]
    },
    {
      "cell_type": "markdown",
      "source": [
        "### Using Claude's Native Tool Support\n",
        "\n",
        "Claude on Vertex AI also supports native tool calling. We can define a tool schema that describes our code execution function.\n",
        "\n"
      ],
      "metadata": {
        "id": "WYPSd0XE8pKZ"
      }
    },
    {
      "cell_type": "code",
      "source": [
        "# Define the tool schema for Claude\n",
        "code_execution_tool = {\n",
        "    \"name\": \"execute_python\",\n",
        "    \"description\": \"Execute Python code in a secure Agent Engine Sandbox\",\n",
        "    \"input_schema\": {\n",
        "        \"type\": \"object\",\n",
        "        \"properties\": {\n",
        "            \"code\": {\"type\": \"string\", \"description\": \"Python code to execute\"}\n",
        "        },\n",
        "        \"required\": [\"code\"],\n",
        "    },\n",
        "}"
      ],
      "metadata": {
        "id": "3rHmop-58pfW"
      },
      "execution_count": 23,
      "outputs": []
    },
    {
      "cell_type": "markdown",
      "source": [
        "This is the implementation of our tool. It will be called when the Claude model decides to use it."
      ],
      "metadata": {
        "id": "_gURHGAH8vRp"
      }
    },
    {
      "cell_type": "code",
      "source": [
        "# Function to handle tool execution with new file handling pattern\n",
        "def execute_code_tool(code: str) -> str:\n",
        "    \"\"\"Execute code when Claude calls the tool.\"\"\"\n",
        "    try:\n",
        "        response = client.agent_engines.sandboxes.execute_code(\n",
        "            name=sandbox_resource_name, input_data={\"code\": code}\n",
        "        )\n",
        "\n",
        "        # Parse response with new pattern\n",
        "        for output in response.outputs:\n",
        "            if output.mime_type == \"application/json\" and output.metadata is None:\n",
        "                result = json.loads(output.data.decode(\"utf-8\"))\n",
        "\n",
        "                if result.get(\"msg_err\"):\n",
        "                    return f\"Error: {result.get('msg_err')}\"\n",
        "                return result.get(\"msg_out\", \"Code executed successfully\")\n",
        "\n",
        "        return \"Code executed (no output)\"\n",
        "    except Exception as e:\n",
        "        return f\"Execution failed: {str(e)}\""
      ],
      "metadata": {
        "id": "un70f3r18tbW"
      },
      "execution_count": 24,
      "outputs": []
    },
    {
      "cell_type": "markdown",
      "source": [
        "Now we orchestrate the multi-turn conversation. Claude responds with a tool_use request, we execute the tool, send the result back, and Claude generates the final answer.\n"
      ],
      "metadata": {
        "id": "CVjYYZMA8z1G"
      }
    },
    {
      "cell_type": "code",
      "source": [
        "# Orchestrate the multi-turn conversation with Claude\n",
        "message = claude.messages.create(\n",
        "    model=\"claude-sonnet-4@20250514\",\n",
        "    max_tokens=1000,\n",
        "    messages=[\n",
        "        {\"role\": \"user\", \"content\": \"Calculate the 10th Fibonacci number for me.\"}\n",
        "    ],\n",
        "    tools=[code_execution_tool],\n",
        ")\n",
        "\n",
        "# Handle tool use in the response\n",
        "if message.stop_reason == \"tool_use\":\n",
        "    tool_results = []\n",
        "\n",
        "    for content in message.content:\n",
        "        if content.type == \"tool_use\":\n",
        "            print(f\"🔧 Claude wants to use tool: {content.name}\")\n",
        "            print(f\"📝 With parameters: {content.input}\\n\")\n",
        "\n",
        "            # Execute the tool\n",
        "            if content.name == \"execute_python\":\n",
        "                result = execute_code_tool(content.input[\"code\"])\n",
        "                print(f\"✅ Execution result: {result}\\n\")\n",
        "\n",
        "                tool_results.append(\n",
        "                    {\n",
        "                        \"type\": \"tool_result\",\n",
        "                        \"tool_use_id\": content.id,\n",
        "                        \"content\": result,\n",
        "                    }\n",
        "                )\n",
        "\n",
        "    # Send tool results back to Claude for final response\n",
        "    final_response = claude.messages.create(\n",
        "        model=\"claude-sonnet-4@20250514\",\n",
        "        max_tokens=1000,\n",
        "        messages=[\n",
        "            {\"role\": \"user\", \"content\": \"Calculate the 10th Fibonacci number for me.\"},\n",
        "            {\"role\": \"assistant\", \"content\": message.content},\n",
        "            {\"role\": \"user\", \"content\": tool_results},\n",
        "        ],\n",
        "        tools=[code_execution_tool],\n",
        "    )\n",
        "\n",
        "    print(f\"🤖 Claude's final answer:\\n{final_response.content[0].text}\")\n",
        "else:\n",
        "    # Claude responded without using tools\n",
        "    print(f\"🤖 Claude's response:\\n{message.content[0].text}\")"
      ],
      "metadata": {
        "colab": {
          "base_uri": "https://localhost:8080/"
        },
        "id": "YrSZ-x128yKf",
        "outputId": "357ba35f-ed4e-47dc-ded8-cb928aba461f"
      },
      "execution_count": 25,
      "outputs": [
        {
          "output_type": "stream",
          "name": "stderr",
          "text": [
            "INFO:httpx:HTTP Request: POST https://us-east5-aiplatform.googleapis.com/v1/projects/inardini-demos/locations/us-east5/publishers/anthropic/models/claude-sonnet-4@20250514:rawPredict \"HTTP/1.1 200 OK\"\n"
          ]
        },
        {
          "output_type": "stream",
          "name": "stdout",
          "text": [
            "🔧 Claude wants to use tool: execute_python\n",
            "📝 With parameters: {'code': 'def fibonacci(n):\\n    \"\"\"Calculate the nth Fibonacci number\"\"\"\\n    if n <= 0:\\n        return 0\\n    elif n == 1:\\n        return 1\\n    else:\\n        a, b = 0, 1\\n        for i in range(2, n + 1):\\n            a, b = b, a + b\\n        return b\\n\\n# Calculate the 10th Fibonacci number\\nresult = fibonacci(10)\\nprint(f\"The 10th Fibonacci number is: {result}\")\\n\\n# Let\\'s also show the first 10 Fibonacci numbers for context\\nprint(\"\\\\nThe first 10 Fibonacci numbers are:\")\\nfor i in range(1, 11):\\n    print(f\"F({i}) = {fibonacci(i)}\")'}\n",
            "\n"
          ]
        },
        {
          "output_type": "stream",
          "name": "stderr",
          "text": [
            "INFO:httpx:HTTP Request: POST https://us-central1-aiplatform.googleapis.com/v1beta1/projects/541923329259/locations/us-central1/reasoningEngines/1159945184885080064/sandboxEnvironments/9154738322025742336/:execute \"HTTP/1.1 200 OK\"\n"
          ]
        },
        {
          "output_type": "stream",
          "name": "stdout",
          "text": [
            "✅ Execution result: The 10th Fibonacci number is: 55\n",
            "\n",
            "The first 10 Fibonacci numbers are:\n",
            "F(1) = 1\n",
            "F(2) = 1\n",
            "F(3) = 2\n",
            "F(4) = 3\n",
            "F(5) = 5\n",
            "F(6) = 8\n",
            "F(7) = 13\n",
            "F(8) = 21\n",
            "F(9) = 34\n",
            "F(10) = 55\n",
            "\n",
            "\n"
          ]
        },
        {
          "output_type": "stream",
          "name": "stderr",
          "text": [
            "INFO:httpx:HTTP Request: POST https://us-east5-aiplatform.googleapis.com/v1/projects/inardini-demos/locations/us-east5/publishers/anthropic/models/claude-sonnet-4@20250514:rawPredict \"HTTP/1.1 200 OK\"\n"
          ]
        },
        {
          "output_type": "stream",
          "name": "stdout",
          "text": [
            "🤖 Claude's final answer:\n",
            "The 10th Fibonacci number is **55**.\n",
            "\n",
            "The Fibonacci sequence starts with 1, 1, and each subsequent number is the sum of the two preceding numbers. So the sequence goes: 1, 1, 2, 3, 5, 8, 13, 21, 34, 55...\n"
          ]
        }
      ]
    },
    {
      "cell_type": "markdown",
      "source": [
        "# Building Agents with ADK to Code Execution\n",
        "\n",
        "At this point, you can build AI agents using the Agent Development Kit (ADK). While direct LLM integration works for simple tasks, ADK provides:\n",
        "\n",
        "* Structured agent architecture\n",
        "* Built-in session management\n",
        "* Artifact handling (file persistence)\n",
        "* Event streaming for real-time updates\n",
        "* Production-ready deployment capabilities"
      ],
      "metadata": {
        "id": "K0iG4G7F87Dk"
      }
    },
    {
      "cell_type": "markdown",
      "source": [
        "## Two Approaches to Code Execution\n",
        "\n",
        "The **two code execution options** are:\n",
        "\n",
        "1. **`AgentEngineSandboxCodeExecutor`** - Uses Vertex AI's managed sandbox (what we've been using)\n",
        "2. **`BuiltInCodeExecutor`** - ADK's native code execution (simpler, integrated)\n",
        "\n",
        "Let's compare both approaches so you can choose the right one for your use case.\n"
      ],
      "metadata": {
        "id": "SKpTQECTDN1F"
      }
    },
    {
      "cell_type": "markdown",
      "source": [
        "### Approach 1: Agent with AgentEngineSandboxCodeExecutor\n",
        "\n",
        "It connects your ADK agent to the Vertex AI Agent Engine Sandbox we created earlier.\n",
        "\n",
        "**Key features:**\n",
        "\n",
        "* Uses the managed, isolated sandbox environment\n",
        "* Artifacts automatically saved to Google Cloud Storage (GCS)\n",
        "* Stateful execution (variables persist across calls)\n",
        "* Full control over sandbox configuration (CPU, memory, language)\n",
        "* Enterprise-grade security and isolation\n",
        "\n",
        "Use it with production agents that need secure isolation, artifact management, and scalability.\n"
      ],
      "metadata": {
        "id": "7o8iixwh9Lzc"
      }
    },
    {
      "cell_type": "markdown",
      "source": [
        "Create an agent using AgentEngineSandboxCodeExecutor.\n"
      ],
      "metadata": {
        "id": "vCcx7Bx39eGW"
      }
    },
    {
      "cell_type": "code",
      "source": [
        "# Define the agent with Vertex AI sandbox executor\n",
        "vertex_agent = LlmAgent(\n",
        "    model=\"gemini-2.5-flash\",\n",
        "    name=\"vertex_code_executor_agent\",\n",
        "    description=\"An agent that uses Vertex AI Agent Engine Sandbox for code execution\",\n",
        "    instruction=\"\"\"You are a helpful coding assistant. When asked to perform calculations or data processing:\n",
        "\n",
        "    1. Write clear, well-commented Python code\n",
        "    2. Include print statements to show intermediate steps\n",
        "    3. Use the code executor to run your code\n",
        "    4. Explain the results in a user-friendly way\n",
        "\n",
        "    Always ensure your code is complete and executable.\n",
        "    \"\"\",\n",
        "    code_executor=AgentEngineSandboxCodeExecutor(\n",
        "        # Use the sandbox we created earlier\n",
        "        sandbox_resource_name=sandbox_resource_name\n",
        "    ),\n",
        ")\n",
        "\n",
        "print(\"✅ Agent with AgentEngineSandboxCodeExecutor created!\")"
      ],
      "metadata": {
        "colab": {
          "base_uri": "https://localhost:8080/"
        },
        "id": "aM1mirwI83Y7",
        "outputId": "69036648-643a-41e1-bc78-1503a4928e29"
      },
      "execution_count": 40,
      "outputs": [
        {
          "output_type": "stream",
          "name": "stdout",
          "text": [
            "✅ Agent with AgentEngineSandboxCodeExecutor created!\n"
          ]
        },
        {
          "output_type": "stream",
          "name": "stderr",
          "text": [
            "/tmp/ipython-input-3367032704.py:15: UserWarning: [EXPERIMENTAL] AgentEngineSandboxCodeExecutor: This feature is experimental and may change or be removed in future versions without notice. It may introduce breaking changes at any time.\n",
            "  code_executor=AgentEngineSandboxCodeExecutor(\n"
          ]
        }
      ]
    },
    {
      "cell_type": "markdown",
      "source": [
        "Set up the session and runner. ADK requires a session service to manage conversation state.\n"
      ],
      "metadata": {
        "id": "P13np5ux9cJW"
      }
    },
    {
      "cell_type": "code",
      "source": [
        "# Set up session management\n",
        "vertex_session_service = InMemorySessionService()\n",
        "await vertex_session_service.create_session(\n",
        "    app_name=\"vertex_code_app\",\n",
        "    user_id=\"user1\",\n",
        "    session_id=\"session1\"\n",
        ")\n",
        "\n",
        "artifact_session_service = InMemoryArtifactService()\n",
        "\n",
        "# Create the runner\n",
        "vertex_runner = Runner(\n",
        "    agent=vertex_agent,\n",
        "    app_name=\"vertex_code_app\",\n",
        "    session_service=vertex_session_service,\n",
        "    artifact_service=artifact_session_service\n",
        ")\n",
        "\n",
        "print(\"✅ Session and runner configured!\")"
      ],
      "metadata": {
        "colab": {
          "base_uri": "https://localhost:8080/"
        },
        "id": "IYZBg79S9Xtr",
        "outputId": "e679f2ac-3a55-4860-efda-3a4ef636b5a9"
      },
      "execution_count": 41,
      "outputs": [
        {
          "output_type": "stream",
          "name": "stdout",
          "text": [
            "✅ Session and runner configured!\n"
          ]
        }
      ]
    },
    {
      "cell_type": "markdown",
      "source": [
        "Run the agent. Notice how the event stream shows the agent's step-by-step execution, including code generation and results.\n"
      ],
      "metadata": {
        "id": "873IENBr9mIj"
      }
    },
    {
      "cell_type": "code",
      "source": [
        "# Run the agent with a computational task\n",
        "query = \"Calculate compound interest for $1000 at 5% annual rate for 10 years\"\n",
        "message = genai_types.Content(\n",
        "    role=\"user\",\n",
        "    parts=[genai_types.Part(text=query)]\n",
        ")\n",
        "\n",
        "print(f\"🙋 User query: {query}\\n\")\n",
        "print(\"=\" * 60)\n",
        "\n",
        "async for event in vertex_runner.run_async(\n",
        "    user_id=\"user1\",\n",
        "    session_id=\"session1\",\n",
        "    new_message=message\n",
        "):\n",
        "    # Use our helper to parse events\n",
        "    parse_event(event=event)"
      ],
      "metadata": {
        "colab": {
          "base_uri": "https://localhost:8080/"
        },
        "id": "NeVpQWAE9isT",
        "outputId": "685ea17f-04c2-4345-967c-279df65cf29d"
      },
      "execution_count": 42,
      "outputs": [
        {
          "output_type": "stream",
          "name": "stderr",
          "text": [
            "INFO:google_adk.google.adk.models.google_llm:Sending out request, model: gemini-2.5-flash, backend: GoogleLLMVariant.VERTEX_AI, stream: False\n",
            "INFO:google_genai.models:AFC is enabled with max remote calls: 10.\n"
          ]
        },
        {
          "output_type": "stream",
          "name": "stdout",
          "text": [
            "🙋 User query: Calculate compound interest for $1000 at 5% annual rate for 10 years\n",
            "\n",
            "============================================================\n"
          ]
        },
        {
          "output_type": "stream",
          "name": "stderr",
          "text": [
            "INFO:google_adk.google.adk.models.google_llm:Response received from the model.\n"
          ]
        },
        {
          "output_type": "stream",
          "name": "stdout",
          "text": [
            "\n",
            "AGENT RESPONSE:\n",
            "Okay, let's calculate the compound interest for your investment!\n",
            "\n",
            "Here's the plan:\n",
            "1.  Define the principal amount, annual interest rate, and the number of years.\n",
            "2.  Use the compound interest formula: `A = P * (1 + r/n)^(n*t)`, where `A` is the future value, `P` is the principal, `r` is the annual rate, `n` is the number of times interest is compounded per year (we'll assume annually, so `n=1`), and `t` is the time in years.\n",
            "3.  Calculate the total amount after 10 years.\n",
            "4.  Calculate the actual interest earned (Total Amount - Principal).\n",
            "5.  Print all the intermediate steps and the final results.\n",
            "\n",
            "CODE INTERPRETER EXECUTION:\n",
            "Language: Language.PYTHON\n",
            "Code:\n",
            "import math\n",
            "\n",
            "# --- User Inputs ---\n",
            "principal_amount = 1000  # Initial investment in dollars\n",
            "annual_interest_rate = 0.05  # 5% expressed as a decimal\n",
            "years = 10  # Duration of the investment in years\n",
            "compounding_frequency = 1 # Annually (n=1)\n",
            "\n",
            "print(f\"--- Compound Interest Calculation ---\")\n",
            "print(f\"Principal amount (P): ${principal_amount:,.2f}\")\n",
            "print(f\"Annual interest rate (r): {annual_interest_rate*100:.0f}%\")\n",
            "print(f\"Number of years (t): {years}\")\n",
            "print(f\"Compounding frequency per year (n): {compounding_frequency} (annually)\")\n",
            "print(\"-\" * 40)\n",
            "\n",
            "# --- Step 1: Calculate the growth factor per compounding period ---\n",
            "# This is (1 + r/n)\n",
            "growth_factor_per_period = 1 + (annual_interest_rate / compounding_frequency)\n",
            "print(f\"Growth factor per compounding period (1 + r/n): {growth_factor_per_period:.4f}\")\n",
            "\n",
            "# --- Step 2: Calculate the total number of compounding periods ---\n",
            "# This is (n * t)\n",
            "total_compounding_periods = compounding_frequency * years\n",
            "print(f\"Total compounding periods (n * t): {total_compounding_periods}\")\n",
            "\n",
            "# --- Step 3: Calculate the compound factor ---\n",
            "# This is (1 + r/n)^(n*t)\n",
            "compound_factor = math.pow(growth_factor_per_period, total_compounding_periods)\n",
            "print(f\"Compound factor ((1 + r/n)^(n*t)): {compound_factor:.4f}\")\n",
            "\n",
            "# --- Step 4: Calculate the total amount after 'years' ---\n",
            "# A = P * compound_factor\n",
            "final_amount = principal_amount * compound_factor\n",
            "print(f\"Final amount (A = P * compound_factor): ${final_amount:,.2f}\")\n",
            "\n",
            "# --- Step 5: Calculate the total interest earned ---\n",
            "interest_earned = final_amount - principal_amount\n",
            "print(f\"Total interest earned: ${interest_earned:,.2f}\")\n",
            "print(\"-\" * 40)\n"
          ]
        },
        {
          "output_type": "stream",
          "name": "stderr",
          "text": [
            "INFO:httpx:HTTP Request: POST https://us-central1-aiplatform.googleapis.com/v1beta1/projects/541923329259/locations/us-central1/reasoningEngines/1159945184885080064/sandboxEnvironments/9154738322025742336/:execute \"HTTP/1.1 200 OK\"\n",
            "INFO:google_adk.google.adk.models.google_llm:Sending out request, model: gemini-2.5-flash, backend: GoogleLLMVariant.VERTEX_AI, stream: False\n",
            "INFO:google_genai.models:AFC is enabled with max remote calls: 10.\n"
          ]
        },
        {
          "output_type": "stream",
          "name": "stdout",
          "text": [
            "\n",
            "CODE INTERPRETER RESULT:\n",
            "Status: Outcome.OUTCOME_OK\n",
            "Output:\n",
            "Code execution result:\n"
          ]
        },
        {
          "output_type": "stream",
          "name": "stderr",
          "text": [
            "INFO:google_adk.google.adk.models.google_llm:Response received from the model.\n"
          ]
        },
        {
          "output_type": "stream",
          "name": "stdout",
          "text": [
            "\n",
            "AGENT RESPONSE:\n",
            "The calculation has been performed!\n",
            "\n",
            "Here's a breakdown of the compound interest for your investment:\n",
            "\n",
            "*   **Principal Amount (P):** $1,000.00\n",
            "*   **Annual Interest Rate (r):** 5%\n",
            "*   **Number of Years (t):** 10\n",
            "*   **Compounding Frequency:** Annually (once per year)\n",
            "\n",
            "**Intermediate Steps:**\n",
            "\n",
            "1.  **Growth factor per period (1 + r/n):** This is `1 + (0.05 / 1) = 1.05`. It represents how much your money grows each year.\n",
            "2.  **Total compounding periods (n * t):** This is `1 * 10 = 10`. Over 10 years, interest will be compounded 10 times.\n",
            "3.  **Compound factor ((1 + r/n)^(n*t)):** This is `(1.05)^10`, which equals approximately `1.6289`. This factor shows how much your initial principal will multiply over the entire period.\n",
            "\n",
            "**Results:**\n",
            "\n",
            "*   **Final Amount (A) after 10 years:** Your initial $1,000.00 will grow to **$1,628.89**.\n",
            "*   **Total Interest Earned:** You will have earned **$628.89** in interest over the 10 years.\n",
            "\n",
            "So, your $1,000 investment at a 5% annual rate compounded annually will be worth **$1,628.89** after 10 years.\n"
          ]
        }
      ]
    },
    {
      "cell_type": "markdown",
      "source": [
        "### Approach 2: Agent with BuiltInCodeExecutor\n",
        "\n",
        "It is ADK's native code execution capability, tightly integrated with the Gemini models.\n",
        "\n",
        "**Key features:**\n",
        "\n",
        "* No separate sandbox creation needed\n",
        "* Simpler setup (works out-of-the-box)\n",
        "* Direct integration with Gemini's Code Execution Extension\n",
        "* Good for rapid prototyping and development\n",
        "* Works only with Gemini models\n",
        "\n",
        "Use it for quick prototyping, demos, or when you don't need the full isolation of a managed sandbox.\n",
        "\n",
        "**Note:** This approach uses a different event structure (`executable_code` and `code_execution_result` parts).\n"
      ],
      "metadata": {
        "id": "hGqzyAZ-9-4s"
      }
    },
    {
      "cell_type": "markdown",
      "source": [
        "Create an agent using BuiltInCodeExecutor\n"
      ],
      "metadata": {
        "id": "Q4xyfzLV-Js7"
      }
    },
    {
      "cell_type": "code",
      "source": [
        "builtin_agent = LlmAgent(\n",
        "    model=\"gemini-2.5-flash\",  # Must use Gemini for BuiltInCodeExecutor\n",
        "    name=\"builtin_code_executor_agent\",\n",
        "    description=\"An agent that uses ADK's built-in code execution\",\n",
        "    instruction=\"\"\"You are a helpful coding assistant. When asked to perform calculations or data processing:\n",
        "\n",
        "    1. Write clear, well-commented Python code\n",
        "    2. Include print statements to show intermediate steps\n",
        "    3. Use the code execution tool to run your code\n",
        "    4. Explain the results in a user-friendly way\n",
        "\n",
        "    Always ensure your code is complete and executable.\n",
        "    \"\"\",\n",
        "    code_executor=BuiltInCodeExecutor(),  # Much simpler setup!\n",
        ")\n",
        "\n",
        "print(\"✅ Agent with BuiltInCodeExecutor created!\")"
      ],
      "metadata": {
        "colab": {
          "base_uri": "https://localhost:8080/"
        },
        "id": "B5d943wN9oKu",
        "outputId": "385294cc-03d4-4bc8-b391-af59a11b57d5"
      },
      "execution_count": 35,
      "outputs": [
        {
          "output_type": "stream",
          "name": "stdout",
          "text": [
            "✅ Agent with BuiltInCodeExecutor created!\n"
          ]
        }
      ]
    },
    {
      "cell_type": "markdown",
      "source": [
        "Set up session for built-in executor agent"
      ],
      "metadata": {
        "id": "LedV5fXr-P0E"
      }
    },
    {
      "cell_type": "code",
      "source": [
        "builtin_session_service = InMemorySessionService()\n",
        "await builtin_session_service.create_session(\n",
        "    app_name=\"builtin_code_app\",\n",
        "    user_id=\"user1\",\n",
        "    session_id=\"session1\"\n",
        ")\n",
        "\n",
        "builtin_runner = Runner(\n",
        "    agent=builtin_agent,\n",
        "    app_name=\"builtin_code_app\",\n",
        "    session_service=builtin_session_service,\n",
        ")\n",
        "\n",
        "print(\"✅ Session and runner configured!\")"
      ],
      "metadata": {
        "colab": {
          "base_uri": "https://localhost:8080/"
        },
        "id": "5HNUQPTz-MjG",
        "outputId": "b3852e0c-60f6-4ac0-fc7e-672f9b6d533d"
      },
      "execution_count": 36,
      "outputs": [
        {
          "output_type": "stream",
          "name": "stdout",
          "text": [
            "✅ Session and runner configured!\n"
          ]
        }
      ]
    },
    {
      "cell_type": "markdown",
      "source": [
        "Run the same query with the built-in executor. Notice the event structure will show `CODE INTERPRETER EXECUTION` instead of `TOOL CALL`.\n"
      ],
      "metadata": {
        "id": "xuSMC3DZ-TK5"
      }
    },
    {
      "cell_type": "code",
      "source": [
        "# Run the same query\n",
        "print(f\"🙋 User query: {query}\\n\")\n",
        "print(\"=\" * 60)\n",
        "\n",
        "async for event in builtin_runner.run_async(\n",
        "    user_id=\"user1\",\n",
        "    session_id=\"session1\",\n",
        "    new_message=message\n",
        "):\n",
        "    # Our helper handles both event types\n",
        "    parse_event(event)"
      ],
      "metadata": {
        "colab": {
          "base_uri": "https://localhost:8080/"
        },
        "id": "b6hDjlsh-Qvr",
        "outputId": "4918b07e-8ea9-42bf-ba7b-d3d97da2a45e"
      },
      "execution_count": 37,
      "outputs": [
        {
          "output_type": "stream",
          "name": "stderr",
          "text": [
            "INFO:google_adk.google.adk.models.google_llm:Sending out request, model: gemini-2.5-flash, backend: GoogleLLMVariant.VERTEX_AI, stream: False\n",
            "INFO:google_genai.models:AFC is enabled with max remote calls: 10.\n"
          ]
        },
        {
          "output_type": "stream",
          "name": "stdout",
          "text": [
            "🙋 User query: Calculate compound interest for $1000 at 5% annual rate for 10 years\n",
            "\n",
            "============================================================\n"
          ]
        },
        {
          "output_type": "stream",
          "name": "stderr",
          "text": [
            "INFO:google_adk.google.adk.models.google_llm:Response received from the model.\n",
            "WARNING:google_genai.types:Warning: there are non-text parts in the response: ['executable_code', 'code_execution_result'], returning concatenated text result from text parts. Check the full candidates.content.parts accessor to get the full model response.\n"
          ]
        },
        {
          "output_type": "stream",
          "name": "stdout",
          "text": [
            "\n",
            "CODE INTERPRETER EXECUTION:\n",
            "Language: Language.PYTHON\n",
            "Code:\n",
            "# Define the variables\n",
            "principal = 1000  # P\n",
            "annual_rate = 0.05  # r (5% as a decimal)\n",
            "time_years = 10  # t\n",
            "compounding_frequency = 1  # n (compounded annually)\n",
            "\n",
            "# Calculate the future value using the compound interest formula\n",
            "# A = P * (1 + r/n)^(nt)\n",
            "future_value = principal * (1 + annual_rate / compounding_frequency)**(compounding_frequency * time_years)\n",
            "\n",
            "# Calculate the compound interest earned\n",
            "compound_interest = future_value - principal\n",
            "\n",
            "# Print the results\n",
            "print(f\"Principal amount: ${principal:,.2f}\")\n",
            "print(f\"Annual interest rate: {annual_rate * 100}%\")\n",
            "print(f\"Time period: {time_years} years\")\n",
            "print(f\"Compounding frequency per year: {compounding_frequency}\")\n",
            "print(f\"Future value of the investment: ${future_value:,.2f}\")\n",
            "print(f\"Total compound interest earned: ${compound_interest:,.2f}\")\n",
            "\n",
            "CODE INTERPRETER RESULT:\n",
            "Status: Outcome.OUTCOME_OK\n",
            "Output:\n",
            "Principal amount: $1,000.00\n",
            "Annual interest rate: 5.0%\n",
            "Time period: 10 years\n",
            "Compounding frequency per year: 1\n",
            "Future value of the investment: $1,628.89\n",
            "Total compound interest earned: $628.89\n",
            "\n",
            "AGENT RESPONSE:\n",
            "The compound interest for $1000 at a 5% annual rate for 10 years is calculated as follows:\n",
            "\n",
            "1.  **Initial Principal (P):** $1000\n",
            "2.  **Annual Interest Rate (r):** 5% (or 0.05 as a decimal)\n",
            "3.  **Number of Years (t):** 10\n",
            "4.  **Compounding Frequency (n):** 1 (compounded annually)\n",
            "\n",
            "Using the compound interest formula: A = P * (1 + r/n)^(nt)\n",
            "\n",
            "The future value of the investment (A) after 10 years will be **$1628.89**.\n",
            "The total compound interest earned will be **$628.89** ($1628.89 - $1000).\n"
          ]
        }
      ]
    },
    {
      "cell_type": "markdown",
      "source": [
        "### Comparison: Which Approach Should You Use?\n",
        "\n",
        "| Feature | AgentEngineSandboxCodeExecutor | BuiltInCodeExecutor |\n",
        "|---------|-------------------------------|---------------------|\n",
        "| **Setup Complexity** | Moderate (requires sandbox creation) | Simple (no extra setup) |\n",
        "| **Isolation** | Full isolation (separate VM) | Process-level isolation |\n",
        "| **Model Support** | Any LLM (Gemini, Claude, etc.) | Any LLM (Gemini, Claude, etc.) |\n",
        "| **Artifact Management** | GCS auto-save | In-memory only |\n",
        "| **Resource Control** | Configurable (CPU, RAM) | Fixed resources |\n",
        "| **Statefulness** | Stateful (variables persist) | Stateful within session |\n",
        "| **Production Ready** | ✅ Yes (enterprise-grade) | ⚠️ Prototyping/demos |\n",
        "| **Event Structure** | `function_call` / `function_response` | `executable_code` / `code_execution_result` |\n",
        "| **Best For** | Production agents, multi-model, artifacts | Quick prototypes, Gemini-only apps |\n",
        "\n",
        "### Recommendations\n",
        "\n",
        "**Choose `AgentEngineSandboxCodeExecutor` when:**\n",
        "\n",
        "* Building production agents\n",
        "* Require artifact persistence (files saved to GCS)\n",
        "* Need configurable compute resources\n",
        "* Want maximum isolation and security\n",
        "\n",
        "**Choose `BuiltInCodeExecutor` when:**\n",
        "\n",
        "* Rapid prototyping and experimentation\n",
        "* Don't need artifact persistence\n",
        "* Want simplest possible setup\n",
        "* Building demos or tutorials\n"
      ],
      "metadata": {
        "id": "XNAI4Hmh-6Fb"
      }
    },
    {
      "cell_type": "markdown",
      "source": [
        "## Advanced Example: Data Analyst Agent\n",
        "\n",
        "Let's build a more sophisticated agent that demonstrates real-world usage. This Data Analyst agent will use the `AgentEngineSandboxCodeExecutor` with advanced instructions for analyzing data using the pandas library."
      ],
      "metadata": {
        "id": "GOrmHUvyCZi3"
      }
    },
    {
      "cell_type": "markdown",
      "source": [
        "### Define structured output for data analysis\n",
        "\n",
        "Pydantic models can be used to define a desired output schema for an agent. While we won't enforce it strictly in this example, it's a good practice for ensuring reliable, structured data from your agents.\n"
      ],
      "metadata": {
        "id": "u5oNwvBzCknr"
      }
    },
    {
      "cell_type": "code",
      "source": [
        "class DataAnalysisResult(BaseModel):\n",
        "    \"\"\"Structured output for data analysis results.\"\"\"\n",
        "\n",
        "    total_sales: float = Field(description=\"Total sales amount\")\n",
        "    average_sales: float = Field(description=\"Average sales per product\")\n",
        "    top_product: str = Field(description=\"Product with highest sales\")\n",
        "    insights: str = Field(description=\"Key insights from the analysis\")"
      ],
      "metadata": {
        "id": "UCXhDew6CnTf"
      },
      "execution_count": 51,
      "outputs": []
    },
    {
      "cell_type": "markdown",
      "source": [
        "### Create a data analysis agent\n",
        "\n",
        "Note the more detailed instruction prompt, guiding the agent to act as an expert data analyst.\n"
      ],
      "metadata": {
        "id": "aLgFsBitCrfj"
      }
    },
    {
      "cell_type": "code",
      "source": [
        "data_analyst = LlmAgent(\n",
        "    model=\"gemini-2.5-flash\",\n",
        "    name=\"data_analyst\",\n",
        "    description=\"Expert data analyst for sales and business metrics\",\n",
        "    instruction=\"\"\"You are an expert data analyst. When given data:\n",
        "\n",
        "    1. First, load and explore the data structure\n",
        "    2. Calculate key metrics (totals, averages, trends) using code executor\n",
        "    3. Identify top performers and outliers\n",
        "    4. Generate actionable insights\n",
        "\n",
        "    Always use pandas for data manipulation and include clear print statements.\n",
        "    Format numbers nicely (e.g., currency with commas).\n",
        "    \"\"\",\n",
        "    code_executor=AgentEngineSandboxCodeExecutor(\n",
        "        sandbox_resource_name=sandbox_resource_name\n",
        "    ),\n",
        "    output_key=\"analysis_result\",  # Store result in session state\n",
        ")\n",
        "\n",
        "print(\"✅ Data Analyst agent created!\")"
      ],
      "metadata": {
        "colab": {
          "base_uri": "https://localhost:8080/"
        },
        "id": "xiN8RdanCuNm",
        "outputId": "ac66eb72-67f4-45b8-9ee8-cec33043c13e"
      },
      "execution_count": 52,
      "outputs": [
        {
          "output_type": "stream",
          "name": "stdout",
          "text": [
            "✅ Data Analyst agent created!\n"
          ]
        },
        {
          "output_type": "stream",
          "name": "stderr",
          "text": [
            "/tmp/ipython-input-1307518676.py:15: UserWarning: [EXPERIMENTAL] AgentEngineSandboxCodeExecutor: This feature is experimental and may change or be removed in future versions without notice. It may introduce breaking changes at any time.\n",
            "  code_executor=AgentEngineSandboxCodeExecutor(\n"
          ]
        }
      ]
    },
    {
      "cell_type": "markdown",
      "source": [
        "### Run the agent\n",
        "\n",
        "We set up a new runner for our analyst agent with proper session, memory, and artifact services."
      ],
      "metadata": {
        "id": "rTETmD76CyKZ"
      }
    },
    {
      "cell_type": "code",
      "source": [
        "# Initialize session with all services\n",
        "analyst_session_service = InMemorySessionService()\n",
        "analyst_memory_service = InMemoryMemoryService()\n",
        "analyst_artifact_service = InMemoryArtifactService()\n",
        "\n",
        "analyst_session = await analyst_session_service.create_session(\n",
        "    app_name=\"sales_analysis\",\n",
        "    user_id=\"analyst_001\",\n",
        "    session_id=\"analysis_123\",\n",
        "    state={},  # Empty initial state\n",
        ")\n",
        "\n",
        "# Create runner\n",
        "analyst_runner = Runner(\n",
        "    agent=data_analyst,\n",
        "    app_name=\"sales_analysis\",\n",
        "    session_service=analyst_session_service,\n",
        "    memory_service=analyst_memory_service,\n",
        "    artifact_service=analyst_artifact_service,\n",
        ")\n",
        "\n",
        "print(\"✅ Data Analyst runner configured!\")"
      ],
      "metadata": {
        "colab": {
          "base_uri": "https://localhost:8080/"
        },
        "id": "CAL0spOiC1OS",
        "outputId": "cf108b2c-fb77-4c25-b8d5-485ebbdc156b"
      },
      "execution_count": 53,
      "outputs": [
        {
          "output_type": "stream",
          "name": "stdout",
          "text": [
            "✅ Data Analyst runner configured!\n"
          ]
        }
      ]
    },
    {
      "cell_type": "code",
      "source": [
        "# Prepare the analysis request with CSV data\n",
        "analysis_request = genai_types.Content(\n",
        "    role=\"user\",\n",
        "    parts=[\n",
        "        genai_types.Part(\n",
        "            text=\"\"\"\n",
        "Analyze this sales data and provide insights:\n",
        "\n",
        "Product,Sales,Units,Region\n",
        "Widget A,5000,100,North\n",
        "Widget B,7500,150,South\n",
        "Widget C,3000,60,East\n",
        "Widget D,9000,180,West\n",
        "Widget E,6500,130,North\n",
        "\n",
        "Calculate:\n",
        "1. Total and average sales\n",
        "2. Best performing product\n",
        "3. Sales per unit for each product\n",
        "4. Regional performance summary\n",
        "\"\"\"\n",
        "        )\n",
        "    ],\n",
        ")\n",
        "\n",
        "print(\"🙋 User query: Sales data analysis\\n\")\n",
        "print(\"=\" * 60)\n",
        "\n",
        "# Run the analysis\n",
        "async for event in analyst_runner.run_async(\n",
        "    user_id=\"analyst_001\",\n",
        "    session_id=\"analysis_123\",\n",
        "    new_message=analysis_request\n",
        "):\n",
        "    parse_event(event)"
      ],
      "metadata": {
        "colab": {
          "base_uri": "https://localhost:8080/"
        },
        "id": "2cfbjWmmC4BD",
        "outputId": "ba6c592a-001c-440b-9983-23d79471f943"
      },
      "execution_count": 54,
      "outputs": [
        {
          "output_type": "stream",
          "name": "stdout",
          "text": [
            "🙋 User query: Sales data analysis\n",
            "\n",
            "============================================================\n"
          ]
        },
        {
          "output_type": "stream",
          "name": "stderr",
          "text": [
            "INFO:google_adk.google.adk.models.google_llm:Sending out request, model: gemini-2.5-flash, backend: GoogleLLMVariant.VERTEX_AI, stream: False\n",
            "INFO:google_genai.models:AFC is enabled with max remote calls: 10.\n",
            "INFO:google_adk.google.adk.models.google_llm:Response received from the model.\n"
          ]
        },
        {
          "output_type": "stream",
          "name": "stdout",
          "text": [
            "\n",
            "AGENT RESPONSE:\n",
            "Okay, I'm ready to analyze your sales data!\n",
            "\n",
            "First, I'll load the data into a pandas DataFrame and take a quick look at its structure.\n",
            "\n",
            "CODE INTERPRETER EXECUTION:\n",
            "Language: Language.PYTHON\n",
            "Code:\n",
            "import pandas as pd\n",
            "import io\n",
            "\n",
            "# Data provided as a string\n",
            "data = \"\"\"Product,Sales,Units,Region\n",
            "Widget A,5000,100,North\n",
            "Widget B,7500,150,South\n",
            "Widget C,3000,60,East\n",
            "Widget D,9000,180,West\n",
            "Widget E,6500,130,North\"\"\"\n",
            "\n",
            "# Load the data into a pandas DataFrame\n",
            "df = pd.read_csv(io.StringIO(data))\n",
            "\n",
            "print(\"--- Data Structure Exploration ---\")\n",
            "print(\"DataFrame Head:\")\n",
            "print(df.head())\n",
            "print(\"\\nDataFrame Info:\")\n",
            "df.info()\n",
            "print(\"\\nDataFrame Description:\")\n",
            "print(df.describe())\n"
          ]
        },
        {
          "output_type": "stream",
          "name": "stderr",
          "text": [
            "INFO:httpx:HTTP Request: POST https://us-central1-aiplatform.googleapis.com/v1beta1/projects/541923329259/locations/us-central1/reasoningEngines/1159945184885080064/sandboxEnvironments/9154738322025742336/:execute \"HTTP/1.1 200 OK\"\n",
            "INFO:google_adk.google.adk.models.google_llm:Sending out request, model: gemini-2.5-flash, backend: GoogleLLMVariant.VERTEX_AI, stream: False\n",
            "INFO:google_genai.models:AFC is enabled with max remote calls: 10.\n"
          ]
        },
        {
          "output_type": "stream",
          "name": "stdout",
          "text": [
            "\n",
            "CODE INTERPRETER RESULT:\n",
            "Status: Outcome.OUTCOME_OK\n",
            "Output:\n",
            "Code execution result:\n"
          ]
        },
        {
          "output_type": "stream",
          "name": "stderr",
          "text": [
            "INFO:google_adk.google.adk.models.google_llm:Response received from the model.\n"
          ]
        },
        {
          "output_type": "stream",
          "name": "stdout",
          "text": [
            "\n",
            "AGENT RESPONSE:\n",
            "The data has been loaded successfully. I can see it's a small dataset with `Product`, `Sales`, `Units`, and `Region` columns. All columns have non-null values, and `Sales` and `Units` are correctly identified as integers.\n",
            "\n",
            "Now, let's calculate the requested key metrics, identify top performers, and summarize regional performance.\n",
            "\n",
            "CODE INTERPRETER EXECUTION:\n",
            "Language: Language.PYTHON\n",
            "Code:\n",
            "import pandas as pd\n",
            "import io\n",
            "\n",
            "# Data provided as a string (re-creating for continuity in this block)\n",
            "data = \"\"\"Product,Sales,Units,Region\n",
            "Widget A,5000,100,North\n",
            "Widget B,7500,150,South\n",
            "Widget C,3000,60,East\n",
            "Widget D,9000,180,West\n",
            "Widget E,6500,130,North\"\"\"\n",
            "\n",
            "# Load the data into a pandas DataFrame\n",
            "df = pd.read_csv(io.StringIO(data))\n",
            "\n",
            "print(\"--- Key Metrics Calculation ---\")\n",
            "\n",
            "# 1. Total and average sales\n",
            "total_sales = df['Sales'].sum()\n",
            "average_sales_per_product = df['Sales'].mean()\n",
            "total_units = df['Units'].sum()\n",
            "average_units_per_product = df['Units'].mean()\n",
            "\n",
            "print(f\"\\n1. Overall Sales Performance:\")\n",
            "print(f\"   Total Sales: ${total_sales:,.2f}\")\n",
            "print(f\"   Average Sales per Product: ${average_sales_per_product:,.2f}\")\n",
            "print(f\"   Total Units Sold: {total_units:,}\")\n",
            "print(f\"   Average Units Sold per Product: {average_units_per_product:.2f}\")\n",
            "\n",
            "# 2. Best performing product (by Sales)\n",
            "best_selling_product = df.loc[df['Sales'].idxmax()]\n",
            "print(f\"\\n2. Best Performing Product (by Sales):\")\n",
            "print(f\"   Product: {best_selling_product['Product']}\")\n",
            "print(f\"   Sales: ${best_selling_product['Sales']:,.2f}\")\n",
            "print(f\"   Units: {best_selling_product['Units']:,}\")\n",
            "print(f\"   Region: {best_selling_product['Region']}\")\n",
            "\n",
            "# 3. Sales per unit for each product\n",
            "df['Sales_Per_Unit'] = df['Sales'] / df['Units']\n",
            "print(f\"\\n3. Sales Per Unit for Each Product:\")\n",
            "for index, row in df.iterrows():\n",
            "    print(f\"   - {row['Product']}: ${row['Sales_Per_Unit']:.2f} per unit\")\n",
            "\n",
            "# Best sales per unit\n",
            "best_sales_per_unit_product = df.loc[df['Sales_Per_Unit'].idxmax()]\n",
            "print(f\"\\n   Product with Highest Sales Per Unit: {best_sales_per_unit_product['Product']} (${best_sales_per_unit_product['Sales_Per_Unit']:.2f})\")\n",
            "# Worst sales per unit\n",
            "worst_sales_per_unit_product = df.loc[df['Sales_Per_Unit'].idxmin()]\n",
            "print(f\"   Product with Lowest Sales Per Unit: {worst_sales_per_unit_product['Product']} (${worst_sales_per_unit_product['Sales_Per_Unit']:.2f})\")\n",
            "\n",
            "\n",
            "# 4. Regional performance summary\n",
            "regional_summary = df.groupby('Region').agg(\n",
            "    Total_Sales=('Sales', 'sum'),\n",
            "    Total_Units=('Units', 'sum'),\n",
            "    Average_Sales_Per_Product_in_Region=('Sales', 'mean'),\n",
            "    Average_Units_Per_Product_in_Region=('Units', 'mean')\n",
            ").sort_values(by='Total_Sales', ascending=False)\n",
            "\n",
            "# Add Sales_Per_Unit at regional level (total sales / total units)\n",
            "regional_summary['Regional_Sales_Per_Unit'] = regional_summary['Total_Sales'] / regional_summary['Total_Units']\n",
            "\n",
            "\n",
            "print(f\"\\n4. Regional Performance Summary:\")\n",
            "print(regional_summary.to_string(formatters={\n",
            "    'Total_Sales': '${:,.2f}'.format,\n",
            "    'Total_Units': '{:,.0f}'.format,\n",
            "    'Average_Sales_Per_Product_in_Region': '${:,.2f}'.format,\n",
            "    'Average_Units_Per_Product_in_Region': '{:,.2f}'.format,\n",
            "    'Regional_Sales_Per_Unit': '${:,.2f}'.format\n",
            "}))\n",
            "\n",
            "# Identify best/worst performing region\n",
            "best_region_sales = regional_summary.iloc[0]\n",
            "worst_region_sales = regional_summary.iloc[-1]\n",
            "\n",
            "print(f\"\\n   Top Performing Region (by Total Sales): {best_region_sales.name} with ${best_region_sales['Total_Sales']:,.2f}\")\n",
            "print(f\"   Lowest Performing Region (by Total Sales): {worst_region_sales.name} with ${worst_region_sales['Total_Sales']:,.2f}\")\n"
          ]
        },
        {
          "output_type": "stream",
          "name": "stderr",
          "text": [
            "INFO:httpx:HTTP Request: POST https://us-central1-aiplatform.googleapis.com/v1beta1/projects/541923329259/locations/us-central1/reasoningEngines/1159945184885080064/sandboxEnvironments/9154738322025742336/:execute \"HTTP/1.1 200 OK\"\n"
          ]
        },
        {
          "output_type": "stream",
          "name": "stdout",
          "text": [
            "\n",
            "CODE INTERPRETER RESULT:\n",
            "Status: Outcome.OUTCOME_OK\n",
            "Output:\n",
            "Code execution result:\n"
          ]
        },
        {
          "output_type": "stream",
          "name": "stderr",
          "text": [
            "INFO:google_adk.google.adk.models.google_llm:Sending out request, model: gemini-2.5-flash, backend: GoogleLLMVariant.VERTEX_AI, stream: False\n",
            "INFO:google_genai.models:AFC is enabled with max remote calls: 10.\n",
            "INFO:google_adk.google.adk.models.google_llm:Response received from the model.\n"
          ]
        },
        {
          "output_type": "stream",
          "name": "stdout",
          "text": [
            "\n",
            "AGENT RESPONSE:\n",
            "Here's an analysis of your sales data, including key metrics, top performers, and actionable insights:\n",
            "\n",
            "---\n",
            "\n",
            "### Sales Data Analysis\n",
            "\n",
            "**1. Overall Sales Performance:**\n",
            "\n",
            "*   **Total Sales:** **$31,000.00** across all products.\n",
            "*   **Average Sales per Product:** **$6,200.00**.\n",
            "*   **Total Units Sold:** **620**.\n",
            "*   **Average Units Sold per Product:** **124.00**.\n",
            "\n",
            "**2. Product Performance:**\n",
            "\n",
            "*   **Best Performing Product (by Sales):**\n",
            "    *   **Widget D** is the clear leader with **$9,000.00** in sales from **180 units**, primarily driven by its performance in the West region.\n",
            "\n",
            "*   **Sales Per Unit for Each Product:**\n",
            "    *   Widget A: $50.00 per unit\n",
            "    *   Widget B: $50.00 per unit\n",
            "    *   Widget C: $50.00 per unit\n",
            "    *   Widget D: $50.00 per unit\n",
            "    *   Widget E: $50.00 per unit\n",
            "    *   **Insight:** Interestingly, all products consistently yield **$50.00 in sales per unit**. This indicates a uniform pricing strategy or consistent value generation across your product line. Differences in total sales are purely due to the volume of units sold.\n",
            "\n",
            "**3. Regional Performance Summary:**\n",
            "\n",
            "| Region | Total Sales | Total Units | Average Sales Per Product in Region | Average Units Per Product in Region | Regional Sales Per Unit |\n",
            "| :----- | :---------- | :---------- | :---------------------------------- | :---------------------------------- | :---------------------- |\n",
            "| **North** | **$11,500.00** | **230**     | $5,750.00                           | 115.00                              | $50.00                  |\n",
            "| West   | $9,000.00   | 180         | $9,000.00                           | 180.00                              | $50.00                  |\n",
            "| South  | $7,500.00   | 150         | $7,500.00                           | 150.00                              | $50.00                  |\n",
            "| East   | $3,000.00   | 60          | $3,000.00                           | 60.00                               | $50.00                  |\n",
            "\n",
            "*   **Top Performing Region (by Total Sales):** The **North** region leads with **$11,500.00** in total sales, driven by the combined sales of Widget A and Widget E.\n",
            "*   **Lowest Performing Region (by Total Sales):** The **East** region shows the lowest performance with only **$3,000.00** in sales.\n",
            "*   **Insight:** Similar to product performance, all regions maintain a consistent **$50.00 regional sales per unit**. This means regional sales differences are solely a function of the number of units sold in each region, not pricing or product value differences.\n",
            "\n",
            "---\n",
            "\n",
            "### Actionable Insights & Recommendations:\n",
            "\n",
            "1.  **Leverage Success in the North & West:**\n",
            "    *   The **North region** (highest total sales) and the **West region** (highest-selling individual product, Widget D) are strong performers. Investigate their sales strategies, marketing efforts, and market dynamics.\n",
            "    *   **Action:** Document and replicate successful sales tactics, marketing campaigns, or distribution channels from the North and West regions to other, underperforming regions.\n",
            "\n",
            "2.  **Address Underperformance in the East:**\n",
            "    *   The **East region** significantly underperforms.\n",
            "    *   **Action:** Conduct a deep dive into the East region. Is it a matter of market awareness, sales team effectiveness, competition, or demand? Consider targeted marketing campaigns, sales incentives, or re-evaluating distribution partners in this region.\n",
            "\n",
            "3.  **Boost Lower-Volume Products:**\n",
            "    *   While Widget D is strong, products like **Widget C** (and to a lesser extent, Widget B and E) have lower overall sales volumes. Since sales per unit is consistent ($50), the focus should be on increasing unit sales.\n",
            "    *   **Action:** Implement promotional strategies (e.g., bundles, limited-time discounts, targeted advertising) specifically for Widget C to drive higher unit sales, especially in regions where it's not performing strongly.\n",
            "\n",
            "4.  **Consistency in Value Proposition:**\n",
            "    *   The consistent $50 sales per unit across all products and regions indicates a stable value proposition. While this is positive for consistency, it also means that growth must come from increased volume rather than pricing adjustments or premium product tiers (unless new products are introduced).\n",
            "    *   **Action:** Continue to monitor unit sales across all products and regions. Consider introducing new products with different price points or value propositions if aiming to diversify revenue streams beyond just volume growth.\n",
            "\n",
            "By focusing on replicating success and addressing specific areas of underperformance, you can drive overall sales growth more effectively.\n"
          ]
        }
      ]
    },
    {
      "cell_type": "markdown",
      "source": [
        "**What makes this example advanced:**\n",
        "\n",
        "* **Real-world data processing**: Uses pandas for CSV data manipulation\n",
        "* **Complex instructions**: Multi-step analysis workflow\n",
        "* **Structured thinking**: Agent follows a systematic approach\n",
        "* **Output formatting**: Produces human-readable, actionable insights\n",
        "* **Session state management**: Can maintain context across multiple queries\n",
        "\n",
        "This demonstrates how you can build specialized agents for domain-specific tasks like data analysis, financial modeling, or scientific computing."
      ],
      "metadata": {
        "id": "PXOl6ZGVDGPK"
      }
    },
    {
      "cell_type": "markdown",
      "source": [
        "# Sandbox Management and Operations\n",
        "\n",
        "Learn how to manage the lifecycle of your sandboxes and work with file I/O.\n",
        "\n",
        "**Why this matters:** Proper resource management and understanding file operations helps you:\n",
        "\n",
        "* Avoid unnecessary costs\n",
        "* Keep your project organized\n",
        "* Work with real-world data and outputs\n",
        "* Troubleshoot issues with specific sandboxes\n"
      ],
      "metadata": {
        "id": "59gCnkLU_I5o"
      }
    },
    {
      "cell_type": "markdown",
      "source": [
        "### Listing Sandboxes\n",
        "\n",
        "You can list all sandboxes created within a specific AgentEngine resource.\n"
      ],
      "metadata": {
        "id": "Dx-Ez_iB_Tcg"
      }
    },
    {
      "cell_type": "code",
      "source": [
        "# List all sandboxes in the Agent Engine\n",
        "sandboxes = client.agent_engines.sandboxes.list(name=agent_engine.api_resource.name)\n",
        "\n",
        "print(f\"✅ Found {len(sandboxes)} sandbox(es)\\n\")\n",
        "print(\"=\" * 60)\n",
        "\n",
        "for i, sandbox in enumerate(sandboxes, 1):\n",
        "    print(f\"\\n📦 Sandbox {i}:\")\n",
        "    print(f\"   Display name: {sandbox.display_name}\")\n",
        "    print(f\"   Resource name: {sandbox.name}\")\n",
        "    print(f\"   State: {sandbox.state}\")\n",
        "    print(f\"   Created: {sandbox.create_time}\")\n",
        "    if hasattr(sandbox, 'expire_time') and sandbox.expire_time:\n",
        "        print(f\"   Expires: {sandbox.expire_time}\")"
      ],
      "metadata": {
        "colab": {
          "base_uri": "https://localhost:8080/"
        },
        "id": "cM7eIZL6-Waa",
        "outputId": "3d032ae1-7eea-4136-b154-d730da12e9bd"
      },
      "execution_count": 43,
      "outputs": [
        {
          "output_type": "stream",
          "name": "stderr",
          "text": [
            "INFO:httpx:HTTP Request: GET https://us-central1-aiplatform.googleapis.com/v1beta1/projects/541923329259/locations/us-central1/reasoningEngines/1159945184885080064/sandboxEnvironments \"HTTP/1.1 200 OK\"\n"
          ]
        },
        {
          "output_type": "stream",
          "name": "stdout",
          "text": [
            "✅ Found 2 sandbox(es)\n",
            "\n",
            "============================================================\n",
            "\n",
            "📦 Sandbox 1:\n",
            "   Display name: my_custom_sandbox\n",
            "   Resource name: projects/541923329259/locations/us-central1/reasoningEngines/1159945184885080064/sandboxEnvironments/9154738322025742336\n",
            "   State: State.STATE_RUNNING\n",
            "   Created: 2025-11-01 19:23:10.259728+00:00\n",
            "\n",
            "📦 Sandbox 2:\n",
            "   Display name: my_first_sandbox\n",
            "   Resource name: projects/541923329259/locations/us-central1/reasoningEngines/1159945184885080064/sandboxEnvironments/1293705172450541568\n",
            "   State: State.STATE_RUNNING\n",
            "   Created: 2025-11-01 18:03:19.559818+00:00\n"
          ]
        }
      ]
    },
    {
      "cell_type": "markdown",
      "source": [
        "## Get details of a specific sandbox\n",
        "\n",
        "Retrieve comprehensive information about a single sandbox."
      ],
      "metadata": {
        "id": "WuKza2Cs_Z29"
      }
    },
    {
      "cell_type": "code",
      "source": [
        "# Get detailed information about a specific sandbox\n",
        "if sandboxes:\n",
        "    sandbox_name = sandboxes[0].name\n",
        "    sandbox = client.agent_engines.sandboxes.get(name=sandbox_name)\n",
        "\n",
        "    print(\"✅ Sandbox details retrieved!\\n\")\n",
        "    print(f\"📦 Sandbox: {sandbox.display_name}\")\n",
        "    print(f\"   State: {sandbox.state}\")\n",
        "    print(f\"   Created: {sandbox.create_time}\")\n",
        "    print(f\"   Spec: {sandbox.spec}\")\n",
        "else:\n",
        "    print(\"⚠️ No sandboxes found to inspect\")"
      ],
      "metadata": {
        "colab": {
          "base_uri": "https://localhost:8080/"
        },
        "id": "-1X6yluC_V5Z",
        "outputId": "935ff349-0748-4e17-8cd6-7fcc22631c58"
      },
      "execution_count": 44,
      "outputs": [
        {
          "output_type": "stream",
          "name": "stderr",
          "text": [
            "INFO:httpx:HTTP Request: GET https://us-central1-aiplatform.googleapis.com/v1beta1/projects/541923329259/locations/us-central1/reasoningEngines/1159945184885080064/sandboxEnvironments/9154738322025742336 \"HTTP/1.1 200 OK\"\n"
          ]
        },
        {
          "output_type": "stream",
          "name": "stdout",
          "text": [
            "✅ Sandbox details retrieved!\n",
            "\n",
            "📦 Sandbox: my_custom_sandbox\n",
            "   State: State.STATE_RUNNING\n",
            "   Created: 2025-11-01 19:23:10.259728+00:00\n",
            "   Spec: code_execution_environment=SandboxEnvironmentSpecCodeExecutionEnvironment(\n",
            "  code_language=<Language.LANGUAGE_PYTHON: 'LANGUAGE_PYTHON'>,\n",
            "  machine_config=<MachineConfig.MACHINE_CONFIG_VCPU4_RAM4GIB: 'MACHINE_CONFIG_VCPU4_RAM4GIB'>\n",
            ") computer_use_environment=None\n"
          ]
        }
      ]
    },
    {
      "cell_type": "markdown",
      "source": [
        "## Delete a specific sandbox\n",
        "\n",
        "Delete sandboxes you no longer need to avoid incurring costs.The sandbox and all its resources are permanently removed."
      ],
      "metadata": {
        "id": "jTSQChma_gcf"
      }
    },
    {
      "cell_type": "code",
      "source": [
        "# Delete a specific sandbox (with error handling)\n",
        "if sandboxes and len(sandboxes) > 1:  # Only if we have more than one\n",
        "    try:\n",
        "        # Delete the first sandbox (not the one we're actively using)\n",
        "        delete_operation = client.agent_engines.sandboxes.delete(name=sandboxes[0].name)\n",
        "\n",
        "        if delete_operation.done:\n",
        "            print(\"✅ Sandbox deleted successfully!\")\n",
        "            print(f\"   Deleted: {sandboxes[0].display_name}\")\n",
        "        else:\n",
        "            print(\"⏳ Deletion in progress...\")\n",
        "            print(f\"   Resource: {sandboxes[0].display_name}\")\n",
        "    except Exception as e:\n",
        "        print(f\"⚠️ Error during deletion: {str(e)}\")\n",
        "else:\n",
        "    print(\"ℹ️ Skipping deletion (only one sandbox or none available)\")"
      ],
      "metadata": {
        "colab": {
          "base_uri": "https://localhost:8080/"
        },
        "id": "WV7-N4b5_cJH",
        "outputId": "40172492-0f56-4c2d-a0ff-59a3a0a8c4ce"
      },
      "execution_count": 45,
      "outputs": [
        {
          "output_type": "stream",
          "name": "stderr",
          "text": [
            "INFO:httpx:HTTP Request: DELETE https://us-central1-aiplatform.googleapis.com/v1beta1/projects/541923329259/locations/us-central1/reasoningEngines/1159945184885080064/sandboxEnvironments/9154738322025742336 \"HTTP/1.1 200 OK\"\n"
          ]
        },
        {
          "output_type": "stream",
          "name": "stdout",
          "text": [
            "✅ Sandbox deleted successfully!\n",
            "   Deleted: my_custom_sandbox\n"
          ]
        }
      ]
    },
    {
      "cell_type": "markdown",
      "source": [
        "## Working with Files in the Sandbox\n",
        "\n",
        "Learn how to send files to the sandbox and retrieve generated files.\n",
        "\n",
        "Real-world code often involves file I/O—reading CSV data, generating charts, creating reports.\n"
      ],
      "metadata": {
        "id": "UiUUAIET_pQU"
      }
    },
    {
      "cell_type": "markdown",
      "source": [
        "### Understanding Output Types\n",
        "\n",
        "The sandbox returns two types of outputs:\n",
        "\n",
        "1. **JSON output** (stdout/stderr): `mime_type=\"application/json\"` with `metadata=None`\n",
        "2. **Generated files**: Various mime_types (e.g., `image/png`, `text/plain`) with `metadata.attributes`\n",
        "\n",
        "**Input Files** are sent via the `files` array in `input_data`. **Output Files** are retrieved from `response.outputs` with specific mime_types.\n"
      ],
      "metadata": {
        "id": "YgIOvENo_vYp"
      }
    },
    {
      "cell_type": "markdown",
      "source": [
        "### Example 1: Text File I/O\n",
        "\n",
        "Let's start with a simple example: reading from an input file and writing to an output file.\n"
      ],
      "metadata": {
        "id": "pg00n7HdAEom"
      }
    },
    {
      "cell_type": "code",
      "source": [
        "# Define the code to read and write text files\n",
        "my_code = \"\"\"\n",
        "with open(\"input.txt\", \"r\") as input_file:\n",
        "    with open(\"output.txt\", \"w\") as output_file:\n",
        "        for line in input_file:\n",
        "            # Echo each line to stdout for visibility\n",
        "            print(f\"Processing: {line.strip()}\")\n",
        "            # Write to output file\n",
        "            output_file.write(line)\n",
        "\"\"\"\n",
        "\n",
        "# Prepare input data with a file\n",
        "input_data = {\n",
        "    \"code\": my_code,\n",
        "    \"files\": [{\n",
        "        \"name\": \"input.txt\",\n",
        "        \"content\": b\"Hello, Agent Engine Sandbox!\\nThis is a test file.\\nFile I/O is working!\"\n",
        "    }]\n",
        "}\n",
        "\n",
        "# Execute the code\n",
        "response = client.agent_engines.sandboxes.execute_code(\n",
        "    name=sandbox_resource_name,\n",
        "    input_data=input_data\n",
        ")\n",
        "\n",
        "print(\"✅ Code executed with file I/O!\")"
      ],
      "metadata": {
        "colab": {
          "base_uri": "https://localhost:8080/"
        },
        "id": "GnShqw_e_nCs",
        "outputId": "de00496b-9e16-4fac-b2b7-7da7f5aa249c"
      },
      "execution_count": 46,
      "outputs": [
        {
          "output_type": "stream",
          "name": "stderr",
          "text": [
            "INFO:httpx:HTTP Request: POST https://us-central1-aiplatform.googleapis.com/v1beta1/projects/541923329259/locations/us-central1/reasoningEngines/1159945184885080064/sandboxEnvironments/9154738322025742336/:execute \"HTTP/1.1 200 OK\"\n"
          ]
        },
        {
          "output_type": "stream",
          "name": "stdout",
          "text": [
            "✅ Code executed with file I/O!\n"
          ]
        }
      ]
    },
    {
      "cell_type": "markdown",
      "source": [
        "Now let's parse the response. We need to handle both stdout/stderr (JSON) and generated files separately.\n"
      ],
      "metadata": {
        "id": "fu_5ABowARz1"
      }
    },
    {
      "cell_type": "code",
      "source": [
        "# Process the response outputs\n",
        "for output in response.outputs:\n",
        "    # Check if this is JSON output (stdout/stderr)\n",
        "    if output.mime_type == \"application/json\" and output.metadata is None:\n",
        "        # Decode the JSON response\n",
        "        result = json.loads(output.data.decode(\"utf-8\"))\n",
        "\n",
        "        # Display stdout\n",
        "        if result.get(\"msg_out\"):\n",
        "            print(\"📤 Standard Output:\")\n",
        "            print(result.get(\"msg_out\"))\n",
        "\n",
        "        # Display stderr if any\n",
        "        if result.get(\"msg_err\"):\n",
        "            print(\"❌ Errors:\")\n",
        "            print(result.get(\"msg_err\"))\n",
        "\n",
        "    # Check if this is a generated file\n",
        "    elif output.metadata and output.metadata.attributes:\n",
        "        # Extract the file name from metadata\n",
        "        file_name = output.metadata.attributes.get(\"file_name\")\n",
        "        if isinstance(file_name, bytes):\n",
        "            file_name = file_name.decode(\"utf-8\")\n",
        "\n",
        "        print(f\"\\n📁 Generated File: {file_name}\")\n",
        "        print(f\"   MIME Type: {output.mime_type}\")\n",
        "        print(f\"   Size: {len(output.data)} bytes\")\n",
        "        print(f\"   Content preview: {output.data[:100].decode('utf-8', errors='ignore')}...\")"
      ],
      "metadata": {
        "colab": {
          "base_uri": "https://localhost:8080/"
        },
        "id": "YQYHqzCbAK_g",
        "outputId": "2628f4df-93c1-4e84-cb46-c9eb24475da6"
      },
      "execution_count": 47,
      "outputs": [
        {
          "output_type": "stream",
          "name": "stdout",
          "text": [
            "📤 Standard Output:\n",
            "Processing: Hello, Agent Engine Sandbox!\n",
            "Processing: This is a test file.\n",
            "Processing: File I/O is working!\n",
            "\n",
            "\n",
            "📁 Generated File: output.txt\n",
            "   MIME Type: text/plain\n",
            "   Size: 70 bytes\n",
            "   Content preview: Hello, Agent Engine Sandbox!\n",
            "This is a test file.\n",
            "File I/O is working!...\n"
          ]
        }
      ]
    },
    {
      "cell_type": "markdown",
      "source": [
        "### Example 2: Generating and Retrieving Image Files\n",
        "\n",
        "Now let's try something more visual—generating a chart with matplotlib and retrieving the PNG file.\n"
      ],
      "metadata": {
        "id": "QiCEWPl2AbsI"
      }
    },
    {
      "cell_type": "code",
      "source": [
        "# Code to generate a matplotlib chart\n",
        "chart_code = \"\"\"\n",
        "import matplotlib.pyplot as plt\n",
        "\n",
        "# Create data\n",
        "x = [1, 2, 3, 4, 5]\n",
        "y = [2, 4, 6, 8, 10]\n",
        "\n",
        "# Create the plot\n",
        "plt.figure(figsize=(8, 6))\n",
        "plt.plot(x, y, marker='o', linewidth=2, markersize=8)\n",
        "plt.xlabel('X-axis')\n",
        "plt.ylabel('Y-axis')\n",
        "plt.title('Simple Line Plot')\n",
        "plt.grid(True, alpha=0.3)\n",
        "\n",
        "# Save the chart\n",
        "plt.savefig('chart_out.png', dpi=150, bbox_inches='tight')\n",
        "print(\"Chart saved to 'chart_out.png'\")\n",
        "\"\"\"\n",
        "\n",
        "# Execute the code (no input files needed this time)\n",
        "response = client.agent_engines.sandboxes.execute_code(\n",
        "    name=sandbox_resource_name,\n",
        "    input_data={\"code\": chart_code}\n",
        ")\n",
        "\n",
        "print(\"✅ Chart generation code executed!\")"
      ],
      "metadata": {
        "colab": {
          "base_uri": "https://localhost:8080/"
        },
        "id": "pXR3Kki8AWf6",
        "outputId": "12d87928-6026-4761-ab0b-878c411cff39"
      },
      "execution_count": 48,
      "outputs": [
        {
          "output_type": "stream",
          "name": "stderr",
          "text": [
            "INFO:httpx:HTTP Request: POST https://us-central1-aiplatform.googleapis.com/v1beta1/projects/541923329259/locations/us-central1/reasoningEngines/1159945184885080064/sandboxEnvironments/9154738322025742336/:execute \"HTTP/1.1 200 OK\"\n"
          ]
        },
        {
          "output_type": "stream",
          "name": "stdout",
          "text": [
            "✅ Chart generation code executed!\n"
          ]
        }
      ]
    },
    {
      "cell_type": "markdown",
      "source": [
        "Retrieve and display the generated image. Image files come back as binary data that we can decode and display.\n"
      ],
      "metadata": {
        "id": "q3pbdwAXBFIY"
      }
    },
    {
      "cell_type": "code",
      "source": [
        "# Process outputs to find and display the image\n",
        "for output in response.outputs:\n",
        "    # Handle JSON output (stdout/stderr)\n",
        "    if output.mime_type == \"application/json\" and output.metadata is None:\n",
        "        result = json.loads(output.data.decode(\"utf-8\"))\n",
        "        if result.get(\"msg_out\"):\n",
        "            print(\"📤 Output:\")\n",
        "            print(result.get(\"msg_out\"))\n",
        "\n",
        "    # Handle image files\n",
        "    elif output.metadata and output.metadata.attributes:\n",
        "        file_name = output.metadata.attributes.get(\"file_name\")\n",
        "        if isinstance(file_name, bytes):\n",
        "            file_name = file_name.decode(\"utf-8\")\n",
        "\n",
        "        print(f\"\\n📊 Generated Image: {file_name}\")\n",
        "        print(f\"   MIME Type: {output.mime_type}\")\n",
        "        print(f\"   Size: {len(output.data)} bytes\")\n",
        "\n",
        "        # Display the image if it's a PNG/JPG\n",
        "        if file_name.endswith(('.png', '.jpg', '.jpeg')):\n",
        "            from io import BytesIO\n",
        "            import matplotlib.pyplot as plt\n",
        "\n",
        "            # Decode the binary data and display\n",
        "            img = plt.imread(BytesIO(output.data))\n",
        "            fig, ax = plt.subplots(figsize=(8, 6))\n",
        "            ax.imshow(img)\n",
        "            ax.axis('off')\n",
        "            plt.title(f\"Retrieved: {file_name}\")\n",
        "            plt.show()\n",
        "\n",
        "            # Optionally save locally\n",
        "            with open(file_name, 'wb') as f:\n",
        "                f.write(output.data)\n",
        "            print(f\"   ✅ Saved locally as: {file_name}\")"
      ],
      "metadata": {
        "colab": {
          "base_uri": "https://localhost:8080/",
          "height": 663
        },
        "id": "3gYIkfkJBDJA",
        "outputId": "fff12b06-ccfd-4776-c485-834e34cf3e41"
      },
      "execution_count": 49,
      "outputs": [
        {
          "output_type": "stream",
          "name": "stdout",
          "text": [
            "📤 Output:\n",
            "Chart saved to 'chart_out.png'\n",
            "\n",
            "\n",
            "📊 Generated Image: chart_out.png\n",
            "   MIME Type: image/png\n",
            "   Size: 43938 bytes\n"
          ]
        },
        {
          "output_type": "display_data",
          "data": {
            "text/plain": [
              "<Figure size 800x600 with 1 Axes>"
            ],
            "image/png": "[encoded data removed]"
          },
          "metadata": {}
        },
        {
          "output_type": "stream",
          "name": "stdout",
          "text": [
            "   ✅ Saved locally as: chart_out.png\n"
          ]
        }
      ]
    },
    {
      "cell_type": "markdown",
      "source": [
        "### Key Takeaways: File I/O Patterns\n",
        "\n",
        "**Pattern for parsing sandbox responses:**\n",
        "\n",
        "```python\n",
        "for output in response.outputs:\n",
        "    # Case 1: JSON output (stdout/stderr)\n",
        "    if output.mime_type == \"application/json\" and output.metadata is None:\n",
        "        result = json.loads(output.data.decode(\"utf-8\"))\n",
        "        stdout = result.get(\"msg_out\")\n",
        "        stderr = result.get(\"msg_err\")\n",
        "\n",
        "    # Case 2: Generated files\n",
        "    elif output.metadata and output.metadata.attributes:\n",
        "        file_name = output.metadata.attributes.get(\"file_name\")\n",
        "        file_data = output.data  # Binary content\n",
        "        mime_type = output.mime_type\n",
        "```\n",
        "\n",
        "**This pattern will work for all file types:** text files, images, PDFs, CSV files, etc."
      ],
      "metadata": {
        "id": "9BCeGr7yBMnU"
      }
    },
    {
      "cell_type": "markdown",
      "source": [
        "# Cleaning up\n",
        "\n",
        "Finally, clean up the top-level AgentEngine resource. Using `force=True` will also delete any remaining child resources, like other sandboxes you may have created.\n"
      ],
      "metadata": {
        "id": "O2AZLNS7BTjF"
      }
    },
    {
      "cell_type": "code",
      "source": [
        "# Clean up the Agent Engine and all child resources\n",
        "delete_agent_engine = True  # Set to False to keep resources\n",
        "\n",
        "if delete_agent_engine:\n",
        "    try:\n",
        "        # Using force=True will delete all child sandboxes automatically\n",
        "        agent_engine.delete(force=True)\n",
        "        print(\"✅ Agent Engine and all sandboxes deleted successfully!\")\n",
        "        print(\"   All resources have been cleaned up.\")\n",
        "    except Exception as e:\n",
        "        print(f\"⚠️ Error during cleanup: {str(e)}\")\n",
        "else:\n",
        "    print(\"ℹ️ Keeping Agent Engine resources (delete_agent_engine = False)\")"
      ],
      "metadata": {
        "colab": {
          "base_uri": "https://localhost:8080/"
        },
        "id": "X5rYHGdvBJAN",
        "outputId": "569bc23c-f7a4-484f-dabb-7a63d9aede01"
      },
      "execution_count": 55,
      "outputs": [
        {
          "output_type": "stream",
          "name": "stderr",
          "text": [
            "INFO:vertexai_genai.agentengines:Deleting AgentEngine resource: projects/541923329259/locations/us-central1/reasoningEngines/1159945184885080064\n",
            "INFO:httpx:HTTP Request: DELETE https://us-central1-aiplatform.googleapis.com/v1beta1/projects/541923329259/locations/us-central1/reasoningEngines/1159945184885080064 \"HTTP/1.1 404 Not Found\"\n"
          ]
        },
        {
          "output_type": "stream",
          "name": "stdout",
          "text": [
            "⚠️ Error during cleanup: 404 NOT_FOUND. {'error': {'code': 404, 'message': 'The ReasoningEngine does not exist.', 'status': 'NOT_FOUND'}}\n"
          ]
        }
      ]
    },
    {
      "cell_type": "markdown",
      "source": [
        "# Next Steps\n",
        "\n",
        "You've completed the Code Execution tutorial! You now know how to:\n",
        "\n",
        "* Create and manage Agent Engine Sandboxes\n",
        "* Execute code directly and handle file I/O\n",
        "* Integrate sandboxes with Gemini and Claude\n",
        "* Build production-ready agents with ADK\n",
        "* Choose between AgentEngineSandboxCodeExecutor and BuiltInCodeExecutor\n",
        "* Manage and clean up resources\n",
        "\n",
        "There is more to explore. Here some ideas:\n",
        "\n",
        "* Build your own agent with custom tools\n",
        "* Deploy your agent to production with ADK\n",
        "* Experiment with multi-agent systems"
      ],
      "metadata": {
        "id": "9BWEjjIDBiaz"
      }
    }
  ],
  "metadata": {
    "colab": {
      "toc_visible": true,
      "provenance": []
    },
    "kernelspec": {
      "display_name": "Python 3",
      "name": "python3"
    }
  },
  "nbformat": 4,
  "nbformat_minor": 0
}