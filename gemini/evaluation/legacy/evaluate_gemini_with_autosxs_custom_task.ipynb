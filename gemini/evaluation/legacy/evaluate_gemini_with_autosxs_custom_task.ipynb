{
  "cells": [
    {
      "cell_type": "code",
      "execution_count": null,
      "metadata": {
        "id": "ur8xi4C7S06n"
      },
      "outputs": [],
      "source": [
        "# Copyright 2024 Google LLC\n",
        "#\n",
        "# Licensed under the Apache License, Version 2.0 (the \"License\");\n",
        "# you may not use this file except in compliance with the License.\n",
        "# You may obtain a copy of the License at\n",
        "#\n",
        "#     https://www.apache.org/licenses/LICENSE-2.0\n",
        "#\n",
        "# Unless required by applicable law or agreed to in writing, software\n",
        "# distributed under the License is distributed on an \"AS IS\" BASIS,\n",
        "# WITHOUT WARRANTIES OR CONDITIONS OF ANY KIND, either express or implied.\n",
        "# See the License for the specific language governing permissions and\n",
        "# limitations under the License."
      ]
    },
    {
      "cell_type": "markdown",
      "metadata": {
        "id": "JAPoU8Sm5E6e"
      },
      "source": [
        "# Evaluate Gemini with AutoSxS using custom task\n",
        "\n",
        "<table align=\"left\">\n",
        "  <td style=\"text-align: center\">\n",
        "    <a href=\"https://colab.research.google.com/github/GoogleCloudPlatform/generative-ai/blob/main/gemini/evaluation/legacy/evaluate_gemini_with_autosxs_custom_task.ipynb\">\n",
        "      <img width=\"32px\" src=\"https://www.gstatic.com/pantheon/images/bigquery/welcome_page/colab-logo.svg\" alt=\"Google Colaboratory logo\"><br> Run in Colab\n",
        "    </a>\n",
        "  </td>\n",
        "  <td style=\"text-align: center\">\n",
        "    <a href=\"https://console.cloud.google.com/vertex-ai/colab/import/https:%2F%2Fraw.githubusercontent.com%2FGoogleCloudPlatform%2Fgenerative-ai%2Fmain%2Fgemini%2Fevaluation%2Flegacy%2Fevaluate_gemini_with_autosxs_custom_task.ipynb\">\n",
        "      <img width=\"32px\" src=\"https://lh3.googleusercontent.com/JmcxdQi-qOpctIvWKgPtrzZdJJK-J3sWE1RsfjZNwshCFgE_9fULcNpuXYTilIR2hjwN\" alt=\"Google Cloud Colab Enterprise logo\"><br> Run in Colab Enterprise\n",
        "    </a>\n",
        "  </td>\n",
        "  <td style=\"text-align: center\">\n",
        "    <a href=\"https://github.com/GoogleCloudPlatform/generative-ai/blob/main/gemini/evaluation/legacy/evaluate_gemini_with_autosxs_custom_task.ipynb\">\n",
        "      <img width=\"32px\" src=\"https://upload.wikimedia.org/wikipedia/commons/9/91/Octicons-mark-github.svg\" alt=\"GitHub logo\"><br> View on GitHub\n",
        "    </a>\n",
        "  </td>\n",
        "  <td style=\"text-align: center\">\n",
        "    <a href=\"https://console.cloud.google.com/vertex-ai/workbench/deploy-notebook?download_url=https://raw.githubusercontent.com/GoogleCloudPlatform/generative-ai/main/gemini/evaluation/legacy/evaluate_gemini_with_autosxs_custom_task.ipynb\">\n",
        "      <img src=\"https://www.gstatic.com/images/branding/gcpiconscolors/vertexai/v1/32px.svg\" alt=\"Vertex AI logo\"><br> Open in Vertex AI Workbench\n",
        "    </a>\n",
        "  </td>    \n",
        "</table>\n",
        "\n",
        "<div style=\"clear: both;\"></div>\n",
        "\n",
        "<b>Share to:</b>\n",
        "\n",
        "<a href=\"https://www.linkedin.com/sharing/share-offsite/?url=https%3A//github.com/GoogleCloudPlatform/generative-ai/blob/main/gemini/evaluation/legacy/evaluate_gemini_with_autosxs_custom_task.ipynb\" target=\"_blank\">\n",
        "  <img width=\"20px\" src=\"https://upload.wikimedia.org/wikipedia/commons/8/81/LinkedIn_icon.svg\" alt=\"LinkedIn logo\">\n",
        "</a>\n",
        "\n",
        "<a href=\"https://bsky.app/intent/compose?text=https%3A//github.com/GoogleCloudPlatform/generative-ai/blob/main/gemini/evaluation/legacy/evaluate_gemini_with_autosxs_custom_task.ipynb\" target=\"_blank\">\n",
        "  <img width=\"20px\" src=\"https://upload.wikimedia.org/wikipedia/commons/7/7a/Bluesky_Logo.svg\" alt=\"Bluesky logo\">\n",
        "</a>\n",
        "\n",
        "<a href=\"https://twitter.com/intent/tweet?url=https%3A//github.com/GoogleCloudPlatform/generative-ai/blob/main/gemini/evaluation/legacy/evaluate_gemini_with_autosxs_custom_task.ipynb\" target=\"_blank\">\n",
        "  <img width=\"20px\" src=\"https://upload.wikimedia.org/wikipedia/commons/5/53/X_logo_2023_original.svg\" alt=\"X logo\">\n",
        "</a>\n",
        "\n",
        "<a href=\"https://reddit.com/submit?url=https%3A//github.com/GoogleCloudPlatform/generative-ai/blob/main/gemini/evaluation/legacy/evaluate_gemini_with_autosxs_custom_task.ipynb\" target=\"_blank\">\n",
        "  <img width=\"20px\" src=\"https://redditinc.com/hubfs/Reddit%20Inc/Brand/Reddit_Logo.png\" alt=\"Reddit logo\">\n",
        "</a>\n",
        "\n",
        "<a href=\"https://www.facebook.com/sharer/sharer.php?u=https%3A//github.com/GoogleCloudPlatform/generative-ai/blob/main/gemini/evaluation/legacy/evaluate_gemini_with_autosxs_custom_task.ipynb\" target=\"_blank\">\n",
        "  <img width=\"20px\" src=\"https://upload.wikimedia.org/wikipedia/commons/5/51/Facebook_f_logo_%282019%29.svg\" alt=\"Facebook logo\">\n",
        "</a>            "
      ]
    },
    {
      "cell_type": "markdown",
      "metadata": {
        "id": "d413df8830c8"
      },
      "source": [
        "| | |\n",
        "|-|-|\n",
        "| Author(s) | [Ivan Nardini](https://github.com/inardini) |"
      ]
    },
    {
      "cell_type": "markdown",
      "metadata": {
        "id": "tvgnzT1CKxrO"
      },
      "source": [
        "## Overview\n",
        "\n",
        "This notebook demonstrates how to use Vertex AI automatic side-by-side (AutoSxS) with custom task (translation) to evaluate the performance between Gemini on Vertex AI and PaLM API in a media newspaper company for translation scenario.\n",
        "\n",
        "In this tutorial, you will perform the following steps to evaluate models on a custom task:\n",
        "\n",
        "1. Fetch an evaluation dataset, containing context and pre-generated Gemini translations. We will compare model inference responses during evaluation.\n",
        "2. Define evaluation criteria and a pointwise response score rubric for the custom task evaluation.\n",
        "4. Create and run a Vertex AI AutoSxS Pipeline.\n",
        "5. Explore the output evaluation metrics, containing both prompt-level metrics in the form of a judgements table and aggregate metrics.\n",
        "\n",
        "Learn more about [Vertex AI AutoSxS Model Evaluation](https://cloud.google.com/vertex-ai/docs/generative-ai/models/side-by-side-eval#autosxs)."
      ]
    },
    {
      "cell_type": "markdown",
      "metadata": {
        "id": "61RBz8LLbxCR"
      },
      "source": [
        "## Get started"
      ]
    },
    {
      "cell_type": "markdown",
      "metadata": {
        "id": "No17Cw5hgx12"
      },
      "source": [
        "### Install Vertex AI SDK for Python and other required packages\n",
        "\n",
        "Install required packages."
      ]
    },
    {
      "cell_type": "code",
      "execution_count": null,
      "metadata": {
        "id": "tFy3H3aPgx12"
      },
      "outputs": [],
      "source": [
        "%pip install --upgrade --user --quiet \\\n",
        "    pandas \\\n",
        "    etils \\\n",
        "    gcsfs \\\n",
        "    fsspec \\\n",
        "    google-cloud-aiplatform \\\n",
        "    google-cloud-pipeline-components==2.13.1"
      ]
    },
    {
      "cell_type": "markdown",
      "metadata": {
        "id": "R5Xep4W9lq-Z"
      },
      "source": [
        "### Restart runtime (Colab only)\n",
        "\n",
        "To use the newly installed packages, you must restart the runtime on Google Colab."
      ]
    },
    {
      "cell_type": "code",
      "execution_count": null,
      "metadata": {
        "id": "XRvKdaPDTznN"
      },
      "outputs": [],
      "source": [
        "import sys\n",
        "\n",
        "if \"google.colab\" in sys.modules:\n",
        "    import IPython\n",
        "\n",
        "    app = IPython.Application.instance()\n",
        "    app.kernel.do_shutdown(True)"
      ]
    },
    {
      "cell_type": "markdown",
      "metadata": {
        "id": "SbmM4z7FOBpM"
      },
      "source": [
        "<div class=\"alert alert-block alert-warning\">\n",
        "<b>⚠️ The kernel is going to restart. Wait until it's finished before continuing to the next step. ⚠️</b>\n",
        "</div>"
      ]
    },
    {
      "cell_type": "markdown",
      "metadata": {
        "id": "dmWOrTJ3gx13"
      },
      "source": [
        "### Authenticate your notebook environment (Colab only)\n",
        "\n",
        "Authenticate your environment on Google Colab."
      ]
    },
    {
      "cell_type": "code",
      "execution_count": null,
      "metadata": {
        "id": "NyKGtVQjgx13"
      },
      "outputs": [],
      "source": [
        "import sys\n",
        "\n",
        "if \"google.colab\" in sys.modules:\n",
        "    from google.colab import auth\n",
        "\n",
        "    auth.authenticate_user()"
      ]
    },
    {
      "cell_type": "markdown",
      "metadata": {
        "id": "upq9dPsOprcf"
      },
      "source": [
        "### Set Google Cloud project information\n",
        "\n",
        "To get started using Vertex AI, you must have an existing Google Cloud project and [enable the Vertex AI API](https://console.cloud.google.com/flows/enableapi?apiid=aiplatform.googleapis.com).\n",
        "\n",
        "Learn more about [setting up a project and a development environment](https://cloud.google.com/vertex-ai/docs/start/cloud-environment)."
      ]
    },
    {
      "cell_type": "code",
      "execution_count": null,
      "metadata": {
        "id": "oM1iC_MfAts1"
      },
      "outputs": [],
      "source": [
        "PROJECT_ID = \"[your-project-id]\"  # @param {type:\"string\"}\n",
        "\n",
        "# Set the project id\n",
        "! gcloud config set project {PROJECT_ID}"
      ]
    },
    {
      "cell_type": "code",
      "execution_count": null,
      "metadata": {
        "id": "fPrDj6HE9_EU"
      },
      "outputs": [],
      "source": [
        "REGION = \"us-central1\"  # @param {type: \"string\"}"
      ]
    },
    {
      "cell_type": "code",
      "execution_count": null,
      "metadata": {
        "id": "MzGDU7TWdts_"
      },
      "outputs": [],
      "source": [
        "BUCKET_NAME = f\"your-bucket-name-{PROJECT_ID}-unique\"  # @param {type:\"string\"}\n",
        "\n",
        "BUCKET_URI = f\"gs://{BUCKET_NAME}\"\n",
        "\n",
        "! gsutil mb -l {REGION} -p {PROJECT_ID} {BUCKET_URI}"
      ]
    },
    {
      "cell_type": "markdown",
      "metadata": {
        "id": "EkMLbwjdNttf"
      },
      "source": [
        "### Set tutorial folder\n",
        "\n",
        "Set a folder to collect data and any tutorial artifacts."
      ]
    },
    {
      "cell_type": "code",
      "execution_count": null,
      "metadata": {
        "id": "s57jCgZHNwC5"
      },
      "outputs": [],
      "source": [
        "from pathlib import Path as path\n",
        "\n",
        "root_path = path.cwd()\n",
        "tutorial_path = root_path / \"tutorial\"\n",
        "pipeline_path = tutorial_path / \"pipeline\"\n",
        "\n",
        "pipeline_path.mkdir(parents=True, exist_ok=True)"
      ]
    },
    {
      "cell_type": "markdown",
      "metadata": {
        "id": "ZHPJ9u4mqVPZ"
      },
      "source": [
        "### Import libraries\n",
        "\n",
        "Import the required libraries."
      ]
    },
    {
      "cell_type": "code",
      "execution_count": null,
      "metadata": {
        "id": "TDYkOZyvqQ5N"
      },
      "outputs": [],
      "source": [
        "import random\n",
        "import string\n",
        "\n",
        "from IPython.display import HTML, display\n",
        "\n",
        "# General\n",
        "from etils import epath\n",
        "from google.cloud import aiplatform\n",
        "from google_cloud_pipeline_components.preview import model_evaluation\n",
        "from kfp import compiler\n",
        "import pandas as pd\n",
        "\n",
        "# Model Eval\n",
        "import vertexai"
      ]
    },
    {
      "cell_type": "markdown",
      "metadata": {
        "id": "j0oHPp9nDSW9"
      },
      "source": [
        "### Set constants\n",
        "\n",
        "Set tutorial variables."
      ]
    },
    {
      "cell_type": "code",
      "execution_count": null,
      "metadata": {
        "id": "0YXPlcwSDOpw"
      },
      "outputs": [],
      "source": [
        "WORKSPACE_BUCKET_PATH = epath.Path(BUCKET_URI) / \"evaluate-gemini-translation\"\n",
        "SOURCE_EVALUATION_DATASET_URI = (\n",
        "    \"gs://github-repo/evaluate-gemini-autosxs-custom-task/eval_dataset.jsonl\"\n",
        ")\n",
        "INSTRUCTION = \"You are an expert translator of a famous newspaper media company. Translate the following email in italian\"\n",
        "EVALUATION_DATASET_URI = str(\n",
        "    WORKSPACE_BUCKET_PATH / \"data\" / \"evaluation_translate_dataset.jsonl\"\n",
        ")\n",
        "FEW_SHOT_EXAMPLES_DATASET_URI = str(\n",
        "    WORKSPACE_BUCKET_PATH / \"data\" / \"evaluation_translate_few_shots_dataset.jsonl\"\n",
        ")\n",
        "PIPELINE_ROOT_URI = str(WORKSPACE_BUCKET_PATH / \"pipeline\")"
      ]
    },
    {
      "cell_type": "markdown",
      "metadata": {
        "id": "dorIZFvjnGKL"
      },
      "source": [
        "### Initialize Vertex AI SDK for Python\n",
        "\n",
        "Initiate a session with Vertex AI SDK for Python."
      ]
    },
    {
      "cell_type": "code",
      "execution_count": null,
      "metadata": {
        "id": "VOOgvRJoQ6Xj"
      },
      "outputs": [],
      "source": [
        "vertexai.init(project=PROJECT_ID, location=REGION)"
      ]
    },
    {
      "cell_type": "markdown",
      "metadata": {
        "id": "vMOeimm0-0is"
      },
      "source": [
        "### Helpers\n",
        "\n",
        "Initialize helper functions required in the tutorial."
      ]
    },
    {
      "cell_type": "code",
      "execution_count": null,
      "metadata": {
        "id": "ekhlYBieAAS1"
      },
      "outputs": [],
      "source": [
        "def print_content(df: pd.DataFrame, columns: list, n: int = 2):\n",
        "    \"\"\"Prints specified text columns\"\"\"\n",
        "\n",
        "    # Set the style\n",
        "    style = \"white-space: pre-wrap; width: 800px; overflow-x: auto;\"\n",
        "\n",
        "    # Prepare dataset\n",
        "    selected_df = df[columns].copy()\n",
        "    selected_df = selected_df.sample(n=n)\n",
        "\n",
        "    # Iterate through each row\n",
        "    for i, row in selected_df.iterrows():\n",
        "        for col_name in columns:\n",
        "            display(\n",
        "                HTML(f\"<h2>{col_name}:</h2> <div style='{style}'>{row[col_name]}</div>\")\n",
        "            )\n",
        "        display(HTML(\"<hr>\"))\n",
        "\n",
        "\n",
        "def generate_uuid(length: int = 8) -> str:\n",
        "    \"\"\"Generate a uuid of a specified length (default=8).\"\"\"\n",
        "    return \"\".join(random.choices(string.ascii_lowercase + string.digits, k=length))\n",
        "\n",
        "\n",
        "def print_autosxs_judgments(df: pd.DataFrame, n: int = 3):\n",
        "    base_style = (\n",
        "        \"white-space: pre-wrap; width: 800px; overflow-x: auto; font-size: 16px;\"\n",
        "    )\n",
        "    header_style = \"white-space: pre-wrap; width: 800px; overflow-x: auto; font-size: 24px; font-weight: bold;\"\n",
        "\n",
        "    printed_samples = 0\n",
        "    for _, row in df.iterrows():\n",
        "        if row[\"confidence\"] > 0.5:\n",
        "            for field in df.columns:\n",
        "                display(\n",
        "                    HTML(f\"<div style='{header_style}'>{field.capitalize()}:</div>\")\n",
        "                )\n",
        "                display(HTML(\"<br>\"))\n",
        "                if field != \"confidence\":\n",
        "                    display(HTML(f\"<div style='{base_style}'>{row[field]}</div>\"))\n",
        "                else:\n",
        "                    display(HTML(f\"<div style='{base_style}'>{row[field]:.2f}</div>\"))\n",
        "                display(HTML(\"<br>\"))\n",
        "            display(HTML(\"<hr>\"))\n",
        "            printed_samples += 1\n",
        "        if printed_samples >= n:\n",
        "            break\n",
        "\n",
        "\n",
        "def print_aggregated_metrics(scores: dict):\n",
        "    \"\"\"Print AutoSxS aggregated metrics with enhanced formatting.\"\"\"\n",
        "\n",
        "    score_a = round(scores[\"autosxs_model_a_win_rate\"] * 100)\n",
        "    display(\n",
        "        HTML(\n",
        "            f\"\"\"\n",
        "    <div style='font-size: 18px;'>\n",
        "        AutoSxS Autorater prefers <span style='font-weight: bold;'>{score_a}%</span> of time Model A over Model B\n",
        "    </div>\n",
        "    \"\"\"\n",
        "        )\n",
        "    )"
      ]
    },
    {
      "cell_type": "markdown",
      "metadata": {
        "id": "EdvJRUWRNGHE"
      },
      "source": [
        "## Evaluating Gemini on Vertex AI in translation task"
      ]
    },
    {
      "cell_type": "markdown",
      "metadata": {
        "id": "4W45yNsFxZsz"
      },
      "source": [
        "### Load the evaluation dataset\n",
        "\n",
        "To conduct an evaluation, you require an evaluation dataset comprising a set of inference prompts along with their corresponding model responses.  For more details on this see [here](https://cloud.google.com/vertex-ai/generative-ai/docs/models/side-by-side-eval#prep-eval-dataset)\n",
        "\n",
        "In the current scenario, you are loading a pre-built evaluation dataset containing original emails (in the \"content\" column) and their Italian translations (in the \"model_a_response\" column) generated using Gemini on Vertex AI.\n",
        "\n",
        "However, the evaluation dataset assumes the utilization of AutoSxS to produce Italian translations from model B, specifically the `text-bison@002` model. Therefore, adjustments or adaptations may be necessary to align the evaluation dataset with the actual translation method employed in your evaluation process."
      ]
    },
    {
      "cell_type": "code",
      "execution_count": null,
      "metadata": {
        "id": "ps1UqyMBI3OT"
      },
      "outputs": [],
      "source": [
        "evaluation_translate_df = pd.read_json(\n",
        "    SOURCE_EVALUATION_DATASET_URI, orient=\"records\", lines=True\n",
        ")"
      ]
    },
    {
      "cell_type": "code",
      "execution_count": null,
      "metadata": {
        "id": "H1nAkpX-4LJP"
      },
      "outputs": [],
      "source": [
        "evaluation_translate_df.head()"
      ]
    },
    {
      "cell_type": "code",
      "execution_count": null,
      "metadata": {
        "id": "LFB9xMHhAV9O"
      },
      "outputs": [],
      "source": [
        "evaluation_translate_df.to_json(EVALUATION_DATASET_URI, orient=\"records\", lines=True)"
      ]
    },
    {
      "cell_type": "markdown",
      "metadata": {
        "id": "APTGRMgUCPsV"
      },
      "source": [
        "### Define custom evaluation criteria\n",
        "\n",
        "Before initiating the task, establish evaluation criteria to guide the model's assessment of responses. The `**evaluation_criteria**` is a list of such criteria, each represented as a dictionary with the following keys:\n",
        "\n",
        "*   **`name` (str):** The criterion's name.\n",
        "*   **`definition` (str):** The criterion's definition.\n",
        "*   **`criteria_steps` (Optional[List[str]]):** A step-by-step guide for the AutoRater on assessing criterion fulfillment.\n",
        "\n",
        "For instance, in a translation task, you might employ various criteria like accuracy, fluency, use of loanwords, etc."
      ]
    },
    {
      "cell_type": "code",
      "execution_count": null,
      "metadata": {
        "id": "tMeOsS3P7A4q"
      },
      "outputs": [],
      "source": [
        "EVALUATION_CRITERIA = [\n",
        "    {\n",
        "        \"name\": \"Overall Correctness\",\n",
        "        \"definition\": \"The translation accurately conveys the meaning, nuances, and style of the content text in the italian language, while maintaining fluency and appropriateness for the intended audience and purpose.\",\n",
        "        \"evaluation_steps\": [\n",
        "            \"Compare the responses containing translated emails.\",\n",
        "            \"Assess which translated email accurately reflects the meaning of the content text in the italian language.\",\n",
        "            \"Consider which translated email maintains the original style and tone.\",\n",
        "            \"Ensure the translated email is fluent and natural-sounding in the italian language.\",\n",
        "        ],\n",
        "    },\n",
        "    {\n",
        "        \"name\": \"Mistranslation\",\n",
        "        \"definition\": \"The translation contains errors where the meaning of the content text is not accurately conveyed in the italian language.\",\n",
        "        \"evaluation_steps\": [\n",
        "            \"Compare the responses containing translated emails.\",\n",
        "            \"Identify any discrepancies in meaning between translated emails and the content text.\",\n",
        "            \"Determine if the discrepancies are significant enough to be considered mistranslations.\",\n",
        "            \"Consider if cultural references or nuances are lost or misinterpreted in the translation.\",\n",
        "        ],\n",
        "    },\n",
        "    {\n",
        "        \"name\": \"Fluency\",\n",
        "        \"definition\": \"The translation reads smoothly and naturally in the italian language, adhering to its grammatical structures and idiomatic expressions.\",\n",
        "        \"evaluation_steps\": [\n",
        "            \"Go through the translated emails, paying attention to its flow.\",\n",
        "            \"Assess if the sentence structures sound natural and idiomatic in the italian language.\",\n",
        "            \"Identify any awkward phrasing, grammatical errors, or unnatural word choices.\",\n",
        "            \"Consider if the translation would be easily understood by a native speaker of the italian language.\",\n",
        "        ],\n",
        "    },\n",
        "    {\n",
        "        \"name\": \"Grammatical correctness\",\n",
        "        \"definition\": \"The translation adheres to the grammatical rules of the italian language, including syntax, morphology, and word choice.\",\n",
        "        \"evaluation_steps\": [\n",
        "            \"Analyze translated emails for grammatical errors such as incorrect verb conjugations, agreement issues, or misuse of articles.\",\n",
        "            \"Assess if the word order follows the conventions of the italian language.\",\n",
        "            \"Ensure punctuation is used correctly.\",\n",
        "        ],\n",
        "    },\n",
        "    {\n",
        "        \"name\": \"Loanwording\",\n",
        "        \"definition\": \"The translation leaves individual words or phrases in the italian language untranslated.\",\n",
        "    },\n",
        "]"
      ]
    },
    {
      "cell_type": "markdown",
      "metadata": {
        "id": "-FtzjllF4lQp"
      },
      "source": [
        "### Define Score Rubric\n",
        "\n",
        "After defining the evaluation criteria, you need to establish a scoring rubric to assess model responses point by point, ensuring alignment with those criteria. The **`score_rubric`** is a dictionary that assigns a numerical score to a specific level of criteria fulfillment. Scores must be consecutive integers within the range of 1 to 5.\n",
        "\n",
        "For this translation task, you will evaluate translations using a 5-point scoring rubric where 5 denotes the highest quality translation (most accurate, fluent, and faithful), and 1 indicates the lowest quality (least accurate, fluent, and faithful)."
      ]
    },
    {
      "cell_type": "code",
      "execution_count": null,
      "metadata": {
        "id": "K18o7WSR8dOc"
      },
      "outputs": [],
      "source": [
        "SCORE_RUBRIC = {\n",
        "    \"5\": \"Response is an excellent translation that accurately conveys the meaning and nuances of the content text while maintaining fluency and naturalness in the italian language. It adheres to grammar and style conventions, ensuring the content is appropriate and relevant.\",\n",
        "    \"4\": \"Response is a good translation that accurately conveys the meaning of the content text with minor issues in fluency, style or cultural appropriateness.\",\n",
        "    \"3\": \"Response is an average translation that conveys the general meaning of the content text but may contain some inaccuracies, awkward phrasing, or stylistic inconsistencies.\",\n",
        "    \"2\": \"Response is a below average translation that contains significant inaccuracies, is not fluent or natural-sounding, and may not be appropriate.\",\n",
        "    \"1\": \"Response is a poor translation that fails to convey the meaning of the content text, is full of errors, and is not suitable.\",\n",
        "}"
      ]
    },
    {
      "cell_type": "markdown",
      "metadata": {
        "id": "noGF9yAcX2_U"
      },
      "source": [
        "### Define few-shot examples\n",
        "\n",
        "To refine AutoRater's behavior for complex tasks, we'll create a custom few-shot examples dataset. Here's the process:\n",
        "\n",
        "1. **Craft concise examples:** Develop simple yet representative examples that reflect the task's nuances.\n",
        "2. **Align with the rubric:** Assign calibration scores to each example based on your predefined scoring rubric. These scores will guide the AutoRater's evaluation.\n",
        "3. **Store in Cloud Storage:** Save your few-shot examples dataset as a JSON file in Cloud Storage for easy access and integration.\n",
        "\n",
        "In this translation scenario, you have only one example with the two Italian translations (response_a and response_b) of an English email, along with scores and an explanation indicating that the reason why response_b is slightly superior of response_a due to its more natural language flow and idiomatic expressions.\n",
        "\n",
        "While a single example is shown below, it is strongly recommended providing numerous examples spanning the full range of scores and criteria to ensure comprehensive tuning.\n",
        "\n",
        "**Important Note:** Remember that more examples consume more tokens sent to the AutoRater, impacting your available context length. For instance, if your model has an 8000-token context limit and your few-shot examples total 1000 tokens, your context length will be reduced to 7000."
      ]
    },
    {
      "cell_type": "code",
      "execution_count": null,
      "metadata": {
        "id": "ue7WGWZiYGG9"
      },
      "outputs": [],
      "source": [
        "few_shot_examples_df = pd.DataFrame.from_records(\n",
        "    [\n",
        "        {\n",
        "            \"business_unit\": \"digital/online\",\n",
        "            \"content\": \"\"\"\n",
        "                  Subject: Urgent: Website Downtime Impact on Subscription Revenue - Action Required\n",
        "\n",
        "                  Hi Digital Team,\n",
        "\n",
        "                  As you know, our website experienced a significant outage last night, lasting approximately 3 hours between 10 PM and 1 AM. We're still gathering information on the cause, but early indications point to a server overload related to a surge in traffic during the live broadcast of the \"The Voice\" finale.\n",
        "\n",
        "                  This outage has had a direct impact on our subscription revenue, as users were unable to access premium content during this period. Our analytics team has preliminary data showing a 25% drop in new subscription sign-ups during the outage window, compared to the average for the same time period over the last month. This represents an estimated loss of ~$15,000 in revenue for the night.\n",
        "\n",
        "                  **Immediate Actions Required:**\n",
        "\n",
        "                  * **Identify the Root Cause:** Work with the IT team to understand the exact cause of the server overload and implement solutions to prevent future occurrences.\n",
        "                  * **Assess the Impact:** Continue to monitor the situation closely and gather complete data on the revenue impact from both new subscriptions and existing subscriber engagement.\n",
        "                  * **Customer Communication:** We need to acknowledge the issue with our users and provide an explanation. We should consider offering a temporary discount on subscriptions as a goodwill gesture to those affected.\n",
        "                  * **Performance Optimization:** Evaluate our website's scalability and infrastructure to ensure we can handle future traffic spikes, especially during major events like \"The Voice\".\n",
        "\n",
        "                  Please prioritize these actions and provide a status report by end-of-day today. I will be available to discuss this further in a meeting tomorrow at 10 AM.\n",
        "\n",
        "                  Thanks,\n",
        "\n",
        "                  Ivan\n",
        "                  Expert Assistant\n",
        "                  Cymbal Media\n",
        "        \"\"\",\n",
        "            \"response_a\": \"\"\"\n",
        "                  Oggetto: Urgente: Interruzione del sito web e impatto sulle entrate da abbonamento - Azioni necessarie\n",
        "\n",
        "                  Ciao Team Digitale,\n",
        "\n",
        "                  Come sapete, il nostro sito web ha subito un'interruzione significativa la scorsa notte, durata circa 3 ore tra le 22:00 e l'1:00. Stiamo ancora raccogliendo informazioni sulla causa, ma le prime indicazioni puntano a un sovraccarico del server legato a un picco di traffico durante la diretta della finale di \"The Voice\".\n",
        "\n",
        "                  Questa interruzione ha avuto un impatto diretto sulle nostre entrate da abbonamento, poiché gli utenti non hanno potuto accedere ai contenuti premium durante questo periodo. Il nostro team di analisi ha dati preliminari che mostrano un calo del 25% nelle nuove iscrizioni durante la finestra di interruzione, rispetto alla media dello stesso periodo negli ultimi mesi. Questo rappresenta una perdita stimata di circa $ 15.000 di entrate per la notte.\n",
        "\n",
        "                  **Azioni immediate richieste:**\n",
        "\n",
        "                  * **Identificare la causa principale:** Collaborare con il team IT per comprendere la causa esatta del sovraccarico del server e implementare soluzioni per prevenire future occorrenze.\n",
        "                  * **Valutare l'impatto:** Continuare a monitorare la situazione attentamente e raccogliere dati completi sull'impatto sulle entrate sia dalle nuove iscrizioni che dal coinvolgimento degli abbonati esistenti.\n",
        "                  * **Comunicazione con i clienti:** Dobbiamo riconoscere il problema con i nostri utenti e fornire una spiegazione. Dovremmo prendere in considerazione la possibilità di offrire uno sconto temporaneo sugli abbonamenti come gesto di buona volontà a coloro che sono stati colpiti.\n",
        "                  * **Ottimizzazione delle prestazioni:** Valutare la scalabilità e l'infrastruttura del nostro sito web per garantire che possiamo gestire i futuri picchi di traffico, soprattutto durante eventi importanti come \"The Voice\".\n",
        "\n",
        "                  Vi prego di dare la priorità a queste azioni e di fornire un rapporto sullo stato entro la fine della giornata odierna. Sarò disponibile a discutere ulteriormente di questo argomento in una riunione domani alle 10:00.\n",
        "\n",
        "                  Grazie,\n",
        "\n",
        "                  Ivan\n",
        "                  Assistente Esperto\n",
        "                  Cymbal Media\n",
        "\n",
        "        \"\"\",\n",
        "            \"response_b\": \"\"\"\n",
        "                  Oggetto: Urgente: Impatto del downtime del sito web sulle entrate degli abbonamenti - Azioni richieste\n",
        "\n",
        "                  Ciao Team Digitale,\n",
        "\n",
        "                  Come sapete, il nostro sito web ha subito un'interruzione significativa la scorsa notte, con una durata di circa 3 ore tra le 22:00 e l'01:00. Stiamo ancora raccogliendo informazioni sulla causa, ma le prime indicazioni puntano a un sovraccarico del server correlato a un'impennata di traffico durante la trasmissione in diretta della finale di \"The Voice\".\n",
        "\n",
        "                  Questa interruzione ha avuto un impatto diretto sulle entrate dei nostri abbonamenti, poiché gli utenti non sono stati in grado di accedere ai contenuti premium durante questo periodo. Il nostro team di analisi ha dati preliminari che mostrano un calo del 25% nelle nuove iscrizioni agli abbonamenti durante la finestra di interruzione, rispetto alla media dello stesso periodo nell'ultimo mese. Questo rappresenta una perdita stimata di ~$15.000 di entrate per la notte.\n",
        "\n",
        "                  **Azioni immediate richieste:**\n",
        "\n",
        "                  * **Identificare la causa principale:** Collaborare con il team IT per comprendere la causa esatta del sovraccarico del server e implementare soluzioni per prevenire futuri eventi simili.\n",
        "                  * **Valutare l'impatto:** Continuare a monitorare la situazione da vicino e raccogliere dati completi sull'impatto sui ricavi sia dalle nuove iscrizioni che dal coinvolgimento degli abbonati esistenti.\n",
        "                  * **Comunicazione con i clienti:** Dobbiamo riconoscere il problema con i nostri utenti e fornire una spiegazione. Dovremmo considerare di offrire uno sconto temporaneo sugli abbonamenti come gesto di buona volontà a coloro che sono stati colpiti.\n",
        "                  * **Ottimizzazione delle prestazioni:** Valutare la scalabilità e l'infrastruttura del nostro sito web per garantire che possiamo gestire futuri picchi di traffico, specialmente durante eventi importanti come \"The Voice\".\n",
        "\n",
        "                  Vi prego di dare la priorità a queste azioni e di fornire un rapporto sullo stato di avanzamento entro la fine della giornata di oggi. Sarò disponibile a discuterne ulteriormente in una riunione domani alle 10:00.\n",
        "\n",
        "                  Grazie,\n",
        "\n",
        "                  Ivan\n",
        "                  Assistente Esperto\n",
        "                  Cymbal Media\n",
        "        \"\"\",\n",
        "            \"response_a_score\": 2,\n",
        "            \"response_b_score\": 4,\n",
        "            \"winner\": \"B\",\n",
        "            \"explanation\": \"Both A and B provide accurate and fluent translations of the original English email. However, B demonstrates a slightly better grasp of natural language flow and idiomatic expressions, making it the slightly better translation overall.\",\n",
        "        }\n",
        "    ]\n",
        ")"
      ]
    },
    {
      "cell_type": "code",
      "execution_count": null,
      "metadata": {
        "id": "7F3aER_6tY_Y"
      },
      "outputs": [],
      "source": [
        "few_shot_examples_df.to_json(\n",
        "    FEW_SHOT_EXAMPLES_DATASET_URI, orient=\"records\", lines=True\n",
        ")"
      ]
    },
    {
      "cell_type": "markdown",
      "metadata": {
        "id": "Qgdk_qNIOFik"
      },
      "source": [
        "### Create and run AutoSxS job\n",
        "\n",
        "To run AutoSxS, first you need to define parameters for:\n",
        "\n",
        "* **Evaluation data:** Path to your dataset (`evaluation_dataset`), task type (`task`), and unique identifiers (`id_columns`).\n",
        "* **Autorater guidance:**  Parameters for the autorater's prompt (`autorater_prompt_parameters`) and custom task details (`experimental_args`).\n",
        "* **Model details:** Either model resource name (`model_a`) and parameters (`model_a_prompt_parameters`, `model_a_parameters`) for batch prediction, or prediction column name (`response_column_a`) if using pre-generated predictions.\n",
        "\n",
        "Refer to the documentation [here](https://google-cloud-pipeline-components.readthedocs.io/en/google-cloud-pipeline-components-2.13.0/api/preview/model_evaluation.html#preview.model_evaluation.autosxs_pipeline) for detailed configuration options and additional parameters for features like exporting judgments and checking alignment with human preferences."
      ]
    },
    {
      "cell_type": "code",
      "execution_count": null,
      "metadata": {
        "id": "tRdA3ovUOV6j"
      },
      "outputs": [],
      "source": [
        "display_name = f\"autosxs-custom-evaluate-{generate_uuid()}\"\n",
        "\n",
        "PIPELINE_PARAMETERS = {\n",
        "    \"evaluation_dataset\": EVALUATION_DATASET_URI,\n",
        "    \"id_columns\": [\"content\"],\n",
        "    \"task\": \"custom@001\",\n",
        "    \"response_column_a\": \"model_a_response\",\n",
        "    \"response_column_b\": \"model_b_response\",\n",
        "    \"autorater_prompt_parameters\": {\n",
        "        \"instruction\": {\"template\": (INSTRUCTION)},\n",
        "        \"content\": \"content\",\n",
        "    },\n",
        "    \"experimental_args\": {\n",
        "        \"custom_task_definition\": {\n",
        "            \"evaluation_criteria\": EVALUATION_CRITERIA,\n",
        "            \"autorater_prompt_parameter_keys\": [\n",
        "                \"instruction\",\n",
        "                \"content\",\n",
        "            ],\n",
        "            \"few_shot_examples_config\": {\n",
        "                \"dataset\": FEW_SHOT_EXAMPLES_DATASET_URI,\n",
        "                \"autorater_prompt_parameters\": {\n",
        "                    \"instruction\": {\"template\": (INSTRUCTION)},\n",
        "                    \"content\": \"content\",\n",
        "                },\n",
        "                \"response_a_column\": \"response_a\",\n",
        "                \"response_b_column\": \"response_b\",\n",
        "                \"choice_column\": \"winner\",\n",
        "                \"explanation_column\": \"explanation\",\n",
        "                \"response_a_score_column\": \"response_a_score\",\n",
        "                \"response_b_score_column\": \"response_b_score\",\n",
        "            },\n",
        "            \"score_rubric\": SCORE_RUBRIC,\n",
        "        }\n",
        "    },\n",
        "}"
      ]
    },
    {
      "cell_type": "markdown",
      "metadata": {
        "id": "pWXH7vHjK4_h"
      },
      "source": [
        "Then, you compile the AutoSxS pipeline locally."
      ]
    },
    {
      "cell_type": "code",
      "execution_count": null,
      "metadata": {
        "id": "MWWkwt4zE4vl"
      },
      "outputs": [],
      "source": [
        "template_uri = str(pipeline_path / \"pipeline.yaml\")\n",
        "compiler.Compiler().compile(\n",
        "    pipeline_func=model_evaluation.autosxs_pipeline,\n",
        "    package_path=template_uri,\n",
        ")"
      ]
    },
    {
      "cell_type": "markdown",
      "metadata": {
        "id": "e8bgZh4VLGYB"
      },
      "source": [
        "Finally, you submit the evaluation job to initiate a Vertex AI Pipeline job, which can be monitored through the Vertex AI UI. This process will take approximately 10 minutes."
      ]
    },
    {
      "cell_type": "code",
      "execution_count": null,
      "metadata": {
        "id": "tYeYTBTILuUl"
      },
      "outputs": [],
      "source": [
        "pipeline_job = aiplatform.PipelineJob(\n",
        "    job_id=display_name,\n",
        "    display_name=display_name,\n",
        "    template_path=template_uri,\n",
        "    pipeline_root=PIPELINE_ROOT_URI,\n",
        "    parameter_values=PIPELINE_PARAMETERS,\n",
        "    enable_caching=False,\n",
        ")\n",
        "pipeline_job.run()"
      ]
    },
    {
      "cell_type": "markdown",
      "metadata": {
        "id": "EinPbr3XOYPQ"
      },
      "source": [
        "### Get the judgments and AutoSxS win-rate metrics\n",
        "\n",
        "You can access the evaluation results in the Vertex AI Pipelines by examining the artifacts generated by the AutoSxS pipeline. These include:\n",
        "\n",
        "- `judgments table` provides example-level metrics, including inference prompts, model responses, autorater decisions, rating explanations, and confidence scores.\n",
        "- `aggregate metrics` which offer an overview of model performance, such as the AutoRater model A win rate, which indicates the percentage of times the autorater preferred model A's response.\n",
        "\n",
        "By analyzing these outputs, you can gain a comprehensive understanding of both individual example performance and overall model comparison."
      ]
    },
    {
      "cell_type": "markdown",
      "metadata": {
        "id": "ZPyNcn7w0O66"
      },
      "source": [
        "#### Judgments"
      ]
    },
    {
      "cell_type": "code",
      "execution_count": null,
      "metadata": {
        "id": "V_9yMfhrOZDk"
      },
      "outputs": [],
      "source": [
        "for details in pipeline_job.task_details:\n",
        "    if details.task_name == \"online-evaluation-pairwise\":\n",
        "        break\n",
        "\n",
        "# Judgments\n",
        "judgments_uri = details.outputs[\"judgments\"].artifacts[0].uri\n",
        "judgments_df = pd.read_json(judgments_uri, lines=True)"
      ]
    },
    {
      "cell_type": "code",
      "execution_count": null,
      "metadata": {
        "id": "fUX7BTDw4p6v"
      },
      "outputs": [],
      "source": [
        "print_autosxs_judgments(judgments_df)"
      ]
    },
    {
      "cell_type": "markdown",
      "metadata": {
        "id": "5Wt3IKFu0T0-"
      },
      "source": [
        "#### Aggregate metrics"
      ]
    },
    {
      "cell_type": "code",
      "execution_count": null,
      "metadata": {
        "id": "G7meI2Eq4muT"
      },
      "outputs": [],
      "source": [
        "for details in pipeline_job.task_details:\n",
        "    if details.task_name == \"model-evaluation-text-generation-pairwise\":\n",
        "        break\n",
        "win_rate_metrics = details.outputs[\"autosxs_metrics\"].artifacts[0].metadata"
      ]
    },
    {
      "cell_type": "code",
      "execution_count": null,
      "metadata": {
        "id": "zIQBXk2Y5Ezo"
      },
      "outputs": [],
      "source": [
        "print_aggregated_metrics(win_rate_metrics)"
      ]
    },
    {
      "cell_type": "markdown",
      "metadata": {
        "id": "2a4e033321ad"
      },
      "source": [
        "## Cleaning up"
      ]
    },
    {
      "cell_type": "code",
      "execution_count": null,
      "metadata": {
        "id": "SrR8DSlHFCbq"
      },
      "outputs": [],
      "source": [
        "# Delete Model Evaluation pipeline run\n",
        "delete_pipeline = False\n",
        "if delete_pipeline:\n",
        "    job.delete()\n",
        "\n",
        "# Delete Cloud Storage objects that were created\n",
        "delete_bucket = False\n",
        "if delete_bucket:\n",
        "    ! gsutil -m rm -r $BUCKET_URI"
      ]
    }
  ],
  "metadata": {
    "colab": {
      "name": "evaluate_gemini_with_autosxs_custom_task.ipynb",
      "toc_visible": true
    },
    "kernelspec": {
      "display_name": "Python 3",
      "name": "python3"
    }
  },
  "nbformat": 4,
  "nbformat_minor": 0
}
