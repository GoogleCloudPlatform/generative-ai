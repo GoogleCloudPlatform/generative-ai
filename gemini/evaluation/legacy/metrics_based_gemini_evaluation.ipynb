{
  "cells": [
    {
      "cell_type": "code",
      "execution_count": null,
      "metadata": {
        "id": "yWuMGQ-wFSeX"
      },
      "outputs": [],
      "source": [
        "# Copyright 2024 Google LLC\n",
        "#\n",
        "# Licensed under the Apache License, Version 2.0 (the \"License\");\n",
        "# you may not use this file except in compliance with the License.\n",
        "# You may obtain a copy of the License at\n",
        "#\n",
        "#     https://www.apache.org/licenses/LICENSE-2.0\n",
        "#\n",
        "# Unless required by applicable law or agreed to in writing, software\n",
        "# distributed under the License is distributed on an \"AS IS\" BASIS,\n",
        "# WITHOUT WARRANTIES OR CONDITIONS OF ANY KIND, either express or implied.\n",
        "# See the License for the specific language governing permissions and\n",
        "# limitations under the License."
      ]
    },
    {
      "cell_type": "markdown",
      "metadata": {
        "id": "Ha82FcsfmA-j"
      },
      "source": [
        "# Question Answering with Generative Models on Vertex AI\n",
        "\n",
        "\n",
        "<table align=\"left\">\n",
        "  <td style=\"text-align: center\">\n",
        "    <a href=\"https://colab.research.google.com/github/GoogleCloudPlatform/generative-ai/blob/main/gemini/evaluation/legacy/metrics_based_gemini_evaluation.ipynb\">\n",
        "      <img src=\"https://cloud.google.com/ml-engine/images/colab-logo-32px.png\" alt=\"Google Colaboratory logo\"><br> Open in Colab\n",
        "    </a>\n",
        "  </td>\n",
        "  <td style=\"text-align: center\">\n",
        "    <a href=\"https://console.cloud.google.com/vertex-ai/colab/import/https:%2F%2Fraw.githubusercontent.com%2FGoogleCloudPlatform%2Fgenerative-ai%2Fmain%2Fgemini%2Fevaluation%2Flegacy%2Fmetrics_based_gemini_evaluation.ipynb\">\n",
        "      <img width=\"32px\" src=\"https://lh3.googleusercontent.com/JmcxdQi-qOpctIvWKgPtrzZdJJK-J3sWE1RsfjZNwshCFgE_9fULcNpuXYTilIR2hjwN\" alt=\"Google Cloud Colab Enterprise logo\"><br> Open in Colab Enterprise\n",
        "    </a>\n",
        "  </td>    \n",
        "  <td style=\"text-align: center\">\n",
        "    <a href=\"https://console.cloud.google.com/vertex-ai/workbench/deploy-notebook?download_url=https://raw.githubusercontent.com/GoogleCloudPlatform/generative-ai/main/gemini/evaluation/legacy/metrics_based_gemini_evaluation.ipynb\">\n",
        "      <img src=\"https://lh3.googleusercontent.com/UiNooY4LUgW_oTvpsNhPpQzsstV5W8F7rYgxgGBD85cWJoLmrOzhVs_ksK_vgx40SHs7jCqkTkCk=e14-rj-sc0xffffff-h130-w32\" alt=\"Vertex AI logo\"><br> Open in Workbench\n",
        "    </a>\n",
        "  </td>\n",
        "  <td style=\"text-align: center\">\n",
        "    <a href=\"https://github.com/GoogleCloudPlatform/generative-ai/blob/main/gemini/evaluation/legacy/metrics_based_gemini_evaluation.ipynb\">\n",
        "      <img src=\"https://cloud.google.com/ml-engine/images/github-logo-32px.png\" alt=\"GitHub logo\"><br> View on GitHub\n",
        "    </a>\n",
        "  </td>\n",
        "</table>\n",
        "\n",
        "<div style=\"clear: both;\"></div>\n",
        "\n",
        "<b>Share to:</b>\n",
        "\n",
        "<a href=\"https://www.linkedin.com/sharing/share-offsite/?url=https%3A//github.com/GoogleCloudPlatform/generative-ai/blob/main/gemini/evaluation/legacy/metrics_based_gemini_evaluation.ipynb\" target=\"_blank\">\n",
        "  <img width=\"20px\" src=\"https://upload.wikimedia.org/wikipedia/commons/8/81/LinkedIn_icon.svg\" alt=\"LinkedIn logo\">\n",
        "</a>\n",
        "\n",
        "<a href=\"https://bsky.app/intent/compose?text=https%3A//github.com/GoogleCloudPlatform/generative-ai/blob/main/gemini/evaluation/legacy/metrics_based_gemini_evaluation.ipynb\" target=\"_blank\">\n",
        "  <img width=\"20px\" src=\"https://upload.wikimedia.org/wikipedia/commons/7/7a/Bluesky_Logo.svg\" alt=\"Bluesky logo\">\n",
        "</a>\n",
        "\n",
        "<a href=\"https://twitter.com/intent/tweet?url=https%3A//github.com/GoogleCloudPlatform/generative-ai/blob/main/gemini/evaluation/legacy/metrics_based_gemini_evaluation.ipynb\" target=\"_blank\">\n",
        "  <img width=\"20px\" src=\"https://upload.wikimedia.org/wikipedia/commons/5/53/X_logo_2023_original.svg\" alt=\"X logo\">\n",
        "</a>\n",
        "\n",
        "<a href=\"https://reddit.com/submit?url=https%3A//github.com/GoogleCloudPlatform/generative-ai/blob/main/gemini/evaluation/legacy/metrics_based_gemini_evaluation.ipynb\" target=\"_blank\">\n",
        "  <img width=\"20px\" src=\"https://redditinc.com/hubfs/Reddit%20Inc/Brand/Reddit_Logo.png\" alt=\"Reddit logo\">\n",
        "</a>\n",
        "\n",
        "<a href=\"https://www.facebook.com/sharer/sharer.php?u=https%3A//github.com/GoogleCloudPlatform/generative-ai/blob/main/gemini/evaluation/legacy/metrics_based_gemini_evaluation.ipynb\" target=\"_blank\">\n",
        "  <img width=\"20px\" src=\"https://upload.wikimedia.org/wikipedia/commons/5/51/Facebook_f_logo_%282019%29.svg\" alt=\"Facebook logo\">\n",
        "</a>            "
      ]
    },
    {
      "cell_type": "markdown",
      "metadata": {
        "id": "wShT6Es7mgr-"
      },
      "source": [
        "| | |\n",
        "|-|-|\n",
        "|Author(s) | [Nishant Welpulwar](https://github.com/Nish2288)|"
      ]
    },
    {
      "cell_type": "markdown",
      "metadata": {
        "id": "IGg65Mx2Fecx"
      },
      "source": [
        "## Overview\n",
        "\n",
        "Generative models like Gemini are powerful language models used for various natural language processing (NLP) tasks like Text classification, Summarization, Question answering and Text Generation.\n",
        "Evaluating Large Language Models (LLMs) is crucial to assess their capabilities and limitations. You will learn how to evaluate Gemini model by using different metrics.\n",
        "\n",
        "The type of metrics used for evaluation depends on the task that you are evaluating. The following table shows the supported tasks and the metrics used to evaluate each task:\n",
        "| Task | Metric\n",
        "|:---------|:--------:|\n",
        "|  Classification   |  Micro-F1, Macro-F1, Per class F1   |\n",
        "|  Summarization  |  ROUGE-L   |\n",
        "|  Question Answering   |  Exact Match   |\n",
        "|  Text Generation  | BLEU, ROUGE-L |\n",
        "\n",
        "\n",
        "Refer this [documentation](https://cloud.google.com/vertex-ai/generative-ai/docs/models/evaluate-models) for metric based evaluation.\n",
        "\n",
        "\n",
        "## Getting Started"
      ]
    },
    {
      "cell_type": "markdown",
      "metadata": {
        "id": "J0LgrC9dFr7N"
      },
      "source": [
        "### Install Vertex AI SDK and other required packages"
      ]
    },
    {
      "cell_type": "code",
      "execution_count": null,
      "metadata": {
        "id": "1MZBfNQJFjCy"
      },
      "outputs": [],
      "source": [
        "%pip install google-cloud-aiplatform --upgrade --user -q \"bigframes<1.0.0\" rouge-score langchain"
      ]
    },
    {
      "cell_type": "markdown",
      "metadata": {
        "id": "e3KNhxq-F1Ec"
      },
      "source": [
        "### Restart runtime\n",
        "\n",
        "To use the newly installed packages in this Jupyter runtime, you must restart the runtime. You can do this by running the cell below, which restarts the current kernel.\n",
        "\n",
        "The restart might take a minute or longer. After its restarted, continue to the next step."
      ]
    },
    {
      "cell_type": "code",
      "execution_count": null,
      "metadata": {
        "id": "2Qkss53rFwph"
      },
      "outputs": [],
      "source": [
        "import IPython\n",
        "\n",
        "app = IPython.Application.instance()\n",
        "app.kernel.do_shutdown(True)"
      ]
    },
    {
      "cell_type": "markdown",
      "metadata": {
        "id": "SGQJFqcHF6tT"
      },
      "source": [
        "### Authenticate your notebook environment (Colab only)\n",
        "\n",
        "If you are running this notebook on Google Colab, run the cell below to authenticate your environment."
      ]
    },
    {
      "cell_type": "code",
      "execution_count": null,
      "metadata": {
        "id": "iTVMxH5ZlnOZ"
      },
      "outputs": [],
      "source": [
        "import sys\n",
        "\n",
        "if \"google.colab\" in sys.modules:\n",
        "    from google.colab import auth\n",
        "\n",
        "    auth.authenticate_user()"
      ]
    },
    {
      "cell_type": "markdown",
      "metadata": {
        "id": "hLK6FkZplyHn"
      },
      "source": [
        "### Set Google Cloud project information and initialize Vertex AI SDK\n",
        "\n",
        "To get started using Vertex AI, you must have an existing Google Cloud project and [enable the Vertex AI API](https://console.cloud.google.com/flows/enableapi?apiid=aiplatform.googleapis.com).\n",
        "\n",
        "Learn more about [setting up a project and a development environment](https://cloud.google.com/vertex-ai/docs/start/cloud-environment)."
      ]
    },
    {
      "cell_type": "code",
      "execution_count": null,
      "metadata": {
        "id": "nWa-vOxJn6D4"
      },
      "outputs": [],
      "source": [
        "PROJECT_ID = \"your-project-id\"  # @param {type:\"string\"}\n",
        "LOCATION = \"us-central1\"  # @param {type:\"string\"}\n",
        "\n",
        "\n",
        "import vertexai\n",
        "\n",
        "vertexai.init(project=PROJECT_ID, location=LOCATION)"
      ]
    },
    {
      "cell_type": "markdown",
      "metadata": {
        "id": "c1fABobhGRL7"
      },
      "source": [
        "### Import libraries"
      ]
    },
    {
      "cell_type": "code",
      "execution_count": null,
      "metadata": {
        "id": "axIzUB5yGY9O"
      },
      "outputs": [],
      "source": [
        "import warnings\n",
        "\n",
        "warnings.filterwarnings(\"ignore\")\n",
        "\n",
        "from langchain.evaluation import ExactMatchStringEvaluator\n",
        "import pandas as pd\n",
        "from rouge_score import rouge_scorer\n",
        "from sklearn.metrics import classification_report, f1_score\n",
        "from vertexai.generative_models import GenerationConfig, GenerativeModel"
      ]
    },
    {
      "cell_type": "markdown",
      "metadata": {
        "id": "XaCSAD2EGfTf"
      },
      "source": [
        "### Import model"
      ]
    },
    {
      "cell_type": "code",
      "execution_count": null,
      "metadata": {
        "id": "5Q1iWUbFGhhz"
      },
      "outputs": [],
      "source": [
        "generation_model = GenerativeModel(\"gemini-1.0-pro-001\")"
      ]
    },
    {
      "cell_type": "markdown",
      "metadata": {
        "id": "edb8154761ec"
      },
      "source": [
        "### Generation config\n",
        "\n",
        "- Each call that you send to a model includes parameter values that control how the model generates a response. The model can generate different results for different parameter values\n",
        "- <strong>Experiment</strong> with different parameter values to get the best values for the task\n",
        "\n",
        "Refer to following [link](https://cloud.google.com/vertex-ai/generative-ai/docs/learn/prompt-design-strategies#experiment-with-different-parameter-values) for understanding different parameters"
      ]
    },
    {
      "cell_type": "code",
      "execution_count": null,
      "metadata": {
        "id": "aae6aeca6209"
      },
      "outputs": [],
      "source": [
        "generation_config = GenerationConfig(temperature=0.1, max_output_tokens=256)"
      ]
    },
    {
      "cell_type": "markdown",
      "metadata": {
        "id": "PaM2rT8iGmfH"
      },
      "source": [
        "## Evaluate Text Classification task\n",
        "\n",
        "In the section below, we will see how to evaluation LLM for classification task.\n",
        "\n",
        "Evaluation metrics:<strong> Micro-F1, Macro-F1, Per class F1<strong>\n",
        "\n",
        "\n",
        "\n",
        "\n",
        "Following is the sample evaluation data which contains text and ground truth values"
      ]
    },
    {
      "cell_type": "code",
      "execution_count": null,
      "metadata": {
        "id": "a2axHNNqGkXp"
      },
      "outputs": [],
      "source": [
        "eval_data_df = pd.DataFrame(\n",
        "    {\n",
        "        \"text\": [\n",
        "            \"i feel a little stunned but can t imagine what the folks who were working in the studio up until this morning are feeling\",\n",
        "            \"im updating my blog because i feel shitty\",\n",
        "            \"i never make her separate from me because i don t ever want her to feel like i m ashamed with her\",\n",
        "            \"i left with my bouquet of red and yellow tulips under my arm feeling slightly more optimistic than when i arrived\",\n",
        "            \"i was feeling a little vain when i did this one\",\n",
        "            \"i cant walk into a shop anywhere where i do not feel uncomfortable\",\n",
        "            \"i felt anger when at the end of a telephone call\",\n",
        "            \"i explain why i clung to a relationship with a boy who was in many ways immature and uncommitted despite the excitement i should have been feeling for getting accepted into the masters program at the university of virginia\",\n",
        "            \"i like to have the same breathless feeling as a reader eager to see what will happen next\",\n",
        "            \"i jest i feel grumpy tired and pre menstrual which i probably am but then again its only been a week and im about as fit as a walrus on vacation for the summer\",\n",
        "        ],\n",
        "        \"ground_truth\": [\n",
        "            \"surprise\",\n",
        "            \"sadness\",\n",
        "            \"sadness\",\n",
        "            \"joy\",\n",
        "            \"sadness\",\n",
        "            \"fear\",\n",
        "            \"anger\",\n",
        "            \"joy\",\n",
        "            \"joy\",\n",
        "            \"anger\",\n",
        "        ],\n",
        "    }\n",
        ")"
      ]
    },
    {
      "cell_type": "code",
      "execution_count": null,
      "metadata": {
        "id": "8e-UM-2sHKAY"
      },
      "outputs": [],
      "source": [
        "eval_data_df"
      ]
    },
    {
      "cell_type": "markdown",
      "metadata": {
        "id": "nq-mndeXp91-"
      },
      "source": [
        "Write a function to get text from the evaluation dataset as an input and return output generated by the Gemini model."
      ]
    },
    {
      "cell_type": "code",
      "execution_count": null,
      "metadata": {
        "id": "wPEIeTuDHLwv"
      },
      "outputs": [],
      "source": [
        "def get_prediction(text: str) -> str:\n",
        "    \"\"\"Classifies provided text into one of the following sentiments:\n",
        "    sadness, joy, love, anger, fear, surprise.\"\"\"\n",
        "\n",
        "    prompt = f\"\"\"Classify the text into one of the classes below: \\n[sadness, joy, love, anger, fear, surprise]\\n\\n\n",
        "    text:{text} \\n\n",
        "    sentiment:\n",
        "    \"\"\"\n",
        "    response = generation_model.generate_content(\n",
        "        contents=prompt, generation_config=generation_config\n",
        "    ).text\n",
        "\n",
        "    return response"
      ]
    },
    {
      "cell_type": "code",
      "execution_count": null,
      "metadata": {
        "id": "yZ52HXyMHOCf"
      },
      "outputs": [],
      "source": [
        "eval_data_df[\"prediction\"] = eval_data_df[\"text\"].apply(get_prediction)\n",
        "eval_data_df"
      ]
    },
    {
      "cell_type": "markdown",
      "metadata": {
        "id": "_c1TPw_uqXPr"
      },
      "source": [
        "Print [classification report](https://scikit-learn.org/stable/modules/generated/sklearn.metrics.classification_report.html) based on ground truth and model predictions."
      ]
    },
    {
      "cell_type": "code",
      "execution_count": null,
      "metadata": {
        "id": "mezkGMZDHPSo"
      },
      "outputs": [],
      "source": [
        "print(classification_report(eval_data_df[\"ground_truth\"], eval_data_df[\"prediction\"]))"
      ]
    },
    {
      "cell_type": "markdown",
      "metadata": {
        "id": "H9b4bW5PqVXH"
      },
      "source": [
        "The F1 score can be interpreted as a harmonic mean of the precision and recall, where an F1 score reaches its best value at 1 and worst score at 0. The relative contribution of precision and recall to the F1 score are equal.\n",
        "We are using [sklearn](https://scikit-learn.org/stable/modules/generated/sklearn.metrics.f1_score.html) to calculate F1 Score\n",
        "\n",
        "\n",
        "Calculate and print per class F1 score.\n",
        "It return F1 score for each class."
      ]
    },
    {
      "cell_type": "code",
      "execution_count": null,
      "metadata": {
        "id": "WTB7KrxbHXew"
      },
      "outputs": [],
      "source": [
        "# per class F1\n",
        "print(f1_score(eval_data_df[\"ground_truth\"], eval_data_df[\"prediction\"], average=None))"
      ]
    },
    {
      "cell_type": "markdown",
      "metadata": {
        "id": "-kiC7Sn1qq2B"
      },
      "source": [
        "Macro-F1 score: Calculate metrics for each label, and find their unweighted mean. This does not take label imbalance into account."
      ]
    },
    {
      "cell_type": "code",
      "execution_count": null,
      "metadata": {
        "id": "SGgru2WRHo5f"
      },
      "outputs": [],
      "source": [
        "# Macro-F1\n",
        "f1_score(eval_data_df[\"ground_truth\"], eval_data_df[\"prediction\"], average=\"macro\")"
      ]
    },
    {
      "cell_type": "markdown",
      "metadata": {
        "id": "iPfushqNq2ga"
      },
      "source": [
        "Micro-F1 score: Calculate metrics globally by counting the total true positives, false negatives and false positives."
      ]
    },
    {
      "cell_type": "code",
      "execution_count": null,
      "metadata": {
        "id": "tRp12hc5Hybu"
      },
      "outputs": [],
      "source": [
        "# Micro-F1\n",
        "f1_score(eval_data_df[\"ground_truth\"], eval_data_df[\"prediction\"], average=\"micro\")"
      ]
    },
    {
      "cell_type": "markdown",
      "metadata": {
        "id": "E32EDpWRH7wb"
      },
      "source": [
        "# Evaluate Text Summarization task\n",
        "\n",
        "Write a prompt which contains text you want to summarize."
      ]
    },
    {
      "cell_type": "code",
      "execution_count": null,
      "metadata": {
        "id": "tA0_oUr2H9i-"
      },
      "outputs": [],
      "source": [
        "prompt = \"\"\"\n",
        "Provide a very short, maximum four sentences, summary for the following article:\n",
        "\n",
        "Our quantum computers work by manipulating qubits in an orchestrated fashion that we call quantum algorithms.\n",
        "The challenge is that qubits are so sensitive that even stray light can cause calculation errors — and the problem worsens as quantum computers grow.\n",
        "This has significant consequences, since the best quantum algorithms that we know for running useful applications require the error rates of our qubits to be far lower than we have today.\n",
        "To bridge this gap, we will need quantum error correction.\n",
        "Quantum error correction protects information by encoding it across multiple physical qubits to form a 'logical qubit,' and is believed to be the only way to produce a large-scale quantum computer with error rates low enough for useful calculations.\n",
        "Instead of computing on the individual qubits themselves, we will then compute on logical qubits. By encoding larger numbers of physical qubits on our quantum processor into one logical qubit, we hope to reduce the error rates to enable useful quantum algorithms.\n",
        "\n",
        "Summary:\n",
        "\n",
        "\"\"\"\n",
        "\n",
        "\n",
        "candidate = generation_model.generate_content(\n",
        "    contents=prompt, generation_config=generation_config\n",
        ").text\n",
        "\n",
        "print(candidate)"
      ]
    },
    {
      "cell_type": "markdown",
      "metadata": {
        "id": "mitioVmcrTyW"
      },
      "source": [
        "Following is the \"reference summary\" which will be compared against the \"model generated summary\"."
      ]
    },
    {
      "cell_type": "code",
      "execution_count": null,
      "metadata": {
        "id": "qqmLgVChIj3P"
      },
      "outputs": [],
      "source": [
        "reference = \"Quantum computers are sensitive to noise and errors. To bridge this gap, we will need quantum error correction. Quantum error correction protects information by encoding across multiple physical qubits to form a 'logical qubit'.\""
      ]
    },
    {
      "cell_type": "markdown",
      "metadata": {
        "id": "TO1487vKruOg"
      },
      "source": [
        "## Evaluation\n",
        "You can evaluate the outputs from summarization tasks using [ROUGE](https://en.wikipedia.org/wiki/ROUGE_(metric)) as an evaluation framework. ROUGE (Recall-Oriented Understudy for Gisting Evaluation) are measures to automatically determine the quality of a summary by comparing it to other (ideal) summaries created by humans. The measures count the number of overlapping units such as n-gram, word sequences, and word pairs between the computer-generated summary to be evaluated and the ideal summaries created by humans."
      ]
    },
    {
      "cell_type": "code",
      "execution_count": null,
      "metadata": {
        "id": "cm0c35w4Ilpk"
      },
      "outputs": [],
      "source": [
        "scorer = rouge_scorer.RougeScorer([\"rougeL\"], use_stemmer=False)"
      ]
    },
    {
      "cell_type": "code",
      "execution_count": null,
      "metadata": {
        "id": "S2-L3j7-In6P"
      },
      "outputs": [],
      "source": [
        "scorer.score(reference, candidate)"
      ]
    },
    {
      "cell_type": "markdown",
      "metadata": {
        "id": "3yrrh7pOIqpb"
      },
      "source": [
        "# Evaluate Question Answering task\n",
        "\n",
        "Following is a sample dataset which contains the questions and ground truth."
      ]
    },
    {
      "cell_type": "code",
      "execution_count": null,
      "metadata": {
        "id": "SyfxWLktIvkO"
      },
      "outputs": [],
      "source": [
        "qa_data_df = pd.DataFrame(\n",
        "    {\n",
        "        \"question\": [\n",
        "            \"In a website browser address bar, what does 'www' stand for?\",\n",
        "            \"Who was the first woman to win a Nobel Prize\",\n",
        "            \"What is the name of the Earth's largest ocean?\",\n",
        "        ],\n",
        "        \"answer_groundtruth\": [\"World Wide Web\", \"Marie Curie\", \"The Pacific Ocean\"],\n",
        "    }\n",
        ")\n",
        "qa_data_df"
      ]
    },
    {
      "cell_type": "markdown",
      "metadata": {
        "id": "3Y502lVtsFJS"
      },
      "source": [
        "Write a function to generate answer for each question in the dataset."
      ]
    },
    {
      "cell_type": "code",
      "execution_count": null,
      "metadata": {
        "id": "9OAq1FkvI0WW"
      },
      "outputs": [],
      "source": [
        "def get_answer(row: str) -> str:\n",
        "    \"\"\"Generate a answer for the provided question.\"\"\"\n",
        "\n",
        "    prompt = f\"\"\"Answer the following question as precise as possible.\\n\\n\n",
        "            question: {row}\n",
        "            answer:\n",
        "              \"\"\"\n",
        "    return generation_model.generate_content(\n",
        "        contents=prompt, generation_config=generation_config\n",
        "    ).text\n",
        "\n",
        "\n",
        "qa_data_df[\"answer_prediction\"] = qa_data_df[\"question\"].apply(get_answer)\n",
        "qa_data_df"
      ]
    },
    {
      "cell_type": "markdown",
      "metadata": {
        "id": "275dfaa86029"
      },
      "source": [
        "## Evaluation\n",
        "\n",
        "We are calculating [Exact Match](https://python.langchain.com/docs/guides/evaluation/string/exact_match) using langchain.\n",
        "\n",
        "Exact Match (EM) is a stringent evaluation metric that offers only binary scores, either 0 or 1. An EM score of 1 is assigned when the answer provided by the annotator precisely matches the predicted answer. In contrast, if there is any deviation between the two, the score is set to 0."
      ]
    },
    {
      "cell_type": "code",
      "execution_count": null,
      "metadata": {
        "id": "cfTiQ8jDI2Zk"
      },
      "outputs": [],
      "source": [
        "evaluator = ExactMatchStringEvaluator()"
      ]
    },
    {
      "cell_type": "markdown",
      "metadata": {
        "id": "uFpXD5hxsR6U"
      },
      "source": [
        "Write a function to compare ground truth data and generated answer."
      ]
    },
    {
      "cell_type": "code",
      "execution_count": null,
      "metadata": {
        "id": "fMTNgPpSJpbA"
      },
      "outputs": [],
      "source": [
        "def get_exact_match(pred: str, ground_truth: str) -> int:\n",
        "    \"\"\"Calculates the exact match score between a prediction and ground truth.\"\"\"\n",
        "\n",
        "    score = evaluator.evaluate_strings(prediction=pred, reference=ground_truth)\n",
        "    return score[\"score\"]"
      ]
    },
    {
      "cell_type": "code",
      "execution_count": null,
      "metadata": {
        "id": "A3pibIJPJsol"
      },
      "outputs": [],
      "source": [
        "qa_data_df[\"exact_match_score\"] = qa_data_df.apply(\n",
        "    lambda row: get_exact_match(row[\"answer_prediction\"], row[\"answer_groundtruth\"]),\n",
        "    axis=1,\n",
        ")\n",
        "\n",
        "print(qa_data_df)"
      ]
    },
    {
      "cell_type": "markdown",
      "metadata": {
        "id": "b6451e242fce"
      },
      "source": [
        "While EM can be an effective metric for assessing the accuracy of very brief and factual responses, it is not well-suited for evaluating longer and more elaborate answers."
      ]
    }
  ],
  "metadata": {
    "colab": {
      "name": "metrics_based_gemini_evaluation.ipynb",
      "toc_visible": true
    },
    "kernelspec": {
      "display_name": "Python 3",
      "name": "python3"
    }
  },
  "nbformat": 4,
  "nbformat_minor": 0
}
