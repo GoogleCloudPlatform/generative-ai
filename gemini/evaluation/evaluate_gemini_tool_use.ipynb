{
  "cells": [
    {
      "cell_type": "code",
      "execution_count": null,
      "metadata": {
        "id": "OsXAs2gcIpbC"
      },
      "outputs": [],
      "source": [
        "# Copyright 2024 Google LLC\n",
        "#\n",
        "# Licensed under the Apache License, Version 2.0 (the \"License\");\n",
        "# you may not use this file except in compliance with the License.\n",
        "# You may obtain a copy of the License at\n",
        "#\n",
        "#     https://www.apache.org/licenses/LICENSE-2.0\n",
        "#\n",
        "# Unless required by applicable law or agreed to in writing, software\n",
        "# distributed under the License is distributed on an \"AS IS\" BASIS,\n",
        "# WITHOUT WARRANTIES OR CONDITIONS OF ANY KIND, either express or implied.\n",
        "# See the License for the specific language governing permissions and\n",
        "# limitations under the License."
      ]
    },
    {
      "cell_type": "markdown",
      "metadata": {
        "id": "WKiAD3qCCtOu"
      },
      "source": [
        " # Evaluate Generative Model Tool Use | Gen AI Evaluation SDK Tutorial\n",
        "\n",
        " <table align=\"left\">\n",
        "  <td style=\"text-align: center\">\n",
        "    <a href=\"https://colab.research.google.com/github/GoogleCloudPlatform/generative-ai/blob/main/gemini/evaluation/evaluate_gemini_tool_use.ipynb\">\n",
        "      <img src=\"https://cloud.google.com/ml-engine/images/colab-logo-32px.png\" alt=\"Google Colaboratory logo\"><br> Open in Colab\n",
        "    </a>\n",
        "  </td>\n",
        "  <td style=\"text-align: center\">\n",
        "    <a href=\"https://console.cloud.google.com/vertex-ai/colab/import/https:%2F%2Fraw.githubusercontent.com%2FGoogleCloudPlatform%2Fgenerative-ai%2Fmain%2Fgemini%2Fevaluation%2Fevaluate_gemini_tool_use.ipynb\">\n",
        "      <img width=\"32px\" src=\"https://lh3.googleusercontent.com/JmcxdQi-qOpctIvWKgPtrzZdJJK-J3sWE1RsfjZNwshCFgE_9fULcNpuXYTilIR2hjwN\" alt=\"Google Cloud Colab Enterprise logo\"><br> Open in Colab Enterprise\n",
        "    </a>\n",
        "  </td>    \n",
        "  <td style=\"text-align: center\">\n",
        "    <a href=\"https://console.cloud.google.com/vertex-ai/workbench/deploy-notebook?download_url=https://raw.githubusercontent.com/GoogleCloudPlatform/generative-ai/main/gemini/evaluation/evaluate_gemini_tool_use.ipynb\">\n",
        "      <img src=\"https://lh3.googleusercontent.com/UiNooY4LUgW_oTvpsNhPpQzsstV5W8F7rYgxgGBD85cWJoLmrOzhVs_ksK_vgx40SHs7jCqkTkCk=e14-rj-sc0xffffff-h130-w32\" alt=\"Vertex AI logo\"><br> Open in Workbench\n",
        "    </a>\n",
        "  </td>\n",
        "  <td style=\"text-align: center\">\n",
        "    <a href=\"https://github.com/GoogleCloudPlatform/generative-ai/blob/main/gemini/evaluation/evaluate_gemini_tool_use.ipynb\">\n",
        "      <img src=\"https://cloud.google.com/ml-engine/images/github-logo-32px.png\" alt=\"GitHub logo\"><br> View on GitHub\n",
        "    </a>\n",
        "  </td>\n",
        "</table>\n",
        "\n",
        "<div style=\"clear: both;\"></div>\n",
        "\n",
        "<b>Share to:</b>\n",
        "\n",
        "<a href=\"https://www.linkedin.com/sharing/share-offsite/?url=https%3A//github.com/GoogleCloudPlatform/generative-ai/blob/main/gemini/evaluation/evaluate_gemini_tool_use.ipynb\" target=\"_blank\">\n",
        "  <img width=\"20px\" src=\"https://upload.wikimedia.org/wikipedia/commons/8/81/LinkedIn_icon.svg\" alt=\"LinkedIn logo\">\n",
        "</a>\n",
        "\n",
        "<a href=\"https://bsky.app/intent/compose?text=https%3A//github.com/GoogleCloudPlatform/generative-ai/blob/main/gemini/evaluation/evaluate_gemini_tool_use.ipynb\" target=\"_blank\">\n",
        "  <img width=\"20px\" src=\"https://upload.wikimedia.org/wikipedia/commons/7/7a/Bluesky_Logo.svg\" alt=\"Bluesky logo\">\n",
        "</a>\n",
        "\n",
        "<a href=\"https://twitter.com/intent/tweet?url=https%3A//github.com/GoogleCloudPlatform/generative-ai/blob/main/gemini/evaluation/evaluate_gemini_tool_use.ipynb\" target=\"_blank\">\n",
        "  <img width=\"20px\" src=\"https://upload.wikimedia.org/wikipedia/commons/5/53/X_logo_2023_original.svg\" alt=\"X logo\">\n",
        "</a>\n",
        "\n",
        "<a href=\"https://reddit.com/submit?url=https%3A//github.com/GoogleCloudPlatform/generative-ai/blob/main/gemini/evaluation/evaluate_gemini_tool_use.ipynb\" target=\"_blank\">\n",
        "  <img width=\"20px\" src=\"https://redditinc.com/hubfs/Reddit%20Inc/Brand/Reddit_Logo.png\" alt=\"Reddit logo\">\n",
        "</a>\n",
        "\n",
        "<a href=\"https://www.facebook.com/sharer/sharer.php?u=https%3A//github.com/GoogleCloudPlatform/generative-ai/blob/main/gemini/evaluation/evaluate_gemini_tool_use.ipynb\" target=\"_blank\">\n",
        "  <img width=\"20px\" src=\"https://upload.wikimedia.org/wikipedia/commons/5/51/Facebook_f_logo_%282019%29.svg\" alt=\"Facebook logo\">\n",
        "</a>            "
      ]
    },
    {
      "cell_type": "markdown",
      "metadata": {
        "id": "0922hY8RI11o"
      },
      "source": [
        "| | |\n",
        "|-|-|\n",
        "|Author(s) | [Jason Dai](https://github.com/jsondai),  [Bo Zheng](https://github.com/coolalexzb) |"
      ]
    },
    {
      "cell_type": "markdown",
      "metadata": {
        "id": "fmNXwtYGCtOv"
      },
      "source": [
        "## Overview\n",
        "\n",
        "* Define an API function and a Tool for Gemini model, and evaluate the Gemini model tool use quality with *Vertex AI Python SDK for Gen AI Evaluation Service*.\n",
        "\n",
        "See also: \n",
        "\n",
        "- Learn more about [Vertex Gen AI Evaluation Service SDK](https://cloud.google.com/vertex-ai/generative-ai/docs/models/evaluation-overview)."
      ]
    },
    {
      "cell_type": "markdown",
      "metadata": {
        "id": "58zvbIBKCtOv"
      },
      "source": [
        "## Getting Started"
      ]
    },
    {
      "cell_type": "markdown",
      "metadata": {
        "id": "rHKucTJ9CtOv"
      },
      "source": [
        "### Install Vertex AI Python SDK for Gen AI Evaluation Service"
      ]
    },
    {
      "cell_type": "code",
      "execution_count": null,
      "metadata": {
        "id": "6DnneQRilTFW"
      },
      "outputs": [],
      "source": [
        "%pip install --upgrade --user --quiet google-cloud-aiplatform[evaluation]"
      ]
    },
    {
      "cell_type": "markdown",
      "metadata": {
        "id": "nWC8oDQCCtOw"
      },
      "source": [
        "### Restart runtime\n",
        "To use the newly installed packages in this Jupyter runtime, you must restart the runtime. You can do this by running the cell below, which restarts the current kernel.\n",
        "\n",
        "The restart might take a minute or longer. After it's restarted, continue to the next step."
      ]
    },
    {
      "cell_type": "code",
      "execution_count": null,
      "metadata": {
        "id": "dCkOvWuOCtOw"
      },
      "outputs": [],
      "source": [
        "import IPython\n",
        "\n",
        "app = IPython.Application.instance()\n",
        "app.kernel.do_shutdown(True)"
      ]
    },
    {
      "cell_type": "markdown",
      "metadata": {
        "id": "h4pNZoFdCtOw"
      },
      "source": [
        "<div class=\"alert alert-block alert-warning\">\n",
        "<b>⚠️ The kernel is going to restart. Wait until it's finished before continuing to the next step. ⚠️</b>\n",
        "</div>\n"
      ]
    },
    {
      "cell_type": "markdown",
      "metadata": {
        "id": "NdCE9EV5CtOw"
      },
      "source": [
        "### Authenticate your notebook environment (Colab only)"
      ]
    },
    {
      "cell_type": "code",
      "execution_count": null,
      "metadata": {
        "id": "ZiX59CNjCtOx"
      },
      "outputs": [],
      "source": [
        "import sys\n",
        "\n",
        "if \"google.colab\" in sys.modules:\n",
        "    from google.colab import auth\n",
        "\n",
        "    auth.authenticate_user()"
      ]
    },
    {
      "cell_type": "markdown",
      "metadata": {
        "id": "X4FOrb_sCtOx"
      },
      "source": [
        "### Set Google Cloud project information and initialize Vertex AI SDK"
      ]
    },
    {
      "cell_type": "code",
      "execution_count": null,
      "metadata": {
        "id": "G2LhRUspCtOx"
      },
      "outputs": [],
      "source": [
        "PROJECT_ID = \"[your-project-id]\"  # @param {type:\"string\"}\n",
        "LOCATION = \"us-central1\"  # @param {type:\"string\"}\n",
        "\n",
        "if not PROJECT_ID or PROJECT_ID == \"[your-project-id]\":\n",
        "    raise ValueError(\"Please set your PROJECT_ID\")\n",
        "\n",
        "\n",
        "import vertexai\n",
        "\n",
        "vertexai.init(project=PROJECT_ID, location=LOCATION)"
      ]
    },
    {
      "cell_type": "markdown",
      "metadata": {
        "id": "1EvqYQT2CtOx"
      },
      "source": [
        "### Import libraries"
      ]
    },
    {
      "cell_type": "code",
      "execution_count": null,
      "metadata": {
        "id": "eHDPrnbQlTFX"
      },
      "outputs": [],
      "source": [
        "# General\n",
        "import json\n",
        "import logging\n",
        "import random\n",
        "import string\n",
        "import warnings\n",
        "\n",
        "from IPython.display import Markdown, display\n",
        "import pandas as pd\n",
        "\n",
        "# Main\n",
        "from vertexai.evaluation import EvalTask\n",
        "from vertexai.generative_models import GenerativeModel"
      ]
    },
    {
      "cell_type": "markdown",
      "metadata": {
        "id": "GEv1ZxXPlTFX"
      },
      "source": [
        "### Library settings"
      ]
    },
    {
      "cell_type": "code",
      "execution_count": null,
      "metadata": {
        "id": "ilX3gNbllTFX"
      },
      "outputs": [],
      "source": [
        "logging.getLogger(\"urllib3.connectionpool\").setLevel(logging.ERROR)\n",
        "warnings.filterwarnings(\"ignore\")"
      ]
    },
    {
      "cell_type": "markdown",
      "metadata": {
        "id": "o4nrCUUnlTFX"
      },
      "source": [
        "### Helper functions"
      ]
    },
    {
      "cell_type": "code",
      "execution_count": null,
      "metadata": {
        "id": "HohglC48lTFX"
      },
      "outputs": [],
      "source": [
        "def generate_uuid(length: int = 8) -> str:\n",
        "    \"\"\"Generate a uuid of a specified length (default=8).\"\"\"\n",
        "    return \"\".join(random.choices(string.ascii_lowercase + string.digits, k=length))\n",
        "\n",
        "\n",
        "def display_eval_report(eval_result, metrics=None):\n",
        "    \"\"\"Display the evaluation results.\"\"\"\n",
        "\n",
        "    title, summary_metrics, report_df = eval_result\n",
        "    metrics_df = pd.DataFrame.from_dict(summary_metrics, orient=\"index\").T\n",
        "    if metrics:\n",
        "        metrics_df = metrics_df.filter(\n",
        "            [\n",
        "                metric\n",
        "                for metric in metrics_df.columns\n",
        "                if any(selected_metric in metric for selected_metric in metrics)\n",
        "            ]\n",
        "        )\n",
        "        report_df = report_df.filter(\n",
        "            [\n",
        "                metric\n",
        "                for metric in report_df.columns\n",
        "                if any(selected_metric in metric for selected_metric in metrics)\n",
        "            ]\n",
        "        )\n",
        "\n",
        "    # Display the title with Markdown for emphasis\n",
        "    display(Markdown(f\"## {title}\"))\n",
        "\n",
        "    # Display the metrics DataFrame\n",
        "    display(Markdown(\"### Summary Metrics\"))\n",
        "    display(metrics_df)\n",
        "\n",
        "    # Display the detailed report DataFrame\n",
        "    display(Markdown(\"### Report Metrics\"))\n",
        "    display(report_df)"
      ]
    },
    {
      "cell_type": "markdown",
      "metadata": {
        "id": "RPBjzk96w9gV"
      },
      "source": [
        "## Evaluate Tool use and Function Calling quality for Gemini"
      ]
    },
    {
      "cell_type": "markdown",
      "metadata": {
        "id": "iY5hG6VMnS_s"
      },
      "source": [
        "#### Tool evaluation metrics\n",
        "\n",
        "* `tool_call_valid`\n",
        "* `tool_name_match`\n",
        "* `tool_parameter_key_match`\n",
        "* `tool_parameter_kv_match`"
      ]
    },
    {
      "cell_type": "code",
      "execution_count": null,
      "metadata": {
        "id": "vcZ2UikInZe0"
      },
      "outputs": [],
      "source": [
        "tool_metrics = [\n",
        "    \"tool_call_valid\",\n",
        "    \"tool_name_match\",\n",
        "    \"tool_parameter_key_match\",\n",
        "    \"tool_parameter_kv_match\",\n",
        "]"
      ]
    },
    {
      "cell_type": "markdown",
      "metadata": {
        "id": "dJgpakfIw9gc"
      },
      "source": [
        "### 1. Evaluate a Bring-Your-Own-Prediction dataset\n",
        "\n",
        "Generative model's tool use quality can be evaluated if the eval dataset contains saved model tool call responses, and expected references."
      ]
    },
    {
      "cell_type": "code",
      "execution_count": null,
      "metadata": {
        "id": "d6Euv-SQw9gc"
      },
      "outputs": [],
      "source": [
        "response = [\n",
        "    '{\"content\": \"\", \"tool_calls\": [{\"name\": \"book_tickets\", \"arguments\": {\"movie\": \"Mission Impossible Dead Reckoning Part 1\", \"theater\": \"Regal Edwards 14\", \"location\": \"Mountain View CA\", \"showtime\": \"7:30\", \"date\": \"2024-03-30\", \"num_tix\": \"2\"}}]}',\n",
        "    '{\"content\": \"\", \"tool_calls\": [{\"name\": \"book_tickets\", \"arguments\": {\"movie\": \"Mission Impossible Dead Reckoning Part 1\", \"theater\": \"Regal Edwards 14\", \"location\": \"Mountain View CA\", \"showtime\": \"7:30\", \"date\": \"2024-03-30\", \"num_tix\": \"2\"}}]}',\n",
        "    '{\"content\": \"\", \"tool_calls\": [{\"name\": \"book_tickets\", \"arguments\": {\"movie\": \"Mission Impossible Dead Reckoning Part 1\", \"theater\": \"Regal Edwards 14\"}}]}',\n",
        "    '{\"content\": \"\", \"tool_calls\": [{\"name\": \"book_tickets\", \"arguments\": {\"movie\": \"Mission Impossible Dead Reckoning Part 1\", \"theater\": \"Cinemark\", \"location\": \"Mountain View CA\", \"showtime\": \"5:30\", \"date\": \"2024-03-30\", \"num_tix\": \"2\"}}]}',\n",
        "]\n",
        "\n",
        "reference = [\n",
        "    '{\"content\": \"\", \"tool_calls\": [{\"name\": \"book_tickets\", \"arguments\": {\"movie\": \"Mission Impossible Dead Reckoning Part 1\", \"theater\": \"Regal Edwards 14\", \"location\": \"Mountain View CA\", \"showtime\": \"7:30\", \"date\": \"2024-03-30\", \"num_tix\": \"2\"}}]}',\n",
        "    '{\"content\": \"\", \"tool_calls\": [{\"name\": \"book_tickets\", \"arguments\": {\"movie\": \"Godzilla\", \"theater\": \"Regal Edwards 14\", \"location\": \"Mountain View CA\", \"showtime\": \"9:30\", \"date\": \"2024-03-30\", \"num_tix\": \"2\"}}]}',\n",
        "    '{\"content\": \"\", \"tool_calls\": [{\"name\": \"book_tickets\", \"arguments\": {\"movie\": \"Mission Impossible Dead Reckoning Part 1\", \"theater\": \"Regal Edwards 14\", \"location\": \"Mountain View CA\", \"showtime\": \"7:30\", \"date\": \"2024-03-30\", \"num_tix\": \"2\"}}]}',\n",
        "    '{\"content\": \"\", \"tool_calls\": [{\"name\": \"book_tickets\", \"arguments\": {\"movie\": \"Mission Impossible Dead Reckoning Part 1\", \"theater\": \"Regal Edwards 14\", \"location\": \"Mountain View CA\", \"showtime\": \"7:30\", \"date\": \"2024-03-30\", \"num_tix\": \"2\"}}]}',\n",
        "]\n",
        "\n",
        "eval_dataset = pd.DataFrame(\n",
        "    {\n",
        "        \"response\": response,\n",
        "        \"reference\": reference,\n",
        "    }\n",
        ")"
      ]
    },
    {
      "cell_type": "markdown",
      "metadata": {
        "id": "PyUj7kOnnNtH"
      },
      "source": [
        "#### Define EvalTask"
      ]
    },
    {
      "cell_type": "code",
      "execution_count": null,
      "metadata": {
        "id": "tYl6A1zInObM"
      },
      "outputs": [],
      "source": [
        "experiment_name = \"eval-saved-llm-tool-use\"  # @param {type:\"string\"}\n",
        "\n",
        "tool_use_eval_task = EvalTask(\n",
        "    dataset=eval_dataset,\n",
        "    metrics=tool_metrics,\n",
        "    experiment=experiment_name,\n",
        ")"
      ]
    },
    {
      "cell_type": "code",
      "execution_count": null,
      "metadata": {
        "id": "l8U4KVzAhsP2"
      },
      "outputs": [],
      "source": [
        "run_id = generate_uuid()\n",
        "\n",
        "experiment_run_name = f\"eval-{run_id}\"\n",
        "\n",
        "eval_result = tool_use_eval_task.evaluate(experiment_run_name=experiment_run_name)\n",
        "display_eval_report(\n",
        "    (\n",
        "        \"Tool Use Quality Evaluation Metrics\",\n",
        "        eval_result.summary_metrics,\n",
        "        eval_result.metrics_table,\n",
        "    )\n",
        ")"
      ]
    },
    {
      "cell_type": "code",
      "execution_count": null,
      "metadata": {
        "id": "3WXnsT2qo-OD"
      },
      "outputs": [],
      "source": [
        "tool_use_eval_task.display_runs()"
      ]
    },
    {
      "cell_type": "markdown",
      "metadata": {
        "id": "oxow7GrIRgxo"
      },
      "source": [
        "## 2. Tool Use and Function Calling with Gemini\n",
        "\n",
        "[Function Calling Documentation](https://cloud.google.com/vertex-ai/generative-ai/docs/multimodal/function-calling)"
      ]
    },
    {
      "cell_type": "markdown",
      "metadata": {
        "id": "Ew82QX0QWxYa"
      },
      "source": [
        "### Define a function and tool\n",
        "\n",
        "Define an API specification and register the function in a tool with the latest version of [Vertex AI SDK for Python](https://cloud.google.com/vertex-ai/docs/python-sdk/use-vertex-ai-python-sdk).\n"
      ]
    },
    {
      "cell_type": "code",
      "execution_count": null,
      "metadata": {
        "id": "LiuafKieQgjF"
      },
      "outputs": [],
      "source": [
        "from vertexai.generative_models import FunctionDeclaration, Tool\n",
        "\n",
        "book_tickets_func = FunctionDeclaration(\n",
        "    name=\"book_tickets\",\n",
        "    description=\"Book movie tickets\",\n",
        "    parameters={\n",
        "        \"type\": \"object\",\n",
        "        \"properties\": {\n",
        "            \"movie\": {\"type\": \"string\", \"description\": \"The title of the movie.\"},\n",
        "            \"theater\": {\n",
        "                \"type\": \"string\",\n",
        "                \"description\": \"The name of the movie theater.\",\n",
        "            },\n",
        "            \"location\": {\n",
        "                \"type\": \"string\",\n",
        "                \"description\": \"The location of the movie theater.\",\n",
        "            },\n",
        "            \"showtime\": {\n",
        "                \"type\": \"string\",\n",
        "                \"description\": \"The showtime of the movie in ISO 8601 format.\",\n",
        "            },\n",
        "            \"date\": {\n",
        "                \"type\": \"string\",\n",
        "                \"description\": \"The date of the movie in ISO 8601 format.\",\n",
        "            },\n",
        "            \"num_tix\": {\n",
        "                \"type\": \"string\",\n",
        "                \"description\": \"The integer number of tickets to book.\",\n",
        "            },\n",
        "        },\n",
        "        \"required\": [\n",
        "            \"movie\",\n",
        "            \"theater\",\n",
        "            \"location\",\n",
        "            \"showtime\",\n",
        "            \"date\",\n",
        "            \"num_tix\",\n",
        "        ],\n",
        "    },\n",
        ")\n",
        "\n",
        "\n",
        "book_tickets_tool = Tool(\n",
        "    function_declarations=[book_tickets_func],\n",
        ")"
      ]
    },
    {
      "cell_type": "markdown",
      "metadata": {
        "id": "QQgreOFGXJNF"
      },
      "source": [
        "### Generate a function call\n",
        "\n",
        "Prompt the Gemini model and include the tool that you defined."
      ]
    },
    {
      "cell_type": "code",
      "execution_count": null,
      "metadata": {
        "id": "pNevmS2ngB0Z"
      },
      "outputs": [],
      "source": [
        "prompt = \"\"\"I'd like to book 2 tickets for the movie \"Mission Impossible Dead Reckoning Part 1\"\n",
        "at the Regal Edwards 14 theater in Mountain View, CA. The showtime is 7:30 PM on March 30th, 2024.\n",
        "\"\"\"\n",
        "\n",
        "gemini_model = GenerativeModel(\"gemini-1.5-pro\")\n",
        "\n",
        "gemini_response = gemini_model.generate_content(\n",
        "    prompt,\n",
        "    tools=[book_tickets_tool],\n",
        ")\n",
        "\n",
        "gemini_response.candidates[0].content"
      ]
    },
    {
      "cell_type": "markdown",
      "metadata": {
        "id": "lOAbbxFFXkdn"
      },
      "source": [
        "###  Unpack the Gemini response into a Python dictionary"
      ]
    },
    {
      "cell_type": "code",
      "execution_count": null,
      "metadata": {
        "id": "x84XHpuWXmu6"
      },
      "outputs": [],
      "source": [
        "def unpack_response(response):\n",
        "    output = {}\n",
        "    function_call = {}\n",
        "    for key, value in response.candidates[0].content.parts[0].to_dict().items():\n",
        "        function_call[key] = value\n",
        "    output[\"content\"] = \"\"\n",
        "    output[\"tool_calls\"] = [function_call[\"function_call\"]]\n",
        "    output[\"tool_calls\"][0][\"arguments\"] = output[\"tool_calls\"][0].pop(\"args\")\n",
        "    return json.dumps(output)\n",
        "\n",
        "\n",
        "response = unpack_response(gemini_response)\n",
        "response"
      ]
    },
    {
      "cell_type": "markdown",
      "metadata": {
        "id": "fsLT0B75aJYz"
      },
      "source": [
        "### Evaluate the Gemini's Function Call Response"
      ]
    },
    {
      "cell_type": "code",
      "execution_count": null,
      "metadata": {
        "id": "kgzK90mybqbK"
      },
      "outputs": [],
      "source": [
        "reference_str = json.dumps(\n",
        "    {\n",
        "        \"content\": \"\",\n",
        "        \"tool_calls\": [\n",
        "            {\n",
        "                \"name\": \"book_tickets\",\n",
        "                \"arguments\": {\n",
        "                    \"movie\": \"Mission Impossible Dead Reckoning Part 1\",\n",
        "                    \"theater\": \"Regal Edwards 14\",\n",
        "                    \"location\": \"Mountain View CA\",\n",
        "                    \"showtime\": \"7:30\",\n",
        "                    \"date\": \"2024-03-30\",\n",
        "                    \"num_tix\": \"2\",\n",
        "                },\n",
        "            }\n",
        "        ],\n",
        "    }\n",
        ")\n",
        "\n",
        "eval_dataset = pd.DataFrame({\"response\": [response], \"reference\": [reference_str]})"
      ]
    },
    {
      "cell_type": "code",
      "execution_count": null,
      "metadata": {
        "id": "ttRycKaCg6GG"
      },
      "outputs": [],
      "source": [
        "# Expected Tool Call Response\n",
        "json.loads(eval_dataset.reference[0])"
      ]
    },
    {
      "cell_type": "code",
      "execution_count": null,
      "metadata": {
        "id": "k5SmLtFAdVCh"
      },
      "outputs": [],
      "source": [
        "# Actual Gemini Tool Call Response\n",
        "json.loads(eval_dataset.response[0])"
      ]
    },
    {
      "cell_type": "code",
      "execution_count": null,
      "metadata": {
        "id": "gUqjfQH5aJE2"
      },
      "outputs": [],
      "source": [
        "experiment_name = \"eval-gemini-model-function-call\"  # @param {type:\"string\"}\n",
        "\n",
        "gemini_functiona_call_eval_task = EvalTask(\n",
        "    dataset=eval_dataset,\n",
        "    metrics=tool_metrics,\n",
        "    experiment=experiment_name,\n",
        ")"
      ]
    },
    {
      "cell_type": "code",
      "execution_count": null,
      "metadata": {
        "id": "r3MfX9QCZxHW"
      },
      "outputs": [],
      "source": [
        "run_id = generate_uuid()\n",
        "\n",
        "eval_result = gemini_functiona_call_eval_task.evaluate(\n",
        "    experiment_run_name=f\"eval-{run_id}\"\n",
        ")\n",
        "\n",
        "display_eval_report(\n",
        "    (\n",
        "        \"Gemini Tool Use Quality Evaluation Metrics\",\n",
        "        eval_result.summary_metrics,\n",
        "        eval_result.metrics_table,\n",
        "    )\n",
        ")"
      ]
    }
  ],
  "metadata": {
    "colab": {
      "name": "evaluate_gemini_tool_use.ipynb",
      "toc_visible": true
    },
    "kernelspec": {
      "display_name": "Python 3",
      "name": "python3"
    }
  },
  "nbformat": 4,
  "nbformat_minor": 0
}
