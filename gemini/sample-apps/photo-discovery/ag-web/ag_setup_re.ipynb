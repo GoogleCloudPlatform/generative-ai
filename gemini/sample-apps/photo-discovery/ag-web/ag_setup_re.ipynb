{
  "cells": [
    {
      "cell_type": "code",
      "execution_count": null,
      "metadata": {
        "id": "ijGzTHJJUCPY"
      },
      "outputs": [],
      "source": [
        "# Copyright 2024 Google LLC\n",
        "#\n",
        "# Licensed under the Apache License, Version 2.0 (the \"License\");\n",
        "# you may not use this file except in compliance with the License.\n",
        "# You may obtain a copy of the License at\n",
        "#\n",
        "#     https://www.apache.org/licenses/LICENSE-2.0\n",
        "#\n",
        "# Unless required by applicable law or agreed to in writing, software\n",
        "# distributed under the License is distributed on an \"AS IS\" BASIS,\n",
        "# WITHOUT WARRANTIES OR CONDITIONS OF ANY KIND, either express or implied.\n",
        "# See the License for the specific language governing permissions and\n",
        "# limitations under the License."
      ]
    },
    {
      "cell_type": "markdown",
      "metadata": {
        "id": "r11Gu7qNgx1p"
      },
      "source": [
        "# Building a photo recognition agent: Agent Engine setup\n",
        "\n",
        "This notebook shows how to setup the Agent Engine for the photo recognition agent demo"
      ]
    },
    {
      "cell_type": "markdown",
      "metadata": {
        "id": "No17Cw5hgx12"
      },
      "source": [
        "### Install Vertex AI SDK for Python\n",
        "\n",
        "Install the latest version of the Vertex AI SDK for Python as well as extra dependencies related to Agent Engine and LangChain:"
      ]
    },
    {
      "cell_type": "code",
      "execution_count": null,
      "metadata": {
        "id": "tFy3H3aPgx12"
      },
      "outputs": [],
      "source": [
        "%pip install --upgrade --quiet google-cloud-aiplatform[langchain,agent_engines]==1.83.0 google-cloud-discoveryengine==0.11.10"
      ]
    },
    {
      "cell_type": "markdown",
      "metadata": {
        "id": "R5Xep4W9lq-Z"
      },
      "source": [
        "### Restart current runtime\n",
        "\n",
        "To use the newly installed packages in this Jupyter runtime, you must restart the runtime. You can do this by running the cell below, which will restart the current kernel."
      ]
    },
    {
      "cell_type": "code",
      "execution_count": null,
      "metadata": {
        "id": "XRvKdaPDTznN"
      },
      "outputs": [
        {
          "data": {
            "text/plain": [
              "{'status': 'ok', 'restart': True}"
            ]
          },
          "execution_count": 2,
          "metadata": {},
          "output_type": "execute_result"
        }
      ],
      "source": [
        "# Restart kernel after installs so that your environment can access the new packages\n",
        "import IPython\n",
        "\n",
        "app = IPython.Application.instance()\n",
        "app.kernel.do_shutdown(True)"
      ]
    },
    {
      "cell_type": "markdown",
      "metadata": {
        "id": "SbmM4z7FOBpM"
      },
      "source": [
        "<div class=\"alert alert-block alert-warning\">\n",
        "<b>⚠️ The kernel is going to restart. Please wait until it is finished before continuing to the next step. ⚠️</b>\n",
        "</div>\n"
      ]
    },
    {
      "cell_type": "markdown",
      "metadata": {
        "id": "DF4l8DTdWgPY"
      },
      "source": [
        "### Set Google Cloud project information and initialize Vertex AI SDK\n",
        "\n",
        "To get started using Vertex AI, you must have an existing Google Cloud project and [enable the Vertex AI API](https://console.cloud.google.com/flows/enableapi?apiid=aiplatform.googleapis.com).\n",
        "\n",
        "Learn more about [setting up a project and a development environment](https://cloud.google.com/vertex-ai/docs/start/cloud-environment)."
      ]
    },
    {
      "cell_type": "code",
      "execution_count": null,
      "metadata": {
        "id": "Nqwi-5ufWp_B"
      },
      "outputs": [],
      "source": [
        "PROJECT_ID = \"<YOUR GOOGLE CLOUD PROJECT ID>\"  # @param {type:\"string\"}\n",
        "LOCATION = \"us-central1\"  # @param {type:\"string\"}\n",
        "STAGING_BUCKET = \"gs://<YOUR GCS BUCKET>\"  # @param {type:\"string\"}\n",
        "\n",
        "import vertexai\n",
        "\n",
        "vertexai.init(project=PROJECT_ID, location=LOCATION, staging_bucket=STAGING_BUCKET)"
      ]
    },
    {
      "cell_type": "markdown",
      "metadata": {
        "id": "gnGK_0Du4LD1"
      },
      "source": [
        "## Wikipedia Tool\n",
        "In this section, you'll define multiple Python functions that access the Wikipedia API. Later we'll use these Python functions as Tools in our Agent Engine agent."
      ]
    },
    {
      "cell_type": "markdown",
      "metadata": {
        "id": "TOJCaEOF4LD1"
      },
      "source": [
        "### Define functions for accessing the Wikipedia API"
      ]
    },
    {
      "cell_type": "code",
      "execution_count": null,
      "metadata": {
        "id": "go8KGzoa4LD1"
      },
      "outputs": [],
      "source": [
        "import requests\n",
        "\n",
        "\n",
        "# search for a wiki page\n",
        "def search_wiki_title(query):\n",
        "    url = f\"https://en.wikipedia.org/w/api.php?action=query&list=search&srsearch={query}&srlimit=1&format=json\"\n",
        "    resp = requests.get(url)\n",
        "    return resp.json()[\"query\"][\"search\"][0][\"title\"]\n",
        "\n",
        "\n",
        "# get full text of the wiki page\n",
        "def get_wiki_full_text(wiki_title):\n",
        "    # get the page\n",
        "    url = f\"https://en.wikipedia.org/w/api.php?action=query&prop=extracts&titles={wiki_title}&explaintext=true&format=json\"\n",
        "    response = requests.get(url)\n",
        "    data = response.json()\n",
        "\n",
        "    # extract plain text\n",
        "    page_id = next(iter(data[\"query\"][\"pages\"]))\n",
        "    plain_text = data[\"query\"][\"pages\"][page_id][\"extract\"]\n",
        "    return plain_text"
      ]
    },
    {
      "cell_type": "markdown",
      "metadata": {
        "id": "-YlC37yz4LD1"
      },
      "source": [
        "### Define Tool function for the Wikipedia API"
      ]
    },
    {
      "cell_type": "code",
      "execution_count": null,
      "metadata": {
        "id": "QfLgfINE4LD1"
      },
      "outputs": [],
      "source": [
        "# make a query on Wikipedia for a topic\n",
        "\n",
        "\n",
        "def query_with_wikipedia(\n",
        "    query: str = \"Fallingwater\",\n",
        "):\n",
        "    \"\"\"\n",
        "    Finds answer for any topic or object from Wikipedia and returns a dictionary containing the answer.\n",
        "\n",
        "    Args:\n",
        "        query: the name of object or topic to find.\n",
        "\n",
        "    Example: {\"answer\": \"Fallingwater is a house designed by the architect Frank Lloyd Wright in 1935.\"}\n",
        "    \"\"\"\n",
        "\n",
        "    wiki_title = search_wiki_title(query)  # calls Wikipedia API to get wiki page title\n",
        "    wiki_full_text = get_wiki_full_text(\n",
        "        wiki_title\n",
        "    )  # calls Wikipedia API to get full text\n",
        "\n",
        "    return {\"answer\": wiki_full_text}"
      ]
    },
    {
      "cell_type": "code",
      "execution_count": null,
      "metadata": {
        "id": "m5Ec-fkg4LD1"
      },
      "outputs": [
        {
          "data": {
            "text/plain": [
              "{'answer': 'Fallingwater is a house designed by the architect Frank Lloyd Wright in 1935. Situated in the Mill Run section of Stewart township, in the Laurel Highlands of southwest Pennsylvania, about 70 miles (110 km) southeast of Pittsburgh in the United States, it is built partly over a waterfall on the Bear Run river. The house was designed to serve as a weekend retreat for Liliane and Edgar J. Kaufmann, the owner of Pittsburgh\\'s Kaufmann\\'s Department Store.\\nAfter its completion, Time called Fallingwater Wright\\'s \"most beautiful job\" and it is listed among Smithsonian\\'s \"Life List of 28 Places to See Before You Die\". The house was designated a National Historic Landmark on May 11, 1976. In 1991, members of the American Institute of Architects (AIA) named Fallingwater the \"best all-time work of American architecture\" and in 2007, the AIA ranked it 29th on its list of America\\'s Favorite Architecture.\\nIn 2019, the house and seven other Wright constructions were inscribed as World Heritage Sites under the title, \"The 20th-Century Architecture of Frank Lloyd Wright\".\\n\\n\\n== History ==\\n\\nAt age 67, Frank Lloyd Wright was given the opportunity to design and construct three buildings. With his three works of the late 1930s, (Fallingwater, the Johnson Wax Building in Racine, Wisconsin, and the Herbert Jacobs house in Madison, Wisconsin), Wright regained his prominence in the architectural community.\\n\\n\\n=== The Kaufmanns ===\\nEdgar J. Kaufmann was a Pittsburgh businessman and president of Kaufmann\\'s Department Store. Liliane Kaufmann, like her husband, was a keen outdoors person; she enjoyed both hiking and horseback riding. She had a strong aesthetic sensibility which is reflected in the house\\'s design.\\nEdgar and Liliane\\'s only child, Edgar Kaufmann Jr., became the catalyst for his father\\'s relationship with Frank Lloyd Wright. In the summer of 1934, Kaufmann read Frank Lloyd Wright\\'s An Autobiography (1932) and traveled to meet him at his home in Wisconsin in late September. Within three weeks, he began an apprenticeship at the Taliesin Fellowship, a communal architecture program established in 1932 by Wright and his wife, Olgivanna. It was during a visit with their son at Taliesin in November 1934 that Edgar and Liliane Kaufmann first met Wright.\\nThe Kaufmanns lived in La Tourelle, a French Norman estate in Fox Chapel designed in 1923 by Pittsburgh architect Benno Janssen. However, the family also owned a remote property outside Pittsburgh—a small cabin near a waterfall—which was used as a summer retreat. When these cabins deteriorated, Kaufmann contacted Wright.\\nOn December 18, 1934, Wright visited Bear Run and asked for a survey of the area around the waterfall. One was prepared by Fayette Engineering Company of Uniontown, Pennsylvania, including all the site\\'s boulders, trees, and topography, and forwarded to Wright in March 1935.\\n\\n\\n=== Construction ===\\n\\nAs reported by Frank Lloyd Wright\\'s apprentices at Taliesin, Kaufmann was in Milwaukee on September 22, nine months after their initial meeting, and called Wright at home early Sunday morning to surprise him with the news that he would be visiting him that day. Wright had told Kaufmann in earlier communications that he had been making progress on the plans but in actuality, he had not done anything. After breakfast, amid a group of very nervous apprentices, Wright calmly drew the plans in the two hours in which it took Kaufmann to drive to Taliesin. Witnesses Edgar Tafel and Robert Mosher, Taliesin apprentices at the time, later stated that when Wright was designing the plans he spoke of how the spaces would be used, directly linking form to function.\\nWright designed the home above the waterfall: Kaufmann had expected it to be below the falls to afford a view of the cascades. It has been said that he was initially very upset with this change.\\nThe Kaufmanns planned to entertain large groups so the house needed to be larger than the original plot allowed. They also requested separate bedrooms as well as a bedroom for their adult son and an additional guest room. A cantilevered structure was used to address these requests. The structural design for Fallingwater was undertaken by Wright in association with staff engineers Mendel Glickman and William Wesley Peters, who had been responsible for the columns in Wright\\'s revolutionary design for the Johnson Wax Headquarters.\\nPreliminary plans were issued to Kaufmann for approval on October 15, 1935, after which Wright made an additional visit to the site to generate a cost estimate for the job. In December 1935, an old rock quarry was reopened to the west of the site to provide the stones needed for the house\\'s walls. Wright visited only periodically during construction, assigning his apprentice Robert Mosher as his permanent on-site representative. The final drawings were issued by Wright in March 1936 with work beginning on the bridge and main house in April.\\nThe construction was plagued by conflicts between Wright, Kaufmann, and the contractor. Uncomfortable with what he saw as Wright\\'s insufficient experience using reinforced concrete, Kaufmann had the architect\\'s daring cantilever design reviewed by a firm of consulting engineers. Upon receiving their report, Wright took offense, immediately requesting that Kaufmann return his drawings and indicating that he was withdrawing from the project. Kaufmann relented to Wright\\'s gambit and the engineer\\'s report was subsequently buried within a stone wall of the house.\\nFor the cantilevered floors, Wright and his team used upside-down T-shaped beams integrated into a monolithic concrete slab which formed both the ceiling of the space below and provided resistance against compression. The contractor, Walter Hall, also an engineer, produced independent computations and argued for increasing the reinforcing steel in the first floor\\'s slab—Wright refused the suggestion. There was speculation over the years that the contractor quietly doubled the amount of reinforcement versus Kaufmann\\'s consulting engineers doubling the amount of steel specified by Wright. During the process of restoration begun in 1995, it was confirmed that additional concrete reinforcement had been added.\\nIn addition, the contractor did not build in a slight upward incline in the formwork for the cantilever to compensate for its settling and deflection. Once the formwork was removed, the cantilever developed a noticeable sag. Upon learning of the unapproved steel addition, Wright recalled Mosher. With Kaufmann\\'s approval, the consulting engineers had a supporting wall installed under the main supporting beam for the west terrace. When Wright discovered it on a site visit, he had Mosher discreetly remove the top course of stones. When Kaufmann later confessed to what had been done, Wright showed him what Mosher had done and pointed out that the cantilever had held up for the past month under test loads without the wall\\'s support.\\nThe main house was completed in 1938 and the guest house was completed the following year.\\n\\n\\n=== Cost ===\\nThe original estimated cost for building Fallingwater was $35,000. The final cost for the home and guest house was $155,000, which included $75,000 for the house; $22,000 for finishings and furnishings; $50,000 for the guest house, garage and servants\\' quarters; and an $8,000 architect\\'s fee. From 1938 through 1941, more than $22,000 was spent on additional details and for changes in the hardware and lighting.\\nThe total cost of $155,000, adjusted for inflation, is equivalent to about $3.4 million in 2023. The cost of the house\\'s restoration in 2001 was estimated to be $11.5 million (approximately $19.8 million in 2023).\\n\\n\\n=== Usage ===\\nFallingwater was the Kaufmann family\\'s weekend home from 1937 until 1963, when Edgar Kaufmann Jr. donated the property to the Western Pennsylvania Conservancy. The family retreated to Fallingwater on weekends to escape the heat and smoke of industrial Pittsburgh. Liliane enjoyed swimming in the nude and collecting modern art, especially the works of Diego Rivera, who was a guest at the country house.\\n\\n[Wright] understood that people were creatures of nature, hence an architecture which conformed to nature would conform to what was basic in people. For example, although all of Falling Water [sic] is opened by broad bands of windows, people inside are sheltered as in a deep cave, secure in the sense of the hill behind them.\\n\\n\\n=== Name ===\\nThe \"Fallingwater\" name originated with Wright in late 1937, when he wrote the text that accompanied a feature article on Wright\\'s career in the January 1938 Architectural Forum. Until that time it had been referred to on Wright\\'s drawings and in correspondence as the E.J. Kaufmann Residence or E.J. Kaufmann House, the names used in publications covering the house\\'s construction. The new name immediately became popular, and was amplified by a 1938 exhibition at the Museum of Modern Art and in Henry Luce\\'s popular magazines Time and Life. The name was apparently disliked by E.J. and Liliane Kaufmann, who did not use it.\\n\\n\\n== Design ==\\n\\nFallingwater has been described as an architectural tour de force of Wright\\'s organic architecture. The building includes Japanese architectural details because of Wright\\'s love of Japanese architecture. Contemporary Japanese architect Tadao Ando has said of the house:\\n\\nI think Wright learned the most important aspect of architecture, the treatment of space, from Japanese architecture. When I visited Fallingwater in Pennsylvania, I found that same sensibility of space. But there was the additional sounds of nature that appealed to me.\\nThe private residence was intended to be a nature retreat for its owners. It is built on top of an active waterfall that flows beneath the house. Wright had initially planned to have the house blend into its natural settings in rural Pennsylvania. In doing so, he limited his palette to two colors, a light ocher for the concrete and his signature Cherokee red for the steel. The stone walls (made of stone from local quarries) and cantilevered terraces was intended to resemble the nearby rock formations, while the windows and balconies extended into their surroundings. In conformance with Wright\\'s views, the main entry door is away from the falls.\\nThe fireplace hearth in the living room integrates boulders found on the site upon which the house was built—a ledge rock which protrudes up to a foot through the living room floor was left in place to link the outside with the inside. Wright had initially intended that the ledge be cut flush with the floor but this had been one of the family\\'s favorite sunning spots, so Kaufmann suggested that it be left as it was. The stone floors are waxed while the hearth is left plain, giving the impression of dry rocks protruding from a stream.\\nEven with smaller details, Wright tried to integrate the exterior and interior designs. Where glass meets stone walls, the glass and its horizontal dividers were run into a caulked recess in the stonework so that the stone walls appear uninterrupted by glazing. From the cantilevered living room, a stairway leads directly down to an isolated platform at the stream below. A connecting space which connects the main house with the guest and servant level, a natural spring drips water inside, which is then channeled back out. Bedrooms are small, some with low ceilings; this was intended to encourage people outward toward the open social areas, decks, and outdoors.\\nOn the hillside above the main house stands a four-bay carport, servants\\' quarters, and a guest house. These attached outbuildings were built two years later using the same quality of materials and attention to detail as the main house. The guest quarters feature a spring-fed swimming pool which overflows and drains to the river below. After Fallingwater was deeded to the public, three carport bays were enclosed at the direction of Kaufmann Jr. to be used by museum visitors to view a presentation at the end of their guided tours on the Western Pennsylvania Conservancy (to which the home was entrusted). Kaufmann Jr. designed its interior himself to specifications found in other Fallingwater interiors by Wright.\\nA model of the house was featured at the Museum of Modern Art in 2009.\\n\\n\\n== Western Pennsylvania Conservancy ==\\n\\nAfter his father\\'s death in 1955, Kaufmann Jr. inherited Fallingwater, continuing to use it as a weekend retreat until the early 1960s. Increasingly concerned with ensuring Fallingwater\\'s preservation and following his father\\'s wishes, he entrusted the home and approximately 1,500 acres of land to the Western Pennsylvania Conservancy in tribute to his parents. He guided the organization\\'s thinking about Fallingwater\\'s administration, care, and educational programming and was a frequent visitor as guided tours began in 1964. Kaufmann\\'s partner, architect and designer Paul Mayén, also contributed to the legacy of Fallingwater with a design for the visitor center, completed in 1981. The house attracts more than 160,000 visitors from around the world each year.\\n\\n\\n=== Preservation ===\\n\\nFallingwater had shown signs of deterioration over the past 80 years due in large part to its exposure to humidity and sunlight. The severe freeze-thaw conditions of southwest Pennsylvania and water infiltration also affected the structural materials. Because of these conditions, a thorough cleaning of the exterior stone walls is performed periodically.\\nFallingwater\\'s six bathrooms are lined with cork tiles. When used as a flooring material, the cork tiles were hand-waxed, giving them a shiny finish that supplemented their natural ability to repel water. Over time the cork has begun to show water damage, requiring the Conservancy to make frequent repairs.\\nIn addition, Fallingwater\\'s structural system includes a series of very bold reinforced concrete cantilevered balconies. Pronounced deflection of the concrete cantilevers was noticed as soon as the formwork was removed during construction. This deflection increased over time, eventually reaching 7 inches (180 mm) over a 15 foot (4.6 m) span.\\nIn 1995, the Western Pennsylvania Conservancy commissioned a study of the site\\'s structural integrity. Structural engineers analyzed the movement of the cantilevers over time and conducted radar analysis to locate and quantify the reinforcement. The data proved the contractor had indeed added reinforcement over Wright\\'s plan; nevertheless, the cantilevers were still insufficiently reinforced. Both the concrete and its steel reinforcement were close to their failure limits. An architectural firm was hired to fix the problem beginning with the installation of temporary girders in 1997.\\nIn 2002, the structure was repaired permanently using post-tensioning. The living room flagstone floor blocks were individually tagged and removed. Blocks were joined to the concrete cantilever beams and floor joists; high-strength steel cables were fed through the blocks and exterior concrete walls and tightened using jacks. The floors and walls were then restored, leaving Fallingwater\\'s interior and exterior appearance unchanged. As of 2011, the cantilevers have sufficient support and the deflection has stopped. The Conservancy continues to monitor movement in the cantilevers.\\n\\n\\n== Depictions in popular culture ==\\nFallingwater inspired the fictional Vandamm residence at Mount Rushmore in the 1959 Alfred Hitchcock film North by Northwest.\\nComposer Michael Daugherty\\'s 2013 concerto for violin and string orchestra, \"Fallingwater\", was inspired by the house.\\nThe cover of Autechre\\'s EP Envane traces and stylizes parts of the building.\\nPeter Blume\\'s painting, The Rock, also commissioned by Liliane and Edgar Kaufmann, and now in the collection of the Art Institute of Chicago depicts a construction scene reminiscent of the construction of Fallingwater.\\nIn Neal Shusterman\\'s Arc of a Scythe book series, Scythes Marie Curie and Anastasia live at Fallingwater, which before their residency fell out of the public consciousness and into disrepair.\\nEpisode 16 of the anime series Eureka Seven includes a replica of Fallingwater hidden in a cave.\\nFallingwater appears in a cartoon of the story \"Amelia e la pietra pantarba\" on Topolino #2043, the long-running Italian Disney magazine. The house of the witch is turned into Fallingwater by a spell before turning back to its normal appearance.\\nThe design is pastiched in the 1979 animated package film The Bugs Bunny/Road Runner Movie.\\nThe final chapter of the Dan Simmons science-fiction novel Endymion follows the characters visiting Fallingwater in the 31st century.\\nFallingwater is referenced in the song \"Mamah Borthwick (A Sketch)\" by singer Conor Oberst on his album Salutations.\\nLego Architecture released a 811 piece construction model set of the building in 2009.\\nFallingwater appears in season 18 episode 3 of The Simpsons, the long-running animated series. Following Homer Simpson\\'s antics, Marge Simpson learns carpentry and builds a birdhouse depicting Fallingwater, along with other notable architectural achievements.\\nThe house was used as a model for the residence of Joji Saiga, a former psychology professor in the psychological anime series Psycho-Pass.\\nThe conclusion of Greg Sestero\\'s directorial debut Miracle Valley was shot inside of Fallingwater. This is the first feature film to ever shoot in the house.\\n\\n\\n== See also ==\\n\\nKaufmann Desert House, another Kaufmann residence\\nKentuck Knob, another Wright-designed residence in the same area\\nList of Frank Lloyd Wright works\\n\\n\\n== References ==\\n\\nStorrer, William Allin. The Frank Lloyd Wright Companion. University of Chicago Press, 2006, ISBN 0-226-77621-2 (S.230)\\n\\n\\n=== Bibliography ===\\nTrapp, Frank (1987). Peter Blume. Rizzoli, New York.\\nHoffmann, Donald (1993). Frank Lloyd Wright\\'s Fallingwater: The House and Its History (2nd ed.). Dover Publications. ISBN 0-486-27430-6.\\nBrand, Stewart (1995). How Buildings Learn: What Happens After They\\'re Built. Penguin Books. ISBN 0-14-013996-6.\\nMcCarter, Robert (2002). Fallingwater Aid (Architecture in Detail). Phaidon Press. ISBN 0-7148-4213-3.\\n\\n\\n== Further reading ==\\nDonald Hoffman, Fallingwater: The House and Its History (Dover Publications, 1993)\\nEdgar Kaufmann Jr., Fallingwater: A Frank Lloyd Wright Country House (Abbeville Press 1986)\\nRobert McCarter, Fallingwater Aid (Architecture in Detail) (Phaidon Press 2002)\\nFranklin Toker, Fallingwater Rising: Frank Lloyd Wright, E. J. Kaufmann, and America\\'s Most Extraordinary House (Knopf, 2005)\\nLynda S. Waggoner and the Western Pennsylvania Conservancy, Fallingwater: Frank Lloyd Wright\\'s Romance With Nature (Universe Publishing 1996)\\n\\n\\n== External links ==\\n\\nOfficial website\\nWestern Pennsylvania Conservancy website\\nArchitectural Record article\\nPittsburgh Post-Gazette article Archived March 2, 2016, at the Wayback Machine\\nNational Register nomination form\\nA virtual reality model of the exterior and landscape on Sketchfab'}"
            ]
          },
          "execution_count": 4,
          "metadata": {},
          "output_type": "execute_result"
        }
      ],
      "source": [
        "query_with_wikipedia()"
      ]
    },
    {
      "cell_type": "markdown",
      "metadata": {
        "id": "qkjkFJHg4LD1"
      },
      "source": [
        "## Vertex AI Search Tool\n",
        "In this section, it will define a Tool for calling the /ask_gms on the Cloud Run for making a query with the Google Merch Shop dataset on Vertex AI Search. So, before using this Tool, you need to deploy the Run instance with /ag-web/app/deploy.sh ."
      ]
    },
    {
      "cell_type": "markdown",
      "metadata": {
        "id": "oCu-ih3W4LD2"
      },
      "source": [
        "### Define Tool function for Vertex AI Search\n",
        "\n",
        "The Cloud Run host name can be found on Console > Cloud Run > ag-web > URL at the top"
      ]
    },
    {
      "cell_type": "code",
      "execution_count": null,
      "metadata": {
        "id": "A2x4OEIg4LD2"
      },
      "outputs": [],
      "source": [
        "from vertexai import agent_engines\n",
        "from vertexai.preview import reasoning_engines\n",
        "\n",
        "GOOGLE_SHOP_VERTEXAI_SEARCH_URL = (\n",
        "    \"https://ag-web-nhhfh7g7iq-uc.a.run.app/ask_gms\"  # please change\n",
        ")"
      ]
    },
    {
      "cell_type": "code",
      "execution_count": null,
      "metadata": {
        "id": "7nPD25EK4LD2"
      },
      "outputs": [],
      "source": [
        "def find_product_from_googleshop(product_name: str, product_description: str):\n",
        "    \"\"\"\n",
        "    Find a product with the product_name and product_description from\n",
        "    Google Merch Shop and returns a dictionary containing product details.\n",
        "    \"\"\"\n",
        "\n",
        "    params = {\"query\": product_name + \" \" + product_description}\n",
        "    response = requests.get(\n",
        "        GOOGLE_SHOP_VERTEXAI_SEARCH_URL, params\n",
        "    )  # calls Vertex AI Search\n",
        "    item = response.json()\n",
        "    productDetails = f\"\"\"\n",
        "        {item['gms_name']} is a product sold at Google Merch Shop. The price is {item['price']}.\n",
        "        {item['gms_desc']}. You can buy the product at their web site: {item['link']}\"\n",
        "    \"\"\"\n",
        "\n",
        "    return {\"productDetails\": productDetails}"
      ]
    },
    {
      "cell_type": "markdown",
      "metadata": {
        "id": "xVjNIewU4LD2"
      },
      "source": [
        "## Define and deploy the Agent\n",
        "In this section, it creates an agent with the Wikipedia Tool and Search Tool, and deploy it to the Agent Engine runtime.\n",
        "\n",
        "### Define the agent"
      ]
    },
    {
      "cell_type": "code",
      "execution_count": null,
      "metadata": {
        "id": "zbJXWoiZ4LD2"
      },
      "outputs": [],
      "source": [
        "model_name = \"gemini-1.5-pro-001\"\n",
        "agent = reasoning_engines.LangchainAgent(\n",
        "    model=model_name,\n",
        "    tools=[query_with_wikipedia, find_product_from_googleshop],\n",
        "    agent_executor_kwargs={\"return_intermediate_steps\": True},\n",
        ")"
      ]
    },
    {
      "cell_type": "markdown",
      "metadata": {
        "id": "Bv8YYxGH4LD2"
      },
      "source": [
        "### Test it locally"
      ]
    },
    {
      "cell_type": "code",
      "execution_count": null,
      "metadata": {
        "id": "TylY4MDX4LD2"
      },
      "outputs": [
        {
          "data": {
            "text/plain": [
              "{'input': 'Google Bike Enamel Pin. where can i buy it? Write the answer in plaintext.',\n",
              " 'output': 'You can buy the Google Bike Enamel Pin at the Google Merch Shop. The product details from Google Merch Shop are: \\n\\nGoogle Bike Enamel Pin is a product sold at Google Merch Shop. The price is 8.00 USD. \\n        Add a happy touch to your look with one of the coolest things on two wheels... a Google bike!  In pin form, you can take this one everywhere. measures: 1.75 \\nmade from iron\\nmilitary clutch backing. You can buy the product at their web site: https://shop.merch.google/product/google-bike-enamel-pin-ggoegcba207399/\\n',\n",
              " 'intermediate_steps': [[{'lc': 1,\n",
              "    'type': 'constructor',\n",
              "    'id': ['langchain', 'schema', 'agent', 'ToolAgentAction'],\n",
              "    'kwargs': {'tool': 'find_product_from_googleshop',\n",
              "     'tool_input': {'product_name': 'Google Bike Enamel Pin',\n",
              "      'product_description': ''},\n",
              "     'log': \"\\nInvoking: `find_product_from_googleshop` with `{'product_name': 'Google Bike Enamel Pin', 'product_description': ''}`\\n\\n\\n\",\n",
              "     'type': 'AgentActionMessageLog',\n",
              "     'message_log': [{'lc': 1,\n",
              "       'type': 'constructor',\n",
              "       'id': ['langchain', 'schema', 'messages', 'AIMessageChunk'],\n",
              "       'kwargs': {'content': '',\n",
              "        'additional_kwargs': {'function_call': {'name': 'find_product_from_googleshop',\n",
              "          'arguments': '{\"product_name\": \"Google Bike Enamel Pin\", \"product_description\": \"\"}'}},\n",
              "        'response_metadata': {'is_blocked': False,\n",
              "         'safety_ratings': [{'category': 'HARM_CATEGORY_HATE_SPEECH',\n",
              "           'probability_label': 'NEGLIGIBLE',\n",
              "           'blocked': False},\n",
              "          {'category': 'HARM_CATEGORY_DANGEROUS_CONTENT',\n",
              "           'probability_label': 'NEGLIGIBLE',\n",
              "           'blocked': False},\n",
              "          {'category': 'HARM_CATEGORY_HARASSMENT',\n",
              "           'probability_label': 'NEGLIGIBLE',\n",
              "           'blocked': False},\n",
              "          {'category': 'HARM_CATEGORY_SEXUALLY_EXPLICIT',\n",
              "           'probability_label': 'NEGLIGIBLE',\n",
              "           'blocked': False}]},\n",
              "        'type': 'AIMessageChunk',\n",
              "        'id': 'run-1439d061-9cd5-4dc3-990d-72dfbc898c1b',\n",
              "        'tool_calls': [{'name': 'find_product_from_googleshop',\n",
              "          'args': {'product_name': 'Google Bike Enamel Pin',\n",
              "           'product_description': ''},\n",
              "          'id': '8edb3a6c-cbbc-4305-ba4e-45ed0e84b1ca'}],\n",
              "        'tool_call_chunks': [{'name': 'find_product_from_googleshop',\n",
              "          'args': '{\"product_name\": \"Google Bike Enamel Pin\", \"product_description\": \"\"}',\n",
              "          'id': '8edb3a6c-cbbc-4305-ba4e-45ed0e84b1ca',\n",
              "          'index': None}],\n",
              "        'invalid_tool_calls': []}}],\n",
              "     'tool_call_id': '8edb3a6c-cbbc-4305-ba4e-45ed0e84b1ca'}},\n",
              "   {'productDetails': '\\n        Google Bike Enamel Pin is a product sold at Google Merch Shop. The price is 8.00 USD. \\n        Add a happy touch to your look with one of the coolest things on two wheels... a Google bike!  In pin form, you can take this one everywhere. measures:\\xa0 1.75 \\nmade from iron\\nmilitary clutch backing. You can buy the product at their web site: https://shop.merch.google/product/google-bike-enamel-pin-ggoegcba207399/\"\\n    '}]]}"
            ]
          },
          "execution_count": 8,
          "metadata": {},
          "output_type": "execute_result"
        }
      ],
      "source": [
        "# input_text = \"Google Dino Pin. A collectible enamel pin featuring the iconic Lonely T-Rex dinosaur from the Google Chrome browser offline error page. Great product.\"\n",
        "# input_text = \"Google Bike Enamel Pin. This is a collectible lapel pin featuring a colorful bicycle with a basket, likely representing Google's company culture and its promotion of cycling as a sustainable mode of transportation.\"\n",
        "# input_text = \"Android Pen. This is a blue ballpoint pen featuring the Android logo. It appears to be a promotional or branded item associated with the Android operating system\"\n",
        "# input_text = \"Google Chrome Dinosaur Game Pin. where can i buy it? Write the answer in plaintext.\"\n",
        "input_text = (\n",
        "    \"Google Bike Enamel Pin. where can i buy it? Write the answer in plaintext.\"\n",
        ")\n",
        "agent.query(input=input_text)"
      ]
    },
    {
      "cell_type": "markdown",
      "metadata": {
        "id": "Gpz4arAz4LD2"
      },
      "source": [
        "### Deploy the Agent to the Agent Engine runtime"
      ]
    },
    {
      "cell_type": "code",
      "execution_count": null,
      "metadata": {
        "id": "r1kDkwQk4LD2"
      },
      "outputs": [
        {
          "name": "stdout",
          "output_type": "stream",
          "text": [
            "INFO:vertexai.agent_engines:Using bucket gcp-samples-ic0-ag\n",
            "INFO:vertexai.agent_engines:Writing to gs://gcp-samples-ic0-ag/agent_engine/agent_engine.pkl\n",
            "INFO:vertexai.agent_engines:Writing to gs://gcp-samples-ic0-ag/agent_engine/requirements.txt\n",
            "INFO:vertexai.agent_engines:Creating in-memory tarfile of extra_packages\n",
            "INFO:vertexai.agent_engines:Writing to gs://gcp-samples-ic0-ag/agent_engine/dependencies.tar.gz\n",
            "INFO:vertexai.agent_engines:Creating AgentEngine\n",
            "INFO:vertexai.agent_engines:Create AgentEngine backing LRO: projects/761793285222/locations/us-central1/reasoningEngines/6978222069494317056/operations/8418596355013869568\n",
            "INFO:vertexai.agent_engines:AgentEngine created. Resource name: projects/761793285222/locations/us-central1/reasoningEngines/6978222069494317056\n",
            "INFO:vertexai.agent_engines:To use this AgentEngine in another session:\n",
            "INFO:vertexai.agent_engines:agent_engine = vertexai.agent_engines.get('projects/761793285222/locations/us-central1/reasoningEngines/6978222069494317056')\n"
          ]
        }
      ],
      "source": [
        "remote_agent = agent_engines.create(\n",
        "    agent,\n",
        "    requirements=[\n",
        "        \"google-cloud-aiplatform[langchain,agent_engines]\",\n",
        "        \"requests\",\n",
        "    ],\n",
        ")"
      ]
    },
    {
      "cell_type": "markdown",
      "metadata": {
        "id": "q_8ZKk224LD2"
      },
      "source": [
        "### Test it"
      ]
    },
    {
      "cell_type": "code",
      "execution_count": null,
      "metadata": {
        "id": "Hu5J03O_4LD2"
      },
      "outputs": [],
      "source": [
        "remote_agent.query(input=\"What is Google Bike Enamel Pin?\")"
      ]
    },
    {
      "cell_type": "code",
      "execution_count": null,
      "metadata": {
        "id": "ubi3lMBU4LD2"
      },
      "outputs": [],
      "source": [
        "remote_agent.query(input=\"What is Fallingwater?\")"
      ]
    }
  ],
  "metadata": {
    "colab": {
      "name": "ag_setup_re.ipynb",
      "toc_visible": true
    },
    "kernelspec": {
      "display_name": "Python 3",
      "name": "python3"
    }
  },
  "nbformat": 4,
  "nbformat_minor": 0
}
