{
 "cells": [
  {
   "cell_type": "code",
   "execution_count": 1,
   "metadata": {},
   "outputs": [],
   "source": [
    "# Copyright 2025 Google LLC\n",
    "#\n",
    "# Licensed under the Apache License, Version 2.0 (the \"License\");\n",
    "# you may not use this file except in compliance with the License.\n",
    "# You may obtain a copy of the License at\n",
    "#\n",
    "#     https://www.apache.org/licenses/LICENSE-2.0\n",
    "#\n",
    "# Unless required by applicable law or agreed to in writing, software\n",
    "# distributed under the License is distributed on an \"AS IS\" BASIS,\n",
    "# WITHOUT WARRANTIES OR CONDITIONS OF ANY KIND, either express or implied.\n",
    "# See the License for the specific language governing permissions and\n",
    "# limitations under the License."
   ]
  },
  {
   "cell_type": "markdown",
   "metadata": {},
   "source": [
    "# Constructing a LangGraphAgent"
   ]
  },
  {
   "cell_type": "markdown",
   "metadata": {},
   "source": [
    "| | |\n",
    "|-|-|\n",
    "|Author(s) | [Pablo Gaeta](https://github.com/pablofgaeta) |"
   ]
  },
  {
   "cell_type": "markdown",
   "metadata": {},
   "source": [
    "## Overview\n",
    "\n",
    "This notebook demonstrates the necessary code to transform any LangGraph graph into a `LangGraphAgent` using the `concierge.langgraph_server` module.\n",
    "\n",
    "This is a useful interactive way to develop agents before deploying them on a server."
   ]
  },
  {
   "cell_type": "markdown",
   "metadata": {},
   "source": [
    "## Import dependencies"
   ]
  },
  {
   "cell_type": "code",
   "execution_count": 2,
   "metadata": {},
   "outputs": [],
   "source": [
    "import uuid\n",
    "import asyncio\n",
    "from typing import TypedDict\n",
    "\n",
    "from langgraph import types, graph\n",
    "\n",
    "from concierge.langgraph_server import langgraph_agent, schemas"
   ]
  },
  {
   "cell_type": "markdown",
   "metadata": {},
   "source": [
    "## Define graph state schema and simple graph implementation"
   ]
  },
  {
   "cell_type": "code",
   "execution_count": 3,
   "metadata": {},
   "outputs": [],
   "source": [
    "# State schema\n",
    "\n",
    "\n",
    "class State(TypedDict, total=False):\n",
    "    id: str\n",
    "\n",
    "\n",
    "# Node functions\n",
    "\n",
    "\n",
    "async def set_id(state: State):\n",
    "    new_id = state.get(\"id\")\n",
    "    assert new_id is not None, \"must set ID\"\n",
    "\n",
    "    await asyncio.sleep(1)\n",
    "    return types.Command(update=State(id=new_id), goto=\"REVERSE_ID\")\n",
    "\n",
    "\n",
    "async def reverse_id(state: State):\n",
    "    new_id = state.get(\"id\")\n",
    "    assert new_id is not None, \"ID must be set before reversing\"\n",
    "\n",
    "    await asyncio.sleep(1)\n",
    "    return types.Command(update=State(id=new_id[::-1]))\n",
    "\n",
    "\n",
    "# Graph\n",
    "\n",
    "state_graph = graph.StateGraph(state_schema=State)\n",
    "state_graph.add_node(\"SET_ID\", set_id)\n",
    "state_graph.add_node(\"REVERSE_ID\", reverse_id)\n",
    "state_graph.set_entry_point(\"SET_ID\");"
   ]
  },
  {
   "cell_type": "markdown",
   "metadata": {},
   "source": [
    "## Build a _stateful_ agent"
   ]
  },
  {
   "cell_type": "code",
   "execution_count": 4,
   "metadata": {},
   "outputs": [],
   "source": [
    "basic_agent = langgraph_agent.LangGraphAgent(\n",
    "    state_graph=state_graph,\n",
    "    checkpointer_config=schemas.MemoryBackendConfig(),\n",
    ")"
   ]
  },
  {
   "cell_type": "markdown",
   "metadata": {},
   "source": [
    "**Test**: Run a query in debug stream mode"
   ]
  },
  {
   "cell_type": "code",
   "execution_count": 5,
   "metadata": {},
   "outputs": [
    {
     "name": "stdout",
     "output_type": "stream",
     "text": [
      "('debug', {'type': 'checkpoint', 'timestamp': '2025-03-31T17:23:05.184735+00:00', 'step': -1, 'payload': {'config': {'tags': [], 'metadata': {'thread_id': 'b91410cd74b34b6092deebd0bcbe7ef6'}, 'callbacks': None, 'recursion_limit': 25, 'configurable': {'checkpoint_ns': '', 'agent_config': {}, 'thread_id': 'b91410cd74b34b6092deebd0bcbe7ef6', 'checkpoint_id': '1f00e54c-e6e1-62e8-bfff-763f424dc8bb'}}, 'parent_config': None, 'values': {}, 'metadata': {'source': 'input', 'writes': {'__start__': {'id': 'hello'}}, 'thread_id': 'b91410cd74b34b6092deebd0bcbe7ef6', 'step': -1, 'parents': {}}, 'next': ['__start__'], 'tasks': [{'id': '193221f5-c915-43c9-5392-21797217efed', 'name': '__start__', 'interrupts': (), 'state': None}]}})\n",
      "('debug', {'type': 'checkpoint', 'timestamp': '2025-03-31T17:23:05.185977+00:00', 'step': 0, 'payload': {'config': {'tags': [], 'metadata': {'thread_id': 'b91410cd74b34b6092deebd0bcbe7ef6'}, 'callbacks': None, 'recursion_limit': 25, 'configurable': {'checkpoint_ns': '', 'agent_config': {}, 'thread_id': 'b91410cd74b34b6092deebd0bcbe7ef6', 'checkpoint_id': '1f00e54c-e6e4-63a8-8000-bb982544d2c9'}}, 'parent_config': {'tags': [], 'metadata': {'thread_id': 'b91410cd74b34b6092deebd0bcbe7ef6'}, 'callbacks': None, 'recursion_limit': 25, 'configurable': {'checkpoint_ns': '', 'agent_config': {}, 'thread_id': 'b91410cd74b34b6092deebd0bcbe7ef6', 'checkpoint_id': '1f00e54c-e6e1-62e8-bfff-763f424dc8bb'}}, 'values': {'id': 'hello'}, 'metadata': {'source': 'loop', 'writes': None, 'thread_id': 'b91410cd74b34b6092deebd0bcbe7ef6', 'step': 0, 'parents': {}}, 'next': ['SET_ID'], 'tasks': [{'id': '9013ab28-7795-1031-d00a-6466fb208aa7', 'name': 'SET_ID', 'interrupts': (), 'state': None}]}})\n",
      "('debug', {'type': 'task', 'timestamp': '2025-03-31T17:23:05.186082+00:00', 'step': 1, 'payload': {'id': '9013ab28-7795-1031-d00a-6466fb208aa7', 'name': 'SET_ID', 'input': {'id': 'hello'}, 'triggers': ('branch:to:SET_ID', 'start:SET_ID')}})\n",
      "('debug', {'type': 'task_result', 'timestamp': '2025-03-31T17:23:06.191857+00:00', 'step': 1, 'payload': {'id': '9013ab28-7795-1031-d00a-6466fb208aa7', 'name': 'SET_ID', 'error': None, 'result': [('id', 'hello')], 'interrupts': []}})\n",
      "('debug', {'type': 'checkpoint', 'timestamp': '2025-03-31T17:23:06.192249+00:00', 'step': 1, 'payload': {'config': {'tags': [], 'metadata': {'thread_id': 'b91410cd74b34b6092deebd0bcbe7ef6'}, 'callbacks': None, 'recursion_limit': 25, 'configurable': {'checkpoint_ns': '', 'agent_config': {}, 'thread_id': 'b91410cd74b34b6092deebd0bcbe7ef6', 'checkpoint_id': '1f00e54c-f07c-6fa0-8001-8c6836e275c1'}}, 'parent_config': {'tags': [], 'metadata': {'thread_id': 'b91410cd74b34b6092deebd0bcbe7ef6'}, 'callbacks': None, 'recursion_limit': 25, 'configurable': {'checkpoint_ns': '', 'agent_config': {}, 'thread_id': 'b91410cd74b34b6092deebd0bcbe7ef6', 'checkpoint_id': '1f00e54c-e6e4-63a8-8000-bb982544d2c9'}}, 'values': {'id': 'hello'}, 'metadata': {'source': 'loop', 'writes': {'SET_ID': {'id': 'hello'}}, 'thread_id': 'b91410cd74b34b6092deebd0bcbe7ef6', 'step': 1, 'parents': {}}, 'next': ['REVERSE_ID'], 'tasks': [{'id': 'a955c683-7e48-8f3e-518e-ecde9f6f17b7', 'name': 'REVERSE_ID', 'interrupts': (), 'state': None}]}})\n",
      "('debug', {'type': 'task', 'timestamp': '2025-03-31T17:23:06.192611+00:00', 'step': 2, 'payload': {'id': 'a955c683-7e48-8f3e-518e-ecde9f6f17b7', 'name': 'REVERSE_ID', 'input': {'id': 'hello'}, 'triggers': ('branch:to:REVERSE_ID',)}})\n",
      "('debug', {'type': 'task_result', 'timestamp': '2025-03-31T17:23:07.196007+00:00', 'step': 2, 'payload': {'id': 'a955c683-7e48-8f3e-518e-ecde9f6f17b7', 'name': 'REVERSE_ID', 'error': None, 'result': [('id', 'olleh')], 'interrupts': []}})\n",
      "('debug', {'type': 'checkpoint', 'timestamp': '2025-03-31T17:23:07.196188+00:00', 'step': 2, 'payload': {'config': {'tags': [], 'metadata': {'thread_id': 'b91410cd74b34b6092deebd0bcbe7ef6'}, 'callbacks': None, 'recursion_limit': 25, 'configurable': {'checkpoint_ns': '', 'agent_config': {}, 'thread_id': 'b91410cd74b34b6092deebd0bcbe7ef6', 'checkpoint_id': '1f00e54c-fa0f-6fb8-8002-de531405e421'}}, 'parent_config': {'tags': [], 'metadata': {'thread_id': 'b91410cd74b34b6092deebd0bcbe7ef6'}, 'callbacks': None, 'recursion_limit': 25, 'configurable': {'checkpoint_ns': '', 'agent_config': {}, 'thread_id': 'b91410cd74b34b6092deebd0bcbe7ef6', 'checkpoint_id': '1f00e54c-f07c-6fa0-8001-8c6836e275c1'}}, 'values': {'id': 'olleh'}, 'metadata': {'source': 'loop', 'writes': {'REVERSE_ID': {'id': 'olleh'}}, 'thread_id': 'b91410cd74b34b6092deebd0bcbe7ef6', 'step': 2, 'parents': {}}, 'next': [], 'tasks': []}})\n"
     ]
    }
   ],
   "source": [
    "async for chunk in basic_agent.stream(\n",
    "    input=State(id=\"hello\"),\n",
    "    config={\"configurable\": {\"thread_id\": uuid.uuid4().hex}},\n",
    "    stream_mode=\"debug\",\n",
    "):\n",
    "    print(chunk)"
   ]
  },
  {
   "cell_type": "markdown",
   "metadata": {},
   "source": [
    "**Test**: Run a query in values mode (full state returned each time)"
   ]
  },
  {
   "cell_type": "code",
   "execution_count": 6,
   "metadata": {},
   "outputs": [
    {
     "name": "stdout",
     "output_type": "stream",
     "text": [
      "complete state = ('values', {'id': 'hello'})\n",
      "complete state = ('values', {'id': 'hello'})\n",
      "complete state = ('values', {'id': 'olleh'})\n"
     ]
    }
   ],
   "source": [
    "async for chunk in basic_agent.stream(\n",
    "    input=State(id=\"hello\"),\n",
    "    config={\"configurable\": {\"thread_id\": uuid.uuid4().hex}},\n",
    "    stream_mode=\"values\",\n",
    "):\n",
    "    print(\"complete state\", \"=\", chunk)"
   ]
  },
  {
   "cell_type": "markdown",
   "metadata": {},
   "source": [
    "**Test**: Run a query in updates mode (only state updates returned by each node)"
   ]
  },
  {
   "cell_type": "code",
   "execution_count": 7,
   "metadata": {},
   "outputs": [
    {
     "name": "stdout",
     "output_type": "stream",
     "text": [
      "updates -> ('updates', {'SET_ID': {'id': 'hello'}})\n",
      "updates -> ('updates', {'REVERSE_ID': {'id': 'olleh'}})\n"
     ]
    }
   ],
   "source": [
    "async for chunk in basic_agent.stream(\n",
    "    input=State(id=\"hello\"),\n",
    "    config={\"configurable\": {\"thread_id\": uuid.uuid4().hex}},\n",
    "    stream_mode=\"updates\",\n",
    "):\n",
    "    print(\"updates\", \"->\", chunk)"
   ]
  },
  {
   "cell_type": "markdown",
   "metadata": {},
   "source": [
    "**Test**: Run a query with a list of stream modes (yields stream mode and chunk data)"
   ]
  },
  {
   "cell_type": "code",
   "execution_count": 8,
   "metadata": {},
   "outputs": [
    {
     "name": "stdout",
     "output_type": "stream",
     "text": [
      "updates -> {'SET_ID': {'id': 'hello'}}\n",
      "updates -> {'REVERSE_ID': {'id': 'olleh'}}\n"
     ]
    }
   ],
   "source": [
    "async for stream_mode, chunk in basic_agent.stream(\n",
    "    input=State(id=\"hello\"),\n",
    "    config={\"configurable\": {\"thread_id\": uuid.uuid4().hex}},\n",
    "    stream_mode=[\"updates\"],\n",
    "):\n",
    "    print(stream_mode, \"->\", chunk)"
   ]
  },
  {
   "cell_type": "markdown",
   "metadata": {},
   "source": [
    "**Test**: Attempt a stateless query, fails since checkpointer requires thread ID. To run stateless queries, must build a stateless agent like the example in the next section."
   ]
  },
  {
   "cell_type": "code",
   "execution_count": 9,
   "metadata": {},
   "outputs": [
    {
     "name": "stdout",
     "output_type": "stream",
     "text": [
      "updates -> {'SET_ID': {'id': 'hello'}}\n",
      "updates -> {'REVERSE_ID': {'id': 'olleh'}}\n"
     ]
    }
   ],
   "source": [
    "async for stream_mode, chunk in basic_agent.stream(\n",
    "    input=State(id=\"hello\"),\n",
    "    config={\"configurable\": {\"thread_id\": uuid.uuid4().hex}},\n",
    "    stream_mode=[\"updates\"],\n",
    "):\n",
    "    print(stream_mode, \"->\", chunk)"
   ]
  },
  {
   "cell_type": "markdown",
   "metadata": {},
   "source": [
    "## Build a _stateless_ agent"
   ]
  },
  {
   "cell_type": "code",
   "execution_count": 10,
   "metadata": {},
   "outputs": [],
   "source": [
    "stateless_basic_agent = langgraph_agent.LangGraphAgent(\n",
    "    state_graph=state_graph,\n",
    "    checkpointer_config=None,  # no checkpointer means it will only work with stateless requests\n",
    ")"
   ]
  },
  {
   "cell_type": "markdown",
   "metadata": {},
   "source": [
    "**Test**: Run stateless run without threads"
   ]
  },
  {
   "cell_type": "code",
   "execution_count": 11,
   "metadata": {},
   "outputs": [
    {
     "name": "stdout",
     "output_type": "stream",
     "text": [
      "complete state = ('updates', {'SET_ID': {'id': 'hello'}})\n",
      "complete state = ('updates', {'REVERSE_ID': {'id': 'olleh'}})\n"
     ]
    }
   ],
   "source": [
    "async for chunk in stateless_basic_agent.stream(\n",
    "    input=State(id=\"hello\"),\n",
    "    stream_mode=\"updates\",\n",
    "):\n",
    "    print(\"complete state\", \"=\", chunk)"
   ]
  }
 ],
 "metadata": {
  "kernelspec": {
   "display_name": ".venv",
   "language": "python",
   "name": "python3"
  },
  "language_info": {
   "codemirror_mode": {
    "name": "ipython",
    "version": 3
   },
   "file_extension": ".py",
   "mimetype": "text/x-python",
   "name": "python",
   "nbconvert_exporter": "python",
   "pygments_lexer": "ipython3",
   "version": "3.12.7"
  }
 },
 "nbformat": 4,
 "nbformat_minor": 2
}
