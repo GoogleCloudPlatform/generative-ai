{
  "cells": [
    {
      "cell_type": "code",
      "execution_count": null,
      "metadata": {
        "id": "f705f4be70e9"
      },
      "outputs": [],
      "source": [
        "# Copyright 2025 Google LLC\n",
        "#\n",
        "# Licensed under the Apache License, Version 2.0 (the \"License\");\n",
        "# you may not use this file except in compliance with the License.\n",
        "# You may obtain a copy of the License at\n",
        "#\n",
        "#     https://www.apache.org/licenses/LICENSE-2.0\n",
        "#\n",
        "# Unless required by applicable law or agreed to in writing, software\n",
        "# distributed under the License is distributed on an \"AS IS\" BASIS,\n",
        "# WITHOUT WARRANTIES OR CONDITIONS OF ANY KIND, either express or implied.\n",
        "# See the License for the specific language governing permissions and\n",
        "# limitations under the License."
      ]
    },
    {
      "cell_type": "markdown",
      "metadata": {
        "id": "eebd5c14c254"
      },
      "source": [
        "# Task Planner Agent"
      ]
    },
    {
      "cell_type": "markdown",
      "metadata": {
        "id": "a4d2041c00a9"
      },
      "source": [
        "<table align=\"left\">\n",
        "  <td style=\"text-align: center\">\n",
        "    <a href=\"https://colab.research.google.com/github/GoogleCloudPlatform/generative-ai/blob/main/gemini/sample-apps/genai-experience-concierge/agent-design-patterns/task-planner.ipynb\">\n",
        "      <img width=\"32px\" src=\"https://www.gstatic.com/pantheon/images/bigquery/welcome_page/colab-logo.svg\" alt=\"Google Colaboratory logo\"><br> Open in Colab\n",
        "    </a>\n",
        "  </td>\n",
        "  <td style=\"text-align: center\">\n",
        "    <a href=\"https://console.cloud.google.com/vertex-ai/colab/import/https:%2F%2Fraw.githubusercontent.com%2FGoogleCloudPlatform%2Fgenerative-ai%2Fmain%2Fgemini%2Fsample-apps%2Fgenai-experience-concierge%2Fagent-design-patterns%2Ftask-planner.ipynb\">\n",
        "      <img width=\"32px\" src=\"https://lh3.googleusercontent.com/JmcxdQi-qOpctIvWKgPtrzZdJJK-J3sWE1RsfjZNwshCFgE_9fULcNpuXYTilIR2hjwN\" alt=\"Google Cloud Colab Enterprise logo\"><br> Open in Colab Enterprise\n",
        "    </a>\n",
        "  </td>\n",
        "  <td style=\"text-align: center\">\n",
        "    <a href=\"https://console.cloud.google.com/vertex-ai/workbench/deploy-notebook?download_url=https://raw.githubusercontent.com/GoogleCloudPlatform/generative-ai/main/gemini/sample-apps/genai-experience-concierge/agent-design-patterns/task-planner.ipynb\">\n",
        "      <img src=\"https://www.gstatic.com/images/branding/gcpiconscolors/vertexai/v1/32px.svg\" alt=\"Vertex AI logo\"><br> Open in Vertex AI Workbench\n",
        "    </a>\n",
        "  </td>\n",
        "  <td style=\"text-align: center\">\n",
        "    <a href=\"https://github.com/GoogleCloudPlatform/generative-ai/blob/main/gemini/sample-apps/genai-experience-concierge/agent-design-patterns/task-planner.ipynb\">\n",
        "      <img width=\"32px\" src=\"https://www.svgrepo.com/download/217753/github.svg\" alt=\"GitHub logo\"><br> View on GitHub\n",
        "    </a>\n",
        "  </td>\n",
        "</table>\n",
        "\n",
        "<div style=\"clear: both;\"></div>\n",
        "\n",
        "<b>Share to:</b>\n",
        "\n",
        "<a href=\"https://www.linkedin.com/sharing/share-offsite/?url=https%3A//github.com/GoogleCloudPlatform/generative-ai/blob/main/gemini/sample-apps/genai-experience-concierge/agent-design-patterns/task-planner.ipynb\" target=\"_blank\">\n",
        "  <img width=\"20px\" src=\"https://upload.wikimedia.org/wikipedia/commons/8/81/LinkedIn_icon.svg\" alt=\"LinkedIn logo\">\n",
        "</a>\n",
        "\n",
        "<a href=\"https://bsky.app/intent/compose?text=https%3A//github.com/GoogleCloudPlatform/generative-ai/blob/main/gemini/sample-apps/genai-experience-concierge/agent-design-patterns/task-planner.ipynb\" target=\"_blank\">\n",
        "  <img width=\"20px\" src=\"https://upload.wikimedia.org/wikipedia/commons/7/7a/Bluesky_Logo.svg\" alt=\"Bluesky logo\">\n",
        "</a>\n",
        "\n",
        "<a href=\"https://twitter.com/intent/tweet?url=https%3A//github.com/GoogleCloudPlatform/generative-ai/blob/main/gemini/sample-apps/genai-experience-concierge/agent-design-patterns/task-planner.ipynb\" target=\"_blank\">\n",
        "  <img width=\"20px\" src=\"https://upload.wikimedia.org/wikipedia/commons/5/5a/X_icon_2.svg\" alt=\"X logo\">\n",
        "</a>\n",
        "\n",
        "<a href=\"https://reddit.com/submit?url=https%3A//github.com/GoogleCloudPlatform/generative-ai/blob/main/gemini/sample-apps/genai-experience-concierge/agent-design-patterns/task-planner.ipynb\" target=\"_blank\">\n",
        "  <img width=\"20px\" src=\"https://redditinc.com/hubfs/Reddit%20Inc/Brand/Reddit_Logo.png\" alt=\"Reddit logo\">\n",
        "</a>\n",
        "\n",
        "<a href=\"https://www.facebook.com/sharer/sharer.php?u=https%3A//github.com/GoogleCloudPlatform/generative-ai/blob/main/gemini/sample-apps/genai-experience-concierge/agent-design-patterns/task-planner.ipynb\" target=\"_blank\">\n",
        "  <img width=\"20px\" src=\"https://upload.wikimedia.org/wikipedia/commons/5/51/Facebook_f_logo_%282019%29.svg\" alt=\"Facebook logo\">\n",
        "</a>"
      ]
    },
    {
      "cell_type": "markdown",
      "metadata": {
        "id": "dbfe0a3c85ab"
      },
      "source": [
        "| | |\n",
        "|-|-|\n",
        "|Author(s) | [Pablo Gaeta](https://github.com/pablofgaeta) |"
      ]
    },
    {
      "cell_type": "markdown",
      "metadata": {
        "id": "e7a8a0951f45"
      },
      "source": [
        "## Overview\n",
        "\n",
        "### Introduction\n",
        "\n",
        "This notebook demonstrates an implementation of a task planner agent (similar to [\"Deep Research\"](https://gemini.google/overview/deep-research)) This is a multi-agent architecture useful for tasks requiring more complex reasoning, planning, and multi-tool use.\n",
        "\n",
        "This architecture is often much slower than single-agent designs because a single turn can consist of a large number of LLM calls and tool usage. This demo is particularly slow because the \"Executor\" agent only supports linear plans and executes each task in parallel. There is research on alternative approaches such as [LLM Compiler](https://arxiv.org/abs/2312.04511) that attempt to improve this design by constructing DAGs to enable parallel task execution.\n",
        "\n",
        "The \"Executor\" agent in this demo is a Gemini model equipped with the Google Search Grounding Tool ([documentation](https://cloud.google.com/vertex-ai/generative-ai/docs/multimodal/ground-with-google-search)) to enable live web search while executing tasks.\n",
        "\n",
        "### Key Components\n",
        "\n",
        "The task planner agent is built around several key components:\n",
        "\n",
        "* **Language Model:** Gemini is used for natural language understanding, function calling, and response generation for multiple agents.\n",
        "* **State Management:** LangGraph manages the conversation flow and maintains the session state, including conversation history and generated/executed plans.\n",
        "* **Planner Node:** Generates a plan or a direct response to the user input. The plan consists of a sequence of tasks to be executed.\n",
        "* **Executor Node:** Executes the tasks defined in the plan, typically using tools like Google Search to gather information.\n",
        "* **Reflector Node:** Analyzes the results of the executed plan and the user's input to determine the next action - either generating a new plan for further execution or formulating a final response to the user.\n",
        "\n",
        "### Workflow\n",
        "\n",
        "The agent operates through the following workflow:\n",
        "\n",
        "1. The **Planner** receives user input and either (1) responds directly to simple queries (e.g. \"Hi\") or (2) generates a research plan, including list of tasks to execute.\n",
        "1. The **Executor** receives the plan and uses its tools to perform each task and update the plan with the executed task result.\n",
        "1. The **Reflector** reviews the executed plan and either (1) generates a final response to the user or (2) generates a new plan and jumps back to step 2."
      ]
    },
    {
      "cell_type": "markdown",
      "metadata": {
        "id": "93b9c58f24d9"
      },
      "source": [
        "## Get Started"
      ]
    },
    {
      "cell_type": "markdown",
      "metadata": {
        "id": "d5027929de8f"
      },
      "source": [
        "### Install dependencies"
      ]
    },
    {
      "cell_type": "code",
      "execution_count": 1,
      "metadata": {
        "id": "aa7abf5449af"
      },
      "outputs": [
        {
          "name": "stdout",
          "output_type": "stream",
          "text": [
            "Note: you may need to restart the kernel to use updated packages.\n"
          ]
        }
      ],
      "source": [
        "%pip install -q google-genai langgraph langgraph-checkpoint pydantic tenacity"
      ]
    },
    {
      "cell_type": "markdown",
      "metadata": {
        "id": "f42d12d15616"
      },
      "source": [
        "### Restart runtime\n",
        "\n",
        "To use the newly installed packages in this Jupyter runtime, you must restart the runtime. You can do this by running the cell below, which restarts the current kernel.\n",
        "\n",
        "The restart might take a minute or longer. After it's restarted, continue to the next step."
      ]
    },
    {
      "cell_type": "code",
      "execution_count": null,
      "metadata": {
        "id": "06fd78d27773"
      },
      "outputs": [
        {
          "data": {
            "text/plain": [
              "{'status': 'ok', 'restart': True}"
            ]
          },
          "metadata": {},
          "output_type": "display_data"
        }
      ],
      "source": [
        "# import IPython\n",
        "\n",
        "# app = IPython.Application.instance()\n",
        "# app.kernel.do_shutdown(True)"
      ]
    },
    {
      "cell_type": "markdown",
      "metadata": {
        "id": "e114f5653870"
      },
      "source": [
        "### Authenticate your notebook environment (Colab only)\n",
        "\n",
        "If you're running this notebook on Google Colab, run the cell below to authenticate your environment."
      ]
    },
    {
      "cell_type": "code",
      "execution_count": null,
      "metadata": {
        "id": "911453311a5d"
      },
      "outputs": [],
      "source": [
        "import sys\n",
        "\n",
        "if \"google.colab\" in sys.modules:\n",
        "    from google.colab import auth\n",
        "\n",
        "    auth.authenticate_user()"
      ]
    },
    {
      "cell_type": "markdown",
      "metadata": {
        "id": "0724a3d2c4f9"
      },
      "source": [
        "## Notebook parameters"
      ]
    },
    {
      "cell_type": "code",
      "execution_count": 2,
      "metadata": {
        "id": "47ad1afc6f31"
      },
      "outputs": [],
      "source": [
        "# Use the environment variable if the user doesn't provide Project ID.\n",
        "import os\n",
        "\n",
        "PROJECT_ID = \"[your-project-id]\"  # @param {type: \"string\", placeholder: \"[your-project-id]\", isTemplate: true}\n",
        "if not PROJECT_ID or PROJECT_ID == \"[your-project-id]\":\n",
        "    PROJECT_ID = str(os.environ.get(\"GOOGLE_CLOUD_PROJECT\"))\n",
        "\n",
        "REGION = \"us-central1\"  # @param {type:\"string\"}\n",
        "PLANNER_MODEL_NAME = \"gemini-2.0-flash-001\"  # @param {type:\"string\"}\n",
        "REFLECTOR_MODEL_NAME = \"gemini-2.0-flash-001\"  # @param {type:\"string\"}\n",
        "EXECUTOR_MODEL_NAME = \"gemini-2.0-flash-001\"  # @param {type:\"string\"}"
      ]
    },
    {
      "cell_type": "markdown",
      "metadata": {
        "id": "b204dd9a3a93"
      },
      "source": [
        "## Define the Task Planner Agent"
      ]
    },
    {
      "cell_type": "markdown",
      "metadata": {
        "id": "6a04ecba1630"
      },
      "source": [
        "### Import dependencies"
      ]
    },
    {
      "cell_type": "code",
      "execution_count": 3,
      "metadata": {
        "id": "db0053639f69"
      },
      "outputs": [],
      "source": [
        "from collections.abc import AsyncGenerator\n",
        "import datetime\n",
        "from typing import Literal, TypedDict\n",
        "import uuid\n",
        "\n",
        "from IPython import display as ipd\n",
        "from google import genai\n",
        "from google.genai import errors as genai_errors\n",
        "from google.genai import types as genai_types\n",
        "from langchain_core.runnables import config as lc_config\n",
        "from langgraph import graph\n",
        "from langgraph import types as lg_types\n",
        "from langgraph.checkpoint import memory\n",
        "from langgraph.config import get_stream_writer\n",
        "import pydantic\n",
        "import requests\n",
        "from tenacity import retry, retry_if_exception, stop_after_attempt, wait_exponential"
      ]
    },
    {
      "cell_type": "markdown",
      "metadata": {
        "id": "f6563a070bad"
      },
      "source": [
        "### Define schemas\n",
        "\n",
        "Defines all of the schemas, constants, and types required for building the agent."
      ]
    },
    {
      "cell_type": "code",
      "execution_count": 4,
      "metadata": {
        "id": "4f51460145a6"
      },
      "outputs": [],
      "source": [
        "# Agent config settings\n",
        "\n",
        "\n",
        "class AgentConfig(pydantic.BaseModel):\n",
        "    \"\"\"Configuration settings for the agent, including project, region, and model details.\"\"\"\n",
        "\n",
        "    project: str\n",
        "    \"\"\"The Google Cloud project ID.\"\"\"\n",
        "    region: str\n",
        "    \"\"\"The Google Cloud region where the agent is deployed.\"\"\"\n",
        "    planner_model_name: str\n",
        "    \"\"\"The name of the Gemini model to use for planning.\"\"\"\n",
        "    executor_model_name: str\n",
        "    \"\"\"The name of the Gemini model to use for executing tasks.\"\"\"\n",
        "    reflector_model_name: str\n",
        "    \"\"\"The name of the Gemini model to use for reflecting on the plan and results.\"\"\"\n",
        "\n",
        "\n",
        "# Node names and literal types\n",
        "\n",
        "REFLECTOR_NODE_NAME = \"REFLECTOR\"\n",
        "\"\"\"The name of the reflector node in the LangGraph.\"\"\"\n",
        "REFLECTOR_NODE_TARGET_LITERAL = Literal[\"REFLECTOR\"]\n",
        "\"\"\"Literal type for the reflector node target.\"\"\"\n",
        "\n",
        "EXECUTOR_NODE_NAME = \"EXECUTOR\"\n",
        "\"\"\"The name of the executor node in the LangGraph.\"\"\"\n",
        "EXECUTOR_NODE_TARGET_LITERAL = Literal[\"EXECUTOR\"]\n",
        "\"\"\"Literal type for the executor node target.\"\"\"\n",
        "\n",
        "PLANNER_NODE_NAME = \"PLANNER\"\n",
        "\"\"\"The name of the planner node in the LangGraph.\"\"\"\n",
        "PLANNER_NODE_TARGET_LITERAL = Literal[\"PLANNER\"]\n",
        "\"\"\"Literal type for the planner node target.\"\"\"\n",
        "\n",
        "POST_PROCESS_NODE_NAME = \"POST_PROCESS\"\n",
        "\"\"\"The name of the post-processing node in the LangGraph.\"\"\"\n",
        "POST_PROCESS_NODE_TARGET_LITERAL = Literal[\"POST_PROCESS\"]\n",
        "\"\"\"Literal type for the post-processing node target.\"\"\"\n",
        "\n",
        "END_NODE_TARGET_LITERAL = Literal[\"__end__\"]\n",
        "\"\"\"Literal type for the end node target.\"\"\"\n",
        "\n",
        "# langgraph models\n",
        "\n",
        "\n",
        "class Task(pydantic.BaseModel):\n",
        "    \"\"\"An individual task with a goal and result.\"\"\"\n",
        "\n",
        "    goal: str = pydantic.Field(\n",
        "        description=\"The description and goal of this step in the plan.\",\n",
        "    )\n",
        "    \"\"\"The description and goal of this step in the plan.\"\"\"\n",
        "\n",
        "    result: str | None = pydantic.Field(\n",
        "        default=None,\n",
        "        description=\"The result of this step determined by the plan executor. Always set this field to None\",\n",
        "    )\n",
        "    \"\"\"The result of this step determined by the plan executor. Always set this field to None.\"\"\"\n",
        "\n",
        "\n",
        "class Plan(pydantic.BaseModel):\n",
        "    \"\"\"A step-by-step sequential plan.\"\"\"\n",
        "\n",
        "    goal: str = pydantic.Field(description=\"High level goal for plan to help user.\")\n",
        "    \"\"\"High level goal for plan to help user.\"\"\"\n",
        "    tasks: list[Task] = pydantic.Field(\n",
        "        description=\"A list of individual tasks that will be executed in sequence before responding to the user. As the task gets more complex, you can add more steps.\",\n",
        "    )\n",
        "    \"\"\"A list of individual tasks that will be executed in sequence before responding to the user. As the task gets more complex, you can add more steps.\"\"\"\n",
        "\n",
        "\n",
        "class Response(pydantic.BaseModel):\n",
        "    \"\"\"Response to send to the user.\"\"\"\n",
        "\n",
        "    response: str\n",
        "    \"\"\"The response message to send to the user.\"\"\"\n",
        "\n",
        "\n",
        "class PlanOrRespond(pydantic.BaseModel):\n",
        "    \"\"\"Action to perform. Either respond to user or generate a research plan.\"\"\"\n",
        "\n",
        "    action: Response | Plan = pydantic.Field(\n",
        "        description=\"The next action can either be a direct response to the user or generate a new plan if you need to think more and use tools.\"\n",
        "    )\n",
        "    \"\"\"The next action can either be a direct response to the user or generate a new plan if you need to think more and use tools.\"\"\"\n",
        "\n",
        "\n",
        "# LangGraph models\n",
        "\n",
        "\n",
        "class Turn(TypedDict, total=False):\n",
        "    \"\"\"\n",
        "    Represents a single turn in a conversation.\n",
        "\n",
        "    Attributes:\n",
        "        id: Unique identifier for the turn.\n",
        "        created_at: Timestamp of when the turn was created.\n",
        "        user_input: The user's input in this turn.\n",
        "        response: The agent's response in this turn, if any.\n",
        "        plan: The agent's last generated plan for this turn, if any.\n",
        "        messages: A list of Gemini content messages associated with this turn.\n",
        "    \"\"\"\n",
        "\n",
        "    id: uuid.UUID\n",
        "    \"\"\"Unique identifier for the turn.\"\"\"\n",
        "\n",
        "    created_at: datetime.datetime\n",
        "    \"\"\"Timestamp of when the turn was created.\"\"\"\n",
        "\n",
        "    user_input: str\n",
        "    \"\"\"The user's input for this turn.\"\"\"\n",
        "\n",
        "    response: str\n",
        "    \"\"\"The agent's response for this turn, if any.\"\"\"\n",
        "\n",
        "    plan: Plan | None\n",
        "    \"\"\"The agent's last generated plan for this turn, if any.\"\"\"\n",
        "\n",
        "    messages: list[genai_types.Content]\n",
        "    \"\"\"List of Gemini Content objects representing the conversation messages in this turn.\"\"\"\n",
        "\n",
        "\n",
        "class GraphSession(TypedDict, total=False):\n",
        "    \"\"\"\n",
        "    Represents the complete state of a conversation session.\n",
        "\n",
        "    Attributes:\n",
        "        id: Unique identifier for the session.\n",
        "        created_at: Timestamp of when the session was created.\n",
        "        current_turn: The current turn in the session, if any.\n",
        "        turns: A list of all turns in the session.\n",
        "    \"\"\"\n",
        "\n",
        "    id: uuid.UUID\n",
        "    \"\"\"Unique identifier for the session.\"\"\"\n",
        "\n",
        "    created_at: datetime.datetime\n",
        "    \"\"\"Timestamp of when the session was created.\"\"\"\n",
        "\n",
        "    current_turn: Turn | None\n",
        "    \"\"\"The current conversation turn.\"\"\"\n",
        "\n",
        "    turns: list[Turn]\n",
        "    \"\"\"List of all conversation turns in the session.\"\"\""
      ]
    },
    {
      "cell_type": "markdown",
      "metadata": {
        "id": "39029fa4f4a1"
      },
      "source": [
        "### Utility Functions"
      ]
    },
    {
      "cell_type": "code",
      "execution_count": 5,
      "metadata": {
        "id": "78f47e72fb6b"
      },
      "outputs": [],
      "source": [
        "def is_retryable_error(exception: BaseException) -> bool:\n",
        "    \"\"\"\n",
        "    Determines if a given exception is considered retryable.\n",
        "\n",
        "    This function checks if the provided exception is an API error with a retryable HTTP status code\n",
        "    (429, 502, 503, 504) or a connection error.\n",
        "\n",
        "    Args:\n",
        "        exception: The exception to evaluate.\n",
        "\n",
        "    Returns:\n",
        "        True if the exception is retryable, False otherwise.\n",
        "    \"\"\"\n",
        "\n",
        "    if isinstance(exception, genai_errors.APIError):\n",
        "        return exception.code in [429, 502, 503, 504]\n",
        "    if isinstance(exception, requests.exceptions.ConnectionError):\n",
        "        return True\n",
        "    return False"
      ]
    },
    {
      "cell_type": "code",
      "execution_count": 6,
      "metadata": {
        "id": "4626e780f09c"
      },
      "outputs": [],
      "source": [
        "def stringify_task(task: Task, include_results: bool = True) -> str:\n",
        "    \"\"\"\n",
        "    Formats a task into a human-readable string.\n",
        "\n",
        "    This function takes a task and converts it into a formatted string,\n",
        "    including the task goal and optionally the task result.\n",
        "\n",
        "    Args:\n",
        "        task (Task): The task.\n",
        "        include_results (bool, optional): Whether to include the task result in the output. Defaults to True.\n",
        "\n",
        "    Returns:\n",
        "        str: The formatted task string.\n",
        "    \"\"\"\n",
        "    output = f\"**Goal**: {task.goal}\"\n",
        "\n",
        "    if include_results:\n",
        "        output += f\"\\n\\n**Result**: {task.result or 'incomplete'}\"\n",
        "\n",
        "    return output"
      ]
    },
    {
      "cell_type": "code",
      "execution_count": 7,
      "metadata": {
        "id": "9f401796d6b2"
      },
      "outputs": [],
      "source": [
        "def stringify_plan(plan: Plan, include_results: bool = True) -> str:\n",
        "    \"\"\"\n",
        "    Formats an execution plan into a human-readable string.\n",
        "\n",
        "    This function takes an execution plan and converts it into a formatted string,\n",
        "    including the goal and a list of tasks.\n",
        "\n",
        "    Args:\n",
        "        plan (Plan): The execution plan.\n",
        "        include_results (bool, optional): Whether to include task results in the output. Defaults to True.\n",
        "\n",
        "    Returns:\n",
        "        str: The formatted execution plan string.\n",
        "    \"\"\"\n",
        "    tasks_str = \"\\n\\n\".join(\n",
        "        f\"**Task #{idx + 1}**\\n\\n\"\n",
        "        + stringify_task(task, include_results=include_results)\n",
        "        for idx, task in enumerate(plan.tasks)\n",
        "    )\n",
        "\n",
        "    response = f\"**Plan**: {plan.goal}\\n\\n{tasks_str}\"\n",
        "\n",
        "    return response"
      ]
    },
    {
      "cell_type": "markdown",
      "metadata": {
        "id": "eeb64aa6c52f"
      },
      "source": [
        "### Core Agent Operations"
      ]
    },
    {
      "cell_type": "markdown",
      "metadata": {
        "id": "a0dc6a0fac37"
      },
      "source": [
        "#### Plan Generator\n",
        "\n",
        "Generates a plan or a direct response based on the current turn and conversation history."
      ]
    },
    {
      "cell_type": "code",
      "execution_count": 8,
      "metadata": {
        "id": "57e92fda9c7c"
      },
      "outputs": [],
      "source": [
        "@retry(\n",
        "    retry=retry_if_exception(is_retryable_error),\n",
        "    wait=wait_exponential(min=1, max=10),\n",
        "    stop=stop_after_attempt(3),\n",
        "    reraise=True,\n",
        ")\n",
        "async def generate_plan(\n",
        "    current_turn: Turn,\n",
        "    project: str,\n",
        "    region: str,\n",
        "    model_name: str,\n",
        "    history: list[Turn] | None = None,\n",
        ") -> PlanOrRespond:\n",
        "    \"\"\"\n",
        "    Generates a plan or a direct response based on the current turn and conversation history.\n",
        "\n",
        "    This function uses a Gemini model to analyze the user's input and the conversation history\n",
        "    to determine whether to generate a step-by-step plan for further action or to provide a\n",
        "    direct response to the user.\n",
        "\n",
        "    Args:\n",
        "        current_turn: The current turn in the conversation, containing the user's input.\n",
        "        project: The Google Cloud project ID.\n",
        "        region: The Google Cloud region.\n",
        "        model_name: The name of the Gemini model to use.\n",
        "        history: A list of previous turns in the conversation (optional).\n",
        "\n",
        "    Returns:\n",
        "        A PlanOrRespond object, which can either contain a Response object (to respond to the user)\n",
        "        or a Plan object (to generate a new plan).\n",
        "    \"\"\"\n",
        "\n",
        "    history = history or []\n",
        "\n",
        "    client = genai.Client(vertexai=True, project=project, location=region)\n",
        "\n",
        "    contents = [\n",
        "        genai_types.Content(role=role, parts=[genai_types.Part.from_text(text=text)])\n",
        "        for turn in history + [current_turn]\n",
        "        for role, text in (\n",
        "            (\"user\", turn.get(\"user_input\")),\n",
        "            (\"model\", turn.get(\"response\") or \"EMPTY\"),\n",
        "        )\n",
        "    ]\n",
        "\n",
        "    content_response = await client.aio.models.generate_content(\n",
        "        model=model_name,\n",
        "        contents=contents,\n",
        "        config=genai_types.GenerateContentConfig(\n",
        "            response_mime_type=\"application/json\",\n",
        "            response_schema=PlanOrRespond,\n",
        "            system_instruction=\"\"\"\n",
        "# Mission\n",
        "For the given user input, come up with a response to the user or a simple step by step plan.\n",
        "\n",
        "## Choices\n",
        "If you can provide a direct response without executing any sub-tasks, provide a response action.\n",
        "If you need clarification or have follow up questions, provide a response action.\n",
        "If the user input requires research to answer or looking up realtime data, provide a plan action.\n",
        "\n",
        "## Instructions for plans\n",
        "The plan should involve individual tasks, that if executed correctly will yield the correct answer. Do not add any superfluous steps.\n",
        "The result of the final step should be the final answer. Make sure that each step has all the information needed - do not skip steps.\n",
        "None of the steps are allowed to be user-facing, they must all be executed by the research agent with no input from the user.\n",
        "A different responder agent will generate a final response to the user after the researcher executes the plan tasks.\n",
        "Only add steps to the plan that still NEED to be done. Do not return previously done steps as part of the plan.\n",
        "\"\"\".strip(),\n",
        "        ),\n",
        "    )\n",
        "\n",
        "    plan_reflection = PlanOrRespond.model_validate_json(content_response.text)\n",
        "\n",
        "    return plan_reflection"
      ]
    },
    {
      "cell_type": "markdown",
      "metadata": {
        "id": "5894eaaa34a4"
      },
      "source": [
        "#### Plan Executor\n",
        "\n",
        "Executes a given plan step-by-step and yields the results of each task."
      ]
    },
    {
      "cell_type": "code",
      "execution_count": 9,
      "metadata": {
        "id": "2cff046fae5a"
      },
      "outputs": [],
      "source": [
        "@retry(\n",
        "    retry=retry_if_exception(is_retryable_error),\n",
        "    wait=wait_exponential(min=1, max=10),\n",
        "    stop=stop_after_attempt(3),\n",
        "    reraise=True,\n",
        ")\n",
        "async def execute_plan(\n",
        "    plan: Plan,\n",
        "    project: str,\n",
        "    region: str,\n",
        "    model_name: str,\n",
        ") -> AsyncGenerator[tuple[int, Task], None]:\n",
        "    \"\"\"\n",
        "    Executes a given plan step-by-step and yields the results of each task.\n",
        "\n",
        "    This function iterates through the tasks in a given plan, executes each task using a Gemini model\n",
        "    with Google Search tool enabled, and yields the index and updated task with the result.\n",
        "\n",
        "    Args:\n",
        "        plan: The plan to execute, containing a list of tasks.\n",
        "        project: The Google Cloud project ID.\n",
        "        region: The Google Cloud region.\n",
        "        model_name: The name of the Gemini model to use.\n",
        "\n",
        "    Yields:\n",
        "        An asynchronous generator that yields tuples of (index, task), where index is the task's\n",
        "        position in the plan and task is the updated task with the execution result.\n",
        "    \"\"\"\n",
        "\n",
        "    executed_plan = plan.model_copy(deep=True)\n",
        "\n",
        "    client = genai.Client(vertexai=True, project=project, location=region)\n",
        "\n",
        "    search_tool = genai_types.Tool(google_search=genai_types.GoogleSearch())\n",
        "    system_instruction = \"Your mission is to execute the research goal provided and respond with findings. The result is not provided directly to the user, but instead provided to another agent to summarize findings.\"\n",
        "\n",
        "    for idx, task in enumerate(executed_plan.tasks):\n",
        "        if task.result is not None:\n",
        "            continue\n",
        "\n",
        "        # last task will be missing result. Will fill in from agent response.\n",
        "        all_tasks = executed_plan.tasks[: idx + 1]\n",
        "        all_tasks_string = \"\\n---\\n\".join(\n",
        "            f\"Goal: {task.goal}\\n\\nResult: {task.result or ''}\" for task in all_tasks\n",
        "        )\n",
        "\n",
        "        contents = f\"# Plan\\nHigh Level Goal: {plan.goal}\\n---\\n{all_tasks_string}\"\n",
        "\n",
        "        content_response = await client.aio.models.generate_content(\n",
        "            model=model_name,\n",
        "            contents=contents,\n",
        "            config=genai_types.GenerateContentConfig(\n",
        "                tools=[search_tool],\n",
        "                system_instruction=system_instruction,\n",
        "            ),\n",
        "        )\n",
        "\n",
        "        task.result = content_response.text\n",
        "\n",
        "        yield idx, task"
      ]
    },
    {
      "cell_type": "markdown",
      "metadata": {
        "id": "064fa4511fc7"
      },
      "source": [
        "#### Plan Reflector\n",
        "\n",
        "Reflects on a user's input and an executed plan to determine the next action (response or new plan)."
      ]
    },
    {
      "cell_type": "code",
      "execution_count": 10,
      "metadata": {
        "id": "050f7917297a"
      },
      "outputs": [],
      "source": [
        "@retry(\n",
        "    retry=retry_if_exception(is_retryable_error),\n",
        "    wait=wait_exponential(min=1, max=10),\n",
        "    stop=stop_after_attempt(3),\n",
        "    reraise=True,\n",
        ")\n",
        "async def reflect_plan(\n",
        "    user_input: str,\n",
        "    executed_plan: Plan,\n",
        "    project: str,\n",
        "    region: str,\n",
        "    model_name: str,\n",
        ") -> PlanOrRespond:\n",
        "    \"\"\"\n",
        "    Reflects on a user's input and an executed plan to determine the next action (response or new plan).\n",
        "\n",
        "    This function uses a Gemini model to analyze the user's last message, the overall goal of the\n",
        "    research agent, and the steps that were executed in the previous plan. Based on this analysis,\n",
        "    it decides whether to generate a direct response to the user or to create a new plan for\n",
        "    further action.\n",
        "\n",
        "    Args:\n",
        "        user_input: The user's most recent input.\n",
        "        executed_plan: The plan that was previously executed.\n",
        "        project: The Google Cloud project ID.\n",
        "        region: The Google Cloud region.\n",
        "        model_name: The name of the Gemini model to use.\n",
        "\n",
        "    Returns:\n",
        "        A PlanOrRespond object, which can either contain a Response object (to respond to the user)\n",
        "        or a Plan object (to generate a new plan).\n",
        "    \"\"\"\n",
        "\n",
        "    client = genai.Client(vertexai=True, project=project, location=region)\n",
        "\n",
        "    system_instructions = \"\"\"\n",
        "# Mission\n",
        "For the given user input, come up with a response to the user or a simple step by step plan.\n",
        "\n",
        "## Choices\n",
        "If you can provide a direct response without executing any sub-tasks, provide a response action.\n",
        "If you need clarification or have follow up questions, provide a response action.\n",
        "If the user input requires multiple steps to answer or looking up realtime data, provide a plan action.\n",
        "\n",
        "## Instructions for plans\n",
        "The plan should involve individual tasks, that if executed correctly will yield the correct answer. Do not add any superfluous steps.\n",
        "The result of the final step should be the final answer. Make sure that each step has all the information needed - do not skip steps.\n",
        "Only add steps to the plan that still NEED to be done. Do not return previously done steps as part of the plan.\n",
        "\"\"\".strip()\n",
        "\n",
        "    contents = f\"\"\"\n",
        "The last user message was:\n",
        "{user_input}\n",
        "\n",
        "The main goal of the research agent was:\n",
        "{executed_plan.goal}\n",
        "\n",
        "The research agent executed the following tasks:\n",
        "{executed_plan.tasks}\n",
        "\"\"\".strip()\n",
        "\n",
        "    content_response = await client.aio.models.generate_content(\n",
        "        model=model_name,\n",
        "        contents=contents,\n",
        "        config=genai_types.GenerateContentConfig(\n",
        "            response_mime_type=\"application/json\",\n",
        "            response_schema=PlanOrRespond,\n",
        "            system_instruction=system_instructions,\n",
        "        ),\n",
        "    )\n",
        "\n",
        "    plan_reflection = PlanOrRespond.model_validate_json(content_response.text)\n",
        "\n",
        "    return plan_reflection"
      ]
    },
    {
      "cell_type": "markdown",
      "metadata": {
        "id": "6209aae9eb2a"
      },
      "source": [
        "#### Test all core functions"
      ]
    },
    {
      "cell_type": "code",
      "execution_count": 11,
      "metadata": {
        "id": "a3b0a526fe2b"
      },
      "outputs": [
        {
          "name": "stdout",
          "output_type": "stream",
          "text": [
            "---------- Reading user input ----------\n",
            "\n",
            "research best video games for my nerdy 10yo son\n",
            "\n",
            "---------- Generating plan ----------\n",
            "\n"
          ]
        },
        {
          "data": {
            "text/markdown": [
              "**Plan**: Find the best video games suitable for a nerdy 10-year-old boy.\n",
              "\n",
              "**Task #1**\n",
              "\n",
              "**Goal**: Research popular and well-received video games suitable for 10-year-olds, focusing on genres that appeal to nerdy interests like strategy, puzzles, building, and learning.\n",
              "\n",
              "**Result**: incomplete\n",
              "\n",
              "**Task #2**\n",
              "\n",
              "**Goal**: Identify specific games from the research that are age-appropriate and align with the user's description (nerdy, 10yo son).\n",
              "\n",
              "**Result**: incomplete\n",
              "\n",
              "**Task #3**\n",
              "\n",
              "**Goal**: Compile a list of the best video game recommendations, including information on the game's genre, platform(s), and a brief explanation of why it's a good fit.\n",
              "\n",
              "**Result**: incomplete"
            ],
            "text/plain": [
              "<IPython.core.display.Markdown object>"
            ]
          },
          "metadata": {},
          "output_type": "display_data"
        },
        {
          "name": "stdout",
          "output_type": "stream",
          "text": [
            "---------- Executed task ----------\n",
            "\n"
          ]
        },
        {
          "data": {
            "text/markdown": [
              "**Goal**: Research popular and well-received video games suitable for 10-year-olds, focusing on genres that appeal to nerdy interests like strategy, puzzles, building, and learning.\n",
              "\n",
              "**Result**: Okay, I will research popular and well-received video games suitable for a 10-year-old boy with nerdy interests, focusing on genres like strategy, puzzles, building, and learning.\n",
              "\n",
              "Based on my research, here are some video game recommendations for a nerdy 10-year-old boy, focusing on strategy, puzzles, building, and learning:\n",
              "\n",
              "**Games that combine multiple interests:**\n",
              "\n",
              "*   **Minecraft:** This is a very popular choice where players can build anything they can imagine, explore, and even learn some basic coding skills. It encourages creativity, problem-solving, and collaboration.\n",
              "*   **Roblox:** A platform where users can create and play games. It offers a wide variety of genres, including puzzle, adventure, and strategy games.\n",
              "*   **Scribblenauts Mega Pack:** The main aspect of this game is that the player can write any word and it will come to life in the game. This allows the player to solve puzzles in open-ended environments by summoning objects and characters, even from the DC Universe.\n",
              "*   **Animal Crossing: New Horizons:** A peaceful island life simulator where players befriend animal neighbors and craft home décor. It encourages creativity and can help with reading and attention skills.\n",
              "\n",
              "**Strategy & Puzzle Games:**\n",
              "\n",
              "*   **Mario + Rabbids Sparks of Hope:** A turn-based tactics game with wacky weapons, flexible movement, and puzzles to solve.\n",
              "*   **Portal 1 & 2:** Known for their groundbreaking gameplay mechanics and mind-bending physics that help kids understand concepts like momentum and gravity. There is a puzzle maker to create new levels and machines within the game to test scientific concepts.\n",
              "*   **Death Squared:** A puzzle game that challenges observation and teamwork skills.\n",
              "*   **Disney Illusion Island:** A platforming and puzzle-solving game with Mickey Mouse and friends, featuring non-linear exploration.\n",
              "*   **Angry Birds VR: Isle of Pigs:** A virtual reality game where you launch birds at targets and create your own levels.\n",
              "\n",
              "**Educational Games:**\n",
              "\n",
              "*   **The Oregon Trail:** A classic game that teaches about history, resource management, and decision-making.\n",
              "*   **Wordscapes:** A word puzzle game that helps kids learn new words and practice logic skills.\n",
              "*   **World Rescue:** A game that teaches kids about real-world issues like displacement, disease, deforestation, drought, and pollution.\n",
              "\n",
              "**Other Considerations:**\n",
              "\n",
              "*   **Age Ratings:** Pay attention to the ESRB (Entertainment Software Ratings Board) rating to ensure the game is age-appropriate. Games rated E10+ (Everyone 10+) are generally suitable.\n",
              "*   **Platforms:** Consider what gaming platforms the child has access to (PC, Nintendo Switch, PlayStation, Xbox, mobile devices) when making your selection.\n",
              "*   **Interests:** While the child has nerdy interests, think about what specific topics capture his attention. Does he love space, history, animals, or building things? Find games that align with those passions.\n",
              "\n"
            ],
            "text/plain": [
              "<IPython.core.display.Markdown object>"
            ]
          },
          "metadata": {},
          "output_type": "display_data"
        },
        {
          "name": "stdout",
          "output_type": "stream",
          "text": [
            "---------- Executed task ----------\n",
            "\n"
          ]
        },
        {
          "data": {
            "text/markdown": [
              "**Goal**: Identify specific games from the research that are age-appropriate and align with the user's description (nerdy, 10yo son).\n",
              "\n",
              "**Result**: Based on the research, here are some specific game recommendations suitable for a nerdy 10-year-old boy, focusing on strategy, puzzles, building, and learning:\n",
              "\n",
              "**Highly Recommended Options:**\n",
              "\n",
              "*   **Minecraft:** This game is extremely popular with this age group and has an ESRB rating of E10+ (Everyone 10+) . It fosters creativity, problem-solving, and collaboration. Minecraft has different modes: creative, survival, hardcore, and adventure that allow for a new experience each time.\n",
              "*   **Roblox:** While *Roblox* has a T for Teen rating from the ESRB due to the user-generated content, the platform includes parental controls and content maturity settings to limit the games that kids are allowed to play to those vetted by Roblox, in accordance with criteria similar to ESRB's guidelines for children ages 10+. *Roblox* is a platform with an almost limitless number of games.\n",
              "*   **Mario + Rabbids Sparks of Hope:** This is a turn-based tactics game. *Mario + Rabbids Sparks of Hope* is expert-approved to be safe and appropriate for Big Kids (8-10 year olds). The ESRB rating is E10+ (Everyone 10+) with a Content Descriptor for Cartoon Violence .\n",
              "\n",
              "**Other Good Choices:**\n",
              "\n",
              "*   **Animal Crossing: New Horizons:** This game has an ESRB rating of E (Everyone).\n",
              "*   **Scribblenauts Mega Pack:** This game combines puzzle-solving with the ability to create almost anything, making it both creative and engaging.\n",
              "*   **Portal 1 & 2:** These games are known for their mind-bending puzzles that can help kids understand physics concepts.\n",
              "*   **The Oregon Trail:** A classic game that teaches about history, resource management, and decision-making.\n",
              "\n",
              "**Educational Options:**\n",
              "\n",
              "*   **World Rescue:** This game teaches about real-world issues like displacement, disease, deforestation, drought, and pollution.\n",
              "\n",
              "**Things to Consider:**\n",
              "\n",
              "*   **ESRB Ratings:** Always check the ESRB rating to ensure a game is age-appropriate. E10+ is generally suitable for 10-year-olds.\n",
              "*   **Parental Controls:** Utilize parental control features on gaming platforms to manage online interactions and content access.\n",
              "*   **Interests:** Consider the child's specific interests within nerdy topics (e.g., space, history, building) to find games that align with their passions.\n"
            ],
            "text/plain": [
              "<IPython.core.display.Markdown object>"
            ]
          },
          "metadata": {},
          "output_type": "display_data"
        },
        {
          "name": "stdout",
          "output_type": "stream",
          "text": [
            "---------- Executed task ----------\n",
            "\n"
          ]
        },
        {
          "data": {
            "text/markdown": [
              "**Goal**: Compile a list of the best video game recommendations, including information on the game's genre, platform(s), and a brief explanation of why it's a good fit.\n",
              "\n",
              "**Result**: Okay, here is a compiled list of the best video game recommendations for a nerdy 10-year-old boy, including information on the game's genre, platform(s), and a brief explanation of why it's a good fit:\n",
              "\n",
              "Okay, here is a compiled list of the best video game recommendations for a nerdy 10-year-old boy, including information on the game's genre, platform(s), and a brief explanation of why it's a good fit:\n",
              "\n",
              "**Highly Recommended Options:**\n",
              "\n",
              "*   **Minecraft**\n",
              "\n",
              "    *   **Genre:** Sandbox, Adventure, Creative, Survival\n",
              "    *   **Platforms:** PC, Xbox, PlayStation, Nintendo Switch, Mobile\n",
              "    *   **Why it's a good fit:** This game encourages creativity, problem-solving, and collaboration. Players can build anything they can imagine and explore vast worlds. The ESRB rating is E10+ (Everyone 10+).\n",
              "*   **Roblox**\n",
              "\n",
              "    *   **Genre:** User-Generated Games, Variety\n",
              "    *   **Platforms:** PC, Xbox, Mobile\n",
              "    *   **Why it's a good fit:** *Roblox* is a platform with an almost limitless number of games. Parental controls and content maturity settings are available to limit the games that kids are allowed to play.\n",
              "*   **Mario + Rabbids Sparks of Hope**\n",
              "\n",
              "    *   **Genre:** Turn-Based Tactics, Strategy\n",
              "    *   **Platforms:** Nintendo Switch\n",
              "    *   **Why it's a good fit:** This game offers a mix of tactical challenges and wacky humor, appealing to strategy enthusiasts. The ESRB rating is E10+ (Everyone 10+) with a Content Descriptor for Cartoon Violence.\n",
              "\n",
              "**Other Good Choices:**\n",
              "\n",
              "*   **Animal Crossing: New Horizons**\n",
              "\n",
              "    *   **Genre:** Simulation\n",
              "    *   **Platforms:** Nintendo Switch\n",
              "    *   **Why it's a good fit:** This game allows for peaceful island life, befriend animal neighbors, and craft home décor. The ESRB rating is E (Everyone).\n",
              "*   **Scribblenauts Mega Pack**\n",
              "\n",
              "    *   **Genre:** Puzzle\n",
              "    *   **Platforms:** Nintendo Switch, PC\n",
              "    *   **Why it's a good fit:** The player can write any word and it will come to life in the game, allowing the player to solve puzzles by summoning objects and characters.\n",
              "*   **Portal 1 & 2**\n",
              "\n",
              "    *   **Genre:** Puzzle, First-Person\n",
              "    *   **Platforms:** PC, Xbox, PlayStation, Nintendo Switch\n",
              "    *   **Why it's a good fit:** Known for their groundbreaking gameplay mechanics and mind-bending physics. Helps kids understand concepts like momentum and gravity.\n",
              "\n",
              "**Educational Options:**\n",
              "\n",
              "*   **The Oregon Trail**\n",
              "\n",
              "    *   **Genre:** Simulation, Educational\n",
              "    *   **Platforms:** PC, Mobile\n",
              "    *   **Why it's a good fit:** This game teaches about history, resource management, and decision-making.\n",
              "*   **World Rescue**\n",
              "\n",
              "    *   **Genre:** Educational\n",
              "    *   **Platforms:** Mobile (Android and iOS)\n",
              "    *   **Why it's a good fit:** This game teaches about real-world issues like displacement, disease, deforestation, drought, and pollution.\n",
              "\n",
              "**Strategy Games for Kids:**\n",
              "\n",
              "*   **Civilization Kids Edition**\n",
              "\n",
              "    *   **Genre**: Strategy, Educational\n",
              "    *   **Platforms**: Not specified in search results\n",
              "    *   **Why it's a good fit:** Introduces empire-building, resource management, diplomacy, and strategic decisions.\n",
              "*   **EcoTycoon Junior**\n",
              "\n",
              "    *   **Genre**: Strategy, Simulation, Educational\n",
              "    *   **Platforms**: Not specified in search results\n",
              "    *   **Why it's a good fit**: Teaches sustainability by managing a city, balancing resources, reducing pollution, and implementing green technologies.\n",
              "*   **Among Us Strategy Mode**\n",
              "\n",
              "    *   **Genre**: Strategy, Social Deduction\n",
              "    *   **Platforms**: Not specified in search results\n",
              "    *   **Why it's a good fit**: Enhances logical thinking and teamwork with complex objectives and multi-layered challenges.\n",
              "\n",
              "**Things to Consider:**\n",
              "\n",
              "*   **ESRB Ratings:** Always check the ESRB rating to ensure a game is age-appropriate. E10+ is generally suitable for 10-year-olds.\n",
              "*   **Parental Controls:** Utilize parental control features on gaming platforms to manage online interactions and content access.\n",
              "*   **Interests:** Consider the child's specific interests within nerdy topics (e.g., space, history, building) to find games that align with their passions.\n"
            ],
            "text/plain": [
              "<IPython.core.display.Markdown object>"
            ]
          },
          "metadata": {},
          "output_type": "display_data"
        },
        {
          "name": "stdout",
          "output_type": "stream",
          "text": [
            "---------- Reflection on plan ----------\n",
            "\n"
          ]
        },
        {
          "data": {
            "text/markdown": [
              "Here is a list of the best video game recommendations for your nerdy 10-year-old son, including information on the game's genre, platform(s), and a brief explanation of why it's a good fit:\n",
              "\n",
              "**Highly Recommended Options:**\n",
              "\n",
              "*   **Minecraft**\n",
              "    *   **Genre:** Sandbox, Adventure, Creative, Survival\n",
              "    *   **Platforms:** PC, Xbox, PlayStation, Nintendo Switch, Mobile\n",
              "    *   **Why it's a good fit:** This game encourages creativity, problem-solving, and collaboration. Players can build anything they can imagine and explore vast worlds. The ESRB rating is E10+ (Everyone 10+).\n",
              "*   **Roblox**\n",
              "    *   **Genre:** User-Generated Games, Variety\n",
              "    *   **Platforms:** PC, Xbox, Mobile\n",
              "    *   **Why it's a good fit:** Roblox is a platform with an almost limitless number of games. Parental controls and content maturity settings are available to limit the games that kids are allowed to play.\n",
              "*   **Mario + Rabbids Sparks of Hope**\n",
              "    *   **Genre:** Turn-Based Tactics, Strategy\n",
              "    *   **Platforms:** Nintendo Switch\n",
              "    *   **Why it's a good fit:** This game offers a mix of tactical challenges and wacky humor, appealing to strategy enthusiasts. The ESRB rating is E10+ (Everyone 10+) with a Content Descriptor for Cartoon Violence.\n",
              "\n",
              "**Other Good Choices:**\n",
              "\n",
              "*   **Animal Crossing: New Horizons**\n",
              "    *   **Genre:** Simulation\n",
              "    *   **Platforms:** Nintendo Switch\n",
              "    *   **Why it's a good fit:** This game allows for peaceful island life, befriend animal neighbors, and craft home décor. The ESRB rating is E (Everyone).\n",
              "*   **Scribblenauts Mega Pack**\n",
              "    *   **Genre:** Puzzle\n",
              "    *   **Platforms:** Nintendo Switch, PC\n",
              "    *   **Why it's a good fit:** The player can write any word and it will come to life in the game, allowing the player to solve puzzles by summoning objects and characters.\n",
              "*   **Portal 1 & 2**\n",
              "    *   **Genre:** Puzzle, First-Person\n",
              "    *   **Platforms:** PC, Xbox, PlayStation, Nintendo Switch\n",
              "    *   **Why it's a good fit:** Known for their groundbreaking gameplay mechanics and mind-bending physics. Helps kids understand concepts like momentum and gravity.\n",
              "\n",
              "**Educational Options:**\n",
              "\n",
              "*   **The Oregon Trail**\n",
              "    *   **Genre:** Simulation, Educational\n",
              "    *   **Platforms:** PC, Mobile\n",
              "    *   **Why it's a good fit:** This game teaches about history, resource management, and decision-making.\n",
              "*   **World Rescue**\n",
              "    *   **Genre:** Educational\n",
              "    *   **Platforms:** Mobile (Android and iOS)\n",
              "    *   **Why it's a good fit:** This game teaches about real-world issues like displacement, disease, deforestation, drought, and pollution.\n",
              "\n",
              "**Strategy Games for Kids:**\n",
              "*   **Civilization Kids Edition**\n",
              "    *   **Genre**: Strategy, Educational\n",
              "    *   **Platforms**: Not specified in search results\n",
              "    *   **Why it's a good fit:** Introduces empire-building, resource management, diplomacy, and strategic decisions.\n",
              "*   **EcoTycoon Junior**\n",
              "    *   **Genre**: Strategy, Simulation, Educational\n",
              "    *   **Platforms**: Not specified in search results\n",
              "    *   **Why it's a good fit**: Teaches sustainability by managing a city, balancing resources, reducing pollution, and implementing green technologies.\n",
              "*   **Among Us Strategy Mode**\n",
              "    *   **Genre**: Strategy, Social Deduction\n",
              "    *   **Platforms**: Not specified in search results\n",
              "    *   **Why it's a good fit**: Enhances logical thinking and teamwork with complex objectives and multi-layered challenges.\n",
              "\n",
              "**Things to Consider:**\n",
              "\n",
              "*   **ESRB Ratings:** Always check the ESRB rating to ensure a game is age-appropriate. E10+ is generally suitable for 10-year-olds.\n",
              "*   **Parental Controls:** Utilize parental control features on gaming platforms to manage online interactions and content access.\n",
              "*   **Interests:** Consider the child's specific interests within nerdy topics (e.g., space, history, building) to find games that align with their passions."
            ],
            "text/plain": [
              "<IPython.core.display.Markdown object>"
            ]
          },
          "metadata": {},
          "output_type": "display_data"
        }
      ],
      "source": [
        "print(\"-\" * 10, \"Reading user input\", \"-\" * 10, end=\"\\n\\n\")\n",
        "\n",
        "example_user_input = \"research best video games for my nerdy 10yo son\"\n",
        "print(example_user_input, end=\"\\n\\n\")\n",
        "\n",
        "print(\"-\" * 10, \"Generating plan\", \"-\" * 10, end=\"\\n\\n\")\n",
        "\n",
        "example_generated_plan_or_respond = await generate_plan(\n",
        "    Turn(user_input=example_user_input),\n",
        "    project=PROJECT,\n",
        "    region=REGION,\n",
        "    model_name=PLANNER_MODEL_NAME,\n",
        ")\n",
        "example_generated_plan = example_generated_plan_or_respond.action\n",
        "assert isinstance(example_generated_plan, Plan), \"Expected action to be plan\"\n",
        "display(ipd.Markdown(stringify_plan(example_generated_plan)))\n",
        "\n",
        "async for idx, new_task in execute_plan(\n",
        "    plan=example_generated_plan,\n",
        "    project=PROJECT,\n",
        "    region=REGION,\n",
        "    model_name=EXECUTOR_MODEL_NAME,\n",
        "):\n",
        "    example_generated_plan.tasks[idx] = new_task\n",
        "\n",
        "    print(\"-\" * 10, \"Executed task\", \"-\" * 10, end=\"\\n\\n\")\n",
        "\n",
        "    display(ipd.Markdown(f\"**Goal**: {new_task.goal}\\n\\n**Result**: {new_task.result}\"))\n",
        "\n",
        "print(\"-\" * 10, \"Reflection on plan\", \"-\" * 10, end=\"\\n\\n\")\n",
        "\n",
        "example_reflection_plan_or_respond = await reflect_plan(\n",
        "    user_input=example_user_input,\n",
        "    executed_plan=example_generated_plan,\n",
        "    project=PROJECT,\n",
        "    region=REGION,\n",
        "    model_name=REFLECTOR_MODEL_NAME,\n",
        ")\n",
        "example_reflection_response = example_reflection_plan_or_respond.action\n",
        "assert isinstance(\n",
        "    example_reflection_response, Response\n",
        "), \"Expected action to be response\"\n",
        "display(ipd.Markdown(example_reflection_response.response))"
      ]
    },
    {
      "cell_type": "markdown",
      "metadata": {
        "id": "a60f2d6417d4"
      },
      "source": [
        "### Nodes"
      ]
    },
    {
      "cell_type": "markdown",
      "metadata": {
        "id": "e4967db1d810"
      },
      "source": [
        "#### Planner Node\n",
        "\n",
        "Generates a plan or a direct response based on the current turn and conversation history."
      ]
    },
    {
      "cell_type": "code",
      "execution_count": 12,
      "metadata": {
        "id": "01bc6440f912"
      },
      "outputs": [],
      "source": [
        "async def planner_node(\n",
        "    state: GraphSession,\n",
        "    config: lc_config.RunnableConfig,\n",
        ") -> lg_types.Command[\n",
        "    Literal[EXECUTOR_NODE_TARGET_LITERAL, POST_PROCESS_NODE_TARGET_LITERAL]\n",
        "]:\n",
        "    \"\"\"\n",
        "    Asynchronously generates a plan or a direct response based on the current conversation state.\n",
        "\n",
        "    This function takes the current conversation state, which includes the user's input and history,\n",
        "    and uses the `generate_plan` function to determine whether to create a plan for further action\n",
        "    or to provide a direct response. It then updates the conversation state and directs the flow\n",
        "    to the appropriate next node (executor or post-processing).\n",
        "\n",
        "    Args:\n",
        "        state: The current state of the conversation session, including user input and history.\n",
        "        config: The LangChain RunnableConfig containing agent-specific configurations.\n",
        "\n",
        "    Returns:\n",
        "        A Command object that specifies the next node to transition to (executor or post-processing)\n",
        "        and the updated conversation state. The state includes the generated plan or response.\n",
        "\n",
        "    Raises:\n",
        "        TypeError: If the plan reflection action is of an unsupported type.\n",
        "    \"\"\"\n",
        "\n",
        "    agent_config = AgentConfig.model_validate(\n",
        "        config[\"configurable\"].get(\"agent_config\", {})\n",
        "    )\n",
        "\n",
        "    stream_writer = get_stream_writer()\n",
        "\n",
        "    current_turn = state.get(\"current_turn\")\n",
        "    assert current_turn is not None, \"current turn must be set\"\n",
        "\n",
        "    user_input = current_turn.get(\"user_input\")\n",
        "    assert user_input is not None, \"user input must be set\"\n",
        "\n",
        "    turns = state.get(\"turns\", [])\n",
        "\n",
        "    plan_reflection = await generate_plan(\n",
        "        current_turn=current_turn,\n",
        "        project=agent_config.project,\n",
        "        region=agent_config.region,\n",
        "        model_name=agent_config.planner_model_name,\n",
        "        history=turns,\n",
        "    )\n",
        "\n",
        "    next_node = None\n",
        "    if isinstance(plan_reflection.action, Plan):\n",
        "        next_node = EXECUTOR_NODE_NAME\n",
        "\n",
        "        # Ensure results aren't set\n",
        "        for task in plan_reflection.action.tasks:\n",
        "            task.result = None\n",
        "\n",
        "        # Set initial plan\n",
        "        current_turn[\"plan\"] = plan_reflection.action\n",
        "        stream_writer({\"plan\": plan_reflection.action.model_dump(mode=\"json\")})\n",
        "\n",
        "    elif isinstance(plan_reflection.action, Response):\n",
        "        next_node = POST_PROCESS_NODE_NAME\n",
        "\n",
        "        # Update turn response\n",
        "        current_turn[\"response\"] = plan_reflection.action.response\n",
        "        stream_writer({\"response\": plan_reflection.action.response})\n",
        "\n",
        "    else:\n",
        "        raise TypeError(\n",
        "            \"Unsupported plan reflection action: %s\", type(plan_reflection.action)\n",
        "        )\n",
        "\n",
        "    return lg_types.Command(\n",
        "        update=GraphSession(current_turn=current_turn),\n",
        "        goto=next_node,\n",
        "    )"
      ]
    },
    {
      "cell_type": "markdown",
      "metadata": {
        "id": "3b658bf8e3f4"
      },
      "source": [
        "#### Executor Node\n",
        "\n",
        "Executes a given plan step-by-step and yields the results of each task."
      ]
    },
    {
      "cell_type": "code",
      "execution_count": 13,
      "metadata": {
        "id": "69944a06a9a0"
      },
      "outputs": [],
      "source": [
        "async def executor_node(\n",
        "    state: GraphSession,\n",
        "    config: lc_config.RunnableConfig,\n",
        ") -> lg_types.Command[Literal[REFLECTOR_NODE_TARGET_LITERAL]]:\n",
        "    \"\"\"\n",
        "    Asynchronously executes a plan's tasks and updates the conversation state.\n",
        "\n",
        "    This function takes the current conversation state, which includes a plan, and executes each task within that plan.\n",
        "    It utilizes the `execute_plan` function to process each task, updating the plan with the results as it goes.\n",
        "    The function also streams the executed tasks to the user via the stream writer.\n",
        "\n",
        "    Args:\n",
        "        state: The current state of the conversation session, including the plan to execute.\n",
        "        config: The LangChain RunnableConfig containing agent-specific configurations.\n",
        "\n",
        "    Returns:\n",
        "        A Command object that specifies the next node to transition to (reflector) and the\n",
        "        updated conversation state. The state includes the plan with executed tasks.\n",
        "\n",
        "    Raises:\n",
        "        AssertionError: If the plan is not generated before execution.\n",
        "    \"\"\"\n",
        "\n",
        "    agent_config = AgentConfig.model_validate(\n",
        "        config[\"configurable\"].get(\"agent_config\", {})\n",
        "    )\n",
        "\n",
        "    stream_writer = get_stream_writer()\n",
        "\n",
        "    current_turn = state.get(\"current_turn\")\n",
        "    assert current_turn is not None, \"current turn must be set\"\n",
        "\n",
        "    plan = current_turn.get(\"plan\")\n",
        "    assert plan is not None, \"plan must be set\"\n",
        "\n",
        "    async for idx, executed_task in execute_plan(\n",
        "        plan=plan,\n",
        "        project=agent_config.project,\n",
        "        region=agent_config.region,\n",
        "        model_name=agent_config.executor_model_name,\n",
        "    ):\n",
        "        # update state with executed task\n",
        "        plan.tasks[idx] = executed_task\n",
        "\n",
        "        stream_writer({\"executed_task\": executed_task.model_dump(mode=\"json\")})\n",
        "\n",
        "    current_turn[\"plan\"] = plan\n",
        "\n",
        "    return lg_types.Command(\n",
        "        update=GraphSession(current_turn=current_turn),\n",
        "        goto=REFLECTOR_NODE_NAME,\n",
        "    )"
      ]
    },
    {
      "cell_type": "markdown",
      "metadata": {
        "id": "78cddeb5cbd2"
      },
      "source": [
        "#### Reflector Node\n",
        "\n",
        "Reflects on a user's input and an executed plan to determine the next action (response or new plan)."
      ]
    },
    {
      "cell_type": "code",
      "execution_count": 14,
      "metadata": {
        "id": "ed761d688327"
      },
      "outputs": [],
      "source": [
        "async def reflector_node(\n",
        "    state: GraphSession,\n",
        "    config: lc_config.RunnableConfig,\n",
        ") -> lg_types.Command[\n",
        "    Literal[EXECUTOR_NODE_TARGET_LITERAL, PLANNER_NODE_TARGET_LITERAL]\n",
        "]:\n",
        "    \"\"\"\n",
        "    Asynchronously reflects on the executed plan and determines the next action.\n",
        "\n",
        "    This function takes the current conversation state, which includes the executed plan, and uses\n",
        "    the `reflect_plan` function to analyze the results and decide whether to generate a new plan\n",
        "    or provide a direct response. It then updates the conversation state and directs the flow\n",
        "    to the appropriate next node (executor or planner).\n",
        "\n",
        "    Args:\n",
        "        state: The current state of the conversation session, including the executed plan.\n",
        "        config: The LangChain RunnableConfig containing agent-specific configurations.\n",
        "\n",
        "    Returns:\n",
        "        A Command object that specifies the next node to transition to (executor or planner) and the\n",
        "        updated conversation state. The state includes the updated plan or response.\n",
        "\n",
        "    Raises:\n",
        "        AssertionError: If the plan is not generated or not fully executed before reflection.\n",
        "        TypeError: If the plan reflection action is of an unsupported type.\n",
        "    \"\"\"\n",
        "\n",
        "    agent_config = AgentConfig.model_validate(\n",
        "        config[\"configurable\"].get(\"agent_config\", {})\n",
        "    )\n",
        "\n",
        "    stream_writer = get_stream_writer()\n",
        "\n",
        "    current_turn = state.get(\"current_turn\")\n",
        "    assert current_turn is not None, \"current turn must be set\"\n",
        "\n",
        "    user_input = current_turn.get(\"user_input\")\n",
        "    assert user_input is not None, \"user input must be set\"\n",
        "\n",
        "    plan = current_turn.get(\"plan\")\n",
        "    assert plan is not None, \"plan must be set\"\n",
        "\n",
        "    assert all(\n",
        "        task.result is not None for task in plan.tasks\n",
        "    ), \"Must execute each plan task before reflection.\"\n",
        "\n",
        "    plan_reflection = await reflect_plan(\n",
        "        user_input=user_input,\n",
        "        executed_plan=plan,\n",
        "        project=agent_config.project,\n",
        "        region=agent_config.region,\n",
        "        model_name=agent_config.reflector_model_name,\n",
        "    )\n",
        "\n",
        "    next_node = None\n",
        "    if isinstance(plan_reflection.action, Plan):\n",
        "        next_node = EXECUTOR_NODE_NAME\n",
        "\n",
        "        # Ensure results aren't set\n",
        "        for task in plan_reflection.action.tasks:\n",
        "            task.result = None\n",
        "\n",
        "        # Add new tasks from plan reflection\n",
        "        current_turn[\"plan\"].tasks += plan_reflection.action.tasks\n",
        "\n",
        "        stream_writer({\"plan\": current_turn[\"plan\"].model_dump(mode=\"json\")})\n",
        "\n",
        "    elif isinstance(plan_reflection.action, Response):\n",
        "        next_node = POST_PROCESS_NODE_NAME\n",
        "\n",
        "        # Update turn response\n",
        "        current_turn[\"response\"] = plan_reflection.action.response\n",
        "\n",
        "        stream_writer({\"response\": current_turn[\"response\"]})\n",
        "    else:  # never\n",
        "        raise TypeError(\n",
        "            \"Unsupported plan reflection action: %s\", type(plan_reflection.action)\n",
        "        )\n",
        "\n",
        "    return lg_types.Command(\n",
        "        update=GraphSession(current_turn=current_turn),\n",
        "        goto=next_node,\n",
        "    )"
      ]
    },
    {
      "cell_type": "markdown",
      "metadata": {
        "id": "00879e69b95f"
      },
      "source": [
        "#### Post-Process Node\n",
        "\n",
        "Add current turn to the history and reset current turn."
      ]
    },
    {
      "cell_type": "code",
      "execution_count": 15,
      "metadata": {
        "id": "4be2c75208a3"
      },
      "outputs": [],
      "source": [
        "def post_process_node(\n",
        "    state: GraphSession,\n",
        "    config: lc_config.RunnableConfig,\n",
        ") -> lg_types.Command[END_NODE_TARGET_LITERAL]:\n",
        "    \"\"\"\n",
        "    Asynchronously invokes the post-processing node to finalize the current conversation turn.\n",
        "\n",
        "    This function takes the current conversation state, validates that the current turn and its response are set,\n",
        "    adds the completed turn to the conversation history, and resets the current turn. This effectively concludes\n",
        "    the processing of the current user input and prepares the session for the next input.\n",
        "\n",
        "    Args:\n",
        "        state: The current state of the conversation session.\n",
        "        config: The LangChain RunnableConfig (unused in this function).\n",
        "\n",
        "    Returns:\n",
        "        A Command object specifying the end of the graph execution and the updated conversation state.\n",
        "    \"\"\"\n",
        "\n",
        "    del config  # unused\n",
        "\n",
        "    current_turn = state.get(\"current_turn\")\n",
        "\n",
        "    assert current_turn is not None, \"Current turn must be set.\"\n",
        "    assert (\n",
        "        current_turn[\"response\"] is not None\n",
        "    ), \"Response from current turn must be set.\"\n",
        "\n",
        "    turns = state.get(\"turns\", []) + [current_turn]\n",
        "\n",
        "    return lg_types.Command(update=GraphSession(current_turn=None, turns=turns))"
      ]
    },
    {
      "cell_type": "markdown",
      "metadata": {
        "id": "740d6e04b1c0"
      },
      "source": [
        "## Compile Task Planner Agent"
      ]
    },
    {
      "cell_type": "code",
      "execution_count": 16,
      "metadata": {
        "id": "fa296f770e91"
      },
      "outputs": [],
      "source": [
        "def load_graph():\n",
        "    state_graph = graph.StateGraph(GraphSession)\n",
        "\n",
        "    state_graph.add_node(PLANNER_NODE_NAME, planner_node)\n",
        "    state_graph.add_node(EXECUTOR_NODE_NAME, executor_node)\n",
        "    state_graph.add_node(REFLECTOR_NODE_NAME, reflector_node)\n",
        "    state_graph.add_node(POST_PROCESS_NODE_NAME, post_process_node)\n",
        "\n",
        "    state_graph.set_entry_point(PLANNER_NODE_NAME)\n",
        "\n",
        "    return state_graph\n",
        "\n",
        "\n",
        "state_graph = load_graph()\n",
        "\n",
        "checkpointer = memory.MemorySaver()\n",
        "compiled_graph = state_graph.compile(checkpointer=checkpointer)"
      ]
    },
    {
      "cell_type": "markdown",
      "metadata": {
        "id": "683793bb886f"
      },
      "source": [
        "### Visualize Agent Graph"
      ]
    },
    {
      "cell_type": "code",
      "execution_count": 17,
      "metadata": {
        "id": "73ff616d10c5"
      },
      "outputs": [
        {
          "data": {
            "image/png": "[encoded data removed]",
            "text/plain": [
              "<IPython.core.display.Image object>"
            ]
          },
          "metadata": {},
          "output_type": "display_data"
        }
      ],
      "source": [
        "png_bytes = compiled_graph.get_graph().draw_mermaid_png()\n",
        "\n",
        "display(ipd.Image(png_bytes))"
      ]
    },
    {
      "cell_type": "markdown",
      "metadata": {
        "id": "381f3368c641"
      },
      "source": [
        "### Wrapper function to stream generation output to notebook"
      ]
    },
    {
      "cell_type": "code",
      "execution_count": 29,
      "metadata": {
        "id": "edcf2f3f08aa"
      },
      "outputs": [],
      "source": [
        "async def ask(user_input: str, session: str | None = None):\n",
        "    thread_id = session or uuid.uuid4().hex\n",
        "\n",
        "    agent_config = AgentConfig(\n",
        "        project=PROJECT,\n",
        "        region=REGION,\n",
        "        planner_model_name=PLANNER_MODEL_NAME,\n",
        "        executor_model_name=EXECUTOR_MODEL_NAME,\n",
        "        reflector_model_name=REFLECTOR_MODEL_NAME,\n",
        "    )\n",
        "\n",
        "    current_source = last_source = None\n",
        "    task_idx = 0\n",
        "    all_text = \"\"\n",
        "    async for stream_mode, chunk in compiled_graph.astream(\n",
        "        input={\"current_turn\": {\"user_input\": user_input}},\n",
        "        config={\"configurable\": {\"thread_id\": thread_id, \"agent_config\": agent_config}},\n",
        "        stream_mode=[\"custom\"],\n",
        "    ):\n",
        "        assert isinstance(chunk, dict), \"Expected dictionary chunk\"\n",
        "\n",
        "        text = \"\"\n",
        "\n",
        "        if \"response\" in chunk:\n",
        "            # if no prior text, then no plan was generated\n",
        "            if all_text.strip() == \"\":\n",
        "                text = chunk[\"response\"]\n",
        "            else:\n",
        "                text = \"### Reflection\\n\\n\" + chunk[\"response\"]\n",
        "\n",
        "            current_source = \"response\"\n",
        "\n",
        "        elif \"plan\" in chunk:\n",
        "            plan = Plan.model_validate(chunk[\"plan\"])\n",
        "            plan_string = stringify_plan(plan=plan, include_results=False)\n",
        "            text = f\"### Generated execution plan...\\n\\n{plan_string}\"\n",
        "            current_source = \"plan\"\n",
        "\n",
        "        elif \"executed_task\" in chunk:\n",
        "            task_idx += 1\n",
        "            task = Task.model_validate(chunk[\"executed_task\"])\n",
        "            task_string = stringify_task(task=task, include_results=True)\n",
        "            text = f\"### Executed task #{task_idx}...\\n\\n{task_string}\"\n",
        "            current_source = f\"executed_task_{task_idx}\"\n",
        "\n",
        "        else:\n",
        "            print(\"unhandled chunk case:\", chunk)\n",
        "\n",
        "        if last_source is not None and last_source != current_source:\n",
        "            text = \"\\n\\n---\\n\\n\" + text\n",
        "\n",
        "        last_source = current_source\n",
        "\n",
        "        all_text += text\n",
        "\n",
        "        display(ipd.Markdown(all_text), clear=True)"
      ]
    },
    {
      "cell_type": "markdown",
      "metadata": {
        "id": "3bea54263302"
      },
      "source": [
        "## Test Conversation"
      ]
    },
    {
      "cell_type": "code",
      "execution_count": 30,
      "metadata": {
        "id": "24574cb0c9ef"
      },
      "outputs": [],
      "source": [
        "session = uuid.uuid4().hex"
      ]
    },
    {
      "cell_type": "code",
      "execution_count": 31,
      "metadata": {
        "id": "fec8d9b95e5a"
      },
      "outputs": [
        {
          "data": {
            "text/markdown": [
              "Hello!"
            ],
            "text/plain": [
              "<IPython.core.display.Markdown object>"
            ]
          },
          "metadata": {},
          "output_type": "display_data"
        }
      ],
      "source": [
        "await ask(\"hi\", session=session)"
      ]
    },
    {
      "cell_type": "code",
      "execution_count": 32,
      "metadata": {
        "id": "94d40bf397e3"
      },
      "outputs": [
        {
          "data": {
            "text/markdown": [
              "I can definitely help with that! To give you the best recommendations, could you tell me your child's age and what kind of games they usually enjoy (e.g., action, adventure, puzzle, sports)?"
            ],
            "text/plain": [
              "<IPython.core.display.Markdown object>"
            ]
          },
          "metadata": {},
          "output_type": "display_data"
        }
      ],
      "source": [
        "await ask(\"can you recommend some video games for my child?\", session=session)"
      ]
    },
    {
      "cell_type": "code",
      "execution_count": 33,
      "metadata": {
        "id": "566ad868d3cd"
      },
      "outputs": [
        {
          "data": {
            "text/markdown": [
              "### Generated execution plan...\n",
              "\n",
              "**Plan**: Recommend age-appropriate and historically relevant medieval video games for a 15-year-old on Playstation 5.\n",
              "\n",
              "**Task #1**\n",
              "\n",
              "**Goal**: Search for popular and critically acclaimed historical medieval video games available on Playstation 5.\n",
              "\n",
              "**Task #2**\n",
              "\n",
              "**Goal**: Filter the search results to only include games suitable for a 15-year-old (rated T or lower by the ESRB).\n",
              "\n",
              "**Task #3**\n",
              "\n",
              "**Goal**: Based on the filtered list, create a list of 3-5 recommended games with brief descriptions highlighting the historical elements and gameplay.\n",
              "\n",
              "---\n",
              "\n",
              "### Executed task #1...\n",
              "\n",
              "**Goal**: Search for popular and critically acclaimed historical medieval video games available on Playstation 5.\n",
              "\n",
              "**Result**: For a 15-year-old with a Playstation 5, here are some age-appropriate and historically relevant medieval video game recommendations:\n",
              "\n",
              "*   **Kingdom Come: Deliverance/Kingdom Come: Deliverance II**: A story-driven action RPG set in 15th century Medieval Europe with a rich open world. It focuses on realism, where you play as Henry, a blacksmith's son. The combat system may be challenging for some.\n",
              "*   **Crusader Kings III**: A grand strategy game where you lead a noble house through medieval politics and dynasties. It features a detailed medieval map, historical characters, and many playstyles.\n",
              "*   **Mount & Blade II: Bannerlord**: An open-world RPG/strategy hybrid set in a medieval world where you lead mercenaries, build forces, and aim to become a powerful ruler.\n",
              "*   **A Plague Tale: Innocence**: While having some horror elements, this game offers a narrative experience set during a dark period of medieval history.\n",
              "*   **Chrono Odyssey**: An upcoming MMO RPG with knights, dragons, and large-scale battles, planned for release on PS5.\n",
              "*   **Assassin's Creed Shadows**: Set in Japan, this game allows players to explore feudal Japan.\n",
              "\n",
              "Other medieval-themed games that may be of interest:\n",
              "\n",
              "*   **Medieval Dynasty**: Combines RPG elements with city-building and survival aspects, where you start a lineage and build a community.\n",
              "*   **Dragon's Dogma 2**: An action RPG with a unique open-world and companion system.\n",
              "*   **Manor Lords**: A medieval strategy game with city-building elements, focusing on historical accuracy.\n",
              "*   **The Witcher 3: Wild Hunt**: A story about Geralt Rivia who saves the world and someone close to him, with monsters that need magic to defeat.\n",
              "*   **Elden Ring**: An open-world action RPG set in a dark fantasy world.\n",
              "\n",
              "\n",
              "\n",
              "---\n",
              "\n",
              "### Executed task #2...\n",
              "\n",
              "**Goal**: Filter the search results to only include games suitable for a 15-year-old (rated T or lower by the ESRB).\n",
              "\n",
              "**Result**: Okay, I will now filter the previously recommended games based on their ESRB ratings, focusing on those rated T (Teen) or lower, making them suitable for a 15-year-old.\n",
              "\n",
              "Here's the updated list:\n",
              "\n",
              "*   **Crusader Kings III**: This grand strategy game has a \"Teen\" rating on consoles.\n",
              "*   **Mount & Blade II: Bannerlord**: This game is rated \"Mature\".\n",
              "*   **Medieval Dynasty**: This game has a \"Teen\" rating.\n",
              "\n",
              "**Games rated \"Mature\" and thus not suitable for a 15-year-old:**\n",
              "\n",
              "*   **Kingdom Come: Deliverance/Kingdom Come: Deliverance II**: Rated \"M\" (Mature 17+).\n",
              "*   **A Plague Tale: Innocence**: Rated \"M\" (Mature 17+).\n",
              "*   **Assassin's Creed Shadows**: Rated \"M\" (Mature 17+).\n",
              "*   **Dragon's Dogma 2**: Rated \"M\" (Mature 17+).\n",
              "*   **The Witcher 3: Wild Hunt**: Rated \"M\" (Mature 17+).\n",
              "*   **Elden Ring**: Rated \"M\" (Mature 17+).\n",
              "*   **Manor Lords**: While awaiting official ESRB rating, limited combat and blood effects considered acceptable for younger players\n",
              "\n",
              "Therefore, for a 15-year-old with a Playstation 5, the age-appropriate and historically relevant medieval video game recommendations are:\n",
              "\n",
              "*   **Crusader Kings III**: A grand strategy game where you lead a noble house through medieval politics and dynasties. It features a detailed medieval map, historical characters, and many playstyles. The console version has a Teen rating.\n",
              "*   **Medieval Dynasty**: Combines RPG elements with city-building and survival aspects, where you start a lineage and build a community. It has a Teen rating.\n",
              "*   **Manor Lords**: While awaiting official ESRB rating, limited combat and blood effects considered acceptable for younger players\n",
              "\n",
              "\n",
              "---\n",
              "\n",
              "### Executed task #3...\n",
              "\n",
              "**Goal**: Based on the filtered list, create a list of 3-5 recommended games with brief descriptions highlighting the historical elements and gameplay.\n",
              "\n",
              "**Result**: Okay, here is a list of 3 age-appropriate (ESRB Teen-rated or equivalent) and historically relevant medieval video games for a 15-year-old on Playstation 5, with brief descriptions highlighting historical elements and gameplay:\n",
              "\n",
              "1.  **Crusader Kings III**: This is a grand strategy game where you lead a medieval noble house. The game features a detailed historical map of Europe, Africa, and Asia. Players navigate medieval politics, wars, and dynastic relationships. You can create alliances, manage your kingdom, and participate in events inspired by medieval history. Gameplay involves strategic decision-making, resource management, and character development.\n",
              "\n",
              "2.  **Medieval Dynasty**: This game blends RPG elements with city-building and survival aspects set in medieval Europe. You start as a young peasant and can build your own village, develop a dynasty, and interact with historical events and figures. The game allows you to experience aspects of medieval life such as farming, hunting, crafting, and trading.\n",
              "\n",
              "3.  **Manor Lords:** A medieval strategy game with city-building elements, focuses on historical accuracy. While awaiting official ESRB rating, limited combat and blood effects considered acceptable for younger players.\n",
              "\n",
              "To ensure the information is up to date and accurate, I will perform a final search.\n",
              "\n",
              "Based on the search results, here's the updated and more detailed list of recommended games:\n",
              "\n",
              "1.  **Crusader Kings III**: This grand strategy game, set in the Middle Ages (specifically the years 867 and 1066 as start dates), allows you to lead a royal or noble house across a map stretching from Iceland to India. The console versions have a \"Teen\" rating from the ESRB [14, 15]. You navigate dynastic politics, wars, and religious conflicts, making strategic decisions about marriages, alliances, and kingdom management [16, 12]. The game strives for historical authenticity in its depiction of medieval titles, the feudal system, and the importance of religion [6, 12]. However, it does take liberties with historical accuracy to ensure balanced gameplay [6, 11, 18]. For instance, feudal raiding is restricted, and feudalism is represented in a somewhat uniform way, even though it varied greatly across regions [6, 11]. Despite these inaccuracies, the game can teach players about medieval geography, cultures, faiths, and the lives of historical figures [12].\n",
              "\n",
              "2.  **Medieval Dynasty**: This game combines RPG elements, city-building, and survival aspects in medieval Europe [5, 21]. You start as a young peasant and build a village and dynasty, experiencing aspects of medieval life like farming, hunting, crafting, and trading [5, 21]. \"Medieval Dynasty\" has a \"Teen\" rating [5]. The game has elements inspired by a specific period of European history [1]. The game may feature characters using mild language such as \"d*mn\" and \"b*st*rd\" [5]. Violence is primarily directed at animals and bandits, with blood effects [5]. Some side quests can have dark themes such as torture, adultery and rape [5]. The developers drew inspiration from games like \"Kingdom Come: Deliverance\" for visual elements and historical accuracy [17]. However, the game prioritizes gameplay over strict historical accuracy [7].\n",
              "\n",
              "3.  **Manor Lords:** This is a medieval strategy game with in-depth city-building, focusing on the organic growth of settlements and resource management [3, 27, 28, 30]. Players manage resources, construct buildings inspired by 14th-century Franconian art and architecture, and can engage in battles to expand their territory [3, 8, 27, 28, 30]. While awaiting an official ESRB rating, sources indicate that it is generally considered acceptable for younger players due to its limited combat and blood effects [23]. The developer prioritizes historical accuracy where possible, avoiding common medieval tropes to create an authentic world [2, 8, 27, 30]. For example, building mechanics are inspired by the growth of real medieval towns [3, 27, 30]. While the game strives for historical accuracy, the developer acknowledges that nothing can be truly historically accurate [2].\n",
              "\n",
              "\n",
              "---\n",
              "\n",
              "### Reflection\n",
              "\n",
              "Based on your interest in medieval history and your Playstation 5, I recommend Crusader Kings III, Medieval Dynasty, and Manor Lords. Crusader Kings III is a grand strategy game where you lead a noble house through medieval politics. Medieval Dynasty combines RPG elements with city-building and survival in medieval Europe. Manor Lords is a medieval strategy game with detailed city-building, focusing on historical accuracy. All three should be appropriate for a 15-year-old."
            ],
            "text/plain": [
              "<IPython.core.display.Markdown object>"
            ]
          },
          "metadata": {},
          "output_type": "display_data"
        }
      ],
      "source": [
        "await ask(\n",
        "    \"he is 15. he's into medieval history so he might like something related. He plays on his Playstation 5\",\n",
        "    session=session,\n",
        ")"
      ]
    },
    {
      "cell_type": "code",
      "execution_count": 34,
      "metadata": {
        "id": "874c5a60a627"
      },
      "outputs": [
        {
          "data": {
            "text/markdown": [
              "### Generated execution plan...\n",
              "\n",
              "**Plan**: Provide more detailed information about the recommended video games to help the user, who is unfamiliar with gaming, make an informed decision.\n",
              "\n",
              "**Task #1**\n",
              "\n",
              "**Goal**: Gather more detailed information about Crusader Kings III, Medieval Dynasty, and Manor Lords, specifically focusing on their gameplay mechanics, core features, and why they are appealing to someone interested in medieval history, and suitability for a 15-year-old.\n",
              "\n",
              "**Task #2**\n",
              "\n",
              "**Goal**: Summarize the key information for each game in a way that is easy to understand for someone unfamiliar with gaming terminology.\n",
              "\n",
              "**Task #3**\n",
              "\n",
              "**Goal**: Present the summaries of each game.\n",
              "\n",
              "---\n",
              "\n",
              "### Executed task #1...\n",
              "\n",
              "**Goal**: Gather more detailed information about Crusader Kings III, Medieval Dynasty, and Manor Lords, specifically focusing on their gameplay mechanics, core features, and why they are appealing to someone interested in medieval history, and suitability for a 15-year-old.\n",
              "\n",
              "**Result**: Okay, I will gather more detailed information about Crusader Kings III, Medieval Dynasty, and Manor Lords, focusing on their gameplay mechanics, core features, their appeal to someone interested in medieval history, and suitability for a 15-year-old.\n",
              "\n",
              "Okay, here's a breakdown of each game, covering gameplay mechanics, core features, appeal to history enthusiasts, and suitability for a 15-year-old:\n",
              "\n",
              "**Crusader Kings III**\n",
              "\n",
              "*   **Gameplay Mechanics:** Crusader Kings III is a grand strategy role-playing game (mixing elements of both genres) set in the Middle Ages. You guide a dynasty through centuries, managing characters with traits, skills, and relationships. Gameplay involves warfare, intrigue (scheming, murder), diplomacy, and realm management. Players start in either 867 or 1066 and play as succeeding members of that ruler's dynasty until all dynasty members are dead or dispossessed, or until the end date of 1453. Or, if you really want, you can turn off the time limit and play for as long as you want.\n",
              "\n",
              "*   **Core Features:**\n",
              "    *   **Dynasty Management:** Ensure the survival and expansion of your noble house.\n",
              "    *   **Character-Driven:** Each character has unique traits, lifestyles, and ambitions that influence gameplay. Genetics can be passed along to your children, be it the gift of genius or crippling stupidity. Groom your heir with the appropriate guardians or educate them yourself. If found wanting, marry them off or despatch them through other means.\n",
              "    *   **Intrigue:** Use espionage, murder plots, and seduction to achieve your goals.\n",
              "    *   **Warfare:** Recruit armies, hire mercenaries, and engage in tactical battles. Supplement your income with ransomed prisoners or raiding parties on neighboring realms.\n",
              "    *   **Religion:** Interact with religious powers or create your own faith.\n",
              "    *   **Extensive Map:** A vast map stretching from Iceland to India, with thousands of counties and kingdoms to rule.\n",
              "\n",
              "*   **Appeal to History Buffs:** The game features a meticulously researched Middle Ages. Knights, peasant revolts, pilgrimages, Viking raiders...experience the drama and pageantry of the Middle Ages.\n",
              "    *   Players can choose a royal or noble house from a number of realms on a map that stretches from Iceland to India, from the Arctic Circle to Central Africa.\n",
              "    *   Inspired by historical events and figures.\n",
              "\n",
              "*   **Suitability for a 15-Year-Old:** Crusader Kings III has a PEGI rating of 12. However, it deals with mature themes such as:\n",
              "\n",
              "    *   Murder, assassination, and warfare.\n",
              "    *   Intrigue, including blackmail and bribery.\n",
              "    *   References to suggestive material appear in the text (e.g., \"Lustful: Carnal desires burn hot in Konstantinos' core\"; \"For having tasted the forbidden fruit of incestuous love, he will surely suffer in the next life\"; \"… He is half-naked and bodily defiling my finest leather shoes…\").\n",
              "    *   Some events and choices may be considered inappropriate for younger audiences.\n",
              "    *   Has nudity for starters which it doesn't mention and some of the shit you can do in the game is messed up.\n",
              "\n",
              "    *It would be best for a parent to review the game content and decide if it's suitable for their child.*\n",
              "\n",
              "**Medieval Dynasty**\n",
              "\n",
              "*   **Gameplay Mechanics:** Medieval Dynasty is a survival-strategy RPG simulation game where you start as a young peasant and build a dynasty. It combines elements of survival, city-building, and role-playing genres. The player character is controlled from a first-person perspective, although since December 2021, switching to a third-person view is also possible. The player must gather resources, hunt, craft, build, and manage a village. Players have to monitor their food, water, health, and stamina levels.\n",
              "\n",
              "*   **Core Features:**\n",
              "\n",
              "    *   **Village Building:** Design, construct, and expand your village.\n",
              "    *   **Resource Management:** Gather resources, craft tools and weapons, and manage supplies. The map is big and features a number of NPC towns, with those different towns having different vendors who sell/buy things, NPCs with small quests/tasks, traveling NPCs who you can eventually recruit, plus NPCs who just live in that village.\n",
              "    *   **Survival:** Hunt animals, farm crops, and trade to survive the seasons. Face hot summer months and cold winters and make sure that neither you nor your people lack anything. Medieval Dynasty will captivate you with its unique genre combination for the ultimate medieval experience!\n",
              "    *   **Dynasty:** Find a wife, have children, and ensure the continuation of your family line.\n",
              "\n",
              "*   **Appeal to History Buffs:** It is a Dynasty series game, where players, from the perspective of a character, establish a new dynasty within a thematic setting—in this case, from the viewpoint of common people in the Middle Ages.\n",
              "    *   Offers a glimpse into the daily life of medieval villagers.\n",
              "    *   Includes historically inspired tools, buildings, and activities.\n",
              "\n",
              "*   **Suitability for a 15-Year-Old:** Medieval Dynasty is rated \"Teen\" by the ESRB, which means it is generally suitable for ages 13 and up. This is further supported by the USK, which has given the game a 12+ rating. The game includes:\n",
              "\n",
              "    *   Violence against animals and bandits.\n",
              "    *   Mild language (e.g., \"d*mn,\" \"b*st*rd\").\n",
              "    *   Suggestive themes (although sexual content is limited).\n",
              "    *   The game may have dark tones in some of the sidequests as they can discuss such things as torture, adultery, and rape.\n",
              "\n",
              "    *While the game is generally appropriate, parents should be aware of the mild violence and suggestive themes.*\n",
              "\n",
              "**Manor Lords**\n",
              "\n",
              "*   **Gameplay Mechanics:** Manor Lords is a medieval strategy game featuring in-depth city building, large-scale tactical battles, and complex economic and social simulations.\n",
              "    *   It combines city-building with real-time tactics, set against a realistically rendered backdrop of the medieval period.\n",
              "    *   Manor Lords aims to provide a gridless, organic city-building experience with full freedom of placement and rotation, but utilizing snapping tools to make the planning more comfortable. The building mechanic is motivated by the growth of real medieval towns and villages, where major trade routes and landscape often influenced how the settlement shaped and developed.\n",
              "\n",
              "*   **Core Features:**\n",
              "    *   **Organic City Building:** A gridless system allows for realistic town layouts.\n",
              "    *   **Historical Accuracy:** Inspired by late 14th-century Franconia, with attention to detail in buildings and resources. Inspired by the art and architecture of late 14th century Franconia, Manor Lords prioritizes historical accuracy wherever possible, using it to inform gameplay mechanics and visuals alike. Common medieval tropes are avoided in favor of historical accuracy in order to make the world feel more authentic, colorful, and believable.\n",
              "    *   **Resource Management:** Manage complex production chains and balance the needs of your people. From boots to barley and hides to honey, Manor Lords features a great variety of goods fitting of the era.\n",
              "    *   **Tactical Battles:** Lead your people into battle, considering morale, fatigue, and equipment.\n",
              "    *   **Economic Model:** Deeply intertwined with the seasons and natural resources available.\n",
              "\n",
              "*   **Appeal to History Buffs:** Inspired by the art and architecture of late 14th century Franconia, Manor Lords prioritizes historical accuracy wherever possible, using it to inform gameplay mechanics and visuals alike.\n",
              "    *   Strives for historical realism in its depiction of medieval life.\n",
              "    *   Buildings and activities are based on historical references from 11th to 15th century Europe. Fields must be plowed by a team of oxen, iron bloomed in a bloomery, the sheep herded on the open pastures governed by the Lord of the Manor…\n",
              "\n",
              "*   **Suitability for a 15-Year-Old:**\n",
              "\n",
              "    *   Manor Lords is rated \"Teen\" by the ESRB. For ages 13 and up. TEEN. Violence, Blood.\n",
              "    *   The game features medieval warfare, which includes violence and blood.\n",
              "    *   The complex economic and social simulations may require strategic thinking.\n",
              "    *   10+ year-olds usually have the required skill to enjoy this game. Still, it's important for parents and guardians to consider the maturity required to process the game content.\n",
              "\n",
              "    *Parents should consider the game's focus on warfare and resource management when determining suitability.*\n",
              "\n",
              "\n",
              "---\n",
              "\n",
              "### Executed task #2...\n",
              "\n",
              "**Goal**: Summarize the key information for each game in a way that is easy to understand for someone unfamiliar with gaming terminology.\n",
              "\n",
              "**Result**: Okay, here's a breakdown of each game, summarized for someone new to gaming:\n",
              "\n",
              "**Crusader Kings III**\n",
              "\n",
              "*   **What it is:** Imagine a game where you're in charge of a royal family in the Middle Ages. It's like a mix of a strategy board game and a soap opera, with lots of drama!\n",
              "\n",
              "*   **How you play:** You make decisions for your family, like who they marry, who they fight, and even who they scheme against. Each family member has their own personality, which affects how they behave. You can wage war, make alliances, and even create your own religion. The goal is to keep your family powerful for as long as possible.\n",
              "\n",
              "*   **Why history fans like it:** It's set in a very detailed and realistic version of the Middle Ages. You can experience historical events and interact with famous figures from the past.\n",
              "\n",
              "*   **Is it good for a 15-year-old?** This game has a rating of 12, which means it could be suitable for a 15 year old. However, it has some mature content, like violence, murder plots, suggestive scenes and even nudity that might not be suitable for all teens. Some of the things you can do in the game are a little messed up. Parents should check it out first.\n",
              "\n",
              "**Medieval Dynasty**\n",
              "\n",
              "*   **What it is:** You start as a young person in the Middle Ages and build your own village and family. It's like \"The Sims\" but set in medieval times.\n",
              "\n",
              "*   **How you play:** You gather resources like wood and food, build houses and farms, and hunt animals. You also need to trade with other villages and make sure your people are happy and healthy. Eventually, you'll get married, have kids, and your family will continue to grow your village for generations.\n",
              "\n",
              "*   **Why history fans like it:** It shows you what daily life was like for ordinary people in the Middle Ages. The tools, buildings, and activities in the game are all based on history.\n",
              "\n",
              "*   **Is it good for a 15-year-old?** It's rated \"Teen,\" so it's generally okay for ages 13 and up. There's some mild violence (hunting animals and fighting bandits) and some suggestive themes, but nothing too extreme. However, some sidequests can have dark themes that may include torture, adultery and rape.\n",
              "\n",
              "**Manor Lords**\n",
              "\n",
              "*   **What it is:** You're a lord in the Middle Ages, and you need to build and manage your own town. It's like being the mayor of a medieval village.\n",
              "\n",
              "*   **How you play:** You plan the layout of your town, build houses and workshops, and manage resources like food and materials. You also have to defend your town from enemies in battles. The game tries to be realistic, so there are no grids, and buildings are placed in a way that makes sense for the landscape.\n",
              "\n",
              "*   **Why history fans like it:** The game is inspired by real history, especially 14th-century Germany. The buildings and activities are based on historical sources, so it feels like you're really building a medieval town.\n",
              "\n",
              "*   **Is it good for a 15-year-old?** Manor Lords is rated \"Teen\" by the ESRB. It has some violence and blood due to the battles, but it's not overly gory. It also requires some strategic thinking, which can be good for teens.\n",
              "\n",
              "\n",
              "---\n",
              "\n",
              "### Executed task #3...\n",
              "\n",
              "**Goal**: Present the summaries of each game.\n",
              "\n",
              "**Result**: Okay, here are the summaries of each game, tailored for someone unfamiliar with gaming:\n",
              "\n",
              "**Crusader Kings III**\n",
              "\n",
              "Imagine a game where you're in charge of a royal family during the Middle Ages. It's a mix of a strategy board game and a soap opera – lots of drama!\n",
              "\n",
              "You make decisions for your family: who they marry, who they fight, and even who they scheme against. Each family member has their own personality, which affects how they behave. You can wage war, make alliances, and even create your own religion. The goal is to keep your family powerful for as long as possible.\n",
              "\n",
              "History fans like it because it's set in a very detailed and realistic version of the Middle Ages. You can experience historical events and interact with famous figures from the past.\n",
              "\n",
              "This game has a rating of 12, which means it could be suitable for a 15-year-old. However, it has some mature content, like violence, murder plots, suggestive scenes, and even nudity that might not be suitable for all teens. Some of the things you can do in the game are a little messed up. It is recommended that parents check it out first.\n",
              "\n",
              "**Medieval Dynasty**\n",
              "\n",
              "You start as a young person in the Middle Ages and build your own village and family. It's similar to \"The Sims\" but set in medieval times.\n",
              "\n",
              "You gather resources like wood and food, build houses and farms, and hunt animals. You also need to trade with other villages and ensure your people are happy and healthy. Eventually, you'll get married, have kids, and your family will continue to grow your village for generations.\n",
              "\n",
              "History fans like it because it shows you what daily life was like for ordinary people in the Middle Ages. The tools, buildings, and activities in the game are all based on history.\n",
              "\n",
              "It's rated \"Teen,\" so it's generally okay for ages 13 and up. There's some mild violence (hunting animals and fighting bandits) and some suggestive themes, but nothing too extreme. However, some sidequests can have dark themes that may include torture, adultery, and rape.\n",
              "\n",
              "**Manor Lords**\n",
              "\n",
              "You're a lord in the Middle Ages, and you need to build and manage your own town. It's like being the mayor of a medieval village.\n",
              "\n",
              "You plan the layout of your town, build houses and workshops, and manage resources like food and materials. You also have to defend your town from enemies in battles. The game tries to be realistic, so there are no grids, and buildings are placed in a way that makes sense for the landscape.\n",
              "\n",
              "The game is inspired by real history, especially 14th-century Germany. The buildings and activities are based on historical sources, so it feels like you're really building a medieval town.\n",
              "\n",
              "Manor Lords is rated \"Teen\" by the ESRB. It has some violence and blood due to the battles, but it's not overly gory. It also requires some strategic thinking, which can be good for teens.\n",
              "\n",
              "\n",
              "---\n",
              "\n",
              "### Reflection\n",
              "\n",
              "I've provided more detailed information about Crusader Kings III, Medieval Dynasty, and Manor Lords, tailored for someone new to gaming. I hope this helps you make an informed decision!"
            ],
            "text/plain": [
              "<IPython.core.display.Markdown object>"
            ]
          },
          "metadata": {},
          "output_type": "display_data"
        }
      ],
      "source": [
        "await ask(\n",
        "    \"I don't know anything about gaming. Can you give me more info?\",\n",
        "    session=session,\n",
        ")"
      ]
    }
  ],
  "metadata": {
    "colab": {
      "name": "task-planner.ipynb",
      "toc_visible": true
    },
    "kernelspec": {
      "display_name": "Python 3",
      "name": "python3"
    }
  },
  "nbformat": 4,
  "nbformat_minor": 0
}
