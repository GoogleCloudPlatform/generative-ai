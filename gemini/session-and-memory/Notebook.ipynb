{
 "cells": [
  {
   "cell_type": "code",
   "execution_count": null,
   "id": "c2e2f925",
   "metadata": {},
   "outputs": [],
   "source": [
    "!pip install --upgrade --quiet google-adk==1.16"
   ]
  },
  {
   "cell_type": "markdown",
   "id": "a5d3c46e0364dd06",
   "metadata": {},
   "source": [
    "# Building Intelligent Agents: Gemini, Google ADK, and Memory Management - Part 1\n",
    "\n",
    "In this notebook, you'll learn how to transform stateless LLMs into intelligent, stateful agents that can maintain conversation context and working memory. We'll explore Sessions, Events, Session State, and the concept of Context Engineering.\n",
    "\n",
    "**What you'll learn:**\n",
    "- Why LLMs are inherently *stateless* and how to overcome this limitation\n",
    "- Building *stateful* conversational agents with Sessions and Events\n",
    "- Understand the limitations of Session and Memory Context\n",
    "- Managing working memory with Session State\n",
    "- Best practices for managing long conversations\n",
    "\n",
    "**Time:** 20-25 minutes\n",
    "\n",
    "In the next notebook, we'll extend these concepts to cover long-term Memory that persists across sessions.\n",
    "\n",
    "## 1. Setup and Configuration\n",
    "\n",
    "This section covers the initial setup required to run the notebook, including installing libraries and configuring the environment.\n",
    "\n",
    "#### 1.1. Install Dependencies\n",
    "\n",
    "Install necessary Python packages: google-adk\n"
   ]
  },
  {
   "cell_type": "markdown",
   "id": "712d5317",
   "metadata": {},
   "source": [
    "#### 1.2. Environment Configuration\n",
    "\n",
    "- Set up Gemini API Key if using Google AI Studio\n",
    "- Set up Google Cloud Project ID and Location if using Vertex AI and handle authentication for Google Colab environments\n",
    "- Import required libraries\n",
    "- Define the agent_name, app_name, model and user_id\n",
    "\n",
    "##### **Vertex AI Users**\n",
    "If you are using **Vertex AI**, set the values of **PROJECT_ID** and **LOCATION** below and authenticate\n"
   ]
  },
  {
   "cell_type": "code",
   "execution_count": null,
   "id": "341f1146",
   "metadata": {
    "lines_to_next_cell": 2
   },
   "outputs": [],
   "source": [
    "import os\n",
    "\n",
    "PROJECT_ID = \"[your-project-name]\"  # @param {type:\"string\"}\n",
    "LOCATION = \"global\" # @param {type:\"string\"}\n",
    "\n",
    "if not PROJECT_ID:\n",
    "    PROJECT_ID = str(os.environ.get(\"GOOGLE_CLOUD_PROJECT\"))\n",
    "\n",
    "GOOGLE_GENAI_USE_VERTEXAI = \"1\" # Use Vertex AI API\n",
    "\n",
    "os.environ[\"GOOGLE_CLOUD_PROJECT\"] = PROJECT_ID\n",
    "os.environ[\"GOOGLE_CLOUD_LOCATION\"] = LOCATION\n",
    "os.environ[\"GOOGLE_GENAI_USE_VERTEXAI\"] = GOOGLE_GENAI_USE_VERTEXAI # Use Vertex AI API"
   ]
  },
  {
   "cell_type": "code",
   "execution_count": null,
   "id": "18c1c0aa",
   "metadata": {},
   "outputs": [],
   "source": [
    "# User Authentication - only required for Google Colab Notebooks\n",
    "import sys\n",
    "\n",
    "if \"google.colab\" in sys.modules:\n",
    "    from google.colab import auth\n",
    "    auth.authenticate_user()"
   ]
  },
  {
   "cell_type": "markdown",
   "id": "b3f08fb2",
   "metadata": {},
   "source": [
    "##### **Google AI Studio Users**\n",
    "If you are using **Google AI Studio**, store the API Key in the secret manager and access it below\n"
   ]
  },
  {
   "cell_type": "code",
   "execution_count": null,
   "id": "1419756e",
   "metadata": {},
   "outputs": [],
   "source": [
    "# import os\n",
    "# GEMINI_API_KEY = \"<add-your-api-key-here>\"  # @param {type:\"string\"}\n",
    "\n",
    "# if not GEMINI_API_KEY:\n",
    "#     GEMINI_API_KEY = str(os.environ.get(\"GEMINI_API_KEY\"), \"\")\n",
    "\n",
    "# os.environ[\"GEMINI_API_KEY\"] = GEMINI_API_KEY"
   ]
  },
  {
   "cell_type": "markdown",
   "id": "b1d812f1",
   "metadata": {},
   "source": [
    "## 2. Understanding the Challenge: Stateless LLMs\n",
    "\n",
    "At their core, Large Language Models are **inherently stateless**. Think of them as having amnesia after every interaction - their awareness is confined to the information you provide in a single API call. This means an agent without proper context management will react to the current prompt without considering any previous history.\n",
    "\n",
    "**Why does this matter?** Imagine trying to have a meaningful conversation with someone who forgets everything you've said after each sentence. That's the challenge we face with raw LLMs!\n",
    "\n",
    "Let's see this limitation in action. We'll build a simple chat with [Google GenAI SDK](https://github.com/googleapis/python-genai) and demonstrate how it forgets our name between calls.\n",
    "\n"
   ]
  },
  {
   "cell_type": "code",
   "execution_count": null,
   "id": "f9e7d5ff",
   "metadata": {},
   "outputs": [],
   "source": [
    "# Google Gen AI SDK Imports\n",
    "from google import genai\n",
    "from google.genai import types"
   ]
  },
  {
   "cell_type": "markdown",
   "id": "a20f1c08",
   "metadata": {},
   "source": [
    "In the example below, we provide username as `Sam` to let Gemini register this information\n"
   ]
  },
  {
   "cell_type": "code",
   "execution_count": null,
   "id": "2e1ca26d",
   "metadata": {},
   "outputs": [],
   "source": [
    "# Initialize the Gemini client - notice we're using the raw SDK without any session management\n",
    "client = genai.Client(http_options=types.HttpOptions(api_version=\"v1\"))\n",
    "model_name = \"gemini-2.5-flash-lite\"\n",
    "\n",
    "# First query: We introduce ourselves as Sam\n",
    "query = \"Hi, I am Sam. Tell me why the sky is blue?\"\n",
    "response = client.models.generate_content(model=model_name, contents=query)\n",
    "\n",
    "# Display the interaction\n",
    "print(f'User> {query}')\n",
    "print(f'Model> {response.text[:100]}..')\n",
    "\n",
    "# Example response:\n",
    "#   User> Hi, I am Sam. Tell me why the sky is blue?\n",
    "#   Model> Hi Sam! That's a great question, and the reason the sky is blue has to do with how sunlight interact.."
   ]
  },
  {
   "cell_type": "markdown",
   "id": "133ac9e2",
   "metadata": {},
   "source": [
    "    User> Hi, I am Sam. Tell me why the sky is blue?\n",
    "    Model> Hi Sam! That's a fantastic question, and it's all thanks to a phenomenon called **Rayleigh scatterin.."
   ]
  },
  {
   "cell_type": "markdown",
   "id": "44bac38f",
   "metadata": {},
   "source": [
    "Notice how Gemini responded with \"Hi Sam!\" in the previous interaction? Let's see if it remembers our name in a new API call:\n"
   ]
  },
  {
   "cell_type": "code",
   "execution_count": null,
   "id": "808436d2",
   "metadata": {},
   "outputs": [],
   "source": [
    "# Second query: Ask if the model remembers our name\n",
    "# This is a completely new API call with no context from the previous interaction\n",
    "query = \"Hi, what is my name?\"\n",
    "response = client.models.generate_content(model=model_name, contents=query)\n",
    "\n",
    "# Display the interaction\n",
    "print(f'User> {query}')\n",
    "print(f'Model> {response.text[:100]}...')\n",
    "\n",
    "# Example response:\n",
    "#   User> Hi, what is my name?\n",
    "#   Model> I do not know your name. I am a large language model, trained by Google.\n",
    "\n",
    "# 🔴 The model has completely forgotten that we introduced ourselves as Sam!"
   ]
  },
  {
   "cell_type": "markdown",
   "id": "373a06a1",
   "metadata": {},
   "source": [
    "    User> Hi, what is my name?\n",
    "    Model> I do not have access to your personal information, including your name. I am a large language model,..."
   ]
  },
  {
   "cell_type": "markdown",
   "id": "e820db2d",
   "metadata": {},
   "source": [
    "As you can see, the agent has *no record* of our first message. To build intelligent agents that can remember, learn, and personalize interactions, we must construct the context for every turn of a conversation. This practice is known as **Context Engineering**.\n",
    "\n",
    "### Section 2.1: Context Engineering\n",
    "\n",
    "In the earlier section, we understood that LLM can remember information that is available in the given context windows. In the section we will learn about how to effectively manage context windows using Google ADK.\n",
    "\n",
    "If you are familiar with [Prompt Engineering](https://en.wikipedia.org/wiki/Prompt_engineering), then you see **Context Engineering** an evolution from it. Let's understand the difference:\n",
    "\n",
    "**Prompt Engineering (Traditional approach):**\n",
    "- Focuses on crafting optimal, often static, system instructions\n",
    "- Works using fixed templates\n",
    "- Limited adaptation to a limited context or scenarios\n",
    "\n",
    "**Context Engineering (Modern approach):**\n",
    "- Focuses on understanding user preferences, often dynamic and data(context) driven decisions.\n",
    "- Addresses the entire payload, dynamically constructing a state-aware prompt\n",
    "- Wide range of adaptation due to ability to improve over time.\n",
    "\n",
    "In Google ADK, to manage context we have 2 key components: **Sessions** (conversation history) and **State** (working memory)."
   ]
  },
  {
   "cell_type": "markdown",
   "id": "4d3d61cd",
   "metadata": {},
   "source": [
    "### Section 2.2: Understanding Sessions, Events & Runner\n",
    "\n",
    "Now let's explore how Google ADK implements Context Engineering through Sessions.\n",
    "\n",
    "#### Key Concepts:\n",
    "\n",
    "**📦 Session**\n",
    "\n",
    "In Google ADK, A session is a foundational element of Context Engineering. A session is a container for conversations. It encapsulates the conversation history in a chronological manner and also records all tool interactions and responses for a single, continuous conversation.\n",
    "\n",
    "A session is tied to a user and for a specific agent. For instance a session history for 1 user is not shared with other users. Similarly, a session history for an Agent is not shared with other Agent. These segregation helps to keep information separate and private(limited) thus enabling the Agent's performance over time. \n",
    "\n",
    "**📝 Events**:\n",
    "\n",
    "While A session is a container for conversations, Events are the building blocks of a conversation.\n",
    "\n",
    "- **User Input**: A message from the user (text, audio, image, etc.)\n",
    "- **Agent Response**: The agent's reply to the user\n",
    "- **Tool Call**: The agent's decision to use an external tool or API\n",
    "- **Tool Output**: The data returned from a tool call, which the agent uses to continue its reasoning"
   ]
  },
  {
   "cell_type": "markdown",
   "id": "9f9a7dea",
   "metadata": {},
   "source": [
    "**🎯 ADK Components:**\n",
    "\n",
    "An Agentic Application can have multiple users and each user may have multiple sessions with the Application. To manage these sessions and events, Google ADK offers a **SessionManager** and **Runner**.\n",
    "\n",
    "1. **`SessionService`**: The storage layer\n",
    "   - Manages creation, storage, and retrieval of session data\n",
    "   - Different implementations for different needs (memory, database, cloud)\n",
    "\n",
    "2. **`Runner`**: The orchestration layer\n",
    "   - Manages the flow of information between user and agent\n",
    "   - Automatically maintains conversation history\n",
    "   - Handles the Context Engineering behind the scenes\n",
    "\n",
    "Think of it like this:\n",
    "- **Session** = A notebook 📓\n",
    "- **Events** = Individual entries in the notebook 📝\n",
    "- **SessionService** = The filing cabinet storing notebooks 🗄️\n",
    "- **Runner** = The assistant managing the conversation 🤖\n",
    "\n",
    "### Section 2.3: Implementing a Session for Conversational History\n",
    "\n",
    "Let's rebuild our agent, but this time, we'll use a `Runner` and a `SessionService` to make it stateful. Watch how the same conversation works when we properly manage context!\n"
   ]
  },
  {
   "cell_type": "code",
   "execution_count": null,
   "id": "59609b40",
   "metadata": {
    "lines_to_next_cell": 2
   },
   "outputs": [],
   "source": [
    "import warnings\n",
    "import logging\n",
    "from typing import Any, Iterator, Optional, List, Dict\n",
    "import httpx\n",
    "\n",
    "from google.adk.agents import Agent, LlmAgent\n",
    "from google.adk.sessions import InMemorySessionService\n",
    "from google.adk.sessions import DatabaseSessionService\n",
    "from google.adk.runners import Runner\n",
    "from google.genai import types"
   ]
  },
  {
   "cell_type": "markdown",
   "id": "ac5a3596",
   "metadata": {},
   "source": [
    "LLMs usually work by converting user input information into token and respond in tokens. These tokens are later converted into text, video, images or audio depending on LLM's capability. While all these steps are usually managed by LLM service provider, the LLMs response take time.\n",
    "\n",
    "```mermaid\n",
    "block-beta\n",
    "    A space B space C space D space E space F\n",
    "    \n",
    "    A[\"😊 User Input\"] --> B(\"Input2Tokens\")\n",
    "    B --> C{\"LLM Processing\"}\n",
    "    C --> D(\"Response Tokens\")\n",
    "    D --> E{\"Tokens2Output\"}\n",
    "    E --> F[\"🌸 Model Response.\"]\n",
    "```\n",
    "\n",
    "To be efficient, Google ADK uses async calls for LLMs and others. Let's create a helper function that will make it easy to run conversations in this notebook:\n"
   ]
  },
  {
   "cell_type": "code",
   "execution_count": null,
   "id": "7394f0db",
   "metadata": {},
   "outputs": [],
   "source": [
    "async def run_session(runner_instance: Runner, user_queries: list[str] | str = None, session_name: str = \"default\"):\n",
    "    \"\"\"\n",
    "    Helper function that manages a complete conversation session, handling session\n",
    "    creation/retrieval, query processing, and response streaming. It supports\n",
    "    both single queries and multiple queries in sequence.\n",
    "\n",
    "    Args:\n",
    "        runner_instance (Runner): The ADK Runner instance that manages the\n",
    "            conversation flow between user and agent.\n",
    "        user_queries (list[str] | str | None): Either a single query string,\n",
    "            a list of query strings to process sequentially, or None if no\n",
    "            queries are provided.\n",
    "        session_name (str): A unique identifier for the session. Defaults to\n",
    "            \"default\". Used to resume previous conversations or start new ones.\n",
    "\n",
    "    Returns:\n",
    "        None: This function prints the conversation to stdout rather than\n",
    "            returning values.\n",
    "\n",
    "    Example:\n",
    "        >>> await run_session(runner, \"What is the capital of France?\", \"geography-session\")\n",
    "        >>> await run_session(runner, [\"Hello!\", \"What's my name?\"], \"user-intro-session\")\n",
    "\n",
    "    Note:\n",
    "        - If a session with the given name already exists, it will be resumed.\n",
    "    \"\"\"\n",
    "    # Display the session identifier for tracking\n",
    "    print(f\"\\n ### Session: {session_name}\")\n",
    "\n",
    "    # Attempt to create a new session or retrieve an existing one\n",
    "    try:\n",
    "        session = await session_service.create_session(app_name=APP_NAME, user_id=USER_ID, session_id=session_name)\n",
    "    except:\n",
    "        session = await session_service.get_session(app_name=APP_NAME, user_id=USER_ID, session_id=session_name)\n",
    "\n",
    "    # Process queries if provided\n",
    "    if user_queries:\n",
    "        # Convert single query to list for uniform processing\n",
    "        if type(user_queries) == str:\n",
    "            user_queries = [user_queries]\n",
    "\n",
    "        # Process each query in the list sequentially\n",
    "        for query in user_queries:\n",
    "            # Display the user's query\n",
    "            print(f\"\\nUser > {query}\")\n",
    "\n",
    "            # Convert the query string to the ADK Content format\n",
    "            query = types.Content(role=\"user\", parts=[types.Part(text=query)])\n",
    "\n",
    "            # Stream the agent's response asynchronously\n",
    "            async for event in runner_instance.run_async(user_id=USER_ID, session_id=session.id, new_message=query):\n",
    "                # Check if the event contains valid content\n",
    "                if event.content and event.content.parts:\n",
    "                    # Filter out empty or \"None\" responses before printing\n",
    "                    if event.content.parts[0].text != \"None\" and event.content.parts[0].text:\n",
    "                        # Display the model's response with the model name prefix\n",
    "                        print(f\"{MODEL_NAME} > \", event.content.parts[0].text)\n",
    "    else:\n",
    "        print(\"No queries!\")"
   ]
  },
  {
   "cell_type": "markdown",
   "id": "3ea34d09",
   "metadata": {},
   "source": [
    "### Implementing Our First Stateful Agent\n",
    "\n",
    "Now let's put this into practice. ADK offers different types of sessions suitable for different needs. To begin, we'll start with `InMemorySessionService` for simplicity:\n"
   ]
  },
  {
   "cell_type": "code",
   "execution_count": null,
   "id": "61012bce",
   "metadata": {},
   "outputs": [],
   "source": [
    "APP_NAME = \"default\"        # Application\n",
    "USER_ID = \"default\"         # User\n",
    "SESSION = \"default\"         # Session\n",
    "\n",
    "MODEL_NAME = \"gemini-2.5-flash-lite\"\n",
    "\n",
    "\n",
    "# Step 1: Create the LLM Agent\n",
    "# This defines WHAT our agent is - its model and purpose\n",
    "root_agent = Agent(\n",
    "    model=\"gemini-2.5-flash-lite\",  # Using the efficient Gemini model\n",
    "    name=\"text_chat_bot\",           # Internal name for logging/debugging\n",
    "    description=\"A text chatbot\",   # Description of the agent's purpose\n",
    ")\n",
    "\n",
    "# Step 2: Set up Session Management\n",
    "# InMemorySessionService stores conversations in RAM (temporary)\n",
    "session_service = InMemorySessionService()\n",
    "\n",
    "# Step 3: Create the Runner\n",
    "# The Runner orchestrates everything - it connects the agent with session management\n",
    "runner = Runner(\n",
    "    agent=root_agent,\n",
    "    app_name=APP_NAME,\n",
    "    session_service=session_service\n",
    ")\n",
    "\n",
    "print(\"✅ Stateful agent initialized!\")\n",
    "print(f\"   - Application: {APP_NAME}\")\n",
    "print(f\"   - User: {USER_ID}\")\n",
    "print(f\"   - Using: {session_service.__class__.__name__}\")"
   ]
  },
  {
   "cell_type": "markdown",
   "id": "b1472068",
   "metadata": {},
   "source": [
    "    ✅ Stateful agent initialized!\n",
    "       - Application: default\n",
    "       - User: default\n",
    "       - Using: InMemorySessionService"
   ]
  },
  {
   "cell_type": "markdown",
   "id": "30e2afbb",
   "metadata": {},
   "source": [
    "### Testing Our Stateful Agent\n",
    "\n",
    "Now let's see the magic of sessions in action! We'll run the same conversation that failed with the stateless approach:\n"
   ]
  },
  {
   "cell_type": "code",
   "execution_count": null,
   "id": "c91e8a39",
   "metadata": {
    "lines_to_next_cell": 2
   },
   "outputs": [],
   "source": [
    "# Run a conversation with two queries in the same session\n",
    "# Notice: Both queries are part of the SAME session, so context is maintained\n",
    "await run_session(runner, [\n",
    "    \"Hi, I am Sam! What is the capital of United States?\",\n",
    "    \"Hello! What is my name?\"  # This time, the agent should remember!\n",
    "], \"test-session-01\")\n",
    "\n",
    "# Expected output:\n",
    "# ### Session: default-test-session-01\n",
    "#\n",
    "# User > Hi, I am Sam! What is the capital of the United States?\n",
    "# gemini-2.5-flash-lite > Hi Sam! The capital of the United States is Washington, D.C.\n",
    "#\n",
    "# User > Hello! What is my name?\n",
    "# gemini-2.5-flash-lite > Your name is Sam! You told me at the beginning of our conversation."
   ]
  },
  {
   "cell_type": "markdown",
   "id": "885d6b5f",
   "metadata": {},
   "source": [
    "     ### Session: test-session-01\n",
    "    \n",
    "    User > Hi, I am Sam! What is the capital of United States?\n",
    "    gemini-2.5-flash-lite >  Hi Sam! The capital of the United States is Washington, D.C.\n",
    "    \n",
    "    User > Hello! What is my name?\n",
    "    gemini-2.5-flash-lite >  Your name is Sam.\n",
    "\n",
    "\n",
    "🎉 **Success!** The agent remembered your name because both queries were part of the same session. The Runner automatically maintained the conversation history.\n",
    "\n",
    "But there's a catch: `InMemorySessionService` is temporary. Once the application stops, all conversation history is lost. Let's confirm this by continuing the same session:\n"
   ]
  },
  {
   "cell_type": "code",
   "execution_count": null,
   "id": "ed8f423b",
   "metadata": {
    "lines_to_next_cell": 2
   },
   "outputs": [],
   "source": [
    "# Continue the same session - the agent should still remember everything\n",
    "await run_session(runner, [\n",
    "    \"What did I ask you about earlier?\",\n",
    "    \"And remind me, what's my name?\"\n",
    "], \"test-session-01\")  # Note, we are using same session name\n",
    "\n",
    "# The agent remembers because we're still in the same session!\n",
    "# But if you restart the kernel, all this history will be gone..."
   ]
  },
  {
   "cell_type": "markdown",
   "id": "020c3e5e",
   "metadata": {},
   "source": [
    "     ### Session: test-session-01\n",
    "    \n",
    "    User > What did I ask you about earlier?\n",
    "    gemini-2.5-flash-lite >  I do not have the ability to recall past conversations. Therefore, I cannot tell you what you asked me about earlier.\n",
    "    \n",
    "    User > And remind me, what's my name?\n",
    "    gemini-2.5-flash-lite >  I do not have the ability to recall past conversations. Therefore, I cannot tell you your name.\n",
    "\n",
    "\n",
    "## 3. Persistent Sessions with DatabaseSessionService\n",
    "\n",
    "While `InMemorySessionService` is great for prototyping, real-world applications need conversations to survive restarts, crashes, and deployments. Let's level up to persistent storage!\n",
    "\n",
    "### 3.1. Choosing the Right SessionService\n",
    "\n",
    "ADK provides different SessionService implementations for different needs:\n",
    "\n",
    "| Service | Use Case | Persistence | Best For |\n",
    "|---------|----------|-------------|----------|\n",
    "| **InMemorySessionService** | Development & Testing | ❌ Lost on restart | Quick prototypes |\n",
    "| **DatabaseSessionService** | Self-managed apps | ✅ Survives restarts | Small to medium apps |\n",
    "| **Agent Engine Sessions** | Production on GCP | ✅ Fully managed | Enterprise scale |\n",
    "\n",
    "### 3.2. Implementing Persistent Sessions\n",
    "\n",
    "Let's upgrade to `DatabaseSessionService` using SQLite. This gives us persistence without needing a separate database server:\n"
   ]
  },
  {
   "cell_type": "code",
   "execution_count": null,
   "id": "ee52161c",
   "metadata": {},
   "outputs": [],
   "source": [
    "# Clean up any existing database to start fresh\n",
    "import os\n",
    "if os.path.exists(\"my_agent_data.db\"):\n",
    "    os.remove(\"my_agent_data.db\")\n",
    "print(\"🗑️  Cleaned up old database files\")"
   ]
  },
  {
   "cell_type": "markdown",
   "id": "c8b06976",
   "metadata": {},
   "source": [
    "    🗑️  Cleaned up old database files\n",
    "\n"
   ]
  },
  {
   "cell_type": "code",
   "execution_count": null,
   "id": "c938409c",
   "metadata": {},
   "outputs": [],
   "source": [
    "from google.adk.sessions import DatabaseSessionService\n",
    "\n",
    "# Step 1: Create the same agent (notice we use LlmAgent this time)\n",
    "root_agent = LlmAgent(\n",
    "    model=\"gemini-2.5-flash-lite\",\n",
    "    name=\"text_chat_bot\",\n",
    "    description=\"A text chatbot with persistent memory\",\n",
    ")\n",
    "\n",
    "# Step 2: Switch to DatabaseSessionService\n",
    "# SQLite database will be created automatically\n",
    "db_url = \"sqlite:///my_agent_data.db\"  # Local SQLite file\n",
    "session_service = DatabaseSessionService(db_url=db_url)\n",
    "\n",
    "# Step 3: Create a new runner with persistent storage\n",
    "runner = Runner(\n",
    "    agent=root_agent,\n",
    "    app_name=APP_NAME,\n",
    "    session_service=session_service\n",
    ")\n",
    "\n",
    "print(\"✅ Upgraded to persistent sessions!\")\n",
    "print(f\"   - Database: my_agent_data.db\")\n",
    "print(f\"   - Sessions will survive restarts!\")"
   ]
  },
  {
   "cell_type": "markdown",
   "id": "7f03967b",
   "metadata": {},
   "source": [
    "    ✅ Upgraded to persistent sessions!\n",
    "       - Database: my_agent_data.db\n",
    "       - Sessions will survive restarts!"
   ]
  },
  {
   "cell_type": "markdown",
   "id": "ab183299",
   "metadata": {},
   "source": [
    "### Test Run 1: Verifying Persistence\n",
    "\n",
    "In this first test run, we'll start a new conversation with the session ID `test-db-session-01`. We will first introduce our name as 'Sam' and then ask a question. In the second turn, we will ask the agent for our name.\n",
    "\n",
    "Since we are using `DatabaseSessionService`, the agent should remember the name.\n",
    "\n",
    "After the conversation, we'll inspect the `my_agent_data.db` SQLite database directly to see how the conversation `events` (the user queries and model responses) are stored.\n"
   ]
  },
  {
   "cell_type": "code",
   "execution_count": null,
   "id": "0acbb156",
   "metadata": {
    "lines_to_next_cell": 2
   },
   "outputs": [],
   "source": [
    "await run_session(runner, [\n",
    "    \"Hi, I am Sam! what is the Capital of United States?\",\n",
    "    \"Hello! what is my name?\"\n",
    "], \"test-db-session-01\")"
   ]
  },
  {
   "cell_type": "markdown",
   "id": "c9cf4a86",
   "metadata": {},
   "source": [
    "     ### Session: test-db-session-01\n",
    "    \n",
    "    User > Hi, I am Sam! what is the Capital of United States?\n",
    "    gemini-2.5-flash-lite >  Hello Sam! The capital of the United States is Washington, D.C.\n",
    "    \n",
    "    User > Hello! what is my name?\n",
    "    gemini-2.5-flash-lite >  Your name is Sam.\n",
    "\n",
    "\n",
    "### Test Run 2: Resuming a Conversation\n",
    "\n",
    "Now, let's run the session again with the **same session ID** (`test-db-session-01`). This simulates resuming a previous conversation.\n",
    "\n",
    "We will ask a new question and then ask for our name again. Because the session is loaded from the database, the agent should still remember that our name is 'Sam' from the first test run. This demonstrates the power of persistent sessions.\n"
   ]
  },
  {
   "cell_type": "code",
   "execution_count": null,
   "id": "a459ce88",
   "metadata": {
    "lines_to_next_cell": 2
   },
   "outputs": [],
   "source": [
    "await run_session(runner, [\n",
    "    \"What is the Capital of India?\",\n",
    "    \"Hello! what is my name?\"\n",
    "], \"test-db-session-01\")"
   ]
  },
  {
   "cell_type": "markdown",
   "id": "4ac16bd2",
   "metadata": {},
   "source": [
    "     ### Session: test-db-session-01\n",
    "    \n",
    "    User > What is the Capital of India?\n",
    "    gemini-2.5-flash-lite >  The capital of India is New Delhi.\n",
    "    \n",
    "    User > Hello! what is my name?\n",
    "    gemini-2.5-flash-lite >  Your name is Sam.\n",
    "\n",
    "\n",
    "### Observation: Sqlite Sesion Events\n",
    "\n",
    "As we using a sqlite DB to store informations, let us have a quick peek to see how information is store.\n"
   ]
  },
  {
   "cell_type": "code",
   "execution_count": null,
   "id": "b703b5ec",
   "metadata": {},
   "outputs": [],
   "source": [
    "import sqlite3\n",
    "\n",
    "def check_data_in_db():\n",
    "    with sqlite3.connect(\"my_agent_data.db\") as connection:\n",
    "        cursor = connection.cursor()\n",
    "        result = cursor.execute(\"select app_name, session_id, author, content from events\")\n",
    "        print([_[0] for _ in result.description])\n",
    "        for each in result.fetchall():\n",
    "            print(each)\n",
    "\n",
    "\n",
    "check_data_in_db()"
   ]
  },
  {
   "cell_type": "markdown",
   "id": "937441cf",
   "metadata": {},
   "source": [
    "    ['app_name', 'session_id', 'author', 'content']\n",
    "    ('default', 'test-db-session-01', 'user', '{\"parts\": [{\"text\": \"Hi, I am Sam! what is the Capital of United States?\"}], \"role\": \"user\"}')\n",
    "    ('default', 'test-db-session-01', 'text_chat_bot', '{\"parts\": [{\"text\": \"Hello Sam! The capital of the United States is Washington, D.C.\"}], \"role\": \"model\"}')\n",
    "    ('default', 'test-db-session-01', 'user', '{\"parts\": [{\"text\": \"Hello! what is my name?\"}], \"role\": \"user\"}')\n",
    "    ('default', 'test-db-session-01', 'text_chat_bot', '{\"parts\": [{\"text\": \"Your name is Sam.\"}], \"role\": \"model\"}')\n",
    "    ('default', 'test-db-session-01', 'user', '{\"parts\": [{\"text\": \"What is the Capital of India?\"}], \"role\": \"user\"}')\n",
    "    ('default', 'test-db-session-01', 'text_chat_bot', '{\"parts\": [{\"text\": \"The capital of India is New Delhi.\"}], \"role\": \"model\"}')\n",
    "    ('default', 'test-db-session-01', 'user', '{\"parts\": [{\"text\": \"Hello! what is my name?\"}], \"role\": \"user\"}')\n",
    "    ('default', 'test-db-session-01', 'text_chat_bot', '{\"parts\": [{\"text\": \"Your name is Sam.\"}], \"role\": \"model\"}')"
   ]
  },
  {
   "cell_type": "markdown",
   "id": "c5be64d9",
   "metadata": {},
   "source": [
    "### Session to Session Segregations\n",
    "\n",
    "As mentioned earlier, a session is private conversation between an Agent and a User. i.e. Two session do not share information. Let run our `run_session` with a different session name `test-db-session-02` to confirm this.\n"
   ]
  },
  {
   "cell_type": "code",
   "execution_count": null,
   "id": "709bbcd0",
   "metadata": {
    "lines_to_next_cell": 2
   },
   "outputs": [],
   "source": [
    "await run_session(runner, [\n",
    "    \"Hello! what is my name?\"\n",
    "], \"test-db-session-02\")   # Note, we are using new session name"
   ]
  },
  {
   "cell_type": "markdown",
   "id": "efa25997",
   "metadata": {},
   "source": [
    "     ### Session: test-db-session-02\n",
    "    \n",
    "    User > Hello! what is my name?\n",
    "    gemini-2.5-flash-lite >  I do not have access to your personal information, including your name. I am a text-based AI and do not have the ability to know who you are.\n",
    "\n",
    "\n",
    "While isolation of information is good, it can become counter productive when working with Multiple (Sub) Agents or when working with same User. At the same time, sharing the entire conversation history is ineffective. In Google ADK, we use Session.State for short term (conversational data) and Memory for long term (past user conversational data) to address this.\n",
    "\n",
    "## 4. Working with Session State\n",
    "\n",
    "So far, we've focused on conversation history (Events). But sessions can also maintain **structured working memory** called Session State. This is like the agent's notepad or scratchpad during a conversation.\n",
    "\n",
    "### 4.1. Understanding Session State\n",
    "\n",
    "Within each Session (our conversation thread), the state attribute acts like the agent's dedicated scratchpad for that specific interaction. While `session.events` holds the full history, `session.state` is where the agent stores and updates **dynamic details** needed during the conversation.\n",
    "\n",
    "### 4.2. Key Characteristics of State\n",
    "\n",
    "- (Dictionary) Structure: Conceptually, `session.state` is a collection (dictionary or Map) holding key-value pairs.\n",
    "- Mutability: It is automatically managed and updated during conversation history.\n",
    "- Persistence: Its persistancy is dependent of Session."
   ]
  },
  {
   "cell_type": "markdown",
   "id": "c35b0edf",
   "metadata": {},
   "source": [
    "### 4.3. Session State (`output_key`)\n",
    "\n",
    "For a Multi-Agent application, ensuring model responses are stored in session state is crucial. In Google ADK, `output_key` parameter is used for this and it is automatically managed in the session state (session.state).\n"
   ]
  },
  {
   "cell_type": "code",
   "execution_count": null,
   "id": "6b2b20b0",
   "metadata": {},
   "outputs": [],
   "source": [
    "from google.adk.agents import LlmAgent\n",
    "\n",
    "\n",
    "root_agent = LlmAgent(\n",
    "    model=\"gemini-2.5-flash-lite\",\n",
    "    name=\"text_chat_bot\",\n",
    "    description=\"A text chatbot\",\n",
    "    output_key=\"text_chat_bot_output_key\"  # Note: Adding `output_key` \n",
    ")"
   ]
  },
  {
   "cell_type": "markdown",
   "id": "4ad8b689",
   "metadata": {},
   "source": [
    "### 4.4. Best Practices for State Design Recap\n",
    "\n",
    "* Minimalism: Store only essential, dynamic data.\n",
    "* Serialization: Use basic, serializable types.\n",
    "* Descriptive Keys & Prefixes: Use clear names and appropriate optional prefixes (user:, app:, temp:).\n",
    "\n",
    "## 5. Production Considerations\n",
    "\n",
    "When moving an agent to a production environment, its session management system must evolve from a simple log to a robust, enterprise-grade service. The is not the complete list but key considerations fall into three critical areas.\n",
    "\n",
    "1. **Security and Privacy:** Protecting sensitive information in sessions is **non-negotiable**. Use ACLs (Access Control List) when necessary.\n",
    "\n",
    "2. **Data Integrity and Lifecycle Management:**  Sessions need clear rules for storage and maintenance. Add data retention policies to manage past conversation history.\n",
    "\n",
    "3. **Performance and Scalability:** An Agentic application needs to be fast and reliable to provide a good user performance.\n"
   ]
  },
  {
   "cell_type": "markdown",
   "id": "e742eded",
   "metadata": {},
   "source": [
    "## 6. What You've Built\n",
    "\n",
    "🎉  Congratulations! You've mastered the fundamentals of building stateful AI agents:\n",
    "\n",
    "- ✅ **Context Engineering** - You understand how to dynamically assemble context for LLMs\n",
    "- ✅ **Sessions & Events** - You can maintain conversation history across multiple turns\n",
    "- ✅ **Persistent Storage** - You know how to make conversations survive restarts\n",
    "- ✅ **Session State** - You can track structured data during conversations\n",
    "- ✅ **Production Considerations** - You're ready to handle real-world challenges\n",
    "\n",
    "### To Recap - Your Journey So Far\n",
    "\n",
    "1. Started with stateless LLMs that forget everything\n",
    "2. Learned about Context Engineering vs Prompt Engineering\n",
    "3. Implemented stateful agents with Sessions\n",
    "4. Upgraded to persistent storage with databases\n",
    "5. Introduction to Sesion.State.\n",
    "6. A few production considerations"
   ]
  },
  {
   "cell_type": "markdown",
   "id": "4e577980",
   "metadata": {},
   "source": [
    "## Learn more\n",
    "\n",
    "To learn more about Sessions and State in depth:\n",
    "\n",
    "* https://google.github.io/adk-docs/sessions/session/\n",
    "* https://google.github.io/adk-docs/sessions/state/\n",
    "* https://medium.com/google-cloud/2-minute-adk-manage-context-efficiently-with-artifacts-6fcc6683d274\n",
    "* https://medium.com/google-cloud/2-minute-adk-context-compaction-in-a-snap-470da15c30f4"
   ]
  },
  {
   "cell_type": "code",
   "execution_count": null,
   "id": "8f91c3cd-0eeb-42ba-921d-a604e7e2ea13",
   "metadata": {},
   "outputs": [],
   "source": []
  }
 ],
 "metadata": {
  "jupytext": {
   "cell_metadata_filter": "-all",
   "main_language": "python",
   "notebook_metadata_filter": "-all"
  },
  "kernelspec": {
   "display_name": "Python 3 (ipykernel)",
   "language": "python",
   "name": "python3"
  },
  "language_info": {
   "codemirror_mode": {
    "name": "ipython",
    "version": 3
   },
   "file_extension": ".py",
   "mimetype": "text/x-python",
   "name": "python",
   "nbconvert_exporter": "python",
   "pygments_lexer": "ipython3",
   "version": "3.13.4"
  }
 },
 "nbformat": 4,
 "nbformat_minor": 5
}
