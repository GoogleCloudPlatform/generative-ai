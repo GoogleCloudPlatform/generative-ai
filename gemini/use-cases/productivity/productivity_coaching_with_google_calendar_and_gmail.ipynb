{
  "cells": [
    {
      "cell_type": "code",
      "execution_count": null,
      "metadata": {
        "id": "ur8xi4C7S06n"
      },
      "outputs": [],
      "source": [
        "# Copyright 2025 Google LLC\n",
        "#\n",
        "# Licensed under the Apache License, Version 2.0 (the \"License\");\n",
        "# you may not use this file except in compliance with the License.\n",
        "# You may obtain a copy of the License at\n",
        "#\n",
        "#     https://www.apache.org/licenses/LICENSE-2.0\n",
        "#\n",
        "# Unless required by applicable law or agreed to in writing, software\n",
        "# distributed under the License is distributed on an \"AS IS\" BASIS,\n",
        "# WITHOUT WARRANTIES OR CONDITIONS OF ANY KIND, either express or implied.\n",
        "# See the License for the specific language governing permissions and\n",
        "# limitations under the License."
      ]
    },
    {
      "cell_type": "markdown",
      "metadata": {
        "id": "84f0f73a0f76"
      },
      "source": [
        "| | |\n",
        "|-|-|\n",
        "| Author(s) |  [Mohammad Al-Ansari](https://github.com/mansari/) |"
      ]
    },
    {
      "cell_type": "markdown",
      "metadata": {
        "id": "JAPoU8Sm5E6e"
      },
      "source": [
        "# Productivity Coaching with Gemini and Gmail and Google Calendar APIs\n",
        "\n",
        "<table align=\"left\">\n",
        "  <td style=\"text-align: center\">\n",
        "    <a href=\"https://colab.research.google.com/github/GoogleCloudPlatform/generative-ai/blob/main/gemini/use-cases/productivity/productivity_coaching_with_google_calendar_and_gmail.ipynb\">\n",
        "      <img width=\"32px\" src=\"https://www.gstatic.com/pantheon/images/bigquery/welcome_page/colab-logo.svg\" alt=\"Google Colaboratory logo\"><br> Open in Colab\n",
        "    </a>\n",
        "  </td>\n",
        "  <td style=\"text-align: center\">\n",
        "    <a href=\"https://console.cloud.google.com/vertex-ai/colab/import/https:%2F%2Fraw.githubusercontent.com%2FGoogleCloudPlatform%2Fgenerative-ai%2Fmain%2Fgemini%2Fuse-cases%2Fproductivity%2Fproductivity_coaching_with_google_calendar_and_gmail.ipynb\">\n",
        "      <img width=\"32px\" src=\"https://lh3.googleusercontent.com/JmcxdQi-qOpctIvWKgPtrzZdJJK-J3sWE1RsfjZNwshCFgE_9fULcNpuXYTilIR2hjwN\" alt=\"Google Cloud Colab Enterprise logo\"><br> Open in Colab Enterprise\n",
        "    </a>\n",
        "  </td>\n",
        "  <td style=\"text-align: center\">\n",
        "    <a href=\"https://console.cloud.google.com/vertex-ai/workbench/deploy-notebook?download_url=https://raw.githubusercontent.com/GoogleCloudPlatform/generative-ai/main/gemini/use-cases/productivity/productivity_coaching_with_google_calendar_and_gmail.ipynb\">\n",
        "      <img src=\"https://www.gstatic.com/images/branding/gcpiconscolors/vertexai/v1/32px.svg\" alt=\"Vertex AI logo\"><br> Open in Vertex AI Workbench\n",
        "    </a>\n",
        "  </td>\n",
        "  <td style=\"text-align: center\">\n",
        "    <a href=\"https://github.com/GoogleCloudPlatform/generative-ai/blob/main/gemini/use-cases/productivity/productivity_coaching_with_google_calendar_and_gmail.ipynb\">\n",
        "      <img width=\"32px\" src=\"https://upload.wikimedia.org/wikipedia/commons/9/91/Octicons-mark-github.svg\" alt=\"GitHub logo\"><br> View on GitHub\n",
        "    </a>\n",
        "  </td>\n",
        "</table>\n",
        "\n",
        "<div style=\"clear: both;\"></div>\n",
        "\n",
        "<b>Share to:</b>\n",
        "\n",
        "<a href=\"https://www.linkedin.com/sharing/share-offsite/?url=https%3A//github.com/GoogleCloudPlatform/generative-ai/blob/main/gemini/use-cases/productivity/productivity_coaching_with_google_calendar_and_gmail.ipynb\" target=\"_blank\">\n",
        "  <img width=\"20px\" src=\"https://upload.wikimedia.org/wikipedia/commons/8/81/LinkedIn_icon.svg\" alt=\"LinkedIn logo\">\n",
        "</a>\n",
        "\n",
        "<a href=\"https://bsky.app/intent/compose?text=https%3A//github.com/GoogleCloudPlatform/generative-ai/blob/main/gemini/use-cases/productivity/productivity_coaching_with_google_calendar_and_gmail.ipynb\" target=\"_blank\">\n",
        "  <img width=\"20px\" src=\"https://upload.wikimedia.org/wikipedia/commons/7/7a/Bluesky_Logo.svg\" alt=\"Bluesky logo\">\n",
        "</a>\n",
        "\n",
        "<a href=\"https://twitter.com/intent/tweet?url=https%3A//github.com/GoogleCloudPlatform/generative-ai/blob/main/gemini/use-cases/productivity/productivity_coaching_with_google_calendar_and_gmail.ipynb\" target=\"_blank\">\n",
        "  <img width=\"20px\" src=\"https://upload.wikimedia.org/wikipedia/commons/5/53/X_logo_2023_original.svg\" alt=\"X logo\">\n",
        "</a>\n",
        "\n",
        "<a href=\"https://reddit.com/submit?url=https%3A//github.com/GoogleCloudPlatform/generative-ai/blob/main/gemini/use-cases/productivity/productivity_coaching_with_google_calendar_and_gmail.ipynb\" target=\"_blank\">\n",
        "  <img width=\"20px\" src=\"https://redditinc.com/hubfs/Reddit%20Inc/Brand/Reddit_Logo.png\" alt=\"Reddit logo\">\n",
        "</a>\n",
        "\n",
        "<a href=\"https://www.facebook.com/sharer/sharer.php?u=https%3A//github.com/GoogleCloudPlatform/generative-ai/blob/main/gemini/use-cases/productivity/productivity_coaching_with_google_calendar_and_gmail.ipynb\" target=\"_blank\">\n",
        "  <img width=\"20px\" src=\"https://upload.wikimedia.org/wikipedia/commons/5/51/Facebook_f_logo_%282019%29.svg\" alt=\"Facebook logo\">\n",
        "</a>"
      ]
    },
    {
      "cell_type": "markdown",
      "metadata": {
        "id": "mzi17id6IXv-"
      },
      "source": [
        "## Overview\n",
        "\n",
        "This notebook will demonstrate how you can use Gemini as your personal productivity coach, by giving it the ability to call external APIs - in this case Google Workspace APIs, including Gmail and Google Calendar APIs - to retrieve additional information based on the user's prompt.\n",
        "\n",
        "Gemini is a family of generative AI models developed by [Google DeepMind](https://deepmind.google/) that is designed for multimodal use cases. [Gemini 2.0](https://cloud.google.com/vertex-ai/generative-ai/docs/gemini-v2) is the latest model version.\n",
        "\n",
        "## Objectives\n",
        "\n",
        "In this notebook, you will learn how to use Gemini with the Gen AI SDK and Google API SDK for Python to:\n",
        "\n",
        "* Analyze a screenshot of a calendar for productivity gains\n",
        "* Add Google Workspace APIs as tools that Gemini can use\n",
        "* Analyze your own calendar and sent emails to identify productivity gains\n",
        "* Learn more about your productivity style and get coaching tips"
      ]
    },
    {
      "cell_type": "markdown",
      "metadata": {
        "id": "dSxKV-CIH9oa"
      },
      "source": [
        "### Costs\n",
        "\n",
        "This tutorial uses billable components of Google Cloud:\n",
        "\n",
        "- Vertex AI\n",
        "\n",
        "Learn about [Vertex AI pricing](https://cloud.google.com/vertex-ai/pricing) and use the [Pricing Calculator](https://cloud.google.com/products/calculator/) to generate a cost estimate based on your projected usage.\n"
      ]
    },
    {
      "cell_type": "markdown",
      "metadata": {
        "id": "61RBz8LLbxCR"
      },
      "source": [
        "## Getting Started"
      ]
    },
    {
      "cell_type": "markdown",
      "metadata": {
        "id": "No17Cw5hgx12"
      },
      "source": [
        "### Install Google Gen AI SDK and Google API SDK for Python"
      ]
    },
    {
      "cell_type": "code",
      "execution_count": null,
      "metadata": {
        "id": "tFy3H3aPgx12"
      },
      "outputs": [],
      "source": [
        "%pip install --upgrade --quiet google-genai google-api-python-client"
      ]
    },
    {
      "cell_type": "markdown",
      "metadata": {
        "id": "5303c05f7aa6"
      },
      "source": [
        "### Import libraries"
      ]
    },
    {
      "cell_type": "code",
      "execution_count": null,
      "metadata": {
        "id": "6fc324893334"
      },
      "outputs": [],
      "source": [
        "from IPython.display import Markdown, display\n",
        "from google import genai\n",
        "from google.genai.types import GenerateContentConfig, Part"
      ]
    },
    {
      "cell_type": "markdown",
      "metadata": {
        "id": "dmWOrTJ3gx13"
      },
      "source": [
        "### Authenticate your notebook environment (Colab only)\n",
        "\n",
        "If you are running this notebook on Google Colab, run the following cell to authenticate your environment. This step is not required if you are using [Vertex AI Workbench](https://cloud.google.com/vertex-ai-workbench)."
      ]
    },
    {
      "cell_type": "code",
      "execution_count": null,
      "metadata": {
        "id": "NyKGtVQjgx13"
      },
      "outputs": [],
      "source": [
        "import sys\n",
        "\n",
        "# Additional authentication is required for Google Colab\n",
        "if \"google.colab\" in sys.modules:\n",
        "    # Authenticate user to Google Cloud\n",
        "    from google.colab import auth\n",
        "\n",
        "    auth.authenticate_user()"
      ]
    },
    {
      "cell_type": "markdown",
      "metadata": {
        "id": "v8YW7MCx_O6G"
      },
      "source": [
        "### Connect to a generative AI API service\n",
        "\n",
        "Google Gen AI APIs and models including Gemini are available in the following two API services:\n",
        "\n",
        "- **[Google AI for Developers](https://ai.google.dev/gemini-api/docs)**: Experiment, prototype, and deploy small projects.\n",
        "- **[Vertex AI](https://cloud.google.com/vertex-ai/generative-ai/docs/overview)**: Build enterprise-ready projects on Google Cloud.\n",
        "\n",
        "The Google Gen AI SDK provides a unified interface to these two API services.\n",
        "\n",
        "This notebook shows how to use the Google Gen AI SDK with the Gemini API in Vertex AI."
      ]
    },
    {
      "cell_type": "markdown",
      "metadata": {
        "id": "DF4l8DTdWgPY"
      },
      "source": [
        "### Set up Google Cloud project or API key for Vertex AI\n",
        "\n",
        "You'll need to set up authentication by choosing **one** of the following methods:\n",
        "\n",
        "1.  **Use a Google Cloud Project:** Recommended for most users, this requires enabling the Vertex AI API in your Google Cloud project.\n",
        "    [Enable the Vertex AI API](https://console.cloud.google.com/flows/enableapi?apiid=aiplatform.googleapis.com)\n",
        "    *   Run the cell below to set your project ID.\n",
        "2.  **Use a Vertex AI API Key (Express Mode):** For quick experimentation.\n",
        "    [Get an API Key](https://cloud.google.com/vertex-ai/generative-ai/docs/start/express-mode/overview)\n",
        "    *   Run the cell further below to use your API key."
      ]
    },
    {
      "cell_type": "markdown",
      "metadata": {
        "id": "JfOOIZFl_Dq0"
      },
      "source": [
        "#### Option 1. Use a Google Cloud Project"
      ]
    },
    {
      "cell_type": "code",
      "execution_count": null,
      "metadata": {
        "id": "YwFoe0T9_Ek0"
      },
      "outputs": [],
      "source": [
        "import os\n",
        "\n",
        "PROJECT_ID = \"[your-project-id]\"  # @param {type: \"string\", placeholder: \"[your-project-id]\", isTemplate: true}\n",
        "if not PROJECT_ID or PROJECT_ID == \"[your-project-id]\":\n",
        "    PROJECT_ID = str(os.environ.get(\"GOOGLE_CLOUD_PROJECT\"))\n",
        "\n",
        "LOCATION = os.environ.get(\"GOOGLE_CLOUD_REGION\", \"us-central1\")\n",
        "\n",
        "client = genai.Client(vertexai=True, project=PROJECT_ID, location=LOCATION)"
      ]
    },
    {
      "cell_type": "markdown",
      "metadata": {
        "id": "jyh3rjfl_bPh"
      },
      "source": [
        "#### Option 2. Use a Vertex AI API Key (Express Mode)"
      ]
    },
    {
      "cell_type": "code",
      "execution_count": null,
      "metadata": {
        "id": "kP3wISaG_bq-"
      },
      "outputs": [],
      "source": [
        "API_KEY = \"[your-api-key]\"  # @param {type: \"string\", placeholder: \"[your-api-key]\", isTemplate: true}\n",
        "\n",
        "if not API_KEY or API_KEY == \"[your-api-key]\":\n",
        "    raise Exception(\"You must provide an API key to use Vertex AI in express mode.\")\n",
        "\n",
        "client = genai.Client(vertexai=True, api_key=API_KEY)"
      ]
    },
    {
      "cell_type": "markdown",
      "metadata": {
        "id": "X_cgnwxgOHGY"
      },
      "source": [
        "### Configure Google Workspace APIs access"
      ]
    },
    {
      "cell_type": "markdown",
      "metadata": {
        "id": "oL6KigDV6NSG"
      },
      "source": [
        "#### Enable Google Workspace APIs\n",
        "\n",
        "To start using the Google Calendar and Gmail APIs, you must first enable them. This grants your project permission to access these services.\n",
        "\n",
        "[Enable the Google Calendar and Gmail APIs](https://console.cloud.google.com/flows/enableapi?apiid=calendar-json.googleapis.com,gmail.googleapis.com)"
      ]
    },
    {
      "cell_type": "markdown",
      "metadata": {
        "id": "Lngat8co4a34"
      },
      "source": [
        "#### Connect your Google Workspace account\n",
        "\n",
        "To access your calendar and email data, you will need to provide credential details. You will use [Application Default Credentials (ADC)](https://cloud.google.com/docs/authentication/provide-credentials-adc) to authorize access to your Google Calendar and Gmail.\n",
        "\n",
        "**Steps to Connect:**\n",
        "\n",
        "1.  **Execute the code below.** This initiates the authentication process.\n",
        "2.  **Confirm if prompted:** Type `Y` and press Enter to proceed.\n",
        "3.  **Grant Permissions in your browser:** A link to a Google authorization page will open. Follow the prompts to grant the required access to your calendar and email data.\n",
        "4.  **Copy the Authorization Code:** After granting permissions, you will receive a code on the screen. Copy the provided code.\n",
        "5.  **Paste and Enter:** Paste the copied code into the notebook's output and press Enter to complete the authentication."
      ]
    },
    {
      "cell_type": "code",
      "execution_count": null,
      "metadata": {
        "id": "SKenTDdj5NUu"
      },
      "outputs": [],
      "source": [
        "!gcloud auth application-default login \\\n",
        "  --scopes https://www.googleapis.com/auth/cloud-platform,https://www.googleapis.com/auth/calendar.events.readonly,https://www.googleapis.com/auth/gmail.readonly"
      ]
    },
    {
      "cell_type": "markdown",
      "metadata": {
        "id": "d5zLisT-ostz"
      },
      "source": [
        "<div class=\"alert alert-block alert-warning\">\n",
        "<b>⚠️ Important:</b> The credentials obtained during this process are stored in memory and are valid only for the current session. If the runtime is terminated, you will need to re-authorize. ⚠️\n",
        "</div>"
      ]
    },
    {
      "cell_type": "markdown",
      "metadata": {
        "id": "SHfNySYBPC7m"
      },
      "source": [
        "#### Set quota management\n",
        "\n",
        "Google Workspace APIs, including Calendar and Gmail, have usage limits known as [quotas](https://cloud.google.com/docs/quotas/overview). Specifying your project ensures that the correct quotas are applied when accessing your data."
      ]
    },
    {
      "cell_type": "code",
      "execution_count": null,
      "metadata": {
        "id": "xzM0oy7s6na4"
      },
      "outputs": [],
      "source": [
        "!gcloud auth application-default set-quota-project \"$PROJECT_ID\""
      ]
    },
    {
      "cell_type": "markdown",
      "metadata": {
        "id": "e43229f3ad4f"
      },
      "source": [
        "### Load Gemini 2.0 Flash model\n",
        "\n",
        "Learn more about all [Gemini models on Vertex AI](https://cloud.google.com/vertex-ai/generative-ai/docs/learn/models#gemini-models)."
      ]
    },
    {
      "cell_type": "code",
      "execution_count": null,
      "metadata": {
        "id": "cf93d5f0ce00"
      },
      "outputs": [],
      "source": [
        "MODEL_ID = \"gemini-2.0-flash-001\"  # @param {type: \"string\"}"
      ]
    },
    {
      "cell_type": "markdown",
      "metadata": {
        "id": "LVEy_dM5FEgR"
      },
      "source": [
        "## Set up system instructions\n",
        "\n",
        "Before you dive into analyzing your data, let's configure Gemini with clear instructions. These [system instructions](https://cloud.google.com/vertex-ai/generative-ai/docs/learn/prompts/system-instruction-introduction) will tell Gemini it's your productivity coach, allowing it to provide tailored analysis."
      ]
    },
    {
      "cell_type": "code",
      "execution_count": null,
      "metadata": {
        "id": "0paF3u5uFEET"
      },
      "outputs": [],
      "source": [
        "system_instruction = \"\"\"\n",
        "You are a productivity coach. Your role is to analyze a user's calendar events\n",
        "and emails to offer actionable recommendations for improvement and determine\n",
        "their productivity style.\n",
        "\n",
        "In your analysis, consider:\n",
        "\n",
        "* **Time management:** Efficiency of time allocation and scheduling patterns.\n",
        "* **Communication style:** Clarity, conciseness, and effectiveness of\n",
        "communication.\n",
        "* **Collaboration:** Patterns of meetings and collaborative work.\n",
        "* **Task prioritization:** Methods of prioritizing tasks and potential\n",
        "procrastination.\n",
        "* **Work-life balance:** Indicators of healthy work-life integration.\n",
        "\n",
        "Provide specific, actionable recommendations to improve the user's productivity,\n",
        " time management, communication, and overall well-being.\n",
        "\"\"\""
      ]
    },
    {
      "cell_type": "markdown",
      "metadata": {
        "id": "pyrOSJi2WPKp"
      },
      "source": [
        "## Analyze sample calendar images\n",
        "\n",
        "Before you connect to live data, let's test Gemini's ability to analyze calendar images.\n",
        "\n",
        "You have two sample calendars available: one for a _Developer Advocate_ and another for a _Machine Learning Team Lead_.  Both are accessible from a Google Cloud Storage bucket and can be loaded using `Part.from_uri`.\n",
        "\n",
        "Take a look at the sample calendars:\n",
        "\n",
        "* [Developer Advocate Calendar](https://storage.googleapis.com/github-repo/generative-ai/gemini/use-cases/productivity/productivity_coaching_with_google_calendar_and_gmail/DevRel_Schedule.png)\n",
        "* [Machine Learning Team Lead Calendar](https://storage.googleapis.com/github-repo/generative-ai/gemini/use-cases/productivity/productivity_coaching_with_google_calendar_and_gmail/ML_Lead_Schedule.png)"
      ]
    },
    {
      "cell_type": "code",
      "execution_count": null,
      "metadata": {
        "id": "0t3avJIcEEpi"
      },
      "outputs": [],
      "source": [
        "image_filename = \"DevRel_Schedule.png\"  # or \"ML_Lead_Schedule.png\"\n",
        "\n",
        "base_path = \"gs://github-repo/generative-ai/gemini/use-cases/productivity/productivity_coaching_with_google_calendar_and_gmail/\"\n",
        "image_file_uri = f\"{base_path}{image_filename}\"\n",
        "\n",
        "calendar_image_part = Part.from_uri(\n",
        "    file_uri=image_file_uri,\n",
        "    mime_type=\"image/png\",\n",
        ")"
      ]
    },
    {
      "cell_type": "code",
      "execution_count": null,
      "metadata": {
        "id": "FyJoPvWlWWPI"
      },
      "outputs": [],
      "source": [
        "prompt = \"\"\"\n",
        "Analyze this screenshot of my weekly schedule and identify ways to improve\n",
        "my productivity and work-life balance.\n",
        "\"\"\"\n",
        "\n",
        "response = client.models.generate_content(\n",
        "    model=MODEL_ID,\n",
        "    contents=[\n",
        "        calendar_image_part,\n",
        "        prompt,\n",
        "    ],\n",
        "    config=GenerateContentConfig(\n",
        "        system_instruction=system_instruction,\n",
        "    ),\n",
        ")\n",
        "calendar_analysis = response.text\n",
        "display(Markdown(calendar_analysis))"
      ]
    },
    {
      "cell_type": "markdown",
      "metadata": {
        "id": "AWy4-5ZYXsM0"
      },
      "source": [
        "## Connect Google Workspace APIs\n",
        "\n",
        "You will now integrate Gemini with Google Calendar and Gmail APIs via [function calling](https://cloud.google.com/vertex-ai/generative-ai/docs/multimodal/function-calling). This allows Gemini to dynamically access your current calendar and emails, ensuring its responses are based on live data."
      ]
    },
    {
      "cell_type": "code",
      "execution_count": null,
      "metadata": {
        "id": "grpNHeG8lfJ9"
      },
      "outputs": [],
      "source": [
        "import base64\n",
        "import datetime\n",
        "from typing import Any\n",
        "\n",
        "from googleapiclient.discovery import build\n",
        "from googleapiclient.errors import HttpError\n",
        "\n",
        "\n",
        "def get_next_n_calendar_events(num_of_events: int = 10) -> list[dict[str, Any]]:\n",
        "    \"\"\"\n",
        "    Retrieves upcoming events from a Google Calendar primary calendar.\n",
        "\n",
        "    Requires valid Google Cloud credentials with Calendar API access.\n",
        "\n",
        "    Args:\n",
        "        num_of_events: The maximum number of events to retrieve (defaults to 10, max 250).\n",
        "\n",
        "    Returns:\n",
        "        A list of dictionaries, each representing an event with 'summary', 'start', 'end', and 'status'.\n",
        "        Date/time values are strings in RFC3339 format (e.g., '2024-07-19T10:00:00-04:00').\n",
        "        Returns an empty list if no events are found or if an error occurs.  Errors are logged.\n",
        "\n",
        "    Raises:\n",
        "        ValueError: If num_of_events is invalid.\n",
        "    \"\"\"\n",
        "    if not 1 <= num_of_events <= 250:\n",
        "        raise ValueError(\"num_of_events must be between 1 and 250.\")\n",
        "\n",
        "    try:\n",
        "        service = build(\"calendar\", \"v3\")\n",
        "        now = datetime.datetime.utcnow().isoformat() + \"Z\"\n",
        "        events_result = (\n",
        "            service.events()\n",
        "            .list(\n",
        "                calendarId=\"primary\",\n",
        "                timeMin=now,\n",
        "                maxResults=num_of_events,\n",
        "                singleEvents=True,\n",
        "                orderBy=\"startTime\",\n",
        "            )\n",
        "            .execute()\n",
        "        )\n",
        "        events = events_result.get(\"items\", [])\n",
        "\n",
        "        # Concise list comprehension for extracting event data\n",
        "        essential_events = [\n",
        "            {\n",
        "                \"summary\": event.get(\"summary\"),\n",
        "                \"start\": event.get(\"start\", {}).get(\"dateTime\"),\n",
        "                \"end\": event.get(\"end\", {}).get(\"dateTime\"),\n",
        "                \"status\": event.get(\"status\"),\n",
        "            }\n",
        "            for event in events\n",
        "        ]\n",
        "        return essential_events\n",
        "\n",
        "    except HttpError as error:\n",
        "        print(f\"An error occurred: {error}\")\n",
        "        return []\n",
        "\n",
        "\n",
        "def get_last_n_sent_emails(num_of_emails: int = 10) -> list[dict[str, Any]]:\n",
        "    \"\"\"Retrieves the last n sent emails and their detailed thread content.\n",
        "\n",
        "    Requires valid Google Cloud credentials with Gmail API access.\n",
        "\n",
        "    Args:\n",
        "        num_of_emails: The maximum number of sent emails to retrieve (defaults to 10).\n",
        "\n",
        "    Returns:\n",
        "        A list of dictionaries. Each dictionary represents a sent email thread:\n",
        "        - 'initial_message': Details of the initially sent email.\n",
        "        - 'thread': A list of dictionaries, each with details for a message in the thread.\n",
        "        Returns an empty list on error. Errors are logged.\n",
        "\n",
        "    Raises:\n",
        "        ValueError: if num_of_emails is non-positive.\n",
        "    \"\"\"\n",
        "\n",
        "    if num_of_emails <= 0:\n",
        "        raise ValueError(\"num_of_emails must be a positive integer\")\n",
        "\n",
        "    try:\n",
        "        service = build(\"gmail\", \"v1\")\n",
        "\n",
        "        results = (\n",
        "            service.users()\n",
        "            .messages()\n",
        "            .list(userId=\"me\", labelIds=[\"SENT\"], maxResults=num_of_emails)\n",
        "            .execute()\n",
        "        )\n",
        "        messages = results.get(\"messages\", [])\n",
        "\n",
        "        sent_email_threads = []\n",
        "\n",
        "        for message in messages:\n",
        "            initial_msg = (\n",
        "                service.users().messages().get(userId=\"me\", id=message[\"id\"]).execute()\n",
        "            )  # No format specified for full message\n",
        "            thread_id = initial_msg[\"threadId\"]\n",
        "\n",
        "            thread = service.users().threads().get(userId=\"me\", id=thread_id).execute()\n",
        "            thread_messages = thread.get(\"messages\", [])\n",
        "\n",
        "            thread_details = []\n",
        "            for thread_message in thread_messages:\n",
        "                headers = thread_message[\"payload\"][\"headers\"]\n",
        "                msg_id = thread_message[\"id\"]\n",
        "\n",
        "                # Extract headers using a helper function (more readable)\n",
        "                def get_header(headers, name):\n",
        "                    return next(\n",
        "                        (\n",
        "                            header[\"value\"]\n",
        "                            for header in headers\n",
        "                            if header[\"name\"] == name\n",
        "                        ),\n",
        "                        None,\n",
        "                    )\n",
        "\n",
        "                from_addr = get_header(headers, \"From\")\n",
        "                to_addrs = get_header(headers, \"To\")\n",
        "                date_val = get_header(headers, \"Date\")\n",
        "\n",
        "                # Get the message body (handles different part structures)\n",
        "                parts = thread_message[\"payload\"].get(\"parts\", [])\n",
        "                body = \"\"\n",
        "                if parts:\n",
        "                    data = parts[0][\"body\"].get(\n",
        "                        \"data\", None\n",
        "                    )  # Get the first part's body data\n",
        "                else:\n",
        "                    data = thread_message[\"payload\"][\"body\"].get(\"data\", None)\n",
        "\n",
        "                if data:\n",
        "                    body = base64.urlsafe_b64decode(data).decode(\n",
        "                        \"utf-8\", errors=\"ignore\"\n",
        "                    )\n",
        "\n",
        "                thread_details.append(\n",
        "                    {\n",
        "                        \"message_id\": msg_id,  # Include messageId\n",
        "                        \"from\": from_addr,\n",
        "                        \"to\": to_addrs,\n",
        "                        \"date\": date_val,\n",
        "                        \"body\": body,\n",
        "                    }\n",
        "                )\n",
        "\n",
        "            sent_email_threads.append(\n",
        "                {\n",
        "                    \"initial_message\": thread_details[\n",
        "                        0\n",
        "                    ],  # The first message is the initial one\n",
        "                    \"thread\": thread_details,\n",
        "                }\n",
        "            )\n",
        "\n",
        "        return sent_email_threads\n",
        "\n",
        "    except HttpError as error:\n",
        "        print(f\"An error occurred: {error}\")\n",
        "        return []"
      ]
    },
    {
      "cell_type": "markdown",
      "metadata": {
        "id": "9VKQhu-vJ34S"
      },
      "source": [
        "## Analyze your calendar events\n",
        "\n",
        "Use the Google Calendar API tool to prompt Gemini to analyze your calendar events. This analysis can reveal insights into various aspects of your work style, including meeting habits and collaboration patterns.\n",
        "\n",
        "First, initialize a chat client for multi-turn conversations with Gemini."
      ]
    },
    {
      "cell_type": "code",
      "execution_count": null,
      "metadata": {
        "id": "o3rDNCuV8KQ1"
      },
      "outputs": [],
      "source": [
        "chat = client.chats.create(\n",
        "    model=MODEL_ID,\n",
        "    config=GenerateContentConfig(\n",
        "        system_instruction=system_instruction,\n",
        "        temperature=0.5,\n",
        "        tools=[get_next_n_calendar_events, get_last_n_sent_emails],\n",
        "    ),\n",
        ")"
      ]
    },
    {
      "cell_type": "markdown",
      "metadata": {
        "id": "0J0OcNZ88LNo"
      },
      "source": [
        "Now, instruct Gemini to analyze your calendar events. You can adjust the prompt for more specific analysis."
      ]
    },
    {
      "cell_type": "code",
      "execution_count": null,
      "metadata": {
        "id": "SDBsc_-0lb3F"
      },
      "outputs": [],
      "source": [
        "message = \"\"\"\n",
        "Analyze my next 20 calendar events. Offer practical suggestions for optimizing\n",
        " my schedule for producivity gains.\n",
        "\"\"\"\n",
        "\n",
        "response = chat.send_message(message=message)\n",
        "calendar_analysis = response.text\n",
        "display(Markdown(calendar_analysis))"
      ]
    },
    {
      "cell_type": "markdown",
      "metadata": {
        "id": "UQARFyhD3C-n"
      },
      "source": [
        "## Analyze your communication style through Gmail\n",
        "\n",
        "Let's use the Gmail API tool to have Gemini analyze your last 20 sent emails. You will focus on your tone, writing style, and communication patterns to gain a better understanding of how you present yourself in written communication."
      ]
    },
    {
      "cell_type": "code",
      "execution_count": null,
      "metadata": {
        "id": "oehIHXtY3C-n"
      },
      "outputs": [],
      "source": [
        "message = \"\"\"\n",
        "Analyze my last 20 sent emails to identify my communication style.\n",
        "\n",
        "Focus on identifying patterns in my tone, writing style, clarity, and\n",
        "conciseness.\n",
        "\n",
        "Suggest specific, actionable ways to improve my communication effectiveness.\n",
        "\"\"\"\n",
        "\n",
        "response = chat.send_message(message=message)\n",
        "email_analysis = response.text\n",
        "display(Markdown(email_analysis))"
      ]
    },
    {
      "cell_type": "markdown",
      "metadata": {
        "id": "REFeTESM9L4Q"
      },
      "source": [
        "## Discover your productivity archetype and style\n",
        "\n",
        "Using the combined insights from your calendar and email analyses, you will now ask Gemini to identify your unique productivity archetype and style. This personalized analysis will offer a deeper understanding of your individual work habits and communication patterns."
      ]
    },
    {
      "cell_type": "code",
      "execution_count": null,
      "metadata": {
        "id": "p5la9Frz9LaU"
      },
      "outputs": [],
      "source": [
        "message = \"\"\"\n",
        "Based on the previous analyses of my emails and calendar, determine my\n",
        "productivity archetype and style.\n",
        "\n",
        "Describe this archetype and style in detail, including its key characteristics,\n",
        "strengths, and weaknesses.\n",
        "\n",
        "Provide actionable recommendations for optimizing my workflow, time management,\n",
        "and communication based on this identified archetype and style.\n",
        "\"\"\"\n",
        "\n",
        "response = chat.send_message(message=message)\n",
        "productivity_style_analysis = response.text\n",
        "display(Markdown(productivity_style_analysis))"
      ]
    },
    {
      "cell_type": "markdown",
      "metadata": {
        "id": "vZ6BAQHVNU9A"
      },
      "source": [
        "## Conclusion\n",
        "\n",
        "You've successfully extended Gemini to analyze your personal schedule and communication styles and gain valuable insights into your productivity. By integrating with Google Calendar and Gmail, you've enabled personalized recommendations based on your real-time data.\n",
        "\n",
        "This is just the beginning! Explore extending this analysis to other Google Workspace data, like Google Docs or Drive. With Gemini as your AI productivity coach, optimize your workflow, enhance communication, and achieve a better work-life balance.\n",
        "\n",
        "Ready to take it further?  Expand this use case by building a [Google Workspace Add-on](https://developers.google.com/workspace/add-ons) or a [Google Chat app](https://developers.google.com/workspace/chat)."
      ]
    }
  ],
  "metadata": {
    "colab": {
      "name": "productivity_coaching_with_google_calendar_and_gmail.ipynb",
      "toc_visible": true
    },
    "kernelspec": {
      "display_name": "Python 3",
      "name": "python3"
    }
  },
  "nbformat": 4,
  "nbformat_minor": 0
}
