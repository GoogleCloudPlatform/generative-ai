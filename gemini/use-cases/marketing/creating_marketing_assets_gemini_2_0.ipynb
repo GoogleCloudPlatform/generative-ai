{
  "cells": [
    {
      "cell_type": "code",
      "execution_count": null,
      "metadata": {
        "id": "ur8xi4C7S06n"
      },
      "outputs": [],
      "source": [
        "# Copyright 2024 Google LLC\n",
        "#\n",
        "# Licensed under the Apache License, Version 2.0 (the \"License\");\n",
        "# you may not use this file except in compliance with the License.\n",
        "# You may obtain a copy of the License at\n",
        "#\n",
        "#     https://www.apache.org/licenses/LICENSE-2.0\n",
        "#\n",
        "# Unless required by applicable law or agreed to in writing, software\n",
        "# distributed under the License is distributed on an \"AS IS\" BASIS,\n",
        "# WITHOUT WARRANTIES OR CONDITIONS OF ANY KIND, either express or implied.\n",
        "# See the License for the specific language governing permissions and\n",
        "# limitations under the License."
      ]
    },
    {
      "cell_type": "markdown",
      "metadata": {
        "id": "JAPoU8Sm5E6e"
      },
      "source": [
        "# Creating Marketing Assets using Gemini 2.0\n",
        "\n",
        "<table align=\"left\">\n",
        "  <td style=\"text-align: center\">\n",
        "    <a href=\"https://colab.research.google.com/github/GoogleCloudPlatform/generative-ai/blob/main/gemini/use-cases/marketing/creating_marketing_assets_gemini_2_0.ipynb\">\n",
        "      <img width=\"32px\" src=\"https://www.gstatic.com/pantheon/images/bigquery/welcome_page/colab-logo.svg\" alt=\"Google Colaboratory logo\"><br> Open in Colab\n",
        "    </a>\n",
        "  </td>\n",
        "  <td style=\"text-align: center\">\n",
        "    <a href=\"https://console.cloud.google.com/vertex-ai/workbench/deploy-notebook?download_url=https://raw.githubusercontent.com/GoogleCloudPlatform/generative-ai/main/gemini/use-cases/marketing/creating_marketing_assets_gemini_2_0.ipynb\">\n",
        "      <img width=\"32px\" src=\"https://lh3.googleusercontent.com/JmcxdQi-qOpctIvWKgPtrzZdJJK-J3sWE1RsfjZNwshCFgE_9fULcNpuXYTilIR2hjwN\" alt=\"Google Cloud Colab Enterprise logo\"><br> Open in Colab Enterprise\n",
        "    </a>\n",
        "  </td>\n",
        "  <td style=\"text-align: center\">\n",
        "    <a href=\"https://console.cloud.google.com/vertex-ai/workbench/deploy-notebook?download_url=https://raw.githubusercontent.com/GoogleCloudPlatform/generative-ai/main/gemini/use-cases/marketing/creating_marketing_assets_gemini_2_0.ipynb\">\n",
        "      <img src=\"https://www.gstatic.com/images/branding/gcpiconscolors/vertexai/v1/32px.svg\" alt=\"Vertex AI logo\"><br> Open in Vertex AI Workbench\n",
        "    </a>\n",
        "  </td>\n",
        "  <td style=\"text-align: center\">\n",
        "    <a href=\"https://github.com/GoogleCloudPlatform/generative-ai/blob/main/gemini/use-cases/marketing/creating_marketing_assets_gemini_2_0.ipynb\">\n",
        "      <img width=\"32px\" src=\"https://upload.wikimedia.org/wikipedia/commons/9/91/Octicons-mark-github.svg\" alt=\"GitHub logo\"><br> View on GitHub\n",
        "    </a>\n",
        "  </td>\n",
        "</table>\n",
        "\n",
        "<div style=\"clear: both;\"></div>\n",
        "\n",
        "<b>Share to:</b>\n",
        "\n",
        "<a href=\"https://www.linkedin.com/sharing/share-offsite/?url=https%3A//github.com/GoogleCloudPlatform/generative-ai/blob/main/gemini/use-cases/marketing/creating_marketing_assets_gemini_2_0.ipynb\" target=\"_blank\">\n",
        "  <img width=\"20px\" src=\"https://upload.wikimedia.org/wikipedia/commons/8/81/LinkedIn_icon.svg\" alt=\"LinkedIn logo\">\n",
        "</a>\n",
        "\n",
        "<a href=\"https://bsky.app/intent/compose?text=https%3A//github.com/GoogleCloudPlatform/generative-ai/blob/main/gemini/use-cases/marketing/creating_marketing_assets_gemini_2_0.ipynb\" target=\"_blank\">\n",
        "  <img width=\"20px\" src=\"https://upload.wikimedia.org/wikipedia/commons/7/7a/Bluesky_Logo.svg\" alt=\"Bluesky logo\">\n",
        "</a>\n",
        "\n",
        "<a href=\"https://twitter.com/intent/tweet?url=https%3A//github.com/GoogleCloudPlatform/generative-ai/blob/main/gemini/use-cases/marketing/creating_marketing_assets_gemini_2_0.ipynb\" target=\"_blank\">\n",
        "  <img width=\"20px\" src=\"https://upload.wikimedia.org/wikipedia/commons/5/53/X_logo_2023_original.svg\" alt=\"X logo\">\n",
        "</a>\n",
        "\n",
        "<a href=\"https://reddit.com/submit?url=https%3A//github.com/GoogleCloudPlatform/generative-ai/blob/main/gemini/use-cases/marketing/creating_marketing_assets_gemini_2_0.ipynb\" target=\"_blank\">\n",
        "  <img width=\"20px\" src=\"https://redditinc.com/hubfs/Reddit%20Inc/Brand/Reddit_Logo.png\" alt=\"Reddit logo\">\n",
        "</a>\n",
        "\n",
        "<a href=\"https://www.facebook.com/sharer/sharer.php?u=https%3A//github.com/GoogleCloudPlatform/generative-ai/blob/main/gemini/use-cases/marketing/creating_marketing_assets_gemini_2_0.ipynb\" target=\"_blank\">\n",
        "  <img width=\"20px\" src=\"https://upload.wikimedia.org/wikipedia/commons/5/51/Facebook_f_logo_%282019%29.svg\" alt=\"Facebook logo\">\n",
        "</a>"
      ]
    },
    {
      "cell_type": "markdown",
      "metadata": {
        "id": "84f0f73a0f76"
      },
      "source": [
        "| | |\n",
        "|-|-|\n",
        "| Author(s) | [Wan Qi Ang](https://github.com/angwanqi/) |"
      ]
    },
    {
      "cell_type": "markdown",
      "metadata": {
        "id": "tvgnzT1CKxrO"
      },
      "source": [
        "## Overview\n",
        "<br/>\n",
        "<div class=\"alert alert-block alert-warning\">\n",
        "<b>⚠️ Gemini 2.0 Flash is now available as an experimental preview release through the Gemini API in Vertex AI, because it's in experimental preview you might run into an occasional error or inconsistencies in the output. ⚠️</b>\n",
        "</div>\n",
        "<br/>\n",
        "The new Google Gen AI SDK provides a unified interface to Gemini 2.0 through both the Gemini Developer API and the Gemini API on Vertex AI. With a few exceptions, code that runs on one platform will run on both. This means that you can prototype an application using the Developer API and then migrate the application to Vertex AI without rewriting your code.\n",
        "\n",
        "In this tutorial, you will learn how to combine the multimodal capabilities of Gemini and Grounding with Google Search to create a marketing campaign brief and marketing assets.\n",
        "\n",
        "You will complete the following tasks:\n",
        "- Get started with the unified Google Gen AI SDK\n",
        "- Create a marketing campaign brief and assets with Gemini, Grounding with Google Search and Controlled Generation"
      ]
    },
    {
      "cell_type": "markdown",
      "metadata": {
        "id": "61RBz8LLbxCR"
      },
      "source": [
        "## Get started"
      ]
    },
    {
      "cell_type": "markdown",
      "metadata": {
        "id": "No17Cw5hgx12"
      },
      "source": [
        "### Install Google Gen AI SDK\n"
      ]
    },
    {
      "cell_type": "code",
      "execution_count": null,
      "metadata": {
        "id": "tFy3H3aPgx12"
      },
      "outputs": [],
      "source": [
        "%pip install --upgrade --quiet google-genai"
      ]
    },
    {
      "cell_type": "markdown",
      "metadata": {
        "id": "R5Xep4W9lq-Z"
      },
      "source": [
        "### Restart runtime\n",
        "\n",
        "To use the newly installed packages in this  runtime, you must restart the runtime. You can do this by running the cell below, which restarts the current kernel.\n",
        "\n",
        "The restart might take a minute or longer. After it's restarted, continue to the next step."
      ]
    },
    {
      "cell_type": "code",
      "execution_count": null,
      "metadata": {
        "id": "XRvKdaPDTznN"
      },
      "outputs": [],
      "source": [
        "import IPython\n",
        "\n",
        "app = IPython.Application.instance()\n",
        "app.kernel.do_shutdown(True)"
      ]
    },
    {
      "cell_type": "markdown",
      "metadata": {
        "id": "SbmM4z7FOBpM"
      },
      "source": [
        "<div class=\"alert alert-block alert-warning\">\n",
        "<b>⚠️ The kernel is going to restart. Wait until it's finished before continuing to the next step. ⚠️</b>\n",
        "</div>\n"
      ]
    },
    {
      "cell_type": "markdown",
      "metadata": {
        "id": "dmWOrTJ3gx13"
      },
      "source": [
        "### Authenticate your notebook environment (Colab only)\n",
        "\n",
        "If you're running this notebook on Google Colab, run the cell below to authenticate your environment."
      ]
    },
    {
      "cell_type": "code",
      "execution_count": null,
      "metadata": {
        "id": "NyKGtVQjgx13"
      },
      "outputs": [],
      "source": [
        "import sys\n",
        "\n",
        "if \"google.colab\" in sys.modules:\n",
        "    from google.colab import auth\n",
        "\n",
        "    auth.authenticate_user()"
      ]
    },
    {
      "cell_type": "markdown",
      "metadata": {
        "id": "bFksFuwD9TSg"
      },
      "source": [
        "## Using the Google Gen AI SDK"
      ]
    },
    {
      "cell_type": "markdown",
      "metadata": {
        "id": "IEYbYUbiLiqS"
      },
      "source": [
        "### Import the Google Gen AI SDK and other required libraries"
      ]
    },
    {
      "cell_type": "code",
      "execution_count": null,
      "metadata": {
        "id": "j3pDScBD9Wkp"
      },
      "outputs": [],
      "source": [
        "import json\n",
        "import os\n",
        "\n",
        "from IPython.display import Markdown, display\n",
        "from google import genai\n",
        "from google.genai import types\n",
        "from google.genai.types import GenerateContentConfig, GoogleSearch, Tool\n",
        "from pydantic import BaseModel"
      ]
    },
    {
      "cell_type": "markdown",
      "metadata": {
        "id": "uv7-vd3P__AV"
      },
      "source": [
        "### Using Gemini 2.0 Flash with Vertex AI\n",
        "\n",
        "The new Google Gen AI SDK provides a unified interface to Gemini 2.0 Flash through both the Gemini Developer API and the Vertex AI Gemini API. Gemini 2.0 Flash is also available through Google AI Studio and Vertex AI Studio.\n",
        "\n",
        "- **[Gemini Developer API](https://ai.google.dev/gemini-api/docs)**: Experiment, prototype, and deploy GenAI projects.\n",
        "- **[Vertex AI](https://cloud.google.com/vertex-ai/generative-ai/docs/overview)**: Build enterprise-ready AI projects on Google Cloud.\n",
        "\n",
        "The Google Gen AI SDK provides a unified interface to these two API services."
      ]
    },
    {
      "cell_type": "markdown",
      "metadata": {
        "id": "mFCKo15iHKdS"
      },
      "source": [
        "#### Vertex AI\n",
        "\n",
        "For those who are looking to build enterprise-ready AI applications in the Cloud you can use [Vertex AI](https://cloud.google.com/vertex-ai?e=48754805&hl=nl). This means that you can prototype an application using the Gemini Developer API and then migrate the application to Vertex AI without rewriting your code. In the following section, we'll take you through steps on how you can switch from Gemini Developer API to Vertex AI.\n",
        "\n",
        "**To get started, you'll need:**\n",
        "1. A Google Cloud Project\n",
        "  - You can choose to [create a new Google Cloud Project](https://cloud.google.com/resource-manager/docs/creating-managing-projects#creating_a_project) OR\n",
        "  - Reuse an existing project (the same one you used to generate your API key or any other existing projects)\n",
        "2. To enable the [Vertex AI API](https://console.cloud.google.com/flows/enableapi?apiid=aiplatform.googleapis.com)\n",
        "\n",
        "Once your project is all set up, you're ready to switch out your code in the following section!"
      ]
    },
    {
      "cell_type": "markdown",
      "metadata": {
        "id": "x7h8QWG4J1Dw"
      },
      "source": [
        "##### **Set Google Cloud project and location information**\n",
        "\n",
        "**Google Cloud Projects**\n",
        "\n",
        "In Google Cloud, projects are the fundamental building blocks for organizing, managing and securing your cloud resources. With projects, you'll be able to easily isolate resources and assign fine-grained permissions to users/service accounts at the project level. This ensures that only authorized individuals can access and manage resources, thereby enhancing security.\n",
        "\n",
        "**Google Cloud Locations**\n",
        "\n",
        "Location is also important as it mainly affects performance and compliance with data regulations:\n",
        "\n",
        "- Performance: Choosing a location closer to your users reduces latency.\n",
        "\n",
        "- Data residency: Your use case, organization or industry might constraint the location of resources.\n",
        "\n",
        "So, selecting the right location for your Google Cloud resources is crucial for optimizing your applications and ensuring you meet your business requirements.\n",
        "\n",
        "**In the next cell, do the following:**\n",
        "- Replace ```PROJECT_ID``` with your Google Cloud project ID"
      ]
    },
    {
      "cell_type": "code",
      "execution_count": null,
      "metadata": {
        "id": "Nqwi-5ufWp_B"
      },
      "outputs": [],
      "source": [
        "PROJECT_ID = \"[your-project-id]\"  # @param {type: \"string\", placeholder: \"[your-project-id]\", isTemplate: true}\n",
        "if not PROJECT_ID or PROJECT_ID == \"[your-project-id]\":\n",
        "    PROJECT_ID = str(os.environ.get(\"GOOGLE_CLOUD_PROJECT\"))\n",
        "\n",
        "LOCATION = os.environ.get(\"GOOGLE_CLOUD_REGION\", \"us-central1\")"
      ]
    },
    {
      "cell_type": "code",
      "execution_count": null,
      "metadata": {
        "id": "9EHmJzed1mA5"
      },
      "outputs": [],
      "source": [
        "# Instantiate client for Vertex AI\n",
        "client = genai.Client(vertexai=True, project=PROJECT_ID, location=LOCATION)"
      ]
    },
    {
      "cell_type": "markdown",
      "metadata": {
        "id": "JFX5bZEwMuO0"
      },
      "source": [
        "## Sample Use Case - Creation and Localization of Marketing Assets\n",
        "\n",
        "In this section of the notebook, let's take a look at how we can apply Gemini to a real-world use case.\n",
        "\n",
        "Imagine you're part of a marketing team and you are tasked to create assets for a marketing campaign for the newest phone that your company is launching. As part of this campaign, you'll need to create the following assets:\n",
        "1. Marketing Campaign Brief\n",
        "2. Market Research on the industry\n",
        "2. Social Media Post Ad Copy\n",
        "3. Storyboard for a short-form video\n",
        "\n",
        "Given that your company operates in multiple countries, there is also the added requirement to generate assets in multiple languages such as English, French and Japanese.\n",
        "\n",
        "Let's see how you can use Gemini 2.0 Flash to help you accomplish these tasks!"
      ]
    },
    {
      "cell_type": "code",
      "execution_count": null,
      "metadata": {
        "id": "ij_fQIepC3IY"
      },
      "outputs": [],
      "source": [
        "MODEL_ID = \"gemini-2.0-flash-exp\"  # @param {type: \"string\"}"
      ]
    },
    {
      "cell_type": "markdown",
      "metadata": {
        "id": "ScGbi2kYPgcd"
      },
      "source": [
        "### Creating a marketing campaign brief using a past campaign as reference"
      ]
    },
    {
      "cell_type": "markdown",
      "metadata": {
        "id": "91KzAtrscOic"
      },
      "source": [
        "#### Let's have a look at a sample past campaign brief\n",
        "Your team has done a few campaigns for phone launches in the past and documented each campaign's details in the form of a PDF document. These are stored in [Google Cloud Storage (GCS)](https://cloud.google.com/storage?e=48754805&hl=nl), a scalable, secure, and cost-effective object storage solution.\n",
        "\n",
        "Let's have a look at one of the samples."
      ]
    },
    {
      "cell_type": "code",
      "execution_count": null,
      "metadata": {
        "id": "ejBQqJgKaJSo"
      },
      "outputs": [],
      "source": [
        "# Set the Cloud Storage path\n",
        "marketing_brief_file_path = \"github-repo/generative-ai/gemini2/use-cases/marketing_example/sample_marketing_campaign_brief.pdf\"\n",
        "marketing_brief_file_uri = f\"gs://{marketing_brief_file_path}\"\n",
        "marketing_brief_file_url = f\"https://storage.googleapis.com/{marketing_brief_file_path}\"\n",
        "\n",
        "print(\"Click to view the sample file:\")\n",
        "print(marketing_brief_file_url)"
      ]
    },
    {
      "cell_type": "markdown",
      "metadata": {
        "id": "oTvzN1Ika3cD"
      },
      "source": [
        "#### Define response format with Controlled Generation\n",
        "Given the sample marketing campaign brief, we can use Gemini to efficiently extract key details from your past campaign briefs. To take it a step further, we can use [controlled generation](https://cloud.google.com/vertex-ai/generative-ai/docs/multimodal/control-generated-output) which allows you to define a specific schema for the output so that you receive consistently formatted responses. This is particularly useful when you already have an established data schema that you use for other tasks and you'll be able to directly extract data from the model's output without any post-processing.\n",
        "\n",
        "In the next cell, we define the JSON response schema for our marketing campaign brief."
      ]
    },
    {
      "cell_type": "code",
      "execution_count": null,
      "metadata": {
        "id": "Z10jmIWbdeaK"
      },
      "outputs": [],
      "source": [
        "# JSON response schema for Marketing Campaign Brief\n",
        "\n",
        "\n",
        "class MarketingCampaignBrief(BaseModel):\n",
        "    campaign_name: str\n",
        "    campaign_objectives: list[str]\n",
        "    target_audience: str\n",
        "    media_strategy: list[str]\n",
        "    timeline: str\n",
        "    target_countries: list[str]\n",
        "    performance_metrics: list[str]"
      ]
    },
    {
      "cell_type": "markdown",
      "metadata": {
        "id": "KX8sMc3UaOG5"
      },
      "source": [
        "#### Extract details from sample past campaign brief with Gemini 2.0 Flash\n",
        "\n",
        "With our response schema all set, we are ready to send our prompt to Gemini 2.0 Flash! As Gemini 2.0 Flash is multimodal, we'll be able to send the PDF document as part of the input for Gemini to process.\n",
        "\n",
        "When using Vertex AI, you'll be able to pass the file's GCS URL directly to the model instead of having to retrieve and upload it. This makes it convenient for you to build multimodal Gemini-powered apps with seamless integration across Google Cloud. Given Gemini's large context window, GCS provides a scalable and reliable place to store massive datasets, making them readily available for inference.\n",
        "\n",
        "In the next cell, you'll do the following:\n",
        "1. Send the prompt together with the sample past campaign brief PDF to Gemini 2.0 Flash\n",
        "2. Specify that Gemini returns the response in the MarketingCampaignBrief schema you defined previously by including ```response_schema=MarketingCampaignBrief``` in the request"
      ]
    },
    {
      "cell_type": "code",
      "execution_count": null,
      "metadata": {
        "id": "4jFyKLEeOGrD"
      },
      "outputs": [
        {
          "name": "stdout",
          "output_type": "stream",
          "text": [
            "{\n",
            "  \"campaign_name\": \"Connect Beyond Limits with Pix Phone 5\",\n",
            "  \"campaign_objectives\": [\n",
            "    \"Increase awareness of the latest model of the Pix Phone\",\n",
            "    \"Generate leads and drive phone sales\",\n",
            "    \"Position Pix Phone and the trendy phone to have\"\n",
            "  ],\n",
            "  \"media_strategy\": [\n",
            "    \"Social Media Marketing: Run targeted social media ads on platforms where the target audience is active.\",\n",
            "    \"Influencer Marketing: Partner with influencers in the tech industry to promote Pix Phone 5\",\n",
            "    \"Paid Advertising: Run targeted display ads on websites and apps frequented by the target audience. Use search engine marketing (SEM) to bid on relevant keywords and appear in search results when potential customers are looking for asset protection insurance.\"\n",
            "  ],\n",
            "  \"performance_metrics\": [\n",
            "    \"Track website traffic, lead generation, and phone sales to measure campaign effectiveness.\",\n",
            "    \"Use social media analytics to monitor engagement, reach, and sentiment.\"\n",
            "  ],\n",
            "  \"target_audience\": \"Individuals aged 20-40 in major markets such as US, France, Japan\",\n",
            "  \"target_countries\": [\n",
            "    \"US\",\n",
            "    \"France\",\n",
            "    \"Japan\"\n",
            "  ],\n",
            "  \"timeline\": \"Activity in the 3 major markets in at least the online channels by early Oct 2023. Start from US, followed by France then Japan. The campaign should use the US version as anchor and localized accordingly\"\n",
            "}\n"
          ]
        }
      ],
      "source": [
        "prompt = \"\"\"\n",
        "  Extract the details from the sample marketing brief.\n",
        "\"\"\"\n",
        "\n",
        "marketing_brief_file = types.Part.from_uri(\n",
        "    marketing_brief_file_url, mime_type=\"application/pdf\"\n",
        ")\n",
        "contents = [marketing_brief_file, prompt]\n",
        "\n",
        "response = client.models.generate_content(\n",
        "    model=MODEL_ID,\n",
        "    contents=contents,\n",
        "    config=GenerateContentConfig(\n",
        "        response_mime_type=\"application/json\",\n",
        "        response_schema=MarketingCampaignBrief,\n",
        "    ),\n",
        ")\n",
        "\n",
        "sample_marketing_brief = response.text\n",
        "sample_marketing_brief_json = json.loads(sample_marketing_brief)\n",
        "print(json.dumps(sample_marketing_brief_json, indent=2))"
      ]
    },
    {
      "cell_type": "markdown",
      "metadata": {
        "id": "94xroHNWfXLI"
      },
      "source": [
        "You've successfully extracted the information from the sample past campaign brief PDF document with Gemini 2.0 Flash and Controlled Generation!"
      ]
    },
    {
      "cell_type": "markdown",
      "metadata": {
        "id": "dQyEGsAEEnIA"
      },
      "source": [
        "### Conduct market research with Google Search as a tool\n",
        "\n",
        "Next, let's do some market research and find out more about the latest trends in the phone industry so that we can enrich our marketing campaign with the latest information.\n",
        "\n",
        "But how can I do it if LLMs are frozen in time? Here's where Google Search as a tool can be used, to make Gemini more factual and up-to-date by letting you use Gemini with Google Search in real-time to access and incorporate information from the vast expanse of the public web. You should expect reduced hallucinations and increased accuracy.\n",
        "\n",
        "**Here are some incredibly useful applications for grounding:**\n",
        "- Question answering: Get accurate answers to questions that require up-to-date information (e.g., \"What's the latest news on...?\").\n",
        "- Content creation: Generate factual and relevant content on various topics.\n",
        "- Chatbots and conversational AI: Build chatbots that can engage in informed and engaging conversations.\n",
        "\n",
        "In the next cells, let's use Grounding with Google Search to find out more about the latest trends!"
      ]
    },
    {
      "cell_type": "code",
      "execution_count": null,
      "metadata": {
        "id": "VTHhLxgu_FoF"
      },
      "outputs": [],
      "source": [
        "def print_grounding_response(response):\n",
        "    \"\"\"Prints Gemini response with grounding citations.\"\"\"\n",
        "    grounding_metadata = response.candidates[0].grounding_metadata\n",
        "\n",
        "    # Citation indices are in byte units\n",
        "    ENCODING = \"utf-8\"\n",
        "    text_bytes = response.text.encode(ENCODING)\n",
        "\n",
        "    prev_index = 0\n",
        "    markdown_text = \"\"\n",
        "\n",
        "    for grounding_support in grounding_metadata.grounding_supports:\n",
        "        text_segment = text_bytes[\n",
        "            prev_index : grounding_support.segment.end_index\n",
        "        ].decode(ENCODING)\n",
        "\n",
        "        footnotes_text = \"\"\n",
        "        for grounding_chunk_index in grounding_support.grounding_chunk_indices:\n",
        "            footnotes_text += f\"[[{grounding_chunk_index + 1}]]({grounding_metadata.grounding_chunks[grounding_chunk_index].web.uri})\\n\"\n",
        "\n",
        "        markdown_text += f\"{text_segment} {footnotes_text}\\n\"\n",
        "        prev_index = grounding_support.segment.end_index\n",
        "\n",
        "    if prev_index < len(text_bytes):\n",
        "        markdown_text += str(text_bytes[prev_index:], encoding=ENCODING)\n",
        "\n",
        "    markdown_text += \"\\n----\\n## Grounding Sources\\n\"\n",
        "\n",
        "    if grounding_metadata.web_search_queries:\n",
        "        markdown_text += (\n",
        "            f\"\\n**Web Search Queries:** {grounding_metadata.web_search_queries}\\n\"\n",
        "        )\n",
        "        if grounding_metadata.search_entry_point:\n",
        "            markdown_text += f\"\\n**Search Entry Point:**\\n {grounding_metadata.search_entry_point.rendered_content}\\n\"\n",
        "    elif grounding_metadata.retrieval_queries:\n",
        "        markdown_text += (\n",
        "            f\"\\n**Retrieval Queries:** {grounding_metadata.retrieval_queries}\\n\"\n",
        "        )\n",
        "\n",
        "    markdown_text += \"### Grounding Chunks\\n\"\n",
        "\n",
        "    for index, grounding_chunk in enumerate(\n",
        "        grounding_metadata.grounding_chunks, start=1\n",
        "    ):\n",
        "        context = grounding_chunk.web or grounding_chunk.retrieved_context\n",
        "        if not context:\n",
        "            print(f\"Skipping Grounding Chunk {grounding_chunk}\")\n",
        "            continue\n",
        "\n",
        "        markdown_text += f\"{index}. [{context.title}]({context.uri})\\n\"\n",
        "\n",
        "    display(Markdown(markdown_text))"
      ]
    },
    {
      "cell_type": "code",
      "execution_count": null,
      "metadata": {
        "id": "-hYkFUxnVsSU"
      },
      "outputs": [
        {
          "data": {
            "text/markdown": [
              "Okay, here's a breakdown of the latest trends in the mobile phone industry, focusing on the top manufacturers and public sentiment:\n",
              "\n",
              "**Top Phone Makers and Their Latest Models**\n",
              "\n",
              "The smartphone market is largely dominated by two companies: **Apple** and **Samsung.** Here's a look at some of their recent models and selling points: [[1]](https://vertexaisearch.cloud.google.com/grounding-api-redirect/AYygrcQQvmwbJQV2L-T0C-K4CMBGxRanfnItTxUV2ZFwn_dsjeSN7RXq2CERf8OwxGHKHrRoeM0UQvWHSmldtjoVAh3QZ6iIBQqRcDtvbCjJIQI1TZ7XLn59F29ANSZfUBXRnc9rQMxqckSwYoLSkToGAUd4Ji8CccbWGOQBtBIzV6Ok4Nxl2SF3u6DvhNwEhx341n4ebhfPvMVKCf9yFlst9hrrX0yPLMV6y90w)\n",
              "\n",
              "\n",
              "\n",
              "**Apple**\n",
              "\n",
              "*   **iPhone 16** (released in 2024). [[2]](https://vertexaisearch.cloud.google.com/grounding-api-redirect/AYygrcSoSI0pUIVMT1D0ip8cMg8RUqkTvl1_waP46N3Qryow9Eukxetk_h6xOh4m92Wtsxg5K3RN1RdkLILC0g9WfaNAA3CNWEgY4AxnLW7Dh9w1CGRy7V0l-PrmJVEBbMxggZeDEiE1)\n",
              "\n",
              " This is considered a strong update to the core iPhone experience, offering a more appealing option than the Pro models for many users. [[2]](https://vertexaisearch.cloud.google.com/grounding-api-redirect/AYygrcSoSI0pUIVMT1D0ip8cMg8RUqkTvl1_waP46N3Qryow9Eukxetk_h6xOh4m92Wtsxg5K3RN1RdkLILC0g9WfaNAA3CNWEgY4AxnLW7Dh9w1CGRy7V0l-PrmJVEBbMxggZeDEiE1)\n",
              "\n",
              "\n",
              "*   **iPhone 15 Pro Max:** This model has been a best-seller, particularly in Q4 2023, and into 2024. [[3]](https://vertexaisearch.cloud.google.com/grounding-api-redirect/AYygrcQIaNcpty4sfrJ-AGFH4a6CN-qtckpZO58R6BY3LKJL0T-HgU7Wvu8X0jzpKaHh5ZNLInii7g6clyt84vIKrHIf1PzxtvdXdPlvQKabXVpQNvTXdP2ka2IndxUUpW_-d2rnq5avpv6HbMBE4aOQ3KX7BgnK3KkKc100nDvDvQ-Uav5rOOaUuNK84rCHANS_LCrz8XKy6jfAN8nJJeYUDZTbKhl9ljKEwZO_)\n",
              "\n",
              " Its strengths include a large display, advanced chipset, and high refresh rate, along with the \"Dynamic Island\" feature. [[3]](https://vertexaisearch.cloud.google.com/grounding-api-redirect/AYygrcQIaNcpty4sfrJ-AGFH4a6CN-qtckpZO58R6BY3LKJL0T-HgU7Wvu8X0jzpKaHh5ZNLInii7g6clyt84vIKrHIf1PzxtvdXdPlvQKabXVpQNvTXdP2ka2IndxUUpW_-d2rnq5avpv6HbMBE4aOQ3KX7BgnK3KkKc100nDvDvQ-Uav5rOOaUuNK84rCHANS_LCrz8XKy6jfAN8nJJeYUDZTbKhl9ljKEwZO_)\n",
              "\n",
              " It represents the trend of consumers favoring larger, more feature-rich phones.\n",
              "*   **iPhone 15 Pro:**  Similar to the Pro Max, it offers premium features and performance.\n",
              "*   **iPhone 15:** The base model of the 15 series remains popular.\n",
              "*   **iPhone 15 Plus**: A larger version of the base model.\n",
              "\n",
              "**Samsung**\n",
              "\n",
              "*   **Galaxy S24 Ultra:** This is considered a top-tier phone with a strong design, display, and performance. [[2]](https://vertexaisearch.cloud.google.com/grounding-api-redirect/AYygrcSoSI0pUIVMT1D0ip8cMg8RUqkTvl1_waP46N3Qryow9Eukxetk_h6xOh4m92Wtsxg5K3RN1RdkLILC0g9WfaNAA3CNWEgY4AxnLW7Dh9w1CGRy7V0l-PrmJVEBbMxggZeDEiE1)\n",
              "\n",
              " It also includes an S-Pen stylus and AI features. [[2]](https://vertexaisearch.cloud.google.com/grounding-api-redirect/AYygrcSoSI0pUIVMT1D0ip8cMg8RUqkTvl1_waP46N3Qryow9Eukxetk_h6xOh4m92Wtsxg5K3RN1RdkLILC0g9WfaNAA3CNWEgY4AxnLW7Dh9w1CGRy7V0l-PrmJVEBbMxggZeDEiE1)\n",
              "\n",
              " The S24 series has been successful due to its early release and integration of generative AI capabilities, enabling users to create unique content and experience new levels of interaction with their phones. [[1]](https://vertexaisearch.cloud.google.com/grounding-api-redirect/AYygrcQQvmwbJQV2L-T0C-K4CMBGxRanfnItTxUV2ZFwn_dsjeSN7RXq2CERf8OwxGHKHrRoeM0UQvWHSmldtjoVAh3QZ6iIBQqRcDtvbCjJIQI1TZ7XLn59F29ANSZfUBXRnc9rQMxqckSwYoLSkToGAUd4Ji8CccbWGOQBtBIzV6Ok4Nxl2SF3u6DvhNwEhx341n4ebhfPvMVKCf9yFlst9hrrX0yPLMV6y90w)\n",
              "\n",
              "\n",
              "*   **Galaxy A series** (A15 5G, A54, A34): Samsung's mid-range A-series models continue to be popular, offering a balance of features and value.\n",
              "*   **Galaxy Z Fold 6 and Z Flip 6:** Samsung continues to innovate in the foldable phone market, but these are not in the top 10 best sellers.\n",
              "\n",
              "**Other Notable Phones**\n",
              "\n",
              "While Apple and Samsung dominate sales, some other phones that are highly rated include: [[1]](https://vertexaisearch.cloud.google.com/grounding-api-redirect/AYygrcQQvmwbJQV2L-T0C-K4CMBGxRanfnItTxUV2ZFwn_dsjeSN7RXq2CERf8OwxGHKHrRoeM0UQvWHSmldtjoVAh3QZ6iIBQqRcDtvbCjJIQI1TZ7XLn59F29ANSZfUBXRnc9rQMxqckSwYoLSkToGAUd4Ji8CccbWGOQBtBIzV6Ok4Nxl2SF3u6DvhNwEhx341n4ebhfPvMVKCf9yFlst9hrrX0yPLMV6y90w)\n",
              "\n",
              "\n",
              "*   **Google Pixel 8a**: Known for its affordability and excellent camera. [[2]](https://vertexaisearch.cloud.google.com/grounding-api-redirect/AYygrcSoSI0pUIVMT1D0ip8cMg8RUqkTvl1_waP46N3Qryow9Eukxetk_h6xOh4m92Wtsxg5K3RN1RdkLILC0g9WfaNAA3CNWEgY4AxnLW7Dh9w1CGRy7V0l-PrmJVEBbMxggZeDEiE1)\n",
              "\n",
              "\n",
              "*   **Xiaomi 14 Ultra**: Another contender in the premium market. [[4]](https://vertexaisearch.cloud.google.com/grounding-api-redirect/AYygrcStZwtdwN5n7ksure8WYwvQvIj9y731BOXq-bp0hoW9TQiewDHxeWZwo5N9fTWwalhJm4robg8kXMS3XtoyjzaoqEwfvGuGOHhIothV-j5BsnZh4xvecrGPSx-XH-kGP_FG_gv3TIZIqPhOKoQ=)\n",
              "\n",
              "\n",
              "*   **OnePlus 12:** A popular option offering a balance of performance and price.\n",
              "\n",
              "**Key Trends**\n",
              "\n",
              "*   **Premiumization:**  Consumers are increasingly choosing more expensive, higher-end models like the iPhone Pro and Pro Max and the Samsung Galaxy Ultra series.\n",
              "*   **Generative AI:**  Features like those in the Samsung S24 series are becoming more prominent. [[1]](https://vertexaisearch.cloud.google.com/grounding-api-redirect/AYygrcQQvmwbJQV2L-T0C-K4CMBGxRanfnItTxUV2ZFwn_dsjeSN7RXq2CERf8OwxGHKHrRoeM0UQvWHSmldtjoVAh3QZ6iIBQqRcDtvbCjJIQI1TZ7XLn59F29ANSZfUBXRnc9rQMxqckSwYoLSkToGAUd4Ji8CccbWGOQBtBIzV6Ok4Nxl2SF3u6DvhNwEhx341n4ebhfPvMVKCf9yFlst9hrrX0yPLMV6y90w)\n",
              "\n",
              "\n",
              "*  **Larger Screens**: There is a trend towards larger smartphones. [[1]](https://vertexaisearch.cloud.google.com/grounding-api-redirect/AYygrcQQvmwbJQV2L-T0C-K4CMBGxRanfnItTxUV2ZFwn_dsjeSN7RXq2CERf8OwxGHKHrRoeM0UQvWHSmldtjoVAh3QZ6iIBQqRcDtvbCjJIQI1TZ7XLn59F29ANSZfUBXRnc9rQMxqckSwYoLSkToGAUd4Ji8CccbWGOQBtBIzV6Ok4Nxl2SF3u6DvhNwEhx341n4ebhfPvMVKCf9yFlst9hrrX0yPLMV6y90w)\n",
              "\n",
              "\n",
              "*   **Brand Loyalty:** Apple and Samsung consistently dominate the top sales charts.\n",
              "\n",
              "**Public Sentiment about Mobile Phones** [[5]](https://vertexaisearch.cloud.google.com/grounding-api-redirect/AYygrcSusT2F4J3qWSzcVOxdr3V9N6UKYZBFI6a1dH19XXp2TDZ0qFm8PPNWOFtV812HO9Ddmjj05RrjQO9dPAnj4IC8BewSj-Wfe_xGoBFdKbnxv-HCV4Os6lstKZVN1Q7GvNIB37vx5f8awP496A6o_oevIC4LoHNkODA=)\n",
              "[[6]](https://vertexaisearch.cloud.google.com/grounding-api-redirect/AYygrcQu5PF437NvLYoMi99du2q8hFVcnAXW5MI571m0Hsb8-Q1b3H9J1sGH_ZkU2xPp-eAEP_vk4GS5lBmkkZR3s7f6smqj4kHJX-BuVmrjyReOmeh9ZDJr9iV68ZQ3JvMS_r-HTU_GcXjNFa69zZ_7gHCTBXdr72EwrH6RHOV-3zuGhsbvR5bcq7etQu_lLuu9Uvk55CTiwmQ3Uz5KKqAKdYmLEjHB6pUVtbz6RRNCgOsf3RID9LArFMdBsPvt3JVRkbTGmRsKOXVts3DOew==)\n",
              "[[7]](https://vertexaisearch.cloud.google.com/grounding-api-redirect/AYygrcTrWEThmsoqeyAhPnHwtnXWMM8gaPpBQ-77Ys-3pnBAhPsMN9It52kxKTM2abTpMtVqGAIeti-4Wxi9n7XUCWT3Oc0c-OaVReB184zezBy7PFd6U3kstD82BW9moX7Yyg1BSNxviM3rruFkReHq-OGcqpNy-08RFhZ_Y-lAgJ_T9Sk6ZTGlCyse2ae_gLXCnWlYmlxIzOs=)\n",
              "[[8]](https://vertexaisearch.cloud.google.com/grounding-api-redirect/AYygrcTwRTjNiLpEHO0Dq3MXMck7lxpQ1xUsXevBCg-nHfyAHELzRw4EC5BSkpOgetJy71BIA9QKJa39TfZAJjhpVrP8N_hA1whQWa9OeYfgIgfa35sO6PA_4CsReSjNPAdklrmc-g7LPoWBgiTtng9m6JpjBCyNYLcoTXzmj8gijTtR5KTXcQ==)\n",
              "[[9]](https://vertexaisearch.cloud.google.com/grounding-api-redirect/AYygrcTiJh_Fz_nelRadj1Dnf_WLXg08geRwm1qk-vjhFgvO7XKl5Wd8ToZVxNBIDYC4_oyzEdnESc-qhH0PBmAY4XtMPbDYjIEjqJVqPf0Q-vKAAXFJZnC2pvkDv9-wJb2CEBFGnFpguX8IVbyQ4e4vw63hsPdxwGk=)\n",
              "\n",
              "\n",
              "\n",
              "Here's an overview of how the public generally feels about mobile phones:\n",
              "\n",
              "*   **Overall Positive:** Most people feel that mobile phones have made their lives better. Many acknowledge the benefits of staying in touch with others, accessing information, and carrying out essential tasks more efficiently. [[6]](https://vertexaisearch.cloud.google.com/grounding-api-redirect/AYygrcQu5PF437NvLYoMi99du2q8hFVcnAXW5MI571m0Hsb8-Q1b3H9J1sGH_ZkU2xPp-eAEP_vk4GS5lBmkkZR3s7f6smqj4kHJX-BuVmrjyReOmeh9ZDJr9iV68ZQ3JvMS_r-HTU_GcXjNFa69zZ_7gHCTBXdr72EwrH6RHOV-3zuGhsbvR5bcq7etQu_lLuu9Uvk55CTiwmQ3Uz5KKqAKdYmLEjHB6pUVtbz6RRNCgOsf3RID9LArFMdBsPvt3JVRkbTGmRsKOXVts3DOew==)\n",
              "\n",
              "\n",
              "*  **Overuse Concerns:** A significant portion of the population believes they use their phones too much. [[7]](https://vertexaisearch.cloud.google.com/grounding-api-redirect/AYygrcTrWEThmsoqeyAhPnHwtnXWMM8gaPpBQ-77Ys-3pnBAhPsMN9It52kxKTM2abTpMtVqGAIeti-4Wxi9n7XUCWT3Oc0c-OaVReB184zezBy7PFd6U3kstD82BW9moX7Yyg1BSNxviM3rruFkReHq-OGcqpNy-08RFhZ_Y-lAgJ_T9Sk6ZTGlCyse2ae_gLXCnWlYmlxIzOs=)\n",
              "[[8]](https://vertexaisearch.cloud.google.com/grounding-api-redirect/AYygrcTwRTjNiLpEHO0Dq3MXMck7lxpQ1xUsXevBCg-nHfyAHELzRw4EC5BSkpOgetJy71BIA9QKJa39TfZAJjhpVrP8N_hA1whQWa9OeYfgIgfa35sO6PA_4CsReSjNPAdklrmc-g7LPoWBgiTtng9m6JpjBCyNYLcoTXzmj8gijTtR5KTXcQ==)\n",
              "\n",
              " This concern is more prominent among younger adults but has grown across all age groups. [[8]](https://vertexaisearch.cloud.google.com/grounding-api-redirect/AYygrcTwRTjNiLpEHO0Dq3MXMck7lxpQ1xUsXevBCg-nHfyAHELzRw4EC5BSkpOgetJy71BIA9QKJa39TfZAJjhpVrP8N_hA1whQWa9OeYfgIgfa35sO6PA_4CsReSjNPAdklrmc-g7LPoWBgiTtng9m6JpjBCyNYLcoTXzmj8gijTtR5KTXcQ==)\n",
              "\n",
              " Women are also more likely than men to feel they are overusing their phones.\n",
              "*  **Impact on Children:** There is widespread concern about the negative influence of mobile phones on children. [[6]](https://vertexaisearch.cloud.google.com/grounding-api-redirect/AYygrcQu5PF437NvLYoMi99du2q8hFVcnAXW5MI571m0Hsb8-Q1b3H9J1sGH_ZkU2xPp-eAEP_vk4GS5lBmkkZR3s7f6smqj4kHJX-BuVmrjyReOmeh9ZDJr9iV68ZQ3JvMS_r-HTU_GcXjNFa69zZ_7gHCTBXdr72EwrH6RHOV-3zuGhsbvR5bcq7etQu_lLuu9Uvk55CTiwmQ3Uz5KKqAKdYmLEjHB6pUVtbz6RRNCgOsf3RID9LArFMdBsPvt3JVRkbTGmRsKOXVts3DOew==)\n",
              "\n",
              "\n",
              "*   **Mixed Feelings on Morality:** People have mixed feelings about the impact of mobile phones on morality with a significant portion reporting negative effects. [[6]](https://vertexaisearch.cloud.google.com/grounding-api-redirect/AYygrcQu5PF437NvLYoMi99du2q8hFVcnAXW5MI571m0Hsb8-Q1b3H9J1sGH_ZkU2xPp-eAEP_vk4GS5lBmkkZR3s7f6smqj4kHJX-BuVmrjyReOmeh9ZDJr9iV68ZQ3JvMS_r-HTU_GcXjNFa69zZ_7gHCTBXdr72EwrH6RHOV-3zuGhsbvR5bcq7etQu_lLuu9Uvk55CTiwmQ3Uz5KKqAKdYmLEjHB6pUVtbz6RRNCgOsf3RID9LArFMdBsPvt3JVRkbTGmRsKOXVts3DOew==)\n",
              "\n",
              "\n",
              "*   **Addiction and Dependency:** Some users feel \"trapped\" by their phones, always being available. There are worries about \"phone addiction,\" and potential health issues related to excessive screen time. [[6]](https://vertexaisearch.cloud.google.com/grounding-api-redirect/AYygrcQu5PF437NvLYoMi99du2q8hFVcnAXW5MI571m0Hsb8-Q1b3H9J1sGH_ZkU2xPp-eAEP_vk4GS5lBmkkZR3s7f6smqj4kHJX-BuVmrjyReOmeh9ZDJr9iV68ZQ3JvMS_r-HTU_GcXjNFa69zZ_7gHCTBXdr72EwrH6RHOV-3zuGhsbvR5bcq7etQu_lLuu9Uvk55CTiwmQ3Uz5KKqAKdYmLEjHB6pUVtbz6RRNCgOsf3RID9LArFMdBsPvt3JVRkbTGmRsKOXVts3DOew==)\n",
              "\n",
              "\n",
              "*   **Desire to Reduce Usage:** A notable percentage of people are trying to actively reduce their screen time. [[7]](https://vertexaisearch.cloud.google.com/grounding-api-redirect/AYygrcTrWEThmsoqeyAhPnHwtnXWMM8gaPpBQ-77Ys-3pnBAhPsMN9It52kxKTM2abTpMtVqGAIeti-4Wxi9n7XUCWT3Oc0c-OaVReB184zezBy7PFd6U3kstD82BW9moX7Yyg1BSNxviM3rruFkReHq-OGcqpNy-08RFhZ_Y-lAgJ_T9Sk6ZTGlCyse2ae_gLXCnWlYmlxIzOs=)\n",
              "\n",
              " However, a majority of people are not actively trying to reduce their phone usage. [[7]](https://vertexaisearch.cloud.google.com/grounding-api-redirect/AYygrcTrWEThmsoqeyAhPnHwtnXWMM8gaPpBQ-77Ys-3pnBAhPsMN9It52kxKTM2abTpMtVqGAIeti-4Wxi9n7XUCWT3Oc0c-OaVReB184zezBy7PFd6U3kstD82BW9moX7Yyg1BSNxviM3rruFkReHq-OGcqpNy-08RFhZ_Y-lAgJ_T9Sk6ZTGlCyse2ae_gLXCnWlYmlxIzOs=)\n",
              "\n",
              "\n",
              "\n",
              "In conclusion, while mobile phones are generally viewed positively for their convenience and connectivity, there are growing concerns about overuse, addiction, and negative impacts, particularly on children. The market is dominated by Apple and Samsung, with a trend towards premium and feature-rich devices with AI capabilities.\n",
              "\n",
              "----\n",
              "## Grounding Sources\n",
              "\n",
              "**Web Search Queries:** ['top 2 phone makers latest phone models and their selling point', 'public sentiment about mobile phones']\n",
              "\n",
              "**Search Entry Point:**\n",
              " <style>\n",
              ".container {\n",
              "  align-items: center;\n",
              "  border-radius: 8px;\n",
              "  display: flex;\n",
              "  font-family: Google Sans, Roboto, sans-serif;\n",
              "  font-size: 14px;\n",
              "  line-height: 20px;\n",
              "  padding: 8px 12px;\n",
              "}\n",
              ".chip {\n",
              "  display: inline-block;\n",
              "  border: solid 1px;\n",
              "  border-radius: 16px;\n",
              "  min-width: 14px;\n",
              "  padding: 5px 16px;\n",
              "  text-align: center;\n",
              "  user-select: none;\n",
              "  margin: 0 8px;\n",
              "  -webkit-tap-highlight-color: transparent;\n",
              "}\n",
              ".carousel {\n",
              "  overflow: auto;\n",
              "  scrollbar-width: none;\n",
              "  white-space: nowrap;\n",
              "  margin-right: -12px;\n",
              "}\n",
              ".headline {\n",
              "  display: flex;\n",
              "  margin-right: 4px;\n",
              "}\n",
              ".gradient-container {\n",
              "  position: relative;\n",
              "}\n",
              ".gradient {\n",
              "  position: absolute;\n",
              "  transform: translate(3px, -9px);\n",
              "  height: 36px;\n",
              "  width: 9px;\n",
              "}\n",
              "@media (prefers-color-scheme: light) {\n",
              "  .container {\n",
              "    background-color: #fafafa;\n",
              "    box-shadow: 0 0 0 1px #0000000f;\n",
              "  }\n",
              "  .headline-label {\n",
              "    color: #1f1f1f;\n",
              "  }\n",
              "  .chip {\n",
              "    background-color: #ffffff;\n",
              "    border-color: #d2d2d2;\n",
              "    color: #5e5e5e;\n",
              "    text-decoration: none;\n",
              "  }\n",
              "  .chip:hover {\n",
              "    background-color: #f2f2f2;\n",
              "  }\n",
              "  .chip:focus {\n",
              "    background-color: #f2f2f2;\n",
              "  }\n",
              "  .chip:active {\n",
              "    background-color: #d8d8d8;\n",
              "    border-color: #b6b6b6;\n",
              "  }\n",
              "  .logo-dark {\n",
              "    display: none;\n",
              "  }\n",
              "  .gradient {\n",
              "    background: linear-gradient(90deg, #fafafa 15%, #fafafa00 100%);\n",
              "  }\n",
              "}\n",
              "@media (prefers-color-scheme: dark) {\n",
              "  .container {\n",
              "    background-color: #1f1f1f;\n",
              "    box-shadow: 0 0 0 1px #ffffff26;\n",
              "  }\n",
              "  .headline-label {\n",
              "    color: #fff;\n",
              "  }\n",
              "  .chip {\n",
              "    background-color: #2c2c2c;\n",
              "    border-color: #3c4043;\n",
              "    color: #fff;\n",
              "    text-decoration: none;\n",
              "  }\n",
              "  .chip:hover {\n",
              "    background-color: #353536;\n",
              "  }\n",
              "  .chip:focus {\n",
              "    background-color: #353536;\n",
              "  }\n",
              "  .chip:active {\n",
              "    background-color: #464849;\n",
              "    border-color: #53575b;\n",
              "  }\n",
              "  .logo-light {\n",
              "    display: none;\n",
              "  }\n",
              "  .gradient {\n",
              "    background: linear-gradient(90deg, #1f1f1f 15%, #1f1f1f00 100%);\n",
              "  }\n",
              "}\n",
              "</style>\n",
              "<div class=\"container\">\n",
              "  <div class=\"headline\">\n",
              "    <svg class=\"logo-light\" width=\"18\" height=\"18\" viewBox=\"9 9 35 35\" fill=\"none\" xmlns=\"http://www.w3.org/2000/svg\">\n",
              "      <path fill-rule=\"evenodd\" clip-rule=\"evenodd\" d=\"M42.8622 27.0064C42.8622 25.7839 42.7525 24.6084 42.5487 23.4799H26.3109V30.1568H35.5897C35.1821 32.3041 33.9596 34.1222 32.1258 35.3448V39.6864H37.7213C40.9814 36.677 42.8622 32.2571 42.8622 27.0064V27.0064Z\" fill=\"#4285F4\"/>\n",
              "      <path fill-rule=\"evenodd\" clip-rule=\"evenodd\" d=\"M26.3109 43.8555C30.9659 43.8555 34.8687 42.3195 37.7213 39.6863L32.1258 35.3447C30.5898 36.3792 28.6306 37.0061 26.3109 37.0061C21.8282 37.0061 18.0195 33.9811 16.6559 29.906H10.9194V34.3573C13.7563 39.9841 19.5712 43.8555 26.3109 43.8555V43.8555Z\" fill=\"#34A853\"/>\n",
              "      <path fill-rule=\"evenodd\" clip-rule=\"evenodd\" d=\"M16.6559 29.8904C16.3111 28.8559 16.1074 27.7588 16.1074 26.6146C16.1074 25.4704 16.3111 24.3733 16.6559 23.3388V18.8875H10.9194C9.74388 21.2072 9.06992 23.8247 9.06992 26.6146C9.06992 29.4045 9.74388 32.022 10.9194 34.3417L15.3864 30.8621L16.6559 29.8904V29.8904Z\" fill=\"#FBBC05\"/>\n",
              "      <path fill-rule=\"evenodd\" clip-rule=\"evenodd\" d=\"M26.3109 16.2386C28.85 16.2386 31.107 17.1164 32.9095 18.8091L37.8466 13.8719C34.853 11.082 30.9659 9.3736 26.3109 9.3736C19.5712 9.3736 13.7563 13.245 10.9194 18.8875L16.6559 23.3388C18.0195 19.2636 21.8282 16.2386 26.3109 16.2386V16.2386Z\" fill=\"#EA4335\"/>\n",
              "    </svg>\n",
              "    <svg class=\"logo-dark\" width=\"18\" height=\"18\" viewBox=\"0 0 48 48\" xmlns=\"http://www.w3.org/2000/svg\">\n",
              "      <circle cx=\"24\" cy=\"23\" fill=\"#FFF\" r=\"22\"/>\n",
              "      <path d=\"M33.76 34.26c2.75-2.56 4.49-6.37 4.49-11.26 0-.89-.08-1.84-.29-3H24.01v5.99h8.03c-.4 2.02-1.5 3.56-3.07 4.56v.75l3.91 2.97h.88z\" fill=\"#4285F4\"/>\n",
              "      <path d=\"M15.58 25.77A8.845 8.845 0 0 0 24 31.86c1.92 0 3.62-.46 4.97-1.31l4.79 3.71C31.14 36.7 27.65 38 24 38c-5.93 0-11.01-3.4-13.45-8.36l.17-1.01 4.06-2.85h.8z\" fill=\"#34A853\"/>\n",
              "      <path d=\"M15.59 20.21a8.864 8.864 0 0 0 0 5.58l-5.03 3.86c-.98-2-1.53-4.25-1.53-6.64 0-2.39.55-4.64 1.53-6.64l1-.22 3.81 2.98.22 1.08z\" fill=\"#FBBC05\"/>\n",
              "      <path d=\"M24 14.14c2.11 0 4.02.75 5.52 1.98l4.36-4.36C31.22 9.43 27.81 8 24 8c-5.93 0-11.01 3.4-13.45 8.36l5.03 3.85A8.86 8.86 0 0 1 24 14.14z\" fill=\"#EA4335\"/>\n",
              "    </svg>\n",
              "    <div class=\"gradient-container\"><div class=\"gradient\"></div></div>\n",
              "  </div>\n",
              "  <div class=\"carousel\">\n",
              "    <a class=\"chip\" href=\"https://vertexaisearch.cloud.google.com/grounding-api-redirect/AYygrcROaJhV52tiXkFoHrK8hQjJG74CdrdC3rt0CIMogMQAIkw-_v57VRX_rSRVggu2u7zyJbUI9TVhhfK6k4aHXOhwq661nnzjWhfJWskKCV9zsyifUae4ut0JwoH87KaBD99M4L7AupSzKhljscSNeVjKp-Fz2EzPj0zBaKgbztRBbspLv3OeeqaKlgCSzXle4gBeqcCfXDdaRhIlAVkGAh1hQTADIq2WlZPNdsF6FpIrPHouIFzghw7YHxiu8mQ=\">top 2 phone makers latest phone models and their selling point</a>\n",
              "    <a class=\"chip\" href=\"https://vertexaisearch.cloud.google.com/grounding-api-redirect/AYygrcQKTL5Pff7fJfpweZKoEirOiVinDsUMxc-REeR7szg8uiZvlfZaLs6vx2XJjKBmikXaZoaFdbvW1fnVN8rKSRkUqKrjPZYkD_V003NA0kr8kfELswV6OFg90X5o2kMigl_IDAF_MVXNoC9UhPcSHYejEnKqCErJoM2coWv-QT2cv5p-Rl7JKC9E1QmkBPUgvpzJkkzbwKHo2wXQWsEbN01Fisk=\">public sentiment about mobile phones</a>\n",
              "  </div>\n",
              "</div>\n",
              "\n",
              "### Grounding Chunks\n",
              "1. [forbes.com](https://vertexaisearch.cloud.google.com/grounding-api-redirect/AYygrcQQvmwbJQV2L-T0C-K4CMBGxRanfnItTxUV2ZFwn_dsjeSN7RXq2CERf8OwxGHKHrRoeM0UQvWHSmldtjoVAh3QZ6iIBQqRcDtvbCjJIQI1TZ7XLn59F29ANSZfUBXRnc9rQMxqckSwYoLSkToGAUd4Ji8CccbWGOQBtBIzV6Ok4Nxl2SF3u6DvhNwEhx341n4ebhfPvMVKCf9yFlst9hrrX0yPLMV6y90w)\n",
              "2. [stuff.tv](https://vertexaisearch.cloud.google.com/grounding-api-redirect/AYygrcSoSI0pUIVMT1D0ip8cMg8RUqkTvl1_waP46N3Qryow9Eukxetk_h6xOh4m92Wtsxg5K3RN1RdkLILC0g9WfaNAA3CNWEgY4AxnLW7Dh9w1CGRy7V0l-PrmJVEBbMxggZeDEiE1)\n",
              "3. [counterpointresearch.com](https://vertexaisearch.cloud.google.com/grounding-api-redirect/AYygrcQIaNcpty4sfrJ-AGFH4a6CN-qtckpZO58R6BY3LKJL0T-HgU7Wvu8X0jzpKaHh5ZNLInii7g6clyt84vIKrHIf1PzxtvdXdPlvQKabXVpQNvTXdP2ka2IndxUUpW_-d2rnq5avpv6HbMBE4aOQ3KX7BgnK3KkKc100nDvDvQ-Uav5rOOaUuNK84rCHANS_LCrz8XKy6jfAN8nJJeYUDZTbKhl9ljKEwZO_)\n",
              "4. [cashify.in](https://vertexaisearch.cloud.google.com/grounding-api-redirect/AYygrcStZwtdwN5n7ksure8WYwvQvIj9y731BOXq-bp0hoW9TQiewDHxeWZwo5N9fTWwalhJm4robg8kXMS3XtoyjzaoqEwfvGuGOHhIothV-j5BsnZh4xvecrGPSx-XH-kGP_FG_gv3TIZIqPhOKoQ=)\n",
              "5. [yougov.co.uk](https://vertexaisearch.cloud.google.com/grounding-api-redirect/AYygrcSusT2F4J3qWSzcVOxdr3V9N6UKYZBFI6a1dH19XXp2TDZ0qFm8PPNWOFtV812HO9Ddmjj05RrjQO9dPAnj4IC8BewSj-Wfe_xGoBFdKbnxv-HCV4Os6lstKZVN1Q7GvNIB37vx5f8awP496A6o_oevIC4LoHNkODA=)\n",
              "6. [pewresearch.org](https://vertexaisearch.cloud.google.com/grounding-api-redirect/AYygrcQu5PF437NvLYoMi99du2q8hFVcnAXW5MI571m0Hsb8-Q1b3H9J1sGH_ZkU2xPp-eAEP_vk4GS5lBmkkZR3s7f6smqj4kHJX-BuVmrjyReOmeh9ZDJr9iV68ZQ3JvMS_r-HTU_GcXjNFa69zZ_7gHCTBXdr72EwrH6RHOV-3zuGhsbvR5bcq7etQu_lLuu9Uvk55CTiwmQ3Uz5KKqAKdYmLEjHB6pUVtbz6RRNCgOsf3RID9LArFMdBsPvt3JVRkbTGmRsKOXVts3DOew==)\n",
              "7. [yougov.com](https://vertexaisearch.cloud.google.com/grounding-api-redirect/AYygrcTrWEThmsoqeyAhPnHwtnXWMM8gaPpBQ-77Ys-3pnBAhPsMN9It52kxKTM2abTpMtVqGAIeti-4Wxi9n7XUCWT3Oc0c-OaVReB184zezBy7PFd6U3kstD82BW9moX7Yyg1BSNxviM3rruFkReHq-OGcqpNy-08RFhZ_Y-lAgJ_T9Sk6ZTGlCyse2ae_gLXCnWlYmlxIzOs=)\n",
              "8. [gallup.com](https://vertexaisearch.cloud.google.com/grounding-api-redirect/AYygrcTwRTjNiLpEHO0Dq3MXMck7lxpQ1xUsXevBCg-nHfyAHELzRw4EC5BSkpOgetJy71BIA9QKJa39TfZAJjhpVrP8N_hA1whQWa9OeYfgIgfa35sO6PA_4CsReSjNPAdklrmc-g7LPoWBgiTtng9m6JpjBCyNYLcoTXzmj8gijTtR5KTXcQ==)\n",
              "9. [firstmonday.org](https://vertexaisearch.cloud.google.com/grounding-api-redirect/AYygrcTiJh_Fz_nelRadj1Dnf_WLXg08geRwm1qk-vjhFgvO7XKl5Wd8ToZVxNBIDYC4_oyzEdnESc-qhH0PBmAY4XtMPbDYjIEjqJVqPf0Q-vKAAXFJZnC2pvkDv9-wJb2CEBFGnFpguX8IVbyQ4e4vw63hsPdxwGk=)\n"
            ],
            "text/plain": [
              "<IPython.core.display.Markdown object>"
            ]
          },
          "metadata": {},
          "output_type": "display_data"
        }
      ],
      "source": [
        "# Use Grounding with Google Search to do market research\n",
        "market_research_prompt = \"\"\"\n",
        "  I am planning to launch a mobile phone campaign and I want to understand the latest trends in the phone industry.\n",
        "  Please answer the following questions:\n",
        "  - What are the latest phone models and their selling point from the top 2 phone makers?\n",
        "  - What is the general public sentiment about mobile phones?\n",
        "\"\"\"\n",
        "\n",
        "contents = [market_research_prompt]\n",
        "\n",
        "google_search_tool = Tool(google_search=GoogleSearch())\n",
        "\n",
        "response = client.models.generate_content(\n",
        "    model=MODEL_ID,\n",
        "    contents=contents,\n",
        "    config=GenerateContentConfig(tools=[google_search_tool]),\n",
        ")\n",
        "\n",
        "market_research = response.text\n",
        "print_grounding_response(response)"
      ]
    },
    {
      "cell_type": "markdown",
      "metadata": {
        "id": "7-LBVlhrhj20"
      },
      "source": [
        "Congratulations on using Grounding with Google Search to get the latest information around the phone industry in your market research!"
      ]
    },
    {
      "cell_type": "markdown",
      "metadata": {
        "id": "ZjMex3LKHMzd"
      },
      "source": [
        "### Putting it together\n",
        "\n",
        "Now that we have a template and some market research done, let's try to create a marketing brief for our new phone launch with Gemini 2.0 Flash!\n",
        "\n",
        "In the next cell, you'll pass the following information to Gemini 2.0 Flash:\n",
        "1. Information about the phone that you're launching\n",
        "2. Prompt to instruct Gemini to create a marketing campaign brief\n",
        "3. Extracted information from the sample past campaign brief\n",
        "4. Market research that was done with Grounding with Google Search\n",
        "5. MarketingCampaignBrief schema that was defined previously\n"
      ]
    },
    {
      "cell_type": "code",
      "execution_count": null,
      "metadata": {
        "id": "ksyAm8h0HYpq"
      },
      "outputs": [
        {
          "name": "stdout",
          "output_type": "stream",
          "text": [
            "{\n",
            "  \"campaign_name\": \"Experience the Future with Pix Phone 10\",\n",
            "  \"campaign_objectives\": [\n",
            "    \"Increase awareness of the new Pix Phone 10 with its AI capabilities and redesigned form factor\",\n",
            "    \"Generate pre-orders and drive sales upon launch in target markets.\",\n",
            "    \"Position Pix Phone 10 as a leader in mobile innovation and a fun user experience.\"\n",
            "  ],\n",
            "  \"media_strategy\": [\n",
            "    \"Social Media Marketing: Run targeted campaigns highlighting the phone's AI features and new design on platforms like Instagram, X, and Facebook.\",\n",
            "    \"Influencer Marketing: Partner with tech reviewers and lifestyle influencers to showcase the phone's capabilities and user experience.\",\n",
            "    \"Paid Advertising: Utilize search engine marketing (SEM) and run targeted display ads on websites and apps popular with the target audience.\",\n",
            "    \"Launch Events: Host launch events in major cities to create buzz around the phone and encourage early adoption.\",\n",
            "    \"Public Relations: Distribute press releases to tech and lifestyle publications to increase media coverage.\"\n",
            "  ],\n",
            "  \"performance_metrics\": [\n",
            "    \"Track pre-orders and sales figures for the Pix Phone 10.\",\n",
            "    \"Monitor social media engagement, reach, and sentiment towards the Pix Phone 10.\",\n",
            "    \"Track website traffic and leads generated from campaign efforts.\",\n",
            "    \"Measure media mentions and public perception of the phone and the launch event.\"\n",
            "  ],\n",
            "  \"target_audience\": \"Tech-savvy individuals aged 20-40 in major urban markets, who are interested in AI innovation and design-centric products.\",\n",
            "  \"target_countries\": [\n",
            "    \"US\",\n",
            "    \"France\",\n",
            "    \"Japan\"\n",
            "  ],\n",
            "  \"timeline\": \"Pre-launch activities will start in Nov 2024, followed by the US launch in Jan 2025, and subsequent rollouts in France and Japan within Q1 2025. The campaign should use the US version as an anchor and localized accordingly\"\n",
            "}\n"
          ]
        }
      ],
      "source": [
        "new_phone_details = \"\"\"\n",
        "  Phone Name: Pix Phone 10\n",
        "  Short description: Pix Phone 10 is the flagship phone with a focus on AI-powered features and a completely redesigned form factor.\n",
        "  Tech Specs:\n",
        "    - Camera: 50MP main sensor with 48MP ultrawide lens with autofocus for macro shots\n",
        "    - Performance: P5 processor for fast performance and AI capabilities\n",
        "    - Battery: 4700mAh battery for all-day usage\n",
        "  Key Highlights:\n",
        "    - Powerful camera system\n",
        "    - Redesigned software user experience to introduce more fun\n",
        "    - Compact form factor\n",
        "  Launch timeline: Jan 2025\n",
        "  Target countries: US, France and Japan\n",
        "\"\"\"\n",
        "\n",
        "create_brief_prompt = f\"\"\"\n",
        "Given the following details, create a marketing campaign brief for the new phone launch:\n",
        "\n",
        "Sample campaign brief:\n",
        "{sample_marketing_brief}\n",
        "\n",
        "Market research:\n",
        "{market_research}\n",
        "\n",
        "New phone details:\n",
        "{new_phone_details}\n",
        "\"\"\"\n",
        "\n",
        "contents = [create_brief_prompt]\n",
        "\n",
        "response = client.models.generate_content(\n",
        "    model=MODEL_ID,\n",
        "    contents=contents,\n",
        "    config=GenerateContentConfig(\n",
        "        response_mime_type=\"application/json\",\n",
        "        response_schema=MarketingCampaignBrief,\n",
        "    ),\n",
        ")\n",
        "\n",
        "creative_brief = response.text\n",
        "creative_brief_json = json.loads(creative_brief)\n",
        "print(json.dumps(creative_brief_json, indent=2))"
      ]
    },
    {
      "cell_type": "markdown",
      "metadata": {
        "id": "jjGa1z2rht14"
      },
      "source": [
        "You've successfully created your marketing campaign brief for your upcoming phone launch!"
      ]
    },
    {
      "cell_type": "markdown",
      "metadata": {
        "id": "0kUUTkP_KTNl"
      },
      "source": [
        "### Creating Assets for the Marketing Campaign\n",
        "Now that we have our marketing campaign brief for the upcoming phone launch, we can now use it as information and context to generate some marketing assets.\n",
        "\n",
        "Gemini supports a variety of languages ([complete list](https://cloud.google.com/vertex-ai/generative-ai/docs/learn/models#languages-gemini)) so it is perfect for us as we will need to generate assets in the local language of our target markets: US, France and Japan.\n",
        "\n",
        "In the following sections, we will be looking at creating:\n",
        "- Social Media Ad Copy\n",
        "- Storyboarding for short-form videos"
      ]
    },
    {
      "cell_type": "markdown",
      "metadata": {
        "id": "ME-ot7hmXrB4"
      },
      "source": [
        "#### Creating Social Media Ad Copy\n",
        "Similarly, we will be defining a response schema for ad copy and passing it it to Gemini 2.0 Flash in the request.\n",
        "\n",
        "In the next few cells, we will do the following:\n",
        "1. Define the JSON response schema for our ad copy\n",
        "2. Send the prompt and response schema to Gemini 2.0 Flash"
      ]
    },
    {
      "cell_type": "code",
      "execution_count": null,
      "metadata": {
        "id": "CBnNzb0DJc92"
      },
      "outputs": [],
      "source": [
        "# JSON response schema for an ad copy\n",
        "\n",
        "\n",
        "class AdCopy(BaseModel):\n",
        "    ad_copy_options: list[str]\n",
        "    localization_notes: list[str]\n",
        "    visual_description: list[str]"
      ]
    },
    {
      "cell_type": "code",
      "execution_count": null,
      "metadata": {
        "id": "X0PLRHllLttp"
      },
      "outputs": [
        {
          "name": "stdout",
          "output_type": "stream",
          "text": [
            "{\n",
            "  \"ad_copy_options\": [\n",
            "    \"US: \\\"Experience the future in your hands with the new Pix Phone 10. Revolutionary AI, stunning design. Pre-order now! #PixPhone10 #FutureOfTech #AIphone\\\"\",\n",
            "    \"France: \\\"Découvrez le futur avec le nouveau Pix Phone 10. IA révolutionnaire, design incroyable. Précommandez maintenant ! #PixPhone10 #TechnologieDuFutur #IAphone\\\"\",\n",
            "    \"Japan: \\\"新しいPix Phone 10で未来を体験しよう。革新的なAI、美しいデザイン。今すぐ予約！ #PixPhone10 #未来のテクノロジー #AIフォン\\\"\"\n",
            "  ],\n",
            "  \"localization_notes\": [\n",
            "    \"US: Focuses on direct and concise language emphasizing innovation and the future. Uses #hashtags popular among tech enthusiasts in the US.\",\n",
            "    \"France: Ad copy is translated to French, maintaining a tone of sophistication and elegance common in French marketing. Uses relevant French hashtags.\",\n",
            "    \"Japan: Ad copy is translated to Japanese, considering cultural preferences for concise and impactful language. Uses hashtags popular in Japan.\"\n",
            "  ],\n",
            "  \"visual_description\": [\n",
            "    \"US: Clean, modern aesthetic with the phone prominently displayed. The background should feature a futuristic urban setting in a vibrant city like New York or San Francisco. Emphasize the sleek design and AI features through graphics and animation. Colors should be bright and tech-forward (blues and greys).\",\n",
            "    \"France: A refined visual with the phone on display, potentially in a Parisian café or near iconic architecture. The style should lean toward artistic and elegant, with softer lighting and a sophisticated color palette (muted pastels and gold).\",\n",
            "    \"Japan: Visual should showcase the phone in a modern, high-tech environment in a city like Tokyo, featuring elements of minimalism and cutting-edge technology. The color palette should be clean and futuristic (white, silver and neon accents) with a focus on user interaction and efficiency.\"\n",
            "  ]\n",
            "}\n"
          ]
        }
      ],
      "source": [
        "ad_copy_prompt = f\"\"\"\n",
        "  Given the marketing campaign brief, create an Instagram ad-copy for each target market: {creative_brief_json[\"target_countries\"]}\n",
        "  Please localize the ad-copy and the visuals to the target markets for better relevancy to the target audience.\n",
        "  Marketing Campaign Brief:\n",
        "  {creative_brief}\n",
        "\"\"\"\n",
        "\n",
        "contents = [ad_copy_prompt]\n",
        "\n",
        "response = client.models.generate_content(\n",
        "    model=MODEL_ID,\n",
        "    contents=contents,\n",
        "    config=GenerateContentConfig(\n",
        "        response_mime_type=\"application/json\",\n",
        "        response_schema=AdCopy,\n",
        "    ),\n",
        ")\n",
        "\n",
        "ad_copy = response.text\n",
        "ad_copy_json = json.loads(ad_copy)\n",
        "print(json.dumps(ad_copy_json, indent=2, ensure_ascii=False))"
      ]
    },
    {
      "cell_type": "markdown",
      "metadata": {
        "id": "iF_mmCaUkwgq"
      },
      "source": [
        "You've successfully created localized ad copies for each of the target markets in its respective local language!"
      ]
    },
    {
      "cell_type": "markdown",
      "metadata": {
        "id": "1k8qvQ0GXxEz"
      },
      "source": [
        "#### Creating storyboard for short-form videos\n",
        "Lastly, let's get Gemini 2.0 Flash to help us brainstorm a storyboard for a short-form video to accompany the phone launch campaign!\n"
      ]
    },
    {
      "cell_type": "code",
      "execution_count": null,
      "metadata": {
        "id": "rDXmBAEDLXkl"
      },
      "outputs": [
        {
          "data": {
            "text/markdown": [
              "Okay, here's a storyboard for three localized YouTube Shorts videos, designed for the US, French, and Japanese markets, based on your provided campaign brief. The core concept will remain consistent across all versions, showcasing the phone's sleek design and AI capabilities, but the visuals, music, and dialogue will be tailored for each market.\n",
              "\n",
              "**General Structure Across All Videos (Approx. 60 seconds each):**\n",
              "\n",
              "*   **Opening Hook (0-5 seconds):** Attention-grabbing visual and sound.\n",
              "*   **Feature Showcase (5-40 seconds):** Demonstrating key features (AI, design) in a dynamic way.\n",
              "*   **Benefit/Emotional Connection (40-50 seconds):** Highlighting the impact on the user's life.\n",
              "*   **Call to Action (50-60 seconds):**  Encouraging pre-orders, website visits, etc.\n",
              "\n",
              "**Key Elements for Each Market:**\n",
              "\n",
              "*   **Visuals:** Use relatable scenes, popular backgrounds, and culturally relevant imagery.\n",
              "*   **Music:** Choose music that resonates with the target market's taste.\n",
              "*   **Dialogue/Text:** Keep it short, snappy, and culturally appropriate.\n",
              "*   **Pace/Editing:** Adjust the rhythm to match the local style of online content.\n",
              "\n",
              "**Storyboard:**\n",
              "\n",
              "**Video 1: US Market - \"Your World, Amplified\"**\n",
              "\n",
              "| **Time** | **Visuals**                                                                                                                  | **Audio/Text**                                                            | **Notes**                                                                      |\n",
              "| :------- | :----------------------------------------------------------------------------------------------------------------------------- | :------------------------------------------------------------------------- | :----------------------------------------------------------------------------- |\n",
              "| 0-2      | Close-up of Pix Phone 10's sleek edge. Fast cuts of busy city life (coffee shops, co-working spaces, etc.)                | Upbeat electronic music, a quick futuristic chime. \"Pix Phone 10\" appears.   | Energetic and fast-paced to capture the US market's attention.                |\n",
              "| 2-15     | Person using AI photo editing feature, easily improving a pic of a burger at a food truck. AI Assistant helps make a dinner reservation on the fly via natural language processing. | Voiceover (enthusiastic, US accent): \"Meet your new sidekick. Smarter. Faster. More awesome.\" Upbeat music transitions. | Focus on practicality and seamless user experience. Quick, visual examples. |\n",
              "| 15-25    |   Dynamic montage of the phone's design, fast transitions showcasing different colors and viewing angles.     | Minimal music with modern synth sounds. Text: \"Re-imagined Design.\"               | Highlighting the design as futuristic and desirable.                         |\n",
              "| 25-35    | Person using the AI translation feature while travelling. A conversation happening across a language barrier facilitated by the Pix Phone 10.     |  Text: “Seamless Connection.”  | Showcasing practical AI, and appealing to the mobile and modern life. |\n",
              "| 35-45    |   Split screen with person using their current phone (slow, clunky) vs. using the Pix Phone 10 (smooth, instant).        | Text: \"Don't get left behind\" | Clear contrast and an effective sales approach.                         |\n",
              "| 45-55    |   User is smiling whilst showing off the device to friends.   | Uplifting music with voiceover: \"Experience the future. Pre-order your Pix Phone 10 today.\" | Creating an emotional connection and user excitement.                      |\n",
              "| 55-60    | Phone with close up view and QR Code, website address, pre-order link.                                                                          | A sound effect and jingle. Text: \"Pre-order now!\" | Clear and direct call to action.                                              |\n",
              "\n",
              "**Video 2: French Market - \"L'Élégance du Futur\" (The Elegance of the Future)**\n",
              "\n",
              "| **Time** | **Visuals**                                                                                                             | **Audio/Text**                                                               | **Notes**                                                                 |\n",
              "| :------- | :---------------------------------------------------------------------------------------------------------------------- | :--------------------------------------------------------------------------- | :------------------------------------------------------------------------ |\n",
              "| 0-2      |   Elegant, slow pan of the phone in a cafe setting. Focus on the materials and sleek lines.                   |  Smooth, jazzy electronic music. \"Pix Phone 10\" logo in elegant font appears.       | Set the sophisticated and refined tone of the French market from the start.|\n",
              "| 2-15     |  Person using the AI photo editing feature to enhance a photo of a Parisian landmark. Showcase the AI assistant planning an evening out (concert, nice restaurant) | Voiceover (smooth, French accent): \"Découvrez l'harmonie parfaite entre design et intelligence.\" Music softens.                               | Emphasis on aesthetics and the art of living.                                 |\n",
              "| 15-25    |   Montage of design details showcasing different color palettes against a backdrop of modern architecture.          | Minimal, chic background music. Text: \"Un design réinventé.\"     | Understated elegance; minimal is key.                                     |\n",
              "| 25-35    | A person effortlessly translating between French and Japanese using the AI translator. |  Text: “Connectez avec le monde”     | Highlighting practical AI use for the modern and international French.       |\n",
              "| 35-45   |    A split screen of  user struggling with their old phone vs. using the Pix Phone 10 with elegant transitions and smooth performance.           | Text: “Ne manquez pas le prochain.”                                                                | Subtle, persuasive approach using contrast.                                  |\n",
              "| 45-55    |  User is at an art exhibition and uses the phone to take a photo.       | Uplifting, smooth background music. Voiceover: \"L'avenir est entre vos mains. Réservez votre Pix Phone 10 dès aujourd'hui.\" | Emphasizing user experience and emotional connection.                             |\n",
              "| 55-60    | Phone with QR Code, website address, pre-order link.                                                               | A refined sound effect. Text: \"Pré-commandez maintenant!\"                         | Clear call to action, with elegant touch.                                   |\n",
              "\n",
              "**Video 3: Japanese Market - \"未来を、手のひらに\" (The Future in Your Palm)**\n",
              "\n",
              "| **Time** | **Visuals**                                                                                                                               | **Audio/Text**                                                              | **Notes**                                                                     |\n",
              "| :------- | :---------------------------------------------------------------------------------------------------------------------------------------- | :-------------------------------------------------------------------------- | :---------------------------------------------------------------------------- |\n",
              "| 0-2      |   Clean, futuristic geometric shapes with the Pix Phone 10 slowly forming into view from a digital haze.                |  Upbeat, slightly quirky electronic music with Japanese instruments woven in. \"Pix Phone 10\" logo in Japanese appears.           |  Start with something unique and visually captivating.                           |\n",
              "| 2-15     | Person using AI assistant to quickly navigate a train system map using the camera. Showcasing the phone helping with their daily schedule and calendar tasks.  | Voiceover (friendly, Japanese accent): \"最新のテクノロジーで、毎日の生活をもっとスムーズに.\" Music becomes more melodic.        | Focus on efficiency and how it solves daily problems.    |\n",
              "| 15-25    |  Close up shot highlighting design details with minimalist clean animations and bold colours.  | Minimalist music with subtle synth tones. Text: \"革新的なデザイン.\"   | Focus on advanced technology.                                      |\n",
              "| 25-35    |  A group of students laughing and chatting as they use the translation feature during a group project. | Text: “コミュニケーションがさらに簡単に”                                 | Showcasing practical AI use for social and educational interactions.                     |\n",
              "| 35-45    |   A comparison of an older phone struggling with several tasks vs the smooth multitasking capabilities of the Pix Phone 10.  | Text: \"新しい未来へ.\"|  Using a comparison to show benefit.                                           |\n",
              "| 45-55    |  A student sharing information using the phone on public transport. | Uplifting, melodic background music with traditional Japanese elements. Voiceover: \"未来を体験しよう。Pix Phone 10を予約してください.\"   | Creating a positive and futuristic connection.                                 |\n",
              "| 55-60    | Phone with QR Code, website address, pre-order link.                                                                               | A short, catchy jingle. Text: \"今すぐ予約!\"                                      | Direct and clear, with a culturally relevant call to action.                 |\n",
              "\n",
              "**Key Takeaways:**\n",
              "\n",
              "*   **Localization is Key:** These are not just translated versions, but re-imagined for each market's cultural nuances.\n",
              "*   **Visual Storytelling:** Focus on dynamic visuals and strong, quick edits to keep viewers engaged.\n",
              "*   **AI Focus:**  AI capabilities are showcased through practical examples tailored to each region.\n",
              "*   **Call to Action:**  Clear and consistent across all versions.\n",
              "\n",
              "By creating these three unique but related videos, you can effectively target different markets while maintaining consistent brand messaging and driving pre-orders for the Pix Phone 10.\n"
            ],
            "text/plain": [
              "<IPython.core.display.Markdown object>"
            ]
          },
          "metadata": {},
          "output_type": "display_data"
        }
      ],
      "source": [
        "short_video_prompt = f\"\"\"\n",
        "  Given the marketing campaign brief, create a storyboard for a YouTube Shorts video for target markets: {creative_brief_json[\"target_countries\"]}.\n",
        "  Please localize the content to the target markets for better relevancy to the target audience.\n",
        "  Marketing Campaign Brief:\n",
        "  {creative_brief}\n",
        "\n",
        "\"\"\"\n",
        "\n",
        "contents = [short_video_prompt]\n",
        "\n",
        "response = client.models.generate_content(model=MODEL_ID, contents=contents)\n",
        "\n",
        "short_video_response = response.text\n",
        "display(Markdown(short_video_response))"
      ]
    },
    {
      "cell_type": "markdown",
      "metadata": {
        "id": "_LMu5uAqlS0V"
      },
      "source": [
        "There you go! You've successfully created storyboards for each of the target markets - localized to the local context!"
      ]
    },
    {
      "cell_type": "markdown",
      "metadata": {
        "id": "KXnkxZbeM0tY"
      },
      "source": [
        "# Conclusion\n",
        "In this tutorial, you've learned:\n",
        "- How to use the unified Google Gen AI SDK\n",
        "- Extract information from PDF documents\n",
        "- Use Controlled Generation to ensure consistent output in specified schema\n",
        "- Utilize Grounding with Google Search to access latest information\n",
        "- Create a marketing campaign and assets with Gemini"
      ]
    }
  ],
  "metadata": {
    "colab": {
      "collapsed_sections": [
        "dmWOrTJ3gx13"
      ],
      "name": "creating_marketing_assets_gemini_2_0.ipynb",
      "toc_visible": true
    },
    "kernelspec": {
      "display_name": "Python 3",
      "name": "python3"
    }
  },
  "nbformat": 4,
  "nbformat_minor": 0
}
