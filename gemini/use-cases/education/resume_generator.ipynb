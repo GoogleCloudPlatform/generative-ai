{
  "cells": [
    {
      "cell_type": "code",
      "execution_count": null,
      "metadata": {
        "id": "ur8xi4C7S06n"
      },
      "outputs": [],
      "source": [
        "# Copyright 2024 Google LLC\n",
        "#\n",
        "# Licensed under the Apache License, Version 2.0 (the \"License\");\n",
        "# you may not use this file except in compliance with the License.\n",
        "# You may obtain a copy of the License at\n",
        "#\n",
        "#     https://www.apache.org/licenses/LICENSE-2.0\n",
        "#\n",
        "# Unless required by applicable law or agreed to in writing, software\n",
        "# distributed under the License is distributed on an \"AS IS\" BASIS,\n",
        "# WITHOUT WARRANTIES OR CONDITIONS OF ANY KIND, either express or implied.\n",
        "# See the License for the specific language governing permissions and\n",
        "# limitations under the License."
      ]
    },
    {
      "cell_type": "markdown",
      "metadata": {
        "id": "JAPoU8Sm5E6e"
      },
      "source": [
        "# Resume Generation\n",
        "\n",
        "<table align=\"left\">\n",
        "  <td style=\"text-align: center\">\n",
        "    <a href=\"https://colab.research.google.com/github/GoogleCloudPlatform/generative-ai/blob/main/gemini/use-cases/education/resume_generator.ipynb\">\n",
        "      <img width=\"32px\" src=\"https://www.gstatic.com/pantheon/images/bigquery/welcome_page/colab-logo.svg\" alt=\"Google Colaboratory logo\"><br> Open in Colab\n",
        "    </a>\n",
        "  </td>\n",
        "  <td style=\"text-align: center\">\n",
        "    <a href=\"https://console.cloud.google.com/vertex-ai/colab/import/https:%2F%2Fraw.githubusercontent.com%2FGoogleCloudPlatform%2Fgenerative-ai%2Fmain%2Fgemini%2Fuse-cases%2Feducation%2Fresume_generator.ipynb\">\n",
        "      <img width=\"32px\" src=\"https://lh3.googleusercontent.com/JmcxdQi-qOpctIvWKgPtrzZdJJK-J3sWE1RsfjZNwshCFgE_9fULcNpuXYTilIR2hjwN\" alt=\"Google Cloud Colab Enterprise logo\"><br> Open in Colab Enterprise\n",
        "    </a>\n",
        "  </td>\n",
        "  <td style=\"text-align: center\">\n",
        "    <a href=\"https://console.cloud.google.com/vertex-ai/workbench/deploy-notebook?download_url=https://raw.githubusercontent.com/GoogleCloudPlatform/generative-ai/main/gemini/use-cases/education/resume_generator.ipynb\">\n",
        "      <img src=\"https://www.gstatic.com/images/branding/gcpiconscolors/vertexai/v1/32px.svg\" alt=\"Vertex AI logo\"><br> Open in Vertex AI Workbench\n",
        "    </a>\n",
        "  </td>\n",
        "  <td style=\"text-align: center\">\n",
        "    <a href=\"https://github.com/GoogleCloudPlatform/generative-ai/blob/main/gemini/use-cases/education/resume_generator.ipynb\">\n",
        "      <img width=\"32px\" src=\"https://upload.wikimedia.org/wikipedia/commons/9/91/Octicons-mark-github.svg\" alt=\"GitHub logo\"><br> View on GitHub\n",
        "    </a>\n",
        "  </td>\n",
        "</table>"
      ]
    },
    {
      "cell_type": "markdown",
      "metadata": {
        "id": "84f0f73a0f76"
      },
      "source": [
        "| | | | |\n",
        "|-|-|-|-|\n",
        "|Author(s) | [Aniket Agrawal](https://github.com/aniketagrawal2012) | [Rupjit Chakraborty](https://github.com/lazyprgmr)"
      ]
    },
    {
      "cell_type": "markdown",
      "metadata": {
        "id": "tvgnzT1CKxrO"
      },
      "source": [
        "## Overview\n",
        "\n",
        "This notebook demonstrates how to generate resumes using the Gemini 1.5 Flash model and LLM prompting. It employs various prompts to guide the model in extracting information from existing resumes, generating professional summaries tailored to specific job descriptions, and arranging skills and coursework in order of relevance. The prompts emphasize maintaining truthfulness, using active voice, and adhering to a valid JSON format for the output. This approach allows for the creation of customized and targeted resumes that effectively highlight relevant qualifications and experiences."
      ]
    },
    {
      "cell_type": "markdown",
      "metadata": {
        "id": "61RBz8LLbxCR"
      },
      "source": [
        "## Get started"
      ]
    },
    {
      "cell_type": "markdown",
      "metadata": {
        "id": "No17Cw5hgx12"
      },
      "source": [
        "### Install Vertex AI SDK and other required packages\n"
      ]
    },
    {
      "cell_type": "code",
      "execution_count": null,
      "metadata": {
        "id": "tFy3H3aPgx12"
      },
      "outputs": [],
      "source": [
        "%pip install --upgrade --user --quiet google-cloud-aiplatform python-docx pypdf docx2txt"
      ]
    },
    {
      "cell_type": "markdown",
      "metadata": {
        "id": "R5Xep4W9lq-Z"
      },
      "source": [
        "### Restart runtime\n",
        "\n",
        "To use the newly installed packages in this Jupyter runtime, you must restart the runtime. You can do this by running the cell below, which restarts the current kernel.\n",
        "\n",
        "The restart might take a minute or longer. After it's restarted, continue to the next step."
      ]
    },
    {
      "cell_type": "code",
      "execution_count": null,
      "metadata": {
        "id": "XRvKdaPDTznN"
      },
      "outputs": [],
      "source": [
        "import IPython\n",
        "\n",
        "app = IPython.Application.instance()\n",
        "app.kernel.do_shutdown(True)"
      ]
    },
    {
      "cell_type": "markdown",
      "metadata": {
        "id": "SbmM4z7FOBpM"
      },
      "source": [
        "<div class=\"alert alert-block alert-warning\">\n",
        "<b>⚠️ The kernel is going to restart. Wait until it's finished before continuing to the next step. ⚠️</b>\n",
        "</div>\n"
      ]
    },
    {
      "cell_type": "markdown",
      "metadata": {
        "id": "dmWOrTJ3gx13"
      },
      "source": [
        "### Authenticate your notebook environment (Colab only)\n",
        "\n",
        "If you're running this notebook on Google Colab, run the cell below to authenticate your environment."
      ]
    },
    {
      "cell_type": "code",
      "execution_count": null,
      "metadata": {
        "id": "NyKGtVQjgx13"
      },
      "outputs": [],
      "source": [
        "import sys\n",
        "\n",
        "if \"google.colab\" in sys.modules:\n",
        "    from google.colab import auth\n",
        "\n",
        "    auth.authenticate_user()"
      ]
    },
    {
      "cell_type": "markdown",
      "metadata": {
        "id": "DF4l8DTdWgPY"
      },
      "source": [
        "### Set Google Cloud project information and initialize Vertex AI SDK\n",
        "\n",
        "To get started using Vertex AI, you must have an existing Google Cloud project and [enable the Vertex AI API](https://console.cloud.google.com/flows/enableapi?apiid=aiplatform.googleapis.com).\n",
        "\n",
        "Learn more about [setting up a project and a development environment](https://cloud.google.com/vertex-ai/docs/start/cloud-environment)."
      ]
    },
    {
      "cell_type": "code",
      "execution_count": null,
      "metadata": {
        "id": "Nqwi-5ufWp_B"
      },
      "outputs": [],
      "source": [
        "# Use the environment variable if the user doesn't provide Project ID.\n",
        "import os\n",
        "\n",
        "import vertexai\n",
        "\n",
        "PROJECT_ID = (\n",
        "    \"\"  # @param {type: \"string\", placeholder: \"[your-project-id]\", isTemplate: true}\n",
        ")\n",
        "if not PROJECT_ID or PROJECT_ID == \"\":\n",
        "    PROJECT_ID = str(os.environ.get(\"GOOGLE_CLOUD_PROJECT\"))\n",
        "\n",
        "LOCATION = os.environ.get(\"GOOGLE_CLOUD_REGION\", \"us-central1\")\n",
        "\n",
        "vertexai.init(project=PROJECT_ID, location=LOCATION)"
      ]
    },
    {
      "cell_type": "markdown",
      "metadata": {
        "id": "5303c05f7aa6"
      },
      "source": [
        "### Import libraries"
      ]
    },
    {
      "cell_type": "code",
      "execution_count": null,
      "metadata": {
        "id": "6fc324893334"
      },
      "outputs": [],
      "source": [
        "from ast import literal_eval\n",
        "\n",
        "# Native Imports\n",
        "import os\n",
        "\n",
        "# Third-party Imports\n",
        "import docx\n",
        "import docx2txt\n",
        "from docx.document import Document\n",
        "from docx.oxml.table import CT_Tbl\n",
        "from docx.oxml.text.paragraph import CT_P\n",
        "from docx.table import Table, _Cell\n",
        "from docx.text.paragraph import Paragraph\n",
        "import pypdf\n",
        "from vertexai.generative_models import GenerativeModel"
      ]
    },
    {
      "cell_type": "markdown",
      "metadata": {
        "id": "5303c05f7aa6"
      },
      "source": [
        "### Import a sample resume file"
      ]
    },
    {
      "cell_type": "code",
      "execution_count": null,
      "metadata": {
        "id": "5c4978c07d9a"
      },
      "outputs": [],
      "source": [
        "! gsutil cp gs://github-repo/generative-ai/gemini/use-cases/education/resume-generation/Sample_1.docx ."
      ]
    },
    {
      "cell_type": "markdown",
      "metadata": {
        "id": "e43229f3ad4f"
      },
      "source": [
        "### Load model"
      ]
    },
    {
      "cell_type": "code",
      "execution_count": null,
      "metadata": {
        "id": "cf93d5f0ce00"
      },
      "outputs": [],
      "source": [
        "MODEL_NAME = \"gemini-1.5-flash\"  # Choice of model\n",
        "generation_config = {\"temperature\": 0}\n",
        "\n",
        "model = GenerativeModel(\n",
        "    model_name=MODEL_NAME,\n",
        "    generation_config=generation_config,\n",
        ")"
      ]
    },
    {
      "cell_type": "markdown",
      "metadata": {
        "id": "VPylX87eREVh"
      },
      "source": [
        "## Notebook Tutorial"
      ]
    },
    {
      "cell_type": "markdown",
      "metadata": {
        "id": "oP_UflnpUVRL"
      },
      "source": [
        "### Resume Structure and Prompt Initialization\n",
        "\n",
        "After installing necessary packages and loading the language model, we initialize predefined prompts designed for resume generation and the related structure. These prompts guide the model to extract relevant information from an existing resume and create a tailored output that aligns with the provided job description."
      ]
    },
    {
      "cell_type": "code",
      "execution_count": null,
      "metadata": {
        "id": "1d17bfb0-f4ee-46b9-87b5-7b04ca6a1129"
      },
      "outputs": [],
      "source": [
        "\"\"\"\n",
        "------------------------\n",
        "EXTRACTION\n",
        "------------------------\n",
        "Personal Information\n",
        "Education\n",
        "Languages\n",
        "Extracurricular_Activities\n",
        "References\n",
        "Experience\n",
        "\n",
        "------------------------\n",
        "GENERATION\n",
        "------------------------\n",
        "Professional_Summary\n",
        "\n",
        "--------------------------------------------------\n",
        "ARRANGEMENT, TRUNCATION, GENERATION\n",
        "--------------------------------------------------\n",
        "Coursework\n",
        "Skills\n",
        "Certifications\n",
        "\n",
        "\"\"\"\n",
        "\n",
        "PROMPT_EXTR = \"\"\"\n",
        "You are a seasoned career advising professional expert in crafting resumes and cover letters.\n",
        "\n",
        "Consider the below details that have been extracted from a resume\n",
        "%s\n",
        "\n",
        "INSTRUCTIONS:\n",
        "- Maintain truthfulness and objectivity.\n",
        "- Prefer active voice over passive voice.\n",
        "- The output should have the following valid JSON format\n",
        "{\n",
        "\"Personal_Information\": {\"Name\": \"\", \"Address\": \"\", \"Mobile_No\": \"\", \"Email\": \"\"},\n",
        "\"Education\": \"\",\n",
        "\"Experience\": \"\",\n",
        "\"Languages\": \"\",\n",
        "\"Extracurricular_Activities\": \"\",\n",
        "\"References\": \"\",\n",
        "}\n",
        "- Output the Education, Experience, Languages, Extracurricular_Activities and References\n",
        "sections as a simple numbered list.\n",
        "\"\"\"\n",
        "\n",
        "PROMPT_GEN = \"\"\"\n",
        "You are a seasoned career advising professional expert in crafting resumes and cover letters.\n",
        "\n",
        "Consider the below details that have been extracted from a resume\n",
        "%s\n",
        "\n",
        "Use the above details and craft a resume to satisfy the job description provided below\n",
        "%s\n",
        "\n",
        "INSTRUCTIONS:\n",
        "- Maintain truthfulness and objectivity.\n",
        "- Prefer active voice over passive voice.\n",
        "- Generate a concise professional summary in 200 words based on the job description and the\n",
        "extracted resume.\n",
        "- Return the professional summary as a paragraph without any headers.\n",
        "\"\"\"\n",
        "\n",
        "PROMPT_ARR = \"\"\"\n",
        "You are a seasoned career advising professional expert in crafting resumes and cover letters.\n",
        "\n",
        "Consider the below details that have been extracted from a resume\n",
        "%s\n",
        "\n",
        "Use the above details and craft a resume to satisfy the job description provided below\n",
        "%s\n",
        "\n",
        "INSTRUCTIONS:\n",
        "- Maintain truthfulness and objectivity.\n",
        "- Proofread and correct spelling and grammatical errors.\n",
        "- Prefer passive voice over active voice.\n",
        "- The output should have the following valid JSON format\n",
        "{\n",
        "\"Coursework\": \"\",\n",
        "\"Skills\": \"\",\n",
        "\"Certifications\": \"\",\n",
        "}\n",
        "- Output Coursework, Skills and Certifications as numbered lists.\n",
        "- Arrange the Coursework such that the coursework that are most relevant to the job description are\n",
        "at the top.\n",
        "- Keep only the Coursework that are relevant to the job description.\n",
        "- Arrange the Skills such that the skill that are most relevant to the job description are\n",
        "at the top.\n",
        "- Keep only the Skills that are relevant to the job description.\n",
        "- Arrange the Certifications such that the certification that are most relevant to the job\n",
        "description are at the top.\n",
        "- Keep only the Certifications that are relevant to the job description.\n",
        "\"\"\"\n",
        "\n",
        "PROMPT_RESUME = \"\"\"\n",
        "You are a seasoned career advising professional expert in crafting resumes and cover letters.\n",
        "\n",
        "Consider the below details that have been extracted from a resume\n",
        "%s\n",
        "\n",
        "Use the above details and craft a resume to satisfy the job description provided below\n",
        "%s\n",
        "\n",
        "Instructions:\n",
        "- Maintain truthfulness and objectivity\n",
        "- Proofread and correct spelling and grammatical errors\n",
        "- Prefer active voice over passive voice\n",
        "- The output resume should have the following valid JSON format\n",
        "{\n",
        "\"Personal_Information\": {\"Name\": \"\", \"Address\": \"\", \"Mobile_No\": \"\", \"Email\": \"\"},\n",
        "\"Professional_Summary\": \"\",\n",
        "\"Education\": \"\",\n",
        "\"Coursework\": \"\",\n",
        "\"Skills\": \"\",\n",
        "\"Experience\": \"\",\n",
        "\"Certifications\": \"\",\n",
        "\"Languages\": \"\",\n",
        "\"Extracurricular_Activities\": \"\",\n",
        "\"References\": \"\",\n",
        "}\n",
        "- Generate a concise Professional_Summary based on the job description\n",
        "- Output Education, Coursework, Skills, Experience, Certifications, Languages,\n",
        "Extracurricular_Activities and References as numbered lists.\n",
        "- Arrange the Coursework such that the coursework that are most relevant to the job description are\n",
        "at the top.\n",
        "- Arrange the Skills such that the skill that are most relevant to the job description are\n",
        "at the top\n",
        "- Arrange the Certifications such that the certification that are most relevant to the job\n",
        "description are at the top\n",
        "\"\"\""
      ]
    },
    {
      "cell_type": "code",
      "execution_count": null,
      "metadata": {
        "id": "a176f957-bbf2-4d4c-9ab6-82d6f691adfa"
      },
      "outputs": [],
      "source": [
        "# Resume structure\n",
        "resume_structure = [\n",
        "    \"Personal_Information\",\n",
        "    \"Professional_Summary\",\n",
        "    \"Education\",\n",
        "    \"Coursework\",\n",
        "    \"Skills\",\n",
        "    \"Experience\",\n",
        "    \"Certifications\",\n",
        "    \"Languages\",\n",
        "    \"Extracurricular_Activities\",\n",
        "    \"References\",\n",
        "]"
      ]
    },
    {
      "cell_type": "markdown",
      "metadata": {
        "id": "qV1pqxYgSFr0"
      },
      "source": [
        "### Defining the core functionalities\n",
        "\n",
        "This code defines a series of functions for processing resumes. It uses Gemini to extract key information like contact details and to generate tailored professional summaries. The code also includes functions for parsing resumes from different file formats (docx, pdf, txt), handling potential missing information, and structuring the final output for readability.\n",
        "\n",
        "*   def check_info(resume: str) -> Dict[str, str]: Uses Gemini to extract name, address, mobile number, and email from a resume, returning 'Not Found' if information is missing.\n",
        "    \n",
        "*   def get_info(resume: str) -> str: Similar to check_info but returns the extracted information as a formatted string.\n",
        "\n",
        "*   def iter_block_items(parent: Table) -> str:\n",
        "    Iterates through a docx file object, yielding paragraphs and tables.\n",
        "\n",
        "*   def convert_docx_to_text(file_path: str) -> str:\n",
        "    Parses a docx file and converts it to text, handling tables and paragraphs.\n",
        "\n",
        "*   def parse_resume(res_path: str) -> str:\n",
        "    Parses a resume from various file types (docx, pdf, txt) with fallbacks to handle missing personal information.\n",
        "\n",
        "*   def get_response(parsed_res: str, parsed_jd: str) -> str:\n",
        "    Generates a resume using Gemini, incorporating extracted information, a professional summary, and arranged skills/coursework.\n",
        "\n",
        "*   def structure_response(resume_generated: str) -> str:\n",
        "    Structures the generated resume into a specific format for readability."
      ]
    },
    {
      "cell_type": "code",
      "execution_count": null,
      "metadata": {
        "id": "c8dc8fe8-890c-4471-915a-396787e84a1d"
      },
      "outputs": [],
      "source": [
        "def check_info(resume: str) -> dict[str, str]:\n",
        "\n",
        "    vertexai.init(\n",
        "        project=\"aniket-tdcx\", location=\"us-central1\"\n",
        "    )  # Initialize the AI Platform client with project ID\n",
        "\n",
        "    \"\"\"\n",
        "    Check if the name, address, mobile number and email address is present in the resume\n",
        "\n",
        "    Args:\n",
        "        resume: The parsed resume as str\n",
        "\n",
        "    Returns:\n",
        "        Details requested in the prompt as dict\n",
        "    \"\"\"\n",
        "    prompt = f\"\"\"\n",
        "    Extract the following candidate information from the given resume\n",
        "    1. Name\n",
        "    2. Address\n",
        "    3. Mobile Number\n",
        "    4. Email address\n",
        "    Text : {resume}\n",
        "\n",
        "    INSTRUCTIONS:\n",
        "    - In case the information is not present, return 'Not Found'\n",
        "    - The final output should be in valid JSON format\n",
        "    \"\"\"\n",
        "    resp = model.generate_content(prompt).text\n",
        "    return literal_eval(resp.split(\"```json\")[-1].split(\"```\")[0].replace(\"\\n\", \"\"))"
      ]
    },
    {
      "cell_type": "code",
      "execution_count": null,
      "metadata": {
        "id": "e87930b0-a15b-4ad7-86fd-a941cebc1637"
      },
      "outputs": [],
      "source": [
        "def read_pdf(file_path: str) -> str:\n",
        "    \"\"\"Extracts text from a PDF.\n",
        "\n",
        "    Args:\n",
        "        file_path: path to the pdf file\n",
        "\n",
        "    Returns:\n",
        "        resume content as plain text\n",
        "    \"\"\"\n",
        "    with open(file_path, \"rb\") as file:\n",
        "        reader = pypdf.PdfReader(file)\n",
        "        text = \"\"\n",
        "        for page in reader.pages:\n",
        "            text += page.extract_text()\n",
        "    return text"
      ]
    },
    {
      "cell_type": "code",
      "execution_count": null,
      "metadata": {
        "id": "d2b768d1-afe2-4bf3-88c5-9d27911c0729"
      },
      "outputs": [],
      "source": [
        "def get_info(resume: str) -> str:\n",
        "    \"\"\"\n",
        "    Get the name, address, mobile number and email address from the resume\n",
        "\n",
        "    Args:\n",
        "        resume: The parsed resume as str\n",
        "\n",
        "    Returns:\n",
        "        Details requested in the prompt as string\n",
        "    \"\"\"\n",
        "    prompt = f\"\"\"\n",
        "    Extract the following candidate information from the given resume\n",
        "    1. Name\n",
        "    2. Address\n",
        "    3. Mobile Number\n",
        "    4. Email address\n",
        "    Text : {resume}\n",
        "\n",
        "    INSTRUCTIONS:\n",
        "    - In case the information is not present, return 'Not Found'\n",
        "    - The final output should be in valid JSON format\n",
        "    \"\"\"\n",
        "    resp = model.generate_content(prompt).text\n",
        "    personal_details = literal_eval(\n",
        "        resp.split(\"```json\")[-1].split(\"```\")[0].replace(\"\\n\", \"\")\n",
        "    )\n",
        "    per_details = \"\"\n",
        "    for k_detail, v_desc in personal_details.items():\n",
        "        per_details += k_detail + \": \" + v_desc + \"\\n\"\n",
        "    return per_details"
      ]
    },
    {
      "cell_type": "code",
      "execution_count": null,
      "metadata": {
        "id": "9a022cbe-ef5b-4131-8762-0358f578e500"
      },
      "outputs": [],
      "source": [
        "def iter_block_items(parent: Table) -> str:\n",
        "    \"\"\"\n",
        "    Iterator over a docx file object.\n",
        "\n",
        "    Args:\n",
        "        parent: an iterable of type Table\n",
        "\n",
        "    Returns:\n",
        "        body text of each block\n",
        "    \"\"\"\n",
        "    if isinstance(parent, Document):\n",
        "        parent_elm = parent.element.body\n",
        "    elif isinstance(parent, _Cell):\n",
        "        parent_elm = parent._tc\n",
        "    else:\n",
        "        raise ValueError(\"Error in reading docx file\")\n",
        "\n",
        "    for child in parent_elm.iterchildren():\n",
        "        if isinstance(child, CT_P):\n",
        "            yield Paragraph(child, parent)\n",
        "        elif isinstance(child, CT_Tbl):\n",
        "            yield Table(child, parent)"
      ]
    },
    {
      "cell_type": "code",
      "execution_count": null,
      "metadata": {
        "id": "18adc15a-bae8-401c-b277-1df4dfa906e9"
      },
      "outputs": [],
      "source": [
        "def convert_docx_to_text(file_path: str) -> str:\n",
        "    \"\"\"\n",
        "    Parse the docx file and convert it to text.\n",
        "\n",
        "    Args:\n",
        "        file_path: the path of the docx file to be parsed\n",
        "\n",
        "    Returns:\n",
        "        Parsed resume as string\n",
        "    \"\"\"\n",
        "    parsed_doc = \"\"\n",
        "    doc = docx.Document(file_path)\n",
        "    for block in iter_block_items(doc):\n",
        "        if isinstance(block, Table):  # check block is table\n",
        "            for row in block.rows:  # each table row\n",
        "                tab_row = [cell.text for cell in row.cells]\n",
        "                tab_row = list(\n",
        "                    filter(lambda x: x != \"\", tab_row)\n",
        "                )  # remove empty strings\n",
        "                if len(tab_row) > 1 and len(set(tab_row)) == 1:\n",
        "                    tab_row = tab_row[0]\n",
        "                    parsed_doc += \"\".join(tab_row) + \"\\n\"\n",
        "                else:\n",
        "                    parsed_doc += \", \".join(tab_row) + \"\\n\"\n",
        "        else:\n",
        "            parsed_doc += block.text + \"\\n\"  # paragraph text\n",
        "    return parsed_doc"
      ]
    },
    {
      "cell_type": "code",
      "execution_count": null,
      "metadata": {
        "id": "f2541c9f-8d4a-4de5-80af-1d2561ceb3c7"
      },
      "outputs": [],
      "source": [
        "def parse_resume(res_path: str) -> str:\n",
        "    \"\"\"\n",
        "    Driver method to parse resume with fallbacks.\n",
        "\n",
        "    Args:\n",
        "        res_path: Path to the resume file\n",
        "\n",
        "    Returns:\n",
        "        The parsed resume as string\n",
        "\n",
        "    Raises:\n",
        "\n",
        "    \"\"\"\n",
        "    file_type = res_path.rsplit(\".\", 1)[-1]\n",
        "    if file_type == \"docx\":\n",
        "        parsed_resume = convert_docx_to_text(file_path=res_path).strip()\n",
        "    elif file_type == \"pdf\":\n",
        "        parsed_resume = read_pdf(res_path).strip()\n",
        "    elif file_type == \"txt\":\n",
        "        with open(res_path) as resume_text:\n",
        "            parsed_resume = resume_text.read().strip()\n",
        "    else:\n",
        "        raise Exception(\"File is not of valid type\")\n",
        "\n",
        "    personal_details = check_info(parsed_resume)\n",
        "    if \"Not Found\" in personal_details.values():\n",
        "        parsed_resume_2 = docx2txt.process(res_path)\n",
        "        personal_details_2 = get_info(parsed_resume_2)\n",
        "        parsed_resume = personal_details_2 + \"\\n\" + parsed_resume\n",
        "\n",
        "    return parsed_resume"
      ]
    },
    {
      "cell_type": "code",
      "execution_count": null,
      "metadata": {
        "id": "f8963854-36a3-4763-aa11-51fa7ac3733f"
      },
      "outputs": [],
      "source": [
        "def get_response(\n",
        "    parsed_res: str,\n",
        "    parsed_jd: str,\n",
        ") -> str:\n",
        "    \"\"\"\n",
        "    Generate the resume using the chosen model.\n",
        "\n",
        "    Args:\n",
        "        parsed_res: parsed resume as string\n",
        "        parsed_jd: parsed job description as string\n",
        "\n",
        "    Returns:\n",
        "        Collated resume information as string\n",
        "    \"\"\"\n",
        "    model_response_extraction = model.generate_content(\n",
        "        PROMPT_EXTR % (parsed_res),\n",
        "    ).text\n",
        "    model_response_gen = model.generate_content(\n",
        "        PROMPT_GEN % (parsed_res, parsed_jd),\n",
        "    ).text\n",
        "    model_response_arr = model.generate_content(\n",
        "        PROMPT_ARR % (parsed_res, parsed_jd),\n",
        "    ).text\n",
        "\n",
        "    resume_generated = literal_eval(\n",
        "        model_response_extraction.split(\"```json\")[-1].split(\"```\")[0].replace(\"\\n\", \"\")\n",
        "    )\n",
        "    resume_generated.update({\"Professional_Summary\": model_response_gen})\n",
        "    resume_generated_3 = literal_eval(\n",
        "        model_response_arr.split(\"```json\")[-1].split(\"```\")[0].replace(\"\\n\", \"\")\n",
        "    )\n",
        "    resume_generated.update(resume_generated_3)\n",
        "\n",
        "    return resume_generated"
      ]
    },
    {
      "cell_type": "code",
      "execution_count": null,
      "metadata": {
        "id": "7924162c-7318-4c56-a673-a7411e6fdfd8"
      },
      "outputs": [],
      "source": [
        "def structure_response(resume_generated: str) -> str:\n",
        "    \"\"\"\n",
        "    Structure the resume to align with a given structure.\n",
        "\n",
        "    Args:\n",
        "        resume_generated: The resume generated using LLM\n",
        "\n",
        "    Returns:\n",
        "        The structured resume as string\n",
        "    \"\"\"\n",
        "    resume_structured = {}\n",
        "    for k in resume_structure:\n",
        "        resume_structured[k] = resume_generated[k]\n",
        "    response_str = \"\"\n",
        "    for block, block_info in resume_structured.items():\n",
        "        response_str = f\"{response_str}\\n{block}\\n\"\n",
        "        if block == \"Personal_Information\":\n",
        "            tmp = \"\"\n",
        "            for block_title, block_desc in block_info.items():\n",
        "                tmp = f\"{tmp}\\n{block_title}: {block_desc}\\n\"\n",
        "            response_str = f\"{response_str}\\n{tmp}\\n\"\n",
        "        elif isinstance(block_info, list):\n",
        "            # pylint: disable=broad-exception-caught\n",
        "            try:\n",
        "                response_str += \"\\n\".join(block_info) + \"\\n\"\n",
        "            except:\n",
        "                response_str += (\n",
        "                    \"\\n\".join([f\"{k}:{v}\" for k, v in block_info[0].items()]) + \"\\n\"\n",
        "                )\n",
        "            # pylint: enable=broad-exception-caught\n",
        "        else:\n",
        "            response_str = f\"{response_str}\\n{block_info}\\n\"\n",
        "    return response_str"
      ]
    },
    {
      "cell_type": "markdown",
      "metadata": {
        "id": "afuU6971UlYO"
      },
      "source": [
        "### Testing the overall functionality\n",
        "\n",
        "This code tests a resume generator. It parses a sample resume and job description, feeds them to an LLM, and structures the generated output."
      ]
    },
    {
      "cell_type": "code",
      "execution_count": null,
      "metadata": {
        "id": "c469abaf-cbaa-47ef-aec2-c097bf464335"
      },
      "outputs": [],
      "source": [
        "# Test resume generation\n",
        "\n",
        "\n",
        "res_path = \"Sample_1.docx\"\n",
        "\n",
        "parsed_resume = parse_resume(res_path=res_path)\n",
        "\n",
        "jd = \"\"\"\n",
        "PHP Developer\n",
        "Job Description\n",
        "    •Development of robust and user-friendly PHP-based web applications\n",
        "    •Creation of site layout/user interface from provided design concepts\n",
        "    •Ability to work independently on projects without detailed\n",
        "    instructions; taking the initiative with this job is important.\n",
        "    •Routine daily maintenance of existing sites and web applications.\n",
        "Requirements\n",
        "    •Knowledge of PHP/MySQL.\n",
        "    •Experience developing in PHP, which requires integration with\n",
        "    databases such as MySQL.\n",
        "    •Experience programming in HTML, CSS, XML, JavaScript, jQuery, etc.\n",
        "    •Experience in WordPress development is a plus.\n",
        "    •Business requirements analysis ability is a plus.\n",
        "    •Good oral and written communication skills.\n",
        "    •Strong desire to develop new technical knowledge and professional\n",
        "    skills on a continual basis.\n",
        "    •Ability to work with only general supervision.\n",
        "    •Ability to supporting sales on technical demonstration of system\n",
        "    (if needed).\n",
        "    •Ability to give system training to customer (if needed).\n",
        "    •Ability to work well independently and with others.\n",
        "\"\"\"\n",
        "\n",
        "generated_resume = get_response(parsed_resume, jd)\n",
        "structured_resume = structure_response(generated_resume)\n",
        "\n",
        "print(\"Generated Resume\")\n",
        "print(structured_resume)"
      ]
    }
  ],
  "metadata": {
    "colab": {
      "name": "resume_generator.ipynb",
      "toc_visible": true
    },
    "kernelspec": {
      "display_name": "Python 3",
      "name": "python3"
    }
  },
  "nbformat": 4,
  "nbformat_minor": 0
}
