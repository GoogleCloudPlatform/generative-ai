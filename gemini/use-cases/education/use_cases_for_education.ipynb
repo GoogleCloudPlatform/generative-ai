{
  "cells": [
    {
      "cell_type": "code",
      "execution_count": null,
      "metadata": {
        "id": "ijGzTHJJUCPY"
      },
      "outputs": [],
      "source": [
        "# Copyright 2023-2024 Google LLC\n",
        "#\n",
        "# Licensed under the Apache License, Version 2.0 (the \"License\");\n",
        "# you may not use this file except in compliance with the License.\n",
        "# You may obtain a copy of the License at\n",
        "#\n",
        "#     https://www.apache.org/licenses/LICENSE-2.0\n",
        "#\n",
        "# Unless required by applicable law or agreed to in writing, software\n",
        "# distributed under the License is distributed on an \"AS IS\" BASIS,\n",
        "# WITHOUT WARRANTIES OR CONDITIONS OF ANY KIND, either express or implied.\n",
        "# See the License for the specific language governing permissions and\n",
        "# limitations under the License."
      ]
    },
    {
      "attachments": {},
      "cell_type": "markdown",
      "metadata": {
        "id": "VEqbX8OhE8y9"
      },
      "source": [
        "# Using Gemini in Education\n",
        "\n",
        "<table align=\"left\">\n",
        "  <td style=\"text-align: center\">\n",
        "    <a href=\"https://colab.research.google.com/github/GoogleCloudPlatform/generative-ai/blob/main/gemini/use-cases/education/use_cases_for_education.ipynb\">\n",
        "      <img src=\"https://cloud.google.com/ml-engine/images/colab-logo-32px.png\" alt=\"Google Colaboratory logo\"><br> Run in Colab\n",
        "    </a>\n",
        "  </td>\n",
        "  <td style=\"text-align: center\">\n",
        "    <a href=\"https://console.cloud.google.com/vertex-ai/colab/import/https:%2F%2Fraw.githubusercontent.com%2FGoogleCloudPlatform%2Fgenerative-ai%2Fmain%2Fgemini%2Fuse-cases%2Feducation%2Fuse_cases_for_education.ipynb\">\n",
        "      <img width=\"32px\" src=\"https://lh3.googleusercontent.com/JmcxdQi-qOpctIvWKgPtrzZdJJK-J3sWE1RsfjZNwshCFgE_9fULcNpuXYTilIR2hjwN\" alt=\"Google Cloud Colab Enterprise logo\"><br> Run in Colab Enterprise\n",
        "    </a>\n",
        "  </td>\n",
        "  <td style=\"text-align: center\">\n",
        "    <a href=\"https://console.cloud.google.com/vertex-ai/workbench/deploy-notebook?download_url=https://raw.githubusercontent.com/GoogleCloudPlatform/generative-ai/main/gemini/use-cases/education/use_cases_for_education.ipynb\">\n",
        "      <img src=\"https://lh3.googleusercontent.com/UiNooY4LUgW_oTvpsNhPpQzsstV5W8F7rYgxgGBD85cWJoLmrOzhVs_ksK_vgx40SHs7jCqkTkCk=e14-rj-sc0xffffff-h130-w32\" alt=\"Vertex AI logo\"><br> Open in Vertex AI Workbench\n",
        "    </a>\n",
        "  </td>\n",
        "  <td style=\"text-align: center\">\n",
        "    <a href=\"https://github.com/GoogleCloudPlatform/generative-ai/blob/main/gemini/use-cases/education/use_cases_for_education.ipynb\">\n",
        "      <img src=\"https://cloud.google.com/ml-engine/images/github-logo-32px.png\" alt=\"GitHub logo\"><br> View on GitHub\n",
        "    </a>\n",
        "  </td>\n",
        "</table>\n",
        "\n",
        "<div style=\"clear: both;\"></div>\n",
        "\n",
        "<b>Share to:</b>\n",
        "\n",
        "<a href=\"https://www.linkedin.com/sharing/share-offsite/?url=https%3A//github.com/GoogleCloudPlatform/generative-ai/blob/main/gemini/use-cases/education/use_cases_for_education.ipynb\" target=\"_blank\">\n",
        "  <img width=\"20px\" src=\"https://upload.wikimedia.org/wikipedia/commons/8/81/LinkedIn_icon.svg\" alt=\"LinkedIn logo\">\n",
        "</a>\n",
        "\n",
        "<a href=\"https://bsky.app/intent/compose?text=https%3A//github.com/GoogleCloudPlatform/generative-ai/blob/main/gemini/use-cases/education/use_cases_for_education.ipynb\" target=\"_blank\">\n",
        "  <img width=\"20px\" src=\"https://upload.wikimedia.org/wikipedia/commons/7/7a/Bluesky_Logo.svg\" alt=\"Bluesky logo\">\n",
        "</a>\n",
        "\n",
        "<a href=\"https://twitter.com/intent/tweet?url=https%3A//github.com/GoogleCloudPlatform/generative-ai/blob/main/gemini/use-cases/education/use_cases_for_education.ipynb\" target=\"_blank\">\n",
        "  <img width=\"20px\" src=\"https://upload.wikimedia.org/wikipedia/commons/5/53/X_logo_2023_original.svg\" alt=\"X logo\">\n",
        "</a>\n",
        "\n",
        "<a href=\"https://reddit.com/submit?url=https%3A//github.com/GoogleCloudPlatform/generative-ai/blob/main/gemini/use-cases/education/use_cases_for_education.ipynb\" target=\"_blank\">\n",
        "  <img width=\"20px\" src=\"https://redditinc.com/hubfs/Reddit%20Inc/Brand/Reddit_Logo.png\" alt=\"Reddit logo\">\n",
        "</a>\n",
        "\n",
        "<a href=\"https://www.facebook.com/sharer/sharer.php?u=https%3A//github.com/GoogleCloudPlatform/generative-ai/blob/main/gemini/use-cases/education/use_cases_for_education.ipynb\" target=\"_blank\">\n",
        "  <img width=\"20px\" src=\"https://upload.wikimedia.org/wikipedia/commons/5/51/Facebook_f_logo_%282019%29.svg\" alt=\"Facebook logo\">\n",
        "</a>            \n"
      ]
    },
    {
      "cell_type": "markdown",
      "metadata": {
        "id": "3cf4e0393128"
      },
      "source": [
        "|           |                                                  |\n",
        "| --------- | ------------------------------------------------ |\n",
        "| Author(s) | [Laurent Picard](https://github.com/PicardParis) |\n"
      ]
    },
    {
      "cell_type": "markdown",
      "metadata": {
        "id": "VK1Q5ZYdVL4Y"
      },
      "source": [
        "## Overview\n",
        "\n",
        "In this notebook, you will explore a variety of use cases enabled by Gemini 1.5 in the context of education.\n",
        "\n",
        "### Gemini\n",
        "\n",
        "Gemini is a family of generative AI models developed by Google DeepMind.\n",
        "\n",
        "### Gemini 1.5\n",
        "\n",
        "The Gemini 1.5 models are built for multimodality from the ground up:\n",
        "\n",
        "- Supported inputs: Text, code, images, audio, video, video with audio, and PDF\n",
        "- Generated output: Text\n",
        "\n",
        "### Gemini API in Vertex AI\n",
        "\n",
        "The Gemini API in Vertex AI provides a unified interface for interacting with the Gemini models. There are currently two Gemini 1.5 models available using the Gemini API:\n",
        "\n",
        "- **Gemini 1.5 Flash** (`gemini-1.5-flash`) for fast and versatile performance across a diverse variety of tasks\n",
        "- **Gemini 1.5 Pro** (`gemini-1.5-pro`) for complex reasoning tasks such as code and text generation, text editing, problem solving, data extraction and generation\n",
        "\n",
        "For more information, see [Gemini models](https://cloud.google.com/vertex-ai/generative-ai/docs/learn/models#gemini-models).\n"
      ]
    },
    {
      "cell_type": "markdown",
      "metadata": {
        "id": "uVL_vGs4q3pg"
      },
      "source": [
        "### Objectives\n",
        "\n",
        "The main objective of this notebook is to demonstrate a variety of educational use cases that can benefit from Gemini 1.5.\n",
        "\n",
        "The steps performed include:\n",
        "\n",
        "- Installing the Python SDK\n",
        "- Loading Gemini\n",
        "- Reasoning at different levels\n",
        "- Reasoning on text\n",
        "- Reasoning on numbers\n",
        "- Reasoning on a single image\n",
        "- Reasoning on multiple images\n",
        "- Reasoning on a video\n"
      ]
    },
    {
      "cell_type": "markdown",
      "metadata": {
        "id": "bRdtKLfTsQ27"
      },
      "source": [
        "### Costs\n",
        "\n",
        "This tutorial uses billable components of Google Cloud:\n",
        "\n",
        "- Vertex AI\n",
        "\n",
        "Learn about [Vertex AI pricing](https://cloud.google.com/vertex-ai/pricing) and use the [Pricing Calculator](https://cloud.google.com/products/calculator/) to generate a cost estimate based on your projected usage.\n"
      ]
    },
    {
      "cell_type": "markdown",
      "metadata": {
        "id": "QDU0XJ1xRDlL"
      },
      "source": [
        "## Getting Started\n"
      ]
    },
    {
      "cell_type": "markdown",
      "metadata": {
        "id": "SBGrQE22sVrt"
      },
      "source": [
        "### Install Vertex AI SDK\n"
      ]
    },
    {
      "cell_type": "code",
      "execution_count": null,
      "metadata": {
        "id": "-hqq5vomsW_P"
      },
      "outputs": [],
      "source": [
        "%pip install --upgrade --user google-cloud-aiplatform"
      ]
    },
    {
      "cell_type": "markdown",
      "metadata": {
        "id": "R5Xep4W9lq-Z"
      },
      "source": [
        "### Restart current runtime\n",
        "\n",
        "To use the newly installed packages in this Jupyter runtime, you must restart the runtime. You can do this by running the cell below, which will restart the current kernel.\n"
      ]
    },
    {
      "cell_type": "code",
      "execution_count": null,
      "metadata": {
        "id": "XRvKdaPDTznN"
      },
      "outputs": [],
      "source": [
        "# Restart kernel after installs so that your environment can access the new packages\n",
        "import IPython\n",
        "\n",
        "app = IPython.Application.instance()\n",
        "app.kernel.do_shutdown(True)"
      ]
    },
    {
      "cell_type": "markdown",
      "metadata": {
        "id": "SbmM4z7FOBpM"
      },
      "source": [
        "<div class=\"alert alert-block alert-warning\">\n",
        "<b>⚠️ The kernel is going to restart. Please wait until it is finished before continuing to the next step. ⚠️</b>\n",
        "</div>\n"
      ]
    },
    {
      "cell_type": "markdown",
      "metadata": {
        "id": "N5afkyDMSBW5"
      },
      "source": [
        "### Authenticate your notebook environment (Colab only)\n",
        "\n",
        "If you are running this notebook on Google Colab, run the following cell to authenticate your environment. This step is not required if you are using [Vertex AI Workbench](https://cloud.google.com/vertex-ai-workbench).\n"
      ]
    },
    {
      "cell_type": "code",
      "execution_count": null,
      "metadata": {
        "id": "Ab4Y6eSIUknb"
      },
      "outputs": [],
      "source": [
        "import sys\n",
        "\n",
        "# Additional authentication is required for Google Colab\n",
        "if \"google.colab\" in sys.modules:\n",
        "    # Authenticate user to Google Cloud\n",
        "    from google.colab import auth\n",
        "\n",
        "    auth.authenticate_user()"
      ]
    },
    {
      "cell_type": "markdown",
      "metadata": {
        "id": "kc4WxYmLSBW5"
      },
      "source": [
        "### Define Google Cloud project information and initialize Vertex AI\n",
        "\n",
        "Initialize the Vertex AI SDK for Python for your project:\n"
      ]
    },
    {
      "cell_type": "code",
      "execution_count": 1,
      "metadata": {
        "id": "YmY9HVVGSBW5"
      },
      "outputs": [],
      "source": [
        "# Define project information\n",
        "PROJECT_ID = \"[your-project-id]\"  # @param {type:\"string\"}\n",
        "LOCATION = \"us-central1\"  # @param {type:\"string\"}\n",
        "\n",
        "# Initialize Vertex AI\n",
        "import vertexai\n",
        "\n",
        "vertexai.init(project=PROJECT_ID, location=LOCATION)"
      ]
    },
    {
      "cell_type": "markdown",
      "metadata": {
        "id": "kdINrwJZsj1d"
      },
      "source": [
        "### Import Vertex AI classes\n"
      ]
    },
    {
      "cell_type": "code",
      "execution_count": 2,
      "metadata": {
        "id": "stNmWCsRsotM"
      },
      "outputs": [],
      "source": [
        "from vertexai.generative_models import (\n",
        "    GenerationConfig,\n",
        "    GenerationResponse,\n",
        "    GenerativeModel,\n",
        "    HarmBlockThreshold,\n",
        "    HarmCategory,\n",
        "    Image,\n",
        "    Part,\n",
        ")"
      ]
    },
    {
      "cell_type": "markdown",
      "metadata": {
        "id": "0v63w6fWs9Dx"
      },
      "source": [
        "### Define helper functions\n",
        "\n",
        "Define some helper functions to load and display images.\n"
      ]
    },
    {
      "cell_type": "code",
      "execution_count": 3,
      "metadata": {
        "id": "OGvJLH4DmZfw"
      },
      "outputs": [],
      "source": [
        "import http.client\n",
        "import io\n",
        "import typing\n",
        "import urllib.request\n",
        "\n",
        "import IPython.display\n",
        "from PIL import Image as PIL_Image\n",
        "from PIL import ImageOps as PIL_ImageOps\n",
        "\n",
        "Contents = str | list[str | Image | Part]\n",
        "\n",
        "\n",
        "def generate_content(\n",
        "    model: GenerativeModel,\n",
        "    contents: Contents,\n",
        "    temperature: float = 0.0,\n",
        ") -> GenerationResponse:\n",
        "    \"\"\"Call the Gemini API in Vertex AI.\n",
        "\n",
        "    The default temperature (randomness/creativity) is set low for more consistent responses.\n",
        "    \"\"\"\n",
        "    generation_config = GenerationConfig(\n",
        "        temperature=temperature,\n",
        "        candidate_count=1,\n",
        "        max_output_tokens=8192,\n",
        "    )\n",
        "    safety_settings = {\n",
        "        HarmCategory.HARM_CATEGORY_HATE_SPEECH: HarmBlockThreshold.BLOCK_ONLY_HIGH,\n",
        "        HarmCategory.HARM_CATEGORY_DANGEROUS_CONTENT: HarmBlockThreshold.BLOCK_ONLY_HIGH,\n",
        "        HarmCategory.HARM_CATEGORY_HARASSMENT: HarmBlockThreshold.BLOCK_ONLY_HIGH,\n",
        "        HarmCategory.HARM_CATEGORY_SEXUALLY_EXPLICIT: HarmBlockThreshold.BLOCK_ONLY_HIGH,\n",
        "    }\n",
        "\n",
        "    response = model.generate_content(\n",
        "        contents,\n",
        "        generation_config=generation_config,\n",
        "        safety_settings=safety_settings,\n",
        "        stream=False,\n",
        "    )\n",
        "    assert isinstance(response, GenerationResponse)\n",
        "\n",
        "    return response\n",
        "\n",
        "\n",
        "def print_contents(contents: Contents):\n",
        "    \"\"\"Print the full contents for ease of readability.\"\"\"\n",
        "    if not isinstance(contents, list):\n",
        "        contents = [contents]\n",
        "\n",
        "    print(\" Contents \".center(80, \"-\"))\n",
        "    for content in contents:\n",
        "        if display_content_as_image(content):\n",
        "            continue\n",
        "        if display_content_as_video(content):\n",
        "            continue\n",
        "        print(content)\n",
        "\n",
        "\n",
        "def display_content_as_image(content: str | Image | Part) -> bool:\n",
        "    if not isinstance(content, Image):\n",
        "        return False\n",
        "    display_image(content)\n",
        "    return True\n",
        "\n",
        "\n",
        "def display_content_as_video(content: str | Image | Part) -> bool:\n",
        "    if not isinstance(content, Part):\n",
        "        return False\n",
        "    cloud_storage_path = content.file_data.file_uri.removeprefix(\"gs://\")\n",
        "    video_url = f\"https://storage.googleapis.com/{cloud_storage_path}\"\n",
        "    html = IPython.display.HTML(f'<a href=\"{video_url}\">Video:</a>')\n",
        "    video = IPython.display.Video(\n",
        "        url=video_url,\n",
        "        width=600,\n",
        "        html_attributes=\"controls muted\",\n",
        "    )\n",
        "    IPython.display.display(html)\n",
        "    IPython.display.display(video)\n",
        "\n",
        "    return True\n",
        "\n",
        "\n",
        "def print_response(response: GenerationResponse, as_markdown: bool = True):\n",
        "    # Remove potential leading/trailing spaces\n",
        "    text = response.text.strip()\n",
        "\n",
        "    print(\" Start of response \".center(80, \"-\"))\n",
        "    if as_markdown:\n",
        "        IPython.display.display(IPython.display.Markdown(text))\n",
        "    else:\n",
        "        print(text)\n",
        "    print(\" End of response \".center(80, \"-\"))\n",
        "    print(\"\")\n",
        "\n",
        "\n",
        "def display_image(image: Image, max_width: int = 600, max_height: int = 350):\n",
        "    pil_image = typing.cast(PIL_Image.Image, image._pil_image)\n",
        "    if pil_image.mode != \"RGB\":\n",
        "        # Modes such as RGBA are not yet supported by all Jupyter environments\n",
        "        pil_image = pil_image.convert(\"RGB\")\n",
        "\n",
        "    image_width, image_height = pil_image.size\n",
        "    if max_width < image_width or max_height < image_height:\n",
        "        # Resize to display a smaller notebook image\n",
        "        pil_image = PIL_ImageOps.contain(pil_image, (max_width, max_height))\n",
        "\n",
        "    display_image_compressed(pil_image)\n",
        "\n",
        "\n",
        "def display_image_compressed(pil_image: PIL_Image.Image):\n",
        "    \"\"\"Display the image in a compressed format to reduce the notebook size.\"\"\"\n",
        "    image_io = io.BytesIO()\n",
        "    pil_image.save(image_io, \"jpeg\", quality=80, optimize=True)\n",
        "    image_bytes = image_io.getvalue()\n",
        "    ipython_image = IPython.display.Image(image_bytes)\n",
        "    IPython.display.display(ipython_image)\n",
        "\n",
        "\n",
        "def load_image_from_url(image_url: str) -> Image:\n",
        "    image_bytes = get_image_bytes_from_url(image_url)\n",
        "    return Image.from_bytes(image_bytes)\n",
        "\n",
        "\n",
        "def get_image_bytes_from_url(image_url: str) -> bytes:\n",
        "    with urllib.request.urlopen(image_url) as response:\n",
        "        response = typing.cast(http.client.HTTPResponse, response)\n",
        "        image_bytes = response.read()\n",
        "    return image_bytes"
      ]
    },
    {
      "cell_type": "markdown",
      "metadata": {
        "id": "s9R3nV5bE22Z"
      },
      "source": [
        "## Loading Gemini 1.5\n",
        "\n",
        "Both Gemini 1.5 Pro and Gemini 1.5 Flash excel at education use cases. Here are the selection factors to consider:\n",
        "\n",
        "- Gemini 1.5 Pro (larger model): quality and complexity\n",
        "- Gemini 1.5 Flash (smaller model): speed and cost\n",
        "\n",
        "> Gemini 1.5 Flash is trained by Gemini 1.5 Pro through a process called \"distillation\" where the larger model transfers its most essential knowledge and skills to the smaller model.\n"
      ]
    },
    {
      "cell_type": "code",
      "execution_count": 4,
      "metadata": {
        "id": "UnUmflwsE22a"
      },
      "outputs": [],
      "source": [
        "model_name = \"gemini-1.5-pro\"\n",
        "# model_name = \"gemini-1.5-flash\"\n",
        "\n",
        "model = GenerativeModel(model_name)"
      ]
    },
    {
      "cell_type": "markdown",
      "metadata": {
        "id": "9fm71OTvpyqD"
      },
      "source": [
        "## Reasoning at different levels\n"
      ]
    },
    {
      "cell_type": "markdown",
      "metadata": {
        "id": "zgf3t9odFlIj"
      },
      "source": [
        "You can ask for direct answers:\n"
      ]
    },
    {
      "cell_type": "code",
      "execution_count": 5,
      "metadata": {
        "id": "tBpDHLmMv2un"
      },
      "outputs": [
        {
          "name": "stdout",
          "output_type": "stream",
          "text": [
            "----------------------------------- Contents -----------------------------------\n",
            "\n",
            "What happened to the dinosaurs? When?\n",
            "Explain simply in one sentence.\n",
            "\n",
            "------------------------------ Start of response -------------------------------\n"
          ]
        },
        {
          "data": {
            "text/markdown": [
              "Dinosaurs went extinct about 66 million years ago when an asteroid hit Earth, causing catastrophic environmental changes."
            ],
            "text/plain": [
              "<IPython.core.display.Markdown object>"
            ]
          },
          "metadata": {},
          "output_type": "display_data"
        },
        {
          "name": "stdout",
          "output_type": "stream",
          "text": [
            "------------------------------- End of response --------------------------------\n",
            "\n"
          ]
        }
      ],
      "source": [
        "contents = \"\"\"\n",
        "What happened to the dinosaurs? When?\n",
        "Explain simply in one sentence.\n",
        "\"\"\"\n",
        "print_contents(contents)\n",
        "\n",
        "response = generate_content(model, contents)\n",
        "print_response(response)"
      ]
    },
    {
      "cell_type": "markdown",
      "metadata": {
        "id": "Rfs1qLAoFrZu"
      },
      "source": [
        "… as well as for more nuanced answers:\n"
      ]
    },
    {
      "cell_type": "code",
      "execution_count": 6,
      "metadata": {
        "id": "AcVfT9bowUKW"
      },
      "outputs": [
        {
          "name": "stdout",
          "output_type": "stream",
          "text": [
            "----------------------------------- Contents -----------------------------------\n",
            "\n",
            "Are we 100% sure about what happened to the dinosaurs?\n",
            "If not, detail the current main hypotheses.\n",
            "\n",
            "------------------------------ Start of response -------------------------------\n"
          ]
        },
        {
          "data": {
            "text/markdown": [
              "No, we are not 100% sure about what happened to the dinosaurs. While the **impact of a large asteroid or comet** is widely accepted as the most likely primary cause of the extinction event that wiped out the dinosaurs (except for birds), there are still uncertainties and other contributing factors being researched. \n",
              "\n",
              "Here's a breakdown of the current main hypotheses:\n",
              "\n",
              "**1. The Impact Event:**\n",
              "\n",
              "* **What we know:**  A massive asteroid or comet, estimated to be about 6 miles wide, struck the Earth near the Yucatán Peninsula in Mexico around 66 million years ago. This impact created the Chicxulub crater, which is 110 miles in diameter and 12 miles deep.\n",
              "* **Evidence:** The presence of a global layer of iridium (rare on Earth but abundant in asteroids) in rock strata dating back to the extinction event, shocked quartz (formed under intense pressure), and the Chicxulub crater itself.\n",
              "* **Effects:** The impact would have triggered catastrophic events like:\n",
              "    * **Massive earthquakes and tsunamis:** Devastating coastal regions and causing widespread destruction.\n",
              "    * **Global wildfires:** Ejecting superheated rock and dust into the atmosphere, igniting wildfires across the globe.\n",
              "    * **Atmospheric dust and soot:** Blocking sunlight, leading to a prolonged period of darkness and global cooling (impact winter).\n",
              "    * **Acid rain:** Releasing sulfur dioxide into the atmosphere, leading to widespread acid rain that would have acidified oceans and soils.\n",
              "\n",
              "**2. Deccan Traps Volcanism:**\n",
              "\n",
              "* **What we know:** Around the same time as the impact, massive volcanic eruptions were occurring in what is now India, forming the Deccan Traps. These eruptions released enormous amounts of lava and gases like sulfur dioxide and carbon dioxide into the atmosphere.\n",
              "* **Evidence:**  The Deccan Traps lava flows are dated to around the same time as the extinction event.\n",
              "* **Effects:** Volcanic activity could have contributed to the extinction by:\n",
              "    * **Climate change:** Releasing greenhouse gases, leading to global warming and ocean acidification.\n",
              "    * **Acid rain:** Similar to the impact, releasing sulfur dioxide into the atmosphere.\n",
              "* **Debate:**  The exact role of the Deccan Traps in the extinction is still debated. Some scientists believe it may have weakened ecosystems before the impact, making them more vulnerable, while others argue its effects were less significant than the impact itself.\n",
              "\n",
              "**3. Gradual Environmental Change:**\n",
              "\n",
              "* **What we know:**  The Earth's climate and environment were already undergoing changes in the millions of years leading up to the extinction event, such as sea level fluctuations and volcanic activity.\n",
              "* **Evidence:** Fossil records show a decline in dinosaur diversity in some regions before the impact.\n",
              "* **Effects:** These changes may have stressed dinosaur populations, making them more susceptible to extinction from a catastrophic event.\n",
              "\n",
              "**Current Consensus:**\n",
              "\n",
              "The most widely accepted hypothesis is that the asteroid impact was the primary cause of the dinosaur extinction, with the Deccan Traps volcanism potentially playing a contributing role. The impact's immediate and catastrophic effects, combined with the long-term environmental consequences, likely led to the demise of the dinosaurs and many other species.\n",
              "\n",
              "**Ongoing Research:**\n",
              "\n",
              "Scientists continue to investigate the details of the extinction event, including:\n",
              "\n",
              "* The exact timing and duration of the impact's effects.\n",
              "* The relative contributions of the impact and volcanism.\n",
              "* The specific mechanisms by which different species went extinct.\n",
              "\n",
              "While we may never know with 100% certainty what happened to the dinosaurs, ongoing research continues to refine our understanding of this pivotal event in Earth's history."
            ],
            "text/plain": [
              "<IPython.core.display.Markdown object>"
            ]
          },
          "metadata": {},
          "output_type": "display_data"
        },
        {
          "name": "stdout",
          "output_type": "stream",
          "text": [
            "------------------------------- End of response --------------------------------\n",
            "\n"
          ]
        }
      ],
      "source": [
        "contents = \"\"\"\n",
        "Are we 100% sure about what happened to the dinosaurs?\n",
        "If not, detail the current main hypotheses.\n",
        "\"\"\"\n",
        "print_contents(contents)\n",
        "\n",
        "response = generate_content(model, contents)\n",
        "print_response(response)"
      ]
    },
    {
      "cell_type": "markdown",
      "metadata": {
        "id": "-KPNK1hNGCk4"
      },
      "source": [
        "You can ask for simple answers:\n"
      ]
    },
    {
      "cell_type": "code",
      "execution_count": 7,
      "metadata": {
        "id": "SPoEA7UUqlvy"
      },
      "outputs": [
        {
          "name": "stdout",
          "output_type": "stream",
          "text": [
            "----------------------------------- Contents -----------------------------------\n",
            "\n",
            "Explain why it's summer here in France and winter in Australia.\n",
            "I'm a kid. Answer in simple key points.\n",
            "\n",
            "------------------------------ Start of response -------------------------------\n"
          ]
        },
        {
          "data": {
            "text/markdown": [
              "Okay, imagine the Earth is like a spinning top:\n",
              "\n",
              "* **Tilted Top:** The Earth isn't straight up and down, it's a little tilted on its side.\n",
              "* **Sun's Rays:**  The sun's rays hit different parts of the tilted Earth more directly at different times of the year.\n",
              "* **Summertime Tilt:** During France's summer, the top part of the Earth (where France is) is tilted towards the sun, getting more direct sunlight and heat.\n",
              "* **Wintertime Tilt:** At the same time, the bottom part of the Earth (where Australia is) is tilted away from the sun, getting less direct sunlight and making it winter there. \n",
              "* **Switching Places:**  As the Earth travels around the sun, the tilt means different parts get more direct sunlight.  So when it's summer in France, it's winter in Australia, and then they switch!"
            ],
            "text/plain": [
              "<IPython.core.display.Markdown object>"
            ]
          },
          "metadata": {},
          "output_type": "display_data"
        },
        {
          "name": "stdout",
          "output_type": "stream",
          "text": [
            "------------------------------- End of response --------------------------------\n",
            "\n"
          ]
        }
      ],
      "source": [
        "contents = \"\"\"\n",
        "Explain why it's summer here in France and winter in Australia.\n",
        "I'm a kid. Answer in simple key points.\n",
        "\"\"\"\n",
        "print_contents(contents)\n",
        "\n",
        "response = generate_content(model, contents)\n",
        "print_response(response)"
      ]
    },
    {
      "cell_type": "markdown",
      "metadata": {
        "id": "gMlbj1-pGKkA"
      },
      "source": [
        "… or for more detailed answers:\n"
      ]
    },
    {
      "cell_type": "code",
      "execution_count": 8,
      "metadata": {
        "id": "LdiaJBtbpXjM"
      },
      "outputs": [
        {
          "name": "stdout",
          "output_type": "stream",
          "text": [
            "----------------------------------- Contents -----------------------------------\n",
            "\n",
            "Explain why we have tides.\n",
            "I'm a scientist. Provide a detailed answer using bullet points.\n",
            "\n",
            "------------------------------ Start of response -------------------------------\n"
          ]
        },
        {
          "data": {
            "text/markdown": [
              "Tides are the periodic rise and fall of ocean water levels, primarily caused by the gravitational forces exerted by the Moon and the Sun on the Earth. Here's a detailed explanation:\n",
              "\n",
              "**Gravitational Forces:**\n",
              "\n",
              "* **Moon's Gravity:** The Moon's gravitational pull is the primary cause of tides. The Moon's gravity pulls the water on the side of Earth closest to it, creating a bulge of water (high tide).\n",
              "* **Centrifugal Force:**  On the opposite side of the Earth, the inertia of the water (its tendency to keep moving in a straight line) is greater than the Moon's gravitational pull. This creates another bulge of water (high tide) on the side farthest from the Moon.\n",
              "* **Sun's Influence:** The Sun also exerts a gravitational force on Earth, but its effect on tides is weaker than the Moon's because it's much farther away. However, when the Sun, Earth, and Moon are aligned (during new and full moons), their gravitational forces combine to produce higher high tides and lower low tides, known as **spring tides**.\n",
              "* **Neap Tides:** When the Sun, Earth, and Moon form a right angle (during the first and third quarter moons), the Sun's gravitational pull partially counteracts the Moon's pull. This results in lower high tides and higher low tides, known as **neap tides**.\n",
              "\n",
              "**Other Factors:**\n",
              "\n",
              "* **Earth's Rotation:** As the Earth rotates, different locations on Earth pass through the tidal bulges created by the Moon and Sun, experiencing high and low tides.\n",
              "* **Shape of Coastlines:** The shape of coastlines and the depth of the ocean floor can influence the height and timing of tides. Bays and estuaries can amplify tidal ranges, while islands and shallow water can create complex tidal patterns.\n",
              "* **Weather:**  Strong winds and changes in atmospheric pressure can also affect local tide heights.\n",
              "\n",
              "**In summary:**\n",
              "\n",
              "Tides are a complex interplay of gravitational forces from the Moon and Sun, Earth's rotation, and geographical factors. The Moon's gravitational pull is the dominant force, creating two tidal bulges on opposite sides of the Earth. The Sun's influence modifies the intensity of these tides, leading to spring and neap tides."
            ],
            "text/plain": [
              "<IPython.core.display.Markdown object>"
            ]
          },
          "metadata": {},
          "output_type": "display_data"
        },
        {
          "name": "stdout",
          "output_type": "stream",
          "text": [
            "------------------------------- End of response --------------------------------\n",
            "\n"
          ]
        }
      ],
      "source": [
        "contents = \"\"\"\n",
        "Explain why we have tides.\n",
        "I'm a scientist. Provide a detailed answer using bullet points.\n",
        "\"\"\"\n",
        "print_contents(contents)\n",
        "\n",
        "response = generate_content(model, contents)\n",
        "print_response(response)"
      ]
    },
    {
      "cell_type": "markdown",
      "metadata": {
        "id": "hV6ULv8KHkxO"
      },
      "source": [
        "You can ask closed questions:\n"
      ]
    },
    {
      "cell_type": "code",
      "execution_count": 9,
      "metadata": {
        "id": "dGk1uEPN0XXq"
      },
      "outputs": [
        {
          "name": "stdout",
          "output_type": "stream",
          "text": [
            "----------------------------------- Contents -----------------------------------\n",
            "\n",
            "When were the previous and penultimate leap years?\n",
            "List 3 international competitions that took place during the penultimate one.\n",
            "Detail dates, cities, and venues.\n",
            "\n",
            "------------------------------ Start of response -------------------------------\n"
          ]
        },
        {
          "data": {
            "text/markdown": [
              "Here's the information:\n",
              "\n",
              "* **Previous leap year:** 2020\n",
              "* **Penultimate leap year:** 2016\n",
              "\n",
              "**3 International Competitions in 2016:**\n",
              "\n",
              "1. **Summer Olympics**\n",
              "    * **Dates:** August 5 - August 21, 2016\n",
              "    * **City:** Rio de Janeiro, Brazil\n",
              "    * **Venues:** Various, including Maracanã Stadium (ceremonies, soccer), Olympic Aquatics Stadium (swimming, diving, synchronized swimming), Olympic Park (multiple sports)\n",
              "\n",
              "2. **UEFA European Championship (UEFA Euro 2016)**\n",
              "    * **Dates:** June 10 - July 10, 2016\n",
              "    * **City:** Various cities in France\n",
              "    * **Venues:** Stade de France (Saint-Denis), Parc des Princes (Paris), Stade Vélodrome (Marseille), and others\n",
              "\n",
              "3. **World Economic Forum (WEF) Annual Meeting**\n",
              "    * **Dates:** January 20 - 23, 2016\n",
              "    * **City:** Davos, Switzerland\n",
              "    * **Venue:** Davos Congress Centre"
            ],
            "text/plain": [
              "<IPython.core.display.Markdown object>"
            ]
          },
          "metadata": {},
          "output_type": "display_data"
        },
        {
          "name": "stdout",
          "output_type": "stream",
          "text": [
            "------------------------------- End of response --------------------------------\n",
            "\n"
          ]
        }
      ],
      "source": [
        "contents = \"\"\"\n",
        "When were the previous and penultimate leap years?\n",
        "List 3 international competitions that took place during the penultimate one.\n",
        "Detail dates, cities, and venues.\n",
        "\"\"\"\n",
        "print_contents(contents)\n",
        "\n",
        "response = generate_content(model, contents)\n",
        "print_response(response)"
      ]
    },
    {
      "cell_type": "markdown",
      "metadata": {
        "id": "SzmiMEq_HsNF"
      },
      "source": [
        "… as well as questions that are more open:\n"
      ]
    },
    {
      "cell_type": "code",
      "execution_count": 10,
      "metadata": {
        "id": "HqcYe_w5BvLT"
      },
      "outputs": [
        {
          "name": "stdout",
          "output_type": "stream",
          "text": [
            "----------------------------------- Contents -----------------------------------\n",
            "\n",
            "What came first, the chicken or the egg? Explain from 3 different perspectives.\n",
            "What do we call a \"chicken and egg\" problem? Give 1 example that can occur in education.\n",
            "\n",
            "------------------------------ Start of response -------------------------------\n"
          ]
        },
        {
          "data": {
            "text/markdown": [
              "## The Chicken or the Egg: A Multifaceted Riddle\n",
              "\n",
              "Here's the age-old question examined from three different perspectives:\n",
              "\n",
              "**1. The Evolutionary Biologist:**\n",
              "\n",
              "From this perspective, **the egg came first**.  Evolution is a gradual process. Long before there were chickens, there were chicken-like ancestors. These ancestors laid eggs, just like almost all other bird species. At some point, a mutation occurred in the genes of one of these eggs, and that mutation resulted in the first true chicken. \n",
              "\n",
              "**2. The Philosophical Linguist:**\n",
              "\n",
              "This perspective focuses on definitions. What constitutes a \"chicken egg\"? Is it any egg laid by a creature we call a chicken? Or is it an egg that contains a chicken embryo? If we define a \"chicken egg\" as one containing a chicken embryo, then **the chicken must have come first** to provide that genetic material.\n",
              "\n",
              "**3. The Practical Poultry Farmer:**\n",
              "\n",
              "A farmer might say, **\"Who cares? I need both!\"**  This perspective highlights the cyclical nature of the question.  Without a chicken, you can't get a chicken egg. But without a chicken egg, you can't get a chicken. It's a closed loop.\n",
              "\n",
              "## The \"Chicken and Egg\" Problem:\n",
              "\n",
              "This phrase describes a situation where it's impossible to determine which of two things came first because each one seems dependent on the other. It's a dilemma of causality.\n",
              "\n",
              "**Example in Education:**\n",
              "\n",
              "**Problem:** A student struggles with reading comprehension. They lack the vocabulary to understand complex texts, but they also struggle to expand their vocabulary because they can't comprehend the texts they read.\n",
              "\n",
              "**The \"Chicken and Egg\" Dilemma:**  Did the limited vocabulary cause the poor comprehension, or did the poor comprehension hinder vocabulary development? \n",
              "\n",
              "This type of problem highlights the interconnectedness of skills in education and the need for integrated approaches to address them."
            ],
            "text/plain": [
              "<IPython.core.display.Markdown object>"
            ]
          },
          "metadata": {},
          "output_type": "display_data"
        },
        {
          "name": "stdout",
          "output_type": "stream",
          "text": [
            "------------------------------- End of response --------------------------------\n",
            "\n"
          ]
        }
      ],
      "source": [
        "contents = \"\"\"\n",
        "What came first, the chicken or the egg? Explain from 3 different perspectives.\n",
        "What do we call a \"chicken and egg\" problem? Give 1 example that can occur in education.\n",
        "\"\"\"\n",
        "print_contents(contents)\n",
        "\n",
        "response = generate_content(model, contents)\n",
        "print_response(response)"
      ]
    },
    {
      "cell_type": "markdown",
      "metadata": {
        "id": "BoqqOTjfL6HX"
      },
      "source": [
        "## Reasoning on text\n"
      ]
    },
    {
      "cell_type": "markdown",
      "metadata": {
        "id": "1dEt9vXqmGN5"
      },
      "source": [
        "You can summarize and translate text:\n"
      ]
    },
    {
      "cell_type": "code",
      "execution_count": 11,
      "metadata": {
        "id": "jAbIQ5U3mGN5"
      },
      "outputs": [
        {
          "name": "stdout",
          "output_type": "stream",
          "text": [
            "----------------------------------- Contents -----------------------------------\n",
            "\n",
            "Summarize the following text in English, in 3 short bullet points, only using the text.\n",
            "\n",
            "TEXT:\n",
            "- Les hommes naissent et demeurent libres et égaux en droits. Les distinctions sociales ne peuvent être fondées que sur l'utilité commune.\n",
            "- Le but de toute association politique est la conservation des droits naturels et imprescriptibles de l'homme. Ces droits sont la liberté, la propriété, la sûreté et la résistance à l'oppression.\n",
            "- Le principe de toute souveraineté réside essentiellement dans la Nation. Nul corps, nul individu ne peut exercer d'autorité qui n'en émane expressément.\n",
            "- La liberté consiste à pouvoir faire tout ce qui ne nuit pas à autrui : ainsi, l'exercice des droits naturels de chaque homme n'a de bornes que celles qui assurent aux autres membres de la société la jouissance de ces mêmes droits. Ces bornes ne peuvent être déterminées que par la loi.\n",
            "La loi n'a le droit de défendre que les actions nuisibles à la société. Tout ce qui n'est pas défendu par la loi ne peut être empêché, et nul ne peut être contraint à faire ce qu'elle n'ordonne pas.\n",
            "- La loi est l'expression de la volonté générale. Tous les citoyens ont droit de concourir personnellement ou par leurs représentants à sa formation. Elle doit être la même pour tous, soit qu'elle protège, soit qu'elle punisse. Tous les citoyens, étant égaux à ses yeux, sont également admissibles à toutes dignités, places et emplois publics, selon leur capacité et sans autre distinction que celle de leurs vertus et de leurs talents.\n",
            "- Nul homme ne peut être accusé, arrêté ou détenu que dans les cas déterminés par la loi et selon les formes qu'elle a prescrites. Ceux qui sollicitent, expédient, exécutent ou font exécuter des ordres arbitraires doivent être punis ; mais tout citoyen appelé ou saisi en vertu de la loi doit obéir à l'instant ; il se rend coupable par la résistance.\n",
            "- La loi ne doit établir que des peines strictement et évidemment nécessaires, et nul ne peut être puni qu'en vertu d'une loi établie et promulguée antérieurement au délit, et légalement appliquée.\n",
            "Tout homme étant présumé innocent jusqu'à ce qu'il ait été déclaré coupable, s'il est jugé indispensable de l'arrêter, toute rigueur qui ne serait pas nécessaire pour s'assurer de sa personne doit être sévèrement réprimée par la loi.\n",
            "- Nul ne doit être inquiété pour ses opinions, même religieuses, pourvu que leur manifestation ne trouble pas l'ordre public établi par la loi.\n",
            "\n",
            "------------------------------ Start of response -------------------------------\n"
          ]
        },
        {
          "data": {
            "text/markdown": [
              "Here is a 3-bullet-point summary of the text:\n",
              "\n",
              "* **Fundamental Rights:** Men are born free and equal in rights, with liberty, property, security, and resistance to oppression as natural and inalienable rights.  Social distinctions should only serve the common good.\n",
              "* **The Rule of Law:**  Law, as an expression of the general will, should protect individual rights and freedoms. It applies equally to all citizens, ensuring fair treatment and protection from arbitrary arrest or punishment. \n",
              "* **Freedom of Opinion and Expression:**  Individuals have the right to hold and express their opinions, including religious ones, as long as they do not disrupt public order established by law."
            ],
            "text/plain": [
              "<IPython.core.display.Markdown object>"
            ]
          },
          "metadata": {},
          "output_type": "display_data"
        },
        {
          "name": "stdout",
          "output_type": "stream",
          "text": [
            "------------------------------- End of response --------------------------------\n",
            "\n"
          ]
        }
      ],
      "source": [
        "contents = \"\"\"\n",
        "Summarize the following text in English, in 3 short bullet points, only using the text.\n",
        "\n",
        "TEXT:\n",
        "- Les hommes naissent et demeurent libres et égaux en droits. Les distinctions sociales ne peuvent être fondées que sur l'utilité commune.\n",
        "- Le but de toute association politique est la conservation des droits naturels et imprescriptibles de l'homme. Ces droits sont la liberté, la propriété, la sûreté et la résistance à l'oppression.\n",
        "- Le principe de toute souveraineté réside essentiellement dans la Nation. Nul corps, nul individu ne peut exercer d'autorité qui n'en émane expressément.\n",
        "- La liberté consiste à pouvoir faire tout ce qui ne nuit pas à autrui : ainsi, l'exercice des droits naturels de chaque homme n'a de bornes que celles qui assurent aux autres membres de la société la jouissance de ces mêmes droits. Ces bornes ne peuvent être déterminées que par la loi.\n",
        "La loi n'a le droit de défendre que les actions nuisibles à la société. Tout ce qui n'est pas défendu par la loi ne peut être empêché, et nul ne peut être contraint à faire ce qu'elle n'ordonne pas.\n",
        "- La loi est l'expression de la volonté générale. Tous les citoyens ont droit de concourir personnellement ou par leurs représentants à sa formation. Elle doit être la même pour tous, soit qu'elle protège, soit qu'elle punisse. Tous les citoyens, étant égaux à ses yeux, sont également admissibles à toutes dignités, places et emplois publics, selon leur capacité et sans autre distinction que celle de leurs vertus et de leurs talents.\n",
        "- Nul homme ne peut être accusé, arrêté ou détenu que dans les cas déterminés par la loi et selon les formes qu'elle a prescrites. Ceux qui sollicitent, expédient, exécutent ou font exécuter des ordres arbitraires doivent être punis ; mais tout citoyen appelé ou saisi en vertu de la loi doit obéir à l'instant ; il se rend coupable par la résistance.\n",
        "- La loi ne doit établir que des peines strictement et évidemment nécessaires, et nul ne peut être puni qu'en vertu d'une loi établie et promulguée antérieurement au délit, et légalement appliquée.\n",
        "Tout homme étant présumé innocent jusqu'à ce qu'il ait été déclaré coupable, s'il est jugé indispensable de l'arrêter, toute rigueur qui ne serait pas nécessaire pour s'assurer de sa personne doit être sévèrement réprimée par la loi.\n",
        "- Nul ne doit être inquiété pour ses opinions, même religieuses, pourvu que leur manifestation ne trouble pas l'ordre public établi par la loi.\n",
        "\"\"\"\n",
        "print_contents(contents)\n",
        "\n",
        "response = generate_content(model, contents)\n",
        "print_response(response)"
      ]
    },
    {
      "cell_type": "markdown",
      "metadata": {
        "id": "Ri8Yx5vtE22b"
      },
      "source": [
        "… as well as ask for ideas:\n"
      ]
    },
    {
      "cell_type": "code",
      "execution_count": 12,
      "metadata": {
        "id": "k5pXqmNJmGN5"
      },
      "outputs": [
        {
          "name": "stdout",
          "output_type": "stream",
          "text": [
            "----------------------------------- Contents -----------------------------------\n",
            "\n",
            "Provide an outline in 5 key points for a \"chocolate in the world\" presentation.\n",
            "One part must be about its origin in Mexico (my teacher has family there).\n",
            "The last one will be a tasting with everybody in the classroom.\n",
            "\n",
            "------------------------------ Start of response -------------------------------\n"
          ]
        },
        {
          "data": {
            "text/markdown": [
              "Here's an outline focusing on chocolate in the world, highlighting its Mexican origins and ending with a tasting:\n",
              "\n",
              "## Chocolate: A Global Journey from Bean to Bar\n",
              "\n",
              "**1. Chocolate's Mexican Roots:**\n",
              "    * **The Olmec, Maya, and Aztec Connection:** Trace the historical use of cacao by these civilizations, focusing on its importance in rituals, currency, and as a bitter beverage.\n",
              "    * **Xocolatl: The Original Drink of the Gods:**  Describe the traditional preparation methods and ingredients used, contrasting them with modern chocolate.\n",
              "    * **Highlight a personal anecdote (from your teacher's family):** Share a story or tradition related to cacao or chocolate from their Mexican heritage. This adds a personal touch and connection for your teacher!\n",
              "\n",
              "**2.  Chocolate Conquers Europe:** \n",
              "    * **Spanish Arrival and the Journey Across the Atlantic:** Explain how cacao beans were brought to Europe and the initial skepticism surrounding them.\n",
              "    * **Transformation in the European Courts:** Detail the evolution of chocolate from a bitter drink to a sweetened, luxurious treat favored by royalty.\n",
              "    * **The Spread of Chocolate Fever:**  Discuss how chocolate gradually became popular across Europe, leading to the development of early chocolate houses.\n",
              "\n",
              "**3. The Industrial Revolution and Chocolate for the Masses:**\n",
              "    * **Mechanization and Mass Production:** Explain how inventions like the steam engine and the chocolate press revolutionized chocolate making, making it more affordable. \n",
              "    * **The Rise of Chocolate Companies:** Discuss the emergence of famous chocolate companies and the development of iconic chocolate bars we know today.\n",
              "    * **Marketing and the Creation of Desire:**  Highlight how advertising shaped chocolate consumption and turned it into a global commodity. \n",
              "\n",
              "**4.  Chocolate Today: A World of Flavors and Ethical Considerations:**\n",
              "    * **Bean to Bar: The Craft Chocolate Movement:** Explore the growing interest in single-origin chocolate and artisan production methods.\n",
              "    * **The Dark Side of Chocolate: Sustainability and Ethical Sourcing:**  Address the issues of fair trade, child labor, and environmental impact within the cocoa industry.\n",
              "    * **A World of Flavors: Modern Innovations and Trends:** Discuss contemporary chocolate creations, flavor pairings, and the expanding world of chocolate experiences.\n",
              "\n",
              "**5.  Chocolate Tasting Experience:**\n",
              "    * **Engage the Senses:** Prepare a selection of chocolate samples representing different origins, percentages of cacao, and flavor profiles (e.g., dark, milk, white, flavored). \n",
              "    * **Tasting Notes and Discussion:** Guide the class through a structured tasting, encouraging them to identify aroma, texture, and flavor nuances.\n",
              "    * **Connect the Experience to the Presentation:**  Relate the tasting back to the historical and cultural journey of chocolate discussed throughout the presentation.\n",
              "\n",
              "**Bonus:** Visual aids like maps, images of historical artifacts, and even short video clips can significantly enhance your presentation."
            ],
            "text/plain": [
              "<IPython.core.display.Markdown object>"
            ]
          },
          "metadata": {},
          "output_type": "display_data"
        },
        {
          "name": "stdout",
          "output_type": "stream",
          "text": [
            "------------------------------- End of response --------------------------------\n",
            "\n"
          ]
        }
      ],
      "source": [
        "contents = \"\"\"\n",
        "Provide an outline in 5 key points for a \"chocolate in the world\" presentation.\n",
        "One part must be about its origin in Mexico (my teacher has family there).\n",
        "The last one will be a tasting with everybody in the classroom.\n",
        "\"\"\"\n",
        "print_contents(contents)\n",
        "\n",
        "# For more creative responses, let's increase the level of randomness with a higher temperature.\n",
        "# Successive requests will likely return different answers.\n",
        "temperature = 1.0\n",
        "\n",
        "response = generate_content(model, contents, temperature)\n",
        "print_response(response)"
      ]
    },
    {
      "cell_type": "markdown",
      "metadata": {
        "id": "zf25rsTSkdXu"
      },
      "source": [
        "You can also ask for text corrections:\n",
        "\n",
        "Below, examples are provided to help the model generate responses with the expected structure and formatting. This is also called few-shot prompting.\n"
      ]
    },
    {
      "cell_type": "code",
      "execution_count": 13,
      "metadata": {
        "id": "jgKEDKVkL8Ub"
      },
      "outputs": [
        {
          "name": "stdout",
          "output_type": "stream",
          "text": [
            "----------------------------------- Contents -----------------------------------\n",
            "\n",
            "I'm a non-native English speaker.\n",
            "Check whether the following sentences are correct.\n",
            "When incorrect, provide a correction and an explanation.\n",
            "Use the same structure as in the given examples.\n",
            "\n",
            "EXAMPLES:\n",
            "- **Hi!**\n",
            "  - Status: ✔️\n",
            "- **Your my best freind!**\n",
            "  - Status: ❌\n",
            "  - Correction: **You're my best friend!**\n",
            "  - Explanation:\n",
            "    - \"**Your**\" is incorrect. It seems that you meant \"You're\", which is the short form of \"You are\".\n",
            "    - \"**freind**\" is misspelled. The correct spelling is \"**friend**\".\n",
            "\n",
            "SENTENCES:\n",
            "- They're twins, isn't it?\n",
            "- I assisted to the meeting.\n",
            "- You received important informations.\n",
            "- I digged a hole in the ice and saw lots of fishes.\n",
            "- That's all folks!\n",
            "\n",
            "------------------------------ Start of response -------------------------------\n"
          ]
        },
        {
          "data": {
            "text/markdown": [
              "Here are the sentences you provided, checked for correctness:\n",
              "\n",
              "- **They're twins, isn't it?**\n",
              "  - Status: ❌\n",
              "  - Correction: **They're twins, aren't they?**\n",
              "  - Explanation: When using tag questions (the little \"question tag\" at the end of a sentence), the verb in the tag needs to agree with the subject of the main sentence. Since the subject is \"They\", the correct tag is \"aren't they?\".\n",
              "\n",
              "- **I assisted to the meeting.**\n",
              "  - Status: ❌\n",
              "  - Correction: **I attended the meeting.**\n",
              "  - Explanation: While \"assist\" means to help, it's not typically used with \"meeting\" in this way. \"Attend\" is the more natural choice, meaning you were present at the meeting.\n",
              "\n",
              "- **You received important informations.**\n",
              "  - Status: ❌\n",
              "  - Correction: **You received important information.**\n",
              "  - Explanation: \"Information\" is an uncountable noun in English, meaning it doesn't have a plural form. We don't add an \"s\" at the end.\n",
              "\n",
              "- **I digged a hole in the ice and saw lots of fishes.**\n",
              "  - Status: ❌\n",
              "  - Correction: **I dug a hole in the ice and saw lots of fish.**\n",
              "  - Explanation: \n",
              "    - The past tense of \"dig\" is \"dug\", not \"digged\".\n",
              "    - Similar to \"information\", \"fish\" is often used as an uncountable noun, especially when referring to multiple fish of different species. You can use \"fishes\" if you want to emphasize different types of fish, but \"fish\" is more common in this context.\n",
              "\n",
              "- **That's all folks!**\n",
              "  - Status: ✔️"
            ],
            "text/plain": [
              "<IPython.core.display.Markdown object>"
            ]
          },
          "metadata": {},
          "output_type": "display_data"
        },
        {
          "name": "stdout",
          "output_type": "stream",
          "text": [
            "------------------------------- End of response --------------------------------\n",
            "\n"
          ]
        }
      ],
      "source": [
        "contents = \"\"\"\n",
        "I'm a non-native English speaker.\n",
        "Check whether the following sentences are correct.\n",
        "When incorrect, provide a correction and an explanation.\n",
        "Use the same structure as in the given examples.\n",
        "\n",
        "EXAMPLES:\n",
        "- **Hi!**\n",
        "  - Status: ✔️\n",
        "- **Your my best freind!**\n",
        "  - Status: ❌\n",
        "  - Correction: **You're my best friend!**\n",
        "  - Explanation:\n",
        "    - \"**Your**\" is incorrect. It seems that you meant \"You're\", which is the short form of \"You are\".\n",
        "    - \"**freind**\" is misspelled. The correct spelling is \"**friend**\".\n",
        "\n",
        "SENTENCES:\n",
        "- They're twins, isn't it?\n",
        "- I assisted to the meeting.\n",
        "- You received important informations.\n",
        "- I digged a hole in the ice and saw lots of fishes.\n",
        "- That's all folks!\n",
        "\"\"\"\n",
        "print_contents(contents)\n",
        "\n",
        "response = generate_content(model, contents)\n",
        "print_response(response)"
      ]
    },
    {
      "cell_type": "markdown",
      "metadata": {
        "id": "ach9JtNikxVz"
      },
      "source": [
        "… as well as ask for elaborate tasks on text and languages:\n"
      ]
    },
    {
      "cell_type": "code",
      "execution_count": 14,
      "metadata": {
        "id": "P0xdsfQDE22b"
      },
      "outputs": [
        {
          "name": "stdout",
          "output_type": "stream",
          "text": [
            "----------------------------------- Contents -----------------------------------\n",
            "\n",
            "Translate the text into the following languages.\n",
            "\n",
            "TEXT:\n",
            "Hello folks! I hope you're all doing well. Let's get this workshop started!\n",
            "We'll stick to English because, actually, I can't speak all those languages.\n",
            "\n",
            "LANGUAGES:\n",
            "German, French, Greek, Bulgarian, Japanese\n",
            "\n",
            "------------------------------ Start of response -------------------------------\n"
          ]
        },
        {
          "data": {
            "text/markdown": [
              "## Translations:\n",
              "\n",
              "**German:**\n",
              "\n",
              "Hallo zusammen! Ich hoffe, es geht euch allen gut. Lasst uns mit dem Workshop beginnen!\n",
              "Wir bleiben beim Englischen, denn tatsächlich spreche ich nicht alle diese Sprachen.\n",
              "\n",
              "**French:**\n",
              "\n",
              "Bonjour tout le monde ! J'espère que vous allez tous bien. Commençons cet atelier !\n",
              "Nous allons nous en tenir à l'anglais car, en réalité, je ne parle pas toutes ces langues.\n",
              "\n",
              "**Greek:**\n",
              "\n",
              "Γεια σας σε όλους! Ελπίζω να είστε όλοι καλά. Ας ξεκινήσουμε αυτό το εργαστήριο!\n",
              "Θα μιλάμε αγγλικά γιατί, στην πραγματικότητα, δεν μιλάω όλες αυτές τις γλώσσες.\n",
              "\n",
              "**Bulgarian:**\n",
              "\n",
              "Здравейте на всички! Надявам се, че сте добре. Нека да започнем този семинар!\n",
              "Ще се придържаме към английски, защото всъщност не говоря всички тези езици.\n",
              "\n",
              "**Japanese:**\n",
              "\n",
              "皆さん、こんにちは！お元気でお過ごしでしょうか？それでは、ワークショップを始めましょう！\n",
              " 実は、私はこれらの言語をすべて話せるわけではないので、英語で進めさせていただきます。"
            ],
            "text/plain": [
              "<IPython.core.display.Markdown object>"
            ]
          },
          "metadata": {},
          "output_type": "display_data"
        },
        {
          "name": "stdout",
          "output_type": "stream",
          "text": [
            "------------------------------- End of response --------------------------------\n",
            "\n"
          ]
        }
      ],
      "source": [
        "contents = \"\"\"\n",
        "Translate the text into the following languages.\n",
        "\n",
        "TEXT:\n",
        "Hello folks! I hope you're all doing well. Let's get this workshop started!\n",
        "We'll stick to English because, actually, I can't speak all those languages.\n",
        "\n",
        "LANGUAGES:\n",
        "German, French, Greek, Bulgarian, Japanese\n",
        "\"\"\"\n",
        "print_contents(contents)\n",
        "\n",
        "response = generate_content(model, contents)\n",
        "print_response(response)"
      ]
    },
    {
      "cell_type": "code",
      "execution_count": 15,
      "metadata": {
        "id": "LSNoxDSeZWw-"
      },
      "outputs": [
        {
          "name": "stdout",
          "output_type": "stream",
          "text": [
            "----------------------------------- Contents -----------------------------------\n",
            "\n",
            "I'm a non-native English speaker and made mistakes in the following sentences.\n",
            "Guess my native language (if there are several possibilities, here is a hint: I like cheese).\n",
            "Explain why these are typical mistakes.\n",
            "\n",
            "SENTENCES:\n",
            "- They are twin sisters, isn't it?\n",
            "- I assisted to the meeting.\n",
            "- I saw lots of fishes.\n",
            "\n",
            "------------------------------ Start of response -------------------------------\n"
          ]
        },
        {
          "data": {
            "text/markdown": [
              "Based on the errors in your sentences, your native language could be **French**. \n",
              "\n",
              "Here's why these mistakes are common for French speakers:\n",
              "\n",
              "* **\"They are twin sisters, isn't it?\"**  In French, tag questions (like \"n'est-ce pas?\" ) always use the masculine singular form of the verb, regardless of the subject. This leads to direct translation errors like this one.\n",
              "* **\"I assisted to the meeting.\"**  The French verb \"assister\" translates more directly to \"to attend\" in this context. French speakers often use \"assist\" with a preposition (\"to\") when they should use \"attend\" directly.\n",
              "* **\"I saw lots of fishes.\"**  In French, the word \"poisson\" is used for both singular and plural when referring to fish as a species. This often leads to French speakers using \"fishes\" incorrectly in English when they mean multiple fish of the same kind. \n",
              "\n",
              "Let me know if you'd like more examples or explanations!"
            ],
            "text/plain": [
              "<IPython.core.display.Markdown object>"
            ]
          },
          "metadata": {},
          "output_type": "display_data"
        },
        {
          "name": "stdout",
          "output_type": "stream",
          "text": [
            "------------------------------- End of response --------------------------------\n",
            "\n"
          ]
        }
      ],
      "source": [
        "contents = \"\"\"\n",
        "I'm a non-native English speaker and made mistakes in the following sentences.\n",
        "Guess my native language (if there are several possibilities, here is a hint: I like cheese).\n",
        "Explain why these are typical mistakes.\n",
        "\n",
        "SENTENCES:\n",
        "- They are twin sisters, isn't it?\n",
        "- I assisted to the meeting.\n",
        "- I saw lots of fishes.\n",
        "\"\"\"\n",
        "print_contents(contents)\n",
        "\n",
        "response = generate_content(model, contents)\n",
        "print_response(response)"
      ]
    },
    {
      "cell_type": "markdown",
      "metadata": {
        "id": "AIl7R_jBUsaC"
      },
      "source": [
        "## Reasoning on numbers\n"
      ]
    },
    {
      "cell_type": "markdown",
      "metadata": {
        "id": "hm61coMZJX-o"
      },
      "source": [
        "> Note: Depending on inputs and parameters, large language models can hallucinate and generate inaccurate outputs, including math operations. As a best practice, consider using prompts with step-by-step instructions to reduce hallucinations, or use a calculator library for more advanced math. You can also ask Gemini to generate problem-solving code (see [Doing Math with Large Language Models](https://medium.com/google-cloud/doing-math-with-large-language-models-69d94c8b0590)).\n",
        "\n",
        "You can ask about real life problems:\n"
      ]
    },
    {
      "cell_type": "code",
      "execution_count": 16,
      "metadata": {
        "id": "nmvIJfDUmGN6"
      },
      "outputs": [
        {
          "name": "stdout",
          "output_type": "stream",
          "text": [
            "----------------------------------- Contents -----------------------------------\n",
            "\n",
            "Patricia is a good runner and runs at an average 12 km/h.\n",
            "- On Monday, she ran for 1.5 hour. What distance did she run?\n",
            "- On Tuesday, she ran for 21 km. How long did she run?\n",
            "- On Wednesday, she ran for 150 minutes. What distance did she run?\n",
            "- Next, she plans to do a marathon (42 km). How long should it take?\n",
            "- To complete a marathon in 3 hours, how much faster does she need to run?\n",
            "\n",
            "Detail the answers step by step.\n",
            "\n",
            "------------------------------ Start of response -------------------------------\n"
          ]
        },
        {
          "data": {
            "text/markdown": [
              "Here's the breakdown of Patricia's runs:\n",
              "\n",
              "**Monday:**\n",
              "\n",
              "* **Speed:** 12 km/h\n",
              "* **Time:** 1.5 hours\n",
              "* **Distance = Speed x Time**\n",
              "* **Distance = 12 km/h * 1.5 h = 18 km**\n",
              "\n",
              "**Tuesday:**\n",
              "\n",
              "* **Speed:** 12 km/h\n",
              "* **Distance:** 21 km\n",
              "* **Time = Distance / Speed**\n",
              "* **Time = 21 km / 12 km/h = 1.75 hours**\n",
              "\n",
              "**Wednesday:**\n",
              "\n",
              "* **Speed:** 12 km/h\n",
              "* **Time:** 150 minutes (Let's convert this to hours: 150 minutes / 60 minutes/hour = 2.5 hours)\n",
              "* **Distance = Speed x Time**\n",
              "* **Distance = 12 km/h * 2.5 h = 30 km**\n",
              "\n",
              "**Marathon (42 km):**\n",
              "\n",
              "* **Speed:** 12 km/h\n",
              "* **Distance:** 42 km\n",
              "* **Time = Distance / Speed**\n",
              "* **Time = 42 km / 12 km/h = 3.5 hours**\n",
              "\n",
              "**Marathon in 3 hours:**\n",
              "\n",
              "* **Target Time:** 3 hours\n",
              "* **Distance:** 42 km\n",
              "* **Required Speed = Distance / Time**\n",
              "* **Required Speed = 42 km / 3 h = 14 km/h**\n",
              "\n",
              "**To finish the marathon in 3 hours, Patricia needs to run 2 km/h faster (14 km/h - 12 km/h = 2 km/h).**"
            ],
            "text/plain": [
              "<IPython.core.display.Markdown object>"
            ]
          },
          "metadata": {},
          "output_type": "display_data"
        },
        {
          "name": "stdout",
          "output_type": "stream",
          "text": [
            "------------------------------- End of response --------------------------------\n",
            "\n"
          ]
        }
      ],
      "source": [
        "contents = \"\"\"\n",
        "Patricia is a good runner and runs at an average 12 km/h.\n",
        "- On Monday, she ran for 1.5 hour. What distance did she run?\n",
        "- On Tuesday, she ran for 21 km. How long did she run?\n",
        "- On Wednesday, she ran for 150 minutes. What distance did she run?\n",
        "- Next, she plans to do a marathon (42 km). How long should it take?\n",
        "- To complete a marathon in 3 hours, how much faster does she need to run?\n",
        "\n",
        "Detail the answers step by step.\n",
        "\"\"\"\n",
        "print_contents(contents)\n",
        "\n",
        "response = generate_content(model, contents)\n",
        "print_response(response)"
      ]
    },
    {
      "cell_type": "markdown",
      "metadata": {
        "id": "_nZwoSe0mGN6"
      },
      "source": [
        "… or about classical problems:\n"
      ]
    },
    {
      "cell_type": "code",
      "execution_count": 17,
      "metadata": {
        "id": "R6dmn9_Q0Be0"
      },
      "outputs": [
        {
          "name": "stdout",
          "output_type": "stream",
          "text": [
            "----------------------------------- Contents -----------------------------------\n",
            "\n",
            "I just borrowed 1,000 EUR from a friend.\n",
            "We agreed on a 4.5% simple interest rate, based solely on the initial amount borrowed.\n",
            "I want to know how much I'll have to refund in 1, 2, or 3 years.\n",
            "Present the results in a recap table.\n",
            "\n",
            "------------------------------ Start of response -------------------------------\n"
          ]
        },
        {
          "data": {
            "text/markdown": [
              "## Loan Repayment Recap (1000 EUR at 4.5% Simple Interest)\n",
              "\n",
              "| Time Period | Interest Accrued | Total to Refund |\n",
              "|---|---|---|\n",
              "| 1 Year | 45 EUR (1000 * 0.045) | 1045 EUR |\n",
              "| 2 Years | 90 EUR (1000 * 0.045 * 2) | 1090 EUR |\n",
              "| 3 Years | 135 EUR (1000 * 0.045 * 3) | 1135 EUR |\n",
              "\n",
              "**Explanation:**\n",
              "\n",
              "* **Simple interest** means you only pay interest on the original amount borrowed (1000 EUR), not on any accumulated interest.\n",
              "* **Interest per year:** 1000 EUR * 4.5% = 45 EUR\n",
              "* **Total to refund:** Original loan amount + total interest accrued"
            ],
            "text/plain": [
              "<IPython.core.display.Markdown object>"
            ]
          },
          "metadata": {},
          "output_type": "display_data"
        },
        {
          "name": "stdout",
          "output_type": "stream",
          "text": [
            "------------------------------- End of response --------------------------------\n",
            "\n"
          ]
        }
      ],
      "source": [
        "contents = \"\"\"\n",
        "I just borrowed 1,000 EUR from a friend.\n",
        "We agreed on a 4.5% simple interest rate, based solely on the initial amount borrowed.\n",
        "I want to know how much I'll have to refund in 1, 2, or 3 years.\n",
        "Present the results in a recap table.\n",
        "\"\"\"\n",
        "print_contents(contents)\n",
        "\n",
        "response = generate_content(model, contents)\n",
        "print_response(response)"
      ]
    },
    {
      "cell_type": "markdown",
      "metadata": {
        "id": "dvdNYQKJE22c"
      },
      "source": [
        "## Reasoning on a single image\n"
      ]
    },
    {
      "cell_type": "markdown",
      "metadata": {
        "id": "UFW-KLIjmGN7"
      },
      "source": [
        "You can ask for an image description:\n"
      ]
    },
    {
      "cell_type": "code",
      "execution_count": 18,
      "metadata": {
        "id": "aFvAEetIcSA7"
      },
      "outputs": [
        {
          "name": "stdout",
          "output_type": "stream",
          "text": [
            "----------------------------------- Contents -----------------------------------\n",
            "Describe this image in a short sentence:\n"
          ]
        },
        {
          "data": {
            "image/jpeg": "[encoded data removed]",
            "text/plain": [
              "<IPython.core.display.Image object>"
            ]
          },
          "metadata": {},
          "output_type": "display_data"
        },
        {
          "name": "stdout",
          "output_type": "stream",
          "text": [
            "------------------------------ Start of response -------------------------------\n"
          ]
        },
        {
          "data": {
            "text/markdown": [
              "A wooden abacus with colorful beads sits on a white background."
            ],
            "text/plain": [
              "<IPython.core.display.Markdown object>"
            ]
          },
          "metadata": {},
          "output_type": "display_data"
        },
        {
          "name": "stdout",
          "output_type": "stream",
          "text": [
            "------------------------------- End of response --------------------------------\n",
            "\n"
          ]
        }
      ],
      "source": [
        "prompt = \"Describe this image in a short sentence:\"\n",
        "# Image by Crissy Jarvis on Unsplash: https://unsplash.com/photos/cHhbULJbPwM\n",
        "image_abacus = load_image_from_url(\n",
        "    \"https://unsplash.com/photos/cHhbULJbPwM/download?w=600\"\n",
        ")\n",
        "\n",
        "contents = [prompt, image_abacus]\n",
        "print_contents(contents)\n",
        "\n",
        "response = generate_content(model, contents)\n",
        "print_response(response)"
      ]
    },
    {
      "cell_type": "markdown",
      "metadata": {
        "id": "jjqqXuauE22c"
      },
      "source": [
        "… or ask specific questions:\n"
      ]
    },
    {
      "cell_type": "code",
      "execution_count": 19,
      "metadata": {
        "id": "H0SOqKjyi1tH"
      },
      "outputs": [
        {
          "name": "stdout",
          "output_type": "stream",
          "text": [
            "----------------------------------- Contents -----------------------------------\n",
            "\n",
            "Answer the following questions about this image.\n",
            "Return the results as a JSON list containing \"question\" and \"answer\" key pairs.\n",
            "\n",
            "QUESTIONS:\n",
            "- What does the image show?\n",
            "- How does it work?\n",
            "- When was it invented?\n",
            "- What's the name of this object in French, Italian, Spanish, Dutch, and German?\n",
            "- What are the most prominent colors in the image?\n",
            "\n"
          ]
        },
        {
          "data": {
            "image/jpeg": "[encoded data removed]",
            "text/plain": [
              "<IPython.core.display.Image object>"
            ]
          },
          "metadata": {},
          "output_type": "display_data"
        },
        {
          "name": "stdout",
          "output_type": "stream",
          "text": [
            "------------------------------ Start of response -------------------------------\n"
          ]
        },
        {
          "data": {
            "text/markdown": [
              "```json\n",
              "[\n",
              " {\n",
              "  \"question\": \"What does the image show?\",\n",
              "  \"answer\": \"The image shows an abacus.\"\n",
              " },\n",
              " {\n",
              "  \"question\": \"How does it work?\",\n",
              "  \"answer\": \"An abacus is a manual calculating device. It consists of beads that can be moved along rods or wires. The beads represent digits, and their positions determine the value of a number.\"\n",
              " },\n",
              " {\n",
              "  \"question\": \"When was it invented?\",\n",
              "  \"answer\": \"The abacus was invented around 2400 BC in Mesopotamia.\"\n",
              " },\n",
              " {\n",
              "  \"question\": \"What's the name of this object in French, Italian, Spanish, Dutch, and German?\",\n",
              "  \"answer\": \"The name of this object in different languages is:\\n\\n- French: boulier\\n- Italian: abaco\\n- Spanish: ábaco\\n- Dutch: telraam\\n- German: Abakus\"\n",
              " },\n",
              " {\n",
              "  \"question\": \"What are the most prominent colors in the image?\",\n",
              "  \"answer\": \"The most prominent colors in the image are brown, red, green, blue, and yellow.\"\n",
              " }\n",
              "]\n",
              "```"
            ],
            "text/plain": [
              "<IPython.core.display.Markdown object>"
            ]
          },
          "metadata": {},
          "output_type": "display_data"
        },
        {
          "name": "stdout",
          "output_type": "stream",
          "text": [
            "------------------------------- End of response --------------------------------\n",
            "\n"
          ]
        }
      ],
      "source": [
        "prompt = \"\"\"\n",
        "Answer the following questions about this image.\n",
        "Return the results as a JSON list containing \"question\" and \"answer\" key pairs.\n",
        "\n",
        "QUESTIONS:\n",
        "- What does the image show?\n",
        "- How does it work?\n",
        "- When was it invented?\n",
        "- What's the name of this object in French, Italian, Spanish, Dutch, and German?\n",
        "- What are the most prominent colors in the image?\n",
        "\"\"\"\n",
        "\n",
        "contents = [prompt, image_abacus]\n",
        "print_contents(contents)\n",
        "\n",
        "response = generate_content(model, contents)\n",
        "print_response(response)"
      ]
    },
    {
      "cell_type": "markdown",
      "metadata": {
        "id": "I9SIjHnbmGN8"
      },
      "source": [
        "Your specific questions can have follow-up questions:\n"
      ]
    },
    {
      "cell_type": "code",
      "execution_count": 20,
      "metadata": {
        "id": "bGIsUZFAmGN8"
      },
      "outputs": [
        {
          "name": "stdout",
          "output_type": "stream",
          "text": [
            "----------------------------------- Contents -----------------------------------\n"
          ]
        },
        {
          "data": {
            "image/jpeg": "[encoded data removed]",
            "text/plain": [
              "<IPython.core.display.Image object>"
            ]
          },
          "metadata": {},
          "output_type": "display_data"
        },
        {
          "name": "stdout",
          "output_type": "stream",
          "text": [
            "\n",
            "- What expression can be read in this image? How is it presented?\n",
            "- What is the opposite expression?\n",
            "- What is a recommendation, starting with this expression, a teacher could give his students for an exam?\n",
            "- With the opposite expression?\n",
            "\n",
            "------------------------------ Start of response -------------------------------\n"
          ]
        },
        {
          "data": {
            "text/markdown": [
              "- The expression is \"IN THE BEGINNING\". It is presented in the form of a word puzzle, using letter tiles arranged in a pyramid shape.\n",
              "\n",
              "- The opposite expression is \"IN THE END\".\n",
              "\n",
              "- **Using \"IN THE BEGINNING\":** \"In the beginning of your exam, take a few deep breaths to calm your nerves and quickly skim through the questions to get an overview.\"\n",
              "\n",
              "- **Using \"IN THE END\":** \"In the end, what matters most is that you tried your best. Don't dwell on mistakes, learn from them and move forward.\""
            ],
            "text/plain": [
              "<IPython.core.display.Markdown object>"
            ]
          },
          "metadata": {},
          "output_type": "display_data"
        },
        {
          "name": "stdout",
          "output_type": "stream",
          "text": [
            "------------------------------- End of response --------------------------------\n",
            "\n"
          ]
        }
      ],
      "source": [
        "# Image by Brett Jordan on Unsplash: https://unsplash.com/photos/E1por_SGvJE\n",
        "image_tiles = load_image_from_url(\n",
        "    \"https://unsplash.com/photos/E1por_SGvJE/download?w=600\"\n",
        ")\n",
        "prompt = \"\"\"\n",
        "- What expression can be read in this image? How is it presented?\n",
        "- What is the opposite expression?\n",
        "- What is a recommendation, starting with this expression, a teacher could give his students for an exam?\n",
        "- With the opposite expression?\n",
        "\"\"\"\n",
        "\n",
        "contents = [image_tiles, prompt]\n",
        "print_contents(contents)\n",
        "\n",
        "response = generate_content(model, contents)\n",
        "print_response(response)"
      ]
    },
    {
      "cell_type": "markdown",
      "metadata": {
        "id": "trT6xm249rqo"
      },
      "source": [
        "Information can have multiple forms. It can be objects, printed text, handwritten text, and more:\n"
      ]
    },
    {
      "cell_type": "code",
      "execution_count": 21,
      "metadata": {
        "id": "VKsArAoJmGN8"
      },
      "outputs": [
        {
          "name": "stdout",
          "output_type": "stream",
          "text": [
            "----------------------------------- Contents -----------------------------------\n",
            "\n",
            "Follow the instructions.\n",
            "Write math expressions in LaTex.\n",
            "Use a table with a row for each instruction and its result.\n",
            "\n",
            "INSTRUCTIONS:\n",
            "- Extract the formula.\n",
            "- What is the symbol right before Pi? What does it mean?\n",
            "- Is this a famous formula? Does it have a name?\n",
            "- Why is it special?\n",
            "- Extract the caption.\n",
            "- What color is it?\n",
            "- What color is the formula?\n",
            "- What's the object in the bottom?\n",
            "- What can you conclude about the object?\n",
            "\n"
          ]
        },
        {
          "data": {
            "image/jpeg": "[encoded data removed]",
            "text/plain": [
              "<IPython.core.display.Image object>"
            ]
          },
          "metadata": {},
          "output_type": "display_data"
        },
        {
          "name": "stdout",
          "output_type": "stream",
          "text": [
            "------------------------------ Start of response -------------------------------\n"
          ]
        },
        {
          "data": {
            "text/markdown": [
              "| Instruction | Result |\n",
              "|---|---|\n",
              "| Extract the formula. | $e^{i\\pi} + 1 = 0$ |\n",
              "| What is the symbol right before Pi? What does it mean? | The symbol is *i*. It represents the imaginary unit,  $\\sqrt{-1}$. |\n",
              "| Is this a famous formula? Does it have a name? | Yes, it's often called Euler's Identity. |\n",
              "| Why is it special? | It connects five fundamental constants in mathematics: e, i, π, 1, and 0. It's considered elegant due to this connection and its concise form. |\n",
              "| Extract the caption. | The most beautiful equation |\n",
              "| What color is it? | Black |\n",
              "| What color is the formula? | Green |\n",
              "| What's the object in the bottom? | A green pen. |\n",
              "| What can you conclude about the object? | It was likely used to write the formula on the paper. |"
            ],
            "text/plain": [
              "<IPython.core.display.Markdown object>"
            ]
          },
          "metadata": {},
          "output_type": "display_data"
        },
        {
          "name": "stdout",
          "output_type": "stream",
          "text": [
            "------------------------------- End of response --------------------------------\n",
            "\n"
          ]
        }
      ],
      "source": [
        "prompt = \"\"\"\n",
        "Follow the instructions.\n",
        "Write math expressions in LaTex.\n",
        "Use a table with a row for each instruction and its result.\n",
        "\n",
        "INSTRUCTIONS:\n",
        "- Extract the formula.\n",
        "- What is the symbol right before Pi? What does it mean?\n",
        "- Is this a famous formula? Does it have a name?\n",
        "- Why is it special?\n",
        "- Extract the caption.\n",
        "- What color is it?\n",
        "- What color is the formula?\n",
        "- What's the object in the bottom?\n",
        "- What can you conclude about the object?\n",
        "\"\"\"\n",
        "image_euler = load_image_from_url(\n",
        "    \"https://storage.googleapis.com/cloud-samples-data/generative-ai/image/math_beauty.jpg\"\n",
        ")\n",
        "\n",
        "contents = [prompt, image_euler]\n",
        "print_contents(contents)\n",
        "\n",
        "response = generate_content(model, contents)\n",
        "print_response(response)"
      ]
    },
    {
      "cell_type": "markdown",
      "metadata": {
        "id": "XHHKFGbMU-Re"
      },
      "source": [
        "You can also ask for interpretations and suggestions:\n"
      ]
    },
    {
      "cell_type": "code",
      "execution_count": 22,
      "metadata": {
        "id": "cJ0TsH-7unIE"
      },
      "outputs": [
        {
          "name": "stdout",
          "output_type": "stream",
          "text": [
            "----------------------------------- Contents -----------------------------------\n",
            "\n",
            "Answer the following questions about the image.\n",
            "Present the results in a table with a row for each question and its answer.\n",
            "\n",
            "QUESTIONS:\n",
            "- What is visible?\n",
            "- What are the reasons it's funny?\n",
            "- What could be a fun caption?\n",
            "- What could happen next?\n",
            "- How would you alter the image? Would it still be funny and why?\n",
            "- How would you make it funnier?\n",
            "\n"
          ]
        },
        {
          "data": {
            "image/jpeg": "[encoded data removed]",
            "text/plain": [
              "<IPython.core.display.Image object>"
            ]
          },
          "metadata": {},
          "output_type": "display_data"
        },
        {
          "name": "stdout",
          "output_type": "stream",
          "text": [
            "------------------------------ Start of response -------------------------------\n"
          ]
        },
        {
          "data": {
            "text/markdown": [
              "## Analyzing the Sheep and the Chalkboard\n",
              "\n",
              "| Question | Answer |\n",
              "|---|---|\n",
              "| What is visible? | A young lamb is sitting on a desk in front of a chalkboard. The chalkboard has the equation \"2 + 2 = 5\" written on it. |\n",
              "| What are the reasons it's funny? | The humor comes from the juxtaposition of the innocent lamb with the obviously incorrect math equation. It plays on the idea of sheep being unintelligent and blindly following, implying the lamb accepts the wrong answer. |\n",
              "| What could be a fun caption? |  * \"New math curriculum is really something.\" * \"Even sheep know this is wrong.\" * \"Ba-a-ad math, anyone?\" |\n",
              "| What could happen next? |  * The lamb grabs a piece of chalk and tries to correct the equation. * A teacher walks in and looks at the board with a confused expression. * Another lamb walks up and writes \"1+1= window\" on the board. |\n",
              "| How would you alter the image? Would it still be funny and why? |  * Instead of a lamb, use a different animal known for being smart, like a chimpanzee. This would still be funny because of the unexpectedness of an animal doing math, but it would change the humor from playing on sheep stereotypes. * Add a thought bubble above the lamb's head with a confused expression or question mark. This would emphasize the lamb's supposed confusion and enhance the humor. |\n",
              "| How would you make it funnier? | * Have the lamb wearing glasses as if trying to understand the equation. * Add more sheep in the background, some looking confused, others nodding in agreement. * Change the equation to something even more nonsensical, like \"1+1=banana.\" |"
            ],
            "text/plain": [
              "<IPython.core.display.Markdown object>"
            ]
          },
          "metadata": {},
          "output_type": "display_data"
        },
        {
          "name": "stdout",
          "output_type": "stream",
          "text": [
            "------------------------------- End of response --------------------------------\n",
            "\n"
          ]
        }
      ],
      "source": [
        "prompt = \"\"\"\n",
        "Answer the following questions about the image.\n",
        "Present the results in a table with a row for each question and its answer.\n",
        "\n",
        "QUESTIONS:\n",
        "- What is visible?\n",
        "- What are the reasons it's funny?\n",
        "- What could be a fun caption?\n",
        "- What could happen next?\n",
        "- How would you alter the image? Would it still be funny and why?\n",
        "- How would you make it funnier?\n",
        "\"\"\"\n",
        "# Image by Elimende Inagella on Unsplash: https://unsplash.com/photos/4ApmfdVo32Q\n",
        "image_classroom = load_image_from_url(\n",
        "    \"https://unsplash.com/photos/4ApmfdVo32Q/download?w=600\"\n",
        ")\n",
        "\n",
        "contents = [prompt, image_classroom]\n",
        "print_contents(contents)\n",
        "\n",
        "response = generate_content(model, contents)\n",
        "print_response(response)"
      ]
    },
    {
      "cell_type": "markdown",
      "metadata": {
        "id": "qU5Tm-FQE22c"
      },
      "source": [
        "## Reasoning on multiple images\n"
      ]
    },
    {
      "cell_type": "markdown",
      "metadata": {
        "id": "Vbf1HALvE22d"
      },
      "source": [
        "You can also use multiple images:\n"
      ]
    },
    {
      "cell_type": "code",
      "execution_count": 23,
      "metadata": {
        "id": "sLUesezCE22d"
      },
      "outputs": [
        {
          "name": "stdout",
          "output_type": "stream",
          "text": [
            "----------------------------------- Contents -----------------------------------\n",
            "\n",
            "Answer the following questions for each image.\n",
            "Present the results in a table with a row for each image and a column for each question.\n",
            "\n",
            "QUESTIONS:\n",
            "- What can we see in the image?\n",
            "- Where does it take place? (answer in one word)\n",
            "\n",
            "Image 1:\n"
          ]
        },
        {
          "data": {
            "image/jpeg": "[encoded data removed]",
            "text/plain": [
              "<IPython.core.display.Image object>"
            ]
          },
          "metadata": {},
          "output_type": "display_data"
        },
        {
          "name": "stdout",
          "output_type": "stream",
          "text": [
            "Image 2:\n"
          ]
        },
        {
          "data": {
            "image/jpeg": "[encoded data removed]",
            "text/plain": [
              "<IPython.core.display.Image object>"
            ]
          },
          "metadata": {},
          "output_type": "display_data"
        },
        {
          "name": "stdout",
          "output_type": "stream",
          "text": [
            "Image 3:\n"
          ]
        },
        {
          "data": {
            "image/jpeg": "[encoded data removed]",
            "text/plain": [
              "<IPython.core.display.Image object>"
            ]
          },
          "metadata": {},
          "output_type": "display_data"
        },
        {
          "name": "stdout",
          "output_type": "stream",
          "text": [
            "------------------------------ Start of response -------------------------------\n"
          ]
        },
        {
          "data": {
            "text/markdown": [
              "## Image Analysis\n",
              "\n",
              "| Image | What can we see in the image? | Where does it take place? |\n",
              "|---|---|---|\n",
              "| 1 | A chalkboard with \"Back to School\" written on it in chalk. | School |\n",
              "| 2 | A chalkboard with \"Please ask for our Brunch menu!\" written on it, leaning against a brick wall with potted plants in front. | Restaurant |\n",
              "| 3 | A chalkboard with complex mathematical formulas written on it. | Classroom |"
            ],
            "text/plain": [
              "<IPython.core.display.Markdown object>"
            ]
          },
          "metadata": {},
          "output_type": "display_data"
        },
        {
          "name": "stdout",
          "output_type": "stream",
          "text": [
            "------------------------------- End of response --------------------------------\n",
            "\n"
          ]
        }
      ],
      "source": [
        "prompt = f\"\"\"\n",
        "Answer the following questions for each image.\n",
        "Present the results in a table with a row for each image and a column for each question.\n",
        "\n",
        "QUESTIONS:\n",
        "- What can we see in the image?\n",
        "- Where does it take place? (answer in one word)\n",
        "\"\"\"\n",
        "caption_b1 = \"Image 1:\"\n",
        "caption_b2 = \"Image 2:\"\n",
        "caption_b3 = \"Image 3:\"\n",
        "# Photo by Deleece Cook on Unsplash: https://unsplash.com/photos/zzjLGF_6dx4\n",
        "image_b1 = load_image_from_url(\"https://unsplash.com/photos/zzjLGF_6dx4/download?w=600\")\n",
        "# Photo by Natasha Kapur on Unsplash: https://unsplash.com/photos/ndAHi2Wxcok\n",
        "image_b2 = load_image_from_url(\"https://unsplash.com/photos/ndAHi2Wxcok/download?w=600\")\n",
        "# Photo by Roman Mager on Unsplash: https://unsplash.com/photos/5mZ_M06Fc9g\n",
        "image_b3 = load_image_from_url(\"https://unsplash.com/photos/5mZ_M06Fc9g/download?w=600\")\n",
        "\n",
        "contents = [prompt, caption_b1, image_b1, caption_b2, image_b2, caption_b3, image_b3]\n",
        "print_contents(contents)\n",
        "\n",
        "response = generate_content(model, contents)\n",
        "print_response(response)"
      ]
    },
    {
      "cell_type": "markdown",
      "metadata": {
        "id": "CrMHz6A3E22d"
      },
      "source": [
        "… or make comparisons between images:\n"
      ]
    },
    {
      "cell_type": "code",
      "execution_count": 24,
      "metadata": {
        "id": "u7w31hUtE22d"
      },
      "outputs": [
        {
          "name": "stdout",
          "output_type": "stream",
          "text": [
            "----------------------------------- Contents -----------------------------------\n",
            "\n",
            "Answer the following questions about the images, with a short answer and a detailed reason for the answer.\n",
            "Present the results in a table with a row for each question, answer, and reason.\n",
            "\n",
            "QUESTIONS:\n",
            "- What do the images have in common?\n",
            "- Which one would be of interest to a mathematician?\n",
            "- Which one indicates it's the end of vacation?\n",
            "- Which one suggests we may get a coffee there?\n",
            "\n",
            "Image 1:\n"
          ]
        },
        {
          "data": {
            "image/jpeg": "[encoded data removed]",
            "text/plain": [
              "<IPython.core.display.Image object>"
            ]
          },
          "metadata": {},
          "output_type": "display_data"
        },
        {
          "name": "stdout",
          "output_type": "stream",
          "text": [
            "Image 2:\n"
          ]
        },
        {
          "data": {
            "image/jpeg": "[encoded data removed]",
            "text/plain": [
              "<IPython.core.display.Image object>"
            ]
          },
          "metadata": {},
          "output_type": "display_data"
        },
        {
          "name": "stdout",
          "output_type": "stream",
          "text": [
            "Image 3:\n"
          ]
        },
        {
          "data": {
            "image/jpeg": "[encoded data removed]",
            "text/plain": [
              "<IPython.core.display.Image object>"
            ]
          },
          "metadata": {},
          "output_type": "display_data"
        },
        {
          "name": "stdout",
          "output_type": "stream",
          "text": [
            "------------------------------ Start of response -------------------------------\n"
          ]
        },
        {
          "data": {
            "text/markdown": [
              "## Image Analysis\n",
              "\n",
              "| Question | Answer | Reason |\n",
              "|---|---|---|\n",
              "| What do the images have in common? | They all feature a chalkboard. | All three images depict a chalkboard as the central element. |\n",
              "| Which one would be of interest to a mathematician? | Image 3 | Image 3 shows mathematical formulas and equations written on the chalkboard, making it relevant to a mathematician. |\n",
              "| Which one indicates it's the end of vacation? | Image 1 | Image 1 displays the message \"Back to School,\" signifying the end of summer vacation and the start of a new school year. |\n",
              "| Which one suggests we may get a coffee there? | Image 2 | Image 2 advertises a \"Brunch Menu,\" implying that the location likely serves coffee, a common brunch beverage. |"
            ],
            "text/plain": [
              "<IPython.core.display.Markdown object>"
            ]
          },
          "metadata": {},
          "output_type": "display_data"
        },
        {
          "name": "stdout",
          "output_type": "stream",
          "text": [
            "------------------------------- End of response --------------------------------\n",
            "\n"
          ]
        }
      ],
      "source": [
        "prompt = \"\"\"\n",
        "Answer the following questions about the images, with a short answer and a detailed reason for the answer.\n",
        "Present the results in a table with a row for each question, answer, and reason.\n",
        "\n",
        "QUESTIONS:\n",
        "- What do the images have in common?\n",
        "- Which one would be of interest to a mathematician?\n",
        "- Which one indicates it's the end of vacation?\n",
        "- Which one suggests we may get a coffee there?\n",
        "\"\"\"\n",
        "\n",
        "contents = [prompt, caption_b1, image_b1, caption_b2, image_b2, caption_b3, image_b3]\n",
        "print_contents(contents)\n",
        "\n",
        "response = generate_content(model, contents)\n",
        "print_response(response)"
      ]
    },
    {
      "cell_type": "markdown",
      "metadata": {
        "id": "uqFSjI4_mGN9"
      },
      "source": [
        "You can use Gemini's level of language and visual understanding to work with concepts or even get suggestions on new images:\n"
      ]
    },
    {
      "cell_type": "code",
      "execution_count": 25,
      "metadata": {
        "id": "QjbP2y26mGN9"
      },
      "outputs": [
        {
          "name": "stdout",
          "output_type": "stream",
          "text": [
            "----------------------------------- Contents -----------------------------------\n",
            "\n",
            "Answer the following questions about the images, with a short answer and a detailed reason for the answer.\n",
            "Present the results in a table with a row for each question, answer, and reason.\n",
            "\n",
            "QUESTIONS:\n",
            "- What does the first image represent?\n",
            "- What does the second image represent?\n",
            "- What could be the next logical image?\n",
            "\n",
            "Image 1:\n"
          ]
        },
        {
          "data": {
            "image/jpeg": "[encoded data removed]",
            "text/plain": [
              "<IPython.core.display.Image object>"
            ]
          },
          "metadata": {},
          "output_type": "display_data"
        },
        {
          "name": "stdout",
          "output_type": "stream",
          "text": [
            "Image 2:\n"
          ]
        },
        {
          "data": {
            "image/jpeg": "[encoded data removed]",
            "text/plain": [
              "<IPython.core.display.Image object>"
            ]
          },
          "metadata": {},
          "output_type": "display_data"
        },
        {
          "name": "stdout",
          "output_type": "stream",
          "text": [
            "------------------------------ Start of response -------------------------------\n"
          ]
        },
        {
          "data": {
            "text/markdown": [
              "## Image Interpretation\n",
              "\n",
              "| Question | Answer | Reason |\n",
              "|---|---|---|\n",
              "| What does the first image represent? | Daytime | The image shows a bright sun in a clear blue sky, indicating daytime. |\n",
              "| What does the second image represent? | Rainfall | The image shows water droplets falling and creating ripples on a surface, indicating rainfall. |\n",
              "| What could be the next logical image? | A rainbow |  The sequence shows daytime followed by rain. A rainbow is a meteorological phenomenon that often appears after rain when the sun is still shining, making it a logical next image. |"
            ],
            "text/plain": [
              "<IPython.core.display.Markdown object>"
            ]
          },
          "metadata": {},
          "output_type": "display_data"
        },
        {
          "name": "stdout",
          "output_type": "stream",
          "text": [
            "------------------------------- End of response --------------------------------\n",
            "\n"
          ]
        }
      ],
      "source": [
        "prompt = \"\"\"\n",
        "Answer the following questions about the images, with a short answer and a detailed reason for the answer.\n",
        "Present the results in a table with a row for each question, answer, and reason.\n",
        "\n",
        "QUESTIONS:\n",
        "- What does the first image represent?\n",
        "- What does the second image represent?\n",
        "- What could be the next logical image?\n",
        "\"\"\"\n",
        "caption_w1 = \"Image 1:\"\n",
        "caption_w2 = \"Image 2:\"\n",
        "# Photo by Diego Ballon Vargas on Unsplash: https://unsplash.com/photos/TA5bUTySOrg\n",
        "image_w1 = load_image_from_url(\"https://unsplash.com/photos/TA5bUTySOrg/download?w=600\")\n",
        "# Photo by Reza Shayestehpour on Unsplash: https://unsplash.com/photos/Nw_D8v79PM4\n",
        "image_w2 = load_image_from_url(\"https://unsplash.com/photos/Nw_D8v79PM4/download?w=600\")\n",
        "\n",
        "contents = [prompt, caption_w1, image_w1, caption_w2, image_w2]\n",
        "print_contents(contents)\n",
        "\n",
        "response = generate_content(model, contents)\n",
        "print_response(response)"
      ]
    },
    {
      "cell_type": "markdown",
      "metadata": {
        "id": "dJdBiddamGN9"
      },
      "source": [
        "This is really up to your imagination:\n"
      ]
    },
    {
      "cell_type": "code",
      "execution_count": 26,
      "metadata": {
        "id": "iFhubVwFmGN9"
      },
      "outputs": [
        {
          "name": "stdout",
          "output_type": "stream",
          "text": [
            "----------------------------------- Contents -----------------------------------\n",
            "\n",
            "Answer the following questions, with a short answer and a detailed reason for the answer.\n",
            "Present the results in a table with a row for each question, answer, and reason.\n",
            "\n",
            "QUESTIONS:\n",
            "- What theme do these images illustrate?\n",
            "- What could be another image to replace the first one?\n",
            "- What other image could replace the second one?\n",
            "- What would be an alternative to the third image?\n",
            "- And for the last one?\n",
            "\n",
            "Image 1:\n"
          ]
        },
        {
          "data": {
            "image/jpeg": "[encoded data removed]",
            "text/plain": [
              "<IPython.core.display.Image object>"
            ]
          },
          "metadata": {},
          "output_type": "display_data"
        },
        {
          "name": "stdout",
          "output_type": "stream",
          "text": [
            "Image 2:\n"
          ]
        },
        {
          "data": {
            "image/jpeg": "[encoded data removed]",
            "text/plain": [
              "<IPython.core.display.Image object>"
            ]
          },
          "metadata": {},
          "output_type": "display_data"
        },
        {
          "name": "stdout",
          "output_type": "stream",
          "text": [
            "Image 3:\n"
          ]
        },
        {
          "data": {
            "image/jpeg": "[encoded data removed]",
            "text/plain": [
              "<IPython.core.display.Image object>"
            ]
          },
          "metadata": {},
          "output_type": "display_data"
        },
        {
          "name": "stdout",
          "output_type": "stream",
          "text": [
            "Image 4:\n"
          ]
        },
        {
          "data": {
            "image/jpeg": "[encoded data removed]",
            "text/plain": [
              "<IPython.core.display.Image object>"
            ]
          },
          "metadata": {},
          "output_type": "display_data"
        },
        {
          "name": "stdout",
          "output_type": "stream",
          "text": [
            "------------------------------ Start of response -------------------------------\n"
          ]
        },
        {
          "data": {
            "text/markdown": [
              "## Image Theme and Alternatives\n",
              "\n",
              "| Question | Answer | Reason |\n",
              "|---|---|---|\n",
              "| What theme do these images illustrate? | The four seasons | Each image represents a different season: spring (cherry blossoms), summer (sunflowers), autumn (fall leaves), and winter (footprints in the snow). |\n",
              "| What could be another image to replace the first one? | A field of tulips | Tulips are another iconic flower that blooms in the spring, representing new beginnings and the vibrancy of the season. |\n",
              "| What other image could replace the second one? | A beach scene with bright sun and blue skies | Beaches are strongly associated with summer, evoking warmth, sunshine, and relaxation. |\n",
              "| What would be an alternative to the third image? | A pumpkin patch | Pumpkins are a quintessential symbol of autumn, often associated with harvest time and the changing colors of the season. |\n",
              "| And for the last one? | A snow-covered landscape with bare trees | This image would further emphasize the stillness and cold of winter, highlighting the season's stark beauty. |"
            ],
            "text/plain": [
              "<IPython.core.display.Markdown object>"
            ]
          },
          "metadata": {},
          "output_type": "display_data"
        },
        {
          "name": "stdout",
          "output_type": "stream",
          "text": [
            "------------------------------- End of response --------------------------------\n",
            "\n"
          ]
        }
      ],
      "source": [
        "prompt = \"\"\"\n",
        "Answer the following questions, with a short answer and a detailed reason for the answer.\n",
        "Present the results in a table with a row for each question, answer, and reason.\n",
        "\n",
        "QUESTIONS:\n",
        "- What theme do these images illustrate?\n",
        "- What could be another image to replace the first one?\n",
        "- What other image could replace the second one?\n",
        "- What would be an alternative to the third image?\n",
        "- And for the last one?\n",
        "\"\"\"\n",
        "caption_s1 = \"Image 1:\"\n",
        "caption_s2 = \"Image 2:\"\n",
        "caption_s3 = \"Image 3:\"\n",
        "caption_s4 = \"Image 4:\"\n",
        "# Photo by Tomoko Uji on Unsplash: https://unsplash.com/photos/eriuKJwcdjI\n",
        "image_s1 = load_image_from_url(\"https://unsplash.com/photos/eriuKJwcdjI/download?w=600\")\n",
        "# Photo by Todd Trapani on Unsplash: https://unsplash.com/photos/QldMpmrmWuc\n",
        "image_s2 = load_image_from_url(\"https://unsplash.com/photos/QldMpmrmWuc/download?w=600\")\n",
        "# Photo by Olivia Hutcherson on Unsplash: https://unsplash.com/photos/rN3m7aTH3io\n",
        "image_s3 = load_image_from_url(\"https://unsplash.com/photos/rN3m7aTH3io/download?w=600\")\n",
        "# Photo by Eberhard Grossgasteiger on Unsplash: https://unsplash.com/photos/FhdN5QVrBfY\n",
        "image_s4 = load_image_from_url(\"https://unsplash.com/photos/FhdN5QVrBfY/download?w=600\")\n",
        "\n",
        "contents = [\n",
        "    prompt,\n",
        "    caption_s1,\n",
        "    image_s1,\n",
        "    caption_s2,\n",
        "    image_s2,\n",
        "    caption_s3,\n",
        "    image_s3,\n",
        "    caption_s4,\n",
        "    image_s4,\n",
        "]\n",
        "print_contents(contents)\n",
        "\n",
        "response = generate_content(model, contents)\n",
        "print_response(response)"
      ]
    },
    {
      "cell_type": "markdown",
      "metadata": {
        "id": "JkjzQsgKGS7o"
      },
      "source": [
        "## Reasoning on a video\n"
      ]
    },
    {
      "cell_type": "markdown",
      "metadata": {
        "id": "_irp8pd4GS7o"
      },
      "source": [
        "And you also can extract information from a video:\n"
      ]
    },
    {
      "cell_type": "code",
      "execution_count": 27,
      "metadata": {
        "id": "o9dOaKJoUknq"
      },
      "outputs": [
        {
          "name": "stdout",
          "output_type": "stream",
          "text": [
            "----------------------------------- Contents -----------------------------------\n",
            "\n",
            "Answer the following questions using the video only.\n",
            "Present the results in a table with a row for each question and its answer, as well as the timestamps where the answer can be found and whether the info source comes from \"Image\", \"Text\", and/or \"Speech\".\n",
            "\n",
            "QUESTIONS:\n",
            "- Where was the video likely shot?\n",
            "- What real animals are first visible as a group?\n",
            "- What animals are cartoon characters doing a close-up selfie?\n",
            "- What does the electronic device let real animals do?\n",
            "- What is the veterinarian full name?\n",
            "- Where does he work?\n",
            "- What is Courtney's job position?\n",
            "- What's her full name?\n",
            "- Which famous brand is first visible?\n",
            "- Which famous brand is last visible?\n",
            "- What happens at timestamp 0:36?\n",
            "- What happens at timestamp 1:05?\n",
            "\n"
          ]
        },
        {
          "data": {
            "text/html": [
              "<a href=\"https://storage.googleapis.com/cloud-samples-data/video/animals.mp4\">Video:</a>"
            ],
            "text/plain": [
              "<IPython.core.display.HTML object>"
            ]
          },
          "metadata": {},
          "output_type": "display_data"
        },
        {
          "data": {
            "text/html": [
              "<video src=\"https://storage.googleapis.com/cloud-samples-data/video/animals.mp4\" controls muted  width=\"600\" >\n",
              "      Your browser does not support the <code>video</code> element.\n",
              "    </video>"
            ],
            "text/plain": [
              "<IPython.core.display.Video object>"
            ]
          },
          "metadata": {},
          "output_type": "display_data"
        },
        {
          "name": "stdout",
          "output_type": "stream",
          "text": [
            "------------------------------ Start of response -------------------------------\n"
          ]
        },
        {
          "data": {
            "text/markdown": [
              "| Question | Answer | Timestamp | Info Source |\n",
              "|---|---|---|---|\n",
              "| Where was the video likely shot? | Los Angeles Zoo | 0:15 | Image, Speech |\n",
              "| What real animals are first visible as a group? | Giraffes | 0:19 | Image |\n",
              "| What animals are cartoon characters doing a close-up selfie? | A fox and a rabbit | 0:14 | Image |\n",
              "| What does the electronic device let real animals do? | Capture photos of themselves | 0:20 | Speech |\n",
              "| What is the veterinarian full name? | Evan Antin | 0:57 | Text |\n",
              "| Where does he work? | Conejo Valley Veterinary Hospital | 0:58 | Text |\n",
              "| What is Courtney's job position? | Creative Strategist | 1:12 | Text |\n",
              "| What's her full name? | Courtney Powell | 1:12 | Text |\n",
              "| Which famous brand is first visible? | Google Photos | 0:05 | Image, Text |\n",
              "| Which famous brand is last visible? | Disney | 1:33 | Image, Text |\n",
              "| What happens at timestamp 0:36? | Two elephants are shown standing next to each other. | 0:36 | Image |\n",
              "| What happens at timestamp 1:05? | An otter swims underwater. | 1:05 | Image |"
            ],
            "text/plain": [
              "<IPython.core.display.Markdown object>"
            ]
          },
          "metadata": {},
          "output_type": "display_data"
        },
        {
          "name": "stdout",
          "output_type": "stream",
          "text": [
            "------------------------------- End of response --------------------------------\n",
            "\n"
          ]
        }
      ],
      "source": [
        "prompt = \"\"\"\n",
        "Answer the following questions using the video only.\n",
        "Present the results in a table with a row for each question and its answer, as well as the timestamps where the answer can be found and whether the info source comes from \"Image\", \"Text\", and/or \"Speech\".\n",
        "\n",
        "QUESTIONS:\n",
        "- Where was the video likely shot?\n",
        "- What real animals are first visible as a group?\n",
        "- What animals are cartoon characters doing a close-up selfie?\n",
        "- What does the electronic device let real animals do?\n",
        "- What is the veterinarian full name?\n",
        "- Where does he work?\n",
        "- What is Courtney's job position?\n",
        "- What's her full name?\n",
        "- Which famous brand is first visible?\n",
        "- Which famous brand is last visible?\n",
        "- What happens at timestamp 0:36?\n",
        "- What happens at timestamp 1:05?\n",
        "\"\"\"\n",
        "video = Part.from_uri(\n",
        "    uri=\"gs://cloud-samples-data/video/animals.mp4\",\n",
        "    mime_type=\"video/mp4\",\n",
        ")\n",
        "\n",
        "contents = [prompt, video]\n",
        "print_contents(contents)\n",
        "\n",
        "response = generate_content(model, contents)\n",
        "print_response(response)"
      ]
    },
    {
      "cell_type": "markdown",
      "metadata": {
        "id": "806cbfafe417"
      },
      "source": [
        "Some remarks:\n",
        "\n",
        "- Gemini uses both video and audio information.\n",
        "  - Video files are sampled at 1 frame per second (1fps).\n",
        "  - Video and audio samples are analyzed with their timestamps.\n",
        "  - Text (typewritten or handwritten) can be detected in video frames, like when reasoning on images.\n",
        "  - This explains why the extracted samples can give you three possible sources of information:\n",
        "    - image (video frame)\n",
        "    - text (text in the video frame)\n",
        "    - speech (audio sample)\n",
        "- Using timestamps, you can also ask questions about specific video locations.\n"
      ]
    },
    {
      "cell_type": "markdown",
      "metadata": {
        "id": "jWT14Lw6Uknq"
      },
      "source": [
        "## Conclusion\n",
        "\n",
        "In this tutorial, you saw examples of how to use Gemini 1.5 in education to reason on text, images, and videos.\n",
        "\n",
        "For more information, see the following documentation pages:\n",
        "\n",
        "- [Image understanding](https://cloud.google.com/vertex-ai/generative-ai/docs/multimodal/image-understanding)\n",
        "- [Video understanding](https://cloud.google.com/vertex-ai/generative-ai/docs/multimodal/video-understanding)\n",
        "- [Audio understanding](https://cloud.google.com/vertex-ai/generative-ai/docs/multimodal/audio-understanding)\n",
        "- [Document understanding](https://cloud.google.com/vertex-ai/generative-ai/docs/multimodal/document-understanding)\n",
        "\n",
        "You may also want to explore other tutorials that focus on different domains or specificities of the Gemini API in Vertex AI.\n"
      ]
    }
  ],
  "metadata": {
    "colab": {
      "name": "use_cases_for_education.ipynb",
      "toc_visible": true
    },
    "kernelspec": {
      "display_name": "Python 3",
      "name": "python3"
    }
  },
  "nbformat": 4,
  "nbformat_minor": 0
}
