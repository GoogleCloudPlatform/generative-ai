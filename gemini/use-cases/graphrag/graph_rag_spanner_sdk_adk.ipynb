{
  "cells": [
    {
      "cell_type": "code",
      "execution_count": null,
      "metadata": {
        "id": "TQ1nQmSbn9co"
      },
      "outputs": [],
      "source": [
        "# Copyright 2025 Google LLC\n",
        "#\n",
        "# Licensed under the Apache License, Version 2.0 (the \"License\");\n",
        "# you may not use this file except in compliance with the License.\n",
        "# You may obtain a copy of the License at\n",
        "#\n",
        "#     https://www.apache.org/licenses/LICENSE-2.0\n",
        "#\n",
        "# Unless required by applicable law or agreed to in writing, software\n",
        "# distributed under the License is distributed on an \"AS IS\" BASIS,\n",
        "# WITHOUT WARRANTIES OR CONDITIONS OF ANY KIND, either express or implied.\n",
        "# See the License for the specific language governing permissions and\n",
        "# limitations under the License."
      ]
    },
    {
      "cell_type": "markdown",
      "metadata": {
        "id": "skeDTD9moBK5"
      },
      "source": [
        "# GraphRAG on Google Cloud With Spanner and Vertex AI Agent Engine"
      ]
    },
    {
      "cell_type": "markdown",
      "metadata": {
        "id": "LAoUEttbd9pg"
      },
      "source": [
        "|Author(s) | [Tristan Li](https://github.com/codingphun), [Smitha Venkat](https://github.com/smitha-google)"
      ]
    },
    {
      "cell_type": "markdown",
      "metadata": {
        "id": "tC8nObmLw9P0"
      },
      "source": [
        "## Overview\n"
      ]
    },
    {
      "cell_type": "markdown",
      "metadata": {
        "id": "BpH_CYLqPzLw"
      },
      "source": [
        "Spanner Graph now [integrates seamlessly with LangChain](https://cloud.google.com/python/docs/reference/langchain-google-spanner/latest#spanner-graph-store-usage), making it easier to build GraphRAG applications.\n",
        "\n",
        "Instead of simply retrieving relevant text snippets based on keyword similarity, GraphRAG takes a more sophisticated, structured approach to Retrieval Augmented Generation. It involves creating a knowledge graph from the text, organizing it hierarchically, summarizing key concepts, and then using this structured information to enhance the accuracy and depth of responses.\n",
        "\n",
        "\n",
        "### Objectives\n",
        "\n",
        "In this tutorial, you will see a complete walkthrough of building a question-answering system using the GraphRAG method. You'll learn how to create a knowledge graph from scratch, store it efficiently in Spanner Graph, a functional FAQ system with Langchain agent."
      ]
    },
    {
      "cell_type": "markdown",
      "metadata": {
        "id": "ZyXBLYuod9pj"
      },
      "source": [
        "## Before you begin"
      ]
    },
    {
      "cell_type": "markdown",
      "metadata": {
        "id": "C5wHkD06RzZN"
      },
      "source": [
        "1. In the Google Cloud console, on the project selector page, select or [create a Google Cloud project](https://cloud.google.com/resource-manager/docs/creating-managing-projects).\n",
        "1. [Make sure that billing is enabled for your Google Cloud project](https://cloud.google.com/billing/docs/how-to/verify-billing-enabled#console).\n",
        "1. [Make sure Cloud Spanner API is enabled](https://console.cloud.google.com/flows/enableapi?apiid=spanner.googleapis.com)\n",
        "\n",
        "### Required roles\n",
        "\n",
        "To get the permissions that you need to complete the tutorial, ask your administrator to grant you the [Owner](https://cloud.google.com/iam/docs/understanding-roles#owner) (`roles/owner`) IAM role on your project. For more information about granting roles, see [Manage access](https://cloud.google.com/iam/docs/granting-changing-revoking-access).\n"
      ]
    },
    {
      "cell_type": "markdown",
      "metadata": {
        "id": "arJM4CK4r6cj"
      },
      "source": [
        "### Install Python Libraries"
      ]
    },
    {
      "cell_type": "code",
      "execution_count": null,
      "metadata": {
        "id": "yhWJlYAmXSUq"
      },
      "outputs": [],
      "source": [
        "%pip install --quiet json-repair==0.30.2 networkx==3.3 langchain-core==0.3.59 langchain-google-vertexai==2.0.22 langchain-experimental==0.3.4 langchain-community==0.3.24 langchain-text-splitters==0.3.8\n",
        "%pip install --quiet google-cloud-resource-manager==1.13.1 pydantic==2.9.2\n",
        "%pip install --quiet google-cloud-spanner==3.48.0\n",
        "%pip install --quiet langchain-google-spanner==0.8.2\n",
        "%pip install --quiet google-adk==0.5.0\n",
        "%pip install --quiet google-cloud-aiplatform==1.91.0"
      ]
    },
    {
      "cell_type": "markdown",
      "metadata": {
        "id": "DoK1gW9dsRxB"
      },
      "source": [
        "### Authenticating your notebook environment\n",
        "* If you are using **Colab** to run this notebook, uncomment the cell below and continue.\n",
        "* If you are using **Vertex AI Workbench**, check out the setup instructions [here](https://github.com/GoogleCloudPlatform/generative-ai/tree/main/setup-env)."
      ]
    },
    {
      "cell_type": "code",
      "execution_count": 1,
      "metadata": {
        "id": "os3H39sGXugN"
      },
      "outputs": [
        {
          "name": "stdout",
          "output_type": "stream",
          "text": [
            "3.11.12 (main, Apr  9 2025, 08:55:54) [GCC 11.4.0]\n"
          ]
        }
      ],
      "source": [
        "import sys\n",
        "\n",
        "if \"google.colab\" in sys.modules:\n",
        "    from google.colab import auth as google_auth\n",
        "\n",
        "    google_auth.authenticate_user()\n",
        "print(sys.version)\n",
        "# If using local jupyter instance, uncomment and run:\n",
        "# !gcloud auth login"
      ]
    },
    {
      "cell_type": "markdown",
      "metadata": {
        "id": "CzaWjgsqsuuu"
      },
      "source": [
        "## Initialize and Import"
      ]
    },
    {
      "cell_type": "code",
      "execution_count": 2,
      "metadata": {
        "id": "zjz6i4vAXvZg"
      },
      "outputs": [],
      "source": [
        "GCP_PROJECT_ID = \"\"  # @param {type:\"string\"}\n",
        "REGION = \"us-central1\"  # @param {type:\"string\"}\n",
        "MODEL_NAME = \"gemini-2.0-flash-001\"  # @param {type:\"string\"}\n",
        "EMBEDDING_MODEL_NAME = \"text-embedding-004\"  # @param {type:\"string\"}\n",
        "TASK_TYPE = \"SEMANTIC_SIMILARITY\"  # @param {type:\"string\"}\n",
        "ANSWER_TASK_TYPE = \"RETRIEVAL_DOCUMENT\"  # @param {type:\"string\"}\n",
        "SPANNER_INSTANCE_ID = \"graphrag-instance\"  # @param {type:\"string\"}\n",
        "SPANNER_DATABASE_ID = \"graphrag\"  # @param {type:\"string\"}\n",
        "SPANNER_GRAPH_NAME = \"wikigraph\"  # @param {type:\"string\"}"
      ]
    },
    {
      "cell_type": "code",
      "execution_count": null,
      "metadata": {
        "id": "cXDp5uwyd9pk"
      },
      "outputs": [],
      "source": [
        "# Set the project id\n",
        "!gcloud config set project {GCP_PROJECT_ID} --quiet\n",
        "%env GOOGLE_CLOUD_PROJECT={GCP_PROJECT_ID}"
      ]
    },
    {
      "cell_type": "markdown",
      "metadata": {
        "id": "GHyZn3Lns9YM"
      },
      "source": [
        "### Import Packages"
      ]
    },
    {
      "cell_type": "code",
      "execution_count": 4,
      "metadata": {
        "id": "mCQuCvfrXxUM"
      },
      "outputs": [],
      "source": [
        "import os\n",
        "\n",
        "from langchain_core.documents import Document\n",
        "from langchain_experimental.graph_transformers import LLMGraphTransformer\n",
        "from langchain_google_vertexai import VertexAI\n",
        "from langchain_text_splitters import RecursiveCharacterTextSplitter"
      ]
    },
    {
      "cell_type": "markdown",
      "metadata": {
        "id": "Axb7c8Y1YmQ8"
      },
      "source": [
        "## Create Spanner Instance and Database\n",
        "\n",
        "To prepare for future queries, we'll now store our newly created knowledge graph in a Google Cloud Spanner database. We'll also store the accompanying embeddings in Spanner's Vector Database to enable efficient semantic search.\n"
      ]
    },
    {
      "cell_type": "code",
      "execution_count": 5,
      "metadata": {
        "id": "27gTtXr4m2n2"
      },
      "outputs": [
        {
          "name": "stdout",
          "output_type": "stream",
          "text": [
            "Updated property [core/project].\n"
          ]
        }
      ],
      "source": [
        "!gcloud config set project {GCP_PROJECT_ID}\n",
        "!gcloud services enable spanner.googleapis.com\n",
        "!gcloud spanner instances create {SPANNER_INSTANCE_ID} --config=regional-us-central1 --description=\"Graph RAG Instance\" --nodes=1 --edition=ENTERPRISE"
      ]
    },
    {
      "cell_type": "code",
      "execution_count": 6,
      "metadata": {
        "id": "jsoqBPlDthc7"
      },
      "outputs": [],
      "source": [
        "# prompt: create a spanner database and table to store the graph with nodes and edges created in graph\n",
        "\n",
        "\n",
        "def create_database(project_id, instance_id, database_id):\n",
        "    \"\"\"Creates a database and tables for sample data.\"\"\"\n",
        "    from google.cloud import spanner\n",
        "    from google.cloud.spanner_admin_database_v1.types import spanner_database_admin\n",
        "\n",
        "    spanner_client = spanner.Client(project_id)\n",
        "    database_admin_api = spanner_client.database_admin_api\n",
        "\n",
        "    request = spanner_database_admin.CreateDatabaseRequest(\n",
        "        parent=database_admin_api.instance_path(spanner_client.project, instance_id),\n",
        "        create_statement=f\"CREATE DATABASE `{database_id}`\",\n",
        "        extra_statements=[\n",
        "            \"\"\"CREATE TABLE KgNode (\n",
        "            DocId        INT64 NOT NULL,\n",
        "            Name STRING(1024),\n",
        "            DOC STRING(1024),\n",
        "            DocEmbedding ARRAY<FLOAT64>\n",
        "            ) PRIMARY KEY (DocId)\"\"\"\n",
        "        ],\n",
        "    )\n",
        "\n",
        "    operation = database_admin_api.create_database(request=request)\n",
        "\n",
        "    print(\"Waiting for operation to complete...\")\n",
        "    OPERATION_TIMEOUT_SECONDS = 60\n",
        "    database = operation.result(OPERATION_TIMEOUT_SECONDS)\n",
        "\n",
        "    print(\n",
        "        \"Created database {} on instance {}\".format(\n",
        "            database.name,\n",
        "            database_admin_api.instance_path(spanner_client.project, instance_id),\n",
        "        )\n",
        "    )"
      ]
    },
    {
      "cell_type": "code",
      "execution_count": null,
      "metadata": {
        "id": "7mVK78UWt2OJ"
      },
      "outputs": [],
      "source": [
        "from google.cloud import spanner\n",
        "\n",
        "create_database(GCP_PROJECT_ID, SPANNER_INSTANCE_ID, SPANNER_DATABASE_ID)"
      ]
    },
    {
      "cell_type": "markdown",
      "metadata": {
        "id": "xSuWYhb62UJS"
      },
      "source": [
        "## Create a Knowledge Graph With LangChain and Gemini\n",
        "\n",
        "These texts extracted from Wikipedia are about [Larry Page](https://en.wikipedia.org/wiki/Larry_Page), co-founder of Google. These texts will be used to create a knowledge graph about Larry Page as well as embedding vectors for semantic search."
      ]
    },
    {
      "cell_type": "code",
      "execution_count": 8,
      "metadata": {
        "id": "NIokGkZii43z"
      },
      "outputs": [],
      "source": [
        "text = \"\"\"Lawrence Edward Page (born March 26, 1973) is an American businessman and computer scientist best known for co-founding Google with Sergey Brin.\n",
        "Lawrence Edward Page was chief executive officer of Google from 1997 until August 2001 when he stepped down in favor of Eric Schmidt,\n",
        "and then again from April 2011 until July 2015 when he became CEO of its newly formed parent organization Alphabet Inc.\n",
        "He held that post until December 4, 2019, when he and Brin stepped down from all executive positions and day-to-day roles within the company.\n",
        "He remains an Alphabet board member, employee, and controlling shareholder. Lawrence Edward Page has an estimated net worth of $156 billion as of June 2024,\n",
        "according to the Bloomberg Billionaires Index, and $145.2 billion according to Forbes, making him the fifth-richest person in the world.\n",
        "He has also invested in flying car startups Kitty Hawk and Opener. Like his Google co-founder, Sergey Brin, Page attended Montessori schools until he entered high school.\n",
        "They both cite the educational method of Maria Montessori as the major influence in how they designed Google's work systems.\n",
        "Maria Montessori believed that the liberty of the child was of utmost importance. In some sense, I feel like music training led to the high-speed legacy of Google for me\"\"\""
      ]
    },
    {
      "cell_type": "markdown",
      "metadata": {
        "id": "YDpwl48k27HU"
      },
      "source": [
        "We will use Gemini and Langchain LLMGraphTransformer to parse the texts and generate a knowledge graph.\n",
        "\n",
        "Leveraging Gemini's capabilities, Langchain will use them to identify and extract key information from the text, such as people, countries, and their nationalities, to construct a comprehensive knowledge graph from the texts based on the nodes and relationships we define."
      ]
    },
    {
      "cell_type": "code",
      "execution_count": 9,
      "metadata": {
        "id": "ZIcYPheujsmc"
      },
      "outputs": [],
      "source": [
        "documents = [Document(page_content=text)]\n",
        "\n",
        "llm = VertexAI(model_name=MODEL_NAME, project=GCP_PROJECT_ID, location=REGION)\n",
        "\n",
        "llm_transformer_filtered = LLMGraphTransformer(\n",
        "    llm=llm,\n",
        "    allowed_nodes=[\"Person\", \"Country\", \"Organization\", \"Asset\"],\n",
        "    allowed_relationships=[\n",
        "        \"NATIONALITY\",\n",
        "        \"LOCATED_IN\",\n",
        "        \"WORKED_AT\",\n",
        "        \"SPOUSE\",\n",
        "        \"NET_WORTH\",\n",
        "        \"INVESTMENT\",\n",
        "        \"INFLUENCED_BY\",\n",
        "    ],\n",
        ")\n",
        "graph_documents_filtered = llm_transformer_filtered.convert_to_graph_documents(\n",
        "    documents\n",
        ")"
      ]
    },
    {
      "cell_type": "markdown",
      "metadata": {
        "id": "QHXfcXadd9pl"
      },
      "source": [
        "## Store the Knowledge Graph in Spanner\n",
        "\n",
        "Now that the Spanner database is created, we will store the Knowledge Graph in the Spanner Graph Store"
      ]
    },
    {
      "cell_type": "code",
      "execution_count": 10,
      "metadata": {
        "id": "JrGjHvf0j7vu"
      },
      "outputs": [],
      "source": [
        "from langchain_google_spanner import SpannerGraphStore\n",
        "\n",
        "graph_store = SpannerGraphStore(\n",
        "    instance_id=SPANNER_INSTANCE_ID,\n",
        "    database_id=SPANNER_DATABASE_ID,\n",
        "    graph_name=SPANNER_GRAPH_NAME,\n",
        ")"
      ]
    },
    {
      "cell_type": "code",
      "execution_count": 11,
      "metadata": {
        "id": "t1fV5Y2Ad9pl"
      },
      "outputs": [
        {
          "name": "stdout",
          "output_type": "stream",
          "text": [
            "Waiting for DDL operations to complete...\n",
            "Waiting for DDL operations to complete...\n",
            "Insert nodes of type `Asset`...\n",
            "Insert nodes of type `Organization`...\n",
            "Insert nodes of type `Person`...\n",
            "Insert nodes of type `Country`...\n",
            "Insert edges of type `Person_WORKED_AT_Organization`...\n",
            "Insert edges of type `Person_NATIONALITY_Country`...\n",
            "Insert edges of type `Person_NET_WORTH_Asset`...\n",
            "Insert edges of type `Person_INVESTMENT_Organization`...\n",
            "Insert edges of type `Person_INFLUENCED_BY_Person`...\n"
          ]
        }
      ],
      "source": [
        "# Uncomment the line below, if you want to cleanup from previous iterations.\n",
        "# BeWARE - THIS COULD REMOVE DATA FROM YOUR DATABASE !!!\n",
        "graph_store.cleanup()\n",
        "\n",
        "for graph_document in graph_documents_filtered:\n",
        "    graph_store.add_graph_documents([graph_document])"
      ]
    },
    {
      "cell_type": "markdown",
      "metadata": {
        "id": "aXIongn2d9pl"
      },
      "source": [
        "## Build a QnA Agent\n",
        "\n",
        "Let's build a QnA agent and ask quick questions"
      ]
    },
    {
      "cell_type": "code",
      "execution_count": 12,
      "metadata": {
        "id": "cydr7r-gd9pl"
      },
      "outputs": [],
      "source": [
        "from google.cloud import spanner\n",
        "from langchain_google_spanner import SpannerGraphQAChain\n",
        "from langchain_google_vertexai import ChatVertexAI\n",
        "\n",
        "# Initialize llm object\n",
        "llm = ChatVertexAI(model=MODEL_NAME, temperature=0)\n",
        "\n",
        "# Initialize GraphQAChain\n",
        "chain = SpannerGraphQAChain.from_llm(\n",
        "    llm,\n",
        "    graph=graph_store,\n",
        "    allow_dangerous_requests=True,\n",
        "    verbose=False,\n",
        "    return_intermediate_steps=True,\n",
        ")"
      ]
    },
    {
      "cell_type": "code",
      "execution_count": 13,
      "metadata": {
        "id": "SVJEGkmZd9pm"
      },
      "outputs": [
        {
          "data": {
            "application/vnd.google.colaboratory.intrinsic+json": {
              "type": "string"
            },
            "text/plain": [
              "'Lawrence Edward Page invests in Kitty Hawk and Opener.\\n'"
            ]
          },
          "execution_count": 13,
          "metadata": {},
          "output_type": "execute_result"
        }
      ],
      "source": [
        "question = (\n",
        "    \"What businesses does Lawrence Edward Page invest in?\"  # @param {type:\"string\"}\n",
        ")\n",
        "response = chain.invoke(\"query=\" + question)\n",
        "response[\"result\"]"
      ]
    },
    {
      "cell_type": "markdown",
      "metadata": {
        "id": "RrLJ3I-9aULZ"
      },
      "source": [
        "**Important: Magic cell below only works on Colab**"
      ]
    },
    {
      "cell_type": "code",
      "execution_count": null,
      "metadata": {
        "id": "AeLNbYT0erih"
      },
      "outputs": [],
      "source": [
        "%%spanner_graph --project {GCP_PROJECT_ID} --instance {SPANNER_INSTANCE_ID} --database {SPANNER_DATABASE_ID}\n",
        "\n",
        "GRAPH wikigraph\n",
        "MATCH p = (a)-[e]->(b)\n",
        "RETURN TO_JSON(p) AS path_json\n",
        "LIMIT 50"
      ]
    },
    {
      "cell_type": "markdown",
      "metadata": {
        "id": "e4lDWxd8Uzvr"
      },
      "source": [
        "## Enhance Search Capability"
      ]
    },
    {
      "cell_type": "markdown",
      "metadata": {
        "id": "38aY1a-Dd9pm"
      },
      "source": [
        "Now if we rephrase the question with \"Larry Page\" instead of his legal name \" Lawrence Edward Page\", it would fail because it relies on exact keyword matching. Semantic search, using embeddings and vector search, overcomes this by understanding the meaning and relationships between words, thus recognizing both names refer to the same person! On the flip side, if we only use semantic search with vector similarity search, the results returned are not always accurate. See examples below on the challenges of either approach."
      ]
    },
    {
      "cell_type": "markdown",
      "metadata": {
        "id": "52o_qCYpb1Ut"
      },
      "source": [
        "#### Generate the embeddings"
      ]
    },
    {
      "cell_type": "code",
      "execution_count": 14,
      "metadata": {
        "id": "x7XGJrb2d9pm"
      },
      "outputs": [
        {
          "name": "stdout",
          "output_type": "stream",
          "text": [
            "[0.04362960532307625, -0.015628624707460403, -0.03651438280940056, 0.07635214179754257, 0.025854211300611496, 0.016094792634248734, 0.032845646142959595, -0.025009311735630035, 0.033768218010663986, 0.0557292141020298] Lawrence E Lawrence Edward Page, Sergey Brin, Eric Schmidt\n",
            "[0.05250556766986847, 0.0059433588758111, -0.053659338504076004, 0.0366397500038147, 0.027847468852996826, 0.006960400380194187, 0.0055380454286932945, -0.03739484027028084, 0.05096553638577461, 0.06589022278785706] He held th Brin, Lawrence Edward Page\n",
            "[0.00012151900591561571, -0.04247371852397919, -0.06008194014430046, 0.08208870142698288, 0.022667380049824715, 0.015254673548042774, 0.03223690763115883, -0.016212889924645424, 0.02410755306482315, 0.021432554349303246] He has als Sergey Brin, Page, Maria Montessori\n"
          ]
        }
      ],
      "source": [
        "import json\n",
        "\n",
        "import vertexai\n",
        "from vertexai.generative_models import GenerationConfig, GenerativeModel\n",
        "from vertexai.language_models import TextEmbeddingInput, TextEmbeddingModel\n",
        "\n",
        "# init the vertexai package\n",
        "vertexai.init(project=GCP_PROJECT_ID, location=REGION)\n",
        "\n",
        "\n",
        "def get_embedding(text, task_type, model):\n",
        "    try:\n",
        "        text_embedding_input = TextEmbeddingInput(task_type=task_type, text=text)\n",
        "        embeddings = model.get_embeddings([text_embedding_input])\n",
        "        return embeddings[0].values\n",
        "    except:\n",
        "        return []\n",
        "\n",
        "\n",
        "embedding_model = TextEmbeddingModel.from_pretrained(EMBEDDING_MODEL_NAME)\n",
        "text_model = GenerativeModel(MODEL_NAME)\n",
        "documents = [Document(page_content=text)]\n",
        "\n",
        "spanner_embedding_values = []\n",
        "\n",
        "from langchain.text_splitter import RecursiveCharacterTextSplitter\n",
        "\n",
        "splitter = RecursiveCharacterTextSplitter(\n",
        "    chunk_size=500, chunk_overlap=100, separators=[\"\\n\\n\", \"\\n\", r\"(?<=\\. )\", \" \", \"\"]\n",
        ")\n",
        "splitted_text = splitter.split_documents(documents)\n",
        "for chunk in splitted_text:\n",
        "    chunk_content = chunk.page_content\n",
        "    embedding = get_embedding(chunk_content, ANSWER_TASK_TYPE, embedding_model)\n",
        "    user_prompt_content = (\n",
        "        \"Find person's names but ignore any pronoun in the following sentence \\n\"\n",
        "        + chunk_content\n",
        "    )\n",
        "    response = text_model.generate_content(\n",
        "        user_prompt_content,\n",
        "        generation_config=GenerationConfig(\n",
        "            temperature=0,\n",
        "            response_mime_type=\"application/json\",\n",
        "            response_schema={\n",
        "                \"type\": \"OBJECT\",\n",
        "                \"properties\": {\"nodes\": {\"type\": \"STRING\"}},\n",
        "            },\n",
        "        ),\n",
        "    )\n",
        "    response_content = json.loads(response.candidates[0].content.parts[0].text)[\"nodes\"]\n",
        "    print(embedding[:10], chunk_content[:10], response_content)\n",
        "    spanner_embedding_values.append([embedding, chunk_content, response_content])"
      ]
    },
    {
      "cell_type": "markdown",
      "metadata": {
        "id": "pADGrRrKnB4n"
      },
      "source": [
        "#### Knowledge graph search only - no result found"
      ]
    },
    {
      "cell_type": "code",
      "execution_count": 15,
      "metadata": {
        "id": "Vr6aAs2Qd9pm"
      },
      "outputs": [
        {
          "data": {
            "application/vnd.google.colaboratory.intrinsic+json": {
              "type": "string"
            },
            "text/plain": [
              "\"I don't know the answer.\""
            ]
          },
          "execution_count": 15,
          "metadata": {},
          "output_type": "execute_result"
        }
      ],
      "source": [
        "question = \"What businesses does Larry Page invest in?\"  # @param {type:\"string\"}\n",
        "response = chain.invoke(\"query=\" + question)\n",
        "response[\"result\"]"
      ]
    },
    {
      "cell_type": "markdown",
      "metadata": {
        "id": "NUZTMinum163"
      },
      "source": [
        "#### Semantic search only - top similarity match is incorrect"
      ]
    },
    {
      "cell_type": "code",
      "execution_count": 16,
      "metadata": {
        "id": "4HWdbakKeJvi"
      },
      "outputs": [
        {
          "name": "stdout",
          "output_type": "stream",
          "text": [
            "chunk: Lawrence Edward Page (born March 26, 1973) is an American businessman and computer scientist best known for co-founding Google with Sergey Brin.\n",
            "Lawrence Edward Page was chief executive officer of Google from 1997 until August 2001 when he stepped down in favor of Eric Schmidt,\n",
            "and then again from April 2011 until July 2015 when he became CEO of its newly formed parent organization Alphabet Inc. \n",
            " similarity: [[0.78622893]] \n",
            "\n",
            "chunk: He held that post until December 4, 2019, when he and Brin stepped down from all executive positions and day-to-day roles within the company.\n",
            "He remains an Alphabet board member, employee, and controlling shareholder. Lawrence Edward Page has an estimated net worth of $156 billion as of June 2024,\n",
            "according to the Bloomberg Billionaires Index, and $145.2 billion according to Forbes, making him the fifth-richest person in the world. \n",
            " similarity: [[0.81792139]] \n",
            "\n",
            "chunk: He has also invested in flying car startups Kitty Hawk and Opener. Like his Google co-founder, Sergey Brin, Page attended Montessori schools until he entered high school.\n",
            "They both cite the educational method of Maria Montessori as the major influence in how they designed Google's work systems.\n",
            "Maria Montessori believed that the liberty of the child was of utmost importance. In some sense, I feel like music training led to the high-speed legacy of Google for me \n",
            " similarity: [[0.78612123]] \n",
            "\n"
          ]
        }
      ],
      "source": [
        "from sklearn.metrics.pairwise import cosine_similarity\n",
        "\n",
        "QUESTION = \"What businesses does Larry Page invest in?\"  # @param {type:\"string\"}\n",
        "\n",
        "q_emb = get_embedding(QUESTION, ANSWER_TASK_TYPE, embedding_model)\n",
        "\n",
        "for emb in spanner_embedding_values:\n",
        "    print(f\"chunk: {emb[1]} \\n similarity: {cosine_similarity([q_emb], [emb[0]])} \\n\")"
      ]
    },
    {
      "cell_type": "markdown",
      "metadata": {
        "id": "4OVOZZ1Ld9pm"
      },
      "source": [
        "#### Save the embeddings into Spanner"
      ]
    },
    {
      "cell_type": "code",
      "execution_count": 17,
      "metadata": {
        "id": "2K4tCvssd9pm"
      },
      "outputs": [
        {
          "name": "stdout",
          "output_type": "stream",
          "text": [
            "1 record(s) inserted.\n",
            "1 record(s) inserted.\n",
            "1 record(s) inserted.\n"
          ]
        }
      ],
      "source": [
        "from google.cloud import spanner\n",
        "\n",
        "spanner_client = spanner.Client(GCP_PROJECT_ID)\n",
        "instance = spanner_client.instance(SPANNER_INSTANCE_ID)\n",
        "database = instance.database(SPANNER_DATABASE_ID)\n",
        "\n",
        "\n",
        "def insert_values(transaction):\n",
        "    value1 = 0\n",
        "    for sub_list in spanner_embedding_values:\n",
        "        table_name = \"KgNode\"\n",
        "        col_name1 = \"docID\"\n",
        "        col_name2 = \"Name\"\n",
        "        col_name3 = \"Doc\"\n",
        "        col_name4 = \"DocEmbedding\"\n",
        "        value1 += 1\n",
        "        value2 = sub_list[2]\n",
        "        value3 = sub_list[1]\n",
        "        value4 = sub_list[0]\n",
        "        # print(col_name1, col_name2, col_name3, col_name4, value1, value2, value3, value4[:10])\n",
        "        row_ct1 = transaction.execute_update(\n",
        "            f\"INSERT INTO {table_name} ({col_name1}, {col_name2}, {col_name3}, {col_name4}) VALUES (@value1, @value2, @value3, @value4)\",\n",
        "            params={\n",
        "                \"value1\": value1,\n",
        "                \"value2\": value2,\n",
        "                \"value3\": value3,\n",
        "                \"value4\": value4,\n",
        "            },\n",
        "            param_types={\n",
        "                \"value1\": spanner.param_types.INT64,\n",
        "                \"value2\": spanner.param_types.STRING,\n",
        "                \"value3\": spanner.param_types.STRING,\n",
        "                \"value4\": spanner.param_types.Array(spanner.param_types.FLOAT64),\n",
        "            },\n",
        "        )  # Adjust types if needed\n",
        "\n",
        "        print(f\"{row_ct1} record(s) inserted.\")\n",
        "\n",
        "\n",
        "# print(insert_values)  # This just prints the function object, remove this line\n",
        "database.run_in_transaction(insert_values)"
      ]
    },
    {
      "cell_type": "markdown",
      "metadata": {
        "id": "ycefZwNfYTVK"
      },
      "source": [
        "#### Combine both semantic search and graph search. Ask the question again - correct answer!\n"
      ]
    },
    {
      "cell_type": "code",
      "execution_count": 19,
      "metadata": {
        "id": "nD6gyU1bd9pm"
      },
      "outputs": [
        {
          "name": "stdout",
          "output_type": "stream",
          "text": [
            "What businesses does Lawrence Edward Page invest in?\n"
          ]
        },
        {
          "data": {
            "application/vnd.google.colaboratory.intrinsic+json": {
              "type": "string"
            },
            "text/plain": [
              "'Lawrence Edward Page invests in Kitty Hawk and Opener.\\n'"
            ]
          },
          "execution_count": 19,
          "metadata": {},
          "output_type": "execute_result"
        }
      ],
      "source": [
        "import json\n",
        "\n",
        "import vertexai\n",
        "from vertexai.generative_models import GenerationConfig, GenerativeModel\n",
        "from vertexai.language_models import TextEmbeddingInput, TextEmbeddingModel\n",
        "\n",
        "QUESTION = \"What businesses does Larry Page invest in?\"  # @param {type:\"string\"}\n",
        "q_emb = get_embedding(QUESTION, TASK_TYPE, embedding_model)\n",
        "\n",
        "spanner_client = spanner.Client(GCP_PROJECT_ID)\n",
        "instance = spanner_client.instance(SPANNER_INSTANCE_ID)\n",
        "database = instance.database(SPANNER_DATABASE_ID)\n",
        "kgnodename = \"\"\n",
        "with database.snapshot() as snapshot:\n",
        "    results = snapshot.execute_sql(\n",
        "        \"\"\"SELECT DocId, NAME, Doc FROM KgNode ORDER BY COSINE_DISTANCE(DocEmbedding, @q_emb) limit 1\"\"\",\n",
        "        params={\"q_emb\": q_emb},\n",
        "        param_types={\n",
        "            \"q_emb\": spanner.param_types.Array(spanner.param_types.FLOAT64)\n",
        "        },  # Adjust FLOAT64 if needed\n",
        "    )\n",
        "    for row in results:\n",
        "        kgnodename = str(row[1])\n",
        "\n",
        "text_model = GenerativeModel(MODEL_NAME)\n",
        "user_prompt_content = (\n",
        "    \"Find and replace entities such as person's name, place, nationality in the following sentence \\n\"\n",
        "    + QUESTION\n",
        "    + \"with entities defined below \\n\"\n",
        "    + kgnodename\n",
        "    + \"\\n only replace matching person's name \\n output the best replacement in a string\"\n",
        ")\n",
        "# print (user_prompt_content)\n",
        "response = text_model.generate_content(\n",
        "    user_prompt_content,\n",
        "    generation_config=GenerationConfig(\n",
        "        temperature=0,\n",
        "        response_mime_type=\"application/json\",\n",
        "        response_schema={\n",
        "            \"type\": \"OBJECT\",\n",
        "            \"properties\": {\"sentence\": {\"type\": \"STRING\"}},\n",
        "        },\n",
        "    ),\n",
        ")\n",
        "response_content = json.loads(response.candidates[0].content.parts[0].text)[\"sentence\"]\n",
        "print(response_content)\n",
        "response = chain.invoke(\"query=\" + response_content)\n",
        "response[\"result\"]"
      ]
    },
    {
      "cell_type": "markdown",
      "metadata": {
        "id": "FBI5WJcgIYUM"
      },
      "source": [
        "## Agent Development Kit\n",
        "\n",
        "The [Agent Development Kit (ADK)](https://google.github.io/adk-docs/) is a flexible, modular framework for developing and deploying AI agents, designed to be model-agnostic, deployment-agnostic, and compatible with other frameworks, despite its optimization for Gemini and the Google ecosystem.\n"
      ]
    },
    {
      "cell_type": "code",
      "execution_count": 20,
      "metadata": {
        "id": "PizppsQqJN52"
      },
      "outputs": [],
      "source": [
        "import json\n",
        "import os\n",
        "\n",
        "from google.adk.agents import Agent\n",
        "from google.cloud import spanner\n",
        "from langchain_google_spanner import SpannerGraphStore\n",
        "import vertexai\n",
        "from vertexai.generative_models import (\n",
        "    GenerationConfig,\n",
        "    GenerativeModel,\n",
        ")\n",
        "from vertexai.language_models import TextEmbeddingInput, TextEmbeddingModel\n",
        "\n",
        "os.environ[\"GOOGLE_GENAI_USE_VERTEXAI\"] = \"1\"\n",
        "os.environ[\"GOOGLE_CLOUD_PROJECT\"] = GCP_PROJECT_ID\n",
        "os.environ[\"GOOGLE_CLOUD_LOCATION\"] = REGION"
      ]
    },
    {
      "cell_type": "markdown",
      "metadata": {
        "id": "5I_sVhDrLfO8"
      },
      "source": [
        "#### Create helper functions for function calling\n",
        "\n",
        "We will create a couple python functions for function calling for the agent. The first function is to generate embeddings of the user query. The second function is to query the Spanner database combining both semantic search and graph search."
      ]
    },
    {
      "cell_type": "code",
      "execution_count": 21,
      "metadata": {
        "id": "jcbBn4teLqVz"
      },
      "outputs": [],
      "source": [
        "def ask_graph(query: str) -> dict:\n",
        "    from google.cloud import spanner\n",
        "    from langchain_google_spanner import SpannerGraphQAChain, SpannerGraphStore\n",
        "    from langchain_google_vertexai import ChatVertexAI\n",
        "\n",
        "    GCP_PROJECT_ID = \"\"\n",
        "    REGION = \"us-central1\"\n",
        "    MODEL_NAME = \"gemini-2.0-flash-001\"\n",
        "    EMBEDDING_MODEL_NAME = \"text-embedding-004\"\n",
        "    TASK_TYPE = \"SEMANTIC_SIMILARITY\"\n",
        "    SPANNER_INSTANCE_ID = \"graphrag-instance\"\n",
        "    SPANNER_DATABASE_ID = \"graphrag\"\n",
        "    SPANNER_GRAPH_NAME = \"wikigraph\"\n",
        "\n",
        "    graph_store = SpannerGraphStore(\n",
        "        instance_id=SPANNER_INSTANCE_ID,\n",
        "        database_id=SPANNER_DATABASE_ID,\n",
        "        graph_name=SPANNER_GRAPH_NAME,\n",
        "    )\n",
        "\n",
        "    # Initialize llm object\n",
        "    llm = ChatVertexAI(model=MODEL_NAME, temperature=0)\n",
        "\n",
        "    # Initialize GraphQAChain\n",
        "    chain = SpannerGraphQAChain.from_llm(\n",
        "        llm,\n",
        "        graph=graph_store,\n",
        "        allow_dangerous_requests=True,\n",
        "        verbose=False,\n",
        "        return_intermediate_steps=True,\n",
        "    )\n",
        "\n",
        "    embedding_model = TextEmbeddingModel.from_pretrained(EMBEDDING_MODEL_NAME)\n",
        "    text_embedding_input = TextEmbeddingInput(task_type=TASK_TYPE, text=query)\n",
        "    q_emb = embedding_model.get_embeddings([text_embedding_input])[0].values\n",
        "    spanner_client = spanner.Client(GCP_PROJECT_ID)\n",
        "    instance = spanner_client.instance(SPANNER_INSTANCE_ID)\n",
        "    database = instance.database(SPANNER_DATABASE_ID)\n",
        "    kgnodename = \"\"\n",
        "    with database.snapshot() as snapshot:\n",
        "        results = snapshot.execute_sql(\n",
        "            \"\"\"SELECT DocId, NAME, Doc FROM KgNode ORDER BY COSINE_DISTANCE(DocEmbedding, @q_emb) limit 1\"\"\",\n",
        "            params={\"q_emb\": q_emb},\n",
        "            param_types={\n",
        "                \"q_emb\": spanner.param_types.Array(spanner.param_types.FLOAT64)\n",
        "            },  # Adjust FLOAT64 if needed\n",
        "        )\n",
        "        for row in results:\n",
        "            kgnodename = str(row[1])\n",
        "\n",
        "    text_model = GenerativeModel(MODEL_NAME)\n",
        "    user_prompt_content = (\n",
        "        \"Find and replace entities such as person's name, place, nationality in the following sentence \\n\"\n",
        "        + query\n",
        "        + \"with entities defined below \\n\"\n",
        "        + kgnodename\n",
        "        + \"\\n only replace matching person's name \\n output the best replacement in a string\"\n",
        "    )\n",
        "    response = text_model.generate_content(\n",
        "        user_prompt_content,\n",
        "        generation_config=GenerationConfig(\n",
        "            temperature=0,\n",
        "            response_mime_type=\"application/json\",\n",
        "            response_schema={\n",
        "                \"type\": \"OBJECT\",\n",
        "                \"properties\": {\"sentence\": {\"type\": \"STRING\"}},\n",
        "            },\n",
        "        ),\n",
        "    )\n",
        "    response_content = json.loads(response.candidates[0].content.parts[0].text)[\n",
        "        \"sentence\"\n",
        "    ]\n",
        "    response = chain.invoke(\"query=\" + response_content)\n",
        "    response[\"result\"]\n",
        "    return response[\"result\"]"
      ]
    },
    {
      "cell_type": "markdown",
      "metadata": {
        "id": "2O_mNmCLLvu1"
      },
      "source": [
        "#### Create an ADK Agent\n",
        "\n",
        "Using the Google Agent Development Kit, we will create an agent and give it high level instructions on how to interact with users. ADK does have [built in tools](https://google.github.io/adk-docs/tools/built-in-tools/#how-to-use) for leveraging Google Search, Code Execution and Vertex AI Search.  "
      ]
    },
    {
      "cell_type": "code",
      "execution_count": 22,
      "metadata": {
        "id": "M6KOhbcNL18b"
      },
      "outputs": [],
      "source": [
        "from google.adk.tools import agent_tool, google_search\n",
        "\n",
        "search_agent = Agent(\n",
        "    model=\"gemini-2.0-flash-001\",\n",
        "    name=\"SearchAgent\",\n",
        "    instruction=\"\"\"\n",
        "    You're a specialist in Google Search\n",
        "    \"\"\",\n",
        "    tools=[google_search],\n",
        ")\n",
        "\n",
        "root_agent = Agent(\n",
        "    name=\"graph_rag_agent\",\n",
        "    model=\"gemini-2.0-flash-001\",\n",
        "    description=(\n",
        "        \"Agent to answer questions from a graph database and google search if information not present in the database.\"\n",
        "    ),\n",
        "    instruction=(\n",
        "        \"\"\"You are a helpful information retrieval agent that can answer user's query from the\n",
        "        knowledge graph and do a broader search if you cant find answer in the graph database.\n",
        "          - After you get the user query, always check the graph database first.\n",
        "          - If the query can be answered from the graph, then call the ask_graph tool.\n",
        "          - If you are not able to find the answer in the graph, ask the user if they would like to do\n",
        "          a broader search.\n",
        "          - If the user says yes, then call the google_search tool.\n",
        "          - If the user says no, then ask them if there is anything else they would like to know.\n",
        "          - Always be courteous and dont assume anything.\n",
        "          - If you dont know an answer, please say I dont know the answer.\"\"\"\n",
        "    ),\n",
        "    tools=[agent_tool.AgentTool(agent=search_agent), ask_graph],\n",
        ")"
      ]
    },
    {
      "cell_type": "markdown",
      "metadata": {
        "id": "6r8KU3XXMCL2"
      },
      "source": [
        "#### Test the ADK Agent locally\n",
        "\n",
        "We will create a session for the agent to run in"
      ]
    },
    {
      "cell_type": "code",
      "execution_count": 23,
      "metadata": {
        "id": "0yq6gc5NMEUd"
      },
      "outputs": [],
      "source": [
        "from google.adk.agents import Agent\n",
        "from google.adk.runners import Runner\n",
        "from google.adk.sessions import InMemorySessionService\n",
        "from google.adk.tools import google_search\n",
        "from google.genai import types\n",
        "\n",
        "APP_NAME = \"google_search_agent\"\n",
        "USER_ID = \"user1234\"\n",
        "SESSION_ID = \"1234\"\n",
        "\n",
        "session_service = InMemorySessionService()\n",
        "session = session_service.create_session(\n",
        "    app_name=APP_NAME, user_id=USER_ID, session_id=SESSION_ID\n",
        ")\n",
        "runner = Runner(agent=root_agent, app_name=APP_NAME, session_service=session_service)\n",
        "\n",
        "# Agent Interaction\n",
        "\n",
        "\n",
        "def call_agent(query):\n",
        "    \"\"\"\n",
        "    Helper function to call the agent with a query.\n",
        "    \"\"\"\n",
        "    content = types.Content(role=\"user\", parts=[types.Part(text=query)])\n",
        "    events = runner.run(user_id=USER_ID, session_id=SESSION_ID, new_message=content)\n",
        "\n",
        "    for event in events:\n",
        "        if event.is_final_response():\n",
        "            final_response = event.content.parts[0].text\n",
        "            print(\"Agent Response: \", final_response)"
      ]
    },
    {
      "cell_type": "markdown",
      "metadata": {
        "id": "498mkJMSMLM3"
      },
      "source": [
        "Let's test out the agent"
      ]
    },
    {
      "cell_type": "code",
      "execution_count": 24,
      "metadata": {
        "id": "ImdPXhJTMN8X"
      },
      "outputs": [
        {
          "name": "stderr",
          "output_type": "stream",
          "text": [
            "WARNING:google_genai.types:Warning: there are non-text parts in the response: ['function_call'],returning concatenated text result from text parts,check out the non text parts for full response from model.\n"
          ]
        },
        {
          "name": "stdout",
          "output_type": "stream",
          "text": [
            "Agent Response:  Lawrence Edward Page invests in Kitty Hawk and Opener. Would you like me to do a broader search to see if he invests in any other businesses?\n",
            "\n"
          ]
        }
      ],
      "source": [
        "# Test your Agent\n",
        "call_agent(\"What businesses does Larry Page invest in?\")"
      ]
    },
    {
      "cell_type": "markdown",
      "metadata": {
        "id": "1cwr_UavM8-k"
      },
      "source": [
        "#### Google Search Grounding\n",
        "\n",
        "Currently, the agent retrieves answers from the Spanner-backed knowledge graph.  For queries beyond the knowledge graph's scope, we can augement it with Google Search."
      ]
    },
    {
      "cell_type": "code",
      "execution_count": 26,
      "metadata": {
        "id": "To-V-eLXMod7"
      },
      "outputs": [
        {
          "name": "stderr",
          "output_type": "stream",
          "text": [
            "WARNING:google_genai.types:Warning: there are non-text parts in the response: ['function_call'],returning concatenated text result from text parts,check out the non text parts for full response from model.\n"
          ]
        },
        {
          "name": "stdout",
          "output_type": "stream",
          "text": [
            "Agent Response:  Lawrence Edward Page did not invest in Deepseek. Would you like me to do a broader search to see if there is any information about this?\n",
            "\n"
          ]
        }
      ],
      "source": [
        "# Calling the agent with another question that cannot be answered from knowledge graph\n",
        "call_agent(\"Did Larry Page invest in Deepseek?\")"
      ]
    },
    {
      "cell_type": "code",
      "execution_count": 27,
      "metadata": {
        "id": "pEFgBw98Mw8M"
      },
      "outputs": [
        {
          "name": "stderr",
          "output_type": "stream",
          "text": [
            "WARNING:google_genai.types:Warning: there are non-text parts in the response: ['function_call'],returning concatenated text result from text parts,check out the non text parts for full response from model.\n"
          ]
        },
        {
          "name": "stdout",
          "output_type": "stream",
          "text": [
            "Agent Response:  Although there's no direct evidence that Larry Page has invested in DeepSeek, DeepSeek's AI models have impacted the stock market and, as a result, have indirectly affected the wealth of tech figures like Larry Page. Would you like me to provide you with more information?\n",
            "\n"
          ]
        }
      ],
      "source": [
        "# Answer yes to ask your agent to perform a Google Search\n",
        "call_agent(\"Yes\")"
      ]
    },
    {
      "cell_type": "markdown",
      "metadata": {
        "id": "dwHCEAJlNn3H"
      },
      "source": [
        "## Vertex AI Agent Engine\n",
        "\n",
        "The [Vertex AI Agent Engine](https://cloud.google.com/vertex-ai/generative-ai/docs/agent-engine/overview) is a fully managed Google Cloud service that enables developers to deploy, manage, and scale AI agents efficiently in production. By abstracting away infrastructure complexities, it allows development teams to focus entirely on creating intelligent and impactful agentic applications."
      ]
    },
    {
      "cell_type": "code",
      "execution_count": 28,
      "metadata": {
        "id": "DaLJ8uqGOtWt"
      },
      "outputs": [],
      "source": [
        "from vertexai.preview import reasoning_engines\n",
        "\n",
        "app = reasoning_engines.AdkApp(\n",
        "    agent=root_agent,\n",
        "    enable_tracing=True,\n",
        ")"
      ]
    },
    {
      "cell_type": "markdown",
      "metadata": {
        "id": "JfjX70JcTwUa"
      },
      "source": [
        "Let's test it again locally"
      ]
    },
    {
      "cell_type": "code",
      "execution_count": 29,
      "metadata": {
        "id": "XzeW49hISLF1"
      },
      "outputs": [
        {
          "name": "stderr",
          "output_type": "stream",
          "text": [
            "WARNING:google_genai.types:Warning: there are non-text parts in the response: ['function_call'],returning concatenated text result from text parts,check out the non text parts for full response from model.\n"
          ]
        },
        {
          "name": "stdout",
          "output_type": "stream",
          "text": [
            "{'content': {'parts': [{'function_call': {'id': 'adk-4a7274d7-65d9-4861-bccb-f4e816dfb792', 'args': {'query': 'What businesses does Larry Page invest in?'}, 'name': 'ask_graph'}}], 'role': 'model'}, 'invocation_id': 'e-0530bebf-d3d5-4b9a-ab4d-0b23a57593a3', 'author': 'graph_rag_agent', 'actions': {'state_delta': {}, 'artifact_delta': {}, 'requested_auth_configs': {}}, 'long_running_tool_ids': set(), 'id': 'Trb8qyRS', 'timestamp': 1747067830.149277}\n",
            "{'content': {'parts': [{'function_response': {'id': 'adk-4a7274d7-65d9-4861-bccb-f4e816dfb792', 'name': 'ask_graph', 'response': {'result': 'Lawrence Edward Page invests in Kitty Hawk and Opener.\\n'}}}], 'role': 'user'}, 'invocation_id': 'e-0530bebf-d3d5-4b9a-ab4d-0b23a57593a3', 'author': 'graph_rag_agent', 'actions': {'state_delta': {}, 'artifact_delta': {}, 'requested_auth_configs': {}}, 'id': '1z7a3pyJ', 'timestamp': 1747067836.319501}\n",
            "{'content': {'parts': [{'text': 'Lawrence Edward Page invests in Kitty Hawk and Opener. Would you like me to do a broader search to find other businesses he invests in?\\n'}], 'role': 'model'}, 'invocation_id': 'e-0530bebf-d3d5-4b9a-ab4d-0b23a57593a3', 'author': 'graph_rag_agent', 'actions': {'state_delta': {}, 'artifact_delta': {}, 'requested_auth_configs': {}}, 'id': 'XtJGNJ87', 'timestamp': 1747067836.321095}\n"
          ]
        }
      ],
      "source": [
        "for event in app.stream_query(\n",
        "    user_id=\"43\",\n",
        "    message=\"What businesses does Larry Page invest in?\",\n",
        "):\n",
        "    print(event)"
      ]
    },
    {
      "cell_type": "markdown",
      "metadata": {
        "id": "DzcrUKHfYRql"
      },
      "source": [
        "#### Deploy to Vertex AI Agent Engine\n",
        "\n",
        "Give service-PROJECT_NUMBER@gcp-sa-aiplatform-re.iam.gserviceaccount.com Cloud Spanner Database User role or Vertex AI Reasoning Engine will not have access to the Spanner database"
      ]
    },
    {
      "cell_type": "code",
      "execution_count": null,
      "metadata": {
        "id": "_n71HAPNYaoi"
      },
      "outputs": [],
      "source": [
        "!gcloud projects add-iam-policy-binding {GCP_PROJECT_ID} \\\n",
        "      --member='serviceAccount:service-{GCP_PROJECT_NUMBER}@gcp-sa-aiplatform-re.iam.gserviceaccount.com' \\\n",
        "      --role='roles/spanner.databaseUser'"
      ]
    },
    {
      "cell_type": "markdown",
      "metadata": {
        "id": "FtlUZjeYYcm7"
      },
      "source": [
        "Deploy the package"
      ]
    },
    {
      "cell_type": "code",
      "execution_count": null,
      "metadata": {
        "id": "6451BsttOvbo"
      },
      "outputs": [],
      "source": [
        "from vertexai import agent_engines\n",
        "\n",
        "STAGING_BUCKET = f\"gs://{GCP_PROJECT_ID}-vertexai-staging\"\n",
        "\n",
        "vertexai.init(\n",
        "    project=GCP_PROJECT_ID,\n",
        "    location=REGION,\n",
        "    staging_bucket=STAGING_BUCKET,\n",
        ")\n",
        "\n",
        "remote_app = agent_engines.create(\n",
        "    app,\n",
        "    requirements=[\n",
        "        \"google-cloud-aiplatform==1.91.0\",\n",
        "        \"google-adk==0.5.0 \",\n",
        "        \"google-cloud-spanner==3.48.0\",\n",
        "        \"langchain-google-spanner==0.8.2\",\n",
        "        \"langchain-google-vertexai==2.0.22\",\n",
        "        \"langchain-experimental==0.3.4\",\n",
        "    ],\n",
        ")\n",
        "#        \"cloudpickle==3.1.1\",\n",
        "#        \"pydantic==2.9.2\""
      ]
    },
    {
      "cell_type": "code",
      "execution_count": 31,
      "metadata": {
        "id": "yqtHrs8P3HG9"
      },
      "outputs": [
        {
          "name": "stdout",
          "output_type": "stream",
          "text": [
            "{'content': {'parts': [{'function_call': {'id': 'adk-527d88f2-6b8a-40f3-b9dd-50b477f92339', 'args': {'query': 'What businesses does Larry Page invest in?'}, 'name': 'ask_graph'}}], 'role': 'model'}, 'invocation_id': 'e-17225639-2f06-4fce-95ae-06603a4a4a05', 'author': 'graph_rag_agent', 'actions': {'state_delta': {}, 'artifact_delta': {}, 'requested_auth_configs': {}}, 'long_running_tool_ids': [], 'id': 'g76zfd1M', 'timestamp': 1747068089.968902}\n",
            "{'content': {'parts': [{'function_response': {'id': 'adk-527d88f2-6b8a-40f3-b9dd-50b477f92339', 'name': 'ask_graph', 'response': {'result': 'Lawrence Edward Page invests in Kitty Hawk and Opener.\\n'}}}], 'role': 'user'}, 'invocation_id': 'e-17225639-2f06-4fce-95ae-06603a4a4a05', 'author': 'graph_rag_agent', 'actions': {'state_delta': {}, 'artifact_delta': {}, 'requested_auth_configs': {}}, 'id': 'QLwNY9jQ', 'timestamp': 1747068097.19637}\n",
            "{'content': {'parts': [{'text': 'Lawrence Edward Page invests in Kitty Hawk and Opener. Would you like me to perform a broader search to look for other businesses he may have invested in?\\n'}], 'role': 'model'}, 'invocation_id': 'e-17225639-2f06-4fce-95ae-06603a4a4a05', 'author': 'graph_rag_agent', 'actions': {'state_delta': {}, 'artifact_delta': {}, 'requested_auth_configs': {}}, 'id': 'dACMoPCP', 'timestamp': 1747068097.268164}\n"
          ]
        }
      ],
      "source": [
        "# remote_app = vertexai.agent_engines.get('agent_engine_uri')\n",
        "for event in remote_app.stream_query(\n",
        "    user_id=\"43\",\n",
        "    message=\"What businesses does Larry Page invest in?\",\n",
        "):\n",
        "    print(event)"
      ]
    },
    {
      "cell_type": "markdown",
      "metadata": {
        "id": "QbjhQtdcPEAD"
      },
      "source": [
        "Because we enabled [Tracing](https://cloud.google.com/trace/docs/overview) in Vertex AI Agent Engine, we can leverage it for troublshooting and monitoring."
      ]
    },
    {
      "cell_type": "markdown",
      "metadata": {
        "id": "hbOxV-FdPe00"
      },
      "source": [
        "![Screenshot 2025-05-12 at 12.02.39 PM.png](data:image/png;base64,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)"
      ]
    },
    {
      "cell_type": "markdown",
      "metadata": {
        "id": "vaY6vhFE9egF"
      },
      "source": [
        "## Clean Up\n",
        "\n",
        "*   Delete the Spanner instance\n",
        "*   Delete the Vertex AI Agent Engine instance"
      ]
    },
    {
      "cell_type": "code",
      "execution_count": null,
      "metadata": {
        "id": "Qb4FcKf9dS-d"
      },
      "outputs": [],
      "source": [
        "!gcloud spanner instances delete {SPANNER_INSTANCE_ID} --quiet"
      ]
    },
    {
      "cell_type": "code",
      "execution_count": null,
      "metadata": {
        "id": "HCOr8HuJ1p7S"
      },
      "outputs": [],
      "source": [
        "remote_app.delete(force=True)"
      ]
    },
    {
      "cell_type": "markdown",
      "metadata": {
        "id": "IKFKrjkud9pn"
      },
      "source": [
        "## What's next\n",
        "\n",
        "* Dive deeper into [LangChain with Spanner](https://github.com/googleapis/langchain-google-spanner-python/tree/main).\n",
        "* Learn more about [Spanner](https://cloud.google.com/spanner/docs/getting-started/python).\n",
        "* Explore other [Spanner Graph Notebooks](https://github.com/cloudspannerecosystem/spanner-graph-notebook/blob/main/README.md).\n",
        "* Learn more about [Vertex AI Engine](https://cloud.google.com/vertex-ai/generative-ai/docs/agent-engine/overview).\n",
        "* Learn more about [Agent Development Kit](https://google.github.io/adk-docs/)."
      ]
    }
  ],
  "metadata": {
    "colab": {
      "collapsed_sections": [
        "tC8nObmLw9P0",
        "zTa3RFWesfsL",
        "DoK1gW9dsRxB",
        "Axb7c8Y1YmQ8",
        "QHXfcXadd9pl",
        "4OVOZZ1Ld9pm",
        "IKFKrjkud9pn"
      ],
      "name": "graph_rag_spanner_sdk_adk.ipynb",
      "toc_visible": true
    },
    "kernelspec": {
      "display_name": "Python 3",
      "name": "python3"
    }
  },
  "nbformat": 4,
  "nbformat_minor": 0
}
