{
  "cells": [
    {
      "cell_type": "code",
      "execution_count": null,
      "metadata": {
        "id": "ijGzTHJJUCPY"
      },
      "outputs": [],
      "source": [
        "# Copyright 2024 Google LLC\n",
        "#\n",
        "# Licensed under the Apache License, Version 2.0 (the \"License\");\n",
        "# you may not use this file except in compliance with the License.\n",
        "# You may obtain a copy of the License at\n",
        "#\n",
        "#     https://www.apache.org/licenses/LICENSE-2.0\n",
        "#\n",
        "# Unless required by applicable law or agreed to in writing, software\n",
        "# distributed under the License is distributed on an \"AS IS\" BASIS,\n",
        "# WITHOUT WARRANTIES OR CONDITIONS OF ANY KIND, either express or implied.\n",
        "# See the License for the specific language governing permissions and\n",
        "# limitations under the License."
      ]
    },
    {
      "cell_type": "markdown",
      "metadata": {
        "id": "VEqbX8OhE8y9"
      },
      "source": [
        "# Sheet Music Analysis with Gemini\n",
        "\n",
        "<table align=\"left\">\n",
        "  <td style=\"text-align: center\">\n",
        "    <a href=\"https://colab.research.google.com/github/GoogleCloudPlatform/generative-ai/blob/main/gemini/use-cases/document-processing/sheet_music.ipynb\">\n",
        "      <img src=\"https://cloud.google.com/ml-engine/images/colab-logo-32px.png\" alt=\"Google Colaboratory logo\"><br> Run in Colab\n",
        "    </a>\n",
        "  </td>\n",
        "  <td style=\"text-align: center\">\n",
        "    <a href=\"https://console.cloud.google.com/vertex-ai/colab/import/https:%2F%2Fraw.githubusercontent.com%2FGoogleCloudPlatform%2Fgenerative-ai%2Fmain%2Fgemini%2Fuse-cases%2Fdocument-processing%2Fsheet_music.ipynb\">\n",
        "      <img width=\"32px\" src=\"https://lh3.googleusercontent.com/JmcxdQi-qOpctIvWKgPtrzZdJJK-J3sWE1RsfjZNwshCFgE_9fULcNpuXYTilIR2hjwN\" alt=\"Google Cloud Colab Enterprise logo\"><br> Run in Colab Enterprise\n",
        "    </a>\n",
        "  </td>       \n",
        "  <td style=\"text-align: center\">\n",
        "    <a href=\"https://github.com/GoogleCloudPlatform/generative-ai/blob/main/gemini/use-cases/document-processing/sheet_music.ipynb\">\n",
        "      <img src=\"https://cloud.google.com/ml-engine/images/github-logo-32px.png\" alt=\"GitHub logo\"><br> View on GitHub\n",
        "    </a>\n",
        "  </td>\n",
        "  <td style=\"text-align: center\">\n",
        "    <a href=\"https://console.cloud.google.com/vertex-ai/workbench/deploy-notebook?download_url=https://raw.githubusercontent.com/GoogleCloudPlatform/generative-ai/main/gemini/use-cases/document-processing/sheet_music.ipynb\">\n",
        "      <img src=\"https://lh3.googleusercontent.com/UiNooY4LUgW_oTvpsNhPpQzsstV5W8F7rYgxgGBD85cWJoLmrOzhVs_ksK_vgx40SHs7jCqkTkCk=e14-rj-sc0xffffff-h130-w32\" alt=\"Vertex AI logo\"><br> Open in Vertex AI Workbench\n",
        "    </a>\n",
        "  </td>\n",
        "</table>\n",
        "\n",
        "<div style=\"clear: both;\"></div>\n",
        "\n",
        "<b>Share to:</b>\n",
        "\n",
        "<a href=\"https://www.linkedin.com/sharing/share-offsite/?url=https%3A//github.com/GoogleCloudPlatform/generative-ai/blob/main/gemini/use-cases/document-processing/sheet_music.ipynb\" target=\"_blank\">\n",
        "  <img width=\"20px\" src=\"https://upload.wikimedia.org/wikipedia/commons/8/81/LinkedIn_icon.svg\" alt=\"LinkedIn logo\">\n",
        "</a>\n",
        "\n",
        "<a href=\"https://bsky.app/intent/compose?text=https%3A//github.com/GoogleCloudPlatform/generative-ai/blob/main/gemini/use-cases/document-processing/sheet_music.ipynb\" target=\"_blank\">\n",
        "  <img width=\"20px\" src=\"https://upload.wikimedia.org/wikipedia/commons/7/7a/Bluesky_Logo.svg\" alt=\"Bluesky logo\">\n",
        "</a>\n",
        "\n",
        "<a href=\"https://twitter.com/intent/tweet?url=https%3A//github.com/GoogleCloudPlatform/generative-ai/blob/main/gemini/use-cases/document-processing/sheet_music.ipynb\" target=\"_blank\">\n",
        "  <img width=\"20px\" src=\"https://upload.wikimedia.org/wikipedia/commons/5/53/X_logo_2023_original.svg\" alt=\"X logo\">\n",
        "</a>\n",
        "\n",
        "<a href=\"https://reddit.com/submit?url=https%3A//github.com/GoogleCloudPlatform/generative-ai/blob/main/gemini/use-cases/document-processing/sheet_music.ipynb\" target=\"_blank\">\n",
        "  <img width=\"20px\" src=\"https://redditinc.com/hubfs/Reddit%20Inc/Brand/Reddit_Logo.png\" alt=\"Reddit logo\">\n",
        "</a>\n",
        "\n",
        "<a href=\"https://www.facebook.com/sharer/sharer.php?u=https%3A//github.com/GoogleCloudPlatform/generative-ai/blob/main/gemini/use-cases/document-processing/sheet_music.ipynb\" target=\"_blank\">\n",
        "  <img width=\"20px\" src=\"https://upload.wikimedia.org/wikipedia/commons/5/51/Facebook_f_logo_%282019%29.svg\" alt=\"Facebook logo\">\n",
        "</a>            \n"
      ]
    },
    {
      "cell_type": "markdown",
      "metadata": {
        "id": "5ad877ea09dd"
      },
      "source": [
        "| | |\n",
        "|-|-|\n",
        "|Author(s) | [Holt Skinner](https://github.com/holtskinner) |"
      ]
    },
    {
      "cell_type": "markdown",
      "metadata": {
        "id": "CkHPv2myT2cx"
      },
      "source": [
        "## Overview\n",
        "\n",
        "[Sheet Music](https://en.wikipedia.org/wiki/Sheet_music) is the primary form of music notation used by composers and performers across the world. These pages contain information about the lyrics, pitches, rhythms, composer, text author, composition date, among others.\n",
        "\n",
        "This notebook illustrates using Gemini to extract this metadata from sheet music PDFs.\n",
        "\n",
        "These prompts and documents were demonstrated in the [Google Cloud Next 2024 session \"What's next with Gemini: Driving business impact with multimodal use cases\"](https://www.youtube.com/watch?v=DqH1R9Pk5RI).\n"
      ]
    },
    {
      "cell_type": "markdown",
      "metadata": {
        "id": "r11Gu7qNgx1p"
      },
      "source": [
        "## Getting Started\n"
      ]
    },
    {
      "cell_type": "markdown",
      "metadata": {
        "id": "No17Cw5hgx12"
      },
      "source": [
        "### Install Vertex AI SDK for Python"
      ]
    },
    {
      "cell_type": "code",
      "execution_count": null,
      "metadata": {
        "id": "tFy3H3aPgx12"
      },
      "outputs": [],
      "source": [
        "%pip install --upgrade --user -q google-cloud-aiplatform PyPDF2"
      ]
    },
    {
      "cell_type": "markdown",
      "metadata": {
        "id": "R5Xep4W9lq-Z"
      },
      "source": [
        "### Restart current runtime\n",
        "\n",
        "To use the newly installed packages in this Jupyter runtime, you must restart the runtime. You can do this by running the cell below, which will restart the current kernel."
      ]
    },
    {
      "cell_type": "code",
      "execution_count": null,
      "metadata": {
        "id": "XRvKdaPDTznN"
      },
      "outputs": [],
      "source": [
        "# Restart kernel after installs so that your environment can access the new packages\n",
        "import IPython\n",
        "\n",
        "app = IPython.Application.instance()\n",
        "app.kernel.do_shutdown(True)"
      ]
    },
    {
      "cell_type": "markdown",
      "metadata": {
        "id": "SbmM4z7FOBpM"
      },
      "source": [
        "<div class=\"alert alert-block alert-warning\">\n",
        "<b>⚠️ The kernel is going to restart. Please wait until it is finished before continuing to the next step. ⚠️</b>\n",
        "</div>\n"
      ]
    },
    {
      "cell_type": "markdown",
      "metadata": {
        "id": "dmWOrTJ3gx13"
      },
      "source": [
        "### Authenticate your notebook environment (Colab only)\n",
        "\n",
        "If you are running this notebook on Google Colab, run the following cell to authenticate your environment. This step is not required if you are using [Vertex AI Workbench](https://cloud.google.com/vertex-ai-workbench).\n"
      ]
    },
    {
      "cell_type": "code",
      "execution_count": null,
      "metadata": {
        "id": "NyKGtVQjgx13"
      },
      "outputs": [],
      "source": [
        "import sys\n",
        "\n",
        "# Additional authentication is required for Google Colab\n",
        "if \"google.colab\" in sys.modules:\n",
        "    # Authenticate user to Google Cloud\n",
        "    from google.colab import auth\n",
        "\n",
        "    auth.authenticate_user()"
      ]
    },
    {
      "cell_type": "markdown",
      "metadata": {
        "id": "DF4l8DTdWgPY"
      },
      "source": [
        "### Set Google Cloud project information and initialize Vertex AI SDK\n",
        "\n",
        "To get started using Vertex AI, you must have an existing Google Cloud project and [enable the Vertex AI API](https://console.cloud.google.com/flows/enableapi?apiid=aiplatform.googleapis.com).\n",
        "\n",
        "Learn more about [setting up a project and a development environment](https://cloud.google.com/vertex-ai/docs/start/cloud-environment)."
      ]
    },
    {
      "cell_type": "code",
      "execution_count": 2,
      "metadata": {
        "id": "Nqwi-5ufWp_B"
      },
      "outputs": [],
      "source": [
        "# Define project information\n",
        "PROJECT_ID = \"YOUR_PROJECT_ID\"  # @param {type:\"string\"}\n",
        "LOCATION = \"us-central1\"  # @param {type:\"string\"}\n",
        "\n",
        "# Initialize Vertex AI\n",
        "import vertexai\n",
        "\n",
        "vertexai.init(project=PROJECT_ID, location=LOCATION)"
      ]
    },
    {
      "cell_type": "markdown",
      "metadata": {
        "id": "jXHfaVS66_01"
      },
      "source": [
        "### Import libraries\n"
      ]
    },
    {
      "cell_type": "code",
      "execution_count": 4,
      "metadata": {
        "id": "lslYAvw37JGQ"
      },
      "outputs": [],
      "source": [
        "import json\n",
        "\n",
        "from IPython.display import Markdown, display\n",
        "import PyPDF2\n",
        "from vertexai.generative_models import (\n",
        "    GenerationConfig,\n",
        "    GenerativeModel,\n",
        "    HarmBlockThreshold,\n",
        "    HarmCategory,\n",
        "    Part,\n",
        ")"
      ]
    },
    {
      "cell_type": "markdown",
      "metadata": {
        "id": "FTMywdzUORIA"
      },
      "source": [
        "### Load the Gemini 1.5 Flash model\n",
        "\n",
        "Gemini 1.5 Flash (`gemini-1.5-flash`) is a multimodal model that supports multimodal prompts. You can include text, image(s), PDFs, audio, and video in your prompt requests and get text or code responses."
      ]
    },
    {
      "cell_type": "code",
      "execution_count": 13,
      "metadata": {
        "id": "lRyTw2iPhEXG"
      },
      "outputs": [],
      "source": [
        "generation_config = GenerationConfig(temperature=1.0, max_output_tokens=8192)\n",
        "safety_settings = {\n",
        "    HarmCategory.HARM_CATEGORY_DANGEROUS_CONTENT: HarmBlockThreshold.BLOCK_ONLY_HIGH\n",
        "}\n",
        "model = GenerativeModel(\n",
        "    model_name=\"gemini-1.5-flash\",\n",
        "    system_instruction=\"You are an expert in musicology and music history.\",\n",
        "    generation_config=generation_config,\n",
        "    safety_settings=safety_settings,\n",
        ")"
      ]
    },
    {
      "cell_type": "markdown",
      "metadata": {
        "id": "Wy75sLb-yjNn"
      },
      "source": [
        "## Extract Structured Metadata from Sheet Music PDF\n",
        "\n",
        "For this example, we will be using the popular classical music book [24 Italian Songs and Arias of the 17th and 18th Centuries](https://imslp.org/wiki/24_Italian_Songs_and_Arias_of_the_17th_and_18th_Centuries_(Various)), and extracting metadata about each song in the book."
      ]
    },
    {
      "cell_type": "code",
      "execution_count": 14,
      "metadata": {
        "id": "0ed417af1e5c"
      },
      "outputs": [
        {
          "data": {
            "text/markdown": [
              "## **Twenty-Four Italian Songs and Arias of the Seventeenth and Eighteenth Centuries**\n",
              "\n",
              "**1. Per la gloria d'adorarvi**\n",
              "* **Title:** Per la gloria d'adorarvi (For the love my heart doth prize) \n",
              "* **Composer:** Giovanni Battista Bononcini (1670-1750)\n",
              "* **Tempo Marking:** Andante, d=80\n",
              "* **Composition Year:** c. 1715\n",
              "* **Description:** An aria from the opera \"Griselda,\" the piece expresses the speaker's longing and heartbreak, contrasting the idea of love with the pain it brings.\n",
              "\n",
              "**2. Amarilli, mia bella**\n",
              "* **Title:** Amarilli, mia bella (Amarilli, my fair one)\n",
              "* **Composer:** Giulio Caccini (1545-1618)\n",
              "* **Tempo Marking:** Moderato affettuoso, d=66\n",
              "* **Composition Year:** c. 1600\n",
              "* **Description:** This piece is a madrigal that expresses a passionate and heartfelt love for the beloved Amarilli, the melody is characterized by smooth and flowing lines, often accompanied by a gentle harmonic progression. \n",
              "\n",
              "**3. Alma del core**\n",
              "* **Title:** Alma del core (Fairest adored) \n",
              "* **Composer:** Antonio Caldara (1670-1736)\n",
              "* **Tempo Marking:** Tempo di Minuetto\n",
              "* **Composition Year:** c. 1700 \n",
              "* **Description:** An aria, the piece describes the speaker's deep admiration for the beloved, showcasing a lyrical melody and a clear harmonic structure.\n",
              "\n",
              "**4. Come raggio di sol**\n",
              "* **Title:** Come raggio di sol (As on the swelling wave) \n",
              "* **Composer:** Antonio Caldara (1670-1736)\n",
              "* **Tempo Marking:** Sostenuto, d=56\n",
              "* **Composition Year:** c. 1700\n",
              "* **Description:** A flowing aria in which the speaker compares the beloved's beauty to the gentle, uplifting movement of waves. \n",
              "\n",
              "**5. Sebben, crudele**\n",
              "* **Title:** Sebben, crudele (Th' not deserving)\n",
              "* **Composer:** Antonio Caldara (1670-1736)\n",
              "* **Tempo Marking:** Allegretto grazioso, d=54\n",
              "* **Composition Year:** c. 1700\n",
              "* **Description:** A canzonetta that expresses a sorrowful plea to a cruel love, with a more dramatic and passionate melody.\n",
              "\n",
              "**6. Vittoria, mio core!**\n",
              "* **Title:** Vittoria, mio core! (Victorious my heart is!)\n",
              "* **Composer:** Giacomo Carissimi (1605-1674)\n",
              "* **Tempo Marking:** Allegro con brio, d=168\n",
              "* **Composition Year:** c. 1650\n",
              "* **Description:** A cantata that celebrates the triumph of love and the joy of the heart, featuring a powerful and energetic melody.\n",
              "\n",
              "**7. Danza, danza, fanciulla gentile**\n",
              "* **Title:** Danza, danza, fanciulla gentile (Dance, O dance, maiden gay)\n",
              "* **Composer:** Francesco Durante (1684-1755)\n",
              "* **Tempo Marking:** Allegro con spirito, d=138\n",
              "* **Composition Year:** c. 1720\n",
              "* **Description:** A playful arietta that captures the joy and spirit of dancing with its lively melody.\n",
              "\n",
              "**8. Vergin, tutto amor**\n",
              "* **Title:** Vergin, tutto amor (Virgin, fount of love)\n",
              "* **Composer:** Francesco Durante (1684-1755)\n",
              "* **Tempo Marking:** Largo religioso, d=40\n",
              "* **Composition Year:** c. 1730\n",
              "* **Description:** This aria expresses a heartfelt prayer to the Virgin Mary, with a solemn and devotional melody.\n",
              "\n",
              "**9. Caro mio ben**\n",
              "* **Title:** Caro mio ben (Thou, all my bliss)\n",
              "* **Composer:** Giuseppe  Giordani (Giordano) (1744-1798)\n",
              "* **Tempo Marking:** Larghetto, d=60\n",
              "* **Composition Year:** c. 1780\n",
              "* **Description:** A light and charming arietta, showcasing the speaker's overwhelming love for their beloved.\n",
              "\n",
              "**10. O del mio dolce ardor**\n",
              "* **Title:** O del mio dolce ardor (O thou belov'd)\n",
              "* **Composer:** Christoph Willibald von Gluck (1714-1787)\n",
              "* **Tempo Marking:** Moderato, d=48\n",
              "* **Composition Year:** c. 1760\n",
              "* **Description:** An aria that expresses a longing and adoration for the beloved, featuring a simple but deeply moving melody.\n",
              "\n",
              "**11. Che fiero costume**\n",
              "* **Title:** Che fiero costume (How void of compassion)\n",
              "* **Composer:** Giovanni Legrenzi (1626-1690)\n",
              "* **Tempo Marking:** Allegretto con moto, d=58\n",
              "* **Composition Year:** c. 1680\n",
              "* **Description:** An arietta that laments the cruelty of fate, featuring a dramatic and contrasting melody.\n",
              "\n",
              "**12. Pur dicesti, o bocca bella**\n",
              "* **Title:** Pur dicesti, o bocca bella (Mouth so charmful)\n",
              "* **Composer:** Antonio Lotti (1667-1740)\n",
              "* **Tempo Marking:** Allegretto grazioso, d=69\n",
              "* **Composition Year:** c. 1710\n",
              "* **Description:** A charming arietta that marvels at the beauty of the beloved's voice, featuring a sweet and flowing melody.\n",
              "\n",
              "**13. Il mio bel foco**\n",
              "* **Title:** Il mio bel foco (My joyful ardor)\n",
              "* **Composer:** Benedetto Marcello (1686-1739)\n",
              "* **Tempo Marking:** Recitativo ed Aria\n",
              "* **Composition Year:** c. 1720\n",
              "* **Description:** This piece features a recitative followed by an aria, the music expresses the speaker's unwavering devotion and love, with both a spoken recitative section and a lyrical aria.\n",
              "\n",
              "**14. Lasciatemi morire!**\n",
              "* **Title:** Lasciatemi morire! (No longer let me languish)\n",
              "* **Composer:** Claudio Monteverdi (1567-1643)\n",
              "* **Tempo Marking:** Lento, d=48\n",
              "* **Composition Year:** c. 1610\n",
              "* **Description:** An aria from the opera \"Ariana,\" the music reflects the speaker's sorrow and despair, with a slow and somber melody.\n",
              "\n",
              "**15. Nel cor più non mi sento**\n",
              "* **Title:** Nel cor più non mi sento (Why feels my heart so dormant)\n",
              "* **Composer:** Giovanni Paisiello (1740-1816)\n",
              "* **Tempo Marking:** Andantino, d=58\n",
              "* **Composition Year:** c. 1770\n",
              "* **Description:** An arietta that describes a state of melancholy and detachment, showcasing a melancholic melody.\n",
              "\n",
              "**16. Se tu m'ami, se sospiri**\n",
              "* **Title:** Se tu m'ami, se sospiri (If thou lovest me)\n",
              "* **Composer:** Giovanni Battista Pergolesi (1710-1736)\n",
              "* **Tempo Marking:** Andantino, d=58\n",
              "* **Composition Year:** c. 1730\n",
              "* **Description:** This piece is attributed to Pergolesi but was actually composed by Lorenzo Vincenzo Ciampi, a charming arietta that expresses the speaker's longing and desire to be loved.\n",
              "\n",
              "**17. Gia il sole dal Gange**\n",
              "* **Title:** Gia il sole dal Gange (O'er Ganges now launches)\n",
              "* **Composer:** Alessandro Scarlatti (1659-1725)\n",
              "* **Tempo Marking:** Allegro giusto, d=138\n",
              "* **Composition Year:** c. 1710\n",
              "* **Description:** A canzonetta, the music paints a vivid picture of a beautiful sunrise, featuring a vibrant and flowing melody.\n",
              "\n",
              "**18. Le Violette**\n",
              "* **Title:** Le Violette (The Violets)\n",
              "* **Composer:** Alessandro Scarlatti (1659-1725)\n",
              "* **Tempo Marking:** Allegretto \n",
              "* **Composition Year:** c. 1710\n",
              "* **Description:** A canzone that celebrates the beauty of violets, showcasing a gentle and lyrical melody.\n",
              "\n",
              "**19. O cessate di piagarmi**\n",
              "* **Title:** O cessate di piagarmi (O no longer seek to pain me)\n",
              "* **Composer:** Alessandro Scarlatti (1659-1725)\n",
              "* **Tempo Marking:** Andante con moto, d=80\n",
              "* **Composition Year:** c. 1710\n",
              "* **Description:** A powerful arietta that pleads for mercy, featuring a dramatic and passionate melody.\n",
              "\n",
              "**20. Se Florindo è fedele**\n",
              "* **Title:** Se Florindo è fedele (Should Florindo be faithful) \n",
              "* **Composer:** Alessandro Scarlatti (1659-1725)\n",
              "* **Tempo Marking:** Allegretto grazioso, moderato assai, d=132\n",
              "* **Composition Year:** c. 1710\n",
              "* **Description:** A charming arietta that expresses the speaker's hopes for a faithful love, featuring a light and playful melody.\n",
              "\n",
              "**21. Pietà, Signore!**\n",
              "* **Title:** Pietà, Signore! (O Lord, have mercy)\n",
              "* **Composer:** Alessandro Stradella (1639-1682)\n",
              "* **Tempo Marking:** Andantino\n",
              "* **Composition Year:** c. 1670\n",
              "* **Description:** A heartfelt plea for mercy, showcasing a dramatic and expressive melody.\n",
              "\n",
              "**22. Tu lo sai**\n",
              "* **Title:** Tu lo sai (Ask thy heart)\n",
              "* **Composer:** Giuseppe Torelli (1658-1709)\n",
              "* **Tempo Marking:** Andantino\n",
              "* **Composition Year:** c. 1690\n",
              "* **Description:** This arietta features a gentle and reflective melody, expressing a yearning for love and understanding."
            ],
            "text/plain": [
              "<IPython.core.display.Markdown object>"
            ]
          },
          "metadata": {},
          "output_type": "display_data"
        }
      ],
      "source": [
        "sheet_music_pdf_uri = \"gs://github-repo/use-cases/sheet-music/24ItalianSongs.pdf\"\n",
        "\n",
        "sheet_music_extraction_prompt = \"\"\"The following document is a book of sheet music. Your task is to output structured metadata about every piece of music in the document. Correct any mistakes that are in the document and fill in missing information when not present in the document.\n",
        "\n",
        "Include the following details:\n",
        "\n",
        "Title\n",
        "Composer with lifetime\n",
        "Tempo Marking\n",
        "Composition Year\n",
        "A description of the piece\n",
        "\"\"\"\n",
        "\n",
        "# Load file directly from Google Cloud Storage\n",
        "file_part = Part.from_uri(\n",
        "    uri=sheet_music_pdf_uri,\n",
        "    mime_type=\"application/pdf\",\n",
        ")\n",
        "\n",
        "# Send to Gemini\n",
        "response = model.generate_content([sheet_music_extraction_prompt, file_part])\n",
        "\n",
        "# Display results\n",
        "display(Markdown(response.text))"
      ]
    },
    {
      "cell_type": "markdown",
      "metadata": {
        "id": "29b40b5e0cb0"
      },
      "source": [
        "You can see that Gemini extracted all of the relevant fields from the document."
      ]
    },
    {
      "cell_type": "markdown",
      "metadata": {
        "id": "db3765c7645d"
      },
      "source": [
        "### Song Identification with Audio\n",
        "\n",
        "Now, let's try something more challenging, identifying a song being performed based on the sheet music. We have an audio clip of Holt Skinner performing one of the songs in the book, and we will ask Gemini to identify it based on the sheet music PDF."
      ]
    },
    {
      "cell_type": "code",
      "execution_count": 15,
      "metadata": {
        "id": "61ea3f2f1c4a"
      },
      "outputs": [
        {
          "data": {
            "text/markdown": [
              "The song is \"Sebben, crudele\" by Antonio Caldara. The sheet music begins with the title \"Sebben, crudele\" and then continues with the beginning lines of the song. \n"
            ],
            "text/plain": [
              "<IPython.core.display.Markdown object>"
            ]
          },
          "metadata": {},
          "output_type": "display_data"
        }
      ],
      "source": [
        "song_identification_prompt = \"\"\"Based on the sheet music PDF, what song is in the audio clip? Explain how you made the decision.\"\"\"\n",
        "\n",
        "# Load PDF file\n",
        "pdf_part = Part.from_uri(\n",
        "    uri=sheet_music_pdf_uri,\n",
        "    mime_type=\"application/pdf\",\n",
        ")\n",
        "\n",
        "audio_part = Part.from_uri(\n",
        "    uri=\"gs://github-repo/use-cases/sheet-music/24ItalianClip.mp3\",\n",
        "    mime_type=\"audio/mpeg\",\n",
        ")\n",
        "\n",
        "# Send to Gemini\n",
        "response = model.generate_content([pdf_part, audio_part, song_identification_prompt])\n",
        "\n",
        "# Display results\n",
        "display(Markdown(response.text))"
      ]
    },
    {
      "cell_type": "markdown",
      "metadata": {
        "id": "9730e8a5628b"
      },
      "source": [
        "### Edit PDF Metadata\n",
        "\n",
        "Next, we'll use the output from Gemini to edit the metadata of a PDF containing one song, which can make it easier to organize this file in sheet music applications.\n",
        "\n",
        "We'll adjust the prompt slightly and set the [`response_mime_type`](https://cloud.google.com/vertex-ai/generative-ai/docs/model-reference/gemini#:~:text=in%20the%20list.-,responseMimeType,-(Preview)) to get the response in JSON format."
      ]
    },
    {
      "cell_type": "code",
      "execution_count": 10,
      "metadata": {
        "id": "97e2a06cc762"
      },
      "outputs": [
        {
          "data": {
            "text/markdown": [
              "{\"/Title\": \"Sebben, crudele\", \"/Author\": \"Antonio Caldara\", \"/Subject\": \"Canzonetta, Aria\"}\n"
            ],
            "text/plain": [
              "<IPython.core.display.Markdown object>"
            ]
          },
          "metadata": {},
          "output_type": "display_data"
        }
      ],
      "source": [
        "sheet_music_pdf_uri = \"gs://github-repo/use-cases/sheet-music/SebbenCrudele.pdf\"\n",
        "\n",
        "sheet_music_extraction_prompt = \"\"\"The following document is a piece of sheet music. Your task is to output structured metadata about the piece of music in the document. Correct any mistakes that are in the document and fill in missing information when not present in the document.\n",
        "\n",
        "Output the data in the following JSON format:\n",
        "\n",
        "{\n",
        "    \"/Title\": \"Title of the piece\",\n",
        "    \"/Author\": \"Composer(s) of the piece\",\n",
        "    \"/Subject\": \"Music Genre(s) in a comma separated list\",\n",
        "}\n",
        "\n",
        "\"\"\"\n",
        "\n",
        "# Load file directly from Google Cloud Storage\n",
        "file_part = Part.from_uri(\n",
        "    uri=sheet_music_pdf_uri,\n",
        "    mime_type=\"application/pdf\",\n",
        ")\n",
        "\n",
        "generation_config = GenerationConfig(\n",
        "    temperature=1, response_mime_type=\"application/json\"\n",
        ")\n",
        "\n",
        "# Send to Gemini\n",
        "response = model.generate_content(\n",
        "    [sheet_music_extraction_prompt, file_part], generation_config=generation_config\n",
        ")\n",
        "\n",
        "# Display results\n",
        "display(Markdown(response.text))\n",
        "\n",
        "new_metadata = json.loads(response.text)"
      ]
    },
    {
      "cell_type": "markdown",
      "metadata": {
        "id": "8e997cb6affc"
      },
      "source": [
        "Next, we'll download the PDF from the GCS Bucket and edit the metadata using the [`PyPDF2`](https://pypdf2.readthedocs.io/en/3.x/) library."
      ]
    },
    {
      "cell_type": "code",
      "execution_count": null,
      "metadata": {
        "id": "879f827c537a"
      },
      "outputs": [],
      "source": [
        "! gcloud storage cp {sheet_music_pdf_uri} ."
      ]
    },
    {
      "cell_type": "code",
      "execution_count": 16,
      "metadata": {
        "id": "e81759999d78"
      },
      "outputs": [],
      "source": [
        "def edit_pdf_metadata(file_path: str, new_metadata: dict) -> None:\n",
        "    \"\"\"Edits metadata of a PDF file.\n",
        "\n",
        "    Args:\n",
        "        file_path (str): Path to the PDF file.\n",
        "        new_metadata (dict): Dictionary containing the new metadata fields and values.\n",
        "            Example: {'/Author': 'John Doe', '/Title': 'My Report'}\n",
        "    \"\"\"\n",
        "\n",
        "    with open(file_path, \"rb\") as pdf_file:\n",
        "        pdf_reader = PyPDF2.PdfReader(pdf_file)\n",
        "        pdf_writer = PyPDF2.PdfWriter()\n",
        "\n",
        "        for page_num in range(len(pdf_reader.pages)):\n",
        "            page = pdf_reader.pages[page_num]\n",
        "            pdf_writer.add_page(page)\n",
        "\n",
        "        pdf_writer.add_metadata(new_metadata)\n",
        "\n",
        "        with open(file_path, \"wb\") as out_file:\n",
        "            pdf_writer.write(out_file)\n",
        "\n",
        "\n",
        "edit_pdf_metadata(\"SebbenCrudele.pdf\", new_metadata)"
      ]
    }
  ],
  "metadata": {
    "colab": {
      "name": "sheet_music.ipynb",
      "toc_visible": true
    },
    "kernelspec": {
      "display_name": "Python 3",
      "name": "python3"
    }
  },
  "nbformat": 4,
  "nbformat_minor": 0
}
