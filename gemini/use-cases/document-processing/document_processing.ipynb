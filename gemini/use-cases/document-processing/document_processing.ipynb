{
  "cells": [
    {
      "cell_type": "code",
      "execution_count": null,
      "metadata": {
        "id": "ijGzTHJJUCPY"
      },
      "outputs": [],
      "source": [
        "# Copyright 2024 Google LLC\n",
        "#\n",
        "# Licensed under the Apache License, Version 2.0 (the \"License\");\n",
        "# you may not use this file except in compliance with the License.\n",
        "# You may obtain a copy of the License at\n",
        "#\n",
        "#     https://www.apache.org/licenses/LICENSE-2.0\n",
        "#\n",
        "# Unless required by applicable law or agreed to in writing, software\n",
        "# distributed under the License is distributed on an \"AS IS\" BASIS,\n",
        "# WITHOUT WARRANTIES OR CONDITIONS OF ANY KIND, either express or implied.\n",
        "# See the License for the specific language governing permissions and\n",
        "# limitations under the License."
      ]
    },
    {
      "cell_type": "markdown",
      "metadata": {
        "id": "VEqbX8OhE8y9"
      },
      "source": [
        "# Document Processing with Gemini\n",
        "\n",
        "<table align=\"left\">\n",
        "  <td style=\"text-align: center\">\n",
        "    <a href=\"https://colab.research.google.com/github/GoogleCloudPlatform/generative-ai/blob/main/gemini/use-cases/document-processing/document_processing.ipynb\">\n",
        "      <img src=\"https://cloud.google.com/ml-engine/images/colab-logo-32px.png\" alt=\"Google Colaboratory logo\"><br> Run in Colab\n",
        "    </a>\n",
        "  </td>\n",
        "  <td style=\"text-align: center\">\n",
        "    <a href=\"https://console.cloud.google.com/vertex-ai/colab/import/https:%2F%2Fraw.githubusercontent.com%2FGoogleCloudPlatform%2Fgenerative-ai%2Fmain%2Fgemini%2Fuse-cases%2Fdocument-processing%2Fdocument_processing.ipynb\">\n",
        "      <img width=\"32px\" src=\"https://lh3.googleusercontent.com/JmcxdQi-qOpctIvWKgPtrzZdJJK-J3sWE1RsfjZNwshCFgE_9fULcNpuXYTilIR2hjwN\" alt=\"Google Cloud Colab Enterprise logo\"><br> Run in Colab Enterprise\n",
        "    </a>\n",
        "  </td>       \n",
        "  <td style=\"text-align: center\">\n",
        "    <a href=\"https://github.com/GoogleCloudPlatform/generative-ai/blob/main/gemini/use-cases/document-processing/document_processing.ipynb\">\n",
        "      <img src=\"https://cloud.google.com/ml-engine/images/github-logo-32px.png\" alt=\"GitHub logo\"><br> View on GitHub\n",
        "    </a>\n",
        "  </td>\n",
        "  <td style=\"text-align: center\">\n",
        "    <a href=\"https://console.cloud.google.com/vertex-ai/workbench/deploy-notebook?download_url=https://raw.githubusercontent.com/GoogleCloudPlatform/generative-ai/main/gemini/use-cases/document-processing/document_processing.ipynb\">\n",
        "      <img src=\"https://lh3.googleusercontent.com/UiNooY4LUgW_oTvpsNhPpQzsstV5W8F7rYgxgGBD85cWJoLmrOzhVs_ksK_vgx40SHs7jCqkTkCk=e14-rj-sc0xffffff-h130-w32\" alt=\"Vertex AI logo\"><br> Open in Vertex AI Workbench\n",
        "    </a>\n",
        "  </td>\n",
        "</table>\n",
        "\n",
        "<div style=\"clear: both;\"></div>\n",
        "\n",
        "<b>Share to:</b>\n",
        "\n",
        "<a href=\"https://www.linkedin.com/sharing/share-offsite/?url=https%3A//github.com/GoogleCloudPlatform/generative-ai/blob/main/gemini/use-cases/document-processing/document_processing.ipynb\" target=\"_blank\">\n",
        "  <img width=\"20px\" src=\"https://upload.wikimedia.org/wikipedia/commons/8/81/LinkedIn_icon.svg\" alt=\"LinkedIn logo\">\n",
        "</a>\n",
        "\n",
        "<a href=\"https://bsky.app/intent/compose?text=https%3A//github.com/GoogleCloudPlatform/generative-ai/blob/main/gemini/use-cases/document-processing/document_processing.ipynb\" target=\"_blank\">\n",
        "  <img width=\"20px\" src=\"https://upload.wikimedia.org/wikipedia/commons/7/7a/Bluesky_Logo.svg\" alt=\"Bluesky logo\">\n",
        "</a>\n",
        "\n",
        "<a href=\"https://twitter.com/intent/tweet?url=https%3A//github.com/GoogleCloudPlatform/generative-ai/blob/main/gemini/use-cases/document-processing/document_processing.ipynb\" target=\"_blank\">\n",
        "  <img width=\"20px\" src=\"https://upload.wikimedia.org/wikipedia/commons/5/53/X_logo_2023_original.svg\" alt=\"X logo\">\n",
        "</a>\n",
        "\n",
        "<a href=\"https://reddit.com/submit?url=https%3A//github.com/GoogleCloudPlatform/generative-ai/blob/main/gemini/use-cases/document-processing/document_processing.ipynb\" target=\"_blank\">\n",
        "  <img width=\"20px\" src=\"https://redditinc.com/hubfs/Reddit%20Inc/Brand/Reddit_Logo.png\" alt=\"Reddit logo\">\n",
        "</a>\n",
        "\n",
        "<a href=\"https://www.facebook.com/sharer/sharer.php?u=https%3A//github.com/GoogleCloudPlatform/generative-ai/blob/main/gemini/use-cases/document-processing/document_processing.ipynb\" target=\"_blank\">\n",
        "  <img width=\"20px\" src=\"https://upload.wikimedia.org/wikipedia/commons/5/51/Facebook_f_logo_%282019%29.svg\" alt=\"Facebook logo\">\n",
        "</a>            \n"
      ]
    },
    {
      "cell_type": "markdown",
      "metadata": {
        "id": "fb49ff2efb96"
      },
      "source": [
        "| | |\n",
        "|-|-|\n",
        "|Author(s) | [Holt Skinner](https://github.com/holtskinner), [Drew Gillson](https://github.com/drewgillson) |"
      ]
    },
    {
      "cell_type": "markdown",
      "metadata": {
        "id": "CkHPv2myT2cx"
      },
      "source": [
        "## Overview\n",
        "\n",
        "In today's information-driven world, the volume of digital documents generated daily is staggering. From emails and reports to legal contracts and scientific papers, businesses and individuals alike are inundated with vast amounts of textual data. Extracting meaningful insights from these documents efficiently and accurately has become a paramount challenge.\n",
        "\n",
        "Document processing involves a range of tasks, including text extraction, classification, summarization, and translation, among others. Traditional methods often rely on rule-based algorithms or statistical models, which may struggle with the nuances and complexities of natural language.\n",
        "\n",
        "Generative AI offers a promising alternative to understand, generate, and manipulate text using natural language prompting. Gemini on Vertex AI allows these models to be used in a scalable manner through:\n",
        "\n",
        "- [Vertex AI Studio](https://cloud.google.com/generative-ai-studio) in the Cloud Console\n",
        "- [Vertex AI REST API](https://cloud.google.com/vertex-ai/docs/reference/rest)\n",
        "- [Vertex AI SDK for Python](https://cloud.google.com/vertex-ai/docs/python-sdk/use-vertex-ai-python-sdk-ref)\n",
        "- [Other client libraries](https://cloud.google.com/vertex-ai/docs/start/client-libraries)\n",
        "\n",
        "This notebook focuses on using the **Vertex AI SDK for Python** to call the Gemini API in Vertex AI with the Gemini 1.5 Flash model.\n",
        "\n",
        "For more information, see the [Generative AI on Vertex AI](https://cloud.google.com/vertex-ai/docs/generative-ai/learn/overview) documentation.\n"
      ]
    },
    {
      "cell_type": "markdown",
      "metadata": {
        "id": "DrkcqHrrwMAo"
      },
      "source": [
        "### Objectives\n",
        "\n",
        "In this tutorial, you will learn how to use the Gemini API in Vertex AI with the Vertex AI SDK for Python to process PDF documents.\n",
        "\n",
        "You will complete the following tasks:\n",
        "\n",
        "- Install the Vertex AI SDK for Python\n",
        "- Use the Gemini API in Vertex AI to interact with Gemini 1.5 Flash (`gemini-1.5-flash`) model:\n",
        "  - Extract structured entities from an unstructured document\n",
        "  - Classify document types\n",
        "  - Combine classification and entity extraction into a single workflow\n",
        "  - Summarize documents\n"
      ]
    },
    {
      "cell_type": "markdown",
      "metadata": {
        "id": "C9nEPojogw-g"
      },
      "source": [
        "### Costs\n",
        "\n",
        "This tutorial uses billable components of Google Cloud:\n",
        "\n",
        "- Vertex AI\n",
        "\n",
        "Learn about [Vertex AI pricing](https://cloud.google.com/vertex-ai/pricing) and use the [Pricing Calculator](https://cloud.google.com/products/calculator/) to generate a cost estimate based on your projected usage.\n"
      ]
    },
    {
      "cell_type": "markdown",
      "metadata": {
        "id": "r11Gu7qNgx1p"
      },
      "source": [
        "## Getting Started\n"
      ]
    },
    {
      "cell_type": "markdown",
      "metadata": {
        "id": "No17Cw5hgx12"
      },
      "source": [
        "### Install Vertex AI SDK for Python\n"
      ]
    },
    {
      "cell_type": "code",
      "execution_count": null,
      "metadata": {
        "id": "tFy3H3aPgx12"
      },
      "outputs": [],
      "source": [
        "%pip install --upgrade --user --quiet google-cloud-aiplatform"
      ]
    },
    {
      "cell_type": "markdown",
      "metadata": {
        "id": "R5Xep4W9lq-Z"
      },
      "source": [
        "### Restart current runtime\n",
        "\n",
        "To use the newly installed packages in this Jupyter runtime, you must restart the runtime. You can do this by running the cell below, which will restart the current kernel."
      ]
    },
    {
      "cell_type": "code",
      "execution_count": null,
      "metadata": {
        "id": "XRvKdaPDTznN"
      },
      "outputs": [],
      "source": [
        "# Restart kernel after installs so that your environment can access the new packages\n",
        "import IPython\n",
        "\n",
        "app = IPython.Application.instance()\n",
        "app.kernel.do_shutdown(True)"
      ]
    },
    {
      "cell_type": "markdown",
      "metadata": {
        "id": "SbmM4z7FOBpM"
      },
      "source": [
        "<div class=\"alert alert-block alert-warning\">\n",
        "<b>⚠️ The kernel is going to restart. Please wait until it is finished before continuing to the next step. ⚠️</b>\n",
        "</div>\n"
      ]
    },
    {
      "cell_type": "markdown",
      "metadata": {
        "id": "dmWOrTJ3gx13"
      },
      "source": [
        "### Authenticate your notebook environment (Colab only)\n",
        "\n",
        "If you are running this notebook on Google Colab, run the following cell to authenticate your environment. This step is not required if you are using [Vertex AI Workbench](https://cloud.google.com/vertex-ai-workbench).\n"
      ]
    },
    {
      "cell_type": "code",
      "execution_count": null,
      "metadata": {
        "id": "NyKGtVQjgx13"
      },
      "outputs": [],
      "source": [
        "import sys\n",
        "\n",
        "# Additional authentication is required for Google Colab\n",
        "if \"google.colab\" in sys.modules:\n",
        "    # Authenticate user to Google Cloud\n",
        "    from google.colab import auth\n",
        "\n",
        "    auth.authenticate_user()"
      ]
    },
    {
      "cell_type": "markdown",
      "metadata": {
        "id": "DF4l8DTdWgPY"
      },
      "source": [
        "### Set Google Cloud project information and initialize Vertex AI SDK\n",
        "\n",
        "To get started using Vertex AI, you must have an existing Google Cloud project and [enable the Vertex AI API](https://console.cloud.google.com/flows/enableapi?apiid=aiplatform.googleapis.com).\n",
        "\n",
        "Learn more about [setting up a project and a development environment](https://cloud.google.com/vertex-ai/docs/start/cloud-environment)."
      ]
    },
    {
      "cell_type": "code",
      "execution_count": null,
      "metadata": {
        "id": "Nqwi-5ufWp_B"
      },
      "outputs": [],
      "source": [
        "# Define project information\n",
        "PROJECT_ID = \"YOUR_PROJECT_ID\"  # @param {type:\"string\"}\n",
        "LOCATION = \"us-central1\"  # @param {type:\"string\"}\n",
        "\n",
        "# Initialize Vertex AI\n",
        "import vertexai\n",
        "\n",
        "vertexai.init(project=PROJECT_ID, location=LOCATION)"
      ]
    },
    {
      "cell_type": "markdown",
      "metadata": {
        "id": "jXHfaVS66_01"
      },
      "source": [
        "### Import libraries\n"
      ]
    },
    {
      "cell_type": "code",
      "execution_count": null,
      "metadata": {
        "id": "lslYAvw37JGQ"
      },
      "outputs": [],
      "source": [
        "import json\n",
        "\n",
        "from IPython.display import Markdown, display_pdf\n",
        "from vertexai.generative_models import (\n",
        "    GenerationConfig,\n",
        "    GenerativeModel,\n",
        "    HarmBlockThreshold,\n",
        "    HarmCategory,\n",
        "    Part,\n",
        ")"
      ]
    },
    {
      "cell_type": "markdown",
      "metadata": {
        "id": "FTMywdzUORIA"
      },
      "source": [
        "### Load the Gemini 1.5 Flash model\n",
        "\n",
        "Gemini 1.5 Flash (`gemini-1.5-flash`) is a multimodal model that supports multimodal prompts. You can include text, image(s), and video in your prompt requests and get text or code responses."
      ]
    },
    {
      "cell_type": "code",
      "execution_count": null,
      "metadata": {
        "id": "lRyTw2iPhEXG"
      },
      "outputs": [],
      "source": [
        "model = GenerativeModel(\n",
        "    \"gemini-1.5-flash\",\n",
        "    safety_settings={\n",
        "        HarmCategory.HARM_CATEGORY_DANGEROUS_CONTENT: HarmBlockThreshold.BLOCK_ONLY_HIGH\n",
        "    },\n",
        ")\n",
        "# This Generation Config sets the model to respond in JSON format.\n",
        "generation_config = GenerationConfig(\n",
        "    temperature=0.0, response_mime_type=\"application/json\"\n",
        ")"
      ]
    },
    {
      "cell_type": "markdown",
      "metadata": {
        "id": "lwvfMDEDVyKI"
      },
      "source": [
        "### Define helper function\n",
        "\n",
        "Define helper function to print the multimodal prompt"
      ]
    },
    {
      "cell_type": "code",
      "execution_count": null,
      "metadata": {
        "id": "NQS13DI6Pjp6"
      },
      "outputs": [],
      "source": [
        "PDF_MIME_TYPE = \"application/pdf\"\n",
        "\n",
        "\n",
        "def print_multimodal_prompt(contents: list) -> None:\n",
        "    \"\"\"\n",
        "    Given contents that would be sent to Gemini,\n",
        "    output the full multimodal prompt for ease of readability.\n",
        "    \"\"\"\n",
        "    for content in contents:\n",
        "        if not isinstance(content, Part):\n",
        "            print(content)\n",
        "        elif content.inline_data:\n",
        "            display_pdf(content.inline_data.data)\n",
        "        elif content.file_data:\n",
        "            gcs_url = (\n",
        "                \"https://storage.googleapis.com/\"\n",
        "                + content.file_data.file_uri.replace(\"gs://\", \"\").replace(\" \", \"%20\")\n",
        "            )\n",
        "            print(f\"PDF URL: {gcs_url}\")\n",
        "\n",
        "\n",
        "# Send Google Cloud Storage Document to Vertex AI\n",
        "def process_document(\n",
        "    prompt: str,\n",
        "    file_uri: str,\n",
        "    mime_type: str = PDF_MIME_TYPE,\n",
        "    generation_config: GenerationConfig | None = None,\n",
        "    print_prompt: bool = False,\n",
        "    print_raw_response: bool = False,\n",
        ") -> str:\n",
        "    # Load file directly from Google Cloud Storage\n",
        "    file_part = Part.from_uri(\n",
        "        uri=file_uri,\n",
        "        mime_type=mime_type,\n",
        "    )\n",
        "\n",
        "    # Load contents\n",
        "    contents = [file_part, prompt]\n",
        "\n",
        "    # Send to Gemini\n",
        "    response = model.generate_content(contents, generation_config=generation_config)\n",
        "\n",
        "    if print_prompt:\n",
        "        print(\"-------Prompt--------\")\n",
        "        print_multimodal_prompt(contents)\n",
        "\n",
        "    if print_raw_response:\n",
        "        print(\"\\n-------Raw Response--------\")\n",
        "        print(response)\n",
        "\n",
        "    return response.text"
      ]
    },
    {
      "cell_type": "markdown",
      "metadata": {
        "id": "Wy75sLb-yjNn"
      },
      "source": [
        "## Entity Extraction\n",
        "\n",
        "[Named Entity Extraction](https://en.wikipedia.org/wiki/Named-entity_recognition) is a technique of Natural Language Processing to identify specific fields and values from unstructured text. For example, you can find key-value pairs from a filled out form, or get all of the important data from an invoice categorized by the type."
      ]
    },
    {
      "cell_type": "markdown",
      "metadata": {
        "id": "7a75f6e4bd54"
      },
      "source": [
        "### Extract entities from an invoice\n",
        "\n",
        "In this example, you will use a sample invoice and get all of the information in JSON format.\n",
        "\n",
        "This is the prompt to be sent to Gemini along with the PDF document. Feel free to edit this for your specific use case."
      ]
    },
    {
      "cell_type": "code",
      "execution_count": null,
      "metadata": {
        "id": "0841cb312d46"
      },
      "outputs": [],
      "source": [
        "invoice_extraction_prompt = \"\"\"You are a document entity extraction specialist. Given a document, your task is to extract the text value of the following entities:\n",
        "{\n",
        "\t\"amount_paid_since_last_invoice\": \"\",\n",
        "\t\"carrier\": \"\",\n",
        "\t\"currency\": \"\",\n",
        "\t\"currency_exchange_rate\": \"\",\n",
        "\t\"delivery_date\": \"\",\n",
        "\t\"due_date\": \"\",\n",
        "\t\"freight_amount\": \"\",\n",
        "\t\"invoice_date\": \"\",\n",
        "\t\"invoice_id\": \"\",\n",
        "\t\"line_items\": [\n",
        "\t\t{\n",
        "\t\t\t\"amount\": \"\",\n",
        "\t\t\t\"description\": \"\",\n",
        "\t\t\t\"product_code\": \"\",\n",
        "\t\t\t\"purchase_order\": \"\",\n",
        "\t\t\t\"quantity\": \"\",\n",
        "\t\t\t\"unit\": \"\",\n",
        "\t\t\t\"unit_price\": \"\"\n",
        "\t\t}\n",
        "\t],\n",
        "\t\"net_amount\": \"\",\n",
        "\t\"payment_terms\": \"\",\n",
        "\t\"purchase_order\": \"\",\n",
        "\t\"receiver_address\": \"\",\n",
        "\t\"receiver_email\": \"\",\n",
        "\t\"receiver_name\": \"\",\n",
        "\t\"receiver_phone\": \"\",\n",
        "\t\"receiver_tax_id\": \"\",\n",
        "\t\"receiver_website\": \"\",\n",
        "\t\"remit_to_address\": \"\",\n",
        "\t\"remit_to_name\": \"\",\n",
        "\t\"ship_from_address\": \"\",\n",
        "\t\"ship_from_name\": \"\",\n",
        "\t\"ship_to_address\": \"\",\n",
        "\t\"ship_to_name\": \"\",\n",
        "\t\"supplier_address\": \"\",\n",
        "\t\"supplier_email\": \"\",\n",
        "\t\"supplier_iban\": \"\",\n",
        "\t\"supplier_name\": \"\",\n",
        "\t\"supplier_payment_ref\": \"\",\n",
        "\t\"supplier_phone\": \"\",\n",
        "\t\"supplier_registration\": \"\",\n",
        "\t\"supplier_tax_id\": \"\",\n",
        "\t\"supplier_website\": \"\",\n",
        "\t\"total_amount\": \"\",\n",
        "\t\"total_tax_amount\": \"\",\n",
        "\t\"vat\": [\n",
        "\t\t{\n",
        "\t\t\t\"amount\": \"\",\n",
        "\t\t\t\"category_code\": \"\",\n",
        "\t\t\t\"tax_amount\": \"\",\n",
        "\t\t\t\"tax_rate\": \"\",\n",
        "\t\t\t\"total_amount\": \"\"\n",
        "\t\t}\n",
        "\t]\n",
        "}\n",
        "\n",
        "- The JSON schema must be followed during the extraction.\n",
        "- The values must only include text found in the document\n",
        "- Do not normalize any entity value.\n",
        "- If an entity is not found in the document, set the entity value to null.\n",
        "\"\"\""
      ]
    },
    {
      "cell_type": "code",
      "execution_count": null,
      "metadata": {
        "id": "42b044f767e3"
      },
      "outputs": [],
      "source": [
        "# Download a PDF from Google Cloud Storage\n",
        "! gsutil cp \"gs://cloud-samples-data/generative-ai/pdf/invoice.pdf\" ./invoice.pdf"
      ]
    },
    {
      "cell_type": "code",
      "execution_count": null,
      "metadata": {
        "id": "KzqjpEiryjNo"
      },
      "outputs": [],
      "source": [
        "# Load file bytes\n",
        "with open(\"invoice.pdf\", \"rb\") as f:\n",
        "    file_part = Part.from_data(data=f.read(), mime_type=\"application/pdf\")\n",
        "\n",
        "# Load contents\n",
        "contents = [file_part, invoice_extraction_prompt]\n",
        "\n",
        "# Send to Gemini with GenerationConfig\n",
        "response = model.generate_content(contents, generation_config=generation_config)"
      ]
    },
    {
      "cell_type": "code",
      "execution_count": null,
      "metadata": {
        "id": "63f7f16fabc7"
      },
      "outputs": [],
      "source": [
        "print(\"-------Prompt--------\")\n",
        "print_multimodal_prompt(contents)\n",
        "\n",
        "print(\"\\n-------Raw Response--------\")\n",
        "print(response.text)"
      ]
    },
    {
      "cell_type": "markdown",
      "metadata": {
        "id": "c82b9d10e9d1"
      },
      "source": [
        "This response can then be parsed as JSON into a Python dictionary for use in other applications."
      ]
    },
    {
      "cell_type": "code",
      "execution_count": null,
      "metadata": {
        "id": "ce9731cb0a84"
      },
      "outputs": [],
      "source": [
        "print(\"\\n-------Parsed Entities--------\")\n",
        "json_object = json.loads(response.text)\n",
        "print(json_object)"
      ]
    },
    {
      "cell_type": "markdown",
      "metadata": {
        "id": "c7cdda6aa720"
      },
      "source": [
        "You can see that Gemini extracted all of the relevant fields from the document."
      ]
    },
    {
      "cell_type": "markdown",
      "metadata": {
        "id": "4dca9fa02c05"
      },
      "source": [
        "### Extract entities from a payslip\n",
        "\n",
        "Let's try with another type of document, a payslip or paystub."
      ]
    },
    {
      "cell_type": "code",
      "execution_count": null,
      "metadata": {
        "id": "3ca20cd3f738"
      },
      "outputs": [],
      "source": [
        "payslip_extraction_prompt = \"\"\"You are a document entity extraction specialist. Given a document, your task is to extract the text value of the following entities:\n",
        "{\n",
        "\"earning_item\": [\n",
        "{\n",
        "\"earning_rate\": \"\",\n",
        "\"earning_hours\": \"\",\n",
        "\"earning_type\": \"\",\n",
        "\"earning_this_period\": \"\"\n",
        "}\n",
        "],\n",
        "\"direct_deposit_item\": [\n",
        "{\n",
        "\"direct_deposit\": \"\",\n",
        "\"employee_account_number\": \"\"\n",
        "}\n",
        "],\n",
        "\"current_deduction\": \"\",\n",
        "\"ytd_deduction\": \"\",\n",
        "\"employee_id\": \"\",\n",
        "\"employee_name\": \"\",\n",
        "\"employer_name\": \"\",\n",
        "\"employer_address\": \"\",\n",
        "\"federal_additional_tax\": \"\",\n",
        "\"federal_allowance\": \"\",\n",
        "\"federal_marital_status\": \"\",\n",
        "\"gross_earnings\": \"\",\n",
        "\"gross_earnings_ytd\": \"\",\n",
        "\"net_pay\": \"\",\n",
        "\"net_pay_ytd\": \"\",\n",
        "\"ssn\": \"\",\n",
        "\"pay_date\": \"\",\n",
        "\"pay_period_end\": \"\",\n",
        "\"pay_period_start\": \"\",\n",
        "\"state_additional_tax\": \"\",\n",
        "\"state_allowance\": \"\",\n",
        "\"state_marital_status\": \"\",\n",
        "\"tax_item\": [\n",
        "{\n",
        "\"tax_this_period\": \"\",\n",
        "\"tax_type\": \"\",\n",
        "\"tax_ytd\": \"\"\n",
        "}\n",
        "]\n",
        "}\n",
        "\n",
        "- The JSON schema must be followed during the extraction.\n",
        "- The values must only include text strings found in the document.\n",
        "- Generate null for missing entities.\n",
        "\"\"\""
      ]
    },
    {
      "cell_type": "code",
      "execution_count": null,
      "metadata": {
        "id": "06d34a6f08d9"
      },
      "outputs": [],
      "source": [
        "response_text = process_document(\n",
        "    payslip_extraction_prompt,\n",
        "    \"gs://cloud-samples-data/generative-ai/pdf/earnings_statement.pdf\",\n",
        "    generation_config=generation_config,\n",
        "    print_prompt=True,\n",
        ")"
      ]
    },
    {
      "cell_type": "code",
      "execution_count": null,
      "metadata": {
        "id": "230b3ae51289"
      },
      "outputs": [],
      "source": [
        "print(\"\\n-------Parsed Entities--------\")\n",
        "json_object = json.loads(response_text)\n",
        "print(json_object)"
      ]
    },
    {
      "cell_type": "markdown",
      "metadata": {
        "id": "Uhtahn_jTZKC"
      },
      "source": [
        "## Document Classification\n",
        "\n",
        "Document classification is the process for identifying the type of document. For example, invoice, W-2, receipt, etc.\n",
        "\n",
        "In this example, you will use a sample tax form (W-9) and get the specific type of document from a specified list."
      ]
    },
    {
      "cell_type": "code",
      "execution_count": null,
      "metadata": {
        "id": "d797c2bfb490"
      },
      "outputs": [],
      "source": [
        "classification_prompt = \"\"\"You are a document classification assistant. Given a document, your task is to find which category the document belongs to from the list of document categories provided below.\n",
        "\n",
        " 1040_2019\n",
        " 1040_2020\n",
        " 1099-r\n",
        " bank_statement\n",
        " credit_card_statement\n",
        " expense\n",
        " form_1120S_2019\n",
        " form_1120S_2020\n",
        " investment_retirement_statement\n",
        " invoice\n",
        " paystub\n",
        " property_insurance\n",
        " purchase_order\n",
        " utility_statement\n",
        " w2\n",
        " w9\n",
        " driver_license\n",
        "\n",
        "Which category does the above document belong to? Answer with one of the predefined document categories only.\n",
        "\"\"\""
      ]
    },
    {
      "cell_type": "code",
      "execution_count": null,
      "metadata": {
        "id": "7dcab4a008a5"
      },
      "outputs": [],
      "source": [
        "response_text = process_document(\n",
        "    classification_prompt,\n",
        "    \"gs://cloud-samples-data/generative-ai/pdf/w9.pdf\",\n",
        "    print_prompt=True,\n",
        ")"
      ]
    },
    {
      "cell_type": "code",
      "execution_count": null,
      "metadata": {
        "id": "200922ddac39"
      },
      "outputs": [],
      "source": [
        "print(\"\\n-------Document Classification--------\")\n",
        "print(response_text)"
      ]
    },
    {
      "cell_type": "markdown",
      "metadata": {
        "id": "d99b968e9faa"
      },
      "source": [
        "You can see that Gemini successfully categorized the document."
      ]
    },
    {
      "cell_type": "markdown",
      "metadata": {
        "id": "9c41c7273b66"
      },
      "source": [
        "### Chaining Classification and Extraction\n",
        "\n",
        "These techniques can also be chained together to extract any number of document types. For example, if you have multiple types of documents to process, you can send each document to Gemini with a classification prompt, then based on that output, you can write logic to decide which extraction prompt to use."
      ]
    },
    {
      "cell_type": "code",
      "execution_count": null,
      "metadata": {
        "id": "69fd5883a812"
      },
      "outputs": [],
      "source": [
        "generic_document_prompt = \"\"\"You are a document entity extraction specialist. Given a document, your task is to extract the text value of the following entities:\n",
        "\n",
        "{}\n",
        "\n",
        "- The JSON schema must be followed during the extraction.\n",
        "- The values must only include text found in the document\n",
        "- Do not normalize any entity value.\n",
        "- If an entity is not found in the document, set the entity value to null.\n",
        "\"\"\"\n",
        "\n",
        "w2_extraction_prompt = generic_document_prompt.format(\n",
        "    \"\"\"\n",
        "{\n",
        "    \"ControlNumber\": \"\",\n",
        "    \"EIN\": \"\",\n",
        "    \"EmployeeAddress_City\": \"\",\n",
        "    \"EmployeeAddress_State\": \"\",\n",
        "    \"EmployeeAddress_StreetAddressOrPostalBox\": \"\",\n",
        "    \"EmployeeAddress_Zip\": \"\",\n",
        "    \"EmployeeName_FirstName\": \"\",\n",
        "    \"EmployeeName_LastName\": \"\",\n",
        "    \"EmployerAddress_City\": \"\",\n",
        "    \"EmployerAddress_State\": \"\",\n",
        "    \"EmployerAddress_StreetAddressOrPostalBox\": \"\",\n",
        "    \"EmployerAddress_Zip\": \"\",\n",
        "    \"EmployerName\": \"\",\n",
        "    \"EmployerStateIdNumber_Line1\": \"\",\n",
        "    \"FederalIncomeTaxWithheld\": \"\",\n",
        "    \"FormYear\": \"\",\n",
        "    \"MedicareTaxWithheld\": \"\",\n",
        "    \"MedicareWagesAndTips\": \"\",\n",
        "    \"SocialSecurityTaxWithheld\": \"\",\n",
        "    \"SocialSecurityWages\": \"\",\n",
        "    \"StateIncomeTax_Line1\": \"\",\n",
        "    \"StateWagesTipsEtc_Line1\": \"\",\n",
        "    \"State_Line1\": \"\",\n",
        "    \"WagesTipsOtherCompensation\": \"\",\n",
        "    \"a_Code\": \"\",\n",
        "    \"a_Value\": \"\",\n",
        "}\n",
        "\"\"\"\n",
        ")\n",
        "\n",
        "drivers_license_prompt = generic_document_prompt.format(\n",
        "    \"\"\"\n",
        "{\n",
        "    \"Address\": \"\",\n",
        "    \"Date Of Birth\": \"\",\n",
        "    \"Document Id\": \"\",\n",
        "    \"Expiration Date\": \"\",\n",
        "    \"Family Name\": \"\",\n",
        "    \"Given Names\": \"\",\n",
        "    \"Issue Date\": \"\",\n",
        "}\n",
        "\"\"\"\n",
        ")\n",
        "\n",
        "# Map classification types to extraction prompts\n",
        "classification_to_prompt = {\n",
        "    \"invoice\": invoice_extraction_prompt,\n",
        "    \"w2\": w2_extraction_prompt,\n",
        "    \"driver_license\": drivers_license_prompt,\n",
        "}"
      ]
    },
    {
      "cell_type": "code",
      "execution_count": null,
      "metadata": {
        "id": "2c806b4d757e"
      },
      "outputs": [],
      "source": [
        "gcs_uris = [\n",
        "    \"gs://cloud-samples-data/documentai/SampleDocuments/US_DRIVER_LICENSE_PROCESSOR/dl3.pdf\",\n",
        "    \"gs://cloud-samples-data/documentai/SampleDocuments/INVOICE_PROCESSOR/google_invoice.pdf\",\n",
        "    \"gs://cloud-samples-data/documentai/SampleDocuments/FORM_W2_PROCESSOR/2020FormW-2.pdf\",\n",
        "]\n",
        "\n",
        "for gcs_uri in gcs_uris:\n",
        "    print(f\"\\nFile: {gcs_uri}\\n\")\n",
        "\n",
        "    # Send to Gemini with Classification Prompt\n",
        "    doc_classification = process_document(classification_prompt, gcs_uri).strip()\n",
        "\n",
        "    print(f\"Document Classification: {doc_classification}\")\n",
        "\n",
        "    # Get Extraction prompt based on Classification\n",
        "    extraction_prompt = classification_to_prompt.get(doc_classification)\n",
        "\n",
        "    if not extraction_prompt:\n",
        "        print(f\"Document does not belong to a specified class {doc_classification}\")\n",
        "        continue\n",
        "\n",
        "    # Send to Gemini with Extraction Prompt\n",
        "    extraction_response_text = process_document(\n",
        "        extraction_prompt,\n",
        "        gcs_uri,\n",
        "        generation_config=generation_config,\n",
        "        print_prompt=True,\n",
        "    ).strip()\n",
        "\n",
        "    print(\"\\n-------Extracted Entities--------\")\n",
        "    json_object = json.loads(extraction_response_text)\n",
        "    print(json_object)"
      ]
    },
    {
      "cell_type": "markdown",
      "metadata": {
        "id": "322abdb6d63d"
      },
      "source": [
        "## Document Question Answering\n",
        "\n",
        "Gemini can be used to answer questions about a document.\n",
        "\n",
        "This example answers a question about the Transformer model paper \"Attention is all you need\"."
      ]
    },
    {
      "cell_type": "code",
      "execution_count": null,
      "metadata": {
        "id": "f47a8b63ce13"
      },
      "outputs": [],
      "source": [
        "qa_prompt = \"\"\"What is attention in the context of transformer models? Give me the answer first, followed by an explanation.\"\"\""
      ]
    },
    {
      "cell_type": "code",
      "execution_count": null,
      "metadata": {
        "id": "636f158c24fb"
      },
      "outputs": [],
      "source": [
        "# Send Q&A Prompt to Gemini\n",
        "response_text = process_document(\n",
        "    qa_prompt,\n",
        "    \"gs://cloud-samples-data/generative-ai/pdf/1706.03762v7.pdf\",\n",
        ")\n",
        "\n",
        "print(f\"Answer: {response_text}\")"
      ]
    },
    {
      "cell_type": "markdown",
      "metadata": {
        "id": "d5881bdeb3b0"
      },
      "source": [
        "## Document Summarization\n",
        "\n",
        "Gemini can also be used to summarize or paraphrase a document's contents. Your prompt can specify how detailed the summary should be or specific formatting, such as bullet points or paragraphs."
      ]
    },
    {
      "cell_type": "code",
      "execution_count": null,
      "metadata": {
        "id": "85b23b916ffa"
      },
      "outputs": [],
      "source": [
        "summarization_prompt = \"\"\"You are a very professional document summarization specialist. Given a document, your task is to provide a detailed summary of the content of the document.\n",
        "\n",
        "If it includes images, provide descriptions of the images.\n",
        "If it includes tables, extract all elements of the tables.\n",
        "If it includes graphs, explain the findings in the graphs.\n",
        "Do not include any numbers that are not mentioned in the document.\n",
        "\"\"\""
      ]
    },
    {
      "cell_type": "code",
      "execution_count": null,
      "metadata": {
        "id": "01c2c8c947e0"
      },
      "outputs": [],
      "source": [
        "# Send Summarization Prompt to Gemini\n",
        "response_text = process_document(\n",
        "    summarization_prompt,\n",
        "    \"gs://cloud-samples-data/generative-ai/pdf/fdic_board_meeting.pdf\",\n",
        ")\n",
        "\n",
        "print(f\"Summarization: {response_text}\")"
      ]
    },
    {
      "cell_type": "markdown",
      "metadata": {
        "id": "85015f00a36f"
      },
      "source": [
        "## Table parsing from documents\n",
        "\n",
        "Gemini can parse contents of a table and return it in a structured format, such as HTML or markdown."
      ]
    },
    {
      "cell_type": "code",
      "execution_count": null,
      "metadata": {
        "id": "b780755d42e0"
      },
      "outputs": [],
      "source": [
        "table_extraction_prompt = \"\"\"What is the html code of the table in this document?\"\"\""
      ]
    },
    {
      "cell_type": "code",
      "execution_count": null,
      "metadata": {
        "id": "2ad318a19c6a"
      },
      "outputs": [],
      "source": [
        "# Send Table Extraction Prompt to Gemini\n",
        "response_text = process_document(\n",
        "    table_extraction_prompt,\n",
        "    \"gs://cloud-samples-data/generative-ai/pdf/salary_table.pdf\",\n",
        ")\n",
        "display(Markdown(response_text))"
      ]
    },
    {
      "cell_type": "markdown",
      "metadata": {
        "id": "1ebe7318abf6"
      },
      "source": [
        "## Document Translation\n",
        "\n",
        "Gemini can translate documents between languages. This example translates meeting notes from English into French and Spanish."
      ]
    },
    {
      "cell_type": "code",
      "execution_count": null,
      "metadata": {
        "id": "c03f55376e76"
      },
      "outputs": [],
      "source": [
        "translation_prompt = \"\"\"Translate the first paragraph into French and Spanish. Label each paragraph with the target language.\"\"\""
      ]
    },
    {
      "cell_type": "code",
      "execution_count": null,
      "metadata": {
        "id": "0e22d1c06508"
      },
      "outputs": [],
      "source": [
        "# Send Translation Prompt to Gemini\n",
        "response_text = process_document(\n",
        "    translation_prompt,\n",
        "    \"gs://cloud-samples-data/generative-ai/pdf/fdic_board_meeting.pdf\",\n",
        ")\n",
        "\n",
        "print(response_text)"
      ]
    },
    {
      "cell_type": "markdown",
      "metadata": {
        "id": "0e8111f438db"
      },
      "source": [
        "## Document Comparison\n",
        "\n",
        "Gemini can compare and contrast the contents of multiple documents. This example finds the changes in the IRS Form 1040 between 2013 and 2023.\n",
        "\n",
        "Note: when working with multiple documents, the order can matter and should be specified in your prompt."
      ]
    },
    {
      "cell_type": "code",
      "execution_count": null,
      "metadata": {
        "id": "62bd15c5553f"
      },
      "outputs": [],
      "source": [
        "comparison_prompt = \"\"\"The first document is from 2013, the second one from 2023. How did the standard deduction evolve?\"\"\""
      ]
    },
    {
      "cell_type": "code",
      "execution_count": null,
      "metadata": {
        "id": "e5f07456ed8d"
      },
      "outputs": [],
      "source": [
        "# Send Comparison Prompt to Gemini\n",
        "file_part1 = Part.from_uri(\n",
        "    uri=\"gs://cloud-samples-data/generative-ai/pdf/form_1040_2013.pdf\",\n",
        "    mime_type=PDF_MIME_TYPE,\n",
        ")\n",
        "\n",
        "file_part2 = Part.from_uri(\n",
        "    uri=\"gs://cloud-samples-data/generative-ai/pdf/form_1040_2023.pdf\",\n",
        "    mime_type=PDF_MIME_TYPE,\n",
        ")\n",
        "\n",
        "# Load contents\n",
        "contents = [file_part1, file_part2, comparison_prompt]\n",
        "\n",
        "# Send to Gemini\n",
        "response = model.generate_content(contents)\n",
        "\n",
        "print(\"-------Prompt--------\")\n",
        "print_multimodal_prompt(contents)\n",
        "\n",
        "print(\"-------Output--------\")\n",
        "print(response.text)"
      ]
    }
  ],
  "metadata": {
    "colab": {
      "name": "document_processing.ipynb",
      "toc_visible": true
    },
    "kernelspec": {
      "display_name": "Python 3",
      "name": "python3"
    }
  },
  "nbformat": 4,
  "nbformat_minor": 0
}
