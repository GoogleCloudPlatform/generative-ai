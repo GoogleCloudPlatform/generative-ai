{
 "cells": [
  {
   "cell_type": "code",
   "execution_count": null,
   "metadata": {
    "id": "cMQCs0oQf5Jo"
   },
   "outputs": [],
   "source": [
    "# Copyright 2025 Google LLC\n",
    "#\n",
    "# Licensed under the Apache License, Version 2.0 (the \"License\");\n",
    "# you may not use this file except in compliance with the License.\n",
    "# You may obtain a copy of the License at\n",
    "#\n",
    "#     https://www.apache.org/licenses/LICENSE-2.0\n",
    "#\n",
    "# Unless required by applicable law or agreed to in writing, software\n",
    "# distributed under the License is distributed on an \"AS IS\" BASIS,\n",
    "# WITHOUT WARRANTIES OR CONDITIONS OF ANY KIND, either express or implied.\n",
    "# See the License for the specific language governing permissions and\n",
    "# limitations under the License."
   ]
  },
  {
   "cell_type": "markdown",
   "metadata": {
    "id": "iR0jdheRGG89"
   },
   "source": [
    "# Introduction to Generative AI functions in BigQuery"
   ]
  },
  {
   "cell_type": "markdown",
   "metadata": {
    "id": "td9kx9LVgSve"
   },
   "source": [
    "<table align=\"left\">\n",
    "  <td style=\"text-align: center\">\n",
    "    <a href=\"https://colab.research.google.com/github/GoogleCloudPlatform/generative-ai/blob/main/gemini/use-cases/applying-llms-to-data/bigquery_generative_ai_intro.ipynb\">\n",
    "      <img width=\"32px\" src=\"https://www.gstatic.com/pantheon/images/bigquery/welcome_page/colab-logo.svg\" alt=\"Google Colaboratory logo\"><br> Open in Colab\n",
    "    </a>\n",
    "  </td>\n",
    "  <td style=\"text-align: center\">\n",
    "    <a href=\"https://console.cloud.google.com/vertex-ai/colab/import/https:%2F%2Fraw.githubusercontent.com%2FGoogleCloudPlatform%2Fgenerative-ai%2Fmain%2Fgemini%2Fuse-cases%2Fapplying-llms-to-data%2Fbigquery_generative_ai_intro.ipynb\">\n",
    "      <img width=\"32px\" src=\"https://lh3.googleusercontent.com/JmcxdQi-qOpctIvWKgPtrzZdJJK-J3sWE1RsfjZNwshCFgE_9fULcNpuXYTilIR2hjwN\" alt=\"Google Cloud Colab Enterprise logo\"><br> Open in Colab Enterprise\n",
    "    </a>\n",
    "  </td>\n",
    "  <td style=\"text-align: center\">\n",
    "    <a href=\"https://console.cloud.google.com/vertex-ai/workbench/deploy-notebook?download_url=https://raw.githubusercontent.com/GoogleCloudPlatform/generative-ai/main/gemini/use-cases/applying-llms-to-data/bigquery_generative_ai_intro.ipynb\">\n",
    "      <img src=\"https://www.gstatic.com/images/branding/gcpiconscolors/vertexai/v1/32px.svg\" alt=\"Vertex AI logo\"><br> Open in Vertex AI Workbench\n",
    "    </a>\n",
    "  </td>\n",
    "  <td style=\"text-align: center\">\n",
    "    <a href=\"https://console.cloud.google.com/bigquery/import?url=https://github.com/GoogleCloudPlatform/generative-ai/blob/main/gemini/use-cases/applying-llms-to-data/bigquery_generative_ai_intro.ipynb\">\n",
    "      <img src=\"https://www.gstatic.com/images/branding/gcpiconscolors/bigquery/v1/32px.svg\" alt=\"BigQuery Studio logo\"><br> Open in BigQuery Studio\n",
    "    </a>\n",
    "  </td>\n",
    "  <td style=\"text-align: center\">\n",
    "    <a href=\"https://github.com/GoogleCloudPlatform/generative-ai/blob/main/gemini/use-cases/applying-llms-to-data/bigquery_generative_ai_intro.ipynb\">\n",
    "      <img width=\"32px\" src=\"https://www.svgrepo.com/download/217753/github.svg\" alt=\"GitHub logo\"><br> View on GitHub\n",
    "    </a>\n",
    "  </td>\n",
    "</table>\n",
    "\n",
    "<div style=\"clear: both;\"></div>\n",
    "\n",
    "<b>Share to:</b>\n",
    "\n",
    "<a href=\"https://www.linkedin.com/sharing/share-offsite/?url=https%3A//github.com/GoogleCloudPlatform/generative-ai/blob/main/gemini/use-cases/applying-llms-to-data/bigquery_generative_ai_intro.ipynb\" target=\"_blank\">\n",
    "  <img width=\"20px\" src=\"https://upload.wikimedia.org/wikipedia/commons/8/81/LinkedIn_icon.svg\" alt=\"LinkedIn logo\">\n",
    "</a>\n",
    "\n",
    "<a href=\"https://bsky.app/intent/compose?text=https%3A//github.com/GoogleCloudPlatform/generative-ai/blob/main/gemini/use-cases/applying-llms-to-data/bigquery_generative_ai_intro.ipynb\" target=\"_blank\">\n",
    "  <img width=\"20px\" src=\"https://upload.wikimedia.org/wikipedia/commons/7/7a/Bluesky_Logo.svg\" alt=\"Bluesky logo\">\n",
    "</a>\n",
    "\n",
    "<a href=\"https://twitter.com/intent/tweet?url=https%3A//github.com/GoogleCloudPlatform/generative-ai/blob/main/gemini/use-cases/applying-llms-to-data/bigquery_generative_ai_intro.ipynb\" target=\"_blank\">\n",
    "  <img width=\"20px\" src=\"https://upload.wikimedia.org/wikipedia/commons/5/5a/X_icon_2.svg\" alt=\"X logo\">\n",
    "</a>\n",
    "\n",
    "<a href=\"https://reddit.com/submit?url=https%3A//github.com/GoogleCloudPlatform/generative-ai/blob/main/gemini/use-cases/applying-llms-to-data/bigquery_generative_ai_intro.ipynb\" target=\"_blank\">\n",
    "  <img width=\"20px\" src=\"https://redditinc.com/hubfs/Reddit%20Inc/Brand/Reddit_Logo.png\" alt=\"Reddit logo\">\n",
    "</a>\n",
    "\n",
    "<a href=\"https://www.facebook.com/sharer/sharer.php?u=https%3A//github.com/GoogleCloudPlatform/generative-ai/blob/main/gemini/use-cases/applying-llms-to-data/bigquery_generative_ai_intro.ipynb\" target=\"_blank\">\n",
    "  <img width=\"20px\" src=\"https://upload.wikimedia.org/wikipedia/commons/5/51/Facebook_f_logo_%282019%29.svg\" alt=\"Facebook logo\">\n",
    "</a>"
   ]
  },
  {
   "cell_type": "markdown",
   "metadata": {
    "id": "5h3O5b6P8WEx"
   },
   "source": [
    "| Author(s) |\n",
    "| --- |\n",
    "| [Alicia Williams](https://github.com/aliciawilliams) |"
   ]
  },
  {
   "cell_type": "markdown",
   "metadata": {
    "id": "intro_md"
   },
   "source": [
    "## Overview\n",
    "\n",
    "This tutorial will guide you through powerful generative AI capabilities available in BigQuery. You'll get hands-on experience using the suite of generative **`AI.*` functions** that integrate directly with powerful models like Gemini. This allows you to perform sophisticated AI-driven analysis on your data right within your familiar SQL environment.\n",
    "\n",
    "While the examples in this notebook will focus on **text inputs** to the generative AI models, many of these capabilities extend to **multi-modal analysis**."
   ]
  },
  {
   "cell_type": "markdown",
   "metadata": {
    "id": "SwQLISjqGTHd"
   },
   "source": [
    "### Objectives\n",
    "\n",
    "We'll cover how to:\n",
    "\n",
    "* **Prompt models to generate text and structured data** with `AI.GENERATE`, `AI.GENERATE_TABLE`, and `ML.GENERATE_TEXT`.\n",
    "* **Perform powerful, row-level analysis** using scalar functions like `AI.GENERATE_BOOL`, `AI.GENERATE_DOUBLE`, and `AI.GENERATE_INT`.\n",
    "* **Forecast future trends** with time-series data using `AI.FORECAST`."
   ]
  },
  {
   "cell_type": "markdown",
   "metadata": {
    "id": "costs_md"
   },
   "source": [
    "### Services and Costs\n",
    "\n",
    "This tutorial uses the following billable components of Google Cloud:\n",
    "\n",
    "* **BigQuery**: [Pricing](https://cloud.google.com/bigquery/pricing)\n",
    "\n",
    "* **BigQuery ML**: [Pricing](https://cloud.google.com/bigquery/pricing#bqml)\n",
    "\n",
    "* **Vertex AI**: [Pricing](https://cloud.google.com/vertex-ai/generative-ai/pricing)\n",
    "\n",
    "You can use the [Pricing Calculator](https://cloud.google.com/products/calculator) to generate a cost estimate based on your projected usage."
   ]
  },
  {
   "cell_type": "markdown",
   "metadata": {
    "id": "nkoCFoFVSPii"
   },
   "source": [
    "---\n",
    "\n",
    "## Before you begin"
   ]
  },
  {
   "cell_type": "markdown",
   "metadata": {
    "id": "setup_md_1"
   },
   "source": [
    "### Set up your Google Cloud project\n",
    "**The following steps are required, regardless of your notebook environment.**\n",
    "\n",
    "1. [Select or create a Google Cloud project](https://console.cloud.google.com/cloud-resource-manager). When you first create an account, you get a $300 free credit towards your compute/storage costs.\n",
    "\n",
    "2. [Make sure that billing is enabled for your project](https://cloud.google.com/billing/docs/how-to/modify-project).\n",
    "\n",
    "3. [Enable the BigQuery, BigQuery Connection, and Vertex AI APIs](https://console.cloud.google.com/flows/enableapi?apiid=bigquery.googleapis.com,bigqueryconnection.googleapis.com,aiplatform.googleapis.com).\n",
    "\n",
    "4. If you are running this notebook locally, you need to install the [Cloud SDK](https://cloud.google.com/sdk)."
   ]
  },
  {
   "cell_type": "markdown",
   "metadata": {
    "id": "YQ3g-h7uTaSf"
   },
   "source": [
    "### Set your project ID"
   ]
  },
  {
   "cell_type": "code",
   "execution_count": null,
   "metadata": {
    "id": "set_project_id"
   },
   "outputs": [],
   "source": [
    "PROJECT_ID = \"\"  # @param {type:\"string\"}\n",
    "\n",
    "# Set the project id\n",
    "! gcloud config set project {PROJECT_ID}"
   ]
  },
  {
   "cell_type": "markdown",
   "metadata": {
    "id": "auth_md"
   },
   "source": [
    "### Authenticate to your Google Cloud account\n",
    "\n",
    "Depending on your Jupyter environment, you may have to manually authenticate. Follow the relevant instructions below."
   ]
  },
  {
   "cell_type": "markdown",
   "metadata": {
    "id": "V6NjZRCXU5Ro"
   },
   "source": [
    "**1. Colab Enterprise or BigQuery Studio Notebooks**\n",
    "* Do nothing as you are already authenticated."
   ]
  },
  {
   "cell_type": "markdown",
   "metadata": {
    "id": "l0dV1hvAU1ed"
   },
   "source": [
    "**2. Colab, uncomment and run:**"
   ]
  },
  {
   "cell_type": "code",
   "execution_count": null,
   "metadata": {
    "id": "auth_code"
   },
   "outputs": [],
   "source": [
    "from google.colab import auth\n",
    "\n",
    "auth.authenticate_user()"
   ]
  },
  {
   "cell_type": "markdown",
   "metadata": {
    "id": "4Pp4LAJ3UyRP"
   },
   "source": [
    "**3. Local JupyterLab instance, uncomment and run:**\n",
    "\n"
   ]
  },
  {
   "cell_type": "code",
   "execution_count": null,
   "metadata": {
    "id": "AzU7S3fMVDkW"
   },
   "outputs": [],
   "source": [
    "# ! gcloud auth login"
   ]
  },
  {
   "cell_type": "markdown",
   "metadata": {
    "id": "conn_md"
   },
   "source": [
    "### Create BigQuery Cloud resource connection\n",
    "\n",
    "You will need to create a [Cloud resource connection](https://cloud.google.com/bigquery/docs/create-cloud-resource-connection) to enable BigQuery to interact with Vertex AI services."
   ]
  },
  {
   "cell_type": "code",
   "execution_count": null,
   "metadata": {
    "id": "conn_code"
   },
   "outputs": [],
   "source": [
    "!bq mk --connection --location=us \\\n",
    "    --connection_type=CLOUD_RESOURCE test_connection"
   ]
  },
  {
   "cell_type": "markdown",
   "metadata": {
    "id": "perms_md"
   },
   "source": [
    "### Set permissions for Service Account\n",
    "\n",
    "The resource connection service account requires certain project-level permissions to interact with Vertex AI."
   ]
  },
  {
   "cell_type": "code",
   "execution_count": null,
   "metadata": {
    "id": "6OqpZNY953xR"
   },
   "outputs": [],
   "source": [
    "SERVICE_ACCT = !bq show --format=prettyjson --connection us.test_connection | grep \"serviceAccountId\" | cut -d '\"' -f 4\n",
    "SERVICE_ACCT_EMAIL = SERVICE_ACCT[-1]\n",
    "print(SERVICE_ACCT_EMAIL)"
   ]
  },
  {
   "cell_type": "code",
   "execution_count": null,
   "metadata": {
    "id": "perms_code"
   },
   "outputs": [],
   "source": [
    "import time\n",
    "\n",
    "!gcloud projects add-iam-policy-binding --format=none $PROJECT_ID --member=serviceAccount:$SERVICE_ACCT_EMAIL --role='roles/bigquery.connectionUser'\n",
    "!gcloud projects add-iam-policy-binding --format=none $PROJECT_ID --member=serviceAccount:$SERVICE_ACCT_EMAIL --role='roles/aiplatform.user'\n",
    "\n",
    "# wait 60 seconds, give IAM updates time to propagate, otherwise, following cells will fail\n",
    "time.sleep(60)"
   ]
  },
  {
   "cell_type": "markdown",
   "metadata": {
    "id": "generate_md_1"
   },
   "source": [
    "---\n",
    "\n",
    "## Generate text and structured data with `AI.GENERATE` and `AI.GENERATE_TABLE`\n",
    "\n",
    "These functions allow you to leverage the power of large language models (LLMs) directly within BigQuery to generate new text content, including creating content with a specified schema. Both functions work by sending requests to your choice of a [generally available](https://cloud.google.com/vertex-ai/generative-ai/docs/models#generally_available_models) or [preview](https://cloud.google.com/vertex-ai/generative-ai/docs/models#preview_models) Gemini model, and then returning that model's response."
   ]
  },
  {
   "cell_type": "markdown",
   "metadata": {
    "id": "generate_text_md"
   },
   "source": [
    "### Using `AI.GENERATE`: Extract keywords from reviews\n",
    "\n",
    "Let's use the [`AI.GENERATE`](https://cloud.google.com/bigquery/docs/reference/standard-sql/bigqueryml-syntax-ai-generate) function to extract keywords from the movie reviews in the `bigquery-public-data.imdb.reviews` table."
   ]
  },
  {
   "cell_type": "code",
   "execution_count": null,
   "metadata": {
    "colab": {
     "base_uri": "https://localhost:8080/",
     "height": 1204,
     "referenced_widgets": [
      "b86404b88b16427198d9f361229f9626",
      "96d949df23da4c88940d1a695f5a5fcc",
      "76f1dc4514ff435380e1bfd55ce995b4",
      "235d154f829f44879f27e64903bbc812",
      "0b34af6ceaec414ab16b7f1862068ca1",
      "ead7e21abcd64e01a2bc200c1fb1d219",
      "3b19e97a9a1f4a348f5089ed4eae7cdc",
      "6ac3a765279f4ed7a973dde97e9ff87c",
      "9fb16c7ddfd944b4996fbb37fc5f671c",
      "06079a062108412d86076f3becf848dc",
      "671957e710124b408d744f155e38b16a",
      "86969d5086c84ffca9d4530731148160",
      "b48cc9f5da27445d949a29cf31329806",
      "4d24b0ca1e624297aa105219faf855e8",
      "b99195273c5f4198bb108a843f54dd00",
      "fb72e48bdb9144a4b60b8bbb215df163",
      "705373413f2a4b468d9e4c8b9c94f5c4",
      "4b824ebe2d534f9f8f8da0b7ac5d3bf1",
      "28ce2c93129345ba9f4d0efdd8e02248",
      "d34c99976f104712b4ba6159d3e3237b",
      "cdd021417d4a44e48f81d2cbb8023fa9",
      "9e77439e93ba4a2fb387da9436485d8f"
     ]
    },
    "id": "generate_text_code",
    "outputId": "81182c91-86de-43ad-c9c5-cd2099301d16"
   },
   "outputs": [],
   "source": [
    "%%bigquery --project {PROJECT_ID}\n",
    "\n",
    "SELECT\n",
    "  review,\n",
    "  AI.GENERATE(('Extract the keywords from the text below: ', review),\n",
    "    connection_id => 'us.test_connection',\n",
    "    endpoint => 'gemini-2.5-flash').result AS keywords\n",
    "FROM\n",
    "  `bigquery-public-data.imdb.reviews`\n",
    "WHERE movie_id = \"tt0067345\"\n",
    "LIMIT 5\n",
    ";"
   ]
  },
  {
   "cell_type": "markdown",
   "metadata": {
    "id": "ZiVKjzbVcZ2x"
   },
   "source": [
    "You can see that BigQuery has prompted the specified model for each row of the data and returned the response."
   ]
  },
  {
   "cell_type": "markdown",
   "metadata": {
    "id": "Ulkyyt6pUpfQ"
   },
   "source": [
    "#### Using arguments to adjust model configuration\n",
    "In addition to the `prompt`, `connection_id`, and `endpoint`, there are additional arguments available in `AI.GENERATE` at your disposal for customizing your generation request."
   ]
  },
  {
   "cell_type": "markdown",
   "metadata": {
    "id": "bY5ksh35WMnd"
   },
   "source": [
    "##### The `model_params` argument\n",
    "There are several parameters you can specify within the `model_params` argument. You can read more about which specific parameters are available for `AI.GENERATE` in the [documentation](https://cloud.google.com/bigquery/docs/reference/standard-sql/bigqueryml-syntax-ai-generate#arguments). The next query adds custom `temperature` and `maxOutputTokens` parameters.\n",
    "\n",
    "* The `temperature` parameter controls the randomness of the response, where a lower value makes the output more predictable and focused, while a higher value encourages more creative and diverse results.\n",
    "\n",
    "* The `maxOutputTokens` parameter sets the maximum length of the model's response by limiting the total number of tokens (pieces of words) it can generate.\n",
    "\n",
    "You can read more about the various parameters [here](https://cloud.google.com/vertex-ai/generative-ai/docs/model-reference/inference#generationconfig), and the parameters' default values are documented in the model card in the [model documentation for Vertex AI](https://cloud.google.com/vertex-ai/generative-ai/docs/models)."
   ]
  },
  {
   "cell_type": "code",
   "execution_count": null,
   "metadata": {
    "colab": {
     "base_uri": "https://localhost:8080/",
     "height": 270,
     "referenced_widgets": [
      "27fdc61969344758a1a85f95df268ba5",
      "728459a0856c4a37920b7451b91107f6",
      "d6470ae7f2464721882bcaa9ebeda428",
      "29168c8c0e824490a72d170ffe1f6522",
      "33432176c8df46989fe37f69134d28be",
      "c49bdee00dea4ec38a658c238fc1cae2",
      "04a6e7ed3b2a4228bf5d7b4f2bee41a5",
      "6fa522ad473547278031e51a55dc1cb4",
      "17df67bdb531411398755d9c7c51ba32",
      "cf81a3f63dad41bf9a70fd90b9de1a80",
      "fe7380b3efcb4a1b830612c2e4a43233",
      "6537e8d8c6e94ff3a6d2a999c9f298a5",
      "4ed3b7160cd44337bf0cdf49a36469dd",
      "28f416547e904fb79bdcd33f789254bb",
      "6cdb2cdabac2468fa0e2eb31167cd87c",
      "fd27ddc1488d42d08a9397c9a9860065",
      "40a53d24916c4c85aabf2078d3640c0f",
      "c6b23c8611844f6698aad93057e2ac97",
      "c3a2fc134d844f3f897a56c73d9ccdd1",
      "e9b277f421094073962eb35722ea8510",
      "f5d2d9e3260b475f8877d67555fdb296",
      "678cdac617484e86a6cebd3d38cb7b9f"
     ]
    },
    "id": "61nesgOtWkWs",
    "outputId": "5e020acc-2b9f-4ed9-cde3-daeac32aa17d"
   },
   "outputs": [],
   "source": [
    "%%bigquery --project {PROJECT_ID}\n",
    "\n",
    "SELECT\n",
    "  review,\n",
    "  AI.GENERATE(('Extract the keywords from the text below: ', review),\n",
    "    connection_id => 'us.test_connection',\n",
    "    endpoint => 'gemini-2.5-flash',\n",
    "    model_params => JSON '{\"generationConfig\":{\"temperature\": 0.5, \"maxOutputTokens\": 1000}}'\n",
    "    ).result AS keywords\n",
    "FROM\n",
    "  `bigquery-public-data.imdb.reviews`\n",
    "WHERE movie_id = \"tt0067345\"\n",
    "LIMIT 5\n",
    ";"
   ]
  },
  {
   "cell_type": "markdown",
   "metadata": {
    "id": "FnSyQrNzb_4A"
   },
   "source": [
    "Why are some of the responses empty? By setting the `maxOutputTokens` value to 1,000 (much lower than the default 65,535 which was used in the first queries), you are seeing this limit in action. Gemini 2.5 Flash has [thinking capabilities](https://cloud.google.com/vertex-ai/generative-ai/docs/thinking), which means the model goes through a \"thinking process\" before determining and returning its response, and this thinking process consumes output tokens. In this case, the model is hitting its `maxOutputTokens` value before it moves from its thinking process to returning the actual response.\n",
    "\n",
    "You can resolve this issue by increasing the `maxOutputTokens` value and/or setting a `thinking_budget` to limit the amount of tokens that can be consumed by the thinking process."
   ]
  },
  {
   "cell_type": "markdown",
   "metadata": {
    "id": "aBBpEQIYJ2Dt"
   },
   "source": [
    "###### Setting a `thinking_budget`\n",
    "\n",
    "You can set a [`thinking_budget`](https://cloud.google.com/bigquery/docs/reference/standard-sql/bigqueryml-syntax-ai-generate#thinking-budget) to manage how many output tokens are allocated to the thinking phase of the model's response development.\n",
    "\n",
    "The next query shows how to set the `thinking_budget` as an additional parameter in the `model_params` argument."
   ]
  },
  {
   "cell_type": "code",
   "execution_count": null,
   "metadata": {
    "colab": {
     "base_uri": "https://localhost:8080/",
     "height": 270,
     "referenced_widgets": [
      "59f3ea2c89954476afb1dac2b994a773",
      "6828936783084a088280082bf76c92be",
      "b18c330eb6bb406c96a56601c644bf48",
      "0a8b40c6fc4748238021d6d4a0ee87be",
      "abeefa4106aa4ddcb675832983c3d685",
      "a3ab39a77dde4ffbae6275057deef465",
      "85cd5cebf08b422a94cd054585924b1f",
      "61dafc9bb6c74c1c9b7b60653eca8ade",
      "b117808f3669416094246e1bccd7e346",
      "bb019b78c87c40d0833c6a4f437a0388",
      "96e1200da85b421091056a6db362aae5",
      "83da749eb4254776ac77be181fb145a9",
      "aa0d3c3730814137bdb888ec54a830e1",
      "d24b9e4775614e47b7e9372e03e4f051",
      "3a7eff620f3c4c6c9d493c2301b63dbc",
      "7af89242dc624bf894fa7eb0b640f610",
      "eb5ec009e758414e91dfa402d306cbdc",
      "a4115945e01e4cdda891edb0a1ff0b04",
      "aaebd52e8d63412b90fb8273b0b2c439",
      "686b512fe6b849d281b38b0c52d898bd",
      "6587d09ce50549eaa5d0fb4294eb3819",
      "90ab5fa9fec7414fb3f690363b115f17"
     ]
    },
    "id": "L2fNyr7aGbDP",
    "outputId": "78c181ee-049e-4498-d2b8-8547e9201b0e"
   },
   "outputs": [],
   "source": [
    "%%bigquery --project {PROJECT_ID}\n",
    "\n",
    "SELECT\n",
    "  review,\n",
    "  AI.GENERATE(('Extract the keywords from the text below: ', review),\n",
    "    connection_id => 'us.test_connection',\n",
    "    endpoint => 'gemini-2.5-flash',\n",
    "    model_params => JSON '{\"generationConfig\":{\"temperature\": 0.5, \"maxOutputTokens\": 1000, \"thinking_config\": {\"thinking_budget\": 500}}}'\n",
    "    ).result AS keywords\n",
    "FROM\n",
    "  `bigquery-public-data.imdb.reviews`\n",
    "WHERE movie_id = \"tt0067345\"\n",
    "LIMIT 5\n",
    ";"
   ]
  },
  {
   "cell_type": "markdown",
   "metadata": {
    "id": "edQ8hdPb1QMm"
   },
   "source": [
    "##### The `output_schema` argument\n",
    "\n",
    "As you can see in the last query, the model's responses were not provided in a standard structure. You can use the **`output_schema`** argument to define the format of the responses.\n",
    "\n",
    "First, you'll specify the output as a string of key words by adding `output_schema => 'keywords ARRAY<STRING>'` to the `AI.GENERATE` request."
   ]
  },
  {
   "cell_type": "code",
   "execution_count": null,
   "metadata": {
    "colab": {
     "base_uri": "https://localhost:8080/",
     "height": 270,
     "referenced_widgets": [
      "8bab967a657a48daaf3b15087f2bc97e",
      "496d1399568a4225aa751de5681ff391",
      "c4006324d6204fcb855325bc6f45b1a9",
      "a92d17d962ed4cceac8372f80ce271a6",
      "56e148c882034c40bfff704a883c2ae6",
      "711d9653a2a94abdb312a23fcfde2a97",
      "67e52cd4ebfa4c47bc5efbc294024b43",
      "b1df947f56a44f31b08f9e472c6610a5",
      "3b84ad3274144464930a4b16ffd9153b",
      "3dc860e4548142658d4ab2b935759caf",
      "cff25ee566df4739bb9f1d6055ec58dd",
      "37faa792f35740d69d2da1a6702345cf",
      "780b7190643a4e1a8c4e7b33f9c78561",
      "6531ff6b31464398a6271a77b1382c21",
      "97e00909534f46f29d69aada5c6ad49a",
      "dfae4fc7fae34dc78c3b39c644b7adfb",
      "3c48fe23506b4e33993cc631f44837b1",
      "d62168dd90144b069cceaa545a93b58b",
      "1fbfd2e5d19b482cad69a9bddbf01b82",
      "d3dcdc0e231a4c17a926fd707d2d2af3",
      "dfd2c5950ba34347aa9196246dc9d3c0",
      "ffd05cd16e9d4cb99dc81b5e0f15f472"
     ]
    },
    "id": "7w-oUv8UimxT",
    "outputId": "eaffd3f4-cd58-481f-964e-d1aa910f0076"
   },
   "outputs": [],
   "source": [
    "%%bigquery --project {PROJECT_ID}\n",
    "\n",
    "SELECT\n",
    "  review,\n",
    "  AI.GENERATE(\n",
    "    ('Extract the keywords from the text below: ', review),\n",
    "    connection_id => 'us.test_connection',\n",
    "    endpoint => 'gemini-2.5-flash',\n",
    "    output_schema => 'keywords ARRAY<STRING>').keywords\n",
    "FROM\n",
    "  `bigquery-public-data.imdb.reviews`\n",
    "WHERE movie_id = \"tt0067345\"\n",
    "LIMIT 5\n",
    ";"
   ]
  },
  {
   "cell_type": "markdown",
   "metadata": {
    "id": "AoF8XxEa1HsW"
   },
   "source": [
    "Now the responses are now arrays of keywords - a more useful format for this use case!\n",
    "\n",
    "Next, you'll adjust the prompt to the model to extract the sentiment as well, and adjust the `output_schema` accordingly."
   ]
  },
  {
   "cell_type": "code",
   "execution_count": null,
   "metadata": {
    "colab": {
     "base_uri": "https://localhost:8080/",
     "height": 270,
     "referenced_widgets": [
      "597622848edd4f84b52e59fc04761527",
      "619a28911962438a958fc0f16bce1611",
      "5167d943a8544b7493e7acb79764bbf5",
      "00868bf6d4844b86afdb246c8c267f0e",
      "e38fce7710724fe1acf67c9fbebadd1f",
      "3f314ab33ff848809128a1a5aa943c7d",
      "2d3fdbc9a8d0495b907e514da5ce0c88",
      "f811cba8f9cc4a419708dc1847dfe244",
      "fa7eec81a77545d7968b21a586c0b661",
      "5c070ac746834e4c9d9713f8066b3941",
      "08270c5f68744741b3428733a4752086",
      "7f606a426da24fbc9f340d61e9cc8fd0",
      "d73366bdc3ca477db30bfc7dfd6faf84",
      "e21db075c26e46d7a3f044648276ed91",
      "90bba1b22f724d82a508f4bdb1403794",
      "5adcddab72a747f6907faab33f1fcb12",
      "1fcf2825a3554cd0a3a12afbf8ba5b9e",
      "2f8e4195723a4b7ba4a419d83538215b",
      "937d157873d74afb8e59885185ce8466",
      "acfe7ccf9a4f45abb4bd4d4a17235959",
      "bedd7b8c2d2d4610924bc377ede2490b",
      "c3033c50e7e44362994a4aa97667e412"
     ]
    },
    "id": "f1wfmGVZkA1x",
    "outputId": "8549eb79-01f9-4bb6-d26e-a3ec43078869"
   },
   "outputs": [],
   "source": [
    "%%bigquery --project {PROJECT_ID}\n",
    "\n",
    "SELECT\n",
    "  review,\n",
    "  AI.GENERATE(\n",
    "    ('Extract the keywords and sentiment (Positive, Negative, or Neutral) from the following review: ', review),\n",
    "    connection_id => 'us.test_connection',\n",
    "    endpoint => 'gemini-2.5-flash',\n",
    "    output_schema => 'keywords ARRAY<STRING>, sentiment STRING').full_response\n",
    "FROM\n",
    "  `bigquery-public-data.imdb.reviews`\n",
    "WHERE movie_id = \"tt0067345\"\n",
    "LIMIT 5\n",
    ";"
   ]
  },
  {
   "cell_type": "markdown",
   "metadata": {
    "id": "KmpYd5Dg2AJy"
   },
   "source": [
    "This time, the response is in a JSON format. Why?\n",
    "\n",
    "When using `output_schema` with [`AI.GENERATE`](https://cloud.google.com/bigquery/docs/reference/standard-sql/bigqueryml-syntax-ai-generate), you can specify in the SQL which field you want to return. In this case the SQL specifies the `.full_response` which will provide a JSON object containing the various text response elements. You may alternatively specify to return any one of the schema columns you defined, such as `.keywords` (as was used in the first query of this section) or `.sentiment`. However, you cannot specify to return multiple columns.\n",
    "\n",
    " You could use SQL to parse the JSON provided in the `.full_response`,  but for ease of use, let's look at the [`AI.GENERATE_TABLE`](https://cloud.google.com/bigquery/docs/reference/standard-sql/bigqueryml-syntax-generate-table) function."
   ]
  },
  {
   "cell_type": "markdown",
   "metadata": {
    "id": "generate_table_md"
   },
   "source": [
    "### Using `AI.GENERATE_TABLE`: Extract keywords and sentiment from movie reviews\n",
    "\n",
    "The [`AI.GENERATE_TABLE`](https://cloud.google.com/bigquery/docs/reference/standard-sql/bigqueryml-syntax-generate-table) function provides expanded functionality for turning unstructured text into a structured table. Here, you'll perform the same analysis to extract keywords and overall sentiment from the `bigquery-public-data.imdb_reviews` table and return the response as multiple columns in one query."
   ]
  },
  {
   "cell_type": "markdown",
   "metadata": {
    "id": "prepare_md"
   },
   "source": [
    "#### Create a BigQuery Dataset\n",
    "\n",
    "The syntax for using [`AI.GENERATE_TABLE`](https://cloud.google.com/bigquery/docs/reference/standard-sql/bigqueryml-syntax-generate-table) differs from [`AI.GENERATE`](https://cloud.google.com/bigquery/docs/reference/standard-sql/bigqueryml-syntax-ai-generate), and it requires that you first create a remote model in BigQuery that connects to the one of the [generally available](https://cloud.google.com/vertex-ai/generative-ai/docs/models#generally_available_models) or [preview](https://cloud.google.com/vertex-ai/generative-ai/docs/models#preview_models) Gemini models.\n",
    "\n",
    "Running the following query will create a BigQuery dataset called **`bq_ai_tutorial`** to house the remote model:"
   ]
  },
  {
   "cell_type": "code",
   "execution_count": null,
   "metadata": {
    "id": "create_dataset_code"
   },
   "outputs": [],
   "source": [
    "%%bigquery --project {PROJECT_ID}\n",
    "\n",
    "CREATE SCHEMA\n",
    "  `bq_ai_tutorial` OPTIONS (location = 'US');"
   ]
  },
  {
   "cell_type": "markdown",
   "metadata": {
    "id": "create_model_md"
   },
   "source": [
    "#### Create a remote model for Gemini 2.5 Flash\n",
    "\n",
    "Now you'll create the remote model, which is simply a pointer to the model endpoint. In this example, you'll continue to use the `gemini-2.5-flash` model endpoint.\n",
    "\n",
    "Once you create this remote model, it is saved in your `bq_ai_tutorial` dataset so that you can use it in any future analysis."
   ]
  },
  {
   "cell_type": "code",
   "execution_count": null,
   "metadata": {
    "id": "create_model_code"
   },
   "outputs": [],
   "source": [
    "%%bigquery --project {PROJECT_ID}\n",
    "\n",
    "CREATE OR REPLACE MODEL\n",
    "  `bq_ai_tutorial.gemini_2_5_flash`\n",
    "REMOTE WITH\n",
    "    CONNECTION `us.test_connection`\n",
    "    OPTIONS (ENDPOINT = 'gemini-2.5-flash');\n"
   ]
  },
  {
   "cell_type": "markdown",
   "metadata": {
    "id": "SBiwwjzhendG"
   },
   "source": [
    "#### Run analysis using the remote model"
   ]
  },
  {
   "cell_type": "markdown",
   "metadata": {
    "id": "CmVE4UxdnoqB"
   },
   "source": [
    "Now that the remote model has been created, you can prompt it with [`AI.GENERATE_TABLE`](https://cloud.google.com/bigquery/docs/reference/standard-sql/bigqueryml-syntax-generate-table) to analyze data and specify the output schema with multiple columns returned."
   ]
  },
  {
   "cell_type": "code",
   "execution_count": null,
   "metadata": {
    "colab": {
     "base_uri": "https://localhost:8080/",
     "height": 270,
     "referenced_widgets": [
      "cbaef7082532489d9d1bebecf5bb89b2",
      "98a8f2c79e8245a0a4a365070263648b",
      "8d5d79c394434bf795bdec64a4d55390",
      "8187050ddf1d4b5aab6320896d5b0bbe",
      "65a503490f4b4762a3376873c34451a3",
      "f6e20ce7014e4a9699f71fa004bd05d1",
      "59c3ab17bfc84005bb323288652bcd00",
      "c5e99c57b6fa4a8685a9715342febd9e",
      "e6884b15f98a4978ac965de6f4c99e77",
      "2117403e33e2400084099a97292d966a",
      "ebc5b3f70bf9434bbe869b79430edccc",
      "282757f370ea4d45abda7ed969cac0bf",
      "9ae61100b17d48a4b67673514965b063",
      "4b521f96124d40edbcd06d0b3396738e",
      "effb4a8f75314f719c2daa1b5ca4c25b",
      "0f416a0e0a3c456b90ef5197f2200b4c",
      "e59fe9d38bf042ac89b9be4d0bb4bbb8",
      "51685e03951a46b0a4788fb9cf6ee5d6",
      "b6fa02a61e954f91b8091ac7cbf1824c",
      "788b697bcdbf4efaa5fe150ac61ba7a2",
      "c2c9a46b488449d683aacb29b18bcdf5",
      "406c5ef747974de295c66661f5988282"
     ]
    },
    "id": "generate_table_code",
    "outputId": "d4b0311a-ab0e-47c2-efd7-d487e633e006"
   },
   "outputs": [],
   "source": [
    "%%bigquery --project {PROJECT_ID}\n",
    "\n",
    "SELECT\n",
    "  review,\n",
    "  keywords,\n",
    "  sentiment\n",
    "FROM\n",
    "  AI.GENERATE_TABLE(\n",
    "    MODEL `bq_ai_tutorial.gemini_2_5_flash`,\n",
    "    (\n",
    "      SELECT\n",
    "        review,\n",
    "        ('Extract the keywords and sentiment (Positive, Negative, or Neutral) from the following review:',review) AS prompt,\n",
    "      FROM\n",
    "        `bigquery-public-data.imdb.reviews`\n",
    "      WHERE movie_id = \"tt0067345\"\n",
    "      LIMIT 5\n",
    "    ),\n",
    "    STRUCT(\n",
    "      'keywords ARRAY<STRING>, sentiment STRING' AS output_schema\n",
    "    )\n",
    "  );"
   ]
  },
  {
   "cell_type": "markdown",
   "metadata": {
    "id": "WkdFwoOp1cRm"
   },
   "source": [
    "#### Saving results in a BigQuery table\n",
    "Wrapping any `SELECT` statement with the [`CREATE TABLE` statement](https://cloud.google.com/bigquery/docs/reference/standard-sql/data-definition-language#create_table_statement) allows you to create a permanent table from your query results. You can run the next two queries to see that in action."
   ]
  },
  {
   "cell_type": "code",
   "execution_count": null,
   "metadata": {
    "id": "I0yvijK71Zbm"
   },
   "outputs": [],
   "source": [
    "%%bigquery --project {PROJECT_ID}\n",
    "\n",
    "CREATE OR REPLACE TABLE `bq_ai_tutorial.reviews_keywords_sentiment` AS (\n",
    "  SELECT\n",
    "    review,\n",
    "    keywords,\n",
    "    sentiment\n",
    "  FROM\n",
    "    AI.GENERATE_TABLE(\n",
    "      MODEL `bq_ai_tutorial.gemini_2_5_flash`,\n",
    "      (\n",
    "        SELECT\n",
    "          review,\n",
    "          ('Extract the keywords and sentiment (Positive, Negative, or Neutral) from the following review:',review) AS prompt,\n",
    "        FROM\n",
    "          `bigquery-public-data.imdb.reviews`\n",
    "        WHERE movie_id = \"tt0067345\"\n",
    "        LIMIT 5\n",
    "      ),\n",
    "      STRUCT(\n",
    "        'keywords ARRAY<STRING>, sentiment STRING' AS output_schema)));"
   ]
  },
  {
   "cell_type": "code",
   "execution_count": null,
   "metadata": {
    "colab": {
     "base_uri": "https://localhost:8080/",
     "height": 270,
     "referenced_widgets": [
      "c53a940d704b4329ac242ae745e9e8b7",
      "78d3757f96194d20b782e2465da06476",
      "776360759e7b47f2bb4562edcd78ccc3",
      "2416511ebc4540f2bf504fad6e2fc453",
      "2ed28278ff25448bb9655ce866961cfe",
      "a14bc29e5de04141a01f76df2d8f478a",
      "0dacf7cc70704dfbbad9b16009323879",
      "d36e9ea2806b4f77b2ec2167e1175acf",
      "5bfc3334edd34dbe9db7a3d9e16202f5",
      "b9010b2248af4f948ca88458a24d44dd",
      "dbf19843813347c1bc9aff178c2108aa",
      "317154ab2287468db463d64b9e886f4d",
      "3726b2e0aa5b48d4bab6e96a943a5fbb",
      "7739880c9a56400eb6137d7720b4012b",
      "d6bfdd6a796a4248bb8f33c0233ff8ac",
      "6924796a8b6c455b9b074529bc8cc5e0",
      "412e1935b9274c46a3451b986dbab4be",
      "8052f270501b45d9b2f04fcb2412c12a",
      "80b149a6a2404a478ceae39280e3a5d3",
      "5c5b3e5f1971493590a86c3198f57b31",
      "5eb3986aa92941838ce38fe3f4266157",
      "48a9336a2e4d4bd794112e099fc31c01"
     ]
    },
    "id": "JW88rus93d9D",
    "outputId": "aa233a47-112a-4026-c656-3cd1d5ea6fcf"
   },
   "outputs": [],
   "source": [
    "%%bigquery --project {PROJECT_ID}\n",
    "\n",
    "SELECT *\n",
    "FROM `bq_ai_tutorial.reviews_keywords_sentiment`"
   ]
  },
  {
   "cell_type": "markdown",
   "metadata": {
    "id": "T0Hz06RiecoI"
   },
   "source": [
    "#### Using arguments to adjust model configuration\n",
    "Similar to `AI.GENERATE`, [`AI.GENERATE_TABLE`](https://cloud.google.com/bigquery/docs/reference/standard-sql/bigqueryml-syntax-generate-table) also allows you to customize the parameters for your generation request. The placement of these parameters is within the `STRUCT` value. The [documentation page](https://cloud.google.com/bigquery/docs/reference/standard-sql/bigqueryml-syntax-generate-table#:~:text=dataset.table%60%20%7C%20(query_statement)%20%7D%2C-,STRUCT(,-output_schema%20AS%20output_schema) contains the available fields you can define within the `STRUCT`.\n",
    "\n",
    "Next you'll take the same query and now define values for `temperature` and `max_output_tokens`."
   ]
  },
  {
   "cell_type": "code",
   "execution_count": null,
   "metadata": {
    "colab": {
     "base_uri": "https://localhost:8080/",
     "height": 270,
     "referenced_widgets": [
      "a98918f4e45d44beb48f384c0a746e78",
      "2e34ab13db524bd698c874328ae27935",
      "cf3d18064b32450cb897134eb3766a1f",
      "6efc27279d1942f384c6a288b5d94279",
      "4c75150de89a4027b05a0f00743af0cc",
      "8bfdbf507a3d43d1822ad7b5ae1d3a0b",
      "153189fc5f6e4f95816eacd9c71af82e",
      "2eed73d94b8f44da8f7f344437a3f7e2",
      "c920d8e6ad504503bca6795cb0149069",
      "11ec08c8f1bd405383a61fa24a5edcdc",
      "67482091beb24f63bb5cc4eea0311854",
      "b049b918937349c8a61aa7f8f4cbf6ba",
      "a2ee6bab50dd43df9d6e50a75b864155",
      "8c698e74a5c245bc92af51e2f7401038",
      "61fc779c48474a69a37b7ba019ed0eec",
      "af69e4937f9743b481e224003644042b",
      "ebdb0478ac614451a7d186058f561395",
      "a0bb34b7d47e4b558bcea9683a4624c4",
      "2db8261793cd4f13b1bc3d003333b19d",
      "3b1d6adabf484638a0c2733e109d9067",
      "a69e2a2b13bb4525a3001cc8a73939fe",
      "023a7285ad1a4b38b81c490856702474"
     ]
    },
    "id": "SyGREvkxeXzh",
    "outputId": "c7edf957-18aa-4d6d-cae7-3e3a25ebc28c"
   },
   "outputs": [],
   "source": [
    "%%bigquery --project {PROJECT_ID}\n",
    "\n",
    "SELECT\n",
    "  review,\n",
    "  keywords,\n",
    "  sentiment\n",
    "FROM\n",
    "  AI.GENERATE_TABLE(\n",
    "    MODEL `bq_ai_tutorial.gemini_2_5_flash`,\n",
    "    (\n",
    "      SELECT\n",
    "        review,\n",
    "        ('Extract the key words and sentiment (Positive, Negative, or Neutral) from the following review:',review) AS prompt,\n",
    "      FROM\n",
    "        `bigquery-public-data.imdb.reviews`\n",
    "      WHERE movie_id = \"tt0067345\"\n",
    "      LIMIT 5\n",
    "    ),\n",
    "    STRUCT(\n",
    "      'keywords ARRAY<STRING>, sentiment STRING' AS output_schema,\n",
    "      0.5 AS temperature,\n",
    "      1000 AS max_output_tokens\n",
    "    )\n",
    "  );"
   ]
  },
  {
   "cell_type": "markdown",
   "metadata": {
    "id": "tN51GtTMYEoF"
   },
   "source": [
    "## Generate text with partner and open models with `ML.GENERATE_TEXT`\n",
    "\n",
    "The tutorial thus far has performed analysis using the [Gemini family of models](https://cloud.google.com/vertex-ai/generative-ai/docs/models#generally_available_models). However, the generative analysis capabilities of BigQuery extend to several [partner models](https://cloud.google.com/bigquery/docs/generate-text#enable-model), including Anthropic Claude, Llama, and Mistral AI, as well as [open models](https://cloud.google.com/bigquery/docs/generate-text#deploy_an_open_model) from the [Vertex AI Model Garden and Hugging Face](https://cloud.google.com/bigquery/docs/reference/standard-sql/bigqueryml-syntax-create-remote-model-open#supported_open_models).\n",
    "\n",
    "When choosing a partner or open model, you will use the [`ML.GENERATE_TEXT` function](https://cloud.google.com/bigquery/docs/reference/standard-sql/bigqueryml-syntax-generate-text) to perform your analysis. The syntax for the [`ML.GENERATE_TEXT` function](https://cloud.google.com/bigquery/docs/reference/standard-sql/bigqueryml-syntax-generate-text) is similar to `AI.GENERATE_TABLE`. Let's walk through an example analysis using a partner model."
   ]
  },
  {
   "cell_type": "markdown",
   "metadata": {
    "id": "RB90JcraZrwf"
   },
   "source": [
    "### Enabling a partner model\n",
    "\n",
    "You must enable partner models in Vertex AI before you can use them in BigQuery.\n",
    "\n",
    "**BEFORE MOVING AHEAD**, enable the [**Anthropic Claude 3 Haiku** model](https://console.cloud.google.com/vertex-ai/publishers/anthropic/model-garden/claude-3-haiku) by following the [instructions in the documentation](https://cloud.google.com/bigquery/docs/generate-text#enable-model)."
   ]
  },
  {
   "cell_type": "markdown",
   "metadata": {
    "id": "plOQu7eIjeEs"
   },
   "source": [
    "### Create a remote model for Anthropic Claude 3 Haiku\n",
    "\n",
    "Now you'll create a new remote model, pointing to the `claude-3-haiku@20240307` model endpoint."
   ]
  },
  {
   "cell_type": "code",
   "execution_count": null,
   "metadata": {
    "id": "wrYOI_HGjQT2"
   },
   "outputs": [],
   "source": [
    "%%bigquery --project {PROJECT_ID}\n",
    "\n",
    "CREATE OR REPLACE MODEL\n",
    "  `bq_ai_tutorial.claude_3_haiku`\n",
    "REMOTE WITH\n",
    "    CONNECTION `us.test_connection`\n",
    "    OPTIONS (ENDPOINT = 'claude-3-haiku@20240307');"
   ]
  },
  {
   "cell_type": "markdown",
   "metadata": {
    "id": "vtJ5nuMbmY0C"
   },
   "source": [
    "### Run analysis using the partner model\n",
    "\n",
    "Now you are ready to use the remote model with an [`ML.GENERATE_TEXT` function](https://cloud.google.com/bigquery/docs/reference/standard-sql/bigqueryml-syntax-generate-text). The following query repeats your previous analysis done to extract key words and sentiment from the reviews, now using Anthropic Claude 3 Haiku."
   ]
  },
  {
   "cell_type": "code",
   "execution_count": null,
   "metadata": {
    "colab": {
     "base_uri": "https://localhost:8080/",
     "height": 270,
     "referenced_widgets": [
      "459c72b7ca094340bc35d4330a0258bf",
      "0c67624d1ac7475085ac0312c3175d85",
      "581be535103b40f2bb018da3d043e0b2",
      "328c9be11f4a4a749b214da060016e51",
      "6426a1ffaed347d0b40f65bb263939a3",
      "c3d92454ea1e4bbaaf56be2dbab95642",
      "90aa9bb83bb04e86a8b698ed5a4c9be7",
      "37aef23ac42641478bd577c4913b8feb",
      "5e5df263d3c84bf08ed1d352ded87616",
      "465650c57ab34cc79a1e63d4e48be570",
      "22c7a4130315402f8e171ecc3b7a30f1",
      "3b30fb2e55d643959f2ba91d2a9a08ee",
      "87a63e3a8a3f4c168da53f9e8d6a3771",
      "b215eccc395e4d458b0fbeb42f577a37",
      "50d964a4041b40b1b7a5767aaabb23af",
      "39d681d667a740609bb052f9073a0469",
      "9fab7d0c177f4c85bcf791cd011b2e08",
      "d3381d5826ce42c89c7c45d44f1255fe",
      "222db5360cb44991a27f9acfdd123f5a",
      "fed767ab5fa944c4a493d6efb315ee9c",
      "5605207840464097abcf81a105b590be",
      "264903487e7d44d0acb06d50de259cff"
     ]
    },
    "id": "HaPTzBYrZnr4",
    "outputId": "2b9d1759-a58d-4874-c7bb-0ab34b314096"
   },
   "outputs": [],
   "source": [
    "%%bigquery --project {PROJECT_ID}\n",
    "\n",
    "SELECT\n",
    "  review,\n",
    "  ml_generate_text_llm_result as response\n",
    "FROM\n",
    "  ML.GENERATE_TEXT(\n",
    "    MODEL `bq_ai_tutorial.claude_3_haiku`,\n",
    "    (\n",
    "      SELECT\n",
    "        review,\n",
    "        CONCAT('Extract the keywords and sentiment (Positive, Negative, or Neutral) from the following review:',review) AS prompt,\n",
    "      FROM\n",
    "        `bigquery-public-data.imdb.reviews`\n",
    "      WHERE movie_id = \"tt0067345\"\n",
    "      LIMIT 5\n",
    "    ),\n",
    "    STRUCT(\n",
    "      TRUE AS flatten_json_output,\n",
    "      500 AS max_output_tokens\n",
    "    )\n",
    "  );"
   ]
  },
  {
   "cell_type": "markdown",
   "metadata": {
    "id": "scalar_md"
   },
   "source": [
    "## Perform row-Level AI with scalar functions `AI.GENERATE_BOOL`, `AI.GENERATE_DOUBLE`, and `AI.GENERATE_INT`\n",
    "\n",
    "BigQuery's scalar AI functions ([`AI.GENERATE_BOOL`](https://cloud.google.com/bigquery/docs/reference/standard-sql/bigqueryml-syntax-ai-generate-bool), [`AI.GENERATE_DOUBLE`](https://cloud.google.com/bigquery/docs/reference/standard-sql/bigqueryml-syntax-ai-generate-double), and [`AI.GENERATE_INT`](https://cloud.google.com/bigquery/docs/reference/standard-sql/bigqueryml-syntax-ai-generate-int)) bring the power of LLMs for AI-driven filtering, classification, and data extraction directly within your SQL queries.\n",
    "\n",
    "On the surface, these functions perform tasks similar to that of using `AI.GENERATE` with a defined `output_schema` of data type of `BOOL`, `FLOAT64`, or `INT64`. However, these functions aren't only available for use in a `SELECT` clause, but also in a `WHERE` clause, giving you the power to do complex filtering with natural language. The next few examples focus on the filtering use case.\n",
    "\n"
   ]
  },
  {
   "cell_type": "markdown",
   "metadata": {
    "id": "generate_bool_md"
   },
   "source": [
    "### Using `AI.GENERATE_BOOL`: Filtering for drought tolerant tree species\n",
    "\n",
    "Let's use [`AI.GENERATE_BOOL`](https://cloud.google.com/bigquery/docs/reference/standard-sql/bigqueryml-syntax-ai-generate-bool) to return tree species in `bigquery-public-data.new_york_trees.tree_species` that are drought tolerant."
   ]
  },
  {
   "cell_type": "code",
   "execution_count": null,
   "metadata": {
    "colab": {
     "base_uri": "https://localhost:8080/",
     "height": 1000,
     "referenced_widgets": [
      "6cb65babb91e4be3a06d9fbba7904d82",
      "d0f15b82dad34f4198b1bd177b947f74",
      "12001c97b397438ebdf574e1edd7fca0",
      "d013be3fef1747fb85088775b9701c06",
      "fcf05cd0810e4a0fad62ccccc000b31f",
      "7f1f2712159f4027b70266e182c10ae7",
      "78f647af862a41dc85472f25f77fdc92",
      "cb0e2386a9434d4ea9e000628c5dd32a",
      "4a859db1bf864751a500fe8bf9001277",
      "7af815c7ec304fdbaf245e1d87995c8d",
      "8a312166cf3b4f0b99bbc7b0a7cdf3c6",
      "b8fb973a019e4e02bf7794ea9e9fd70d",
      "9c5cd8a25fff41a6b78803694e6d6765",
      "de66f76ef0e84c36ab79a9194e1235da",
      "3551e6e07f5a4526be2ee14fade75b71",
      "c2467a0d05614fe1b8c00eb4746a79ee",
      "b76c5b5fd8cc4ba2873c022fe6f83d51",
      "a5997210bd744881bb20ae7494097aee",
      "a69d1778072d4d40a64cef30d6360052",
      "f1e4ac54dbfc417c8616c4d947149df4",
      "7d1ed3be4dc1497995c27930903cf444",
      "a89bbef2d1ee4f969863fdd4d937644d"
     ]
    },
    "id": "generate_bool_code",
    "outputId": "64087f3e-ff35-4c53-9ff3-da4ffb5b5e74"
   },
   "outputs": [],
   "source": [
    "%%bigquery --project {PROJECT_ID}\n",
    "\n",
    "SELECT\n",
    "  species_scientific_name,\n",
    "  species_common_name\n",
    "FROM\n",
    "  `bigquery-public-data.new_york_trees.tree_species`\n",
    "WHERE\n",
    "  AI.GENERATE_BOOL(\n",
    "    ('Is this tree species drought tolerant?', species_scientific_name),\n",
    "    connection_id => 'us.test_connection',\n",
    "    endpoint => 'gemini-2.5-flash').result = true"
   ]
  },
  {
   "cell_type": "markdown",
   "metadata": {
    "id": "generate_double_md"
   },
   "source": [
    "### Using `AI.GENERATE_DOUBLE`: Filtering for tree species with a minimum average lifespan\n",
    "\n",
    "With [`AI.GENERATE_DOUBLE`](https://cloud.google.com/bigquery/docs/reference/standard-sql/bigqueryml-syntax-ai-generate-double), we can get a numerical response of type `FLOAT64`, such as average lifespan in years of each tree species. Again, we'll use `bigquery-public-data.new_york_trees.tree_species` table, this time filtering for species that meet a minimum average lifespan requirement of 19 years."
   ]
  },
  {
   "cell_type": "code",
   "execution_count": null,
   "metadata": {
    "colab": {
     "base_uri": "https://localhost:8080/",
     "height": 1000,
     "referenced_widgets": [
      "fb42e508c3034da7b666ddd7973ea0fa",
      "070732d5ba5b46f78da44bd1e5505c1e",
      "0e10351d1973412bb3d52ce99acc2c3c",
      "d200d13099844bf6acd28c47bd2ed74b",
      "1e224a91db734e51bc3e73e4b363c82d",
      "857dd866e8b54e53802fe67a392eddcb",
      "aab804abf12041d9bc9febe96f741d30",
      "24e0a7dad0974ed9809a5a94d8eb369c",
      "f3dad81ebf2e48808893a6c44241470e",
      "0f406abca4c2445bbbcf3e44c3b91cd2",
      "17a45015ca47480da67ff0384ed9b9f5",
      "860e0601c2584fe3bd996e23ce4043f8",
      "2e358e4ee5cd4525905df445200a3268",
      "54ce5bc1cf4c466fb0b9269280d85771",
      "14c15c48bba848a2a8dc0f478e34feee",
      "fe5a457feeb54c03be651d8eac38911c",
      "e64a3a5f7e474ea7955908a605e6fac6",
      "5f3e45c267064026be98c7cd1be1edb3",
      "cc45b25042ac41f58859f5fb79137748",
      "3d14a559153348eb97797806bff63f6d",
      "0f1382bf86654cc7a84f65c2b967522e",
      "2cadbdd68f874f1d9db3eee96d90ac7c"
     ]
    },
    "id": "xT9vakyw1PZ2",
    "outputId": "0d3376e5-522f-48a6-faf3-2a8e8661d762"
   },
   "outputs": [],
   "source": [
    "%%bigquery --project {PROJECT_ID}\n",
    "\n",
    "SELECT\n",
    "  species_scientific_name,\n",
    "  species_common_name\n",
    "FROM\n",
    "  `bigquery-public-data.new_york_trees.tree_species`\n",
    "WHERE\n",
    "  AI.GENERATE_INT(\n",
    "    ('What is the average life in years of this tree species?', species_scientific_name),\n",
    "    connection_id => 'us.test_connection',\n",
    "    endpoint => 'gemini-2.5-flash').result > 19"
   ]
  },
  {
   "cell_type": "markdown",
   "metadata": {
    "id": "generate_int_md"
   },
   "source": [
    "### Using `AI.GENERATE_INT`: Filtering for tree species of specific average mature height\n",
    "\n",
    "[`AI.GENERATE_INT`](https://cloud.google.com/bigquery/docs/reference/standard-sql/bigqueryml-syntax-ai-generate-int) is similar to [`AI.GENERATE_DOUBLE`](https://cloud.google.com/bigquery/docs/reference/standard-sql/bigqueryml-syntax-ai-generate-double), except that it returns data of type `INT64`, instead of `FLOAT64`. Let's use it to return tree species with an average mature height of 10-20 meters.\n"
   ]
  },
  {
   "cell_type": "code",
   "execution_count": null,
   "metadata": {
    "colab": {
     "base_uri": "https://localhost:8080/",
     "height": 803,
     "referenced_widgets": [
      "9cdc5a2aa67d40149613fbc2a1fac655",
      "8c18d336b87544c58423c3aafc25bcac",
      "7c39374877404af2b43842d05c456c9e",
      "8a2b79fbec0948448260b53b7aedf8a9",
      "baf98a6ced7c4dd8ae72acb81cb293c4",
      "683dd167356a4c7f824cbe837702807f",
      "bf2b5de366e149b78ce41c2ac325b007",
      "43fe39b0c8904e84947e639c6080d717",
      "8eac4c24a39f42e9b521dabda5b84d28",
      "08c7b6008984499589a35b71919b4a43",
      "6ffd2b2c478c48d9a0669c83be693c10",
      "b9038840bf8545899b4b24d9ab57d629",
      "df38d8dd1f43411e9f7d50961320e352",
      "fafc8ce3472b41bfb4d0e7f1b79cc219",
      "9a3d8a2e954043f9adb561ac446ab26e",
      "1cbef0776dd74f8d93334bbc8b646f4e",
      "5393efa1bd494ddebf7106da38663a1b",
      "9bedbb41dd5042a6a43a7dd7117ca6c0",
      "d179dddbf10746c0b1c670363ac544a2",
      "897ed1e7bb4f4676a3e4afbedce02f40",
      "a3522633c2eb41eaa46037cc346b0211",
      "b7c530c6842b4cb3b0ee41a0581bf552"
     ]
    },
    "id": "generate_int_code",
    "outputId": "fff7f2de-61a7-4f45-a4e7-f84771b4c2b5"
   },
   "outputs": [],
   "source": [
    "%%bigquery --project {PROJECT_ID}\n",
    "\n",
    "SELECT\n",
    "  species_scientific_name,\n",
    "  species_common_name\n",
    "FROM\n",
    "  `bigquery-public-data.new_york_trees.tree_species`\n",
    "WHERE\n",
    "  AI.GENERATE_DOUBLE(\n",
    "    ('What is the average height in meters of this tree species at full maturity?', species_scientific_name),\n",
    "    connection_id => 'us.test_connection',\n",
    "    endpoint => 'gemini-2.5-flash').result BETWEEN 10 AND 20"
   ]
  },
  {
   "cell_type": "markdown",
   "metadata": {
    "id": "LXSfuNKs521-"
   },
   "source": [
    "You can also combine `AI.GENERATE_DOUBLE`, `AI.GENERATE_INT`, and `AI.GENERATE_BOOL` scalar functions within one query. Here's an example combining the AI filters of the last three queries into one `WHERE` clause:"
   ]
  },
  {
   "cell_type": "code",
   "execution_count": null,
   "metadata": {
    "colab": {
     "base_uri": "https://localhost:8080/",
     "height": 584,
     "referenced_widgets": [
      "7a02ae15c38741e0b855ae401fc7bbbd",
      "717294b288844bc79351695e13359768",
      "812a11317df44414b8b62fae83cb1924",
      "916733fb683d4908ba1f5f39babb41f4",
      "c495c34071ec4c1cb392cd1e7ae601a4",
      "62e7949c030c4942b501820b21085381",
      "87299326fb9240c2a1fb63be8d4d66d0",
      "169013658d7b44e0a23a571ed3cdabdd",
      "f92dcfb47e41423f92d9c732681a94b3",
      "4efae345ff884f54a76b090423197bd0",
      "a4400da75e2b4e6e93d008bd9dedf2fa",
      "3f6e373189f045269f1e8bc1b15ff5e2",
      "8cebfd32ef984fc1b5575a478b88b085",
      "e0a1c6379ca241a1aeeba3d50e01e1c2",
      "530ff0b8d62a41a8bed44e4816ff836e",
      "c8c89409efc14e66be3fcc2f71de6fad",
      "c4c79aeb2dac480d9660d2a4173abd03",
      "a98384e6dfe44f36b7bbeb6fb152dc86",
      "686d6cf5f57b48059eb77e05b723ebff",
      "cf562e3934624a22a3a3772ceab78e98",
      "9924e41fc4ef4870ad4e90c7fbb40d69",
      "f7dc5aca44914bd39972693215209d94"
     ]
    },
    "id": "9mpFmVGG5yrG",
    "outputId": "bbf7014f-2c26-4dd4-df47-517a854883ed"
   },
   "outputs": [],
   "source": [
    "%%bigquery --project {PROJECT_ID}\n",
    "\n",
    "SELECT\n",
    "  species_scientific_name,\n",
    "  species_common_name\n",
    "FROM\n",
    "  `bigquery-public-data.new_york_trees.tree_species`\n",
    "WHERE\n",
    "  AI.GENERATE_DOUBLE(\n",
    "    ('What is the average height in meters of this tree species at full maturity?', species_scientific_name),\n",
    "    connection_id => 'us.test_connection',\n",
    "    endpoint => 'gemini-2.5-flash').result BETWEEN 10 AND 20 AND\n",
    "  AI.GENERATE_INT(\n",
    "    ('What is the average life in years of this tree species?', species_scientific_name),\n",
    "    connection_id => 'us.test_connection',\n",
    "    endpoint => 'gemini-2.5-flash').result > 19 AND\n",
    "  AI.GENERATE_BOOL(\n",
    "    ('Is this tree species drought tolerant?', species_scientific_name),\n",
    "    connection_id => 'us.test_connection',\n",
    "    endpoint => 'gemini-2.5-flash').result = true"
   ]
  },
  {
   "cell_type": "markdown",
   "metadata": {
    "id": "forecast_md"
   },
   "source": [
    "---\n",
    "\n",
    "## Forecast time series with `AI.FORECAST`\n",
    "\n",
    "The Google Research [`TimesFM`](https://cloud.google.com/bigquery/docs/timesfm-model) model is a foundation model for time-series forecasting that has been pre-trained on billions of time-points from many real-world datasets, so you can apply it to new forecasting datasets across many domains.\n",
    "\n",
    "The [`AI.FORECAST`](https://cloud.google.com/bigquery/docs/reference/standard-sql/bigqueryml-syntax-ai-forecast) function in BigQuery leverages the model to provide high-quality time series forecasting without the need to create and train your own model.\n",
    "\n",
    "For this example, we'll use the `bigquery-public-data.san_francisco_bikeshare.bikeshare_trips` data to forecast hourly bikeshare trips by subscriber type."
   ]
  },
  {
   "cell_type": "code",
   "execution_count": null,
   "metadata": {
    "colab": {
     "base_uri": "https://localhost:8080/",
     "height": 81,
     "referenced_widgets": [
      "831d15a9f0f549ddb79a622d9b081906",
      "0fda09ea60e9430da8b4bf9eb6f62a35",
      "aa1064bd1c0142d39c58e7135de37a29",
      "e4ceca653d484c4c92cf170ef30cb535",
      "9898b8ceee58441b94245f4b4e9de308",
      "61d76e8ca38e41b297568529736e9e5c",
      "e09f3c8840f64e0b8aaacce99bface1d",
      "20f16a3ec0ca46b18f831edb1589af7f",
      "d5f41b3594ba4b73990c5d99b9bee0fb",
      "2930f360eda64bfaa0263abd7f9272c8",
      "e27402779c1449ebb436153db638b769",
      "03cb819e300d4bd384d4701a1b4dc32a",
      "977560422f8e4636911a267aeb06e597",
      "815d411b82bc48ea84a610e0eb4c9027",
      "1828ceae92094d11bd1ec06a28f89a60",
      "c83e37b43f96430eacf93e3951c5b9f9",
      "b670456ba4d348e2b96e1680245e1f37",
      "7401afe8d33644ea909686e5b11c0d4b",
      "9abdb892064e4687bf20b2077aa9381c",
      "d3bc118a690540fcb2c7b9937ea5d407",
      "0714cbff8c114716b6a8e4c01416530c",
      "180117c00dbd4439a748f4cbb4f2e168"
     ]
    },
    "id": "forecast_code",
    "outputId": "4cc6a7b8-2c7b-40c6-d2b4-4f5e01fc7f9b"
   },
   "outputs": [],
   "source": [
    "%%bigquery forecast_results --project {PROJECT_ID}\n",
    "\n",
    "SELECT *\n",
    "FROM\n",
    "  AI.FORECAST(\n",
    "    (\n",
    "      SELECT\n",
    "        TIMESTAMP_TRUNC(start_date, HOUR) as trip_hour,\n",
    "        subscriber_type,\n",
    "        COUNT(*) as num_trips\n",
    "      FROM `bigquery-public-data.san_francisco_bikeshare.bikeshare_trips`\n",
    "      WHERE start_date >= TIMESTAMP('2018-01-01')\n",
    "      GROUP BY TIMESTAMP_TRUNC(start_date, HOUR), subscriber_type\n",
    "    ),\n",
    "    horizon => 720,\n",
    "    confidence_level => 0.95,\n",
    "    timestamp_col => 'trip_hour',\n",
    "    data_col => 'num_trips',\n",
    "    id_cols => ['subscriber_type']);"
   ]
  },
  {
   "cell_type": "markdown",
   "metadata": {
    "id": "forecast_text_md"
   },
   "source": [
    "The results of this query were saved as a pandas DataFrame. Running the next cell will display the DataFrame, including the forecasted number of trips by subscriber type (annualy/monthly subscriber, or short-term customer), for the next 720 hours (30 days), along with the prediction interval."
   ]
  },
  {
   "cell_type": "code",
   "execution_count": null,
   "metadata": {
    "colab": {
     "base_uri": "https://localhost:8080/",
     "height": 293
    },
    "id": "9rkQpI4KQpB5",
    "outputId": "ca9591da-9d2b-404c-c0d4-8d66ce46c2ad"
   },
   "outputs": [],
   "source": [
    "forecast_results.head(5)"
   ]
  },
  {
   "cell_type": "markdown",
   "metadata": {
    "id": "WGJwVQbcRRcv"
   },
   "source": [
    "We can view the results as a chart using python."
   ]
  },
  {
   "cell_type": "code",
   "execution_count": null,
   "metadata": {
    "colab": {
     "base_uri": "https://localhost:8080/",
     "height": 694
    },
    "id": "fVwumTBNUZSO",
    "outputId": "b8ed629d-5f74-4ca0-884c-bb88c5c6b2df"
   },
   "outputs": [],
   "source": [
    "import matplotlib.pyplot as plt\n",
    "\n",
    "# Separate the data by subscriber type\n",
    "customer_df = forecast_results[forecast_results['subscriber_type'] == 'Customer']\n",
    "subscriber_df = forecast_results[forecast_results['subscriber_type'] == 'Subscriber']\n",
    "\n",
    "# Create a figure and axes for the plot\n",
    "fig, ax = plt.subplots(figsize=(15, 7))\n",
    "\n",
    "# Plot the forecast for 'Customer'\n",
    "ax.plot(customer_df['forecast_timestamp'], customer_df['forecast_value'], label='Customer Forecast')\n",
    "ax.fill_between(customer_df['forecast_timestamp'],\n",
    "                customer_df['prediction_interval_lower_bound'],\n",
    "                customer_df['prediction_interval_upper_bound'],\n",
    "                color='blue', alpha=0.1, label='Customer Confidence Interval')\n",
    "\n",
    "# Plot the forecast for 'Subscriber'\n",
    "ax.plot(subscriber_df['forecast_timestamp'], subscriber_df['forecast_value'], label='Subscriber Forecast')\n",
    "ax.fill_between(subscriber_df['forecast_timestamp'],\n",
    "                subscriber_df['prediction_interval_lower_bound'],\n",
    "                subscriber_df['prediction_interval_upper_bound'],\n",
    "                color='orange', alpha=0.1, label='Subscriber Confidence Interval')\n",
    "\n",
    "\n",
    "# Set the title and labels\n",
    "ax.set_title('Bikeshare Trips Forecast')\n",
    "ax.set_xlabel('Date')\n",
    "ax.set_ylabel('Number of Trips')\n",
    "ax.legend()\n",
    "ax.grid(True)\n",
    "\n",
    "# Rotate the x-axis labels for better readability\n",
    "plt.xticks(rotation=45)\n",
    "\n",
    "# Show the plot\n",
    "plt.show()"
   ]
  },
  {
   "cell_type": "markdown",
   "metadata": {
    "id": "tc_YRVNIfS7Q"
   },
   "source": [
    "The forecast shows usage patterns you might expect:\n",
    "\n",
    "* **Subscribers** are typically commuters who use the service for regular, predictable trips, such as going to and from work. Their forecast shows expected weekday peaks during morning and evening commute hours, and lower weekend usage.\n",
    "\n",
    "* **Customers** are usually tourists or casual riders and you might expect them to have higher usage on weekends and holidays for leisure activities, and more trips during the middle of the day, rather than concentrated during traditional commute times.\n",
    "\n",
    "An interesting start to an analysis without any model training!\n"
   ]
  },
  {
   "cell_type": "markdown",
   "metadata": {
    "id": "cleanup_md"
   },
   "source": [
    "# Cleaning Up\n",
    "\n",
    "To clean up all Google Cloud resources used in this project, you can [delete the Google Cloud project](https://cloud.google.com/resource-manager/docs/creating-managing-projects#shutting_down_projects) you used for the tutorial.\n",
    "\n",
    "Otherwise, you can delete the individual resources you created in this tutorial:"
   ]
  },
  {
   "cell_type": "code",
   "execution_count": null,
   "metadata": {
    "id": "cleanup_code"
   },
   "outputs": [],
   "source": [
    "# Delete BigQuery dataset, including the BigQuery remote model you just created, and the BigQuery Connection\n",
    "! bq rm -r -f $PROJECT_ID:bq_ai_tutorial\n",
    "! bq rm --connection --project_id=$PROJECT_ID --location=us test_connection"
   ]
  }
 ],
 "metadata": {
  "colab": {
   "provenance": []
  },
  "kernelspec": {
   "display_name": "Python 3",
   "name": "python3"
  },
  "language_info": {
   "name": "python"
  }
 },
 "nbformat": 4,
 "nbformat_minor": 0
}
