{
  "cells": [
    {
      "cell_type": "code",
      "execution_count": null,
      "metadata": {
        "id": "toY_CXOdqwhz"
      },
      "outputs": [],
      "source": [
        "# Copyright 2023 Google LLC\n",
        "#\n",
        "# Licensed under the Apache License, Version 2.0 (the \"License\");\n",
        "# you may not use this file except in compliance with the License.\n",
        "# You may obtain a copy of the License at\n",
        "#\n",
        "#     https://www.apache.org/licenses/LICENSE-2.0\n",
        "#\n",
        "# Unless required by applicable law or agreed to in writing, software\n",
        "# distributed under the License is distributed on an \"AS IS\" BASIS,\n",
        "# WITHOUT WARRANTIES OR CONDITIONS OF ANY KIND, either express or implied.\n",
        "# See the License for the specific language governing permissions and\n",
        "# limitations under the License."
      ]
    },
    {
      "cell_type": "markdown",
      "metadata": {
        "id": "_K3ySYorKlRo"
      },
      "source": [
        "# Getting Started with NLP2SQL using dynamic RAG using\n",
        "\n",
        "<table align=\"left\">\n",
        "  <td style=\"text-align: center\">\n",
        "    <a href=\"https://colab.research.google.com/github/GoogleCloudPlatform/generative-ai/blob/main/gemini/use-cases/retrieval-augmented-generation/NLP2SQL_using_dynamic_RAG.ipynb\">\n",
        "      <img src=\"https://cloud.google.com/ml-engine/images/colab-logo-32px.png\" alt=\"Google Colaboratory logo\"><br> Run in Colab\n",
        "    </a>\n",
        "  </td>\n",
        "  <td style=\"text-align: center\">\n",
        "    <a href=\"https://console.cloud.google.com/vertex-ai/colab/import/https:%2F%2Fraw.githubusercontent.com%2FGoogleCloudPlatform%2Fgenerative-ai%2Fmain%2Fgemini%2Fuse-cases%2Fretrieval-augmented-generation%2FNLP2SQL_using_dynamic_RAG.ipynb\">\n",
        "      <img width=\"32px\" src=\"https://lh3.googleusercontent.com/JmcxdQi-qOpctIvWKgPtrzZdJJK-J3sWE1RsfjZNwshCFgE_9fULcNpuXYTilIR2hjwN\" alt=\"Google Cloud Colab Enterprise logo\"><br> Run in Colab Enterprise\n",
        "    </a>\n",
        "  </td>    \n",
        "  <td style=\"text-align: center\">\n",
        "    <a href=\"https://github.com/GoogleCloudPlatform/generative-ai/blob/main/gemini/use-cases/retrieval-augmented-generation/NLP2SQL_using_dynamic_RAG.ipynb\">\n",
        "      <img src=\"https://cloud.google.com/ml-engine/images/github-logo-32px.png\" alt=\"GitHub logo\"><br> View on GitHub\n",
        "    </a>\n",
        "  </td>\n",
        "  <td style=\"text-align: center\">\n",
        "    <a href=\"https://console.cloud.google.com/vertex-ai/workbench/deploy-notebook?download_url=https://raw.githubusercontent.com/GoogleCloudPlatform/generative-ai/main/gemini/use-cases/retrieval-augmented-generation/NLP2SQL_using_dynamic_RAG.ipynb\">\n",
        "      <img src=\"https://lh3.googleusercontent.com/UiNooY4LUgW_oTvpsNhPpQzsstV5W8F7rYgxgGBD85cWJoLmrOzhVs_ksK_vgx40SHs7jCqkTkCk=e14-rj-sc0xffffff-h130-w32\" alt=\"Vertex AI logo\"><br> Open in Vertex AI Workbench\n",
        "    </a>\n",
        "  </td>\n",
        "</table>\n",
        "\n",
        "<div style=\"clear: both;\"></div>\n",
        "\n",
        "<b>Share to:</b>\n",
        "\n",
        "<a href=\"https://www.linkedin.com/sharing/share-offsite/?url=https%3A//github.com/GoogleCloudPlatform/generative-ai/blob/main/gemini/use-cases/retrieval-augmented-generation/nlp2sql_using_dynamic_rag.ipynb\" target=\"_blank\">\n",
        "  <img width=\"20px\" src=\"https://upload.wikimedia.org/wikipedia/commons/8/81/LinkedIn_icon.svg\" alt=\"LinkedIn logo\">\n",
        "</a>\n",
        "\n",
        "<a href=\"https://bsky.app/intent/compose?text=https%3A//github.com/GoogleCloudPlatform/generative-ai/blob/main/gemini/use-cases/retrieval-augmented-generation/nlp2sql_using_dynamic_rag.ipynb\" target=\"_blank\">\n",
        "  <img width=\"20px\" src=\"https://upload.wikimedia.org/wikipedia/commons/7/7a/Bluesky_Logo.svg\" alt=\"Bluesky logo\">\n",
        "</a>\n",
        "\n",
        "<a href=\"https://twitter.com/intent/tweet?url=https%3A//github.com/GoogleCloudPlatform/generative-ai/blob/main/gemini/use-cases/retrieval-augmented-generation/nlp2sql_using_dynamic_rag.ipynb\" target=\"_blank\">\n",
        "  <img width=\"20px\" src=\"https://upload.wikimedia.org/wikipedia/commons/5/53/X_logo_2023_original.svg\" alt=\"X logo\">\n",
        "</a>\n",
        "\n",
        "<a href=\"https://reddit.com/submit?url=https%3A//github.com/GoogleCloudPlatform/generative-ai/blob/main/gemini/use-cases/retrieval-augmented-generation/nlp2sql_using_dynamic_rag.ipynb\" target=\"_blank\">\n",
        "  <img width=\"20px\" src=\"https://redditinc.com/hubfs/Reddit%20Inc/Brand/Reddit_Logo.png\" alt=\"Reddit logo\">\n",
        "</a>\n",
        "\n",
        "<a href=\"https://www.facebook.com/sharer/sharer.php?u=https%3A//github.com/GoogleCloudPlatform/generative-ai/blob/main/gemini/use-cases/retrieval-augmented-generation/nlp2sql_using_dynamic_rag.ipynb\" target=\"_blank\">\n",
        "  <img width=\"20px\" src=\"https://upload.wikimedia.org/wikipedia/commons/5/51/Facebook_f_logo_%282019%29.svg\" alt=\"Facebook logo\">\n",
        "</a>            "
      ]
    },
    {
      "cell_type": "markdown",
      "metadata": {
        "id": "aSRSyMomGXBV"
      },
      "source": [
        "| | |\n",
        "|-|-|\n",
        "|Author(s) | [Sunil Kumar Jang Bahadur](https://www.linkedin.com/in/sunilkumar88/),  [Vijay Surampudi](https://www.linkedin.com/in/vijaysurampudi)|"
      ]
    },
    {
      "cell_type": "markdown",
      "metadata": {
        "id": "l0qC59wFK5FW"
      },
      "source": [
        "## Overview\n",
        "\n",
        "This notebook showcases how to utilize the \"Dynamic RAG based few shot examples\" approach to generate NLP2SQL outputs more reliably and accurately using the Vertex AI SDK for Python via the Gemini 1.5 Pro model (`gemini-1.5-pro`).\n",
        "\n",
        "Gemini 1.5 Pro model (`gemini-1.5-pro`) supports prompts with multimodal input, including natural language tasks, multi-turn text and code chat, and code generation. It can output text and code."
      ]
    },
    {
      "cell_type": "markdown",
      "metadata": {
        "id": "QNT-6kbtMSGf"
      },
      "source": [
        "### Objectives\n",
        "\n",
        "This tutorial will guide you through the process of using Dynamic RAG based Few shot examples to modify a prompt's few shot examples based on a provided input query. By utilizing the Gemini 1.5 Pro model (`gemini-1.5-pro`) in conjunction with the Vertex AI SDK for Python, you will be able to generate SQL code or any other type of code with higher accuracy.\n",
        "\n",
        "You will complete the following tasks:\n",
        "\n",
        "- Explore the Dynamic RAG-Based Few-Shot Examples Workflow Element by Element\n",
        "\n",
        "  Understand how each element of the Dynamic RAG-based few-shot examples workflow contributes to the overall process.\n",
        "\n",
        "- The Role of Multilingual Embeddings in Knowledge Transfer\n",
        "\n",
        "  Delve into how multilingual embeddings facilitate the use of a knowledge base created in any supported language without the need for translation."
      ]
    },
    {
      "cell_type": "markdown",
      "metadata": {
        "id": "hOvpXY-_VjTv"
      },
      "source": [
        "### Reference architecture of Dynamic RAG based few shot examples"
      ]
    },
    {
      "cell_type": "markdown",
      "metadata": {
        "id": "JePWTE1vN_Ex"
      },
      "source": [
        "### Costs\n",
        "This tutorial uses billable components of Google Cloud:\n",
        "\n",
        "- Vertex AI\n",
        "\n",
        "Learn about [Vertex AI pricing](https://cloud.google.com/vertex-ai/pricing) and use the [Pricing Calculator](https://cloud.google.com/products/calculator/) to generate a cost estimate based on your projected usage."
      ]
    },
    {
      "cell_type": "markdown",
      "metadata": {
        "id": "0SbR9YTWOFki"
      },
      "source": [
        "## Getting Started"
      ]
    },
    {
      "cell_type": "markdown",
      "metadata": {
        "id": "ByMar0B79-a1"
      },
      "source": [
        "![image.png](data:image/png;base64,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)"
      ]
    },
    {
      "cell_type": "markdown",
      "metadata": {
        "id": "0Dr9jPX5Pqy1"
      },
      "source": [
        "## Step 1: Installing the Dependencies required"
      ]
    },
    {
      "cell_type": "markdown",
      "metadata": {
        "id": "I8QOdtTylQGt"
      },
      "source": [
        "### Step 1.1: Install libraries"
      ]
    },
    {
      "cell_type": "code",
      "execution_count": null,
      "metadata": {
        "id": "Y73_qbbsxzMG"
      },
      "outputs": [],
      "source": [
        "# Installing dependencies\n",
        "\n",
        "%pip install --upgrade google-cloud-aiplatform google-cloud-storage\n",
        "%pip install \"bigframes<1.0.0\""
      ]
    },
    {
      "cell_type": "markdown",
      "metadata": {
        "id": "1tE6ybI_ORyh"
      },
      "source": [
        "### Step 1.2 Restart current runtime\n",
        "\n",
        "To use the newly installed packages in this Jupyter runtime, you must restart the runtime. You can do this by running the cell below, which restarts the current kernel.\n",
        "\n",
        "The restart might take a minute or longer. After its restarted, continue to the next step."
      ]
    },
    {
      "cell_type": "code",
      "execution_count": null,
      "metadata": {
        "id": "MYCAHFaLOfFq"
      },
      "outputs": [],
      "source": [
        "import IPython\n",
        "\n",
        "app = IPython.Application.instance()\n",
        "app.kernel.do_shutdown(True)"
      ]
    },
    {
      "cell_type": "markdown",
      "metadata": {
        "id": "ipSMIfJuOkq8"
      },
      "source": [
        "<div class=\"alert alert-block alert-warning\">\n",
        "<b>⚠️ Wait for the kernel to finish restarting before you continue. ⚠️</b>\n",
        "</div>"
      ]
    },
    {
      "cell_type": "markdown",
      "metadata": {
        "id": "CxiCPoUzOpnn"
      },
      "source": [
        "### Step 1.3 Authenticate your notebook environment (Colab only)\n",
        "\n",
        "If you are running this notebook on Google Colab, run the cell below to authenticate your environment.\n",
        "\n",
        "This step is not required if you are using [Vertex AI Workbench](https://cloud.google.com/vertex-ai-workbench)."
      ]
    },
    {
      "cell_type": "code",
      "execution_count": null,
      "metadata": {
        "id": "3wvpp1vJOuoF"
      },
      "outputs": [],
      "source": [
        "import sys\n",
        "\n",
        "# Additional authentication is required for Google Colab\n",
        "if \"google.colab\" in sys.modules:\n",
        "    # Authenticate user to Google Cloud\n",
        "    from google.colab import auth\n",
        "\n",
        "    auth.authenticate_user()"
      ]
    },
    {
      "cell_type": "markdown",
      "metadata": {
        "id": "fNGLmcx5Oz0l"
      },
      "source": [
        "### Step 1.4 Define Google Cloud project information and initialize Vertex AI\n",
        "\n",
        "Initialize the Vertex AI SDK for Python for your project:"
      ]
    },
    {
      "cell_type": "code",
      "execution_count": null,
      "metadata": {
        "id": "xXhn9fpVO2da"
      },
      "outputs": [],
      "source": [
        "# Define project information\n",
        "PROJECT_ID = \"PROJECT_ID\"  # @param {type:\"string\"}\n",
        "LOCATION = \"LOCATION\"  # @param {type:\"string\"}\n",
        "BATCH_SIZE = 5\n",
        "\n",
        "# Initialize Vertex AI\n",
        "import vertexai\n",
        "\n",
        "vertexai.init(project=PROJECT_ID, location=LOCATION)"
      ]
    },
    {
      "cell_type": "markdown",
      "metadata": {
        "id": "8Ir3uY0PO94I"
      },
      "source": [
        "### Step 1.5 Import libraries"
      ]
    },
    {
      "cell_type": "code",
      "execution_count": null,
      "metadata": {
        "id": "2iiIFKUbPGmm"
      },
      "outputs": [],
      "source": [
        "from datetime import datetime\n",
        "import time\n",
        "\n",
        "import numpy as np\n",
        "import pandas as pd\n",
        "import tqdm  # to show a progress bar\n",
        "from vertexai.generative_models import GenerativeModel\n",
        "from vertexai.language_models import CodeGenerationModel, TextEmbeddingModel"
      ]
    },
    {
      "cell_type": "markdown",
      "metadata": {
        "id": "RoXD-s6lQMjh"
      },
      "source": [
        "### Step 2: Indexing the Knowledge Base"
      ]
    },
    {
      "cell_type": "markdown",
      "metadata": {
        "id": "jAjMFYLtlyQ6"
      },
      "source": [
        "### Step 2.1 Load the Gemini, Codey & Text Embedding model\n",
        "\n",
        "[List of languages supported in Multilingual embedding model](https://cloud.google.com/vertex-ai/generative-ai/docs/embeddings/get-text-embeddings#language_coverage_for_textembedding-gecko-multilingual_models)"
      ]
    },
    {
      "cell_type": "code",
      "execution_count": null,
      "metadata": {
        "id": "bjd9_UZqyi_m"
      },
      "outputs": [],
      "source": [
        "# Load the code & text embeddings model\n",
        "embedding_model = TextEmbeddingModel.from_pretrained(\n",
        "    \"textembedding-gecko-multilingual@001\"\n",
        ")\n",
        "gemini_model = GenerativeModel(\"gemini-1.5-pro\")\n",
        "code_model = CodeGenerationModel.from_pretrained(\"code-bison\")"
      ]
    },
    {
      "cell_type": "markdown",
      "metadata": {
        "id": "HyLEjxzJlJQG"
      },
      "source": [
        "### Step 2.2 Knowledge base CSV to DataFrame. This could be a database as well, but lets consider CSV for now.\n",
        "Upload the CSV file from the GitHub to Colab"
      ]
    },
    {
      "cell_type": "code",
      "execution_count": null,
      "metadata": {
        "id": "vfRKebcsyIM1"
      },
      "outputs": [
        {
          "name": "stdout",
          "output_type": "stream",
          "text": [
            "   id                                                                                   question                                                                                                                                                                                         query_1                                        query_1_explanation     Additional Metadata (If any)\n",
            "0   1  How many points are accrued in the month of Oct 2023 for transactions on Online Shopping?                                        SELECT\\n  *\\nFROM\\n  `demo_project.cc_demo_dataset.txn-detail-tab`\\nWHERE\\n  Online_transaction = TRUE\\n  AND Date BETWEEN '2023-10-01' AND '2023-10-31'        Each row showing one transaction of online shopping          Any useful product link\n",
            "1   2            Why are there some transactions in Oct 2023 for which I don't see award points?                                               SELECT\\n  *\\nFROM\\n  `demo_project.cc_demo_dataset.txn-detail-tab`\\nWHERE\\n  Points_Accrued = 0\\n  AND Date BETWEEN '2023-10-01' AND '2023-10-31'   The list of transactions for which Award Points are Zero  Any upsell or cross sell offers\n",
            "2   3                               What are the FCY markup charges that I see on 30th Oct 2023?                                                        SELECT\\n*\\nFROM\\n  `demo_project.cc_demo_dataset.txn-detail-tab`\\n  where Transaction_Description LIKE 'FCY%'\\n  AND Date = '2023-10-30'                         FCY Markup Transaction and Charges     Any useful information links\n",
            "3   4                   Can I get details on the Foreign Currency Transactions through Oct 2023?  SELECT\\n  *\\nFROM\\n  `demo_project.cc_demo_dataset.txn-detail-tab`\\nWHERE\\n  Foreign_Currency = TRUE\\nOR \\nTransaction_Description LIKE 'FCY%'\\nAND Date BETWEEN '2023-10-01' AND '2023-10-31'                  FCY Transactions and their markup charges                              NaN\n",
            "4   5                What are the negative transactions or Refunds seen in the Month of Oct 2023                                                        SELECT\\n  *\\nFROM\\n  `demo_project.cc_demo_dataset.txn-detail-tab`\\nWHERE\\n  Value < 0\\n  AND Date BETWEEN '2023-10-01' AND '2023-10-31'  Negative Transactions or Refunds in the Month of Oct 2023                              NaN\n"
          ]
        }
      ],
      "source": [
        "# Reading the CSV file containing Knowledge Base of sample queries\n",
        "df = pd.read_csv(\"queries_sample_knowledge_base.csv\")\n",
        "\n",
        "print(df.to_string())"
      ]
    },
    {
      "cell_type": "markdown",
      "metadata": {
        "id": "_NI6hWKal7Rw"
      },
      "source": [
        "### Step 2.3 Retrieve Embeddings using APIs for given text"
      ]
    },
    {
      "cell_type": "code",
      "execution_count": null,
      "metadata": {
        "id": "5g0nr7QHyzFc"
      },
      "outputs": [],
      "source": [
        "def get_embeddings_wrapper(texts):\n",
        "    \"\"\"\n",
        "    This function retrieves embeddings for a list of texts using the provided embedding model,\n",
        "    handling batching and rate limiting to avoid exceeding API quotas.\n",
        "\n",
        "    Args:\n",
        "        texts (list): A list of text strings.\n",
        "\n",
        "    Returns:\n",
        "        list: A list of embedding vectors for each text in the input list.\n",
        "    \"\"\"\n",
        "\n",
        "    embs = []\n",
        "    for i in tqdm.tqdm(range(0, len(texts), BATCH_SIZE)):\n",
        "        # Sleep for 1 second to avoid exceeding API quotas.\n",
        "        time.sleep(1)\n",
        "\n",
        "        # Get embeddings for the current batch of texts.\n",
        "        result = embedding_model.get_embeddings(texts[i : i + BATCH_SIZE])\n",
        "\n",
        "        # Extract and append the embedding vectors to the list.\n",
        "        embs = embs + [e.values for e in result]\n",
        "\n",
        "    return embs"
      ]
    },
    {
      "cell_type": "markdown",
      "metadata": {
        "id": "xNpENdz6Xj5W"
      },
      "source": [
        "### Step 2.4 Generate embedding of all the natural language queries"
      ]
    },
    {
      "cell_type": "code",
      "execution_count": null,
      "metadata": {
        "id": "c6eOUISmy_Zg"
      },
      "outputs": [
        {
          "name": "stderr",
          "output_type": "stream",
          "text": [
            "100%|██████████| 1/1 [00:01<00:00,  1.55s/it]\n"
          ]
        },
        {
          "data": {
            "application/vnd.google.colaboratory.intrinsic+json": {
              "summary": "{\n  \"name\": \"df\",\n  \"rows\": 5,\n  \"fields\": [\n    {\n      \"column\": \"id\",\n      \"properties\": {\n        \"dtype\": \"number\",\n        \"std\": 1,\n        \"min\": 1,\n        \"max\": 5,\n        \"num_unique_values\": 5,\n        \"samples\": [\n          2,\n          5,\n          3\n        ],\n        \"semantic_type\": \"\",\n        \"description\": \"\"\n      }\n    },\n    {\n      \"column\": \"question\",\n      \"properties\": {\n        \"dtype\": \"string\",\n        \"num_unique_values\": 5,\n        \"samples\": [\n          \"Why are there some transactions in Oct 2023 for which I don't see award points?\",\n          \"What are the negative transactions or Refunds seen in the Month of Oct 2023\",\n          \"What are the FCY markup charges that I see on 30th Oct 2023?\"\n        ],\n        \"semantic_type\": \"\",\n        \"description\": \"\"\n      }\n    },\n    {\n      \"column\": \"query_1\",\n      \"properties\": {\n        \"dtype\": \"string\",\n        \"num_unique_values\": 5,\n        \"samples\": [\n          \"SELECT\\n  *\\nFROM\\n  `demo_project.cc_demo_dataset.txn-detail-tab`\\nWHERE\\n  Points_Accrued = 0\\n  AND Date BETWEEN '2023-10-01' AND '2023-10-31'\",\n          \"SELECT\\n  *\\nFROM\\n  `demo_project.cc_demo_dataset.txn-detail-tab`\\nWHERE\\n  Value < 0\\n  AND Date BETWEEN '2023-10-01' AND '2023-10-31'\",\n          \"SELECT\\n*\\nFROM\\n  `demo_project.cc_demo_dataset.txn-detail-tab`\\n  where Transaction_Description LIKE 'FCY%'\\n  AND Date = '2023-10-30'\"\n        ],\n        \"semantic_type\": \"\",\n        \"description\": \"\"\n      }\n    },\n    {\n      \"column\": \"query_1_explanation\",\n      \"properties\": {\n        \"dtype\": \"string\",\n        \"num_unique_values\": 5,\n        \"samples\": [\n          \"The list of transactions for which Award Points are Zero\",\n          \"Negative Transactions or Refunds in the Month of Oct 2023\",\n          \"FCY Markup Transaction and Charges\"\n        ],\n        \"semantic_type\": \"\",\n        \"description\": \"\"\n      }\n    },\n    {\n      \"column\": \"Additional Metadata (If any)\",\n      \"properties\": {\n        \"dtype\": \"string\",\n        \"num_unique_values\": 3,\n        \"samples\": [\n          \"Any useful product link\",\n          \"Any upsell or cross sell offers\",\n          \"Any useful information links\"\n        ],\n        \"semantic_type\": \"\",\n        \"description\": \"\"\n      }\n    },\n    {\n      \"column\": \"embedding\",\n      \"properties\": {\n        \"dtype\": \"object\",\n        \"semantic_type\": \"\",\n        \"description\": \"\"\n      }\n    }\n  ]\n}",
              "type": "dataframe",
              "variable_name": "df"
            },
            "text/html": [
              "\n",
              "  <div id=\"df-26221e06-21ad-4721-8278-e1576c0c6fb3\" class=\"colab-df-container\">\n",
              "    <div>\n",
              "<style scoped>\n",
              "    .dataframe tbody tr th:only-of-type {\n",
              "        vertical-align: middle;\n",
              "    }\n",
              "\n",
              "    .dataframe tbody tr th {\n",
              "        vertical-align: top;\n",
              "    }\n",
              "\n",
              "    .dataframe thead th {\n",
              "        text-align: right;\n",
              "    }\n",
              "</style>\n",
              "<table border=\"1\" class=\"dataframe\">\n",
              "  <thead>\n",
              "    <tr style=\"text-align: right;\">\n",
              "      <th></th>\n",
              "      <th>id</th>\n",
              "      <th>question</th>\n",
              "      <th>query_1</th>\n",
              "      <th>query_1_explanation</th>\n",
              "      <th>Additional Metadata (If any)</th>\n",
              "      <th>embedding</th>\n",
              "    </tr>\n",
              "  </thead>\n",
              "  <tbody>\n",
              "    <tr>\n",
              "      <th>0</th>\n",
              "      <td>1</td>\n",
              "      <td>How many points are accrued in the month of Oc...</td>\n",
              "      <td>SELECT\\n  *\\nFROM\\n  `demo_project.cc_demo_dat...</td>\n",
              "      <td>Each row showing one transaction of online sho...</td>\n",
              "      <td>Any useful product link</td>\n",
              "      <td>[0.03033534437417984, -0.01754842698574066, 0....</td>\n",
              "    </tr>\n",
              "    <tr>\n",
              "      <th>1</th>\n",
              "      <td>2</td>\n",
              "      <td>Why are there some transactions in Oct 2023 fo...</td>\n",
              "      <td>SELECT\\n  *\\nFROM\\n  `demo_project.cc_demo_dat...</td>\n",
              "      <td>The list of transactions for which Award Point...</td>\n",
              "      <td>Any upsell or cross sell offers</td>\n",
              "      <td>[0.02858484536409378, 0.0016411978285759687, 0...</td>\n",
              "    </tr>\n",
              "    <tr>\n",
              "      <th>2</th>\n",
              "      <td>3</td>\n",
              "      <td>What are the FCY markup charges that I see on ...</td>\n",
              "      <td>SELECT\\n*\\nFROM\\n  `demo_project.cc_demo_datas...</td>\n",
              "      <td>FCY Markup Transaction and Charges</td>\n",
              "      <td>Any useful information links</td>\n",
              "      <td>[0.01185921672731638, 0.0162956602871418, 0.02...</td>\n",
              "    </tr>\n",
              "    <tr>\n",
              "      <th>3</th>\n",
              "      <td>4</td>\n",
              "      <td>Can I get details on the Foreign Currency Tran...</td>\n",
              "      <td>SELECT\\n  *\\nFROM\\n  `demo_project.cc_demo_dat...</td>\n",
              "      <td>FCY Transactions and their markup charges</td>\n",
              "      <td>NaN</td>\n",
              "      <td>[0.03950844332575798, -0.047629840672016144, 0...</td>\n",
              "    </tr>\n",
              "    <tr>\n",
              "      <th>4</th>\n",
              "      <td>5</td>\n",
              "      <td>What are the negative transactions or Refunds ...</td>\n",
              "      <td>SELECT\\n  *\\nFROM\\n  `demo_project.cc_demo_dat...</td>\n",
              "      <td>Negative Transactions or Refunds in the Month ...</td>\n",
              "      <td>NaN</td>\n",
              "      <td>[0.01964464597404003, -0.01865999959409237, 0....</td>\n",
              "    </tr>\n",
              "  </tbody>\n",
              "</table>\n",
              "</div>\n",
              "    <div class=\"colab-df-buttons\">\n",
              "\n",
              "  <div class=\"colab-df-container\">\n",
              "    <button class=\"colab-df-convert\" onclick=\"convertToInteractive('df-26221e06-21ad-4721-8278-e1576c0c6fb3')\"\n",
              "            title=\"Convert this dataframe to an interactive table.\"\n",
              "            style=\"display:none;\">\n",
              "\n",
              "  <svg xmlns=\"http://www.w3.org/2000/svg\" height=\"24px\" viewBox=\"0 -960 960 960\">\n",
              "    <path d=\"M120-120v-720h720v720H120Zm60-500h600v-160H180v160Zm220 220h160v-160H400v160Zm0 220h160v-160H400v160ZM180-400h160v-160H180v160Zm440 0h160v-160H620v160ZM180-180h160v-160H180v160Zm440 0h160v-160H620v160Z\"/>\n",
              "  </svg>\n",
              "    </button>\n",
              "\n",
              "  <style>\n",
              "    .colab-df-container {\n",
              "      display:flex;\n",
              "      gap: 12px;\n",
              "    }\n",
              "\n",
              "    .colab-df-convert {\n",
              "      background-color: #E8F0FE;\n",
              "      border: none;\n",
              "      border-radius: 50%;\n",
              "      cursor: pointer;\n",
              "      display: none;\n",
              "      fill: #1967D2;\n",
              "      height: 32px;\n",
              "      padding: 0 0 0 0;\n",
              "      width: 32px;\n",
              "    }\n",
              "\n",
              "    .colab-df-convert:hover {\n",
              "      background-color: #E2EBFA;\n",
              "      box-shadow: 0px 1px 2px rgba(60, 64, 67, 0.3), 0px 1px 3px 1px rgba(60, 64, 67, 0.15);\n",
              "      fill: #174EA6;\n",
              "    }\n",
              "\n",
              "    .colab-df-buttons div {\n",
              "      margin-bottom: 4px;\n",
              "    }\n",
              "\n",
              "    [theme=dark] .colab-df-convert {\n",
              "      background-color: #3B4455;\n",
              "      fill: #D2E3FC;\n",
              "    }\n",
              "\n",
              "    [theme=dark] .colab-df-convert:hover {\n",
              "      background-color: #434B5C;\n",
              "      box-shadow: 0px 1px 3px 1px rgba(0, 0, 0, 0.15);\n",
              "      filter: drop-shadow(0px 1px 2px rgba(0, 0, 0, 0.3));\n",
              "      fill: #FFFFFF;\n",
              "    }\n",
              "  </style>\n",
              "\n",
              "    <script>\n",
              "      const buttonEl =\n",
              "        document.querySelector('#df-26221e06-21ad-4721-8278-e1576c0c6fb3 button.colab-df-convert');\n",
              "      buttonEl.style.display =\n",
              "        google.colab.kernel.accessAllowed ? 'block' : 'none';\n",
              "\n",
              "      async function convertToInteractive(key) {\n",
              "        const element = document.querySelector('#df-26221e06-21ad-4721-8278-e1576c0c6fb3');\n",
              "        const dataTable =\n",
              "          await google.colab.kernel.invokeFunction('convertToInteractive',\n",
              "                                                    [key], {});\n",
              "        if (!dataTable) return;\n",
              "\n",
              "        const docLinkHtml = 'Like what you see? Visit the ' +\n",
              "          '<a target=\"_blank\" href=https://colab.research.google.com/notebooks/data_table.ipynb>data table notebook</a>'\n",
              "          + ' to learn more about interactive tables.';\n",
              "        element.innerHTML = '';\n",
              "        dataTable['output_type'] = 'display_data';\n",
              "        await google.colab.output.renderOutput(dataTable, element);\n",
              "        const docLink = document.createElement('div');\n",
              "        docLink.innerHTML = docLinkHtml;\n",
              "        element.appendChild(docLink);\n",
              "      }\n",
              "    </script>\n",
              "  </div>\n",
              "\n",
              "\n",
              "<div id=\"df-f5f77dbe-21f6-470e-aa87-97a751848159\">\n",
              "  <button class=\"colab-df-quickchart\" onclick=\"quickchart('df-f5f77dbe-21f6-470e-aa87-97a751848159')\"\n",
              "            title=\"Suggest charts\"\n",
              "            style=\"display:none;\">\n",
              "\n",
              "<svg xmlns=\"http://www.w3.org/2000/svg\" height=\"24px\"viewBox=\"0 0 24 24\"\n",
              "     width=\"24px\">\n",
              "    <g>\n",
              "        <path d=\"M19 3H5c-1.1 0-2 .9-2 2v14c0 1.1.9 2 2 2h14c1.1 0 2-.9 2-2V5c0-1.1-.9-2-2-2zM9 17H7v-7h2v7zm4 0h-2V7h2v10zm4 0h-2v-4h2v4z\"/>\n",
              "    </g>\n",
              "</svg>\n",
              "  </button>\n",
              "\n",
              "<style>\n",
              "  .colab-df-quickchart {\n",
              "      --bg-color: #E8F0FE;\n",
              "      --fill-color: #1967D2;\n",
              "      --hover-bg-color: #E2EBFA;\n",
              "      --hover-fill-color: #174EA6;\n",
              "      --disabled-fill-color: #AAA;\n",
              "      --disabled-bg-color: #DDD;\n",
              "  }\n",
              "\n",
              "  [theme=dark] .colab-df-quickchart {\n",
              "      --bg-color: #3B4455;\n",
              "      --fill-color: #D2E3FC;\n",
              "      --hover-bg-color: #434B5C;\n",
              "      --hover-fill-color: #FFFFFF;\n",
              "      --disabled-bg-color: #3B4455;\n",
              "      --disabled-fill-color: #666;\n",
              "  }\n",
              "\n",
              "  .colab-df-quickchart {\n",
              "    background-color: var(--bg-color);\n",
              "    border: none;\n",
              "    border-radius: 50%;\n",
              "    cursor: pointer;\n",
              "    display: none;\n",
              "    fill: var(--fill-color);\n",
              "    height: 32px;\n",
              "    padding: 0;\n",
              "    width: 32px;\n",
              "  }\n",
              "\n",
              "  .colab-df-quickchart:hover {\n",
              "    background-color: var(--hover-bg-color);\n",
              "    box-shadow: 0 1px 2px rgba(60, 64, 67, 0.3), 0 1px 3px 1px rgba(60, 64, 67, 0.15);\n",
              "    fill: var(--button-hover-fill-color);\n",
              "  }\n",
              "\n",
              "  .colab-df-quickchart-complete:disabled,\n",
              "  .colab-df-quickchart-complete:disabled:hover {\n",
              "    background-color: var(--disabled-bg-color);\n",
              "    fill: var(--disabled-fill-color);\n",
              "    box-shadow: none;\n",
              "  }\n",
              "\n",
              "  .colab-df-spinner {\n",
              "    border: 2px solid var(--fill-color);\n",
              "    border-color: transparent;\n",
              "    border-bottom-color: var(--fill-color);\n",
              "    animation:\n",
              "      spin 1s steps(1) infinite;\n",
              "  }\n",
              "\n",
              "  @keyframes spin {\n",
              "    0% {\n",
              "      border-color: transparent;\n",
              "      border-bottom-color: var(--fill-color);\n",
              "      border-left-color: var(--fill-color);\n",
              "    }\n",
              "    20% {\n",
              "      border-color: transparent;\n",
              "      border-left-color: var(--fill-color);\n",
              "      border-top-color: var(--fill-color);\n",
              "    }\n",
              "    30% {\n",
              "      border-color: transparent;\n",
              "      border-left-color: var(--fill-color);\n",
              "      border-top-color: var(--fill-color);\n",
              "      border-right-color: var(--fill-color);\n",
              "    }\n",
              "    40% {\n",
              "      border-color: transparent;\n",
              "      border-right-color: var(--fill-color);\n",
              "      border-top-color: var(--fill-color);\n",
              "    }\n",
              "    60% {\n",
              "      border-color: transparent;\n",
              "      border-right-color: var(--fill-color);\n",
              "    }\n",
              "    80% {\n",
              "      border-color: transparent;\n",
              "      border-right-color: var(--fill-color);\n",
              "      border-bottom-color: var(--fill-color);\n",
              "    }\n",
              "    90% {\n",
              "      border-color: transparent;\n",
              "      border-bottom-color: var(--fill-color);\n",
              "    }\n",
              "  }\n",
              "</style>\n",
              "\n",
              "  <script>\n",
              "    async function quickchart(key) {\n",
              "      const quickchartButtonEl =\n",
              "        document.querySelector('#' + key + ' button');\n",
              "      quickchartButtonEl.disabled = true;  // To prevent multiple clicks.\n",
              "      quickchartButtonEl.classList.add('colab-df-spinner');\n",
              "      try {\n",
              "        const charts = await google.colab.kernel.invokeFunction(\n",
              "            'suggestCharts', [key], {});\n",
              "      } catch (error) {\n",
              "        console.error('Error during call to suggestCharts:', error);\n",
              "      }\n",
              "      quickchartButtonEl.classList.remove('colab-df-spinner');\n",
              "      quickchartButtonEl.classList.add('colab-df-quickchart-complete');\n",
              "    }\n",
              "    (() => {\n",
              "      let quickchartButtonEl =\n",
              "        document.querySelector('#df-f5f77dbe-21f6-470e-aa87-97a751848159 button');\n",
              "      quickchartButtonEl.style.display =\n",
              "        google.colab.kernel.accessAllowed ? 'block' : 'none';\n",
              "    })();\n",
              "  </script>\n",
              "</div>\n",
              "\n",
              "    </div>\n",
              "  </div>\n"
            ],
            "text/plain": [
              "   id                                           question  \\\n",
              "0   1  How many points are accrued in the month of Oc...   \n",
              "1   2  Why are there some transactions in Oct 2023 fo...   \n",
              "2   3  What are the FCY markup charges that I see on ...   \n",
              "3   4  Can I get details on the Foreign Currency Tran...   \n",
              "4   5  What are the negative transactions or Refunds ...   \n",
              "\n",
              "                                             query_1  \\\n",
              "0  SELECT\\n  *\\nFROM\\n  `demo_project.cc_demo_dat...   \n",
              "1  SELECT\\n  *\\nFROM\\n  `demo_project.cc_demo_dat...   \n",
              "2  SELECT\\n*\\nFROM\\n  `demo_project.cc_demo_datas...   \n",
              "3  SELECT\\n  *\\nFROM\\n  `demo_project.cc_demo_dat...   \n",
              "4  SELECT\\n  *\\nFROM\\n  `demo_project.cc_demo_dat...   \n",
              "\n",
              "                                 query_1_explanation  \\\n",
              "0  Each row showing one transaction of online sho...   \n",
              "1  The list of transactions for which Award Point...   \n",
              "2                 FCY Markup Transaction and Charges   \n",
              "3          FCY Transactions and their markup charges   \n",
              "4  Negative Transactions or Refunds in the Month ...   \n",
              "\n",
              "      Additional Metadata (If any)  \\\n",
              "0          Any useful product link   \n",
              "1  Any upsell or cross sell offers   \n",
              "2     Any useful information links   \n",
              "3                              NaN   \n",
              "4                              NaN   \n",
              "\n",
              "                                           embedding  \n",
              "0  [0.03033534437417984, -0.01754842698574066, 0....  \n",
              "1  [0.02858484536409378, 0.0016411978285759687, 0...  \n",
              "2  [0.01185921672731638, 0.0162956602871418, 0.02...  \n",
              "3  [0.03950844332575798, -0.047629840672016144, 0...  \n",
              "4  [0.01964464597404003, -0.01865999959409237, 0....  "
            ]
          },
          "execution_count": 12,
          "metadata": {},
          "output_type": "execute_result"
        }
      ],
      "source": [
        "# Get embeddings for the questions and assign them to a new column.\n",
        "df = df.assign(embedding=get_embeddings_wrapper(list(df.question)))\n",
        "df.head()"
      ]
    },
    {
      "cell_type": "markdown",
      "metadata": {
        "id": "JAD3OJIRmBJ6"
      },
      "source": [
        "### Step 2.5 Create JSON file to be used for Vector Store"
      ]
    },
    {
      "cell_type": "code",
      "execution_count": null,
      "metadata": {
        "id": "LQCZOMhJzQ6D"
      },
      "outputs": [
        {
          "name": "stdout",
          "output_type": "stream",
          "text": [
            "{\"id\":1,\"embedding\":[0.0303353444,-0.017548427,0.0471334234,0.0382850021,-0.0570741221,0.0002702833,-0.008171034,0.0035157243,0.0092458352,0.0367915519,0.0152511345,0.0086202072,0.0103061842,-0.078585051,0.0007488361,-0.0114573082,0.0252783895,-0.0644235313,-0.0662875548,0.0081980191,-0.0412773751,0.0412367173,-0.069454357,-0.0448970683,0.0018960165,-0.0188018903,0.0723277852,-0.0208567679,-0.0349735171,-0.0154310046,-0.1064747646,-0.0351373628,0.0458807424,0.0049169394,-0.0076076407,0.0209584367,0.0147078568,-0.0061008008,-0.0062737288,0.0272605456,0.0536958054,-0.0581914335,-0.093259424,0.0183988456,0.0111667886,-0.0144215161,-0.0105351098,0.0203574467,0.0506270528,0.006549397,0.0290367529,0.0081006894,0.0086603612,0.0158555247,-0.029483743,-0.0131679261,0.0263352226,-0.0147279091,-0.0566217676,0.0147200199,0.0427949578,0.0080850674,-0.0137850782,0.0595780052,-0.0233665798,0.0033843908,-0.039484486,0.0230140183,0.035362225,0.0053502042,0.0176799651,-0.0231888648,-0.0494541787,-0.0060810773,0.0136953965,0.0104798665,-0.0047935271,-0.0163790882,-0.0390091948,-0.0782457739,0.0300765652,-0.0161449015,-0.0566382743,-0.0230217949,-0.0158551335,-0.0273899622,-0.0151149686,-0.0229578018,-0.0338874534,-0.03336595,0.0076628276,0.0544135384,0.0321143754,-0.0398790948,-0.0292961523,0.0003834336,0.0665325001,-0.045870807,-0.0090758288,0.0044225734,-0.0184465535,0.0176570732,-0.0156065682,0.0603363663,0.0246922318,0.0168490838,0.0024951666,0.0049738106,0.0190666784,0.0065919352,0.006466432,-0.0046322569,0.0108467275,-0.0342300311,0.0408206098,0.005115041,0.0326658599,-0.0151102673,0.0174022149,0.0125099784,0.0793426186,-0.0257125944,0.0004029655,-0.0147290556,-0.0538919345,-0.0786473826,0.0108683193,-0.0389389247,-0.0044731987,-0.0319573693,-0.0342852175,-0.0385138579,-0.0230762511,-0.02140975,-0.0121038863,0.0444286503,0.0006351164,-0.0295635872,-0.0126418443,-0.0151252309,-0.0100109819,0.0080481917,0.0137195382,-0.0112350434,-0.0093774274,-0.0150244683,0.0419311672,-0.0690340921,-0.007379862,-0.0573090948,0.0135799972,-0.0192228556,0.0350468569,-0.0368126668,-0.0019285267,-0.0520124026,-0.0094258729,0.0447048657,0.0823171511,0.0084527265,-0.0011554341,0.0543625429,-0.0338823833,-0.0635219961,-0.0270871408,0.0120660439,-0.0213614311,-0.0273454282,0.0260342788,0.0949865952,-0.0591390096,-0.0349975675,0.040179003,0.0026537033,0.0108832102,-0.0167785659,-0.0546895862,0.0247092992,0.0283085555,-0.0438947491,0.032700073,0.0244297124,0.0007083286,0.0139342342,0.0320478044,0.0558922552,0.0299594402,-0.0032498683,-0.0204506498,0.0124371219,-0.0126564931,0.0771062672,-0.0118455626,0.0364145599,-0.0023492007,-0.0272819586,0.014563309,-0.0328649431,0.0081348931,0.0935667455,0.028368732,0.0294649601,-0.0179077685,-0.0386517532,-0.067558527,0.1035519615,0.0735925138,0.0433901772,0.0116103347,-0.0246603005,-0.0079668472,-0.009487207,0.05350421,-0.03188508,-0.0266832914,0.0166827999,0.055274602,0.0289472528,0.0031484449,0.0055608726,-0.0302699804,0.0594657995,-0.0087045263,0.0467372537,0.0255262014,0.0433629155,-0.0448835045,0.0024444149,0.0351498649,0.0101549281,0.0006276213,-0.0481580682,-0.0258380659,-0.0083475616,0.0154550206,0.0625708774,0.042148266,0.0346780308,-0.0202553403,0.0162347686,0.0492228642,0.0039407969,-0.0031670874,-0.0347622298,0.0566403233,0.0495730266,0.0610997155,0.0082342215,0.0714835748,0.0121622877,0.0192826092,-0.0034137249,0.0155983754,0.0004684675,0.0015492701,0.0071827532,-0.012270662,-0.0238949973,-0.0262704827,-0.0508868396,0.0214000475,-0.0070689698,-0.0720788836,0.0004048598,0.0434155464,-0.0096524889,0.0053239288,0.0172346234,0.0342097953,-0.0262001362,-0.0146749001,-0.0213675406,-0.0225813743,0.0261247847,-0.0539370477,-0.0220087226,0.055189956,-0.0524439141,-0.013327064,-0.0461610481,0.0200852491,0.0037050585,-0.0158022866,-0.0131699517,0.0196635704,-0.005040694,0.0043619089,-0.023246374,0.0095808785,-0.0257595889,0.0344990157,-0.0020127734,-0.0369792618,0.0034086099,-0.0016120241,0.0151349884,-0.0435601473,0.0186541546,0.0470474474,0.0568557754,0.0170712769,-0.0464029536,0.0014842063,0.0671060234,0.0285246428,0.008007424,-0.0691438541,-0.0054453034,-0.0262486916,0.0995657519,-0.0084248409,-0.0029640989,0.0598554797,0.0427276082,0.0137503305,-0.0457130373,-0.0464691855,-0.0328606553,-0.0124533651,0.037825875,0.0017377943,0.042674575,-0.010416002,-0.0245147459,-0.0190121569,0.0117992181,-0.0021964347,0.0034553153,0.0121758301,-0.0450418629,-0.0019998718,0.0320752636,-0.0150986258,-0.0689204484,0.0025730978,0.0147000728,0.100251317,0.0237118136,0.0726327822,-0.0250190292,-0.0338005982,-0.1224038228,-0.0380594321,-0.0411035232,-0.0017296802,-0.0359084457,-0.000163487,-0.0037639537,-0.0010626749,-0.022874428,-0.0786174461,0.0514197536,0.0790636837,0.0269867629,-0.0125595713,-0.0009249058,-0.0419573523,-0.0222014841,0.0106579605,-0.0334288254,-0.0025143626,-0.0151568381,0.0241337512,-0.0568245724,0.003430174,0.0118250074,-0.0329967812,0.028052276,0.0075792237,0.0544238463,-0.0162264854,-0.0717850104,-0.0298808422,0.0152858282,-0.0397102796,0.022535963,0.0270902254,0.0120784566,0.0386282876,0.0228088442,-0.0001758535,0.0150073031,-0.0161936469,-0.0419650972,0.0489226952,0.0112394718,0.0154216168,-0.0289513096,-0.0624905303,0.0586112551,0.0552075207,0.0312634893,0.0037137158,0.0666108876,0.0026725642,0.0031080854,0.0218077525,-0.0111351991,0.0100165885,-0.0413825549,-0.0040942561,0.0600697175,-0.0227062125,-0.0197035093,0.0304479785,0.0365607366,0.0062467335,-0.0301029999,0.0239509102,0.0111759156,-0.0192792099,0.0355721153,0.0047014956,-0.0106318397,0.0869245604,0.0542653427,0.0309863929,0.0281963628,-0.0527100861,0.0099750422,-0.0182761513,-0.1053167731,-0.0234123245,0.011770389,0.0234854538,0.0046857647,0.0643445328,0.0708934665,-0.0485284813,0.0081538651,-0.0195452143,0.0316524468,-0.0158863161,-0.0022091756,0.0236365907,-0.0525412448,0.0333266705,-0.0228115562,0.0103298705,0.0244822018,0.0082563311,-0.0201600287,0.006957836,-0.0444397591,-0.0098085739,-0.007597628,0.0271160454,-0.0241845734,-0.0677830726,0.0204260573,0.0044534807,-0.0353131965,0.0665923133,-0.03114287,0.0260809343,-0.0072019836,-0.0002971012,-0.033654917,-0.0423415452,-0.0291137528,-0.0187050216,0.0434470363,-0.0427575447,0.000880636,0.0192984361,-0.0397513844,-0.0236768182,0.0244629569,0.0276087597,-0.0193824004,-0.0280002598,-0.0015372678,-0.0097525511,-0.0445681065,0.0628830194,0.0022834262,-0.0332439132,-0.0210931506,-0.0016697899,-0.0179945808,-0.0356139988,-0.032582812,-0.0009657505,-0.0255648717,-0.0485491939,-0.0487018451,0.02435828,0.0109707266,0.0382311977,0.0163515415,0.0164564047,-0.0214437395,-0.0031224119,-0.055449184,-0.0248304456,-0.0282554459,-0.0322328545,-0.0805304348,0.0152391531,0.0109886192,0.0228426475,0.0397346914,0.0183810629,-0.0025187396,0.0224297997,-0.01627139,0.0104182549,0.0064832652,-0.0075203832,0.0135182207,-0.0151117705,-0.0464107096,0.0331877992,0.0142762074,-0.0200402439,-0.0113473004,-0.0732506812,-0.025869105,0.0139691466,-0.0621723384,0.0128128743,0.0422405042,0.0156708304,0.0271182787,-0.0328373164,0.0000162307,-0.0752956197,0.053798452,0.0403091833,-0.0263402127,0.00614338,0.040137317,-0.0213970803,-0.0540729165,-0.0106991474,-0.0044601792,-0.0268428605,-0.0459592864,0.0411440916,-0.0194476731,-0.0091011096,-0.0368140154,0.0863650143,0.0151596414,0.0668874905,-0.030671766,0.0279347338,-0.0225952044,-0.0793183222,0.0173367281,0.0128950654,-0.0408490747,0.0237505883,0.0641728267,-0.0058547133,-0.0361497551,-0.0282924399,0.0001450897,0.0232804529,0.019187849,-0.004289432,-0.013465954,0.0389441811,-0.0182969999,0.0264977459,-0.0015951602,-0.0340601727,-0.0054742331,0.0590205453,0.0713018551,0.0191057529,-0.0108117182,0.0324281901,-0.0795058161,0.0003472462,-0.0290229842,0.0020264462,-0.0417264327,-0.0254939198,-0.0499082245,0.0065629845,0.0660509244,0.0218789168,-0.045718614,-0.0135508832,0.0082918508,-0.0794801041,-0.0116503108,0.0418244675,0.0408153906,0.0065853707,-0.0117547903,0.0235693157,0.036842104,-0.0225379914,-0.0389990546,-0.0583195053,0.0075805411,-0.0337750874,-0.0277721398,0.016378399,0.017498523,0.0674725473,-0.0036839359,-0.0056730108,0.056344416,-0.019248968,0.0125657432,-0.009006544,-0.1215242296,0.015784258,-0.0843194947,-0.0517322831,-0.052639246,-0.0379982963,-0.0010479246,-0.0177338328,0.0162417069,-0.0278629847,-0.0037666692,-0.0002056904,0.0890410319,0.0081154602,0.0080188029,-0.0283364914,0.0148395011,-0.0220158864,0.02124089,0.0548879355,0.0004934846,0.0113391234,-0.0047344007,-0.011124393,-0.0092687039,-0.0005533653,-0.040351212,-0.0541569889,0.0428671502,0.0111013101,-0.0059655108,0.0301552936,0.00777693,-0.0152757494,-0.0122516677,-0.0111291381,0.0452246219,0.0300039668,-0.0178934094,0.0058682254,-0.0090332702,0.0090669487,-0.004731575,0.0168439299,0.0297565721,-0.0295088198,0.0289068371,0.0007182566,0.0580460504,0.0117430417,0.0792107955,0.0064623789,0.003262534,-0.0251356419,0.0069734007,0.1245562956,0.0094978018,0.0319316834,-0.0759953856,0.0238126423,-0.021557834,0.0333224908,0.0206102021,0.0532234833,0.0022682825,0.0122401714,0.0125579443,-0.0187257007,-0.0417428985,0.0418548584,0.0620755516,-0.0408955924,0.0215530824,-0.0095500788,-0.0113891,0.0638832152,0.008721564,0.0439198017,0.0322717652,-0.014092315,-0.0189305376,-0.0280736834,0.0776489004,-0.0124618867,-0.0002890744,0.0111669125,0.0280625373,0.0698350221,-0.0056484332,0.0047979099,-0.0607055575,0.0124221183,-0.018498607,0.0284750424,-0.013817803,0.0587629676,0.0571667254,0.0337757431,-0.0032080105,-0.0035314353,0.0385200083,-0.0177302454,-0.0112749636,-0.0279794708,0.0426649004,0.0408744998,-0.0517182313,-0.0825189278,0.0452109464,0.0214536246,-0.0275019016,0.0623090491,-0.0554037653,0.0615430661,-0.0334538035,-0.0164493751,-0.0639700145,0.0292712264,-0.0113487011,0.0594976097,-0.0042297468,0.0624128357,-0.0372215845,-0.0453078449,0.0565156229,0.0197020657,0.029373236,0.0317948125,-0.0035165802,-0.0530878454,0.0265696701,-0.0325135067,-0.0270230565,-0.0166857447,-0.0156125538,-0.003269732,0.0540834032,-0.0287769809,0.0670550019,0.0069284895,-0.026916841,-0.0372060761,0.0214178152,-0.0013192351,-0.0210331995,-0.0235469472,0.0786329135,-0.0027911847,-0.000568416,0.060551513,-0.0227398481,-0.0123366881,0.0232452732,0.0253084563,-0.0336484686,0.0136394333,-0.0198298842,0.0650783032,-0.0314700417]}\n",
            "{\"id\":2,\"embedding\":[0.0285848454,0.0016411978,0.0594420768,0.0653871372,-0.0569307171,-0.0087680761,-0.0088673709,-0.0058037504,0.0142374421,0.004914545,-0.0285535697,0.0115234321,0.0310128592,-0.0400179811,0.0150477253,-0.019713752,0.0271381922,-0.0134634245,-0.0435517766,0.0323705524,-0.0512342416,0.039324563,-0.0335136019,-0.0101820417,0.0107339993,-0.0012417395,0.0734279528,-0.0174515881,-0.0091445446,0.0197186377,-0.0886406451,-0.0335326418,0.0748994425,-0.0045004813,-0.0063720793,0.0474085659,0.0122478399,0.0105387093,-0.0090855779,0.0308325682,0.0488494113,-0.044061929,-0.0893581957,0.0084694903,0.0282738768,-0.0391532071,-0.009285857,-0.0088730017,0.024820663,0.0425160713,0.0418310761,-0.0002781535,-0.0052035404,0.0616181195,-0.0484267958,-0.0293106921,0.0630499274,-0.0168025345,-0.0615117326,0.0001681093,0.0317719169,0.0252403244,0.0052290275,0.0322561823,-0.0218743142,-0.0281403977,-0.0236956198,0.0399322659,0.0190543365,0.0046442058,0.0087464051,-0.0170444958,-0.0195233393,-0.0326602645,0.0196434464,-0.0114803789,-0.0157331172,-0.0111809708,-0.0277743582,-0.0882811621,0.0330382288,-0.0256951638,-0.0235522781,-0.0284325648,-0.0067467233,-0.0272047687,-0.0122499624,-0.0573319718,-0.0189383607,-0.0217764303,-0.0087015806,0.0190848075,0.0378746465,-0.0203065611,-0.042959962,0.0206812639,0.038608741,0.004119935,-0.0187946875,0.0186825525,0.00505332,0.030478023,0.0219851825,0.0610724315,-0.0132807503,-0.0228806958,-0.00250937,0.0198860578,0.0161380135,0.0164730009,0.0410072468,-0.0302102268,0.0184782706,-0.0182311572,0.0568514392,0.0105798291,0.0110918526,-0.0235544834,0.0356421471,0.0164520275,0.067300275,-0.0095715839,-0.0139132161,0.0006704162,-0.0515930019,-0.0695889369,-0.0033825869,-0.0621756725,-0.0272716209,-0.0283735413,-0.0264068637,-0.0212777276,-0.0827941149,0.012361682,-0.0237113256,0.0785409883,-0.0392589606,-0.0460378863,-0.0017336819,-0.0096031278,-0.0017717446,0.0426646248,0.0175087415,-0.0025531552,0.0007149754,-0.0353448577,0.0417382084,-0.0498781726,-0.0409981161,-0.037850555,0.0305150114,-0.0168854054,0.0342280231,-0.0255991593,-0.0451476127,-0.0150909396,-0.0009434968,0.0323039368,0.0833945349,0.0375757888,0.0195274428,0.0598372966,-0.0228992049,-0.0217907969,-0.0198781006,0.0298714824,-0.021319529,-0.0477994159,0.0040721288,0.1272705793,-0.0468963534,-0.0246954449,0.0412953459,-0.0122187054,-0.020714106,-0.0079343626,-0.0210213549,-0.0239114072,0.0188171975,-0.0450084433,0.0117938239,0.0555787161,-0.027030535,-0.0154089481,0.0012090635,0.047263436,0.0361240171,-0.0089796055,-0.0392417498,0.003198629,-0.034978155,0.0487622805,-0.0591548942,0.0211379472,-0.0181656294,-0.038130708,0.0134266764,-0.0354476497,-0.0079722358,0.0953525305,0.022213066,0.019872617,0.029105125,-0.0695186555,-0.0398711674,0.1289487481,0.0636916384,0.0526471473,0.0024733867,-0.0186652001,-0.0228857677,0.0077978955,0.0191187784,-0.0193555113,-0.0087484606,0.0262142736,0.0437737927,0.04722514,-0.0112387286,-0.0033653195,-0.0202537943,0.0412288308,-0.0589506812,0.049923826,0.0038119012,0.0228205901,-0.040304143,0.0054191146,0.0274251308,0.023778379,0.0054669715,-0.0430228189,-0.0544676483,0.0256015565,0.014187674,0.0964749679,0.0123924483,0.003734756,-0.0167998616,0.0061687552,0.0306521654,0.0059432397,-0.0057715098,-0.0292092394,0.0276328661,0.0240800176,0.0756894499,-0.0209277757,0.0703768805,0.0252381116,0.0065896525,0.0063641579,0.0105386786,0.0256136879,-0.0038419485,0.0097033372,0.0067228293,-0.034153413,0.0050250082,-0.0622249544,-0.001306569,0.0077444585,-0.0352410078,-0.0073897736,0.0535393432,0.0038827856,-0.0024698228,0.0164441541,0.0528085791,-0.038814038,-0.0277584027,0.0182684902,-0.011528641,0.0162023623,-0.0297469161,-0.0011893621,0.0465518162,-0.0768531188,-0.0073319115,-0.0635381341,0.027005678,-0.0080775525,-0.0451737568,0.017478358,0.0129764965,0.0407170802,0.0149267409,-0.0078575071,0.0290925521,-0.0368310548,-0.0013354309,0.0229433272,-0.0156385656,-0.0055469777,-0.0112238107,-0.0013807087,-0.0378395766,0.0163150281,0.0607655644,0.0200219192,-0.0154509768,-0.0318797715,-0.0082135973,0.0300466251,0.0535570458,0.0161786247,-0.0611570217,0.0106997341,0.0010814916,0.0807891786,0.0057892478,0.0147528276,0.0339682475,0.0746963993,0.0172855593,-0.0319362208,-0.072376512,-0.0317120291,-0.0037058645,0.0593001805,0.0186647587,0.025697289,-0.0383905247,0.0049422099,-0.0267522093,0.020054156,-0.0231576804,0.0371316113,-0.0032668675,-0.0413427651,0.0030429133,0.0056409929,-0.0454066731,-0.087244451,-0.0017521434,0.0344569646,0.1195740029,0.027047066,0.0281828549,0.0027136204,-0.0157957152,-0.1587269008,-0.0148771573,-0.008499545,0.0223471951,-0.0245103911,0.0060584345,-0.0197868086,-0.0103948135,-0.0165050495,-0.0750717223,0.0402274765,0.0532937646,-0.0259086601,-0.0016209309,-0.0528231189,-0.062482167,-0.0106311142,-0.0055032857,-0.0016838167,-0.0305264369,-0.0501454137,0.0041107782,-0.0819024891,-0.0276789945,0.0187680814,-0.0225593969,0.0098267561,-0.0092621772,0.03234699,-0.0147814564,-0.0619478077,-0.0829992369,0.0455469452,-0.0171048157,-0.0087337168,0.0129344007,0.0075658318,0.0597298667,0.0111042345,-0.0201188046,0.0442099199,-0.0256182421,-0.0142617617,0.0200567394,0.0304696001,0.0386372991,-0.0049939244,-0.0279526543,0.0438191481,0.0368500911,0.0450165644,-0.0015741984,0.0359670259,0.0005764329,-0.031769231,0.028299056,-0.0360384211,-0.0266455784,-0.005821296,-0.0356568918,0.072862424,-0.0089514162,-0.0423034802,0.0102820219,0.0234710239,0.0119176172,-0.0291419327,0.0160251968,0.029268885,-0.0063357456,0.025401216,0.0288977493,-0.0386999324,0.0549360923,0.0217308924,0.003146671,0.0410331972,-0.0165215638,-0.0445524789,-0.0494767688,-0.049694404,-0.0418856367,0.0251336992,0.0342027284,0.0219170991,0.0698357448,0.0854358822,-0.0535701476,0.0023670732,-0.046648033,0.0105179381,-0.0096580852,0.0146821067,0.0409213789,-0.0413661711,0.0225878153,-0.0400665998,-0.0102843856,0.0190529916,0.0034964895,-0.0320928879,-0.0216779467,-0.0275803562,-0.0353961922,-0.0146937156,0.0135510927,-0.009430158,-0.0691360682,0.0100895017,-0.0326651409,-0.0304346178,0.0485536195,-0.0204087924,0.0452198051,-0.001765918,-0.0155444518,0.0026455093,-0.0414316654,-0.0319369622,-0.0030784865,0.0553140342,-0.0180633441,-0.011132068,0.0244501699,-0.0292253196,-0.0310182329,0.0010578207,0.0310717598,0.0092892013,-0.0082079424,0.0327549241,0.0098223854,-0.0355003104,0.0826697201,0.0019352438,-0.0232941378,-0.0093320338,-0.0164711326,-0.0218251646,-0.0293072909,-0.0689456239,-0.0456253141,-0.0083176475,-0.0419537909,-0.0374873914,0.0613315105,-0.0046085711,0.0391128026,0.0487747937,0.0324270353,-0.0132162832,-0.0176092722,-0.0469646454,-0.0177939553,-0.0462639593,-0.0040641814,-0.0651861131,0.03594191,0.0168525632,0.0274723377,0.063369371,0.0295225997,0.0090882964,0.0123043405,-0.0340332799,0.0028032807,-0.0233887769,-0.0176644512,-0.0114407511,-0.002595929,-0.0230581854,0.0369333625,-0.0094960546,0.001257016,-0.0154410079,-0.0720075741,-0.0148373786,-0.0286373589,-0.0281628538,0.0145680849,0.040656887,0.0116066011,0.0132346312,-0.0094136903,0.0333379917,-0.0954331011,0.0390840322,0.0300999712,-0.0299131498,0.0223675538,-0.0005529906,-0.0472163595,-0.0879719257,0.0070602563,-0.0599669665,-0.0317399241,-0.0323082693,0.0240733661,-0.0235641208,0.0352188908,-0.0243751984,0.0640064627,0.0302117281,0.0041616783,-0.0274015069,0.0226101,-0.039774809,-0.0642787516,0.0100812661,0.0309823956,-0.0340371132,0.0064268266,0.0588771962,-0.006405653,-0.0276999157,-0.016843047,-0.0232627913,0.033346191,0.0024476903,0.0023103924,-0.0142981149,-0.0140122101,0.026815325,0.0273354221,0.0077504157,-0.0060166768,-0.0209372509,0.0597890541,0.048734352,0.000573746,-0.0096403668,0.0268758498,-0.0405326225,0.015475628,0.0028646796,0.0004620859,-0.059859056,-0.0075244075,-0.0347239524,0.0037855287,0.06509386,0.0009293247,-0.0500110835,-0.0151462313,0.010507321,-0.0747948587,-0.05965342,0.0264097303,0.0617582202,0.0002821474,-0.0104275886,-0.0211845748,0.06534563,-0.008678033,-0.0539452061,-0.0377544761,-0.0187444389,-0.0378934182,0.0102697453,0.0175449364,0.0000769898,0.025589386,0.0157222431,-0.023368001,0.0676289871,-0.0107242344,0.0580494702,0.001214007,-0.0900226384,-0.0216552727,-0.0871319845,-0.0235140473,-0.0212557055,-0.0401141457,0.0178389587,0.0133408541,0.0276739784,-0.0365602113,0.0134085314,0.0173273552,0.0420774147,0.0057150801,-0.0165897068,-0.0178846009,-0.000067678,-0.0098324586,0.0380501114,0.0306394026,-0.023592269,-0.0165934321,0.0470966063,0.0058043189,-0.005704599,0.0079613347,-0.0283515938,-0.0297605731,0.0243834853,0.0237950496,0.0067087384,-0.022869112,-0.0030838051,-0.0038511697,0.0060745985,-0.0295009706,0.077961728,0.0543482043,-0.0095308926,0.0107329497,-0.0262965169,0.0013895351,0.0049477867,0.0067668101,-0.0179211032,-0.0139846811,0.026446566,0.038334921,0.038614478,-0.0112985205,0.0382158458,0.0150429439,-0.0231342837,-0.050875213,-0.0011557371,0.0800469145,0.0290075373,0.0555184372,-0.0531297512,0.0101327049,-0.0144518046,0.0254865047,0.0081328033,0.0322867706,0.0279511027,0.0106043611,0.0152270105,0.0040698173,-0.03930315,0.0454969518,0.08571022,-0.0841877386,0.0158209633,0.0039953138,-0.0013137949,0.0509317853,0.003812962,0.0124386903,0.0499354228,-0.0305637661,-0.0078423508,-0.0486247949,0.0391347744,-0.031294331,-0.0057004709,-0.0156442169,0.0183305051,0.0290863477,0.012705774,-0.0021285648,-0.0469385311,0.0102135539,0.0171296746,0.0084175291,-0.0218869727,0.0397813916,0.0141721936,0.0364245363,0.0007928642,-0.0060147732,0.0728178844,-0.0551509969,-0.0335922651,-0.0332669057,0.0179927889,0.0447631665,-0.0223718379,-0.0665063262,0.0067505366,0.0361436531,-0.0142337093,0.0455936119,-0.097107701,0.0415961817,-0.0596016869,0.0268441439,-0.0406167954,0.0381769352,-0.0261515863,0.043189466,0.0392875001,0.0285829455,0.0328364968,-0.0269944165,0.0573516749,0.0248435009,-0.0104149878,0.0327820368,0.018016696,-0.0719493479,0.0450584181,-0.0482526533,-0.0226486716,-0.0521623008,-0.0066813375,0.0060209469,0.0625336841,-0.0202752333,0.0891128331,0.0047805319,-0.0566403084,-0.0442767218,-0.0010061666,-0.0036873235,-0.0102366544,0.0216552019,0.0712009221,-0.0016981984,-0.0188442208,0.0517945178,-0.0018659697,0.0103621455,0.0319855586,0.0132992454,-0.0330580845,0.0550111681,-0.0256638043,0.0395508371,-0.0155117707]}\n",
            "{\"id\":3,\"embedding\":[0.0118592167,0.0162956603,0.0274522491,0.0390259027,-0.0568467416,0.0239796769,-0.027134072,-0.0254467372,-0.0093219448,0.0017473385,0.0501406491,0.006219299,0.0164740067,-0.0239715893,-0.0396359265,0.0220886525,0.0532695055,-0.0333261043,-0.0736934245,0.0237313081,-0.0121045653,0.0218787845,-0.015038087,-0.0332116708,0.0301599875,0.002684989,0.0387307554,0.0057585025,0.0015107583,0.0087535707,-0.0639748052,-0.0506837331,0.0427973121,-0.0098077562,0.0129271988,0.0451735854,0.0291598123,0.009326092,-0.0085756946,0.0310282595,0.0031882892,-0.0428519137,-0.0406154208,0.0248206016,0.0337985903,0.000299808,0.0363692567,-0.0050018998,0.0478251502,0.0540612116,-0.009170996,0.0186073817,-0.0114432322,0.0209680106,-0.0364589542,0.0005283037,0.0633650273,0.0316005945,-0.0138988039,0.0357656479,-0.0034444253,-0.0030734171,-0.0045463028,0.0280896854,-0.0049203131,-0.0230366401,-0.0520129986,0.0372376516,0.0287671778,0.0475027487,0.0206705797,-0.0041456586,-0.0397584289,-0.0420234539,0.0433283336,0.0298046228,-0.0155969188,0.0192649867,-0.0422300436,-0.0893382877,0.0401296206,-0.0181359109,0.0169526432,-0.0127057033,-0.0090267882,-0.0187863428,0.0137878554,-0.0324533507,0.0161387324,-0.0579491369,-0.0308360793,0.0272305124,0.0211215448,-0.0001227551,-0.0311393905,-0.0045809052,0.0369578414,-0.0022791831,-0.0570452996,0.0100198658,-0.0123898126,-0.0193344504,0.010179854,0.0488542616,0.0100102481,-0.0260208156,-0.0013501446,0.0293879285,-0.0194177348,0.0271485932,0.0158717688,-0.0614614412,-0.0031070861,-0.025412878,0.0098516466,0.0416635647,0.0030963421,0.0302868318,0.0403172597,-0.0039234133,0.0709087774,-0.0173034221,0.0202820599,-0.0159458313,-0.0793949664,-0.0194668695,-0.0178935155,-0.0244670715,-0.0154668698,-0.0474412031,0.0026693533,0.0380552858,-0.0859548599,-0.0118499994,-0.0234286897,0.0687358156,-0.0577516891,-0.0408678241,-0.0204493776,-0.0170040783,-0.0369813591,0.0331015959,-0.0079056211,0.0504570156,0.0283493232,-0.0444387123,0.0347968228,0.0174572282,-0.0189038143,-0.0584382415,0.0365720913,0.0082322247,-0.0029553431,-0.0069695548,-0.0498395674,-0.0075486046,-0.0113275368,-0.0012662245,0.0848907307,0.0518284924,0.0747160092,0.0361190736,-0.0527606793,0.0204720479,-0.020646438,0.0013955584,0.0110458927,-0.0673001483,0.0017813076,0.0599265583,-0.0377379209,-0.0348312706,0.0513657965,-0.0011595977,-0.0268246215,-0.0145697342,-0.0589982048,0.0215096101,-0.0049401368,-0.0641737059,0.0299830642,0.0513941385,0.0125605278,-0.0216200445,-0.0020492931,0.0549973771,0.0306554362,0.038603995,0.0061021331,0.0139621366,-0.0471899882,0.0980665982,-0.0358781852,0.0445234627,-0.0340287015,-0.0069104163,0.0520245209,0.0039613498,-0.0176956877,0.0552188866,0.0385512598,0.039153643,0.0232215244,-0.0137425661,-0.0455370545,0.057459224,0.0138073973,0.02014938,0.0307587218,-0.0145145813,0.0385017358,-0.0480787605,0.0501024462,0.0001407489,-0.0327769481,0.0318992138,0.0084484238,0.0485591143,-0.0277987719,-0.0153763313,-0.046675045,0.046025943,-0.0109548196,0.0076425336,0.0336949155,0.0306745768,-0.0006352841,0.0060959547,0.0201187786,0.0151216118,0.0350164436,-0.0521499589,-0.0202406682,-0.0012641932,-0.0080526052,0.0169715639,0.039926745,0.0293139275,-0.0469012298,-0.0354469158,0.0526100658,0.0476430357,0.0288594253,-0.0193409044,0.0277646203,0.0012761023,0.0786965564,0.0327995308,0.0353182741,-0.0051176688,0.0088638114,-0.0261701066,-0.0140702808,-0.0183100663,0.0216845255,-0.0121064698,0.0225386508,-0.0278683081,-0.0086187907,-0.0667745396,-0.0240513571,-0.0197696295,-0.0614840649,0.0072133378,0.0678059757,0.0194652639,-0.012804375,0.0136831002,0.0017608498,-0.0400664397,-0.0425809808,0.0285772868,-0.0344183706,0.0359651446,-0.0519250408,0.0034676041,0.0519658364,-0.0250595547,-0.025006406,-0.0135098929,0.0362378545,-0.0413835607,-0.0127425008,-0.0323920511,-0.0029068252,-0.0265741162,0.0548774712,0.0007652984,0.0319715925,-0.0604713038,-0.0111057805,0.0168077983,-0.05822023,-0.0169716645,-0.0001346448,0.0205584709,-0.0373832472,0.0087356027,0.1015172079,0.0275819749,0.0275571663,-0.0101522217,0.0068240496,0.0760610551,0.0313837975,-0.0198003352,-0.0449787565,0.0289187245,0.0228292234,0.0897469223,0.0329556502,0.0167034511,0.0482546762,0.022837583,0.0104830721,-0.0371134914,-0.0451758169,-0.0240200199,-0.0497455634,0.0490333848,-0.022198081,0.0363679603,-0.0086184163,-0.0052655977,-0.0758161843,0.0181008223,-0.0011591952,0.0587267652,-0.0058953431,-0.0616460703,-0.0218788218,0.0335603878,-0.0599462725,-0.0581337176,0.0083488962,0.0242185295,0.1301389188,0.0128089441,0.0579209998,-0.0473891161,0.0020549309,-0.1603847444,-0.00593838,-0.0392236486,0.0192250144,-0.0398196094,0.0167279877,0.0226407908,-0.0209391303,0.022452211,-0.0543105491,-0.0005768695,0.0819909051,-0.0578124151,0.0298966244,-0.0460440852,-0.0808226168,-0.0519458428,-0.0761177465,-0.0090876352,0.0260345452,-0.0618951768,-0.0078175347,-0.0420255847,-0.0092681469,0.0256788582,-0.0230023451,-0.0197538808,0.0320398882,0.0234919358,0.0214061327,-0.0952074751,-0.0181631427,0.009789085,-0.0231131855,-0.0129252383,0.0050911433,0.0104972767,0.0341010652,0.0027704102,0.004658387,0.011315586,0.0459025912,-0.037400119,-0.0210913923,-0.060539227,0.005301422,0.0070326244,-0.0215620492,0.0188308861,0.0281110108,0.0459111519,-0.0181251504,0.0254451595,0.0029550553,-0.0369679332,-0.0215102676,-0.0526401587,0.0326969847,-0.0331072956,-0.0267685335,0.0121711865,0.0204062201,-0.0113479597,0.0000290089,-0.0050065443,0.0264565609,0.0262180883,0.0591679774,0.0309986435,0.0062138424,0.0017560681,0.0263119787,-0.0354165174,0.0648058355,0.0261608995,0.0347248912,0.0135151111,-0.0214097332,0.0011982144,-0.0310511328,-0.0645645484,-0.0494531691,0.0216716211,0.0015263358,-0.0120763239,0.0731142759,0.0221183375,-0.018782299,0.0048342622,-0.013333464,0.0216889884,-0.0139405075,-0.0045110104,0.0059128851,-0.0622722879,-0.0060858261,-0.0315774828,0.011911111,0.0698970854,0.0292982087,0.0043682642,0.0319980495,-0.0262320451,-0.0614213496,-0.0545731559,0.0310282111,0.0078863064,-0.0544843376,0.0426412337,0.0012030422,-0.0467180908,0.021502113,-0.027188329,0.0277753361,-0.0065833018,0.0103327921,0.0195993409,-0.0022597203,-0.0367474742,-0.021479819,0.0513304211,0.0071029398,0.0046541817,-0.0175560191,-0.0013653022,-0.039396558,-0.0047944491,-0.0048279809,-0.0055973623,-0.0481534563,-0.0202031024,0.020980224,-0.0746738091,-0.0164042599,0.0241252333,-0.0149078621,-0.002377213,-0.0083034011,-0.0313231871,-0.0166732334,-0.0639559329,0.0004874792,0.0069514597,-0.0909174606,-0.0168043673,0.0683529899,0.004482884,0.034085691,0.0330774784,-0.0133349197,0.0031372744,-0.047759328,-0.0265561882,0.0005798275,-0.0506618507,0.0082721775,-0.0625881702,0.0320373513,0.0294518992,-0.0152997561,-0.01790566,0.0234394018,0.031866923,0.0205453783,-0.0205467641,0.0017807414,-0.0464931577,-0.002787895,-0.0190196708,-0.0071615726,-0.0271830708,0.0772065595,-0.0190434027,-0.0186490435,0.0389574096,-0.0449705534,-0.0256088674,-0.0176405124,-0.0198282097,0.0145031493,0.0147423027,-0.0019265793,-0.0063454816,-0.0232162829,-0.0068560094,-0.0690661818,0.0466975309,0.0254604761,-0.0287732799,0.0361304544,0.0094627365,-0.0266103707,-0.0494869463,0.0160049926,-0.0598301366,-0.0581588224,-0.0008388255,-0.0620451123,-0.0117327077,0.0115085691,-0.0076361652,0.0755655169,0.0127467327,0.0084819123,0.0011485118,0.0406420939,-0.0350332744,-0.0470186211,0.0174073856,0.0018662669,-0.055161126,-0.0181661136,0.048759006,-0.0274830982,-0.0373896211,0.0302026141,0.0467471071,0.0075633191,0.0277841873,0.0255153533,-0.0353966728,-0.0206636973,0.0146735637,-0.0034238512,-0.0081685744,-0.0090156747,-0.0658277497,0.0287804175,0.0219487622,0.0135639645,-0.0419542119,0.0158641003,-0.0534104183,0.0453020111,-0.0350207649,0.0135108,-0.0597491674,0.0146343745,-0.0248086639,-0.0140539985,0.0290393811,0.0489532985,-0.0647354797,-0.0331105553,0.0126841981,-0.0688556358,-0.0326011069,0.013742744,0.0357601233,0.0008260494,-0.019188799,0.0180638582,0.032545168,0.0140557755,-0.0479105636,-0.0947492421,-0.0192247592,-0.0033220279,-0.018883599,-0.0066658724,0.0112672243,0.0223142672,0.0309480336,-0.0134867784,0.047118526,-0.0354530476,0.0417261347,0.000448232,-0.1026667058,0.0563153327,-0.0709214285,-0.0518539101,-0.0540181659,-0.00808392,-0.0100540183,-0.0221933071,0.0269069225,-0.041321639,0.0099050701,0.0263981428,0.0325051025,0.028881941,-0.0127461366,-0.0097918306,0.037799105,-0.0540030152,0.0326932557,0.0087886723,-0.0295563135,0.0206267126,0.0256652441,-0.0004018292,-0.0160893332,0.0243381299,-0.0165019687,-0.0095915394,0.0545501709,0.0243333261,0.0191672537,-0.0544197075,-0.0226779487,-0.0415744931,0.0382970124,-0.0164122991,0.081225343,0.0546592474,-0.0052703698,-0.0062507382,0.0077961525,-0.0150715979,-0.0115880724,-0.0151820825,0.0115526086,-0.0159582123,0.0323663875,0.0434728973,0.0688673481,0.0005285649,0.0419438332,0.0528455116,0.0064346739,-0.0230886862,-0.0349319205,0.0614348575,0.0619107001,0.0126376012,-0.0359749757,0.0137953656,-0.0290289503,0.0110071059,0.0263187811,0.027299786,-0.0265911166,-0.0435162671,-0.0021538946,-0.0126975775,-0.0080189882,0.0716605037,0.0702874139,-0.0587170385,0.06420248,0.0122439638,-0.0042652148,0.0670102388,0.0245651174,0.0221940186,0.042050533,0.0148671651,0.0106885573,-0.0266583599,0.0098940702,-0.0205596369,-0.019261023,-0.0017031764,0.0063730027,0.0416407883,-0.0335920267,0.0198590755,-0.0140373353,0.0221053138,0.0434838384,0.0511506088,0.0116828196,0.0134658255,-0.0013932562,0.0387989059,0.032461375,0.0011136932,0.0465986617,-0.0410126671,0.005220246,0.0057876948,0.0078942282,-0.0036843359,-0.0350960456,-0.0841912925,0.008659292,0.0168319251,-0.0126899555,0.0268757008,-0.0808325633,0.0471709706,-0.0002191087,-0.0363285579,-0.0570500083,0.0176303424,-0.0072398102,0.0444647148,0.0181262158,0.0083969617,-0.0228382368,-0.0490384884,0.0202450491,0.0203171428,-0.0367021747,0.0350635909,0.0146709345,-0.0667024627,0.009292868,-0.0326726064,-0.0180645846,-0.0747609809,-0.0315462351,-0.0666025504,0.0425853878,0.0115808807,0.1003277004,-0.0088352151,-0.0027003237,-0.0862609223,0.0369740874,0.0448763482,-0.0072580804,0.0299419779,0.0670872852,-0.0178657174,0.0147109283,-0.0192978922,0.0132406391,0.0053190351,0.0276398361,0.0262436196,-0.0069590039,0.0431820191,-0.0178884435,0.0686284229,-0.0276725292]}\n"
          ]
        }
      ],
      "source": [
        "# save id and embedding as a json file\n",
        "jsonl_string = df[[\"id\", \"embedding\"]].to_json(orient=\"records\", lines=True)\n",
        "with open(\"questions.json\", \"w\") as f:\n",
        "    f.write(jsonl_string)\n",
        "\n",
        "# show the first few lines of the json file\n",
        "! head -n 3 questions.json"
      ]
    },
    {
      "cell_type": "markdown",
      "metadata": {
        "id": "YOzXehrGnfU_"
      },
      "source": [
        "### Local Similarity Search Test Run using only DataFrame"
      ]
    },
    {
      "cell_type": "code",
      "execution_count": null,
      "metadata": {
        "id": "214vdoNNzcR3"
      },
      "outputs": [
        {
          "name": "stderr",
          "output_type": "stream",
          "text": [
            "100%|██████████| 1/1 [00:01<00:00,  1.18s/it]"
          ]
        },
        {
          "name": "stdout",
          "output_type": "stream",
          "text": [
            "[[0.02670329622924328, -0.06561632454395294, 0.039728984236717224, 0.015330135822296143, -0.04961904510855675, -0.04559426009654999, 0.00017789840057957917, -0.0005180778098292649, -0.043920986354351044, 0.0034636303316801786, -0.004833780229091644, -0.053800735622644424, 0.030155859887599945, -0.01909491792321205, 0.049250055104494095, -0.012286501005291939, 0.05542847514152527, -0.04032176733016968, -0.1282789409160614, -0.011726150289177895, -0.01910519227385521, 0.015157917514443398, -0.022243639454245567, -0.01723719947040081, 0.013669786974787712, -0.003207692876458168, 0.003951258026063442, -0.01608867384493351, -0.053406454622745514, 0.03166099637746811, -0.055368974804878235, -0.024749701842665672, -0.006628101225942373, -0.013896701857447624, -0.02536821737885475, 0.03760921582579613, 0.012148112058639526, 0.02140650525689125, 0.02005300112068653, 0.054034046828746796, 0.04031268507242203, -0.04828718304634094, -0.09804730862379074, -0.0142063582316041, 0.019286509603261948, 0.01535696629434824, 0.011819321662187576, 0.029820363968610764, 0.04646363854408264, 0.018554704263806343, 0.0076936944387853146, 0.04355187341570854, -0.006228398531675339, 0.03535536304116249, -0.005681515671312809, -0.015853939577937126, 0.02423383668065071, -0.002242501126602292, -0.0300847589969635, 0.022830968722701073, 0.05068046599626541, -0.03346042335033417, -0.04379897937178612, 0.03477376326918602, 0.0040464820340275764, -0.028346596285700798, -0.002624252112582326, 0.04408469796180725, 0.01932513527572155, -0.008344437927007675, 0.02313198707997799, 0.010603731498122215, -0.01759587973356247, -0.024001387879252434, 0.05959458649158478, 0.0249212346971035, -0.03089131973683834, -0.02673662267625332, -0.01776670292019844, -0.07669798284769058, 0.03681569546461105, -0.02107284776866436, 0.02658809907734394, -0.005811247508972883, -0.020124824717640877, -0.001342209056019783, -0.0292358435690403, -0.020658526569604874, 0.015635279938578606, -0.04842193052172661, -0.012834160588681698, 0.0539129376411438, -0.011908009648323059, -0.013557580299675465, -0.044814374297857285, 0.0017130887135863304, 0.004447124432772398, 0.013608446344733238, -0.01840728148818016, 0.022377680987119675, 0.038219377398490906, 0.03550088405609131, 0.0016723062144592404, 0.07573908567428589, -0.020019372925162315, -0.02933320961892605, -0.0016480260528624058, -0.004208023194223642, 0.026792941614985466, 0.009176504798233509, 0.046429023146629333, -0.0017513278871774673, 0.05809325352311134, 0.03257594257593155, 0.03973739594221115, 0.0014201473677530885, -0.02112843655049801, 0.013962015509605408, 0.02596503682434559, -0.03159184008836746, 0.029112735763192177, 0.00010450184345245361, 0.00627104239538312, -0.0027856535743921995, -0.07346959412097931, -0.06623978912830353, -0.00858987681567669, -0.016155676916241646, 0.007005099207162857, -0.029637902975082397, 0.025299182161688805, 0.0036168138030916452, -0.0712994858622551, 0.015613644383847713, -0.07801615446805954, 0.04386310279369354, -0.010181659832596779, -0.02422749623656273, -0.026058053597807884, 0.003656070912256837, -0.007500671781599522, 0.005014172289520502, -0.011115428060293198, 0.025616900995373726, 0.05415399745106697, -0.06115400791168213, 0.06461527943611145, -0.05382831022143364, -0.03889743238687515, 0.0097871208563447, 0.03616299852728844, 0.01271700207144022, 0.026926778256893158, -0.011445592157542706, -0.054817914962768555, -0.01168864592909813, 0.0061166416853666306, -0.010581502690911293, 0.029814887791872025, 0.02904459461569786, 0.05279949679970741, 0.008499141782522202, -0.021685553714632988, -0.030147818848490715, -0.06615468859672546, 0.049531061202287674, 0.012979516759514809, 0.015624559484422207, 0.029125867411494255, 0.06802555918693542, -0.04717627167701721, 0.016545092687010765, 0.021244918927550316, -0.03272324055433273, 0.012318518944084644, -0.03651740029454231, -0.06996627897024155, -0.007966602221131325, -0.02313675917685032, -0.05804990977048874, 0.02271571196615696, 0.03753865510225296, -0.04022679477930069, -0.01464842725545168, -0.0144072026014328, 0.04575952887535095, 0.03321170434355736, 0.027023106813430786, -0.03474244475364685, -0.0016477425815537572, -0.03573377802968025, 0.05770038068294525, -0.012287446297705173, 0.0043127392418682575, 0.019603105261921883, -0.08597704023122787, 0.025255657732486725, 0.00464833015576005, -0.01955527253448963, 0.12807010114192963, 0.03354164585471153, -0.003556979587301612, -0.0012511679669842124, -0.05978473275899887, -0.056422606110572815, 0.06300383061170578, 0.0039118025451898575, 0.008764797821640968, 0.0639980286359787, -0.03361513093113899, 0.0023696464486420155, -0.02819998189806938, 0.038638170808553696, -0.034125857055187225, 0.02970055490732193, 0.029831470921635628, 0.006053980905562639, 0.020214403048157692, -0.025985708460211754, 0.03362727165222168, -0.013125977478921413, 0.0515059269964695, -0.012578971683979034, -0.0020428989082574844, 0.022410526871681213, 0.023832516744732857, -0.024470124393701553, -0.012158425524830818, 0.09157288819551468, 0.0029402831569314003, 0.00442946283146739, -0.011712192557752132, -0.03147342428565025, 0.024650584906339645, 0.0047600604593753815, 0.030765270814299583, -0.00028727686731144786, -0.007745108101516962, -0.00821929331868887, -0.021486327052116394, 0.04509441554546356, 0.03463134914636612, -0.01617453806102276, 0.021688686683773994, 0.07123924791812897, 0.02363348938524723, 0.0873669981956482, 0.017923682928085327, -0.034918636083602905, 0.036994192749261856, 0.07101117074489594, 0.0009421778959222138, -0.025877567008137703, 0.021030791103839874, 0.021304579451680183, 0.042974527925252914, -0.009520657360553741, 0.019758079200983047, 0.029569586738944054, -0.053588204085826874, -0.028089584782719612, 0.001404079026542604, -0.030892977491021156, 0.022931750863790512, 0.03310288488864899, 0.033316515386104584, 0.0015290258452296257, -0.029451830312609673, 0.0371989831328392, -0.026112904772162437, -0.017416853457689285, 0.023663656786084175, -0.04000304266810417, 0.01576138474047184, -0.011523930355906487, 0.025130202993750572, 0.05997271090745926, -0.04042244330048561, -0.04000372812151909, -0.010400666855275631, 0.05038468912243843, 0.03234035521745682, -0.05222310125827789, -0.05429834872484207, 0.004964753054082394, -0.0004999194643460214, 0.04024749621748924, -0.05738569423556328, 0.05241980776190758, -0.020920652896165848, 0.02161211334168911, 0.005246776156127453, -0.03781682252883911, 0.015659231692552567, 0.0025292523205280304, -0.012128359638154507, -0.05010499060153961, 0.005513675510883331, 0.07148721069097519, 0.025338120758533478, -0.03696863353252411, -0.047081902623176575, -0.015855807811021805, 0.03620315343141556, -0.019823642447590828, 0.048738133162260056, -0.039191119372844696, 0.037508055567741394, 0.02813185378909111, 0.11091158539056778, 0.022453727200627327, -0.030419472604990005, 0.05453384295105934, -0.004604307468980551, -0.009853058494627476, -0.07379170507192612, -0.08030067384243011, 0.006482221186161041, -0.007609129883348942, 0.06034776568412781, 0.01139094028621912, 0.021557992324233055, -0.006053025834262371, 0.0016768632922321558, -0.014427701011300087, -0.02346542291343212, 0.012090297415852547, 0.04217915236949921, -0.002702517667785287, -0.05012529343366623, 0.0010270947823300958, 0.013764727860689163, -0.11098545789718628, -0.04563496634364128, 0.013915551826357841, 0.01229536347091198, 0.10722305625677109, 0.006908384617418051, 0.043825965374708176, 0.009044758975505829, 0.00017037606448866427, -0.08281002193689346, -0.024023381993174553, 0.03546994924545288, 0.01554457563906908, -0.03563366085290909, 0.010990877635776997, -0.026764782145619392, 0.0024906634353101254, -0.048436567187309265, -0.06215359643101692, 0.056274183094501495, 0.09303547441959381, -0.06687337160110474, -0.0026196877006441355, -0.040942758321762085, -0.07868490368127823, -0.0032557821832597256, 0.010251629166305065, -0.009525006636977196, 0.004390791989862919, -0.06053003668785095, -0.02616017684340477, -0.02647554501891136, -0.02809646539390087, -0.010195239447057247, 0.01725665107369423, -0.0028316734824329615, -0.018487293273210526, 0.029086580500006676, 0.004240276291966438, -0.04344407841563225, -0.061937857419252396, 0.03332216292619705, 0.016603544354438782, 0.04296581819653511, 0.0018731491873040795, 0.03391043096780777, 0.03514421731233597, 0.020795369520783424, 0.01024539489299059, 0.025279829278588295, -0.005984907504171133, -0.021574780344963074, 0.04691264405846596, -0.0139104463160038, -0.004930612165480852, -0.019879475235939026, -0.02706184796988964, 0.006760687101632357, 0.013814035803079605, 0.08444008231163025, 0.001470360322855413, 0.04963819310069084, 0.008152681402862072, -0.018555397167801857, 0.010438082739710808, -0.05510760471224785, -0.017712151631712914, -0.020042069256305695, -0.011950697749853134, 0.055465806275606155, -0.026858411729335785, -0.07513543218374252, 0.03178614750504494, 0.031679388135671616, -0.008945721201598644, -0.006960228085517883, 0.03282325342297554, -0.03444327041506767, -0.010986638255417347, 0.007704208604991436, 0.010300727561116219, -0.007974330335855484, 0.08787203580141068, 0.012230866588652134, -0.002987193176522851, 0.015264132991433144, -0.022951511666178703, -0.01172329019755125, -0.02527734823524952, -0.05068308860063553, -0.009191072545945644, -0.0024931873194873333, 0.009988107718527317, 0.05375482887029648, 0.03752947598695755, 0.039818745106458664, -0.05667418614029884, -0.004870127886533737, -0.030157092958688736, 0.06473434716463089, 0.018022187054157257, 0.011040574871003628, -0.007281713653355837, -0.027939537540078163, 0.016536902636289597, -0.002127476269379258, 0.046157773584127426, 0.03989517316222191, 0.006377380806952715, -0.0211898572742939, -0.027739349752664566, -0.028333084657788277, -0.05885551869869232, -0.035014718770980835, 0.02270689234137535, -0.022401684895157814, -0.09448667615652084, 0.049075767397880554, -0.06158982962369919, -0.052769456058740616, 0.025108009576797485, 0.026617757976055145, 0.04859277233481407, 0.01695927418768406, -0.020945057272911072, -0.024567605927586555, -0.06282152980566025, -0.0279321800917387, -0.027448564767837524, 0.07019028067588806, -0.016043731942772865, 0.018787246197462082, -0.036365143954753876, -0.026341138407588005, 0.006324527319520712, 0.048990219831466675, 0.021255742758512497, 0.01394764706492424, 0.0014627801720052958, 0.01533772237598896, -0.011364033445715904, -0.023549146950244904, 0.04144895821809769, 0.014936397783458233, -0.0408758781850338, 0.01011718064546585, 0.0396997407078743, 0.01259324699640274, 0.02092466689646244, -0.05150032043457031, -0.01790175959467888, -0.011126627214252949, -0.06623677164316177, -0.02636990323662758, 0.06158646196126938, -0.007557930424809456, 0.02583809569478035, 0.011572415940463543, 0.014277386479079723, -0.014414901845157146, -0.024350589141249657, -0.0388643741607666, 0.012845698744058609, -0.061586882919073105, 0.01888798363506794, -0.041589174419641495, 0.05360513553023338, 0.04646233096718788, 0.021908314898610115, 0.023025644943118095, 0.0002151381631847471, 0.04103241115808487, 0.014373373240232468, -0.013353860005736351, 0.003490935545414686, -0.005394193343818188, -0.02564345858991146, -0.00835153367370367, 0.0030576102435588837, -0.06717203557491302, 0.04422876611351967, -0.048056744039058685, -0.05160842835903168, 0.02715977095067501, 0.007249725051224232, -0.039537519216537476, -0.008131848648190498, 0.005241399630904198, -0.013626686297357082, 0.08226902037858963, -0.0003724734124261886, -0.02207276038825512, -0.0022466585505753756, 0.022041192278265953, -0.07876057177782059, 0.06332693248987198, 0.04361725598573685, -0.05335037782788277, 0.0413309782743454, -0.028439179062843323, -0.06111849844455719, -0.050425902009010315, -0.017766043543815613, -0.027645355090498924, -0.0673326700925827, 0.015773773193359375, -0.012896019034087658, -0.011046028696000576, 0.03580579534173012, -0.007707057986408472, 0.0630137026309967, -0.03555317968130112, 0.026509791612625122, 0.009789482690393925, 0.024782754480838776, -0.05610581114888191, -0.04333025962114334, -0.02813083305954933, -0.0010182769037783146, -0.03942902013659477, 0.005272602196782827, 0.05584568902850151, -0.016511619091033936, -0.055407989770174026, -0.011865987442433834, -0.005132256541401148, 0.006049595773220062, 0.031072868034243584, 0.0417497418820858, -0.015360594727098942, -0.0020747000817209482, 0.005983327515423298, 0.026737844571471214, -0.018551720306277275, -0.022727428004145622, -0.05631989240646362, 0.012775194831192493, 0.04317483305931091, 0.029895851388573647, -0.007632685359567404, 0.005892678629606962, -0.064668208360672, 0.011095220223069191, -0.025838298723101616, -0.017548900097608566, -0.00980306789278984, -0.008233699947595596, -0.03441881388425827, 0.02361140586435795, 0.03494388610124588, 0.02586624026298523, -0.08811121433973312, -0.009679550305008888, 0.023655489087104797, -0.054012708365917206, 0.00507822260260582, 0.012233159504830837, 0.07543576508760452, 0.0012849204940721393, -0.003715483471751213, 0.004016526509076357, 0.05986467003822327, -0.048426877707242966, -0.036261893808841705, -0.026427732780575752, -0.052516426891088486, 0.015365988947451115, -0.018900945782661438, -0.015486156567931175, -0.0264667309820652, 0.07273973524570465, -0.0006718299118801951, -0.028008395805954933, 0.04946431890130043, -0.008257348090410233, 0.05756624415516853, -0.030681544914841652, -0.10258416831493378, -0.05398973822593689, -0.03149034082889557, -0.036355260759592056, -0.060099970549345016, 0.00879842508584261, -0.03796042129397392, -0.06156327947974205, 0.010777357034385204, 0.024974005296826363, 0.015574353747069836, 0.03104538843035698, 0.037742406129837036, -0.011844874359667301, -0.02367139235138893, 0.010843798518180847, 0.019715290516614914, 0.004408375360071659, 0.05182528495788574, 0.06969168782234192, 0.002038960112258792, 0.01815151423215866, 0.03650958463549614, 0.015428844839334488, 0.01080277469009161, -0.01968478225171566, 0.019472291693091393, -0.04778089001774788, 0.03864144906401634, -0.05384134128689766, 0.008721860125660896, -0.02938792295753956, -0.024758819490671158, -0.04374433681368828, 0.014992422424256802, -0.0004796328430529684, 0.058428362011909485, 0.010295924730598927, 0.04319297894835472, 0.021003898233175278, -0.005497294012457132, 0.012043372727930546, 0.020328065380454063, 0.002163985976949334, 0.018252747133374214, -0.035977717489004135, 0.011568884365260601, 0.006814338266849518, 0.044933538883924484, 0.008268008008599281, 0.01734543964266777, -0.007489311043173075, -0.008279410190880299, -0.050902314484119415, 0.02432907000184059, 0.09694892913103104, 0.04991215839982033, 0.027137000113725662, -0.04998750984668732, 0.0053573488257825375, -0.01824577897787094, 0.04166128858923912, 0.06288723647594452, 0.023786796256899834, 0.00041005885577760637, 0.0014664789196103811, -0.02848011441528797, -0.006209455896168947, -0.0006241398514248431, 0.077595055103302, 0.03431982174515724, -0.07968191802501678, 0.0376988984644413, 0.017508042976260185, -0.019450906664133072, 0.07635840773582458, 0.01527971401810646, -0.005802416242659092, -0.012397320941090584, 0.008980989456176758, -0.04785143956542015, -0.05279415473341942, 0.06550835818052292, -0.05047808215022087, 0.018894033506512642, -0.017843635752797127, 0.0325828418135643, 0.02810630016028881, -0.04002821072936058, 0.01681539975106716, -0.0008416389464400709, 0.04594183340668678, 0.01172621175646782, -0.02565481886267662, 0.005025768186897039, -0.004148939624428749, -0.002594647230580449, 0.05835003778338432, -0.02018180675804615, 0.005570445209741592, 0.003858393058180809, -0.0007458066684193909, 0.03637749329209328, -0.042568761855363846, -0.013599987141788006, 0.008990510366857052, -0.021693525835871696, -0.028525272384285927, 0.005100852809846401, 0.03419710323214531, 0.00012544679339043796, 0.014116073958575726, -0.05432623624801636, 0.04849053546786308, -0.035374317318201065, -0.03126084432005882, -0.043052788823843, 0.0034586177207529545, -0.05543026700615883, 0.00260388245806098, 0.006608094088733196, 0.01703764870762825, -0.005983575247228146, -0.046139419078826904, 0.017376333475112915, -0.0034324564039707184, -0.047096069902181625, 0.02574077434837818, 0.00979804527014494, -0.03213144838809967, 0.0712052509188652, -0.02119324915111065, -0.00045424053678289056, -0.040019068866968155, -0.016090048477053642, -0.004103006795048714, 0.01988448016345501, -0.0074210804887115955, 0.04263080656528473, 0.022232981398701668, 0.003703220747411251, -0.0649385079741478, 0.016056310385465622, -0.011834693141281605, -0.009402073919773102, 0.03647605702280998, 0.11257197707891464, -0.017971361055970192, 0.01054468471556902, 0.012751647271215916, -0.0030531969387084246, -0.02186284027993679, 0.011959820054471493, 0.00962793454527855, 0.015648482367396355, 0.055824581533670425, -0.02842653915286064, 0.07098388671875, 0.00676814466714859]]\n"
          ]
        },
        {
          "name": "stderr",
          "output_type": "stream",
          "text": [
            "\n"
          ]
        }
      ],
      "source": [
        "text_query = (\n",
        "    \"Can i get transaction details done in offshore currency\"  # @param {type:\"string\"}\n",
        ")\n",
        "test_embeddings = get_embeddings_wrapper([text_query])\n",
        "print(test_embeddings)"
      ]
    },
    {
      "cell_type": "code",
      "execution_count": null,
      "metadata": {
        "id": "Fot69VLm20Hh"
      },
      "outputs": [],
      "source": [
        "# Convert the embeddings column of the DataFrame to a numpy array.\n",
        "embs = np.array(df.embedding.to_list())\n",
        "\n",
        "# Calculate the similarity scores between the text query and each question.\n",
        "similarities = np.dot(test_embeddings[0], embs.T)"
      ]
    },
    {
      "cell_type": "code",
      "execution_count": null,
      "metadata": {
        "id": "3nHPuR3E4Wel"
      },
      "outputs": [
        {
          "name": "stdout",
          "output_type": "stream",
          "text": [
            "[0.64324102 0.68157103 0.64257608 0.80207978 0.6710179 ]\n"
          ]
        }
      ],
      "source": [
        "print(similarities)"
      ]
    },
    {
      "cell_type": "code",
      "execution_count": null,
      "metadata": {
        "id": "4OCzGEf_3vRf"
      },
      "outputs": [
        {
          "name": "stdout",
          "output_type": "stream",
          "text": [
            "Key question: Can i get transaction details done in offshore currency\n",
            "\n",
            " \n",
            " Similarity: 0.802079777589348: Can I get details on the Foreign Currency Transactions through Oct 2023?\n",
            "SQL Query: SELECT\n",
            "  *\n",
            "FROM\n",
            "  `demo_project.cc_demo_dataset.txn-detail-tab`\n",
            "WHERE\n",
            "  Foreign_Currency = TRUE\n",
            "OR \n",
            "Transaction_Description LIKE 'FCY%'\n",
            "AND Date BETWEEN '2023-10-01' AND '2023-10-31'\n",
            "\n",
            " \n",
            " Similarity: 0.6815710317649311: Why are there some transactions in Oct 2023 for which I don't see award points?\n",
            "SQL Query: SELECT\n",
            "  *\n",
            "FROM\n",
            "  `demo_project.cc_demo_dataset.txn-detail-tab`\n",
            "WHERE\n",
            "  Points_Accrued = 0\n",
            "  AND Date BETWEEN '2023-10-01' AND '2023-10-31'\n",
            "\n",
            " \n",
            " Similarity: 0.6710179049041647: What are the negative transactions or Refunds seen in the Month of Oct 2023\n",
            "SQL Query: SELECT\n",
            "  *\n",
            "FROM\n",
            "  `demo_project.cc_demo_dataset.txn-detail-tab`\n",
            "WHERE\n",
            "  Value < 0\n",
            "  AND Date BETWEEN '2023-10-01' AND '2023-10-31'\n",
            "\n",
            " \n",
            " Similarity: 0.6432410202104142: How many points are accrued in the month of Oct 2023 for transactions on Online Shopping?\n",
            "SQL Query: SELECT\n",
            "  *\n",
            "FROM\n",
            "  `demo_project.cc_demo_dataset.txn-detail-tab`\n",
            "WHERE\n",
            "  Online_transaction = TRUE\n",
            "  AND Date BETWEEN '2023-10-01' AND '2023-10-31'\n",
            "\n",
            " \n",
            " Similarity: 0.642576078637358: What are the FCY markup charges that I see on 30th Oct 2023?\n",
            "SQL Query: SELECT\n",
            "*\n",
            "FROM\n",
            "  `demo_project.cc_demo_dataset.txn-detail-tab`\n",
            "  where Transaction_Description LIKE 'FCY%'\n",
            "  AND Date = '2023-10-30'\n"
          ]
        }
      ],
      "source": [
        "# print the question\n",
        "print(\"Key question: Can i get transaction details done in offshore currency\")\n",
        "\n",
        "# sort and print the questions by similarities\n",
        "sorted_questions = sorted(\n",
        "    zip(df.question, similarities, df.query_1), key=lambda x: x[1], reverse=True\n",
        ")[:10]\n",
        "\n",
        "for i, (question, similarity, query_1) in enumerate(sorted_questions):\n",
        "    print(f\"\\n \\n Similarity: {similarity}: {question}\")\n",
        "    print(f\"SQL Query: {query_1}\")"
      ]
    },
    {
      "cell_type": "code",
      "execution_count": null,
      "metadata": {
        "id": "28gYiM7S76c4"
      },
      "outputs": [],
      "source": [
        "def find_similar_questions(df, text_query):\n",
        "    \"\"\"\n",
        "    This function finds the most similar questions to a given text query.\n",
        "\n",
        "    Args:\n",
        "        df (pd.DataFrame): A DataFrame containing question-answer pairs.\n",
        "            The DataFrame should have the following columns:\n",
        "            - question: The question text.\n",
        "            - query_1: The query text.\n",
        "            - embedding: The embedding vector of the question.\n",
        "        text_query (str): The text query to compare against.\n",
        "\n",
        "    Returns:\n",
        "        list: A list of the 10 most similar questions and their similarity scores.\n",
        "    \"\"\"\n",
        "\n",
        "    # Get the embedding vector of the text query.\n",
        "    test_embeddings = get_embeddings_wrapper([text_query])\n",
        "\n",
        "    # Convert the embeddings column of the DataFrame to a numpy array.\n",
        "    embs = np.array(df.embedding.to_list())\n",
        "\n",
        "    # Calculate the similarity scores between the text query and each question.\n",
        "    similarities = np.dot(test_embeddings[0], embs.T)\n",
        "\n",
        "    # Sort the questions by similarity score and return the top 10.\n",
        "    sorted_questions = sorted(\n",
        "        zip(df.question, similarities, df.query_1), key=lambda x: x[1], reverse=True\n",
        "    )[:10]\n",
        "\n",
        "    # Print the top 10 questions and their similarity scores.\n",
        "    for i, (question, similarity, query_1) in enumerate(sorted_questions):\n",
        "        print(f\"\\n \\n Similarity: {similarity}: {question}\")\n",
        "        print(f\"SQL Query: {query_1}\")"
      ]
    },
    {
      "cell_type": "code",
      "execution_count": null,
      "metadata": {
        "id": "B4jJ6FHM8S1D"
      },
      "outputs": [
        {
          "name": "stderr",
          "output_type": "stream",
          "text": [
            "100%|██████████| 1/1 [00:01<00:00,  1.16s/it]"
          ]
        },
        {
          "name": "stdout",
          "output_type": "stream",
          "text": [
            "\n",
            " \n",
            " Similarity: 0.802079777589348: Can I get details on the Foreign Currency Transactions through Oct 2023?\n",
            "SQL Query: SELECT\n",
            "  *\n",
            "FROM\n",
            "  `demo_project.cc_demo_dataset.txn-detail-tab`\n",
            "WHERE\n",
            "  Foreign_Currency = TRUE\n",
            "OR \n",
            "Transaction_Description LIKE 'FCY%'\n",
            "AND Date BETWEEN '2023-10-01' AND '2023-10-31'\n",
            "\n",
            " \n",
            " Similarity: 0.6815710317649311: Why are there some transactions in Oct 2023 for which I don't see award points?\n",
            "SQL Query: SELECT\n",
            "  *\n",
            "FROM\n",
            "  `demo_project.cc_demo_dataset.txn-detail-tab`\n",
            "WHERE\n",
            "  Points_Accrued = 0\n",
            "  AND Date BETWEEN '2023-10-01' AND '2023-10-31'\n",
            "\n",
            " \n",
            " Similarity: 0.6710179049041647: What are the negative transactions or Refunds seen in the Month of Oct 2023\n",
            "SQL Query: SELECT\n",
            "  *\n",
            "FROM\n",
            "  `demo_project.cc_demo_dataset.txn-detail-tab`\n",
            "WHERE\n",
            "  Value < 0\n",
            "  AND Date BETWEEN '2023-10-01' AND '2023-10-31'\n",
            "\n",
            " \n",
            " Similarity: 0.6432410202104142: How many points are accrued in the month of Oct 2023 for transactions on Online Shopping?\n",
            "SQL Query: SELECT\n",
            "  *\n",
            "FROM\n",
            "  `demo_project.cc_demo_dataset.txn-detail-tab`\n",
            "WHERE\n",
            "  Online_transaction = TRUE\n",
            "  AND Date BETWEEN '2023-10-01' AND '2023-10-31'\n",
            "\n",
            " \n",
            " Similarity: 0.642576078637358: What are the FCY markup charges that I see on 30th Oct 2023?\n",
            "SQL Query: SELECT\n",
            "*\n",
            "FROM\n",
            "  `demo_project.cc_demo_dataset.txn-detail-tab`\n",
            "  where Transaction_Description LIKE 'FCY%'\n",
            "  AND Date = '2023-10-30'\n"
          ]
        },
        {
          "name": "stderr",
          "output_type": "stream",
          "text": [
            "\n"
          ]
        }
      ],
      "source": [
        "text_query = (\n",
        "    \"Can i get transaction details done in offshore currency\"  # @param {type:\"string\"}\n",
        ")\n",
        "find_similar_questions(df, text_query)"
      ]
    },
    {
      "cell_type": "markdown",
      "metadata": {
        "id": "ie4suIRSnuZ6"
      },
      "source": [
        "### Multi-lingual Test Run"
      ]
    },
    {
      "cell_type": "code",
      "execution_count": null,
      "metadata": {
        "id": "iWyfeyCf8qOd"
      },
      "outputs": [
        {
          "name": "stderr",
          "output_type": "stream",
          "text": [
            "100%|██████████| 1/1 [00:01<00:00,  1.12s/it]"
          ]
        },
        {
          "name": "stdout",
          "output_type": "stream",
          "text": [
            "\n",
            " \n",
            " Similarity: 0.8880265471834474: Can I get details on the Foreign Currency Transactions through Oct 2023?\n",
            "SQL Query: SELECT\n",
            "  *\n",
            "FROM\n",
            "  `demo_project.cc_demo_dataset.txn-detail-tab`\n",
            "WHERE\n",
            "  Foreign_Currency = TRUE\n",
            "OR \n",
            "Transaction_Description LIKE 'FCY%'\n",
            "AND Date BETWEEN '2023-10-01' AND '2023-10-31'\n",
            "\n",
            " \n",
            " Similarity: 0.729782333753209: What are the negative transactions or Refunds seen in the Month of Oct 2023\n",
            "SQL Query: SELECT\n",
            "  *\n",
            "FROM\n",
            "  `demo_project.cc_demo_dataset.txn-detail-tab`\n",
            "WHERE\n",
            "  Value < 0\n",
            "  AND Date BETWEEN '2023-10-01' AND '2023-10-31'\n",
            "\n",
            " \n",
            " Similarity: 0.70537150805266: Why are there some transactions in Oct 2023 for which I don't see award points?\n",
            "SQL Query: SELECT\n",
            "  *\n",
            "FROM\n",
            "  `demo_project.cc_demo_dataset.txn-detail-tab`\n",
            "WHERE\n",
            "  Points_Accrued = 0\n",
            "  AND Date BETWEEN '2023-10-01' AND '2023-10-31'\n",
            "\n",
            " \n",
            " Similarity: 0.6887099762263772: How many points are accrued in the month of Oct 2023 for transactions on Online Shopping?\n",
            "SQL Query: SELECT\n",
            "  *\n",
            "FROM\n",
            "  `demo_project.cc_demo_dataset.txn-detail-tab`\n",
            "WHERE\n",
            "  Online_transaction = TRUE\n",
            "  AND Date BETWEEN '2023-10-01' AND '2023-10-31'\n",
            "\n",
            " \n",
            " Similarity: 0.666042118675943: What are the FCY markup charges that I see on 30th Oct 2023?\n",
            "SQL Query: SELECT\n",
            "*\n",
            "FROM\n",
            "  `demo_project.cc_demo_dataset.txn-detail-tab`\n",
            "  where Transaction_Description LIKE 'FCY%'\n",
            "  AND Date = '2023-10-30'\n"
          ]
        },
        {
          "name": "stderr",
          "output_type": "stream",
          "text": [
            "\n"
          ]
        }
      ],
      "source": [
        "text_query = (\n",
        "    \"展示Foreign Currency Transactions 2023年10月的信息\"  # @param {type:\"string\"}\n",
        ")\n",
        "find_similar_questions(df, text_query)"
      ]
    },
    {
      "cell_type": "markdown",
      "metadata": {
        "id": "_L0-rsUWnz30"
      },
      "source": [
        "### GCloud login to setup Vector Store on Google Cloud"
      ]
    },
    {
      "cell_type": "code",
      "execution_count": null,
      "metadata": {
        "id": "Gf5f6_PnPqD0"
      },
      "outputs": [],
      "source": [
        "!gcloud auth login"
      ]
    },
    {
      "cell_type": "code",
      "execution_count": null,
      "metadata": {
        "id": "48J0qv2XQDRX"
      },
      "outputs": [],
      "source": [
        "!gcloud config set project \"{PROJECT_ID}\""
      ]
    },
    {
      "cell_type": "code",
      "execution_count": null,
      "metadata": {
        "id": "OUoTxFhHM_sL"
      },
      "outputs": [],
      "source": [
        "UID = datetime.now().strftime(\"%m%d%H%M\")\n",
        "BUCKET_URI = f\"gs://{PROJECT_ID}-embvs-tutorial-{UID}\"\n",
        "! gsutil mb -l $LOCATION -p {PROJECT_ID} {BUCKET_URI}\n",
        "! gsutil cp questions.json {BUCKET_URI}"
      ]
    },
    {
      "cell_type": "code",
      "execution_count": null,
      "metadata": {
        "id": "eesHfpfNQiC7"
      },
      "outputs": [],
      "source": [
        "# init the aiplatform package\n",
        "from google.cloud import aiplatform\n",
        "\n",
        "aiplatform.init(project=PROJECT_ID, location=LOCATION)"
      ]
    },
    {
      "cell_type": "code",
      "execution_count": null,
      "metadata": {
        "id": "PuwrEocPQmYp"
      },
      "outputs": [],
      "source": [
        "# create index\n",
        "my_index = aiplatform.MatchingEngineIndex.create_tree_ah_index(\n",
        "    display_name=f\"embvs-tutorial-index-{UID}\",\n",
        "    contents_delta_uri=BUCKET_URI,\n",
        "    dimensions=768,\n",
        "    approximate_neighbors_count=20,\n",
        "    distance_measure_type=\"DOT_PRODUCT_DISTANCE\",\n",
        ")"
      ]
    },
    {
      "cell_type": "code",
      "execution_count": null,
      "metadata": {
        "id": "kMP3UUSeRD5l"
      },
      "outputs": [],
      "source": [
        "# create IndexEndpoint\n",
        "my_index_endpoint = aiplatform.MatchingEngineIndexEndpoint.create(\n",
        "    display_name=f\"embvs-tutorial-index-endpoint-{UID}\",\n",
        "    public_endpoint_enabled=True,\n",
        ")"
      ]
    },
    {
      "cell_type": "code",
      "execution_count": null,
      "metadata": {
        "id": "MXRzaQpFRF6Q"
      },
      "outputs": [],
      "source": [
        "# deploy the Index to the Index Endpoint\n",
        "DEPLOYED_INDEX_ID = f\"embvs_tutorial_deployed_{UID}\"\n",
        "my_index_endpoint.deploy_index(index=my_index, deployed_index_id=DEPLOYED_INDEX_ID)"
      ]
    },
    {
      "cell_type": "markdown",
      "metadata": {
        "id": "Ufrn4cNCn-f4"
      },
      "source": [
        "### Local Test Run using Vector Store"
      ]
    },
    {
      "cell_type": "code",
      "execution_count": null,
      "metadata": {
        "id": "-2Ky0FWFRhCQ"
      },
      "outputs": [
        {
          "name": "stderr",
          "output_type": "stream",
          "text": [
            "100%|██████████| 1/1 [00:01<00:00,  1.29s/it]\n"
          ]
        }
      ],
      "source": [
        "text_query = (\n",
        "    \"Can i get transaction details done in offshore currency\"  # @param {type:\"string\"}\n",
        ")\n",
        "test_embeddings = get_embeddings_wrapper([text_query])"
      ]
    },
    {
      "cell_type": "code",
      "execution_count": null,
      "metadata": {
        "id": "cNcSzza7RPLt"
      },
      "outputs": [],
      "source": [
        "# Test query\n",
        "response = my_index_endpoint.find_neighbors(\n",
        "    deployed_index_id=DEPLOYED_INDEX_ID,\n",
        "    queries=test_embeddings,\n",
        "    num_neighbors=5,\n",
        ")\n",
        "\n",
        "# show the result\n",
        "for idx, neighbor in enumerate(response[0]):\n",
        "    id = np.int64(neighbor.id)\n",
        "    similar = df.query(\"id == @id\", engine=\"python\")\n",
        "    print(id, neighbor.distance)\n",
        "    print(str(similar.question.values[0]))\n",
        "    print(str(similar.query_1.values[0]))"
      ]
    },
    {
      "cell_type": "markdown",
      "metadata": {
        "id": "uWBpLFQsoG6n"
      },
      "source": [
        "### Fetch the Vector Store Endpoint using ID"
      ]
    },
    {
      "cell_type": "code",
      "execution_count": null,
      "metadata": {
        "id": "Fn_NPCEoRi8O"
      },
      "outputs": [],
      "source": [
        "my_deployed_index_id = \"DEPLOYED_INDEX_ID\"  # @param {type:\"string\"}\n",
        "my_current_index_endpoint_id = \"INDEX_ENDPOINT_ID\"  # @param {type:\"string\"}\n",
        "my_current_index_endpoint_id = aiplatform.MatchingEngineIndexEndpoint(\n",
        "    my_current_index_endpoint_id\n",
        ")"
      ]
    },
    {
      "cell_type": "markdown",
      "metadata": {
        "id": "Hy9VMxX-oUbq"
      },
      "source": [
        "### Similarity Search using Endpoint in Few Shot example template"
      ]
    },
    {
      "cell_type": "code",
      "execution_count": null,
      "metadata": {
        "id": "ncnIpJpBSDv8"
      },
      "outputs": [],
      "source": [
        "def get_similar_entries(text_query):\n",
        "    \"\"\"\n",
        "    Finds the most similar entries in a deployed index for a given text query.\n",
        "\n",
        "    Args:\n",
        "        text_query (str): The text query to search for similar entries.\n",
        "\n",
        "    Returns:\n",
        "        str: A formatted string containing information about the most similar entry.\n",
        "    \"\"\"\n",
        "\n",
        "    # Get the embedding for the text query.\n",
        "    test_embeddings = get_embeddings_wrapper([text_query])\n",
        "\n",
        "    # Find similar entries in the deployed index.\n",
        "    response = my_current_index_endpoint_id.find_neighbors(\n",
        "        deployed_index_id=my_deployed_index_id,\n",
        "        queries=test_embeddings,\n",
        "        num_neighbors=1,\n",
        "    )\n",
        "\n",
        "    # Initialize a string to store the result.\n",
        "    similar_examples = \"\"\n",
        "\n",
        "    # Iterate through the nearest neighbors and extract relevant information.\n",
        "    for idx, neighbor in enumerate(response[0]):\n",
        "        id = np.int64(neighbor.id)\n",
        "        print(id, neighbor.distance)\n",
        "        similar = df.query(\"id == @id\", engine=\"python\")\n",
        "        similar_examples += f\"INPUT:{similar.question.values[0]}\\n RESPONSE:{similar.query_1.values[0]}\\n\"\n",
        "\n",
        "    return similar_examples"
      ]
    },
    {
      "cell_type": "code",
      "execution_count": null,
      "metadata": {
        "id": "8HnH-WA9T0Uz"
      },
      "outputs": [
        {
          "name": "stderr",
          "output_type": "stream",
          "text": [
            "100%|██████████| 1/1 [00:01<00:00,  1.18s/it]"
          ]
        },
        {
          "name": "stdout",
          "output_type": "stream",
          "text": [
            "0.8020797967910767\n",
            "INPUT:Can I get details on the Foreign Currency Transactions through Oct 2023?\n",
            " RESPONSE:SELECT\n",
            "  *\n",
            "FROM\n",
            "  `demo_project.cc_demo_dataset.txn-detail-tab`\n",
            "WHERE\n",
            "  Foreign_Currency = TRUE\n",
            "OR \n",
            "Transaction_Description LIKE 'FCY%'\n",
            "AND Date BETWEEN '2023-10-01' AND '2023-10-31'\n",
            "\n"
          ]
        },
        {
          "name": "stderr",
          "output_type": "stream",
          "text": [
            "\n"
          ]
        }
      ],
      "source": [
        "similar_query = get_similar_entries(text_query)\n",
        "print(similar_query)"
      ]
    },
    {
      "cell_type": "markdown",
      "metadata": {
        "id": "BJt7_GsOoZGt"
      },
      "source": [
        "### Codey to Generate the SQL command using Few shot examples"
      ]
    },
    {
      "cell_type": "code",
      "execution_count": null,
      "metadata": {
        "id": "iZngIC3sj2h2"
      },
      "outputs": [],
      "source": [
        "code_parameters = {\"candidate_count\": 1, \"max_output_tokens\": 1024, \"temperature\": 0.0}"
      ]
    },
    {
      "cell_type": "code",
      "execution_count": null,
      "metadata": {
        "id": "xCsflOR1jkUp"
      },
      "outputs": [
        {
          "name": "stdout",
          "output_type": "stream",
          "text": [
            "Response from Model: \n",
            " ```sql\n",
            "SELECT\n",
            "  *\n",
            "FROM\n",
            "  transactions\n",
            "WHERE\n",
            "  Foreign_Currency = TRUE\n",
            "OR \n",
            "Transaction_Description LIKE 'FCY%'\n",
            "```\n"
          ]
        }
      ],
      "source": [
        "table = \"\"\"CREATE TABLE transactions (\n",
        "  Cust_ID VARCHAR(255),\n",
        "  Date DATE,\n",
        "  Time TIME,\n",
        "  Transaction_Description VARCHAR(255),\n",
        "  Value FLOAT,\n",
        "  Fuel VARCHAR(255),\n",
        "  Foreign_Currency VARCHAR(255),\n",
        "  Smartbuy VARCHAR(255),\n",
        "  Points_Accrued FLOAT\n",
        ")\n",
        "\"\"\"\n",
        "\n",
        "response = code_model.predict(\n",
        "    prefix=f\"\"\"Write a SQL Query based on given schema details for the given question and context.\n",
        "    Response should be as per output template.\n",
        "CONTEXT:\n",
        "{table}\n",
        "EXAMPLES: {similar_query}\n",
        "INPUT:{text_query}\n",
        "OUTPUT:```sql```\"\"\",\n",
        "    **code_parameters,\n",
        ")\n",
        "print(f\"Response from Model: \\n {response.text}\")"
      ]
    },
    {
      "cell_type": "markdown",
      "metadata": {
        "id": "omwkm1UrYqAK"
      },
      "source": [
        "### Gemini 1.5 Pro to Generate the SQL command using Few shot examples"
      ]
    },
    {
      "cell_type": "code",
      "execution_count": null,
      "metadata": {
        "id": "Fnun00WXXcDM"
      },
      "outputs": [
        {
          "name": "stdout",
          "output_type": "stream",
          "text": [
            "```sql\n",
            "SELECT\n",
            "  *\n",
            "FROM\n",
            "  `demo_project.cc_demo_dataset.txn-detail-tab`\n",
            "WHERE\n",
            "  Foreign_Currency = TRUE\n",
            "OR \n",
            "Transaction_Description LIKE 'FCY%'\n",
            "```\n"
          ]
        }
      ],
      "source": [
        "responses = gemini_model.generate_content(\n",
        "    f\"\"\"Write a SQL Query based on given schema details for the given question and context.\n",
        "Response should be as per output template.\n",
        "    CONTEXT:\n",
        "    {table}\n",
        "    EXAMPLES: {similar_query}\n",
        "    INPUT:{text_query}\n",
        "    OUTPUT:```sql```\"\"\",\n",
        "    generation_config={\"max_output_tokens\": 2048, \"temperature\": 0.0, \"top_p\": 1},\n",
        "    stream=False,\n",
        ")\n",
        "print(responses.text)"
      ]
    },
    {
      "cell_type": "markdown",
      "metadata": {
        "id": "wNh5fCjjLi5o"
      },
      "source": [
        "### Codey to Generate the SQL command by leveraging OOTB multilingual support in the model"
      ]
    },
    {
      "cell_type": "code",
      "execution_count": null,
      "metadata": {
        "id": "tDoTnpp72mFR"
      },
      "outputs": [],
      "source": [
        "text_query_test = \"\\u0986\\u09AE\\u09BF \\u0995\\u09BF \\u0985\\u09AB\\u09B6\\u09CB\\u09B0 \\u0995\\u09BE\\u09B0\\u09C7\\u09A8\\u09CD\\u09B8\\u09BF\\u09A4\\u09C7 \\u09B2\\u09C7\\u09A8\\u09A6\\u09C7\\u09A8\\u09C7\\u09B0 \\u09AC\\u09BF\\u09AC\\u09B0\\u09A3 \\u09AA\\u09C7\\u09A4\\u09C7 \\u09AA\\u09BE\\u09B0\\u09BF?\"  # @param {type:\"string\"}"
      ]
    },
    {
      "cell_type": "code",
      "execution_count": null,
      "metadata": {
        "id": "44S8ZP1-p3hy"
      },
      "outputs": [
        {
          "name": "stderr",
          "output_type": "stream",
          "text": [
            "100%|██████████| 1/1 [00:01<00:00,  1.15s/it]"
          ]
        },
        {
          "name": "stdout",
          "output_type": "stream",
          "text": [
            "0.6838837265968323\n",
            "INPUT:Can I get details on the Foreign Currency Transactions through Oct 2023?\n",
            " RESPONSE:SELECT\n",
            "  *\n",
            "FROM\n",
            "  `demo_project.cc_demo_dataset.txn-detail-tab`\n",
            "WHERE\n",
            "  Foreign_Currency = TRUE\n",
            "OR \n",
            "Transaction_Description LIKE 'FCY%'\n",
            "AND Date BETWEEN '2023-10-01' AND '2023-10-31'\n",
            "\n"
          ]
        },
        {
          "name": "stderr",
          "output_type": "stream",
          "text": [
            "\n"
          ]
        }
      ],
      "source": [
        "similar_query_response = get_similar_entries(text_query_test)\n",
        "print(similar_query_response)"
      ]
    },
    {
      "cell_type": "code",
      "execution_count": null,
      "metadata": {
        "id": "PMSSE6YzjkKr"
      },
      "outputs": [
        {
          "name": "stdout",
          "output_type": "stream",
          "text": [
            "Response from Model: \n",
            " ```sql\n",
            "SELECT\n",
            "  *\n",
            "FROM\n",
            "  transactions\n",
            "WHERE\n",
            "  Foreign_Currency = TRUE\n",
            "OR \n",
            "Transaction_Description LIKE 'FCY%'\n",
            "```\n"
          ]
        }
      ],
      "source": [
        "table = \"\"\"CREATE TABLE transactions (\n",
        "  Cust_ID VARCHAR(255),\n",
        "  Date DATE,\n",
        "  Time TIME,\n",
        "  Transaction_Description VARCHAR(255),\n",
        "  Value FLOAT,\n",
        "  Fuel VARCHAR(255),\n",
        "  Foreign_Currency VARCHAR(255),\n",
        "  Smartbuy VARCHAR(255),\n",
        "  Points_Accrued FLOAT\n",
        ")\n",
        "\"\"\"\n",
        "# Output response is requested in english to avoid and localized content generation in SQL\n",
        "# Since current DB used just have entries in English locale\n",
        "response = code_model.predict(\n",
        "    prefix=f\"\"\"Write a SQL Query based on given schema details for the given question and context in English only.\n",
        "    Response should be as per output template.\n",
        "CONTEXT:\n",
        "{table}\n",
        "EXAMPLES: {similar_query}\n",
        "INPUT:{text_query_test}\n",
        "OUTPUT:```sql```\"\"\",\n",
        "    **code_parameters,\n",
        ")\n",
        "print(f\"Response from Model: \\n {response.text}\")"
      ]
    },
    {
      "cell_type": "markdown",
      "metadata": {
        "id": "kUOD4g_LYjvb"
      },
      "source": [
        "### Gemini 1.5 Pro to Generate the SQL command by leveraging OOTB multilingual support in the model"
      ]
    },
    {
      "cell_type": "code",
      "execution_count": null,
      "metadata": {
        "id": "ew0301-fYUBW"
      },
      "outputs": [
        {
          "name": "stdout",
          "output_type": "stream",
          "text": [
            "```sql\n",
            "SELECT\n",
            "  *\n",
            "FROM\n",
            "  `demo_project.cc_demo_dataset.txn-detail-tab`\n",
            "WHERE\n",
            "  Foreign_Currency = TRUE\n",
            "OR \n",
            "Transaction_Description LIKE 'FCY%'\n",
            "```\n"
          ]
        }
      ],
      "source": [
        "responses = gemini_model.generate_content(\n",
        "    f\"\"\"Write a SQL Query based on given schema details for the given question and context in English only. Response should be as per output template.\n",
        "    CONTEXT:\n",
        "    {table}\n",
        "    EXAMPLES: {similar_query}\n",
        "    INPUT:{text_query_test}\n",
        "    OUTPUT:```sql```\"\"\",\n",
        "    generation_config={\"max_output_tokens\": 2048, \"temperature\": 0.0, \"top_p\": 1},\n",
        "    stream=False,\n",
        ")\n",
        "print(responses.text)"
      ]
    },
    {
      "cell_type": "markdown",
      "metadata": {
        "id": "HVipE1jo6ZES"
      },
      "source": [
        "### NLP to SQL using Codey without any Few shot examples"
      ]
    },
    {
      "cell_type": "code",
      "execution_count": null,
      "metadata": {
        "id": "pUarHIiy5vUA"
      },
      "outputs": [
        {
          "name": "stdout",
          "output_type": "stream",
          "text": [
            "Response from Model: \n",
            " ```sql\n",
            "SELECT *\n",
            "FROM transactions\n",
            "WHERE Foreign_Currency IS NOT NULL;\n",
            "```\n"
          ]
        }
      ],
      "source": [
        "# Output response is requested in english to avoid and localized content generation in SQL\n",
        "# Since current DB used just have entries in English locale\n",
        "response = code_model.predict(\n",
        "    prefix=f\"\"\"Write a SQL Query based on given schema details for the given question and context in English.\n",
        "    Response should be as per output template.\n",
        "CONTEXT:\n",
        "{table}\n",
        "INPUT:{text_query_test}\n",
        "OUTPUT:```sql```\"\"\",\n",
        "    **code_parameters,\n",
        ")\n",
        "print(f\"Response from Model: \\n {response.text}\")"
      ]
    },
    {
      "cell_type": "markdown",
      "metadata": {
        "id": "ecEvsFc-ZB4u"
      },
      "source": [
        "### NLP to SQL using Gemini 1.5 Pro without any Few shot examples"
      ]
    },
    {
      "cell_type": "code",
      "execution_count": null,
      "metadata": {
        "id": "bwefMLuCY1Xk"
      },
      "outputs": [
        {
          "name": "stdout",
          "output_type": "stream",
          "text": [
            "```sql\n",
            "SELECT Transaction_Description, Foreign_Currency\n",
            "FROM transactions\n",
            "WHERE Foreign_Currency IS NOT NULL;\n",
            "```\n"
          ]
        }
      ],
      "source": [
        "responses = gemini_model.generate_content(\n",
        "    f\"\"\"Write a SQL Query based on given schema details for the given question and context.\n",
        "Response should be as per output template.\n",
        "    CONTEXT:\n",
        "    {table}\n",
        "    INPUT:{text_query_test}\n",
        "    OUTPUT:```sql```\"\"\",\n",
        "    generation_config={\"max_output_tokens\": 2048, \"temperature\": 0.0, \"top_p\": 1},\n",
        "    stream=False,\n",
        ")\n",
        "print(responses.text)"
      ]
    },
    {
      "cell_type": "markdown",
      "metadata": {
        "id": "F8eL0uGzohrA"
      },
      "source": [
        "### Delete the Setup (Uncomment before executing)"
      ]
    },
    {
      "cell_type": "code",
      "execution_count": null,
      "metadata": {
        "id": "qeBGI5vvSVaB"
      },
      "outputs": [],
      "source": [
        "# wait for a confirmation\n",
        "# input(\"Press Enter to delete Index Endpoint, Index and Cloud Storage bucket:\")\n",
        "\n",
        "# delete Index Endpoint\n",
        "# my_index_endpoint.undeploy_all()\n",
        "# my_index_endpoint.delete(force = True)\n",
        "\n",
        "# delete Index\n",
        "# my_index.delete()\n",
        "\n",
        "# delete Cloud Storage bucket\n",
        "# ! gsutil rm -r {BUCKET_URI}"
      ]
    }
  ],
  "metadata": {
    "colab": {
      "name": "NLP2SQL_using_dynamic_RAG.ipynb",
      "toc_visible": true
    },
    "kernelspec": {
      "display_name": "Python 3",
      "name": "python3"
    }
  },
  "nbformat": 4,
  "nbformat_minor": 0
}
