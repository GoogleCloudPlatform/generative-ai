{
  "cells": [
    {
      "cell_type": "code",
      "execution_count": null,
      "metadata": {
        "id": "ur8xi4C7S06n"
      },
      "outputs": [],
      "source": [
        "# Copyright 2024 Google LLC\n",
        "#\n",
        "# Licensed under the Apache License, Version 2.0 (the \"License\");\n",
        "# you may not use this file except in compliance with the License.\n",
        "# You may obtain a copy of the License at\n",
        "#\n",
        "#     https://www.apache.org/licenses/LICENSE-2.0\n",
        "#\n",
        "# Unless required by applicable law or agreed to in writing, software\n",
        "# distributed under the License is distributed on an \"AS IS\" BASIS,\n",
        "# WITHOUT WARRANTIES OR CONDITIONS OF ANY KIND, either express or implied.\n",
        "# See the License for the specific language governing permissions and\n",
        "# limitations under the License."
      ]
    },
    {
      "cell_type": "markdown",
      "metadata": {
        "id": "JAPoU8Sm5E6e"
      },
      "source": [
        "# Building and Deploying a Human-in-the-Loop LangGraph Application with Reasoning Engine on Vertex AI\n",
        "\n",
        "<table align=\"left\">\n",
        "  <td style=\"text-align: center\">\n",
        "    <a href=\"https://colab.research.google.com/github/GoogleCloudPlatform/generative-ai/blob/main/gemini/reasoning-engine/tutorial_langgraph_human_in_the_loop.ipynb\">\n",
        "      <img src=\"https://cloud.google.com/ml-engine/images/colab-logo-32px.png\" alt=\"Google Colaboratory logo\"><br> Open in Colab\n",
        "    </a>\n",
        "  </td>\n",
        "  <td style=\"text-align: center\">\n",
        "    <a href=\"https://console.cloud.google.com/vertex-ai/colab/import/https:%2F%2Fraw.githubusercontent.com%2FGoogleCloudPlatform%2Fgenerative-ai%2Fmain%2Fgemini%2Freasoning-engine%2Ftutorial_langgraph_human_in_the_loop.ipynb\">\n",
        "      <img width=\"32px\" src=\"https://cloud.google.com/ml-engine/images/colab-enterprise-logo-32px.png\" alt=\"Google Cloud Colab Enterprise logo\"><br> Open in Colab Enterprise\n",
        "    </a>\n",
        "  </td>    \n",
        "  <td style=\"text-align: center\">\n",
        "    <a href=\"https://console.cloud.google.com/vertex-ai/workbench/deploy-notebook?download_url=https://raw.githubusercontent.com/GoogleCloudPlatform/generative-ai/main/gemini/reasoning-engine/tutorial_langgraph_human_in_the_loop.ipynb\">\n",
        "      <img src=\"https://lh3.googleusercontent.com/UiNooY4LUgW_oTvpsNhPpQzsstV5W8F7rYgxgGBD85cWJoLmrOzhVs_ksK_vgx40SHs7jCqkTkCk=e14-rj-sc0xffffff-h130-w32\" alt=\"Vertex AI logo\"><br> Open in Workbench\n",
        "    </a>\n",
        "  </td>\n",
        "  <td style=\"text-align: center\">\n",
        "    <a href=\"https://github.com/GoogleCloudPlatform/generative-ai/blob/main/gemini/reasoning-engine/tutorial_langgraph_human_in_the_loop.ipynb\">\n",
        "      <img src=\"https://cloud.google.com/ml-engine/images/github-logo-32px.png\" alt=\"GitHub logo\"><br> View on GitHub\n",
        "    </a>\n",
        "  </td>\n",
        "</table>\n",
        "\n",
        "<div style=\"clear: both;\"></div>\n",
        "\n",
        "<b>Share to:</b>\n",
        "\n",
        "<a href=\"https://www.linkedin.com/sharing/share-offsite/?url=https%3A//github.com/GoogleCloudPlatform/generative-ai/blob/main/gemini/reasoning-engine/tutorial_langgraph_human_in_the_loop.ipynb\" target=\"_blank\">\n",
        "  <img width=\"20px\" src=\"https://upload.wikimedia.org/wikipedia/commons/8/81/LinkedIn_icon.svg\" alt=\"LinkedIn logo\">\n",
        "</a>\n",
        "\n",
        "<a href=\"https://bsky.app/intent/compose?text=https%3A//github.com/GoogleCloudPlatform/generative-ai/blob/main/gemini/reasoning-engine/tutorial_langgraph_human_in_the_loop.ipynb\" target=\"_blank\">\n",
        "  <img width=\"20px\" src=\"https://upload.wikimedia.org/wikipedia/commons/7/7a/Bluesky_Logo.svg\" alt=\"Bluesky logo\">\n",
        "</a>\n",
        "\n",
        "<a href=\"https://twitter.com/intent/tweet?url=https%3A//github.com/GoogleCloudPlatform/generative-ai/blob/main/gemini/reasoning-engine/tutorial_langgraph_human_in_the_loop.ipynb\" target=\"_blank\">\n",
        "  <img width=\"20px\" src=\"https://upload.wikimedia.org/wikipedia/commons/5/53/X_logo_2023_original.svg\" alt=\"X logo\">\n",
        "</a>\n",
        "\n",
        "<a href=\"https://reddit.com/submit?url=https%3A//github.com/GoogleCloudPlatform/generative-ai/blob/main/gemini/reasoning-engine/tutorial_langgraph_human_in_the_loop.ipynb\" target=\"_blank\">\n",
        "  <img width=\"20px\" src=\"https://redditinc.com/hubfs/Reddit%20Inc/Brand/Reddit_Logo.png\" alt=\"Reddit logo\">\n",
        "</a>\n",
        "\n",
        "<a href=\"https://www.facebook.com/sharer/sharer.php?u=https%3A//github.com/GoogleCloudPlatform/generative-ai/blob/main/gemini/reasoning-engine/tutorial_langgraph_human_in_the_loop.ipynb\" target=\"_blank\">\n",
        "  <img width=\"20px\" src=\"https://upload.wikimedia.org/wikipedia/commons/5/51/Facebook_f_logo_%282019%29.svg\" alt=\"Facebook logo\">\n",
        "</a>            "
      ]
    },
    {
      "cell_type": "markdown",
      "metadata": {
        "id": "84f0f73a0f76"
      },
      "source": [
        "| | |\n",
        "|-|-|\n",
        "| Author(s) | [Xiaolong Yang](https://github.com/shawn-yang-google) |"
      ]
    },
    {
      "cell_type": "markdown",
      "metadata": {
        "id": "tvgnzT1CKxrO"
      },
      "source": [
        "## Overview\n",
        "\n",
        "[Reasoning Engine](https://cloud.google.com/vertex-ai/generative-ai/docs/reasoning-engine/overview) (LangChain on Vertex AI) is a managed service designed to help you build and deploy agent reasoning frameworks.  [LangGraph](https://langchain-ai.github.io/langgraph/) is a library for constructing stateful, multi-actor applications with LLMs, enabling the creation of sophisticated agent and multi-agent workflows.\n",
        "\n",
        "This notebook demonstrates how to build, deploy, and test a Human-in-the-Loop LangGraph application using [Reasoning Engine](https://cloud.google.com/vertex-ai/generative-ai/docs/reasoning-engine/overview) on Vertex AI. You'll learn how to combine LangGraph's powerful workflow orchestration with the scalability of Vertex AI to build Human-in-the-Loop generative AI applications.\n",
        "\n",
        "The previous [notebook](https://github.com/GoogleCloudPlatform/generative-ai/blob/main/gemini/reasoning-engine/tutorial_langgraph_human_in_the_loop.ipynb) covered: Defining Tools, Defining a Router, Building a LangGraph Application, Local Testing, Deploying to Vertex AI, Remote Testing, and Cleaning Up Resources.\n",
        "\n",
        "This notebook expands on those concepts and explores the following `Human-in-the-Loop` features:\n",
        "\n",
        "- **Reviewing Tool Calls:** Implement human oversight after tool use, allowing for verification and correction of actions before proceeding.\n",
        "- **Fetching State History:** Retrieve the complete execution history of the LangGraph application for auditing, analysis, and potential state reversion.\n",
        "- **Time Travel:** Examine the state of the agent at a specific point in time to understand past decisions.\n",
        "- **Replay:** Restart execution from a specific checkpoint without modifications to ensure consistent results.\n",
        "- **Branching:** Create alternative execution paths based on a past state, enabling the agent to explore different possibilities or correct previous errors.\n",
        "\n",
        "By the end of this notebook, you'll possess the skills to build and deploy customized Human-in-the-Loop generative AI applications using LangGraph, Reasoning Engine, and Vertex AI."
      ]
    },
    {
      "cell_type": "markdown",
      "metadata": {
        "id": "61RBz8LLbxCR"
      },
      "source": [
        "## Get started"
      ]
    },
    {
      "cell_type": "markdown",
      "metadata": {
        "id": "No17Cw5hgx12"
      },
      "source": [
        "### Install the Vertex AI SDK and Required Packages"
      ]
    },
    {
      "cell_type": "code",
      "execution_count": 1,
      "metadata": {
        "id": "tFy3H3aPgx12"
      },
      "outputs": [
        {
          "name": "stdout",
          "output_type": "stream",
          "text": [
            "  Installing build dependencies ... done\n",
            "  Getting requirements to build wheel ... done\n",
            "  Preparing metadata (pyproject.toml) ... done\n",
            "\u001b[2K     \u001b[90m━━━━━━━━━━━━━━━━━━━━━━━━━━━━━━━━━━━━━━━━\u001b[0m \u001b[32m61.0/61.0 kB\u001b[0m \u001b[31m3.5 MB/s\u001b[0m eta \u001b[36m0:00:00\u001b[0m\n",
            "\u001b[2K     \u001b[90m━━━━━━━━━━━━━━━━━━━━━━━━━━━━━━━━━━━━━━━━\u001b[0m \u001b[32m69.2/69.2 kB\u001b[0m \u001b[31m4.7 MB/s\u001b[0m eta \u001b[36m0:00:00\u001b[0m\n",
            "\u001b[2K     \u001b[90m━━━━━━━━━━━━━━━━━━━━━━━━━━━━━━━━━━━━━━━━\u001b[0m \u001b[32m41.8/41.8 kB\u001b[0m \u001b[31m2.6 MB/s\u001b[0m eta \u001b[36m0:00:00\u001b[0m\n",
            "\u001b[2K   \u001b[90m━━━━━━━━━━━━━━━━━━━━━━━━━━━━━━━━━━━━━━━━\u001b[0m \u001b[32m160.1/160.1 kB\u001b[0m \u001b[31m10.0 MB/s\u001b[0m eta \u001b[36m0:00:00\u001b[0m\n",
            "\u001b[2K   \u001b[90m━━━━━━━━━━━━━━━━━━━━━━━━━━━━━━━━━━━━━━━━\u001b[0m \u001b[32m210.8/210.8 kB\u001b[0m \u001b[31m16.1 MB/s\u001b[0m eta \u001b[36m0:00:00\u001b[0m\n",
            "\u001b[2K   \u001b[90m━━━━━━━━━━━━━━━━━━━━━━━━━━━━━━━━━━━━━━━━\u001b[0m \u001b[32m244.6/244.6 kB\u001b[0m \u001b[31m18.7 MB/s\u001b[0m eta \u001b[36m0:00:00\u001b[0m\n",
            "\u001b[2K   \u001b[90m━━━━━━━━━━━━━━━━━━━━━━━━━━━━━━━━━━━━━━━━\u001b[0m \u001b[32m384.1/384.1 kB\u001b[0m \u001b[31m26.8 MB/s\u001b[0m eta \u001b[36m0:00:00\u001b[0m\n",
            "\u001b[2K   \u001b[90m━━━━━━━━━━━━━━━━━━━━━━━━━━━━━━━━━━━━━━━━\u001b[0m \u001b[32m432.6/432.6 kB\u001b[0m \u001b[31m27.8 MB/s\u001b[0m eta \u001b[36m0:00:00\u001b[0m\n",
            "\u001b[2K   \u001b[90m━━━━━━━━━━━━━━━━━━━━━━━━━━━━━━━━━━━━━━━━\u001b[0m \u001b[32m131.8/131.8 kB\u001b[0m \u001b[31m10.1 MB/s\u001b[0m eta \u001b[36m0:00:00\u001b[0m\n",
            "\u001b[2K   \u001b[90m━━━━━━━━━━━━━━━━━━━━━━━━━━━━━━━━━━━━━━━━\u001b[0m \u001b[32m100.6/100.6 kB\u001b[0m \u001b[31m8.3 MB/s\u001b[0m eta \u001b[36m0:00:00\u001b[0m\n",
            "\u001b[2K   \u001b[90m━━━━━━━━━━━━━━━━━━━━━━━━━━━━━━━━━━━━━━━━\u001b[0m \u001b[32m1.0/1.0 MB\u001b[0m \u001b[31m42.7 MB/s\u001b[0m eta \u001b[36m0:00:00\u001b[0m\n",
            "\u001b[2K   \u001b[90m━━━━━━━━━━━━━━━━━━━━━━━━━━━━━━━━━━━━━━━━\u001b[0m \u001b[32m2.5/2.5 MB\u001b[0m \u001b[31m79.5 MB/s\u001b[0m eta \u001b[36m0:00:00\u001b[0m\n",
            "\u001b[2K   \u001b[90m━━━━━━━━━━━━━━━━━━━━━━━━━━━━━━━━━━━━━━━━\u001b[0m \u001b[32m412.4/412.4 kB\u001b[0m \u001b[31m27.8 MB/s\u001b[0m eta \u001b[36m0:00:00\u001b[0m\n",
            "\u001b[2K   \u001b[90m━━━━━━━━━━━━━━━━━━━━━━━━━━━━━━━━━━━━━━━━\u001b[0m \u001b[32m93.2/93.2 kB\u001b[0m \u001b[31m7.3 MB/s\u001b[0m eta \u001b[36m0:00:00\u001b[0m\n",
            "\u001b[2K   \u001b[90m━━━━━━━━━━━━━━━━━━━━━━━━━━━━━━━━━━━━━━━━\u001b[0m \u001b[32m7.1/7.1 MB\u001b[0m \u001b[31m91.3 MB/s\u001b[0m eta \u001b[36m0:00:00\u001b[0m\n",
            "\u001b[2K   \u001b[90m━━━━━━━━━━━━━━━━━━━━━━━━━━━━━━━━━━━━━━━━\u001b[0m \u001b[32m145.8/145.8 kB\u001b[0m \u001b[31m10.5 MB/s\u001b[0m eta \u001b[36m0:00:00\u001b[0m\n",
            "\u001b[2K   \u001b[90m━━━━━━━━━━━━━━━━━━━━━━━━━━━━━━━━━━━━━━━━\u001b[0m \u001b[32m118.1/118.1 kB\u001b[0m \u001b[31m9.6 MB/s\u001b[0m eta \u001b[36m0:00:00\u001b[0m\n",
            "\u001b[2K   \u001b[90m━━━━━━━━━━━━━━━━━━━━━━━━━━━━━━━━━━━━━━━━\u001b[0m \u001b[32m64.3/64.3 kB\u001b[0m \u001b[31m4.5 MB/s\u001b[0m eta \u001b[36m0:00:00\u001b[0m\n",
            "\u001b[2K   \u001b[90m━━━━━━━━━━━━━━━━━━━━━━━━━━━━━━━━━━━━━━━━\u001b[0m \u001b[32m166.6/166.6 kB\u001b[0m \u001b[31m12.0 MB/s\u001b[0m eta \u001b[36m0:00:00\u001b[0m\n",
            "\u001b[2K   \u001b[90m━━━━━━━━━━━━━━━━━━━━━━━━━━━━━━━━━━━━━━━━\u001b[0m \u001b[32m65.5/65.5 kB\u001b[0m \u001b[31m4.9 MB/s\u001b[0m eta \u001b[36m0:00:00\u001b[0m\n",
            "\u001b[2K   \u001b[90m━━━━━━━━━━━━━━━━━━━━━━━━━━━━━━━━━━━━━━━━\u001b[0m \u001b[32m50.2/50.2 kB\u001b[0m \u001b[31m3.6 MB/s\u001b[0m eta \u001b[36m0:00:00\u001b[0m\n",
            "\u001b[2K   \u001b[90m━━━━━━━━━━━━━━━━━━━━━━━━━━━━━━━━━━━━━━━━\u001b[0m \u001b[32m319.7/319.7 kB\u001b[0m \u001b[31m20.6 MB/s\u001b[0m eta \u001b[36m0:00:00\u001b[0m\n",
            "\u001b[2K   \u001b[90m━━━━━━━━━━━━━━━━━━━━━━━━━━━━━━━━━━━━━━━━\u001b[0m \u001b[32m431.7/431.7 kB\u001b[0m \u001b[31m27.4 MB/s\u001b[0m eta \u001b[36m0:00:00\u001b[0m\n",
            "\u001b[2K   \u001b[90m━━━━━━━━━━━━━━━━━━━━━━━━━━━━━━━━━━━━━━━━\u001b[0m \u001b[32m2.0/2.0 MB\u001b[0m \u001b[31m61.7 MB/s\u001b[0m eta \u001b[36m0:00:00\u001b[0m\n",
            "\u001b[2K   \u001b[90m━━━━━━━━━━━━━━━━━━━━━━━━━━━━━━━━━━━━━━━━\u001b[0m \u001b[32m2.5/2.5 MB\u001b[0m \u001b[31m58.6 MB/s\u001b[0m eta \u001b[36m0:00:00\u001b[0m\n",
            "\u001b[2K   \u001b[90m━━━━━━━━━━━━━━━━━━━━━━━━━━━━━━━━━━━━━━━━\u001b[0m \u001b[32m1.7/1.7 MB\u001b[0m \u001b[31m57.8 MB/s\u001b[0m eta \u001b[36m0:00:00\u001b[0m\n",
            "\u001b[2K   \u001b[90m━━━━━━━━━━━━━━━━━━━━━━━━━━━━━━━━━━━━━━━━\u001b[0m \u001b[32m81.3/81.3 kB\u001b[0m \u001b[31m6.6 MB/s\u001b[0m eta \u001b[36m0:00:00\u001b[0m\n",
            "\u001b[2K   \u001b[90m━━━━━━━━━━━━━━━━━━━━━━━━━━━━━━━━━━━━━━━━\u001b[0m \u001b[32m221.7/221.7 kB\u001b[0m \u001b[31m17.3 MB/s\u001b[0m eta \u001b[36m0:00:00\u001b[0m\n",
            "\u001b[2K   \u001b[90m━━━━━━━━━━━━━━━━━━━━━━━━━━━━━━━━━━━━━━━━\u001b[0m \u001b[32m5.9/5.9 MB\u001b[0m \u001b[31m62.5 MB/s\u001b[0m eta \u001b[36m0:00:00\u001b[0m\n",
            "\u001b[2K   \u001b[90m━━━━━━━━━━━━━━━━━━━━━━━━━━━━━━━━━━━━━━━━\u001b[0m \u001b[32m73.5/73.5 kB\u001b[0m \u001b[31m6.0 MB/s\u001b[0m eta \u001b[36m0:00:00\u001b[0m\n",
            "\u001b[2K   \u001b[90m━━━━━━━━━━━━━━━━━━━━━━━━━━━━━━━━━━━━━━━━\u001b[0m \u001b[32m78.6/78.6 kB\u001b[0m \u001b[31m6.3 MB/s\u001b[0m eta \u001b[36m0:00:00\u001b[0m\n",
            "\u001b[2K   \u001b[90m━━━━━━━━━━━━━━━━━━━━━━━━━━━━━━━━━━━━━━━━\u001b[0m \u001b[32m44.7/44.7 kB\u001b[0m \u001b[31m3.2 MB/s\u001b[0m eta \u001b[36m0:00:00\u001b[0m\n",
            "\u001b[2K   \u001b[90m━━━━━━━━━━━━━━━━━━━━━━━━━━━━━━━━━━━━━━━━\u001b[0m \u001b[32m333.0/333.0 kB\u001b[0m \u001b[31m22.3 MB/s\u001b[0m eta \u001b[36m0:00:00\u001b[0m\n",
            "\u001b[2K   \u001b[90m━━━━━━━━━━━━━━━━━━━━━━━━━━━━━━━━━━━━━━━━\u001b[0m \u001b[32m403.7/403.7 kB\u001b[0m \u001b[31m24.5 MB/s\u001b[0m eta \u001b[36m0:00:00\u001b[0m\n",
            "\u001b[2K   \u001b[90m━━━━━━━━━━━━━━━━━━━━━━━━━━━━━━━━━━━━━━━━\u001b[0m \u001b[32m18.3/18.3 MB\u001b[0m \u001b[31m59.3 MB/s\u001b[0m eta \u001b[36m0:00:00\u001b[0m\n",
            "\u001b[2K   \u001b[90m━━━━━━━━━━━━━━━━━━━━━━━━━━━━━━━━━━━━━━━━\u001b[0m \u001b[32m181.5/181.5 kB\u001b[0m \u001b[31m13.4 MB/s\u001b[0m eta \u001b[36m0:00:00\u001b[0m\n",
            "\u001b[2K   \u001b[90m━━━━━━━━━━━━━━━━━━━━━━━━━━━━━━━━━━━━━━━━\u001b[0m \u001b[32m229.9/229.9 kB\u001b[0m \u001b[31m15.3 MB/s\u001b[0m eta \u001b[36m0:00:00\u001b[0m\n",
            "\u001b[2K   \u001b[90m━━━━━━━━━━━━━━━━━━━━━━━━━━━━━━━━━━━━━━━━\u001b[0m \u001b[32m763.0/763.0 kB\u001b[0m \u001b[31m38.4 MB/s\u001b[0m eta \u001b[36m0:00:00\u001b[0m\n",
            "\u001b[2K   \u001b[90m━━━━━━━━━━━━━━━━━━━━━━━━━━━━━━━━━━━━━━━━\u001b[0m \u001b[32m64.9/64.9 kB\u001b[0m \u001b[31m5.1 MB/s\u001b[0m eta \u001b[36m0:00:00\u001b[0m\n",
            "\u001b[2K   \u001b[90m━━━━━━━━━━━━━━━━━━━━━━━━━━━━━━━━━━━━━━━━\u001b[0m \u001b[32m3.2/3.2 MB\u001b[0m \u001b[31m60.4 MB/s\u001b[0m eta \u001b[36m0:00:00\u001b[0m\n",
            "\u001b[2K   \u001b[90m━━━━━━━━━━━━━━━━━━━━━━━━━━━━━━━━━━━━━━━━\u001b[0m \u001b[32m44.4/44.4 kB\u001b[0m \u001b[31m2.7 MB/s\u001b[0m eta \u001b[36m0:00:00\u001b[0m\n",
            "\u001b[2K   \u001b[90m━━━━━━━━━━━━━━━━━━━━━━━━━━━━━━━━━━━━━━━━\u001b[0m \u001b[32m83.2/83.2 kB\u001b[0m \u001b[31m5.2 MB/s\u001b[0m eta \u001b[36m0:00:00\u001b[0m\n",
            "\u001b[2K   \u001b[90m━━━━━━━━━━━━━━━━━━━━━━━━━━━━━━━━━━━━━━━━\u001b[0m \u001b[32m63.2/63.2 kB\u001b[0m \u001b[31m5.4 MB/s\u001b[0m eta \u001b[36m0:00:00\u001b[0m\n",
            "\u001b[2K   \u001b[90m━━━━━━━━━━━━━━━━━━━━━━━━━━━━━━━━━━━━━━━━\u001b[0m \u001b[32m164.9/164.9 kB\u001b[0m \u001b[31m11.6 MB/s\u001b[0m eta \u001b[36m0:00:00\u001b[0m\n",
            "\u001b[2K   \u001b[90m━━━━━━━━━━━━━━━━━━━━━━━━━━━━━━━━━━━━━━━━\u001b[0m \u001b[32m143.9/143.9 kB\u001b[0m \u001b[31m10.9 MB/s\u001b[0m eta \u001b[36m0:00:00\u001b[0m\n",
            "\u001b[2K   \u001b[90m━━━━━━━━━━━━━━━━━━━━━━━━━━━━━━━━━━━━━━━━\u001b[0m \u001b[32m274.9/274.9 kB\u001b[0m \u001b[31m17.4 MB/s\u001b[0m eta \u001b[36m0:00:00\u001b[0m\n",
            "\u001b[2K   \u001b[90m━━━━━━━━━━━━━━━━━━━━━━━━━━━━━━━━━━━━━━━━\u001b[0m \u001b[32m602.4/602.4 kB\u001b[0m \u001b[31m30.9 MB/s\u001b[0m eta \u001b[36m0:00:00\u001b[0m\n",
            "\u001b[2K   \u001b[90m━━━━━━━━━━━━━━━━━━━━━━━━━━━━━━━━━━━━━━━━\u001b[0m \u001b[32m70.4/70.4 kB\u001b[0m \u001b[31m4.7 MB/s\u001b[0m eta \u001b[36m0:00:00\u001b[0m\n",
            "\u001b[2K   \u001b[90m━━━━━━━━━━━━━━━━━━━━━━━━━━━━━━━━━━━━━━━━\u001b[0m \u001b[32m50.8/50.8 kB\u001b[0m \u001b[31m3.8 MB/s\u001b[0m eta \u001b[36m0:00:00\u001b[0m\n",
            "\u001b[2K   \u001b[90m━━━━━━━━━━━━━━━━━━━━━━━━━━━━━━━━━━━━━━━━\u001b[0m \u001b[32m129.0/129.0 kB\u001b[0m \u001b[31m6.9 MB/s\u001b[0m eta \u001b[36m0:00:00\u001b[0m\n",
            "\u001b[2K   \u001b[90m━━━━━━━━━━━━━━━━━━━━━━━━━━━━━━━━━━━━━━━━\u001b[0m \u001b[32m130.3/130.3 kB\u001b[0m \u001b[31m9.8 MB/s\u001b[0m eta \u001b[36m0:00:00\u001b[0m\n",
            "\u001b[2K   \u001b[90m━━━━━━━━━━━━━━━━━━━━━━━━━━━━━━━━━━━━━━━━\u001b[0m \u001b[32m231.1/231.1 kB\u001b[0m \u001b[31m17.4 MB/s\u001b[0m eta \u001b[36m0:00:00\u001b[0m\n",
            "\u001b[2K   \u001b[90m━━━━━━━━━━━━━━━━━━━━━━━━━━━━━━━━━━━━━━━━\u001b[0m \u001b[32m83.1/83.1 kB\u001b[0m \u001b[31m5.4 MB/s\u001b[0m eta \u001b[36m0:00:00\u001b[0m\n",
            "\u001b[2K   \u001b[90m━━━━━━━━━━━━━━━━━━━━━━━━━━━━━━━━━━━━━━━━\u001b[0m \u001b[32m54.5/54.5 kB\u001b[0m \u001b[31m3.5 MB/s\u001b[0m eta \u001b[36m0:00:00\u001b[0m\n",
            "\u001b[2K   \u001b[90m━━━━━━━━━━━━━━━━━━━━━━━━━━━━━━━━━━━━━━━━\u001b[0m \u001b[32m128.4/128.4 kB\u001b[0m \u001b[31m10.0 MB/s\u001b[0m eta \u001b[36m0:00:00\u001b[0m\n",
            "\u001b[2K   \u001b[90m━━━━━━━━━━━━━━━━━━━━━━━━━━━━━━━━━━━━━━━━\u001b[0m \u001b[32m344.1/344.1 kB\u001b[0m \u001b[31m20.1 MB/s\u001b[0m eta \u001b[36m0:00:00\u001b[0m\n",
            "\u001b[2K   \u001b[90m━━━━━━━━━━━━━━━━━━━━━━━━━━━━━━━━━━━━━━━━\u001b[0m \u001b[32m5.4/5.4 MB\u001b[0m \u001b[31m62.1 MB/s\u001b[0m eta \u001b[36m0:00:00\u001b[0m\n",
            "\u001b[2K   \u001b[90m━━━━━━━━━━━━━━━━━━━━━━━━━━━━━━━━━━━━━━━━\u001b[0m \u001b[32m96.0/96.0 kB\u001b[0m \u001b[31m6.8 MB/s\u001b[0m eta \u001b[36m0:00:00\u001b[0m\n",
            "\u001b[2K   \u001b[90m━━━━━━━━━━━━━━━━━━━━━━━━━━━━━━━━━━━━━━━━\u001b[0m \u001b[32m58.3/58.3 kB\u001b[0m \u001b[31m4.3 MB/s\u001b[0m eta \u001b[36m0:00:00\u001b[0m\n",
            "\u001b[?25h  Building wheel for langchain-google-spanner (pyproject.toml) ... done\n",
            "\u001b[33m  WARNING: The script `sql format` is installed in '/root/.local/bin' which is not on PATH.\n",
            "  Consider adding this directory to PATH or, if you prefer to suppress this warning, use --no-warn-script-location.\u001b[0m\u001b[33m\n",
            "\u001b[0m\u001b[33m  WARNING: The script dotenv is installed in '/root/.local/bin' which is not on PATH.\n",
            "  Consider adding this directory to PATH or, if you prefer to suppress this warning, use --no-warn-script-location.\u001b[0m\u001b[33m\n",
            "\u001b[0m\u001b[33m  WARNING: The script f2py is installed in '/root/.local/bin' which is not on PATH.\n",
            "  Consider adding this directory to PATH or, if you prefer to suppress this warning, use --no-warn-script-location.\u001b[0m\u001b[33m\n",
            "\u001b[0m\u001b[33m  WARNING: The script normalizer is installed in '/root/.local/bin' which is not on PATH.\n",
            "  Consider adding this directory to PATH or, if you prefer to suppress this warning, use --no-warn-script-location.\u001b[0m\u001b[33m\n",
            "\u001b[0m\u001b[33m  WARNING: The scripts pyrsa-decrypt, pyrsa-encrypt, pyrsa-keygen, pyrsa-priv2pub, pyrsa-sign and pyrsa-verify are installed in '/root/.local/bin' which is not on PATH.\n",
            "  Consider adding this directory to PATH or, if you prefer to suppress this warning, use --no-warn-script-location.\u001b[0m\u001b[33m\n",
            "\u001b[0m\u001b[33m  WARNING: The script httpx is installed in '/root/.local/bin' which is not on PATH.\n",
            "  Consider adding this directory to PATH or, if you prefer to suppress this warning, use --no-warn-script-location.\u001b[0m\u001b[33m\n",
            "\u001b[0m\u001b[33m  WARNING: The scripts opentelemetry-bootstrap and opentelemetry-instrument are installed in '/root/.local/bin' which is not on PATH.\n",
            "  Consider adding this directory to PATH or, if you prefer to suppress this warning, use --no-warn-script-location.\u001b[0m\u001b[33m\n",
            "\u001b[0m\u001b[33m  WARNING: The script langchain-server is installed in '/root/.local/bin' which is not on PATH.\n",
            "  Consider adding this directory to PATH or, if you prefer to suppress this warning, use --no-warn-script-location.\u001b[0m\u001b[33m\n",
            "\u001b[0m\u001b[33m  WARNING: The script tb-gcp-uploader is installed in '/root/.local/bin' which is not on PATH.\n",
            "  Consider adding this directory to PATH or, if you prefer to suppress this warning, use --no-warn-script-location.\u001b[0m\u001b[33m\n",
            "\u001b[0m\u001b[31mERROR: pip's dependency resolver does not currently take into account all the packages that are installed. This behaviour is the source of the following dependency conflicts.\n",
            "google-colab 1.0.0 requires google-auth==2.27.0, but you have google-auth 2.38.0 which is incompatible.\n",
            "jupyter-server 1.24.0 requires anyio<4,>=3.1.0, but you have anyio 4.8.0 which is incompatible.\n",
            "torch 2.5.1+cu124 requires nvidia-cublas-cu12==12.4.5.8; platform_system == \"Linux\" and platform_machine == \"x86_64\", but you have nvidia-cublas-cu12 12.5.3.2 which is incompatible.\n",
            "torch 2.5.1+cu124 requires nvidia-cuda-cupti-cu12==12.4.127; platform_system == \"Linux\" and platform_machine == \"x86_64\", but you have nvidia-cuda-cupti-cu12 12.5.82 which is incompatible.\n",
            "torch 2.5.1+cu124 requires nvidia-cuda-nvrtc-cu12==12.4.127; platform_system == \"Linux\" and platform_machine == \"x86_64\", but you have nvidia-cuda-nvrtc-cu12 12.5.82 which is incompatible.\n",
            "torch 2.5.1+cu124 requires nvidia-cuda-runtime-cu12==12.4.127; platform_system == \"Linux\" and platform_machine == \"x86_64\", but you have nvidia-cuda-runtime-cu12 12.5.82 which is incompatible.\n",
            "torch 2.5.1+cu124 requires nvidia-cudnn-cu12==9.1.0.70; platform_system == \"Linux\" and platform_machine == \"x86_64\", but you have nvidia-cudnn-cu12 9.3.0.75 which is incompatible.\n",
            "torch 2.5.1+cu124 requires nvidia-cufft-cu12==11.2.1.3; platform_system == \"Linux\" and platform_machine == \"x86_64\", but you have nvidia-cufft-cu12 11.2.3.61 which is incompatible.\n",
            "torch 2.5.1+cu124 requires nvidia-curand-cu12==10.3.5.147; platform_system == \"Linux\" and platform_machine == \"x86_64\", but you have nvidia-curand-cu12 10.3.6.82 which is incompatible.\n",
            "torch 2.5.1+cu124 requires nvidia-cusolver-cu12==11.6.1.9; platform_system == \"Linux\" and platform_machine == \"x86_64\", but you have nvidia-cusolver-cu12 11.6.3.83 which is incompatible.\n",
            "torch 2.5.1+cu124 requires nvidia-cusparse-cu12==12.3.1.170; platform_system == \"Linux\" and platform_machine == \"x86_64\", but you have nvidia-cusparse-cu12 12.5.1.3 which is incompatible.\n",
            "torch 2.5.1+cu124 requires nvidia-nvjitlink-cu12==12.4.127; platform_system == \"Linux\" and platform_machine == \"x86_64\", but you have nvidia-nvjitlink-cu12 12.5.82 which is incompatible.\u001b[0m\u001b[31m\n",
            "\u001b[0m"
          ]
        }
      ],
      "source": [
        "%pip install --upgrade --user --quiet \\\n",
        "    \"google-cloud-aiplatform[langchain,reasoningengine]\" \\\n",
        "    git+https://github.com/yeesian/langchain-google-spanner-python.git --force-reinstall"
      ]
    },
    {
      "cell_type": "markdown",
      "metadata": {
        "id": "R5Xep4W9lq-Z"
      },
      "source": [
        "### Restart runtime\n",
        "\n",
        "To use the newly installed packages in this Jupyter runtime, you must restart the runtime. You can do this by running the cell below, which restarts the current kernel.\n",
        "\n",
        "The restart might take a minute or longer. After it's restarted, continue to the next step."
      ]
    },
    {
      "cell_type": "code",
      "execution_count": 2,
      "metadata": {
        "id": "XRvKdaPDTznN"
      },
      "outputs": [
        {
          "data": {
            "text/plain": [
              "{'status': 'ok', 'restart': True}"
            ]
          },
          "execution_count": 2,
          "metadata": {},
          "output_type": "execute_result"
        }
      ],
      "source": [
        "import IPython\n",
        "\n",
        "app = IPython.Application.instance()\n",
        "app.kernel.do_shutdown(True)"
      ]
    },
    {
      "cell_type": "markdown",
      "metadata": {
        "id": "SbmM4z7FOBpM"
      },
      "source": [
        "<div class=\"alert alert-block alert-warning\">\n",
        "<b>⚠️ The kernel is going to restart. Wait until it's finished before continuing to the next step. ⚠️</b>\n",
        "</div>"
      ]
    },
    {
      "cell_type": "markdown",
      "metadata": {
        "id": "dmWOrTJ3gx13"
      },
      "source": [
        "### Authenticate your notebook environment (Colab only)\n",
        "\n",
        "If you're running this notebook on Google Colab, run the cell below to authenticate your environment."
      ]
    },
    {
      "cell_type": "code",
      "execution_count": 1,
      "metadata": {
        "id": "NyKGtVQjgx13"
      },
      "outputs": [],
      "source": [
        "import sys\n",
        "\n",
        "if \"google.colab\" in sys.modules:\n",
        "    from google.colab import auth\n",
        "\n",
        "    auth.authenticate_user()"
      ]
    },
    {
      "cell_type": "markdown",
      "metadata": {
        "id": "DF4l8DTdWgPY"
      },
      "source": [
        "### Set Google Cloud Project Information and Initialize the Vertex AI SDK\n",
        "\n",
        "Before using Vertex AI, ensure you have an existing Google Cloud project and have [enabled the Vertex AI API](https://console.cloud.google.com/flows/enableapi?apiid=aiplatform.googleapis.com).\n",
        "\n",
        "Refer to the documentation for more details on [setting up a project and development environment](https://cloud.google.com/vertex-ai/docs/start/cloud-environment)."
      ]
    },
    {
      "cell_type": "code",
      "execution_count": 2,
      "metadata": {
        "id": "Nqwi-5ufWp_B"
      },
      "outputs": [],
      "source": [
        "PROJECT_ID = \"reasoning-engine-test-1\"  # @param {type:\"string\"}\n",
        "LOCATION = \"us-central1\"  # @param {type:\"string\"}\n",
        "STAGING_BUCKET = \"gs://reasoning-engine-test-1-bucket\"  # @param {type:\"string\"}\n",
        "\n",
        "import vertexai\n",
        "\n",
        "vertexai.init(project=PROJECT_ID, location=LOCATION, staging_bucket=STAGING_BUCKET)"
      ]
    },
    {
      "cell_type": "markdown",
      "metadata": {
        "id": "EdvJRUWRNGHE"
      },
      "source": [
        "## Building and Deploying a LangGraph App on Reasoning Engine\n",
        "\n",
        "The following sections guide you through building and deploying a LangGraph application using Reasoning Engine on Vertex AI."
      ]
    },
    {
      "cell_type": "markdown",
      "metadata": {
        "id": "3b3004f33544"
      },
      "source": [
        "### Import Libraries\n",
        "\n",
        "Import the required Python libraries. These libraries provide the necessary tools for interacting with LangGraph, Vertex AI, and other components of the application."
      ]
    },
    {
      "cell_type": "code",
      "execution_count": 3,
      "metadata": {
        "id": "67acfba81563"
      },
      "outputs": [],
      "source": [
        "from langchain.load import load as langchain_load\n",
        "from vertexai.preview import reasoning_engines"
      ]
    },
    {
      "cell_type": "markdown",
      "metadata": {
        "id": "eXIykM_rDlzJ"
      },
      "source": [
        "### Define Tools\n",
        "\n",
        "Begin by defining the tools for your LangGraph application. You'll define a custom Python function that serves as a tool within our agentic application.\n",
        "\n",
        "In this example, we'll create a simple tool that retrieves the exchange rate requested by the user.  In practice, you can define functions to interact with APIs, query databases, or perform any other tasks your agent might need to execute."
      ]
    },
    {
      "cell_type": "code",
      "execution_count": 4,
      "metadata": {
        "id": "9AhaLYidDzQu"
      },
      "outputs": [],
      "source": [
        "def get_exchange_rate(\n",
        "    currency_from: str = \"USD\",\n",
        "    currency_to: str = \"EUR\",\n",
        "    currency_date: str = \"latest\",\n",
        "):\n",
        "    \"\"\"Retrieves the exchange rate between two currencies on a specified date.\n",
        "\n",
        "    Uses the Frankfurter API (https://api.frankfurter.app/) to obtain\n",
        "    exchange rate data.\n",
        "\n",
        "    Args:\n",
        "        currency_from: The base currency (3-letter currency code).\n",
        "            Defaults to \"USD\" (US Dollar).\n",
        "        currency_to: The target currency (3-letter currency code).\n",
        "            Defaults to \"EUR\" (Euro).\n",
        "        currency_date: The date for which to retrieve the exchange rate.\n",
        "            Defaults to \"latest\" for the most recent exchange rate data.\n",
        "            Can be specified in YYYY-MM-DD format for historical rates.\n",
        "\n",
        "    Returns:\n",
        "        dict: A dictionary containing the exchange rate information.\n",
        "            Example: {\"amount\": 1.0, \"base\": \"USD\", \"date\": \"2023-11-24\",\n",
        "                \"rates\": {\"EUR\": 0.95534}}\n",
        "    \"\"\"\n",
        "    import requests\n",
        "\n",
        "    response = requests.get(\n",
        "        f\"https://api.frankfurter.app/{currency_date}\",\n",
        "        params={\"from\": currency_from, \"to\": currency_to},\n",
        "    )\n",
        "    return response.json()"
      ]
    },
    {
      "cell_type": "markdown",
      "metadata": {
        "id": "94db54ba756b"
      },
      "source": [
        "### Define [`Checkpointers`](https://langchain-ai.github.io/langgraph/concepts/persistence/)\n",
        "\n",
        "In LangGraph, [memory is checkpointing/persistence](https://github.com/langchain-ai/langgraph/discussions/352#discussioncomment-9290376). Checkpointing saves the [state](https://langchain-ai.github.io/langgraph/concepts/low_level/#checkpointer-state) of the agent's execution at each node in the graph, which is crucial for: `Resuming execution`, `Debugging and Inspection`, and `Asynchronous Operations`.\n",
        "\n",
        "LangGraph provides a Checkpointer [Interface](https://langchain-ai.github.io/langgraph/concepts/persistence/#checkpointer-interface), defining methods for saving and loading the state. Several built-in checkpointers are available to implement this interface.\n",
        "\n",
        "Next, you'll define the arguments for your LangGraph application's checkpointer and create a custom Python function to act as the checkpointer builder. In this case, we'll define a simple `Spanner` checkpointer that returns the state of the current instance, database, and project."
      ]
    },
    {
      "cell_type": "code",
      "execution_count": 5,
      "metadata": {
        "id": "22981b2e1c59"
      },
      "outputs": [],
      "source": [
        "checkpointer_kwargs = {\n",
        "    \"instance_id\": \"my-instance\",\n",
        "    \"database_id\": \"my-database\",\n",
        "    \"project_id\": PROJECT_ID,\n",
        "}\n",
        "\n",
        "\n",
        "def checkpointer_builder(instance_id, database_id, project_id, **kwargs):\n",
        "    from langchain_google_spanner import SpannerCheckpointSaver\n",
        "\n",
        "    checkpointer = SpannerCheckpointSaver(instance_id, database_id, project_id)\n",
        "    with checkpointer.cursor() as cur:\n",
        "        cur.execute(\"DROP TABLE IF EXISTS checkpoints\")\n",
        "        cur.execute(\"DROP TABLE IF EXISTS checkpoint_writes\")\n",
        "    checkpointer.setup()\n",
        "\n",
        "    return checkpointer"
      ]
    },
    {
      "cell_type": "markdown",
      "metadata": {
        "id": "B114CI_AQk_b"
      },
      "source": [
        "Alternatively, you can define a simple `MemorySaver` checkpointer\n",
        "```python\n",
        "checkpointer_kwargs = None\n",
        "\n",
        "\n",
        "def checkpointer_builder(**kwargs):\n",
        "    from langgraph.checkpoint.memory import MemorySaver\n",
        "\n",
        "    return MemorySaver()\n",
        "```"
      ]
    },
    {
      "cell_type": "markdown",
      "metadata": {
        "id": "d32ce189d989"
      },
      "source": [
        "### Define the Human-in-the-Loop LangGraph Application\n",
        "\n",
        "Now, you'll integrate all the components to define your Human-in-the-Loop LangGraph application within Reasoning Engine.\n",
        "\n",
        "This application will utilize the tools and checkpointer you've defined. LangGraph offers a powerful framework for structuring these interactions and leveraging the capabilities of LLMs."
      ]
    },
    {
      "cell_type": "code",
      "execution_count": 6,
      "metadata": {
        "id": "6eeff14856cd"
      },
      "outputs": [],
      "source": [
        "agent = reasoning_engines.LanggraphAgent(\n",
        "    model=\"gemini-1.5-pro-001\",\n",
        "    tools=[get_exchange_rate],\n",
        "    model_kwargs={\"temperature\": 0, \"max_retries\": 6},\n",
        "    checkpointer_kwargs=checkpointer_kwargs,\n",
        "    checkpointer_builder=checkpointer_builder,\n",
        ")"
      ]
    },
    {
      "cell_type": "markdown",
      "metadata": {
        "id": "be06c89a87aa"
      },
      "source": [
        "### Local Testing\n",
        "\n",
        "This section covers local testing of your LangGraph application before deployment to ensure it behaves as expected."
      ]
    },
    {
      "cell_type": "code",
      "execution_count": 7,
      "metadata": {
        "id": "oOJMqctkVvYA"
      },
      "outputs": [],
      "source": [
        "agent.set_up()"
      ]
    },
    {
      "cell_type": "code",
      "execution_count": 8,
      "metadata": {
        "id": "JHU5GhMrh6Xz"
      },
      "outputs": [],
      "source": [
        "inputs = {\n",
        "    \"messages\": [\n",
        "        (\"user\", \"What is the exchange rate from US dollars to Swedish currency?\")\n",
        "    ]\n",
        "}"
      ]
    },
    {
      "cell_type": "code",
      "execution_count": 10,
      "metadata": {
        "id": "aA5s9KI2VwJv"
      },
      "outputs": [
        {
          "name": "stdout",
          "output_type": "stream",
          "text": [
            "{'type': 'function', 'function': {'name': 'get_exchange_rate', 'description': 'Retrieves the exchange rate between two currencies on a specified date. Uses the Frankfurter API (https://api.frankfurter.app/) to obtain\\n exchange rate data.', 'parameters': {'properties': {'currency_from': {'default': 'USD', 'description': 'The base currency (3-letter currency code). Defaults to \"USD\" (US Dollar).', 'type': 'string'}, 'currency_to': {'default': 'EUR', 'description': 'The target currency (3-letter currency code). Defaults to \"EUR\" (Euro).', 'type': 'string'}, 'currency_date': {'default': 'latest', 'description': 'The date for which to retrieve the exchange rate. Defaults to \"latest\" for the most recent exchange rate data. Can be specified in YYYY-MM-DD format for historical rates.', 'type': 'string'}}, 'type': 'object'}}}\n",
            "{'type': 'function', 'function': {'name': 'get_exchange_rate', 'description': 'Retrieves the exchange rate between two currencies on a specified date. Uses the Frankfurter API (https://api.frankfurter.app/) to obtain\\n exchange rate data.', 'parameters': {'properties': {'currency_from': {'default': 'USD', 'description': 'The base currency (3-letter currency code). Defaults to \"USD\" (US Dollar).', 'type': 'string'}, 'currency_to': {'default': 'EUR', 'description': 'The target currency (3-letter currency code). Defaults to \"EUR\" (Euro).', 'type': 'string'}, 'currency_date': {'default': 'latest', 'description': 'The date for which to retrieve the exchange rate. Defaults to \"latest\" for the most recent exchange rate data. Can be specified in YYYY-MM-DD format for historical rates.', 'type': 'string'}}, 'type': 'object'}}}\n"
          ]
        },
        {
          "data": {
            "application/vnd.google.colaboratory.intrinsic+json": {
              "type": "string"
            },
            "text/plain": [
              "'The exchange rate from US dollars to Swedish krona is 1 USD to 11.0191 SEK. \\n'"
            ]
          },
          "execution_count": 10,
          "metadata": {},
          "output_type": "execute_result"
        }
      ],
      "source": [
        "response = agent.query(\n",
        "    input=inputs,\n",
        "    config={\"configurable\": {\"thread_id\": \"synchronous-thread-id\"}},\n",
        ")\n",
        "\n",
        "response[\"messages\"][-1][\"kwargs\"][\"content\"]"
      ]
    },
    {
      "cell_type": "markdown",
      "metadata": {
        "id": "GfaxXCINV7cV"
      },
      "source": [
        "You can also utilize [streaming](https://langchain-ai.github.io/langgraph/how-tos/stream-values/) mode to stream back the `values` of the graph, representing the full state after each node execution."
      ]
    },
    {
      "cell_type": "code",
      "execution_count": 11,
      "metadata": {
        "id": "fc70cda0aeb0"
      },
      "outputs": [
        {
          "name": "stdout",
          "output_type": "stream",
          "text": [
            "{'messages': [{'lc': 1, 'type': 'constructor', 'id': ['langchain', 'schema', 'messages', 'HumanMessage'], 'kwargs': {'content': 'What is the exchange rate from US dollars to Swedish currency?', 'type': 'human', 'id': '5326270e-cf3a-4ed1-92da-54fc5f481a1d'}}]}\n",
            "{'type': 'function', 'function': {'name': 'get_exchange_rate', 'description': 'Retrieves the exchange rate between two currencies on a specified date. Uses the Frankfurter API (https://api.frankfurter.app/) to obtain\\n exchange rate data.', 'parameters': {'properties': {'currency_from': {'default': 'USD', 'description': 'The base currency (3-letter currency code). Defaults to \"USD\" (US Dollar).', 'type': 'string'}, 'currency_to': {'default': 'EUR', 'description': 'The target currency (3-letter currency code). Defaults to \"EUR\" (Euro).', 'type': 'string'}, 'currency_date': {'default': 'latest', 'description': 'The date for which to retrieve the exchange rate. Defaults to \"latest\" for the most recent exchange rate data. Can be specified in YYYY-MM-DD format for historical rates.', 'type': 'string'}}, 'type': 'object'}}}\n",
            "{'messages': [{'lc': 1, 'type': 'constructor', 'id': ['langchain', 'schema', 'messages', 'HumanMessage'], 'kwargs': {'content': 'What is the exchange rate from US dollars to Swedish currency?', 'type': 'human', 'id': '5326270e-cf3a-4ed1-92da-54fc5f481a1d'}}, {'lc': 1, 'type': 'constructor', 'id': ['langchain', 'schema', 'messages', 'AIMessage'], 'kwargs': {'content': '', 'additional_kwargs': {'function_call': {'name': 'get_exchange_rate', 'arguments': '{\"currency_from\": \"USD\", \"currency_to\": \"SEK\"}'}}, 'response_metadata': {'is_blocked': False, 'safety_ratings': [{'category': 'HARM_CATEGORY_HATE_SPEECH', 'probability_label': 'NEGLIGIBLE', 'probability_score': 0.15234375, 'blocked': False, 'severity': 'HARM_SEVERITY_NEGLIGIBLE', 'severity_score': 0.1484375}, {'category': 'HARM_CATEGORY_DANGEROUS_CONTENT', 'probability_label': 'NEGLIGIBLE', 'probability_score': 0.2451171875, 'blocked': False, 'severity': 'HARM_SEVERITY_LOW', 'severity_score': 0.26953125}, {'category': 'HARM_CATEGORY_HARASSMENT', 'probability_label': 'NEGLIGIBLE', 'probability_score': 0.1826171875, 'blocked': False, 'severity': 'HARM_SEVERITY_NEGLIGIBLE', 'severity_score': 0.126953125}, {'category': 'HARM_CATEGORY_SEXUALLY_EXPLICIT', 'probability_label': 'NEGLIGIBLE', 'probability_score': 0.10693359375, 'blocked': False, 'severity': 'HARM_SEVERITY_NEGLIGIBLE', 'severity_score': 0.119140625}], 'usage_metadata': {'prompt_token_count': 134, 'candidates_token_count': 13, 'total_token_count': 147, 'prompt_tokens_details': [{'modality': 1, 'token_count': 134}], 'candidates_tokens_details': [{'modality': 1, 'token_count': 13}], 'cached_content_token_count': 0, 'cache_tokens_details': []}, 'finish_reason': 'STOP', 'avg_logprobs': -1.2837744214686188e-07}, 'type': 'ai', 'id': 'run-18b29876-531d-4d93-9b2e-55ce746b35d3-0', 'tool_calls': [{'name': 'get_exchange_rate', 'args': {'currency_from': 'USD', 'currency_to': 'SEK'}, 'id': 'e44e2c1a-605d-4113-bf96-bc69659aa60a', 'type': 'tool_call'}], 'usage_metadata': {'input_tokens': 134, 'output_tokens': 13, 'total_tokens': 147}, 'invalid_tool_calls': []}}]}\n",
            "{'messages': [{'lc': 1, 'type': 'constructor', 'id': ['langchain', 'schema', 'messages', 'HumanMessage'], 'kwargs': {'content': 'What is the exchange rate from US dollars to Swedish currency?', 'type': 'human', 'id': '5326270e-cf3a-4ed1-92da-54fc5f481a1d'}}, {'lc': 1, 'type': 'constructor', 'id': ['langchain', 'schema', 'messages', 'AIMessage'], 'kwargs': {'content': '', 'additional_kwargs': {'function_call': {'name': 'get_exchange_rate', 'arguments': '{\"currency_from\": \"USD\", \"currency_to\": \"SEK\"}'}}, 'response_metadata': {'is_blocked': False, 'safety_ratings': [{'category': 'HARM_CATEGORY_HATE_SPEECH', 'probability_label': 'NEGLIGIBLE', 'probability_score': 0.15234375, 'blocked': False, 'severity': 'HARM_SEVERITY_NEGLIGIBLE', 'severity_score': 0.1484375}, {'category': 'HARM_CATEGORY_DANGEROUS_CONTENT', 'probability_label': 'NEGLIGIBLE', 'probability_score': 0.2451171875, 'blocked': False, 'severity': 'HARM_SEVERITY_LOW', 'severity_score': 0.26953125}, {'category': 'HARM_CATEGORY_HARASSMENT', 'probability_label': 'NEGLIGIBLE', 'probability_score': 0.1826171875, 'blocked': False, 'severity': 'HARM_SEVERITY_NEGLIGIBLE', 'severity_score': 0.126953125}, {'category': 'HARM_CATEGORY_SEXUALLY_EXPLICIT', 'probability_label': 'NEGLIGIBLE', 'probability_score': 0.10693359375, 'blocked': False, 'severity': 'HARM_SEVERITY_NEGLIGIBLE', 'severity_score': 0.119140625}], 'usage_metadata': {'prompt_token_count': 134, 'candidates_token_count': 13, 'total_token_count': 147, 'prompt_tokens_details': [{'modality': 1, 'token_count': 134}], 'candidates_tokens_details': [{'modality': 1, 'token_count': 13}], 'cached_content_token_count': 0, 'cache_tokens_details': []}, 'finish_reason': 'STOP', 'avg_logprobs': -1.2837744214686188e-07}, 'type': 'ai', 'id': 'run-18b29876-531d-4d93-9b2e-55ce746b35d3-0', 'tool_calls': [{'name': 'get_exchange_rate', 'args': {'currency_from': 'USD', 'currency_to': 'SEK'}, 'id': 'e44e2c1a-605d-4113-bf96-bc69659aa60a', 'type': 'tool_call'}], 'usage_metadata': {'input_tokens': 134, 'output_tokens': 13, 'total_tokens': 147}, 'invalid_tool_calls': []}}, {'lc': 1, 'type': 'constructor', 'id': ['langchain', 'schema', 'messages', 'ToolMessage'], 'kwargs': {'content': '{\"amount\": 1.0, \"base\": \"USD\", \"date\": \"2025-01-29\", \"rates\": {\"SEK\": 11.0191}}', 'type': 'tool', 'name': 'get_exchange_rate', 'id': 'c0ac77a1-716f-4148-bb1f-e1a4cbb16c87', 'tool_call_id': 'e44e2c1a-605d-4113-bf96-bc69659aa60a', 'status': 'success'}}]}\n",
            "{'type': 'function', 'function': {'name': 'get_exchange_rate', 'description': 'Retrieves the exchange rate between two currencies on a specified date. Uses the Frankfurter API (https://api.frankfurter.app/) to obtain\\n exchange rate data.', 'parameters': {'properties': {'currency_from': {'default': 'USD', 'description': 'The base currency (3-letter currency code). Defaults to \"USD\" (US Dollar).', 'type': 'string'}, 'currency_to': {'default': 'EUR', 'description': 'The target currency (3-letter currency code). Defaults to \"EUR\" (Euro).', 'type': 'string'}, 'currency_date': {'default': 'latest', 'description': 'The date for which to retrieve the exchange rate. Defaults to \"latest\" for the most recent exchange rate data. Can be specified in YYYY-MM-DD format for historical rates.', 'type': 'string'}}, 'type': 'object'}}}\n",
            "{'messages': [{'lc': 1, 'type': 'constructor', 'id': ['langchain', 'schema', 'messages', 'HumanMessage'], 'kwargs': {'content': 'What is the exchange rate from US dollars to Swedish currency?', 'type': 'human', 'id': '5326270e-cf3a-4ed1-92da-54fc5f481a1d'}}, {'lc': 1, 'type': 'constructor', 'id': ['langchain', 'schema', 'messages', 'AIMessage'], 'kwargs': {'content': '', 'additional_kwargs': {'function_call': {'name': 'get_exchange_rate', 'arguments': '{\"currency_from\": \"USD\", \"currency_to\": \"SEK\"}'}}, 'response_metadata': {'is_blocked': False, 'safety_ratings': [{'category': 'HARM_CATEGORY_HATE_SPEECH', 'probability_label': 'NEGLIGIBLE', 'probability_score': 0.15234375, 'blocked': False, 'severity': 'HARM_SEVERITY_NEGLIGIBLE', 'severity_score': 0.1484375}, {'category': 'HARM_CATEGORY_DANGEROUS_CONTENT', 'probability_label': 'NEGLIGIBLE', 'probability_score': 0.2451171875, 'blocked': False, 'severity': 'HARM_SEVERITY_LOW', 'severity_score': 0.26953125}, {'category': 'HARM_CATEGORY_HARASSMENT', 'probability_label': 'NEGLIGIBLE', 'probability_score': 0.1826171875, 'blocked': False, 'severity': 'HARM_SEVERITY_NEGLIGIBLE', 'severity_score': 0.126953125}, {'category': 'HARM_CATEGORY_SEXUALLY_EXPLICIT', 'probability_label': 'NEGLIGIBLE', 'probability_score': 0.10693359375, 'blocked': False, 'severity': 'HARM_SEVERITY_NEGLIGIBLE', 'severity_score': 0.119140625}], 'usage_metadata': {'prompt_token_count': 134, 'candidates_token_count': 13, 'total_token_count': 147, 'prompt_tokens_details': [{'modality': 1, 'token_count': 134}], 'candidates_tokens_details': [{'modality': 1, 'token_count': 13}], 'cached_content_token_count': 0, 'cache_tokens_details': []}, 'finish_reason': 'STOP', 'avg_logprobs': -1.2837744214686188e-07}, 'type': 'ai', 'id': 'run-18b29876-531d-4d93-9b2e-55ce746b35d3-0', 'tool_calls': [{'name': 'get_exchange_rate', 'args': {'currency_from': 'USD', 'currency_to': 'SEK'}, 'id': 'e44e2c1a-605d-4113-bf96-bc69659aa60a', 'type': 'tool_call'}], 'usage_metadata': {'input_tokens': 134, 'output_tokens': 13, 'total_tokens': 147}, 'invalid_tool_calls': []}}, {'lc': 1, 'type': 'constructor', 'id': ['langchain', 'schema', 'messages', 'ToolMessage'], 'kwargs': {'content': '{\"amount\": 1.0, \"base\": \"USD\", \"date\": \"2025-01-29\", \"rates\": {\"SEK\": 11.0191}}', 'type': 'tool', 'name': 'get_exchange_rate', 'id': 'c0ac77a1-716f-4148-bb1f-e1a4cbb16c87', 'tool_call_id': 'e44e2c1a-605d-4113-bf96-bc69659aa60a', 'status': 'success'}}, {'lc': 1, 'type': 'constructor', 'id': ['langchain', 'schema', 'messages', 'AIMessage'], 'kwargs': {'content': 'The exchange rate from US dollars to Swedish krona is 1 USD to 11.0191 SEK. \\n', 'response_metadata': {'is_blocked': False, 'safety_ratings': [{'category': 'HARM_CATEGORY_HATE_SPEECH', 'probability_label': 'NEGLIGIBLE', 'probability_score': 0.0693359375, 'blocked': False, 'severity': 'HARM_SEVERITY_NEGLIGIBLE', 'severity_score': 0.12353515625}, {'category': 'HARM_CATEGORY_DANGEROUS_CONTENT', 'probability_label': 'NEGLIGIBLE', 'probability_score': 0.1298828125, 'blocked': False, 'severity': 'HARM_SEVERITY_NEGLIGIBLE', 'severity_score': 0.1435546875}, {'category': 'HARM_CATEGORY_HARASSMENT', 'probability_label': 'NEGLIGIBLE', 'probability_score': 0.12353515625, 'blocked': False, 'severity': 'HARM_SEVERITY_NEGLIGIBLE', 'severity_score': 0.06005859375}, {'category': 'HARM_CATEGORY_SEXUALLY_EXPLICIT', 'probability_label': 'NEGLIGIBLE', 'probability_score': 0.0888671875, 'blocked': False, 'severity': 'HARM_SEVERITY_NEGLIGIBLE', 'severity_score': 0.1953125}], 'usage_metadata': {'prompt_token_count': 168, 'candidates_token_count': 27, 'total_token_count': 195, 'prompt_tokens_details': [{'modality': 1, 'token_count': 168}], 'candidates_tokens_details': [{'modality': 1, 'token_count': 27}], 'cached_content_token_count': 0, 'cache_tokens_details': []}, 'finish_reason': 'STOP', 'avg_logprobs': -0.009088011251555549}, 'type': 'ai', 'id': 'run-3e767f85-794a-44b8-8cd4-71207bf26a59-0', 'usage_metadata': {'input_tokens': 168, 'output_tokens': 27, 'total_tokens': 195}, 'tool_calls': [], 'invalid_tool_calls': []}}]}\n"
          ]
        }
      ],
      "source": [
        "for state_values in agent.stream_query(\n",
        "    input=inputs,\n",
        "    stream_mode=\"values\",\n",
        "    config={\"configurable\": {\"thread_id\": \"streaming-thread-values\"}},\n",
        "):\n",
        "    print(state_values)"
      ]
    },
    {
      "cell_type": "markdown",
      "metadata": {
        "id": "afjX7glhE4o_"
      },
      "source": [
        "Alternatively, you can stream back `updates` to the graph. These represent the changes to the state after each node is executed."
      ]
    },
    {
      "cell_type": "code",
      "execution_count": 12,
      "metadata": {
        "id": "K4IjUrV_E3pc"
      },
      "outputs": [
        {
          "name": "stdout",
          "output_type": "stream",
          "text": [
            "{'type': 'function', 'function': {'name': 'get_exchange_rate', 'description': 'Retrieves the exchange rate between two currencies on a specified date. Uses the Frankfurter API (https://api.frankfurter.app/) to obtain\\n exchange rate data.', 'parameters': {'properties': {'currency_from': {'default': 'USD', 'description': 'The base currency (3-letter currency code). Defaults to \"USD\" (US Dollar).', 'type': 'string'}, 'currency_to': {'default': 'EUR', 'description': 'The target currency (3-letter currency code). Defaults to \"EUR\" (Euro).', 'type': 'string'}, 'currency_date': {'default': 'latest', 'description': 'The date for which to retrieve the exchange rate. Defaults to \"latest\" for the most recent exchange rate data. Can be specified in YYYY-MM-DD format for historical rates.', 'type': 'string'}}, 'type': 'object'}}}\n",
            "{'agent': {'messages': [{'lc': 1, 'type': 'constructor', 'id': ['langchain', 'schema', 'messages', 'AIMessage'], 'kwargs': {'content': '', 'additional_kwargs': {'function_call': {'name': 'get_exchange_rate', 'arguments': '{\"currency_from\": \"USD\", \"currency_to\": \"SEK\"}'}}, 'response_metadata': {'is_blocked': False, 'safety_ratings': [{'category': 'HARM_CATEGORY_HATE_SPEECH', 'probability_label': 'NEGLIGIBLE', 'probability_score': 0.15234375, 'blocked': False, 'severity': 'HARM_SEVERITY_NEGLIGIBLE', 'severity_score': 0.1484375}, {'category': 'HARM_CATEGORY_DANGEROUS_CONTENT', 'probability_label': 'NEGLIGIBLE', 'probability_score': 0.2451171875, 'blocked': False, 'severity': 'HARM_SEVERITY_LOW', 'severity_score': 0.26953125}, {'category': 'HARM_CATEGORY_HARASSMENT', 'probability_label': 'NEGLIGIBLE', 'probability_score': 0.1826171875, 'blocked': False, 'severity': 'HARM_SEVERITY_NEGLIGIBLE', 'severity_score': 0.126953125}, {'category': 'HARM_CATEGORY_SEXUALLY_EXPLICIT', 'probability_label': 'NEGLIGIBLE', 'probability_score': 0.10693359375, 'blocked': False, 'severity': 'HARM_SEVERITY_NEGLIGIBLE', 'severity_score': 0.119140625}], 'usage_metadata': {'prompt_token_count': 134, 'candidates_token_count': 13, 'total_token_count': 147, 'prompt_tokens_details': [{'modality': 1, 'token_count': 134}], 'candidates_tokens_details': [{'modality': 1, 'token_count': 13}], 'cached_content_token_count': 0, 'cache_tokens_details': []}, 'finish_reason': 'STOP', 'avg_logprobs': -8.253958255339127e-08}, 'type': 'ai', 'id': 'run-3e9a5e2f-ffc4-4a0d-a49c-b2d9a87fe6fb-0', 'tool_calls': [{'name': 'get_exchange_rate', 'args': {'currency_from': 'USD', 'currency_to': 'SEK'}, 'id': 'a1d4f8d6-fcd2-4deb-9830-56d971ba8415', 'type': 'tool_call'}], 'usage_metadata': {'input_tokens': 134, 'output_tokens': 13, 'total_tokens': 147}, 'invalid_tool_calls': []}}]}}\n",
            "{'tools': {'messages': [{'lc': 1, 'type': 'constructor', 'id': ['langchain', 'schema', 'messages', 'ToolMessage'], 'kwargs': {'content': '{\"amount\": 1.0, \"base\": \"USD\", \"date\": \"2025-01-29\", \"rates\": {\"SEK\": 11.0191}}', 'type': 'tool', 'name': 'get_exchange_rate', 'id': 'd27d7010-7984-4917-9264-4eb84fa00507', 'tool_call_id': 'a1d4f8d6-fcd2-4deb-9830-56d971ba8415', 'status': 'success'}}]}}\n",
            "{'type': 'function', 'function': {'name': 'get_exchange_rate', 'description': 'Retrieves the exchange rate between two currencies on a specified date. Uses the Frankfurter API (https://api.frankfurter.app/) to obtain\\n exchange rate data.', 'parameters': {'properties': {'currency_from': {'default': 'USD', 'description': 'The base currency (3-letter currency code). Defaults to \"USD\" (US Dollar).', 'type': 'string'}, 'currency_to': {'default': 'EUR', 'description': 'The target currency (3-letter currency code). Defaults to \"EUR\" (Euro).', 'type': 'string'}, 'currency_date': {'default': 'latest', 'description': 'The date for which to retrieve the exchange rate. Defaults to \"latest\" for the most recent exchange rate data. Can be specified in YYYY-MM-DD format for historical rates.', 'type': 'string'}}, 'type': 'object'}}}\n",
            "{'agent': {'messages': [{'lc': 1, 'type': 'constructor', 'id': ['langchain', 'schema', 'messages', 'AIMessage'], 'kwargs': {'content': 'The exchange rate from US dollars to Swedish krona is 1 USD to 11.0191 SEK. \\n', 'response_metadata': {'is_blocked': False, 'safety_ratings': [{'category': 'HARM_CATEGORY_HATE_SPEECH', 'probability_label': 'NEGLIGIBLE', 'probability_score': 0.0693359375, 'blocked': False, 'severity': 'HARM_SEVERITY_NEGLIGIBLE', 'severity_score': 0.12353515625}, {'category': 'HARM_CATEGORY_DANGEROUS_CONTENT', 'probability_label': 'NEGLIGIBLE', 'probability_score': 0.1298828125, 'blocked': False, 'severity': 'HARM_SEVERITY_NEGLIGIBLE', 'severity_score': 0.1435546875}, {'category': 'HARM_CATEGORY_HARASSMENT', 'probability_label': 'NEGLIGIBLE', 'probability_score': 0.12353515625, 'blocked': False, 'severity': 'HARM_SEVERITY_NEGLIGIBLE', 'severity_score': 0.06005859375}, {'category': 'HARM_CATEGORY_SEXUALLY_EXPLICIT', 'probability_label': 'NEGLIGIBLE', 'probability_score': 0.0888671875, 'blocked': False, 'severity': 'HARM_SEVERITY_NEGLIGIBLE', 'severity_score': 0.1953125}], 'usage_metadata': {'prompt_token_count': 168, 'candidates_token_count': 27, 'total_token_count': 195, 'prompt_tokens_details': [{'modality': 1, 'token_count': 168}], 'candidates_tokens_details': [{'modality': 1, 'token_count': 27}], 'cached_content_token_count': 0, 'cache_tokens_details': []}, 'finish_reason': 'STOP', 'avg_logprobs': -0.012554474450923779}, 'type': 'ai', 'id': 'run-f58a884a-4973-49d9-b92e-f8636cc101a1-0', 'usage_metadata': {'input_tokens': 168, 'output_tokens': 27, 'total_tokens': 195}, 'tool_calls': [], 'invalid_tool_calls': []}}]}}\n"
          ]
        }
      ],
      "source": [
        "for state_updates in agent.stream_query(\n",
        "    input=inputs,\n",
        "    stream_mode=\"updates\",\n",
        "    config={\"configurable\": {\"thread_id\": \"streaming-thread-updates\"}},\n",
        "):\n",
        "    print(state_updates)"
      ]
    },
    {
      "cell_type": "markdown",
      "metadata": {
        "id": "5jOSd-DqsNW3"
      },
      "source": [
        "## Human-in-the-loop"
      ]
    },
    {
      "cell_type": "markdown",
      "metadata": {
        "id": "hRadOYCYP2V9"
      },
      "source": [
        "### Reviewing Tool Calls\n",
        "\n",
        "LangGraph's Human-in-the-Loop functionality provides various [use cases](https://langchain-ai.github.io/langgraph/concepts/human_in_the_loop/#use-cases) for incorporating human intervention and oversight into agent workflows (state machines). This notebook focuses on the [Reviewing Tool Calls](https://langchain-ai.github.io/langgraph/how-tos/human_in_the_loop/review-tool-calls/) use case."
      ]
    },
    {
      "cell_type": "markdown",
      "metadata": {
        "id": "XWpl6JK-dqSy"
      },
      "source": [
        "To achieve this, the agent needs to [interrupt](https://langchain-ai.github.io/langgraph/concepts/human_in_the_loop/#interrupt) execution in the following scenarios:\n",
        "\n",
        "* Before invoking the tool (when the LLM generates a tool call AI Message).\n",
        "* After receiving a tool response."
      ]
    },
    {
      "cell_type": "code",
      "execution_count": 56,
      "metadata": {
        "id": "-uvK9JJokfou"
      },
      "outputs": [
        {
          "name": "stdout",
          "output_type": "stream",
          "text": [
            "{'type': 'function', 'function': {'name': 'get_exchange_rate', 'description': 'Retrieves the exchange rate between two currencies on a specified date. Uses the Frankfurter API (https://api.frankfurter.app/) to obtain\\n exchange rate data.', 'parameters': {'properties': {'currency_from': {'default': 'USD', 'description': 'The base currency (3-letter currency code). Defaults to \"USD\" (US Dollar).', 'type': 'string'}, 'currency_to': {'default': 'EUR', 'description': 'The target currency (3-letter currency code). Defaults to \"EUR\" (Euro).', 'type': 'string'}, 'currency_date': {'default': 'latest', 'description': 'The date for which to retrieve the exchange rate. Defaults to \"latest\" for the most recent exchange rate data. Can be specified in YYYY-MM-DD format for historical rates.', 'type': 'string'}}, 'type': 'object'}}}\n",
            "==================================\u001b[1m Ai Message \u001b[0m==================================\n",
            "Tool Calls:\n",
            "  get_exchange_rate (6708584a-4b64-4dcb-bdab-1ba69f49e4bb)\n",
            " Call ID: 6708584a-4b64-4dcb-bdab-1ba69f49e4bb\n",
            "  Args:\n",
            "    currency_from: USD\n",
            "    currency_to: SEK\n"
          ]
        }
      ],
      "source": [
        "response = agent.query(\n",
        "    input=inputs,\n",
        "    interrupt_before=[\"tools\"],  # Before invoking the tool.\n",
        "    interrupt_after=[\"tools\"],  # After getting a tool message.\n",
        "    config={\"configurable\": {\"thread_id\": \"human-in-the-loop-deepdive\"}},\n",
        ")\n",
        "langchain_load(response[\"messages\"][-1]).pretty_print()"
      ]
    },
    {
      "cell_type": "markdown",
      "metadata": {
        "id": "-45J2HOaSfWb"
      },
      "source": [
        "The process was interrupted *before invoking the tool*.\n",
        "\n",
        "After review, we assume the LLM-generated tool call (`AI Message`) is correct and proceed to resume execution."
      ]
    },
    {
      "cell_type": "code",
      "execution_count": 57,
      "metadata": {
        "id": "4YHPNebpkfrU"
      },
      "outputs": [
        {
          "name": "stdout",
          "output_type": "stream",
          "text": [
            "=================================\u001b[1m Tool Message \u001b[0m=================================\n",
            "Name: get_exchange_rate\n",
            "\n",
            "{\"amount\": 1.0, \"base\": \"USD\", \"date\": \"2025-01-29\", \"rates\": {\"SEK\": 11.0191}}\n"
          ]
        }
      ],
      "source": [
        "response = agent.query(\n",
        "    input=None,  # Resume (continue with the tool call AI Message).\n",
        "    interrupt_before=[\"tools\"],\n",
        "    interrupt_after=[\"tools\"],\n",
        "    config={\"configurable\": {\"thread_id\": \"human-in-the-loop-deepdive\"}},\n",
        ")\n",
        "langchain_load(response[\"messages\"][-1]).pretty_print()"
      ]
    },
    {
      "cell_type": "markdown",
      "metadata": {
        "id": "gCVylqwzUSfm"
      },
      "source": [
        "The process is interrupted again *after receiving the tool message*.\n",
        "\n",
        "Upon review, if the LLM-generated `Tool Message` appears correct, we can resume execution."
      ]
    },
    {
      "cell_type": "code",
      "execution_count": 15,
      "metadata": {
        "id": "i8wAJxyykfuI"
      },
      "outputs": [
        {
          "name": "stdout",
          "output_type": "stream",
          "text": [
            "{'type': 'function', 'function': {'name': 'get_exchange_rate', 'description': 'Retrieves the exchange rate between two currencies on a specified date. Uses the Frankfurter API (https://api.frankfurter.app/) to obtain\\n exchange rate data.', 'parameters': {'properties': {'currency_from': {'default': 'USD', 'description': 'The base currency (3-letter currency code). Defaults to \"USD\" (US Dollar).', 'type': 'string'}, 'currency_to': {'default': 'EUR', 'description': 'The target currency (3-letter currency code). Defaults to \"EUR\" (Euro).', 'type': 'string'}, 'currency_date': {'default': 'latest', 'description': 'The date for which to retrieve the exchange rate. Defaults to \"latest\" for the most recent exchange rate data. Can be specified in YYYY-MM-DD format for historical rates.', 'type': 'string'}}, 'type': 'object'}}}\n",
            "==================================\u001b[1m Ai Message \u001b[0m==================================\n",
            "\n",
            "The exchange rate from US dollars to Swedish krona is 1 USD to 11.0191 SEK.\n"
          ]
        }
      ],
      "source": [
        "response = agent.query(\n",
        "    input=None,  # Resume (continue with the Tool Message).\n",
        "    interrupt_before=[\"tools\"],\n",
        "    interrupt_after=[\"tools\"],\n",
        "    config={\"configurable\": {\"thread_id\": \"human-in-the-loop-deepdive\"}},\n",
        ")\n",
        "langchain_load(response[\"messages\"][-1]).pretty_print()"
      ]
    },
    {
      "cell_type": "markdown",
      "metadata": {
        "id": "Gf0msu8l1Z6v"
      },
      "source": [
        "### Fetching State History\n",
        "\n",
        "You can fetch the state history by calling `.get_state_history`."
      ]
    },
    {
      "cell_type": "code",
      "execution_count": 16,
      "metadata": {
        "id": "7Kp9eqFv1fTA"
      },
      "outputs": [
        {
          "name": "stdout",
          "output_type": "stream",
          "text": [
            "step 3: {'configurable': {'thread_id': 'human-in-the-loop-deepdive', 'checkpoint_ns': '', 'checkpoint_id': '1efde79a-a2ce-6029-8003-bf82e3772b59'}}\n",
            "==================================\u001b[1m Ai Message \u001b[0m==================================\n",
            "\n",
            "The exchange rate from US dollars to Swedish krona is 1 USD to 11.0191 SEK.\n",
            "\n",
            "\n",
            "step 2: {'configurable': {'thread_id': 'human-in-the-loop-deepdive', 'checkpoint_ns': '', 'checkpoint_id': '1efde79a-78b6-6de1-8002-33c49cfdf22a'}}\n",
            "=================================\u001b[1m Tool Message \u001b[0m=================================\n",
            "Name: get_exchange_rate\n",
            "\n",
            "{\"amount\": 1.0, \"base\": \"USD\", \"date\": \"2025-01-29\", \"rates\": {\"SEK\": 11.0191}}\n",
            "\n",
            "\n",
            "step 1: {'configurable': {'thread_id': 'human-in-the-loop-deepdive', 'checkpoint_ns': '', 'checkpoint_id': '1efde79a-4b6e-6b3d-8001-6952abd5a7fc'}}\n",
            "==================================\u001b[1m Ai Message \u001b[0m==================================\n",
            "Tool Calls:\n",
            "  get_exchange_rate (c500fced-96c5-4c76-996c-90a0ef64ba1d)\n",
            " Call ID: c500fced-96c5-4c76-996c-90a0ef64ba1d\n",
            "  Args:\n",
            "    currency_from: USD\n",
            "    currency_to: SEK\n",
            "\n",
            "\n",
            "step 0: {'configurable': {'thread_id': 'human-in-the-loop-deepdive', 'checkpoint_ns': '', 'checkpoint_id': '1efde79a-3f96-6600-8000-926e01d4de95'}}\n",
            "================================\u001b[1m Human Message \u001b[0m=================================\n",
            "\n",
            "What is the exchange rate from US dollars to Swedish currency?\n",
            "\n",
            "\n"
          ]
        }
      ],
      "source": [
        "for state_snapshot in agent.get_state_history(\n",
        "    config={\"configurable\": {\"thread_id\": \"human-in-the-loop-deepdive\"}},\n",
        "):\n",
        "    if state_snapshot[\"metadata\"][\"step\"] >= 0:\n",
        "        print(f'step {state_snapshot[\"metadata\"][\"step\"]}: {state_snapshot[\"config\"]}')\n",
        "        state_snapshot[\"values\"][\"messages\"][-1].pretty_print()\n",
        "        print(\"\\n\")"
      ]
    },
    {
      "cell_type": "markdown",
      "metadata": {
        "id": "sg72Af3U1_Im"
      },
      "source": [
        "### Time Travel\n",
        "\n",
        "LangGraph's [Time Travel](https://langchain-ai.github.io/langgraph/how-tos/human_in_the_loop/time-travel/) demonstrates how to build a conversational agent with persistent memory, enabling human intervention to correct past actions.  Essentially, it \"rewinds\" the conversation to a previous state, allows for mistake correction, and permits the agent to continue from that corrected point.\n",
        "\n",
        "You can \"time travel\" by calling `.get_state`. By default, the agent retrieves the `latest state`."
      ]
    },
    {
      "cell_type": "code",
      "execution_count": 17,
      "metadata": {
        "id": "UxeCODgILFN3"
      },
      "outputs": [
        {
          "name": "stdout",
          "output_type": "stream",
          "text": [
            "step 3: {'configurable': {'thread_id': 'human-in-the-loop-deepdive', 'checkpoint_ns': '', 'checkpoint_id': '1efde79a-a2ce-6029-8003-bf82e3772b59'}}\n",
            "==================================\u001b[1m Ai Message \u001b[0m==================================\n",
            "\n",
            "The exchange rate from US dollars to Swedish krona is 1 USD to 11.0191 SEK.\n"
          ]
        }
      ],
      "source": [
        "state = agent.get_state(\n",
        "    config={\n",
        "        \"configurable\": {\n",
        "            \"thread_id\": \"human-in-the-loop-deepdive\",\n",
        "        }\n",
        "    }\n",
        ")\n",
        "\n",
        "print(f'step {state[\"metadata\"][\"step\"]}: {state[\"config\"]}')\n",
        "state[\"values\"][\"messages\"][-1].pretty_print()"
      ]
    },
    {
      "cell_type": "markdown",
      "metadata": {
        "id": "0dT7W34i2opn"
      },
      "source": [
        "To retrieve an earlier state, you need to specify the `checkpoint_id` (and `checkpoint_ns`)."
      ]
    },
    {
      "cell_type": "code",
      "execution_count": 18,
      "metadata": {
        "id": "wHK72zjAtbZi"
      },
      "outputs": [
        {
          "data": {
            "text/plain": [
              "{'configurable': {'thread_id': 'human-in-the-loop-deepdive',\n",
              "  'checkpoint_ns': '',\n",
              "  'checkpoint_id': '1efde79a-4b6e-6b3d-8001-6952abd5a7fc'}}"
            ]
          },
          "execution_count": 18,
          "metadata": {},
          "output_type": "execute_result"
        }
      ],
      "source": [
        "snapshot_config = {}\n",
        "for state_snapshot in agent.get_state_history(\n",
        "    config={\"configurable\": {\"thread_id\": \"human-in-the-loop-deepdive\"}},\n",
        "):\n",
        "    if state_snapshot[\"metadata\"][\"step\"] == 1:\n",
        "        snapshot_config = state_snapshot[\"config\"]\n",
        "        break\n",
        "\n",
        "snapshot_config"
      ]
    },
    {
      "cell_type": "code",
      "execution_count": 19,
      "metadata": {
        "id": "hpl-ElG72LUt"
      },
      "outputs": [
        {
          "name": "stdout",
          "output_type": "stream",
          "text": [
            "step 1: {'configurable': {'thread_id': 'human-in-the-loop-deepdive', 'checkpoint_ns': '', 'checkpoint_id': '1efde79a-4b6e-6b3d-8001-6952abd5a7fc'}}\n",
            "==================================\u001b[1m Ai Message \u001b[0m==================================\n",
            "Tool Calls:\n",
            "  get_exchange_rate (c500fced-96c5-4c76-996c-90a0ef64ba1d)\n",
            " Call ID: c500fced-96c5-4c76-996c-90a0ef64ba1d\n",
            "  Args:\n",
            "    currency_from: USD\n",
            "    currency_to: SEK\n"
          ]
        }
      ],
      "source": [
        "state = agent.get_state(config=snapshot_config)\n",
        "print(f'step {state[\"metadata\"][\"step\"]}: {state[\"config\"]}')\n",
        "state[\"values\"][\"messages\"][-1].pretty_print()"
      ]
    },
    {
      "cell_type": "code",
      "execution_count": 20,
      "metadata": {
        "id": "j86TZj1s2cGW"
      },
      "outputs": [
        {
          "data": {
            "text/plain": [
              "{'values': {'messages': [HumanMessage(content='What is the exchange rate from US dollars to Swedish currency?', additional_kwargs={}, response_metadata={}, id='4bcebac2-ea30-483f-8fa4-3ebaaa3300da'),\n",
              "   AIMessage(content='', additional_kwargs={'function_call': {'arguments': '{\"currency_from\": \"USD\", \"currency_to\": \"SEK\"}', 'name': 'get_exchange_rate'}}, response_metadata={'avg_logprobs': -1.0086337344826181e-07, 'finish_reason': 'STOP', 'is_blocked': False, 'safety_ratings': [{'blocked': False, 'category': 'HARM_CATEGORY_HATE_SPEECH', 'probability_label': 'NEGLIGIBLE', 'probability_score': 0.15234375, 'severity': 'HARM_SEVERITY_NEGLIGIBLE', 'severity_score': 0.1484375}, {'blocked': False, 'category': 'HARM_CATEGORY_DANGEROUS_CONTENT', 'probability_label': 'NEGLIGIBLE', 'probability_score': 0.2451171875, 'severity': 'HARM_SEVERITY_LOW', 'severity_score': 0.26953125}, {'blocked': False, 'category': 'HARM_CATEGORY_HARASSMENT', 'probability_label': 'NEGLIGIBLE', 'probability_score': 0.1826171875, 'severity': 'HARM_SEVERITY_NEGLIGIBLE', 'severity_score': 0.126953125}, {'blocked': False, 'category': 'HARM_CATEGORY_SEXUALLY_EXPLICIT', 'probability_label': 'NEGLIGIBLE', 'probability_score': 0.10693359375, 'severity': 'HARM_SEVERITY_NEGLIGIBLE', 'severity_score': 0.119140625}], 'usage_metadata': {'cache_tokens_details': [], 'cached_content_token_count': 0, 'candidates_token_count': 13, 'candidates_tokens_details': [{'modality': 1, 'token_count': 13}], 'prompt_token_count': 134, 'prompt_tokens_details': [{'modality': 1, 'token_count': 134}], 'total_token_count': 147}}, id='run-b5d2a8f3-cb66-4143-af6d-040ac0214b0e-0', tool_calls=[{'name': 'get_exchange_rate', 'args': {'currency_from': 'USD', 'currency_to': 'SEK'}, 'id': 'c500fced-96c5-4c76-996c-90a0ef64ba1d', 'type': 'tool_call'}], usage_metadata={'input_tokens': 134, 'output_tokens': 13, 'total_tokens': 147})]},\n",
              " 'next': ('tools',),\n",
              " 'config': {'configurable': {'thread_id': 'human-in-the-loop-deepdive',\n",
              "   'checkpoint_ns': '',\n",
              "   'checkpoint_id': '1efde79a-4b6e-6b3d-8001-6952abd5a7fc'}},\n",
              " 'metadata': {'parents': {},\n",
              "  'source': 'loop',\n",
              "  'step': 1,\n",
              "  'thread_id': 'human-in-the-loop-deepdive',\n",
              "  'writes': {'agent': {'messages': [AIMessage(content='', additional_kwargs={'function_call': {'arguments': '{\"currency_from\": \"USD\", \"currency_to\": \"SEK\"}', 'name': 'get_exchange_rate'}}, response_metadata={'avg_logprobs': -1.0086337344826181e-07, 'finish_reason': 'STOP', 'is_blocked': False, 'safety_ratings': [{'blocked': False, 'category': 'HARM_CATEGORY_HATE_SPEECH', 'probability_label': 'NEGLIGIBLE', 'probability_score': 0.15234375, 'severity': 'HARM_SEVERITY_NEGLIGIBLE', 'severity_score': 0.1484375}, {'blocked': False, 'category': 'HARM_CATEGORY_DANGEROUS_CONTENT', 'probability_label': 'NEGLIGIBLE', 'probability_score': 0.2451171875, 'severity': 'HARM_SEVERITY_LOW', 'severity_score': 0.26953125}, {'blocked': False, 'category': 'HARM_CATEGORY_HARASSMENT', 'probability_label': 'NEGLIGIBLE', 'probability_score': 0.1826171875, 'severity': 'HARM_SEVERITY_NEGLIGIBLE', 'severity_score': 0.126953125}, {'blocked': False, 'category': 'HARM_CATEGORY_SEXUALLY_EXPLICIT', 'probability_label': 'NEGLIGIBLE', 'probability_score': 0.10693359375, 'severity': 'HARM_SEVERITY_NEGLIGIBLE', 'severity_score': 0.119140625}], 'usage_metadata': {'cache_tokens_details': [], 'cached_content_token_count': 0, 'candidates_token_count': 13, 'candidates_tokens_details': [{'modality': 1, 'token_count': 13}], 'prompt_token_count': 134, 'prompt_tokens_details': [{'modality': 1, 'token_count': 134}], 'total_token_count': 147}}, id='run-b5d2a8f3-cb66-4143-af6d-040ac0214b0e-0', tool_calls=[{'name': 'get_exchange_rate', 'args': {'currency_from': 'USD', 'currency_to': 'SEK'}, 'id': 'c500fced-96c5-4c76-996c-90a0ef64ba1d', 'type': 'tool_call'}], usage_metadata={'input_tokens': 134, 'output_tokens': 13, 'total_tokens': 147})]}}},\n",
              " 'created_at': '2025-01-29T19:45:50.763470+00:00',\n",
              " 'parent_config': {'configurable': {'thread_id': 'human-in-the-loop-deepdive',\n",
              "   'checkpoint_ns': '',\n",
              "   'checkpoint_id': '1efde79a-3f96-6600-8000-926e01d4de95'}},\n",
              " 'tasks': (Task(id='3ae20aa4-5e37-83d4-b9bf-4af833d73458', name='tools', path=('__pull', 'tools'), error=None, interrupts=(), state=None, result={'messages': [ToolMessage(content='{\"amount\": 1.0, \"base\": \"USD\", \"date\": \"2025-01-29\", \"rates\": {\"SEK\": 11.0191}}', name='get_exchange_rate', tool_call_id='c500fced-96c5-4c76-996c-90a0ef64ba1d')]}),)}"
            ]
          },
          "execution_count": 20,
          "metadata": {},
          "output_type": "execute_result"
        }
      ],
      "source": [
        "state"
      ]
    },
    {
      "cell_type": "markdown",
      "metadata": {
        "id": "su91f3u02ytT"
      },
      "source": [
        "### Replay\n",
        "\n",
        "LangGraph's [Replay](https://langchain-ai.github.io/langgraph/how-tos/human_in_the_loop/time-travel/#replay-a-state) feature allows you to resume or replay a conversation from any specific point in its history.\n",
        "\n",
        "You can initiate a replay by passing the `state[\"config\"]` back to the agent. Note that the execution resumes exactly where it was left off, executing a tool call."
      ]
    },
    {
      "cell_type": "code",
      "execution_count": 21,
      "metadata": {
        "id": "-OTMr3Fe7kig"
      },
      "outputs": [
        {
          "data": {
            "text/plain": [
              "{'configurable': {'thread_id': 'human-in-the-loop-deepdive',\n",
              "  'checkpoint_ns': '',\n",
              "  'checkpoint_id': '1efde79a-4b6e-6b3d-8001-6952abd5a7fc'}}"
            ]
          },
          "execution_count": 21,
          "metadata": {},
          "output_type": "execute_result"
        }
      ],
      "source": [
        "state[\"config\"]"
      ]
    },
    {
      "cell_type": "code",
      "execution_count": 22,
      "metadata": {
        "id": "l5FfylrfrYAJ"
      },
      "outputs": [
        {
          "name": "stdout",
          "output_type": "stream",
          "text": [
            "==================================\u001b[1m Ai Message \u001b[0m==================================\n",
            "Tool Calls:\n",
            "  get_exchange_rate (c500fced-96c5-4c76-996c-90a0ef64ba1d)\n",
            " Call ID: c500fced-96c5-4c76-996c-90a0ef64ba1d\n",
            "  Args:\n",
            "    currency_from: USD\n",
            "    currency_to: SEK\n",
            "=================================\u001b[1m Tool Message \u001b[0m=================================\n",
            "Name: get_exchange_rate\n",
            "\n",
            "{\"amount\": 1.0, \"base\": \"USD\", \"date\": \"2025-01-29\", \"rates\": {\"SEK\": 11.0191}}\n",
            "{'type': 'function', 'function': {'name': 'get_exchange_rate', 'description': 'Retrieves the exchange rate between two currencies on a specified date. Uses the Frankfurter API (https://api.frankfurter.app/) to obtain\\n exchange rate data.', 'parameters': {'properties': {'currency_from': {'default': 'USD', 'description': 'The base currency (3-letter currency code). Defaults to \"USD\" (US Dollar).', 'type': 'string'}, 'currency_to': {'default': 'EUR', 'description': 'The target currency (3-letter currency code). Defaults to \"EUR\" (Euro).', 'type': 'string'}, 'currency_date': {'default': 'latest', 'description': 'The date for which to retrieve the exchange rate. Defaults to \"latest\" for the most recent exchange rate data. Can be specified in YYYY-MM-DD format for historical rates.', 'type': 'string'}}, 'type': 'object'}}}\n",
            "==================================\u001b[1m Ai Message \u001b[0m==================================\n",
            "\n",
            "The exchange rate from US dollars to Swedish krona is 1 USD to 11.0191 SEK.\n"
          ]
        }
      ],
      "source": [
        "for state_values in agent.stream_query(\n",
        "    input=None,  # resume\n",
        "    stream_mode=\"values\",\n",
        "    config=state[\"config\"],\n",
        "):\n",
        "    langchain_load(state_values[\"messages\"][-1]).pretty_print()"
      ]
    },
    {
      "cell_type": "markdown",
      "metadata": {
        "id": "RGJSM__V3zvS"
      },
      "source": [
        "### Branching\n",
        "\n",
        "LangGraph's [Branching](https://langchain-ai.github.io/langgraph/how-tos/human_in_the_loop/time-travel/#branch-off-a-past-state) feature allows you to modify and re-run a LangGraph conversation from a specific point in its history (rather than just from the latest state).  This enables the agent to explore alternate trajectories or allows a user to \"version control\" changes in a workflow.\n",
        "\n",
        "In this example, you will:\n",
        "* Update the tool calls from a previous step.\n",
        "* Call `.update_state` to rerun the step with the updated configuration."
      ]
    },
    {
      "cell_type": "code",
      "execution_count": 23,
      "metadata": {
        "id": "Is1Ca-QE8P6T"
      },
      "outputs": [
        {
          "name": "stdout",
          "output_type": "stream",
          "text": [
            "content='' additional_kwargs={'function_call': {'arguments': '{\"currency_from\": \"USD\", \"currency_to\": \"SEK\"}', 'name': 'get_exchange_rate'}} response_metadata={'avg_logprobs': -1.0086337344826181e-07, 'finish_reason': 'STOP', 'is_blocked': False, 'safety_ratings': [{'blocked': False, 'category': 'HARM_CATEGORY_HATE_SPEECH', 'probability_label': 'NEGLIGIBLE', 'probability_score': 0.15234375, 'severity': 'HARM_SEVERITY_NEGLIGIBLE', 'severity_score': 0.1484375}, {'blocked': False, 'category': 'HARM_CATEGORY_DANGEROUS_CONTENT', 'probability_label': 'NEGLIGIBLE', 'probability_score': 0.2451171875, 'severity': 'HARM_SEVERITY_LOW', 'severity_score': 0.26953125}, {'blocked': False, 'category': 'HARM_CATEGORY_HARASSMENT', 'probability_label': 'NEGLIGIBLE', 'probability_score': 0.1826171875, 'severity': 'HARM_SEVERITY_NEGLIGIBLE', 'severity_score': 0.126953125}, {'blocked': False, 'category': 'HARM_CATEGORY_SEXUALLY_EXPLICIT', 'probability_label': 'NEGLIGIBLE', 'probability_score': 0.10693359375, 'severity': 'HARM_SEVERITY_NEGLIGIBLE', 'severity_score': 0.119140625}], 'usage_metadata': {'cache_tokens_details': [], 'cached_content_token_count': 0, 'candidates_token_count': 13, 'candidates_tokens_details': [{'modality': 1, 'token_count': 13}], 'prompt_token_count': 134, 'prompt_tokens_details': [{'modality': 1, 'token_count': 134}], 'total_token_count': 147}} id='run-b5d2a8f3-cb66-4143-af6d-040ac0214b0e-0' tool_calls=[{'name': 'get_exchange_rate', 'args': {'currency_from': 'USD', 'currency_to': 'SEK'}, 'id': 'c500fced-96c5-4c76-996c-90a0ef64ba1d', 'type': 'tool_call'}] usage_metadata={'input_tokens': 134, 'output_tokens': 13, 'total_tokens': 147}\n",
            "[{'name': 'get_exchange_rate', 'args': {'currency_from': 'USD', 'currency_to': 'SEK'}, 'id': 'c500fced-96c5-4c76-996c-90a0ef64ba1d', 'type': 'tool_call'}]\n"
          ]
        }
      ],
      "source": [
        "last_message = state[\"values\"][\"messages\"][-1]\n",
        "print(last_message)\n",
        "print(last_message.tool_calls)"
      ]
    },
    {
      "cell_type": "markdown",
      "metadata": {
        "id": "rLBeJAOIcPWI"
      },
      "source": [
        "Update the tool calls from the previous step."
      ]
    },
    {
      "cell_type": "code",
      "execution_count": 24,
      "metadata": {
        "id": "jP3cHIrF8VfW"
      },
      "outputs": [
        {
          "data": {
            "text/plain": [
              "[{'name': 'get_exchange_rate',\n",
              "  'args': {'currency_from': 'USD',\n",
              "   'currency_to': 'SEK',\n",
              "   'currency_date': '2024-09-01'},\n",
              "  'id': 'c500fced-96c5-4c76-996c-90a0ef64ba1d',\n",
              "  'type': 'tool_call'}]"
            ]
          },
          "execution_count": 24,
          "metadata": {},
          "output_type": "execute_result"
        }
      ],
      "source": [
        "last_message.tool_calls[0][\"args\"][\"currency_date\"] = \"2024-09-01\"\n",
        "last_message.tool_calls"
      ]
    },
    {
      "cell_type": "markdown",
      "metadata": {
        "id": "2HZovMHe_cfX"
      },
      "source": [
        "Call `.update_state` to rerun the step with the updated configuration."
      ]
    },
    {
      "cell_type": "code",
      "execution_count": 25,
      "metadata": {
        "id": "qB45N3eL9XiP"
      },
      "outputs": [
        {
          "data": {
            "text/plain": [
              "{'configurable': {'thread_id': 'human-in-the-loop-deepdive',\n",
              "  'checkpoint_ns': '',\n",
              "  'checkpoint_id': '1efde7aa-cb29-69f8-8002-26b3c27f0570'}}"
            ]
          },
          "execution_count": 25,
          "metadata": {},
          "output_type": "execute_result"
        }
      ],
      "source": [
        "branch_config = agent.update_state(\n",
        "    config=state[\"config\"],\n",
        "    values={\"messages\": [last_message]},  # the update we want to make\n",
        ")\n",
        "branch_config"
      ]
    },
    {
      "cell_type": "code",
      "execution_count": 26,
      "metadata": {
        "id": "zWS9Sk_h9p8I"
      },
      "outputs": [
        {
          "name": "stdout",
          "output_type": "stream",
          "text": [
            "==================================\u001b[1m Ai Message \u001b[0m==================================\n",
            "Tool Calls:\n",
            "  get_exchange_rate (c500fced-96c5-4c76-996c-90a0ef64ba1d)\n",
            " Call ID: c500fced-96c5-4c76-996c-90a0ef64ba1d\n",
            "  Args:\n",
            "    currency_date: 2024-09-01\n",
            "    currency_from: USD\n",
            "    currency_to: SEK\n",
            "=================================\u001b[1m Tool Message \u001b[0m=================================\n",
            "Name: get_exchange_rate\n",
            "\n",
            "{\"amount\": 1.0, \"base\": \"USD\", \"date\": \"2024-08-30\", \"rates\": {\"SEK\": 10.2241}}\n",
            "{'type': 'function', 'function': {'name': 'get_exchange_rate', 'description': 'Retrieves the exchange rate between two currencies on a specified date. Uses the Frankfurter API (https://api.frankfurter.app/) to obtain\\n exchange rate data.', 'parameters': {'properties': {'currency_from': {'default': 'USD', 'description': 'The base currency (3-letter currency code). Defaults to \"USD\" (US Dollar).', 'type': 'string'}, 'currency_to': {'default': 'EUR', 'description': 'The target currency (3-letter currency code). Defaults to \"EUR\" (Euro).', 'type': 'string'}, 'currency_date': {'default': 'latest', 'description': 'The date for which to retrieve the exchange rate. Defaults to \"latest\" for the most recent exchange rate data. Can be specified in YYYY-MM-DD format for historical rates.', 'type': 'string'}}, 'type': 'object'}}}\n",
            "==================================\u001b[1m Ai Message \u001b[0m==================================\n",
            "\n",
            "The exchange rate from US dollars to Swedish krona on August 30, 2024 was 1 USD to 10.2241 SEK.\n"
          ]
        }
      ],
      "source": [
        "for state_values in agent.stream_query(\n",
        "    input=None,  # resume\n",
        "    stream_mode=\"values\",\n",
        "    config=branch_config,\n",
        "):\n",
        "    langchain_load(state_values[\"messages\"][-1]).pretty_print()"
      ]
    },
    {
      "cell_type": "markdown",
      "metadata": {
        "id": "iOYFDvqFGNqg"
      },
      "source": [
        "## Deploying the Agent"
      ]
    },
    {
      "cell_type": "code",
      "execution_count": 27,
      "metadata": {
        "id": "xi-3p8Wd0r4x"
      },
      "outputs": [
        {
          "name": "stderr",
          "output_type": "stream",
          "text": [
            "INFO:vertexai.reasoning_engines._reasoning_engines:Using bucket reasoning-engine-test-1-bucket\n",
            "INFO:vertexai.reasoning_engines._reasoning_engines:Writing to gs://reasoning-engine-test-1-bucket/reasoning_engine/reasoning_engine.pkl\n",
            "INFO:vertexai.reasoning_engines._reasoning_engines:Writing to gs://reasoning-engine-test-1-bucket/reasoning_engine/requirements.txt\n",
            "INFO:vertexai.reasoning_engines._reasoning_engines:Creating in-memory tarfile of extra_packages\n",
            "INFO:vertexai.reasoning_engines._reasoning_engines:Writing to gs://reasoning-engine-test-1-bucket/reasoning_engine/dependencies.tar.gz\n",
            "INFO:vertexai.reasoning_engines._reasoning_engines:Creating ReasoningEngine\n",
            "INFO:vertexai.reasoning_engines._reasoning_engines:Create ReasoningEngine backing LRO: projects/349765473021/locations/us-central1/reasoningEngines/6091030535088373760/operations/7439983864732188672\n",
            "INFO:vertexai.reasoning_engines._reasoning_engines:ReasoningEngine created. Resource name: projects/349765473021/locations/us-central1/reasoningEngines/6091030535088373760\n",
            "INFO:vertexai.reasoning_engines._reasoning_engines:To use this ReasoningEngine in another session:\n",
            "INFO:vertexai.reasoning_engines._reasoning_engines:reasoning_engine = vertexai.preview.reasoning_engines.ReasoningEngine('projects/349765473021/locations/us-central1/reasoningEngines/6091030535088373760')\n"
          ]
        },
        {
          "data": {
            "text/plain": [
              "<vertexai.reasoning_engines._reasoning_engines.ReasoningEngine object at 0x7ff84e54dd10> \n",
              "resource name: projects/349765473021/locations/us-central1/reasoningEngines/6091030535088373760"
            ]
          },
          "execution_count": 27,
          "metadata": {},
          "output_type": "execute_result"
        }
      ],
      "source": [
        "def non_ddl_checkpointer_builder(instance_id, database_id, project_id, **kwargs):\n",
        "    from langchain_google_spanner import SpannerCheckpointSaver\n",
        "\n",
        "    return SpannerCheckpointSaver(instance_id, database_id, project_id)\n",
        "\n",
        "\n",
        "remote_agent = reasoning_engines.ReasoningEngine.create(\n",
        "    reasoning_engines.LanggraphAgent(\n",
        "        model=\"gemini-1.5-pro-001\",\n",
        "        tools=[get_exchange_rate],\n",
        "        model_kwargs={\"temperature\": 0, \"max_retries\": 6},\n",
        "        checkpointer_kwargs=checkpointer_kwargs,\n",
        "        checkpointer_builder=non_ddl_checkpointer_builder,\n",
        "        # enable_tracing=True, # https://github.com/Arize-ai/openinference/issues/1119\n",
        "    ),\n",
        "    requirements=[\n",
        "        \"google-cloud-aiplatform[reasoningengine,langchain]\",\n",
        "        \"git+https://github.com/yeesian/langchain-google-spanner-python.git\",  # Optional. Remove if you are not using the Spanner checkpointer\n",
        "    ],\n",
        ")\n",
        "\n",
        "remote_agent"
      ]
    },
    {
      "cell_type": "markdown",
      "metadata": {
        "id": "gqt-TOmEGLL8"
      },
      "source": [
        "## Querying the Remote Agent\n",
        "\n",
        "**Prerequisite**: Follow the instructions at https://cloud.google.com/vertex-ai/generative-ai/docs/reasoning-engine/set-up#service-agent to grant the \"Cloud Spanner Database User\" role to your Reasoning Engine's P6SA. You also need to do the same at https://console.cloud.google.com/spanner/instances/my-instance/databases/my-database/details/tables?project=[PROJECT_ID]. Please note that it might [take some time for the permissions to propagate](https://cloud.google.com/iam/docs/access-change-propagation). For reference:\n",
        "* https://cloud.google.com/spanner/docs/reference/rest/v1/projects.instances.databases.sessions/create\n",
        "* https://cloud.google.com/spanner/docs/iam#roles\n",
        "\n",
        "Otherwise, the following cells will return empty responses, and the logs will display an error similar to: `PermissionDenied: 403 Caller is missing IAM permission spanner.sessions.create on resource`."
      ]
    },
    {
      "cell_type": "markdown",
      "metadata": {
        "id": "2g6lOlZSsdmD"
      },
      "source": [
        "### Remote testing"
      ]
    },
    {
      "cell_type": "code",
      "execution_count": 28,
      "metadata": {
        "id": "HlbK3Bsq3LlE"
      },
      "outputs": [
        {
          "name": "stdout",
          "output_type": "stream",
          "text": [
            "{'agent': {'messages': [{'lc': 1, 'type': 'constructor', 'id': ['langchain', 'schema', 'messages', 'AIMessage'], 'kwargs': {'content': '', 'additional_kwargs': {'function_call': {'name': 'get_exchange_rate', 'arguments': '{\"currency_from\": \"USD\", \"currency_to\": \"SEK\"}'}}, 'response_metadata': {'is_blocked': False, 'safety_ratings': [{'category': 'HARM_CATEGORY_HATE_SPEECH', 'probability_label': 'NEGLIGIBLE', 'probability_score': 0.15234375, 'blocked': False, 'severity': 'HARM_SEVERITY_NEGLIGIBLE', 'severity_score': 0.1484375}, {'category': 'HARM_CATEGORY_DANGEROUS_CONTENT', 'probability_label': 'NEGLIGIBLE', 'probability_score': 0.2451171875, 'blocked': False, 'severity': 'HARM_SEVERITY_LOW', 'severity_score': 0.26953125}, {'category': 'HARM_CATEGORY_HARASSMENT', 'probability_label': 'NEGLIGIBLE', 'probability_score': 0.1826171875, 'blocked': False, 'severity': 'HARM_SEVERITY_NEGLIGIBLE', 'severity_score': 0.126953125}, {'category': 'HARM_CATEGORY_SEXUALLY_EXPLICIT', 'probability_label': 'NEGLIGIBLE', 'probability_score': 0.10693359375, 'blocked': False, 'severity': 'HARM_SEVERITY_NEGLIGIBLE', 'severity_score': 0.119140625}], 'usage_metadata': {'prompt_token_count': 134, 'candidates_token_count': 13, 'total_token_count': 147, 'prompt_tokens_details': [{'modality': 1, 'token_count': 134}], 'candidates_tokens_details': [{'modality': 1, 'token_count': 13}], 'cached_content_token_count': 0, 'cache_tokens_details': []}, 'finish_reason': 'STOP', 'avg_logprobs': -7.335979017415622e-08}, 'type': 'ai', 'id': 'run-114ac2fc-deab-4f8b-85b9-8435952cd993-0', 'tool_calls': [{'name': 'get_exchange_rate', 'args': {'currency_from': 'USD', 'currency_to': 'SEK'}, 'id': '0f2e2bc9-94f7-4b16-a3e7-0034ae9679d1', 'type': 'tool_call'}], 'usage_metadata': {'input_tokens': 134, 'output_tokens': 13, 'total_tokens': 147}, 'invalid_tool_calls': []}}]}}\n",
            "{'tools': {'messages': [{'lc': 1, 'type': 'constructor', 'id': ['langchain', 'schema', 'messages', 'ToolMessage'], 'kwargs': {'content': '{\"amount\": 1.0, \"base\": \"USD\", \"date\": \"2025-01-29\", \"rates\": {\"SEK\": 11.0191}}', 'type': 'tool', 'name': 'get_exchange_rate', 'id': '8ec69e97-2d77-48e0-b31f-135db4f334ef', 'tool_call_id': '0f2e2bc9-94f7-4b16-a3e7-0034ae9679d1', 'status': 'success'}}]}}\n",
            "{'agent': {'messages': [{'lc': 1, 'type': 'constructor', 'id': ['langchain', 'schema', 'messages', 'AIMessage'], 'kwargs': {'content': 'The exchange rate from US dollars to Swedish krona is 1 USD to 11.0191 SEK. \\n', 'response_metadata': {'is_blocked': False, 'safety_ratings': [{'category': 'HARM_CATEGORY_HATE_SPEECH', 'probability_label': 'NEGLIGIBLE', 'probability_score': 0.0693359375, 'blocked': False, 'severity': 'HARM_SEVERITY_NEGLIGIBLE', 'severity_score': 0.12353515625}, {'category': 'HARM_CATEGORY_DANGEROUS_CONTENT', 'probability_label': 'NEGLIGIBLE', 'probability_score': 0.1298828125, 'blocked': False, 'severity': 'HARM_SEVERITY_NEGLIGIBLE', 'severity_score': 0.1435546875}, {'category': 'HARM_CATEGORY_HARASSMENT', 'probability_label': 'NEGLIGIBLE', 'probability_score': 0.12353515625, 'blocked': False, 'severity': 'HARM_SEVERITY_NEGLIGIBLE', 'severity_score': 0.06005859375}, {'category': 'HARM_CATEGORY_SEXUALLY_EXPLICIT', 'probability_label': 'NEGLIGIBLE', 'probability_score': 0.0888671875, 'blocked': False, 'severity': 'HARM_SEVERITY_NEGLIGIBLE', 'severity_score': 0.1953125}], 'usage_metadata': {'prompt_token_count': 168, 'candidates_token_count': 27, 'total_token_count': 195, 'prompt_tokens_details': [{'modality': 1, 'token_count': 168}], 'candidates_tokens_details': [{'modality': 1, 'token_count': 27}], 'cached_content_token_count': 0, 'cache_tokens_details': []}, 'finish_reason': 'STOP', 'avg_logprobs': -0.012874658460970278}, 'type': 'ai', 'id': 'run-de06d36f-b47c-47f3-9f64-48868be8902d-0', 'usage_metadata': {'input_tokens': 168, 'output_tokens': 27, 'total_tokens': 195}, 'tool_calls': [], 'invalid_tool_calls': []}}]}}\n"
          ]
        }
      ],
      "source": [
        "for state_updates in remote_agent.stream_query(\n",
        "    input=inputs,\n",
        "    stream_mode=\"updates\",\n",
        "    config={\"configurable\": {\"thread_id\": \"remote-streaming-thread-updates\"}},\n",
        "):\n",
        "    print(state_updates)"
      ]
    },
    {
      "cell_type": "markdown",
      "metadata": {
        "id": "04Ujj9KYmZCw"
      },
      "source": [
        "(You can verify that the corresponding data appears in https://console.cloud.google.com/spanner/instances/my-instance/databases/my-database/tables/checkpoints/details/data?project=[PROJECT_ID])"
      ]
    },
    {
      "cell_type": "code",
      "execution_count": 29,
      "metadata": {
        "id": "YQE8Rfyz1jcA"
      },
      "outputs": [
        {
          "name": "stdout",
          "output_type": "stream",
          "text": [
            "{'messages': [{'lc': 1, 'type': 'constructor', 'id': ['langchain', 'schema', 'messages', 'HumanMessage'], 'kwargs': {'content': 'What is the exchange rate from US dollars to Swedish currency?', 'type': 'human', 'id': 'd47ea4ef-512a-4197-ae2b-ba9c0b4c4adf'}}]}\n",
            "{'messages': [{'lc': 1, 'type': 'constructor', 'id': ['langchain', 'schema', 'messages', 'HumanMessage'], 'kwargs': {'content': 'What is the exchange rate from US dollars to Swedish currency?', 'type': 'human', 'id': 'd47ea4ef-512a-4197-ae2b-ba9c0b4c4adf'}}, {'lc': 1, 'type': 'constructor', 'id': ['langchain', 'schema', 'messages', 'AIMessage'], 'kwargs': {'content': '', 'additional_kwargs': {'function_call': {'name': 'get_exchange_rate', 'arguments': '{\"currency_from\": \"USD\", \"currency_to\": \"SEK\"}'}}, 'response_metadata': {'is_blocked': False, 'safety_ratings': [{'category': 'HARM_CATEGORY_HATE_SPEECH', 'probability_label': 'NEGLIGIBLE', 'probability_score': 0.15234375, 'blocked': False, 'severity': 'HARM_SEVERITY_NEGLIGIBLE', 'severity_score': 0.1484375}, {'category': 'HARM_CATEGORY_DANGEROUS_CONTENT', 'probability_label': 'NEGLIGIBLE', 'probability_score': 0.2451171875, 'blocked': False, 'severity': 'HARM_SEVERITY_LOW', 'severity_score': 0.26953125}, {'category': 'HARM_CATEGORY_HARASSMENT', 'probability_label': 'NEGLIGIBLE', 'probability_score': 0.1826171875, 'blocked': False, 'severity': 'HARM_SEVERITY_NEGLIGIBLE', 'severity_score': 0.126953125}, {'category': 'HARM_CATEGORY_SEXUALLY_EXPLICIT', 'probability_label': 'NEGLIGIBLE', 'probability_score': 0.10693359375, 'blocked': False, 'severity': 'HARM_SEVERITY_NEGLIGIBLE', 'severity_score': 0.119140625}], 'usage_metadata': {'prompt_token_count': 134, 'candidates_token_count': 13, 'total_token_count': 147, 'prompt_tokens_details': [{'modality': 1, 'token_count': 134}], 'candidates_tokens_details': [{'modality': 1, 'token_count': 13}], 'cached_content_token_count': 0, 'cache_tokens_details': []}, 'finish_reason': 'STOP', 'avg_logprobs': -4.584814387971374e-08}, 'type': 'ai', 'id': 'run-aa8721e0-b6e7-4bec-a415-88aea9370a1e-0', 'tool_calls': [{'name': 'get_exchange_rate', 'args': {'currency_from': 'USD', 'currency_to': 'SEK'}, 'id': '3f3c2891-518b-4f8b-838e-31fc65d9496a', 'type': 'tool_call'}], 'usage_metadata': {'input_tokens': 134, 'output_tokens': 13, 'total_tokens': 147}, 'invalid_tool_calls': []}}]}\n",
            "{'messages': [{'lc': 1, 'type': 'constructor', 'id': ['langchain', 'schema', 'messages', 'HumanMessage'], 'kwargs': {'content': 'What is the exchange rate from US dollars to Swedish currency?', 'type': 'human', 'id': 'd47ea4ef-512a-4197-ae2b-ba9c0b4c4adf'}}, {'lc': 1, 'type': 'constructor', 'id': ['langchain', 'schema', 'messages', 'AIMessage'], 'kwargs': {'content': '', 'additional_kwargs': {'function_call': {'name': 'get_exchange_rate', 'arguments': '{\"currency_from\": \"USD\", \"currency_to\": \"SEK\"}'}}, 'response_metadata': {'is_blocked': False, 'safety_ratings': [{'category': 'HARM_CATEGORY_HATE_SPEECH', 'probability_label': 'NEGLIGIBLE', 'probability_score': 0.15234375, 'blocked': False, 'severity': 'HARM_SEVERITY_NEGLIGIBLE', 'severity_score': 0.1484375}, {'category': 'HARM_CATEGORY_DANGEROUS_CONTENT', 'probability_label': 'NEGLIGIBLE', 'probability_score': 0.2451171875, 'blocked': False, 'severity': 'HARM_SEVERITY_LOW', 'severity_score': 0.26953125}, {'category': 'HARM_CATEGORY_HARASSMENT', 'probability_label': 'NEGLIGIBLE', 'probability_score': 0.1826171875, 'blocked': False, 'severity': 'HARM_SEVERITY_NEGLIGIBLE', 'severity_score': 0.126953125}, {'category': 'HARM_CATEGORY_SEXUALLY_EXPLICIT', 'probability_label': 'NEGLIGIBLE', 'probability_score': 0.10693359375, 'blocked': False, 'severity': 'HARM_SEVERITY_NEGLIGIBLE', 'severity_score': 0.119140625}], 'usage_metadata': {'prompt_token_count': 134, 'candidates_token_count': 13, 'total_token_count': 147, 'prompt_tokens_details': [{'modality': 1, 'token_count': 134}], 'candidates_tokens_details': [{'modality': 1, 'token_count': 13}], 'cached_content_token_count': 0, 'cache_tokens_details': []}, 'finish_reason': 'STOP', 'avg_logprobs': -4.584814387971374e-08}, 'type': 'ai', 'id': 'run-aa8721e0-b6e7-4bec-a415-88aea9370a1e-0', 'tool_calls': [{'name': 'get_exchange_rate', 'args': {'currency_from': 'USD', 'currency_to': 'SEK'}, 'id': '3f3c2891-518b-4f8b-838e-31fc65d9496a', 'type': 'tool_call'}], 'usage_metadata': {'input_tokens': 134, 'output_tokens': 13, 'total_tokens': 147}, 'invalid_tool_calls': []}}, {'lc': 1, 'type': 'constructor', 'id': ['langchain', 'schema', 'messages', 'ToolMessage'], 'kwargs': {'content': '{\"amount\": 1.0, \"base\": \"USD\", \"date\": \"2025-01-29\", \"rates\": {\"SEK\": 11.0191}}', 'type': 'tool', 'name': 'get_exchange_rate', 'id': '0a5e5129-fd6c-4a03-9926-b903a7f66cb3', 'tool_call_id': '3f3c2891-518b-4f8b-838e-31fc65d9496a', 'status': 'success'}}]}\n",
            "{'messages': [{'lc': 1, 'type': 'constructor', 'id': ['langchain', 'schema', 'messages', 'HumanMessage'], 'kwargs': {'content': 'What is the exchange rate from US dollars to Swedish currency?', 'type': 'human', 'id': 'd47ea4ef-512a-4197-ae2b-ba9c0b4c4adf'}}, {'lc': 1, 'type': 'constructor', 'id': ['langchain', 'schema', 'messages', 'AIMessage'], 'kwargs': {'content': '', 'additional_kwargs': {'function_call': {'name': 'get_exchange_rate', 'arguments': '{\"currency_from\": \"USD\", \"currency_to\": \"SEK\"}'}}, 'response_metadata': {'is_blocked': False, 'safety_ratings': [{'category': 'HARM_CATEGORY_HATE_SPEECH', 'probability_label': 'NEGLIGIBLE', 'probability_score': 0.15234375, 'blocked': False, 'severity': 'HARM_SEVERITY_NEGLIGIBLE', 'severity_score': 0.1484375}, {'category': 'HARM_CATEGORY_DANGEROUS_CONTENT', 'probability_label': 'NEGLIGIBLE', 'probability_score': 0.2451171875, 'blocked': False, 'severity': 'HARM_SEVERITY_LOW', 'severity_score': 0.26953125}, {'category': 'HARM_CATEGORY_HARASSMENT', 'probability_label': 'NEGLIGIBLE', 'probability_score': 0.1826171875, 'blocked': False, 'severity': 'HARM_SEVERITY_NEGLIGIBLE', 'severity_score': 0.126953125}, {'category': 'HARM_CATEGORY_SEXUALLY_EXPLICIT', 'probability_label': 'NEGLIGIBLE', 'probability_score': 0.10693359375, 'blocked': False, 'severity': 'HARM_SEVERITY_NEGLIGIBLE', 'severity_score': 0.119140625}], 'usage_metadata': {'prompt_token_count': 134, 'candidates_token_count': 13, 'total_token_count': 147, 'prompt_tokens_details': [{'modality': 1, 'token_count': 134}], 'candidates_tokens_details': [{'modality': 1, 'token_count': 13}], 'cached_content_token_count': 0, 'cache_tokens_details': []}, 'finish_reason': 'STOP', 'avg_logprobs': -4.584814387971374e-08}, 'type': 'ai', 'id': 'run-aa8721e0-b6e7-4bec-a415-88aea9370a1e-0', 'tool_calls': [{'name': 'get_exchange_rate', 'args': {'currency_from': 'USD', 'currency_to': 'SEK'}, 'id': '3f3c2891-518b-4f8b-838e-31fc65d9496a', 'type': 'tool_call'}], 'usage_metadata': {'input_tokens': 134, 'output_tokens': 13, 'total_tokens': 147}, 'invalid_tool_calls': []}}, {'lc': 1, 'type': 'constructor', 'id': ['langchain', 'schema', 'messages', 'ToolMessage'], 'kwargs': {'content': '{\"amount\": 1.0, \"base\": \"USD\", \"date\": \"2025-01-29\", \"rates\": {\"SEK\": 11.0191}}', 'type': 'tool', 'name': 'get_exchange_rate', 'id': '0a5e5129-fd6c-4a03-9926-b903a7f66cb3', 'tool_call_id': '3f3c2891-518b-4f8b-838e-31fc65d9496a', 'status': 'success'}}, {'lc': 1, 'type': 'constructor', 'id': ['langchain', 'schema', 'messages', 'AIMessage'], 'kwargs': {'content': 'The exchange rate from US dollars to Swedish krona is 1 USD to 11.0191 SEK. \\n', 'response_metadata': {'is_blocked': False, 'safety_ratings': [{'category': 'HARM_CATEGORY_HATE_SPEECH', 'probability_label': 'NEGLIGIBLE', 'probability_score': 0.0693359375, 'blocked': False, 'severity': 'HARM_SEVERITY_NEGLIGIBLE', 'severity_score': 0.12353515625}, {'category': 'HARM_CATEGORY_DANGEROUS_CONTENT', 'probability_label': 'NEGLIGIBLE', 'probability_score': 0.1298828125, 'blocked': False, 'severity': 'HARM_SEVERITY_NEGLIGIBLE', 'severity_score': 0.1435546875}, {'category': 'HARM_CATEGORY_HARASSMENT', 'probability_label': 'NEGLIGIBLE', 'probability_score': 0.12353515625, 'blocked': False, 'severity': 'HARM_SEVERITY_NEGLIGIBLE', 'severity_score': 0.06005859375}, {'category': 'HARM_CATEGORY_SEXUALLY_EXPLICIT', 'probability_label': 'NEGLIGIBLE', 'probability_score': 0.0888671875, 'blocked': False, 'severity': 'HARM_SEVERITY_NEGLIGIBLE', 'severity_score': 0.1953125}], 'usage_metadata': {'prompt_token_count': 168, 'candidates_token_count': 27, 'total_token_count': 195, 'prompt_tokens_details': [{'modality': 1, 'token_count': 168}], 'candidates_tokens_details': [{'modality': 1, 'token_count': 27}], 'cached_content_token_count': 0, 'cache_tokens_details': []}, 'finish_reason': 'STOP', 'avg_logprobs': -0.005745138283129092}, 'type': 'ai', 'id': 'run-cdba016e-c538-40cb-820f-437d6a6a54f1-0', 'usage_metadata': {'input_tokens': 168, 'output_tokens': 27, 'total_tokens': 195}, 'tool_calls': [], 'invalid_tool_calls': []}}]}\n"
          ]
        }
      ],
      "source": [
        "for state_values in remote_agent.stream_query(\n",
        "    input=inputs,\n",
        "    stream_mode=\"values\",\n",
        "    config={\"configurable\": {\"thread_id\": \"remote-human-in-the-loop-overall\"}},\n",
        "):\n",
        "    print(state_values)"
      ]
    },
    {
      "cell_type": "markdown",
      "metadata": {
        "id": "n7ocljPjUXYx"
      },
      "source": [
        "### Reviewing Tool Calls"
      ]
    },
    {
      "cell_type": "code",
      "execution_count": 33,
      "metadata": {
        "id": "_LB3KXTUUas7"
      },
      "outputs": [
        {
          "name": "stdout",
          "output_type": "stream",
          "text": [
            "==================================\u001b[1m Ai Message \u001b[0m==================================\n",
            "Tool Calls:\n",
            "  get_exchange_rate (51970fa6-db35-48fb-83ac-6efe9256c790)\n",
            " Call ID: 51970fa6-db35-48fb-83ac-6efe9256c790\n",
            "  Args:\n",
            "    currency_from: USD\n",
            "    currency_to: SEK\n"
          ]
        }
      ],
      "source": [
        "response = remote_agent.query(\n",
        "    input=inputs,\n",
        "    interrupt_before=[\"tools\"],  # Before invoking the tool.\n",
        "    interrupt_after=[\"tools\"],  # After getting a tool message.\n",
        "    config={\"configurable\": {\"thread_id\": \"human-in-the-loop-deepdive\"}},\n",
        ")\n",
        "langchain_load(response[\"messages\"][-1]).pretty_print()"
      ]
    },
    {
      "cell_type": "code",
      "execution_count": 34,
      "metadata": {
        "id": "smWg54uqUs0g"
      },
      "outputs": [
        {
          "name": "stdout",
          "output_type": "stream",
          "text": [
            "=================================\u001b[1m Tool Message \u001b[0m=================================\n",
            "Name: get_exchange_rate\n",
            "\n",
            "{\"amount\": 1.0, \"base\": \"USD\", \"date\": \"2025-01-29\", \"rates\": {\"SEK\": 11.0191}}\n"
          ]
        }
      ],
      "source": [
        "response = remote_agent.query(\n",
        "    input=None,  # Resume (continue with the tool call AI Message).\n",
        "    interrupt_before=[\"tools\"],\n",
        "    interrupt_after=[\"tools\"],\n",
        "    config={\"configurable\": {\"thread_id\": \"human-in-the-loop-deepdive\"}},\n",
        ")\n",
        "langchain_load(response[\"messages\"][-1]).pretty_print()"
      ]
    },
    {
      "cell_type": "code",
      "execution_count": 35,
      "metadata": {
        "id": "QRE3BCvRU0nC"
      },
      "outputs": [
        {
          "name": "stdout",
          "output_type": "stream",
          "text": [
            "{'type': 'function', 'function': {'name': 'get_exchange_rate', 'description': 'Retrieves the exchange rate between two currencies on a specified date. Uses the Frankfurter API (https://api.frankfurter.app/) to obtain\\n exchange rate data.', 'parameters': {'properties': {'currency_from': {'default': 'USD', 'description': 'The base currency (3-letter currency code). Defaults to \"USD\" (US Dollar).', 'type': 'string'}, 'currency_to': {'default': 'EUR', 'description': 'The target currency (3-letter currency code). Defaults to \"EUR\" (Euro).', 'type': 'string'}, 'currency_date': {'default': 'latest', 'description': 'The date for which to retrieve the exchange rate. Defaults to \"latest\" for the most recent exchange rate data. Can be specified in YYYY-MM-DD format for historical rates.', 'type': 'string'}}, 'type': 'object'}}}\n",
            "==================================\u001b[1m Ai Message \u001b[0m==================================\n",
            "\n",
            "The current exchange rate (as of January 29, 2025) is 1 USD to 11.0191 SEK.\n"
          ]
        }
      ],
      "source": [
        "response = agent.query(\n",
        "    input=None,  # Resume (continue with the Tool Message).\n",
        "    interrupt_before=[\"tools\"],\n",
        "    interrupt_after=[\"tools\"],\n",
        "    config={\"configurable\": {\"thread_id\": \"human-in-the-loop-deepdive\"}},\n",
        ")\n",
        "langchain_load(response[\"messages\"][-1]).pretty_print()"
      ]
    },
    {
      "cell_type": "markdown",
      "metadata": {
        "id": "2a4e033321ad"
      },
      "source": [
        "## Cleaning up\n",
        "\n",
        "After you've finished experimenting, it's a good practice to clean up your cloud resources. You can delete the deployed Reasoning Engine instance to avoid any unexpected charges on your Google Cloud account."
      ]
    },
    {
      "cell_type": "code",
      "execution_count": 54,
      "metadata": {
        "id": "eb5fbfa43866"
      },
      "outputs": [],
      "source": [
        "remote_agent.delete()"
      ]
    }
  ],
  "metadata": {
    "colab": {
      "collapsed_sections": [
        "No17Cw5hgx12",
        "R5Xep4W9lq-Z",
        "dmWOrTJ3gx13",
        "DF4l8DTdWgPY"
      ],
      "name": "tutorial_langgraph_human_in_the_loop.ipynb",
      "toc_visible": true
    },
    "kernelspec": {
      "display_name": "Python 3",
      "name": "python3"
    }
  },
  "nbformat": 4,
  "nbformat_minor": 0
}
