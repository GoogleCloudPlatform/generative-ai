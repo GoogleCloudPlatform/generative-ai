{
  "cells": [
    {
      "cell_type": "code",
      "execution_count": null,
      "metadata": {
        "id": "tuOe1ymfHZPu"
      },
      "outputs": [],
      "source": [
        "# Copyright 2025 Google LLC\n",
        "#\n",
        "# Licensed under the Apache License, Version 2.0 (the \"License\");\n",
        "# you may not use this file except in compliance with the License.\n",
        "# You may obtain a copy of the License at\n",
        "#\n",
        "#     https://www.apache.org/licenses/LICENSE-2.0\n",
        "#\n",
        "# Unless required by applicable law or agreed to in writing, software\n",
        "# distributed under the License is distributed on an \"AS IS\" BASIS,\n",
        "# WITHOUT WARRANTIES OR CONDITIONS OF ANY KIND, either express or implied.\n",
        "# See the License for the specific language governing permissions and\n",
        "# limitations under the License."
      ]
    },
    {
      "cell_type": "markdown",
      "metadata": {
        "id": "3f21741c44b3"
      },
      "source": [
        "# Grounding with Vertex AI Search\n",
        "\n",
        "<table align=\"left\">\n",
        "  <td style=\"text-align: center\">\n",
        "    <a href=\"https://colab.research.google.com/github/GoogleCloudPlatform/generative-ai/blob/main/gemini/grounding/grounding_with_vais.ipynb\">\n",
        "      <img width=\"32px\" src=\"https://www.gstatic.com/pantheon/images/bigquery/welcome_page/colab-logo.svg\" alt=\"Google Colaboratory logo\"><br> Open in Colab\n",
        "    </a>\n",
        "  </td>\n",
        "  <td style=\"text-align: center\">\n",
        "    <a href=\"https://console.cloud.google.com/vertex-ai/colab/import/https:%2F%2Fraw.githubusercontent.com%2FGoogleCloudPlatform%2Fgenerative-ai%2Fmain%2Fgemini%2Fgrounding%2Fgrounding_with_vais.ipynb\">\n",
        "      <img width=\"32px\" src=\"https://lh3.googleusercontent.com/JmcxdQi-qOpctIvWKgPtrzZdJJK-J3sWE1RsfjZNwshCFgE_9fULcNpuXYTilIR2hjwN\" alt=\"Google Cloud Colab Enterprise logo\"><br> Open in Colab Enterprise\n",
        "    </a>\n",
        "  </td>\n",
        "  <td style=\"text-align: center\">\n",
        "    <a href=\"https://console.cloud.google.com/vertex-ai/workbench/deploy-notebook?download_url=https://raw.githubusercontent.com/GoogleCloudPlatform/generative-ai/main/gemini/grounding/grounding_with_vais.ipynb\">\n",
        "      <img src=\"https://www.gstatic.com/images/branding/gcpiconscolors/vertexai/v1/32px.svg\" alt=\"Vertex AI logo\"><br> Open in Vertex AI Workbench\n",
        "    </a>\n",
        "  </td>\n",
        "  <td style=\"text-align: center\">\n",
        "    <a href=\"https://github.com/GoogleCloudPlatform/generative-ai/blob/main/gemini/grounding/grounding_with_vais.ipynb\">\n",
        "      <img width=\"32px\" src=\"https://upload.wikimedia.org/wikipedia/commons/9/91/Octicons-mark-github.svg\" alt=\"GitHub logo\"><br> View on GitHub\n",
        "    </a>\n",
        "  </td>\n",
        "</table>\n",
        "\n",
        "<div style=\"clear: both;\"></div>\n",
        "\n",
        "<b>Share to:</b>\n",
        "\n",
        "<a href=\"https://www.linkedin.com/sharing/share-offsite/?url=https%3A//github.com/GoogleCloudPlatform/generative-ai/blob/main/gemini/grounding/grounding_with_vais.ipynb\" target=\"_blank\">\n",
        "  <img width=\"20px\" src=\"https://upload.wikimedia.org/wikipedia/commons/8/81/LinkedIn_icon.svg\" alt=\"LinkedIn logo\">\n",
        "</a>\n",
        "\n",
        "<a href=\"https://bsky.app/intent/compose?text=https%3A//github.com/GoogleCloudPlatform/generative-ai/blob/main/gemini/grounding/grounding_with_vais.ipynb\" target=\"_blank\">\n",
        "  <img width=\"20px\" src=\"https://upload.wikimedia.org/wikipedia/commons/7/7a/Bluesky_Logo.svg\" alt=\"Bluesky logo\">\n",
        "</a>\n",
        "\n",
        "<a href=\"https://twitter.com/intent/tweet?url=https%3A//github.com/GoogleCloudPlatform/generative-ai/blob/main/gemini/grounding/grounding_with_vais.ipynb\" target=\"_blank\">\n",
        "  <img width=\"20px\" src=\"https://upload.wikimedia.org/wikipedia/commons/5/53/X_logo_2023_original.svg\" alt=\"X logo\">\n",
        "</a>\n",
        "\n",
        "<a href=\"https://reddit.com/submit?url=https%3A//github.com/GoogleCloudPlatform/generative-ai/blob/main/gemini/grounding/grounding_with_vais.ipynb\" target=\"_blank\">\n",
        "  <img width=\"20px\" src=\"https://redditinc.com/hubfs/Reddit%20Inc/Brand/Reddit_Logo.png\" alt=\"Reddit logo\">\n",
        "</a>\n",
        "\n",
        "<a href=\"https://www.facebook.com/sharer/sharer.php?u=https%3A//github.com/GoogleCloudPlatform/generative-ai/blob/main/gemini/grounding/grounding_with_vais.ipynb\" target=\"_blank\">\n",
        "  <img width=\"20px\" src=\"https://upload.wikimedia.org/wikipedia/commons/5/51/Facebook_f_logo_%282019%29.svg\" alt=\"Facebook logo\">\n",
        "</a>"
      ]
    },
    {
      "cell_type": "markdown",
      "metadata": {
        "id": "2a457a9fb5a8"
      },
      "source": [
        "| | |\n",
        "|-|-|\n",
        "| Author(s) |  [Diem Vu](https://github.com/diemtvu/) [Zhen Hu](https://github.com/undertwig/) |"
      ]
    },
    {
      "cell_type": "markdown",
      "metadata": {
        "id": "a10d34f145f2"
      },
      "source": [
        "## Overview\n",
        "\n",
        "This notebook demonstrates how to use Vertex AI Search for grounding Vertex LLMs.  For more general information on grounding, see [Getting Started with Grounding with Gemini in Vertex AI](./intro-grounding-gemini.ipynb).\n",
        "\n",
        "In this tutorial, we will cover:\n",
        "\n",
        "* How to create a Vertex AI Search datastore with your data.\n",
        "* Provide an example LLM request that uses this data for grounding."
      ]
    },
    {
      "cell_type": "markdown",
      "metadata": {
        "id": "2cab0c8509c9"
      },
      "source": [
        "## Get started"
      ]
    },
    {
      "cell_type": "markdown",
      "metadata": {
        "id": "uQwqEaFLHGlL"
      },
      "source": [
        "### Install Vertex AI SDK and other required packages"
      ]
    },
    {
      "cell_type": "code",
      "execution_count": null,
      "metadata": {
        "id": "6029CKnWG75v"
      },
      "outputs": [],
      "source": [
        "%pip install --upgrade --user --quiet google-cloud-aiplatform google-cloud-discoveryengine\n",
        "\n",
        "# install Google Cloud storage client library. Needed to import document to data store.\n",
        "%pip install -U google-cloud-storage"
      ]
    },
    {
      "cell_type": "markdown",
      "metadata": {
        "id": "f42d12d15616"
      },
      "source": [
        "### Restart runtime\n",
        "\n",
        "To use the newly installed packages in this Jupyter runtime, you must restart the runtime. You can do this by running the cell below, which restarts the current kernel.\n",
        "\n",
        "The restart might take a minute or longer. After it's restarted, continue to the next step."
      ]
    },
    {
      "cell_type": "code",
      "execution_count": null,
      "metadata": {
        "id": "f3d98395d9a4"
      },
      "outputs": [],
      "source": [
        "import IPython\n",
        "\n",
        "app = IPython.Application.instance()\n",
        "app.kernel.do_shutdown(True)"
      ]
    },
    {
      "cell_type": "markdown",
      "metadata": {
        "id": "ff050a2aa492"
      },
      "source": [
        "[link text](https://)<div class=\"alert alert-block alert-warning\">\n",
        "<b>⚠️ The kernel is going to restart. In Colab or Colab Enterprise, you might see an error message that says \"Your session crashed for an unknown reason.\" This is expected. Wait until it's finished before continuing to the next step. ⚠️</b>\n",
        "</div>"
      ]
    },
    {
      "cell_type": "markdown",
      "metadata": {
        "id": "fd8ca8d90aa4"
      },
      "source": [
        "### Authenticate your notebook environment (Colab only)\n",
        "\n",
        "If you're running this notebook on Google Colab, run the cell below to authenticate your environment."
      ]
    },
    {
      "cell_type": "code",
      "execution_count": null,
      "metadata": {
        "id": "9b6bfee6ba31"
      },
      "outputs": [],
      "source": [
        "import sys\n",
        "\n",
        "if \"google.colab\" in sys.modules:\n",
        "    from google.colab import auth\n",
        "\n",
        "    auth.authenticate_user()"
      ]
    },
    {
      "cell_type": "markdown",
      "metadata": {
        "id": "xu2xiyI56I17"
      },
      "source": [
        "### Set Google Cloud project information and initialize Vertex AI SDK\n",
        "\n",
        "To get started using Vertex AI, you must have an existing Google Cloud project and [enable the Vertex AI API](https://console.cloud.google.com/flows/enableapi?apiid=aiplatform.googleapis.com).\n",
        "\n",
        "Learn more about [setting up a project and a development environment](https://cloud.google.com/vertex-ai/docs/start/cloud-environment)."
      ]
    },
    {
      "cell_type": "code",
      "execution_count": null,
      "metadata": {
        "id": "b36981f9f93b"
      },
      "outputs": [],
      "source": [
        "# Use the environment variable if the user doesn't provide Project ID.\n",
        "import os\n",
        "\n",
        "PROJECT_ID = \"[your-project-id]\"  # @param {type: \"string\", placeholder: \"[your-project-id]\", isTemplate: true}\n",
        "if not PROJECT_ID or PROJECT_ID == \"[your-project-id]\":\n",
        "    PROJECT_ID = str(os.environ.get(\"GOOGLE_CLOUD_PROJECT\"))\n",
        "\n",
        "LOCATION = os.environ.get(\"GOOGLE_CLOUD_REGION\", \"us-central1\")\n",
        "\n",
        "# You also need to choose a region for your Vertex AI Search datastore.\n",
        "# Vertex AI Search is a multi-region service, supporting us, eu, and global regions.\n",
        "VAIS_LOCATION = \"global\"  # @param {type: \"string\"}"
      ]
    },
    {
      "cell_type": "markdown",
      "metadata": {
        "id": "8dbdd4e7885d"
      },
      "source": [
        "## Create Vertex AI Search engine\n",
        "\n",
        "We will create a Vertex AI Search engine index by ingesting files from Google Cloud Storage (GCS) using the SDK. To explore additional features and UI-based instructions, see the [Vertex AI Search documentation](https://cloud.google.com/enterprise-search).\n",
        "\n",
        "This involves 2 steps:\n",
        "\n",
        "1. Create a datastore (corpus) and import documents: For this demo, we will use the PDF files available at `gs://cloud-samples-data/gen-app-builder/search/alphabet-sec-filings`. You can try with your own data.\n",
        "\n",
        "2. Create `SEARCH_TIER_ENTERPRISE` engine with `SEARCH_ADD_ON_LLM` feature on top of the data store. This is essential to get high grounded generation quality."
      ]
    },
    {
      "cell_type": "code",
      "execution_count": null,
      "metadata": {
        "id": "P719DMtK8t-p"
      },
      "outputs": [],
      "source": [
        "# @title Initialize the VAIS clients\n",
        "\n",
        "import json\n",
        "import time\n",
        "\n",
        "from google.api_core.client_options import ClientOptions\n",
        "from google.cloud import storage\n",
        "import google.cloud.discoveryengine_v1 as vais\n",
        "\n",
        "client_options = (\n",
        "    ClientOptions(api_endpoint=f\"{VAIS_LOCATION}-discoveryengine.googleapis.com\")\n",
        "    if VAIS_LOCATION != \"global\"\n",
        "    else None\n",
        ")\n",
        "data_store_service_client = vais.DataStoreServiceClient(\n",
        "    client_options=client_options, credentials=scoped_credentials\n",
        ")\n",
        "document_service_client = vais.DocumentServiceClient(\n",
        "    client_options=client_options, credentials=scoped_credentials\n",
        ")\n",
        "engine_client = vais.EngineServiceClient(\n",
        "    client_options=client_options\n",
        ")\n",
        "\n",
        "def wait_for_operation_finish(operation):\n",
        "    while not operation.done:\n",
        "        time.sleep(2)  # sleep 2 seconds"
      ]
    },
    {
      "cell_type": "code",
      "execution_count": null,
      "metadata": {
        "id": "AaPZiXVwEDHZ"
      },
      "outputs": [],
      "source": [
        "# @title Create data store\n",
        "\n",
        "DATA_STORE_ID = \"your-data-store-id\"  # @param {type:\"string\"}\n",
        "\n",
        "# Create a generic search data store with unstrucuted data content.\n",
        "data_store = vais.DataStore(\n",
        "    display_name=\"Data Store for Vertex LLM Grounding demo\",\n",
        "    industry_vertical=\"GENERIC\",\n",
        "    solution_types=[\"SOLUTION_TYPE_SEARCH\"],\n",
        "    content_config=\"CONTENT_REQUIRED\",\n",
        ")\n",
        "\n",
        "create_data_store_request = vais.CreateDataStoreRequest(\n",
        "    parent=f\"projects/{PROJECT_ID}/locations/{VAIS_LOCATION}/collections/default_collection\",\n",
        "    data_store=data_store,\n",
        "    data_store_id=DATA_STORE_ID,\n",
        ")\n",
        "\n",
        "# The api returns long running operation as response.\n",
        "create_data_store_operation = data_store_service_client.create_data_store(\n",
        "    create_data_store_request\n",
        ")\n",
        "print(\n",
        "    f\"Waiting for create datastore operation to complete: {create_data_store_operation.operation.name}\"\n",
        ")\n",
        "created_data_store = create_data_store_operation.result()\n",
        "data_store_name = created_data_store.name\n",
        "print(f\"Data store {data_store_name} is created.\")"
      ]
    },
    {
      "cell_type": "code",
      "execution_count": null,
      "metadata": {
        "id": "sLxqk7cEdsbn"
      },
      "outputs": [],
      "source": [
        "# @title Ingest documents\n",
        "\n",
        "BUCKET_NAME = \"cloud-samples-data\"  # @param {type:\"string\"}\n",
        "DATA_FOLDER = \"'gen-app-builder/search/alphabet-sec-filings\" # @param {type:\"string\"}\n",
        "\n",
        "storage_client = storage.Client()\n",
        "bucket = storage_client.bucket(BUCKET_NAME)\n",
        "\n",
        "i = 1\n",
        "for blob in bucket.list_blobs(prefix=DATA_FOLDER):\n",
        "    metadata = {}\n",
        "    document = vais.Document(\n",
        "        content=vais.Document.Content(\n",
        "            mime_type=\"application/pdf\",\n",
        "            uri=f\"gs://{BUCKET_NAME}/{blob.name}\",\n",
        "        ),\n",
        "        json_data=json.dumps(metadata),\n",
        "    )\n",
        "\n",
        "    create_document_request = vais.CreateDocumentRequest(\n",
        "        parent=f\"{data_store_name}/branches/0\",\n",
        "        document_id=f\"document-{id:02d}\",\n",
        "        document=document,\n",
        "    )\n",
        "    i += 1\n",
        "    created_document = document_service_client.create_document(create_document_request)\n",
        "    document_name = created_document.name\n",
        "    created_document_names.append(document_name)\n",
        "print(f'{i} documents imported') "
      ]
    },
    {
      "cell_type": "code",
      "execution_count": null,
      "metadata": {},
      "outputs": [],
      "source": [
        "# @title [Optional] Verify documents has been imported.\n",
        "\n",
        "for doc in document_service_client.list_documents(parent=f\"{data_store_name}/branches/0\"):\n",
        "  print (doc.name)"
      ]
    },
    {
      "cell_type": "code",
      "execution_count": null,
      "metadata": {},
      "outputs": [],
      "source": [
        "# @title Create engine\n",
        "\n",
        "engine_id = f'{DATA_STORE_ID}_engine'\n",
        "create_engine_request = vais.CreateEngineRequest(\n",
        "    parent=f\"projects/{PROJECT_ID}/locations/global/collections/default_collection\",\n",
        "    engine=vais.Engine(\n",
        "        display_name=\"Engine for Vertex LLM Grounding demo\",\n",
        "        solution_type=vais.SolutionType.SOLUTION_TYPE_SEARCH,\n",
        "        search_engine_config=vais.Engine.SearchEngineConfig(\n",
        "            search_tier=vais.SearchTier.SEARCH_TIER_ENTERPRISE,\n",
        "            search_add_ons=[vais.SearchAddOn.SEARCH_ADD_ON_LLM]\n",
        "        ),\n",
        "        common_config=vais.Engine.CommonConfig(company_name='acme'),\n",
        "        industry_vertical=vais.IndustryVertical.GENERIC,\n",
        "        data_store_ids=[DATA_STORE_ID],\n",
        "    ),\n",
        "    engine_id=engine_id\n",
        ")\n",
        "engine_client.create_engine(create_engine_request)\n"
      ]
    },
    {
      "cell_type": "markdown",
      "metadata": {},
      "source": [
        "Note: It will take a few minutes to build the index. You may run a search request to test it."
      ]
    },
    {
      "cell_type": "code",
      "execution_count": null,
      "metadata": {},
      "outputs": [],
      "source": [
        "search_client = vais.SearchServiceClient(\n",
        "    client_options=client_options\n",
        ")\n",
        "search_client.search(vais.SearchRequest(\n",
        "    serving_config=(\n",
        "            f'projects/{PROJECT_ID}/locations/global/collections/default_collection/engines/{engine_id}/servingConfigs/default_search'\n",
        "        ),\n",
        "        query='What is the 2022 Q2 revenue?',\n",
        "        page_size=10,\n",
        "))"
      ]
    },
    {
      "cell_type": "markdown",
      "metadata": {
        "id": "502482711fb8"
      },
      "source": [
        "## Calling Vertex LLM grounded on your Vertex AI Search engine"
      ]
    },
    {
      "cell_type": "markdown",
      "metadata": {
        "id": "df114061bfc8"
      },
      "source": [
        "Once your engine is ready, you can use it as a grounding source in a Vertex LLM call, as shown below:"
      ]
    },
    {
      "cell_type": "code",
      "execution_count": null,
      "metadata": {
        "id": "l6vmUHS0cUd-"
      },
      "outputs": [],
      "source": [
        "import genai\n",
        "from genai.preview.generative_models import (\n",
        "    GenerationConfig,\n",
        "    GenerativeModel,\n",
        "    Tool,\n",
        "    grounding,\n",
        ")\n",
        "\n",
        "genai.init(project=PROJECT_ID, location=LOCATION)\n",
        "\n",
        "model = GenerativeModel(\"gemini-1.5-flash-001\")\n",
        "\n",
        "tool = Tool.from_retrieval(\n",
        "    grounding.Retrieval(\n",
        "        grounding.VertexAISearch(\n",
        "            engine=f'projects/{PROJECT_ID}/locations/global/collections/default_collection/engines/{engine_id}',\n",
        "        )\n",
        "    )\n",
        ")\n",
        "\n",
        "prompt = \"What is the 2022 Q2 revenue?\"\n",
        "response = model.generate_content(\n",
        "    prompt,\n",
        "    tools=[tool],\n",
        "    generation_config=GenerationConfig(\n",
        "        temperature=0.0,\n",
        "    ),\n",
        ")\n",
        "\n",
        "print(response.text)"
      ]
    },
    {
      "cell_type": "markdown",
      "metadata": {
        "id": "n7jUXKkZVOjn"
      },
      "source": [
        "## Cleaning up\n",
        "\n",
        "Delete `engine` and `dataStore` created in this tutorial"
      ]
    },
    {
      "cell_type": "code",
      "execution_count": null,
      "metadata": {},
      "outputs": [],
      "source": [
        "# Delete engine\n",
        "engine_full_resource_path = f'projects/{PROJECT_ID}/locations/global/collections/default_collection/engines/{engine_id}'\n",
        "delete_engine_operation = engine_client.delete_engine(engine_full_resource_path)\n",
        "print(\n",
        "    f\"Waiting for delete engine operation to complete: {delete_engine_operation.operation.name}\"\n",
        ")\n",
        "wait_for_operation_finish(delete_engine_operation)\n",
        "print(f\"Successfully deleted engine {engine_full_resource_path}\")"
      ]
    },
    {
      "cell_type": "code",
      "execution_count": null,
      "metadata": {
        "id": "LaAt7gOB3nId"
      },
      "outputs": [],
      "source": [
        "# Delete the data store\n",
        "data_store_full_resource_path = f'projects/{PROJECT_ID}/locations/global/collections/default_collection/dataStores/{DATA_STORE_ID}'\n",
        "delete_data_store_operation = data_store_service_client.delete_data_store(\n",
        "    name=data_store_full_resource_path\n",
        ")\n",
        "print(\n",
        "    f\"Waiting for delete data store operation to complete: {delete_data_store_operation.operation.name}\"\n",
        ")\n",
        "wait_for_operation_finish(delete_data_store_operation)\n",
        "print(f\"Successfully deleted data store {data_store_full_resource_path}\")"
      ]
    },
    {
      "cell_type": "code",
      "execution_count": null,
      "metadata": {},
      "outputs": [],
      "source": [
        "# Delete engine"
      ]
    }
  ],
  "metadata": {
    "colab": {
      "name": "grounding_with_vais.ipynb",
      "toc_visible": true
    },
    "google": {
      "image_path": "/site-assets/images/share.png",
      "keywords": [
        "examples",
        "samplecode",
        "python",
        "embed"
      ]
    },
    "kernelspec": {
      "display_name": "Python 3",
      "name": "python3"
    }
  },
  "nbformat": 4,
  "nbformat_minor": 0
}
