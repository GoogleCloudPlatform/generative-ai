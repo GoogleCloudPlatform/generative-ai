{
  "cells": [
    {
      "cell_type": "markdown",
      "metadata": {
        "id": "Tce3stUlHN0L"
      },
      "source": [
        "##### Copyright 2025 Google LLC."
      ]
    },
    {
      "cell_type": "code",
      "execution_count": null,
      "metadata": {
        "id": "tuOe1ymfHZPu"
      },
      "outputs": [],
      "source": [
        "#@title Licensed under the Apache License, Version 2.0 (the \"License\");\n",
        "# you may not use this file except in compliance with the License.\n",
        "# You may obtain a copy of the License at\n",
        "#\n",
        "# https://www.apache.org/licenses/LICENSE-2.0\n",
        "#\n",
        "# Unless required by applicable law or agreed to in writing, software\n",
        "# distributed under the License is distributed on an \"AS IS\" BASIS,\n",
        "# WITHOUT WARRANTIES OR CONDITIONS OF ANY KIND, either express or implied.\n",
        "# See the License for the specific language governing permissions and\n",
        "# limitations under the License."
      ]
    },
    {
      "cell_type": "markdown",
      "metadata": {},
      "source": [
        "# Overview\n",
        "\n",
        "This notebook demonstrates how to use Vertex AI Search for grounding Vertex LLMs.  For more general information on grounding, see [Getting Started with Grounding with Gemini in Vertex AI](./intro-grounding-gemini.ipynb).\n",
        "\n",
        "In this tutorial, we will cover:\n",
        "\n",
        "* How to create a Vertex AI Search datastore with your data.\n",
        "* Provide an example LLM request that uses this data for grounding."
      ]
    },
    {
      "cell_type": "markdown",
      "metadata": {
        "id": "7jH3FO_BDua0"
      },
      "source": [
        "## Setup\n"
      ]
    },
    {
      "cell_type": "markdown",
      "metadata": {
        "id": "uQwqEaFLHGlL"
      },
      "source": [
        "### Import the Vertex AI Search API"
      ]
    },
    {
      "cell_type": "code",
      "execution_count": null,
      "metadata": {
        "colab": {
          "base_uri": "https://localhost:8080/",
          "height": 1000
        },
        "collapsed": true,
        "id": "6029CKnWG75v",
        "outputId": "58f00126-04ca-4769-e70a-5fb1162ae34d"
      },
      "outputs": [],
      "source": [
        "# Install the Client library\n",
        "!pip install -U google-cloud-discoveryengine\n",
        "!pip install -U google-cloud-aiplatform"
      ]
    },
    {
      "cell_type": "markdown",
      "metadata": {
        "id": "G4D97GX5BRXb"
      },
      "source": [
        "## Authenticate\n",
        "\n",
        "The Vertex AI Search API lets you perform both key word search and semantic search on your own data. Since it's **your data**, this needs stricter access controls than API keys. Authenticate with OAuth with [service accounts](#service-oauth).\n",
        "\n",
        "This quickstart uses a simplified authentication approach meant for a testing environment, and service account setups are typically easier to start from. For a production environment, learn about [authentication and authorization](https://developers.google.com/workspace/guides/auth-overview){:.external} before choosing the [access credentials](https://developers.google.com/workspace/guides/create-credentials#choose_the_access_credential_that_is_right_for_you){:.external} that are appropriate for your app.\n"
      ]
    },
    {
      "cell_type": "markdown",
      "metadata": {
        "id": "Kxz_5_6xofk7"
      },
      "source": []
    },
    {
      "cell_type": "markdown",
      "metadata": {
        "id": "eLjhFIOQ7_Dk"
      },
      "source": [
        "### Setup OAuth using service accounts {:#service-oauth}\n",
        "\n",
        "Follow the steps below to setup OAuth using service accounts:\n",
        "\n",
        "\n",
        "1. Enable the [Discovery Engine API](https://console.cloud.google.com/flows/enableapi?apiid=discoveryengine.googleapis.com):{.external} (a.k.a Vertex AI Search API).\n",
        "\n",
        "<img width=400 src=\"https://ai.google.dev/tutorials/images/semantic_retriever_enable_api.png\">\n",
        "\n",
        "2. Create the Service Account by following the [documentation](https://developers.google.com/identity/protocols/oauth2/service-account#creatinganaccount).\n",
        "\n",
        " * After creating the service account, generate a service account key.\n",
        " * Grant `Discovery Engine Admin`, `GCE Storage Bucket Admin\n",
        "`, Storage Admin IAM role to the service account.\n",
        "\n",
        "<img width=400 src=\"https://ai.google.dev/tutorials/images/semantic_retriever_service_account.png\">\n",
        "\n",
        "3. Upload your service account file by using the file icon on the left sidebar, then the upload icon, as shown in the screenshot below.\n",
        "\n",
        " * Rename the uploaded file to `service_account_key.json` or change the variable `service_account_file_name` in the code below.\n",
        "\n",
        "<img width=400 src=\"https://ai.google.dev/tutorials/images/colab_upload.png\">"
      ]
    },
    {
      "cell_type": "code",
      "execution_count": null,
      "metadata": {
        "colab": {
          "base_uri": "https://localhost:8080/"
        },
        "id": "akwWUSrp8Bx2",
        "outputId": "4f0d1c58-c04d-4169-c2d5-a5cb831f6a3a"
      },
      "outputs": [],
      "source": [
        "!pip install -U google-auth-oauthlib"
      ]
    },
    {
      "cell_type": "code",
      "execution_count": null,
      "metadata": {
        "id": "2jZmqVCj8FKa"
      },
      "outputs": [],
      "source": [
        "service_account_file_name = 'cloud-ai-retail-search-test.json'\n",
        "\n",
        "from google.oauth2 import service_account\n",
        "\n",
        "credentials = service_account.Credentials.from_service_account_file(service_account_file_name)\n",
        "\n",
        "scoped_credentials = credentials.with_scopes(['https://www.googleapis.com/auth/cloud-platform'])"
      ]
    },
    {
      "cell_type": "markdown",
      "metadata": {
        "id": "xu2xiyI56I17"
      },
      "source": [
        "## Initialize client libarary"
      ]
    },
    {
      "cell_type": "markdown",
      "metadata": {
        "id": "Qqjs2tvvicqq"
      },
      "source": [
        "Initialize the client library using the service account credentials."
      ]
    },
    {
      "cell_type": "code",
      "execution_count": null,
      "metadata": {
        "id": "P719DMtK8t-p"
      },
      "outputs": [],
      "source": [
        "# @markdown Replace TODO-your-project-name with your project name.\n",
        "project = \"cloud-ai-retail-search-test\" #  @param {type:\"string\"}\n",
        "\n",
        "# @markdown Select loction, could be global, us, eu.\n",
        "location = 'global' # @param {type:\"string\"}\n",
        "\n",
        "collection = 'default_collection'\n",
        "\n",
        "# @markdown Set the engine id.\n",
        "engine_id = 'grounding_demo_engine1' # @param {type: \"string\"}\n",
        "\n",
        "# @markdown Set the datastore id.\n",
        "data_store_id='grounding_demo_datastore2' # @param {type:\"string\"}\n",
        "\n",
        "# @markdown Rename the uploaded file to `client_secret.json` Or Change the variable `client_file_name` below.\n",
        "client_file_name = \"cloud-ai-retail-search-test.json\" # @param {type:\"string\"}\n",
        "\n",
        "import google.cloud.discoveryengine_v1 as vais\n",
        "import google.cloud.discoveryengine_v1alpha as vais_v1alpha\n",
        "import google.api_core.client_options as gco\n",
        "import google.api_core.operation as operation\n",
        "import google.protobuf.any_pb2 as any_pb2\n",
        "import time\n",
        "import json\n",
        "client_options = (\n",
        "        gco.ClientOptions(api_endpoint=f\"{location}-discoveryengine.googleapis.com\")\n",
        "        if location != \"global\"\n",
        "        else None\n",
        "    )\n",
        "data_store_service_client = vais.DataStoreServiceClient(client_options=client_options, credentials=scoped_credentials)\n",
        "document_service_client = vais.DocumentServiceClient(client_options=client_options, credentials=scoped_credentials)\n",
        "\n",
        "def wait_for_operation_finish(operation):\n",
        "  while not operation.done:\n",
        "    time.sleep(2) # sleep 2 seconds\n",
        "\n"
      ]
    },
    {
      "cell_type": "markdown",
      "metadata": {
        "id": "4EQJD2PWD56T"
      },
      "source": [
        "## Create a DataStore {:#create-data-store}\n",
        "\n",
        "In order to ingest your documents and perform searches, you need to create a datastore which means corpora.\n",
        "\n",
        "Here we are creating a generic search data store with pdf documents."
      ]
    },
    {
      "cell_type": "code",
      "execution_count": null,
      "metadata": {
        "colab": {
          "base_uri": "https://localhost:8080/"
        },
        "collapsed": true,
        "id": "AaPZiXVwEDHZ",
        "outputId": "a2e20e1f-fb49-4e9a-9422-ccbc4ed1c81c"
      },
      "outputs": [],
      "source": [
        "# Create a generic serch datastore with unstrucuted data content.\n",
        "data_store = vais.DataStore(\n",
        "    display_name='Grounding Demo DataStore',\n",
        "    industry_vertical='GENERIC',\n",
        "    solution_types=['SOLUTION_TYPE_SEARCH'],\n",
        "    content_config='CONTENT_REQUIRED')\n",
        "\n",
        "create_data_store_request = vais.CreateDataStoreRequest(\n",
        "    parent=f'projects/{project}/locations/{location}/collections/{collection}',\n",
        "    data_store=data_store,\n",
        "    data_store_id=data_store_id\n",
        ")\n",
        "\n",
        "# The api returns long running operation as response.\n",
        "create_data_store_operation = data_store_service_client.create_data_store(create_data_store_request)\n",
        "print(f\"Waiting for create datastore operation to complete: {create_data_store_operation.operation.name}\")\n",
        "created_data_store = create_data_store_operation.result()\n",
        "data_store_name = created_data_store.name\n",
        "print(f'Data store {data_store_name} is created.')\n"
      ]
    },
    {
      "cell_type": "code",
      "execution_count": null,
      "metadata": {
        "colab": {
          "base_uri": "https://localhost:8080/"
        },
        "id": "8zhexURaEtVa",
        "outputId": "0eded173-c12e-4186-edbe-e52d8e72cc75"
      },
      "outputs": [],
      "source": [
        "print('Getting data store:')\n",
        "get_data_store_request = vais.GetDataStoreRequest(name=data_store_name)\n",
        "get_data_store_response = data_store_service_client.get_data_store(get_data_store_request)\n",
        "print(get_data_store_response)"
      ]
    },
    {
      "cell_type": "markdown",
      "metadata": {
        "id": "lbrLPNXRF2qP"
      },
      "source": [
        "## Create a document\n",
        "\n",
        "Upload your own documents to datastore"
      ]
    },
    {
      "cell_type": "markdown",
      "metadata": {
        "id": "eUWQpKp_dB7O"
      },
      "source": [
        "### Prepare the document in Google Cloud Storage\n",
        "\n",
        "Vertex AI search supports variaty of data sources. Here it uses google cloud strage as the example."
      ]
    },
    {
      "cell_type": "code",
      "execution_count": null,
      "metadata": {
        "colab": {
          "base_uri": "https://localhost:8080/"
        },
        "id": "KpG_0rMWddG1",
        "outputId": "a85349be-954a-4037-d893-9bfc9a0ac3d4"
      },
      "outputs": [],
      "source": [
        "# install google cloud storage client library\n",
        "!pip install -U google-cloud-storage"
      ]
    },
    {
      "cell_type": "code",
      "execution_count": null,
      "metadata": {
        "colab": {
          "base_uri": "https://localhost:8080/"
        },
        "collapsed": true,
        "id": "sLxqk7cEdsbn",
        "outputId": "e8c00c8d-17ce-4d50-f0d4-f3e787158dcb"
      },
      "outputs": [],
      "source": [
        "from google.cloud import storage\n",
        "\n",
        "# Instantiates a client\n",
        "storage_client = storage.Client(credentials=scoped_credentials)\n",
        "\n",
        "# @markdown a GCS bucket used for VAIS document ingestion\n",
        "bucket_name = \"vais-grounding-demo-bucket1\"  # @param {type:\"string\"}\n",
        "\n",
        "# Creates the new bucket\n",
        "bucket = storage_client.create_bucket(bucket_name)\n",
        "\n",
        "print(f\"Bucket {bucket.name} created.\")"
      ]
    },
    {
      "cell_type": "code",
      "execution_count": null,
      "metadata": {
        "colab": {
          "base_uri": "https://localhost:8080/"
        },
        "id": "OgiMY9LteyBg",
        "outputId": "7ca2779d-c8e1-40a0-aa5e-f85db492fdf3"
      },
      "outputs": [],
      "source": [
        "# Write the html docuements into gcs\n",
        "from urllib.request import urlopen\n",
        "import requests\n",
        "\n",
        "file_urls = [\n",
        "    \"https://abc.xyz/assets/investor/static/pdf/2022_Q1_Earnings_Transcript.pdf\",\n",
        "    \"https://abc.xyz/assets/investor/static/pdf/2022_Q2_Earnings_Transcript.pdf\",\n",
        "    \"https://abc.xyz/assets/investor/static/pdf/2022_Q3_Earnings_Transcript.pdf\",\n",
        "    \"https://abc.xyz/assets/investor/static/pdf/2022_Q4_Earnings_Transcript.pdf\"\n",
        "]\n",
        "\n",
        "bucket = storage_client.bucket(bucket_name)\n",
        "\n",
        "for url in file_urls:\n",
        "    file_name = url.split(\"/\")[-1]\n",
        "    print(f\"Downloading: {file_name}\")\n",
        "\n",
        "    try:\n",
        "        response = requests.get(url)\n",
        "        response.raise_for_status()\n",
        "\n",
        "        # Construct the full blob path (including prefix)\n",
        "        blob_name = f\"{file_name}\"\n",
        "        blob = bucket.blob(blob_name)\n",
        "\n",
        "        blob.upload_from_string(response.content)\n",
        "        print(f\"Uploaded: {blob_name}\")  # Print the uploaded blob path\n",
        "    except requests.exceptions.RequestException as e:\n",
        "        print(f\"Error downloading {file_name}: {e}\")\n"
      ]
    },
    {
      "cell_type": "code",
      "execution_count": null,
      "metadata": {
        "colab": {
          "base_uri": "https://localhost:8080/"
        },
        "id": "B1Sg6KCGlPT3",
        "outputId": "0f616819-f711-48a1-8345-c8a0bd201e5e"
      },
      "outputs": [],
      "source": [
        "# Check the crated files on GCS\n",
        "for blob in bucket.list_blobs():\n",
        "  print(blob.name)"
      ]
    },
    {
      "cell_type": "markdown",
      "metadata": {
        "id": "SjPVnF52dZw4"
      },
      "source": [
        "### Upload documents to Datastore\n",
        "\n"
      ]
    },
    {
      "cell_type": "code",
      "execution_count": null,
      "metadata": {
        "colab": {
          "base_uri": "https://localhost:8080/",
          "height": 654
        },
        "id": "AEnj3s3xdf1g",
        "outputId": "b5986786-a6e9-4e59-d486-f0d9c2400833"
      },
      "outputs": [],
      "source": [
        "# Create document with gcs file.\n",
        "\n",
        "created_document_names = []\n",
        "id = 1\n",
        "for url in file_urls:\n",
        "    file_name = url.split(\"/\")[-1]\n",
        "    metadata = {\n",
        "        'uri': url\n",
        "    }\n",
        "\n",
        "    document = vais.Document(\n",
        "        content=vais.Document.Content(\n",
        "            mime_type='application/pdf',\n",
        "            uri=f'gs://{bucket_name}/{file_name}',\n",
        "        ),\n",
        "        # meta data\n",
        "        json_data=json.dumps(metadata)\n",
        "    )\n",
        "\n",
        "    create_document_request = vais.CreateDocumentRequest(\n",
        "        parent=f'{data_store_name}/branches/0',\n",
        "        document_id=f'document-{id}',\n",
        "        document=document\n",
        "    )\n",
        "    id += 1\n",
        "    created_document = document_service_client.create_document(create_document_request)\n",
        "    document_name = created_document.name\n",
        "    created_document_names.append(document_name)\n",
        "    print(f'Document {document_name} is created:')\n",
        "    # print(created_document)\n",
        "\n"
      ]
    },
    {
      "cell_type": "code",
      "execution_count": null,
      "metadata": {
        "colab": {
          "base_uri": "https://localhost:8080/"
        },
        "id": "l6vmUHS0cUd-",
        "outputId": "6ec17322-afcd-4272-cba0-45e4df4101a1"
      },
      "outputs": [],
      "source": [
        "import vertexai\n",
        "\n",
        "from vertexai.preview.generative_models import (\n",
        "    GenerationConfig,\n",
        "    GenerativeModel,\n",
        "    Tool,\n",
        "    grounding,\n",
        ")\n",
        "\n",
        "vertexai.init(project=project, location=\"us-central1\",  credentials=scoped_credentials)\n",
        "\n",
        "model = GenerativeModel(\"gemini-1.5-flash-001\")\n",
        "\n",
        "# The datastore,documents could have < 15m delay after creation.\n",
        "tool = Tool.from_retrieval(\n",
        "    grounding.Retrieval(\n",
        "        grounding.VertexAISearch(\n",
        "            datastore=data_store_id,\n",
        "            project=project,\n",
        "            location=location,\n",
        "        )\n",
        "    )\n",
        ")\n",
        "\n",
        "prompt = \"What is the 2022 Q2 revenue?\"\n",
        "response = model.generate_content(\n",
        "    prompt,\n",
        "    tools=[tool],\n",
        "    generation_config=GenerationConfig(\n",
        "        temperature=0.0,\n",
        "    ),\n",
        ")\n",
        "\n",
        "print(response.text)"
      ]
    },
    {
      "cell_type": "markdown",
      "metadata": {
        "id": "n7jUXKkZVOjn"
      },
      "source": [
        "## Clean up\n",
        "\n",
        "Use [`DeleteCorpusRequest`](https://ai.google.dev/api/python/google/generativeai/protos/DeleteCorpusRequest) to delete a user corpus and all associated `Document`s & `Chunk`s.\n",
        "\n",
        "Note that non-empty corpora will throw an error without specifying an `force=True` flag. If you set `force=True`, any `Chunk`s and objects related to this `Document` will also be deleted.\n",
        "\n",
        "If `force=False` (the default) and the `Document` contains any `Chunk`s, a `FAILED_PRECONDITION` error will be returned."
      ]
    },
    {
      "cell_type": "code",
      "execution_count": null,
      "metadata": {
        "colab": {
          "base_uri": "https://localhost:8080/"
        },
        "id": "yAKGJwrM0Zs8",
        "outputId": "0a049c2e-52b5-4b9f-dc23-6ac91998a820"
      },
      "outputs": [],
      "source": [
        "# Delete the documents\n",
        "for document_name in created_document_names:\n",
        "  delete_document_request = vais.DeleteDocumentRequest(name=document_name)\n",
        "  document_service_client.delete_document(delete_document_request)\n",
        "  print(f'Successfully deleted docment: {document_name}')"
      ]
    },
    {
      "cell_type": "code",
      "execution_count": null,
      "metadata": {
        "colab": {
          "base_uri": "https://localhost:8080/"
        },
        "id": "LaAt7gOB3nId",
        "outputId": "23d51e24-49e8-4935-99c8-08a442cc61e1"
      },
      "outputs": [],
      "source": [
        "# Delete the data store\n",
        "delete_data_store_request = vais.DeleteDataStoreRequest(name=data_store_name)\n",
        "delete_data_store_operation = data_store_service_client.delete_data_store(delete_data_store_request)\n",
        "print(f\"Waiting for delete datastore operation to complete: {delete_data_store_operation.operation.name}\")\n",
        "wait_for_operation_finish(delete_data_store_operation)\n",
        "print(f'Successfully deleted data store {data_store_name}')"
      ]
    },
    {
      "cell_type": "markdown",
      "metadata": {
        "id": "9YGv4x9ehLba"
      },
      "source": [
        "## Appendix: Setup OAuth with user credentials {:#user-oauth}\n",
        "\n",
        "Follow the steps below from the [OAuth Quickstart](https://ai.google.dev/docs/oauth_quickstart) to setup OAuth authentication.\n",
        "\n",
        "1. [Configure the OAuth consent screen](https://ai.google.dev/docs/oauth_quickstart#configure-oauth).\n",
        "\n",
        "1. [Authorize credentials for a desktop application](https://ai.google.dev/docs/oauth_quickstart#authorize-credentials). To run this notebook in Colab, first rename your credential file (usually `client_secret_*.json`) to just `client_secret.json`. Then upload the file by using the file icon on the left sidebar, then the upload icon, as shown in the screenshot below.\n",
        "\n",
        "<img width=400 src=\"https://ai.google.dev/tutorials/images/colab_upload.png\">"
      ]
    },
    {
      "cell_type": "code",
      "execution_count": null,
      "metadata": {
        "id": "9C3X6r1dueO4"
      },
      "outputs": [],
      "source": [
        "# Replace TODO-your-project-name with the project used in the OAuth Quickstart\n",
        "project_name = \"TODO-your-project-name\" #  @param {type:\"string\"}\n",
        "# Replace TODO-your-email@gmail.com with the email added as a test user in the OAuth Quickstart\n",
        "email = \"TODO-your-email@gmail.com\" #  @param {type:\"string\"}\n",
        "# Rename the uploaded file to `client_secret.json` OR\n",
        "# Change the variable `client_file_name` in the code below.\n",
        "client_file_name = \"client_secret.json\"\n",
        "\n",
        "# IMPORTANT: Follow the instructions from the output - you must copy the command\n",
        "# to your terminal and copy the output after authentication back here.\n",
        "!gcloud config set project $project_name\n",
        "!gcloud config set account $email\n",
        "\n",
        "# NOTE: The simplified project setup in this tutorial triggers a \"Google hasn't verified this app.\" dialog.\n",
        "# This is normal, click \"Advanced\" -> \"Go to [app name] (unsafe)\"\n",
        "!gcloud auth application-default login --no-browser --client-id-file=$client_file_name --scopes=\"https://www.googleapis.com/auth/generative-language.retriever,https://www.googleapis.com/auth/cloud-platform\""
      ]
    },
    {
      "cell_type": "markdown",
      "metadata": {
        "id": "lybTOlN9gz0I"
      },
      "source": [
        "Initialize the client library and re-run the notebook starting from [Create a corpus](#create-corpus)."
      ]
    },
    {
      "cell_type": "code",
      "execution_count": null,
      "metadata": {
        "id": "9MJbDTpMmlKJ"
      },
      "outputs": [],
      "source": [
        "import google.ai.generativelanguage as glm\n",
        "\n",
        "generative_service_client = glm.GenerativeServiceClient()\n",
        "retriever_service_client = glm.RetrieverServiceClient()\n",
        "permission_service_client = glm.PermissionServiceClient()"
      ]
    }
  ],
  "metadata": {
    "colab": {
      "provenance": [],
      "toc_visible": true
    },
    "google": {
      "image_path": "/site-assets/images/share.png",
      "keywords": [
        "examples",
        "googleai",
        "samplecode",
        "python",
        "embed",
        "aqa"
      ]
    },
    "kernelspec": {
      "display_name": "Python 3",
      "name": "python3"
    }
  },
  "nbformat": 4,
  "nbformat_minor": 0
}
