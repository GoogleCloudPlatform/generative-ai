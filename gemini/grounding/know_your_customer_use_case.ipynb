{
  "cells": [
    {
      "cell_type": "code",
      "execution_count": null,
      "metadata": {
        "id": "ur8xi4C7S06n"
      },
      "outputs": [],
      "source": [
        "# Copyright 2025 Google LLC\n",
        "#\n",
        "# Licensed under the Apache License, Version 2.0 (the \"License\");\n",
        "# you may not use this file except in compliance with the License.\n",
        "# You may obtain a copy of the License at\n",
        "#\n",
        "#     https://www.apache.org/licenses/LICENSE-2.0\n",
        "#\n",
        "# Unless required by applicable law or agreed to in writing, software\n",
        "# distributed under the License is distributed on an \"AS IS\" BASIS,\n",
        "# WITHOUT WARRANTIES OR CONDITIONS OF ANY KIND, either express or implied.\n",
        "# See the License for the specific language governing permissions and\n",
        "# limitations under the License."
      ]
    },
    {
      "cell_type": "markdown",
      "metadata": {
        "id": "JAPoU8Sm5E6e"
      },
      "source": [
        "# Know Your Customer Use Case - Gemini Grounding with Google Search \n",
        "\n",
        "<table align=\"left\">\n",
        "  <td style=\"text-align: center\">\n",
        "    <a href=\"https://colab.research.google.com/github/GoogleCloudPlatform/generative-ai/blob/main/gemini/grounding/know_your_customer_use_case.ipynb\">\n",
        "      <img width=\"32px\" src=\"https://www.gstatic.com/pantheon/images/bigquery/welcome_page/colab-logo.svg\" alt=\"Google Colaboratory logo\"><br> Open in Colab\n",
        "    </a>\n",
        "  </td>\n",
        "  <td style=\"text-align: center\">\n",
        "    <a href=\"https://console.cloud.google.com/vertex-ai/colab/import/https:%2F%2Fraw.githubusercontent.com%2FGoogleCloudPlatform%2Fgenerative-ai%2Fmain%2Fgemini%2Fgrounding%2Fknow_your_customer_use_case.ipynb\">\n",
        "      <img width=\"32px\" src=\"https://lh3.googleusercontent.com/JmcxdQi-qOpctIvWKgPtrzZdJJK-J3sWE1RsfjZNwshCFgE_9fULcNpuXYTilIR2hjwN\" alt=\"Google Cloud Colab Enterprise logo\"><br> Open in Colab Enterprise\n",
        "    </a>\n",
        "  </td>\n",
        "  <td style=\"text-align: center\">\n",
        "    <a href=\"https://console.cloud.google.com/vertex-ai/workbench/deploy-notebook?download_url=https://raw.githubusercontent.com/GoogleCloudPlatform/generative-ai/main/gemini/grounding/know_your_customer_use_case.ipynb\">\n",
        "      <img src=\"https://www.gstatic.com/images/branding/gcpiconscolors/vertexai/v1/32px.svg\" alt=\"Vertex AI logo\"><br> Open in Vertex AI Workbench\n",
        "    </a>\n",
        "  </td>\n",
        "  <td style=\"text-align: center\">\n",
        "    <a href=\"https://github.com/GoogleCloudPlatform/generative-ai/blob/main/gemini/grounding/know_your_customer_use_case.ipynb\">\n",
        "      <img width=\"32px\" src=\"https://www.svgrepo.com/download/217753/github.svg\" alt=\"GitHub logo\"><br> View on GitHub\n",
        "    </a>\n",
        "  </td>\n",
        "</table>\n",
        "\n",
        "<div style=\"clear: both;\"></div>\n",
        "\n",
        "<b>Share to:</b>\n",
        "\n",
        "<a href=\"https://www.linkedin.com/sharing/share-offsite/?url=https%3A//github.com/GoogleCloudPlatform/generative-ai/blob/main/gemini/grounding/know_your_customer_use_case.ipynb\" target=\"_blank\">\n",
        "  <img width=\"20px\" src=\"https://upload.wikimedia.org/wikipedia/commons/8/81/LinkedIn_icon.svg\" alt=\"LinkedIn logo\">\n",
        "</a>\n",
        "\n",
        "<a href=\"https://bsky.app/intent/compose?text=https%3A//github.com/GoogleCloudPlatform/generative-ai/blob/main/gemini/grounding/know_your_customer_use_case.ipynb\" target=\"_blank\">\n",
        "  <img width=\"20px\" src=\"https://upload.wikimedia.org/wikipedia/commons/7/7a/Bluesky_Logo.svg\" alt=\"Bluesky logo\">\n",
        "</a>\n",
        "\n",
        "<a href=\"https://twitter.com/intent/tweet?url=https%3A//github.com/GoogleCloudPlatform/generative-ai/blob/main/gemini/grounding/know_your_customer_use_case.ipynb\" target=\"_blank\">\n",
        "  <img width=\"20px\" src=\"https://upload.wikimedia.org/wikipedia/commons/5/5a/X_icon_2.svg\" alt=\"X logo\">\n",
        "</a>\n",
        "\n",
        "<a href=\"https://reddit.com/submit?url=https%3A//github.com/GoogleCloudPlatform/generative-ai/blob/main/gemini/grounding/know_your_customer_use_case.ipynb\" target=\"_blank\">\n",
        "  <img width=\"20px\" src=\"https://redditinc.com/hubfs/Reddit%20Inc/Brand/Reddit_Logo.png\" alt=\"Reddit logo\">\n",
        "</a>\n",
        "\n",
        "<a href=\"https://www.facebook.com/sharer/sharer.php?u=https%3A//github.com/GoogleCloudPlatform/generative-ai/blob/main/gemini/grounding/know_your_customer_use_case.ipynb\" target=\"_blank\">\n",
        "  <img width=\"20px\" src=\"https://upload.wikimedia.org/wikipedia/commons/5/51/Facebook_f_logo_%282019%29.svg\" alt=\"Facebook logo\">\n",
        "</a>"
      ]
    },
    {
      "cell_type": "markdown",
      "metadata": {
        "id": "84f0f73a0f76"
      },
      "source": [
        "| Author(s) |\n",
        "| --- |\n",
        "| [Lukas Geiger](https://github.com/ljogeiger) |"
      ]
    },
    {
      "cell_type": "markdown",
      "metadata": {
        "id": "tvgnzT1CKxrO"
      },
      "source": [
        "## Overview\n",
        "\n",
        "This notebook demonstrates how to use the Gemini API (specifically the `gemini-2.5-flash-preview-05-20` model) to find and summarize negative news articles related to a specified entity. The entity can be a person, company, or ship. The notebook leverages Google Search as a tool for the Gemini API to ground its responses in real-world information.\n",
        "\n",
        "You will learn how to:\n",
        "* Configure the Gemini API client.\n",
        "* Define a detailed system instruction to guide the model's behavior.\n",
        "* Craft a prompt that incorporates an input entity.\n",
        "* Use Google Search as a grounding tool for the model.\n",
        "* Process the model's response to extract the generated text and grounding metadata (sources).\n",
        "* Evaluate the responses using GCP's Evaluation Framework and create custom metrics.\n",
        "\n",
        "## Use Case Definition\n",
        "\"Know Your Customer\" (KYC) is a crucial due diligence process used by businesses, particularly in regulated industries, to verify the identity of their clients and assess potential risks associated with doing business with them. The primary goal of KYC is to prevent financial crimes like money laundering, terrorist financing, and fraud.\n",
        "\n",
        "For example, imagine you are evaluating candidates for a board seat. As part of this process you might choose to do a background check to evaluate whether or not the candidate has been involved in any illegal activities. Then based on the report recieved you can make a more informed decision whether to proceed with the candidate or not. This can be applied to many other use cases and across many entity types (companies, people, vessels, governments, etc.)"
      ]
    },
    {
      "cell_type": "markdown",
      "metadata": {
        "id": "61RBz8LLbxCR"
      },
      "source": [
        "## Get started"
      ]
    },
    {
      "cell_type": "markdown",
      "metadata": {
        "id": "No17Cw5hgx12"
      },
      "source": [
        "### Install Google Gen AI SDK and other required packages\n",
        "The following command installs the Google Generative AI SDK, which is necessary to interact with the Gemini API."
      ]
    },
    {
      "cell_type": "code",
      "execution_count": 4,
      "metadata": {
        "id": "tFy3H3aPgx12"
      },
      "outputs": [
        {
          "name": "stdout",
          "output_type": "stream",
          "text": [
            "\n",
            "\u001b[1m[\u001b[0m\u001b[34;49mnotice\u001b[0m\u001b[1;39;49m]\u001b[0m\u001b[39;49m A new release of pip is available: \u001b[0m\u001b[31;49m24.3.1\u001b[0m\u001b[39;49m -> \u001b[0m\u001b[32;49m25.1.1\u001b[0m\n",
            "\u001b[1m[\u001b[0m\u001b[34;49mnotice\u001b[0m\u001b[1;39;49m]\u001b[0m\u001b[39;49m To update, run: \u001b[0m\u001b[32;49mpip install --upgrade pip\u001b[0m\n",
            "Note: you may need to restart the kernel to use updated packages.\n"
          ]
        }
      ],
      "source": [
        "%pip install --upgrade --quiet google-genai"
      ]
    },
    {
      "cell_type": "markdown",
      "metadata": {
        "id": "dmWOrTJ3gx13"
      },
      "source": [
        "### Authenticate your notebook environment (Colab only)\n",
        "\n",
        "If you're running this notebook on Google Colab, run the cell below to authenticate your environment. This allows the notebook to access Google Cloud services."
      ]
    },
    {
      "cell_type": "code",
      "execution_count": 20,
      "metadata": {
        "id": "NyKGtVQjgx13"
      },
      "outputs": [],
      "source": [
        "import sys\n",
        "\n",
        "if \"google.colab\" in sys.modules:\n",
        "    from google.colab import auth\n",
        "\n",
        "    auth.authenticate_user()"
      ]
    },
    {
      "cell_type": "markdown",
      "metadata": {
        "id": "c19f5974a642"
      },
      "source": [
        "### Authenticate your notebook environment"
      ]
    },
    {
      "cell_type": "code",
      "execution_count": 5,
      "metadata": {
        "id": "1307a625f802"
      },
      "outputs": [
        {
          "name": "stdout",
          "output_type": "stream",
          "text": [
            "Your browser has been opened to visit:\n",
            "\n",
            "    https://accounts.google.com/o/oauth2/auth?response_type=code&client_id=764086051850-6qr4p6gpi6hn506pt8ejuq83di341hur.apps.googleusercontent.com&redirect_uri=http%3A%2F%2Flocalhost%3A8085%2F&scope=openid+https%3A%2F%2Fwww.googleapis.com%2Fauth%2Fuserinfo.email+https%3A%2F%2Fwww.googleapis.com%2Fauth%2Fcloud-platform+https%3A%2F%2Fwww.googleapis.com%2Fauth%2Fsqlservice.login&state=1h2sdOeajXwcwzljRXbnPAwBUyOnqX&access_type=offline&code_challenge=m3lx5FuUs7225dpS8vrfq2RrkKmr34x0ZiMXezySHrc&code_challenge_method=S256\n",
            "\n",
            "\n",
            "Credentials saved to file: [/Users/lukasgeiger/.config/gcloud/application_default_credentials.json]\n",
            "\n",
            "These credentials will be used by any library that requests Application Default Credentials (ADC).\n",
            "\n",
            "Quota project \"sandbox-aiml\" was added to ADC which can be used by Google client libraries for billing and quota. Note that some services may still bill the project owning the resource.\n",
            "\n",
            "\n",
            "Updates are available for some Google Cloud CLI components.  To install them,\n",
            "please run:\n",
            "  $ gcloud components update\n",
            "\n"
          ]
        }
      ],
      "source": [
        "!gcloud auth application-default login"
      ]
    },
    {
      "cell_type": "markdown",
      "metadata": {
        "id": "DF4l8DTdWgPY"
      },
      "source": [
        "### Set Google Cloud project information and Initialize API Client\n",
        "\n",
        "To get started using Vertex AI (which hosts the Gemini models used here), you must have an existing Google Cloud project and [enable the Vertex AI API](https://console.cloud.google.com/flows/enableapi?apiid=aiplatform.googleapis.com).\n",
        "\n",
        "Learn more about [setting up a project and a development environment](https://cloud.google.com/vertex-ai/docs/start/cloud-environment).\n",
        "\n",
        "This cell also initializes the `genai.Client` which will be used to interact with the Gemini API."
      ]
    },
    {
      "cell_type": "code",
      "execution_count": null,
      "metadata": {
        "id": "Nqwi-5ufWp_B"
      },
      "outputs": [],
      "source": [
        "import os\n",
        "\n",
        "from google import genai\n",
        "\n",
        "PROJECT_ID = \"[your-project-id]\"  # @param {type: \"string\", placeholder: \"[your-project-id]\", isTemplate: true}\n",
        "if not PROJECT_ID or PROJECT_ID == \"[your-project-id]\":\n",
        "    # Attempt to get project ID from environment variable if not set by user\n",
        "    PROJECT_ID = str(os.environ.get(\"GOOGLE_CLOUD_PROJECT\"))\n",
        "    if not PROJECT_ID or PROJECT_ID == \"None\":\n",
        "        raise ValueError(\"Please set your Google Cloud Project ID.\")\n",
        "print(f\"Using Project ID: {PROJECT_ID}\")\n",
        "\n",
        "LOCATION = os.environ.get(\n",
        "    \"GOOGLE_CLOUD_REGION\", \"us-central1\"\n",
        ")  # Default to us-central1 if not set\n",
        "print(f\"Using Location: {LOCATION}\")\n",
        "\n",
        "# Initialize the Google GenAI client\n",
        "client = genai.Client(vertexai=True, project=PROJECT_ID, location=LOCATION)"
      ]
    },
    {
      "cell_type": "markdown",
      "metadata": {
        "id": "5303c05f7aa6"
      },
      "source": [
        "### Import libraries\n",
        "Import necessary libraries, including `google.genai.types` for defining specific configurations for the API call, and `IPython.display` for better rendering of markdown in the notebook."
      ]
    },
    {
      "cell_type": "code",
      "execution_count": 7,
      "metadata": {
        "id": "6fc324893334"
      },
      "outputs": [],
      "source": [
        "import json  # Though not used in the final script, often useful for handling API responses\n",
        "\n",
        "from IPython.display import Markdown, display\n",
        "from google.genai import types"
      ]
    },
    {
      "cell_type": "markdown",
      "metadata": {
        "id": "EdvJRUWRNGHE"
      },
      "source": [
        "## Generating Negative News Reports with Gemini"
      ]
    },
    {
      "cell_type": "markdown",
      "metadata": {
        "id": "e43229f3ad4f"
      },
      "source": [
        "### Load model\n",
        "Specify the model ID to be used. We are using `gemini-2.5-flash-preview-05-20`, a fast and versatile model with reasoning capabilities."
      ]
    },
    {
      "cell_type": "code",
      "execution_count": 8,
      "metadata": {
        "id": "cf93d5f0ce00"
      },
      "outputs": [],
      "source": [
        "MODEL_ID = \"gemini-2.5-flash-preview-05-20\"  # @param {type:\"string\"}"
      ]
    },
    {
      "cell_type": "markdown",
      "metadata": {
        "id": "new_markdown_cell_prompt_system"
      },
      "source": [
        "### Define Prompt Template and System Instructions\n",
        "\n",
        "**System Instructions:** These provide high-level guidance to the model on its role, the desired output format, and steps to follow. We instruct the model to act as a professional report generator for negative news, to search thoroughly, cite dates, and handle cases where no negative news is found. A list of specific activities is provided to focus the search.\n",
        "\n",
        "**Prompt Template:** This is the specific query sent to the model for each entity. It includes a placeholder `{entity}` which will be filled in with the actual entity name during execution."
      ]
    },
    {
      "cell_type": "code",
      "execution_count": 9,
      "metadata": {
        "id": "new_code_cell_prompt_system_def"
      },
      "outputs": [],
      "source": [
        "prompt_template = \"\"\"\n",
        "Your task is to provide a comprehensive and professional report of negative news articles for a given input entity. The input entity can be a person, company, or ship.\n",
        "\n",
        "Input Entity:\n",
        "{input_entity}\n",
        "\n",
        "Activities:\n",
        "Money Laundering\n",
        "Forgery\n",
        "Bribery and Corruption\n",
        "Human Trafficking\n",
        "\n",
        "Follow these steps:\n",
        "\n",
        "1.  If the input entity is a company, map it to its legal business name.\n",
        "2.  Thoroughly search Google News for negative news articles related to the input entity and the specified activities across all time.\n",
        "3.  Summarize and interpret the Google Search results for the given input entity and each activity. If there are no results for a given activity, skip it.\n",
        "4.  For each activity with search results, create a headline that summarizes the event.\n",
        "5.  Group the search results under the corresponding headline, including the date of each news article.\n",
        "6.  For person names, strictly follow the entity names.\n",
        "7.  If there are no negative news articles associated with the input entity, respond with: \"There are no results found for {input_entity}.\"\n",
        "\n",
        "\n",
        "Output Format:\n",
        "\n",
        "Headline: [Summary of the event]\n",
        "Date: [Date of the news article]\n",
        "Summary: [Brief summary of the news article]\n",
        "\n",
        "Example:\n",
        "\n",
        "Headline: John Doe Accused of Money Laundering\\n\n",
        "Date: 2023-01-15\\n\n",
        "Summary: John Doe is accused of laundering money through offshore accounts, according to a report by the International Consortium of Investigative Journalists.\n",
        "\n",
        "Ensure that the report is comprehensive, accurate, and professionally presented.\n",
        "\"\"\"\n",
        "\n",
        "system_instructions_text = \"\"\"\n",
        "You are a professional news analyst tasked with providing comprehensive reports on negative news articles related to a given entity. Your reports must be thorough, accurate, and professionally presented.\n",
        "\"\"\""
      ]
    },
    {
      "cell_type": "markdown",
      "metadata": {
        "id": "new_markdown_cell_helpers"
      },
      "source": [
        "### Helper Function to Get Sources\n",
        "The `get_sources` function processes the `grounding_metadata` from the model's response. This metadata contains information about the web pages the model used to generate its answer (when using Google Search as a tool). The function extracts titles and URLs for these sources and formats them for display. This is crucial for verifying the information provided by the model."
      ]
    },
    {
      "cell_type": "code",
      "execution_count": 10,
      "metadata": {
        "id": "new_code_cell_get_sources"
      },
      "outputs": [],
      "source": [
        "def get_sources(response):\n",
        "    \"\"\"Return a formatted string of sources corresponding with response citations\"\"\"\n",
        "    source_text = \"\\n\\n**Sources:**\\n\"\n",
        "    if not response.candidates or not response.candidates[0].grounding_metadata:\n",
        "        return source_text + \"No grounding metadata found.\\n\"\n",
        "\n",
        "    metadata = response.candidates[0].grounding_metadata\n",
        "    sources = {}\n",
        "    source_titles = {}\n",
        "    max_chunk_index = -1\n",
        "\n",
        "    if not metadata.grounding_supports:\n",
        "        return source_text + \"No grounding supports found in metadata.\\n\"\n",
        "\n",
        "    for support in metadata.grounding_supports:\n",
        "        for chunk_index in support.grounding_chunk_indices:\n",
        "            display_chunk_index = chunk_index + 1  # offset 0 list index\n",
        "            if display_chunk_index > max_chunk_index:\n",
        "                max_chunk_index = display_chunk_index\n",
        "            if display_chunk_index not in source_titles and chunk_index < len(\n",
        "                metadata.grounding_chunks\n",
        "            ):\n",
        "                chunk = metadata.grounding_chunks[chunk_index]\n",
        "                source_titles[display_chunk_index] = chunk.web.title\n",
        "                sources[display_chunk_index] = chunk.web.uri  # Corrected to use uri\n",
        "            elif chunk_index >= len(metadata.grounding_chunks):\n",
        "                print(\n",
        "                    f\"Warning: chunk_index {chunk_index} out of bounds for grounding_chunks (len: {len(metadata.grounding_chunks)}).\"\n",
        "                )\n",
        "    sorted_source_titles = dict(sorted(source_titles.items()))\n",
        "\n",
        "    if sources:\n",
        "        for i in sorted_source_titles:\n",
        "            source_text += f\"[[{i}] {sorted_source_titles[i]}]({sources[i]})\\n\"\n",
        "    else:\n",
        "        source_text += \"No sources extracted from grounding metadata.\\n\"\n",
        "\n",
        "    # Debugging information (optional, can be commented out)\n",
        "    # print(f\"Max Chunk Index: {max_chunk_index}\")\n",
        "    # print(f\"Length of GroundingChunks: {len(metadata.grounding_chunks)}\")\n",
        "    return source_text"
      ]
    },
    {
      "cell_type": "markdown",
      "metadata": {
        "id": "new_markdown_cell_generate_func"
      },
      "source": [
        "### Define Generation Function\n",
        "The `generate_negative_news_report` function encapsulates the logic for calling the Gemini API. It takes an entity string and the system instructions text as input.\n",
        "Key configurations:\n",
        "* **`model`**: Uses the `MODEL_ID` defined earlier.\n",
        "* **`contents`**: The user prompt, formatted with the specific entity.\n",
        "* **`tools`**: Configured to use `types.GoogleSearch()`, enabling the model to perform Google searches to find relevant information.\n",
        "* **`generate_content_config`**: \n",
        "    * `temperature=1`, `top_p=0.95`: These parameters control the randomness and creativity of the output. Higher temperature and top_p values lead to more diverse responses.\n",
        "    * `max_output_tokens=8192`: Sets the maximum length of the generated response.\n",
        "    * `response_modalities=[\"TEXT\"]`: Specifies that we expect a text response.\n",
        "    * **`safety_settings`**: **Important Note:** All harm categories (`HATE_SPEECH`, `DANGEROUS_CONTENT`, `SEXUALLY_EXPLICIT`, `HARASSMENT`) are set to `\"OFF\"`. This is done to ensure the model can retrieve and report on potentially sensitive topics related to negative news. However, in a production environment or for other use cases, you should carefully consider and configure appropriate safety settings based on your application's requirements and responsible AI practices.\n",
        "    * `system_instruction`: The detailed instructions for the model's task.\n",
        "\n",
        "The function calls `client.models.generate_content` and returns the API response."
      ]
    },
    {
      "cell_type": "code",
      "execution_count": 11,
      "metadata": {
        "id": "new_code_cell_generate_def"
      },
      "outputs": [],
      "source": [
        "def generate_kyc_report(entity_name: str, system_instructions: str):\n",
        "    current_prompt = prompt_template.format(input_entity=entity_name)\n",
        "    contents = [current_prompt]\n",
        "\n",
        "    tools = [\n",
        "        types.Tool(google_search=types.GoogleSearch()),\n",
        "    ]\n",
        "\n",
        "    generate_content_config = types.GenerateContentConfig(\n",
        "        temperature=1,\n",
        "        top_p=0.95,\n",
        "        max_output_tokens=8192,\n",
        "        response_modalities=[\"TEXT\"],  # Expect text modality output\n",
        "        safety_settings=[\n",
        "            types.SafetySetting(\n",
        "                category=\"HARM_CATEGORY_HATE_SPEECH\", threshold=\"BLOCK_NONE\"\n",
        "            ),  # Using new enums if applicable, else use \"OFF\"\n",
        "            types.SafetySetting(\n",
        "                category=\"HARM_CATEGORY_DANGEROUS_CONTENT\", threshold=\"BLOCK_NONE\"\n",
        "            ),\n",
        "            types.SafetySetting(\n",
        "                category=\"HARM_CATEGORY_SEXUALLY_EXPLICIT\", threshold=\"BLOCK_NONE\"\n",
        "            ),\n",
        "            types.SafetySetting(\n",
        "                category=\"HARM_CATEGORY_HARASSMENT\", threshold=\"BLOCK_NONE\"\n",
        "            ),\n",
        "        ],\n",
        "        tools=tools,\n",
        "        system_instruction=types.Content(\n",
        "            parts=[types.Part(text=system_instructions)]\n",
        "        ),  # System instructions should be Content object\n",
        "        thinking_config=types.ThinkingConfig(\n",
        "            include_thoughts=True,\n",
        "        ),\n",
        "    )\n",
        "\n",
        "    print(f\"\\n--- Generating report for: {entity_name} ---\")\n",
        "    response = client.models.generate_content(\n",
        "        model=MODEL_ID,  # Fully qualified model name\n",
        "        contents=contents,\n",
        "        config=generate_content_config,  # Parameter name is generation_config\n",
        "    )\n",
        "\n",
        "    return response"
      ]
    },
    {
      "cell_type": "markdown",
      "metadata": {
        "id": "new_markdown_cell_run"
      },
      "source": [
        "### Define Entities and Run Analysis\n",
        "Define a list of entities for which to generate reports. The code then iterates through this list, calls the `generate_negative_news_report` function for each entity, and displays the model's text response along with the extracted sources. Using `display(Markdown(...))` helps in rendering the output in a more readable format."
      ]
    },
    {
      "cell_type": "code",
      "execution_count": 12,
      "metadata": {
        "id": "new_code_cell_run_analysis"
      },
      "outputs": [
        {
          "name": "stdout",
          "output_type": "stream",
          "text": [
            "\n",
            "--- Generating report for: Volkswagen ---\n"
          ]
        },
        {
          "data": {
            "text/markdown": [
              "**Model Thoughts:**"
            ],
            "text/plain": [
              "<IPython.core.display.Markdown object>"
            ]
          },
          "metadata": {},
          "output_type": "display_data"
        },
        {
          "data": {
            "text/markdown": [
              "**Commencing Initial Search**\n",
              "\n",
              "I've begun by querying Google News for \"Volkswagen\" and \"Money Laundering.\" Next, I'll search for \"Volkswagen\" combined with \"Forgery\" to broaden the scope. The initial focus is on gathering raw data, then I will extract the most salient facts.\n",
              "\n",
              "\n"
            ],
            "text/plain": [
              "<IPython.core.display.Markdown object>"
            ]
          },
          "metadata": {},
          "output_type": "display_data"
        },
        {
          "data": {
            "text/markdown": [
              "**Structuring the Findings**\n",
              "\n",
              "I've reviewed the information and have a clear path forward. I'll combine the \"Dieselgate\" articles into a single, cohesive summary under \"Forgery,\" and include the \"fake name change\" there as well. This will streamline the presentation. The rest of the categories seem straightforward to present separately.\n",
              "\n",
              "\n"
            ],
            "text/plain": [
              "<IPython.core.display.Markdown object>"
            ]
          },
          "metadata": {},
          "output_type": "display_data"
        },
        {
          "data": {
            "text/markdown": [
              "**Model Response:**"
            ],
            "text/plain": [
              "<IPython.core.display.Markdown object>"
            ]
          },
          "metadata": {},
          "output_type": "display_data"
        },
        {
          "data": {
            "text/markdown": [
              "Here is a comprehensive report of negative news articles for Volkswagen:\n",
              "\n",
              "### **Money Laundering**\n",
              "\n",
              "Headline: Board Member of Volkswagen's Controlling Shareholder Charged in Money Laundering Probe\n",
              "Date: 2023-06-07\n",
              "Summary: Siegfried Wolf, an Austrian businessman and member of the supervisory board of Porsche SE (which controls Volkswagen Group), was charged by an Austrian court on suspicion of money laundering. The charges are linked to the purchase of Eurofighter jets two decades prior.\n",
              "\n",
              "### **Forgery**\n",
              "\n",
              "Headline: Volkswagen's Dieselgate Scandal: Massive Fraud and Emissions Test Manipulation\n",
              "Date: 2015-09-20\n",
              "Summary: Volkswagen admitted to installing \"deceptive software\" in approximately 11 million diesel vehicles worldwide to cheat on emissions tests, reducing nitrogen oxide emissions during testing but allowing higher emissions during normal driving. This \"Dieselgate\" scandal has resulted in billions of dollars in fines, legal settlements, and recalls globally, leading to a significant impact on the company's finances and reputation.\n",
              "\n",
              "Headline: Volkswagen of America Issued Fake Statement About Name Change\n",
              "Date: 2021-03-30\n",
              "Summary: Volkswagen of America issued false statements claiming it would change its brand name to \"Voltswagen\" to emphasize its commitment to electric vehicles. The company later admitted it was a pre-April Fool's Day joke, which was seen as an unusual and misleading act for a major public company, particularly given its efforts to repair its image after the Dieselgate scandal.\n",
              "\n",
              "### **Bribery and Corruption**\n",
              "\n",
              "Headline: Volkswagen South Africa Fleet Administrator Sentenced for R12 Million Fraud and Corruption Scheme\n",
              "Date: 2024-07-18\n",
              "Summary: Christo de Jager, a former fleet administrator at Volkswagen South Africa (VWSA), was sentenced to 15 years in jail for fraud and corruption. De Jager was found guilty of siphoning over R12 million from the company between November 2014 and April 2021 by approving fraudulent invoices for vehicle repair work in collusion with an external body repair shop.\n",
              "\n",
              "Headline: Volkswagen's Scania Uncovers Bribery for Bus Contracts in India\n",
              "Date: 2021-03-11\n",
              "Summary: Scania, Volkswagen AG's Swedish truck brand, investigated and found evidence that its employees in India were involved in bribing local officials to secure bus contracts. As a result, managers potentially involved have left the company, and Scania has stopped selling buses in India.\n",
              "\n",
              "Headline: Volkswagen Rocked by Sex, Bribes, and Corruption Scandal\n",
              "Date: 2005-07-18\n",
              "Summary: An internal scandal involving sex, bribery, and corruption deeply affected Volkswagen. Allegations included a former personnel manager procuring prostitutes for labor representatives and billing the company, as well as instances of underhanded deals and a network of front companies used for private transactions.\n",
              "\n",
              "### **Human Trafficking**\n",
              "\n",
              "Headline: Volkswagen Under Investigation for Alleged Slave Labor and Human Trafficking During Brazil's Military Dictatorship\n",
              "Date: 2022-05-30\n",
              "Summary: Volkswagen Group faces accusations of \"slavery\" practices and human trafficking in Brazil during the country's military dictatorship from 1974 to 1986. Brazilian authorities are investigating alleged systematic human rights violations on a Volkswagen-owned cattle farm in the Amazon, with the company summoned to appear before a labor court.\n",
              "\n",
              "Headline: Volkswagen Exits Uyghur Region Amid Forced Labor Allegations\n",
              "Date: 2024-10-31\n",
              "Summary: Volkswagen officially sold its plant in China's Uyghur region, a significant move after years of scrutiny and allegations of Uyghur forced labor in the area. While Volkswagen cited economic factors, the decision follows sustained pressure from human rights organizations and lawmakers regarding systemic abuses against Uyghur Muslims, which constitute a form of human trafficking."
            ],
            "text/plain": [
              "<IPython.core.display.Markdown object>"
            ]
          },
          "metadata": {},
          "output_type": "display_data"
        },
        {
          "data": {
            "text/markdown": [
              "\n",
              "\n",
              "**Sources:**\n",
              "[[1] amlintelligence.com](https://vertexaisearch.cloud.google.com/grounding-api-redirect/AbF9wXG-xbzFc2gHgIS_0kBoLiDouDfh2abwFyIze3Bfd5PEp6rpAGgyDSgUoQjj-3OIyN7fejVV4ZgAwuBkV7fsLwguO3BYRIkHMjeSP8CHadm73WsIIHAkbE5tpCy7SyXmFxCm_iUvrnHud-Q1WFj3OmJ-djWb3FWNekTM7W5IgaZSZZeq7v0vLBaEQjr5Qj1C5bgQhvnarAVianYMMXecE81wRmDomEBrOFKlojdi5rfXtqVKz5dbqrCxAzPq18i6lygZSao=)\n",
              "[[2] upet.ro](https://vertexaisearch.cloud.google.com/grounding-api-redirect/AbF9wXF5-cUzGIhi2mQqR2vC7_OIFgHiDohBXOIMC-JnHdpUTSriL0x1hdt4KHBGnM4Tk-9lhNT0MUbplx15A-0pi2cizZY5gY2Mwi63Vj5U5VCPOFmGKSbdU8jBtX6pZoVgYlYeiackHHEb7NwO4ZIFg6lWD37Q_co=)\n",
              "[[3] apnews.com](https://vertexaisearch.cloud.google.com/grounding-api-redirect/AbF9wXHFfaclVrHKJD_gZdWRw5ziDOuB0gM5ytuEpPeAFkApcppfYvOtXGfnNudc3zfza5GXwLQytZy6xOXQ3c_vRlmnybPGUEoMqRHoIQawD0dW99u_shdGOS-70DuUbPVtPnZv0mD9nL62oBNGYCddLn4JuOI14iLwCMLKbMk=)\n",
              "[[4] propublica.org](https://vertexaisearch.cloud.google.com/grounding-api-redirect/AbF9wXEKS5w_KWMix-oRDxSJLSU4Gh_KCUA3qXv7RPisLqsxJG2Dk2y2M9sHIbg67PqfN-WdDDlWpTMzKolfvznbQehpDR8kU0tB78BKol7Sr8r8eETFrPOAllr3tGCYMQLSK8M9xj1hCLd5tc087EOeSOH1Zqyo4U46jIldVlIojM0xH_-M_kelftq4zzRSQXt6mV3FoUQd)\n",
              "[[5] wikipedia.org](https://vertexaisearch.cloud.google.com/grounding-api-redirect/AbF9wXFORR7tuyhsyIwJo6RAvE4p6r9j2HodSviuk7OZ_oqtQ3dwVvqqwkzDJN9jKmqsYA8LOAIYiQCvcPT-dd6ibqv50rDHjSqJmYNMm_a99QGJPShRRPh2c2ZCUHljEmDsDmeU1i2ZBQ1d-Gf9zqyLutd4mQ_iCVA=)\n",
              "[[6] young-lawgroup.com](https://vertexaisearch.cloud.google.com/grounding-api-redirect/AbF9wXFmjkNAb4ZrklLEbhYdfnx6rwJ3KrK8g690fZ_VNUGF5n6_UYqBMlzd7TzG9smGJoQj3CSYfeXL--z94R0xX5bVxRVFaUAdTJuHpnFaBBSDocBy0d8TEYKL6i0I67dQzp68RJHS1W9u9KY2_JZJF1ZMHMYHfvo9MA8v)\n",
              "[[7] esgdive.com](https://vertexaisearch.cloud.google.com/grounding-api-redirect/AbF9wXG-1zv_GYff_9aEbxZ9lcA_LpNl0jHo11RReSk5E6utsTAqJyc8PhVKpOR2Ks2_-R1jvasgjkZF8v0lxB_amj07XOvDujbs2Ob8CT1rX5x654yxT4e8KrJgabe4fkaxw5txsyhQpYxo8S4WaEwmz9ceLMxM_-R17wg3sd4aDEb43ecYr-wHFC5spByqivRBq3Iapl7APoOUnEuuYFSSRkzy_6qI)\n",
              "[[8] aljazeera.com](https://vertexaisearch.cloud.google.com/grounding-api-redirect/AbF9wXES2oldfA_mZcoX2l9De7tGylGyVUz5vNqmArHrw_-TqodSDLaXtH-xvyouGrL4B-NzuCbmJz1oy1aZkzgzV1dcK0V8w_jlo_vLnhCoI5zZ_KnDpIrddGUt4DnXlFjTshiuOkRf_8HSApMUKaJhFcvvIsBnu4vt3rjl0UCNuIOwTsdNP50vYFHKktgZH4PEjCJ4U6P-MmSf21w=)\n",
              "[[9] ndtv.com](https://vertexaisearch.cloud.google.com/grounding-api-redirect/AbF9wXGv69aOGKJ1fXjCIExj1gkFzdX9sI98p7ozu5QAu08usrm-hndQqRRHzYSNKXiU-FazYYucBqO81PtiMykm16wOQILqTUMMn0orN92M0XJ2edlcGmIyPGksiHtgqQAENFmKp2fFcnw=)\n",
              "[[10] courthousenews.com](https://vertexaisearch.cloud.google.com/grounding-api-redirect/AbF9wXGsO_phEtGaslK1jI1em5134YAF5iUqhfL2saw7gRl3Gc1Eifcs67sAiPZD5TLDjbLSFRVQCTzn72uUDGw7_xTM22CjC06_QAcIYYEc2lQiCc1Bj_TRGDesiOIzwUTkg2tEaBPtZKiEDKVxad98P9Y1EOLujhSYGagxy82RuGeg8l0LcQJepCwVKLvZ2h_Go-bsY915ItiMstuDcws=)\n",
              "[[11] iol.co.za](https://vertexaisearch.cloud.google.com/grounding-api-redirect/AbF9wXGVKtt4OxRLgGUNV33Q5XpiVkrvXeBjH2MVlfU-N07JPc4cBRDHJ4AOC950H--5Vg1mU1BuUfINGWvqRKjEbsXY5CGS7X-SyPXe0MpH4yMKuCJMZlTko2320gFKQb-FfdOlR7y1ue1dZuZSCnpWbNIAYFL7VctHjWFlUD8VDLMgN-HLC0e4wXqxp_0BX8tTUOoZ51T1pUlvThtOQkdp-HdQBFTFO2ZIVVm1VP_UTJBH9luXVcuH3SQz5kvuUqAOLRs=)\n",
              "[[12] business-standard.com](https://vertexaisearch.cloud.google.com/grounding-api-redirect/AbF9wXEfz4p0fEZFNXmInj-fkN_gFOjZrlUBuks7HtLWwez622x3Dlf-23wmEB6Q5D9uYA7Y1TPwyayCkgZUYRNBRtbY4fvUFTejP_232J9cM0uLZ5tPKoNo7hi3Pz51NFf1e2Go80-dsPlBksFPWmrkyStbosKND-DtoQhAuQmwmHE7YiyAmvzu2-_ffT7TrUeO9wYk-RhEXrwKMppc7FyXzmesohiRWZxAmrf8ClcrvH3I8SyVmj1FsXmvH4oP1Y5rfzWW5Gxv-M8CEi-B)\n",
              "[[13] spiegel.de](https://vertexaisearch.cloud.google.com/grounding-api-redirect/AbF9wXGrANH_u697ubt3hMKwYLRFhbIZ2vRPCZBRQCQetk72h-eR8QSHSsWq03zXx7PlAIbf-ivfoZJpRbxFO9EWfIsTF8S__a-yfVEZpRmP9k1D0-UNi6D7KL8KdNek7JdrXk_csVnKuuk7yazsCw7zsQuBh24nwUVwg8AD3oiCkHvcZ9GVEfD-yRrNdgzFhA1le1Wap2SLCU5f9JV5S2PWVX5NBRmHZyVtn3pb1UAiJs5KZOdHwwjBczz4LHkRUu4JmVxLc1Z9jZPPYE3QCYPRetYbgkbC)\n",
              "[[14] business-humanrights.org](https://vertexaisearch.cloud.google.com/grounding-api-redirect/AbF9wXFGMn36mDyG9aTIiF7qG9mzrl7TPKSdA62JzL5gkxMyqHseb1EYhiqWR700iaKUVuK2BLtNy_E-erk5I3_qdrCqlhAO8N0uCdMaiwkGuAJZ-dnAixe2Eedcev5d-CJ39UOcU-9w-c479prppz1QvDDloDPM4ES-0zEC14lsByb8pNBKI4zBu6ric8RpKjeMWFfBManUs1bkZby4FRmAikX3lkpGlm-BEIzfl7jYw07pkHBSOxDhszDzRvDYDG3exuI=)\n",
              "[[15] scmp.com](https://vertexaisearch.cloud.google.com/grounding-api-redirect/AbF9wXEHiav3EODEmP1PDnDLe2SyY6qWd8-M0LS6WZT0CiNZU40O40B8i8emRTNHfCIp-cDvL30Bnm6g-4qqBgaVyGa3gmLRlTPqeWCPtUCOuBtcYHsU7DernM17cP5ExVawBahj37BmvmcGOCcIuum9azNABIbbLi-wuwUgihnW5b-68pORBJNzMXr0uTFj4cIFSPF4HFPua0NRTUBO85BIbz_YOa6DaVcxWmQVnHQmFbXj22FY)\n",
              "[[16] humantraffickingsearch.org](https://vertexaisearch.cloud.google.com/grounding-api-redirect/AbF9wXHWEo2tFGEXuUZqe3WVxlXj60i2-W1hBKY8sxM6Mr9t-Hu9IfXdtpvNb523oDGfXK7TvOuvFfp2E8Che7vKlrWoPv2VQnA4k3-j5oDJ4Xmm-X4BpM1QSmBKfWR0v3GHXZoPyiFhT3R_bY3y6nOC-HXaHx3nsp1w80GzsQGiWLdNbVmeQDjJzpaS6lbdqSh9dz77qs2XX-72X4UgK1Br)\n",
              "[[17] freedomunited.org](https://vertexaisearch.cloud.google.com/grounding-api-redirect/AbF9wXHlnv4eW4-zqc7ZY4LxkqJ0hAIHRMKQIPVroQaQye4FLc-VVEK_BhohfZdhjGGQUN6wHwlztSgarUdFYgDazX5NTXM-sVLPBriEp7KRI11MiIKvqm7MeoHNGECaXMWI4zwFdBPdbvZWMwU9vffte_f7BgWLaY41JIOWq8VXY8tGlIg=)\n"
            ],
            "text/plain": [
              "<IPython.core.display.Markdown object>"
            ]
          },
          "metadata": {},
          "output_type": "display_data"
        },
        {
          "name": "stdout",
          "output_type": "stream",
          "text": [
            "------------------------------------------------------\n",
            "\n",
            "--- Generating report for: Robert Burke ---\n"
          ]
        },
        {
          "data": {
            "text/markdown": [
              "**Model Thoughts:**"
            ],
            "text/plain": [
              "<IPython.core.display.Markdown object>"
            ]
          },
          "metadata": {},
          "output_type": "display_data"
        },
        {
          "data": {
            "text/markdown": [
              "**Analyzing the Request**\n",
              "\n",
              "I've parsed the request and am breaking down the tasks. First, I must search Google News using specific keywords. Next, I will extract and organize the information for a report. I'll also account for the scenario where no results are found. This feels like a well-defined project.\n",
              "\n",
              "\n"
            ],
            "text/plain": [
              "<IPython.core.display.Markdown object>"
            ]
          },
          "metadata": {},
          "output_type": "display_data"
        },
        {
          "data": {
            "text/markdown": [
              "**Assessing Search Results**\n",
              "\n",
              "I've thoroughly reviewed the search output to correlate activities with Robert Burke. Bribery and corruption allegations against Admiral Robert Burke are clear and well-documented. \"Robert Lee Burke\" appears in connection with a falsification charge, necessitating careful consideration of possible misidentification. There's no compelling evidence linking the admiral or any other Robert Burke to money laundering or human trafficking based on this data.\n",
              "\n",
              "\n"
            ],
            "text/plain": [
              "<IPython.core.display.Markdown object>"
            ]
          },
          "metadata": {},
          "output_type": "display_data"
        },
        {
          "data": {
            "text/markdown": [
              "**Analyzing Report Generation**\n",
              "\n",
              "\\n\\n\n",
              "\n",
              "I've now outlined the report structure. The \"Bribery and Corruption\" section is solid, drawing from the confirmed conviction details. The \"Forgery\" section will incorporate the \"Robert Lee Burke\" falsification case, with a caveat about the distinction. Finally, I'll explicitly state the lack of findings for \"Money Laundering & Human Trafficking\" for a complete and accurate report. I am now poised to execute the report's generation.\n",
              "\n",
              "\n"
            ],
            "text/plain": [
              "<IPython.core.display.Markdown object>"
            ]
          },
          "metadata": {},
          "output_type": "display_data"
        },
        {
          "data": {
            "text/markdown": [
              "**Model Response:**"
            ],
            "text/plain": [
              "<IPython.core.display.Markdown object>"
            ]
          },
          "metadata": {},
          "output_type": "display_data"
        },
        {
          "data": {
            "text/markdown": [
              "Here is a comprehensive report of negative news articles for the input entity Robert Burke:\n",
              "\n",
              "**Headline: Retired Four-Star US Navy Admiral Robert Burke Convicted in Major Bribery Scheme**\n",
              "\n",
              "Date: 2025-05-19, 2025-05-20, 2025-05-21, 2025-05-22\n",
              "\n",
              "Summary: Retired four-star U.S. Navy Admiral Robert Burke, 62, was found guilty of bribery and conspiracy charges following a five-day federal trial in Washington, D.C.. Burke was convicted of steering lucrative government contracts to a company called Next Jump in exchange for a high-paying post-retirement job with the firm, which he began in October 2022 with a yearly salary of $500,000 and 100,000 stock options.. The charges include conspiracy to commit bribery, bribery, performing acts affecting a personal financial interest, and concealing material facts from the United States. Prosecutors stated that Burke misused his position, which included overseeing U.S. naval operations in Europe, Russia, and most of Africa from 2020 to 2022, to benefit financially. He allegedly ordered his staff to award a $355,000 contract to Company A (Next Jump) to train personnel in Italy and Spain, and later attempted to convince another senior Navy official to award a larger contract to the same company. Burke was arrested in May 2024 on these charges, making him the most senior military officer to be convicted for crimes committed while on active duty in recent times. His sentencing is scheduled for August 22, 2025, and he faces a maximum penalty of 30 years in prison. The co-CEOs of Next Jump, Yongchul “Charlie” Kim and Meghan Messenger, are also facing related charges and are scheduled for trial in August.\n",
              "\n",
              "**Headline: Robert Lee Burke Found Guilty of Falsification**\n",
              "\n",
              "Date: 2014-02-13\n",
              "\n",
              "Summary: Robert Lee Burke, 44, of 1135 Mason St., was found guilty of falsification in a municipal court. He was sentenced to 30 days in jail with credit for time served.\n",
              "\n",
              "There are no results found for Robert Burke associated with Money Laundering or Human Trafficking."
            ],
            "text/plain": [
              "<IPython.core.display.Markdown object>"
            ]
          },
          "metadata": {},
          "output_type": "display_data"
        },
        {
          "data": {
            "text/markdown": [
              "\n",
              "\n",
              "**Sources:**\n",
              "[[1] justice.gov](https://vertexaisearch.cloud.google.com/grounding-api-redirect/AbF9wXGj2xDyqqvUc78SfxozRmtsSdz3cWrxa6bgZCU3U6QZnmTPgzyU__EF823Rln80mH1Pl69C6CYiJnyuNTA-EVMMVy_E5Js4FFqUBNjLiRXcNfp2ZrZ7_vdyo64UBZ3G5Eo-zFeZDheXedRxIUZrkgNewlg2c7ihL1M-o2ZP2zuPtJPMzd_rExoFMrP2phbgbbK9)\n",
              "[[2] washingtontimes.com](https://vertexaisearch.cloud.google.com/grounding-api-redirect/AbF9wXGwndYU9uJK00Gdyc2PWV4iw9JJKCDfngUDC7tcyb7eUYnll9cGmYA4buydKnoJ_Mu5iDWJZgNTD55UVEqGSz2Awf47hKwa5WJCXrVcXxUigBWZklpQVYqRlPe8AsQ8-GawVICp96sXiL2jfBD2psxuGZwbl_Iu-Z7MUKURqkSwbz8gWNcYz2Cdxw3xTEl_U5AmstweWpOScC3e3Qx7deBJUXsHpsIA03wVPL-1bM8=)\n",
              "[[3] cbsnews.com](https://vertexaisearch.cloud.google.com/grounding-api-redirect/AbF9wXGmQani_pvjo5RaXZx7-kv8id3y7hzg1Sb1oZ7EYbIW__0kMmZTvolIrBZhc4YDbF3ysYHitBYrfjsLyUtwdQhlbruP1r9GX44Zgt4_BodK49W6TJ6f0yWa0Sg76EbSuhzp0i3x-6qUQ3YQx2TOBaXBboJlWoL_ouJenq6IqR1rC6Hy59mOnJw77l1OiWotBSrW1aXwgw==)\n",
              "[[4] military.com](https://vertexaisearch.cloud.google.com/grounding-api-redirect/AbF9wXH6JL4c4gk04Q7NxTRUt20p0lWxB_KB07ukgb_Gq6eoy4BLImiSqc47ekP1AZHpN2g_6NElrQ0Evmx9UrpW90R7hviow-uFDznbTCteqtz4HLhlhw856GT-yjwmK-6MxMfR3jYWby10_ZLJfC_Qg0_2sCw-USVMSFmGOU0aHVkqC65EqQkyQiWKGDF4gwZ_rQ34KEInL81cb9T2mbLCssDagLZRC7_PkY45YF-MXJZ086Fs83AwFw2lKA==)\n",
              "[[5] indiatimes.com](https://vertexaisearch.cloud.google.com/grounding-api-redirect/AbF9wXGAd8h8HG5ERIi8vGhp41MDEsJ6ukUGL-foWHn8V2csQzfQO9LNmfdsNwG_aEz8GzyjjatYwheYreWfUC2byR3IjDoPR-lHFdNXUdZ2NzWQJX7JwzymB1jLWM7gIV_Ifq7wKg6nKbE9KQcrC06YGdimxD0deJ5ti-64tMwRxV4e2-u3B12adl3LwMxXunOhCZC8EQMpuoQGS5RPe9AhIKCdeJL6UzvvYt8Ks1FxjXfFeRbC0nlGMGbupqLGjlNblpeunzc1pBbdSZk=)\n",
              "[[6] usni.org](https://vertexaisearch.cloud.google.com/grounding-api-redirect/AbF9wXEpfecKjPOG4MmKOmFD-zV3Wftr-zuvsqBxHDjCv2K14Syo9ot3WS3PCy0WRVsZ7Y5XMsdKujt6Iddu7kaOKC2U_h7pMJU0aP51-yY46SktvoK75KRsbBPpHiP4uovSuqsNrQNr9SfxJphBb3A-o1mb94IWzHWyZuVQKv1yb1uG-_vZnhMtp0Ng24JltHRzocxMl9mqbGtAzFwCHBI=)\n",
              "[[7] maritime-executive.com](https://vertexaisearch.cloud.google.com/grounding-api-redirect/AbF9wXE9P8E1wQSxN0s9gvbEdOWTx6CbEO9P2pPttI0SBshaKm6vdffGhGCbdMn0lG7kKa4E4ZAh_5IiJx2nSsNHgcppx-2wHHJ935aN3LqK3sbRgos-K8ISj77Tocxq3HZKzJs8F701tpqfBGApfNwjBJ0z5Sqfi6wJB7fGUkD8NRts4btLShWEWz8X27k0RsK1XDIBv-xuABQIvArERIkvO2eSwsHDoJR9)\n",
              "[[8] foxnews.com](https://vertexaisearch.cloud.google.com/grounding-api-redirect/AbF9wXFlsAMRAQRsuh8VXJ3A7ANUxuh8X13geUPjrUmF6tVYGMRGatAhmVFiZZR_1rF3fcKRH5MqsUCgNmSzkWHFD6_v1FOJ81zWcsTvxgiXWaqFKK2VTBbrXnZD5NntA22OtNJL8qtyafg_C1SfqErQocI4DJaFh0WGu7t6ujQ-wqBqdYp_s3BEmrdML7tYazc4etPWHHsj6TtRJmZa_sXL)\n"
            ],
            "text/plain": [
              "<IPython.core.display.Markdown object>"
            ]
          },
          "metadata": {},
          "output_type": "display_data"
        },
        {
          "name": "stdout",
          "output_type": "stream",
          "text": [
            "------------------------------------------------------\n"
          ]
        }
      ],
      "source": [
        "entities_to_check = [\n",
        "    \"Volkswagen\",\n",
        "    \"Robert Burke\",\n",
        "]  # Example entities, you can change or extend this list\n",
        "\n",
        "for entity in entities_to_check:\n",
        "    response = generate_kyc_report(entity, system_instructions_text)\n",
        "\n",
        "    # Display the model's text response\n",
        "    try:\n",
        "        if response.candidates and len(response.candidates) > 0:\n",
        "            parts = response.candidates[0].content.parts\n",
        "            # First display any thought parts\n",
        "            thought_parts = [\n",
        "                part for part in parts if hasattr(part, \"thought\") and part.thought\n",
        "            ]\n",
        "            if thought_parts:\n",
        "                display(Markdown(\"**Model Thoughts:**\"))\n",
        "                for part in thought_parts:\n",
        "                    if hasattr(part, \"text\") and part.text:\n",
        "                        display(Markdown(part.text))\n",
        "\n",
        "            # Then display the final response\n",
        "            response_parts = [\n",
        "                part\n",
        "                for part in parts\n",
        "                if hasattr(part, \"thought\")\n",
        "                and not part.thought\n",
        "                and hasattr(part, \"text\")\n",
        "                and part.text\n",
        "            ]\n",
        "            if response_parts:\n",
        "                display(Markdown(\"**Model Response:**\"))\n",
        "                for part in response_parts:\n",
        "                    display(Markdown(part.text))\n",
        "            else:\n",
        "                display(\n",
        "                    Markdown(\n",
        "                        \"**Model Response:**\\nNo text content found in response parts.\"\n",
        "                    )\n",
        "                )\n",
        "    except Exception as e:\n",
        "        display(Markdown(f\"**Error displaying response:** {str(e)}\"))\n",
        "        print(\"Full response object:\", response)\n",
        "\n",
        "    # Get and display grounding information (sources)\n",
        "    sources_text = get_sources(response)\n",
        "    display(Markdown(sources_text))\n",
        "\n",
        "    print(\"------------------------------------------------------\")"
      ]
    },
    {
      "cell_type": "markdown",
      "metadata": {
        "id": "c8d94bdf9283"
      },
      "source": [
        "## Evaluation\n",
        "Add section for evaluatin of response using Evaluation Framework"
      ]
    },
    {
      "cell_type": "markdown",
      "metadata": {
        "id": "37e677bd9264"
      },
      "source": [
        "Import necessary libraries"
      ]
    },
    {
      "cell_type": "code",
      "execution_count": 25,
      "metadata": {
        "id": "f05ee5c78e48"
      },
      "outputs": [],
      "source": [
        "from IPython.display import Markdown, display\n",
        "import pandas as pd\n",
        "import plotly.graph_objects as go\n",
        "from vertexai.evaluation import EvalTask, PointwiseMetric, PointwiseMetricPromptTemplate"
      ]
    },
    {
      "cell_type": "markdown",
      "metadata": {
        "id": "64b671ead9cd"
      },
      "source": [
        "Define helper functions"
      ]
    },
    {
      "cell_type": "code",
      "execution_count": 26,
      "metadata": {
        "id": "8567afdb0b28"
      },
      "outputs": [],
      "source": [
        "def display_eval_result(eval_result, metrics=None):\n",
        "    \"\"\"Display the evaluation results.\"\"\"\n",
        "    summary_metrics, metrics_table = (\n",
        "        eval_result.summary_metrics,\n",
        "        eval_result.metrics_table,\n",
        "    )\n",
        "\n",
        "    metrics_df = pd.DataFrame.from_dict(summary_metrics, orient=\"index\").T\n",
        "    if metrics:\n",
        "        metrics_df = metrics_df.filter(\n",
        "            [\n",
        "                metric\n",
        "                for metric in metrics_df.columns\n",
        "                if any(selected_metric in metric for selected_metric in metrics)\n",
        "            ]\n",
        "        )\n",
        "        metrics_table = metrics_table.filter(\n",
        "            [\n",
        "                metric\n",
        "                for metric in metrics_table.columns\n",
        "                if any(selected_metric in metric for selected_metric in metrics)\n",
        "            ]\n",
        "        )\n",
        "\n",
        "    # Display the summary metrics\n",
        "    display(Markdown(\"### Summary Metrics\"))\n",
        "    display(metrics_df)\n",
        "    # Display the metrics table\n",
        "    display(Markdown(\"### Row-based Metrics\"))\n",
        "    display(metrics_table)\n",
        "\n",
        "\n",
        "def plot_bar_plot(eval_results, metrics=None):\n",
        "    \"\"\"Create a bar plot of evaluation results.\"\"\"\n",
        "    fig = go.Figure()\n",
        "    data = []\n",
        "\n",
        "    for eval_result in eval_results:\n",
        "        title, summary_metrics, _ = eval_result\n",
        "        if metrics:\n",
        "            summary_metrics = {\n",
        "                k: summary_metrics[k]\n",
        "                for k, v in summary_metrics.items()\n",
        "                if any(selected_metric in k for selected_metric in metrics)\n",
        "            }\n",
        "\n",
        "        data.append(\n",
        "            go.Bar(\n",
        "                x=list(summary_metrics.keys()),\n",
        "                y=list(summary_metrics.values()),\n",
        "                name=title,\n",
        "            )\n",
        "        )\n",
        "\n",
        "    fig = go.Figure(data=data)\n",
        "    fig.update_layout(barmode=\"group\")\n",
        "    fig.show()"
      ]
    },
    {
      "cell_type": "markdown",
      "metadata": {
        "id": "3f2c996dcc6c"
      },
      "source": [
        "### Test Evaluation 1: Response Completeness and Accuracy"
      ]
    },
    {
      "cell_type": "code",
      "execution_count": 27,
      "metadata": {
        "id": "11ccdd014218"
      },
      "outputs": [
        {
          "name": "stdout",
          "output_type": "stream",
          "text": [
            "The `input_variables` parameter is empty. Only the `response` column is used for computing this model-based metric.\n"
          ]
        }
      ],
      "source": [
        "completeness_accuracy_template = PointwiseMetricPromptTemplate(\n",
        "    criteria={\n",
        "        \"category_coverage\": \"The response should cover all relevant negative news categories (Money Laundering, Forgery, Bribery, Human Trafficking) if they exist for the entity.\",\n",
        "        \"source_citation\": \"The response should properly cite sources for each claim.\",\n",
        "    },\n",
        "    rating_rubric={\n",
        "        \"5\": \"Response covers all relevant categories and properly cites sources.\",\n",
        "        \"3\": \"Response covers most categories but may miss some citations.\",\n",
        "        \"1\": \"Response is incomplete or contains inaccuracies.\",\n",
        "    },\n",
        ")\n",
        "\n",
        "completeness_accuracy_metric = PointwiseMetric(\n",
        "    metric=\"completeness_accuracy\",\n",
        "    metric_prompt_template=completeness_accuracy_template,\n",
        ")"
      ]
    },
    {
      "cell_type": "code",
      "execution_count": 28,
      "metadata": {
        "id": "cbb8467d904e"
      },
      "outputs": [],
      "source": [
        "# Create sample ground truth data\n",
        "ground_truth_data = {\n",
        "    \"prompt\": [\n",
        "        \"\"\"\n",
        "Your task is to provide a comprehensive and professional report of negative news articles for a given input entity. The input entity can be a person, company, or ship.\n",
        "\n",
        "Input Entity:\n",
        "Volkswagen\n",
        "\n",
        "Activities:\n",
        "Money Laundering\n",
        "Forgery\n",
        "Bribery and Corruption\n",
        "Human Trafficking\n",
        "\n",
        "Follow these steps:\n",
        "\n",
        "1.  If the input entity is a company, map it to its legal business name.\n",
        "2.  Thoroughly search Google News for negative news articles related to the input entity and the specified activities across all time.\n",
        "3.  Summarize and interpret the Google Search results for the given input entity and each activity. If there are no results for a given activity, skip it.\n",
        "4.  For each activity with search results, create a headline that summarizes the event.\n",
        "5.  Group the search results under the corresponding headline, including the date of each news article.\n",
        "6.  For person names, strictly follow the entity names.\n",
        "7.  If there are no negative news articles associated with the input entity, respond with: \"There are no results found for Volkswagen.\"\n",
        "\n",
        "\n",
        "Output Format:\n",
        "\n",
        "Headline: [Summary of the event]\n",
        "Date: [Date of the news article]\n",
        "Summary: [Brief summary of the news article]\n",
        "\n",
        "Example:\n",
        "\n",
        "Headline: John Doe Accused of Money Laundering\\n\n",
        "\n",
        "Date: 2023-01-15\\n\n",
        "\n",
        "Summary: John Doe is accused of laundering money through offshore accounts, according to a report by the International Consortium of Investigative Journalists.\n",
        "\n",
        "Ensure that the report is comprehensive, accurate, and professionally presented.\n",
        "        \"\"\",\n",
        "        \"\"\"\n",
        "Your task is to provide a comprehensive and professional report of negative news articles for a given input entity. The input entity can be a person, company, or ship.\n",
        "\n",
        "Input Entity:\n",
        "Robert Burke\n",
        "\n",
        "Activities:\n",
        "Money Laundering\n",
        "Forgery\n",
        "Bribery and Corruption\n",
        "Human Trafficking\n",
        "\n",
        "Follow these steps:\n",
        "\n",
        "1.  If the input entity is a company, map it to its legal business name.\n",
        "2.  Thoroughly search Google News for negative news articles related to the input entity and the specified activities across all time.\n",
        "3.  Summarize and interpret the Google Search results for the given input entity and each activity. If there are no results for a given activity, skip it.\n",
        "4.  For each activity with search results, create a headline that summarizes the event.\n",
        "5.  Group the search results under the corresponding headline, including the date of each news article.\n",
        "6.  For person names, strictly follow the entity names.\n",
        "7.  If there are no negative news articles associated with the input entity, respond with: \"There are no results found for Robert Burke.\"\n",
        "\n",
        "\n",
        "Output Format:\n",
        "\n",
        "Headline: [Summary of the event]\n",
        "Date: [Date of the news article]\n",
        "Summary: [Brief summary of the news article]\n",
        "\n",
        "Example:\n",
        "\n",
        "Headline: John Doe Accused of Money Laundering\\n\n",
        "\n",
        "Date: 2023-01-15\\n\n",
        "\n",
        "Summary: John Doe is accused of laundering money through offshore accounts, according to a report by the International Consortium of Investigative Journalists.\n",
        "\n",
        "Ensure that the report is comprehensive, accurate, and professionally presented.\n",
        "        \"\"\",\n",
        "    ],\n",
        "    \"reference\": [\n",
        "        \"\"\"Here is a comprehensive report of negative news articles for Volkswagen, based on the provided activities. The legal business name used for the search was \"Volkswagen AG\".\n",
        "\n",
        "Headline: Volkswagen Accused of Complicity in Human Trafficking and Forced Labor\n",
        "Date: 2022-05-30 Summary: Volkswagen is accused of \"slavery-like practices\" and \"human trafficking\" in Brazil during the military dictatorship between 1974 and 1986. The Brazilian judiciary is examining complaints that allege the car manufacturer was complicit in \"systematic human rights violations\" on a cattle farm in the Amazon. Volkswagen has been summoned to appear before a labor court in Brasilia.\n",
        "\n",
        "Date: Undated (likely 2024, given source content) Summary: Volkswagen's operations in China's Uyghur region are under increasing scrutiny due to concerns raised by human rights groups over forced labor involving Uyghur workers. The company's assembly plant in the region has faced criticism as evidence of Uyghur forced labor has surfaced, leading to restrictions on imports from the region by the U.S. and European markets.\n",
        "\n",
        "Headline: Volkswagen Implicated in Money Laundering Through Board Member of Controlling Entity\n",
        "Date: 2023-06-07 Summary: Siegfried Wolf, an Austrian businessman charged with money laundering in connection with the purchase of Eurofighter jets, sits on the supervisory board of Porsche SE, which is the holding company of Volkswagen Group. This indicates an indirect connection to Volkswagen through a board member of its controlling entity.\n",
        "\n",
        "Headline: Volkswagen Charged with Fraud, Deception, and Emissions Test Manipulation (\"Dieselgate\")\n",
        "Date: 2024-09-03 Summary: The criminal trial of former Volkswagen CEO Martin Winterkorn began over his role in the \"dieselgate\" emissions scandal. He is accused of fraud, market manipulation, and perjury for deliberately duping customers and shareholders by manipulating emissions tests.\n",
        "\n",
        "Date: 2024-05-05 Summary: Defense attorneys are seeking an acquittal for former managers and engineers involved in the VW diesel fraud trial, accusing prosecutors of cynical and nonsensical arguments.\n",
        "\n",
        "Date: 2024-04-12 Summary: A Volkswagen finance unit, Volkswagen Group of America Finance (VWGAF), was ordered to pay $48.8 million in an SEC fraud case related to the automaker's 2015 emissions violations. The SEC alleged that VWGAF made false and misleading statements in connection with its 2014 and 2015 corporate bond offerings, while senior executives knew that vehicles exceeded legal emissions limits.\n",
        "\n",
        "Date: 2019-03-15 Summary: The U.S. Securities and Exchange Commission (SEC) charged Volkswagen AG, two of its subsidiaries, and its former CEO, Martin Winterkorn, for defrauding U.S. investors. They allegedly raised billions of dollars through bond markets while making deceptive claims about the environmental impact of the company's \"clean diesel\" fleet.\n",
        "\n",
        "Date: 2018-05-03 Summary: Martin Winterkorn, the former chairman of the management board of Volkswagen AG, was charged with conspiracy and wire fraud in connection with Volkswagen's long-running scheme to cheat U.S. diesel vehicle emissions requirements.\n",
        "\n",
        "Date: 2017-01-11 Summary: Volkswagen AG agreed to plead guilty to three criminal felony counts and pay a $2.8 billion criminal penalty, along with $1.5 billion in civil penalties, for its scheme to sell diesel vehicles in the U.S. using a \"defeat device\" to cheat emissions tests, and for lying and obstructing justice to further the scheme.\n",
        "\n",
        "Date: 2015-12-10 Summary: Volkswagen admitted to installing \"defeat devices\" or software in diesel engines to detect when they were being tested, altering performance to improve results and cheat emissions tests. This \"diesel dupe\" affected approximately 11 million cars worldwide.\n",
        "\n",
        "Sources: [1] scmp.com [2] business-humanrights.org [3] business-humanrights.org [4] humantraffickingsearch.org [5] freedomunited.org [6] amlintelligence.com [7] bbc.com [8] aljazeera.com [9] marketscreener.com [10] esgdive.com [11] complianceweek.com [12] sec.gov [13] justice.gov [14] justice.gov [15] bbc.com\"\"\",\n",
        "        \"\"\"Here is a comprehensive report of negative news articles for Robert Burke:\n",
        "\n",
        "Bribery and Corruption\n",
        "\n",
        "Headline: Retired Four-Star Admiral Robert Burke Convicted in Bribery Scheme Date: 2025-05-19 Summary: Retired four-star Admiral Robert Burke, 62, was found guilty of bribery, conspiracy to commit bribery, performing acts affecting a personal financial interest, and concealing material facts from the United States. He was convicted in connection with accepting future employment at a government vendor in exchange for awarding that company a government contract. Sentencing is scheduled for August 22, 2025.\n",
        "\n",
        "Headline: Former Navy Admiral and Business Executives Arrested in Bribery Scheme Date: 2024-05-31 Summary: Robert Burke, a retired Navy Admiral, and two business executives, Yongchul \"Charlie\" Kim and Meghan Messenger, were arrested on charges related to an alleged bribery scheme. The indictment states that Burke accepted future employment at the executives' company in exchange for awarding them a U.S. government contract. The scheme involved Burke ordering his staff in December 2021 to award a $355,000 contract to Company A to train personnel under his command, and he began working at Company A in October 2022 with a $500,000 yearly salary and 100,000 stock options.\n",
        "\n",
        "Headline: Retired US Navy Admiral Convicted on Corruption Charges Date: 2025-03-07 Summary: A jury convicted retired four-star US Admiral Robert Burke, who served as the US Navy's second-highest-ranking officer, on corruption charges. Burke was found guilty of steering a $355,000 contract to a company, then accepting a $500,000-a-year job with that company after his 2022 retirement from the Navy.\n",
        "\n",
        "Sources: [1] justice.gov [2] justice.gov [3] regtechtimes.com [4] justice.gov [5] yahoo.com [6] bsky.app [7] yahoo.com [8] yahoo.com [9] yahoo.com [10] news9.com\n",
        "\"\"\",\n",
        "    ],\n",
        "    \"response\": [\n",
        "        \"\"\"Here's a comprehensive report of negative news articles related to Volkswagen AG, focusing on the specified activities. The legal business name for Volkswagen is Volkswagen Aktiengesellschaft, often abbreviated as Volkswagen AG.\n",
        "\n",
        "### Headline: Volkswagen Linked to Money Laundering Allegations via Controlling Shareholder\n",
        "\n",
        "Date: 2023-06-07\n",
        "Summary: An Austrian businessman, Siegfried Wolf, who was charged by an Austrian court on suspicion of money laundering related to the purchase of Eurofighter jets, sits on the supervisory board of Porsche SE, the holding company that controls Volkswagen Group.\n",
        "\n",
        "### Headline: Volkswagen Accused of Forgery and Fraud in \"Dieselgate\" Emissions Scandal\n",
        "\n",
        "Date: 2024-04-12\n",
        "Summary: A Volkswagen finance unit was ordered to pay $48.8 million in a fraud case connected to the automaker's 2015 emissions violations. The SEC alleged that Volkswagen Group of America Finance made false and misleading statements in connection with bond offerings, knowing that over 500,000 vehicles in the U.S. exceeded legal emissions limits.\n",
        "\n",
        "Date: 2019-03-15\n",
        "Summary: The SEC charged Volkswagen AG, two of its subsidiaries, and its former CEO, Martin Winterkorn, for defrauding U.S. investors. Volkswagen allegedly raised billions of dollars through bond markets while making deceptive claims about the environmental impact of its \"clean diesel\" fleet, hiding its decade-long emissions scheme.\n",
        "\n",
        "Date: 2018-05-03\n",
        "Summary: Martin Winterkorn, the former chairman of the management board of Volkswagen AG, was charged with conspiracy and wire fraud in connection with the company's long-running scheme to cheat U.S. diesel vehicle emissions requirements. Volkswagen had pleaded guilty to criminal charges in 2017 for deceiving U.S. regulatory agencies by installing \"defeat devices\" designed to cheat emissions tests.\n",
        "\n",
        "Date: 2017-01-11\n",
        "Summary: Volkswagen AG agreed to plead guilty to three criminal felony counts and pay a $2.8 billion criminal penalty for a scheme to sell approximately 590,000 diesel vehicles in the U.S. using a defeat device to cheat on emissions tests, and for lying and obstructing justice. The company also agreed to pay $1.5 billion in separate civil resolutions for environmental, customs, and financial claims, including for customs fraud.\n",
        "\n",
        "Date: 2015-12-10\n",
        "Summary: Volkswagen admitted to cheating emissions tests in the US by installing \"defeat devices\" – software in diesel engines that could detect when they were being tested and change performance to improve results. This scandal, dubbed \"dieselgate,\" affected about 11 million cars worldwide and led to significant financial penalties and a recall of millions of vehicles.\n",
        "\n",
        "Date: Undated (Class period: 2010-11-19 to 2016-01-04)\n",
        "Summary: A securities fraud class action was asserted against Volkswagen AG and its senior officers on behalf of purchasers of Volkswagen AG American Depositary Receipts (ADRs). Volkswagen was accused of systematically defrauding the public by deliberately cheating U.S. emissions tests and making its diesel vehicles appear cleaner than they were.\n",
        "\n",
        "Date: 2025-05-05 (Published Date)\n",
        "Summary: In an ongoing criminal trial related to the VW diesel scandal, defense attorneys for one of the former managers and engineers are seeking an acquittal, criticizing the prosecution's arguments.\n",
        "\n",
        "### Headline: Volkswagen Implicated in Bribery and Corruption Scandal\n",
        "\n",
        "Date: Undated\n",
        "Summary: A bribery and corruption scandal at Volkswagen involved allegations that company cash was used to provide inappropriate benefits, such as pleasure trips, luxury hotel stays, and visits by prostitutes, for members of VW's works council. The scandal led to the dismissal of three top-ranking managers and the head of VW's general works council.\n",
        "\n",
        "### Headline: Volkswagen Faces Allegations of Human Trafficking and Forced Labor\n",
        "\n",
        "Date: 2024-05-27\n",
        "Summary: Human Rights Watch reported that Volkswagen is applying inadequate oversight to the supply chains of its Chinese joint ventures, such as SAIC-VW, which primarily manufacture cars for sale in China. Allegations include potential links to Uyghur forced labor through sub-suppliers, despite Volkswagen stating that an audit found \"no indications\" of forced labor at its Xinjiang joint venture plant.\n",
        "\n",
        "Date: 2023-03-30\n",
        "Summary: Volkswagen failed to reach an agreement with the Public Ministry of Labour (MPT) in Brazil regarding compensations for alleged slave labor during the military dictatorship. Brazilian authorities accuse Volkswagen of systematic human rights violations in hundreds of cases between 1974 and 1986 on a cattle farm in the Amazon.\n",
        "\n",
        "Date: 2022-05-30\n",
        "Summary: Germany's Volkswagen Group faced accusations of \"slavery\" practices and human trafficking in Brazil during the country's military dictatorship in the 1970s and 1980s. The Brazilian judiciary is examining complaints alleging the car manufacturer used \"slavery-like practices\" and \"human trafficking\" and was complicit in \"systematic human rights violations.\" Volkswagen was summoned to appear before a labor court in Brasilia.\"\"\",\n",
        "        \"\"\"Here's a comprehensive report of negative news articles related to Robert Burke:\n",
        "\n",
        "### Headline: Retired Four-Star Admiral Robert Burke Convicted in Bribery Scheme\n",
        "\n",
        "Date: 2025-05-19\n",
        "Summary: Retired four-star Admiral Robert Burke, 62, was found guilty of bribery, conspiracy to commit bribery, performing acts affecting a personal financial interest, and concealing material facts from the United States. He was convicted in connection with accepting future employment at a government vendor in exchange for awarding that company a government contract. Sentencing is scheduled for August 22, 2025.\n",
        "\n",
        "### Headline: Former Navy Admiral and Business Executives Arrested in Bribery Scheme\n",
        "\n",
        "Date: 2024-05-31\n",
        "Summary: Robert Burke, a retired Navy Admiral, and two business executives, Yongchul \"Charlie\" Kim and Meghan Messenger, were arrested on charges related to an alleged bribery scheme. The indictment states that Burke accepted future employment at the executives' company in exchange for awarding them a U.S. government contract. The scheme involved Burke ordering his staff in December 2021 to award a $355,000 contract to Company A to train personnel under his command, and he began working at Company A in October 2022 with a $500,000 yearly salary and 100,000 stock options.\n",
        "\n",
        "### Headline: Retired US Navy Admiral Convicted on Corruption Charges\n",
        "\n",
        "Date: 2025-03-07\n",
        "Summary: A jury convicted retired four-star US Admiral Robert Burke, who served as the US Navy's second-highest-ranking officer, on corruption charges. Burke was found guilty of steering a $355,000 contract to a company, then accepting a $500,000-a-year job with that company after his 2022 retirement from the Navy.\"\"\",\n",
        "    ],\n",
        "}"
      ]
    },
    {
      "cell_type": "code",
      "execution_count": 30,
      "metadata": {
        "id": "794b91041df4"
      },
      "outputs": [
        {
          "data": {
            "text/html": [
              "\n",
              "        \n",
              "    <link rel=\"stylesheet\" href=\"https://fonts.googleapis.com/icon?family=Material+Icons\">\n",
              "    <style>\n",
              "      .view-vertex-resource,\n",
              "      .view-vertex-resource:hover,\n",
              "      .view-vertex-resource:visited {\n",
              "        position: relative;\n",
              "        display: inline-flex;\n",
              "        flex-direction: row;\n",
              "        height: 32px;\n",
              "        padding: 0 12px;\n",
              "          margin: 4px 18px;\n",
              "        gap: 4px;\n",
              "        border-radius: 4px;\n",
              "\n",
              "        align-items: center;\n",
              "        justify-content: center;\n",
              "        background-color: rgb(255, 255, 255);\n",
              "        color: rgb(51, 103, 214);\n",
              "\n",
              "        font-family: Roboto,\"Helvetica Neue\",sans-serif;\n",
              "        font-size: 13px;\n",
              "        font-weight: 500;\n",
              "        text-transform: uppercase;\n",
              "        text-decoration: none !important;\n",
              "\n",
              "        transition: box-shadow 280ms cubic-bezier(0.4, 0, 0.2, 1) 0s;\n",
              "        box-shadow: 0px 3px 1px -2px rgba(0,0,0,0.2), 0px 2px 2px 0px rgba(0,0,0,0.14), 0px 1px 5px 0px rgba(0,0,0,0.12);\n",
              "      }\n",
              "      .view-vertex-resource:active {\n",
              "        box-shadow: 0px 5px 5px -3px rgba(0,0,0,0.2),0px 8px 10px 1px rgba(0,0,0,0.14),0px 3px 14px 2px rgba(0,0,0,0.12);\n",
              "      }\n",
              "      .view-vertex-resource:active .view-vertex-ripple::before {\n",
              "        position: absolute;\n",
              "        top: 0;\n",
              "        bottom: 0;\n",
              "        left: 0;\n",
              "        right: 0;\n",
              "        border-radius: 4px;\n",
              "        pointer-events: none;\n",
              "\n",
              "        content: '';\n",
              "        background-color: rgb(51, 103, 214);\n",
              "        opacity: 0.12;\n",
              "      }\n",
              "      .view-vertex-icon {\n",
              "        font-size: 18px;\n",
              "      }\n",
              "    </style>\n",
              "  \n",
              "        <a class=\"view-vertex-resource\" id=\"view-vertex-resource-125c8dea-f33e-4562-9b08-82784aad6836\" href=\"#view-view-vertex-resource-125c8dea-f33e-4562-9b08-82784aad6836\">\n",
              "          <span class=\"material-icons view-vertex-icon\">science</span>\n",
              "          <span>View Experiment</span>\n",
              "        </a>\n",
              "        \n",
              "        <script>\n",
              "          (function () {\n",
              "            const link = document.getElementById('view-vertex-resource-125c8dea-f33e-4562-9b08-82784aad6836');\n",
              "            link.addEventListener('click', (e) => {\n",
              "              if (window.google?.colab?.openUrl) {\n",
              "                window.google.colab.openUrl('https://console.cloud.google.com/vertex-ai/experiments/locations/us-central1/experiments/kyc-completeness-accuracy/runs?project=sandbox-aiml');\n",
              "              } else {\n",
              "                window.open('https://console.cloud.google.com/vertex-ai/experiments/locations/us-central1/experiments/kyc-completeness-accuracy/runs?project=sandbox-aiml', '_blank');\n",
              "              }\n",
              "              e.stopPropagation();\n",
              "              e.preventDefault();\n",
              "            });\n",
              "          })();\n",
              "        </script>\n",
              "    "
            ],
            "text/plain": [
              "<IPython.core.display.HTML object>"
            ]
          },
          "metadata": {},
          "output_type": "display_data"
        },
        {
          "name": "stdout",
          "output_type": "stream",
          "text": [
            "Associating projects/305610648548/locations/us-central1/metadataStores/default/contexts/kyc-completeness-accuracy-5bcdffcc-c431-4c83-b216-b4e65a7e92df to Experiment: kyc-completeness-accuracy\n"
          ]
        },
        {
          "data": {
            "text/html": [
              "\n",
              "        \n",
              "    <link rel=\"stylesheet\" href=\"https://fonts.googleapis.com/icon?family=Material+Icons\">\n",
              "    <style>\n",
              "      .view-vertex-resource,\n",
              "      .view-vertex-resource:hover,\n",
              "      .view-vertex-resource:visited {\n",
              "        position: relative;\n",
              "        display: inline-flex;\n",
              "        flex-direction: row;\n",
              "        height: 32px;\n",
              "        padding: 0 12px;\n",
              "          margin: 4px 18px;\n",
              "        gap: 4px;\n",
              "        border-radius: 4px;\n",
              "\n",
              "        align-items: center;\n",
              "        justify-content: center;\n",
              "        background-color: rgb(255, 255, 255);\n",
              "        color: rgb(51, 103, 214);\n",
              "\n",
              "        font-family: Roboto,\"Helvetica Neue\",sans-serif;\n",
              "        font-size: 13px;\n",
              "        font-weight: 500;\n",
              "        text-transform: uppercase;\n",
              "        text-decoration: none !important;\n",
              "\n",
              "        transition: box-shadow 280ms cubic-bezier(0.4, 0, 0.2, 1) 0s;\n",
              "        box-shadow: 0px 3px 1px -2px rgba(0,0,0,0.2), 0px 2px 2px 0px rgba(0,0,0,0.14), 0px 1px 5px 0px rgba(0,0,0,0.12);\n",
              "      }\n",
              "      .view-vertex-resource:active {\n",
              "        box-shadow: 0px 5px 5px -3px rgba(0,0,0,0.2),0px 8px 10px 1px rgba(0,0,0,0.14),0px 3px 14px 2px rgba(0,0,0,0.12);\n",
              "      }\n",
              "      .view-vertex-resource:active .view-vertex-ripple::before {\n",
              "        position: absolute;\n",
              "        top: 0;\n",
              "        bottom: 0;\n",
              "        left: 0;\n",
              "        right: 0;\n",
              "        border-radius: 4px;\n",
              "        pointer-events: none;\n",
              "\n",
              "        content: '';\n",
              "        background-color: rgb(51, 103, 214);\n",
              "        opacity: 0.12;\n",
              "      }\n",
              "      .view-vertex-icon {\n",
              "        font-size: 18px;\n",
              "      }\n",
              "    </style>\n",
              "  \n",
              "        <a class=\"view-vertex-resource\" id=\"view-vertex-resource-d86085fa-8df5-4f3c-b277-71cacb6e02cc\" href=\"#view-view-vertex-resource-d86085fa-8df5-4f3c-b277-71cacb6e02cc\">\n",
              "          <span class=\"material-icons view-vertex-icon\">science</span>\n",
              "          <span>View Experiment Run</span>\n",
              "        </a>\n",
              "        \n",
              "        <script>\n",
              "          (function () {\n",
              "            const link = document.getElementById('view-vertex-resource-d86085fa-8df5-4f3c-b277-71cacb6e02cc');\n",
              "            link.addEventListener('click', (e) => {\n",
              "              if (window.google?.colab?.openUrl) {\n",
              "                window.google.colab.openUrl('https://console.cloud.google.com/vertex-ai/experiments/locations/us-central1/experiments/kyc-completeness-accuracy/runs/kyc-completeness-accuracy-5bcdffcc-c431-4c83-b216-b4e65a7e92df?project=sandbox-aiml');\n",
              "              } else {\n",
              "                window.open('https://console.cloud.google.com/vertex-ai/experiments/locations/us-central1/experiments/kyc-completeness-accuracy/runs/kyc-completeness-accuracy-5bcdffcc-c431-4c83-b216-b4e65a7e92df?project=sandbox-aiml', '_blank');\n",
              "              }\n",
              "              e.stopPropagation();\n",
              "              e.preventDefault();\n",
              "            });\n",
              "          })();\n",
              "        </script>\n",
              "    "
            ],
            "text/plain": [
              "<IPython.core.display.HTML object>"
            ]
          },
          "metadata": {},
          "output_type": "display_data"
        },
        {
          "name": "stdout",
          "output_type": "stream",
          "text": [
            "Computing metrics with a total of 2 Vertex Gen AI Evaluation Service API requests.\n"
          ]
        },
        {
          "name": "stderr",
          "output_type": "stream",
          "text": [
            "100%|██████████| 2/2 [00:01<00:00,  1.14it/s]"
          ]
        },
        {
          "name": "stdout",
          "output_type": "stream",
          "text": [
            "All 2 metric requests are successfully computed.\n",
            "Evaluation Took:1.840158999999403 seconds\n"
          ]
        },
        {
          "name": "stderr",
          "output_type": "stream",
          "text": [
            "\n"
          ]
        },
        {
          "data": {
            "text/html": [
              "\n",
              "        \n",
              "    <link rel=\"stylesheet\" href=\"https://fonts.googleapis.com/icon?family=Material+Icons\">\n",
              "    <style>\n",
              "      .view-vertex-resource,\n",
              "      .view-vertex-resource:hover,\n",
              "      .view-vertex-resource:visited {\n",
              "        position: relative;\n",
              "        display: inline-flex;\n",
              "        flex-direction: row;\n",
              "        height: 32px;\n",
              "        padding: 0 12px;\n",
              "          margin: 4px 18px;\n",
              "        gap: 4px;\n",
              "        border-radius: 4px;\n",
              "\n",
              "        align-items: center;\n",
              "        justify-content: center;\n",
              "        background-color: rgb(255, 255, 255);\n",
              "        color: rgb(51, 103, 214);\n",
              "\n",
              "        font-family: Roboto,\"Helvetica Neue\",sans-serif;\n",
              "        font-size: 13px;\n",
              "        font-weight: 500;\n",
              "        text-transform: uppercase;\n",
              "        text-decoration: none !important;\n",
              "\n",
              "        transition: box-shadow 280ms cubic-bezier(0.4, 0, 0.2, 1) 0s;\n",
              "        box-shadow: 0px 3px 1px -2px rgba(0,0,0,0.2), 0px 2px 2px 0px rgba(0,0,0,0.14), 0px 1px 5px 0px rgba(0,0,0,0.12);\n",
              "      }\n",
              "      .view-vertex-resource:active {\n",
              "        box-shadow: 0px 5px 5px -3px rgba(0,0,0,0.2),0px 8px 10px 1px rgba(0,0,0,0.14),0px 3px 14px 2px rgba(0,0,0,0.12);\n",
              "      }\n",
              "      .view-vertex-resource:active .view-vertex-ripple::before {\n",
              "        position: absolute;\n",
              "        top: 0;\n",
              "        bottom: 0;\n",
              "        left: 0;\n",
              "        right: 0;\n",
              "        border-radius: 4px;\n",
              "        pointer-events: none;\n",
              "\n",
              "        content: '';\n",
              "        background-color: rgb(51, 103, 214);\n",
              "        opacity: 0.12;\n",
              "      }\n",
              "      .view-vertex-icon {\n",
              "        font-size: 18px;\n",
              "      }\n",
              "    </style>\n",
              "  \n",
              "        <a class=\"view-vertex-resource\" id=\"view-vertex-resource-bd0758f3-766d-403f-969f-2c3a1849789a\" href=\"#view-view-vertex-resource-bd0758f3-766d-403f-969f-2c3a1849789a\">\n",
              "          <span class=\"material-icons view-vertex-icon\">bar_chart</span>\n",
              "          <span>View evaluation results</span>\n",
              "        </a>\n",
              "        \n",
              "        <script>\n",
              "          (function () {\n",
              "            const link = document.getElementById('view-vertex-resource-bd0758f3-766d-403f-969f-2c3a1849789a');\n",
              "            link.addEventListener('click', (e) => {\n",
              "              if (window.google?.colab?.openUrl) {\n",
              "                window.google.colab.openUrl('https://cloud.google.com/vertex-ai/generative-ai/docs/models/view-evaluation');\n",
              "              } else {\n",
              "                window.open('https://cloud.google.com/vertex-ai/generative-ai/docs/models/view-evaluation', '_blank');\n",
              "              }\n",
              "              e.stopPropagation();\n",
              "              e.preventDefault();\n",
              "            });\n",
              "          })();\n",
              "        </script>\n",
              "    "
            ],
            "text/plain": [
              "<IPython.core.display.HTML object>"
            ]
          },
          "metadata": {},
          "output_type": "display_data"
        },
        {
          "data": {
            "text/markdown": [
              "### Summary Metrics"
            ],
            "text/plain": [
              "<IPython.core.display.Markdown object>"
            ]
          },
          "metadata": {},
          "output_type": "display_data"
        },
        {
          "data": {
            "text/html": [
              "<div>\n",
              "<style scoped>\n",
              "    .dataframe tbody tr th:only-of-type {\n",
              "        vertical-align: middle;\n",
              "    }\n",
              "\n",
              "    .dataframe tbody tr th {\n",
              "        vertical-align: top;\n",
              "    }\n",
              "\n",
              "    .dataframe thead th {\n",
              "        text-align: right;\n",
              "    }\n",
              "</style>\n",
              "<table border=\"1\" class=\"dataframe\">\n",
              "  <thead>\n",
              "    <tr style=\"text-align: right;\">\n",
              "      <th></th>\n",
              "      <th>row_count</th>\n",
              "      <th>completeness_accuracy/mean</th>\n",
              "      <th>completeness_accuracy/std</th>\n",
              "    </tr>\n",
              "  </thead>\n",
              "  <tbody>\n",
              "    <tr>\n",
              "      <th>0</th>\n",
              "      <td>2.0</td>\n",
              "      <td>4.0</td>\n",
              "      <td>1.414214</td>\n",
              "    </tr>\n",
              "  </tbody>\n",
              "</table>\n",
              "</div>"
            ],
            "text/plain": [
              "   row_count  completeness_accuracy/mean  completeness_accuracy/std\n",
              "0        2.0                         4.0                   1.414214"
            ]
          },
          "metadata": {},
          "output_type": "display_data"
        },
        {
          "data": {
            "text/markdown": [
              "### Row-based Metrics"
            ],
            "text/plain": [
              "<IPython.core.display.Markdown object>"
            ]
          },
          "metadata": {},
          "output_type": "display_data"
        },
        {
          "data": {
            "text/html": [
              "<div>\n",
              "<style scoped>\n",
              "    .dataframe tbody tr th:only-of-type {\n",
              "        vertical-align: middle;\n",
              "    }\n",
              "\n",
              "    .dataframe tbody tr th {\n",
              "        vertical-align: top;\n",
              "    }\n",
              "\n",
              "    .dataframe thead th {\n",
              "        text-align: right;\n",
              "    }\n",
              "</style>\n",
              "<table border=\"1\" class=\"dataframe\">\n",
              "  <thead>\n",
              "    <tr style=\"text-align: right;\">\n",
              "      <th></th>\n",
              "      <th>prompt</th>\n",
              "      <th>reference</th>\n",
              "      <th>response</th>\n",
              "      <th>completeness_accuracy/explanation</th>\n",
              "      <th>completeness_accuracy/score</th>\n",
              "    </tr>\n",
              "  </thead>\n",
              "  <tbody>\n",
              "    <tr>\n",
              "      <th>0</th>\n",
              "      <td>\\nYour task is to provide a comprehensive and ...</td>\n",
              "      <td>Here is a comprehensive report of negative new...</td>\n",
              "      <td>Here's a comprehensive report of negative news...</td>\n",
              "      <td>The response covers most categories and provid...</td>\n",
              "      <td>3.0</td>\n",
              "    </tr>\n",
              "    <tr>\n",
              "      <th>1</th>\n",
              "      <td>\\nYour task is to provide a comprehensive and ...</td>\n",
              "      <td>Here is a comprehensive report of negative new...</td>\n",
              "      <td>Here's a comprehensive report of negative news...</td>\n",
              "      <td>The response covers all the negative news cate...</td>\n",
              "      <td>5.0</td>\n",
              "    </tr>\n",
              "  </tbody>\n",
              "</table>\n",
              "</div>"
            ],
            "text/plain": [
              "                                              prompt  \\\n",
              "0  \\nYour task is to provide a comprehensive and ...   \n",
              "1  \\nYour task is to provide a comprehensive and ...   \n",
              "\n",
              "                                           reference  \\\n",
              "0  Here is a comprehensive report of negative new...   \n",
              "1  Here is a comprehensive report of negative new...   \n",
              "\n",
              "                                            response  \\\n",
              "0  Here's a comprehensive report of negative news...   \n",
              "1  Here's a comprehensive report of negative news...   \n",
              "\n",
              "                   completeness_accuracy/explanation  \\\n",
              "0  The response covers most categories and provid...   \n",
              "1  The response covers all the negative news cate...   \n",
              "\n",
              "   completeness_accuracy/score  \n",
              "0                          3.0  \n",
              "1                          5.0  "
            ]
          },
          "metadata": {},
          "output_type": "display_data"
        }
      ],
      "source": [
        "# Create evaluation dataset\n",
        "eval_dataset = pd.DataFrame(ground_truth_data)\n",
        "\n",
        "# Run evaluation\n",
        "eval_task = EvalTask(\n",
        "    dataset=eval_dataset,\n",
        "    metrics=[completeness_accuracy_metric],\n",
        "    experiment=\"kyc-completeness-accuracy\",\n",
        ")\n",
        "\n",
        "eval_result = eval_task.evaluate()\n",
        "\n",
        "# Display results\n",
        "display_eval_result(eval_result)"
      ]
    },
    {
      "cell_type": "markdown",
      "metadata": {
        "id": "2f1bc78ea45c"
      },
      "source": [
        "#### Test Evaluation 2: Response Structure and Professionalism"
      ]
    },
    {
      "cell_type": "code",
      "execution_count": 32,
      "metadata": {
        "id": "cea9aad4cad0"
      },
      "outputs": [
        {
          "name": "stdout",
          "output_type": "stream",
          "text": [
            "The `input_variables` parameter is empty. Only the `response` column is used for computing this model-based metric.\n"
          ]
        },
        {
          "data": {
            "text/html": [
              "\n",
              "        \n",
              "    <link rel=\"stylesheet\" href=\"https://fonts.googleapis.com/icon?family=Material+Icons\">\n",
              "    <style>\n",
              "      .view-vertex-resource,\n",
              "      .view-vertex-resource:hover,\n",
              "      .view-vertex-resource:visited {\n",
              "        position: relative;\n",
              "        display: inline-flex;\n",
              "        flex-direction: row;\n",
              "        height: 32px;\n",
              "        padding: 0 12px;\n",
              "          margin: 4px 18px;\n",
              "        gap: 4px;\n",
              "        border-radius: 4px;\n",
              "\n",
              "        align-items: center;\n",
              "        justify-content: center;\n",
              "        background-color: rgb(255, 255, 255);\n",
              "        color: rgb(51, 103, 214);\n",
              "\n",
              "        font-family: Roboto,\"Helvetica Neue\",sans-serif;\n",
              "        font-size: 13px;\n",
              "        font-weight: 500;\n",
              "        text-transform: uppercase;\n",
              "        text-decoration: none !important;\n",
              "\n",
              "        transition: box-shadow 280ms cubic-bezier(0.4, 0, 0.2, 1) 0s;\n",
              "        box-shadow: 0px 3px 1px -2px rgba(0,0,0,0.2), 0px 2px 2px 0px rgba(0,0,0,0.14), 0px 1px 5px 0px rgba(0,0,0,0.12);\n",
              "      }\n",
              "      .view-vertex-resource:active {\n",
              "        box-shadow: 0px 5px 5px -3px rgba(0,0,0,0.2),0px 8px 10px 1px rgba(0,0,0,0.14),0px 3px 14px 2px rgba(0,0,0,0.12);\n",
              "      }\n",
              "      .view-vertex-resource:active .view-vertex-ripple::before {\n",
              "        position: absolute;\n",
              "        top: 0;\n",
              "        bottom: 0;\n",
              "        left: 0;\n",
              "        right: 0;\n",
              "        border-radius: 4px;\n",
              "        pointer-events: none;\n",
              "\n",
              "        content: '';\n",
              "        background-color: rgb(51, 103, 214);\n",
              "        opacity: 0.12;\n",
              "      }\n",
              "      .view-vertex-icon {\n",
              "        font-size: 18px;\n",
              "      }\n",
              "    </style>\n",
              "  \n",
              "        <a class=\"view-vertex-resource\" id=\"view-vertex-resource-a897356c-8afb-44b3-af0a-63087e65ad13\" href=\"#view-view-vertex-resource-a897356c-8afb-44b3-af0a-63087e65ad13\">\n",
              "          <span class=\"material-icons view-vertex-icon\">science</span>\n",
              "          <span>View Experiment</span>\n",
              "        </a>\n",
              "        \n",
              "        <script>\n",
              "          (function () {\n",
              "            const link = document.getElementById('view-vertex-resource-a897356c-8afb-44b3-af0a-63087e65ad13');\n",
              "            link.addEventListener('click', (e) => {\n",
              "              if (window.google?.colab?.openUrl) {\n",
              "                window.google.colab.openUrl('https://console.cloud.google.com/vertex-ai/experiments/locations/us-central1/experiments/kyc-structure-professionalism/runs?project=sandbox-aiml');\n",
              "              } else {\n",
              "                window.open('https://console.cloud.google.com/vertex-ai/experiments/locations/us-central1/experiments/kyc-structure-professionalism/runs?project=sandbox-aiml', '_blank');\n",
              "              }\n",
              "              e.stopPropagation();\n",
              "              e.preventDefault();\n",
              "            });\n",
              "          })();\n",
              "        </script>\n",
              "    "
            ],
            "text/plain": [
              "<IPython.core.display.HTML object>"
            ]
          },
          "metadata": {},
          "output_type": "display_data"
        },
        {
          "name": "stdout",
          "output_type": "stream",
          "text": [
            "Associating projects/305610648548/locations/us-central1/metadataStores/default/contexts/kyc-structure-professionalism-0bb6323c-9f98-4c72-bbe0-ad689269b95f to Experiment: kyc-structure-professionalism\n"
          ]
        },
        {
          "data": {
            "text/html": [
              "\n",
              "        \n",
              "    <link rel=\"stylesheet\" href=\"https://fonts.googleapis.com/icon?family=Material+Icons\">\n",
              "    <style>\n",
              "      .view-vertex-resource,\n",
              "      .view-vertex-resource:hover,\n",
              "      .view-vertex-resource:visited {\n",
              "        position: relative;\n",
              "        display: inline-flex;\n",
              "        flex-direction: row;\n",
              "        height: 32px;\n",
              "        padding: 0 12px;\n",
              "          margin: 4px 18px;\n",
              "        gap: 4px;\n",
              "        border-radius: 4px;\n",
              "\n",
              "        align-items: center;\n",
              "        justify-content: center;\n",
              "        background-color: rgb(255, 255, 255);\n",
              "        color: rgb(51, 103, 214);\n",
              "\n",
              "        font-family: Roboto,\"Helvetica Neue\",sans-serif;\n",
              "        font-size: 13px;\n",
              "        font-weight: 500;\n",
              "        text-transform: uppercase;\n",
              "        text-decoration: none !important;\n",
              "\n",
              "        transition: box-shadow 280ms cubic-bezier(0.4, 0, 0.2, 1) 0s;\n",
              "        box-shadow: 0px 3px 1px -2px rgba(0,0,0,0.2), 0px 2px 2px 0px rgba(0,0,0,0.14), 0px 1px 5px 0px rgba(0,0,0,0.12);\n",
              "      }\n",
              "      .view-vertex-resource:active {\n",
              "        box-shadow: 0px 5px 5px -3px rgba(0,0,0,0.2),0px 8px 10px 1px rgba(0,0,0,0.14),0px 3px 14px 2px rgba(0,0,0,0.12);\n",
              "      }\n",
              "      .view-vertex-resource:active .view-vertex-ripple::before {\n",
              "        position: absolute;\n",
              "        top: 0;\n",
              "        bottom: 0;\n",
              "        left: 0;\n",
              "        right: 0;\n",
              "        border-radius: 4px;\n",
              "        pointer-events: none;\n",
              "\n",
              "        content: '';\n",
              "        background-color: rgb(51, 103, 214);\n",
              "        opacity: 0.12;\n",
              "      }\n",
              "      .view-vertex-icon {\n",
              "        font-size: 18px;\n",
              "      }\n",
              "    </style>\n",
              "  \n",
              "        <a class=\"view-vertex-resource\" id=\"view-vertex-resource-22b3b781-f4ec-4475-a930-abd8c7b4d5e9\" href=\"#view-view-vertex-resource-22b3b781-f4ec-4475-a930-abd8c7b4d5e9\">\n",
              "          <span class=\"material-icons view-vertex-icon\">science</span>\n",
              "          <span>View Experiment Run</span>\n",
              "        </a>\n",
              "        \n",
              "        <script>\n",
              "          (function () {\n",
              "            const link = document.getElementById('view-vertex-resource-22b3b781-f4ec-4475-a930-abd8c7b4d5e9');\n",
              "            link.addEventListener('click', (e) => {\n",
              "              if (window.google?.colab?.openUrl) {\n",
              "                window.google.colab.openUrl('https://console.cloud.google.com/vertex-ai/experiments/locations/us-central1/experiments/kyc-structure-professionalism/runs/kyc-structure-professionalism-0bb6323c-9f98-4c72-bbe0-ad689269b95f?project=sandbox-aiml');\n",
              "              } else {\n",
              "                window.open('https://console.cloud.google.com/vertex-ai/experiments/locations/us-central1/experiments/kyc-structure-professionalism/runs/kyc-structure-professionalism-0bb6323c-9f98-4c72-bbe0-ad689269b95f?project=sandbox-aiml', '_blank');\n",
              "              }\n",
              "              e.stopPropagation();\n",
              "              e.preventDefault();\n",
              "            });\n",
              "          })();\n",
              "        </script>\n",
              "    "
            ],
            "text/plain": [
              "<IPython.core.display.HTML object>"
            ]
          },
          "metadata": {},
          "output_type": "display_data"
        },
        {
          "name": "stdout",
          "output_type": "stream",
          "text": [
            "Computing metrics with a total of 2 Vertex Gen AI Evaluation Service API requests.\n"
          ]
        },
        {
          "name": "stderr",
          "output_type": "stream",
          "text": [
            "100%|██████████| 2/2 [00:01<00:00,  1.19it/s]"
          ]
        },
        {
          "name": "stdout",
          "output_type": "stream",
          "text": [
            "All 2 metric requests are successfully computed.\n",
            "Evaluation Took:1.6882728329983365 seconds\n"
          ]
        },
        {
          "name": "stderr",
          "output_type": "stream",
          "text": [
            "\n"
          ]
        },
        {
          "data": {
            "text/html": [
              "\n",
              "        \n",
              "    <link rel=\"stylesheet\" href=\"https://fonts.googleapis.com/icon?family=Material+Icons\">\n",
              "    <style>\n",
              "      .view-vertex-resource,\n",
              "      .view-vertex-resource:hover,\n",
              "      .view-vertex-resource:visited {\n",
              "        position: relative;\n",
              "        display: inline-flex;\n",
              "        flex-direction: row;\n",
              "        height: 32px;\n",
              "        padding: 0 12px;\n",
              "          margin: 4px 18px;\n",
              "        gap: 4px;\n",
              "        border-radius: 4px;\n",
              "\n",
              "        align-items: center;\n",
              "        justify-content: center;\n",
              "        background-color: rgb(255, 255, 255);\n",
              "        color: rgb(51, 103, 214);\n",
              "\n",
              "        font-family: Roboto,\"Helvetica Neue\",sans-serif;\n",
              "        font-size: 13px;\n",
              "        font-weight: 500;\n",
              "        text-transform: uppercase;\n",
              "        text-decoration: none !important;\n",
              "\n",
              "        transition: box-shadow 280ms cubic-bezier(0.4, 0, 0.2, 1) 0s;\n",
              "        box-shadow: 0px 3px 1px -2px rgba(0,0,0,0.2), 0px 2px 2px 0px rgba(0,0,0,0.14), 0px 1px 5px 0px rgba(0,0,0,0.12);\n",
              "      }\n",
              "      .view-vertex-resource:active {\n",
              "        box-shadow: 0px 5px 5px -3px rgba(0,0,0,0.2),0px 8px 10px 1px rgba(0,0,0,0.14),0px 3px 14px 2px rgba(0,0,0,0.12);\n",
              "      }\n",
              "      .view-vertex-resource:active .view-vertex-ripple::before {\n",
              "        position: absolute;\n",
              "        top: 0;\n",
              "        bottom: 0;\n",
              "        left: 0;\n",
              "        right: 0;\n",
              "        border-radius: 4px;\n",
              "        pointer-events: none;\n",
              "\n",
              "        content: '';\n",
              "        background-color: rgb(51, 103, 214);\n",
              "        opacity: 0.12;\n",
              "      }\n",
              "      .view-vertex-icon {\n",
              "        font-size: 18px;\n",
              "      }\n",
              "    </style>\n",
              "  \n",
              "        <a class=\"view-vertex-resource\" id=\"view-vertex-resource-e49c44b3-2a8d-4386-977a-a39427f3d5a0\" href=\"#view-view-vertex-resource-e49c44b3-2a8d-4386-977a-a39427f3d5a0\">\n",
              "          <span class=\"material-icons view-vertex-icon\">bar_chart</span>\n",
              "          <span>View evaluation results</span>\n",
              "        </a>\n",
              "        \n",
              "        <script>\n",
              "          (function () {\n",
              "            const link = document.getElementById('view-vertex-resource-e49c44b3-2a8d-4386-977a-a39427f3d5a0');\n",
              "            link.addEventListener('click', (e) => {\n",
              "              if (window.google?.colab?.openUrl) {\n",
              "                window.google.colab.openUrl('https://cloud.google.com/vertex-ai/generative-ai/docs/models/view-evaluation');\n",
              "              } else {\n",
              "                window.open('https://cloud.google.com/vertex-ai/generative-ai/docs/models/view-evaluation', '_blank');\n",
              "              }\n",
              "              e.stopPropagation();\n",
              "              e.preventDefault();\n",
              "            });\n",
              "          })();\n",
              "        </script>\n",
              "    "
            ],
            "text/plain": [
              "<IPython.core.display.HTML object>"
            ]
          },
          "metadata": {},
          "output_type": "display_data"
        },
        {
          "data": {
            "text/markdown": [
              "### Summary Metrics"
            ],
            "text/plain": [
              "<IPython.core.display.Markdown object>"
            ]
          },
          "metadata": {},
          "output_type": "display_data"
        },
        {
          "data": {
            "text/html": [
              "<div>\n",
              "<style scoped>\n",
              "    .dataframe tbody tr th:only-of-type {\n",
              "        vertical-align: middle;\n",
              "    }\n",
              "\n",
              "    .dataframe tbody tr th {\n",
              "        vertical-align: top;\n",
              "    }\n",
              "\n",
              "    .dataframe thead th {\n",
              "        text-align: right;\n",
              "    }\n",
              "</style>\n",
              "<table border=\"1\" class=\"dataframe\">\n",
              "  <thead>\n",
              "    <tr style=\"text-align: right;\">\n",
              "      <th></th>\n",
              "      <th>row_count</th>\n",
              "      <th>structure_professionalism/mean</th>\n",
              "      <th>structure_professionalism/std</th>\n",
              "    </tr>\n",
              "  </thead>\n",
              "  <tbody>\n",
              "    <tr>\n",
              "      <th>0</th>\n",
              "      <td>2.0</td>\n",
              "      <td>5.0</td>\n",
              "      <td>0.0</td>\n",
              "    </tr>\n",
              "  </tbody>\n",
              "</table>\n",
              "</div>"
            ],
            "text/plain": [
              "   row_count  structure_professionalism/mean  structure_professionalism/std\n",
              "0        2.0                             5.0                            0.0"
            ]
          },
          "metadata": {},
          "output_type": "display_data"
        },
        {
          "data": {
            "text/markdown": [
              "### Row-based Metrics"
            ],
            "text/plain": [
              "<IPython.core.display.Markdown object>"
            ]
          },
          "metadata": {},
          "output_type": "display_data"
        },
        {
          "data": {
            "text/html": [
              "<div>\n",
              "<style scoped>\n",
              "    .dataframe tbody tr th:only-of-type {\n",
              "        vertical-align: middle;\n",
              "    }\n",
              "\n",
              "    .dataframe tbody tr th {\n",
              "        vertical-align: top;\n",
              "    }\n",
              "\n",
              "    .dataframe thead th {\n",
              "        text-align: right;\n",
              "    }\n",
              "</style>\n",
              "<table border=\"1\" class=\"dataframe\">\n",
              "  <thead>\n",
              "    <tr style=\"text-align: right;\">\n",
              "      <th></th>\n",
              "      <th>prompt</th>\n",
              "      <th>reference</th>\n",
              "      <th>response</th>\n",
              "      <th>structure_professionalism/explanation</th>\n",
              "      <th>structure_professionalism/score</th>\n",
              "    </tr>\n",
              "  </thead>\n",
              "  <tbody>\n",
              "    <tr>\n",
              "      <th>0</th>\n",
              "      <td>\\nYour task is to provide a comprehensive and ...</td>\n",
              "      <td>Here is a comprehensive report of negative new...</td>\n",
              "      <td>Here's a comprehensive report of negative news...</td>\n",
              "      <td>The response is well-structured, professional ...</td>\n",
              "      <td>5.0</td>\n",
              "    </tr>\n",
              "    <tr>\n",
              "      <th>1</th>\n",
              "      <td>\\nYour task is to provide a comprehensive and ...</td>\n",
              "      <td>Here is a comprehensive report of negative new...</td>\n",
              "      <td>Here's a comprehensive report of negative news...</td>\n",
              "      <td>The response is well-structured, clear, and ma...</td>\n",
              "      <td>5.0</td>\n",
              "    </tr>\n",
              "  </tbody>\n",
              "</table>\n",
              "</div>"
            ],
            "text/plain": [
              "                                              prompt  \\\n",
              "0  \\nYour task is to provide a comprehensive and ...   \n",
              "1  \\nYour task is to provide a comprehensive and ...   \n",
              "\n",
              "                                           reference  \\\n",
              "0  Here is a comprehensive report of negative new...   \n",
              "1  Here is a comprehensive report of negative new...   \n",
              "\n",
              "                                            response  \\\n",
              "0  Here's a comprehensive report of negative news...   \n",
              "1  Here's a comprehensive report of negative news...   \n",
              "\n",
              "               structure_professionalism/explanation  \\\n",
              "0  The response is well-structured, professional ...   \n",
              "1  The response is well-structured, clear, and ma...   \n",
              "\n",
              "   structure_professionalism/score  \n",
              "0                              5.0  \n",
              "1                              5.0  "
            ]
          },
          "metadata": {},
          "output_type": "display_data"
        },
        {
          "data": {
            "application/vnd.plotly.v1+json": {
              "config": {
                "plotlyServerURL": "https://plot.ly"
              },
              "data": [
                {
                  "name": "Structure and Professionalism",
                  "type": "bar",
                  "x": [
                    "row_count",
                    "structure_professionalism/mean",
                    "structure_professionalism/std"
                  ],
                  "y": [
                    2,
                    5,
                    0
                  ]
                }
              ],
              "layout": {
                "barmode": "group",
                "template": {
                  "data": {
                    "bar": [
                      {
                        "error_x": {
                          "color": "#2a3f5f"
                        },
                        "error_y": {
                          "color": "#2a3f5f"
                        },
                        "marker": {
                          "line": {
                            "color": "#E5ECF6",
                            "width": 0.5
                          },
                          "pattern": {
                            "fillmode": "overlay",
                            "size": 10,
                            "solidity": 0.2
                          }
                        },
                        "type": "bar"
                      }
                    ],
                    "barpolar": [
                      {
                        "marker": {
                          "line": {
                            "color": "#E5ECF6",
                            "width": 0.5
                          },
                          "pattern": {
                            "fillmode": "overlay",
                            "size": 10,
                            "solidity": 0.2
                          }
                        },
                        "type": "barpolar"
                      }
                    ],
                    "carpet": [
                      {
                        "aaxis": {
                          "endlinecolor": "#2a3f5f",
                          "gridcolor": "white",
                          "linecolor": "white",
                          "minorgridcolor": "white",
                          "startlinecolor": "#2a3f5f"
                        },
                        "baxis": {
                          "endlinecolor": "#2a3f5f",
                          "gridcolor": "white",
                          "linecolor": "white",
                          "minorgridcolor": "white",
                          "startlinecolor": "#2a3f5f"
                        },
                        "type": "carpet"
                      }
                    ],
                    "choropleth": [
                      {
                        "colorbar": {
                          "outlinewidth": 0,
                          "ticks": ""
                        },
                        "type": "choropleth"
                      }
                    ],
                    "contour": [
                      {
                        "colorbar": {
                          "outlinewidth": 0,
                          "ticks": ""
                        },
                        "colorscale": [
                          [
                            0,
                            "#0d0887"
                          ],
                          [
                            0.1111111111111111,
                            "#46039f"
                          ],
                          [
                            0.2222222222222222,
                            "#7201a8"
                          ],
                          [
                            0.3333333333333333,
                            "#9c179e"
                          ],
                          [
                            0.4444444444444444,
                            "#bd3786"
                          ],
                          [
                            0.5555555555555556,
                            "#d8576b"
                          ],
                          [
                            0.6666666666666666,
                            "#ed7953"
                          ],
                          [
                            0.7777777777777778,
                            "#fb9f3a"
                          ],
                          [
                            0.8888888888888888,
                            "#fdca26"
                          ],
                          [
                            1,
                            "#f0f921"
                          ]
                        ],
                        "type": "contour"
                      }
                    ],
                    "contourcarpet": [
                      {
                        "colorbar": {
                          "outlinewidth": 0,
                          "ticks": ""
                        },
                        "type": "contourcarpet"
                      }
                    ],
                    "heatmap": [
                      {
                        "colorbar": {
                          "outlinewidth": 0,
                          "ticks": ""
                        },
                        "colorscale": [
                          [
                            0,
                            "#0d0887"
                          ],
                          [
                            0.1111111111111111,
                            "#46039f"
                          ],
                          [
                            0.2222222222222222,
                            "#7201a8"
                          ],
                          [
                            0.3333333333333333,
                            "#9c179e"
                          ],
                          [
                            0.4444444444444444,
                            "#bd3786"
                          ],
                          [
                            0.5555555555555556,
                            "#d8576b"
                          ],
                          [
                            0.6666666666666666,
                            "#ed7953"
                          ],
                          [
                            0.7777777777777778,
                            "#fb9f3a"
                          ],
                          [
                            0.8888888888888888,
                            "#fdca26"
                          ],
                          [
                            1,
                            "#f0f921"
                          ]
                        ],
                        "type": "heatmap"
                      }
                    ],
                    "heatmapgl": [
                      {
                        "colorbar": {
                          "outlinewidth": 0,
                          "ticks": ""
                        },
                        "colorscale": [
                          [
                            0,
                            "#0d0887"
                          ],
                          [
                            0.1111111111111111,
                            "#46039f"
                          ],
                          [
                            0.2222222222222222,
                            "#7201a8"
                          ],
                          [
                            0.3333333333333333,
                            "#9c179e"
                          ],
                          [
                            0.4444444444444444,
                            "#bd3786"
                          ],
                          [
                            0.5555555555555556,
                            "#d8576b"
                          ],
                          [
                            0.6666666666666666,
                            "#ed7953"
                          ],
                          [
                            0.7777777777777778,
                            "#fb9f3a"
                          ],
                          [
                            0.8888888888888888,
                            "#fdca26"
                          ],
                          [
                            1,
                            "#f0f921"
                          ]
                        ],
                        "type": "heatmapgl"
                      }
                    ],
                    "histogram": [
                      {
                        "marker": {
                          "pattern": {
                            "fillmode": "overlay",
                            "size": 10,
                            "solidity": 0.2
                          }
                        },
                        "type": "histogram"
                      }
                    ],
                    "histogram2d": [
                      {
                        "colorbar": {
                          "outlinewidth": 0,
                          "ticks": ""
                        },
                        "colorscale": [
                          [
                            0,
                            "#0d0887"
                          ],
                          [
                            0.1111111111111111,
                            "#46039f"
                          ],
                          [
                            0.2222222222222222,
                            "#7201a8"
                          ],
                          [
                            0.3333333333333333,
                            "#9c179e"
                          ],
                          [
                            0.4444444444444444,
                            "#bd3786"
                          ],
                          [
                            0.5555555555555556,
                            "#d8576b"
                          ],
                          [
                            0.6666666666666666,
                            "#ed7953"
                          ],
                          [
                            0.7777777777777778,
                            "#fb9f3a"
                          ],
                          [
                            0.8888888888888888,
                            "#fdca26"
                          ],
                          [
                            1,
                            "#f0f921"
                          ]
                        ],
                        "type": "histogram2d"
                      }
                    ],
                    "histogram2dcontour": [
                      {
                        "colorbar": {
                          "outlinewidth": 0,
                          "ticks": ""
                        },
                        "colorscale": [
                          [
                            0,
                            "#0d0887"
                          ],
                          [
                            0.1111111111111111,
                            "#46039f"
                          ],
                          [
                            0.2222222222222222,
                            "#7201a8"
                          ],
                          [
                            0.3333333333333333,
                            "#9c179e"
                          ],
                          [
                            0.4444444444444444,
                            "#bd3786"
                          ],
                          [
                            0.5555555555555556,
                            "#d8576b"
                          ],
                          [
                            0.6666666666666666,
                            "#ed7953"
                          ],
                          [
                            0.7777777777777778,
                            "#fb9f3a"
                          ],
                          [
                            0.8888888888888888,
                            "#fdca26"
                          ],
                          [
                            1,
                            "#f0f921"
                          ]
                        ],
                        "type": "histogram2dcontour"
                      }
                    ],
                    "mesh3d": [
                      {
                        "colorbar": {
                          "outlinewidth": 0,
                          "ticks": ""
                        },
                        "type": "mesh3d"
                      }
                    ],
                    "parcoords": [
                      {
                        "line": {
                          "colorbar": {
                            "outlinewidth": 0,
                            "ticks": ""
                          }
                        },
                        "type": "parcoords"
                      }
                    ],
                    "pie": [
                      {
                        "automargin": true,
                        "type": "pie"
                      }
                    ],
                    "scatter": [
                      {
                        "fillpattern": {
                          "fillmode": "overlay",
                          "size": 10,
                          "solidity": 0.2
                        },
                        "type": "scatter"
                      }
                    ],
                    "scatter3d": [
                      {
                        "line": {
                          "colorbar": {
                            "outlinewidth": 0,
                            "ticks": ""
                          }
                        },
                        "marker": {
                          "colorbar": {
                            "outlinewidth": 0,
                            "ticks": ""
                          }
                        },
                        "type": "scatter3d"
                      }
                    ],
                    "scattercarpet": [
                      {
                        "marker": {
                          "colorbar": {
                            "outlinewidth": 0,
                            "ticks": ""
                          }
                        },
                        "type": "scattercarpet"
                      }
                    ],
                    "scattergeo": [
                      {
                        "marker": {
                          "colorbar": {
                            "outlinewidth": 0,
                            "ticks": ""
                          }
                        },
                        "type": "scattergeo"
                      }
                    ],
                    "scattergl": [
                      {
                        "marker": {
                          "colorbar": {
                            "outlinewidth": 0,
                            "ticks": ""
                          }
                        },
                        "type": "scattergl"
                      }
                    ],
                    "scattermapbox": [
                      {
                        "marker": {
                          "colorbar": {
                            "outlinewidth": 0,
                            "ticks": ""
                          }
                        },
                        "type": "scattermapbox"
                      }
                    ],
                    "scatterpolar": [
                      {
                        "marker": {
                          "colorbar": {
                            "outlinewidth": 0,
                            "ticks": ""
                          }
                        },
                        "type": "scatterpolar"
                      }
                    ],
                    "scatterpolargl": [
                      {
                        "marker": {
                          "colorbar": {
                            "outlinewidth": 0,
                            "ticks": ""
                          }
                        },
                        "type": "scatterpolargl"
                      }
                    ],
                    "scatterternary": [
                      {
                        "marker": {
                          "colorbar": {
                            "outlinewidth": 0,
                            "ticks": ""
                          }
                        },
                        "type": "scatterternary"
                      }
                    ],
                    "surface": [
                      {
                        "colorbar": {
                          "outlinewidth": 0,
                          "ticks": ""
                        },
                        "colorscale": [
                          [
                            0,
                            "#0d0887"
                          ],
                          [
                            0.1111111111111111,
                            "#46039f"
                          ],
                          [
                            0.2222222222222222,
                            "#7201a8"
                          ],
                          [
                            0.3333333333333333,
                            "#9c179e"
                          ],
                          [
                            0.4444444444444444,
                            "#bd3786"
                          ],
                          [
                            0.5555555555555556,
                            "#d8576b"
                          ],
                          [
                            0.6666666666666666,
                            "#ed7953"
                          ],
                          [
                            0.7777777777777778,
                            "#fb9f3a"
                          ],
                          [
                            0.8888888888888888,
                            "#fdca26"
                          ],
                          [
                            1,
                            "#f0f921"
                          ]
                        ],
                        "type": "surface"
                      }
                    ],
                    "table": [
                      {
                        "cells": {
                          "fill": {
                            "color": "#EBF0F8"
                          },
                          "line": {
                            "color": "white"
                          }
                        },
                        "header": {
                          "fill": {
                            "color": "#C8D4E3"
                          },
                          "line": {
                            "color": "white"
                          }
                        },
                        "type": "table"
                      }
                    ]
                  },
                  "layout": {
                    "annotationdefaults": {
                      "arrowcolor": "#2a3f5f",
                      "arrowhead": 0,
                      "arrowwidth": 1
                    },
                    "autotypenumbers": "strict",
                    "coloraxis": {
                      "colorbar": {
                        "outlinewidth": 0,
                        "ticks": ""
                      }
                    },
                    "colorscale": {
                      "diverging": [
                        [
                          0,
                          "#8e0152"
                        ],
                        [
                          0.1,
                          "#c51b7d"
                        ],
                        [
                          0.2,
                          "#de77ae"
                        ],
                        [
                          0.3,
                          "#f1b6da"
                        ],
                        [
                          0.4,
                          "#fde0ef"
                        ],
                        [
                          0.5,
                          "#f7f7f7"
                        ],
                        [
                          0.6,
                          "#e6f5d0"
                        ],
                        [
                          0.7,
                          "#b8e186"
                        ],
                        [
                          0.8,
                          "#7fbc41"
                        ],
                        [
                          0.9,
                          "#4d9221"
                        ],
                        [
                          1,
                          "#276419"
                        ]
                      ],
                      "sequential": [
                        [
                          0,
                          "#0d0887"
                        ],
                        [
                          0.1111111111111111,
                          "#46039f"
                        ],
                        [
                          0.2222222222222222,
                          "#7201a8"
                        ],
                        [
                          0.3333333333333333,
                          "#9c179e"
                        ],
                        [
                          0.4444444444444444,
                          "#bd3786"
                        ],
                        [
                          0.5555555555555556,
                          "#d8576b"
                        ],
                        [
                          0.6666666666666666,
                          "#ed7953"
                        ],
                        [
                          0.7777777777777778,
                          "#fb9f3a"
                        ],
                        [
                          0.8888888888888888,
                          "#fdca26"
                        ],
                        [
                          1,
                          "#f0f921"
                        ]
                      ],
                      "sequentialminus": [
                        [
                          0,
                          "#0d0887"
                        ],
                        [
                          0.1111111111111111,
                          "#46039f"
                        ],
                        [
                          0.2222222222222222,
                          "#7201a8"
                        ],
                        [
                          0.3333333333333333,
                          "#9c179e"
                        ],
                        [
                          0.4444444444444444,
                          "#bd3786"
                        ],
                        [
                          0.5555555555555556,
                          "#d8576b"
                        ],
                        [
                          0.6666666666666666,
                          "#ed7953"
                        ],
                        [
                          0.7777777777777778,
                          "#fb9f3a"
                        ],
                        [
                          0.8888888888888888,
                          "#fdca26"
                        ],
                        [
                          1,
                          "#f0f921"
                        ]
                      ]
                    },
                    "colorway": [
                      "#636efa",
                      "#EF553B",
                      "#00cc96",
                      "#ab63fa",
                      "#FFA15A",
                      "#19d3f3",
                      "#FF6692",
                      "#B6E880",
                      "#FF97FF",
                      "#FECB52"
                    ],
                    "font": {
                      "color": "#2a3f5f"
                    },
                    "geo": {
                      "bgcolor": "white",
                      "lakecolor": "white",
                      "landcolor": "#E5ECF6",
                      "showlakes": true,
                      "showland": true,
                      "subunitcolor": "white"
                    },
                    "hoverlabel": {
                      "align": "left"
                    },
                    "hovermode": "closest",
                    "mapbox": {
                      "style": "light"
                    },
                    "paper_bgcolor": "white",
                    "plot_bgcolor": "#E5ECF6",
                    "polar": {
                      "angularaxis": {
                        "gridcolor": "white",
                        "linecolor": "white",
                        "ticks": ""
                      },
                      "bgcolor": "#E5ECF6",
                      "radialaxis": {
                        "gridcolor": "white",
                        "linecolor": "white",
                        "ticks": ""
                      }
                    },
                    "scene": {
                      "xaxis": {
                        "backgroundcolor": "#E5ECF6",
                        "gridcolor": "white",
                        "gridwidth": 2,
                        "linecolor": "white",
                        "showbackground": true,
                        "ticks": "",
                        "zerolinecolor": "white"
                      },
                      "yaxis": {
                        "backgroundcolor": "#E5ECF6",
                        "gridcolor": "white",
                        "gridwidth": 2,
                        "linecolor": "white",
                        "showbackground": true,
                        "ticks": "",
                        "zerolinecolor": "white"
                      },
                      "zaxis": {
                        "backgroundcolor": "#E5ECF6",
                        "gridcolor": "white",
                        "gridwidth": 2,
                        "linecolor": "white",
                        "showbackground": true,
                        "ticks": "",
                        "zerolinecolor": "white"
                      }
                    },
                    "shapedefaults": {
                      "line": {
                        "color": "#2a3f5f"
                      }
                    },
                    "ternary": {
                      "aaxis": {
                        "gridcolor": "white",
                        "linecolor": "white",
                        "ticks": ""
                      },
                      "baxis": {
                        "gridcolor": "white",
                        "linecolor": "white",
                        "ticks": ""
                      },
                      "bgcolor": "#E5ECF6",
                      "caxis": {
                        "gridcolor": "white",
                        "linecolor": "white",
                        "ticks": ""
                      }
                    },
                    "title": {
                      "x": 0.05
                    },
                    "xaxis": {
                      "automargin": true,
                      "gridcolor": "white",
                      "linecolor": "white",
                      "ticks": "",
                      "title": {
                        "standoff": 15
                      },
                      "zerolinecolor": "white",
                      "zerolinewidth": 2
                    },
                    "yaxis": {
                      "automargin": true,
                      "gridcolor": "white",
                      "linecolor": "white",
                      "ticks": "",
                      "title": {
                        "standoff": 15
                      },
                      "zerolinecolor": "white",
                      "zerolinewidth": 2
                    }
                  }
                }
              }
            }
          },
          "metadata": {},
          "output_type": "display_data"
        }
      ],
      "source": [
        "structure_professionalism_template = PointwiseMetricPromptTemplate(\n",
        "    criteria={\n",
        "        \"formatting\": \"The response should follow the specified format with clear headlines, dates, and summaries.\",\n",
        "        \"professional_tone\": \"The response should maintain a professional and objective tone throughout.\",\n",
        "        \"clarity\": \"The information should be presented clearly and be easy to understand.\",\n",
        "    },\n",
        "    rating_rubric={\n",
        "        \"5\": \"Response is well-structured, professional, and clear.\",\n",
        "        \"3\": \"Response has good structure but could be more professional or clearer.\",\n",
        "        \"1\": \"Response lacks proper structure or professionalism.\",\n",
        "    },\n",
        ")\n",
        "\n",
        "structure_professionalism_metric = PointwiseMetric(\n",
        "    metric=\"structure_professionalism\",\n",
        "    metric_prompt_template=structure_professionalism_template,\n",
        ")\n",
        "\n",
        "# Create evaluation dataset\n",
        "eval_dataset = pd.DataFrame(ground_truth_data)\n",
        "\n",
        "# Run evaluation\n",
        "eval_task = EvalTask(\n",
        "    dataset=eval_dataset,\n",
        "    metrics=[structure_professionalism_metric],\n",
        "    experiment=\"kyc-structure-professionalism\",\n",
        ")\n",
        "\n",
        "eval_result = eval_task.evaluate()\n",
        "\n",
        "# Display results\n",
        "display_eval_result(eval_result)\n",
        "\n",
        "# Create visualization of results\n",
        "plot_bar_plot(\n",
        "    [\n",
        "        (\n",
        "            \"Structure and Professionalism\",\n",
        "            eval_result.summary_metrics,\n",
        "            eval_result.metrics_table,\n",
        "        )\n",
        "    ]\n",
        ")"
      ]
    },
    {
      "cell_type": "markdown",
      "metadata": {
        "id": "2a4e033321ad"
      },
      "source": [
        "## Cleaning up\n",
        "This notebook primarily makes API calls to Google's Gemini models and does not create persistent resources in your Google Cloud project (like VMs, storage buckets, etc.) beyond the API usage itself. Therefore, specific cleanup steps for created resources are generally not required after running this notebook.\n",
        "\n",
        "If you want to disable the Vertex AI API used, you can do so from the Google Cloud Console, but this would affect any other services or notebooks relying on it."
      ]
    }
  ],
  "metadata": {
    "colab": {
      "name": "know_your_customer_use_case.ipynb",
      "toc_visible": true
    },
    "kernelspec": {
      "display_name": "Python 3",
      "name": "python3"
    }
  },
  "nbformat": 4,
  "nbformat_minor": 0
}
