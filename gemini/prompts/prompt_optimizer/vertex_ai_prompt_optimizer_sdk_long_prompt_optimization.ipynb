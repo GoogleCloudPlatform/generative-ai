{
 "cells": [
  {
   "cell_type": "code",
   "execution_count": null,
   "metadata": {
    "id": "ur8xi4C7S06n"
   },
   "outputs": [],
   "source": [
    "# Copyright 2024 Google LLC\n",
    "#\n",
    "# Licensed under the Apache License, Version 2.0 (the \"License\");\n",
    "# you may not use this file except in compliance with the License.\n",
    "# You may obtain a copy of the License at\n",
    "#\n",
    "#     https://www.apache.org/licenses/LICENSE-2.0\n",
    "#\n",
    "# Unless required by applicable law or agreed to in writing, software\n",
    "# distributed under the License is distributed on an \"AS IS\" BASIS,\n",
    "# WITHOUT WARRANTIES OR CONDITIONS OF ANY KIND, either express or implied.\n",
    "# See the License for the specific language governing permissions and\n",
    "# limitations under the License."
   ]
  },
  {
   "cell_type": "markdown",
   "metadata": {
    "id": "JAPoU8Sm5E6e"
   },
   "source": [
    "# Vertex Prompt Optimizer Notebook SDK (Preview) - Long Prompt Optimization\n",
    "\n",
    "<table align=\"left\">\n",
    "  <td style=\"text-align: center\">\n",
    "    <a href=\"https://colab.research.google.com/github/GoogleCloudPlatform/generative-ai/blob/main/gemini/prompts/prompt_optimizer/vertex_ai_prompt_optimizer_sdk_long_prompt_optimization.ipynb\">\n",
    "      <img width=\"32px\" src=\"https://www.gstatic.com/pantheon/images/bigquery/welcome_page/colab-logo.svg\" alt=\"Google Colaboratory logo\"><br> Open in Colab\n",
    "    </a>\n",
    "  </td>\n",
    "  <td style=\"text-align: center\">\n",
    "    <a href=\"https://console.cloud.google.com/vertex-ai/colab/import/https:%2F%2Fraw.githubusercontent.com%2FGoogleCloudPlatform%2Fgenerative-ai%2Fmain%2Fgemini%2Fprompts%2Fprompt_optimizer%2Fvertex_ai_prompt_optimizer_sdk_long_prompt_optimization.ipynb\">\n",
    "      <img width=\"32px\" src=\"https://lh3.googleusercontent.com/JmcxdQi-qOpctIvWKgPtrzZdJJK-J3sWE1RsfjZNwshCFgE_9fULcNpuXYTilIR2hjwN\" alt=\"Google Cloud Colab Enterprise logo\"><br> Open in Colab Enterprise\n",
    "    </a>\n",
    "  </td>\n",
    "  <td style=\"text-align: center\">\n",
    "    <a href=\"https://console.cloud.google.com/vertex-ai/workbench/deploy-notebook?download_url=https://raw.githubusercontent.com/GoogleCloudPlatform/generative-ai/main/gemini/prompts/prompt_optimizer/vertex_ai_prompt_optimizer_sdk_long_prompt_optimization.ipynb\">\n",
    "      <img src=\"https://www.gstatic.com/images/branding/gcpiconscolors/vertexai/v1/32px.svg\" alt=\"Vertex AI logo\"><br> Open in Vertex AI Workbench\n",
    "    </a>\n",
    "  </td>\n",
    "  <td style=\"text-align: center\">\n",
    "    <a href=\"https://github.com/GoogleCloudPlatform/generative-ai/blob/main/gemini/prompts/prompt_optimizer/vertex_ai_prompt_optimizer_sdk_long_prompt_optimization.ipynb\">\n",
    "      <img width=\"32px\" src=\"https://upload.wikimedia.org/wikipedia/commons/9/91/Octicons-mark-github.svg\" alt=\"GitHub logo\"><br> View on GitHub\n",
    "    </a>\n",
    "  </td>\n",
    "</table>\n",
    "\n",
    "<div style=\"clear: both;\"></div>\n",
    "\n",
    "<b>Share to:</b>\n",
    "\n",
    "<a href=\"https://www.linkedin.com/sharing/share-offsite/?url=https%3A//github.com/GoogleCloudPlatform/generative-ai/blob/main/gemini/prompts/prompt_optimizer/vertex_ai_prompt_optimizer_sdk_long_prompt_optimization.ipynb\" target=\"_blank\">\n",
    "  <img width=\"20px\" src=\"https://upload.wikimedia.org/wikipedia/commons/8/81/LinkedIn_icon.svg\" alt=\"LinkedIn logo\">\n",
    "</a>\n",
    "\n",
    "<a href=\"https://bsky.app/intent/compose?text=https%3A//github.com/GoogleCloudPlatform/generative-ai/blob/main/gemini/prompts/prompt_optimizer/vertex_ai_prompt_optimizer_sdk_long_prompt_optimization.ipynb\" target=\"_blank\">\n",
    "  <img width=\"20px\" src=\"https://upload.wikimedia.org/wikipedia/commons/7/7a/Bluesky_Logo.svg\" alt=\"Bluesky logo\">\n",
    "</a>\n",
    "\n",
    "<a href=\"https://twitter.com/intent/tweet?url=https%3A//github.com/GoogleCloudPlatform/generative-ai/blob/main/gemini/prompts/prompt_optimizer/vertex_ai_prompt_optimizer_sdk_long_prompt_optimization.ipynb\" target=\"_blank\">\n",
    "  <img width=\"20px\" src=\"https://upload.wikimedia.org/wikipedia/commons/5/53/X_logo_2023_original.svg\" alt=\"X logo\">\n",
    "</a>\n",
    "\n",
    "<a href=\"https://reddit.com/submit?url=https%3A//github.com/GoogleCloudPlatform/generative-ai/blob/main/gemini/prompts/prompt_optimizer/vertex_ai_prompt_optimizer_sdk_long_prompt_optimization.ipynb\" target=\"_blank\">\n",
    "  <img width=\"20px\" src=\"https://redditinc.com/hubfs/Reddit%20Inc/Brand/Reddit_Logo.png\" alt=\"Reddit logo\">\n",
    "</a>\n",
    "\n",
    "<a href=\"https://www.facebook.com/sharer/sharer.php?u=https%3A//github.com/GoogleCloudPlatform/generative-ai/blob/main/gemini/prompts/prompt_optimizer/vertex_ai_prompt_optimizer_sdk_long_prompt_optimization.ipynb\" target=\"_blank\">\n",
    "  <img width=\"20px\" src=\"https://upload.wikimedia.org/wikipedia/commons/5/51/Facebook_f_logo_%282019%29.svg\" alt=\"Facebook logo\">\n",
    "</a>"
   ]
  },
  {
   "cell_type": "markdown",
   "metadata": {
    "id": "0ccc35a93b9f"
   },
   "source": [
    "| | | |\n",
    "|-|-|-|\n",
    "| Author | [Ivan Nardini](https://github.com/inardini) |"
   ]
  },
  {
   "cell_type": "markdown",
   "metadata": {
    "id": "tvgnzT1CKxrO"
   },
   "source": [
    "##  I. Overview\n",
    "\n",
    "When developing Generative AI (Gen AI) applications, prompt engineering poses challenges due to its time-consuming and error-prone nature. Significant effort is involved when crafting and inputting prompts to achieve successful task completion. With the frequent release of foundational models, you face the added burden of migrating working prompts from one model version to another.\n",
    "\n",
    "Vertex AI prompt optimizer alleviates these challenges by providing an intelligent prompt optimization tool. With this tool you can both translate and optimize system instructions in the prompts and best demonstrations (examples) for prompt templates, which lets you shape LLM responses from any source model to a target Google model.\n"
   ]
  },
  {
   "cell_type": "markdown",
   "metadata": {
    "id": "4HKyj5KwYePX"
   },
   "source": [
    "### Objective\n",
    "\n",
    "This notebook demonstrates how to leverage Vertex AI prompt optimizer to optimize a long prompt for a Gemini model. The goal is to use Vertex AI prompt optimizer to find a new long prompt template that generates better responses.\n",
    "\n",
    "This tutorial uses the following Google Cloud services and resources:\n",
    "\n",
    "- Generative AI on Vertex AI\n",
    "- Vertex AI prompt optimizer\n",
    "- Vertex AI Gen AI evaluation\n",
    "- Vertex AI Custom job\n",
    "\n",
    "The steps performed include:\n",
    "\n",
    "1. Define the prompt template you want to optimize.\n",
    "2. Prepare the prompt optimization dataset.\n",
    "3. Set optimization mode and steps.\n",
    "5. Run the automatic prompt optimization job.\n",
    "6. Collect the best prompt template and eval metric.\n",
    "7. Validate the best prompt template."
   ]
  },
  {
   "cell_type": "markdown",
   "metadata": {
    "id": "08d289fa873f"
   },
   "source": [
    "### Dataset\n",
    "\n",
    "The dataset is a synthetic question/answer pairs for random short/medium/long periods are here. Here you have an example of Q&A record:\n",
    "\n",
    "```\n",
    "\"question\": \"What is the total length of the date range that starts on January 23, 2004 and ends on March 29, 2012 including the start and end days?\n",
    "\"answer\": 2989\n",
    "```\n",
    "\n"
   ]
  },
  {
   "cell_type": "markdown",
   "metadata": {
    "id": "aed92deeb4a0"
   },
   "source": [
    "### Costs\n",
    "\n",
    "This tutorial uses billable components of Google Cloud:\n",
    "\n",
    "* Vertex AI\n",
    "* Cloud Storage\n",
    "\n",
    "Learn about [Vertex AI pricing](https://cloud.google.com/vertex-ai/pricing) and [Cloud Storage pricing](https://cloud.google.com/storage/pricing) and use the [Pricing Calculator](https://cloud.google.com/products/calculator/) to generate a cost estimate based on your projected usage."
   ]
  },
  {
   "cell_type": "markdown",
   "metadata": {
    "id": "61RBz8LLbxCR"
   },
   "source": [
    "## II. Before you start"
   ]
  },
  {
   "cell_type": "markdown",
   "metadata": {
    "id": "No17Cw5hgx12"
   },
   "source": [
    "### Install Vertex AI SDK for Python and other required packages\n"
   ]
  },
  {
   "cell_type": "code",
   "execution_count": null,
   "metadata": {
    "colab": {
     "base_uri": "https://localhost:8080/"
    },
    "id": "tFy3H3aPgx12",
    "outputId": "ded6655e-301c-4518-b597-214ed5e5a13e"
   },
   "outputs": [],
   "source": [
    "%pip install --upgrade --quiet 'google-cloud-aiplatform'\n",
    "%pip install --upgrade --quiet 'scikit-learn' 'plotly' 'asyncio' 'tqdm' 'tenacity' 'etils' 'importlib_resources' 'fsspec' 'gcsfs' 'nbformat>=4.2.0'"
   ]
  },
  {
   "cell_type": "code",
   "execution_count": null,
   "metadata": {
    "colab": {
     "base_uri": "https://localhost:8080/"
    },
    "id": "e55e2195ce2d",
    "outputId": "99c6bf49-79c0-47c4-9c7c-e7d924fef668"
   },
   "outputs": [],
   "source": [
    "! mkdir -p ./tutorial/utils && wget https://raw.githubusercontent.com/GoogleCloudPlatform/generative-ai/main/gemini/prompts/prompt_optimizer/vapo_lib.py -P ./tutorial/utils"
   ]
  },
  {
   "cell_type": "markdown",
   "metadata": {
    "id": "R5Xep4W9lq-Z"
   },
   "source": [
    "### Restart runtime (Colab only)\n",
    "\n",
    "To use the newly installed packages, you must restart the runtime on Google Colab."
   ]
  },
  {
   "cell_type": "code",
   "execution_count": null,
   "metadata": {
    "id": "XRvKdaPDTznN"
   },
   "outputs": [],
   "source": [
    "import sys\n",
    "\n",
    "if \"google.colab\" in sys.modules:\n",
    "    import IPython\n",
    "\n",
    "    app = IPython.Application.instance()\n",
    "    app.kernel.do_shutdown(True)"
   ]
  },
  {
   "cell_type": "markdown",
   "metadata": {
    "id": "SbmM4z7FOBpM"
   },
   "source": [
    "<div class=\"alert alert-block alert-warning\">\n",
    "<b>⚠️ The kernel is going to restart. Wait until it's finished before continuing to the next step. ⚠️</b>\n",
    "</div>\n"
   ]
  },
  {
   "cell_type": "markdown",
   "metadata": {
    "id": "dmWOrTJ3gx13"
   },
   "source": [
    "### Authenticate your notebook environment (Colab only)\n",
    "\n",
    "Authenticate your environment on Google Colab.\n"
   ]
  },
  {
   "cell_type": "code",
   "execution_count": null,
   "metadata": {
    "id": "NyKGtVQjgx13"
   },
   "outputs": [],
   "source": [
    "import sys\n",
    "\n",
    "if \"google.colab\" in sys.modules:\n",
    "    from google.colab import auth\n",
    "\n",
    "    auth.authenticate_user()"
   ]
  },
  {
   "cell_type": "markdown",
   "metadata": {
    "id": "DF4l8DTdWgPY"
   },
   "source": [
    "### Set Google Cloud project information\n",
    "\n",
    "To get started using Vertex AI, you must have an existing Google Cloud project and [enable the following APIs](https://console.cloud.google.com/flows/enableapi?apiid=cloudresourcemanager.googleapis.com,aiplatform.googleapis.com,cloudfunctions.googleapis.com,run.googleapis.com).\n",
    "\n",
    "Learn more about [setting up a project and a development environment](https://cloud.google.com/vertex-ai/docs/start/cloud-environment)."
   ]
  },
  {
   "cell_type": "markdown",
   "metadata": {
    "id": "WReHDGG5g0XY"
   },
   "source": [
    "#### Set your project ID and project number"
   ]
  },
  {
   "cell_type": "code",
   "execution_count": null,
   "metadata": {
    "colab": {
     "base_uri": "https://localhost:8080/"
    },
    "id": "oM1iC_MfAts1",
    "outputId": "9765bf2d-1231-4942-db77-13eaa3658cd2"
   },
   "outputs": [],
   "source": [
    "PROJECT_ID = \"[your-project-id]\"  # @param {type:\"string\"}\n",
    "\n",
    "# Set the project id\n",
    "! gcloud config set project {PROJECT_ID}"
   ]
  },
  {
   "cell_type": "code",
   "execution_count": null,
   "metadata": {
    "id": "oZpm-sL8f1z_"
   },
   "outputs": [],
   "source": [
    "PROJECT_NUMBER = !gcloud projects describe {PROJECT_ID} --format=\"get(projectNumber)\"[0]\n",
    "PROJECT_NUMBER = PROJECT_NUMBER[0]"
   ]
  },
  {
   "cell_type": "markdown",
   "metadata": {
    "id": "region"
   },
   "source": [
    "#### Region\n",
    "\n",
    "You can also change the `REGION` variable used by Vertex AI. Learn more about [Vertex AI regions](https://cloud.google.com/vertex-ai/docs/general/locations)."
   ]
  },
  {
   "cell_type": "code",
   "execution_count": null,
   "metadata": {
    "id": "I6FmBV2_0fBP"
   },
   "outputs": [],
   "source": [
    "REGION = \"us-central1\"  # @param {type: \"string\"}"
   ]
  },
  {
   "cell_type": "markdown",
   "metadata": {
    "id": "zgPO1eR3CYjk"
   },
   "source": [
    "#### Create a Cloud Storage bucket\n",
    "\n",
    "Create a storage bucket to store intermediate artifacts such as datasets."
   ]
  },
  {
   "cell_type": "code",
   "execution_count": null,
   "metadata": {
    "id": "MzGDU7TWdts_"
   },
   "outputs": [],
   "source": [
    "BUCKET_NAME = \"your-bucket-name-{PROJECT_ID}-unique\"  # @param {type:\"string\"}\n",
    "\n",
    "BUCKET_URI = f\"gs://{BUCKET_NAME}\"  # @param {type:\"string\"}"
   ]
  },
  {
   "cell_type": "code",
   "execution_count": null,
   "metadata": {
    "colab": {
     "base_uri": "https://localhost:8080/"
    },
    "id": "NIq7R4HZCfIc",
    "outputId": "11bd057d-5451-4516-e2a5-eecc9b5226a2"
   },
   "outputs": [],
   "source": [
    "! gsutil mb -l {REGION} -p {PROJECT_ID} {BUCKET_URI}"
   ]
  },
  {
   "cell_type": "markdown",
   "metadata": {
    "id": "set_service_account"
   },
   "source": [
    "#### Service Account and permissions\n",
    "\n",
    "Vertex AI Prompt optimizer requires a service account with the following permissions:\n",
    "\n",
    "-   `Vertex AI User` to call Vertex LLM API\n",
    "-   `Storage Object Admin` to read and write to your GCS bucket.\n",
    "-   `Artifact Registry Reader` to download the pipeline template from Artifact Registry.\n",
    "\n",
    "[Check out the documentation](https://cloud.google.com/iam/docs/manage-access-service-accounts#iam-view-access-sa-gcloud) to learn how to grant those permissions to a single service account.\n"
   ]
  },
  {
   "cell_type": "markdown",
   "metadata": {
    "id": "fNRKI99_QtGR"
   },
   "source": [
    "> If you run following commands using Vertex AI Workbench, please directly run in the terminal.\n"
   ]
  },
  {
   "cell_type": "code",
   "execution_count": null,
   "metadata": {
    "id": "ssUJJqXJJHgC"
   },
   "outputs": [],
   "source": [
    "SERVICE_ACCOUNT = f\"{PROJECT_NUMBER}-compute@developer.gserviceaccount.com\""
   ]
  },
  {
   "cell_type": "code",
   "execution_count": null,
   "metadata": {
    "colab": {
     "base_uri": "https://localhost:8080/"
    },
    "id": "wqOHg5aid6HP",
    "outputId": "35544114-041f-438f-bbdb-41e3b77b2a5b"
   },
   "outputs": [],
   "source": [
    "for role in ['aiplatform.user', 'storage.objectAdmin', 'artifactregistry.reader']:\n",
    "\n",
    "    ! gcloud projects add-iam-policy-binding {PROJECT_ID} \\\n",
    "      --member=serviceAccount:{SERVICE_ACCOUNT} \\\n",
    "      --role=roles/{role} --condition=None"
   ]
  },
  {
   "cell_type": "markdown",
   "metadata": {
    "id": "Ek1-iTbPjzdJ"
   },
   "source": [
    "### Set tutorial folder and workspace\n",
    "\n",
    "Set a local workspace to collect and organize data and store prompt optimization results on Cloud Storage bucket."
   ]
  },
  {
   "cell_type": "code",
   "execution_count": null,
   "metadata": {
    "id": "joJPc3FmX1fk"
   },
   "outputs": [],
   "source": [
    "from etils import epath\n",
    "\n",
    "WORKSPACE_URI = epath.Path(BUCKET_URI) / \"optimization\"\n",
    "INPUT_DATA_URI = epath.Path(WORKSPACE_URI) / \"data\"\n",
    "\n",
    "WORKSPACE_URI.mkdir(parents=True, exist_ok=True)\n",
    "INPUT_DATA_URI.mkdir(parents=True, exist_ok=True)"
   ]
  },
  {
   "cell_type": "markdown",
   "metadata": {
    "id": "960505627ddf"
   },
   "source": [
    "### Import libraries"
   ]
  },
  {
   "cell_type": "code",
   "execution_count": null,
   "metadata": {
    "id": "PyQmSRbKA8r-"
   },
   "outputs": [],
   "source": [
    "# Tutorial\n",
    "from argparse import Namespace\n",
    "import json\n",
    "\n",
    "# General\n",
    "import logging\n",
    "from pprint import pprint\n",
    "import warnings\n",
    "\n",
    "from IPython.display import HTML, display\n",
    "from google.cloud import aiplatform\n",
    "import pandas as pd\n",
    "from sklearn.model_selection import train_test_split\n",
    "from tutorial.utils import vapo_lib\n",
    "from tqdm.asyncio import tqdm_asyncio"
   ]
  },
  {
   "cell_type": "markdown",
   "metadata": {
    "id": "820DIvw1o8tB"
   },
   "source": [
    "### Libraries settings"
   ]
  },
  {
   "cell_type": "code",
   "execution_count": null,
   "metadata": {
    "id": "HKc4ZdUBo_SM"
   },
   "outputs": [],
   "source": [
    "warnings.filterwarnings(\"ignore\")\n",
    "logging.getLogger(\"urllib3.connectionpool\").setLevel(logging.ERROR)"
   ]
  },
  {
   "cell_type": "markdown",
   "metadata": {
    "id": "gxc7q4r-DFH4"
   },
   "source": [
    "### Define constants"
   ]
  },
  {
   "cell_type": "code",
   "execution_count": null,
   "metadata": {
    "id": "0Y5t67f3DHNm"
   },
   "outputs": [],
   "source": [
    "INPUT_DATA_FILE_URI = \"gs://github-repo/prompts/prompt_optimizer/qa_long_prompt_dataset.jsonl\"\n",
    "\n",
    "INPUT_OPTIMIZATION_DATA_URI = epath.Path(WORKSPACE_URI) / \"prompt_optimization_data\"\n",
    "INPUT_OPTIMIZATION_DATA_FILE_URI = str(\n",
    "    INPUT_DATA_URI / \"prompt_optimization_dataset.jsonl\"\n",
    ")\n",
    "OUTPUT_OPTIMIZATION_DATA_URI = epath.Path(WORKSPACE_URI) / \"optimization_jobs\"\n",
    "APD_CONTAINER_URI = (\n",
    "    \"us-docker.pkg.dev/vertex-ai-restricted/builtin-algorithm/apd:preview_v1_0\"\n",
    ")\n",
    "CONFIG_FILE_URI = str(WORKSPACE_URI / \"config\" / \"config.json\")"
   ]
  },
  {
   "cell_type": "markdown",
   "metadata": {
    "id": "init_aip:mbsdk,all"
   },
   "source": [
    "### Initialize Vertex AI SDK for Python\n",
    "\n",
    "Initialize the Vertex AI SDK for Python for your project."
   ]
  },
  {
   "cell_type": "code",
   "execution_count": null,
   "metadata": {
    "id": "bQMc2Uwf0fBQ"
   },
   "outputs": [],
   "source": [
    "aiplatform.init(project=PROJECT_ID, location=REGION, staging_bucket=BUCKET_URI)"
   ]
  },
  {
   "cell_type": "markdown",
   "metadata": {
    "id": "EdvJRUWRNGHE"
   },
   "source": [
    "## III. Automated prompt design with Vertex AI prompt optimizer"
   ]
  },
  {
   "cell_type": "markdown",
   "metadata": {
    "id": "mmTotjRAJplw"
   },
   "source": [
    "### Load the dataset\n",
    "\n",
    "Load the question-answer dataset from a Google Cloud Storage bucket."
   ]
  },
  {
   "cell_type": "code",
   "execution_count": null,
   "metadata": {
    "id": "LA7aG08wJtVm"
   },
   "outputs": [],
   "source": [
    "prompt_optimization_df = pd.read_json(INPUT_DATA_FILE_URI, lines=True).sample(100)"
   ]
  },
  {
   "cell_type": "code",
   "execution_count": null,
   "metadata": {
    "colab": {
     "base_uri": "https://localhost:8080/",
     "height": 206
    },
    "id": "1xn-pz3v5HVK",
    "outputId": "cc75f9e8-ef55-49a2-a46d-6333a03f6857"
   },
   "outputs": [],
   "source": [
    "prompt_optimization_df.head()"
   ]
  },
  {
   "cell_type": "markdown",
   "metadata": {
    "id": "E2l7JwuDcPqX"
   },
   "source": [
    "Print an example of the question-answer dataset.  "
   ]
  },
  {
   "cell_type": "code",
   "execution_count": null,
   "metadata": {
    "colab": {
     "base_uri": "https://localhost:8080/",
     "height": 444
    },
    "id": "b8zgOTZVa6xa",
    "outputId": "24ae6bcc-f771-4a8f-841c-7b25cd62bb20"
   },
   "outputs": [],
   "source": [
    "vapo_lib.print_df_rows(prompt_optimization_df, n=5)"
   ]
  },
  {
   "cell_type": "markdown",
   "metadata": {
    "id": "Rp1n1aMACzSW"
   },
   "source": [
    "### Optimize the prompt template with Vertex AI prompt optimizer with custom metric\n"
   ]
  },
  {
   "cell_type": "markdown",
   "metadata": {
    "id": "h1650lf3X8xW"
   },
   "source": [
    "#### Prepare the prompt template you want to optimize\n",
    "\n",
    "A prompt consists of two key parts:\n",
    "\n",
    "* **System Instruction Template** which is a fixed part of the prompt that control or alter the model's behavior across all queries for a given task.\n",
    "\n",
    "* **Prompt Template** which is a dynamic part of the prompt that changes based on the task. Prompt template includes examples, context, task and more. To learn more, see [components of a prompt](https://cloud.google.com/vertex-ai/generative-ai/docs/learn/prompts/prompt-design-strategies#components-of-a-prompt) in the official documentation.\n",
    "\n",
    "In this scenario, you use Vertex AI prompt optimizer to optimize a simple system instruction template. And you use some examples in the remaining prompt template for evaluating different instruction templates along the optimization process. \n",
    "\n",
    "But because you are dealing with large prompts in Vertex AI, optimizing the entire prompt at once can be challenging. Vertex AI prompt optimizer offers a solution: **placeholders** (`{{place-holder}}`). You have two placeholder types:\n",
    "*   **Static placeholders** hold consistent content across all your examples (e.g.unchanging instructions). These placeholders allow you to \"freeze\" specific sections of your prompt, such as detailed business logic with lists of APIs or tools, while the optimizer focuses on improving the rest, ensuring efficient optimization without altering critical information. This allows for targeted optimization while preserving essential prompt components. Define these placeholders in the prompt optimization configuration (`placeholder_to_content` parameter).\n",
    "\n",
    "> Alternatively, you can use `{{placeholders}}` in an iterative method to *refine* the prompt. You focus on enhancing distinct segments in separate optimization cycles, using placeholders for the sections not being optimized at the moment. It's also feasible to apply a unique metric for each optimization phase, tailoring the process to suit the specific needs of each part.\n",
    "\n",
    "*   **Dynamic placeholders** vary per example (e.g., the input text itself). Manage these by pointing `input_data_path` to a JSONL file containing the example-specific mappings.\n",
    "\n",
    "> An example of Dynamic placeholder is `target` placeholder in the prompt template. The `target` placeholder is optional. It represents the prompt's ground truth response in your prompt optimization dataset that you aim to optimize for your templates. If you don't have the prompt's ground truth response, remember to set the `source_model` parameter to your prompt optimizer configuration (see below) instead of adding ground truth responses. Vertex AI prompt optimizer would run your sample prompts on the source model to generate the ground truth responses for you.\n",
    "\n",
    "Every placeholder in your system instruction template and prompt template must be defined in either `placeholder_to_content` parameter or your JSONL file. In the example below, you will pass the ``{{examples}}`` placeholder as `placeholder_to_content` parameter in optimization configuration for indicating a set of illustrative few shot examples needs to be inserted in every prompt.\n"
   ]
  },
  {
   "cell_type": "code",
   "execution_count": null,
   "metadata": {
    "id": "Db8rHNC6DmtY"
   },
   "outputs": [],
   "source": [
    "SYSTEM_INSTRUCTION_TEMPLATE = \"\"\"\n",
    "<INSTRUCTIONS>\n",
    "You are a detail oriented AI assistant. Your goal is to calculate the total length of the given date range including the start and end days.\n",
    "Pay close attention to the following examples which illustrate the correct way to calculate the number of days in the date range:\n",
    "</INSTRUCTIONS>\n",
    "<EXAMPLES>\n",
    "{{examples}}\n",
    "</EXAMPLES>\n",
    "\"\"\"\n",
    "\n",
    "PROMPT_TEMPLATE = \"\"\"\n",
    "<QUESTION>\n",
    "{{question}}\n",
    "</QUESTION>\n",
    "<ANSWER>\n",
    "{{target}}\n",
    "\"\"\""
   ]
  },
  {
   "cell_type": "markdown",
   "metadata": {
    "id": "a1TCgXsrXztm"
   },
   "source": [
    "#### Prepare the prompt optimization dataset\n",
    "\n",
    "To use Vertex AI prompt optimizer, you'll need a CSV or JSONL file with labeled examples.  These examples should follow a specific naming convention. For details see [Optimize prompts](https://cloud.google.com/vertex-ai/generative-ai/docs/learn/prompts/prompt-optimizer).\n"
   ]
  },
  {
   "cell_type": "markdown",
   "metadata": {
    "id": "SYV-fansHMM_"
   },
   "source": [
    "> For effective **prompt optimization**, provide a dataset of examples where your model is poor in performance when using current system instruction template. For reliable results, use 50-100 distinct samples.\n",
    "\n",
    "> In case of **prompt migration**, consider using the source model to label examples that the target model struggles with, helping to identify areas for improvement."
   ]
  },
  {
   "cell_type": "code",
   "execution_count": null,
   "metadata": {
    "id": "XRW5caPPtSbl"
   },
   "outputs": [],
   "source": [
    "train_prompt_optimization_df, test_prompt_optimization_df = train_test_split(\n",
    "    prompt_optimization_df, test_size=0.3, random_state=8\n",
    ")"
   ]
  },
  {
   "cell_type": "code",
   "execution_count": null,
   "metadata": {
    "id": "vTIl_v9Ig1F-"
   },
   "outputs": [],
   "source": [
    "prepared_train_prompt_optimization_df = train_prompt_optimization_df.copy()\n",
    "\n",
    "# Prepare optimization dataset columns\n",
    "prepared_train_prompt_optimization_df = prepared_train_prompt_optimization_df.rename(\n",
    "    columns={\"answer\": \"target\"}\n",
    ")"
   ]
  },
  {
   "cell_type": "markdown",
   "metadata": {
    "id": "ZbTqB2o5ZslT"
   },
   "source": [
    "Print some examples of the prompt optimization dataset.  "
   ]
  },
  {
   "cell_type": "code",
   "execution_count": null,
   "metadata": {
    "colab": {
     "base_uri": "https://localhost:8080/",
     "height": 206
    },
    "id": "_DUFEAb82eEi",
    "outputId": "c3a5f925-6b18-4697-80c7-943b31898644"
   },
   "outputs": [],
   "source": [
    "prepared_train_prompt_optimization_df.head()"
   ]
  },
  {
   "cell_type": "markdown",
   "metadata": {
    "id": "sc5zECozlHHt"
   },
   "source": [
    "#### Upload samples to bucket\n",
    "\n",
    "Once you prepare your prompt optimization dataset, you can upload them on Cloud Storage bucket."
   ]
  },
  {
   "cell_type": "code",
   "execution_count": null,
   "metadata": {
    "id": "Nel9sILzlHHt"
   },
   "outputs": [],
   "source": [
    "prepared_train_prompt_optimization_df.to_json(\n",
    "    INPUT_OPTIMIZATION_DATA_FILE_URI, orient=\"records\", lines=True\n",
    ")"
   ]
  },
  {
   "cell_type": "markdown",
   "metadata": {
    "id": "F5RD0l2xX-FI"
   },
   "source": [
    "#### Configure optimization settings\n",
    "\n",
    "Vertex AI prompt optimizer lets you control the optimization process by specifying what to optimize (instructions only, demonstrations only, or both), providing a system instruction and prompt template, and selecting the target model.  You can optionally refine the optimization with some advanced settings like its duration and the number of optimization iterations it runs, which models the Vertex AI prompt optimizer uses, and other parameters to control the structure and content of prompts. Below you have some common and recommended default configurations.\n",
    "\n",
    "In this scenario, you also set the **`placeholder_to_content` parameter**. This dictionary maps the placeholder (like \"examples\") in your system instruction template to their actual content (your few-shot examples). This step guarantees that all placeholders are correctly substituted with the appropriate text during the evaluation of new prompt templates by Vertex AI Prompt Optimizer.\n",
    "\n",
    "You can also guide the model's output format using the **`response_schema` parameter**. For instance, specify an integer schema to ensure the model returns a date range as a number.\n",
    "\n",
    "For more advanced control, you can learn and explore more about all the parameters and how to best use them in the [detailed documentation](https://cloud.google.com/vertex-ai/generative-ai/docs/learn/prompts/prompt-optimizer).\n"
   ]
  },
  {
   "cell_type": "code",
   "execution_count": null,
   "metadata": {
    "id": "sFHutXhgeqRx"
   },
   "outputs": [],
   "source": [
    "PROMPT_OPTIMIZATION_JOB = \"auto-prompt-design-job-\" + vapo_lib.get_id()\n",
    "OUTPUT_OPTIMIZATION_RUN_URI = str(\n",
    "    OUTPUT_OPTIMIZATION_DATA_URI / PROMPT_OPTIMIZATION_JOB\n",
    ")\n",
    "\n",
    "PLACEHOLDER_TO_CONTENT = r'{\"examples\": \"<QUESTION>\\\"What is the total length of the date range that starts on May 29, 2017 and ends on June 03, 2017 including the start and end days?\\\"</QUESTION><ANSWER>6</ANSWER>\\n<QUESTION>\\\"What is the total length of the date range that starts on July 09, 2012 and ends on July 15, 2012 including the start and end days?\\\"</QUESTION><ANSWER>7</ANSWER>\\n<QUESTION>\\\"What is the total length of the date range that starts on February 16, 2018 and ends on January 30, 2019 including the start and end days?\\\"</QUESTION><ANSWER>349</ANSWER>\\n<QUESTION>\\\"What is the total length of the date range that starts on December 24, 2010 and ends on December 30, 2010 including the start and end days?\\\"</QUESTION><ANSWER>7</ANSWER>\\n<QUESTION>\\\"What is the total length of the date range that starts on June 23, 2003 and ends on May 04, 2005 including the start and end days?\\\"</QUESTION><ANSWER>682</ANSWER>\"}'\n",
    "RESPONSE_SCHEMA = r'{\"type\": \"INTEGER\", \"format\": \"int64\"}'\n",
    "\n",
    "args = Namespace(\n",
    "    # Basic configuration\n",
    "    system_instruction=SYSTEM_INSTRUCTION_TEMPLATE,  # System instructions for the target model. String.\n",
    "    prompt_template=PROMPT_TEMPLATE,  # Template for prompts,  String.\n",
    "    target_model=\"gemini-1.5-flash-001\",  # Target model for optimization. String. Supported models: \"gemini-1.5-flash-002\", \"gemini-1.5-pro-002\", \"gemini-1.5-flash-001\", \"gemini-1.5-pro-001\", \"gemini-1.0-pro-001\", \"gemini-1.0-pro-002\", \"gemini-1.0-ultra-001\", \"text-bison@001\", \"text-bison@002\", \"text-bison32k@002\", \"text-unicorn@001\"\n",
    "    optimization_mode=\"instruction\",  # Optimization mode. String. Supported modes: \"instruction\", \"demonstration\", \"instruction_and_demo\"\n",
    "    eval_metrics_types=[\n",
    "        \"question_answering_correctness\",\n",
    "    ],  # List of evaluation metrics. List of strings. Supported metrics: \"bleu\", \"coherence\", \"exact_match\", \"fluidity\", \"fulfillment\", \"groundedness\", \"rouge_1\", \"rouge_2\", \"rouge_l\", \"rouge_l_sum\", \"safety\", \"question_answering_correctness\", \"question_answering_helpfulness\", \"question_answering_quality\", \"question_answering_relevance\", \"summarization_helpfulness\", \"summarization_quality\", \"summarization_verbosity\", \"tool_name_match\", \"tool_parameter_key_match\", \"tool_parameter_kv_match\"\n",
    "    eval_metrics_weights=[\n",
    "        1.0,\n",
    "    ],  # Weights for evaluation metrics. List of floats.  Length must match eval_metrics_types.  Should sum to 1.\n",
    "    aggregation_type=\"weighted_sum\",  # Aggregation type for evaluation metrics. String. Supported aggregation types: \"weighted_sum\", \"weighted_average\"\n",
    "    input_data_path=INPUT_OPTIMIZATION_DATA_FILE_URI,  # Cloud Storage URI to input optimization data. String.\n",
    "    output_path=OUTPUT_OPTIMIZATION_RUN_URI,  # Cloud Storage URI to save optimization results. String.\n",
    "    project=PROJECT_ID,  # Google Cloud project ID. String.\n",
    "\n",
    "    # (Optional) Advanced configuration\n",
    "    num_steps=10,  # Number of iterations in instruction optimization mode. Integer between 10 and 20.\n",
    "    num_template_eval_per_step=2,  # Number of system instructions generated and evaluated in instruction and instruction_and_demo mode. Integer between 1 and 4.\n",
    "    num_demo_set_candidates=10,  # Number of demonstrations evaluated in instruction and instruction_and_demo mode. Integer between 10 and 30.\n",
    "    demo_set_size=3,  # Number of demonstrations generated per prompt. Integer between 3 and 6.\n",
    "    target_model_location=\"us-central1\",  # Location of the target model. String. Default us-central1.\n",
    "    optimizer_model=\"gemini-1.5-pro-001\",  # Optimization model. String. Supported models: \"gemini-1.5-flash-002\", \"gemini-1.5-pro-002\", \"gemini-1.5-flash-001\", \"gemini-1.5-pro-001\", \"gemini-1.0-pro-001\", \"gemini-1.0-pro-002\", \"gemini-1.0-ultra-001\", \"text-bison@001\", \"text-bison@002\", \"text-bison32k@002\", \"text-unicorn@001\"\n",
    "    optimizer_model_location=\"us-central1\",  # Location of the optimization model. String. Default us-central1.\n",
    "    eval_model=\"gemini-1.5-pro-001\",  # Evaluation model. String. Supported models: \"gemini-1.5-flash-002\", \"gemini-1.5-pro-002\", \"gemini-1.5-flash-001\", \"gemini-1.5-pro-001\", \"gemini-1.0-pro-001\", \"gemini-1.0-pro-002\", \"gemini-1.0-ultra-001\", \"text-bison@001\", \"text-bison@002\", \"text-bison32k@002\", \"text-unicorn@001\"\n",
    "    eval_model_location=\"us-central1\",  # Location of the evaluation model. String. Default us-central1.\n",
    "    source_model=\"\",  # Google model that the system instructions and prompts were previously used with. String. Not needed if you provide target column.\n",
    "    source_model_location=\"\",  # Location of the source model. String. Default us-central1. Not needed if you provide target column.\n",
    "    target_model_qps=1,  # The queries per second (QPS) sent to the target model. Integer greater or equal than 1 depending on your quota.\n",
    "    optimizer_model_qps=1,  # The queries per second (QPS) sent to the optimization model. Integer greater or equal than 1 depending on your quota.\n",
    "    eval_qps=1,  # The queries per second (QPS) sent to the eval model. Integer greater or equal than 1 depending on your quota.\n",
    "    source_model_qps=\"\",  # The queries per second (QPS) sent to the source model. Integer greater or equal than 1 depending on your quota.\n",
    "    response_mime_type=\"application/json\",  # MIME response type that the target model uses. String. Supported response: text/plain, application/json.\n",
    "    response_schema=RESPONSE_SCHEMA,  # The Vertex AI's Controlled Generation response schema that the target model uses to generate answers. String.\n",
    "    language=\"English\",  # Language of the system instructions. String. Supported languages: \"English\", \"French\", \"German\", \"Hebrew\", \"Hindi\", \"Japanese\", \"Korean\", \"Portuguese\", \"Simplified Chinese\", \"Spanish\", \"Traditional Chinese\"\n",
    "    placeholder_to_content=json.loads(PLACEHOLDER_TO_CONTENT),  # Placeholder to replace any parameter in the system instruction. Dict.\n",
    "    data_limit=10,  # Amount of data used for validation. Integer between 5 and 100.\n",
    ")"
   ]
  },
  {
   "cell_type": "markdown",
   "metadata": {
    "id": "Jd_uzQYQx6L7"
   },
   "source": [
    "#### Upload Vertex AI prompt optimizer Cloud Storage\n",
    "\n",
    "After you define Vertex AI prompt optimizer configuration, you upload them on Cloud Storage bucket.\n"
   ]
  },
  {
   "cell_type": "code",
   "execution_count": null,
   "metadata": {
    "id": "iqiv8ApR_SAM"
   },
   "outputs": [],
   "source": [
    "args = vars(args)\n",
    "\n",
    "with epath.Path(CONFIG_FILE_URI).open(\"w\") as config_file:\n",
    "    json.dump(args, config_file)\n",
    "config_file.close()"
   ]
  },
  {
   "cell_type": "markdown",
   "metadata": {
    "id": "spqgBT8hYAle"
   },
   "source": [
    "#### Run the automatic prompt optimization job\n",
    "\n",
    "Now you are ready to run your first Vertex AI prompt optimizer job using the Vertex AI SDK for Python."
   ]
  },
  {
   "cell_type": "markdown",
   "metadata": {
    "id": "RlNQ_UrFH9ne"
   },
   "source": [
    "> This prompt optimization job requires ~ 40 minutes to run.\n",
    "\n",
    "> Be sure you have provisioned enough queries per minute (QPM) quota implementing the recommended QPM for each model. If you configure the Vertex AI prompt optimizer with a QPM that is higher than the QPM than you have access to, the job might fail. [Check out](https://cloud.google.com/vertex-ai/generative-ai/docs/learn/prompts/prompt-optimizer#before-you-begin) the documentation to know more.\n"
   ]
  },
  {
   "cell_type": "code",
   "execution_count": null,
   "metadata": {
    "colab": {
     "base_uri": "https://localhost:8080/"
    },
    "id": "GtPnvKIpUQ3q",
    "outputId": "3979c4be-cf4d-4527-803f-0cff1de40871"
   },
   "outputs": [],
   "source": [
    "WORKER_POOL_SPECS = [\n",
    "    {\n",
    "        \"machine_spec\": {\n",
    "            \"machine_type\": \"n1-standard-4\",\n",
    "        },\n",
    "        \"replica_count\": 1,\n",
    "        \"container_spec\": {\n",
    "            \"image_uri\": APD_CONTAINER_URI,\n",
    "            \"args\": [\"--config=\" + CONFIG_FILE_URI],\n",
    "        },\n",
    "    }\n",
    "]\n",
    "\n",
    "custom_job = aiplatform.CustomJob(\n",
    "    display_name=PROMPT_OPTIMIZATION_JOB,\n",
    "    worker_pool_specs=WORKER_POOL_SPECS,\n",
    ")\n",
    "\n",
    "custom_job.submit(service_account=SERVICE_ACCOUNT)"
   ]
  },
  {
   "cell_type": "markdown",
   "metadata": {
    "id": "3YwwKBhtJ4ut"
   },
   "source": [
    "### Collect and display the optimization results\n",
    "\n",
    "Vertex AI prompt optimizer returns both optimized templates and evaluation results for either instruction, or demostrations, or both depending on the optimization mode you define as JSONL files on Cloud Storage bucket. Those results help you understand the optimization process.\n",
    "\n",
    "In this case, you want to collect the optimized templates and evaluation results for the system instruction.\n",
    "\n",
    "Below you use a helper function to display those results. Notice how the `examples` provided during setup directly influence the optimization process. Also observe how the generated response adheres to the predefined schema, ensuring consistent and structured output.\n",
    "\n"
   ]
  },
  {
   "cell_type": "code",
   "execution_count": null,
   "metadata": {
    "colab": {
     "base_uri": "https://localhost:8080/",
     "height": 765,
     "referenced_widgets": [
      "399dd450b6ff4b988e5ec7e460eea874",
      "af2be1d1295447eca350f5423d78637a",
      "60d08d3f4e9e40738c9bcd0f51f59051",
      "87201501a5bb4060a7a52e4d92cbb682",
      "5791b973cf3b4d21a7a20e18d8f9d007",
      "981f399c8b6f40fc9d9c9b3f72b9f302",
      "c9a7c5bce7d941719f214b7d8b349cf7",
      "d6c966aa21c04c0792cc3d4cf3f8c839",
      "f3938ae87520413e8693f57ea36cb8d5",
      "3dfeac3bc3e34a43965c0db67c0ba160",
      "d01f3617b2b049d3b8afaa21aa637c6b",
      "6521e6b5de094589be71e839bba0ac30",
      "507a3cc1b345497dbaab6ff4f48f31b9",
      "2d79e450fead4c1ca25105ad38b60ecf",
      "ce923a8680034525b055a64812c885f4",
      "6bf9fc04875449dcbb1f8a7bae1d7463"
     ]
    },
    "id": "-6ohF0LJIhvU",
    "outputId": "d71113c5-8a39-4447-95be-91a02d816274"
   },
   "outputs": [],
   "source": [
    "results_ui = vapo_lib.ResultsUI(OUTPUT_OPTIMIZATION_RUN_URI)\n",
    "results_df_html = \"\"\"\n",
    "\n",
    "\"\"\"\n",
    "\n",
    "display(HTML(results_df_html))\n",
    "display(results_ui.get_container())"
   ]
  },
  {
   "cell_type": "markdown",
   "metadata": {
    "id": "TrMrbcA5Gzep"
   },
   "source": [
    "### Evaluate the quality of generated responses with the optimized instruction\n",
    "\n",
    "Finally, you evaluate generated responses with the optimized instruction qualitatively.\n",
    "\n",
    "If you want to know how to evaluate the new generated responses quantitatively, check out the [`vertex_ai_prompt_optimizer_sdk` notebook](https://github.com/GoogleCloudPlatform/generative-ai/tree/main/gemini/prompts/prompt_optimizer) in the official repository.\n"
   ]
  },
  {
   "cell_type": "markdown",
   "metadata": {
    "id": "DJK4KD0VkSuz"
   },
   "source": [
    "#### Generate new responses using the optimized system instruction.\n",
    "\n",
    "Set the optimized system instruction template you get from Vertex AI prompt optimizer job."
   ]
  },
  {
   "cell_type": "code",
   "execution_count": null,
   "metadata": {
    "id": "BVamCk10KYHu"
   },
   "outputs": [],
   "source": [
    "OPTIMIZED_SYSTEM_INSTRUCTION_TEMPLATE = \"## Date Range Length Calculator You are a helpful AI assistant with a talent for calculating the total number of days within a date range. Your goal is to determine the length of a date range *inclusive* of the start and end dates provided. Let's work through this with some examples:\\n{examples}\""
   ]
  },
  {
   "cell_type": "markdown",
   "metadata": {
    "id": "1U79bZ_KTM6T"
   },
   "source": [
    "Prepare optimized prompts using the optimized system instruction template. In this case,"
   ]
  },
  {
   "cell_type": "code",
   "execution_count": null,
   "metadata": {
    "id": "XfouWkLPkSu1"
   },
   "outputs": [],
   "source": [
    "OPTIMIZED_PROMPT_TEMPLATE = (\n",
    "    OPTIMIZED_SYSTEM_INSTRUCTION_TEMPLATE\n",
    "    + \"\\n<QUESTION>\\n{question}\\n</QUESTION>\"\n",
    "    + \"\\n<ANSWER>\"\n",
    ")\n",
    "\n",
    "optimized_prompts = [\n",
    "    OPTIMIZED_PROMPT_TEMPLATE.format(question=q, examples=json.loads(PLACEHOLDER_TO_CONTENT)['examples'])\n",
    "    for q in test_prompt_optimization_df[\"question\"].to_list()\n",
    "]"
   ]
  },
  {
   "cell_type": "markdown",
   "metadata": {
    "id": "sofPH74kT165"
   },
   "source": [
    "Leverage Gemini API on Vertex AI to send parallel generation requests."
   ]
  },
  {
   "cell_type": "code",
   "execution_count": null,
   "metadata": {
    "colab": {
     "base_uri": "https://localhost:8080/"
    },
    "id": "NM5-8FzpkSu1",
    "outputId": "05e738cb-16b5-4091-d6e1-bf8d12dad9e2"
   },
   "outputs": [],
   "source": [
    "gemini_llm = vapo_lib.init_new_model(\"gemini-1.5-flash-001\")\n",
    "\n",
    "gemini_predictions = [\n",
    "    vapo_lib.async_generate(p, model=gemini_llm) for p in optimized_prompts\n",
    "]\n",
    "\n",
    "gemini_predictions_col = await tqdm_asyncio.gather(*gemini_predictions)"
   ]
  },
  {
   "cell_type": "markdown",
   "metadata": {
    "id": "0BA9wRQnsHg0"
   },
   "source": [
    "#### Evaluate new responses"
   ]
  },
  {
   "cell_type": "markdown",
   "metadata": {
    "id": "SEVi8m4gUMqP"
   },
   "source": [
    "Prepare the test dataset and inspect new responses."
   ]
  },
  {
   "cell_type": "code",
   "execution_count": null,
   "metadata": {
    "id": "8khmj0oATV7O"
   },
   "outputs": [],
   "source": [
    "test_prompt_optimization_df[\"optimized_prompt_with_vapo\"] = optimized_prompts\n",
    "test_prompt_optimization_df[\"gemini_answer_with_vapo\"] = gemini_predictions_col"
   ]
  },
  {
   "cell_type": "code",
   "execution_count": null,
   "metadata": {
    "colab": {
     "base_uri": "https://localhost:8080/",
     "height": 140
    },
    "id": "R9HIm_Q_DnGS",
    "outputId": "6a1ebebc-e58e-4caa-825f-8c3ca6488759"
   },
   "outputs": [],
   "source": [
    "test_prompt_optimization_df.optimized_prompt_with_vapo.iloc[0]"
   ]
  },
  {
   "cell_type": "code",
   "execution_count": null,
   "metadata": {
    "colab": {
     "base_uri": "https://localhost:8080/",
     "height": 1000
    },
    "id": "0s2pAKq4TaiJ",
    "outputId": "a25650e4-de03-4b1b-9e1c-c286c2936de6"
   },
   "outputs": [],
   "source": [
    "vapo_lib.print_df_rows(test_prompt_optimization_df, n=10)"
   ]
  },
  {
   "cell_type": "markdown",
   "metadata": {
    "id": "2a4e033321ad"
   },
   "source": [
    "## IV. Clean up"
   ]
  },
  {
   "cell_type": "code",
   "execution_count": null,
   "metadata": {
    "id": "WRY_3wh1GVNm"
   },
   "outputs": [],
   "source": [
    "delete_bucket = False\n",
    "delete_job = False\n",
    "\n",
    "if delete_bucket:\n",
    "    ! gsutil rm -r {BUCKET_URI}\n",
    "\n",
    "if delete_job:\n",
    "    custom_job.delete()"
   ]
  }
 ],
 "metadata": {
  "colab": {
   "provenance": []
  },
  "environment": {
   "kernel": "python3",
   "name": "common-cpu.m126",
   "type": "gcloud",
   "uri": "us-docker.pkg.dev/deeplearning-platform-release/gcr.io/base-cpu:m126"
  },
  "kernelspec": {
   "display_name": "Python 3 (Local)",
   "language": "python",
   "name": "python3"
  },
  "language_info": {
   "codemirror_mode": {
    "name": "ipython",
    "version": 3
   },
   "file_extension": ".py",
   "mimetype": "text/x-python",
   "name": "python",
   "nbconvert_exporter": "python",
   "pygments_lexer": "ipython3",
   "version": "3.10.15"
  },
  "widgets": {
   "application/vnd.jupyter.widget-state+json": {
    "2d79e450fead4c1ca25105ad38b60ecf": {
     "model_module": "@jupyter-widgets/base",
     "model_module_version": "1.2.0",
     "model_name": "LayoutModel",
     "state": {
      "_model_module": "@jupyter-widgets/base",
      "_model_module_version": "1.2.0",
      "_model_name": "LayoutModel",
      "_view_count": null,
      "_view_module": "@jupyter-widgets/base",
      "_view_module_version": "1.2.0",
      "_view_name": "LayoutView",
      "align_content": null,
      "align_items": null,
      "align_self": null,
      "border": null,
      "bottom": null,
      "display": null,
      "flex": null,
      "flex_flow": null,
      "grid_area": null,
      "grid_auto_columns": null,
      "grid_auto_flow": null,
      "grid_auto_rows": null,
      "grid_column": null,
      "grid_gap": null,
      "grid_row": null,
      "grid_template_areas": null,
      "grid_template_columns": null,
      "grid_template_rows": null,
      "height": null,
      "justify_content": null,
      "justify_items": null,
      "left": null,
      "margin": null,
      "max_height": null,
      "max_width": null,
      "min_height": null,
      "min_width": null,
      "object_fit": null,
      "object_position": null,
      "order": null,
      "overflow": null,
      "overflow_x": null,
      "overflow_y": null,
      "padding": null,
      "right": null,
      "top": null,
      "visibility": null,
      "width": "400px"
     }
    },
    "399dd450b6ff4b988e5ec7e460eea874": {
     "model_module": "@jupyter-widgets/controls",
     "model_module_version": "1.5.0",
     "model_name": "VBoxModel",
     "state": {
      "_dom_classes": [],
      "_model_module": "@jupyter-widgets/controls",
      "_model_module_version": "1.5.0",
      "_model_name": "VBoxModel",
      "_view_count": null,
      "_view_module": "@jupyter-widgets/controls",
      "_view_module_version": "1.5.0",
      "_view_name": "VBoxView",
      "box_style": "",
      "children": [
       "IPY_MODEL_af2be1d1295447eca350f5423d78637a",
       "IPY_MODEL_60d08d3f4e9e40738c9bcd0f51f59051",
       "IPY_MODEL_87201501a5bb4060a7a52e4d92cbb682",
       "IPY_MODEL_5791b973cf3b4d21a7a20e18d8f9d007",
       "IPY_MODEL_981f399c8b6f40fc9d9c9b3f72b9f302"
      ],
      "layout": "IPY_MODEL_c9a7c5bce7d941719f214b7d8b349cf7"
     }
    },
    "3dfeac3bc3e34a43965c0db67c0ba160": {
     "model_module": "@jupyter-widgets/base",
     "model_module_version": "1.2.0",
     "model_name": "LayoutModel",
     "state": {
      "_model_module": "@jupyter-widgets/base",
      "_model_module_version": "1.2.0",
      "_model_name": "LayoutModel",
      "_view_count": null,
      "_view_module": "@jupyter-widgets/base",
      "_view_module_version": "1.2.0",
      "_view_name": "LayoutView",
      "align_content": null,
      "align_items": null,
      "align_self": null,
      "border": null,
      "bottom": null,
      "display": null,
      "flex": null,
      "flex_flow": null,
      "grid_area": null,
      "grid_auto_columns": null,
      "grid_auto_flow": null,
      "grid_auto_rows": null,
      "grid_column": null,
      "grid_gap": null,
      "grid_row": null,
      "grid_template_areas": null,
      "grid_template_columns": null,
      "grid_template_rows": null,
      "height": null,
      "justify_content": null,
      "justify_items": null,
      "left": null,
      "margin": null,
      "max_height": null,
      "max_width": null,
      "min_height": null,
      "min_width": null,
      "object_fit": null,
      "object_position": null,
      "order": null,
      "overflow": null,
      "overflow_x": null,
      "overflow_y": null,
      "padding": null,
      "right": null,
      "top": null,
      "visibility": null,
      "width": "200px"
     }
    },
    "507a3cc1b345497dbaab6ff4f48f31b9": {
     "model_module": "@jupyter-widgets/controls",
     "model_module_version": "1.5.0",
     "model_name": "DescriptionStyleModel",
     "state": {
      "_model_module": "@jupyter-widgets/controls",
      "_model_module_version": "1.5.0",
      "_model_name": "DescriptionStyleModel",
      "_view_count": null,
      "_view_module": "@jupyter-widgets/base",
      "_view_module_version": "1.2.0",
      "_view_name": "StyleView",
      "description_width": ""
     }
    },
    "5791b973cf3b4d21a7a20e18d8f9d007": {
     "model_module": "@jupyter-widgets/controls",
     "model_module_version": "1.5.0",
     "model_name": "DropdownModel",
     "state": {
      "_dom_classes": [],
      "_model_module": "@jupyter-widgets/controls",
      "_model_module_version": "1.5.0",
      "_model_name": "DropdownModel",
      "_options_labels": [
       "Template 0 question_answering_correctness: 0.5",
       "Template 1 question_answering_correctness: 0.58",
       "Template 2 question_answering_correctness: 0.6",
       "Template 3 question_answering_correctness: 0.56",
       "Template 4 question_answering_correctness: 0.54",
       "Template 5 question_answering_correctness: 0.56",
       "Template 6 question_answering_correctness: 0.56",
       "Template 7 question_answering_correctness: 0.56",
       "Template 8 question_answering_correctness: 0.56",
       "Template 9 question_answering_correctness: 0.54",
       "Template 10 question_answering_correctness: 0.48",
       "Template 11 question_answering_correctness: 0.58",
       "Template 12 question_answering_correctness: 0.58",
       "Template 13 question_answering_correctness: 0.52",
       "Template 14 question_answering_correctness: 0.56",
       "Template 15 question_answering_correctness: 0.54",
       "Template 16 question_answering_correctness: 0.56",
       "Template 17 question_answering_correctness: 0.6",
       "Template 18 question_answering_correctness: 0.52",
       "Template 19 question_answering_correctness: 0.56",
       "Template 20 question_answering_correctness: 0.58"
      ],
      "_view_count": null,
      "_view_module": "@jupyter-widgets/controls",
      "_view_module_version": "1.5.0",
      "_view_name": "DropdownView",
      "description": "",
      "description_tooltip": null,
      "disabled": false,
      "index": 2,
      "layout": "IPY_MODEL_2d79e450fead4c1ca25105ad38b60ecf",
      "style": "IPY_MODEL_ce923a8680034525b055a64812c885f4"
     }
    },
    "60d08d3f4e9e40738c9bcd0f51f59051": {
     "model_module": "@jupyter-widgets/controls",
     "model_module_version": "1.5.0",
     "model_name": "DropdownModel",
     "state": {
      "_dom_classes": [],
      "_model_module": "@jupyter-widgets/controls",
      "_model_module_version": "1.5.0",
      "_model_name": "DropdownModel",
      "_options_labels": [
       "gs://long-prompt-optimization/optimization/optimization_jobs/auto-prompt-design-job-hvehffdr/instruction"
      ],
      "_view_count": null,
      "_view_module": "@jupyter-widgets/controls",
      "_view_module_version": "1.5.0",
      "_view_name": "DropdownView",
      "description": "",
      "description_tooltip": null,
      "disabled": false,
      "index": 0,
      "layout": "IPY_MODEL_3dfeac3bc3e34a43965c0db67c0ba160",
      "style": "IPY_MODEL_d01f3617b2b049d3b8afaa21aa637c6b"
     }
    },
    "6521e6b5de094589be71e839bba0ac30": {
     "model_module": "@jupyter-widgets/base",
     "model_module_version": "1.2.0",
     "model_name": "LayoutModel",
     "state": {
      "_model_module": "@jupyter-widgets/base",
      "_model_module_version": "1.2.0",
      "_model_name": "LayoutModel",
      "_view_count": null,
      "_view_module": "@jupyter-widgets/base",
      "_view_module_version": "1.2.0",
      "_view_name": "LayoutView",
      "align_content": null,
      "align_items": null,
      "align_self": null,
      "border": null,
      "bottom": null,
      "display": null,
      "flex": null,
      "flex_flow": null,
      "grid_area": null,
      "grid_auto_columns": null,
      "grid_auto_flow": null,
      "grid_auto_rows": null,
      "grid_column": null,
      "grid_gap": null,
      "grid_row": null,
      "grid_template_areas": null,
      "grid_template_columns": null,
      "grid_template_rows": null,
      "height": null,
      "justify_content": null,
      "justify_items": null,
      "left": null,
      "margin": null,
      "max_height": null,
      "max_width": null,
      "min_height": null,
      "min_width": null,
      "object_fit": null,
      "object_position": null,
      "order": null,
      "overflow": null,
      "overflow_x": null,
      "overflow_y": null,
      "padding": null,
      "right": null,
      "top": null,
      "visibility": null,
      "width": null
     }
    },
    "6bf9fc04875449dcbb1f8a7bae1d7463": {
     "model_module": "@jupyter-widgets/base",
     "model_module_version": "1.2.0",
     "model_name": "LayoutModel",
     "state": {
      "_model_module": "@jupyter-widgets/base",
      "_model_module_version": "1.2.0",
      "_model_name": "LayoutModel",
      "_view_count": null,
      "_view_module": "@jupyter-widgets/base",
      "_view_module_version": "1.2.0",
      "_view_name": "LayoutView",
      "align_content": null,
      "align_items": null,
      "align_self": null,
      "border": null,
      "bottom": null,
      "display": null,
      "flex": null,
      "flex_flow": null,
      "grid_area": null,
      "grid_auto_columns": null,
      "grid_auto_flow": null,
      "grid_auto_rows": null,
      "grid_column": null,
      "grid_gap": null,
      "grid_row": null,
      "grid_template_areas": null,
      "grid_template_columns": null,
      "grid_template_rows": null,
      "height": "600px",
      "justify_content": null,
      "justify_items": null,
      "left": null,
      "margin": "20px 0px 0px 0px",
      "max_height": null,
      "max_width": null,
      "min_height": null,
      "min_width": null,
      "object_fit": null,
      "object_position": null,
      "order": null,
      "overflow": "auto",
      "overflow_x": null,
      "overflow_y": null,
      "padding": null,
      "right": null,
      "top": null,
      "visibility": null,
      "width": null
     }
    },
    "87201501a5bb4060a7a52e4d92cbb682": {
     "model_module": "@jupyter-widgets/controls",
     "model_module_version": "1.5.0",
     "model_name": "LabelModel",
     "state": {
      "_dom_classes": [],
      "_model_module": "@jupyter-widgets/controls",
      "_model_module_version": "1.5.0",
      "_model_name": "LabelModel",
      "_view_count": null,
      "_view_module": "@jupyter-widgets/controls",
      "_view_module_version": "1.5.0",
      "_view_name": "LabelView",
      "description": "",
      "description_tooltip": null,
      "layout": "IPY_MODEL_6521e6b5de094589be71e839bba0ac30",
      "placeholder": "​",
      "style": "IPY_MODEL_507a3cc1b345497dbaab6ff4f48f31b9",
      "value": "Select Template:"
     }
    },
    "981f399c8b6f40fc9d9c9b3f72b9f302": {
     "model_module": "@jupyter-widgets/output",
     "model_module_version": "1.0.0",
     "model_name": "OutputModel",
     "state": {
      "_dom_classes": [],
      "_model_module": "@jupyter-widgets/output",
      "_model_module_version": "1.0.0",
      "_model_name": "OutputModel",
      "_view_count": null,
      "_view_module": "@jupyter-widgets/output",
      "_view_module_version": "1.0.0",
      "_view_name": "OutputView",
      "layout": "IPY_MODEL_6bf9fc04875449dcbb1f8a7bae1d7463",
      "msg_id": "",
      "outputs": [
       {
        "data": {
         "text/html": "<style type=\"text/css\">\n</style>\n<table id=\"T_50c99\">\n  <thead>\n    <tr>\n      <th class=\"blank level0\" >&nbsp;</th>\n      <th id=\"T_50c99_level0_col0\" class=\"col_heading level0 col0\" >step</th>\n      <th id=\"T_50c99_level0_col1\" class=\"col_heading level0 col1\" >prompt</th>\n      <th id=\"T_50c99_level0_col2\" class=\"col_heading level0 col2\" >metrics.question_answering_correctness/mean</th>\n    </tr>\n  </thead>\n  <tbody>\n    <tr>\n      <th id=\"T_50c99_level0_row0\" class=\"row_heading level0 row0\" >0</th>\n      <td id=\"T_50c99_row0_col0\" class=\"data row0 col0\" ><div class=\"scrollable\">1</div></td>\n      <td id=\"T_50c99_row0_col1\" class=\"data row0 col1\" ><div class=\"scrollable\">## Date Range Length Calculator\n\nYou are a helpful AI assistant with a talent for calculating the total number of days within a date range. Your goal is to determine the length of a date range *inclusive* of the start and end dates provided. \n\nLet's work through this with some examples: \n\n<EXAMPLES>\n{examples}\n</EXAMPLES></div></td>\n      <td id=\"T_50c99_row0_col2\" class=\"data row0 col2\" ><div class=\"scrollable\">0.6</div></td>\n    </tr>\n  </tbody>\n</table>\n",
         "text/plain": "<IPython.core.display.HTML object>"
        },
        "metadata": {},
        "output_type": "display_data"
       },
       {
        "name": "stdout",
        "output_type": "stream",
        "text": [
         "\n"
        ]
       },
       {
        "data": {
         "text/html": "<style type=\"text/css\">\n</style>\n<table id=\"T_57775\">\n  <thead>\n    <tr>\n      <th class=\"blank level0\" >&nbsp;</th>\n      <th id=\"T_57775_level0_col0\" class=\"col_heading level0 col0\" >question</th>\n      <th id=\"T_57775_level0_col1\" class=\"col_heading level0 col1\" >target</th>\n      <th id=\"T_57775_level0_col2\" class=\"col_heading level0 col2\" >prompt</th>\n      <th id=\"T_57775_level0_col3\" class=\"col_heading level0 col3\" >response</th>\n      <th id=\"T_57775_level0_col4\" class=\"col_heading level0 col4\" >reference</th>\n      <th id=\"T_57775_level0_col5\" class=\"col_heading level0 col5\" >question_answering_correctness/explanation</th>\n      <th id=\"T_57775_level0_col6\" class=\"col_heading level0 col6\" >question_answering_correctness/score</th>\n    </tr>\n  </thead>\n  <tbody>\n    <tr>\n      <th id=\"T_57775_level0_row0\" class=\"row_heading level0 row0\" >0</th>\n      <td id=\"T_57775_row0_col0\" class=\"data row0 col0\" ><div class=\"scrollable\">What is the total length of the date range that starts on December 12, 2016 and ends on December 13, 2016 including the start and end days?</div></td>\n      <td id=\"T_57775_row0_col1\" class=\"data row0 col1\" ><div class=\"scrollable\">2</div></td>\n      <td id=\"T_57775_row0_col2\" class=\"data row0 col2\" ><div class=\"scrollable\">## Date Range Length Calculator\n\nYou are a helpful AI assistant with a talent for calculating the total number of days within a date range. Your goal is to determine the length of a date range *inclusive* of the start and end dates provided. \n\nLet's work through this with some examples: \n\n<EXAMPLES>\n{{examples}}\n</EXAMPLES></div></td>\n      <td id=\"T_57775_row0_col3\" class=\"data row0 col3\" ><div class=\"scrollable\">2</div></td>\n      <td id=\"T_57775_row0_col4\" class=\"data row0 col4\" ><div class=\"scrollable\">2</div></td>\n      <td id=\"T_57775_row0_col5\" class=\"data row0 col5\" ><div class=\"scrollable\">Step 1: The reference answer is: 2.\nStep 2: The final answer identified in the response is: 2.\nStep 3: The final answer is the same as the reference answer.\nStep 4: Score is 1 based on the rubric.</div></td>\n      <td id=\"T_57775_row0_col6\" class=\"data row0 col6\" ><div class=\"scrollable\">1</div></td>\n    </tr>\n    <tr>\n      <th id=\"T_57775_level0_row1\" class=\"row_heading level0 row1\" >1</th>\n      <td id=\"T_57775_row1_col0\" class=\"data row1 col0\" ><div class=\"scrollable\">What is the total length of the date range that starts on March 26, 2009 and ends on April 20, 2009 including the start and end days?</div></td>\n      <td id=\"T_57775_row1_col1\" class=\"data row1 col1\" ><div class=\"scrollable\">26</div></td>\n      <td id=\"T_57775_row1_col2\" class=\"data row1 col2\" ><div class=\"scrollable\">## Date Range Length Calculator\n\nYou are a helpful AI assistant with a talent for calculating the total number of days within a date range. Your goal is to determine the length of a date range *inclusive* of the start and end dates provided. \n\nLet's work through this with some examples: \n\n<EXAMPLES>\n{{examples}}\n</EXAMPLES></div></td>\n      <td id=\"T_57775_row1_col3\" class=\"data row1 col3\" ><div class=\"scrollable\">26</div></td>\n      <td id=\"T_57775_row1_col4\" class=\"data row1 col4\" ><div class=\"scrollable\">26</div></td>\n      <td id=\"T_57775_row1_col5\" class=\"data row1 col5\" ><div class=\"scrollable\">Step 1: The reference answer is: 26.\nStep 2: The final answer identified in the response is: 26.\nStep 3: The response contains the same numerical value as the reference, which correctly calculates the number of days from March 26, 2009 to April 20, 2009, inclusive, which is indeed 26 days.\nStep 4: Score is 1.</div></td>\n      <td id=\"T_57775_row1_col6\" class=\"data row1 col6\" ><div class=\"scrollable\">1</div></td>\n    </tr>\n    <tr>\n      <th id=\"T_57775_level0_row2\" class=\"row_heading level0 row2\" >2</th>\n      <td id=\"T_57775_row2_col0\" class=\"data row2 col0\" ><div class=\"scrollable\">What is the total length of the date range that starts on March 11, 2019 and ends on March 12, 2019 including the start and end days?</div></td>\n      <td id=\"T_57775_row2_col1\" class=\"data row2 col1\" ><div class=\"scrollable\">2</div></td>\n      <td id=\"T_57775_row2_col2\" class=\"data row2 col2\" ><div class=\"scrollable\">## Date Range Length Calculator\n\nYou are a helpful AI assistant with a talent for calculating the total number of days within a date range. Your goal is to determine the length of a date range *inclusive* of the start and end dates provided. \n\nLet's work through this with some examples: \n\n<EXAMPLES>\n{{examples}}\n</EXAMPLES></div></td>\n      <td id=\"T_57775_row2_col3\" class=\"data row2 col3\" ><div class=\"scrollable\">2</div></td>\n      <td id=\"T_57775_row2_col4\" class=\"data row2 col4\" ><div class=\"scrollable\">2</div></td>\n      <td id=\"T_57775_row2_col5\" class=\"data row2 col5\" ><div class=\"scrollable\">Step 1: The reference answer is: 2.\nStep 2: The final answer identified in the response is: 2.\nStep 3: The response correctly states the total length of the date range. It accurately reflects the information presented in the reference.\nStep 4: Score: 1</div></td>\n      <td id=\"T_57775_row2_col6\" class=\"data row2 col6\" ><div class=\"scrollable\">1</div></td>\n    </tr>\n    <tr>\n      <th id=\"T_57775_level0_row3\" class=\"row_heading level0 row3\" >3</th>\n      <td id=\"T_57775_row3_col0\" class=\"data row3 col0\" ><div class=\"scrollable\">What is the total length of the date range that starts on May 21, 2001 and ends on May 22, 2001 including the start and end days?</div></td>\n      <td id=\"T_57775_row3_col1\" class=\"data row3 col1\" ><div class=\"scrollable\">2</div></td>\n      <td id=\"T_57775_row3_col2\" class=\"data row3 col2\" ><div class=\"scrollable\">## Date Range Length Calculator\n\nYou are a helpful AI assistant with a talent for calculating the total number of days within a date range. Your goal is to determine the length of a date range *inclusive* of the start and end dates provided. \n\nLet's work through this with some examples: \n\n<EXAMPLES>\n{{examples}}\n</EXAMPLES></div></td>\n      <td id=\"T_57775_row3_col3\" class=\"data row3 col3\" ><div class=\"scrollable\">2</div></td>\n      <td id=\"T_57775_row3_col4\" class=\"data row3 col4\" ><div class=\"scrollable\">2</div></td>\n      <td id=\"T_57775_row3_col5\" class=\"data row3 col5\" ><div class=\"scrollable\">Step 1: The reference answer is: 2.\nStep 2: The final answer identified in the response is: 2.\nStep 3: The response matches the reference answer.\nStep 4: Score is 1 according to the rubric, as the response contains all claims from the reference and does not contain claims that are not present in the reference.</div></td>\n      <td id=\"T_57775_row3_col6\" class=\"data row3 col6\" ><div class=\"scrollable\">1</div></td>\n    </tr>\n    <tr>\n      <th id=\"T_57775_level0_row4\" class=\"row_heading level0 row4\" >4</th>\n      <td id=\"T_57775_row4_col0\" class=\"data row4 col0\" ><div class=\"scrollable\">What is the total length of the date range that starts on October 12, 2005 and ends on October 22, 2005 including the start and end days?</div></td>\n      <td id=\"T_57775_row4_col1\" class=\"data row4 col1\" ><div class=\"scrollable\">11</div></td>\n      <td id=\"T_57775_row4_col2\" class=\"data row4 col2\" ><div class=\"scrollable\">## Date Range Length Calculator\n\nYou are a helpful AI assistant with a talent for calculating the total number of days within a date range. Your goal is to determine the length of a date range *inclusive* of the start and end dates provided. \n\nLet's work through this with some examples: \n\n<EXAMPLES>\n{{examples}}\n</EXAMPLES></div></td>\n      <td id=\"T_57775_row4_col3\" class=\"data row4 col3\" ><div class=\"scrollable\">11</div></td>\n      <td id=\"T_57775_row4_col4\" class=\"data row4 col4\" ><div class=\"scrollable\">11</div></td>\n      <td id=\"T_57775_row4_col5\" class=\"data row4 col5\" ><div class=\"scrollable\">Step 1: The reference answer is: 11.\nStep 2: The final answer identified in the response is: 11.\nStep 3: The response matches the reference.\nStep 4: Score is 1 based on the rubric.</div></td>\n      <td id=\"T_57775_row4_col6\" class=\"data row4 col6\" ><div class=\"scrollable\">1</div></td>\n    </tr>\n    <tr>\n      <th id=\"T_57775_level0_row5\" class=\"row_heading level0 row5\" >5</th>\n      <td id=\"T_57775_row5_col0\" class=\"data row5 col0\" ><div class=\"scrollable\">What is the total length of the date range that starts on June 28, 2026 and ends on February 01, 2034 including the start and end days?</div></td>\n      <td id=\"T_57775_row5_col1\" class=\"data row5 col1\" ><div class=\"scrollable\">2776</div></td>\n      <td id=\"T_57775_row5_col2\" class=\"data row5 col2\" ><div class=\"scrollable\">## Date Range Length Calculator\n\nYou are a helpful AI assistant with a talent for calculating the total number of days within a date range. Your goal is to determine the length of a date range *inclusive* of the start and end dates provided. \n\nLet's work through this with some examples: \n\n<EXAMPLES>\n{{examples}}\n</EXAMPLES></div></td>\n      <td id=\"T_57775_row5_col3\" class=\"data row5 col3\" ><div class=\"scrollable\">2788</div></td>\n      <td id=\"T_57775_row5_col4\" class=\"data row5 col4\" ><div class=\"scrollable\">2776</div></td>\n      <td id=\"T_57775_row5_col5\" class=\"data row5 col5\" ><div class=\"scrollable\">Step 1: The reference answer is: 2776.\nStep 2: The final answer identified in the response is: 2788.\nStep 3: The response (2788) does not match the reference (2776).\nStep 4: Score 0 based on the rubric, as the response does not contain all claims from the reference.</div></td>\n      <td id=\"T_57775_row5_col6\" class=\"data row5 col6\" ><div class=\"scrollable\">0</div></td>\n    </tr>\n    <tr>\n      <th id=\"T_57775_level0_row6\" class=\"row_heading level0 row6\" >6</th>\n      <td id=\"T_57775_row6_col0\" class=\"data row6 col0\" ><div class=\"scrollable\">What is the total length of the date range that starts on June 09, 2015 and ends on November 15, 2015 including the start and end days?</div></td>\n      <td id=\"T_57775_row6_col1\" class=\"data row6 col1\" ><div class=\"scrollable\">160</div></td>\n      <td id=\"T_57775_row6_col2\" class=\"data row6 col2\" ><div class=\"scrollable\">## Date Range Length Calculator\n\nYou are a helpful AI assistant with a talent for calculating the total number of days within a date range. Your goal is to determine the length of a date range *inclusive* of the start and end dates provided. \n\nLet's work through this with some examples: \n\n<EXAMPLES>\n{{examples}}\n</EXAMPLES></div></td>\n      <td id=\"T_57775_row6_col3\" class=\"data row6 col3\" ><div class=\"scrollable\">159</div></td>\n      <td id=\"T_57775_row6_col4\" class=\"data row6 col4\" ><div class=\"scrollable\">160</div></td>\n      <td id=\"T_57775_row6_col5\" class=\"data row6 col5\" ><div class=\"scrollable\">Step 1: The reference answer is: 160.\nStep 2: The final answer identified in the response is: 159.\nStep 3: The response is incorrect. The reference mentions that the length of the time range from June 09, 2015 to November 15, 2015 is 160 days. However, the response states that the length is 159 days.\nStep 4: Score: 0</div></td>\n      <td id=\"T_57775_row6_col6\" class=\"data row6 col6\" ><div class=\"scrollable\">0</div></td>\n    </tr>\n    <tr>\n      <th id=\"T_57775_level0_row7\" class=\"row_heading level0 row7\" >7</th>\n      <td id=\"T_57775_row7_col0\" class=\"data row7 col0\" ><div class=\"scrollable\">What is the total length of the date range that starts on April 26, 2019 and ends on October 12, 2026 including the start and end days?</div></td>\n      <td id=\"T_57775_row7_col1\" class=\"data row7 col1\" ><div class=\"scrollable\">2727</div></td>\n      <td id=\"T_57775_row7_col2\" class=\"data row7 col2\" ><div class=\"scrollable\">## Date Range Length Calculator\n\nYou are a helpful AI assistant with a talent for calculating the total number of days within a date range. Your goal is to determine the length of a date range *inclusive* of the start and end dates provided. \n\nLet's work through this with some examples: \n\n<EXAMPLES>\n{{examples}}\n</EXAMPLES></div></td>\n      <td id=\"T_57775_row7_col3\" class=\"data row7 col3\" ><div class=\"scrollable\">123</div></td>\n      <td id=\"T_57775_row7_col4\" class=\"data row7 col4\" ><div class=\"scrollable\">2727</div></td>\n      <td id=\"T_57775_row7_col5\" class=\"data row7 col5\" ><div class=\"scrollable\">Step 1: The reference answer is: 2727.\nStep 2: The final answer identified in the response is: 123.\nStep 3: The response is incorrect. The final answer is different to the reference answer.\nStep 4: Score: 0</div></td>\n      <td id=\"T_57775_row7_col6\" class=\"data row7 col6\" ><div class=\"scrollable\">0</div></td>\n    </tr>\n    <tr>\n      <th id=\"T_57775_level0_row8\" class=\"row_heading level0 row8\" >8</th>\n      <td id=\"T_57775_row8_col0\" class=\"data row8 col0\" ><div class=\"scrollable\">What is the total length of the date range that starts on September 05, 2013 and ends on September 19, 2013 including the start and end days?</div></td>\n      <td id=\"T_57775_row8_col1\" class=\"data row8 col1\" ><div class=\"scrollable\">15</div></td>\n      <td id=\"T_57775_row8_col2\" class=\"data row8 col2\" ><div class=\"scrollable\">## Date Range Length Calculator\n\nYou are a helpful AI assistant with a talent for calculating the total number of days within a date range. Your goal is to determine the length of a date range *inclusive* of the start and end dates provided. \n\nLet's work through this with some examples: \n\n<EXAMPLES>\n{{examples}}\n</EXAMPLES></div></td>\n      <td id=\"T_57775_row8_col3\" class=\"data row8 col3\" ><div class=\"scrollable\">15</div></td>\n      <td id=\"T_57775_row8_col4\" class=\"data row8 col4\" ><div class=\"scrollable\">15</div></td>\n      <td id=\"T_57775_row8_col5\" class=\"data row8 col5\" ><div class=\"scrollable\">Step 1: The reference answer is: 15.\nStep 2: The final answer identified in the response is: 15.\nStep 3: The response matches the reference answer.\nStep 4: Score 1 - The response matches the reference and contains no additional information.</div></td>\n      <td id=\"T_57775_row8_col6\" class=\"data row8 col6\" ><div class=\"scrollable\">1</div></td>\n    </tr>\n    <tr>\n      <th id=\"T_57775_level0_row9\" class=\"row_heading level0 row9\" >9</th>\n      <td id=\"T_57775_row9_col0\" class=\"data row9 col0\" ><div class=\"scrollable\">What is the total length of the date range that starts on May 01, 2021 and ends on May 02, 2021 including the start and end days?</div></td>\n      <td id=\"T_57775_row9_col1\" class=\"data row9 col1\" ><div class=\"scrollable\">2</div></td>\n      <td id=\"T_57775_row9_col2\" class=\"data row9 col2\" ><div class=\"scrollable\">## Date Range Length Calculator\n\nYou are a helpful AI assistant with a talent for calculating the total number of days within a date range. Your goal is to determine the length of a date range *inclusive* of the start and end dates provided. \n\nLet's work through this with some examples: \n\n<EXAMPLES>\n{{examples}}\n</EXAMPLES></div></td>\n      <td id=\"T_57775_row9_col3\" class=\"data row9 col3\" ><div class=\"scrollable\">2</div></td>\n      <td id=\"T_57775_row9_col4\" class=\"data row9 col4\" ><div class=\"scrollable\">2</div></td>\n      <td id=\"T_57775_row9_col5\" class=\"data row9 col5\" ><div class=\"scrollable\">Step 1: The reference answer is: 2.\nStep 2: The final answer identified in the response is: 2.\nStep 3: The response matches the reference.\nStep 4: Score is 1 according to the rubric.</div></td>\n      <td id=\"T_57775_row9_col6\" class=\"data row9 col6\" ><div class=\"scrollable\">1</div></td>\n    </tr>\n    <tr>\n      <th id=\"T_57775_level0_row10\" class=\"row_heading level0 row10\" >10</th>\n      <td id=\"T_57775_row10_col0\" class=\"data row10 col0\" ><div class=\"scrollable\">What is the total length of the date range that starts on February 28, 2015 and ends on September 24, 2015 including the start and end days?</div></td>\n      <td id=\"T_57775_row10_col1\" class=\"data row10 col1\" ><div class=\"scrollable\">209</div></td>\n      <td id=\"T_57775_row10_col2\" class=\"data row10 col2\" ><div class=\"scrollable\">## Date Range Length Calculator\n\nYou are a helpful AI assistant with a talent for calculating the total number of days within a date range. Your goal is to determine the length of a date range *inclusive* of the start and end dates provided. \n\nLet's work through this with some examples: \n\n<EXAMPLES>\n{{examples}}\n</EXAMPLES></div></td>\n      <td id=\"T_57775_row10_col3\" class=\"data row10 col3\" ><div class=\"scrollable\">208</div></td>\n      <td id=\"T_57775_row10_col4\" class=\"data row10 col4\" ><div class=\"scrollable\">209</div></td>\n      <td id=\"T_57775_row10_col5\" class=\"data row10 col5\" ><div class=\"scrollable\">Step 1: The reference answer is: 209.\nStep 2: The final answer identified in the response is: 208.\nStep 3: The response contains the claim \"208\", which is not present in the reference, \"209\".\nStep 4: Based on the rubric, the score is 0.</div></td>\n      <td id=\"T_57775_row10_col6\" class=\"data row10 col6\" ><div class=\"scrollable\">0</div></td>\n    </tr>\n    <tr>\n      <th id=\"T_57775_level0_row11\" class=\"row_heading level0 row11\" >11</th>\n      <td id=\"T_57775_row11_col0\" class=\"data row11 col0\" ><div class=\"scrollable\">What is the total length of the date range that starts on July 08, 2015 and ends on May 19, 2016 including the start and end days?</div></td>\n      <td id=\"T_57775_row11_col1\" class=\"data row11 col1\" ><div class=\"scrollable\">317</div></td>\n      <td id=\"T_57775_row11_col2\" class=\"data row11 col2\" ><div class=\"scrollable\">## Date Range Length Calculator\n\nYou are a helpful AI assistant with a talent for calculating the total number of days within a date range. Your goal is to determine the length of a date range *inclusive* of the start and end dates provided. \n\nLet's work through this with some examples: \n\n<EXAMPLES>\n{{examples}}\n</EXAMPLES></div></td>\n      <td id=\"T_57775_row11_col3\" class=\"data row11 col3\" ><div class=\"scrollable\">317</div></td>\n      <td id=\"T_57775_row11_col4\" class=\"data row11 col4\" ><div class=\"scrollable\">317</div></td>\n      <td id=\"T_57775_row11_col5\" class=\"data row11 col5\" ><div class=\"scrollable\">Step 1: The reference answer is: 317.\nStep 2: The final answer identified in the response is: 317.\nStep 3: The response matches the reference.\nStep 4: Score is 1 based on the rubric.</div></td>\n      <td id=\"T_57775_row11_col6\" class=\"data row11 col6\" ><div class=\"scrollable\">1</div></td>\n    </tr>\n    <tr>\n      <th id=\"T_57775_level0_row12\" class=\"row_heading level0 row12\" >12</th>\n      <td id=\"T_57775_row12_col0\" class=\"data row12 col0\" ><div class=\"scrollable\">What is the total length of the date range that starts on January 21, 2019 and ends on February 07, 2019 including the start and end days?</div></td>\n      <td id=\"T_57775_row12_col1\" class=\"data row12 col1\" ><div class=\"scrollable\">18</div></td>\n      <td id=\"T_57775_row12_col2\" class=\"data row12 col2\" ><div class=\"scrollable\">## Date Range Length Calculator\n\nYou are a helpful AI assistant with a talent for calculating the total number of days within a date range. Your goal is to determine the length of a date range *inclusive* of the start and end dates provided. \n\nLet's work through this with some examples: \n\n<EXAMPLES>\n{{examples}}\n</EXAMPLES></div></td>\n      <td id=\"T_57775_row12_col3\" class=\"data row12 col3\" ><div class=\"scrollable\">18</div></td>\n      <td id=\"T_57775_row12_col4\" class=\"data row12 col4\" ><div class=\"scrollable\">18</div></td>\n      <td id=\"T_57775_row12_col5\" class=\"data row12 col5\" ><div class=\"scrollable\">Step 1: The reference answer is: 18.\nStep 2: The final answer identified in the response is: 18.\nStep 3: The response contains the same answer as the reference.\nStep 4: Based on the rubric, the score is 1.</div></td>\n      <td id=\"T_57775_row12_col6\" class=\"data row12 col6\" ><div class=\"scrollable\">1</div></td>\n    </tr>\n    <tr>\n      <th id=\"T_57775_level0_row13\" class=\"row_heading level0 row13\" >13</th>\n      <td id=\"T_57775_row13_col0\" class=\"data row13 col0\" ><div class=\"scrollable\">What is the total length of the date range that starts on March 18, 2013 and ends on March 19, 2013 including the start and end days?</div></td>\n      <td id=\"T_57775_row13_col1\" class=\"data row13 col1\" ><div class=\"scrollable\">2</div></td>\n      <td id=\"T_57775_row13_col2\" class=\"data row13 col2\" ><div class=\"scrollable\">## Date Range Length Calculator\n\nYou are a helpful AI assistant with a talent for calculating the total number of days within a date range. Your goal is to determine the length of a date range *inclusive* of the start and end dates provided. \n\nLet's work through this with some examples: \n\n<EXAMPLES>\n{{examples}}\n</EXAMPLES></div></td>\n      <td id=\"T_57775_row13_col3\" class=\"data row13 col3\" ><div class=\"scrollable\">2</div></td>\n      <td id=\"T_57775_row13_col4\" class=\"data row13 col4\" ><div class=\"scrollable\">2</div></td>\n      <td id=\"T_57775_row13_col5\" class=\"data row13 col5\" ><div class=\"scrollable\">Step 1: The reference answer is: 2.\nStep 2: The final answer identified in the response is: 2.\nStep 3: The response matches the reference.\nStep 4: Based on the rubric, the score is 1.</div></td>\n      <td id=\"T_57775_row13_col6\" class=\"data row13 col6\" ><div class=\"scrollable\">1</div></td>\n    </tr>\n    <tr>\n      <th id=\"T_57775_level0_row14\" class=\"row_heading level0 row14\" >14</th>\n      <td id=\"T_57775_row14_col0\" class=\"data row14 col0\" ><div class=\"scrollable\">What is the total length of the date range that starts on March 12, 2024 and ends on August 18, 2027 including the start and end days?</div></td>\n      <td id=\"T_57775_row14_col1\" class=\"data row14 col1\" ><div class=\"scrollable\">1255</div></td>\n      <td id=\"T_57775_row14_col2\" class=\"data row14 col2\" ><div class=\"scrollable\">## Date Range Length Calculator\n\nYou are a helpful AI assistant with a talent for calculating the total number of days within a date range. Your goal is to determine the length of a date range *inclusive* of the start and end dates provided. \n\nLet's work through this with some examples: \n\n<EXAMPLES>\n{{examples}}\n</EXAMPLES></div></td>\n      <td id=\"T_57775_row14_col3\" class=\"data row14 col3\" ><div class=\"scrollable\">123</div></td>\n      <td id=\"T_57775_row14_col4\" class=\"data row14 col4\" ><div class=\"scrollable\">1255</div></td>\n      <td id=\"T_57775_row14_col5\" class=\"data row14 col5\" ><div class=\"scrollable\">Step 1: The reference answer is: 1255.\nStep 2: The final answer identified in the response is: 123.\nStep 3: The response (123) does not match the reference answer (1255).\nStep 4: Score 0 based on the rubric because the response does not contain all claims from the reference, and therefore does meet the criteria for a score of 1.</div></td>\n      <td id=\"T_57775_row14_col6\" class=\"data row14 col6\" ><div class=\"scrollable\">0</div></td>\n    </tr>\n    <tr>\n      <th id=\"T_57775_level0_row15\" class=\"row_heading level0 row15\" >15</th>\n      <td id=\"T_57775_row15_col0\" class=\"data row15 col0\" ><div class=\"scrollable\">What is the total length of the date range that starts on July 11, 2003 and ends on July 27, 2003 including the start and end days?</div></td>\n      <td id=\"T_57775_row15_col1\" class=\"data row15 col1\" ><div class=\"scrollable\">17</div></td>\n      <td id=\"T_57775_row15_col2\" class=\"data row15 col2\" ><div class=\"scrollable\">## Date Range Length Calculator\n\nYou are a helpful AI assistant with a talent for calculating the total number of days within a date range. Your goal is to determine the length of a date range *inclusive* of the start and end dates provided. \n\nLet's work through this with some examples: \n\n<EXAMPLES>\n{{examples}}\n</EXAMPLES></div></td>\n      <td id=\"T_57775_row15_col3\" class=\"data row15 col3\" ><div class=\"scrollable\">17</div></td>\n      <td id=\"T_57775_row15_col4\" class=\"data row15 col4\" ><div class=\"scrollable\">17</div></td>\n      <td id=\"T_57775_row15_col5\" class=\"data row15 col5\" ><div class=\"scrollable\">Step 1: The reference answer is: 17.\nStep 2: The final answer identified in the response is: 17.\nStep 3: The response matches the reference.\nStep 4: According to the rubric, the score is 1.</div></td>\n      <td id=\"T_57775_row15_col6\" class=\"data row15 col6\" ><div class=\"scrollable\">1</div></td>\n    </tr>\n    <tr>\n      <th id=\"T_57775_level0_row16\" class=\"row_heading level0 row16\" >16</th>\n      <td id=\"T_57775_row16_col0\" class=\"data row16 col0\" ><div class=\"scrollable\">What is the total length of the date range that starts on March 14, 2014 and ends on March 19, 2014 including the start and end days?</div></td>\n      <td id=\"T_57775_row16_col1\" class=\"data row16 col1\" ><div class=\"scrollable\">6</div></td>\n      <td id=\"T_57775_row16_col2\" class=\"data row16 col2\" ><div class=\"scrollable\">## Date Range Length Calculator\n\nYou are a helpful AI assistant with a talent for calculating the total number of days within a date range. Your goal is to determine the length of a date range *inclusive* of the start and end dates provided. \n\nLet's work through this with some examples: \n\n<EXAMPLES>\n{{examples}}\n</EXAMPLES></div></td>\n      <td id=\"T_57775_row16_col3\" class=\"data row16 col3\" ><div class=\"scrollable\">6</div></td>\n      <td id=\"T_57775_row16_col4\" class=\"data row16 col4\" ><div class=\"scrollable\">6</div></td>\n      <td id=\"T_57775_row16_col5\" class=\"data row16 col5\" ><div class=\"scrollable\">Step 1: The reference answer is: 6.\nStep 2: The final answer identified in the response is: 6.\nStep 3: The response matches the reference.\nStep 4: Score is 1 based on the rubric.</div></td>\n      <td id=\"T_57775_row16_col6\" class=\"data row16 col6\" ><div class=\"scrollable\">1</div></td>\n    </tr>\n    <tr>\n      <th id=\"T_57775_level0_row17\" class=\"row_heading level0 row17\" >17</th>\n      <td id=\"T_57775_row17_col0\" class=\"data row17 col0\" ><div class=\"scrollable\">What is the total length of the date range that starts on June 18, 2016 and ends on June 19, 2016 including the start and end days?</div></td>\n      <td id=\"T_57775_row17_col1\" class=\"data row17 col1\" ><div class=\"scrollable\">2</div></td>\n      <td id=\"T_57775_row17_col2\" class=\"data row17 col2\" ><div class=\"scrollable\">## Date Range Length Calculator\n\nYou are a helpful AI assistant with a talent for calculating the total number of days within a date range. Your goal is to determine the length of a date range *inclusive* of the start and end dates provided. \n\nLet's work through this with some examples: \n\n<EXAMPLES>\n{{examples}}\n</EXAMPLES></div></td>\n      <td id=\"T_57775_row17_col3\" class=\"data row17 col3\" ><div class=\"scrollable\">2</div></td>\n      <td id=\"T_57775_row17_col4\" class=\"data row17 col4\" ><div class=\"scrollable\">2</div></td>\n      <td id=\"T_57775_row17_col5\" class=\"data row17 col5\" ><div class=\"scrollable\">Step 1: The reference answer is: 2.\nStep 2: The final answer identified in the response is: 2.\nStep 3: The response correctly identifies the total length of the date range as 2, which is consistent with the reference.\nStep 4: Score: 1</div></td>\n      <td id=\"T_57775_row17_col6\" class=\"data row17 col6\" ><div class=\"scrollable\">1</div></td>\n    </tr>\n    <tr>\n      <th id=\"T_57775_level0_row18\" class=\"row_heading level0 row18\" >18</th>\n      <td id=\"T_57775_row18_col0\" class=\"data row18 col0\" ><div class=\"scrollable\">What is the total length of the date range that starts on February 01, 2011 and ends on December 19, 2018 including the start and end days?</div></td>\n      <td id=\"T_57775_row18_col1\" class=\"data row18 col1\" ><div class=\"scrollable\">2879</div></td>\n      <td id=\"T_57775_row18_col2\" class=\"data row18 col2\" ><div class=\"scrollable\">## Date Range Length Calculator\n\nYou are a helpful AI assistant with a talent for calculating the total number of days within a date range. Your goal is to determine the length of a date range *inclusive* of the start and end dates provided. \n\nLet's work through this with some examples: \n\n<EXAMPLES>\n{{examples}}\n</EXAMPLES></div></td>\n      <td id=\"T_57775_row18_col3\" class=\"data row18 col3\" ><div class=\"scrollable\">2827</div></td>\n      <td id=\"T_57775_row18_col4\" class=\"data row18 col4\" ><div class=\"scrollable\">2879</div></td>\n      <td id=\"T_57775_row18_col5\" class=\"data row18 col5\" ><div class=\"scrollable\">Step 1: The reference answer is: 2879.\nStep 2: The final answer identified in the response is: 2827.\nStep 3: The response (2827) does not match the reference answer (2879).\nStep 4: Score 0 based on the rubric: The response does not contain all claims from the reference.</div></td>\n      <td id=\"T_57775_row18_col6\" class=\"data row18 col6\" ><div class=\"scrollable\">0</div></td>\n    </tr>\n    <tr>\n      <th id=\"T_57775_level0_row19\" class=\"row_heading level0 row19\" >19</th>\n      <td id=\"T_57775_row19_col0\" class=\"data row19 col0\" ><div class=\"scrollable\">What is the total length of the date range that starts on December 20, 2004 and ends on December 29, 2004 including the start and end days?</div></td>\n      <td id=\"T_57775_row19_col1\" class=\"data row19 col1\" ><div class=\"scrollable\">10</div></td>\n      <td id=\"T_57775_row19_col2\" class=\"data row19 col2\" ><div class=\"scrollable\">## Date Range Length Calculator\n\nYou are a helpful AI assistant with a talent for calculating the total number of days within a date range. Your goal is to determine the length of a date range *inclusive* of the start and end dates provided. \n\nLet's work through this with some examples: \n\n<EXAMPLES>\n{{examples}}\n</EXAMPLES></div></td>\n      <td id=\"T_57775_row19_col3\" class=\"data row19 col3\" ><div class=\"scrollable\">10</div></td>\n      <td id=\"T_57775_row19_col4\" class=\"data row19 col4\" ><div class=\"scrollable\">10</div></td>\n      <td id=\"T_57775_row19_col5\" class=\"data row19 col5\" ><div class=\"scrollable\">Step 1: The reference answer is: 10.\nStep 2: The final answer identified in the response is: 10.\nStep 3: The response correctly states the total number of days within the specified date range, which is consistent with the information provided in the reference.\nStep 4: Score: 1</div></td>\n      <td id=\"T_57775_row19_col6\" class=\"data row19 col6\" ><div class=\"scrollable\">1</div></td>\n    </tr>\n    <tr>\n      <th id=\"T_57775_level0_row20\" class=\"row_heading level0 row20\" >20</th>\n      <td id=\"T_57775_row20_col0\" class=\"data row20 col0\" ><div class=\"scrollable\">What is the total length of the date range that starts on September 26, 2012 and ends on April 19, 2013 including the start and end days?</div></td>\n      <td id=\"T_57775_row20_col1\" class=\"data row20 col1\" ><div class=\"scrollable\">206</div></td>\n      <td id=\"T_57775_row20_col2\" class=\"data row20 col2\" ><div class=\"scrollable\">## Date Range Length Calculator\n\nYou are a helpful AI assistant with a talent for calculating the total number of days within a date range. Your goal is to determine the length of a date range *inclusive* of the start and end dates provided. \n\nLet's work through this with some examples: \n\n<EXAMPLES>\n{{examples}}\n</EXAMPLES></div></td>\n      <td id=\"T_57775_row20_col3\" class=\"data row20 col3\" ><div class=\"scrollable\">123</div></td>\n      <td id=\"T_57775_row20_col4\" class=\"data row20 col4\" ><div class=\"scrollable\">206</div></td>\n      <td id=\"T_57775_row20_col5\" class=\"data row20 col5\" ><div class=\"scrollable\">Step 1: The reference answer is: 206.\nStep 2: The final answer identified in the response is: 123.\nStep 3: The response (123) does not match the reference answer (206).\nStep 4: Score 0 based on the rubric: The response does not contain all claims from the reference, or the response contains claims that are not present in the reference.</div></td>\n      <td id=\"T_57775_row20_col6\" class=\"data row20 col6\" ><div class=\"scrollable\">0</div></td>\n    </tr>\n    <tr>\n      <th id=\"T_57775_level0_row21\" class=\"row_heading level0 row21\" >21</th>\n      <td id=\"T_57775_row21_col0\" class=\"data row21 col0\" ><div class=\"scrollable\">What is the total length of the date range that starts on July 26, 2003 and ends on August 11, 2003 including the start and end days?</div></td>\n      <td id=\"T_57775_row21_col1\" class=\"data row21 col1\" ><div class=\"scrollable\">17</div></td>\n      <td id=\"T_57775_row21_col2\" class=\"data row21 col2\" ><div class=\"scrollable\">## Date Range Length Calculator\n\nYou are a helpful AI assistant with a talent for calculating the total number of days within a date range. Your goal is to determine the length of a date range *inclusive* of the start and end dates provided. \n\nLet's work through this with some examples: \n\n<EXAMPLES>\n{{examples}}\n</EXAMPLES></div></td>\n      <td id=\"T_57775_row21_col3\" class=\"data row21 col3\" ><div class=\"scrollable\">17</div></td>\n      <td id=\"T_57775_row21_col4\" class=\"data row21 col4\" ><div class=\"scrollable\">17</div></td>\n      <td id=\"T_57775_row21_col5\" class=\"data row21 col5\" ><div class=\"scrollable\">Step 1: The reference answer is: 17.\nStep 2: The final answer identified in the response is: 17.\nStep 3: The response contains the same answer as the reference.\nStep 4: According to the rubric, the score is 1.</div></td>\n      <td id=\"T_57775_row21_col6\" class=\"data row21 col6\" ><div class=\"scrollable\">1</div></td>\n    </tr>\n    <tr>\n      <th id=\"T_57775_level0_row22\" class=\"row_heading level0 row22\" >22</th>\n      <td id=\"T_57775_row22_col0\" class=\"data row22 col0\" ><div class=\"scrollable\">What is the total length of the date range that starts on July 12, 2011 and ends on September 06, 2011 including the start and end days?</div></td>\n      <td id=\"T_57775_row22_col1\" class=\"data row22 col1\" ><div class=\"scrollable\">57</div></td>\n      <td id=\"T_57775_row22_col2\" class=\"data row22 col2\" ><div class=\"scrollable\">## Date Range Length Calculator\n\nYou are a helpful AI assistant with a talent for calculating the total number of days within a date range. Your goal is to determine the length of a date range *inclusive* of the start and end dates provided. \n\nLet's work through this with some examples: \n\n<EXAMPLES>\n{{examples}}\n</EXAMPLES></div></td>\n      <td id=\"T_57775_row22_col3\" class=\"data row22 col3\" ><div class=\"scrollable\">123</div></td>\n      <td id=\"T_57775_row22_col4\" class=\"data row22 col4\" ><div class=\"scrollable\">57</div></td>\n      <td id=\"T_57775_row22_col5\" class=\"data row22 col5\" ><div class=\"scrollable\">Step 1: The reference answer is: 57.\nStep 2: The final answer identified in the response is: 123.\nStep 3: The response is incorrect. The reference mentions 57 and the response says 123.  They do not match.\nStep 4: Score 0 based on the rubric: The response does not contain all claims from the reference, or the response contains claims that are not present in the reference.</div></td>\n      <td id=\"T_57775_row22_col6\" class=\"data row22 col6\" ><div class=\"scrollable\">0</div></td>\n    </tr>\n    <tr>\n      <th id=\"T_57775_level0_row23\" class=\"row_heading level0 row23\" >23</th>\n      <td id=\"T_57775_row23_col0\" class=\"data row23 col0\" ><div class=\"scrollable\">What is the total length of the date range that starts on May 25, 2022 and ends on May 30, 2022 including the start and end days?</div></td>\n      <td id=\"T_57775_row23_col1\" class=\"data row23 col1\" ><div class=\"scrollable\">6</div></td>\n      <td id=\"T_57775_row23_col2\" class=\"data row23 col2\" ><div class=\"scrollable\">## Date Range Length Calculator\n\nYou are a helpful AI assistant with a talent for calculating the total number of days within a date range. Your goal is to determine the length of a date range *inclusive* of the start and end dates provided. \n\nLet's work through this with some examples: \n\n<EXAMPLES>\n{{examples}}\n</EXAMPLES></div></td>\n      <td id=\"T_57775_row23_col3\" class=\"data row23 col3\" ><div class=\"scrollable\">6</div></td>\n      <td id=\"T_57775_row23_col4\" class=\"data row23 col4\" ><div class=\"scrollable\">6</div></td>\n      <td id=\"T_57775_row23_col5\" class=\"data row23 col5\" ><div class=\"scrollable\">Step 1: The reference answer is: 6.\nStep 2: The final answer identified in the response is: 6.\nStep 3: The response correctly states the total number of days within the specified date range, which is consistent with the information provided in the reference.\nStep 4: Score: 1</div></td>\n      <td id=\"T_57775_row23_col6\" class=\"data row23 col6\" ><div class=\"scrollable\">1</div></td>\n    </tr>\n    <tr>\n      <th id=\"T_57775_level0_row24\" class=\"row_heading level0 row24\" >24</th>\n      <td id=\"T_57775_row24_col0\" class=\"data row24 col0\" ><div class=\"scrollable\">What is the total length of the date range that starts on August 14, 2005 and ends on December 10, 2008 including the start and end days?</div></td>\n      <td id=\"T_57775_row24_col1\" class=\"data row24 col1\" ><div class=\"scrollable\">1215</div></td>\n      <td id=\"T_57775_row24_col2\" class=\"data row24 col2\" ><div class=\"scrollable\">## Date Range Length Calculator\n\nYou are a helpful AI assistant with a talent for calculating the total number of days within a date range. Your goal is to determine the length of a date range *inclusive* of the start and end dates provided. \n\nLet's work through this with some examples: \n\n<EXAMPLES>\n{{examples}}\n</EXAMPLES></div></td>\n      <td id=\"T_57775_row24_col3\" class=\"data row24 col3\" ><div class=\"scrollable\">123</div></td>\n      <td id=\"T_57775_row24_col4\" class=\"data row24 col4\" ><div class=\"scrollable\">1215</div></td>\n      <td id=\"T_57775_row24_col5\" class=\"data row24 col5\" ><div class=\"scrollable\">Step 1: The reference answer is: 1215.\nStep 2: The final answer identified in the response is: 123.\nStep 3: The response (123) does not match the reference answer (1215).\nStep 4: Score 0 based on the rubric: The response does not contain all claims from the reference or the response contains claims that are not present in the reference.</div></td>\n      <td id=\"T_57775_row24_col6\" class=\"data row24 col6\" ><div class=\"scrollable\">0</div></td>\n    </tr>\n    <tr>\n      <th id=\"T_57775_level0_row25\" class=\"row_heading level0 row25\" >25</th>\n      <td id=\"T_57775_row25_col0\" class=\"data row25 col0\" ><div class=\"scrollable\">What is the total length of the date range that starts on March 31, 2015 and ends on April 28, 2015 including the start and end days?</div></td>\n      <td id=\"T_57775_row25_col1\" class=\"data row25 col1\" ><div class=\"scrollable\">29</div></td>\n      <td id=\"T_57775_row25_col2\" class=\"data row25 col2\" ><div class=\"scrollable\">## Date Range Length Calculator\n\nYou are a helpful AI assistant with a talent for calculating the total number of days within a date range. Your goal is to determine the length of a date range *inclusive* of the start and end dates provided. \n\nLet's work through this with some examples: \n\n<EXAMPLES>\n{{examples}}\n</EXAMPLES></div></td>\n      <td id=\"T_57775_row25_col3\" class=\"data row25 col3\" ><div class=\"scrollable\">29</div></td>\n      <td id=\"T_57775_row25_col4\" class=\"data row25 col4\" ><div class=\"scrollable\">29</div></td>\n      <td id=\"T_57775_row25_col5\" class=\"data row25 col5\" ><div class=\"scrollable\">Step 1: The reference answer is: 29.\nStep 2: The final answer identified in the response is: 29.\nStep 3: The response matches the reference.\nStep 4: Score is 1 according to the rubric because the response contains all claims from the reference and does not contain claims that are not present in the reference.</div></td>\n      <td id=\"T_57775_row25_col6\" class=\"data row25 col6\" ><div class=\"scrollable\">1</div></td>\n    </tr>\n    <tr>\n      <th id=\"T_57775_level0_row26\" class=\"row_heading level0 row26\" >26</th>\n      <td id=\"T_57775_row26_col0\" class=\"data row26 col0\" ><div class=\"scrollable\">What is the total length of the date range that starts on January 07, 2025 and ends on January 19, 2029 including the start and end days?</div></td>\n      <td id=\"T_57775_row26_col1\" class=\"data row26 col1\" ><div class=\"scrollable\">1474</div></td>\n      <td id=\"T_57775_row26_col2\" class=\"data row26 col2\" ><div class=\"scrollable\">## Date Range Length Calculator\n\nYou are a helpful AI assistant with a talent for calculating the total number of days within a date range. Your goal is to determine the length of a date range *inclusive* of the start and end dates provided. \n\nLet's work through this with some examples: \n\n<EXAMPLES>\n{{examples}}\n</EXAMPLES></div></td>\n      <td id=\"T_57775_row26_col3\" class=\"data row26 col3\" ><div class=\"scrollable\">1461</div></td>\n      <td id=\"T_57775_row26_col4\" class=\"data row26 col4\" ><div class=\"scrollable\">1474</div></td>\n      <td id=\"T_57775_row26_col5\" class=\"data row26 col5\" ><div class=\"scrollable\">Step 1: The reference answer is: 1474.\nStep 2: The final answer identified in the response is: 1461.\nStep 3: The response (1461) does not match the reference (1474).\nStep 4: Score 0 based on the rubric, as the response does not contain all claims from the reference.</div></td>\n      <td id=\"T_57775_row26_col6\" class=\"data row26 col6\" ><div class=\"scrollable\">0</div></td>\n    </tr>\n    <tr>\n      <th id=\"T_57775_level0_row27\" class=\"row_heading level0 row27\" >27</th>\n      <td id=\"T_57775_row27_col0\" class=\"data row27 col0\" ><div class=\"scrollable\">What is the total length of the date range that starts on April 14, 2015 and ends on December 14, 2018 including the start and end days?</div></td>\n      <td id=\"T_57775_row27_col1\" class=\"data row27 col1\" ><div class=\"scrollable\">1341</div></td>\n      <td id=\"T_57775_row27_col2\" class=\"data row27 col2\" ><div class=\"scrollable\">## Date Range Length Calculator\n\nYou are a helpful AI assistant with a talent for calculating the total number of days within a date range. Your goal is to determine the length of a date range *inclusive* of the start and end dates provided. \n\nLet's work through this with some examples: \n\n<EXAMPLES>\n{{examples}}\n</EXAMPLES></div></td>\n      <td id=\"T_57775_row27_col3\" class=\"data row27 col3\" ><div class=\"scrollable\">123</div></td>\n      <td id=\"T_57775_row27_col4\" class=\"data row27 col4\" ><div class=\"scrollable\">1341</div></td>\n      <td id=\"T_57775_row27_col5\" class=\"data row27 col5\" ><div class=\"scrollable\">Step 1: The reference answer is: 1341.\nStep 2: The final answer identified in the response is: 123.\nStep 3: The response (123) does not match the reference answer (1341).\nStep 4: According to the rubric, the score is 0.</div></td>\n      <td id=\"T_57775_row27_col6\" class=\"data row27 col6\" ><div class=\"scrollable\">0</div></td>\n    </tr>\n    <tr>\n      <th id=\"T_57775_level0_row28\" class=\"row_heading level0 row28\" >28</th>\n      <td id=\"T_57775_row28_col0\" class=\"data row28 col0\" ><div class=\"scrollable\">What is the total length of the date range that starts on December 13, 2026 and ends on December 26, 2026 including the start and end days?</div></td>\n      <td id=\"T_57775_row28_col1\" class=\"data row28 col1\" ><div class=\"scrollable\">14</div></td>\n      <td id=\"T_57775_row28_col2\" class=\"data row28 col2\" ><div class=\"scrollable\">## Date Range Length Calculator\n\nYou are a helpful AI assistant with a talent for calculating the total number of days within a date range. Your goal is to determine the length of a date range *inclusive* of the start and end dates provided. \n\nLet's work through this with some examples: \n\n<EXAMPLES>\n{{examples}}\n</EXAMPLES></div></td>\n      <td id=\"T_57775_row28_col3\" class=\"data row28 col3\" ><div class=\"scrollable\">14</div></td>\n      <td id=\"T_57775_row28_col4\" class=\"data row28 col4\" ><div class=\"scrollable\">14</div></td>\n      <td id=\"T_57775_row28_col5\" class=\"data row28 col5\" ><div class=\"scrollable\">Step 1: The reference answer is: 14.\nStep 2: The final answer identified in the response is: 14.\nStep 3: The response correctly identifies the total number of days, including the start and end days, within the specified date range.\nStep 4: Score: 1</div></td>\n      <td id=\"T_57775_row28_col6\" class=\"data row28 col6\" ><div class=\"scrollable\">1</div></td>\n    </tr>\n    <tr>\n      <th id=\"T_57775_level0_row29\" class=\"row_heading level0 row29\" >29</th>\n      <td id=\"T_57775_row29_col0\" class=\"data row29 col0\" ><div class=\"scrollable\">What is the total length of the date range that starts on November 05, 2005 and ends on December 10, 2005 including the start and end days?</div></td>\n      <td id=\"T_57775_row29_col1\" class=\"data row29 col1\" ><div class=\"scrollable\">36</div></td>\n      <td id=\"T_57775_row29_col2\" class=\"data row29 col2\" ><div class=\"scrollable\">## Date Range Length Calculator\n\nYou are a helpful AI assistant with a talent for calculating the total number of days within a date range. Your goal is to determine the length of a date range *inclusive* of the start and end dates provided. \n\nLet's work through this with some examples: \n\n<EXAMPLES>\n{{examples}}\n</EXAMPLES></div></td>\n      <td id=\"T_57775_row29_col3\" class=\"data row29 col3\" ><div class=\"scrollable\">37</div></td>\n      <td id=\"T_57775_row29_col4\" class=\"data row29 col4\" ><div class=\"scrollable\">36</div></td>\n      <td id=\"T_57775_row29_col5\" class=\"data row29 col5\" ><div class=\"scrollable\">Step 1: The reference answer is: 36.\nStep 2: The final answer identified in the response is: 37.\nStep 3: The response (37) is not the same as the reference answer (36).\nStep 4: According to the rubric, the score is 0.</div></td>\n      <td id=\"T_57775_row29_col6\" class=\"data row29 col6\" ><div class=\"scrollable\">0</div></td>\n    </tr>\n    <tr>\n      <th id=\"T_57775_level0_row30\" class=\"row_heading level0 row30\" >30</th>\n      <td id=\"T_57775_row30_col0\" class=\"data row30 col0\" ><div class=\"scrollable\">What is the total length of the date range that starts on April 07, 2024 and ends on January 11, 2033 including the start and end days?</div></td>\n      <td id=\"T_57775_row30_col1\" class=\"data row30 col1\" ><div class=\"scrollable\">3202</div></td>\n      <td id=\"T_57775_row30_col2\" class=\"data row30 col2\" ><div class=\"scrollable\">## Date Range Length Calculator\n\nYou are a helpful AI assistant with a talent for calculating the total number of days within a date range. Your goal is to determine the length of a date range *inclusive* of the start and end dates provided. \n\nLet's work through this with some examples: \n\n<EXAMPLES>\n{{examples}}\n</EXAMPLES></div></td>\n      <td id=\"T_57775_row30_col3\" class=\"data row30 col3\" ><div class=\"scrollable\">3207</div></td>\n      <td id=\"T_57775_row30_col4\" class=\"data row30 col4\" ><div class=\"scrollable\">3202</div></td>\n      <td id=\"T_57775_row30_col5\" class=\"data row30 col5\" ><div class=\"scrollable\">Step 1: The reference answer is: 3202.\nStep 2: The final answer identified in the response is: 3207.\nStep 3: The response (3207) does not match the reference (3202).\nStep 4: Score 0 based on the rubric because the response does not equal the reference.</div></td>\n      <td id=\"T_57775_row30_col6\" class=\"data row30 col6\" ><div class=\"scrollable\">0</div></td>\n    </tr>\n    <tr>\n      <th id=\"T_57775_level0_row31\" class=\"row_heading level0 row31\" >31</th>\n      <td id=\"T_57775_row31_col0\" class=\"data row31 col0\" ><div class=\"scrollable\">What is the total length of the date range that starts on June 03, 2016 and ends on June 10, 2016 including the start and end days?</div></td>\n      <td id=\"T_57775_row31_col1\" class=\"data row31 col1\" ><div class=\"scrollable\">8</div></td>\n      <td id=\"T_57775_row31_col2\" class=\"data row31 col2\" ><div class=\"scrollable\">## Date Range Length Calculator\n\nYou are a helpful AI assistant with a talent for calculating the total number of days within a date range. Your goal is to determine the length of a date range *inclusive* of the start and end dates provided. \n\nLet's work through this with some examples: \n\n<EXAMPLES>\n{{examples}}\n</EXAMPLES></div></td>\n      <td id=\"T_57775_row31_col3\" class=\"data row31 col3\" ><div class=\"scrollable\">8</div></td>\n      <td id=\"T_57775_row31_col4\" class=\"data row31 col4\" ><div class=\"scrollable\">8</div></td>\n      <td id=\"T_57775_row31_col5\" class=\"data row31 col5\" ><div class=\"scrollable\">Step 1: The reference answer is: 8.\nStep 2: The final answer identified in the response is: 8.\nStep 3: The response correctly identifies the total number of days between and including the given dates in the question.\nStep 4: Score is 1 based on the RUBRIC.</div></td>\n      <td id=\"T_57775_row31_col6\" class=\"data row31 col6\" ><div class=\"scrollable\">1</div></td>\n    </tr>\n    <tr>\n      <th id=\"T_57775_level0_row32\" class=\"row_heading level0 row32\" >32</th>\n      <td id=\"T_57775_row32_col0\" class=\"data row32 col0\" ><div class=\"scrollable\">What is the total length of the date range that starts on October 19, 2001 and ends on August 01, 2008 including the start and end days?</div></td>\n      <td id=\"T_57775_row32_col1\" class=\"data row32 col1\" ><div class=\"scrollable\">2479</div></td>\n      <td id=\"T_57775_row32_col2\" class=\"data row32 col2\" ><div class=\"scrollable\">## Date Range Length Calculator\n\nYou are a helpful AI assistant with a talent for calculating the total number of days within a date range. Your goal is to determine the length of a date range *inclusive* of the start and end dates provided. \n\nLet's work through this with some examples: \n\n<EXAMPLES>\n{{examples}}\n</EXAMPLES></div></td>\n      <td id=\"T_57775_row32_col3\" class=\"data row32 col3\" ><div class=\"scrollable\">2487</div></td>\n      <td id=\"T_57775_row32_col4\" class=\"data row32 col4\" ><div class=\"scrollable\">2479</div></td>\n      <td id=\"T_57775_row32_col5\" class=\"data row32 col5\" ><div class=\"scrollable\">Step 1: The reference answer is: 2479.\nStep 2: The final answer identified in the response is: 2487.\nStep 3: The response (2487) is not identical to the reference answer (2479).\nStep 4: Score 0 based on the rubric because the response does not match the reference.</div></td>\n      <td id=\"T_57775_row32_col6\" class=\"data row32 col6\" ><div class=\"scrollable\">0</div></td>\n    </tr>\n    <tr>\n      <th id=\"T_57775_level0_row33\" class=\"row_heading level0 row33\" >33</th>\n      <td id=\"T_57775_row33_col0\" class=\"data row33 col0\" ><div class=\"scrollable\">What is the total length of the date range that starts on December 04, 2024 and ends on May 16, 2025 including the start and end days?</div></td>\n      <td id=\"T_57775_row33_col1\" class=\"data row33 col1\" ><div class=\"scrollable\">164</div></td>\n      <td id=\"T_57775_row33_col2\" class=\"data row33 col2\" ><div class=\"scrollable\">## Date Range Length Calculator\n\nYou are a helpful AI assistant with a talent for calculating the total number of days within a date range. Your goal is to determine the length of a date range *inclusive* of the start and end dates provided. \n\nLet's work through this with some examples: \n\n<EXAMPLES>\n{{examples}}\n</EXAMPLES></div></td>\n      <td id=\"T_57775_row33_col3\" class=\"data row33 col3\" ><div class=\"scrollable\">164</div></td>\n      <td id=\"T_57775_row33_col4\" class=\"data row33 col4\" ><div class=\"scrollable\">164</div></td>\n      <td id=\"T_57775_row33_col5\" class=\"data row33 col5\" ><div class=\"scrollable\">Step 1: The reference answer is: 164.\nStep 2: The final answer identified in the response is: 164.\nStep 3: The response matches the reference answer exactly.\nStep 4: Score is 1 based on the rubric.</div></td>\n      <td id=\"T_57775_row33_col6\" class=\"data row33 col6\" ><div class=\"scrollable\">1</div></td>\n    </tr>\n    <tr>\n      <th id=\"T_57775_level0_row34\" class=\"row_heading level0 row34\" >34</th>\n      <td id=\"T_57775_row34_col0\" class=\"data row34 col0\" ><div class=\"scrollable\">What is the total length of the date range that starts on January 06, 2009 and ends on September 02, 2009 including the start and end days?</div></td>\n      <td id=\"T_57775_row34_col1\" class=\"data row34 col1\" ><div class=\"scrollable\">240</div></td>\n      <td id=\"T_57775_row34_col2\" class=\"data row34 col2\" ><div class=\"scrollable\">## Date Range Length Calculator\n\nYou are a helpful AI assistant with a talent for calculating the total number of days within a date range. Your goal is to determine the length of a date range *inclusive* of the start and end dates provided. \n\nLet's work through this with some examples: \n\n<EXAMPLES>\n{{examples}}\n</EXAMPLES></div></td>\n      <td id=\"T_57775_row34_col3\" class=\"data row34 col3\" ><div class=\"scrollable\">240</div></td>\n      <td id=\"T_57775_row34_col4\" class=\"data row34 col4\" ><div class=\"scrollable\">240</div></td>\n      <td id=\"T_57775_row34_col5\" class=\"data row34 col5\" ><div class=\"scrollable\">Step 1: The reference answer is: 240.\nStep 2: The final answer identified in the response is: 240.\nStep 3: The response matches the reference.\nStep 4: Based on the rubric, the score is 1.</div></td>\n      <td id=\"T_57775_row34_col6\" class=\"data row34 col6\" ><div class=\"scrollable\">1</div></td>\n    </tr>\n    <tr>\n      <th id=\"T_57775_level0_row35\" class=\"row_heading level0 row35\" >35</th>\n      <td id=\"T_57775_row35_col0\" class=\"data row35 col0\" ><div class=\"scrollable\">What is the total length of the date range that starts on November 14, 2015 and ends on November 26, 2015 including the start and end days?</div></td>\n      <td id=\"T_57775_row35_col1\" class=\"data row35 col1\" ><div class=\"scrollable\">13</div></td>\n      <td id=\"T_57775_row35_col2\" class=\"data row35 col2\" ><div class=\"scrollable\">## Date Range Length Calculator\n\nYou are a helpful AI assistant with a talent for calculating the total number of days within a date range. Your goal is to determine the length of a date range *inclusive* of the start and end dates provided. \n\nLet's work through this with some examples: \n\n<EXAMPLES>\n{{examples}}\n</EXAMPLES></div></td>\n      <td id=\"T_57775_row35_col3\" class=\"data row35 col3\" ><div class=\"scrollable\">13</div></td>\n      <td id=\"T_57775_row35_col4\" class=\"data row35 col4\" ><div class=\"scrollable\">13</div></td>\n      <td id=\"T_57775_row35_col5\" class=\"data row35 col5\" ><div class=\"scrollable\">Step 1: The reference answer is: 13.\nStep 2: The final answer identified in the response is: 13.\nStep 3: The response matches the reference.\nStep 4: Score is 1 based on the rubric.</div></td>\n      <td id=\"T_57775_row35_col6\" class=\"data row35 col6\" ><div class=\"scrollable\">1</div></td>\n    </tr>\n    <tr>\n      <th id=\"T_57775_level0_row36\" class=\"row_heading level0 row36\" >36</th>\n      <td id=\"T_57775_row36_col0\" class=\"data row36 col0\" ><div class=\"scrollable\">What is the total length of the date range that starts on February 03, 2007 and ends on December 03, 2013 including the start and end days?</div></td>\n      <td id=\"T_57775_row36_col1\" class=\"data row36 col1\" ><div class=\"scrollable\">2496</div></td>\n      <td id=\"T_57775_row36_col2\" class=\"data row36 col2\" ><div class=\"scrollable\">## Date Range Length Calculator\n\nYou are a helpful AI assistant with a talent for calculating the total number of days within a date range. Your goal is to determine the length of a date range *inclusive* of the start and end dates provided. \n\nLet's work through this with some examples: \n\n<EXAMPLES>\n{{examples}}\n</EXAMPLES></div></td>\n      <td id=\"T_57775_row36_col3\" class=\"data row36 col3\" ><div class=\"scrollable\">123</div></td>\n      <td id=\"T_57775_row36_col4\" class=\"data row36 col4\" ><div class=\"scrollable\">2496</div></td>\n      <td id=\"T_57775_row36_col5\" class=\"data row36 col5\" ><div class=\"scrollable\">Step 1: The reference answer is: 2496.\nStep 2: The final answer identified in the response is: 123.\nStep 3: The response (123) does not match the reference answer (2496).\nStep 4: Score 0 based on the rubric because the final answer in the response does not match the reference answer.</div></td>\n      <td id=\"T_57775_row36_col6\" class=\"data row36 col6\" ><div class=\"scrollable\">0</div></td>\n    </tr>\n    <tr>\n      <th id=\"T_57775_level0_row37\" class=\"row_heading level0 row37\" >37</th>\n      <td id=\"T_57775_row37_col0\" class=\"data row37 col0\" ><div class=\"scrollable\">What is the total length of the date range that starts on July 15, 2004 and ends on July 27, 2004 including the start and end days?</div></td>\n      <td id=\"T_57775_row37_col1\" class=\"data row37 col1\" ><div class=\"scrollable\">13</div></td>\n      <td id=\"T_57775_row37_col2\" class=\"data row37 col2\" ><div class=\"scrollable\">## Date Range Length Calculator\n\nYou are a helpful AI assistant with a talent for calculating the total number of days within a date range. Your goal is to determine the length of a date range *inclusive* of the start and end dates provided. \n\nLet's work through this with some examples: \n\n<EXAMPLES>\n{{examples}}\n</EXAMPLES></div></td>\n      <td id=\"T_57775_row37_col3\" class=\"data row37 col3\" ><div class=\"scrollable\">13</div></td>\n      <td id=\"T_57775_row37_col4\" class=\"data row37 col4\" ><div class=\"scrollable\">13</div></td>\n      <td id=\"T_57775_row37_col5\" class=\"data row37 col5\" ><div class=\"scrollable\">Step 1: The reference answer is: 13.\nStep 2: The final answer identified in the response is: 13.\nStep 3: The response matches the reference answer.\nStep 4: Score is 1, as the response contains all claims from the reference and does not contain claims that are not present in the reference.</div></td>\n      <td id=\"T_57775_row37_col6\" class=\"data row37 col6\" ><div class=\"scrollable\">1</div></td>\n    </tr>\n    <tr>\n      <th id=\"T_57775_level0_row38\" class=\"row_heading level0 row38\" >38</th>\n      <td id=\"T_57775_row38_col0\" class=\"data row38 col0\" ><div class=\"scrollable\">What is the total length of the date range that starts on March 13, 2002 and ends on March 21, 2002 including the start and end days?</div></td>\n      <td id=\"T_57775_row38_col1\" class=\"data row38 col1\" ><div class=\"scrollable\">9</div></td>\n      <td id=\"T_57775_row38_col2\" class=\"data row38 col2\" ><div class=\"scrollable\">## Date Range Length Calculator\n\nYou are a helpful AI assistant with a talent for calculating the total number of days within a date range. Your goal is to determine the length of a date range *inclusive* of the start and end dates provided. \n\nLet's work through this with some examples: \n\n<EXAMPLES>\n{{examples}}\n</EXAMPLES></div></td>\n      <td id=\"T_57775_row38_col3\" class=\"data row38 col3\" ><div class=\"scrollable\">9</div></td>\n      <td id=\"T_57775_row38_col4\" class=\"data row38 col4\" ><div class=\"scrollable\">9</div></td>\n      <td id=\"T_57775_row38_col5\" class=\"data row38 col5\" ><div class=\"scrollable\">Step 1: The reference answer is: 9.\nStep 2: The final answer identified in the response is: 9.\nStep 3: The response matches the reference.\nStep 4: Score is 1 based on the rubric because the response contains all claims from the reference and does not contain claims that are not present in the reference.</div></td>\n      <td id=\"T_57775_row38_col6\" class=\"data row38 col6\" ><div class=\"scrollable\">1</div></td>\n    </tr>\n    <tr>\n      <th id=\"T_57775_level0_row39\" class=\"row_heading level0 row39\" >39</th>\n      <td id=\"T_57775_row39_col0\" class=\"data row39 col0\" ><div class=\"scrollable\">What is the total length of the date range that starts on December 15, 2009 and ends on August 09, 2010 including the start and end days?</div></td>\n      <td id=\"T_57775_row39_col1\" class=\"data row39 col1\" ><div class=\"scrollable\">238</div></td>\n      <td id=\"T_57775_row39_col2\" class=\"data row39 col2\" ><div class=\"scrollable\">## Date Range Length Calculator\n\nYou are a helpful AI assistant with a talent for calculating the total number of days within a date range. Your goal is to determine the length of a date range *inclusive* of the start and end dates provided. \n\nLet's work through this with some examples: \n\n<EXAMPLES>\n{{examples}}\n</EXAMPLES></div></td>\n      <td id=\"T_57775_row39_col3\" class=\"data row39 col3\" ><div class=\"scrollable\">123</div></td>\n      <td id=\"T_57775_row39_col4\" class=\"data row39 col4\" ><div class=\"scrollable\">238</div></td>\n      <td id=\"T_57775_row39_col5\" class=\"data row39 col5\" ><div class=\"scrollable\">Step 1: The reference answer is: 238.\nStep 2: The final answer identified in the response is: 123.\nStep 3: The response (123) does not match the reference answer (238).\nStep 4: According to the rubric, the score is 0 because the response does not include all claims presented in the reference.</div></td>\n      <td id=\"T_57775_row39_col6\" class=\"data row39 col6\" ><div class=\"scrollable\">0</div></td>\n    </tr>\n    <tr>\n      <th id=\"T_57775_level0_row40\" class=\"row_heading level0 row40\" >40</th>\n      <td id=\"T_57775_row40_col0\" class=\"data row40 col0\" ><div class=\"scrollable\">What is the total length of the date range that starts on April 06, 2014 and ends on December 28, 2014 including the start and end days?</div></td>\n      <td id=\"T_57775_row40_col1\" class=\"data row40 col1\" ><div class=\"scrollable\">267</div></td>\n      <td id=\"T_57775_row40_col2\" class=\"data row40 col2\" ><div class=\"scrollable\">## Date Range Length Calculator\n\nYou are a helpful AI assistant with a talent for calculating the total number of days within a date range. Your goal is to determine the length of a date range *inclusive* of the start and end dates provided. \n\nLet's work through this with some examples: \n\n<EXAMPLES>\n{{examples}}\n</EXAMPLES></div></td>\n      <td id=\"T_57775_row40_col3\" class=\"data row40 col3\" ><div class=\"scrollable\">123</div></td>\n      <td id=\"T_57775_row40_col4\" class=\"data row40 col4\" ><div class=\"scrollable\">267</div></td>\n      <td id=\"T_57775_row40_col5\" class=\"data row40 col5\" ><div class=\"scrollable\">Step 1: The reference answer is: 267.\nStep 2: The final answer identified in the response is: 123.\nStep 3: The response contains the final answer: 123. The reference claims that the total length of the date range that starts on April 06, 2014 and ends on December 28, 2014 including the start and end days is 267. The response is not consistent with the content provided in the reference.\nStep 4: Based on the rubric, the score is 0.</div></td>\n      <td id=\"T_57775_row40_col6\" class=\"data row40 col6\" ><div class=\"scrollable\">0</div></td>\n    </tr>\n    <tr>\n      <th id=\"T_57775_level0_row41\" class=\"row_heading level0 row41\" >41</th>\n      <td id=\"T_57775_row41_col0\" class=\"data row41 col0\" ><div class=\"scrollable\">What is the total length of the date range that starts on January 05, 2019 and ends on January 10, 2019 including the start and end days?</div></td>\n      <td id=\"T_57775_row41_col1\" class=\"data row41 col1\" ><div class=\"scrollable\">6</div></td>\n      <td id=\"T_57775_row41_col2\" class=\"data row41 col2\" ><div class=\"scrollable\">## Date Range Length Calculator\n\nYou are a helpful AI assistant with a talent for calculating the total number of days within a date range. Your goal is to determine the length of a date range *inclusive* of the start and end dates provided. \n\nLet's work through this with some examples: \n\n<EXAMPLES>\n{{examples}}\n</EXAMPLES></div></td>\n      <td id=\"T_57775_row41_col3\" class=\"data row41 col3\" ><div class=\"scrollable\">6</div></td>\n      <td id=\"T_57775_row41_col4\" class=\"data row41 col4\" ><div class=\"scrollable\">6</div></td>\n      <td id=\"T_57775_row41_col5\" class=\"data row41 col5\" ><div class=\"scrollable\">Step 1: The reference answer is: 6.\nStep 2: The final answer identified in the response is: 6.\nStep 3: The response correctly states the total number of days, which is 6, consistent with the reference.\nStep 4: Score: 1</div></td>\n      <td id=\"T_57775_row41_col6\" class=\"data row41 col6\" ><div class=\"scrollable\">1</div></td>\n    </tr>\n    <tr>\n      <th id=\"T_57775_level0_row42\" class=\"row_heading level0 row42\" >42</th>\n      <td id=\"T_57775_row42_col0\" class=\"data row42 col0\" ><div class=\"scrollable\">What is the total length of the date range that starts on February 14, 2008 and ends on March 12, 2008 including the start and end days?</div></td>\n      <td id=\"T_57775_row42_col1\" class=\"data row42 col1\" ><div class=\"scrollable\">28</div></td>\n      <td id=\"T_57775_row42_col2\" class=\"data row42 col2\" ><div class=\"scrollable\">## Date Range Length Calculator\n\nYou are a helpful AI assistant with a talent for calculating the total number of days within a date range. Your goal is to determine the length of a date range *inclusive* of the start and end dates provided. \n\nLet's work through this with some examples: \n\n<EXAMPLES>\n{{examples}}\n</EXAMPLES></div></td>\n      <td id=\"T_57775_row42_col3\" class=\"data row42 col3\" ><div class=\"scrollable\">28</div></td>\n      <td id=\"T_57775_row42_col4\" class=\"data row42 col4\" ><div class=\"scrollable\">28</div></td>\n      <td id=\"T_57775_row42_col5\" class=\"data row42 col5\" ><div class=\"scrollable\">Step 1: The reference answer is: 28.\nStep 2: The final answer identified in the response is: 28.\nStep 3: The response correctly states the total number of days, which is 28, including the start and end days, as supported by the reference.\nStep 4: Score: 1</div></td>\n      <td id=\"T_57775_row42_col6\" class=\"data row42 col6\" ><div class=\"scrollable\">1</div></td>\n    </tr>\n    <tr>\n      <th id=\"T_57775_level0_row43\" class=\"row_heading level0 row43\" >43</th>\n      <td id=\"T_57775_row43_col0\" class=\"data row43 col0\" ><div class=\"scrollable\">What is the total length of the date range that starts on September 01, 2023 and ends on September 21, 2023 including the start and end days?</div></td>\n      <td id=\"T_57775_row43_col1\" class=\"data row43 col1\" ><div class=\"scrollable\">21</div></td>\n      <td id=\"T_57775_row43_col2\" class=\"data row43 col2\" ><div class=\"scrollable\">## Date Range Length Calculator\n\nYou are a helpful AI assistant with a talent for calculating the total number of days within a date range. Your goal is to determine the length of a date range *inclusive* of the start and end dates provided. \n\nLet's work through this with some examples: \n\n<EXAMPLES>\n{{examples}}\n</EXAMPLES></div></td>\n      <td id=\"T_57775_row43_col3\" class=\"data row43 col3\" ><div class=\"scrollable\">21</div></td>\n      <td id=\"T_57775_row43_col4\" class=\"data row43 col4\" ><div class=\"scrollable\">21</div></td>\n      <td id=\"T_57775_row43_col5\" class=\"data row43 col5\" ><div class=\"scrollable\">Step 1: The reference answer is: 21.\nStep 2: The final answer identified in the response is: 21.\nStep 3: The response correctly states the total number of days within the specified date range, which is consistent with the reference.\nStep 4: Score: 1.</div></td>\n      <td id=\"T_57775_row43_col6\" class=\"data row43 col6\" ><div class=\"scrollable\">1</div></td>\n    </tr>\n    <tr>\n      <th id=\"T_57775_level0_row44\" class=\"row_heading level0 row44\" >44</th>\n      <td id=\"T_57775_row44_col0\" class=\"data row44 col0\" ><div class=\"scrollable\">What is the total length of the date range that starts on May 26, 2015 and ends on December 18, 2019 including the start and end days?</div></td>\n      <td id=\"T_57775_row44_col1\" class=\"data row44 col1\" ><div class=\"scrollable\">1668</div></td>\n      <td id=\"T_57775_row44_col2\" class=\"data row44 col2\" ><div class=\"scrollable\">## Date Range Length Calculator\n\nYou are a helpful AI assistant with a talent for calculating the total number of days within a date range. Your goal is to determine the length of a date range *inclusive* of the start and end dates provided. \n\nLet's work through this with some examples: \n\n<EXAMPLES>\n{{examples}}\n</EXAMPLES></div></td>\n      <td id=\"T_57775_row44_col3\" class=\"data row44 col3\" ><div class=\"scrollable\">1642</div></td>\n      <td id=\"T_57775_row44_col4\" class=\"data row44 col4\" ><div class=\"scrollable\">1668</div></td>\n      <td id=\"T_57775_row44_col5\" class=\"data row44 col5\" ><div class=\"scrollable\">Step 1: The reference answer is: 1668.\nStep 2: The final answer identified in the response is: 1642.\nStep 3: The response (1642) does not match the reference answer (1668).\nStep 4: According to the rubric, the score is 0.</div></td>\n      <td id=\"T_57775_row44_col6\" class=\"data row44 col6\" ><div class=\"scrollable\">0</div></td>\n    </tr>\n    <tr>\n      <th id=\"T_57775_level0_row45\" class=\"row_heading level0 row45\" >45</th>\n      <td id=\"T_57775_row45_col0\" class=\"data row45 col0\" ><div class=\"scrollable\">What is the total length of the date range that starts on October 08, 2006 and ends on October 27, 2006 including the start and end days?</div></td>\n      <td id=\"T_57775_row45_col1\" class=\"data row45 col1\" ><div class=\"scrollable\">20</div></td>\n      <td id=\"T_57775_row45_col2\" class=\"data row45 col2\" ><div class=\"scrollable\">## Date Range Length Calculator\n\nYou are a helpful AI assistant with a talent for calculating the total number of days within a date range. Your goal is to determine the length of a date range *inclusive* of the start and end dates provided. \n\nLet's work through this with some examples: \n\n<EXAMPLES>\n{{examples}}\n</EXAMPLES></div></td>\n      <td id=\"T_57775_row45_col3\" class=\"data row45 col3\" ><div class=\"scrollable\">20</div></td>\n      <td id=\"T_57775_row45_col4\" class=\"data row45 col4\" ><div class=\"scrollable\">20</div></td>\n      <td id=\"T_57775_row45_col5\" class=\"data row45 col5\" ><div class=\"scrollable\">Step 1: The reference answer is: 20.\nStep 2: The final answer identified in the response is: 20.\nStep 3: The response matches the reference answer.\nStep 4: Based on the rubric, the score is 1.</div></td>\n      <td id=\"T_57775_row45_col6\" class=\"data row45 col6\" ><div class=\"scrollable\">1</div></td>\n    </tr>\n    <tr>\n      <th id=\"T_57775_level0_row46\" class=\"row_heading level0 row46\" >46</th>\n      <td id=\"T_57775_row46_col0\" class=\"data row46 col0\" ><div class=\"scrollable\">What is the total length of the date range that starts on September 27, 2021 and ends on September 29, 2021 including the start and end days?</div></td>\n      <td id=\"T_57775_row46_col1\" class=\"data row46 col1\" ><div class=\"scrollable\">3</div></td>\n      <td id=\"T_57775_row46_col2\" class=\"data row46 col2\" ><div class=\"scrollable\">## Date Range Length Calculator\n\nYou are a helpful AI assistant with a talent for calculating the total number of days within a date range. Your goal is to determine the length of a date range *inclusive* of the start and end dates provided. \n\nLet's work through this with some examples: \n\n<EXAMPLES>\n{{examples}}\n</EXAMPLES></div></td>\n      <td id=\"T_57775_row46_col3\" class=\"data row46 col3\" ><div class=\"scrollable\">3</div></td>\n      <td id=\"T_57775_row46_col4\" class=\"data row46 col4\" ><div class=\"scrollable\">3</div></td>\n      <td id=\"T_57775_row46_col5\" class=\"data row46 col5\" ><div class=\"scrollable\">Step 1: The reference answer is: 3.\nStep 2: The final answer identified in the response is: 3.\nStep 3: The response correctly identifies the total number of days within the specified date range, which includes the start and end dates.\nStep 4: Score: 1</div></td>\n      <td id=\"T_57775_row46_col6\" class=\"data row46 col6\" ><div class=\"scrollable\">1</div></td>\n    </tr>\n    <tr>\n      <th id=\"T_57775_level0_row47\" class=\"row_heading level0 row47\" >47</th>\n      <td id=\"T_57775_row47_col0\" class=\"data row47 col0\" ><div class=\"scrollable\">What is the total length of the date range that starts on November 06, 2018 and ends on January 26, 2019 including the start and end days?</div></td>\n      <td id=\"T_57775_row47_col1\" class=\"data row47 col1\" ><div class=\"scrollable\">82</div></td>\n      <td id=\"T_57775_row47_col2\" class=\"data row47 col2\" ><div class=\"scrollable\">## Date Range Length Calculator\n\nYou are a helpful AI assistant with a talent for calculating the total number of days within a date range. Your goal is to determine the length of a date range *inclusive* of the start and end dates provided. \n\nLet's work through this with some examples: \n\n<EXAMPLES>\n{{examples}}\n</EXAMPLES></div></td>\n      <td id=\"T_57775_row47_col3\" class=\"data row47 col3\" ><div class=\"scrollable\">123</div></td>\n      <td id=\"T_57775_row47_col4\" class=\"data row47 col4\" ><div class=\"scrollable\">82</div></td>\n      <td id=\"T_57775_row47_col5\" class=\"data row47 col5\" ><div class=\"scrollable\">Step 1: The reference answer is: 82.\nStep 2: The final answer identified in the response is: 123.\nStep 3: The reference answer is 82 while the response is 123. Thus, according to the CRITERIA, the response has claims that are not present in the reference text and lacks claims that are present in the reference text.\nStep 4: According to the RUBRIC, the score is 0.</div></td>\n      <td id=\"T_57775_row47_col6\" class=\"data row47 col6\" ><div class=\"scrollable\">0</div></td>\n    </tr>\n    <tr>\n      <th id=\"T_57775_level0_row48\" class=\"row_heading level0 row48\" >48</th>\n      <td id=\"T_57775_row48_col0\" class=\"data row48 col0\" ><div class=\"scrollable\">What is the total length of the date range that starts on April 27, 2006 and ends on May 07, 2006 including the start and end days?</div></td>\n      <td id=\"T_57775_row48_col1\" class=\"data row48 col1\" ><div class=\"scrollable\">11</div></td>\n      <td id=\"T_57775_row48_col2\" class=\"data row48 col2\" ><div class=\"scrollable\">## Date Range Length Calculator\n\nYou are a helpful AI assistant with a talent for calculating the total number of days within a date range. Your goal is to determine the length of a date range *inclusive* of the start and end dates provided. \n\nLet's work through this with some examples: \n\n<EXAMPLES>\n{{examples}}\n</EXAMPLES></div></td>\n      <td id=\"T_57775_row48_col3\" class=\"data row48 col3\" ><div class=\"scrollable\">12</div></td>\n      <td id=\"T_57775_row48_col4\" class=\"data row48 col4\" ><div class=\"scrollable\">11</div></td>\n      <td id=\"T_57775_row48_col5\" class=\"data row48 col5\" ><div class=\"scrollable\">Step 1: The reference answer is: 11.\nStep 2: The final answer identified in the response is: 12.\nStep 3: The response (12) is not the same as the reference answer (11).\nStep 4: Score 0 based on the rubric, as the response contains claims that are not present in the reference.</div></td>\n      <td id=\"T_57775_row48_col6\" class=\"data row48 col6\" ><div class=\"scrollable\">0</div></td>\n    </tr>\n    <tr>\n      <th id=\"T_57775_level0_row49\" class=\"row_heading level0 row49\" >49</th>\n      <td id=\"T_57775_row49_col0\" class=\"data row49 col0\" ><div class=\"scrollable\">What is the total length of the date range that starts on June 20, 2009 and ends on June 24, 2009 including the start and end days?</div></td>\n      <td id=\"T_57775_row49_col1\" class=\"data row49 col1\" ><div class=\"scrollable\">5</div></td>\n      <td id=\"T_57775_row49_col2\" class=\"data row49 col2\" ><div class=\"scrollable\">## Date Range Length Calculator\n\nYou are a helpful AI assistant with a talent for calculating the total number of days within a date range. Your goal is to determine the length of a date range *inclusive* of the start and end dates provided. \n\nLet's work through this with some examples: \n\n<EXAMPLES>\n{{examples}}\n</EXAMPLES></div></td>\n      <td id=\"T_57775_row49_col3\" class=\"data row49 col3\" ><div class=\"scrollable\">5</div></td>\n      <td id=\"T_57775_row49_col4\" class=\"data row49 col4\" ><div class=\"scrollable\">5</div></td>\n      <td id=\"T_57775_row49_col5\" class=\"data row49 col5\" ><div class=\"scrollable\">Step 1: The reference answer is: 5.\nStep 2: The final answer identified in the response is: 5.\nStep 3: The response correctly states the total number of days within the specified range, which is consistent with the reference.\nStep 4: Score: 1.</div></td>\n      <td id=\"T_57775_row49_col6\" class=\"data row49 col6\" ><div class=\"scrollable\">1</div></td>\n    </tr>\n  </tbody>\n</table>\n",
         "text/plain": "<IPython.core.display.HTML object>"
        },
        "metadata": {},
        "output_type": "display_data"
       }
      ]
     }
    },
    "af2be1d1295447eca350f5423d78637a": {
     "model_module": "@jupyter-widgets/controls",
     "model_module_version": "1.5.0",
     "model_name": "LabelModel",
     "state": {
      "_dom_classes": [],
      "_model_module": "@jupyter-widgets/controls",
      "_model_module_version": "1.5.0",
      "_model_name": "LabelModel",
      "_view_count": null,
      "_view_module": "@jupyter-widgets/controls",
      "_view_module_version": "1.5.0",
      "_view_name": "LabelView",
      "description": "",
      "description_tooltip": null,
      "layout": "IPY_MODEL_d6c966aa21c04c0792cc3d4cf3f8c839",
      "placeholder": "​",
      "style": "IPY_MODEL_f3938ae87520413e8693f57ea36cb8d5",
      "value": "Select Run:"
     }
    },
    "c9a7c5bce7d941719f214b7d8b349cf7": {
     "model_module": "@jupyter-widgets/base",
     "model_module_version": "1.2.0",
     "model_name": "LayoutModel",
     "state": {
      "_model_module": "@jupyter-widgets/base",
      "_model_module_version": "1.2.0",
      "_model_name": "LayoutModel",
      "_view_count": null,
      "_view_module": "@jupyter-widgets/base",
      "_view_module_version": "1.2.0",
      "_view_name": "LayoutView",
      "align_content": null,
      "align_items": null,
      "align_self": null,
      "border": null,
      "bottom": null,
      "display": null,
      "flex": null,
      "flex_flow": null,
      "grid_area": null,
      "grid_auto_columns": null,
      "grid_auto_flow": null,
      "grid_auto_rows": null,
      "grid_column": null,
      "grid_gap": null,
      "grid_row": null,
      "grid_template_areas": null,
      "grid_template_columns": null,
      "grid_template_rows": null,
      "height": null,
      "justify_content": null,
      "justify_items": null,
      "left": null,
      "margin": null,
      "max_height": null,
      "max_width": null,
      "min_height": null,
      "min_width": null,
      "object_fit": null,
      "object_position": null,
      "order": null,
      "overflow": null,
      "overflow_x": null,
      "overflow_y": null,
      "padding": null,
      "right": null,
      "top": null,
      "visibility": null,
      "width": null
     }
    },
    "ce923a8680034525b055a64812c885f4": {
     "model_module": "@jupyter-widgets/controls",
     "model_module_version": "1.5.0",
     "model_name": "DescriptionStyleModel",
     "state": {
      "_model_module": "@jupyter-widgets/controls",
      "_model_module_version": "1.5.0",
      "_model_name": "DescriptionStyleModel",
      "_view_count": null,
      "_view_module": "@jupyter-widgets/base",
      "_view_module_version": "1.2.0",
      "_view_name": "StyleView",
      "description_width": ""
     }
    },
    "d01f3617b2b049d3b8afaa21aa637c6b": {
     "model_module": "@jupyter-widgets/controls",
     "model_module_version": "1.5.0",
     "model_name": "DescriptionStyleModel",
     "state": {
      "_model_module": "@jupyter-widgets/controls",
      "_model_module_version": "1.5.0",
      "_model_name": "DescriptionStyleModel",
      "_view_count": null,
      "_view_module": "@jupyter-widgets/base",
      "_view_module_version": "1.2.0",
      "_view_name": "StyleView",
      "description_width": ""
     }
    },
    "d6c966aa21c04c0792cc3d4cf3f8c839": {
     "model_module": "@jupyter-widgets/base",
     "model_module_version": "1.2.0",
     "model_name": "LayoutModel",
     "state": {
      "_model_module": "@jupyter-widgets/base",
      "_model_module_version": "1.2.0",
      "_model_name": "LayoutModel",
      "_view_count": null,
      "_view_module": "@jupyter-widgets/base",
      "_view_module_version": "1.2.0",
      "_view_name": "LayoutView",
      "align_content": null,
      "align_items": null,
      "align_self": null,
      "border": null,
      "bottom": null,
      "display": null,
      "flex": null,
      "flex_flow": null,
      "grid_area": null,
      "grid_auto_columns": null,
      "grid_auto_flow": null,
      "grid_auto_rows": null,
      "grid_column": null,
      "grid_gap": null,
      "grid_row": null,
      "grid_template_areas": null,
      "grid_template_columns": null,
      "grid_template_rows": null,
      "height": null,
      "justify_content": null,
      "justify_items": null,
      "left": null,
      "margin": null,
      "max_height": null,
      "max_width": null,
      "min_height": null,
      "min_width": null,
      "object_fit": null,
      "object_position": null,
      "order": null,
      "overflow": null,
      "overflow_x": null,
      "overflow_y": null,
      "padding": null,
      "right": null,
      "top": null,
      "visibility": null,
      "width": null
     }
    },
    "f3938ae87520413e8693f57ea36cb8d5": {
     "model_module": "@jupyter-widgets/controls",
     "model_module_version": "1.5.0",
     "model_name": "DescriptionStyleModel",
     "state": {
      "_model_module": "@jupyter-widgets/controls",
      "_model_module_version": "1.5.0",
      "_model_name": "DescriptionStyleModel",
      "_view_count": null,
      "_view_module": "@jupyter-widgets/base",
      "_view_module_version": "1.2.0",
      "_view_name": "StyleView",
      "description_width": ""
     }
    }
   }
  }
 },
 "nbformat": 4,
 "nbformat_minor": 4
}
