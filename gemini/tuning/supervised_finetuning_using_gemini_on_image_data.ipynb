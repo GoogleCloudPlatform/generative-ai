{
  "cells": [
    {
      "cell_type": "code",
      "execution_count": null,
      "metadata": {
        "cellView": "form",
        "id": "9f0d0f32-23b4-41a6-b364-579da297c326"
      },
      "outputs": [],
      "source": [
        "# @title Copyright & License (click to expand)\n",
        "# Copyright 2024 Google LLC\n",
        "#\n",
        "# Licensed under the Apache License, Version 2.0 (the \"License\");\n",
        "# you may not use this file except in compliance with the License.\n",
        "# You may obtain a copy of the License at\n",
        "#\n",
        "#     https://www.apache.org/licenses/LICENSE-2.0\n",
        "#\n",
        "# Unless required by applicable law or agreed to in writing, software\n",
        "# distributed under the License is distributed on an \"AS IS\" BASIS,\n",
        "# WITHOUT WARRANTIES OR CONDITIONS OF ANY KIND, either express or implied.\n",
        "# See the License for the specific language governing permissions and\n",
        "# limitations under the License."
      ]
    },
    {
      "cell_type": "markdown",
      "metadata": {
        "id": "dd53d60c-97eb-4c72-91ea-f274a753ab34"
      },
      "source": [
        "# Supervised Fine Tuning with Gemini 2.0 Flash for Image Captioning\n",
        "\n",
        "<table align=\"left\">\n",
        "  <td style=\"text-align: center\">\n",
        "    <a href=\"https://colab.research.google.com/github/GoogleCloudPlatform/generative-ai/blob/main/gemini/tuning/supervised_finetuning_using_gemini_on_image_data.ipynb\">\n",
        "      <img src=\"https://cloud.google.com/ml-engine/images/colab-logo-32px.png\" alt=\"Google Colaboratory logo\"><br> Open in Colab\n",
        "    </a>\n",
        "  </td>\n",
        "  <td style=\"text-align: center\">\n",
        "    <a href=\"https://console.cloud.google.com/vertex-ai/colab/import/https:%2F%2Fraw.githubusercontent.com%2FGoogleCloudPlatform%2Fgenerative-ai%2Fmain%2Fgemini%2Ftuning%2Fsupervised_finetuning_using_gemini_on_image_data.ipynb\">\n",
        "      <img width=\"32px\" src=\"https://lh3.googleusercontent.com/JmcxdQi-qOpctIvWKgPtrzZdJJK-J3sWE1RsfjZNwshCFgE_9fULcNpuXYTilIR2hjwN\" alt=\"Google Cloud Colab Enterprise logo\"><br> Open in Colab Enterprise\n",
        "    </a>\n",
        "  </td>    \n",
        "  <td style=\"text-align: center\">\n",
        "    <a href=\"https://console.cloud.google.com/vertex-ai/workbench/deploy-notebook?download_url=https://raw.githubusercontent.com/GoogleCloudPlatform/generative-ai/main/gemini/tuning/supervised_finetuning_using_gemini_on_image_data.ipynb\">\n",
        "      <img src=\"https://lh3.googleusercontent.com/UiNooY4LUgW_oTvpsNhPpQzsstV5W8F7rYgxgGBD85cWJoLmrOzhVs_ksK_vgx40SHs7jCqkTkCk=e14-rj-sc0xffffff-h130-w32\" alt=\"Vertex AI logo\"><br> Open in Workbench\n",
        "    </a>\n",
        "  </td>\n",
        "  <td style=\"text-align: center\">\n",
        "    <a href=\"https://github.com/GoogleCloudPlatform/generative-ai/blob/main/gemini/tuning/supervised_finetuning_using_gemini_on_image_data.ipynb\">\n",
        "      <img src=\"https://cloud.google.com/ml-engine/images/github-logo-32px.png\" alt=\"GitHub logo\"><br> View on GitHub\n",
        "    </a>\n",
        "  </td>\n",
        "</table>\n",
        "\n",
        "<div style=\"clear: both;\"></div>\n",
        "\n",
        "<b>Share to:</b>\n",
        "\n",
        "<a href=\"https://www.linkedin.com/sharing/share-offsite/?url=https%3A//github.com/GoogleCloudPlatform/generative-ai/blob/main/gemini/tuning/supervised_finetuning_using_gemini_on_image_data.ipynb\" target=\"_blank\">\n",
        "  <img width=\"20px\" src=\"https://upload.wikimedia.org/wikipedia/commons/8/81/LinkedIn_icon.svg\" alt=\"LinkedIn logo\">\n",
        "</a>\n",
        "\n",
        "<a href=\"https://bsky.app/intent/compose?text=https%3A//github.com/GoogleCloudPlatform/generative-ai/blob/main/gemini/tuning/supervised_finetuning_using_gemini_on_image_data.ipynb\" target=\"_blank\">\n",
        "  <img width=\"20px\" src=\"https://upload.wikimedia.org/wikipedia/commons/7/7a/Bluesky_Logo.svg\" alt=\"Bluesky logo\">\n",
        "</a>\n",
        "\n",
        "<a href=\"https://twitter.com/intent/tweet?url=https%3A//github.com/GoogleCloudPlatform/generative-ai/blob/main/gemini/tuning/supervised_finetuning_using_gemini_on_image_data.ipynb\" target=\"_blank\">\n",
        "  <img width=\"20px\" src=\"https://upload.wikimedia.org/wikipedia/commons/5/5a/X_icon_2.svg\" alt=\"X logo\">\n",
        "</a>\n",
        "\n",
        "<a href=\"https://reddit.com/submit?url=https%3A//github.com/GoogleCloudPlatform/generative-ai/blob/main/gemini/tuning/supervised_finetuning_using_gemini_on_image_data.ipynb\" target=\"_blank\">\n",
        "  <img width=\"20px\" src=\"https://redditinc.com/hubfs/Reddit%20Inc/Brand/Reddit_Logo.png\" alt=\"Reddit logo\">\n",
        "</a>\n",
        "\n",
        "<a href=\"https://www.facebook.com/sharer/sharer.php?u=https%3A//github.com/GoogleCloudPlatform/generative-ai/blob/main/gemini/tuning/supervised_finetuning_using_gemini_on_image_data.ipynb\" target=\"_blank\">\n",
        "  <img width=\"20px\" src=\"https://upload.wikimedia.org/wikipedia/commons/5/51/Facebook_f_logo_%282019%29.svg\" alt=\"Facebook logo\">\n",
        "</a>            "
      ]
    },
    {
      "cell_type": "markdown",
      "metadata": {
        "id": "MgVK7IeKpW27"
      },
      "source": [
        "| Author(s) |\n",
        "| --- |\n",
        "| [Deepak Moonat](https://github.com/dmoonat) |"
      ]
    },
    {
      "cell_type": "markdown",
      "metadata": {
        "id": "9ef820fb-1203-4cab-965f-17093a4ba25e"
      },
      "source": [
        "## Overview\n",
        "\n",
        "**Gemini** is a family of generative AI models developed by Google DeepMind that is designed for multimodal use cases. The Gemini API gives you access to the various Gemini models, such as Gemini 2.0 Pro/Flash, Gemini 1.5 Pro/Flash, Gemini 1.0 Pro/Flash and more.\n",
        "\n",
        "This notebook demonstrates how to fine-tune the Gemini 2.0 Flash generative model using the Vertex AI Supervised Tuning feature. Supervised Tuning allows you to use your own training data to further refine the base model's capabilities towards your specific tasks.\n",
        "\n",
        "\n",
        "Supervised Tuning uses labeled examples to tune a model. Each example demonstrates the output you want from your text model during inference.\n",
        "\n",
        "First, ensure your training data is of high quality, well-labeled, and directly relevant to the target task. This is crucial as low-quality data can adversely affect the performance and introduce bias in the fine-tuned model.\n",
        "- Training: Experiment with different configurations to optimize the model's performance on the target task.\n",
        "- Evaluation:\n",
        "  - Metric: Choose appropriate evaluation metrics that accurately reflect the success of the fine-tuned model for your specific task\n",
        "  - Evaluation Set: Use a separate set of data to evaluate the model's performance"
      ]
    },
    {
      "cell_type": "markdown",
      "metadata": {
        "id": "74b00940-376c-4056-90fb-d22c1ce6eedf"
      },
      "source": [
        "### Objective\n",
        "\n",
        "In this tutorial, you will learn how to use `Vertex AI` to tune a `Gemini 2.0 Flash` model.\n",
        "\n",
        "\n",
        "This tutorial uses the following Google Cloud ML services:\n",
        "\n",
        "- `Vertex AI`\n",
        "\n",
        "\n",
        "The steps performed include:\n",
        "\n",
        "- Prepare and load the dataset\n",
        "- Load the `gemini-2.0-flash-001` model\n",
        "- Evaluate the model before tuning\n",
        "- Tune the model.\n",
        "  - This will automatically create a Vertex AI endpoint and deploy the model to it\n",
        "- Evaluate the model after tuning\n",
        "- Make a prediction using tuned model."
      ]
    },
    {
      "cell_type": "markdown",
      "metadata": {
        "id": "X0xdTMs10K7y"
      },
      "source": [
        "### Dataset"
      ]
    },
    {
      "cell_type": "markdown",
      "metadata": {
        "id": "jCMczwd00N9T"
      },
      "source": [
        "Dataset used in this notebook is about image captioning. [Reference](https://ai.google.dev/gemma/docs/paligemma/fine-tuning-paligemma#download_the_model_checkpoint)\n",
        "\n",
        "```\n",
        "Licensed under the Creative Commons Attribution 4.0 License\n",
        "```"
      ]
    },
    {
      "cell_type": "markdown",
      "metadata": {
        "id": "6d7b5435-e947-49bb-9ce3-aa8a42c30118"
      },
      "source": [
        "### Costs\n",
        "\n",
        "This tutorial uses billable components of Google Cloud:\n",
        "\n",
        "* Vertex AI\n",
        "* Cloud Storage\n",
        "\n",
        "Learn about [Vertex AI\n",
        "pricing](https://cloud.google.com/vertex-ai/pricing), [Cloud Storage\n",
        "pricing](https://cloud.google.com/storage/pricing), and use the [Pricing\n",
        "Calculator](https://cloud.google.com/products/calculator/)\n",
        "to generate a cost estimate based on your projected usage."
      ]
    },
    {
      "cell_type": "markdown",
      "metadata": {
        "id": "0cbf01f0-5f6e-4bcd-903f-84ccaad5332c"
      },
      "source": [
        "## Installation"
      ]
    },
    {
      "cell_type": "code",
      "execution_count": 1,
      "metadata": {
        "id": "MpDAgOsK6kZn"
      },
      "outputs": [
        {
          "name": "stdout",
          "output_type": "stream",
          "text": [
            "  Preparing metadata (setup.py) ... \u001b[?25l\u001b[?25hdone\n",
            "\u001b[2K   \u001b[90m━━━━━━━━━━━━━━━━━━━━━━━━━━━━━━━━━━━━━━━━\u001b[0m \u001b[32m7.3/7.3 MB\u001b[0m \u001b[31m50.1 MB/s\u001b[0m eta \u001b[36m0:00:00\u001b[0m\n",
            "\u001b[?25h  Building wheel for rouge_score (setup.py) ... \u001b[?25l\u001b[?25hdone\n",
            "\u001b[33m  WARNING: The script tb-gcp-uploader is installed in '/root/.local/bin' which is not on PATH.\n",
            "  Consider adding this directory to PATH or, if you prefer to suppress this warning, use --no-warn-script-location.\u001b[0m\u001b[33m\n",
            "\u001b[0m"
          ]
        }
      ],
      "source": [
        "%pip install --upgrade --user --quiet google-cloud-aiplatform jsonlines rouge_score"
      ]
    },
    {
      "cell_type": "markdown",
      "metadata": {
        "id": "Moror1y0Qq2z"
      },
      "source": [
        "### Restart runtime (Colab only)\n",
        "\n",
        "To use the newly installed packages, you must restart the runtime on Google Colab."
      ]
    },
    {
      "cell_type": "code",
      "execution_count": 2,
      "metadata": {
        "id": "4KLm_nKmQtC8"
      },
      "outputs": [],
      "source": [
        "# Automatically restart kernel after installs so that your environment can access the new packages\n",
        "import sys\n",
        "\n",
        "if \"google.colab\" in sys.modules:\n",
        "    import IPython\n",
        "\n",
        "    app = IPython.Application.instance()\n",
        "    app.kernel.do_shutdown(True)"
      ]
    },
    {
      "cell_type": "markdown",
      "metadata": {
        "id": "dpSnJTbIrFsh"
      },
      "source": [
        "<div class=\"alert alert-block alert-warning\">\n",
        "<b>⚠️ The kernel is going to restart. Please wait until it is finished before continuing to the next step. ⚠️</b>\n",
        "</div>"
      ]
    },
    {
      "cell_type": "markdown",
      "metadata": {
        "id": "b37d4259-7e39-417b-8879-24f7575732c8"
      },
      "source": [
        "## Before you begin\n",
        "\n",
        "### Set your project ID\n",
        "\n",
        "**If you don't know your project ID**, try the following:\n",
        "* Run `gcloud config list`.\n",
        "* Run `gcloud projects list`.\n",
        "* See the support page: [Locate the project ID](https://support.google.com/googleapi/answer/7014113)"
      ]
    },
    {
      "cell_type": "code",
      "execution_count": 1,
      "metadata": {
        "id": "caaf0d7e-c6cb-4e56-af5c-553db5180e00"
      },
      "outputs": [
        {
          "name": "stdout",
          "output_type": "stream",
          "text": [
            "Updated property [core/project].\n"
          ]
        }
      ],
      "source": [
        "PROJECT_ID = \"[YOUR_PROJECT_ID]\"  # @param {type:\"string\"}\n",
        "# Set the project id\n",
        "! gcloud config set project {PROJECT_ID}"
      ]
    },
    {
      "cell_type": "markdown",
      "metadata": {
        "id": "054d794d-cd2e-4280-95ac-859b264ea2d6"
      },
      "source": [
        "#### Region\n",
        "\n",
        "You can also change the `REGION` variable used by Vertex AI. Learn more about [Vertex AI regions](https://cloud.google.com/vertex-ai/docs/general/locations)."
      ]
    },
    {
      "cell_type": "code",
      "execution_count": 2,
      "metadata": {
        "id": "0121bf60-1acd-4272-afaf-aa54b4ded263"
      },
      "outputs": [],
      "source": [
        "REGION = \"us-central1\"  # @param {type:\"string\"}"
      ]
    },
    {
      "cell_type": "markdown",
      "metadata": {
        "id": "czjH2JfKaGfH"
      },
      "source": [
        "#### Bucket\n"
      ]
    },
    {
      "cell_type": "code",
      "execution_count": 3,
      "metadata": {
        "id": "c_iZzYtraF3y"
      },
      "outputs": [],
      "source": [
        "BUCKET_NAME = \"[YOUR_BUCKET_NAME]\"  # @param {type:\"string\"}\n",
        "BUCKET_URI = f\"gs://{BUCKET_NAME}\""
      ]
    },
    {
      "cell_type": "markdown",
      "metadata": {
        "id": "eac9e842-d225-4876-836f-afdb1937d800"
      },
      "source": [
        "### Authenticate your Google Cloud account\n",
        "\n",
        "Depending on your Jupyter environment, you may have to manually authenticate. Follow the relevant instructions below.\n",
        "\n",
        "**1. Vertex AI Workbench**\n",
        "* Do nothing as you are already authenticated.\n",
        "\n",
        "**2. Local JupyterLab instance, uncomment and run:**"
      ]
    },
    {
      "cell_type": "code",
      "execution_count": null,
      "metadata": {
        "id": "23082eec-b1bd-4594-b5b5-56fe2b74db6f"
      },
      "outputs": [],
      "source": [
        "# ! gcloud auth login"
      ]
    },
    {
      "cell_type": "markdown",
      "metadata": {
        "id": "3c20f923-3c46-4d6d-80d2-d7cb22b1a8da"
      },
      "source": [
        "**3. Authenticate your notebook environment**\n",
        "\n",
        "If you are running this notebook on Google Colab, run the cell below to authenticate your environment."
      ]
    },
    {
      "cell_type": "code",
      "execution_count": 4,
      "metadata": {
        "id": "60302a3f-fad9-452c-8998-a9c9822d2732"
      },
      "outputs": [],
      "source": [
        "from google.colab import auth\n",
        "\n",
        "auth.authenticate_user()"
      ]
    },
    {
      "cell_type": "markdown",
      "metadata": {
        "id": "ac33116d-b079-46cb-9614-86326c211e00"
      },
      "source": [
        "**4. Service account or other**\n",
        "* See how to grant Cloud Storage permissions to your service account at https://cloud.google.com/storage/docs/gsutil/commands/iam#ch-examples."
      ]
    },
    {
      "cell_type": "markdown",
      "metadata": {
        "id": "e6a924d0-a034-4e53-b240-03d356c7b7a6"
      },
      "source": [
        "### Import libraries"
      ]
    },
    {
      "cell_type": "code",
      "execution_count": 5,
      "metadata": {
        "id": "463729ba-ec3c-4302-95bf-80207b0f9e2d"
      },
      "outputs": [],
      "source": [
        "import io\n",
        "import time\n",
        "\n",
        "# For fine tuning Gemini model.\n",
        "import google.cloud.aiplatform as aiplatform\n",
        "# For data handling.\n",
        "import jsonlines\n",
        "import pandas as pd\n",
        "# For Google Cloud Storage service.\n",
        "from google.cloud import storage\n",
        "# For visualization.\n",
        "from PIL import Image\n",
        "# For evaluation.\n",
        "from rouge_score import rouge_scorer\n",
        "from tqdm import tqdm\n",
        "from vertexai.preview.generative_models import (GenerationConfig,\n",
        "                                                GenerativeModel, Part)\n",
        "from vertexai.preview.tuning import sft"
      ]
    },
    {
      "cell_type": "markdown",
      "metadata": {
        "id": "a522acfe-d0b6-4b4e-b201-0a4ccf59b133"
      },
      "source": [
        "## Initialize Vertex AI SDK for Python\n",
        "\n",
        "Initialize the Vertex AI SDK for Python for your project and corresponding bucket."
      ]
    },
    {
      "cell_type": "code",
      "execution_count": 6,
      "metadata": {
        "id": "c845aca6-4f72-4d3b-b9ed-de4a18fcbbf8"
      },
      "outputs": [],
      "source": [
        "aiplatform.init(project=PROJECT_ID, location=REGION)"
      ]
    },
    {
      "cell_type": "markdown",
      "metadata": {
        "id": "okht6CExcw4d"
      },
      "source": [
        "## Prepare Multimodal Dataset"
      ]
    },
    {
      "cell_type": "markdown",
      "metadata": {
        "id": "8N1QCz0MzyD6"
      },
      "source": [
        "The dataset used to tune a foundation model needs to include examples that align with the task that you want the model to perform."
      ]
    },
    {
      "cell_type": "markdown",
      "metadata": {
        "id": "9yp9SQ1M7FSP"
      },
      "source": [
        "Note:\n",
        "- Only support images and text as input, and text only as output.\n",
        "- Maximum 16 Images per tuning example.\n",
        "- Maximum image file size: 20MB\n",
        "- Image needs to be in `jpeg` or `png` format. Supported mimetypes: `image/jpeg` and `image/png`\n",
        "\n",
        "Input is a jsonl file with each json string being on one line.\n",
        "Each json instance have the format (Expanded for clarity):\n",
        "```\n",
        "{\n",
        "   \"contents\":[\n",
        "      {\n",
        "         \"role\":\"user\",  # This indicate input content\n",
        "         \"parts\":[ # Interleaved image and text, could be in any order.\n",
        "            {\n",
        "               \"fileData\":{ # FileData needs to be reference to image file in gcs. No inline data.\n",
        "                  \"mimeType\":\"image/jpeg\", # Provide the mimeType about this image\n",
        "                  \"fileUri\":\"gs://path/to/image_uri\"\n",
        "               }\n",
        "            }\n",
        "            {\n",
        "               \"text\":\"What is in this image?\"\n",
        "            }\n",
        "         ]\n",
        "      },\n",
        "      {\n",
        "         \"role\":\"model\", # This indicate target content\n",
        "         \"parts\":[ # text only\n",
        "            {\n",
        "               \"text\":\"Something about this image.\"\n",
        "            }\n",
        "         ]\n",
        "      } # Single turn input and response.\n",
        "   ]\n",
        "}\n",
        "```\n",
        "\n",
        "Example:\n",
        "```\n",
        "{\n",
        "   \"contents\":[\n",
        "      {\n",
        "         \"role\":\"user\",\n",
        "         \"parts\":[\n",
        "            {\n",
        "               \"fileData\":{\n",
        "                  \"mimeType\":\"image/jpeg\",\n",
        "                  \"fileUri\":\"gs://bucketname/data/vision_data/task/image_description/image/1.jpeg\"\n",
        "               }\n",
        "            },\n",
        "            {\n",
        "               \"text\":\"Describe this image that captures the essence of it.\"\n",
        "            }\n",
        "         ]\n",
        "      },\n",
        "      {\n",
        "         \"role\":\"model\",\n",
        "         \"parts\":[\n",
        "            {\n",
        "               \"text\":\"A person wearing a pink shirt and a long-sleeved shirt with a large cuff, ....\"\n",
        "            }\n",
        "         ]\n",
        "      }\n",
        "   ]\n",
        "}\n",
        "```\n"
      ]
    },
    {
      "cell_type": "markdown",
      "metadata": {
        "id": "DESw8v4QrLHR"
      },
      "source": [
        "### Data files\n"
      ]
    },
    {
      "cell_type": "markdown",
      "metadata": {
        "id": "uiTVJqMXTvM5"
      },
      "source": [
        "Data used in this notebook is present in the public Cloud Storage(GCS) bucket, `gs://longcap100`.\n",
        "\n",
        "Sample:\n",
        "\n",
        "> {\"prefix\": \"\", \"suffix\": \"A person wearing a pink shirt and a long-sleeved shirt with a large cuff, has their hand on a concrete ledge. The hand is on the edge of the ledge, and the thumb is on the edge of the hand. The shirt has a large cuff, and the sleeve is rolled up. The shadow of the hand is on the wall.\", \"image\": \"91.jpeg\"}\n",
        "\n",
        "\n",
        "\n",
        "- `data_train90.jsonl`: Contains training samples in json lines as shown above\n",
        "- `data_val10.jsonl`: Contains validation samples in json lines as shown above\n",
        "- `images`: Contains 100 images, training and validation data"
      ]
    },
    {
      "cell_type": "markdown",
      "metadata": {
        "id": "MLcuIXlzz36C"
      },
      "source": [
        "To run a tuning job, you need to upload one or more datasets to a Cloud Storage bucket. You can either create a new Cloud Storage bucket or use an existing one to store dataset files. The region of the bucket doesn't matter, but we recommend that you use a bucket that's in the same Google Cloud project where you plan to tune your model."
      ]
    },
    {
      "cell_type": "markdown",
      "metadata": {
        "id": "sfIUgj-mU8K9"
      },
      "source": [
        "### Create a Cloud Storage bucket"
      ]
    },
    {
      "cell_type": "markdown",
      "metadata": {
        "id": "T_uC6nuFU-XU"
      },
      "source": [
        "- Create a storage bucket to store intermediate artifacts such as datasets.\n",
        "\n",
        "- Only if your bucket doesn't already exist: Run the following cell to create your Cloud Storage bucket.\n"
      ]
    },
    {
      "cell_type": "code",
      "execution_count": 7,
      "metadata": {
        "id": "M-L1BH8TU9Gn"
      },
      "outputs": [
        {
          "name": "stdout",
          "output_type": "stream",
          "text": [
            "Creating gs://gemini-image-finetuning-001/...\n"
          ]
        }
      ],
      "source": [
        "!gsutil mb -l {REGION} -p {PROJECT_ID} {BUCKET_URI}"
      ]
    },
    {
      "cell_type": "markdown",
      "metadata": {
        "id": "ZUGi7ZThbChr"
      },
      "source": [
        "### Copy images to specified Bucket"
      ]
    },
    {
      "cell_type": "code",
      "execution_count": 8,
      "metadata": {
        "id": "DHdC-9nj071o"
      },
      "outputs": [],
      "source": [
        "!gsutil -m -q cp -n -r gs://longcap100/*.jpeg {BUCKET_URI}/images/"
      ]
    },
    {
      "cell_type": "markdown",
      "metadata": {
        "id": "fpyJR6tlVRXh"
      },
      "source": [
        "- Download the training and validation dataset jsonlines files from the bucket."
      ]
    },
    {
      "cell_type": "code",
      "execution_count": 9,
      "metadata": {
        "id": "peUixIt_2DLP"
      },
      "outputs": [],
      "source": [
        "!gsutil -m -q cp -n -r gs://longcap100/data_train90.jsonl ."
      ]
    },
    {
      "cell_type": "code",
      "execution_count": 10,
      "metadata": {
        "id": "rtXMRqAi1WiF"
      },
      "outputs": [],
      "source": [
        "!gsutil -m -q cp -n -r gs://longcap100/data_val10.jsonl ."
      ]
    },
    {
      "cell_type": "markdown",
      "metadata": {
        "id": "a9N-rN7pECKa"
      },
      "source": [
        "### Prepare dataset for Training and Evaluation"
      ]
    },
    {
      "cell_type": "markdown",
      "metadata": {
        "id": "KEfGLRVfsrii"
      },
      "source": [
        "- Utility function to save json instances into jsonlines format"
      ]
    },
    {
      "cell_type": "code",
      "execution_count": 11,
      "metadata": {
        "id": "zdVGCwFWsrCB"
      },
      "outputs": [],
      "source": [
        "def save_jsonlines(file, instances):\n",
        "    \"\"\"\n",
        "    Saves a list of json instances to a jsonlines file.\n",
        "    \"\"\"\n",
        "    with jsonlines.open(file, mode=\"w\") as writer:\n",
        "        writer.write_all(instances)"
      ]
    },
    {
      "cell_type": "markdown",
      "metadata": {
        "id": "-hMIYgYBsbUt"
      },
      "source": [
        "- Below function converts the dataset into Gemini-1.5 tuning format"
      ]
    },
    {
      "cell_type": "code",
      "execution_count": 12,
      "metadata": {
        "id": "0TFcj_tjaALV"
      },
      "outputs": [],
      "source": [
        "task_prompt = \"Describe this image in detail that captures the essence of it.\""
      ]
    },
    {
      "cell_type": "code",
      "execution_count": 13,
      "metadata": {
        "id": "LZ1cauVkz8Vv"
      },
      "outputs": [],
      "source": [
        "def create_tuning_samples(file_path):\n",
        "    \"\"\"\n",
        "    Creates tuning samples from a file.\n",
        "    \"\"\"\n",
        "    with jsonlines.open(file_path) as reader:\n",
        "        instances = []\n",
        "        for obj in reader:\n",
        "            instance = {\n",
        "                \"contents\": [\n",
        "                    {\n",
        "                        \"role\": \"user\",  # This indicate input content\n",
        "                        \"parts\": [  # Interleaved image and text, could be in any order.\n",
        "                            {\n",
        "                                \"fileData\": {  # FileData needs to be reference to image file in gcs. No inline data.\n",
        "                                    \"mimeType\": \"image/jpeg\",  # Provide the mimeType about this image\n",
        "                                    \"fileUri\": f\"{BUCKET_URI}/images/{obj['image']}\",\n",
        "                                }\n",
        "                            },\n",
        "                            {\"text\": task_prompt},\n",
        "                        ],\n",
        "                    },\n",
        "                    {\n",
        "                        \"role\": \"model\",  # This indicate target content\n",
        "                        \"parts\": [{\"text\": obj[\"suffix\"]}],  # text only\n",
        "                    },  # Single turn input and response.\n",
        "                ]\n",
        "            }\n",
        "            instances.append(instance)\n",
        "    return instances"
      ]
    },
    {
      "cell_type": "markdown",
      "metadata": {
        "id": "tqh6WYHg6X4z"
      },
      "source": [
        "- Training data"
      ]
    },
    {
      "cell_type": "code",
      "execution_count": 14,
      "metadata": {
        "id": "b685Iy27z1E1"
      },
      "outputs": [],
      "source": [
        "train_file_path = \"data_train90.jsonl\"\n",
        "train_instances = create_tuning_samples(train_file_path)\n",
        "# save the training instances to jsonl file\n",
        "save_jsonlines(\"train.jsonl\", train_instances)"
      ]
    },
    {
      "cell_type": "code",
      "execution_count": 15,
      "metadata": {
        "id": "UC4ULRC46mA-"
      },
      "outputs": [
        {
          "data": {
            "text/plain": [
              "{'contents': [{'role': 'user',\n",
              "   'parts': [{'fileData': {'mimeType': 'image/jpeg',\n",
              "      'fileUri': 'gs://gemini-image-finetuning-001/images/1.jpeg'}},\n",
              "    {'text': 'Describe this image in detail that captures the essence of it.'}]},\n",
              "  {'role': 'model',\n",
              "   'parts': [{'text': \"A brown and white cat with a red collar looks to the left, its eyes shining yellow. The cat's fur is long and silky, and its whiskers are long and prominent. The cat's nose is pink, and its ears are pointy. The cat's eyes are yellow, and its fur is brown and white. The cat is standing in the dark, and its head is turned to the side.\"}]}]}"
            ]
          },
          "execution_count": 15,
          "metadata": {},
          "output_type": "execute_result"
        }
      ],
      "source": [
        "train_instances[0]"
      ]
    },
    {
      "cell_type": "code",
      "execution_count": 16,
      "metadata": {
        "id": "nyn5Xgw41bhc"
      },
      "outputs": [
        {
          "name": "stdout",
          "output_type": "stream",
          "text": [
            "Copying file://train.jsonl [Content-Type=application/octet-stream]...\n",
            "/ [1 files][ 51.3 KiB/ 51.3 KiB]                                                \n",
            "Operation completed over 1 objects/51.3 KiB.                                     \n"
          ]
        }
      ],
      "source": [
        "# save the training data to GCS bucket\n",
        "!gsutil cp train.jsonl {BUCKET_URI}/train/"
      ]
    },
    {
      "cell_type": "markdown",
      "metadata": {
        "id": "HLsC3IBL6ZWk"
      },
      "source": [
        "- Validation data"
      ]
    },
    {
      "cell_type": "code",
      "execution_count": 17,
      "metadata": {
        "id": "LIp0hdag6bS0"
      },
      "outputs": [],
      "source": [
        "val_file_path = \"data_val10.jsonl\"\n",
        "val_instances = create_tuning_samples(val_file_path)\n",
        "# save the training instances to jsonl file\n",
        "save_jsonlines(\"val.jsonl\", val_instances)"
      ]
    },
    {
      "cell_type": "code",
      "execution_count": 18,
      "metadata": {
        "id": "TBTBTx4n6koL"
      },
      "outputs": [
        {
          "data": {
            "text/plain": [
              "{'contents': [{'role': 'user',\n",
              "   'parts': [{'fileData': {'mimeType': 'image/jpeg',\n",
              "      'fileUri': 'gs://gemini-image-finetuning-001/images/91.jpeg'}},\n",
              "    {'text': 'Describe this image in detail that captures the essence of it.'}]},\n",
              "  {'role': 'model',\n",
              "   'parts': [{'text': 'A person wearing a pink shirt and a long-sleeved shirt with a large cuff, has their hand on a concrete ledge. The hand is on the edge of the ledge, and the thumb is on the edge of the hand. The shirt has a large cuff, and the sleeve is rolled up. The shadow of the hand is on the wall.'}]}]}"
            ]
          },
          "execution_count": 18,
          "metadata": {},
          "output_type": "execute_result"
        }
      ],
      "source": [
        "val_instances[0]"
      ]
    },
    {
      "cell_type": "code",
      "execution_count": 19,
      "metadata": {
        "id": "xy-6ihNR6gx3"
      },
      "outputs": [
        {
          "name": "stdout",
          "output_type": "stream",
          "text": [
            "Copying file://val.jsonl [Content-Type=application/octet-stream]...\n",
            "/ [1 files][  5.2 KiB/  5.2 KiB]                                                \n",
            "Operation completed over 1 objects/5.2 KiB.                                      \n"
          ]
        }
      ],
      "source": [
        "# save the validation data to GCS bucket\n",
        "!gsutil cp val.jsonl {BUCKET_URI}/val/"
      ]
    },
    {
      "cell_type": "markdown",
      "metadata": {
        "id": "QhejcJumTAj3"
      },
      "source": [
        "- Below code transforms the jsonl format to following structure\n",
        "\n",
        "`\n",
        "[{'file_uri': '<GCS path for query image>',\n",
        " 'ground_truth': '<Ground truth, image description'},\n",
        " ..\n",
        "]\n",
        "`"
      ]
    },
    {
      "cell_type": "code",
      "execution_count": 20,
      "metadata": {
        "id": "uEGTSHPx4aMl"
      },
      "outputs": [],
      "source": [
        "data_table = []\n",
        "for instance in val_instances:\n",
        "    data_table.append(\n",
        "        {\n",
        "            \"file_uri\": instance[\"contents\"][0][\"parts\"][0][\"fileData\"][\"fileUri\"],\n",
        "            \"ground_truth\": instance[\"contents\"][1][\"parts\"][0][\"text\"],\n",
        "        }\n",
        "    )"
      ]
    },
    {
      "cell_type": "code",
      "execution_count": 21,
      "metadata": {
        "id": "JB2lp-0c0TA4"
      },
      "outputs": [
        {
          "data": {
            "text/plain": [
              "{'file_uri': 'gs://gemini-image-finetuning-001/images/91.jpeg',\n",
              " 'ground_truth': 'A person wearing a pink shirt and a long-sleeved shirt with a large cuff, has their hand on a concrete ledge. The hand is on the edge of the ledge, and the thumb is on the edge of the hand. The shirt has a large cuff, and the sleeve is rolled up. The shadow of the hand is on the wall.'}"
            ]
          },
          "execution_count": 21,
          "metadata": {},
          "output_type": "execute_result"
        }
      ],
      "source": [
        "data_table[0]"
      ]
    },
    {
      "cell_type": "markdown",
      "metadata": {
        "id": "MQOXFXUF1u1Y"
      },
      "source": [
        "- The `data_table` is converted into dataframe of two columns, file_uri and ground_truth. The `ground_truth` will be compared with the model generated output"
      ]
    },
    {
      "cell_type": "code",
      "execution_count": 22,
      "metadata": {
        "id": "B3oaGk0XMsg3"
      },
      "outputs": [
        {
          "data": {
            "application/vnd.google.colaboratory.intrinsic+json": {
              "summary": "{\n  \"name\": \"val_df\",\n  \"rows\": 10,\n  \"fields\": [\n    {\n      \"column\": \"file_uri\",\n      \"properties\": {\n        \"dtype\": \"string\",\n        \"num_unique_values\": 10,\n        \"samples\": [\n          \"gs://gemini-image-finetuning-001/images/99.jpeg\",\n          \"gs://gemini-image-finetuning-001/images/92.jpeg\",\n          \"gs://gemini-image-finetuning-001/images/96.jpeg\"\n        ],\n        \"semantic_type\": \"\",\n        \"description\": \"\"\n      }\n    },\n    {\n      \"column\": \"ground_truth\",\n      \"properties\": {\n        \"dtype\": \"string\",\n        \"num_unique_values\": 10,\n        \"samples\": [\n          \"A woman stands on a sidewalk, holding a black purse. She wears black boots. The purse has a black and white chain and a black and white handle. The woman's hand is on her hip, and her leg is extended. The ground is made of concrete, and the wall is made of concrete. The woman has a gold bracelet on her wrist. The purse has a black and white design, and the woman's jeans are blue.\",\n          \"A woman in a floral dress stands on a ledge. The sky is clear and blue. The woman's dress is white with red flowers. She is holding a white wicker basket. The water is calm and blue, and the boats are white. The woman is standing on a wall, and the sailboats are in the distance.\",\n          \"A man with long, blonde hair and a black sweater is covering his face with his hand. He has a ring on his finger. The man's hair is long and flowing, and his sweater is black. The background is pink.\"\n        ],\n        \"semantic_type\": \"\",\n        \"description\": \"\"\n      }\n    }\n  ]\n}",
              "type": "dataframe",
              "variable_name": "val_df"
            },
            "text/html": [
              "\n",
              "  <div id=\"df-a2c5f74c-59d1-4287-ae3b-e92e752f049a\" class=\"colab-df-container\">\n",
              "    <div>\n",
              "<style scoped>\n",
              "    .dataframe tbody tr th:only-of-type {\n",
              "        vertical-align: middle;\n",
              "    }\n",
              "\n",
              "    .dataframe tbody tr th {\n",
              "        vertical-align: top;\n",
              "    }\n",
              "\n",
              "    .dataframe thead th {\n",
              "        text-align: right;\n",
              "    }\n",
              "</style>\n",
              "<table border=\"1\" class=\"dataframe\">\n",
              "  <thead>\n",
              "    <tr style=\"text-align: right;\">\n",
              "      <th></th>\n",
              "      <th>file_uri</th>\n",
              "      <th>ground_truth</th>\n",
              "    </tr>\n",
              "  </thead>\n",
              "  <tbody>\n",
              "    <tr>\n",
              "      <th>0</th>\n",
              "      <td>gs://gemini-image-finetuning-001/images/91.jpeg</td>\n",
              "      <td>A person wearing a pink shirt and a long-sleev...</td>\n",
              "    </tr>\n",
              "    <tr>\n",
              "      <th>1</th>\n",
              "      <td>gs://gemini-image-finetuning-001/images/92.jpeg</td>\n",
              "      <td>A woman in a floral dress stands on a ledge. T...</td>\n",
              "    </tr>\n",
              "    <tr>\n",
              "      <th>2</th>\n",
              "      <td>gs://gemini-image-finetuning-001/images/93.jpeg</td>\n",
              "      <td>A woman in a red jacket and black pants with a...</td>\n",
              "    </tr>\n",
              "    <tr>\n",
              "      <th>3</th>\n",
              "      <td>gs://gemini-image-finetuning-001/images/94.jpeg</td>\n",
              "      <td>A woman stands on a set of stone steps, holdin...</td>\n",
              "    </tr>\n",
              "    <tr>\n",
              "      <th>4</th>\n",
              "      <td>gs://gemini-image-finetuning-001/images/95.jpeg</td>\n",
              "      <td>A person's hand rests on a pink sweater, adorn...</td>\n",
              "    </tr>\n",
              "    <tr>\n",
              "      <th>5</th>\n",
              "      <td>gs://gemini-image-finetuning-001/images/96.jpeg</td>\n",
              "      <td>A man with long, blonde hair and a black sweat...</td>\n",
              "    </tr>\n",
              "    <tr>\n",
              "      <th>6</th>\n",
              "      <td>gs://gemini-image-finetuning-001/images/97.jpeg</td>\n",
              "      <td>A white rack with hangers on it. The rack is w...</td>\n",
              "    </tr>\n",
              "    <tr>\n",
              "      <th>7</th>\n",
              "      <td>gs://gemini-image-finetuning-001/images/98.jpeg</td>\n",
              "      <td>A white garment hangs on a wooden hanger in a ...</td>\n",
              "    </tr>\n",
              "    <tr>\n",
              "      <th>8</th>\n",
              "      <td>gs://gemini-image-finetuning-001/images/99.jpeg</td>\n",
              "      <td>A woman stands on a sidewalk, holding a black ...</td>\n",
              "    </tr>\n",
              "    <tr>\n",
              "      <th>9</th>\n",
              "      <td>gs://gemini-image-finetuning-001/images/100.jpeg</td>\n",
              "      <td>A man stands on a road, wearing a blue denim j...</td>\n",
              "    </tr>\n",
              "  </tbody>\n",
              "</table>\n",
              "</div>\n",
              "    <div class=\"colab-df-buttons\">\n",
              "\n",
              "  <div class=\"colab-df-container\">\n",
              "    <button class=\"colab-df-convert\" onclick=\"convertToInteractive('df-a2c5f74c-59d1-4287-ae3b-e92e752f049a')\"\n",
              "            title=\"Convert this dataframe to an interactive table.\"\n",
              "            style=\"display:none;\">\n",
              "\n",
              "  <svg xmlns=\"http://www.w3.org/2000/svg\" height=\"24px\" viewBox=\"0 -960 960 960\">\n",
              "    <path d=\"M120-120v-720h720v720H120Zm60-500h600v-160H180v160Zm220 220h160v-160H400v160Zm0 220h160v-160H400v160ZM180-400h160v-160H180v160Zm440 0h160v-160H620v160ZM180-180h160v-160H180v160Zm440 0h160v-160H620v160Z\"/>\n",
              "  </svg>\n",
              "    </button>\n",
              "\n",
              "  <style>\n",
              "    .colab-df-container {\n",
              "      display:flex;\n",
              "      gap: 12px;\n",
              "    }\n",
              "\n",
              "    .colab-df-convert {\n",
              "      background-color: #E8F0FE;\n",
              "      border: none;\n",
              "      border-radius: 50%;\n",
              "      cursor: pointer;\n",
              "      display: none;\n",
              "      fill: #1967D2;\n",
              "      height: 32px;\n",
              "      padding: 0 0 0 0;\n",
              "      width: 32px;\n",
              "    }\n",
              "\n",
              "    .colab-df-convert:hover {\n",
              "      background-color: #E2EBFA;\n",
              "      box-shadow: 0px 1px 2px rgba(60, 64, 67, 0.3), 0px 1px 3px 1px rgba(60, 64, 67, 0.15);\n",
              "      fill: #174EA6;\n",
              "    }\n",
              "\n",
              "    .colab-df-buttons div {\n",
              "      margin-bottom: 4px;\n",
              "    }\n",
              "\n",
              "    [theme=dark] .colab-df-convert {\n",
              "      background-color: #3B4455;\n",
              "      fill: #D2E3FC;\n",
              "    }\n",
              "\n",
              "    [theme=dark] .colab-df-convert:hover {\n",
              "      background-color: #434B5C;\n",
              "      box-shadow: 0px 1px 3px 1px rgba(0, 0, 0, 0.15);\n",
              "      filter: drop-shadow(0px 1px 2px rgba(0, 0, 0, 0.3));\n",
              "      fill: #FFFFFF;\n",
              "    }\n",
              "  </style>\n",
              "\n",
              "    <script>\n",
              "      const buttonEl =\n",
              "        document.querySelector('#df-a2c5f74c-59d1-4287-ae3b-e92e752f049a button.colab-df-convert');\n",
              "      buttonEl.style.display =\n",
              "        google.colab.kernel.accessAllowed ? 'block' : 'none';\n",
              "\n",
              "      async function convertToInteractive(key) {\n",
              "        const element = document.querySelector('#df-a2c5f74c-59d1-4287-ae3b-e92e752f049a');\n",
              "        const dataTable =\n",
              "          await google.colab.kernel.invokeFunction('convertToInteractive',\n",
              "                                                    [key], {});\n",
              "        if (!dataTable) return;\n",
              "\n",
              "        const docLinkHtml = 'Like what you see? Visit the ' +\n",
              "          '<a target=\"_blank\" href=https://colab.research.google.com/notebooks/data_table.ipynb>data table notebook</a>'\n",
              "          + ' to learn more about interactive tables.';\n",
              "        element.innerHTML = '';\n",
              "        dataTable['output_type'] = 'display_data';\n",
              "        await google.colab.output.renderOutput(dataTable, element);\n",
              "        const docLink = document.createElement('div');\n",
              "        docLink.innerHTML = docLinkHtml;\n",
              "        element.appendChild(docLink);\n",
              "      }\n",
              "    </script>\n",
              "  </div>\n",
              "\n",
              "\n",
              "<div id=\"df-e9861f9c-5f1c-44c6-9e2d-3812c1cb5784\">\n",
              "  <button class=\"colab-df-quickchart\" onclick=\"quickchart('df-e9861f9c-5f1c-44c6-9e2d-3812c1cb5784')\"\n",
              "            title=\"Suggest charts\"\n",
              "            style=\"display:none;\">\n",
              "\n",
              "<svg xmlns=\"http://www.w3.org/2000/svg\" height=\"24px\"viewBox=\"0 0 24 24\"\n",
              "     width=\"24px\">\n",
              "    <g>\n",
              "        <path d=\"M19 3H5c-1.1 0-2 .9-2 2v14c0 1.1.9 2 2 2h14c1.1 0 2-.9 2-2V5c0-1.1-.9-2-2-2zM9 17H7v-7h2v7zm4 0h-2V7h2v10zm4 0h-2v-4h2v4z\"/>\n",
              "    </g>\n",
              "</svg>\n",
              "  </button>\n",
              "\n",
              "<style>\n",
              "  .colab-df-quickchart {\n",
              "      --bg-color: #E8F0FE;\n",
              "      --fill-color: #1967D2;\n",
              "      --hover-bg-color: #E2EBFA;\n",
              "      --hover-fill-color: #174EA6;\n",
              "      --disabled-fill-color: #AAA;\n",
              "      --disabled-bg-color: #DDD;\n",
              "  }\n",
              "\n",
              "  [theme=dark] .colab-df-quickchart {\n",
              "      --bg-color: #3B4455;\n",
              "      --fill-color: #D2E3FC;\n",
              "      --hover-bg-color: #434B5C;\n",
              "      --hover-fill-color: #FFFFFF;\n",
              "      --disabled-bg-color: #3B4455;\n",
              "      --disabled-fill-color: #666;\n",
              "  }\n",
              "\n",
              "  .colab-df-quickchart {\n",
              "    background-color: var(--bg-color);\n",
              "    border: none;\n",
              "    border-radius: 50%;\n",
              "    cursor: pointer;\n",
              "    display: none;\n",
              "    fill: var(--fill-color);\n",
              "    height: 32px;\n",
              "    padding: 0;\n",
              "    width: 32px;\n",
              "  }\n",
              "\n",
              "  .colab-df-quickchart:hover {\n",
              "    background-color: var(--hover-bg-color);\n",
              "    box-shadow: 0 1px 2px rgba(60, 64, 67, 0.3), 0 1px 3px 1px rgba(60, 64, 67, 0.15);\n",
              "    fill: var(--button-hover-fill-color);\n",
              "  }\n",
              "\n",
              "  .colab-df-quickchart-complete:disabled,\n",
              "  .colab-df-quickchart-complete:disabled:hover {\n",
              "    background-color: var(--disabled-bg-color);\n",
              "    fill: var(--disabled-fill-color);\n",
              "    box-shadow: none;\n",
              "  }\n",
              "\n",
              "  .colab-df-spinner {\n",
              "    border: 2px solid var(--fill-color);\n",
              "    border-color: transparent;\n",
              "    border-bottom-color: var(--fill-color);\n",
              "    animation:\n",
              "      spin 1s steps(1) infinite;\n",
              "  }\n",
              "\n",
              "  @keyframes spin {\n",
              "    0% {\n",
              "      border-color: transparent;\n",
              "      border-bottom-color: var(--fill-color);\n",
              "      border-left-color: var(--fill-color);\n",
              "    }\n",
              "    20% {\n",
              "      border-color: transparent;\n",
              "      border-left-color: var(--fill-color);\n",
              "      border-top-color: var(--fill-color);\n",
              "    }\n",
              "    30% {\n",
              "      border-color: transparent;\n",
              "      border-left-color: var(--fill-color);\n",
              "      border-top-color: var(--fill-color);\n",
              "      border-right-color: var(--fill-color);\n",
              "    }\n",
              "    40% {\n",
              "      border-color: transparent;\n",
              "      border-right-color: var(--fill-color);\n",
              "      border-top-color: var(--fill-color);\n",
              "    }\n",
              "    60% {\n",
              "      border-color: transparent;\n",
              "      border-right-color: var(--fill-color);\n",
              "    }\n",
              "    80% {\n",
              "      border-color: transparent;\n",
              "      border-right-color: var(--fill-color);\n",
              "      border-bottom-color: var(--fill-color);\n",
              "    }\n",
              "    90% {\n",
              "      border-color: transparent;\n",
              "      border-bottom-color: var(--fill-color);\n",
              "    }\n",
              "  }\n",
              "</style>\n",
              "\n",
              "  <script>\n",
              "    async function quickchart(key) {\n",
              "      const quickchartButtonEl =\n",
              "        document.querySelector('#' + key + ' button');\n",
              "      quickchartButtonEl.disabled = true;  // To prevent multiple clicks.\n",
              "      quickchartButtonEl.classList.add('colab-df-spinner');\n",
              "      try {\n",
              "        const charts = await google.colab.kernel.invokeFunction(\n",
              "            'suggestCharts', [key], {});\n",
              "      } catch (error) {\n",
              "        console.error('Error during call to suggestCharts:', error);\n",
              "      }\n",
              "      quickchartButtonEl.classList.remove('colab-df-spinner');\n",
              "      quickchartButtonEl.classList.add('colab-df-quickchart-complete');\n",
              "    }\n",
              "    (() => {\n",
              "      let quickchartButtonEl =\n",
              "        document.querySelector('#df-e9861f9c-5f1c-44c6-9e2d-3812c1cb5784 button');\n",
              "      quickchartButtonEl.style.display =\n",
              "        google.colab.kernel.accessAllowed ? 'block' : 'none';\n",
              "    })();\n",
              "  </script>\n",
              "</div>\n",
              "\n",
              "  <div id=\"id_087b8fe5-2fbc-40b1-85af-928a24838620\">\n",
              "    <style>\n",
              "      .colab-df-generate {\n",
              "        background-color: #E8F0FE;\n",
              "        border: none;\n",
              "        border-radius: 50%;\n",
              "        cursor: pointer;\n",
              "        display: none;\n",
              "        fill: #1967D2;\n",
              "        height: 32px;\n",
              "        padding: 0 0 0 0;\n",
              "        width: 32px;\n",
              "      }\n",
              "\n",
              "      .colab-df-generate:hover {\n",
              "        background-color: #E2EBFA;\n",
              "        box-shadow: 0px 1px 2px rgba(60, 64, 67, 0.3), 0px 1px 3px 1px rgba(60, 64, 67, 0.15);\n",
              "        fill: #174EA6;\n",
              "      }\n",
              "\n",
              "      [theme=dark] .colab-df-generate {\n",
              "        background-color: #3B4455;\n",
              "        fill: #D2E3FC;\n",
              "      }\n",
              "\n",
              "      [theme=dark] .colab-df-generate:hover {\n",
              "        background-color: #434B5C;\n",
              "        box-shadow: 0px 1px 3px 1px rgba(0, 0, 0, 0.15);\n",
              "        filter: drop-shadow(0px 1px 2px rgba(0, 0, 0, 0.3));\n",
              "        fill: #FFFFFF;\n",
              "      }\n",
              "    </style>\n",
              "    <button class=\"colab-df-generate\" onclick=\"generateWithVariable('val_df')\"\n",
              "            title=\"Generate code using this dataframe.\"\n",
              "            style=\"display:none;\">\n",
              "\n",
              "  <svg xmlns=\"http://www.w3.org/2000/svg\" height=\"24px\"viewBox=\"0 0 24 24\"\n",
              "       width=\"24px\">\n",
              "    <path d=\"M7,19H8.4L18.45,9,17,7.55,7,17.6ZM5,21V16.75L18.45,3.32a2,2,0,0,1,2.83,0l1.4,1.43a1.91,1.91,0,0,1,.58,1.4,1.91,1.91,0,0,1-.58,1.4L9.25,21ZM18.45,9,17,7.55Zm-12,3A5.31,5.31,0,0,0,4.9,8.1,5.31,5.31,0,0,0,1,6.5,5.31,5.31,0,0,0,4.9,4.9,5.31,5.31,0,0,0,6.5,1,5.31,5.31,0,0,0,8.1,4.9,5.31,5.31,0,0,0,12,6.5,5.46,5.46,0,0,0,6.5,12Z\"/>\n",
              "  </svg>\n",
              "    </button>\n",
              "    <script>\n",
              "      (() => {\n",
              "      const buttonEl =\n",
              "        document.querySelector('#id_087b8fe5-2fbc-40b1-85af-928a24838620 button.colab-df-generate');\n",
              "      buttonEl.style.display =\n",
              "        google.colab.kernel.accessAllowed ? 'block' : 'none';\n",
              "\n",
              "      buttonEl.onclick = () => {\n",
              "        google.colab.notebook.generateWithVariable('val_df');\n",
              "      }\n",
              "      })();\n",
              "    </script>\n",
              "  </div>\n",
              "\n",
              "    </div>\n",
              "  </div>\n"
            ],
            "text/plain": [
              "                                           file_uri  \\\n",
              "0   gs://gemini-image-finetuning-001/images/91.jpeg   \n",
              "1   gs://gemini-image-finetuning-001/images/92.jpeg   \n",
              "2   gs://gemini-image-finetuning-001/images/93.jpeg   \n",
              "3   gs://gemini-image-finetuning-001/images/94.jpeg   \n",
              "4   gs://gemini-image-finetuning-001/images/95.jpeg   \n",
              "5   gs://gemini-image-finetuning-001/images/96.jpeg   \n",
              "6   gs://gemini-image-finetuning-001/images/97.jpeg   \n",
              "7   gs://gemini-image-finetuning-001/images/98.jpeg   \n",
              "8   gs://gemini-image-finetuning-001/images/99.jpeg   \n",
              "9  gs://gemini-image-finetuning-001/images/100.jpeg   \n",
              "\n",
              "                                        ground_truth  \n",
              "0  A person wearing a pink shirt and a long-sleev...  \n",
              "1  A woman in a floral dress stands on a ledge. T...  \n",
              "2  A woman in a red jacket and black pants with a...  \n",
              "3  A woman stands on a set of stone steps, holdin...  \n",
              "4  A person's hand rests on a pink sweater, adorn...  \n",
              "5  A man with long, blonde hair and a black sweat...  \n",
              "6  A white rack with hangers on it. The rack is w...  \n",
              "7  A white garment hangs on a wooden hanger in a ...  \n",
              "8  A woman stands on a sidewalk, holding a black ...  \n",
              "9  A man stands on a road, wearing a blue denim j...  "
            ]
          },
          "execution_count": 22,
          "metadata": {},
          "output_type": "execute_result"
        }
      ],
      "source": [
        "val_df = pd.DataFrame(data_table)\n",
        "val_df"
      ]
    },
    {
      "cell_type": "markdown",
      "metadata": {
        "id": "iUweYYURlDg5"
      },
      "source": [
        "- Total `10` instances in validation data"
      ]
    },
    {
      "cell_type": "markdown",
      "metadata": {
        "id": "Dw-gQpLXTe67"
      },
      "source": [
        "## Visualization utils"
      ]
    },
    {
      "cell_type": "markdown",
      "metadata": {
        "id": "1h2xl9igTiT7"
      },
      "source": [
        "- Function to visualize the query images stored in GCS bucket"
      ]
    },
    {
      "cell_type": "code",
      "execution_count": 25,
      "metadata": {
        "id": "ZTTMVUOhTeur"
      },
      "outputs": [],
      "source": [
        "# read a image bytes file present in GCS bucket\n",
        "\n",
        "\n",
        "def read_image_bytes_from_gcs(bucket_name, blob_name):\n",
        "    \"\"\"Reads image bytes from a GCS bucket.\n",
        "\n",
        "    Args:\n",
        "      bucket_name: The name of the GCS bucket.\n",
        "      blob_name: The name of the blob (file) within the bucket.\n",
        "\n",
        "    Returns:\n",
        "      The image bytes as a bytes object.\n",
        "    \"\"\"\n",
        "\n",
        "    storage_client = storage.Client()\n",
        "    bucket = storage_client.bucket(bucket_name)\n",
        "    blob = bucket.blob(blob_name)\n",
        "\n",
        "    image_bytes = blob.download_as_bytes()\n",
        "\n",
        "    return image_bytes"
      ]
    },
    {
      "cell_type": "markdown",
      "metadata": {
        "id": "2tV6nWuD59-H"
      },
      "source": [
        "## Evaluation Pre-Tuning"
      ]
    },
    {
      "cell_type": "markdown",
      "metadata": {
        "id": "tn1uCzlT1j42"
      },
      "source": [
        "- Load the `gemini-2.0-flash-001` model\n"
      ]
    },
    {
      "cell_type": "code",
      "execution_count": 23,
      "metadata": {
        "id": "2DLk7RYYPhi0"
      },
      "outputs": [],
      "source": [
        "base_model = \"gemini-2.0-flash-001\"\n",
        "generation_model = GenerativeModel(base_model)"
      ]
    },
    {
      "cell_type": "markdown",
      "metadata": {
        "id": "usabcedw0EVT"
      },
      "source": [
        "### Generation config\n",
        "\n",
        "- Each call that you send to a model includes parameter values that control how the model generates a response. The model can generate different results for different parameter values\n",
        "- <strong>Experiment</strong> with different parameter values to get the best values for the task\n",
        "\n",
        "Refer to the following [link](https://cloud.google.com/vertex-ai/generative-ai/docs/learn/prompts/adjust-parameter-values) for understanding different parameters"
      ]
    },
    {
      "cell_type": "markdown",
      "metadata": {
        "id": "zUx23W_r0F8z"
      },
      "source": [
        "**Prompt** is a natural language request submitted to a language model to receive a response back\n",
        "\n",
        "Some best practices include\n",
        "  - Clearly communicate what content or information is most important\n",
        "  - Structure the prompt:\n",
        "    - Defining the role if using one. For example, You are an experienced UX designer at a top tech company\n",
        "    - Include context and input data\n",
        "    - Provide the instructions to the model\n",
        "    - Add example(s) if you are using them\n",
        "\n",
        "Refer to the following [link](https://cloud.google.com/vertex-ai/generative-ai/docs/learn/prompts/prompt-design-strategies) for prompt design strategies."
      ]
    },
    {
      "cell_type": "markdown",
      "metadata": {
        "id": "uuKHRy2OVX0w"
      },
      "source": [
        "### Task"
      ]
    },
    {
      "cell_type": "markdown",
      "metadata": {
        "id": "U-YD1J3VTSoI"
      },
      "source": [
        "***Task prompt:***\n",
        "\n",
        "`\n",
        "\"<image>, Describe this image that captures the essence of it. \"\n",
        "`"
      ]
    },
    {
      "cell_type": "markdown",
      "metadata": {
        "id": "zTZS4IJMTVR1"
      },
      "source": [
        "***Query Image (image)***\n"
      ]
    },
    {
      "cell_type": "code",
      "execution_count": 26,
      "metadata": {
        "id": "-Ry2IjT2TWwd"
      },
      "outputs": [
        {
          "data": {
            "image/jpeg": "[encoded data removed]",
            "image/png": "[encoded data removed]",
            "text/plain": [
              "<PIL.Image.Image image mode=RGB size=300x300>"
            ]
          },
          "metadata": {},
          "output_type": "display_data"
        }
      ],
      "source": [
        "query_image_uri = val_instances[0][\"contents\"][0][\"parts\"][0][\"fileData\"][\"fileUri\"]\n",
        "blob_name = query_image_uri.replace(f\"{BUCKET_URI}/\", \"\")\n",
        "img = read_image_bytes_from_gcs(BUCKET_NAME, blob_name)\n",
        "\n",
        "# Display image bytes using pil python library\n",
        "image = Image.open(io.BytesIO(img))\n",
        "resized_img = image.resize((300, 300))\n",
        "display(resized_img)"
      ]
    },
    {
      "cell_type": "markdown",
      "metadata": {
        "id": "04lAlLK53IYS"
      },
      "source": [
        "- Test on single instance"
      ]
    },
    {
      "cell_type": "code",
      "execution_count": 27,
      "metadata": {
        "id": "-MeiP8z-o6qt"
      },
      "outputs": [
        {
          "name": "stdout",
          "output_type": "stream",
          "text": [
            "The image features a woman's arm and hand draped over a white, stepped structure. She is wearing a long-sleeved, peach-colored blouse with a dramatically puffed sleeve that gathers at the wrist. The fabric of the blouse has a soft, textured appearance. Her hand rests gently on the edge of the structure, with her fingers slightly curled. The lighting is bright and casts strong shadows, highlighting the textures of the blouse and the structure. The overall aesthetic is clean, minimalist, and elegant.\n"
          ]
        }
      ],
      "source": [
        "response = generation_model.generate_content(\n",
        "    contents=[\n",
        "        Part.from_uri(query_image_uri, \"image/jpeg\"),\n",
        "        \"Describe this image that captures the essence of it.\",\n",
        "    ],\n",
        "    # Optional config\n",
        "    generation_config=GenerationConfig(\n",
        "        temperature=0.0,\n",
        "    ),\n",
        ")\n",
        "\n",
        "print(response.text.strip())"
      ]
    },
    {
      "cell_type": "markdown",
      "metadata": {
        "id": "5LISwh5_4R1U"
      },
      "source": [
        "- Ground truth"
      ]
    },
    {
      "cell_type": "code",
      "execution_count": 28,
      "metadata": {
        "id": "aGXbUVK-3lO5"
      },
      "outputs": [
        {
          "data": {
            "application/vnd.google.colaboratory.intrinsic+json": {
              "type": "string"
            },
            "text/plain": [
              "'A person wearing a pink shirt and a long-sleeved shirt with a large cuff, has their hand on a concrete ledge. The hand is on the edge of the ledge, and the thumb is on the edge of the hand. The shirt has a large cuff, and the sleeve is rolled up. The shadow of the hand is on the wall.'"
            ]
          },
          "execution_count": 28,
          "metadata": {},
          "output_type": "execute_result"
        }
      ],
      "source": [
        "val_instances[0][\"contents\"][1][\"parts\"][0][\"text\"]"
      ]
    },
    {
      "cell_type": "markdown",
      "metadata": {
        "id": "MRVAwGLB6KUX"
      },
      "source": [
        "- Change prompt to get detailed description for the provided image"
      ]
    },
    {
      "cell_type": "code",
      "execution_count": 29,
      "metadata": {
        "id": "JO-C5BAVsdfd"
      },
      "outputs": [
        {
          "name": "stdout",
          "output_type": "stream",
          "text": [
            "Here's a detailed description of the image:\n",
            "\n",
            "**Overall Impression:**\n",
            "\n",
            "The image presents a close-up, artistic shot focusing on a woman's arm and hand, draped in a flowing, peach-colored blouse with dramatic, voluminous sleeves. The composition is clean and minimalist, emphasizing texture, light, and shadow.\n",
            "\n",
            "**Subject Details:**\n",
            "\n",
            "*   **Arm and Hand:** The woman's arm is positioned at an angle, with her hand resting gently on a white, textured surface. The skin tone is warm and appears smooth. Her nails are neatly manicured with a natural, nude polish.\n",
            "*   **Blouse:** The blouse is the focal point, featuring a soft, peach hue. The fabric appears lightweight and slightly sheer, creating delicate folds and shadows. The sleeves are the most striking element, gathered at the wrist to create a large, balloon-like shape. The fabric drapes beautifully, adding a sense of movement and elegance.\n",
            "\n",
            "**Background and Setting:**\n",
            "\n",
            "*   **White Surface:** The hand rests on a white, textured surface that appears to be part of a wall or architectural element. The texture is slightly rough, adding visual interest and contrast to the smoothness of the skin and fabric.\n",
            "*   **Lighting:** The lighting is soft and diffused, creating subtle shadows that enhance the depth and dimension of the image. The light source seems to be coming from the side, casting shadows that accentuate the folds of the fabric and the texture of the wall.\n",
            "\n",
            "**Composition and Style:**\n",
            "\n",
            "*   **Close-Up:** The close-up perspective draws the viewer's attention to the details of the hand, fabric, and texture.\n",
            "*   **Minimalist:** The composition is clean and uncluttered, with a focus on essential elements.\n",
            "*   **Artistic:** The image has an artistic and sophisticated feel, emphasizing aesthetics and visual appeal.\n",
            "\n",
            "**Overall Mood:**\n",
            "\n",
            "The image evokes a sense of elegance, sophistication, and tranquility. The soft colors, flowing fabric, and gentle pose create a calming and visually pleasing effect.\n"
          ]
        }
      ],
      "source": [
        "response = generation_model.generate_content(\n",
        "    contents=[\n",
        "        Part.from_uri(query_image_uri, \"image/jpeg\"),\n",
        "        \"Describe this image in detail that captures the essence of it.\",\n",
        "    ],\n",
        "    # Optional config\n",
        "    generation_config=GenerationConfig(\n",
        "        temperature=0.0,\n",
        "    ),\n",
        ")\n",
        "\n",
        "print(response.text.strip())"
      ]
    },
    {
      "cell_type": "markdown",
      "metadata": {
        "id": "snYSjdzCVjGA"
      },
      "source": [
        "## Evaluation before model tuning"
      ]
    },
    {
      "cell_type": "markdown",
      "metadata": {
        "id": "vVvGqqTSVzUZ"
      },
      "source": [
        "- Evaluate the Gemini model on the validation dataset before tuning it on the training dataset."
      ]
    },
    {
      "cell_type": "code",
      "execution_count": 30,
      "metadata": {
        "id": "otIRm3XBwQnW"
      },
      "outputs": [],
      "source": [
        "def get_prediction(query_image, generation_model):\n",
        "    \"\"\"Gets the prediction for a given instance.\n",
        "\n",
        "    Args:\n",
        "      query_image: The path to the query image.\n",
        "      candidates: A list of paths to the candidate images.\n",
        "      generation_model: The generation model to use for prediction.\n",
        "\n",
        "    Returns:\n",
        "      A string containing the prediction.\n",
        "    \"\"\"\n",
        "    response = generation_model.generate_content(\n",
        "        contents=[Part.from_uri(query_image, \"image/jpeg\"), task_prompt],\n",
        "        # Optional config\n",
        "        generation_config=GenerationConfig(\n",
        "            temperature=0.0,\n",
        "        ),\n",
        "    )\n",
        "\n",
        "    return response.text.strip()"
      ]
    },
    {
      "cell_type": "code",
      "execution_count": 31,
      "metadata": {
        "id": "rRW5UVau3xfO"
      },
      "outputs": [],
      "source": [
        "def run_eval(val_df, model=generation_model):\n",
        "    \"\"\"Runs evaluation on the validation dataset.\n",
        "\n",
        "    Args:\n",
        "      val_df: The validation dataframe.\n",
        "      generation_model: The generation model to use for evaluation.\n",
        "\n",
        "    Returns:\n",
        "      A list of predictions on val_df.\n",
        "    \"\"\"\n",
        "    predictions = []\n",
        "    for i, row in tqdm(val_df.iterrows(), total=val_df.shape[0]):\n",
        "        try:\n",
        "            prediction = get_prediction(row[\"file_uri\"], model)\n",
        "        except:\n",
        "            time.sleep(30)\n",
        "            prediction = get_prediction(row[\"file_uri\"], model)\n",
        "        predictions.append(prediction)\n",
        "        time.sleep(1)\n",
        "    return predictions"
      ]
    },
    {
      "cell_type": "markdown",
      "metadata": {
        "id": "29O4EccbqbIa"
      },
      "source": [
        "- Evaluate the Gemini model on the test dataset before tuning it on the training dataset.\n"
      ]
    },
    {
      "cell_type": "markdown",
      "metadata": {
        "id": "0LunPnr5Tvce"
      },
      "source": [
        "<div class=\"alert alert-block alert-warning\">\n",
        "<b>⚠️ It will take ~1 min for the model to generate predictions on the provided validation dataset. ⚠️</b>\n",
        "</div>"
      ]
    },
    {
      "cell_type": "code",
      "execution_count": 32,
      "metadata": {
        "id": "Y2Uy75youUor"
      },
      "outputs": [
        {
          "name": "stderr",
          "output_type": "stream",
          "text": [
            "100%|██████████| 10/10 [00:46<00:00,  4.61s/it]"
          ]
        },
        {
          "name": "stdout",
          "output_type": "stream",
          "text": [
            "CPU times: user 248 ms, sys: 54.6 ms, total: 303 ms\n",
            "Wall time: 46.1 s\n"
          ]
        },
        {
          "name": "stderr",
          "output_type": "stream",
          "text": [
            "\n"
          ]
        }
      ],
      "source": [
        "%%time\n",
        "predictions = run_eval(val_df, model=generation_model)"
      ]
    },
    {
      "cell_type": "code",
      "execution_count": 33,
      "metadata": {
        "id": "7BOg0EZpgg3D"
      },
      "outputs": [
        {
          "data": {
            "text/plain": [
              "10"
            ]
          },
          "execution_count": 33,
          "metadata": {},
          "output_type": "execute_result"
        }
      ],
      "source": [
        "len(predictions)"
      ]
    },
    {
      "cell_type": "code",
      "execution_count": 34,
      "metadata": {
        "id": "N22X-_V5mlev"
      },
      "outputs": [],
      "source": [
        "val_df.loc[:, \"basePredictions\"] = predictions"
      ]
    },
    {
      "cell_type": "code",
      "execution_count": 35,
      "metadata": {
        "id": "bzA_YLSQ67Jc"
      },
      "outputs": [
        {
          "data": {
            "application/vnd.google.colaboratory.intrinsic+json": {
              "summary": "{\n  \"name\": \"val_df\",\n  \"rows\": 10,\n  \"fields\": [\n    {\n      \"column\": \"file_uri\",\n      \"properties\": {\n        \"dtype\": \"string\",\n        \"num_unique_values\": 10,\n        \"samples\": [\n          \"gs://gemini-image-finetuning-001/images/99.jpeg\",\n          \"gs://gemini-image-finetuning-001/images/92.jpeg\",\n          \"gs://gemini-image-finetuning-001/images/96.jpeg\"\n        ],\n        \"semantic_type\": \"\",\n        \"description\": \"\"\n      }\n    },\n    {\n      \"column\": \"ground_truth\",\n      \"properties\": {\n        \"dtype\": \"string\",\n        \"num_unique_values\": 10,\n        \"samples\": [\n          \"A woman stands on a sidewalk, holding a black purse. She wears black boots. The purse has a black and white chain and a black and white handle. The woman's hand is on her hip, and her leg is extended. The ground is made of concrete, and the wall is made of concrete. The woman has a gold bracelet on her wrist. The purse has a black and white design, and the woman's jeans are blue.\",\n          \"A woman in a floral dress stands on a ledge. The sky is clear and blue. The woman's dress is white with red flowers. She is holding a white wicker basket. The water is calm and blue, and the boats are white. The woman is standing on a wall, and the sailboats are in the distance.\",\n          \"A man with long, blonde hair and a black sweater is covering his face with his hand. He has a ring on his finger. The man's hair is long and flowing, and his sweater is black. The background is pink.\"\n        ],\n        \"semantic_type\": \"\",\n        \"description\": \"\"\n      }\n    },\n    {\n      \"column\": \"basePredictions\",\n      \"properties\": {\n        \"dtype\": \"string\",\n        \"num_unique_values\": 10,\n        \"samples\": [\n          \"Here's a detailed description of the image:\\n\\n**Overall Impression:**\\n\\nThe image focuses on a stylish, contemporary outfit. It's a close-up shot, emphasizing the lower half of a person's body, showcasing a combination of textures and colors. The overall feel is fashionable and urban.\\n\\n**Details:**\\n\\n*   **Clothing:** The person is wearing light blue, form-fitting jeans. The jeans are tucked into a pair of black, over-the-knee boots. The boots appear to be made of suede or a similar soft material. The heel of the boot on the left is a chunky, block heel.\\n*   **Accessories:** The person is holding a black, quilted handbag. The bag has a chain strap made of alternating black and white beads or elements. The bag has a silver clasp or closure.\\n*   **Background:** The background is a neutral, light gray wall with horizontal lines or panels. The ground is a light gray, possibly concrete or stone.\\n*   **Composition:** The image is cropped to focus on the legs, boots, and handbag. The person's face and upper body are not visible. The composition is balanced, with the handbag positioned centrally.\\n*   **Lighting:** The lighting appears to be natural and diffused, creating soft shadows and highlighting the textures of the clothing and accessories.\\n\\n**Style and Mood:**\\n\\nThe image conveys a sense of modern style and sophistication. The combination of jeans, over-the-knee boots, and a quilted handbag suggests a trendy and confident individual. The neutral background keeps the focus on the outfit.\",\n          \"Here is a detailed description of the image:\\n\\nThe image features a woman wearing a white floral dress, standing outdoors with a scenic backdrop. The dress is a wrap style, adorned with a pattern of red and purple roses and green leaves. It has short sleeves and a tie at the waist, accentuating the woman's figure. The dress also has a slit that reveals her leg.\\n\\nShe is holding a round, woven straw bag in her left hand. The bag has a light tan handle and a white body. The woman is also wearing a delicate gold bracelet on her left wrist.\\n\\nThe background consists of a clear blue sky and a body of water, likely the sea. There are a few boats visible in the distance, adding to the serene atmosphere. The woman is standing on a stone ledge or wall, which is light in color and appears to be made of marble or a similar material.\\n\\nThe lighting is bright and natural, suggesting it is daytime. The overall composition of the image is well-balanced, with the woman and her dress as the focal point, complemented by the beautiful scenery. The image evokes a sense of summer, relaxation, and effortless style.\",\n          \"Here's a detailed description of the image:\\n\\n**Overall Impression:**\\n\\nThe image presents a person in a state of apparent distress or frustration. The individual's face is obscured, and their posture suggests a desire to hide or withdraw. The bright pink background creates a stark contrast with the dark clothing and adds to the overall sense of unease.\\n\\n**Detailed Description:**\\n\\n*   **Subject:** The subject is a person with light brown or blonde hair. The hair is long enough to fall forward, covering their face. They are wearing a dark navy blue sweater over a collared shirt with a small black and white checkered pattern.\\n\\n*   **Pose and Gesture:** The person is bent forward, with their head bowed. Their right hand is buried in their hair, fingers splayed open as if pulling or clutching at it. This gesture conveys a sense of stress, anxiety, or frustration.\\n\\n*   **Clothing:** The dark sweater and collared shirt create a sense of formality that contrasts with the person's distressed posture. The dark color of the sweater also contributes to the overall somber mood.\\n\\n*   **Background:** The background is a solid, bright pink color. This vibrant color is unexpected and creates a strong contrast with the dark clothing and the subject's apparent emotional state. The simplicity of the background draws attention to the subject and their gesture.\\n\\n*   **Lighting:** The lighting appears to be soft and even, with no strong shadows. This contributes to the overall sense of flatness and emphasizes the contrast between the subject and the background.\\n\\n**Overall Mood and Interpretation:**\\n\\nThe image evokes a sense of unease, anxiety, or frustration. The person's obscured face and distressed gesture suggest a desire to hide or withdraw from the world. The bright pink background adds to the overall sense of unease, creating a jarring contrast with the subject's somber mood. The image could be interpreted as a representation of mental health struggles, stress, or the feeling of being overwhelmed.\"\n        ],\n        \"semantic_type\": \"\",\n        \"description\": \"\"\n      }\n    }\n  ]\n}",
              "type": "dataframe",
              "variable_name": "val_df"
            },
            "text/html": [
              "\n",
              "  <div id=\"df-e1ebe2bc-d8d3-42f2-b65e-c5499040a60e\" class=\"colab-df-container\">\n",
              "    <div>\n",
              "<style scoped>\n",
              "    .dataframe tbody tr th:only-of-type {\n",
              "        vertical-align: middle;\n",
              "    }\n",
              "\n",
              "    .dataframe tbody tr th {\n",
              "        vertical-align: top;\n",
              "    }\n",
              "\n",
              "    .dataframe thead th {\n",
              "        text-align: right;\n",
              "    }\n",
              "</style>\n",
              "<table border=\"1\" class=\"dataframe\">\n",
              "  <thead>\n",
              "    <tr style=\"text-align: right;\">\n",
              "      <th></th>\n",
              "      <th>file_uri</th>\n",
              "      <th>ground_truth</th>\n",
              "      <th>basePredictions</th>\n",
              "    </tr>\n",
              "  </thead>\n",
              "  <tbody>\n",
              "    <tr>\n",
              "      <th>0</th>\n",
              "      <td>gs://gemini-image-finetuning-001/images/91.jpeg</td>\n",
              "      <td>A person wearing a pink shirt and a long-sleev...</td>\n",
              "      <td>Here's a detailed description of the image:\\n\\...</td>\n",
              "    </tr>\n",
              "    <tr>\n",
              "      <th>1</th>\n",
              "      <td>gs://gemini-image-finetuning-001/images/92.jpeg</td>\n",
              "      <td>A woman in a floral dress stands on a ledge. T...</td>\n",
              "      <td>Here is a detailed description of the image:\\n...</td>\n",
              "    </tr>\n",
              "    <tr>\n",
              "      <th>2</th>\n",
              "      <td>gs://gemini-image-finetuning-001/images/93.jpeg</td>\n",
              "      <td>A woman in a red jacket and black pants with a...</td>\n",
              "      <td>Here's a detailed description of the image:\\n\\...</td>\n",
              "    </tr>\n",
              "    <tr>\n",
              "      <th>3</th>\n",
              "      <td>gs://gemini-image-finetuning-001/images/94.jpeg</td>\n",
              "      <td>A woman stands on a set of stone steps, holdin...</td>\n",
              "      <td>Here's a detailed description of the image:\\n\\...</td>\n",
              "    </tr>\n",
              "    <tr>\n",
              "      <th>4</th>\n",
              "      <td>gs://gemini-image-finetuning-001/images/95.jpeg</td>\n",
              "      <td>A person's hand rests on a pink sweater, adorn...</td>\n",
              "      <td>Here is a detailed description of the image:\\n...</td>\n",
              "    </tr>\n",
              "    <tr>\n",
              "      <th>5</th>\n",
              "      <td>gs://gemini-image-finetuning-001/images/96.jpeg</td>\n",
              "      <td>A man with long, blonde hair and a black sweat...</td>\n",
              "      <td>Here's a detailed description of the image:\\n\\...</td>\n",
              "    </tr>\n",
              "    <tr>\n",
              "      <th>6</th>\n",
              "      <td>gs://gemini-image-finetuning-001/images/97.jpeg</td>\n",
              "      <td>A white rack with hangers on it. The rack is w...</td>\n",
              "      <td>Here's a detailed description of the image:\\n\\...</td>\n",
              "    </tr>\n",
              "    <tr>\n",
              "      <th>7</th>\n",
              "      <td>gs://gemini-image-finetuning-001/images/98.jpeg</td>\n",
              "      <td>A white garment hangs on a wooden hanger in a ...</td>\n",
              "      <td>Here's a detailed description of the image:\\n\\...</td>\n",
              "    </tr>\n",
              "    <tr>\n",
              "      <th>8</th>\n",
              "      <td>gs://gemini-image-finetuning-001/images/99.jpeg</td>\n",
              "      <td>A woman stands on a sidewalk, holding a black ...</td>\n",
              "      <td>Here's a detailed description of the image:\\n\\...</td>\n",
              "    </tr>\n",
              "    <tr>\n",
              "      <th>9</th>\n",
              "      <td>gs://gemini-image-finetuning-001/images/100.jpeg</td>\n",
              "      <td>A man stands on a road, wearing a blue denim j...</td>\n",
              "      <td>Here's a detailed description of the image:\\n\\...</td>\n",
              "    </tr>\n",
              "  </tbody>\n",
              "</table>\n",
              "</div>\n",
              "    <div class=\"colab-df-buttons\">\n",
              "\n",
              "  <div class=\"colab-df-container\">\n",
              "    <button class=\"colab-df-convert\" onclick=\"convertToInteractive('df-e1ebe2bc-d8d3-42f2-b65e-c5499040a60e')\"\n",
              "            title=\"Convert this dataframe to an interactive table.\"\n",
              "            style=\"display:none;\">\n",
              "\n",
              "  <svg xmlns=\"http://www.w3.org/2000/svg\" height=\"24px\" viewBox=\"0 -960 960 960\">\n",
              "    <path d=\"M120-120v-720h720v720H120Zm60-500h600v-160H180v160Zm220 220h160v-160H400v160Zm0 220h160v-160H400v160ZM180-400h160v-160H180v160Zm440 0h160v-160H620v160ZM180-180h160v-160H180v160Zm440 0h160v-160H620v160Z\"/>\n",
              "  </svg>\n",
              "    </button>\n",
              "\n",
              "  <style>\n",
              "    .colab-df-container {\n",
              "      display:flex;\n",
              "      gap: 12px;\n",
              "    }\n",
              "\n",
              "    .colab-df-convert {\n",
              "      background-color: #E8F0FE;\n",
              "      border: none;\n",
              "      border-radius: 50%;\n",
              "      cursor: pointer;\n",
              "      display: none;\n",
              "      fill: #1967D2;\n",
              "      height: 32px;\n",
              "      padding: 0 0 0 0;\n",
              "      width: 32px;\n",
              "    }\n",
              "\n",
              "    .colab-df-convert:hover {\n",
              "      background-color: #E2EBFA;\n",
              "      box-shadow: 0px 1px 2px rgba(60, 64, 67, 0.3), 0px 1px 3px 1px rgba(60, 64, 67, 0.15);\n",
              "      fill: #174EA6;\n",
              "    }\n",
              "\n",
              "    .colab-df-buttons div {\n",
              "      margin-bottom: 4px;\n",
              "    }\n",
              "\n",
              "    [theme=dark] .colab-df-convert {\n",
              "      background-color: #3B4455;\n",
              "      fill: #D2E3FC;\n",
              "    }\n",
              "\n",
              "    [theme=dark] .colab-df-convert:hover {\n",
              "      background-color: #434B5C;\n",
              "      box-shadow: 0px 1px 3px 1px rgba(0, 0, 0, 0.15);\n",
              "      filter: drop-shadow(0px 1px 2px rgba(0, 0, 0, 0.3));\n",
              "      fill: #FFFFFF;\n",
              "    }\n",
              "  </style>\n",
              "\n",
              "    <script>\n",
              "      const buttonEl =\n",
              "        document.querySelector('#df-e1ebe2bc-d8d3-42f2-b65e-c5499040a60e button.colab-df-convert');\n",
              "      buttonEl.style.display =\n",
              "        google.colab.kernel.accessAllowed ? 'block' : 'none';\n",
              "\n",
              "      async function convertToInteractive(key) {\n",
              "        const element = document.querySelector('#df-e1ebe2bc-d8d3-42f2-b65e-c5499040a60e');\n",
              "        const dataTable =\n",
              "          await google.colab.kernel.invokeFunction('convertToInteractive',\n",
              "                                                    [key], {});\n",
              "        if (!dataTable) return;\n",
              "\n",
              "        const docLinkHtml = 'Like what you see? Visit the ' +\n",
              "          '<a target=\"_blank\" href=https://colab.research.google.com/notebooks/data_table.ipynb>data table notebook</a>'\n",
              "          + ' to learn more about interactive tables.';\n",
              "        element.innerHTML = '';\n",
              "        dataTable['output_type'] = 'display_data';\n",
              "        await google.colab.output.renderOutput(dataTable, element);\n",
              "        const docLink = document.createElement('div');\n",
              "        docLink.innerHTML = docLinkHtml;\n",
              "        element.appendChild(docLink);\n",
              "      }\n",
              "    </script>\n",
              "  </div>\n",
              "\n",
              "\n",
              "<div id=\"df-300bdee8-b1d3-4750-aa40-aaa1bb8fa2ac\">\n",
              "  <button class=\"colab-df-quickchart\" onclick=\"quickchart('df-300bdee8-b1d3-4750-aa40-aaa1bb8fa2ac')\"\n",
              "            title=\"Suggest charts\"\n",
              "            style=\"display:none;\">\n",
              "\n",
              "<svg xmlns=\"http://www.w3.org/2000/svg\" height=\"24px\"viewBox=\"0 0 24 24\"\n",
              "     width=\"24px\">\n",
              "    <g>\n",
              "        <path d=\"M19 3H5c-1.1 0-2 .9-2 2v14c0 1.1.9 2 2 2h14c1.1 0 2-.9 2-2V5c0-1.1-.9-2-2-2zM9 17H7v-7h2v7zm4 0h-2V7h2v10zm4 0h-2v-4h2v4z\"/>\n",
              "    </g>\n",
              "</svg>\n",
              "  </button>\n",
              "\n",
              "<style>\n",
              "  .colab-df-quickchart {\n",
              "      --bg-color: #E8F0FE;\n",
              "      --fill-color: #1967D2;\n",
              "      --hover-bg-color: #E2EBFA;\n",
              "      --hover-fill-color: #174EA6;\n",
              "      --disabled-fill-color: #AAA;\n",
              "      --disabled-bg-color: #DDD;\n",
              "  }\n",
              "\n",
              "  [theme=dark] .colab-df-quickchart {\n",
              "      --bg-color: #3B4455;\n",
              "      --fill-color: #D2E3FC;\n",
              "      --hover-bg-color: #434B5C;\n",
              "      --hover-fill-color: #FFFFFF;\n",
              "      --disabled-bg-color: #3B4455;\n",
              "      --disabled-fill-color: #666;\n",
              "  }\n",
              "\n",
              "  .colab-df-quickchart {\n",
              "    background-color: var(--bg-color);\n",
              "    border: none;\n",
              "    border-radius: 50%;\n",
              "    cursor: pointer;\n",
              "    display: none;\n",
              "    fill: var(--fill-color);\n",
              "    height: 32px;\n",
              "    padding: 0;\n",
              "    width: 32px;\n",
              "  }\n",
              "\n",
              "  .colab-df-quickchart:hover {\n",
              "    background-color: var(--hover-bg-color);\n",
              "    box-shadow: 0 1px 2px rgba(60, 64, 67, 0.3), 0 1px 3px 1px rgba(60, 64, 67, 0.15);\n",
              "    fill: var(--button-hover-fill-color);\n",
              "  }\n",
              "\n",
              "  .colab-df-quickchart-complete:disabled,\n",
              "  .colab-df-quickchart-complete:disabled:hover {\n",
              "    background-color: var(--disabled-bg-color);\n",
              "    fill: var(--disabled-fill-color);\n",
              "    box-shadow: none;\n",
              "  }\n",
              "\n",
              "  .colab-df-spinner {\n",
              "    border: 2px solid var(--fill-color);\n",
              "    border-color: transparent;\n",
              "    border-bottom-color: var(--fill-color);\n",
              "    animation:\n",
              "      spin 1s steps(1) infinite;\n",
              "  }\n",
              "\n",
              "  @keyframes spin {\n",
              "    0% {\n",
              "      border-color: transparent;\n",
              "      border-bottom-color: var(--fill-color);\n",
              "      border-left-color: var(--fill-color);\n",
              "    }\n",
              "    20% {\n",
              "      border-color: transparent;\n",
              "      border-left-color: var(--fill-color);\n",
              "      border-top-color: var(--fill-color);\n",
              "    }\n",
              "    30% {\n",
              "      border-color: transparent;\n",
              "      border-left-color: var(--fill-color);\n",
              "      border-top-color: var(--fill-color);\n",
              "      border-right-color: var(--fill-color);\n",
              "    }\n",
              "    40% {\n",
              "      border-color: transparent;\n",
              "      border-right-color: var(--fill-color);\n",
              "      border-top-color: var(--fill-color);\n",
              "    }\n",
              "    60% {\n",
              "      border-color: transparent;\n",
              "      border-right-color: var(--fill-color);\n",
              "    }\n",
              "    80% {\n",
              "      border-color: transparent;\n",
              "      border-right-color: var(--fill-color);\n",
              "      border-bottom-color: var(--fill-color);\n",
              "    }\n",
              "    90% {\n",
              "      border-color: transparent;\n",
              "      border-bottom-color: var(--fill-color);\n",
              "    }\n",
              "  }\n",
              "</style>\n",
              "\n",
              "  <script>\n",
              "    async function quickchart(key) {\n",
              "      const quickchartButtonEl =\n",
              "        document.querySelector('#' + key + ' button');\n",
              "      quickchartButtonEl.disabled = true;  // To prevent multiple clicks.\n",
              "      quickchartButtonEl.classList.add('colab-df-spinner');\n",
              "      try {\n",
              "        const charts = await google.colab.kernel.invokeFunction(\n",
              "            'suggestCharts', [key], {});\n",
              "      } catch (error) {\n",
              "        console.error('Error during call to suggestCharts:', error);\n",
              "      }\n",
              "      quickchartButtonEl.classList.remove('colab-df-spinner');\n",
              "      quickchartButtonEl.classList.add('colab-df-quickchart-complete');\n",
              "    }\n",
              "    (() => {\n",
              "      let quickchartButtonEl =\n",
              "        document.querySelector('#df-300bdee8-b1d3-4750-aa40-aaa1bb8fa2ac button');\n",
              "      quickchartButtonEl.style.display =\n",
              "        google.colab.kernel.accessAllowed ? 'block' : 'none';\n",
              "    })();\n",
              "  </script>\n",
              "</div>\n",
              "\n",
              "  <div id=\"id_1e955059-fa4d-43a6-a8f8-59f15d2be69e\">\n",
              "    <style>\n",
              "      .colab-df-generate {\n",
              "        background-color: #E8F0FE;\n",
              "        border: none;\n",
              "        border-radius: 50%;\n",
              "        cursor: pointer;\n",
              "        display: none;\n",
              "        fill: #1967D2;\n",
              "        height: 32px;\n",
              "        padding: 0 0 0 0;\n",
              "        width: 32px;\n",
              "      }\n",
              "\n",
              "      .colab-df-generate:hover {\n",
              "        background-color: #E2EBFA;\n",
              "        box-shadow: 0px 1px 2px rgba(60, 64, 67, 0.3), 0px 1px 3px 1px rgba(60, 64, 67, 0.15);\n",
              "        fill: #174EA6;\n",
              "      }\n",
              "\n",
              "      [theme=dark] .colab-df-generate {\n",
              "        background-color: #3B4455;\n",
              "        fill: #D2E3FC;\n",
              "      }\n",
              "\n",
              "      [theme=dark] .colab-df-generate:hover {\n",
              "        background-color: #434B5C;\n",
              "        box-shadow: 0px 1px 3px 1px rgba(0, 0, 0, 0.15);\n",
              "        filter: drop-shadow(0px 1px 2px rgba(0, 0, 0, 0.3));\n",
              "        fill: #FFFFFF;\n",
              "      }\n",
              "    </style>\n",
              "    <button class=\"colab-df-generate\" onclick=\"generateWithVariable('val_df')\"\n",
              "            title=\"Generate code using this dataframe.\"\n",
              "            style=\"display:none;\">\n",
              "\n",
              "  <svg xmlns=\"http://www.w3.org/2000/svg\" height=\"24px\"viewBox=\"0 0 24 24\"\n",
              "       width=\"24px\">\n",
              "    <path d=\"M7,19H8.4L18.45,9,17,7.55,7,17.6ZM5,21V16.75L18.45,3.32a2,2,0,0,1,2.83,0l1.4,1.43a1.91,1.91,0,0,1,.58,1.4,1.91,1.91,0,0,1-.58,1.4L9.25,21ZM18.45,9,17,7.55Zm-12,3A5.31,5.31,0,0,0,4.9,8.1,5.31,5.31,0,0,0,1,6.5,5.31,5.31,0,0,0,4.9,4.9,5.31,5.31,0,0,0,6.5,1,5.31,5.31,0,0,0,8.1,4.9,5.31,5.31,0,0,0,12,6.5,5.46,5.46,0,0,0,6.5,12Z\"/>\n",
              "  </svg>\n",
              "    </button>\n",
              "    <script>\n",
              "      (() => {\n",
              "      const buttonEl =\n",
              "        document.querySelector('#id_1e955059-fa4d-43a6-a8f8-59f15d2be69e button.colab-df-generate');\n",
              "      buttonEl.style.display =\n",
              "        google.colab.kernel.accessAllowed ? 'block' : 'none';\n",
              "\n",
              "      buttonEl.onclick = () => {\n",
              "        google.colab.notebook.generateWithVariable('val_df');\n",
              "      }\n",
              "      })();\n",
              "    </script>\n",
              "  </div>\n",
              "\n",
              "    </div>\n",
              "  </div>\n"
            ],
            "text/plain": [
              "                                           file_uri  \\\n",
              "0   gs://gemini-image-finetuning-001/images/91.jpeg   \n",
              "1   gs://gemini-image-finetuning-001/images/92.jpeg   \n",
              "2   gs://gemini-image-finetuning-001/images/93.jpeg   \n",
              "3   gs://gemini-image-finetuning-001/images/94.jpeg   \n",
              "4   gs://gemini-image-finetuning-001/images/95.jpeg   \n",
              "5   gs://gemini-image-finetuning-001/images/96.jpeg   \n",
              "6   gs://gemini-image-finetuning-001/images/97.jpeg   \n",
              "7   gs://gemini-image-finetuning-001/images/98.jpeg   \n",
              "8   gs://gemini-image-finetuning-001/images/99.jpeg   \n",
              "9  gs://gemini-image-finetuning-001/images/100.jpeg   \n",
              "\n",
              "                                        ground_truth  \\\n",
              "0  A person wearing a pink shirt and a long-sleev...   \n",
              "1  A woman in a floral dress stands on a ledge. T...   \n",
              "2  A woman in a red jacket and black pants with a...   \n",
              "3  A woman stands on a set of stone steps, holdin...   \n",
              "4  A person's hand rests on a pink sweater, adorn...   \n",
              "5  A man with long, blonde hair and a black sweat...   \n",
              "6  A white rack with hangers on it. The rack is w...   \n",
              "7  A white garment hangs on a wooden hanger in a ...   \n",
              "8  A woman stands on a sidewalk, holding a black ...   \n",
              "9  A man stands on a road, wearing a blue denim j...   \n",
              "\n",
              "                                     basePredictions  \n",
              "0  Here's a detailed description of the image:\\n\\...  \n",
              "1  Here is a detailed description of the image:\\n...  \n",
              "2  Here's a detailed description of the image:\\n\\...  \n",
              "3  Here's a detailed description of the image:\\n\\...  \n",
              "4  Here is a detailed description of the image:\\n...  \n",
              "5  Here's a detailed description of the image:\\n\\...  \n",
              "6  Here's a detailed description of the image:\\n\\...  \n",
              "7  Here's a detailed description of the image:\\n\\...  \n",
              "8  Here's a detailed description of the image:\\n\\...  \n",
              "9  Here's a detailed description of the image:\\n\\...  "
            ]
          },
          "execution_count": 35,
          "metadata": {},
          "output_type": "execute_result"
        }
      ],
      "source": [
        "val_df"
      ]
    },
    {
      "cell_type": "markdown",
      "metadata": {
        "id": "nbPYwzNVWgz-"
      },
      "source": [
        "### Evaluation metric"
      ]
    },
    {
      "cell_type": "markdown",
      "metadata": {
        "id": "mvqIYHNCWigP"
      },
      "source": [
        "The type of metrics used for evaluation depends on the task that you are evaluating. The following table shows the supported tasks and the metrics used to evaluate each task:\n",
        "\n",
        "| Task             | Metric(s)                     |\n",
        "|-----------------|---------------------------------|\n",
        "| Classification   | Micro-F1, Macro-F1, Per class F1 |\n",
        "| Summarization    | ROUGE-L                         |\n",
        "| Question Answering | Exact Match                     |\n",
        "| Text Generation  | BLEU, ROUGE-L                   |\n"
      ]
    },
    {
      "cell_type": "markdown",
      "metadata": {
        "id": "BTkLeYDJWre1"
      },
      "source": [
        "For this task, we'll using ROUGE metric.\n",
        "\n",
        "- **Recall-Oriented Understudy for Gisting Evaluation (ROUGE)**: A metric used to evaluate the quality of automatic summaries of text. It works by comparing a generated summary to a set of reference summaries created by humans."
      ]
    },
    {
      "cell_type": "markdown",
      "metadata": {
        "id": "TIlOr8KFWzqt"
      },
      "source": [
        "Now you can take the candidate and reference to evaluate the performance. In this case, ROUGE will give you:\n",
        "\n",
        "- `rouge-1`, which measures unigram overlap\n",
        "- `rouge-2`, which measures bigram overlap\n",
        "- `rouge-l`, which measures the longest common subsequence"
      ]
    },
    {
      "cell_type": "markdown",
      "metadata": {
        "id": "sIVb60EaW2oW"
      },
      "source": [
        "- *Recall vs. Precision*\n",
        "\n",
        "    **Recall**, meaning it prioritizes how much of the information in the reference summaries is captured in the generated summary.\n",
        "\n",
        "    **Precision**, which measures how much of the generated summary is relevant to the original text."
      ]
    },
    {
      "cell_type": "markdown",
      "metadata": {
        "id": "rDwfndw9OAW9"
      },
      "source": [
        "- Initialize `rouge_score` object"
      ]
    },
    {
      "cell_type": "code",
      "execution_count": 36,
      "metadata": {
        "id": "1SEVHIrk69kj"
      },
      "outputs": [],
      "source": [
        "scorer = rouge_scorer.RougeScorer([\"rouge1\", \"rouge2\", \"rougeL\"], use_stemmer=True)"
      ]
    },
    {
      "cell_type": "markdown",
      "metadata": {
        "id": "_X9vv_gMORkr"
      },
      "source": [
        "- Define function to calculate rouge score"
      ]
    },
    {
      "cell_type": "code",
      "execution_count": 37,
      "metadata": {
        "id": "P6C6EkvFOQzW"
      },
      "outputs": [],
      "source": [
        "def get_rouge_score(groundTruth, prediction):\n",
        "    \"\"\"Function to compute rouge score.\n",
        "\n",
        "    Args:\n",
        "      groundTruth: The ground truth text.\n",
        "      prediction: The predicted text.\n",
        "    Returns:\n",
        "      The rouge score.\n",
        "    \"\"\"\n",
        "    scores = scorer.score(target=groundTruth, prediction=prediction)\n",
        "    return scores"
      ]
    },
    {
      "cell_type": "markdown",
      "metadata": {
        "id": "J6qBe-Mbtem_"
      },
      "source": [
        "- Single instance evaluation"
      ]
    },
    {
      "cell_type": "code",
      "execution_count": 38,
      "metadata": {
        "id": "BtP0f3GO7zG7"
      },
      "outputs": [
        {
          "data": {
            "text/plain": [
              "{'rouge1': Score(precision=0.1384083044982699, recall=0.6451612903225806, fmeasure=0.22792022792022792),\n",
              " 'rouge2': Score(precision=0.04513888888888889, recall=0.21311475409836064, fmeasure=0.07449856733524356),\n",
              " 'rougeL': Score(precision=0.10726643598615918, recall=0.5, fmeasure=0.17663817663817666)}"
            ]
          },
          "execution_count": 38,
          "metadata": {},
          "output_type": "execute_result"
        }
      ],
      "source": [
        "get_rouge_score(val_df.loc[0, \"ground_truth\"], val_df.loc[0, \"basePredictions\"])"
      ]
    },
    {
      "cell_type": "code",
      "execution_count": 39,
      "metadata": {
        "id": "3zl1PpGA9oWE"
      },
      "outputs": [],
      "source": [
        "def calculate_metrics(val_df, prediction_col=\"basePredictions\"):\n",
        "    \"\"\"Function to compute rouge scores for all instances in the validation dataset.\n",
        "    Args:\n",
        "      val_df: The validation dataframe.\n",
        "      prediction_col: The column name of the predictions.\n",
        "    Returns:\n",
        "      A dataframe containing the rouge scores.\n",
        "    \"\"\"\n",
        "    records = []\n",
        "    for row, instance in val_df.iterrows():\n",
        "        scores = get_rouge_score(instance[\"ground_truth\"], instance[prediction_col])\n",
        "        records.append(\n",
        "            {\n",
        "                \"rouge1_precision\": scores.get(\"rouge1\").precision,\n",
        "                \"rouge1_recall\": scores.get(\"rouge1\").recall,\n",
        "                \"rouge1_fmeasure\": scores.get(\"rouge1\").fmeasure,\n",
        "                \"rouge2_precision\": scores.get(\"rouge2\").precision,\n",
        "                \"rouge2_recall\": scores.get(\"rouge2\").recall,\n",
        "                \"rouge2_fmeasure\": scores.get(\"rouge2\").fmeasure,\n",
        "                \"rougeL_precision\": scores.get(\"rougeL\").precision,\n",
        "                \"rougeL_recall\": scores.get(\"rougeL\").recall,\n",
        "                \"rougeL_fmeasure\": scores.get(\"rougeL\").fmeasure,\n",
        "            }\n",
        "        )\n",
        "    metrics = pd.DataFrame(records)\n",
        "    return metrics"
      ]
    },
    {
      "cell_type": "code",
      "execution_count": 40,
      "metadata": {
        "id": "SS2UrB9g8NBt"
      },
      "outputs": [
        {
          "data": {
            "application/vnd.google.colaboratory.intrinsic+json": {
              "summary": "{\n  \"name\": \"evaluation_df_stats\",\n  \"rows\": 10,\n  \"fields\": [\n    {\n      \"column\": \"rouge1_precision\",\n      \"properties\": {\n        \"dtype\": \"number\",\n        \"std\": 0.05494293191877288,\n        \"min\": 0.08668730650154799,\n        \"max\": 0.24019607843137256,\n        \"num_unique_values\": 10,\n        \"samples\": [\n          0.2073170731707317,\n          0.24019607843137256,\n          0.08668730650154799\n        ],\n        \"semantic_type\": \"\",\n        \"description\": \"\"\n      }\n    },\n    {\n      \"column\": \"rouge1_recall\",\n      \"properties\": {\n        \"dtype\": \"number\",\n        \"std\": 0.07587769477069815,\n        \"min\": 0.6451612903225806,\n        \"max\": 0.8596491228070176,\n        \"num_unique_values\": 10,\n        \"samples\": [\n          0.6538461538461539,\n          0.8596491228070176,\n          0.6829268292682927\n        ],\n        \"semantic_type\": \"\",\n        \"description\": \"\"\n      }\n    },\n    {\n      \"column\": \"rouge1_fmeasure\",\n      \"properties\": {\n        \"dtype\": \"number\",\n        \"std\": 0.07719570355511991,\n        \"min\": 0.15384615384615385,\n        \"max\": 0.37547892720306514,\n        \"num_unique_values\": 10,\n        \"samples\": [\n          0.3148148148148148,\n          0.37547892720306514,\n          0.15384615384615385\n        ],\n        \"semantic_type\": \"\",\n        \"description\": \"\"\n      }\n    },\n    {\n      \"column\": \"rouge2_precision\",\n      \"properties\": {\n        \"dtype\": \"number\",\n        \"std\": 0.019606985365708995,\n        \"min\": 0.015527950310559006,\n        \"max\": 0.08374384236453201,\n        \"num_unique_values\": 10,\n        \"samples\": [\n          0.05714285714285714,\n          0.08374384236453201,\n          0.015527950310559006\n        ],\n        \"semantic_type\": \"\",\n        \"description\": \"\"\n      }\n    },\n    {\n      \"column\": \"rouge2_recall\",\n      \"properties\": {\n        \"dtype\": \"number\",\n        \"std\": 0.08823698480632922,\n        \"min\": 0.125,\n        \"max\": 0.4444444444444444,\n        \"num_unique_values\": 10,\n        \"samples\": [\n          0.18181818181818182,\n          0.30357142857142855,\n          0.125\n        ],\n        \"semantic_type\": \"\",\n        \"description\": \"\"\n      }\n    },\n    {\n      \"column\": \"rouge2_fmeasure\",\n      \"properties\": {\n        \"dtype\": \"number\",\n        \"std\": 0.029503165918369496,\n        \"min\": 0.027624309392265192,\n        \"max\": 0.13127413127413126,\n        \"num_unique_values\": 10,\n        \"samples\": [\n          0.08695652173913043,\n          0.13127413127413126,\n          0.027624309392265192\n        ],\n        \"semantic_type\": \"\",\n        \"description\": \"\"\n      }\n    },\n    {\n      \"column\": \"rougeL_precision\",\n      \"properties\": {\n        \"dtype\": \"number\",\n        \"std\": 0.036189159185322624,\n        \"min\": 0.05572755417956656,\n        \"max\": 0.1715686274509804,\n        \"num_unique_values\": 10,\n        \"samples\": [\n          0.12195121951219512,\n          0.1715686274509804,\n          0.05572755417956656\n        ],\n        \"semantic_type\": \"\",\n        \"description\": \"\"\n      }\n    },\n    {\n      \"column\": \"rougeL_recall\",\n      \"properties\": {\n        \"dtype\": \"number\",\n        \"std\": 0.10203092936149095,\n        \"min\": 0.38461538461538464,\n        \"max\": 0.75,\n        \"num_unique_values\": 10,\n        \"samples\": [\n          0.38461538461538464,\n          0.6140350877192983,\n          0.43902439024390244\n        ],\n        \"semantic_type\": \"\",\n        \"description\": \"\"\n      }\n    },\n    {\n      \"column\": \"rougeL_fmeasure\",\n      \"properties\": {\n        \"dtype\": \"number\",\n        \"std\": 0.05143694700345963,\n        \"min\": 0.09890109890109891,\n        \"max\": 0.2681992337164751,\n        \"num_unique_values\": 10,\n        \"samples\": [\n          0.18518518518518517,\n          0.2681992337164751,\n          0.09890109890109891\n        ],\n        \"semantic_type\": \"\",\n        \"description\": \"\"\n      }\n    }\n  ]\n}",
              "type": "dataframe",
              "variable_name": "evaluation_df_stats"
            },
            "text/html": [
              "\n",
              "  <div id=\"df-30f12e2c-ec89-4cc9-ae1a-5b5744c64d0b\" class=\"colab-df-container\">\n",
              "    <div>\n",
              "<style scoped>\n",
              "    .dataframe tbody tr th:only-of-type {\n",
              "        vertical-align: middle;\n",
              "    }\n",
              "\n",
              "    .dataframe tbody tr th {\n",
              "        vertical-align: top;\n",
              "    }\n",
              "\n",
              "    .dataframe thead th {\n",
              "        text-align: right;\n",
              "    }\n",
              "</style>\n",
              "<table border=\"1\" class=\"dataframe\">\n",
              "  <thead>\n",
              "    <tr style=\"text-align: right;\">\n",
              "      <th></th>\n",
              "      <th>rouge1_precision</th>\n",
              "      <th>rouge1_recall</th>\n",
              "      <th>rouge1_fmeasure</th>\n",
              "      <th>rouge2_precision</th>\n",
              "      <th>rouge2_recall</th>\n",
              "      <th>rouge2_fmeasure</th>\n",
              "      <th>rougeL_precision</th>\n",
              "      <th>rougeL_recall</th>\n",
              "      <th>rougeL_fmeasure</th>\n",
              "    </tr>\n",
              "  </thead>\n",
              "  <tbody>\n",
              "    <tr>\n",
              "      <th>0</th>\n",
              "      <td>0.138408</td>\n",
              "      <td>0.645161</td>\n",
              "      <td>0.227920</td>\n",
              "      <td>0.045139</td>\n",
              "      <td>0.213115</td>\n",
              "      <td>0.074499</td>\n",
              "      <td>0.107266</td>\n",
              "      <td>0.500000</td>\n",
              "      <td>0.176638</td>\n",
              "    </tr>\n",
              "    <tr>\n",
              "      <th>1</th>\n",
              "      <td>0.240196</td>\n",
              "      <td>0.859649</td>\n",
              "      <td>0.375479</td>\n",
              "      <td>0.083744</td>\n",
              "      <td>0.303571</td>\n",
              "      <td>0.131274</td>\n",
              "      <td>0.171569</td>\n",
              "      <td>0.614035</td>\n",
              "      <td>0.268199</td>\n",
              "    </tr>\n",
              "    <tr>\n",
              "      <th>2</th>\n",
              "      <td>0.096234</td>\n",
              "      <td>0.821429</td>\n",
              "      <td>0.172285</td>\n",
              "      <td>0.050420</td>\n",
              "      <td>0.444444</td>\n",
              "      <td>0.090566</td>\n",
              "      <td>0.087866</td>\n",
              "      <td>0.750000</td>\n",
              "      <td>0.157303</td>\n",
              "    </tr>\n",
              "    <tr>\n",
              "      <th>3</th>\n",
              "      <td>0.191406</td>\n",
              "      <td>0.777778</td>\n",
              "      <td>0.307210</td>\n",
              "      <td>0.050980</td>\n",
              "      <td>0.209677</td>\n",
              "      <td>0.082019</td>\n",
              "      <td>0.140625</td>\n",
              "      <td>0.571429</td>\n",
              "      <td>0.225705</td>\n",
              "    </tr>\n",
              "    <tr>\n",
              "      <th>4</th>\n",
              "      <td>0.104247</td>\n",
              "      <td>0.692308</td>\n",
              "      <td>0.181208</td>\n",
              "      <td>0.027132</td>\n",
              "      <td>0.184211</td>\n",
              "      <td>0.047297</td>\n",
              "      <td>0.077220</td>\n",
              "      <td>0.512821</td>\n",
              "      <td>0.134228</td>\n",
              "    </tr>\n",
              "    <tr>\n",
              "      <th>5</th>\n",
              "      <td>0.086687</td>\n",
              "      <td>0.682927</td>\n",
              "      <td>0.153846</td>\n",
              "      <td>0.015528</td>\n",
              "      <td>0.125000</td>\n",
              "      <td>0.027624</td>\n",
              "      <td>0.055728</td>\n",
              "      <td>0.439024</td>\n",
              "      <td>0.098901</td>\n",
              "    </tr>\n",
              "    <tr>\n",
              "      <th>6</th>\n",
              "      <td>0.195489</td>\n",
              "      <td>0.702703</td>\n",
              "      <td>0.305882</td>\n",
              "      <td>0.053030</td>\n",
              "      <td>0.194444</td>\n",
              "      <td>0.083333</td>\n",
              "      <td>0.142857</td>\n",
              "      <td>0.513514</td>\n",
              "      <td>0.223529</td>\n",
              "    </tr>\n",
              "    <tr>\n",
              "      <th>7</th>\n",
              "      <td>0.206780</td>\n",
              "      <td>0.813333</td>\n",
              "      <td>0.329730</td>\n",
              "      <td>0.068027</td>\n",
              "      <td>0.270270</td>\n",
              "      <td>0.108696</td>\n",
              "      <td>0.149153</td>\n",
              "      <td>0.586667</td>\n",
              "      <td>0.237838</td>\n",
              "    </tr>\n",
              "    <tr>\n",
              "      <th>8</th>\n",
              "      <td>0.207317</td>\n",
              "      <td>0.653846</td>\n",
              "      <td>0.314815</td>\n",
              "      <td>0.057143</td>\n",
              "      <td>0.181818</td>\n",
              "      <td>0.086957</td>\n",
              "      <td>0.121951</td>\n",
              "      <td>0.384615</td>\n",
              "      <td>0.185185</td>\n",
              "    </tr>\n",
              "    <tr>\n",
              "      <th>9</th>\n",
              "      <td>0.198381</td>\n",
              "      <td>0.710145</td>\n",
              "      <td>0.310127</td>\n",
              "      <td>0.065041</td>\n",
              "      <td>0.235294</td>\n",
              "      <td>0.101911</td>\n",
              "      <td>0.133603</td>\n",
              "      <td>0.478261</td>\n",
              "      <td>0.208861</td>\n",
              "    </tr>\n",
              "  </tbody>\n",
              "</table>\n",
              "</div>\n",
              "    <div class=\"colab-df-buttons\">\n",
              "\n",
              "  <div class=\"colab-df-container\">\n",
              "    <button class=\"colab-df-convert\" onclick=\"convertToInteractive('df-30f12e2c-ec89-4cc9-ae1a-5b5744c64d0b')\"\n",
              "            title=\"Convert this dataframe to an interactive table.\"\n",
              "            style=\"display:none;\">\n",
              "\n",
              "  <svg xmlns=\"http://www.w3.org/2000/svg\" height=\"24px\" viewBox=\"0 -960 960 960\">\n",
              "    <path d=\"M120-120v-720h720v720H120Zm60-500h600v-160H180v160Zm220 220h160v-160H400v160Zm0 220h160v-160H400v160ZM180-400h160v-160H180v160Zm440 0h160v-160H620v160ZM180-180h160v-160H180v160Zm440 0h160v-160H620v160Z\"/>\n",
              "  </svg>\n",
              "    </button>\n",
              "\n",
              "  <style>\n",
              "    .colab-df-container {\n",
              "      display:flex;\n",
              "      gap: 12px;\n",
              "    }\n",
              "\n",
              "    .colab-df-convert {\n",
              "      background-color: #E8F0FE;\n",
              "      border: none;\n",
              "      border-radius: 50%;\n",
              "      cursor: pointer;\n",
              "      display: none;\n",
              "      fill: #1967D2;\n",
              "      height: 32px;\n",
              "      padding: 0 0 0 0;\n",
              "      width: 32px;\n",
              "    }\n",
              "\n",
              "    .colab-df-convert:hover {\n",
              "      background-color: #E2EBFA;\n",
              "      box-shadow: 0px 1px 2px rgba(60, 64, 67, 0.3), 0px 1px 3px 1px rgba(60, 64, 67, 0.15);\n",
              "      fill: #174EA6;\n",
              "    }\n",
              "\n",
              "    .colab-df-buttons div {\n",
              "      margin-bottom: 4px;\n",
              "    }\n",
              "\n",
              "    [theme=dark] .colab-df-convert {\n",
              "      background-color: #3B4455;\n",
              "      fill: #D2E3FC;\n",
              "    }\n",
              "\n",
              "    [theme=dark] .colab-df-convert:hover {\n",
              "      background-color: #434B5C;\n",
              "      box-shadow: 0px 1px 3px 1px rgba(0, 0, 0, 0.15);\n",
              "      filter: drop-shadow(0px 1px 2px rgba(0, 0, 0, 0.3));\n",
              "      fill: #FFFFFF;\n",
              "    }\n",
              "  </style>\n",
              "\n",
              "    <script>\n",
              "      const buttonEl =\n",
              "        document.querySelector('#df-30f12e2c-ec89-4cc9-ae1a-5b5744c64d0b button.colab-df-convert');\n",
              "      buttonEl.style.display =\n",
              "        google.colab.kernel.accessAllowed ? 'block' : 'none';\n",
              "\n",
              "      async function convertToInteractive(key) {\n",
              "        const element = document.querySelector('#df-30f12e2c-ec89-4cc9-ae1a-5b5744c64d0b');\n",
              "        const dataTable =\n",
              "          await google.colab.kernel.invokeFunction('convertToInteractive',\n",
              "                                                    [key], {});\n",
              "        if (!dataTable) return;\n",
              "\n",
              "        const docLinkHtml = 'Like what you see? Visit the ' +\n",
              "          '<a target=\"_blank\" href=https://colab.research.google.com/notebooks/data_table.ipynb>data table notebook</a>'\n",
              "          + ' to learn more about interactive tables.';\n",
              "        element.innerHTML = '';\n",
              "        dataTable['output_type'] = 'display_data';\n",
              "        await google.colab.output.renderOutput(dataTable, element);\n",
              "        const docLink = document.createElement('div');\n",
              "        docLink.innerHTML = docLinkHtml;\n",
              "        element.appendChild(docLink);\n",
              "      }\n",
              "    </script>\n",
              "  </div>\n",
              "\n",
              "\n",
              "<div id=\"df-d9e0a756-d67d-45f4-bd49-2bd51262c9ff\">\n",
              "  <button class=\"colab-df-quickchart\" onclick=\"quickchart('df-d9e0a756-d67d-45f4-bd49-2bd51262c9ff')\"\n",
              "            title=\"Suggest charts\"\n",
              "            style=\"display:none;\">\n",
              "\n",
              "<svg xmlns=\"http://www.w3.org/2000/svg\" height=\"24px\"viewBox=\"0 0 24 24\"\n",
              "     width=\"24px\">\n",
              "    <g>\n",
              "        <path d=\"M19 3H5c-1.1 0-2 .9-2 2v14c0 1.1.9 2 2 2h14c1.1 0 2-.9 2-2V5c0-1.1-.9-2-2-2zM9 17H7v-7h2v7zm4 0h-2V7h2v10zm4 0h-2v-4h2v4z\"/>\n",
              "    </g>\n",
              "</svg>\n",
              "  </button>\n",
              "\n",
              "<style>\n",
              "  .colab-df-quickchart {\n",
              "      --bg-color: #E8F0FE;\n",
              "      --fill-color: #1967D2;\n",
              "      --hover-bg-color: #E2EBFA;\n",
              "      --hover-fill-color: #174EA6;\n",
              "      --disabled-fill-color: #AAA;\n",
              "      --disabled-bg-color: #DDD;\n",
              "  }\n",
              "\n",
              "  [theme=dark] .colab-df-quickchart {\n",
              "      --bg-color: #3B4455;\n",
              "      --fill-color: #D2E3FC;\n",
              "      --hover-bg-color: #434B5C;\n",
              "      --hover-fill-color: #FFFFFF;\n",
              "      --disabled-bg-color: #3B4455;\n",
              "      --disabled-fill-color: #666;\n",
              "  }\n",
              "\n",
              "  .colab-df-quickchart {\n",
              "    background-color: var(--bg-color);\n",
              "    border: none;\n",
              "    border-radius: 50%;\n",
              "    cursor: pointer;\n",
              "    display: none;\n",
              "    fill: var(--fill-color);\n",
              "    height: 32px;\n",
              "    padding: 0;\n",
              "    width: 32px;\n",
              "  }\n",
              "\n",
              "  .colab-df-quickchart:hover {\n",
              "    background-color: var(--hover-bg-color);\n",
              "    box-shadow: 0 1px 2px rgba(60, 64, 67, 0.3), 0 1px 3px 1px rgba(60, 64, 67, 0.15);\n",
              "    fill: var(--button-hover-fill-color);\n",
              "  }\n",
              "\n",
              "  .colab-df-quickchart-complete:disabled,\n",
              "  .colab-df-quickchart-complete:disabled:hover {\n",
              "    background-color: var(--disabled-bg-color);\n",
              "    fill: var(--disabled-fill-color);\n",
              "    box-shadow: none;\n",
              "  }\n",
              "\n",
              "  .colab-df-spinner {\n",
              "    border: 2px solid var(--fill-color);\n",
              "    border-color: transparent;\n",
              "    border-bottom-color: var(--fill-color);\n",
              "    animation:\n",
              "      spin 1s steps(1) infinite;\n",
              "  }\n",
              "\n",
              "  @keyframes spin {\n",
              "    0% {\n",
              "      border-color: transparent;\n",
              "      border-bottom-color: var(--fill-color);\n",
              "      border-left-color: var(--fill-color);\n",
              "    }\n",
              "    20% {\n",
              "      border-color: transparent;\n",
              "      border-left-color: var(--fill-color);\n",
              "      border-top-color: var(--fill-color);\n",
              "    }\n",
              "    30% {\n",
              "      border-color: transparent;\n",
              "      border-left-color: var(--fill-color);\n",
              "      border-top-color: var(--fill-color);\n",
              "      border-right-color: var(--fill-color);\n",
              "    }\n",
              "    40% {\n",
              "      border-color: transparent;\n",
              "      border-right-color: var(--fill-color);\n",
              "      border-top-color: var(--fill-color);\n",
              "    }\n",
              "    60% {\n",
              "      border-color: transparent;\n",
              "      border-right-color: var(--fill-color);\n",
              "    }\n",
              "    80% {\n",
              "      border-color: transparent;\n",
              "      border-right-color: var(--fill-color);\n",
              "      border-bottom-color: var(--fill-color);\n",
              "    }\n",
              "    90% {\n",
              "      border-color: transparent;\n",
              "      border-bottom-color: var(--fill-color);\n",
              "    }\n",
              "  }\n",
              "</style>\n",
              "\n",
              "  <script>\n",
              "    async function quickchart(key) {\n",
              "      const quickchartButtonEl =\n",
              "        document.querySelector('#' + key + ' button');\n",
              "      quickchartButtonEl.disabled = true;  // To prevent multiple clicks.\n",
              "      quickchartButtonEl.classList.add('colab-df-spinner');\n",
              "      try {\n",
              "        const charts = await google.colab.kernel.invokeFunction(\n",
              "            'suggestCharts', [key], {});\n",
              "      } catch (error) {\n",
              "        console.error('Error during call to suggestCharts:', error);\n",
              "      }\n",
              "      quickchartButtonEl.classList.remove('colab-df-spinner');\n",
              "      quickchartButtonEl.classList.add('colab-df-quickchart-complete');\n",
              "    }\n",
              "    (() => {\n",
              "      let quickchartButtonEl =\n",
              "        document.querySelector('#df-d9e0a756-d67d-45f4-bd49-2bd51262c9ff button');\n",
              "      quickchartButtonEl.style.display =\n",
              "        google.colab.kernel.accessAllowed ? 'block' : 'none';\n",
              "    })();\n",
              "  </script>\n",
              "</div>\n",
              "\n",
              "  <div id=\"id_8e39a26c-81f0-45b4-84b6-a7b5a61f9c04\">\n",
              "    <style>\n",
              "      .colab-df-generate {\n",
              "        background-color: #E8F0FE;\n",
              "        border: none;\n",
              "        border-radius: 50%;\n",
              "        cursor: pointer;\n",
              "        display: none;\n",
              "        fill: #1967D2;\n",
              "        height: 32px;\n",
              "        padding: 0 0 0 0;\n",
              "        width: 32px;\n",
              "      }\n",
              "\n",
              "      .colab-df-generate:hover {\n",
              "        background-color: #E2EBFA;\n",
              "        box-shadow: 0px 1px 2px rgba(60, 64, 67, 0.3), 0px 1px 3px 1px rgba(60, 64, 67, 0.15);\n",
              "        fill: #174EA6;\n",
              "      }\n",
              "\n",
              "      [theme=dark] .colab-df-generate {\n",
              "        background-color: #3B4455;\n",
              "        fill: #D2E3FC;\n",
              "      }\n",
              "\n",
              "      [theme=dark] .colab-df-generate:hover {\n",
              "        background-color: #434B5C;\n",
              "        box-shadow: 0px 1px 3px 1px rgba(0, 0, 0, 0.15);\n",
              "        filter: drop-shadow(0px 1px 2px rgba(0, 0, 0, 0.3));\n",
              "        fill: #FFFFFF;\n",
              "      }\n",
              "    </style>\n",
              "    <button class=\"colab-df-generate\" onclick=\"generateWithVariable('evaluation_df_stats')\"\n",
              "            title=\"Generate code using this dataframe.\"\n",
              "            style=\"display:none;\">\n",
              "\n",
              "  <svg xmlns=\"http://www.w3.org/2000/svg\" height=\"24px\"viewBox=\"0 0 24 24\"\n",
              "       width=\"24px\">\n",
              "    <path d=\"M7,19H8.4L18.45,9,17,7.55,7,17.6ZM5,21V16.75L18.45,3.32a2,2,0,0,1,2.83,0l1.4,1.43a1.91,1.91,0,0,1,.58,1.4,1.91,1.91,0,0,1-.58,1.4L9.25,21ZM18.45,9,17,7.55Zm-12,3A5.31,5.31,0,0,0,4.9,8.1,5.31,5.31,0,0,0,1,6.5,5.31,5.31,0,0,0,4.9,4.9,5.31,5.31,0,0,0,6.5,1,5.31,5.31,0,0,0,8.1,4.9,5.31,5.31,0,0,0,12,6.5,5.46,5.46,0,0,0,6.5,12Z\"/>\n",
              "  </svg>\n",
              "    </button>\n",
              "    <script>\n",
              "      (() => {\n",
              "      const buttonEl =\n",
              "        document.querySelector('#id_8e39a26c-81f0-45b4-84b6-a7b5a61f9c04 button.colab-df-generate');\n",
              "      buttonEl.style.display =\n",
              "        google.colab.kernel.accessAllowed ? 'block' : 'none';\n",
              "\n",
              "      buttonEl.onclick = () => {\n",
              "        google.colab.notebook.generateWithVariable('evaluation_df_stats');\n",
              "      }\n",
              "      })();\n",
              "    </script>\n",
              "  </div>\n",
              "\n",
              "    </div>\n",
              "  </div>\n"
            ],
            "text/plain": [
              "   rouge1_precision  rouge1_recall  rouge1_fmeasure  rouge2_precision  \\\n",
              "0          0.138408       0.645161         0.227920          0.045139   \n",
              "1          0.240196       0.859649         0.375479          0.083744   \n",
              "2          0.096234       0.821429         0.172285          0.050420   \n",
              "3          0.191406       0.777778         0.307210          0.050980   \n",
              "4          0.104247       0.692308         0.181208          0.027132   \n",
              "5          0.086687       0.682927         0.153846          0.015528   \n",
              "6          0.195489       0.702703         0.305882          0.053030   \n",
              "7          0.206780       0.813333         0.329730          0.068027   \n",
              "8          0.207317       0.653846         0.314815          0.057143   \n",
              "9          0.198381       0.710145         0.310127          0.065041   \n",
              "\n",
              "   rouge2_recall  rouge2_fmeasure  rougeL_precision  rougeL_recall  \\\n",
              "0       0.213115         0.074499          0.107266       0.500000   \n",
              "1       0.303571         0.131274          0.171569       0.614035   \n",
              "2       0.444444         0.090566          0.087866       0.750000   \n",
              "3       0.209677         0.082019          0.140625       0.571429   \n",
              "4       0.184211         0.047297          0.077220       0.512821   \n",
              "5       0.125000         0.027624          0.055728       0.439024   \n",
              "6       0.194444         0.083333          0.142857       0.513514   \n",
              "7       0.270270         0.108696          0.149153       0.586667   \n",
              "8       0.181818         0.086957          0.121951       0.384615   \n",
              "9       0.235294         0.101911          0.133603       0.478261   \n",
              "\n",
              "   rougeL_fmeasure  \n",
              "0         0.176638  \n",
              "1         0.268199  \n",
              "2         0.157303  \n",
              "3         0.225705  \n",
              "4         0.134228  \n",
              "5         0.098901  \n",
              "6         0.223529  \n",
              "7         0.237838  \n",
              "8         0.185185  \n",
              "9         0.208861  "
            ]
          },
          "execution_count": 40,
          "metadata": {},
          "output_type": "execute_result"
        }
      ],
      "source": [
        "evaluation_df_stats = calculate_metrics(val_df, prediction_col=\"basePredictions\")\n",
        "evaluation_df_stats"
      ]
    },
    {
      "cell_type": "code",
      "execution_count": 41,
      "metadata": {
        "id": "ZEyRYhEBZwy9"
      },
      "outputs": [
        {
          "name": "stdout",
          "output_type": "stream",
          "text": [
            "Mean rougeL_precision is 0.11878379472320107\n",
            "Mean rougeL_recall is 0.5350364996573067\n",
            "Mean rougeL_fmeasure is 0.19163885913967355\n"
          ]
        }
      ],
      "source": [
        "print(\"Mean rougeL_precision is\", evaluation_df_stats.rougeL_precision.mean())\n",
        "print(\"Mean rougeL_recall is\", evaluation_df_stats.rougeL_recall.mean())\n",
        "print(\"Mean rougeL_fmeasure is\", evaluation_df_stats.rougeL_fmeasure.mean())"
      ]
    },
    {
      "cell_type": "markdown",
      "metadata": {
        "id": "uYAjjpdG_cpP"
      },
      "source": [
        "## Fine-tune the model"
      ]
    },
    {
      "cell_type": "markdown",
      "metadata": {
        "id": "d1263b90fbc4"
      },
      "source": [
        "When you run a supervised fine-tuning job, the model learns additional parameters that help it encode the necessary information to perform the desired task or learn the desired behavior. These parameters are used during inference. The output of the tuning job is a new model that combines the newly learned parameters with the original model."
      ]
    },
    {
      "cell_type": "markdown",
      "metadata": {
        "id": "EyqBRoY5rscI"
      },
      "source": [
        "**Tuning Job parameters**\n",
        "\n",
        "- `source_model`: Specifies the base Gemini model version you want to fine-tune.\n",
        "- `train_dataset`: Path to your training data in JSONL format.\n",
        "\n",
        "\n",
        " *Optional parameters*\n",
        " - `validation_dataset`: If provided, this data is used to evaluate the model during tuning.\n",
        " - `tuned_model_display_name`: Display name for the tuned model.\n",
        "\n",
        " *Hyperparameters*\n",
        " - `epochs`: The number of training epochs to run.\n",
        " - `learning_rate_multiplier`: A value to scale the learning rate during training.\n",
        " - `adapter_size` : Gemini 2.0 Flash supports Adapter length [1, 4], default value is 4.\n"
      ]
    },
    {
      "cell_type": "markdown",
      "metadata": {
        "id": "UJ0gxBeyqO9k"
      },
      "source": [
        "**Note: The default hyperparameter settings are optimized for optimal performance based on rigorous testing and are recommended for initial use. Users may customize these parameters to address specific performance requirements.**"
      ]
    },
    {
      "cell_type": "code",
      "execution_count": 42,
      "metadata": {
        "id": "_vbe8o4_8qV6"
      },
      "outputs": [
        {
          "name": "stderr",
          "output_type": "stream",
          "text": [
            "INFO:vertexai.tuning._tuning:Creating SupervisedTuningJob\n",
            "INFO:vertexai.tuning._tuning:SupervisedTuningJob created. Resource name: projects/801452371447/locations/us-central1/tuningJobs/7625858624690061312\n",
            "INFO:vertexai.tuning._tuning:To use this SupervisedTuningJob in another session:\n",
            "INFO:vertexai.tuning._tuning:tuning_job = sft.SupervisedTuningJob('projects/801452371447/locations/us-central1/tuningJobs/7625858624690061312')\n",
            "INFO:vertexai.tuning._tuning:View Tuning Job:\n",
            "https://console.cloud.google.com/vertex-ai/generative/language/locations/us-central1/tuning/tuningJob/7625858624690061312?project=801452371447\n"
          ]
        },
        {
          "data": {
            "text/html": [
              "\n",
              "        \n",
              "    <link rel=\"stylesheet\" href=\"https://fonts.googleapis.com/icon?family=Material+Icons\">\n",
              "    <style>\n",
              "      .view-vertex-resource,\n",
              "      .view-vertex-resource:hover,\n",
              "      .view-vertex-resource:visited {\n",
              "        position: relative;\n",
              "        display: inline-flex;\n",
              "        flex-direction: row;\n",
              "        height: 32px;\n",
              "        padding: 0 12px;\n",
              "          margin: 4px 18px;\n",
              "        gap: 4px;\n",
              "        border-radius: 4px;\n",
              "\n",
              "        align-items: center;\n",
              "        justify-content: center;\n",
              "        background-color: rgb(255, 255, 255);\n",
              "        color: rgb(51, 103, 214);\n",
              "\n",
              "        font-family: Roboto,\"Helvetica Neue\",sans-serif;\n",
              "        font-size: 13px;\n",
              "        font-weight: 500;\n",
              "        text-transform: uppercase;\n",
              "        text-decoration: none !important;\n",
              "\n",
              "        transition: box-shadow 280ms cubic-bezier(0.4, 0, 0.2, 1) 0s;\n",
              "        box-shadow: 0px 3px 1px -2px rgba(0,0,0,0.2), 0px 2px 2px 0px rgba(0,0,0,0.14), 0px 1px 5px 0px rgba(0,0,0,0.12);\n",
              "      }\n",
              "      .view-vertex-resource:active {\n",
              "        box-shadow: 0px 5px 5px -3px rgba(0,0,0,0.2),0px 8px 10px 1px rgba(0,0,0,0.14),0px 3px 14px 2px rgba(0,0,0,0.12);\n",
              "      }\n",
              "      .view-vertex-resource:active .view-vertex-ripple::before {\n",
              "        position: absolute;\n",
              "        top: 0;\n",
              "        bottom: 0;\n",
              "        left: 0;\n",
              "        right: 0;\n",
              "        border-radius: 4px;\n",
              "        pointer-events: none;\n",
              "\n",
              "        content: '';\n",
              "        background-color: rgb(51, 103, 214);\n",
              "        opacity: 0.12;\n",
              "      }\n",
              "      .view-vertex-icon {\n",
              "        font-size: 18px;\n",
              "      }\n",
              "    </style>\n",
              "  \n",
              "        <a class=\"view-vertex-resource\" id=\"view-vertex-resource-fcda7d0c-4120-4ecb-9982-3e2de4800498\" href=\"#view-view-vertex-resource-fcda7d0c-4120-4ecb-9982-3e2de4800498\">\n",
              "          <span class=\"material-icons view-vertex-icon\">tune</span>\n",
              "          <span>View Tuning Job</span>\n",
              "        </a>\n",
              "        \n",
              "        <script>\n",
              "          (function () {\n",
              "            const link = document.getElementById('view-vertex-resource-fcda7d0c-4120-4ecb-9982-3e2de4800498');\n",
              "            link.addEventListener('click', (e) => {\n",
              "              if (window.google?.colab?.openUrl) {\n",
              "                window.google.colab.openUrl('https://console.cloud.google.com/vertex-ai/generative/language/locations/us-central1/tuning/tuningJob/7625858624690061312?project=801452371447');\n",
              "              } else {\n",
              "                window.open('https://console.cloud.google.com/vertex-ai/generative/language/locations/us-central1/tuning/tuningJob/7625858624690061312?project=801452371447', '_blank');\n",
              "              }\n",
              "              e.stopPropagation();\n",
              "              e.preventDefault();\n",
              "            });\n",
              "          })();\n",
              "        </script>\n",
              "    "
            ],
            "text/plain": [
              "<IPython.core.display.HTML object>"
            ]
          },
          "metadata": {},
          "output_type": "display_data"
        }
      ],
      "source": [
        "tuned_model_display_name = \"[DISPLAY NAME FOR TUNED MODEL]\"  # @param {type:\"string\"}\n",
        "\n",
        "sft_tuning_job = sft.train(\n",
        "    source_model=base_model,\n",
        "    train_dataset=f\"{BUCKET_URI}/train/train.jsonl\",\n",
        "    # Optional:\n",
        "    validation_dataset=f\"{BUCKET_URI}/val/val.jsonl\",\n",
        "    tuned_model_display_name=tuned_model_display_name,\n",
        ")"
      ]
    },
    {
      "cell_type": "code",
      "execution_count": 43,
      "metadata": {
        "id": "hSDpQGUeERcH"
      },
      "outputs": [
        {
          "data": {
            "application/vnd.google.colaboratory.intrinsic+json": {
              "type": "string"
            },
            "text/plain": [
              "'projects/801452371447/locations/us-central1/tuningJobs/7625858624690061312'"
            ]
          },
          "execution_count": 43,
          "metadata": {},
          "output_type": "execute_result"
        }
      ],
      "source": [
        "job_name = sft_tuning_job.to_dict()[\"name\"]\n",
        "job_name"
      ]
    },
    {
      "cell_type": "code",
      "execution_count": 44,
      "metadata": {
        "id": "dYQgzOr7KciG"
      },
      "outputs": [
        {
          "data": {
            "text/plain": [
              "{'name': 'projects/801452371447/locations/us-central1/tuningJobs/7625858624690061312',\n",
              " 'tunedModelDisplayName': 'gemini-2.0-image-fine-tuning-test',\n",
              " 'baseModel': 'gemini-2.0-flash-001',\n",
              " 'supervisedTuningSpec': {'trainingDatasetUri': 'gs://gemini-image-finetuning-001/train/train.jsonl',\n",
              "  'validationDatasetUri': 'gs://gemini-image-finetuning-001/val/val.jsonl',\n",
              "  'hyperParameters': {}},\n",
              " 'state': 'JOB_STATE_PENDING',\n",
              " 'createTime': '2025-03-10T16:49:55.096893Z',\n",
              " 'updateTime': '2025-03-10T16:49:55.096893Z'}"
            ]
          },
          "execution_count": 44,
          "metadata": {},
          "output_type": "execute_result"
        }
      ],
      "source": [
        "sft_tuning_job.to_dict()"
      ]
    },
    {
      "cell_type": "markdown",
      "metadata": {
        "id": "RE1a3AgRsqJh"
      },
      "source": [
        "**Note: Tuning time depends on several factors, such as training data size, number of epochs, learning rate multiplier, etc.**"
      ]
    },
    {
      "cell_type": "markdown",
      "metadata": {
        "id": "qHlfSLjKsruX"
      },
      "source": [
        "<div class=\"alert alert-block alert-warning\">\n",
        "<b>⚠️ It will take 30-40 mins for the model tuning job to complete on the provided dataset and set configurations/hyperparameters. ⚠️</b>\n",
        "</div>"
      ]
    },
    {
      "cell_type": "code",
      "execution_count": 45,
      "metadata": {
        "id": "97EUpJwisv_Q"
      },
      "outputs": [
        {
          "data": {
            "text/html": [
              "\n",
              "        \n",
              "    <link rel=\"stylesheet\" href=\"https://fonts.googleapis.com/icon?family=Material+Icons\">\n",
              "    <style>\n",
              "      .view-vertex-resource,\n",
              "      .view-vertex-resource:hover,\n",
              "      .view-vertex-resource:visited {\n",
              "        position: relative;\n",
              "        display: inline-flex;\n",
              "        flex-direction: row;\n",
              "        height: 32px;\n",
              "        padding: 0 12px;\n",
              "          margin: 4px 18px;\n",
              "        gap: 4px;\n",
              "        border-radius: 4px;\n",
              "\n",
              "        align-items: center;\n",
              "        justify-content: center;\n",
              "        background-color: rgb(255, 255, 255);\n",
              "        color: rgb(51, 103, 214);\n",
              "\n",
              "        font-family: Roboto,\"Helvetica Neue\",sans-serif;\n",
              "        font-size: 13px;\n",
              "        font-weight: 500;\n",
              "        text-transform: uppercase;\n",
              "        text-decoration: none !important;\n",
              "\n",
              "        transition: box-shadow 280ms cubic-bezier(0.4, 0, 0.2, 1) 0s;\n",
              "        box-shadow: 0px 3px 1px -2px rgba(0,0,0,0.2), 0px 2px 2px 0px rgba(0,0,0,0.14), 0px 1px 5px 0px rgba(0,0,0,0.12);\n",
              "      }\n",
              "      .view-vertex-resource:active {\n",
              "        box-shadow: 0px 5px 5px -3px rgba(0,0,0,0.2),0px 8px 10px 1px rgba(0,0,0,0.14),0px 3px 14px 2px rgba(0,0,0,0.12);\n",
              "      }\n",
              "      .view-vertex-resource:active .view-vertex-ripple::before {\n",
              "        position: absolute;\n",
              "        top: 0;\n",
              "        bottom: 0;\n",
              "        left: 0;\n",
              "        right: 0;\n",
              "        border-radius: 4px;\n",
              "        pointer-events: none;\n",
              "\n",
              "        content: '';\n",
              "        background-color: rgb(51, 103, 214);\n",
              "        opacity: 0.12;\n",
              "      }\n",
              "      .view-vertex-icon {\n",
              "        font-size: 18px;\n",
              "      }\n",
              "    </style>\n",
              "  \n",
              "        <a class=\"view-vertex-resource\" id=\"view-vertex-resource-1687c48f-fcfd-426e-894e-842671ad790a\" href=\"#view-view-vertex-resource-1687c48f-fcfd-426e-894e-842671ad790a\">\n",
              "          <span class=\"material-icons view-vertex-icon\">science</span>\n",
              "          <span>View Experiment</span>\n",
              "        </a>\n",
              "        \n",
              "        <script>\n",
              "          (function () {\n",
              "            const link = document.getElementById('view-vertex-resource-1687c48f-fcfd-426e-894e-842671ad790a');\n",
              "            link.addEventListener('click', (e) => {\n",
              "              if (window.google?.colab?.openUrl) {\n",
              "                window.google.colab.openUrl('https://console.cloud.google.com/vertex-ai/experiments/locations/us-central1/experiments/tuning-experiment-20250310095028168551/runs?project=cloud-llm-preview1');\n",
              "              } else {\n",
              "                window.open('https://console.cloud.google.com/vertex-ai/experiments/locations/us-central1/experiments/tuning-experiment-20250310095028168551/runs?project=cloud-llm-preview1', '_blank');\n",
              "              }\n",
              "              e.stopPropagation();\n",
              "              e.preventDefault();\n",
              "            });\n",
              "          })();\n",
              "        </script>\n",
              "    "
            ],
            "text/plain": [
              "<IPython.core.display.HTML object>"
            ]
          },
          "metadata": {},
          "output_type": "display_data"
        },
        {
          "name": "stdout",
          "output_type": "stream",
          "text": [
            "CPU times: user 10.2 s, sys: 1.81 s, total: 12 s\n",
            "Wall time: 30min 29s\n"
          ]
        }
      ],
      "source": [
        "%%time\n",
        "# Wait for job completion\n",
        "while not sft_tuning_job.refresh().has_ended:\n",
        "    time.sleep(60)"
      ]
    },
    {
      "cell_type": "code",
      "execution_count": 46,
      "metadata": {
        "id": "c-72sxLLgR1O"
      },
      "outputs": [
        {
          "data": {
            "text/plain": [
              "{'name': 'projects/801452371447/locations/us-central1/tuningJobs/7625858624690061312',\n",
              " 'tunedModelDisplayName': 'gemini-2.0-image-fine-tuning-test',\n",
              " 'baseModel': 'gemini-2.0-flash-001',\n",
              " 'supervisedTuningSpec': {'trainingDatasetUri': 'gs://gemini-image-finetuning-001/train/train.jsonl',\n",
              "  'validationDatasetUri': 'gs://gemini-image-finetuning-001/val/val.jsonl',\n",
              "  'hyperParameters': {'epochCount': '40',\n",
              "   'learningRateMultiplier': 0.5,\n",
              "   'adapterSize': 'ADAPTER_SIZE_FOUR'}},\n",
              " 'state': 'JOB_STATE_SUCCEEDED',\n",
              " 'createTime': '2025-03-10T16:49:55.096893Z',\n",
              " 'startTime': '2025-03-10T16:49:55.133726Z',\n",
              " 'endTime': '2025-03-10T17:20:08.721930Z',\n",
              " 'updateTime': '2025-03-10T17:20:08.721930Z',\n",
              " 'experiment': 'projects/801452371447/locations/us-central1/metadataStores/default/contexts/tuning-experiment-20250310095028168551',\n",
              " 'tunedModel': {'model': 'projects/801452371447/locations/us-central1/models/4596184003987374080@1',\n",
              "  'endpoint': 'projects/801452371447/locations/us-central1/endpoints/4867904113536401408'},\n",
              " 'tuningDataStats': {'supervisedTuningDataStats': {'tuningDatasetExampleCount': '90',\n",
              "   'userInputTokenDistribution': {'sum': '24300',\n",
              "    'min': 270.0,\n",
              "    'max': 270.0,\n",
              "    'mean': 270.0,\n",
              "    'median': 270.0,\n",
              "    'p5': 270.0,\n",
              "    'p95': 270.0,\n",
              "    'buckets': [{'count': 90.0, 'left': 270.0, 'right': 270.0}]},\n",
              "   'userOutputTokenDistribution': {'sum': '6453',\n",
              "    'min': 25.0,\n",
              "    'max': 128.0,\n",
              "    'mean': 71.7,\n",
              "    'median': 71.0,\n",
              "    'p5': 38.0,\n",
              "    'p95': 109.0,\n",
              "    'buckets': [{'count': 7.0, 'left': 25.0, 'right': 42.0},\n",
              "     {'count': 18.0, 'left': 43.0, 'right': 59.0},\n",
              "     {'count': 33.0, 'left': 60.0, 'right': 76.0},\n",
              "     {'count': 22.0, 'left': 77.0, 'right': 94.0},\n",
              "     {'count': 8.0, 'left': 95.0, 'right': 111.0},\n",
              "     {'count': 2.0, 'left': 112.0, 'right': 128.0}]},\n",
              "   'userMessagePerExampleDistribution': {'sum': '180',\n",
              "    'min': 2.0,\n",
              "    'max': 2.0,\n",
              "    'mean': 2.0,\n",
              "    'median': 2.0,\n",
              "    'p5': 2.0,\n",
              "    'p95': 2.0,\n",
              "    'buckets': [{'count': 90.0, 'left': 2.0, 'right': 2.0}]},\n",
              "   'userDatasetExamples': [{'role': 'user',\n",
              "     'parts': [{'text': '<media0>Describe this image in detail that captures the essence of it.'}]},\n",
              "    {'role': 'model',\n",
              "     'parts': [{'text': \"A brown and white cat with a red collar looks to the left, its eyes shining yellow. The cat's fur is long and silky, and its whiskers are long and prominent. The cat's nose is pink, and its ears are pointy. The cat's eyes are yellow, and its fur is brown and white. The cat is standing in the dark, and its head is turned to the side.\"}]},\n",
              "    {'role': 'user',\n",
              "     'parts': [{'text': '<media0>Describe this image in detail that captures the essence of it.'}]},\n",
              "    {'role': 'model',\n",
              "     'parts': [{'text': \"A goat stands proudly in a field of tall grass, its horns curved and its eyes watchful. The goat's coat is white and brown, with a distinctive black spot on its face. The sky is clear and blue, with fluffy white clouds drifting above. The grass is tall and green, and the weeds are tall and spindly. The goat's horns are long and curved, and its eyes are bright and alert. The goat is standing tal...\"}]},\n",
              "    {'role': 'user',\n",
              "     'parts': [{'text': '<media0>Describe this image in detail that captures the essence of it.'}]},\n",
              "    {'role': 'model',\n",
              "     'parts': [{'text': \"A black dog stands in the green grass, its tongue hanging out and its eyes shining. The dog's black fur and brown eyes are prominent features in the image. The dog's collar and tag are visible, as is its left ear and the ring on its collar. The grass is lush and green, and the trees in the background are tall and imposing. The dog's mouth is open, and its tongue is pink. The dog's eyes are brow...\"}]}],\n",
              "   'totalBillableTokenCount': '30753'}}}"
            ]
          },
          "execution_count": 46,
          "metadata": {},
          "output_type": "execute_result"
        }
      ],
      "source": [
        "sft_tuning_job.to_dict()"
      ]
    },
    {
      "cell_type": "markdown",
      "metadata": {
        "id": "5680557f-67bd-4e8c-a383-02ab655246c5"
      },
      "source": [
        "## Evaluation Post-tuning"
      ]
    },
    {
      "cell_type": "markdown",
      "metadata": {
        "id": "c3d1f75bddea"
      },
      "source": [
        "- Evaluate the Gemini model on the validation dataset with tuned model."
      ]
    },
    {
      "cell_type": "code",
      "execution_count": 47,
      "metadata": {
        "id": "bK2Cyrhavw-Y"
      },
      "outputs": [
        {
          "data": {
            "text/html": [
              "\n",
              "        \n",
              "    <link rel=\"stylesheet\" href=\"https://fonts.googleapis.com/icon?family=Material+Icons\">\n",
              "    <style>\n",
              "      .view-vertex-resource,\n",
              "      .view-vertex-resource:hover,\n",
              "      .view-vertex-resource:visited {\n",
              "        position: relative;\n",
              "        display: inline-flex;\n",
              "        flex-direction: row;\n",
              "        height: 32px;\n",
              "        padding: 0 12px;\n",
              "          margin: 4px 18px;\n",
              "        gap: 4px;\n",
              "        border-radius: 4px;\n",
              "\n",
              "        align-items: center;\n",
              "        justify-content: center;\n",
              "        background-color: rgb(255, 255, 255);\n",
              "        color: rgb(51, 103, 214);\n",
              "\n",
              "        font-family: Roboto,\"Helvetica Neue\",sans-serif;\n",
              "        font-size: 13px;\n",
              "        font-weight: 500;\n",
              "        text-transform: uppercase;\n",
              "        text-decoration: none !important;\n",
              "\n",
              "        transition: box-shadow 280ms cubic-bezier(0.4, 0, 0.2, 1) 0s;\n",
              "        box-shadow: 0px 3px 1px -2px rgba(0,0,0,0.2), 0px 2px 2px 0px rgba(0,0,0,0.14), 0px 1px 5px 0px rgba(0,0,0,0.12);\n",
              "      }\n",
              "      .view-vertex-resource:active {\n",
              "        box-shadow: 0px 5px 5px -3px rgba(0,0,0,0.2),0px 8px 10px 1px rgba(0,0,0,0.14),0px 3px 14px 2px rgba(0,0,0,0.12);\n",
              "      }\n",
              "      .view-vertex-resource:active .view-vertex-ripple::before {\n",
              "        position: absolute;\n",
              "        top: 0;\n",
              "        bottom: 0;\n",
              "        left: 0;\n",
              "        right: 0;\n",
              "        border-radius: 4px;\n",
              "        pointer-events: none;\n",
              "\n",
              "        content: '';\n",
              "        background-color: rgb(51, 103, 214);\n",
              "        opacity: 0.12;\n",
              "      }\n",
              "      .view-vertex-icon {\n",
              "        font-size: 18px;\n",
              "      }\n",
              "    </style>\n",
              "  \n",
              "        <a class=\"view-vertex-resource\" id=\"view-vertex-resource-b7e53004-a39d-456c-a95b-ec63f155978c\" href=\"#view-view-vertex-resource-b7e53004-a39d-456c-a95b-ec63f155978c\">\n",
              "          <span class=\"material-icons view-vertex-icon\">tune</span>\n",
              "          <span>View Tuning Job</span>\n",
              "        </a>\n",
              "        \n",
              "        <script>\n",
              "          (function () {\n",
              "            const link = document.getElementById('view-vertex-resource-b7e53004-a39d-456c-a95b-ec63f155978c');\n",
              "            link.addEventListener('click', (e) => {\n",
              "              if (window.google?.colab?.openUrl) {\n",
              "                window.google.colab.openUrl('https://console.cloud.google.com/vertex-ai/generative/language/locations/us-central1/tuning/tuningJob/7625858624690061312?project=801452371447');\n",
              "              } else {\n",
              "                window.open('https://console.cloud.google.com/vertex-ai/generative/language/locations/us-central1/tuning/tuningJob/7625858624690061312?project=801452371447', '_blank');\n",
              "              }\n",
              "              e.stopPropagation();\n",
              "              e.preventDefault();\n",
              "            });\n",
              "          })();\n",
              "        </script>\n",
              "    "
            ],
            "text/plain": [
              "<IPython.core.display.HTML object>"
            ]
          },
          "metadata": {},
          "output_type": "display_data"
        }
      ],
      "source": [
        "tuning_job = sft.SupervisedTuningJob(job_name)\n",
        "\n",
        "# tuned model endpoint name\n",
        "tuned_model_endpoint_name = tuning_job.tuned_model_endpoint_name\n",
        "\n",
        "tuned_model = GenerativeModel(tuned_model_endpoint_name)"
      ]
    },
    {
      "cell_type": "code",
      "execution_count": 48,
      "metadata": {
        "id": "l4ZnefpvwFeN"
      },
      "outputs": [
        {
          "data": {
            "application/vnd.google.colaboratory.intrinsic+json": {
              "type": "string"
            },
            "text/plain": [
              "'projects/801452371447/locations/us-central1/metadataStores/default/contexts/tuning-experiment-20250310095028168551'"
            ]
          },
          "execution_count": 48,
          "metadata": {},
          "output_type": "execute_result"
        }
      ],
      "source": [
        "# Get experiment resource name from tuning job.\n",
        "experiment_name = tuning_job.experiment.resource_name\n",
        "experiment_name"
      ]
    },
    {
      "cell_type": "code",
      "execution_count": 49,
      "metadata": {
        "id": "M1Ce0oIFwtoN"
      },
      "outputs": [
        {
          "data": {
            "application/vnd.google.colaboratory.intrinsic+json": {
              "type": "string"
            },
            "text/plain": [
              "'projects/801452371447/locations/us-central1/models/4596184003987374080@1'"
            ]
          },
          "execution_count": 49,
          "metadata": {},
          "output_type": "execute_result"
        }
      ],
      "source": [
        "# tuned model name\n",
        "tuned_model_name = tuning_job.tuned_model_name\n",
        "tuned_model_name"
      ]
    },
    {
      "cell_type": "markdown",
      "metadata": {
        "id": "w2OoRp4OuUlC"
      },
      "source": [
        "- Get a prediction from base model"
      ]
    },
    {
      "cell_type": "code",
      "execution_count": 50,
      "metadata": {
        "id": "Bp4yHwjNJbLQ"
      },
      "outputs": [
        {
          "name": "stdout",
          "output_type": "stream",
          "text": [
            "Here's a detailed description of the image:\n",
            "\n",
            "**Overall Impression:** The image presents a close-up, artistic composition focusing on texture, form, and light. It evokes a sense of elegance and understated luxury.\n",
            "\n",
            "**Subject:** The primary subject is a woman's arm and hand, adorned with a flowing, peach-colored blouse featuring a dramatically puffed sleeve. The hand rests gently on a white, textured surface.\n",
            "\n",
            "**Color Palette:** The color scheme is muted and warm. The peach of the blouse contrasts subtly with the cool white of the background. The skin tone of the hand adds another layer of warmth.\n",
            "\n",
            "**Lighting:** The lighting is strong and directional, creating deep shadows that emphasize the folds and textures of the fabric and the surface. The light source appears to be coming from the side, casting long shadows from the hand and sleeve.\n",
            "\n",
            "**Composition:** The composition is carefully arranged. The arm and sleeve are positioned diagonally, leading the eye through the image. The hand is placed in the lower right corner, grounding the composition. The white surface provides a clean, minimalist backdrop that allows the other elements to stand out.\n",
            "\n",
            "**Details:**\n",
            "\n",
            "*   **Blouse:** The blouse is made of a soft, flowing fabric that drapes beautifully. The puffed sleeve is the focal point, with its intricate folds and gathers.\n",
            "*   **Hand:** The hand is delicate and well-manicured, with long, natural nails. The fingers are slightly curved, suggesting a relaxed pose.\n",
            "*   **Surface:** The white surface appears to be made of concrete or plaster, with a rough, textured finish. The texture adds visual interest and contrasts with the smoothness of the fabric.\n",
            "\n",
            "**Mood:** The image conveys a sense of calm, sophistication, and quiet beauty. The soft colors, flowing fabric, and gentle pose create a feeling of serenity.\n"
          ]
        }
      ],
      "source": [
        "response = generation_model.generate_content(\n",
        "    contents=[Part.from_uri(query_image_uri, \"image/jpeg\"), task_prompt],\n",
        "    # Optional config\n",
        "    generation_config=GenerationConfig(\n",
        "        temperature=0.0,\n",
        "    ),\n",
        ")\n",
        "\n",
        "print(response.text.strip())"
      ]
    },
    {
      "cell_type": "markdown",
      "metadata": {
        "id": "oVEEGZ-cuYx2"
      },
      "source": [
        "- Get a prediction from tuned model"
      ]
    },
    {
      "cell_type": "code",
      "execution_count": 51,
      "metadata": {
        "id": "VxjhXCupNkR9"
      },
      "outputs": [
        {
          "name": "stdout",
          "output_type": "stream",
          "text": [
            "A woman wearing a long-sleeved shirt stands next to a white wall. The shirt is pink with puffy sleeves and a relaxed fit. The woman's hand is on the wall, and her fingers are extended. The wall is white, and the sky is clear. The woman's shirt is flowing, and her sleeves are puffed.\n"
          ]
        }
      ],
      "source": [
        "response = tuned_model.generate_content(\n",
        "    contents=[Part.from_uri(query_image_uri, \"image/jpeg\"), task_prompt],\n",
        "    # Optional config\n",
        "    generation_config=GenerationConfig(\n",
        "        temperature=0.0,\n",
        "    ),\n",
        ")\n",
        "\n",
        "print(response.text.strip())"
      ]
    },
    {
      "cell_type": "markdown",
      "metadata": {
        "id": "s_1-lbJZugY0"
      },
      "source": [
        "- Evaluate the tuned model on entire validation set"
      ]
    },
    {
      "cell_type": "markdown",
      "metadata": {
        "id": "B7sRtCFCUiag"
      },
      "source": [
        "<div class=\"alert alert-block alert-warning\">\n",
        "<b>⚠️ It will take ~1 min for the model to generate predictions on the provided validation dataset. ⚠️</b>\n",
        "</div>"
      ]
    },
    {
      "cell_type": "code",
      "execution_count": 52,
      "metadata": {
        "id": "pWxg3i3a391K"
      },
      "outputs": [
        {
          "name": "stderr",
          "output_type": "stream",
          "text": [
            "100%|██████████| 10/10 [00:47<00:00,  4.77s/it]"
          ]
        },
        {
          "name": "stdout",
          "output_type": "stream",
          "text": [
            "CPU times: user 322 ms, sys: 63.2 ms, total: 386 ms\n",
            "Wall time: 47.7 s\n"
          ]
        },
        {
          "name": "stderr",
          "output_type": "stream",
          "text": [
            "\n"
          ]
        }
      ],
      "source": [
        "%%time\n",
        "predictions_tuned = run_eval(val_df, model=tuned_model)"
      ]
    },
    {
      "cell_type": "code",
      "execution_count": 53,
      "metadata": {
        "id": "V0wJNPEf5-6I"
      },
      "outputs": [],
      "source": [
        "val_df.loc[:, \"tunedPredictions\"] = predictions_tuned"
      ]
    },
    {
      "cell_type": "code",
      "execution_count": 54,
      "metadata": {
        "id": "og4hVmwCuuPW"
      },
      "outputs": [
        {
          "data": {
            "application/vnd.google.colaboratory.intrinsic+json": {
              "summary": "{\n  \"name\": \"evaluation_df_post_tuning_stats\",\n  \"rows\": 10,\n  \"fields\": [\n    {\n      \"column\": \"rouge1_precision\",\n      \"properties\": {\n        \"dtype\": \"number\",\n        \"std\": 0.11147080229897326,\n        \"min\": 0.29333333333333333,\n        \"max\": 0.6493506493506493,\n        \"num_unique_values\": 10,\n        \"samples\": [\n          0.6493506493506493,\n          0.5104166666666666,\n          0.4375\n        ],\n        \"semantic_type\": \"\",\n        \"description\": \"\"\n      }\n    },\n    {\n      \"column\": \"rouge1_recall\",\n      \"properties\": {\n        \"dtype\": \"number\",\n        \"std\": 0.11118654942086412,\n        \"min\": 0.46774193548387094,\n        \"max\": 0.8596491228070176,\n        \"num_unique_values\": 10,\n        \"samples\": [\n          0.6410256410256411,\n          0.8596491228070176,\n          0.6829268292682927\n        ],\n        \"semantic_type\": \"\",\n        \"description\": \"\"\n      }\n    },\n    {\n      \"column\": \"rouge1_fmeasure\",\n      \"properties\": {\n        \"dtype\": \"number\",\n        \"std\": 0.08133723236869378,\n        \"min\": 0.42718446601941745,\n        \"max\": 0.6451612903225807,\n        \"num_unique_values\": 10,\n        \"samples\": [\n          0.6451612903225807,\n          0.6405228758169935,\n          0.5333333333333333\n        ],\n        \"semantic_type\": \"\",\n        \"description\": \"\"\n      }\n    },\n    {\n      \"column\": \"rouge2_precision\",\n      \"properties\": {\n        \"dtype\": \"number\",\n        \"std\": 0.08421423377774301,\n        \"min\": 0.13924050632911392,\n        \"max\": 0.3815789473684211,\n        \"num_unique_values\": 10,\n        \"samples\": [\n          0.3815789473684211,\n          0.3368421052631579,\n          0.15873015873015872\n        ],\n        \"semantic_type\": \"\",\n        \"description\": \"\"\n      }\n    },\n    {\n      \"column\": \"rouge2_recall\",\n      \"properties\": {\n        \"dtype\": \"number\",\n        \"std\": 0.13097814115171957,\n        \"min\": 0.18032786885245902,\n        \"max\": 0.5714285714285714,\n        \"num_unique_values\": 9,\n        \"samples\": [\n          0.37662337662337664,\n          0.5714285714285714,\n          0.25\n        ],\n        \"semantic_type\": \"\",\n        \"description\": \"\"\n      }\n    },\n    {\n      \"column\": \"rouge2_fmeasure\",\n      \"properties\": {\n        \"dtype\": \"number\",\n        \"std\": 0.08931560240535187,\n        \"min\": 0.18803418803418803,\n        \"max\": 0.423841059602649,\n        \"num_unique_values\": 9,\n        \"samples\": [\n          0.3790849673202615,\n          0.423841059602649,\n          0.24000000000000002\n        ],\n        \"semantic_type\": \"\",\n        \"description\": \"\"\n      }\n    },\n    {\n      \"column\": \"rougeL_precision\",\n      \"properties\": {\n        \"dtype\": \"number\",\n        \"std\": 0.06460706702360222,\n        \"min\": 0.2375,\n        \"max\": 0.4155844155844156,\n        \"num_unique_values\": 10,\n        \"samples\": [\n          0.4155844155844156,\n          0.34375,\n          0.296875\n        ],\n        \"semantic_type\": \"\",\n        \"description\": \"\"\n      }\n    },\n    {\n      \"column\": \"rougeL_recall\",\n      \"properties\": {\n        \"dtype\": \"number\",\n        \"std\": 0.09034325572928582,\n        \"min\": 0.3387096774193548,\n        \"max\": 0.6428571428571429,\n        \"num_unique_values\": 10,\n        \"samples\": [\n          0.41025641025641024,\n          0.5789473684210527,\n          0.4634146341463415\n        ],\n        \"semantic_type\": \"\",\n        \"description\": \"\"\n      }\n    },\n    {\n      \"column\": \"rougeL_fmeasure\",\n      \"properties\": {\n        \"dtype\": \"number\",\n        \"std\": 0.04120048074566194,\n        \"min\": 0.31932773109243695,\n        \"max\": 0.45390070921985815,\n        \"num_unique_values\": 10,\n        \"samples\": [\n          0.4129032258064516,\n          0.4313725490196078,\n          0.3619047619047619\n        ],\n        \"semantic_type\": \"\",\n        \"description\": \"\"\n      }\n    }\n  ]\n}",
              "type": "dataframe",
              "variable_name": "evaluation_df_post_tuning_stats"
            },
            "text/html": [
              "\n",
              "  <div id=\"df-6797f824-ed26-493b-8042-cd0817ad5437\" class=\"colab-df-container\">\n",
              "    <div>\n",
              "<style scoped>\n",
              "    .dataframe tbody tr th:only-of-type {\n",
              "        vertical-align: middle;\n",
              "    }\n",
              "\n",
              "    .dataframe tbody tr th {\n",
              "        vertical-align: top;\n",
              "    }\n",
              "\n",
              "    .dataframe thead th {\n",
              "        text-align: right;\n",
              "    }\n",
              "</style>\n",
              "<table border=\"1\" class=\"dataframe\">\n",
              "  <thead>\n",
              "    <tr style=\"text-align: right;\">\n",
              "      <th></th>\n",
              "      <th>rouge1_precision</th>\n",
              "      <th>rouge1_recall</th>\n",
              "      <th>rouge1_fmeasure</th>\n",
              "      <th>rouge2_precision</th>\n",
              "      <th>rouge2_recall</th>\n",
              "      <th>rouge2_fmeasure</th>\n",
              "      <th>rougeL_precision</th>\n",
              "      <th>rougeL_recall</th>\n",
              "      <th>rougeL_fmeasure</th>\n",
              "    </tr>\n",
              "  </thead>\n",
              "  <tbody>\n",
              "    <tr>\n",
              "      <th>0</th>\n",
              "      <td>0.508772</td>\n",
              "      <td>0.467742</td>\n",
              "      <td>0.487395</td>\n",
              "      <td>0.196429</td>\n",
              "      <td>0.180328</td>\n",
              "      <td>0.188034</td>\n",
              "      <td>0.368421</td>\n",
              "      <td>0.338710</td>\n",
              "      <td>0.352941</td>\n",
              "    </tr>\n",
              "    <tr>\n",
              "      <th>1</th>\n",
              "      <td>0.510417</td>\n",
              "      <td>0.859649</td>\n",
              "      <td>0.640523</td>\n",
              "      <td>0.336842</td>\n",
              "      <td>0.571429</td>\n",
              "      <td>0.423841</td>\n",
              "      <td>0.343750</td>\n",
              "      <td>0.578947</td>\n",
              "      <td>0.431373</td>\n",
              "    </tr>\n",
              "    <tr>\n",
              "      <th>2</th>\n",
              "      <td>0.293333</td>\n",
              "      <td>0.785714</td>\n",
              "      <td>0.427184</td>\n",
              "      <td>0.189189</td>\n",
              "      <td>0.518519</td>\n",
              "      <td>0.277228</td>\n",
              "      <td>0.240000</td>\n",
              "      <td>0.642857</td>\n",
              "      <td>0.349515</td>\n",
              "    </tr>\n",
              "    <tr>\n",
              "      <th>3</th>\n",
              "      <td>0.576923</td>\n",
              "      <td>0.714286</td>\n",
              "      <td>0.638298</td>\n",
              "      <td>0.350649</td>\n",
              "      <td>0.435484</td>\n",
              "      <td>0.388489</td>\n",
              "      <td>0.410256</td>\n",
              "      <td>0.507937</td>\n",
              "      <td>0.453901</td>\n",
              "    </tr>\n",
              "    <tr>\n",
              "      <th>4</th>\n",
              "      <td>0.325000</td>\n",
              "      <td>0.666667</td>\n",
              "      <td>0.436975</td>\n",
              "      <td>0.139241</td>\n",
              "      <td>0.289474</td>\n",
              "      <td>0.188034</td>\n",
              "      <td>0.237500</td>\n",
              "      <td>0.487179</td>\n",
              "      <td>0.319328</td>\n",
              "    </tr>\n",
              "    <tr>\n",
              "      <th>5</th>\n",
              "      <td>0.437500</td>\n",
              "      <td>0.682927</td>\n",
              "      <td>0.533333</td>\n",
              "      <td>0.158730</td>\n",
              "      <td>0.250000</td>\n",
              "      <td>0.194175</td>\n",
              "      <td>0.296875</td>\n",
              "      <td>0.463415</td>\n",
              "      <td>0.361905</td>\n",
              "    </tr>\n",
              "    <tr>\n",
              "      <th>6</th>\n",
              "      <td>0.575000</td>\n",
              "      <td>0.621622</td>\n",
              "      <td>0.597403</td>\n",
              "      <td>0.230769</td>\n",
              "      <td>0.250000</td>\n",
              "      <td>0.240000</td>\n",
              "      <td>0.375000</td>\n",
              "      <td>0.405405</td>\n",
              "      <td>0.389610</td>\n",
              "    </tr>\n",
              "    <tr>\n",
              "      <th>7</th>\n",
              "      <td>0.532468</td>\n",
              "      <td>0.546667</td>\n",
              "      <td>0.539474</td>\n",
              "      <td>0.223684</td>\n",
              "      <td>0.229730</td>\n",
              "      <td>0.226667</td>\n",
              "      <td>0.389610</td>\n",
              "      <td>0.400000</td>\n",
              "      <td>0.394737</td>\n",
              "    </tr>\n",
              "    <tr>\n",
              "      <th>8</th>\n",
              "      <td>0.649351</td>\n",
              "      <td>0.641026</td>\n",
              "      <td>0.645161</td>\n",
              "      <td>0.381579</td>\n",
              "      <td>0.376623</td>\n",
              "      <td>0.379085</td>\n",
              "      <td>0.415584</td>\n",
              "      <td>0.410256</td>\n",
              "      <td>0.412903</td>\n",
              "    </tr>\n",
              "    <tr>\n",
              "      <th>9</th>\n",
              "      <td>0.468085</td>\n",
              "      <td>0.637681</td>\n",
              "      <td>0.539877</td>\n",
              "      <td>0.215054</td>\n",
              "      <td>0.294118</td>\n",
              "      <td>0.248447</td>\n",
              "      <td>0.351064</td>\n",
              "      <td>0.478261</td>\n",
              "      <td>0.404908</td>\n",
              "    </tr>\n",
              "  </tbody>\n",
              "</table>\n",
              "</div>\n",
              "    <div class=\"colab-df-buttons\">\n",
              "\n",
              "  <div class=\"colab-df-container\">\n",
              "    <button class=\"colab-df-convert\" onclick=\"convertToInteractive('df-6797f824-ed26-493b-8042-cd0817ad5437')\"\n",
              "            title=\"Convert this dataframe to an interactive table.\"\n",
              "            style=\"display:none;\">\n",
              "\n",
              "  <svg xmlns=\"http://www.w3.org/2000/svg\" height=\"24px\" viewBox=\"0 -960 960 960\">\n",
              "    <path d=\"M120-120v-720h720v720H120Zm60-500h600v-160H180v160Zm220 220h160v-160H400v160Zm0 220h160v-160H400v160ZM180-400h160v-160H180v160Zm440 0h160v-160H620v160ZM180-180h160v-160H180v160Zm440 0h160v-160H620v160Z\"/>\n",
              "  </svg>\n",
              "    </button>\n",
              "\n",
              "  <style>\n",
              "    .colab-df-container {\n",
              "      display:flex;\n",
              "      gap: 12px;\n",
              "    }\n",
              "\n",
              "    .colab-df-convert {\n",
              "      background-color: #E8F0FE;\n",
              "      border: none;\n",
              "      border-radius: 50%;\n",
              "      cursor: pointer;\n",
              "      display: none;\n",
              "      fill: #1967D2;\n",
              "      height: 32px;\n",
              "      padding: 0 0 0 0;\n",
              "      width: 32px;\n",
              "    }\n",
              "\n",
              "    .colab-df-convert:hover {\n",
              "      background-color: #E2EBFA;\n",
              "      box-shadow: 0px 1px 2px rgba(60, 64, 67, 0.3), 0px 1px 3px 1px rgba(60, 64, 67, 0.15);\n",
              "      fill: #174EA6;\n",
              "    }\n",
              "\n",
              "    .colab-df-buttons div {\n",
              "      margin-bottom: 4px;\n",
              "    }\n",
              "\n",
              "    [theme=dark] .colab-df-convert {\n",
              "      background-color: #3B4455;\n",
              "      fill: #D2E3FC;\n",
              "    }\n",
              "\n",
              "    [theme=dark] .colab-df-convert:hover {\n",
              "      background-color: #434B5C;\n",
              "      box-shadow: 0px 1px 3px 1px rgba(0, 0, 0, 0.15);\n",
              "      filter: drop-shadow(0px 1px 2px rgba(0, 0, 0, 0.3));\n",
              "      fill: #FFFFFF;\n",
              "    }\n",
              "  </style>\n",
              "\n",
              "    <script>\n",
              "      const buttonEl =\n",
              "        document.querySelector('#df-6797f824-ed26-493b-8042-cd0817ad5437 button.colab-df-convert');\n",
              "      buttonEl.style.display =\n",
              "        google.colab.kernel.accessAllowed ? 'block' : 'none';\n",
              "\n",
              "      async function convertToInteractive(key) {\n",
              "        const element = document.querySelector('#df-6797f824-ed26-493b-8042-cd0817ad5437');\n",
              "        const dataTable =\n",
              "          await google.colab.kernel.invokeFunction('convertToInteractive',\n",
              "                                                    [key], {});\n",
              "        if (!dataTable) return;\n",
              "\n",
              "        const docLinkHtml = 'Like what you see? Visit the ' +\n",
              "          '<a target=\"_blank\" href=https://colab.research.google.com/notebooks/data_table.ipynb>data table notebook</a>'\n",
              "          + ' to learn more about interactive tables.';\n",
              "        element.innerHTML = '';\n",
              "        dataTable['output_type'] = 'display_data';\n",
              "        await google.colab.output.renderOutput(dataTable, element);\n",
              "        const docLink = document.createElement('div');\n",
              "        docLink.innerHTML = docLinkHtml;\n",
              "        element.appendChild(docLink);\n",
              "      }\n",
              "    </script>\n",
              "  </div>\n",
              "\n",
              "\n",
              "<div id=\"df-c5c6f590-3fb6-4f8c-a01d-6877ccb77408\">\n",
              "  <button class=\"colab-df-quickchart\" onclick=\"quickchart('df-c5c6f590-3fb6-4f8c-a01d-6877ccb77408')\"\n",
              "            title=\"Suggest charts\"\n",
              "            style=\"display:none;\">\n",
              "\n",
              "<svg xmlns=\"http://www.w3.org/2000/svg\" height=\"24px\"viewBox=\"0 0 24 24\"\n",
              "     width=\"24px\">\n",
              "    <g>\n",
              "        <path d=\"M19 3H5c-1.1 0-2 .9-2 2v14c0 1.1.9 2 2 2h14c1.1 0 2-.9 2-2V5c0-1.1-.9-2-2-2zM9 17H7v-7h2v7zm4 0h-2V7h2v10zm4 0h-2v-4h2v4z\"/>\n",
              "    </g>\n",
              "</svg>\n",
              "  </button>\n",
              "\n",
              "<style>\n",
              "  .colab-df-quickchart {\n",
              "      --bg-color: #E8F0FE;\n",
              "      --fill-color: #1967D2;\n",
              "      --hover-bg-color: #E2EBFA;\n",
              "      --hover-fill-color: #174EA6;\n",
              "      --disabled-fill-color: #AAA;\n",
              "      --disabled-bg-color: #DDD;\n",
              "  }\n",
              "\n",
              "  [theme=dark] .colab-df-quickchart {\n",
              "      --bg-color: #3B4455;\n",
              "      --fill-color: #D2E3FC;\n",
              "      --hover-bg-color: #434B5C;\n",
              "      --hover-fill-color: #FFFFFF;\n",
              "      --disabled-bg-color: #3B4455;\n",
              "      --disabled-fill-color: #666;\n",
              "  }\n",
              "\n",
              "  .colab-df-quickchart {\n",
              "    background-color: var(--bg-color);\n",
              "    border: none;\n",
              "    border-radius: 50%;\n",
              "    cursor: pointer;\n",
              "    display: none;\n",
              "    fill: var(--fill-color);\n",
              "    height: 32px;\n",
              "    padding: 0;\n",
              "    width: 32px;\n",
              "  }\n",
              "\n",
              "  .colab-df-quickchart:hover {\n",
              "    background-color: var(--hover-bg-color);\n",
              "    box-shadow: 0 1px 2px rgba(60, 64, 67, 0.3), 0 1px 3px 1px rgba(60, 64, 67, 0.15);\n",
              "    fill: var(--button-hover-fill-color);\n",
              "  }\n",
              "\n",
              "  .colab-df-quickchart-complete:disabled,\n",
              "  .colab-df-quickchart-complete:disabled:hover {\n",
              "    background-color: var(--disabled-bg-color);\n",
              "    fill: var(--disabled-fill-color);\n",
              "    box-shadow: none;\n",
              "  }\n",
              "\n",
              "  .colab-df-spinner {\n",
              "    border: 2px solid var(--fill-color);\n",
              "    border-color: transparent;\n",
              "    border-bottom-color: var(--fill-color);\n",
              "    animation:\n",
              "      spin 1s steps(1) infinite;\n",
              "  }\n",
              "\n",
              "  @keyframes spin {\n",
              "    0% {\n",
              "      border-color: transparent;\n",
              "      border-bottom-color: var(--fill-color);\n",
              "      border-left-color: var(--fill-color);\n",
              "    }\n",
              "    20% {\n",
              "      border-color: transparent;\n",
              "      border-left-color: var(--fill-color);\n",
              "      border-top-color: var(--fill-color);\n",
              "    }\n",
              "    30% {\n",
              "      border-color: transparent;\n",
              "      border-left-color: var(--fill-color);\n",
              "      border-top-color: var(--fill-color);\n",
              "      border-right-color: var(--fill-color);\n",
              "    }\n",
              "    40% {\n",
              "      border-color: transparent;\n",
              "      border-right-color: var(--fill-color);\n",
              "      border-top-color: var(--fill-color);\n",
              "    }\n",
              "    60% {\n",
              "      border-color: transparent;\n",
              "      border-right-color: var(--fill-color);\n",
              "    }\n",
              "    80% {\n",
              "      border-color: transparent;\n",
              "      border-right-color: var(--fill-color);\n",
              "      border-bottom-color: var(--fill-color);\n",
              "    }\n",
              "    90% {\n",
              "      border-color: transparent;\n",
              "      border-bottom-color: var(--fill-color);\n",
              "    }\n",
              "  }\n",
              "</style>\n",
              "\n",
              "  <script>\n",
              "    async function quickchart(key) {\n",
              "      const quickchartButtonEl =\n",
              "        document.querySelector('#' + key + ' button');\n",
              "      quickchartButtonEl.disabled = true;  // To prevent multiple clicks.\n",
              "      quickchartButtonEl.classList.add('colab-df-spinner');\n",
              "      try {\n",
              "        const charts = await google.colab.kernel.invokeFunction(\n",
              "            'suggestCharts', [key], {});\n",
              "      } catch (error) {\n",
              "        console.error('Error during call to suggestCharts:', error);\n",
              "      }\n",
              "      quickchartButtonEl.classList.remove('colab-df-spinner');\n",
              "      quickchartButtonEl.classList.add('colab-df-quickchart-complete');\n",
              "    }\n",
              "    (() => {\n",
              "      let quickchartButtonEl =\n",
              "        document.querySelector('#df-c5c6f590-3fb6-4f8c-a01d-6877ccb77408 button');\n",
              "      quickchartButtonEl.style.display =\n",
              "        google.colab.kernel.accessAllowed ? 'block' : 'none';\n",
              "    })();\n",
              "  </script>\n",
              "</div>\n",
              "\n",
              "  <div id=\"id_0d1ac790-b14c-46d6-ad94-6f1886fc6b43\">\n",
              "    <style>\n",
              "      .colab-df-generate {\n",
              "        background-color: #E8F0FE;\n",
              "        border: none;\n",
              "        border-radius: 50%;\n",
              "        cursor: pointer;\n",
              "        display: none;\n",
              "        fill: #1967D2;\n",
              "        height: 32px;\n",
              "        padding: 0 0 0 0;\n",
              "        width: 32px;\n",
              "      }\n",
              "\n",
              "      .colab-df-generate:hover {\n",
              "        background-color: #E2EBFA;\n",
              "        box-shadow: 0px 1px 2px rgba(60, 64, 67, 0.3), 0px 1px 3px 1px rgba(60, 64, 67, 0.15);\n",
              "        fill: #174EA6;\n",
              "      }\n",
              "\n",
              "      [theme=dark] .colab-df-generate {\n",
              "        background-color: #3B4455;\n",
              "        fill: #D2E3FC;\n",
              "      }\n",
              "\n",
              "      [theme=dark] .colab-df-generate:hover {\n",
              "        background-color: #434B5C;\n",
              "        box-shadow: 0px 1px 3px 1px rgba(0, 0, 0, 0.15);\n",
              "        filter: drop-shadow(0px 1px 2px rgba(0, 0, 0, 0.3));\n",
              "        fill: #FFFFFF;\n",
              "      }\n",
              "    </style>\n",
              "    <button class=\"colab-df-generate\" onclick=\"generateWithVariable('evaluation_df_post_tuning_stats')\"\n",
              "            title=\"Generate code using this dataframe.\"\n",
              "            style=\"display:none;\">\n",
              "\n",
              "  <svg xmlns=\"http://www.w3.org/2000/svg\" height=\"24px\"viewBox=\"0 0 24 24\"\n",
              "       width=\"24px\">\n",
              "    <path d=\"M7,19H8.4L18.45,9,17,7.55,7,17.6ZM5,21V16.75L18.45,3.32a2,2,0,0,1,2.83,0l1.4,1.43a1.91,1.91,0,0,1,.58,1.4,1.91,1.91,0,0,1-.58,1.4L9.25,21ZM18.45,9,17,7.55Zm-12,3A5.31,5.31,0,0,0,4.9,8.1,5.31,5.31,0,0,0,1,6.5,5.31,5.31,0,0,0,4.9,4.9,5.31,5.31,0,0,0,6.5,1,5.31,5.31,0,0,0,8.1,4.9,5.31,5.31,0,0,0,12,6.5,5.46,5.46,0,0,0,6.5,12Z\"/>\n",
              "  </svg>\n",
              "    </button>\n",
              "    <script>\n",
              "      (() => {\n",
              "      const buttonEl =\n",
              "        document.querySelector('#id_0d1ac790-b14c-46d6-ad94-6f1886fc6b43 button.colab-df-generate');\n",
              "      buttonEl.style.display =\n",
              "        google.colab.kernel.accessAllowed ? 'block' : 'none';\n",
              "\n",
              "      buttonEl.onclick = () => {\n",
              "        google.colab.notebook.generateWithVariable('evaluation_df_post_tuning_stats');\n",
              "      }\n",
              "      })();\n",
              "    </script>\n",
              "  </div>\n",
              "\n",
              "    </div>\n",
              "  </div>\n"
            ],
            "text/plain": [
              "   rouge1_precision  rouge1_recall  rouge1_fmeasure  rouge2_precision  \\\n",
              "0          0.508772       0.467742         0.487395          0.196429   \n",
              "1          0.510417       0.859649         0.640523          0.336842   \n",
              "2          0.293333       0.785714         0.427184          0.189189   \n",
              "3          0.576923       0.714286         0.638298          0.350649   \n",
              "4          0.325000       0.666667         0.436975          0.139241   \n",
              "5          0.437500       0.682927         0.533333          0.158730   \n",
              "6          0.575000       0.621622         0.597403          0.230769   \n",
              "7          0.532468       0.546667         0.539474          0.223684   \n",
              "8          0.649351       0.641026         0.645161          0.381579   \n",
              "9          0.468085       0.637681         0.539877          0.215054   \n",
              "\n",
              "   rouge2_recall  rouge2_fmeasure  rougeL_precision  rougeL_recall  \\\n",
              "0       0.180328         0.188034          0.368421       0.338710   \n",
              "1       0.571429         0.423841          0.343750       0.578947   \n",
              "2       0.518519         0.277228          0.240000       0.642857   \n",
              "3       0.435484         0.388489          0.410256       0.507937   \n",
              "4       0.289474         0.188034          0.237500       0.487179   \n",
              "5       0.250000         0.194175          0.296875       0.463415   \n",
              "6       0.250000         0.240000          0.375000       0.405405   \n",
              "7       0.229730         0.226667          0.389610       0.400000   \n",
              "8       0.376623         0.379085          0.415584       0.410256   \n",
              "9       0.294118         0.248447          0.351064       0.478261   \n",
              "\n",
              "   rougeL_fmeasure  \n",
              "0         0.352941  \n",
              "1         0.431373  \n",
              "2         0.349515  \n",
              "3         0.453901  \n",
              "4         0.319328  \n",
              "5         0.361905  \n",
              "6         0.389610  \n",
              "7         0.394737  \n",
              "8         0.412903  \n",
              "9         0.404908  "
            ]
          },
          "execution_count": 54,
          "metadata": {},
          "output_type": "execute_result"
        }
      ],
      "source": [
        "evaluation_df_post_tuning_stats = calculate_metrics(\n",
        "    val_df, prediction_col=\"tunedPredictions\"\n",
        ")\n",
        "evaluation_df_post_tuning_stats"
      ]
    },
    {
      "cell_type": "markdown",
      "metadata": {
        "id": "heKx9Lu5vBYb"
      },
      "source": [
        "- Improvement"
      ]
    },
    {
      "cell_type": "code",
      "execution_count": 55,
      "metadata": {
        "id": "X2AVUCh3S656"
      },
      "outputs": [
        {
          "data": {
            "text/plain": [
              "0.3428061097870029"
            ]
          },
          "execution_count": 55,
          "metadata": {},
          "output_type": "execute_result"
        }
      ],
      "source": [
        "evaluation_df_post_tuning_stats.rougeL_precision.mean()"
      ]
    },
    {
      "cell_type": "code",
      "execution_count": 56,
      "metadata": {
        "id": "kTnfegPcvC-P"
      },
      "outputs": [
        {
          "name": "stdout",
          "output_type": "stream",
          "text": [
            "Model tuning has improved the rougeL_precision by 188.6% (result might differ based on each tuning iteration)\n"
          ]
        }
      ],
      "source": [
        "improvement = round(\n",
        "    (\n",
        "        (\n",
        "            evaluation_df_post_tuning_stats.rougeL_precision.mean()\n",
        "            - evaluation_df_stats.rougeL_precision.mean()\n",
        "        )\n",
        "        / evaluation_df_stats.rougeL_precision.mean()\n",
        "    )\n",
        "    * 100,\n",
        "    2,\n",
        ")\n",
        "print(\n",
        "    f\"Model tuning has improved the rougeL_precision by {improvement}% (result might differ based on each tuning iteration)\"\n",
        ")"
      ]
    },
    {
      "cell_type": "code",
      "execution_count": 57,
      "metadata": {
        "id": "qrs0o6-p6Ebr"
      },
      "outputs": [],
      "source": [
        "# Save predicitons\n",
        "predictions_all = val_df.to_csv(\"validation_pred.csv\", index=False)"
      ]
    },
    {
      "cell_type": "markdown",
      "metadata": {
        "id": "yUuvCQ2O-1OW"
      },
      "source": [
        "## Conclusion"
      ]
    },
    {
      "cell_type": "markdown",
      "metadata": {
        "id": "me908QT9-26J"
      },
      "source": [
        "Performance could be further improved:\n",
        "- By adding more training samples. In general, improve your training data quality and/or quantity towards getting a more diverse and comprehensive dataset for your task\n",
        "- By tuning the hyperparameters, such as epochs, learning rate multiplier or adapter size\n",
        "  - To find the optimal number of epochs for your dataset, we recommend experimenting with different values. While increasing epochs can lead to better performance, it's important to be mindful of overfitting, especially with smaller datasets. If you see signs of overfitting, reducing the number of epochs can help mitigate the issue\n",
        "- You may try different prompt structures/formats and opt for the one with better performance"
      ]
    },
    {
      "cell_type": "markdown",
      "metadata": {
        "id": "F7pq-hvxvy8_"
      },
      "source": [
        "## Cleaning up"
      ]
    },
    {
      "cell_type": "markdown",
      "metadata": {
        "id": "LokkxNS0vzM-"
      },
      "source": [
        "To clean up all Google Cloud resources used in this project, you can [delete the Google Cloud\n",
        "project](https://cloud.google.com/resource-manager/docs/creating-managing-projects#shutting_down_projects) you used for the tutorial.\n",
        "\n",
        "\n",
        "Otherwise, you can delete the individual resources you created in this tutorial.\n",
        "\n",
        "Refer to this [instructions](https://cloud.google.com/vertex-ai/docs/tutorials/image-classification-custom/cleanup#delete_resources) to delete the resources from console."
      ]
    },
    {
      "cell_type": "code",
      "execution_count": 58,
      "metadata": {
        "id": "H38EHjj3vwib"
      },
      "outputs": [
        {
          "name": "stdout",
          "output_type": "stream",
          "text": [
            "projects/801452371447/locations/us-central1/metadataStores/default/contexts/tuning-experiment-20250310095028168551\n"
          ]
        },
        {
          "name": "stderr",
          "output_type": "stream",
          "text": [
            "Experiment run tuning-experiment-run-20250310095028168551 skipped backing tensorboard run deletion.\n",
            "To delete backing tensorboard run, execute the following:\n",
            "tensorboard_run_artifact = aiplatform.metadata.artifact.Artifact(artifact_name=f\"tuning-experiment-20250310095028168551-tuning-experiment-run-20250310095028168551-tb-run\")\n",
            "tensorboard_run_resource = aiplatform.TensorboardRun(tensorboard_run_artifact.metadata[\"resourceName\"])\n",
            "tensorboard_run_resource.delete()\n",
            "tensorboard_run_artifact.delete()\n"
          ]
        },
        {
          "name": "stdout",
          "output_type": "stream",
          "text": [
            "******************************\n",
            "projects/801452371447/locations/us-central1/endpoints/4867904113536401408\n",
            "******************************\n",
            "Removing gs://gemini-image-finetuning-001/images/1.jpeg#1741624802840929...\n",
            "Removing gs://gemini-image-finetuning-001/images/10.jpeg#1741624802830831...\n",
            "Removing gs://gemini-image-finetuning-001/images/11.jpeg#1741624803148393...\n",
            "Removing gs://gemini-image-finetuning-001/images/100.jpeg#1741624803042192...\n",
            "Removing gs://gemini-image-finetuning-001/images/12.jpeg#1741624803392900...\n",
            "Removing gs://gemini-image-finetuning-001/images/13.jpeg#1741624803981585...\n",
            "Removing gs://gemini-image-finetuning-001/images/14.jpeg#1741624803633363...\n",
            "Removing gs://gemini-image-finetuning-001/images/15.jpeg#1741624804151784...\n",
            "Removing gs://gemini-image-finetuning-001/images/16.jpeg#1741624803833310...\n",
            "Removing gs://gemini-image-finetuning-001/images/17.jpeg#1741624804248931...\n",
            "Removing gs://gemini-image-finetuning-001/images/18.jpeg#1741624803571439...\n",
            "Removing gs://gemini-image-finetuning-001/images/19.jpeg#1741624803735955...\n",
            "Removing gs://gemini-image-finetuning-001/images/2.jpeg#1741624803849985...\n",
            "Removing gs://gemini-image-finetuning-001/images/20.jpeg#1741624803941033...\n",
            "Removing gs://gemini-image-finetuning-001/images/21.jpeg#1741624804146953...\n",
            "Removing gs://gemini-image-finetuning-001/images/22.jpeg#1741624804325009...\n",
            "Removing gs://gemini-image-finetuning-001/images/23.jpeg#1741624804441608...\n",
            "Removing gs://gemini-image-finetuning-001/images/24.jpeg#1741624804558238...\n",
            "Removing gs://gemini-image-finetuning-001/images/25.jpeg#1741624804536419...\n",
            "Removing gs://gemini-image-finetuning-001/images/26.jpeg#1741624804696064...\n",
            "Removing gs://gemini-image-finetuning-001/images/27.jpeg#1741624804640458...\n",
            "Removing gs://gemini-image-finetuning-001/images/28.jpeg#1741624804874681...\n",
            "Removing gs://gemini-image-finetuning-001/images/29.jpeg#1741624804979134...\n",
            "Removing gs://gemini-image-finetuning-001/images/3.jpeg#1741624804976929...\n",
            "Removing gs://gemini-image-finetuning-001/images/30.jpeg#1741624805171347...\n",
            "Removing gs://gemini-image-finetuning-001/images/31.jpeg#1741624805023790...\n",
            "Removing gs://gemini-image-finetuning-001/images/32.jpeg#1741624805248770...\n",
            "Removing gs://gemini-image-finetuning-001/images/33.jpeg#1741624805160472...\n",
            "Removing gs://gemini-image-finetuning-001/images/34.jpeg#1741624805331571...\n",
            "Removing gs://gemini-image-finetuning-001/images/35.jpeg#1741624805386836...\n",
            "Removing gs://gemini-image-finetuning-001/images/36.jpeg#1741624805431752...\n",
            "Removing gs://gemini-image-finetuning-001/images/37.jpeg#1741624805591393...\n",
            "Removing gs://gemini-image-finetuning-001/images/38.jpeg#1741624805752119...\n",
            "Removing gs://gemini-image-finetuning-001/images/39.jpeg#1741624805870853...\n",
            "Removing gs://gemini-image-finetuning-001/images/4.jpeg#1741624805714772...\n",
            "Removing gs://gemini-image-finetuning-001/images/41.jpeg#1741624805991227...\n",
            "Removing gs://gemini-image-finetuning-001/images/40.jpeg#1741624805945564...\n",
            "Removing gs://gemini-image-finetuning-001/images/42.jpeg#1741624805932037...\n",
            "Removing gs://gemini-image-finetuning-001/images/43.jpeg#1741624805951974...\n",
            "Removing gs://gemini-image-finetuning-001/images/45.jpeg#1741624806139260...\n",
            "Removing gs://gemini-image-finetuning-001/images/44.jpeg#1741624806173267...\n",
            "Removing gs://gemini-image-finetuning-001/images/46.jpeg#1741624806258357...\n",
            "Removing gs://gemini-image-finetuning-001/images/47.jpeg#1741624806331230...\n",
            "Removing gs://gemini-image-finetuning-001/images/48.jpeg#1741624806593916...\n",
            "Removing gs://gemini-image-finetuning-001/images/49.jpeg#1741624806626362...\n",
            "Removing gs://gemini-image-finetuning-001/images/5.jpeg#1741624806569465...\n",
            "Removing gs://gemini-image-finetuning-001/images/50.jpeg#1741624806593393...\n",
            "Removing gs://gemini-image-finetuning-001/images/51.jpeg#1741624806672274...\n",
            "Removing gs://gemini-image-finetuning-001/images/52.jpeg#1741624806776429...\n",
            "Removing gs://gemini-image-finetuning-001/images/53.jpeg#1741624806924883...\n",
            "Removing gs://gemini-image-finetuning-001/images/54.jpeg#1741624807111231...\n",
            "Removing gs://gemini-image-finetuning-001/images/55.jpeg#1741624807042168...\n",
            "Removing gs://gemini-image-finetuning-001/images/56.jpeg#1741624807055090...\n",
            "Removing gs://gemini-image-finetuning-001/images/57.jpeg#1741624807217989...\n",
            "Removing gs://gemini-image-finetuning-001/images/58.jpeg#1741624807432772...\n",
            "Removing gs://gemini-image-finetuning-001/images/59.jpeg#1741624807366662...\n",
            "Removing gs://gemini-image-finetuning-001/images/6.jpeg#1741624807172021...\n",
            "Removing gs://gemini-image-finetuning-001/images/60.jpeg#1741624807420838...\n",
            "Removing gs://gemini-image-finetuning-001/images/61.jpeg#1741624807561552...\n",
            "Removing gs://gemini-image-finetuning-001/images/62.jpeg#1741624807644161...\n",
            "Removing gs://gemini-image-finetuning-001/images/64.jpeg#1741624807778983...\n",
            "Removing gs://gemini-image-finetuning-001/images/63.jpeg#1741624807958880...\n",
            "Removing gs://gemini-image-finetuning-001/images/65.jpeg#1741624807774601...\n",
            "Removing gs://gemini-image-finetuning-001/images/66.jpeg#1741624807814395...\n",
            "Removing gs://gemini-image-finetuning-001/images/67.jpeg#1741624807776703...\n",
            "Removing gs://gemini-image-finetuning-001/images/68.jpeg#1741624808134348...\n",
            "Removing gs://gemini-image-finetuning-001/images/69.jpeg#1741624808222999...\n",
            "Removing gs://gemini-image-finetuning-001/images/7.jpeg#1741624808285226...\n",
            "Removing gs://gemini-image-finetuning-001/images/70.jpeg#1741624808333919...\n",
            "Removing gs://gemini-image-finetuning-001/images/71.jpeg#1741624808465706...\n",
            "Removing gs://gemini-image-finetuning-001/images/72.jpeg#1741624808394347...\n",
            "Removing gs://gemini-image-finetuning-001/images/73.jpeg#1741624808204152...\n",
            "Removing gs://gemini-image-finetuning-001/images/74.jpeg#1741624808462762...\n",
            "Removing gs://gemini-image-finetuning-001/images/75.jpeg#1741624808391251...\n",
            "Removing gs://gemini-image-finetuning-001/images/76.jpeg#1741624808689616...\n",
            "Removing gs://gemini-image-finetuning-001/images/77.jpeg#1741624808739715...\n",
            "Removing gs://gemini-image-finetuning-001/images/78.jpeg#1741624808799853...\n",
            "Removing gs://gemini-image-finetuning-001/images/79.jpeg#1741624808989416...\n",
            "Removing gs://gemini-image-finetuning-001/images/8.jpeg#1741624809020754...\n",
            "Removing gs://gemini-image-finetuning-001/images/80.jpeg#1741624808922711...\n",
            "Removing gs://gemini-image-finetuning-001/images/81.jpeg#1741624809108396...\n",
            "Removing gs://gemini-image-finetuning-001/images/82.jpeg#1741624809036463...\n",
            "Removing gs://gemini-image-finetuning-001/images/83.jpeg#1741624809178357...\n",
            "Removing gs://gemini-image-finetuning-001/images/86.jpeg#1741624809427590...\n",
            "Removing gs://gemini-image-finetuning-001/images/84.jpeg#1741624809269007...\n",
            "Removing gs://gemini-image-finetuning-001/images/85.jpeg#1741624809276503...\n",
            "Removing gs://gemini-image-finetuning-001/images/87.jpeg#1741624809451486...\n",
            "Removing gs://gemini-image-finetuning-001/images/88.jpeg#1741624809701009...\n",
            "Removing gs://gemini-image-finetuning-001/images/89.jpeg#1741624809613989...\n",
            "Removing gs://gemini-image-finetuning-001/images/9.jpeg#1741624809485864...\n",
            "Removing gs://gemini-image-finetuning-001/images/90.jpeg#1741624809704573...\n",
            "Removing gs://gemini-image-finetuning-001/images/91.jpeg#1741624809837019...\n",
            "Removing gs://gemini-image-finetuning-001/images/92.jpeg#1741624809948376...\n",
            "Removing gs://gemini-image-finetuning-001/images/93.jpeg#1741624810118396...\n",
            "Removing gs://gemini-image-finetuning-001/images/94.jpeg#1741624809786069...\n",
            "Removing gs://gemini-image-finetuning-001/images/95.jpeg#1741624810122579...\n",
            "Removing gs://gemini-image-finetuning-001/images/96.jpeg#1741624810077448...\n",
            "Removing gs://gemini-image-finetuning-001/images/97.jpeg#1741624810201364...\n",
            "Removing gs://gemini-image-finetuning-001/images/98.jpeg#1741624810137710...\n",
            "Removing gs://gemini-image-finetuning-001/images/99.jpeg#1741624810462163...\n",
            "Removing gs://gemini-image-finetuning-001/train/train.jsonl#1741624865383527...\n",
            "Removing gs://gemini-image-finetuning-001/val/val.jsonl#1741624868517652...\n",
            "/ [102/102 objects] 100% Done                                                   \n",
            "Operation completed over 102 objects.                                            \n",
            "Removing gs://gemini-image-finetuning-001/...\n"
          ]
        }
      ],
      "source": [
        "# Delete Experiment.\n",
        "delete_experiments = True\n",
        "if delete_experiments:\n",
        "    experiments_list = aiplatform.Experiment.list()\n",
        "    for experiment in experiments_list:\n",
        "        if experiment.resource_name == experiment_name:\n",
        "            print(experiment.resource_name)\n",
        "            experiment.delete()\n",
        "            break\n",
        "\n",
        "print(\"***\" * 10)\n",
        "\n",
        "# Delete Endpoint.\n",
        "delete_endpoint = True\n",
        "# If force is set to True, all deployed models on this\n",
        "# Endpoint will be first undeployed.\n",
        "if delete_endpoint:\n",
        "    for endpoint in aiplatform.Endpoint.list():\n",
        "        if endpoint.resource_name == tuned_model_endpoint_name:\n",
        "            print(endpoint.resource_name)\n",
        "            endpoint.delete(force=True)\n",
        "            break\n",
        "\n",
        "print(\"***\" * 10)\n",
        "\n",
        "# Delete Cloud Storage Bucket.\n",
        "delete_bucket = True\n",
        "if delete_bucket:\n",
        "    ! gsutil -m rm -r $BUCKET_URI"
      ]
    }
  ],
  "metadata": {
    "colab": {
      "name": "supervised_finetuning_using_gemini_on_image_data.ipynb",
      "toc_visible": true
    },
    "kernelspec": {
      "display_name": "Python 3",
      "name": "python3"
    }
  },
  "nbformat": 4,
  "nbformat_minor": 0
}
