{
  "nbformat": 4,
  "nbformat_minor": 0,
  "metadata": {
    "colab": {
      "provenance": [],
      "collapsed_sections": [
        "jlwd6SYUAET8",
        "ywcg_SarP_qX",
        "L-2keUL5SdgC",
        "kpTZ16kBTsBs",
        "qt8_j4h4lJZf"
      ]
    },
    "kernelspec": {
      "name": "python3",
      "display_name": "Python 3"
    },
    "language_info": {
      "name": "python"
    }
  },
  "cells": [
    {
      "cell_type": "code",
      "source": [
        "# Copyright 2024 Google LLC\n",
        "#\n",
        "# Licensed under the Apache License, Version 2.0 (the \"License\");\n",
        "# you may not use this file except in compliance with the License.\n",
        "# You may obtain a copy of the License at\n",
        "#\n",
        "#     https://www.apache.org/licenses/LICENSE-2.0\n",
        "#\n",
        "# Unless required by applicable law or agreed to in writing, software\n",
        "# distributed under the License is distributed on an \"AS IS\" BASIS,\n",
        "# WITHOUT WARRANTIES OR CONDITIONS OF ANY KIND, either express or implied.\n",
        "# See the License for the specific language governing permissions and\n",
        "# limitations under the License."
      ],
      "metadata": {
        "id": "8NrsckCinHTm"
      },
      "execution_count": null,
      "outputs": []
    },
    {
      "cell_type": "markdown",
      "source": [
        "# Building a Multi-Agent PlanGEN Frameworks using Vertex AI API for NATURAL PLAN\n",
        "\n",
        "| | |\n",
        "|-|-|\n",
        "|Author(s) | Mihir Parmar, Hamid Palangi |"
      ],
      "metadata": {
        "id": "jlwd6SYUAET8"
      }
    },
    {
      "cell_type": "markdown",
      "source": [
        "### Overview of PlanGEN\n",
        "\n",
        "[PlanGEN](https://www.arxiv.org/pdf/2502.16111) is a model-agnostic and easily scalable multi-agent framework with three key components: constraint, verification, and selection agents. Specifically, our approach proposes constraint-guided iterative verification to enhance performance of inference-time algorithms--Best of N, Tree-of-Thought, and REBASE. In PlanGEN framework, the selection agent optimizes algorithm choice based on instance complexity, ensuring better adaptability to complex planning problems. We combine our agents with the inference-time algorithms, yielding four frameworks: (1) PlanGEN (Best of N), (2) PlanGEN (ToT), (3) PlanGEN (REBASE), and (4) PlanGEN (Mixture of Algorithms). Our key finding highlights that constraint-guided iterative verification improves inference-time algorithms, and adaptive selection further boosts performance on complex planning and reasoning problems. In this notebook, we provide implementation of these four frameworks for calendar scheduling and trip planning tasks from NATURAL PLAN."
      ],
      "metadata": {
        "id": "WYZe9fwPQZbN"
      }
    },
    {
      "cell_type": "markdown",
      "source": [
        "### Objectives\n",
        "\n",
        "In this tutorial, you will build PlanGEN frameworks using the Vertex AI API and Python. You will develop four frameworks mentioned above using Gemini-1.5-Pro-002, and Gemini-2.0-Flash-exp as underlying models. You will be using example instances from calendar scheduling and trip planning tasks from [NATURAL PLAN](https://arxiv.org/abs/2406.04520) for this tutorial.\n",
        "\n",
        "- Install the Vertex AI SDK for Python\n",
        "- Define a model for your framework\n",
        "- Define necessary Python libraries and functions for PlanGEN frameworks\n",
        "- Test your framework locally on two tasks from NATURAL PLAN"
      ],
      "metadata": {
        "id": "fBI994JhQjdJ"
      }
    },
    {
      "cell_type": "markdown",
      "source": [
        "### Enable APIs and Services\n",
        "\n",
        "This tutorial uses the following billable components of Google Cloud, which you'll need to enable for this tutorial:\n",
        "\n",
        "- [Enable Vertex AI API](https://console.cloud.google.com/apis/api/aiplatform.googleapis.com/overview)\n",
        "\n",
        "Learn about [Vertex AI pricing](https://cloud.google.com/vertex-ai/pricing) and use the [Pricing Calculator](https://cloud.google.com/products/calculator/) to generate a cost estimate based on your projected usage."
      ],
      "metadata": {
        "id": "0wlh_c0pLD1d"
      }
    },
    {
      "cell_type": "markdown",
      "source": [
        "# Getting Started\n",
        "\n"
      ],
      "metadata": {
        "id": "VWrF2jHp_-31"
      }
    },
    {
      "cell_type": "markdown",
      "source": [
        "### Install Vertex AI SDK\n",
        "\n",
        "> Install the latest version of the Vertex AI SDK for Python as well as extra dependencies related to PlanGEN:"
      ],
      "metadata": {
        "id": "Cg8hWX221eFP"
      }
    },
    {
      "cell_type": "code",
      "execution_count": null,
      "metadata": {
        "colab": {
          "base_uri": "https://localhost:8080/"
        },
        "id": "kKVUcrAA1ZMI",
        "outputId": "5d224e01-d1b9-49e1-af8f-85e8bb6d91b1"
      },
      "outputs": [
        {
          "output_type": "stream",
          "name": "stdout",
          "text": [
            "\u001b[?25l   \u001b[90m━━━━━━━━━━━━━━━━━━━━━━━━━━━━━━━━━━━━━━━━\u001b[0m \u001b[32m0.0/101.8 kB\u001b[0m \u001b[31m?\u001b[0m eta \u001b[36m-:--:--\u001b[0m\r\u001b[2K   \u001b[90m━━━━━━━━━━━━━━━━━━━━━━━━━━━━━━━━━━━━━━━━\u001b[0m \u001b[32m101.8/101.8 kB\u001b[0m \u001b[31m4.0 MB/s\u001b[0m eta \u001b[36m0:00:00\u001b[0m\n",
            "\u001b[2K   \u001b[90m━━━━━━━━━━━━━━━━━━━━━━━━━━━━━━━━━━━━━━━━\u001b[0m \u001b[32m93.9/93.9 kB\u001b[0m \u001b[31m9.2 MB/s\u001b[0m eta \u001b[36m0:00:00\u001b[0m\n",
            "\u001b[2K   \u001b[90m━━━━━━━━━━━━━━━━━━━━━━━━━━━━━━━━━━━━━━━━\u001b[0m \u001b[32m7.3/7.3 MB\u001b[0m \u001b[31m62.1 MB/s\u001b[0m eta \u001b[36m0:00:00\u001b[0m\n",
            "\u001b[2K   \u001b[90m━━━━━━━━━━━━━━━━━━━━━━━━━━━━━━━━━━━━━━━━\u001b[0m \u001b[32m153.7/153.7 kB\u001b[0m \u001b[31m14.4 MB/s\u001b[0m eta \u001b[36m0:00:00\u001b[0m\n",
            "\u001b[2K   \u001b[90m━━━━━━━━━━━━━━━━━━━━━━━━━━━━━━━━━━━━━━━━\u001b[0m \u001b[32m45.4/45.4 kB\u001b[0m \u001b[31m4.1 MB/s\u001b[0m eta \u001b[36m0:00:00\u001b[0m\n",
            "\u001b[?25h"
          ]
        }
      ],
      "source": [
        "%pip install --upgrade --quiet \\\n",
        "\"google-cloud-aiplatform[langchain,reasoningengine]\" \\\n",
        "retrying"
      ]
    },
    {
      "cell_type": "markdown",
      "source": [
        "### Restart current runtime\n",
        "\n",
        "> To use the newly installed packages in this Jupyter runtime, you must restart the runtime. You can do this by running the cell below, which will restart the current kernel."
      ],
      "metadata": {
        "id": "WHhkAhyXAqqr"
      }
    },
    {
      "cell_type": "code",
      "source": [
        "# Restart kernel after installs so that your environment can access the new packages\n",
        "import IPython\n",
        "\n",
        "app = IPython.Application.instance()\n",
        "app.kernel.do_shutdown(True)"
      ],
      "metadata": {
        "colab": {
          "base_uri": "https://localhost:8080/"
        },
        "id": "7teNvbzBAqA7",
        "outputId": "d7134c74-e014-4dbe-8ba7-3fc20376b3ec"
      },
      "execution_count": null,
      "outputs": [
        {
          "output_type": "execute_result",
          "data": {
            "text/plain": [
              "{'status': 'ok', 'restart': True}"
            ]
          },
          "metadata": {},
          "execution_count": 2
        }
      ]
    },
    {
      "cell_type": "markdown",
      "source": [
        "### Authenticate your notebook environment (Colab only)\n",
        "\n",
        "> If you are running this notebook on Google Colab, run the following cell to authenticate your environment. This step is not required if you are using Vertex AI Workbench."
      ],
      "metadata": {
        "id": "UVLT_oCTBAxx"
      }
    },
    {
      "cell_type": "code",
      "source": [
        "import sys\n",
        "\n",
        "if \"google.colab\" in sys.modules:\n",
        "    from google.colab import auth\n",
        "\n",
        "    auth.authenticate_user()"
      ],
      "metadata": {
        "id": "Q8Kh5BjnBAPy"
      },
      "execution_count": null,
      "outputs": []
    },
    {
      "cell_type": "markdown",
      "source": [
        "### Set Google Cloud project information and initialize Vertex AI SDK\n",
        "\n",
        "> To get started using Vertex AI, you must have an existing Google Cloud project and [enable the Vertex AI API](https://pantheon.corp.google.com/apis/enableflow?apiid=aiplatform.googleapis.com&project=research-01-268019).\n",
        "\n",
        "> Learn more about [setting up a project and a development environment](https://cloud.google.com/vertex-ai/docs/start/cloud-environment)."
      ],
      "metadata": {
        "id": "5O2mVqz1BK_r"
      }
    },
    {
      "cell_type": "code",
      "source": [
        "PROJECT_ID = \"research-01-268019\"  # @param {type:\"string\"}\n",
        "LOCATION = \"us-central1\"  # @param {type:\"string\"}\n",
        "\n",
        "import vertexai\n",
        "from vertexai.generative_models import GenerativeModel, GenerationConfig, HarmCategory, SafetySetting\n",
        "from retrying import retry\n",
        "\n",
        "vertexai.init(project=PROJECT_ID, location=LOCATION)"
      ],
      "metadata": {
        "id": "KFQ0Cr1PBlCY"
      },
      "execution_count": null,
      "outputs": []
    },
    {
      "cell_type": "markdown",
      "source": [
        "### Define Underlying Model for PlanGEN\n",
        "\n",
        "> Please specify the underlying model for PlanGEN frameworks"
      ],
      "metadata": {
        "id": "2DNvlf5nDjPw"
      }
    },
    {
      "cell_type": "code",
      "source": [
        "model_name= \"gemini-1.5-pro-002\""
      ],
      "metadata": {
        "id": "WoMQA6uLDmQp"
      },
      "execution_count": null,
      "outputs": []
    },
    {
      "cell_type": "markdown",
      "source": [
        "### Function for Calling Defined Model\n",
        "\n",
        "> This code defines a function that sends a prompt to a Gemini and retrieves a response. It includes features like retrying the request if it fails, controlling the randomness and format of the response, and disabling safety filters."
      ],
      "metadata": {
        "id": "Xj5rg19dEPY_"
      }
    },
    {
      "cell_type": "code",
      "source": [
        "# Define safety settings as a list of SafetySetting objects\n",
        "safety_settings = [\n",
        "    SafetySetting(category=HarmCategory.HARM_CATEGORY_UNSPECIFIED,threshold=\"BLOCK_NONE\"),\n",
        "    SafetySetting(category=HarmCategory.HARM_CATEGORY_HARASSMENT, threshold=\"BLOCK_NONE\"),\n",
        "    SafetySetting(category=HarmCategory.HARM_CATEGORY_HATE_SPEECH, threshold=\"BLOCK_NONE\"),\n",
        "    SafetySetting(category=HarmCategory.HARM_CATEGORY_SEXUALLY_EXPLICIT, threshold=\"BLOCK_NONE\"),\n",
        "    SafetySetting(category=HarmCategory.HARM_CATEGORY_DANGEROUS_CONTENT, threshold=\"BLOCK_NONE\")\n",
        "]\n",
        "\n",
        "@retry(wait_exponential_multiplier=16000, wait_exponential_max=256000, stop_max_attempt_number=5)\n",
        "def call_gemini(prompt, model_name, temperature=0, candidate_count=None, stop_sequences=None, response_type=None, response_schema=None):\n",
        "    try:\n",
        "        attempts = getattr(call_gemini, 'retry_count', 0) + 1\n",
        "\n",
        "        model = GenerativeModel(model_name)\n",
        "        generation_config = GenerationConfig(temperature=temperature, candidate_count= candidate_count, stop_sequences=stop_sequences, response_mime_type=response_type, response_schema=response_schema)\n",
        "\n",
        "        response = model.generate_content(prompt, generation_config=generation_config, safety_settings=safety_settings)\n",
        "\n",
        "        if hasattr(response, 'text'):\n",
        "            return response.text\n",
        "        else:\n",
        "            return \" \"\n",
        "\n",
        "    except Exception as e:\n",
        "        print(f\"Error occurred on attempt {attempts}: {e}\")\n",
        "        raise"
      ],
      "metadata": {
        "id": "wLuown9tEbqy"
      },
      "execution_count": null,
      "outputs": []
    },
    {
      "cell_type": "markdown",
      "source": [
        "# Implementation of PlanGEN (Best of N)\n",
        "\n",
        "> We adapted the Best of N algorithm and modified it using our constraint and verification agents.  The framework generates N candidate plans (Plan 1, Plan 2, ..., Plan n), and each plan is assessed by a verification agent based on a set of constraints. Then, a corresponding reward (Reward 1, Reward 2, ..., Reward n) gets assigned by the verification agent. Finally, the plan with the maximum reward is chosen, guaranteeing an optimal solution that best satisfies the problem constraints."
      ],
      "metadata": {
        "id": "oE6WB2ncDqRq"
      }
    },
    {
      "cell_type": "markdown",
      "source": [
        "**Import necessary libraries for PlanGEN (Best of N)**\n",
        "\n"
      ],
      "metadata": {
        "id": "7G-KiIAMFUDP"
      }
    },
    {
      "cell_type": "code",
      "source": [
        "from os.path import join\n",
        "import json\n",
        "from tqdm import tqdm\n",
        "import pandas as pd"
      ],
      "metadata": {
        "id": "Nt00h4mqD2H5"
      },
      "execution_count": null,
      "outputs": []
    },
    {
      "cell_type": "markdown",
      "source": [
        "**Class for PlanGEN (Best of N)**"
      ],
      "metadata": {
        "id": "NA6_YPbGMcNM"
      }
    },
    {
      "cell_type": "code",
      "source": [
        "class SelfConsistencyEvaluator:\n",
        "    def __init__(self, verification_prompt=None, model_name=None):\n",
        "        self.verification_prompt = verification_prompt\n",
        "        self.model_name = model_name\n",
        "        self.evaluate_system_prompt = \"\"\"Provide a reward score between -100 and 100 for the plan quality, using very strict standards. Do not give a full score above 95. Make sure the reward score is an integer.\n",
        "\n",
        "Input:\n",
        "{input}\n",
        "Generated plan to evaluate:\n",
        "{response}\n",
        "\n",
        "Consider below constraints while evaluating:\n",
        "{verification_prompt}\n",
        "\n",
        "Make sure to check all the constraints before giving the reward score.\n",
        "\n",
        "Please provide a reward in the below format:\n",
        "[step-by-step reasoning for the reward score]\n",
        "Score: [Strictly provide the reward score as an integer between -100 and 100]\"\"\"\n",
        "\n",
        "    def calculate_reward(self, prompt, output):\n",
        "        # Get reward score from Gemini\n",
        "        reward_output = call_gemini(\n",
        "            self.evaluate_system_prompt.format(\n",
        "                input=prompt,\n",
        "                response=output,\n",
        "                verification_prompt=self.verification_prompt\n",
        "            ),\n",
        "            model_name=self.model_name\n",
        "        )\n",
        "\n",
        "        # Parse reward and ensure it's an integer between -100 and 100\n",
        "        try:\n",
        "            reward = int(reward_output.split('Score:')[-1].strip())\n",
        "            reward = max(-100, min(100, reward))  # Clamp between -100 and 100\n",
        "        except:\n",
        "            reward = -100\n",
        "\n",
        "        return (output, reward_output, reward)\n",
        "\n",
        "    def get_best_response(self, prompt, no_of_times=5):\n",
        "        lst_of_resp = []\n",
        "\n",
        "        for i in range(no_of_times):\n",
        "            output = call_gemini(prompt, temperature=0.7, model_name=self.model_name)\n",
        "            out_with_reward = self.calculate_reward(prompt, output)\n",
        "            lst_of_resp.append(out_with_reward)\n",
        "\n",
        "        # Sort responses by reward score and get the best one\n",
        "        sorted_responses = sorted(lst_of_resp, key=lambda x: x[2], reverse=True)\n",
        "        best_response = sorted_responses[0][0]\n",
        "\n",
        "        return sorted_responses, best_response"
      ],
      "metadata": {
        "id": "qSjF16q1KSKW"
      },
      "execution_count": null,
      "outputs": []
    },
    {
      "cell_type": "markdown",
      "source": [
        "# Implementation of PlanGEN (Tree-of-Thought)\n",
        "\n",
        "> Tree-of-Thought (ToT) algorithm has been studied in detail for solving many complex problems. We modified the ToT algorithm with our constraint and verification agents. The method begins by initializing a root node that represents the problem and generating multiple potential next steps, creating a tree-like structure. The generated steps are verified using a verification agent which assigns reward scores based on a set of constraints. The iterative process involves evaluating all possible steps at a given depth, selecting the most promising path based on reward scores, and expanding it further by generating new steps. This process continues until a valid solution is identified or a pre-defined limit on iterations is reached."
      ],
      "metadata": {
        "id": "ywcg_SarP_qX"
      }
    },
    {
      "cell_type": "markdown",
      "source": [
        "**Import necessary libraries for PlanGEN (Tree-of-Thought)**"
      ],
      "metadata": {
        "id": "6qJ8QtQ9QStz"
      }
    },
    {
      "cell_type": "code",
      "source": [
        "from __future__ import annotations\n",
        "from typing import Tuple\n",
        "import random\n",
        "import math\n",
        "from collections import deque\n",
        "from enum import Enum\n",
        "from pydantic import BaseModel\n",
        "import tqdm\n",
        "import numpy as np\n",
        "\n",
        "ROOT_UCT_SCORE = 10_000"
      ],
      "metadata": {
        "id": "kp0G_YARP_Mv"
      },
      "execution_count": null,
      "outputs": []
    },
    {
      "cell_type": "markdown",
      "source": [
        "**Important Prompts**"
      ],
      "metadata": {
        "id": "GxTJBxeQR-Ws"
      }
    },
    {
      "cell_type": "code",
      "source": [
        "STEP_PROMPT = \"\"\"You are an expert assistant for generating step-by-step plan to solve a given question using specified tools. Given the problem and any intermediate steps, output only the next step in the plan. Ensure that the next action helps in moving toward the correct plan to solve the given question. Do not provide the full plan. Keep responses concise, focusing solely on the immediate next step that is most effective in progressing toward the correct plan.\n",
        "\n",
        "<problem>\n",
        "{problem}\n",
        "</problem>\n",
        "\n",
        "<intermediate_step>\n",
        "{par_str}\n",
        "</intermediate_step>\"\"\"\n",
        "\n",
        "REWARD_PROMPT = \"\"\"Provide a reward score between -100 and 100 for the intermediate plan steps quality, using very strict standards. Do not give a full score above 95. Ensure the reward reflects how well the intermediate plan steps contributes to progressing toward the correct solution.\n",
        "\n",
        "<problem>\n",
        "{problem}\n",
        "</problem>\n",
        "\n",
        "<intermediate_step>\n",
        "{par_str}\n",
        "</intermediate_step>\n",
        "\n",
        "Consider below constraints while evaluating:\n",
        "{verification_prompt}\n",
        "\n",
        "Make sure to check all the constraints before giving the reward score.\n",
        "\n",
        "Please provide a reward in the below format:\n",
        "[step-by-step reasoning for the reward score]\n",
        "Score: [Strictly provide the reward score as an integer between -100 and 100]\"\"\"\n",
        "\n",
        "COMPLETE_PROMPT = \"\"\"You are an assistant tasked with verifying if the final, complete plan to solve the given question has been achieved within the intermediate steps. Output only '1' if the intermediate steps contain the full solution needed to solve the question. If the full plan has not yet been reached, output only '0'. Provide no additional commentary—return exclusively '1' or '0'.\n",
        "\n",
        "<problem>\n",
        "{problem}\n",
        "</problem>\n",
        "\n",
        "<intermediate_step>\n",
        "{par_str}\n",
        "</intermediate_step>\"\"\""
      ],
      "metadata": {
        "id": "jjxYK-n9SCqX"
      },
      "execution_count": null,
      "outputs": []
    },
    {
      "cell_type": "markdown",
      "source": [
        "**Classes for PlanGEN (ToT)**"
      ],
      "metadata": {
        "id": "nmtGfuYtRwB6"
      }
    },
    {
      "cell_type": "code",
      "source": [
        "class Node(BaseModel):\n",
        "    step: str = ''\n",
        "    par_str: str = ''\n",
        "    parent: Node | None = None\n",
        "    children: list[Node] = []\n",
        "    reward: int = 0\n",
        "    complete: bool = False\n",
        "\n",
        "    def add_child(self, child_node: Node):\n",
        "        self.children.append(child_node)\n",
        "\n",
        "    def add_children(self, child_nodes: list[Node]):\n",
        "        self.children.extend(child_nodes)\n",
        "\n",
        "    def add_reward(self, reward: int):\n",
        "        self.reward = reward\n",
        "\n",
        "\n",
        "class BFS_sbs(BaseModel):\n",
        "    problem: str\n",
        "    verification_prompt: str\n",
        "    no_samples: int = 5\n",
        "    model_name: str = \"\"\n",
        "    is_hf: bool = False\n",
        "    root: Node = Node(step=\"Please insert the step here\")\n",
        "\n",
        "    class Config:\n",
        "        arbitrary_types_allowed = True\n",
        "        protected_namespaces = ()\n",
        "\n",
        "    def self_evaluate(self, node: Node):\n",
        "        \"\"\"Evaluate the quality of the answer. Sample `num_samples` times and average the results.\"\"\"\n",
        "        reward = self._evaluate_answer(node)\n",
        "        node.add_reward(reward)\n",
        "\n",
        "    def select_node(self, node):\n",
        "        \"\"\"Select a non-fully expanded node with the highest UCT value.\"\"\"\n",
        "        candidates: list[Node] = []\n",
        "        candidates.extend(node.children)\n",
        "\n",
        "        highest_reward_candidate = max(candidates, key=lambda candidate: candidate.reward)\n",
        "\n",
        "        return highest_reward_candidate\n",
        "\n",
        "    def initialize(self):\n",
        "        self.root = Node(step=\"\",par_ans=\"\")\n",
        "\n",
        "        children = []\n",
        "        for i in range(self.no_samples):\n",
        "            step_prompt= STEP_PROMPT.format(problem=self.problem, par_str=\"\")\n",
        "            step = call_gemini(step_prompt, model_name=self.model_name, temperature=0.7)\n",
        "            children.append(Node(step=step, par_str=self.root.par_str+step, parent=self.root))\n",
        "\n",
        "        self.root.add_children(children)\n",
        "\n",
        "    def eval_children(self, node):\n",
        "        for i, node in enumerate(node.children):\n",
        "            node.reward = self._evaluate_(node)\n",
        "            node.complete = self._complete_(node)\n",
        "\n",
        "    def _evaluate_(self, node):\n",
        "        \"\"\"Generate a zero-shot answer.\"\"\"\n",
        "        reward_prompt = REWARD_PROMPT.format(problem=self.problem, par_str=node.par_str, verification_prompt=self.verification_prompt)\n",
        "        reward_output = call_gemini(reward_prompt, model_name=self.model_name)\n",
        "        # Parse reward and ensure it's an integer between -100 and 100\n",
        "        try:\n",
        "            reward = int(reward_output.split('Score:')[-1].strip())\n",
        "            reward = max(-100, min(100, reward))  # Clamp between -100 and 100\n",
        "        except:\n",
        "            reward = -100\n",
        "\n",
        "        return reward\n",
        "\n",
        "    def _complete_(self, node):\n",
        "        \"\"\"Generate a zero-shot answer.\"\"\"\n",
        "        complete_prompt = COMPLETE_PROMPT.format(problem=self.problem, par_str=node.par_str)\n",
        "        complete = call_gemini(complete_prompt, model_name=self.model_name)\n",
        "        return complete\n",
        "\n",
        "    def expand_node(self, node):\n",
        "        children = []\n",
        "        for i in range(self.no_samples):\n",
        "            step_prompt = STEP_PROMPT.format(problem=self.problem, par_str=node.par_str)\n",
        "            step = call_gemini(step_prompt, model_name=self.model_name, temperature=0.7)\n",
        "            children.append(Node(step=step, par_str=node.par_str +\"\\n\"+step, parent=node))\n",
        "\n",
        "        node.add_children(children)\n",
        "\n",
        "    def print_tree(self, node=None, level=0):\n",
        "        if node is None:\n",
        "            node = self.root\n",
        "        print(\"  \" * level + f\"Step: {node.step}, Reward: {node.reward}, Complete: {node.complete}\")\n",
        "        for child in node.children:\n",
        "            self.print_tree(child, level + 1)\n",
        "\n",
        "    def run(self):\n",
        "        self.initialize()\n",
        "        incomplete = True\n",
        "        current_node = self.root\n",
        "        max_iterations = 20  # Adjust this value based on your needs\n",
        "        iteration = 0\n",
        "        while incomplete and iteration < max_iterations:\n",
        "            self.eval_children(current_node)\n",
        "            for child in current_node.children:\n",
        "                if '1' in str(child.complete):\n",
        "                    incomplete = False\n",
        "                    final_answer = \"\"\n",
        "                    return child.par_str, final_answer\n",
        "                iteration += 1\n",
        "\n",
        "                # If we reach here, return the best child based on reward\n",
        "                if iteration >= max_iterations:\n",
        "                    best_child = max(current_node.children, key=lambda x: x.reward)\n",
        "                    return best_child.par_str, \"Solution reached iteration limit\"\n",
        "\n",
        "            current_node = self.select_node(current_node)\n",
        "            self.expand_node(current_node)"
      ],
      "metadata": {
        "id": "O3fIQMh3R2TK"
      },
      "execution_count": null,
      "outputs": []
    },
    {
      "cell_type": "markdown",
      "source": [
        "# Implementation of PlanGEN (REBASE)\n",
        "\n",
        "> The REward BAlanced SEarch (REBASE) method inherits the exploitation and pruning properties of tree search and is well-studied for mathematical reasoning. The framework incorporates a dynamic selection and expansion strategy to iteratively refine solutions. At each depth of the tree, candidate nodes are ranked based on their assigned reward scores (obtained using a verification agent), ensuring that the most promising candidates are explored first. Even steps with lower rewards are considered but with a reducing number of children, meaning that their exploration depth is limited. This hierarchical pruning helps maintain efficiency, thereby reducing unnecessary exploration of weaker nodes. This process continues until either a valid, complete solution is found or a predefined depth or width limit is reached. Also, there is a completion check similar to ToT which identifies nodes that represent complete solutions, enabling REBASE to terminate early once a satisfactory outcome is identified."
      ],
      "metadata": {
        "id": "L-2keUL5SdgC"
      }
    },
    {
      "cell_type": "markdown",
      "source": [
        "**Important Prompts**"
      ],
      "metadata": {
        "id": "GqR53oC9SqbF"
      }
    },
    {
      "cell_type": "code",
      "source": [
        "STEP_PROMPT = \"\"\"You are an expert assistant for generating step-by-step plan to solve a given question using specified tools. Given the problem and any intermediate steps, output only the next step in the plan. Ensure that the next action helps in moving toward the correct plan to solve the given question. Do not provide the full plan. Keep responses concise, focusing solely on the immediate next step that is most effective in progressing toward the correct plan.\n",
        "\n",
        "<problem>\n",
        "{problem}\n",
        "</problem>\n",
        "\n",
        "<intermediate_step>\n",
        "{par_str}\n",
        "</intermediate_step>\"\"\"\n",
        "\n",
        "REWARD_PROMPT = \"\"\"Provide a reward score between -100 and 100 for the intermediate plan steps quality, using very strict standards. Do not give a full score above 95. Ensure the reward reflects how well the intermediate plan steps contributes to progressing toward the correct solution.\n",
        "\n",
        "<problem>\n",
        "{problem}\n",
        "</problem>\n",
        "\n",
        "<intermediate_step>\n",
        "{par_str}\n",
        "</intermediate_step>\n",
        "\n",
        "Consider below constraints while evaluating:\n",
        "{verification_prompt}\n",
        "\n",
        "Make sure to check all the constraints before giving the reward score.\n",
        "\n",
        "Please provide a reward in the below format:\n",
        "[step-by-step reasoning for the reward score]\n",
        "Score: [Strictly provide the reward score as an integer between -100 and 100]\"\"\"\n",
        "\n",
        "COMPLETE_PROMPT = \"\"\"You are an assistant tasked with verifying if the final, complete plan to solve the given question has been achieved within the intermediate steps. Output only '1' if the intermediate steps contain the full solution needed to solve the question. If the full plan has not yet been reached, output only '0'. Provide no additional commentary—return exclusively '1' or '0'.\n",
        "\n",
        "<problem>\n",
        "{problem}\n",
        "</problem>\n",
        "\n",
        "<intermediate_step>\n",
        "{par_str}\n",
        "</intermediate_step>\"\"\""
      ],
      "metadata": {
        "id": "WycBe3piSkKl"
      },
      "execution_count": null,
      "outputs": []
    },
    {
      "cell_type": "markdown",
      "source": [
        "**Classes for PlanGEN (REBASE)**"
      ],
      "metadata": {
        "id": "jUS3QgxxS-yQ"
      }
    },
    {
      "cell_type": "code",
      "source": [
        "class TreeNode:\n",
        "    \"\"\"Represents a node in the solution tree, containing a step in the problem-solving process\"\"\"\n",
        "    def __init__(self, id, question, value, score, num_step_tokens=0, parent=None):\n",
        "        \"\"\"\n",
        "        Initialize a TreeNode with:\n",
        "        id: unique identifier for the node\n",
        "        question: the original problem statement\n",
        "        value: current solution state/text\n",
        "        score: reward score from the model\n",
        "        num_step_tokens: number of tokens in the step\n",
        "        parent: reference to parent node\n",
        "        \"\"\"\n",
        "        self.id = id\n",
        "        self.question = question\n",
        "        self.value = value\n",
        "        self.score = score\n",
        "        self.num_step_tokens = num_step_tokens\n",
        "        self.parent = parent\n",
        "        self.leaf = False\n",
        "        self.cum_tokens = parent.cum_tokens + num_step_tokens if parent else num_step_tokens\n",
        "        self.depth = parent.depth + 1 if parent else 0\n",
        "\n",
        "    def check_leaf(self, tree):\n",
        "        \"\"\"Use the `_complete_` method from the tree to determine if the node is a leaf.\"\"\"\n",
        "        self.leaf = '1' in tree._complete_(self)\n",
        "\n",
        "    def is_leaf(self):\n",
        "        \"\"\"Check if this node represents a complete solution\"\"\"\n",
        "        return self.leaf\n",
        "\n",
        "    def get_score(self):\n",
        "        \"\"\"Return the reward score of this solution step\"\"\"\n",
        "        return self.score\n",
        "\n",
        "\n",
        "class Tree:\n",
        "    \"\"\"Manages the tree structure for exploring solution paths\"\"\"\n",
        "    def __init__(self, problem_statement, verification_prompt, model_name, paras):\n",
        "        \"\"\"\n",
        "        Initialize solution tree with:\n",
        "        problem_statement: the question to be solved\n",
        "        model_name: name of the language model to use\n",
        "        paras: parameters controlling tree expansion\n",
        "        \"\"\"\n",
        "        self.nodes = []  # List of all nodes\n",
        "        self.problem_statement = problem_statement\n",
        "        self.verification_prompt = verification_prompt\n",
        "        self.model_name = model_name\n",
        "        self.paras = paras\n",
        "        self.root = TreeNode(0, problem_statement, \"\", 1.0)  # Create root node\n",
        "        self.nodes.append(self.root)\n",
        "        self.depth_nodes = [[] for _ in range(100)]  # Organize nodes by depth\n",
        "        self.depth_nodes[0].append(self.root)\n",
        "        self.remaining_width = paras[\"width\"]  # Control breadth of exploration\n",
        "        self.running_list = []  # Temporary storage for new nodes\n",
        "        self.history_list = []  # Track all generated nodes\n",
        "\n",
        "    def _complete_(self, node):\n",
        "        \"\"\"Determine if the node represents a complete solution using the COMPLETE_PROMPT.\"\"\"\n",
        "        complete_prompt = COMPLETE_PROMPT.format(problem=self.problem_statement, par_str=node.value)\n",
        "        complete = call_gemini(complete_prompt, model_name=self.model_name)\n",
        "        return complete\n",
        "\n",
        "    def reset_running_list(self):\n",
        "        \"\"\"Clear the temporary node storage\"\"\"\n",
        "        self.running_list = []\n",
        "\n",
        "    def expand(self, node, width):\n",
        "        \"\"\"\n",
        "        Generate 'width' number of new solution steps from given node\n",
        "        using the language model and evaluate their quality\n",
        "        \"\"\"\n",
        "        for _ in range(width):\n",
        "            step_prompt = STEP_PROMPT.format(problem=node.question, par_str=node.value)\n",
        "            step = call_gemini(step_prompt, model_name=self.model_name, temperature=self.paras[\"temperature\"])\n",
        "\n",
        "            new_out = node.value + \"\\n\" + step\n",
        "            reward_prompt = REWARD_PROMPT.format(problem=node.question, par_str=new_out, verification_prompt=self.verification_prompt)\n",
        "            reward_output = call_gemini(reward_prompt, self.model_name)\n",
        "\n",
        "            # Parse reward and ensure it's an integer between -100 and 100\n",
        "            try:\n",
        "                score = int(reward_output.split('Score:')[-1].strip())\n",
        "                score = max(-100, min(100, score))  # Clamp between -100 and 100\n",
        "            except:\n",
        "                score = -100\n",
        "\n",
        "            new_node = TreeNode(len(self.nodes), node.question, new_out, score, num_step_tokens=len(new_out), parent=node)\n",
        "            new_node.check_leaf(self)\n",
        "            self.running_list.append(new_node)\n",
        "            self.history_list.append(new_node)\n",
        "\n",
        "    def insert(self, state, parent):\n",
        "        \"\"\"Add a new node to the tree structure\"\"\"\n",
        "        new_node = TreeNode(len(self.nodes), state.question, state.value, state.score, state.num_step_tokens, parent)\n",
        "        new_node.check_leaf(self)\n",
        "        self.nodes.append(new_node)\n",
        "        self.depth_nodes[new_node.depth].append(new_node)\n",
        "\n",
        "    def select_and_expand(self, depth):\n",
        "        \"\"\"\n",
        "        Select promising nodes at current depth and expand them.\n",
        "        Returns False if no expansion is possible.\n",
        "        \"\"\"\n",
        "        candidate_nodes = [node for node in self.depth_nodes[depth] if not node.is_leaf()]\n",
        "\n",
        "        if not candidate_nodes or self.remaining_width <= 0:\n",
        "            # print(\"No expansion possible\")\n",
        "            return False\n",
        "\n",
        "        sorted_nodes = sorted(candidate_nodes, key=lambda x: x.get_score(), reverse=True)\n",
        "        selected_nodes = sorted_nodes[:self.remaining_width]\n",
        "\n",
        "        for node in selected_nodes:\n",
        "            self.expand(node, width=1)\n",
        "            self.remaining_width -= 1\n",
        "            if self.remaining_width <= 0:\n",
        "                break\n",
        "        return True\n",
        "\n",
        "    def print_tree(self):\n",
        "        \"\"\"Print the entire tree structure\"\"\"\n",
        "        def print_node(node, indent=\"\"):\n",
        "            print(f\"{indent}Node ID: {node.id}, Score: {node.score}, Depth: {node.depth}, Leaf: {node.is_leaf()}\")\n",
        "            for child in [n for n in self.nodes if n.parent == node]:\n",
        "                print_node(child, indent + \"  \")\n",
        "\n",
        "        print_node(self.root)\n",
        "\n",
        "\n",
        "class Rebase:\n",
        "    \"\"\"Main class for implementing reward-guided solution search\"\"\"\n",
        "    def __init__(self, model_name, paras):\n",
        "        self.model_name = model_name\n",
        "        self.paras = paras\n",
        "\n",
        "    def reward_guided_search(self, problem_statement, verification_prompt):\n",
        "        \"\"\"\n",
        "        Search for solution using tree exploration guided by reward scores.\n",
        "        Returns the first complete solution found or None if none exists.\n",
        "        \"\"\"\n",
        "        tree = Tree(problem_statement, verification_prompt, self.model_name, self.paras)\n",
        "        depth = 0\n",
        "        while True:\n",
        "            tree.reset_running_list()\n",
        "            if not tree.select_and_expand(depth):\n",
        "                print(\"No more expansion possible, ending search\")\n",
        "                break\n",
        "\n",
        "            for state in tree.running_list:\n",
        "                parent = state.parent\n",
        "                tree.insert(state, parent)\n",
        "\n",
        "            depth += 1\n",
        "            if depth >= self.paras.get(\"max_depth\", 25):\n",
        "                print(\"Reached maximum depth\")\n",
        "                break\n",
        "\n",
        "        # tree.print_tree()\n",
        "        complete_solutions = [node for node in tree.nodes if node.is_leaf()]\n",
        "        print(f\"\\nFound {len(complete_solutions)} complete solutions\")\n",
        "        return complete_solutions[0] if complete_solutions else None"
      ],
      "metadata": {
        "id": "tn0O91KWTCDj"
      },
      "execution_count": null,
      "outputs": []
    },
    {
      "cell_type": "markdown",
      "source": [
        "# Implementation of PlanGEN (Mixture of Algorithms)\n",
        "\n",
        "The Mixture of Algorithms framework introduces a selection agent which dynamically selects the best possible inference-time algorithms proposed in the above sections based on instance-level complexity. The framework operates in a modular and iterative manner, ensuring adaptability in addressing planning and reasoning problems with different complexity effectively.\n",
        "\n",
        "> **Orchestration** The process begins with generating an initial plan using LLM based on the task description and problem statement. Along with this, the constraint agent is employed to generate an instance-specific set of constraints. Based on the constraints, the verification agent evaluates the quality of the initial plan and provides a reward score. If the initial plan meets the required threshold, it is acceptable as the \"Final Plan\". Otherwise, the iterative refinement process begins.\n",
        "\n",
        "> **Iterative Refinement** During this iterative refinement, the selection agent determines the most suitable algorithm based on the instance-specific complexity and historical UCB values. The selected algorithm produces an updated plan, which is then re-evaluated by the verification agent. To ensure continual improvement, the framework incorporates feedback generated by a verification agent that provides guidance, and this feedback loop enables the system to refine the plan incrementally."
      ],
      "metadata": {
        "id": "kpTZ16kBTsBs"
      }
    },
    {
      "cell_type": "markdown",
      "source": [
        "## Verification Agent"
      ],
      "metadata": {
        "id": "kz8jvlazVNCA"
      }
    },
    {
      "cell_type": "markdown",
      "source": [
        "**Import libraries**"
      ],
      "metadata": {
        "id": "lmwLh_TwVTDZ"
      }
    },
    {
      "cell_type": "code",
      "source": [
        "from typing import Dict, Any\n",
        "from functools import lru_cache"
      ],
      "metadata": {
        "id": "_UG01qQTVYGs"
      },
      "execution_count": null,
      "outputs": []
    },
    {
      "cell_type": "markdown",
      "source": [
        "**Class for Verification Agent**"
      ],
      "metadata": {
        "id": "oyPHXWnnVY9t"
      }
    },
    {
      "cell_type": "code",
      "source": [
        "class VerifierAgent:\n",
        "    def __init__(self, max_attempts: int = 3, base_temperature: float = 0.7):\n",
        "        self.max_attempts = max_attempts\n",
        "        self.base_temperature = base_temperature\n",
        "        self.response_schema = {\n",
        "            \"type\": \"object\",\n",
        "            \"properties\": {\n",
        "                \"feedback\": {\"type\": \"string\"},\n",
        "                \"verified\": {\"type\": \"boolean\"}\n",
        "            },\n",
        "            \"required\": [\"feedback\", \"verified\"]\n",
        "        }\n",
        "\n",
        "    @property\n",
        "    @lru_cache()\n",
        "    def verifier_system_prompt(self) -> str:\n",
        "        return \"\"\"\n",
        "        Provide a reward score between -100 and 100 for the plan steps quality, using very strict standards. Do not give a full score above 98. Ensure the reward reflects how well the plan steps contributes to progressing toward the correct solution.\n",
        "\n",
        "<problem>\n",
        "{problem}\n",
        "</problem>\n",
        "\n",
        "<plan>\n",
        "{par_str}\n",
        "</plan>\n",
        "\n",
        "Consider below constraints while evaluating:\n",
        "{verification_prompt}\n",
        "\n",
        "Make sure to check all the constraints before giving the reward score.\n",
        "\n",
        "Please provide a reward in the below format:\n",
        "[step-by-step reasoning for the reward score]\n",
        "Score: [Strictly provide the reward score as an integer between -100 and 100]\n",
        "\"\"\"\n",
        "\n",
        "    def verify(self, problem_statement: str, plan: str, verification_prompt: str, model_name: str) -> Dict[str, Any]:\n",
        "        last_error = None\n",
        "\n",
        "        prompt= self.verifier_system_prompt.format(problem=problem_statement, par_str=plan, verification_prompt=verification_prompt)\n",
        "        reward_output= call_gemini(prompt, temperature=0, model_name=model_name)\n",
        "\n",
        "        try:\n",
        "            reward = int(reward_output.split('Score:')[-1].strip())\n",
        "            reward = max(-100, min(100, reward))  # Clamp between -100 and 100\n",
        "        except:\n",
        "            reward = -100\n",
        "\n",
        "        return {\n",
        "            \"feedback\": reward_output,\n",
        "            \"score\": reward,\n",
        "            \"verified\": reward >= 95\n",
        "        }"
      ],
      "metadata": {
        "id": "jgml0C3yTwTy"
      },
      "execution_count": null,
      "outputs": []
    },
    {
      "cell_type": "markdown",
      "source": [
        "## Selection Agent"
      ],
      "metadata": {
        "id": "BCNKTVoFVfIC"
      }
    },
    {
      "cell_type": "markdown",
      "source": [
        "**Import libraries**"
      ],
      "metadata": {
        "id": "qXHnm7IKVpHQ"
      }
    },
    {
      "cell_type": "code",
      "source": [
        "import sys\n",
        "import math"
      ],
      "metadata": {
        "id": "5DAz7ToGVhIR"
      },
      "execution_count": null,
      "outputs": []
    },
    {
      "cell_type": "markdown",
      "source": [
        "**Class for Selection Agent**"
      ],
      "metadata": {
        "id": "x5vXTHBtVtR8"
      }
    },
    {
      "cell_type": "code",
      "source": [
        "class SelectionAgent:\n",
        "    def __init__(self):\n",
        "        self.algorithms = {\n",
        "            \"Best of N\": self.best_of_n,\n",
        "            \"Rebase\": self.rebase,\n",
        "            \"ToT\": self.tree_of_thoughts\n",
        "        }\n",
        "        self.rebase_config = {\n",
        "            \"temperature\": 0.7,\n",
        "            \"max_step_tokens\": 256,\n",
        "            \"max_tokens\": 1024,\n",
        "            \"select_method\": \"softmax\",\n",
        "            \"num_threads\": 8,\n",
        "            \"softmax_temperature\": 0.2,\n",
        "            \"reward_model_type\": \"llemma\",\n",
        "            \"policy_model_type\": \"llemma\",\n",
        "            \"model_name\": model_name,\n",
        "            \"store_path\": \"./exp_results/rebase_16/\",\n",
        "            \"width\": 10\n",
        "        }\n",
        "\n",
        "        # Multi-Armed Bandit initialization\n",
        "        self.rewards = {algo: 0 for algo in self.algorithms.keys()}\n",
        "        self.counts = {algo: 1 for algo in self.algorithms.keys()}  # Avoid division by zero\n",
        "        self.total_trials = 0\n",
        "        self.lambda_prior_base = 10  # Initial scaling for LLM prior\n",
        "        self.alpha_diversity = 1  # Scaling factor for diversity bonus\n",
        "        self.alpha_recovery = 1  # Scaling factor for recovery adjustments\n",
        "        self.recovery_scores = {algo: 0 for algo in self.algorithms.keys()}  # Recovery performance\n",
        "        self.failures = {algo: 0 for algo in self.algorithms.keys()}  # Failure counts\n",
        "        self.diversity_bonus = {algo: 1 for algo in self.algorithms.keys()}  # Diversity scores\n",
        "\n",
        "    def select_algorithm(self, problem_statement, feedback, previous_plan=None, model_name=None):\n",
        "        \"\"\"\n",
        "        Select the best algorithm based on the revised UCB equation.\n",
        "        \"\"\"\n",
        "        # Decay lambda_prior dynamically\n",
        "        lambda_prior = self.lambda_prior_base / (1 + self.total_trials)\n",
        "        max_exploration = 5  # Cap for exploration term\n",
        "\n",
        "        # Get LLM-guided priors\n",
        "        llm_prior, exp_llm = self.llm_guided_prior(problem_statement, feedback, previous_plan, model_name)\n",
        "\n",
        "        # Normalize rewards\n",
        "        max_reward = max(self.rewards.values()) if max(self.rewards.values()) > 0 else 1\n",
        "\n",
        "        # UCB selection policy\n",
        "        ucb_values = {}\n",
        "        for algo in self.algorithms.keys():\n",
        "            avg_reward = self.rewards[algo] / self.counts[algo]\n",
        "            normalized_reward = avg_reward / max_reward\n",
        "            exploration = min(math.sqrt(2 * math.log(self.total_trials + 1) / self.counts[algo]), max_exploration)\n",
        "\n",
        "            # Diversity bonus (penalize overused algorithms)\n",
        "            diversity_bonus = self.alpha_diversity / (self.counts[algo] + 1)\n",
        "\n",
        "            # Recovery score adjustment (reward algorithms that recover well after failures)\n",
        "            recovery_bonus = self.alpha_recovery * self.recovery_scores[algo]\n",
        "\n",
        "            # Compute UCB with all terms\n",
        "            ucb_values[algo] = (\n",
        "                normalized_reward\n",
        "                + exploration\n",
        "                + lambda_prior * llm_prior.get(algo, 0)\n",
        "                + diversity_bonus\n",
        "                + recovery_bonus\n",
        "            )\n",
        "\n",
        "        selected_algorithm = max(ucb_values, key=ucb_values.get)\n",
        "        print(f\"Selected Algorithm: {selected_algorithm} (UCB: {ucb_values[selected_algorithm]:.4f})\")\n",
        "\n",
        "        return self.algorithms[selected_algorithm], selected_algorithm, (llm_prior, exp_llm), ucb_values\n",
        "\n",
        "    def llm_guided_prior(self, problem_statement, feedback, previous_plan=None, model_name=\"gemini-1.5-pro-002\"):\n",
        "        \"\"\"\n",
        "        Use LLM to guide initial reward estimates or provide adjustments to UCB scores.\n",
        "        \"\"\"\n",
        "        context = f\" and improve upon the previous plan: '{previous_plan}'\" if previous_plan else \"\"\n",
        "        prompt = (\n",
        "    f\"Analyze the following planning problem and explain your reasoning for assigning priority scores to the algorithms \"\n",
        "    f\"based on their suitability. Scores should be between 0 and 1, where 1 represents the most suitable algorithm for \"\n",
        "    f\"the given problem:\\n\\n\"\n",
        "    f\"Problem Statement: '{problem_statement}'\\n\"\n",
        "    f\"Requirements: {feedback}\\n\"\n",
        "    f\"Context: {context if context else 'None provided'}\\n\\n\"\n",
        "    \"Start by providing a brief reasoning for each algorithm's suitability based on problem complexity. Then, ONLY output your response strictly as a list with the exact format below.\\n\"\n",
        "    \"Reasoning:\\n\"\n",
        "    \"- Best of N: [Explain why this algorithm is or isn’t suitable]\\n\"\n",
        "    \"- Rebase: [Explain why this algorithm is or isn’t suitable]\\n\"\n",
        "    \"- ToT: [Explain why this algorithm is or isn’t suitable]\\n\\n\"\n",
        "    \"Scores:\\n\"\n",
        "    '[\\n'\n",
        "    '    (\"Best of N\", float),  # Only the score between 0 and 1\\n'\n",
        "    '    (\"Rebase\", float),     # Only the score between 0 and 1\\n'\n",
        "    '    (\"ToT\", float)         # Only the score between 0 and 1\\n'\n",
        "    ']'\n",
        ")\n",
        "\n",
        "        response_full = call_gemini(prompt, model_name=model_name)\n",
        "        try:\n",
        "            # Parse LLM response into a list of tuples\n",
        "            response = response_full.split(\"Scores:\")[1].strip()\n",
        "            scores_list = eval(response)\n",
        "            # Convert list of tuples into a dictionary\n",
        "            scores = {algo: score for algo, score in scores_list}\n",
        "            return scores, response_full\n",
        "        except Exception as e:\n",
        "            print(f\"Error parsing LLM response: {e}\")\n",
        "            return {algo: 0 for algo in self.algorithms.keys()}, response_full  # Default to zero scores\n",
        "\n",
        "    def register_failure(self, algorithm):\n",
        "        \"\"\"\n",
        "        Register a failure for an algorithm and adjust its recovery score.\n",
        "        \"\"\"\n",
        "        self.failures[algorithm] += 1\n",
        "        # Update recovery score: penalize frequent failures, but allow for recovery\n",
        "        self.recovery_scores[algorithm] = 1 / (self.failures[algorithm] + 1)\n",
        "\n",
        "    def update_rewards(self, algorithm, reward):\n",
        "        self.rewards[algorithm] += reward\n",
        "        self.counts[algorithm] += 1\n",
        "        self.total_trials += 1\n",
        "\n",
        "    def best_of_n(self, problem_statement, verification_prompt, model_name=None):\n",
        "        # Using SelfConsistencyEvaluator for Best of N\n",
        "        evaluator = SelfConsistencyEvaluator(verification_prompt= verification_prompt, model_name=model_name)\n",
        "\n",
        "        try:\n",
        "            _, best_answer = evaluator.get_best_response(problem_statement, no_of_times=5)\n",
        "        except Exception as e:\n",
        "            print(f\"Error during Best of N run: {e}\")\n",
        "            best_answer = \"\"\n",
        "\n",
        "        return {\"plan\": best_answer, \"status\": \"refined\"}\n",
        "\n",
        "    def rebase(self, problem_statement, verification_prompt, model_name=None):\n",
        "\n",
        "        # Initialize Rebase with the chosen model and parameters\n",
        "        rebase_solver = Rebase(model_name=model_name, paras=self.rebase_config)\n",
        "\n",
        "        try:\n",
        "            complete_solutions = rebase_solver.reward_guided_search(problem_statement, verification_prompt=verification_prompt)\n",
        "            if complete_solutions:\n",
        "                best_answer = complete_solutions.value if hasattr(complete_solutions, 'value') else str(complete_solutions)\n",
        "            else:\n",
        "                best_answer = ''\n",
        "        except Exception as e:\n",
        "            print(f\"Error during ToT run: {e}\")\n",
        "            best_answer = ''\n",
        "\n",
        "        return {\"plan\": best_answer, \"status\": \"refined\"}\n",
        "\n",
        "    def tree_of_thoughts(self, problem_statement, verification_prompt, model_name=None):\n",
        "        # Using SelfConsistencyEvaluator for sampling\n",
        "        bfs_solver = BFS_sbs(\n",
        "                problem=problem_statement,\n",
        "                verification_prompt=verification_prompt,\n",
        "                no_samples=3,\n",
        "                model_name=model_name\n",
        "            )\n",
        "\n",
        "        try:\n",
        "            best_answer, _ = bfs_solver.run()\n",
        "        except Exception as e:\n",
        "            print(f\"Error during ToT run: {e}\")\n",
        "            best_answer = \"\"\n",
        "\n",
        "        return {\"plan\": best_answer, \"status\": \"refined\"}"
      ],
      "metadata": {
        "id": "8BlaU7eMVwPQ"
      },
      "execution_count": null,
      "outputs": []
    },
    {
      "cell_type": "markdown",
      "source": [
        "## Orchastration Unit"
      ],
      "metadata": {
        "id": "RlT8SFzlWxV3"
      }
    },
    {
      "cell_type": "markdown",
      "source": [
        "**Import libraries**"
      ],
      "metadata": {
        "id": "DWinJ0EJW1KP"
      }
    },
    {
      "cell_type": "code",
      "source": [
        "from os.path import join"
      ],
      "metadata": {
        "id": "Wl_kWYwFWzcq"
      },
      "execution_count": null,
      "outputs": []
    },
    {
      "cell_type": "markdown",
      "source": [
        "**Classes for Orchastration Unit**"
      ],
      "metadata": {
        "id": "1DLBPExpXBMF"
      }
    },
    {
      "cell_type": "code",
      "source": [
        "class Gemini:\n",
        "    def create_initial_plan(self, problem_description, model_name):\n",
        "        initial_plan = call_gemini(problem_description, temperature=0.0, model_name=model_name)\n",
        "        return initial_plan\n",
        "\n",
        "class OrchastrationUnit:\n",
        "    def __init__(self):\n",
        "        self.gemini = Gemini()\n",
        "        self.verifier = VerifierAgent()\n",
        "        self.selection_agent = SelectionAgent()\n",
        "\n",
        "    def execute(self, problem_description, verification_prompt=None, model_name=None):\n",
        "        print(\"\\n=== Starting Orchestration Execution ===\")\n",
        "\n",
        "        # Check if problem_description is list or string\n",
        "        if isinstance(problem_description, str):\n",
        "            initial_prompt = enhanced_prompt = problem_description\n",
        "        elif isinstance(problem_description, list):\n",
        "            initial_prompt = problem_description[0]\n",
        "            enhanced_prompt = problem_description[1]\n",
        "        else:\n",
        "            raise ValueError(\"problem_description must be either string or list\")\n",
        "\n",
        "        feedback_lst= []\n",
        "\n",
        "        print(\"\\n--- Step 1: Creating Initial Plan ---\")\n",
        "        plan = self.gemini.create_initial_plan(initial_prompt, model_name=model_name)\n",
        "\n",
        "        print(\"\\n--- Step 2: Getting Initial Verification ---\")\n",
        "        feedback = self.verifier.verify(initial_prompt, plan, verification_prompt, model_name=model_name)\n",
        "        feedback[\"verified\"] = False\n",
        "        feedback_lst.append(feedback)\n",
        "\n",
        "        iteration = 1\n",
        "        max_iterations = 3\n",
        "        selected_algorithm_lst, priors_lst, ucb_values_lst, all_plans = [], [], [], []\n",
        "\n",
        "        all_plans.append((plan, feedback[\"score\"]))\n",
        "\n",
        "        while not feedback[\"verified\"] and iteration <= max_iterations:\n",
        "            print(f\"\\n--- Refinement Iteration {iteration} ---\")\n",
        "\n",
        "            selected_algorithm, algorithm_name, priors, ucb_values = self.selection_agent.select_algorithm(\n",
        "            initial_prompt if isinstance(problem_description, list) else problem_description,\n",
        "            feedback[\"feedback\"],\n",
        "            previous_plan=plan,\n",
        "            model_name=model_name\n",
        "            )\n",
        "\n",
        "            if selected_algorithm:\n",
        "                print(f\"\\n--- Step 3: Running {algorithm_name} Algorithm ---\")\n",
        "                selected_algorithm_lst.append(algorithm_name)\n",
        "                priors_lst.append(priors)\n",
        "                ucb_values_lst.append(ucb_values)\n",
        "\n",
        "                # Determine base prompt based on algorithm type\n",
        "                if selected_algorithm.__name__ in ['mcts_with_refine', 'best_of_n']:\n",
        "                    base_prompt = initial_prompt if isinstance(problem_description, list) else problem_description\n",
        "                else:  # rebase and ToT\n",
        "                    base_prompt = enhanced_prompt if isinstance(problem_description, list) else problem_description\n",
        "\n",
        "                enhanced_problem = f\"Previous plan:\\n{plan}\\nConsider this feedback while generating updated plan: {feedback['feedback']}\\n\\n{base_prompt}\\n\\nBased on the feedback, start generating the plan again from the begining following above prompt.\"\n",
        "                plan = selected_algorithm(enhanced_problem, verification_prompt, model_name=model_name)\n",
        "                feedback = self.verifier.verify(enhanced_problem, plan, verification_prompt, model_name=model_name)\n",
        "                feedback_lst.append(feedback)\n",
        "\n",
        "                # Update bandit rewards or register failure\n",
        "                if not feedback[\"verified\"]:\n",
        "                    self.selection_agent.register_failure(algorithm_name)\n",
        "                else:\n",
        "                    self.selection_agent.update_rewards(algorithm_name, feedback[\"score\"])\n",
        "\n",
        "                # Update bandit rewards\n",
        "                # self.selection_agent.update_rewards(algorithm_name, feedback[\"score\"])\n",
        "                all_plans.append((plan, feedback[\"score\"]))\n",
        "\n",
        "            iteration += 1\n",
        "\n",
        "        if iteration > max_iterations:\n",
        "            # Select the plan with the highest score\n",
        "            plan = max(all_plans, key=lambda x: x[1])[0]\n",
        "            selected_algorithm_lst.append(\"\\n=== Maximum iterations reached without inference-time compute ===\")\n",
        "\n",
        "        return plan, selected_algorithm_lst, {\"priors\": priors_lst, \"ucb_values\": ucb_values_lst}, feedback_lst, all_plans"
      ],
      "metadata": {
        "id": "wExotHJWXGPX"
      },
      "execution_count": null,
      "outputs": []
    },
    {
      "cell_type": "markdown",
      "source": [
        "# Example Tutorial on Running All PlanGEN Frameworks on NATURAL PLAN\n",
        "\n",
        "> This tutorial provides example run on two tasks from the NATURAL PLAN benchmark: Calendar Scheduling and Trip Planning. For each task, only three instances were evaluated, focusing on the frameworks' ability to generate both a step-by-step plan (`model_plan`) and a final solution (`model_prediction`). All generated predictions were saved in a `final_prediction` list."
      ],
      "metadata": {
        "id": "qt8_j4h4lJZf"
      }
    },
    {
      "cell_type": "markdown",
      "source": [
        "### Load examples for calendar scheduling\n",
        "\n",
        "Data Template:\n",
        "```\n",
        "{\n",
        "    'num_people': '<number of participants>',\n",
        "    'num_days': '<number of days>',\n",
        "    'duration': '<meeting duration in hours or minutes>',\n",
        "    'prompt_5shot': \"<detailed prompt with multiple examples to guide the scheduling system>\",\n",
        "    'golden_plan': \"<expected correct scheduling outcome>\",\n",
        "    'pred_5shot_pro': \"<model-generated scheduling prediction>\",\n",
        "    'prompt_0shot': \"<shorter prompt with minimal or no examples, testing model’s ability to generalize>\",\n",
        "    'id': '<unique identifier for the scheduling task>'\n",
        "}\n",
        "```"
      ],
      "metadata": {
        "id": "avAP8smtmcrW"
      }
    },
    {
      "cell_type": "code",
      "source": [
        "data_calendar = [{'num_people': '3',\n",
        "  'num_days': '1',\n",
        "  'duration': '1',\n",
        "  'prompt_5shot': \"You are an expert at scheduling meetings. You are given a few constraints on the existing schedule of each participant, the meeting duration, and possibly some preferences on the meeting time. Note there exists a solution that works with existing schedule of every participant. Here are a few example tasks and solutions:\\n\\nTASK: You need to schedule a meeting for Roger, Karen and Dorothy for half an hour between the work hours of 9:00 to 17:00 on Monday. \\n\\nHere are the existing schedules for everyone during the day: \\nRoger's calendar is wide open the entire day.\\nKaren has meetings on Monday during 10:00 to 10:30, 11:30 to 12:00, 12:30 to 13:00, 14:00 to 15:00, 15:30 to 16:00; \\nDorothy is busy on Monday during 9:00 to 10:00, 10:30 to 11:00, 11:30 to 12:00, 12:30 to 13:00, 14:00 to 15:30, 16:00 to 17:00; \\n\\nYou would like to schedule the meeting at their earlist availability.\\nFind a time that works for everyone's schedule and constraints. \\nSOLUTION: Here is the proposed time: Monday, 11:00 - 11:30 \\n\\nTASK: You need to schedule a meeting for Douglas, Lawrence and Isabella for half an hour between the work hours of 9:00 to 17:00 on Monday. \\n\\nHere are the existing schedules for everyone during the day: \\nDouglas has meetings on Monday during 12:00 to 12:30, 15:00 to 15:30; \\nLawrence has meetings on Monday during 10:30 to 12:00, 13:00 to 13:30, 14:00 to 14:30, 15:30 to 16:00; \\nIsabella is busy on Monday during 9:00 to 12:30, 13:30 to 17:00; \\n\\nFind a time that works for everyone's schedule and constraints. \\nSOLUTION: Here is the proposed time: Monday, 12:30 - 13:00 \\n\\nTASK: You need to schedule a meeting for Joshua, Denise and Jeremy for one hour between the work hours of 9:00 to 17:00 on Monday. \\n\\nHere are the existing schedules for everyone during the day: \\nJoshua is busy on Monday during 10:00 to 10:30, 12:00 to 12:30, 14:00 to 14:30, 15:00 to 15:30; \\nDenise's calendar is wide open the entire day.\\nJeremy has meetings on Monday during 9:30 to 10:30, 12:00 to 13:00, 13:30 to 14:00, 14:30 to 15:00, 15:30 to 16:00, 16:30 to 17:00; \\n\\nFind a time that works for everyone's schedule and constraints. \\nSOLUTION: Here is the proposed time: Monday, 10:30 - 11:30 \\n\\nTASK: You need to schedule a meeting for Alan, Elizabeth and Denise for half an hour between the work hours of 9:00 to 17:00 on Monday. \\n\\nHere are the existing schedules for everyone during the day: \\nAlan has blocked their calendar on Monday during 13:00 to 13:30, 14:00 to 14:30; \\nElizabeth is busy on Monday during 9:00 to 9:30, 11:00 to 11:30; \\nDenise has blocked their calendar on Monday during 9:00 to 10:00, 10:30 to 11:30, 12:30 to 13:00, 13:30 to 14:00, 14:30 to 16:00, 16:30 to 17:00; \\n\\nYou would like to schedule the meeting at their earlist availability.\\nFind a time that works for everyone's schedule and constraints. \\nSOLUTION: Here is the proposed time: Monday, 10:00 - 10:30 \\n\\nTASK: You need to schedule a meeting for Mason, Bruce and Christopher for half an hour between the work hours of 9:00 to 17:00 on Monday. \\n\\nHere are the existing schedules for everyone during the day: \\nMason has meetings on Monday during 9:30 to 10:00, 11:00 to 11:30, 14:30 to 15:00, 16:30 to 17:00; \\nBruce is free the entire day.\\nChristopher is busy on Monday during 9:30 to 10:30, 11:30 to 12:30, 15:00 to 17:00; \\n\\nMason would rather not meet on Monday before 12:30. Find a time that works for everyone's schedule and constraints. \\nSOLUTION: Here is the proposed time: Monday, 12:30 - 13:00 \\n\\nTASK: You need to schedule a meeting for Michelle, Steven and Jerry for one hour between the work hours of 9:00 to 17:00 on Monday. \\n\\nHere are the existing schedules for everyone during the day: \\nMichelle has meetings on Monday during 11:00 to 12:00; \\nSteven has blocked their calendar on Monday during 9:00 to 9:30, 11:30 to 12:00, 13:30 to 14:00, 15:30 to 16:00; \\nJerry has blocked their calendar on Monday during 9:00 to 9:30, 10:00 to 11:00, 11:30 to 12:30, 13:00 to 14:30, 15:30 to 16:00, 16:30 to 17:00; \\n\\nFind a time that works for everyone's schedule and constraints. \\nSOLUTION: \",\n",
        "  'golden_plan': 'Here is the proposed time: Monday, 14:30 - 15:30 ',\n",
        "  'pred_5shot_pro': 'SOLUTION: Here is the proposed time: Monday, 14:30 - 15:30 \\n',\n",
        "  'prompt_0shot': \"You are an expert at scheduling meetings. You are given a few constraints on the existing schedule of each participant, the meeting duration, and possibly some preferences on the meeting time. Note there exists a solution that works with existing schedule of every participant. Here are a few example tasks and solutions:\\n\\nTASK: You need to schedule a meeting for Michelle, Steven and Jerry for one hour between the work hours of 9:00 to 17:00 on Monday. \\n\\nHere are the existing schedules for everyone during the day: \\nMichelle has meetings on Monday during 11:00 to 12:00; \\nSteven has blocked their calendar on Monday during 9:00 to 9:30, 11:30 to 12:00, 13:30 to 14:00, 15:30 to 16:00; \\nJerry has blocked their calendar on Monday during 9:00 to 9:30, 10:00 to 11:00, 11:30 to 12:30, 13:00 to 14:30, 15:30 to 16:00, 16:30 to 17:00; \\n\\nFind a time that works for everyone's schedule and constraints. \\nSOLUTION: \",\n",
        "  'id': 'calendar_scheduling_example_0'},\n",
        " {'num_people': '3',\n",
        "  'num_days': '1',\n",
        "  'duration': '0.5',\n",
        "  'prompt_5shot': \"You are an expert at scheduling meetings. You are given a few constraints on the existing schedule of each participant, the meeting duration, and possibly some preferences on the meeting time. Note there exists a solution that works with existing schedule of every participant. Here are a few example tasks and solutions:\\n\\nTASK: You need to schedule a meeting for Roger, Karen and Dorothy for half an hour between the work hours of 9:00 to 17:00 on Monday. \\n\\nHere are the existing schedules for everyone during the day: \\nRoger's calendar is wide open the entire day.\\nKaren has meetings on Monday during 10:00 to 10:30, 11:30 to 12:00, 12:30 to 13:00, 14:00 to 15:00, 15:30 to 16:00; \\nDorothy is busy on Monday during 9:00 to 10:00, 10:30 to 11:00, 11:30 to 12:00, 12:30 to 13:00, 14:00 to 15:30, 16:00 to 17:00; \\n\\nYou would like to schedule the meeting at their earlist availability.\\nFind a time that works for everyone's schedule and constraints. \\nSOLUTION: Here is the proposed time: Monday, 11:00 - 11:30 \\n\\nTASK: You need to schedule a meeting for Douglas, Lawrence and Isabella for half an hour between the work hours of 9:00 to 17:00 on Monday. \\n\\nHere are the existing schedules for everyone during the day: \\nDouglas has meetings on Monday during 12:00 to 12:30, 15:00 to 15:30; \\nLawrence has meetings on Monday during 10:30 to 12:00, 13:00 to 13:30, 14:00 to 14:30, 15:30 to 16:00; \\nIsabella is busy on Monday during 9:00 to 12:30, 13:30 to 17:00; \\n\\nFind a time that works for everyone's schedule and constraints. \\nSOLUTION: Here is the proposed time: Monday, 12:30 - 13:00 \\n\\nTASK: You need to schedule a meeting for Joshua, Denise and Jeremy for one hour between the work hours of 9:00 to 17:00 on Monday. \\n\\nHere are the existing schedules for everyone during the day: \\nJoshua is busy on Monday during 10:00 to 10:30, 12:00 to 12:30, 14:00 to 14:30, 15:00 to 15:30; \\nDenise's calendar is wide open the entire day.\\nJeremy has meetings on Monday during 9:30 to 10:30, 12:00 to 13:00, 13:30 to 14:00, 14:30 to 15:00, 15:30 to 16:00, 16:30 to 17:00; \\n\\nFind a time that works for everyone's schedule and constraints. \\nSOLUTION: Here is the proposed time: Monday, 10:30 - 11:30 \\n\\nTASK: You need to schedule a meeting for Alan, Elizabeth and Denise for half an hour between the work hours of 9:00 to 17:00 on Monday. \\n\\nHere are the existing schedules for everyone during the day: \\nAlan has blocked their calendar on Monday during 13:00 to 13:30, 14:00 to 14:30; \\nElizabeth is busy on Monday during 9:00 to 9:30, 11:00 to 11:30; \\nDenise has blocked their calendar on Monday during 9:00 to 10:00, 10:30 to 11:30, 12:30 to 13:00, 13:30 to 14:00, 14:30 to 16:00, 16:30 to 17:00; \\n\\nYou would like to schedule the meeting at their earlist availability.\\nFind a time that works for everyone's schedule and constraints. \\nSOLUTION: Here is the proposed time: Monday, 10:00 - 10:30 \\n\\nTASK: You need to schedule a meeting for Mason, Bruce and Christopher for half an hour between the work hours of 9:00 to 17:00 on Monday. \\n\\nHere are the existing schedules for everyone during the day: \\nMason has meetings on Monday during 9:30 to 10:00, 11:00 to 11:30, 14:30 to 15:00, 16:30 to 17:00; \\nBruce is free the entire day.\\nChristopher is busy on Monday during 9:30 to 10:30, 11:30 to 12:30, 15:00 to 17:00; \\n\\nMason would rather not meet on Monday before 12:30. Find a time that works for everyone's schedule and constraints. \\nSOLUTION: Here is the proposed time: Monday, 12:30 - 13:00 \\n\\nTASK: You need to schedule a meeting for Raymond, Billy and Donald for half an hour between the work hours of 9:00 to 17:00 on Monday. \\n\\nHere are the existing schedules for everyone during the day: \\nRaymond has blocked their calendar on Monday during 9:00 to 9:30, 11:30 to 12:00, 13:00 to 13:30, 15:00 to 15:30; \\nBilly has meetings on Monday during 10:00 to 10:30, 12:00 to 13:00, 16:30 to 17:00; \\nDonald has meetings on Monday during 9:00 to 9:30, 10:00 to 11:00, 12:00 to 13:00, 14:00 to 14:30, 16:00 to 17:00; \\n\\nBilly would like to avoid more meetings on Monday after 15:00. Find a time that works for everyone's schedule and constraints. \\nSOLUTION: \",\n",
        "  'golden_plan': 'Here is the proposed time: Monday, 14:30 - 15:00 ',\n",
        "  'pred_5shot_pro': 'Here is the proposed time: Monday, 13:30 - 14:00 \\n',\n",
        "  'prompt_0shot': \"You are an expert at scheduling meetings. You are given a few constraints on the existing schedule of each participant, the meeting duration, and possibly some preferences on the meeting time. Note there exists a solution that works with existing schedule of every participant. Here are a few example tasks and solutions:\\n\\nTASK: You need to schedule a meeting for Raymond, Billy and Donald for half an hour between the work hours of 9:00 to 17:00 on Monday. \\n\\nHere are the existing schedules for everyone during the day: \\nRaymond has blocked their calendar on Monday during 9:00 to 9:30, 11:30 to 12:00, 13:00 to 13:30, 15:00 to 15:30; \\nBilly has meetings on Monday during 10:00 to 10:30, 12:00 to 13:00, 16:30 to 17:00; \\nDonald has meetings on Monday during 9:00 to 9:30, 10:00 to 11:00, 12:00 to 13:00, 14:00 to 14:30, 16:00 to 17:00; \\n\\nBilly would like to avoid more meetings on Monday after 15:00. Find a time that works for everyone's schedule and constraints. \\nSOLUTION: \",\n",
        "  'id': 'calendar_scheduling_example_1'},\n",
        " {'num_people': '3',\n",
        "  'num_days': '1',\n",
        "  'duration': '0.5',\n",
        "  'prompt_5shot': \"You are an expert at scheduling meetings. You are given a few constraints on the existing schedule of each participant, the meeting duration, and possibly some preferences on the meeting time. Note there exists a solution that works with existing schedule of every participant. Here are a few example tasks and solutions:\\n\\nTASK: You need to schedule a meeting for Roger, Karen and Dorothy for half an hour between the work hours of 9:00 to 17:00 on Monday. \\n\\nHere are the existing schedules for everyone during the day: \\nRoger's calendar is wide open the entire day.\\nKaren has meetings on Monday during 10:00 to 10:30, 11:30 to 12:00, 12:30 to 13:00, 14:00 to 15:00, 15:30 to 16:00; \\nDorothy is busy on Monday during 9:00 to 10:00, 10:30 to 11:00, 11:30 to 12:00, 12:30 to 13:00, 14:00 to 15:30, 16:00 to 17:00; \\n\\nYou would like to schedule the meeting at their earlist availability.\\nFind a time that works for everyone's schedule and constraints. \\nSOLUTION: Here is the proposed time: Monday, 11:00 - 11:30 \\n\\nTASK: You need to schedule a meeting for Douglas, Lawrence and Isabella for half an hour between the work hours of 9:00 to 17:00 on Monday. \\n\\nHere are the existing schedules for everyone during the day: \\nDouglas has meetings on Monday during 12:00 to 12:30, 15:00 to 15:30; \\nLawrence has meetings on Monday during 10:30 to 12:00, 13:00 to 13:30, 14:00 to 14:30, 15:30 to 16:00; \\nIsabella is busy on Monday during 9:00 to 12:30, 13:30 to 17:00; \\n\\nFind a time that works for everyone's schedule and constraints. \\nSOLUTION: Here is the proposed time: Monday, 12:30 - 13:00 \\n\\nTASK: You need to schedule a meeting for Joshua, Denise and Jeremy for one hour between the work hours of 9:00 to 17:00 on Monday. \\n\\nHere are the existing schedules for everyone during the day: \\nJoshua is busy on Monday during 10:00 to 10:30, 12:00 to 12:30, 14:00 to 14:30, 15:00 to 15:30; \\nDenise's calendar is wide open the entire day.\\nJeremy has meetings on Monday during 9:30 to 10:30, 12:00 to 13:00, 13:30 to 14:00, 14:30 to 15:00, 15:30 to 16:00, 16:30 to 17:00; \\n\\nFind a time that works for everyone's schedule and constraints. \\nSOLUTION: Here is the proposed time: Monday, 10:30 - 11:30 \\n\\nTASK: You need to schedule a meeting for Alan, Elizabeth and Denise for half an hour between the work hours of 9:00 to 17:00 on Monday. \\n\\nHere are the existing schedules for everyone during the day: \\nAlan has blocked their calendar on Monday during 13:00 to 13:30, 14:00 to 14:30; \\nElizabeth is busy on Monday during 9:00 to 9:30, 11:00 to 11:30; \\nDenise has blocked their calendar on Monday during 9:00 to 10:00, 10:30 to 11:30, 12:30 to 13:00, 13:30 to 14:00, 14:30 to 16:00, 16:30 to 17:00; \\n\\nYou would like to schedule the meeting at their earlist availability.\\nFind a time that works for everyone's schedule and constraints. \\nSOLUTION: Here is the proposed time: Monday, 10:00 - 10:30 \\n\\nTASK: You need to schedule a meeting for Mason, Bruce and Christopher for half an hour between the work hours of 9:00 to 17:00 on Monday. \\n\\nHere are the existing schedules for everyone during the day: \\nMason has meetings on Monday during 9:30 to 10:00, 11:00 to 11:30, 14:30 to 15:00, 16:30 to 17:00; \\nBruce is free the entire day.\\nChristopher is busy on Monday during 9:30 to 10:30, 11:30 to 12:30, 15:00 to 17:00; \\n\\nMason would rather not meet on Monday before 12:30. Find a time that works for everyone's schedule and constraints. \\nSOLUTION: Here is the proposed time: Monday, 12:30 - 13:00 \\n\\nTASK: You need to schedule a meeting for Roy, Kathryn and Amy for half an hour between the work hours of 9:00 to 17:00 on Monday. \\n\\nHere are the existing schedules for everyone during the day: \\nRoy has blocked their calendar on Monday during 9:00 to 9:30, 10:00 to 10:30, 11:00 to 11:30, 12:30 to 13:00; \\nKathryn has meetings on Monday during 9:30 to 10:00, 16:30 to 17:00; \\nAmy has blocked their calendar on Monday during 9:00 to 14:30, 15:00 to 16:00, 16:30 to 17:00; \\n\\nAmy would rather not meet on Monday after 15:30. Find a time that works for everyone's schedule and constraints. \\nSOLUTION: \",\n",
        "  'golden_plan': 'Here is the proposed time: Monday, 14:30 - 15:00 ',\n",
        "  'pred_5shot_pro': 'Here is the proposed time: Monday, 14:30 - 15:00 \\n',\n",
        "  'prompt_0shot': \"You are an expert at scheduling meetings. You are given a few constraints on the existing schedule of each participant, the meeting duration, and possibly some preferences on the meeting time. Note there exists a solution that works with existing schedule of every participant. Here are a few example tasks and solutions:\\n\\nTASK: You need to schedule a meeting for Roy, Kathryn and Amy for half an hour between the work hours of 9:00 to 17:00 on Monday. \\n\\nHere are the existing schedules for everyone during the day: \\nRoy has blocked their calendar on Monday during 9:00 to 9:30, 10:00 to 10:30, 11:00 to 11:30, 12:30 to 13:00; \\nKathryn has meetings on Monday during 9:30 to 10:00, 16:30 to 17:00; \\nAmy has blocked their calendar on Monday during 9:00 to 14:30, 15:00 to 16:00, 16:30 to 17:00; \\n\\nAmy would rather not meet on Monday after 15:30. Find a time that works for everyone's schedule and constraints. \\nSOLUTION: \",\n",
        "  'id': 'calendar_scheduling_example_2'}]"
      ],
      "metadata": {
        "id": "zObEZc8Em_sE"
      },
      "execution_count": null,
      "outputs": []
    },
    {
      "cell_type": "markdown",
      "source": [
        "### Load examples for trip planning\n",
        "\n",
        "Data Template:\n",
        "```\n",
        "{\n",
        "    'num_cities': '<number of cities>',\n",
        "    'cities': '<city1**city2**city3**...>',\n",
        "    'durations': '<duration1**duration2**duration3**...>',\n",
        "    'total_days': '<total number of days>',\n",
        "    'flight_routes': '<direct flight routes between cities>',\n",
        "    'prompt_0shot': \"You plan to visit <num_cities> cities for <total_days> days in total.\n",
        "        You only take direct flights to commute between cities.\n",
        "        You would like to visit <city1> for <duration1> days.\n",
        "        You would like to visit <city2> for <duration2> days.\n",
        "        You would like to visit <city3> for <duration3> days.\n",
        "        Here are the cities that have direct flights: <flight_routes>.\n",
        "        Find a trip plan of visiting the cities for <total_days> days by taking direct flights to commute between them.\",\n",
        "    'prompt_5shot': \"You are an expert at planning trips.\n",
        "        You are given a few constraints regarding the cities to visit, the durations of stay,\n",
        "        and the available direct flights between the cities.\n",
        "        Here are a few example tasks and solutions:\\n\\nTASK: <Example 1>\\nSOLUTION: <Solution 1>\\n\\nTASK: <Example 2>\\nSOLUTION: <Solution 2>\\n\\nTASK: <Example 3>\\nSOLUTION: <Solution 3>\\n\\nTASK: You plan to visit <num_cities> cities for <total_days> days in total...\\nSOLUTION:\",\n",
        "    'golden_plan': \"Here is the trip plan for visiting <num_cities> cities for <total_days> days:\\n\\n**Day X-Y:** Arriving in <city1> and visit <city1> for <duration1> days.\\n**Day Y:** Fly from <city1> to <city2>.\\n**Day Y-Z:** Visit <city2> for <duration2> days.\\n**Day Z:** Fly from <city2> to <city3>.\\n**Day Z-T:** Visit <city3> for <duration3> days.\",\n",
        "    'pred_5shot_pro': \"<Model-generated trip itinerary>\",\n",
        "    'id': '<unique_identifier>'\n",
        "}\n",
        "\n",
        "```"
      ],
      "metadata": {
        "id": "owLV-fSUpzjN"
      }
    },
    {
      "cell_type": "code",
      "source": [
        "data_trip= [{'num_cities': '3',\n",
        "  'cities': 'Helsinki**Barcelona**Florence',\n",
        "  'durations': '5**5**6',\n",
        "  'prompt_0shot': 'You plan to visit 3 European cities for 14 days in total. You only take direct flights to commute between cities. You would like to visit Florence for 6 days. You want to meet a friend in Florence between day 9 and day 14. You would like to visit Barcelona for 5 days. You would like to visit Helsinki for 5 days.\\n\\nHere are the cities that have direct flights:\\nBarcelona and Florence, Helsinki and Barcelona.\\n\\nFind a trip plan of visiting the cities for 14 days by taking direct flights to commute between them.',\n",
        "  'prompt_5shot': 'You are an expert at planning trips. You are given a few constraints regarding the cities to visit and the durations of staying at each city. You are also given the flight information between the cities. Here are a few example tasks and solutions:\\n\\nTASK: You plan to visit 3 European cities for 7 days in total. You only take direct flights to commute between cities. You want to spend 4 days in Berlin. You would like to visit Venice for 3 days. You are going to attend a wedding in Venice between day 5 and day 7. You want to spend 2 days in Tallinn.\\n\\nHere are the cities that have direct flights:\\nBerlin and Venice, Tallinn and Berlin.\\n\\nFind a trip plan of visiting the cities for 7 days by taking direct flights to commute between them.\\nSOLUTION: Here is the trip plan for visiting the 3 European cities for 7 days:\\n\\n**Day 1-2:** Arriving in Tallinn and visit Tallinn for 2 days.\\n**Day 2:** Fly from Tallinn to Berlin.\\n**Day 2-5:** Visit Berlin for 4 days.\\n**Day 5:** Fly from Berlin to Venice.\\n**Day 5-7:** Visit Venice for 3 days.\\n\\nTASK: You plan to visit 3 European cities for 14 days in total. You only take direct flights to commute between cities. You plan to stay in London for 4 days. You plan to stay in Bucharest for 5 days. You want to meet a friend in Bucharest between day 10 and day 14. You would like to visit Reykjavik for 7 days.\\n\\nHere are the cities that have direct flights:\\nLondon and Bucharest, Reykjavik and London.\\n\\nFind a trip plan of visiting the cities for 14 days by taking direct flights to commute between them.\\nSOLUTION: Here is the trip plan for visiting the 3 European cities for 14 days:\\n\\n**Day 1-7:** Arriving in Reykjavik and visit Reykjavik for 7 days.\\n**Day 7:** Fly from Reykjavik to London.\\n**Day 7-10:** Visit London for 4 days.\\n**Day 10:** Fly from London to Bucharest.\\n**Day 10-14:** Visit Bucharest for 5 days.\\n\\nTASK: You plan to visit 3 European cities for 12 days in total. You only take direct flights to commute between cities. You want to spend 4 days in Seville. You plan to stay in Valencia for 5 days. You have to attend a workshop in Valencia between day 8 and day 12. You plan to stay in Manchester for 5 days.\\n\\nHere are the cities that have direct flights:\\nManchester and Seville, Seville and Valencia.\\n\\nFind a trip plan of visiting the cities for 12 days by taking direct flights to commute between them.\\nSOLUTION: Here is the trip plan for visiting the 3 European cities for 12 days:\\n\\n**Day 1-5:** Arriving in Manchester and visit Manchester for 5 days.\\n**Day 5:** Fly from Manchester to Seville.\\n**Day 5-8:** Visit Seville for 4 days.\\n**Day 8:** Fly from Seville to Valencia.\\n**Day 8-12:** Visit Valencia for 5 days.\\n\\nTASK: You plan to visit 3 European cities for 8 days in total. You only take direct flights to commute between cities. You plan to stay in Istanbul for 2 days. You want to spend 3 days in Venice. You have to attend a workshop in Venice between day 1 and day 3. You would like to visit Valencia for 5 days.\\n\\nHere are the cities that have direct flights:\\nVenice and Istanbul, Istanbul and Valencia.\\n\\nFind a trip plan of visiting the cities for 8 days by taking direct flights to commute between them.\\nSOLUTION: Here is the trip plan for visiting the 3 European cities for 8 days:\\n\\n**Day 1-3:** Arriving in Venice and visit Venice for 3 days.\\n**Day 3:** Fly from Venice to Istanbul.\\n**Day 3-4:** Visit Istanbul for 2 days.\\n**Day 4:** Fly from Istanbul to Valencia.\\n**Day 4-8:** Visit Valencia for 5 days.\\n\\nTASK: You plan to visit 3 European cities for 11 days in total. You only take direct flights to commute between cities. You want to spend 2 days in Porto. You want to spend 4 days in Oslo. You would like to visit Split for 7 days. You plan to visit relatives in Split between day 5 and day 11.\\n\\nHere are the cities that have direct flights:\\nPorto and Oslo, Oslo and Split.\\n\\nFind a trip plan of visiting the cities for 11 days by taking direct flights to commute between them.\\nSOLUTION: Here is the trip plan for visiting the 3 European cities for 11 days:\\n\\n**Day 1-2:** Arriving in Porto and visit Porto for 2 days.\\n**Day 2:** Fly from Porto to Oslo.\\n**Day 2-5:** Visit Oslo for 4 days.\\n**Day 5:** Fly from Oslo to Split.\\n**Day 5-11:** Visit Split for 7 days.\\n\\nTASK: You plan to visit 3 European cities for 14 days in total. You only take direct flights to commute between cities. You would like to visit Florence for 6 days. You want to meet a friend in Florence between day 9 and day 14. You would like to visit Barcelona for 5 days. You would like to visit Helsinki for 5 days.\\n\\nHere are the cities that have direct flights:\\nBarcelona and Florence, Helsinki and Barcelona.\\n\\nFind a trip plan of visiting the cities for 14 days by taking direct flights to commute between them.\\nSOLUTION:',\n",
        "  'golden_plan': 'Here is the trip plan for visiting the 3 European cities for 14 days:\\n\\n**Day 1-5:** Arriving in Helsinki and visit Helsinki for 5 days.\\n**Day 5:** Fly from Helsinki to Barcelona.\\n**Day 5-9:** Visit Barcelona for 5 days.\\n**Day 9:** Fly from Barcelona to Florence.\\n**Day 9-14:** Visit Florence for 6 days.',\n",
        "  'pred_5shot_pro': 'Here is the trip plan for visiting the 3 European cities for 14 days:\\n\\n**Day 1-5:** Arriving in Helsinki and visit Helsinki for 5 days.\\n**Day 5:** Fly from Helsinki to Barcelona.\\n**Day 5-9:** Visit Barcelona for 5 days.\\n**Day 9:** Fly from Barcelona to Florence.\\n**Day 9-14:** Visit Florence for 6 days. \\n',\n",
        "  'id': 'trip_planning_example_0'},\n",
        " {'num_cities': '3',\n",
        "  'cities': 'Riga**Manchester**Split',\n",
        "  'durations': '7**4**6',\n",
        "  'prompt_0shot': 'You plan to visit 3 European cities for 15 days in total. You only take direct flights to commute between cities. You want to spend 6 days in Split. You want to spend 4 days in Manchester. You want to spend 7 days in Riga.\\n\\nHere are the cities that have direct flights:\\nRiga and Manchester, from Manchester to Split.\\n\\nFind a trip plan of visiting the cities for 15 days by taking direct flights to commute between them.',\n",
        "  'prompt_5shot': 'You are an expert at planning trips. You are given a few constraints regarding the cities to visit and the durations of staying at each city. You are also given the flight information between the cities. Here are a few example tasks and solutions:\\n\\nTASK: You plan to visit 3 European cities for 7 days in total. You only take direct flights to commute between cities. You want to spend 4 days in Berlin. You would like to visit Venice for 3 days. You are going to attend a wedding in Venice between day 5 and day 7. You want to spend 2 days in Tallinn.\\n\\nHere are the cities that have direct flights:\\nBerlin and Venice, Tallinn and Berlin.\\n\\nFind a trip plan of visiting the cities for 7 days by taking direct flights to commute between them.\\nSOLUTION: Here is the trip plan for visiting the 3 European cities for 7 days:\\n\\n**Day 1-2:** Arriving in Tallinn and visit Tallinn for 2 days.\\n**Day 2:** Fly from Tallinn to Berlin.\\n**Day 2-5:** Visit Berlin for 4 days.\\n**Day 5:** Fly from Berlin to Venice.\\n**Day 5-7:** Visit Venice for 3 days.\\n\\nTASK: You plan to visit 3 European cities for 14 days in total. You only take direct flights to commute between cities. You plan to stay in London for 4 days. You plan to stay in Bucharest for 5 days. You want to meet a friend in Bucharest between day 10 and day 14. You would like to visit Reykjavik for 7 days.\\n\\nHere are the cities that have direct flights:\\nLondon and Bucharest, Reykjavik and London.\\n\\nFind a trip plan of visiting the cities for 14 days by taking direct flights to commute between them.\\nSOLUTION: Here is the trip plan for visiting the 3 European cities for 14 days:\\n\\n**Day 1-7:** Arriving in Reykjavik and visit Reykjavik for 7 days.\\n**Day 7:** Fly from Reykjavik to London.\\n**Day 7-10:** Visit London for 4 days.\\n**Day 10:** Fly from London to Bucharest.\\n**Day 10-14:** Visit Bucharest for 5 days.\\n\\nTASK: You plan to visit 3 European cities for 12 days in total. You only take direct flights to commute between cities. You want to spend 4 days in Seville. You plan to stay in Valencia for 5 days. You have to attend a workshop in Valencia between day 8 and day 12. You plan to stay in Manchester for 5 days.\\n\\nHere are the cities that have direct flights:\\nManchester and Seville, Seville and Valencia.\\n\\nFind a trip plan of visiting the cities for 12 days by taking direct flights to commute between them.\\nSOLUTION: Here is the trip plan for visiting the 3 European cities for 12 days:\\n\\n**Day 1-5:** Arriving in Manchester and visit Manchester for 5 days.\\n**Day 5:** Fly from Manchester to Seville.\\n**Day 5-8:** Visit Seville for 4 days.\\n**Day 8:** Fly from Seville to Valencia.\\n**Day 8-12:** Visit Valencia for 5 days.\\n\\nTASK: You plan to visit 3 European cities for 8 days in total. You only take direct flights to commute between cities. You plan to stay in Istanbul for 2 days. You want to spend 3 days in Venice. You have to attend a workshop in Venice between day 1 and day 3. You would like to visit Valencia for 5 days.\\n\\nHere are the cities that have direct flights:\\nVenice and Istanbul, Istanbul and Valencia.\\n\\nFind a trip plan of visiting the cities for 8 days by taking direct flights to commute between them.\\nSOLUTION: Here is the trip plan for visiting the 3 European cities for 8 days:\\n\\n**Day 1-3:** Arriving in Venice and visit Venice for 3 days.\\n**Day 3:** Fly from Venice to Istanbul.\\n**Day 3-4:** Visit Istanbul for 2 days.\\n**Day 4:** Fly from Istanbul to Valencia.\\n**Day 4-8:** Visit Valencia for 5 days.\\n\\nTASK: You plan to visit 3 European cities for 11 days in total. You only take direct flights to commute between cities. You want to spend 2 days in Porto. You want to spend 4 days in Oslo. You would like to visit Split for 7 days. You plan to visit relatives in Split between day 5 and day 11.\\n\\nHere are the cities that have direct flights:\\nPorto and Oslo, Oslo and Split.\\n\\nFind a trip plan of visiting the cities for 11 days by taking direct flights to commute between them.\\nSOLUTION: Here is the trip plan for visiting the 3 European cities for 11 days:\\n\\n**Day 1-2:** Arriving in Porto and visit Porto for 2 days.\\n**Day 2:** Fly from Porto to Oslo.\\n**Day 2-5:** Visit Oslo for 4 days.\\n**Day 5:** Fly from Oslo to Split.\\n**Day 5-11:** Visit Split for 7 days.\\n\\nTASK: You plan to visit 3 European cities for 15 days in total. You only take direct flights to commute between cities. You want to spend 6 days in Split. You want to spend 4 days in Manchester. You want to spend 7 days in Riga.\\n\\nHere are the cities that have direct flights:\\nRiga and Manchester, from Manchester to Split.\\n\\nFind a trip plan of visiting the cities for 15 days by taking direct flights to commute between them.\\nSOLUTION:',\n",
        "  'golden_plan': 'Here is the trip plan for visiting the 3 European cities for 15 days:\\n\\n**Day 1-7:** Arriving in Riga and visit Riga for 7 days.\\n**Day 7:** Fly from Riga to Manchester.\\n**Day 7-10:** Visit Manchester for 4 days.\\n**Day 10:** Fly from Manchester to Split.\\n**Day 10-15:** Visit Split for 6 days.',\n",
        "  'pred_5shot_pro': 'Here is the trip plan for visiting the 3 European cities for 15 days:\\n\\n**Day 1-7:** Arriving in Riga and visit Riga for 7 days.\\n**Day 7:** Fly from Riga to Manchester.\\n**Day 7-10:** Visit Manchester for 4 days.\\n**Day 10:** Fly from Manchester to Split.\\n**Day 10-15:** Visit Split for 6 days. \\n',\n",
        "  'id': 'trip_planning_example_1'},\n",
        " {'num_cities': '3',\n",
        "  'cities': 'Reykjavik**Vienna**Venice',\n",
        "  'durations': '2**7**4',\n",
        "  'prompt_0shot': 'You plan to visit 3 European cities for 11 days in total. You only take direct flights to commute between cities. You would like to visit Reykjavik for 2 days. You want to spend 7 days in Vienna. You would like to visit Venice for 4 days. You are going to attend a wedding in Venice between day 8 and day 11.\\n\\nHere are the cities that have direct flights:\\nReykjavik and Vienna, Vienna and Venice.\\n\\nFind a trip plan of visiting the cities for 11 days by taking direct flights to commute between them.',\n",
        "  'prompt_5shot': 'You are an expert at planning trips. You are given a few constraints regarding the cities to visit and the durations of staying at each city. You are also given the flight information between the cities. Here are a few example tasks and solutions:\\n\\nTASK: You plan to visit 3 European cities for 7 days in total. You only take direct flights to commute between cities. You want to spend 4 days in Berlin. You would like to visit Venice for 3 days. You are going to attend a wedding in Venice between day 5 and day 7. You want to spend 2 days in Tallinn.\\n\\nHere are the cities that have direct flights:\\nBerlin and Venice, Tallinn and Berlin.\\n\\nFind a trip plan of visiting the cities for 7 days by taking direct flights to commute between them.\\nSOLUTION: Here is the trip plan for visiting the 3 European cities for 7 days:\\n\\n**Day 1-2:** Arriving in Tallinn and visit Tallinn for 2 days.\\n**Day 2:** Fly from Tallinn to Berlin.\\n**Day 2-5:** Visit Berlin for 4 days.\\n**Day 5:** Fly from Berlin to Venice.\\n**Day 5-7:** Visit Venice for 3 days.\\n\\nTASK: You plan to visit 3 European cities for 14 days in total. You only take direct flights to commute between cities. You plan to stay in London for 4 days. You plan to stay in Bucharest for 5 days. You want to meet a friend in Bucharest between day 10 and day 14. You would like to visit Reykjavik for 7 days.\\n\\nHere are the cities that have direct flights:\\nLondon and Bucharest, Reykjavik and London.\\n\\nFind a trip plan of visiting the cities for 14 days by taking direct flights to commute between them.\\nSOLUTION: Here is the trip plan for visiting the 3 European cities for 14 days:\\n\\n**Day 1-7:** Arriving in Reykjavik and visit Reykjavik for 7 days.\\n**Day 7:** Fly from Reykjavik to London.\\n**Day 7-10:** Visit London for 4 days.\\n**Day 10:** Fly from London to Bucharest.\\n**Day 10-14:** Visit Bucharest for 5 days.\\n\\nTASK: You plan to visit 3 European cities for 12 days in total. You only take direct flights to commute between cities. You want to spend 4 days in Seville. You plan to stay in Valencia for 5 days. You have to attend a workshop in Valencia between day 8 and day 12. You plan to stay in Manchester for 5 days.\\n\\nHere are the cities that have direct flights:\\nManchester and Seville, Seville and Valencia.\\n\\nFind a trip plan of visiting the cities for 12 days by taking direct flights to commute between them.\\nSOLUTION: Here is the trip plan for visiting the 3 European cities for 12 days:\\n\\n**Day 1-5:** Arriving in Manchester and visit Manchester for 5 days.\\n**Day 5:** Fly from Manchester to Seville.\\n**Day 5-8:** Visit Seville for 4 days.\\n**Day 8:** Fly from Seville to Valencia.\\n**Day 8-12:** Visit Valencia for 5 days.\\n\\nTASK: You plan to visit 3 European cities for 8 days in total. You only take direct flights to commute between cities. You plan to stay in Istanbul for 2 days. You want to spend 3 days in Venice. You have to attend a workshop in Venice between day 1 and day 3. You would like to visit Valencia for 5 days.\\n\\nHere are the cities that have direct flights:\\nVenice and Istanbul, Istanbul and Valencia.\\n\\nFind a trip plan of visiting the cities for 8 days by taking direct flights to commute between them.\\nSOLUTION: Here is the trip plan for visiting the 3 European cities for 8 days:\\n\\n**Day 1-3:** Arriving in Venice and visit Venice for 3 days.\\n**Day 3:** Fly from Venice to Istanbul.\\n**Day 3-4:** Visit Istanbul for 2 days.\\n**Day 4:** Fly from Istanbul to Valencia.\\n**Day 4-8:** Visit Valencia for 5 days.\\n\\nTASK: You plan to visit 3 European cities for 11 days in total. You only take direct flights to commute between cities. You want to spend 2 days in Porto. You want to spend 4 days in Oslo. You would like to visit Split for 7 days. You plan to visit relatives in Split between day 5 and day 11.\\n\\nHere are the cities that have direct flights:\\nPorto and Oslo, Oslo and Split.\\n\\nFind a trip plan of visiting the cities for 11 days by taking direct flights to commute between them.\\nSOLUTION: Here is the trip plan for visiting the 3 European cities for 11 days:\\n\\n**Day 1-2:** Arriving in Porto and visit Porto for 2 days.\\n**Day 2:** Fly from Porto to Oslo.\\n**Day 2-5:** Visit Oslo for 4 days.\\n**Day 5:** Fly from Oslo to Split.\\n**Day 5-11:** Visit Split for 7 days.\\n\\nTASK: You plan to visit 3 European cities for 11 days in total. You only take direct flights to commute between cities. You would like to visit Reykjavik for 2 days. You want to spend 7 days in Vienna. You would like to visit Venice for 4 days. You are going to attend a wedding in Venice between day 8 and day 11.\\n\\nHere are the cities that have direct flights:\\nReykjavik and Vienna, Vienna and Venice.\\n\\nFind a trip plan of visiting the cities for 11 days by taking direct flights to commute between them.\\nSOLUTION:',\n",
        "  'golden_plan': 'Here is the trip plan for visiting the 3 European cities for 11 days:\\n\\n**Day 1-2:** Arriving in Reykjavik and visit Reykjavik for 2 days.\\n**Day 2:** Fly from Reykjavik to Vienna.\\n**Day 2-8:** Visit Vienna for 7 days.\\n**Day 8:** Fly from Vienna to Venice.\\n**Day 8-11:** Visit Venice for 4 days.',\n",
        "  'pred_5shot_pro': 'Here is the trip plan for visiting the 3 European cities for 11 days:\\n\\n**Day 1-2:** Arriving in Reykjavik and visit Reykjavik for 2 days.\\n**Day 2:** Fly from Reykjavik to Vienna.\\n**Day 2-8:** Visit Vienna for 7 days.\\n**Day 8:** Fly from Vienna to Venice.\\n**Day 8-11:** Visit Venice for 4 days. \\n',\n",
        "  'id': 'trip_planning_example_2'}]"
      ],
      "metadata": {
        "id": "_pjj4b1Qpllg"
      },
      "execution_count": null,
      "outputs": []
    },
    {
      "cell_type": "markdown",
      "source": [
        "# Run Inference on NATURAL PLAN using PlanGEN (Best of N)"
      ],
      "metadata": {
        "id": "6rKSJnByLvnv"
      }
    },
    {
      "cell_type": "markdown",
      "source": [
        "**Import Libraries for Evaluation**"
      ],
      "metadata": {
        "id": "iRBALemrMhmM"
      }
    },
    {
      "cell_type": "code",
      "source": [
        "import os\n",
        "from os.path import join\n",
        "import json\n",
        "from tqdm import tqdm\n",
        "import time"
      ],
      "metadata": {
        "id": "0Kf3poIhMOMG"
      },
      "execution_count": null,
      "outputs": []
    },
    {
      "cell_type": "markdown",
      "source": [
        "### Prediction Loop for NATURAL PLAN (Calendar Scheduling)\n",
        "\n",
        "> Run the prediction loop for calendar scheduling task and save in `final_predictions` list"
      ],
      "metadata": {
        "id": "FGxtTNgbNZVo"
      }
    },
    {
      "cell_type": "code",
      "source": [
        "final_predictions = []\n",
        "\n",
        "for idx, data_point in tqdm(enumerate(data_calendar), desc=f\"Processing calendar with PlanGEN (Best of N)\", total=len(data_calendar)):\n",
        "\n",
        "  replace_str= \"Plan to Find the Right Slot:\\r\\n\\r\\n1. Analyze Constraints: Carefully review all constraints provided in the problem, including participant schedules, meeting duration, and any specific preferences or restrictions.\\r\\n\\r\\n2. Identify Individual Availability: For each participant, list all their free time slots during the specified work hours.\\r\\n\\r\\n3. Determine Common Availability: Find the overlapping free time slots (intersection of availability) across all participants.\\r\\n\\r\\n4. Prioritize Earliest Time Slot: Always choose the earliest time slot from the intersection that satisfies all constraints.\\r\\n\\r\\n5. Ensure Solution Exists: Since a solution is guaranteed for each task, always provide a valid time slot that works for everyone.\\r\\n\\r\\n6. Strict Format Requirement: Present the solution using the same format as provided in the examples. Avoid deviating from the established format.\\r\\n\\r\\nDO NOT only provide solution, also provide step-by-step plan execution.\\r\\n\\r\\nExecute the Plan Step-by-Step: [Provide executed steps]\\r\\n\\r\\nSOLUTION: [strictly use the format provided in the above examples]\"\n",
        "\n",
        "  problem_statement = data_point['prompt_5shot'].replace('Find a time that works for everyone\\'s schedule and constraints. \\nSOLUTION:', replace_str)\n",
        "\n",
        "  verification_prompt_temp = \"\"\"Analyze the input problem and identify all instance-specific constraints from the problem description. These may include:\n",
        "- Participant schedules\n",
        "- Meeting duration\n",
        "- Specific preferences or restrictions\n",
        "- Work hours and availability\n",
        "- Any other relevant constraints based on the input problem\n",
        "\n",
        "Input Problem:\n",
        "{problem}\n",
        "\"\"\"\n",
        "  verification = verification_prompt_temp.format(problem=data_point['prompt_0shot'])\n",
        "  verification_prompt = call_gemini(verification, model_name=model_name)\n",
        "\n",
        "  evaluator = SelfConsistencyEvaluator(verification_prompt= verification_prompt, model_name=model_name)\n",
        "\n",
        "  max_retries = 5\n",
        "  retry_count = 0\n",
        "  while retry_count < max_retries:\n",
        "      try:\n",
        "          responses, best_answer = evaluator.get_best_response(problem_statement, no_of_times=5)\n",
        "          break\n",
        "      except Exception as e:\n",
        "          print(f\"Error during PlanGEN (Best of N) run (attempt {retry_count + 1}): {e}\")\n",
        "          retry_count += 1\n",
        "          if retry_count == max_retries:\n",
        "              print(\"All retry attempts failed\")\n",
        "              responses = []\n",
        "              best_answer = \"\"\n",
        "          else:\n",
        "              print(f\"Retrying... ({retry_count + 1}/{max_retries})\")\n",
        "              time.sleep(2)  # Add small delay between retries\n",
        "\n",
        "  data_point['model_prediction'] = best_answer\n",
        "  data_point['n_samples'] = responses\n",
        "\n",
        "  final_predictions.append(data_point)"
      ],
      "metadata": {
        "id": "wvTcPxZFMhNw"
      },
      "execution_count": null,
      "outputs": []
    },
    {
      "cell_type": "markdown",
      "source": [
        "### Prediction Loop for NATURAL PLAN (Trip Planning)\n",
        "\n",
        "> Run the prediction loop for trip planning task and save in `final_predictions` list"
      ],
      "metadata": {
        "id": "1cTWOjN3Y2IY"
      }
    },
    {
      "cell_type": "code",
      "source": [
        "final_predictions = []\n",
        "\n",
        "for idx, data_point in tqdm(enumerate(data_trip), desc=f\"Processing trip with PlanGEN (Best of N)\", total=len(data_trip)):\n",
        "\n",
        "  replace_str= \"\"\"Please follow the below constraints while generating plan:\\r\\n- Strictly ensure the trip duration equals the specified total trip days.\\r\\n- First find the city order based on constraints given and follow the exact city order while generating plan\\r\\n- Follow the exact order and timing for events, workshops, or other fixed-date activities.\\r\\n- Use only direct flights between cities as provided in the flight connections list.\\r\\n- On the last day of your visit to each city, you can take a direct flight to the next city and arrive on the same day. Both the day you arrive and the day you depart count toward the total number of days spent in each city.\\r\\n- Confirm each city’s stay aligns with the constraints.\\r\\n\\r\\nProvide the itinerary strictly in the following format:\\r\\n\\r\\nDay 1-[End Day]: City Name and details of stay.\\r\\nDay [Start of Travel]: Fly from [City A] to [City B].\\r\\n\\r\\nSOLUTION: [strictly follow the same solution format as shown above]\"\"\"\n",
        "  problem_statement = data_point['prompt_5shot'] + '\\n' + replace_str\n",
        "\n",
        "  verification_prompt = \"\"\"1. Strictly ensure the trip duration equals the specified total trip days.\n",
        "2. Verify the correct city order based on constraints\n",
        "3. Verify the order and timing for events, workshops, or other fixed-date activities.\n",
        "4. Verify that only direct flights between cities as provided in the flight connections list are used.\n",
        "5. Verify each city’s stay aligns with the constraints.\n",
        "\"\"\"\n",
        "\n",
        "  evaluator = SelfConsistencyEvaluator(verification_prompt= verification_prompt, model_name=model_name)\n",
        "\n",
        "  max_retries = 5\n",
        "  retry_count = 0\n",
        "  while retry_count < max_retries:\n",
        "      try:\n",
        "          responses, best_answer = evaluator.get_best_response(problem_statement, no_of_times=5)\n",
        "          break\n",
        "      except Exception as e:\n",
        "          print(f\"Error during PlanGEN (Best of N) run (attempt {retry_count + 1}): {e}\")\n",
        "          retry_count += 1\n",
        "          if retry_count == max_retries:\n",
        "              print(\"All retry attempts failed\")\n",
        "              responses = []\n",
        "              best_answer = \"\"\n",
        "          else:\n",
        "              print(f\"Retrying... ({retry_count + 1}/{max_retries})\")\n",
        "              time.sleep(2)  # Add small delay between retries\n",
        "\n",
        "  data_point['model_prediction'] = best_answer\n",
        "  data_point['n_samples'] = responses\n",
        "\n",
        "  final_predictions.append(data_point)"
      ],
      "metadata": {
        "id": "VSlRB_eHY5B3"
      },
      "execution_count": null,
      "outputs": []
    },
    {
      "cell_type": "markdown",
      "source": [
        "# Run Inference on NATURAL PLAN using PlanGEN (ToT)\n",
        "\n"
      ],
      "metadata": {
        "id": "W8MaZwx7aKdK"
      }
    },
    {
      "cell_type": "markdown",
      "source": [
        "**Import Libraries for Evaluation**"
      ],
      "metadata": {
        "id": "a8lq7dtPavmS"
      }
    },
    {
      "cell_type": "code",
      "source": [
        "import os\n",
        "from os.path import join\n",
        "import json\n",
        "from tqdm import tqdm\n",
        "import time"
      ],
      "metadata": {
        "id": "kNRiayKlaQdv"
      },
      "execution_count": null,
      "outputs": []
    },
    {
      "cell_type": "markdown",
      "source": [
        "### Prediction Loop for NATURAL PLAN (Calendar)\n",
        "\n",
        "> Run the prediction loop for calendar scheduling task and save in `final_predictions` list"
      ],
      "metadata": {
        "id": "sJdmU5MFa6YA"
      }
    },
    {
      "cell_type": "code",
      "source": [
        "final_predictions = []\n",
        "\n",
        "for idx, data_point in tqdm(enumerate(data_calendar), desc=f\"Processing calendar with PlanGEN (ToT)\", total=len(data_calendar)):\n",
        "\n",
        "    replace_str= \"Plan to Find the Right Slot:\\r\\n\\r\\n1. Analyze Constraints: Carefully review all constraints provided in the problem, including participant schedules, meeting duration, and any specific preferences or restrictions.\\r\\n\\r\\n2. Identify Individual Availability: For each participant, list all their free time slots during the specified work hours.\\r\\n\\r\\n3. Determine Common Availability: Find the overlapping free time slots (intersection of availability) across all participants.\\r\\n\\r\\n4. Prioritize Earliest Time Slot: Always choose the earliest time slot from the intersection that satisfies all constraints.\\r\\n\\r\\n5. Ensure Solution Exists: Since a solution is guaranteed for each task, always provide a valid time slot that works for everyone.\\r\\n\\r\\n6. Strict Format Requirement: Present the solution using the same format as provided in the examples. Avoid deviating from the established format.\\r\\n\\r\\nDO NOT only provide solution, also provide step-by-step plan execution.\\r\\n\\r\\nExecute the Plan Step-by-Step: [Provide executed steps]\\r\\n\\r\\nSOLUTION: [strictly use the format provided in the above examples]\"\n",
        "\n",
        "    problem_statement = data_point['prompt_5shot'].replace('Find a time that works for everyone\\'s schedule and constraints. \\nSOLUTION:', replace_str)\n",
        "\n",
        "    verification_prompt_temp = \"\"\"Analyze the input problem and identify all instance-specific constraints from the problem description. These may include:\n",
        "- Participant schedules\n",
        "- Meeting duration\n",
        "- Specific preferences or restrictions\n",
        "- Work hours and availability\n",
        "- Any other relevant constraints based on the input problem\n",
        "\n",
        "Input Problem:\n",
        "{problem}\n",
        "\"\"\"\n",
        "    verification = verification_prompt_temp.format(problem=data_point['prompt_0shot'])\n",
        "    verification_prompt = call_gemini(verification, model_name=model_name)\n",
        "\n",
        "    bfs_solver = BFS_sbs(\n",
        "                problem=problem_statement,\n",
        "                verification_prompt=verification_prompt,\n",
        "                no_samples=3,\n",
        "                model_name=model_name\n",
        "            )\n",
        "\n",
        "    best_answer = ''\n",
        "    f_answer = ''\n",
        "    retries = 0\n",
        "    max_retries = 5\n",
        "    while retries < max_retries:\n",
        "        try:\n",
        "            best_answer, f_answer = bfs_solver.run()\n",
        "            break\n",
        "        except Exception as e:\n",
        "            retries += 1\n",
        "            print(f\"Error occurred: {e}. Retrying {retries}/{max_retries}...\")\n",
        "            if retries == max_retries:\n",
        "                print(f\"Max retries reached. Assigning empty strings.\")\n",
        "                best_answer = ''\n",
        "                f_answer = ''\n",
        "\n",
        "    # Solving phase\n",
        "    solving_prompt = \"\"\"Your task is to only format the generated plan into desired solution format given in few-shot examples.\n",
        "\n",
        "Problem:\n",
        "{question}\n",
        "\n",
        "Generated Plan:\n",
        "{plan}\n",
        "\n",
        "Please provide your solution following the format shown in the examples above.\n",
        "\"\"\"\n",
        "\n",
        "    solving_prompt_filled = solving_prompt.format(question=data_point[\"prompt_5shot\"], plan=best_answer)\n",
        "    prediction = call_gemini(solving_prompt_filled, model_name=model_name)\n",
        "\n",
        "    data_point['model_plan'] = best_answer\n",
        "    data_point['model_prediction'] = prediction\n",
        "\n",
        "    final_predictions.append(data_point)"
      ],
      "metadata": {
        "id": "F6lWJEUYa_RR"
      },
      "execution_count": null,
      "outputs": []
    },
    {
      "cell_type": "markdown",
      "source": [
        "### Prediction Loop for NATURAL PLAN (Trip)\n",
        "\n",
        "> Run the prediction loop for trip planning task and save in `final_predictions` list"
      ],
      "metadata": {
        "id": "VxkJmueTblIw"
      }
    },
    {
      "cell_type": "code",
      "source": [
        "final_predictions = []\n",
        "\n",
        "for idx, data_point in tqdm(enumerate(data_trip), desc=f\"Processing trip with PlanGEN (ToT)\", total=len(data_trip)):\n",
        "\n",
        "    replace_str= \"\"\"Please follow the below constraints while generating plan:\\r\\n- Strictly ensure the trip duration equals the specified total trip days.\\r\\n- First find the city order based on constraints given and follow the exact city order while generating plan\\r\\n- Follow the exact order and timing for events, workshops, or other fixed-date activities.\\r\\n- Use only direct flights between cities as provided in the flight connections list.\\r\\n- On the last day of your visit to each city, you can take a direct flight to the next city and arrive on the same day. Both the day you arrive and the day you depart count toward the total number of days spent in each city.\\r\\n- Confirm each city’s stay aligns with the constraints.\\r\\n\\r\\nProvide the itinerary strictly in the following format:\\r\\n\\r\\nDay 1-[End Day]: City Name and details of stay.\\r\\nDay [Start of Travel]: Fly from [City A] to [City B].\\r\\n\\r\\nSOLUTION: [strictly follow the same solution format as shown above]\"\"\"\n",
        "    problem_statement = data_point['prompt_5shot'] + '\\n' + replace_str\n",
        "\n",
        "    verification_prompt = \"\"\"1. Strictly ensure the trip duration equals the specified total trip days.\n",
        "2. Verify the correct city order based on constraints\n",
        "3. Verify the order and timing for events, workshops, or other fixed-date activities.\n",
        "4. Verify that only direct flights between cities as provided in the flight connections list are used.\n",
        "5. Verify each city’s stay aligns with the constraints.\n",
        "\"\"\"\n",
        "\n",
        "    bfs_solver = BFS_sbs(\n",
        "                problem=problem_statement,\n",
        "                verification_prompt=verification_prompt,\n",
        "                no_samples=3,\n",
        "                model_name=model_name\n",
        "            )\n",
        "\n",
        "    best_answer = ''\n",
        "    f_answer = ''\n",
        "    retries = 0\n",
        "    max_retries = 5\n",
        "    while retries < max_retries:\n",
        "        try:\n",
        "            best_answer, f_answer = bfs_solver.run()\n",
        "            break\n",
        "        except Exception as e:\n",
        "            retries += 1\n",
        "            print(f\"Error occurred: {e}. Retrying {retries}/{max_retries}...\")\n",
        "            if retries == max_retries:\n",
        "                print(f\"Max retries reached. Assigning empty strings.\")\n",
        "                best_answer = ''\n",
        "                f_answer = ''\n",
        "\n",
        "    # Solving phase\n",
        "    solving_prompt = \"\"\"Your task is to only format the generated plan into desired solution format given in few-shot examples.\n",
        "\n",
        "Problem:\n",
        "{question}\n",
        "\n",
        "Generated Plan:\n",
        "{plan}\n",
        "\n",
        "Please provide your solution following the format shown in the examples above.\n",
        "\"\"\"\n",
        "\n",
        "    solving_prompt_filled = solving_prompt.format(question=data_point[\"prompt_5shot\"], plan=best_answer)\n",
        "    prediction = call_gemini(solving_prompt_filled, model_name=model_name)\n",
        "\n",
        "    data_point['model_plan'] = best_answer\n",
        "    data_point['model_prediction'] = prediction\n",
        "\n",
        "    final_predictions.append(data_point)"
      ],
      "metadata": {
        "id": "Qqh5QeenbpSP"
      },
      "execution_count": null,
      "outputs": []
    },
    {
      "cell_type": "markdown",
      "source": [
        "# Run Inference on NATURAL PLAN using PlanGEN (REBASE)"
      ],
      "metadata": {
        "id": "B36L-XBScWWx"
      }
    },
    {
      "cell_type": "markdown",
      "source": [
        "**Import Libraries for Evaluation**\n",
        "\n"
      ],
      "metadata": {
        "id": "cC6jG_A1ckk3"
      }
    },
    {
      "cell_type": "code",
      "source": [
        "import os\n",
        "from os.path import join\n",
        "import json\n",
        "from tqdm import tqdm\n",
        "import time"
      ],
      "metadata": {
        "id": "4MO7JE5Ocd-2"
      },
      "execution_count": null,
      "outputs": []
    },
    {
      "cell_type": "markdown",
      "source": [
        "### Prediction Loop for NATURAL PLAN (Calendar)\n",
        "\n",
        "> Run the prediction loop for calendar scheduling task and save in `final_predictions` list\n",
        "\n"
      ],
      "metadata": {
        "id": "Pv5sLdhocw70"
      }
    },
    {
      "cell_type": "code",
      "source": [
        "final_predictions = []\n",
        "\n",
        "# Load configuration for Rebase\n",
        "\n",
        "paras = {\n",
        "    \"temperature\": 0.7,\n",
        "    \"max_step_tokens\": 256,\n",
        "    \"max_tokens\": 1024,\n",
        "    \"select_method\": \"softmax\",\n",
        "    \"num_threads\": 8,\n",
        "    \"softmax_temperature\": 0.2,\n",
        "    \"reward_model_type\": \"llemma\",\n",
        "    \"policy_model_type\": \"llemma\",\n",
        "    \"model_name\": model_name,\n",
        "    \"store_path\": \"./exp_results/rebase_16/\",\n",
        "    \"width\": 10\n",
        "}\n",
        "\n",
        "# Initialize Rebase with the chosen model and parameters\n",
        "rebase_solver = Rebase(model_name=paras[\"model_name\"], paras=paras)\n",
        "\n",
        "for idx, data_point in tqdm(enumerate(data_calendar), desc=f\"Processing calendar with PlanGEN (REBASE)\", total=len(data_calendar)):\n",
        "\n",
        "    replace_str= \"Plan to Find the Right Slot:\\r\\n\\r\\n1. Analyze Constraints: Carefully review all constraints provided in the problem, including participant schedules, meeting duration, and any specific preferences or restrictions.\\r\\n\\r\\n2. Identify Individual Availability: For each participant, list all their free time slots during the specified work hours.\\r\\n\\r\\n3. Determine Common Availability: Find the overlapping free time slots (intersection of availability) across all participants.\\r\\n\\r\\n4. Prioritize Earliest Time Slot: Always choose the earliest time slot from the intersection that satisfies all constraints.\\r\\n\\r\\n5. Ensure Solution Exists: Since a solution is guaranteed for each task, always provide a valid time slot that works for everyone.\\r\\n\\r\\n6. Strict Format Requirement: Present the solution using the same format as provided in the examples. Avoid deviating from the established format.\\r\\n\\r\\nDO NOT only provide solution, also provide step-by-step plan execution.\\r\\n\\r\\nExecute the Plan Step-by-Step: [Provide executed steps]\\r\\n\\r\\nSOLUTION: [strictly use the format provided in the above examples]\"\n",
        "\n",
        "    problem_statement = data_point['prompt_5shot'].replace('Find a time that works for everyone\\'s schedule and constraints. \\nSOLUTION:', replace_str)\n",
        "\n",
        "    verification_prompt_temp = \"\"\"Analyze the input problem and identify all instance-specific constraints from the problem description. These may include:\n",
        "- Participant schedules\n",
        "- Meeting duration\n",
        "- Specific preferences or restrictions\n",
        "- Work hours and availability\n",
        "- Any other relevant constraints based on the input problem\n",
        "\n",
        "Input Problem:\n",
        "{problem}\n",
        "\"\"\"\n",
        "    verification = verification_prompt_temp.format(problem=data_point['prompt_0shot'])\n",
        "    verification_prompt = call_gemini(verification, model_name=model_name)\n",
        "\n",
        "    # Run Rebase to get the plan (formerly handled by BFS_sbs)\n",
        "    retries = 0\n",
        "    max_retries = 5\n",
        "    best_answer = ''\n",
        "    complete_solutions = []\n",
        "    while retries < max_retries:\n",
        "        try:\n",
        "            complete_solutions = rebase_solver.reward_guided_search(problem_statement, verification_prompt)\n",
        "            if complete_solutions:\n",
        "                best_answer = complete_solutions.value if hasattr(complete_solutions, 'value') else str(complete_solutions)\n",
        "            else:\n",
        "                best_answer = ''\n",
        "            break\n",
        "        except Exception as e:\n",
        "            retries += 1\n",
        "            print(f\"Error occurred: {e}. Retrying {retries}/{max_retries}...\")\n",
        "            if retries == max_retries:\n",
        "                print(\"Max retries reached. Assigning empty string for best_answer.\")\n",
        "                best_answer = ''\n",
        "\n",
        "    # Solving phase\n",
        "    solving_prompt = \"\"\"Your task is to only format the generated plan into desired solution format given in few-shot examples.\n",
        "\n",
        "Problem:\n",
        "{question}\n",
        "\n",
        "Generated Plan:\n",
        "{plan}\n",
        "\n",
        "Please provide your solution following the format shown in the examples above.\n",
        "\"\"\"\n",
        "\n",
        "    solving_prompt_filled = solving_prompt.format(question=data_point[\"prompt_5shot\"], plan=best_answer)\n",
        "    prediction = call_gemini(solving_prompt_filled, model_name=model_name)\n",
        "\n",
        "    data_point['model_plan'] = best_answer\n",
        "    data_point['model_prediction'] = prediction\n",
        "\n",
        "    final_predictions.append(data_point)"
      ],
      "metadata": {
        "id": "kr7Zl_xHc2Gt"
      },
      "execution_count": null,
      "outputs": []
    },
    {
      "cell_type": "markdown",
      "source": [
        "### Prediction Loop for NATURAL PLAN (Trip)\n",
        "\n",
        "Run the prediction loop for trip planning task and save in `final_predictions` list"
      ],
      "metadata": {
        "id": "UO8oh3-ieJLg"
      }
    },
    {
      "cell_type": "code",
      "source": [
        "final_predictions = []\n",
        "\n",
        "# Load configuration for Rebase\n",
        "\n",
        "paras = {\n",
        "    \"temperature\": 0.7,\n",
        "    \"max_step_tokens\": 256,\n",
        "    \"max_tokens\": 1024,\n",
        "    \"select_method\": \"softmax\",\n",
        "    \"num_threads\": 8,\n",
        "    \"softmax_temperature\": 0.2,\n",
        "    \"reward_model_type\": \"llemma\",\n",
        "    \"policy_model_type\": \"llemma\",\n",
        "    \"model_name\": model_name,\n",
        "    \"store_path\": \"./exp_results/rebase_16/\",\n",
        "    \"width\": 10\n",
        "}\n",
        "\n",
        "# Initialize Rebase with the chosen model and parameters\n",
        "rebase_solver = Rebase(model_name=paras[\"model_name\"], paras=paras)\n",
        "\n",
        "for idx, data_point in tqdm(enumerate(data_trip), desc=f\"Processing trip with PlanGEN (REBASE)\", total=len(data_trip)):\n",
        "\n",
        "    replace_str= \"\"\"Please follow the below constraints while generating plan:\\r\\n- Strictly ensure the trip duration equals the specified total trip days.\\r\\n- First find the city order based on constraints given and follow the exact city order while generating plan\\r\\n- Follow the exact order and timing for events, workshops, or other fixed-date activities.\\r\\n- Use only direct flights between cities as provided in the flight connections list.\\r\\n- On the last day of your visit to each city, you can take a direct flight to the next city and arrive on the same day. Both the day you arrive and the day you depart count toward the total number of days spent in each city.\\r\\n- Confirm each city’s stay aligns with the constraints.\\r\\n\\r\\nProvide the itinerary strictly in the following format:\\r\\n\\r\\nDay 1-[End Day]: City Name and details of stay.\\r\\nDay [Start of Travel]: Fly from [City A] to [City B].\\r\\n\\r\\nSOLUTION: [strictly follow the same solution format as shown above]\"\"\"\n",
        "    problem_statement = data_point['prompt_5shot'] + '\\n' + replace_str\n",
        "\n",
        "    verification_prompt = \"\"\"1. Strictly ensure the trip duration equals the specified total trip days.\n",
        "2. Verify the correct city order based on constraints\n",
        "3. Verify the order and timing for events, workshops, or other fixed-date activities.\n",
        "4. Verify that only direct flights between cities as provided in the flight connections list are used.\n",
        "5. Verify each city’s stay aligns with the constraints.\n",
        "\"\"\"\n",
        "\n",
        "    # Run Rebase to get the plan (formerly handled by BFS_sbs)\n",
        "    retries = 0\n",
        "    max_retries = 5\n",
        "    best_answer = ''\n",
        "    complete_solutions = []\n",
        "    while retries < max_retries:\n",
        "        try:\n",
        "            complete_solutions = rebase_solver.reward_guided_search(problem_statement, verification_prompt)\n",
        "            if complete_solutions:\n",
        "                best_answer = complete_solutions.value if hasattr(complete_solutions, 'value') else str(complete_solutions)\n",
        "            else:\n",
        "                best_answer = ''\n",
        "            break\n",
        "        except Exception as e:\n",
        "            retries += 1\n",
        "            print(f\"Error occurred: {e}. Retrying {retries}/{max_retries}...\")\n",
        "            if retries == max_retries:\n",
        "                print(\"Max retries reached. Assigning empty string for best_answer.\")\n",
        "                best_answer = ''\n",
        "\n",
        "    # Solving phase\n",
        "    solving_prompt = \"\"\"Your task is to only format the generated plan into desired solution format given in few-shot examples.\n",
        "\n",
        "Problem:\n",
        "{question}\n",
        "\n",
        "Generated Plan:\n",
        "{plan}\n",
        "\n",
        "Please provide your solution following the format shown in the examples above.\n",
        "\"\"\"\n",
        "\n",
        "    solving_prompt_filled = solving_prompt.format(question=data_point[\"prompt_5shot\"], plan=best_answer)\n",
        "    prediction = call_gemini(solving_prompt_filled, model_name=model_name)\n",
        "\n",
        "    data_point['model_plan'] = best_answer\n",
        "    data_point['model_prediction'] = prediction\n",
        "\n",
        "    final_predictions.append(data_point)"
      ],
      "metadata": {
        "id": "xaaFUOqkePN3"
      },
      "execution_count": null,
      "outputs": []
    },
    {
      "cell_type": "markdown",
      "source": [
        "# Run Inference on NATURAL PLAN using PlanGEN (Mixture of Algorithms)"
      ],
      "metadata": {
        "id": "fm90nibce-Vd"
      }
    },
    {
      "cell_type": "markdown",
      "source": [
        "**Import Libraries for Evaluation**"
      ],
      "metadata": {
        "id": "DydaEZIcfH1R"
      }
    },
    {
      "cell_type": "code",
      "source": [
        "import os\n",
        "from os.path import join\n",
        "import json\n",
        "from tqdm import tqdm\n",
        "import time"
      ],
      "metadata": {
        "id": "Y4h7Z5fbfNPj"
      },
      "execution_count": null,
      "outputs": []
    },
    {
      "cell_type": "markdown",
      "source": [
        "### Prediction Loop for NATURAL PLAN (Calendar)\n",
        "\n",
        "> Run the prediction loop for calendar scheduling task and save in `final_predictions` list"
      ],
      "metadata": {
        "id": "3FRHac8gfVZu"
      }
    },
    {
      "cell_type": "code",
      "source": [
        "final_predictions = []\n",
        "\n",
        "for idx, data_point in tqdm(enumerate(data_calendar), desc=f\"Processing calendar with PlanGEN (Mixture of Algo.)\", total=len(data_calendar)):\n",
        "\n",
        "    replace_str= \"Plan to Find the Right Slot:\\r\\n\\r\\n1. Analyze Constraints: Carefully review all constraints provided in the problem, including participant schedules, meeting duration, and any specific preferences or restrictions.\\r\\n\\r\\n2. Identify Individual Availability: For each participant, list all their free time slots during the specified work hours.\\r\\n\\r\\n3. Determine Common Availability: Find the overlapping free time slots (intersection of availability) across all participants.\\r\\n\\r\\n4. Prioritize Earliest Time Slot: Always choose the earliest time slot from the intersection that satisfies all constraints.\\r\\n\\r\\n5. Ensure Solution Exists: Since a solution is guaranteed for each task, always provide a valid time slot that works for everyone.\\r\\n\\r\\n6. Strict Format Requirement: Present the solution using the same format as provided in the examples. Avoid deviating from the established format.\\r\\n\\r\\nDO NOT only provide solution, also provide step-by-step plan execution.\\r\\n\\r\\nExecute the Plan Step-by-Step: [Provide executed steps]\\r\\n\\r\\nSOLUTION: [strictly use the format provided in the above examples]\"\n",
        "\n",
        "    problem_statement = data_point['prompt_5shot'].replace('Find a time that works for everyone\\'s schedule and constraints. \\nSOLUTION:', replace_str)\n",
        "\n",
        "    verification_prompt_temp = \"\"\"Analyze the input problem and identify all instance-specific constraints from the problem description. These may include:\n",
        "- Participant schedules\n",
        "- Meeting duration\n",
        "- Specific preferences or restrictions\n",
        "- Work hours and availability\n",
        "- Any other relevant constraints based on the input problem\n",
        "\n",
        "Input Problem:\n",
        "{problem}\n",
        "\"\"\"\n",
        "    verification = verification_prompt_temp.format(problem=data_point['prompt_0shot'])\n",
        "    verification_prompt = call_gemini(verification, model_name=model_name)\n",
        "\n",
        "    orchestrator = OrchastrationUnit()\n",
        "    retries = 5\n",
        "    for attempt in range(retries):\n",
        "        try:\n",
        "            best_answer, selected_algorithm_lst, value_dict, feedback_lst, all_plans = orchestrator.execute(problem_statement, verification_prompt, model_name=model_name)\n",
        "            break\n",
        "        except Exception as e:\n",
        "            print(f\"Error during multi-agent run (attempt {attempt + 1}): {e}\")\n",
        "            best_answer = \"\"\n",
        "            if attempt < retries - 1:\n",
        "                print(\"Retrying...\")\n",
        "            else:\n",
        "                print(\"All retries failed.\")\n",
        "\n",
        "    # Solving phase\n",
        "    solving_prompt = \"\"\"Your task is to only format the generated plan into desired solution format given in few-shot examples.\n",
        "\n",
        "Problem:\n",
        "{question}\n",
        "\n",
        "Generated Plan:\n",
        "{plan}\n",
        "\n",
        "Please provide your solution following the format shown in the examples above.\n",
        "\"\"\"\n",
        "\n",
        "    solving_prompt_filled = solving_prompt.format(question=data_point[\"prompt_5shot\"], plan=best_answer)\n",
        "    prediction = call_gemini(solving_prompt_filled, model_name=model_name)\n",
        "\n",
        "    data_point['model_plan'] = best_answer\n",
        "    data_point['model_prediction'] = prediction\n",
        "\n",
        "    final_predictions.append(data_point)"
      ],
      "metadata": {
        "id": "HvQHVecufafp"
      },
      "execution_count": null,
      "outputs": []
    },
    {
      "cell_type": "markdown",
      "source": [
        "## Prediction Loop for NATURAL PLAN (Trip)\n",
        "\n",
        "> Run the prediction loop for trip planning task and save in `final_predictions` list"
      ],
      "metadata": {
        "id": "Vx4pAUHNfzHj"
      }
    },
    {
      "cell_type": "code",
      "source": [
        "final_predictions = []\n",
        "\n",
        "for idx, data_point in tqdm(enumerate(data_trip), desc=f\"Processing trip with PlanGEN (Mixture of Algo.)\", total=len(data_trip)):\n",
        "\n",
        "    replace_str= \"\"\"Please follow the below constraints while generating plan:\\r\\n- Strictly ensure the trip duration equals the specified total trip days.\\r\\n- First find the city order based on constraints given and follow the exact city order while generating plan\\r\\n- Follow the exact order and timing for events, workshops, or other fixed-date activities.\\r\\n- Use only direct flights between cities as provided in the flight connections list.\\r\\n- On the last day of your visit to each city, you can take a direct flight to the next city and arrive on the same day. Both the day you arrive and the day you depart count toward the total number of days spent in each city.\\r\\n- Confirm each city’s stay aligns with the constraints.\\r\\n\\r\\nProvide the itinerary strictly in the following format:\\r\\n\\r\\nDay 1-[End Day]: City Name and details of stay.\\r\\nDay [Start of Travel]: Fly from [City A] to [City B].\\r\\n\\r\\nSOLUTION: [strictly follow the same solution format as shown above]\"\"\"\n",
        "    problem_statement = data_point['prompt_5shot'] + '\\n' + replace_str\n",
        "\n",
        "    verification_prompt = \"\"\"1. Strictly ensure the trip duration equals the specified total trip days.\n",
        "2. Verify the correct city order based on constraints\n",
        "3. Verify the order and timing for events, workshops, or other fixed-date activities.\n",
        "4. Verify that only direct flights between cities as provided in the flight connections list are used.\n",
        "5. Verify each city’s stay aligns with the constraints.\n",
        "\"\"\"\n",
        "\n",
        "    orchestrator = OrchastrationUnit()\n",
        "    retries = 5\n",
        "    for attempt in range(retries):\n",
        "        try:\n",
        "            best_answer, selected_algorithm_lst, value_dict, feedback_lst, all_plans = orchestrator.execute(problem_statement, verification_prompt, model_name=model_name)\n",
        "            break\n",
        "        except Exception as e:\n",
        "            print(f\"Error during multi-agent run (attempt {attempt + 1}): {e}\")\n",
        "            best_answer = \"\"\n",
        "            if attempt < retries - 1:\n",
        "                print(\"Retrying...\")\n",
        "            else:\n",
        "                print(\"All retries failed.\")\n",
        "\n",
        "    # Solving phase\n",
        "    solving_prompt = \"\"\"Your task is to only format the generated plan into desired solution format given in few-shot examples.\n",
        "\n",
        "Problem:\n",
        "{question}\n",
        "\n",
        "Generated Plan:\n",
        "{plan}\n",
        "\n",
        "Please provide your solution following the format shown in the examples above.\n",
        "\"\"\"\n",
        "\n",
        "    solving_prompt_filled = solving_prompt.format(question=data_point[\"prompt_5shot\"], plan=best_answer)\n",
        "    prediction = call_gemini(solving_prompt_filled, model_name=model_name)\n",
        "\n",
        "    data_point['model_plan'] = best_answer\n",
        "    data_point['model_prediction'] = prediction\n",
        "\n",
        "    final_predictions.append(data_point)"
      ],
      "metadata": {
        "id": "iV5zphnTf28-"
      },
      "execution_count": null,
      "outputs": []
    },
    {
      "cell_type": "markdown",
      "source": [
        "# Analyze the Results\n",
        "\n",
        "> Here, we provide code to generate table with problem statement, golden plan, and model prediction to check the correctness."
      ],
      "metadata": {
        "id": "cPn_jahbR_MA"
      }
    },
    {
      "cell_type": "code",
      "source": [
        "import pandas as pd\n",
        "from IPython.display import display, HTML\n",
        "\n",
        "def create_analysis_table(final_predictions):\n",
        "    \"\"\"\n",
        "    Generates a Pandas DataFrame for analyzing model predictions with text wrapping.\n",
        "\n",
        "    Args:\n",
        "        final_predictions: A list of dictionaries, where each dictionary represents\n",
        "                           a data point with 'prompt_5shot', 'golden_plan', and\n",
        "                           'model_prediction' keys.\n",
        "\n",
        "    Returns:\n",
        "        A Pandas DataFrame containing the analysis table.\n",
        "    \"\"\"\n",
        "    analysis_data = []\n",
        "    for data_point in final_predictions:\n",
        "        analysis_data.append({\n",
        "            'Problem Statement': data_point['prompt_0shot'],\n",
        "            'Golden Plan': data_point.get('golden_plan', 'N/A'), # Handle missing golden_plan gracefully\n",
        "            'Model Prediction': data_point['model_prediction']\n",
        "        })\n",
        "\n",
        "    df = pd.DataFrame(analysis_data)\n",
        "\n",
        "    # Apply text wrapping to all columns\n",
        "    return df.style.set_properties(**{'text-align': 'left'}).set_table_styles([dict(selector='th', props=[('text-align', 'left')])])\n",
        "\n",
        "\n",
        "# Example usage (assuming final_predictions is defined as in the provided code):\n",
        "analysis_table = create_analysis_table(final_predictions)\n",
        "display(analysis_table)\n"
      ],
      "metadata": {
        "id": "o08Jw0P_SfCK"
      },
      "execution_count": null,
      "outputs": []
    }
  ]
}