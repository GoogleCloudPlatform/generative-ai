{
  "cells": [
    {
      "cell_type": "code",
      "execution_count": null,
      "metadata": {
        "id": "ijGzTHJJUCPY"
      },
      "outputs": [],
      "source": [
        "# Copyright 2024 Google LLC\n",
        "#\n",
        "# Licensed under the Apache License, Version 2.0 (the \"License\");\n",
        "# you may not use this file except in compliance with the License.\n",
        "# You may obtain a copy of the License at\n",
        "#\n",
        "#     https://www.apache.org/licenses/LICENSE-2.0\n",
        "#\n",
        "# Unless required by applicable law or agreed to in writing, software\n",
        "# distributed under the License is distributed on an \"AS IS\" BASIS,\n",
        "# WITHOUT WARRANTIES OR CONDITIONS OF ANY KIND, either express or implied.\n",
        "# See the License for the specific language governing permissions and\n",
        "# limitations under the License."
      ]
    },
    {
      "cell_type": "markdown",
      "metadata": {
        "id": "VEqbX8OhE8y9"
      },
      "source": [
        "# Getting Started with the Gemini Pro Model\n",
        "\n",
        "<table align=\"left\">\n",
        "  <td style=\"text-align: center\">\n",
        "    <a href=\"https://colab.research.google.com/github/GoogleCloudPlatform/generative-ai/blob/main/gemini/getting-started/intro_gemini_pro_python.ipynb\">\n",
        "      <img src=\"https://cloud.google.com/ml-engine/images/colab-logo-32px.png\" alt=\"Google Colaboratory logo\"><br> Run in Colab\n",
        "    </a>\n",
        "  </td>\n",
        "  <td style=\"text-align: center\">\n",
        "    <a href=\"https://console.cloud.google.com/vertex-ai/colab/import/https:%2F%2Fraw.githubusercontent.com%2FGoogleCloudPlatform%2Fgenerative-ai%2Fmain%2Fgemini%2Fgetting-started%2Fintro_gemini_pro_python.ipynb\">\n",
        "      <img width=\"32px\" src=\"https://lh3.googleusercontent.com/JmcxdQi-qOpctIvWKgPtrzZdJJK-J3sWE1RsfjZNwshCFgE_9fULcNpuXYTilIR2hjwN\" alt=\"Google Cloud Colab Enterprise logo\"><br> Run in Colab Enterprise\n",
        "    </a>\n",
        "  </td>    \n",
        "  <td style=\"text-align: center\">\n",
        "    <a href=\"https://github.com/GoogleCloudPlatform/generative-ai/blob/main/gemini/getting-started/intro_gemini_pro_python.ipynb\">\n",
        "      <img src=\"https://cloud.google.com/ml-engine/images/github-logo-32px.png\" alt=\"GitHub logo\"><br> View on GitHub\n",
        "    </a>\n",
        "  </td>\n",
        "  <td style=\"text-align: center\">\n",
        "    <a href=\"https://console.cloud.google.com/vertex-ai/workbench/deploy-notebook?download_url=https://raw.githubusercontent.com/GoogleCloudPlatform/generative-ai/main/gemini/getting-started/intro_gemini_pro_python.ipynb\">\n",
        "      <img src=\"https://lh3.googleusercontent.com/UiNooY4LUgW_oTvpsNhPpQzsstV5W8F7rYgxgGBD85cWJoLmrOzhVs_ksK_vgx40SHs7jCqkTkCk=e14-rj-sc0xffffff-h130-w32\" alt=\"Vertex AI logo\"><br> Open in Vertex AI Workbench\n",
        "    </a>\n",
        "  </td>\n",
        "</table>\n",
        "\n",
        "<div style=\"clear: both;\"></div>\n",
        "\n",
        "<b>Share to:</b>\n",
        "\n",
        "<a href=\"https://www.linkedin.com/sharing/share-offsite/?url=https%3A//github.com/GoogleCloudPlatform/generative-ai/blob/main/gemini/getting-started/intro_gemini_pro_python.ipynb\" target=\"_blank\">\n",
        "  <img width=\"20px\" src=\"https://upload.wikimedia.org/wikipedia/commons/8/81/LinkedIn_icon.svg\" alt=\"LinkedIn logo\">\n",
        "</a>\n",
        "\n",
        "<a href=\"https://bsky.app/intent/compose?text=https%3A//github.com/GoogleCloudPlatform/generative-ai/blob/main/gemini/getting-started/intro_gemini_pro_python.ipynb\" target=\"_blank\">\n",
        "  <img width=\"20px\" src=\"https://upload.wikimedia.org/wikipedia/commons/7/7a/Bluesky_Logo.svg\" alt=\"Bluesky logo\">\n",
        "</a>\n",
        "\n",
        "<a href=\"https://twitter.com/intent/tweet?url=https%3A//github.com/GoogleCloudPlatform/generative-ai/blob/main/gemini/getting-started/intro_gemini_pro_python.ipynb\" target=\"_blank\">\n",
        "  <img width=\"20px\" src=\"https://upload.wikimedia.org/wikipedia/commons/5/53/X_logo_2023_original.svg\" alt=\"X logo\">\n",
        "</a>\n",
        "\n",
        "<a href=\"https://reddit.com/submit?url=https%3A//github.com/GoogleCloudPlatform/generative-ai/blob/main/gemini/getting-started/intro_gemini_pro_python.ipynb\" target=\"_blank\">\n",
        "  <img width=\"20px\" src=\"https://redditinc.com/hubfs/Reddit%20Inc/Brand/Reddit_Logo.png\" alt=\"Reddit logo\">\n",
        "</a>\n",
        "\n",
        "<a href=\"https://www.facebook.com/sharer/sharer.php?u=https%3A//github.com/GoogleCloudPlatform/generative-ai/blob/main/gemini/getting-started/intro_gemini_pro_python.ipynb\" target=\"_blank\">\n",
        "  <img width=\"20px\" src=\"https://upload.wikimedia.org/wikipedia/commons/5/51/Facebook_f_logo_%282019%29.svg\" alt=\"Facebook logo\">\n",
        "</a>            \n"
      ]
    },
    {
      "cell_type": "markdown",
      "metadata": {
        "id": "4e3b69485293"
      },
      "source": [
        "| | |\n",
        "|-|-|\n",
        "|Author(s) | [Eric Dong](https://github.com/gericdong), [Polong Lin](https://github.com/polong-lin), [Wanheng Li](https://github.com/wanhengli) |"
      ]
    },
    {
      "cell_type": "markdown",
      "metadata": {
        "id": "CkHPv2myT2cx"
      },
      "source": [
        "## Overview\n",
        "\n",
        "### Gemini\n",
        "\n",
        "Gemini is a family of generative AI models developed by Google DeepMind that is designed for multimodal use cases. The Gemini API gives you access to the Gemini Pro and Gemini Pro Vision models.\n",
        "\n",
        "### Gemini API in Vertex AI\n",
        "\n",
        "The Gemini API in Vertex AI provides a unified interface for interacting with Gemini models. There are two Gemini 1.0 Pro models available in the Gemini API:\n",
        "\n",
        "- **Gemini 1.0 Pro model** (`gemini-1.0-pro`): Designed to handle natural language tasks, multi-turn text and code chat, and code generation.\n",
        "- **Gemini 1.0 Pro Vision model** (`gemini-1.0-pro-vision`): Supports multimodal prompts. You can include text, images, and video in your prompt requests and get text or code responses.\n",
        "\n",
        "You can interact with the Gemini API using the following methods:\n",
        "\n",
        "- Use [Vertex AI Studio](https://cloud.google.com/generative-ai-studio) for quick testing and command generation\n",
        "- Use cURL commands\n",
        "- Use the Vertex AI SDK\n",
        "\n",
        "This notebook focuses on using the **Vertex AI SDK for Python** to call the Gemini API in Vertex AI with the Gemini 1.0 Pro model.\n",
        "\n",
        "For more information, see the [Generative AI on Vertex AI](https://cloud.google.com/vertex-ai/docs/generative-ai/learn/overview) documentation.\n"
      ]
    },
    {
      "cell_type": "markdown",
      "metadata": {
        "id": "DrkcqHrrwMAo"
      },
      "source": [
        "### Objectives\n",
        "\n",
        "In this tutorial, you will learn how to use the Gemini API in Vertex AI with the Vertex AI SDK for Python to interact with the Gemini 1.0 Pro (`gemini-1.0-pro`) model.\n",
        "\n",
        "You will complete the following tasks:\n",
        "\n",
        "- Install the Vertex AI SDK for Python\n",
        "- Use the Gemini API in Vertex AI to interact with Gemini 1.0 Pro (`gemini-1.0-pro`) model:\n",
        "    - Generate text from text prompts\n",
        "    - Explore various features and configuration options\n"
      ]
    },
    {
      "cell_type": "markdown",
      "metadata": {
        "id": "C9nEPojogw-g"
      },
      "source": [
        "### Costs\n",
        "\n",
        "This tutorial uses billable components of Google Cloud:\n",
        "\n",
        "- Vertex AI\n",
        "\n",
        "Learn about [Vertex AI pricing](https://cloud.google.com/vertex-ai/pricing) and use the [Pricing Calculator](https://cloud.google.com/products/calculator/) to generate a cost estimate based on your projected usage.\n"
      ]
    },
    {
      "cell_type": "markdown",
      "metadata": {
        "id": "r11Gu7qNgx1p"
      },
      "source": [
        "## Getting Started\n"
      ]
    },
    {
      "cell_type": "markdown",
      "metadata": {
        "id": "No17Cw5hgx12"
      },
      "source": [
        "### Install Vertex AI SDK for Python\n"
      ]
    },
    {
      "cell_type": "code",
      "execution_count": null,
      "metadata": {
        "id": "tFy3H3aPgx12"
      },
      "outputs": [],
      "source": [
        "%pip install --upgrade --user google-cloud-aiplatform"
      ]
    },
    {
      "cell_type": "markdown",
      "metadata": {
        "id": "R5Xep4W9lq-Z"
      },
      "source": [
        "### Restart current runtime\n",
        "\n",
        "To use the newly installed packages in this Jupyter runtime, you must restart the runtime. You can do this by running the cell below, which will restart the current kernel."
      ]
    },
    {
      "cell_type": "code",
      "execution_count": null,
      "metadata": {
        "id": "XRvKdaPDTznN"
      },
      "outputs": [],
      "source": [
        "# Restart kernel after installs so that your environment can access the new packages\n",
        "import IPython\n",
        "\n",
        "app = IPython.Application.instance()\n",
        "app.kernel.do_shutdown(True)"
      ]
    },
    {
      "cell_type": "markdown",
      "metadata": {
        "id": "SbmM4z7FOBpM"
      },
      "source": [
        "<div class=\"alert alert-block alert-warning\">\n",
        "<b>⚠️ The kernel is going to restart. Please wait until it is finished before continuing to the next step. ⚠️</b>\n",
        "</div>\n"
      ]
    },
    {
      "cell_type": "markdown",
      "metadata": {
        "id": "dmWOrTJ3gx13"
      },
      "source": [
        "### Authenticate your notebook environment (Colab only)\n",
        "\n",
        "If you are running this notebook on Google Colab, run the following cell to authenticate your environment. This step is not required if you are using [Vertex AI Workbench](https://cloud.google.com/vertex-ai-workbench).\n"
      ]
    },
    {
      "cell_type": "code",
      "execution_count": 1,
      "metadata": {
        "id": "NyKGtVQjgx13"
      },
      "outputs": [],
      "source": [
        "import sys\n",
        "\n",
        "# Additional authentication is required for Google Colab\n",
        "if \"google.colab\" in sys.modules:\n",
        "    # Authenticate user to Google Cloud\n",
        "    from google.colab import auth\n",
        "\n",
        "    auth.authenticate_user()"
      ]
    },
    {
      "cell_type": "markdown",
      "metadata": {
        "id": "DF4l8DTdWgPY"
      },
      "source": [
        "### Define Google Cloud project information and initialize Vertex AI\n",
        "\n",
        "To get started using Vertex AI, you must have an existing Google Cloud project and [enable the Vertex AI API](https://console.cloud.google.com/flows/enableapi?apiid=aiplatform.googleapis.com).\n",
        "\n",
        "Learn more about [setting up a project and a development environment](https://cloud.google.com/vertex-ai/docs/start/cloud-environment)."
      ]
    },
    {
      "cell_type": "code",
      "execution_count": 2,
      "metadata": {
        "id": "Nqwi-5ufWp_B"
      },
      "outputs": [],
      "source": [
        "# Use the environment variable if the user doesn't provide Project ID.\n",
        "import os\n",
        "\n",
        "import vertexai\n",
        "\n",
        "PROJECT_ID = \"[your-project-id]\"  # @param {type: \"string\", placeholder: \"[your-project-id]\" isTemplate: true}\n",
        "if not PROJECT_ID or PROJECT_ID == \"[your-project-id]\":\n",
        "    PROJECT_ID = str(os.environ.get(\"GOOGLE_CLOUD_PROJECT\"))\n",
        "\n",
        "LOCATION = os.environ.get(\"GOOGLE_CLOUD_REGION\", \"us-central1\")\n",
        "\n",
        "vertexai.init(project=PROJECT_ID, location=LOCATION)"
      ]
    },
    {
      "cell_type": "markdown",
      "metadata": {
        "id": "jXHfaVS66_01"
      },
      "source": [
        "### Import libraries\n"
      ]
    },
    {
      "cell_type": "code",
      "execution_count": 3,
      "metadata": {
        "id": "lslYAvw37JGQ"
      },
      "outputs": [],
      "source": [
        "from vertexai.generative_models import GenerationConfig, GenerativeModel"
      ]
    },
    {
      "cell_type": "markdown",
      "metadata": {
        "id": "4437b7608c8e"
      },
      "source": [
        "## Use the Gemini 1.0 Pro model\n",
        "\n",
        "The Gemini 1.0 Pro (`gemini-1.0-pro`) model is designed to handle natural language tasks, multi-turn text and code chat, and code generation.\n"
      ]
    },
    {
      "cell_type": "markdown",
      "metadata": {
        "id": "BY1nfXrqRxVX"
      },
      "source": [
        "### Load the Gemini 1.0 Pro model\n"
      ]
    },
    {
      "cell_type": "code",
      "execution_count": 4,
      "metadata": {
        "id": "2998506fe6d1"
      },
      "outputs": [],
      "source": [
        "model = GenerativeModel(\"gemini-1.0-pro\")"
      ]
    },
    {
      "cell_type": "markdown",
      "metadata": {
        "id": "AIl7R_jBUsaC"
      },
      "source": [
        "### Generate text from text prompts\n",
        "\n",
        "Send a text prompt to the model. The Gemini 1.0 Pro (`gemini-1.0-pro`) model provides a streaming response mechanism. With this approach, you don't need to wait for the complete response; you can start processing fragments as soon as they're accessible.\n"
      ]
    },
    {
      "cell_type": "code",
      "execution_count": 5,
      "metadata": {
        "id": "eAo-UsfZECGF"
      },
      "outputs": [
        {
          "name": "stdout",
          "output_type": "stream",
          "text": [
            "The sky is blue because of a phenomenon known as Rayleigh scattering. Light from the sun is composed of a mixture of all colors, but the shorter wavelengths, such as blue and violet, are more readily scattered by molecules in the Earth's atmosphere. This scattering is caused by the interaction of the light waves with the molecules, which have a size that is comparable to the wavelength of the light.\n",
            "\n",
            "When light interacts with a molecule, the electrons in the molecule are excited and the molecule vibrates. The excited electrons then re-emit the light in all directions, but most of the light is emitted in the direction of the original wave. The amount of scattering depends on the wavelength of the light, and the shorter the wavelength, the more it is scattered. This means that blue and violet light are scattered more than other colors, which is why the sky appears blue. \n",
            "\n",
            "At sunset and sunrise, the sunlight has to pass through more of the atmosphere to reach our eyes. This means that more of the blue and violet light is scattered away, and the light that reaches us is more concentrated in the longer wavelengths, such as red and orange. This is why the sky appears red or orange at these times."
          ]
        }
      ],
      "source": [
        "responses = model.generate_content(\"Why is the sky blue?\", stream=True)\n",
        "\n",
        "for response in responses:\n",
        "    print(response.text, end=\"\")"
      ]
    },
    {
      "cell_type": "markdown",
      "metadata": {
        "id": "Us8idXnVyQ97"
      },
      "source": [
        "#### Try your own prompts\n",
        "\n",
        "- What are the biggest challenges facing the healthcare industry?\n",
        "- What are the latest developments in the automotive industry?\n",
        "- What are the biggest opportunities in retail industry?\n",
        "- (Try your own prompts!)\n"
      ]
    },
    {
      "cell_type": "code",
      "execution_count": 6,
      "metadata": {
        "id": "MmAZQW1GyQ97"
      },
      "outputs": [
        {
          "name": "stdout",
          "output_type": "stream",
          "text": [
            "1. Artificial Intelligence\n",
            "2. Cloud Computing\n",
            "3. Cybersecurity\n",
            "4. 5G Networks\n",
            "5. IoT (Internet of Things)\n",
            "6. Blockchain\n",
            "7. Augmented Reality\n",
            "8. Machine Learning\n",
            "9. Quantum Computing\n",
            "10. Robotics"
          ]
        }
      ],
      "source": [
        "prompt = \"\"\"Create a numbered list of 10 items. Each item in the list should be a trend in the tech industry.\n",
        "\n",
        "Each trend should be less than 5 words.\"\"\"  # try your own prompt\n",
        "\n",
        "responses = model.generate_content(prompt, stream=True)\n",
        "\n",
        "for response in responses:\n",
        "    print(response.text, end=\"\")"
      ]
    },
    {
      "cell_type": "markdown",
      "metadata": {
        "id": "tDK4XLdz3Oqv"
      },
      "source": [
        "#### Model parameters\n",
        "\n",
        "Every prompt you send to the model includes parameter values that control how the model generates a response. The model can generate different results for different parameter values. You can experiment with different model parameters to see how the results change.\n"
      ]
    },
    {
      "cell_type": "code",
      "execution_count": 7,
      "metadata": {
        "id": "s_2ann-F3WTo"
      },
      "outputs": [
        {
          "name": "stdout",
          "output_type": "stream",
          "text": [
            "The sky appears blue because of a phenomenon called Rayleigh scattering.\n",
            "\n",
            "White light from the sun is composed of all colors of the visible spectrum. As this light passes through the Earth's atmosphere, it encounters molecules of nitrogen, oxygen, and other gases. These molecules are much smaller than the wavelength of visible light, so they scatter the light in all directions.\n",
            "\n",
            "However, the amount of scattering depends on the wavelength of the light. Shorter wavelengths, such as blue and violet, are scattered more strongly than longer wavelengths, such as red and orange. This is because the smaller molecules of the atmosphere are more effective at scattering shorter wavelengths.\n",
            "\n",
            "As a result, the scattered light that reaches our eyes is predominantly blue and violet. This is what gives the sky its characteristic blue appearance.\n",
            "\n",
            "At sunset and sunrise, the sunlight has to travel through more of the atmosphere to reach our eyes. This allows more of the blue and violet light to be scattered away, leaving the remaining light to appear red, orange, or yellow."
          ]
        }
      ],
      "source": [
        "generation_config = GenerationConfig(\n",
        "    temperature=0.9,\n",
        "    top_p=1.0,\n",
        "    top_k=32,\n",
        "    candidate_count=1,\n",
        "    max_output_tokens=8192,\n",
        ")\n",
        "\n",
        "responses = model.generate_content(\n",
        "    \"Why is the sky blue?\",\n",
        "    generation_config=generation_config,\n",
        "    stream=True,\n",
        ")\n",
        "\n",
        "for response in responses:\n",
        "    print(response.text, end=\"\")"
      ]
    },
    {
      "cell_type": "markdown",
      "metadata": {
        "id": "ga0xM9z9fAnR"
      },
      "source": [
        "### Test chat prompts\n",
        "\n",
        "The Gemini 1.0 Pro model supports natural multi-turn conversations and is ideal for text tasks that require back-and-forth interactions. The following examples show how the model responds during a multi-turn conversation.\n"
      ]
    },
    {
      "cell_type": "code",
      "execution_count": 8,
      "metadata": {
        "id": "SFbGVflTfBBk"
      },
      "outputs": [
        {
          "name": "stdout",
          "output_type": "stream",
          "text": [
            "**Fantasy Adventures:**\n",
            "\n",
            "* **Game of Thrones** (TV series): A complex and gripping fantasy epic with political intrigue, warfare, and mythical creatures.\n",
            "* **The Princess Bride** (1987): A charming and whimsical adventure with a fairy-tale setting and memorable characters.\n",
            "* **The Chronicles of Narnia: The Lion, the Witch and the Wardrobe** (2005): A magical and heartwarming adaptation of C.S. Lewis's classic novel.\n",
            "* **How to Train Your Dragon** (2010): An animated adventure about a young Viking who befriends a dragon and fights alongside him.\n",
            "* **Eragon** (2006): A fantasy epic based on Christopher Paolini's novel, featuring a young farm boy who discovers his destiny as a dragon rider.\n",
            "\n",
            "**Epic Historical Dramas:**\n",
            "\n",
            "* **Braveheart** (1995): A rousing and historically accurate tale of Scottish resistance against English rule.\n",
            "* **Gladiator** (2000): A brutal and immersive depiction of ancient Rome, with stunning battle scenes and a powerful performance from Russell Crowe.\n",
            "* **Kingdom of Heaven** (2005): A visually stunning and emotionally resonant historical epic set during the Crusades.\n",
            "* **The Last Samurai** (2003): A captivating exploration of cultural clashes and the power of redemption, set in 19th-century Japan.\n",
            "* **Troy** (2004): A stirring and action-packed adaptation of Homer's epic poem, featuring a star-studded cast and breathtaking battles."
          ]
        }
      ],
      "source": [
        "chat = model.start_chat()\n",
        "\n",
        "prompt = \"\"\"My name is Ned. You are my personal assistant. My favorite movies are Lord of the Rings and Hobbit.\n",
        "\n",
        "Suggest another movie I might like.\n",
        "\"\"\"\n",
        "\n",
        "responses = chat.send_message(prompt, stream=True)\n",
        "\n",
        "for response in responses:\n",
        "    print(response.text, end=\"\")"
      ]
    },
    {
      "cell_type": "markdown",
      "metadata": {
        "id": "ZP_z_Oh1J4nk"
      },
      "source": [
        "This follow-up prompt shows how the model responds based on the previous prompt:\n"
      ]
    },
    {
      "cell_type": "code",
      "execution_count": 9,
      "metadata": {
        "id": "OCq7JNBKJrI8"
      },
      "outputs": [
        {
          "name": "stdout",
          "output_type": "stream",
          "text": [
            "Yes, both **The Lord of the Rings** and **The Hobbit** are based on book series by J.R.R. Tolkien.\n",
            "\n",
            "* **The Lord of the Rings** is a trilogy of epic fantasy novels published between 1954 and 1955. It tells the story of the quest of the Fellowship of the Ring to destroy the One Ring, an evil artifact created by the Dark Lord Sauron.\n",
            "* **The Hobbit** is a prequel to The Lord of the Rings, published in 1937. It follows the adventures of Bilbo Baggins, a hobbit who joins a group of dwarves on a quest to reclaim their lost kingdom from the dragon Smaug.\n",
            "\n",
            "Both book series have been adapted into highly successful film trilogies directed by Peter Jackson. The Lord of the Rings film trilogy was released between 2001 and 2003, and The Hobbit film trilogy was released between 2012 and 2014."
          ]
        }
      ],
      "source": [
        "prompt = \"Are my favorite movies based on a book series?\"\n",
        "\n",
        "responses = chat.send_message(prompt, stream=True)\n",
        "\n",
        "for response in responses:\n",
        "    print(response.text, end=\"\")"
      ]
    },
    {
      "cell_type": "markdown",
      "metadata": {
        "id": "LLSpo4qQHNpI"
      },
      "source": [
        "You can also view the chat history:\n"
      ]
    },
    {
      "cell_type": "code",
      "execution_count": 10,
      "metadata": {
        "id": "DAyhwvMtHNpI"
      },
      "outputs": [
        {
          "name": "stdout",
          "output_type": "stream",
          "text": [
            "[role: \"user\"\n",
            "parts {\n",
            "  text: \"My name is Ned. You are my personal assistant. My favorite movies are Lord of the Rings and Hobbit.\\n\\nSuggest another movie I might like.\\n\"\n",
            "}\n",
            ", role: \"model\"\n",
            "parts {\n",
            "  text: \"**Fantasy Adventures:**\\n\\n* **Game of Thrones** (TV series): A complex and gripping fantasy epic with political intrigue, warfare, and mythical creatures.\\n* **The Princess Bride** (1987): A charming and whimsical adventure with a fairy-tale setting and memorable characters.\\n* **The Chronicles of Narnia: The Lion, the Witch and the Wardrobe** (2005): A magical and heartwarming adaptation of C.S. Lewis\\'s classic novel.\\n* **How to Train Your Dragon** (2010): An animated adventure about a young Viking who befriends a dragon and fights alongside him.\\n* **Eragon** (2006): A fantasy epic based on Christopher Paolini\\'s novel, featuring a young farm boy who discovers his destiny as a dragon rider.\\n\\n**Epic Historical Dramas:**\\n\\n* **Braveheart** (1995): A rousing and historically accurate tale of Scottish resistance against English rule.\\n* **Gladiator** (2000): A brutal and immersive depiction of ancient Rome, with stunning battle scenes and a powerful performance from Russell Crowe.\\n* **Kingdom of Heaven** (2005): A visually stunning and emotionally resonant historical epic set during the Crusades.\\n* **The Last Samurai** (2003): A captivating exploration of cultural clashes and the power of redemption, set in 19th-century Japan.\\n* **Troy** (2004): A stirring and action-packed adaptation of Homer\\'s epic poem, featuring a star-studded cast and breathtaking battles.\"\n",
            "}\n",
            ", role: \"user\"\n",
            "parts {\n",
            "  text: \"Are my favorite movies based on a book series?\"\n",
            "}\n",
            ", role: \"model\"\n",
            "parts {\n",
            "  text: \"Yes, both **The Lord of the Rings** and **The Hobbit** are based on book series by J.R.R. Tolkien.\\n\\n* **The Lord of the Rings** is a trilogy of epic fantasy novels published between 1954 and 1955. It tells the story of the quest of the Fellowship of the Ring to destroy the One Ring, an evil artifact created by the Dark Lord Sauron.\\n* **The Hobbit** is a prequel to The Lord of the Rings, published in 1937. It follows the adventures of Bilbo Baggins, a hobbit who joins a group of dwarves on a quest to reclaim their lost kingdom from the dragon Smaug.\\n\\nBoth book series have been adapted into highly successful film trilogies directed by Peter Jackson. The Lord of the Rings film trilogy was released between 2001 and 2003, and The Hobbit film trilogy was released between 2012 and 2014.\"\n",
            "}\n",
            "]\n"
          ]
        }
      ],
      "source": [
        "print(chat.history)"
      ]
    }
  ],
  "metadata": {
    "colab": {
      "name": "intro_gemini_pro_python.ipynb",
      "toc_visible": true
    },
    "kernelspec": {
      "display_name": "Python 3",
      "name": "python3"
    }
  },
  "nbformat": 4,
  "nbformat_minor": 0
}
