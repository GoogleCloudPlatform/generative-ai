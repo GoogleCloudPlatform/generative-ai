{
  "cells": [
    {
      "cell_type": "code",
      "execution_count": null,
      "metadata": {
        "id": "ur8xi4C7S06n"
      },
      "outputs": [],
      "source": [
        "# Copyright 2025 Google LLC\n",
        "#\n",
        "# Licensed under the Apache License, Version 2.0 (the \"License\");\n",
        "# you may not use this file except in compliance with the License.\n",
        "# You may obtain a copy of the License at\n",
        "#\n",
        "#     https://www.apache.org/licenses/LICENSE-2.0\n",
        "#\n",
        "# Unless required by applicable law or agreed to in writing, software\n",
        "# distributed under the License is distributed on an \"AS IS\" BASIS,\n",
        "# WITHOUT WARRANTIES OR CONDITIONS OF ANY KIND, either express or implied.\n",
        "# See the License for the specific language governing permissions and\n",
        "# limitations under the License."
      ]
    },
    {
      "cell_type": "markdown",
      "metadata": {
        "id": "JAPoU8Sm5E6e"
      },
      "source": [
        "# Get started with Gemini-TTS voices using Text-to-Speech\n",
        "\n",
        "<table align=\"left\">\n",
        "  <td style=\"text-align: center\">\n",
        "    <a href=\"https://colab.research.google.com/github/GoogleCloudPlatform/generative-ai/blob/main/audio/speech/getting-started/get_started_with_gemini_tts_voices.ipynb\">\n",
        "      <img width=\"32px\" src=\"https://www.gstatic.com/pantheon/images/bigquery/welcome_page/colab-logo.svg\" alt=\"Google Colaboratory logo\"><br> Open in Colab\n",
        "    </a>\n",
        "  </td>\n",
        "  <td style=\"text-align: center\">\n",
        "    <a href=\"https://console.cloud.google.com/vertex-ai/colab/import/https:%2F%2Fraw.githubusercontent.com%2FGoogleCloudPlatform%2Fgenerative-ai%2Fmain%2Faudio%2Fspeech%2Fgetting-started%2Fget_started_with_gemini_tts_voices.ipynb\">\n",
        "      <img width=\"32px\" src=\"https://lh3.googleusercontent.com/JmcxdQi-qOpctIvWKgPtrzZdJJK-J3sWE1RsfjZNwshCFgE_9fULcNpuXYTilIR2hjwN\" alt=\"Google Cloud Colab Enterprise logo\"><br> Open in Colab Enterprise\n",
        "    </a>\n",
        "  </td>\n",
        "  <td style=\"text-align: center\">\n",
        "    <a href=\"https://console.cloud.google.com/vertex-ai/workbench/deploy-notebook?download_url=https://raw.githubusercontent.com/GoogleCloudPlatform/generative-ai/main/audio/speech/getting-started/get_started_with_gemini_tts_voices.ipynb\">\n",
        "      <img src=\"https://www.gstatic.com/images/branding/gcpiconscolors/vertexai/v1/32px.svg\" alt=\"Vertex AI logo\"><br> Open in Vertex AI Workbench\n",
        "    </a>\n",
        "  </td>\n",
        "  <td style=\"text-align: center\">\n",
        "    <a href=\"https://github.com/GoogleCloudPlatform/generative-ai/blob/main/audio/speech/getting-started/get_started_with_gemini_tts_voices.ipynb\">\n",
        "      <img width=\"32px\" src=\"https://www.svgrepo.com/download/217753/github.svg\" alt=\"GitHub logo\"><br> View on GitHub\n",
        "    </a>\n",
        "  </td>\n",
        "</table>\n",
        "\n",
        "<div style=\"clear: both;\"></div>\n",
        "\n",
        "<b>Share to:</b>\n",
        "\n",
        "<a href=\"https://www.linkedin.com/sharing/share-offsite/?url=https%3A//github.com/GoogleCloudPlatform/generative-ai/blob/main/audio/speech/getting-started/get_started_with_gemini_tts_voices.ipynb\" target=\"_blank\">\n",
        "  <img width=\"20px\" src=\"https://upload.wikimedia.org/wikipedia/commons/8/81/LinkedIn_icon.svg\" alt=\"LinkedIn logo\">\n",
        "</a>\n",
        "\n",
        "<a href=\"https://bsky.app/intent/compose?text=https%3A//github.com/GoogleCloudPlatform/generative-ai/blob/main/audio/speech/getting-started/get_started_with_gemini_tts_voices.ipynb\" target=\"_blank\">\n",
        "  <img width=\"20px\" src=\"https://upload.wikimedia.org/wikipedia/commons/7/7a/Bluesky_Logo.svg\" alt=\"Bluesky logo\">\n",
        "</a>\n",
        "\n",
        "<a href=\"https://twitter.com/intent/tweet?url=https%3A//github.com/GoogleCloudPlatform/generative-ai/blob/main/audio/speech/getting-started/get_started_with_gemini_tts_voices.ipynb\" target=\"_blank\">\n",
        "  <img width=\"20px\" src=\"https://upload.wikimedia.org/wikipedia/commons/5/5a/X_icon_2.svg\" alt=\"X logo\">\n",
        "</a>\n",
        "\n",
        "<a href=\"https://reddit.com/submit?url=https%3A//github.com/GoogleCloudPlatform/generative-ai/blob/main/audio/speech/getting-started/get_started_with_gemini_tts_voices.ipynb\" target=\"_blank\">\n",
        "  <img width=\"20px\" src=\"https://redditinc.com/hubfs/Reddit%20Inc/Brand/Reddit_Logo.png\" alt=\"Reddit logo\">\n",
        "</a>\n",
        "\n",
        "<a href=\"https://www.facebook.com/sharer/sharer.php?u=https%3A//github.com/GoogleCloudPlatform/generative-ai/blob/main/audio/speech/getting-started/get_started_with_gemini_tts_voices.ipynb\" target=\"_blank\">\n",
        "  <img width=\"20px\" src=\"https://upload.wikimedia.org/wikipedia/commons/5/51/Facebook_f_logo_%282019%29.svg\" alt=\"Facebook logo\">\n",
        "</a>            "
      ]
    },
    {
      "cell_type": "markdown",
      "metadata": {
        "id": "84f0f73a0f76"
      },
      "source": [
        "| Authors |\n",
        "| --- |\n",
        "| [Ahmet Kizilay](https://github.com/ahmetkizilay) |\n",
        "| [Gary Chien](https://github.com/goldenchest) |"
      ]
    },
    {
      "cell_type": "markdown",
      "metadata": {
        "id": "tvgnzT1CKxrO"
      },
      "source": [
        "## Overview\n",
        "\n",
        "This notebook introduces [Gemini-TTS](https://cloud.google.com/text-to-speech/docs/gemini-tts), the latest evolution of our Text-to-Speech technology that's moving beyond just naturalness to giving granular control over generated audio using text-based prompts. Using Gemini-TTS, you can synthesize speech from short snippets to long-form narratives, precisely dictating style, accent, pace, tone, and even emotional expression, all steerable through natural-language prompts. You can create conversations between two speakers with the same emotional expression and steerability.\n",
        "\n",
        "\n",
        "There are currently 30 distinct voice options. See [all available voices](https://cloud.google.com/text-to-speech/docs/gemini-tts#voice_options).\n",
        "\n",
        "There are 80+ locale options to use for synthesis. See [all available locales](https://cloud.google.com/text-to-speech/docs/gemini-tts#language_availability)\n",
        "\n",
        "In this tutorial, you learn how to:\n",
        "\n",
        "- How to synthesize speech using real-time (online) processing\n",
        "- How to use formatting and expressive tags to modify the tone of the speech.\n",
        "- How to synthesize dialogues with two speakers."
      ]
    },
    {
      "cell_type": "markdown",
      "metadata": {
        "id": "61RBz8LLbxCR"
      },
      "source": [
        "## Get started"
      ]
    },
    {
      "cell_type": "markdown",
      "metadata": {
        "id": "No17Cw5hgx12"
      },
      "source": [
        "### Install Text-to-Speech SDK and other required packages\n",
        "\n",
        "Minimum google-cloud-texttospeech version  2.31.0 is required to be able to use the Gemini-TTS related fields."
      ]
    },
    {
      "cell_type": "code",
      "execution_count": 1,
      "metadata": {
        "id": "e73_ZgKWYedz"
      },
      "outputs": [],
      "source": [
        "%%bash\n",
        "# Detect the operating system\n",
        "os=$(uname -s)\n",
        "\n",
        "if [[ \"$os\" == \"Linux\" ]]; then\n",
        "  # Linux installation\n",
        "  sudo apt update -y -qq\n",
        "  sudo apt install ffmpeg -y -qq\n",
        "  echo \"ffmpeg installed successfully on Linux.\"\n",
        "elif [[ \"$os\" == \"Darwin\" ]]; then\n",
        "  # macOS installation\n",
        "  if command -v brew &> /dev/null; then\n",
        "    brew install ffmpeg\n",
        "    if [[ $? -eq 0 ]]; then\n",
        "        echo \"ffmpeg installed successfully on macOS using Homebrew.\"\n",
        "    else\n",
        "        echo \"Error installing ffmpeg on macOS using Homebrew.\"\n",
        "    fi\n",
        "  else\n",
        "    echo \"Homebrew is not installed. Please install Homebrew and try again.\"\n",
        "  fi\n",
        "else\n",
        "  echo \"Unsupported operating system: $os\"\n",
        "fi"
      ]
    },
    {
      "cell_type": "code",
      "execution_count": 2,
      "metadata": {
        "id": "tFy3H3aPgx12"
      },
      "outputs": [],
      "source": [
        "%pip install --upgrade --quiet google-cloud-texttospeech\n",
        "%pip show google-cloud-texttospeech"
      ]
    },
    {
      "cell_type": "markdown",
      "metadata": {
        "id": "dmWOrTJ3gx13"
      },
      "source": [
        "### Authenticate your notebook environment (Colab only)\n",
        "\n",
        "If you're running this notebook on Google Colab, run the cell below to authenticate your environment."
      ]
    },
    {
      "cell_type": "code",
      "execution_count": 3,
      "metadata": {
        "id": "NyKGtVQjgx13"
      },
      "outputs": [],
      "source": [
        "import sys\n",
        "\n",
        "if \"google.colab\" in sys.modules:\n",
        "    from google.colab import auth\n",
        "\n",
        "    auth.authenticate_user()"
      ]
    },
    {
      "cell_type": "markdown",
      "metadata": {
        "id": "DF4l8DTdWgPY"
      },
      "source": [
        "### Set Google Cloud project information and initialize SDK\n",
        "\n",
        "To get started using the Text-to-Speech API, you must have an existing Google Cloud project and [enable the API](https://console.cloud.google.com/flows/enableapi?apiid=texttospeech.googleapis.com).\n",
        "\n",
        "Learn more about [setting up a project and a development environment](https://cloud.google.com/vertex-ai/docs/start/cloud-environment).\n",
        "\n",
        "For regional availability, see [documentation](https://cloud.google.com/text-to-speech/docs/gemini-tts#regional_availability)."
      ]
    },
    {
      "cell_type": "code",
      "execution_count": 4,
      "metadata": {
        "id": "WIQyBhAn_9tK"
      },
      "outputs": [],
      "source": [
        "# Use the environment variable if the user doesn't provide Project ID.\n",
        "import os\n",
        "\n",
        "# fmt: off\n",
        "PROJECT_ID = \"[your-project-id]\"  # @param {type: \"string\", placeholder: \"[your-project-id]\", isTemplate: true}\n",
        "# fmt: on\n",
        "if not PROJECT_ID or PROJECT_ID == \"[your-project-id]\":\n",
        "    PROJECT_ID = str(os.environ.get(\"GOOGLE_CLOUD_PROJECT\"))\n",
        "\n",
        "TTS_LOCATION = \"global\""
      ]
    },
    {
      "cell_type": "code",
      "execution_count": 5,
      "metadata": {
        "id": "76915236b1c9"
      },
      "outputs": [],
      "source": [
        "! gcloud config set project {PROJECT_ID}\n",
        "! gcloud auth application-default set-quota-project {PROJECT_ID}\n",
        "! gcloud auth application-default login -q"
      ]
    },
    {
      "cell_type": "markdown",
      "metadata": {
        "id": "5303c05f7aa6"
      },
      "source": [
        "### Import libraries"
      ]
    },
    {
      "cell_type": "code",
      "execution_count": 6,
      "metadata": {
        "id": "qqm0OQpAYCph"
      },
      "outputs": [],
      "source": [
        "from IPython.display import Audio, display\n",
        "from google.api_core.client_options import ClientOptions\n",
        "from google.cloud import texttospeech_v1beta1 as texttospeech"
      ]
    },
    {
      "cell_type": "markdown",
      "metadata": {
        "id": "sP8GBj3tBAC1"
      },
      "source": [
        "### Set constants\n",
        "\n",
        "Initiate the API endpoint and the text to speech client.\n"
      ]
    },
    {
      "cell_type": "code",
      "execution_count": 7,
      "metadata": {
        "id": "rXTVeU1uBBqY"
      },
      "outputs": [],
      "source": [
        "API_ENDPOINT = (\n",
        "    f\"{TTS_LOCATION}-texttospeech.googleapis.com\"\n",
        "    if TTS_LOCATION != \"global\"\n",
        "    else \"texttospeech.googleapis.com\"\n",
        ")\n",
        "\n",
        "client = texttospeech.TextToSpeechClient(\n",
        "    client_options=ClientOptions(api_endpoint=API_ENDPOINT)\n",
        ")"
      ]
    },
    {
      "cell_type": "markdown",
      "metadata": {
        "id": "VPVDNRyVxquo"
      },
      "source": [
        "## Synthesize using Gemini-TTS voices\n"
      ]
    },
    {
      "cell_type": "markdown",
      "metadata": {
        "id": "a9aa2ab365ac"
      },
      "source": [
        "### Synthesize speech using real-time (online) processing\n",
        "\n",
        "You define the text you want to convert, select a specific voice and language, and then instruct the API to generate an audio of the spoken text.\n",
        "\n",
        "This example uses the `Aoede` voice, which is a high-definition voice, offering improved clarity. Feel free to choose another voice from the `voice` drop-down menu.\n",
        "\n",
        "The code will call the `synthesize_speech` method, which handles the core conversion process, and the output will be an MP3 audio as `bytes`.\n"
      ]
    },
    {
      "cell_type": "code",
      "execution_count": 8,
      "metadata": {
        "id": "_7XwbSxUD4eW"
      },
      "outputs": [],
      "source": [
        "MODEL = \"gemini-2.5-flash-tts\"  # @param [\"gemini-2.5-flash-tts\", \"gemini-2.5-pro-tts\"]\n",
        "\n",
        "# fmt: off\n",
        "VOICE = \"Aoede\"  # @param [\"Achernar\", \"Achird\", \"Algenib\", \"Algieba\", \"Alnilam\", \"Aoede\", \"Autonoe\", \"Callirrhoe\", \"Charon\", \"Despina\", \"Enceladus\", \"Erinome\", \"Fenrir\", \"Gacrux\", \"Iapetus\", \"Kore\", \"Laomedeia\", \"Leda\", \"Orus\", \"Puck\", \"Pulcherrima\", \"Rasalgethi\", \"Sadachbia\", \"Sadaltager\", \"Schedar\", \"Sulafat\", \"Umbriel\", \"Vindemiatrix\", \"Zephyr\", \"Zubenelgenubi\"]\n",
        "\n",
        "LANGUAGE_CODE = \"en-us\"  # @param [\"am-et\", \"ar-001\", \"ar-eg\",  \"az-az\",  \"be-by\",  \"bg-bg\", \"bn-bd\", \"ca-es\", \"ceb-ph\", \"cs-cz\",  \"da-dk\",  \"de-de\",  \"el-gr\", \"en-au\", \"en-gb\", \"en-in\",  \"en-us\",  \"es-es\",  \"es-419\", \"es-mx\", \"es-us\", \"et-ee\", \"eu-es\",  \"fa-ir\",  \"fi-fi\",  \"fil-ph\", \"fr-fr\", \"fr-ca\", \"gl-es\", \"gu-in\",  \"hi-in\",  \"hr-hr\",  \"ht-ht\",  \"hu-hu\", \"af-za\", \"hy-am\", \"id-id\",  \"is-is\",  \"it-it\",  \"he-il\",  \"ja-jp\", \"jv-jv\", \"ka-ge\", \"kn-in\",  \"ko-kr\",  \"kok-in\", \"la-va\",  \"lb-lu\", \"lo-la\", \"lt-lt\", \"lv-lv\",  \"mai-in\", \"mg-mg\",  \"mk-mk\",  \"ml-in\", \"mn-mn\", \"mr-in\", \"ms-my\",  \"my-mm\",  \"nb-no\",  \"ne-np\",  \"nl-nl\", \"nn-no\", \"or-in\", \"pa-in\",  \"pl-pl\",  \"ps-af\",  \"pt-br\",  \"pt-pt\", \"ro-ro\", \"ru-ru\", \"sd-in\",  \"si-lk\",  \"sk-sk\",  \"sl-si\",  \"sq-al\", \"sr-rs\", \"sv-se\", \"sw-ke\",  \"ta-in\",  \"te-in\",  \"th-th\",  \"tr-tr\", \"uk-ua\", \"ur-pk\", \"vi-vn\",  \"cmn-cn\", \"cmn-tw\"]\n",
        "# fmt: on\n",
        "\n",
        "\n",
        "voice = texttospeech.VoiceSelectionParams(\n",
        "    name=VOICE, language_code=LANGUAGE_CODE, model_name=MODEL\n",
        ")"
      ]
    },
    {
      "cell_type": "code",
      "execution_count": 9,
      "metadata": {
        "id": "98d104dc4d27"
      },
      "outputs": [],
      "source": [
        "# @title capture emotion with prompts\n",
        "\n",
        "# fmt: off\n",
        "PROMPT = \"You are having a conversation with a friend. Say the following in a happy and casual way\"  # @param {type: \"string\"}\n",
        "# fmt: on\n",
        "TEXT = \"hahaha, i did NOT expect that. can you believe it!\"  # @param {type: \"string\"}\n",
        "\n",
        "# Perform the text-to-speech request on the text input with the selected\n",
        "# voice parameters and audio file type\n",
        "response = client.synthesize_speech(\n",
        "    input=texttospeech.SynthesisInput(text=TEXT, prompt=PROMPT),\n",
        "    voice=voice,\n",
        "    # Select the type of audio file you want returned\n",
        "    audio_config=texttospeech.AudioConfig(\n",
        "        audio_encoding=texttospeech.AudioEncoding.MP3\n",
        "    ),\n",
        ")\n",
        "\n",
        "# play the generated audio\n",
        "display(Audio(response.audio_content))"
      ]
    },
    {
      "cell_type": "code",
      "execution_count": null,
      "metadata": {
        "id": "rHJaUJpRskdz"
      },
      "outputs": [],
      "source": [
        "# @title Modify pace of the speech\n",
        "\n",
        "# fmt: off\n",
        "PROMPT = \"Say the following very fast but still be intelligible\"  # @param {type: \"string\"}\n",
        "TEXT = \"Availability and terms may vary. Check our website or your local store for complete details and restrictions.\"  # @param {type: \"string\"}\n",
        "# fmt: on\n",
        "\n",
        "# Perform the text-to-speech request on the text input with the selected\n",
        "# voice parameters and audio file type\n",
        "response = client.synthesize_speech(\n",
        "    input=texttospeech.SynthesisInput(text=TEXT, prompt=PROMPT),\n",
        "    voice=voice,\n",
        "    # Select the type of audio file you want returned\n",
        "    audio_config=texttospeech.AudioConfig(\n",
        "        audio_encoding=texttospeech.AudioEncoding.MP3\n",
        "    ),\n",
        ")\n",
        "# play the generated audio\n",
        "display(Audio(response.audio_content))"
      ]
    },
    {
      "cell_type": "code",
      "execution_count": null,
      "metadata": {
        "id": "e6GpFv9RR05P"
      },
      "outputs": [],
      "source": [
        "# @title modify text with expressive tags\n",
        "\n",
        "# NOTE: These tags are not strict syntax. Feel free to experiment with different\n",
        "# expressions and formats.\n",
        "\n",
        "PROMPT = \"Say the following with a sarcastic tone\"  # @param {type: \"string\"}\n",
        "# fmt: off\n",
        "TEXT = \"So.. [chuckling] tell me about this [coughs] AI thing.\"  # @param {type: \"string\"}\n",
        "# fmt: on\n",
        "\n",
        "# Perform the text-to-speech request on the text input with the selected\n",
        "# voice parameters and audio file type\n",
        "response = client.synthesize_speech(\n",
        "    input=texttospeech.SynthesisInput(text=TEXT, prompt=PROMPT),\n",
        "    voice=voice,\n",
        "    # Select the type of audio file you want returned\n",
        "    audio_config=texttospeech.AudioConfig(\n",
        "        audio_encoding=texttospeech.AudioEncoding.MP3\n",
        "    ),\n",
        ")\n",
        "# play the generated audio\n",
        "display(Audio(response.audio_content))"
      ]
    },
    {
      "cell_type": "markdown",
      "metadata": {
        "id": "W90EPdax-H0D"
      },
      "source": [
        "## Multi-speaker (Dialog) Speech Synthesis\n",
        "\n",
        "You can create a dialog between two speakers. Using `multi_speaker_voice_config`, you can specify the speakers, and assign a custom speaker name to reference in the input text.\n",
        "\n",
        "There are two ways to structure the multi-speaker input"
      ]
    },
    {
      "cell_type": "code",
      "execution_count": null,
      "metadata": {
        "id": "bKN3rZXV9_k5"
      },
      "outputs": [],
      "source": [
        "# @title Explicit turn-based syntax\n",
        "\n",
        "SPEAKER_ALIAS_1 = \"Zizu\"  # @param {type: \"string\"}\n",
        "# fmt: off\n",
        "SPEAKER_1 = \"Fenrir\"  # @param [\"Achernar\", \"Achird\", \"Algenib\", \"Algieba\", \"Alnilam\", \"Aoede\", \"Autonoe\", \"Callirrhoe\", \"Charon\", \"Despina\", \"Enceladus\", \"Erinome\", \"Fenrir\", \"Gacrux\", \"Iapetus\", \"Kore\", \"Laomedeia\", \"Leda\", \"Orus\", \"Puck\", \"Pulcherrima\", \"Rasalgethi\", \"Sadachbia\", \"Sadaltager\", \"Schedar\", \"Sulafat\", \"Umbriel\", \"Vindemiatrix\", \"Zephyr\", \"Zubenelgenubi\"]\n",
        "\n",
        "SPEAKER_ALIAS_2 = \"Gary\"  # @param {type: \"string\"}\n",
        "SPEAKER_2 = \"Orus\"  # @param [\"Achernar\", \"Achird\", \"Algenib\", \"Algieba\", \"Alnilam\", \"Aoede\", \"Autonoe\", \"Callirrhoe\", \"Charon\", \"Despina\", \"Enceladus\", \"Erinome\", \"Fenrir\", \"Gacrux\", \"Iapetus\", \"Kore\", \"Laomedeia\", \"Leda\", \"Orus\", \"Puck\", \"Pulcherrima\", \"Rasalgethi\", \"Sadachbia\", \"Sadaltager\", \"Schedar\", \"Sulafat\", \"Umbriel\", \"Vindemiatrix\", \"Zephyr\", \"Zubenelgenubi\"]\n",
        "\n",
        "LANGUAGE_CODE = \"en-gb\"  # @param [\"am-et\", \"ar-001\", \"ar-eg\",  \"az-az\",  \"be-by\",  \"bg-bg\", \"bn-bd\", \"ca-es\", \"ceb-ph\", \"cs-cz\",  \"da-dk\",  \"de-de\",  \"el-gr\", \"en-au\", \"en-gb\", \"en-in\",  \"en-us\",  \"es-es\",  \"es-419\", \"es-mx\", \"es-us\", \"et-ee\", \"eu-es\",  \"fa-ir\",  \"fi-fi\",  \"fil-ph\", \"fr-fr\", \"fr-ca\", \"gl-es\", \"gu-in\",  \"hi-in\",  \"hr-hr\",  \"ht-ht\",  \"hu-hu\", \"af-za\", \"hy-am\", \"id-id\",  \"is-is\",  \"it-it\",  \"he-il\",  \"ja-jp\", \"jv-jv\", \"ka-ge\", \"kn-in\",  \"ko-kr\",  \"kok-in\", \"la-va\",  \"lb-lu\", \"lo-la\", \"lt-lt\", \"lv-lv\",  \"mai-in\", \"mg-mg\",  \"mk-mk\",  \"ml-in\", \"mn-mn\", \"mr-in\", \"ms-my\",  \"my-mm\",  \"nb-no\",  \"ne-np\",  \"nl-nl\", \"nn-no\", \"or-in\", \"pa-in\",  \"pl-pl\",  \"ps-af\",  \"pt-br\",  \"pt-pt\", \"ro-ro\", \"ru-ru\", \"sd-in\",  \"si-lk\",  \"sk-sk\",  \"sl-si\",  \"sq-al\", \"sr-rs\", \"sv-se\", \"sw-ke\",  \"ta-in\",  \"te-in\",  \"th-th\",  \"tr-tr\", \"uk-ua\", \"ur-pk\", \"vi-vn\",  \"cmn-cn\", \"cmn-tw\"]\n",
        "# fmt: on\n",
        "\n",
        "PROMPT = \"Read the following dialogue between two friends\"  # @param {type: \"string\"}\n",
        "\n",
        "multi_speaker_voice_config = texttospeech.MultiSpeakerVoiceConfig(\n",
        "    speaker_voice_configs=[\n",
        "        texttospeech.MultispeakerPrebuiltVoice(\n",
        "            speaker_alias=SPEAKER_ALIAS_1, speaker_id=SPEAKER_1\n",
        "        ),\n",
        "        texttospeech.MultispeakerPrebuiltVoice(\n",
        "            speaker_alias=SPEAKER_ALIAS_2, speaker_id=SPEAKER_2\n",
        "        ),\n",
        "    ]\n",
        ")\n",
        "\n",
        "multi_speaker_markup = texttospeech.MultiSpeakerMarkup(\n",
        "    turns=[\n",
        "        texttospeech.MultiSpeakerMarkup.Turn(\n",
        "            speaker=SPEAKER_ALIAS_1,\n",
        "            text=\"Have you tried the new multi-speaker feature on Gemini?\",\n",
        "        ),\n",
        "        texttospeech.MultiSpeakerMarkup.Turn(\n",
        "            speaker=SPEAKER_ALIAS_2, text=\"Yes! I am super excited about it\"\n",
        "        ),\n",
        "    ]\n",
        ")\n",
        "response = client.synthesize_speech(\n",
        "    input=texttospeech.SynthesisInput(\n",
        "        multi_speaker_markup=multi_speaker_markup, prompt=PROMPT\n",
        "    ),\n",
        "    voice=texttospeech.VoiceSelectionParams(\n",
        "        language_code=LANGUAGE_CODE,\n",
        "        model_name=MODEL,\n",
        "        multi_speaker_voice_config=multi_speaker_voice_config,\n",
        "    ),\n",
        "    audio_config=texttospeech.AudioConfig(\n",
        "        audio_encoding=texttospeech.AudioEncoding.LINEAR16\n",
        "    ),\n",
        ")\n",
        "# play the generated audio\n",
        "display(Audio(response.audio_content))"
      ]
    },
    {
      "cell_type": "code",
      "execution_count": null,
      "metadata": {
        "id": "VqyvqrxK-_rX"
      },
      "outputs": [],
      "source": [
        "# @title Inline dialog text input\n",
        "\n",
        "multi_speaker_voice_config = texttospeech.MultiSpeakerVoiceConfig(\n",
        "    speaker_voice_configs=[\n",
        "        texttospeech.MultispeakerPrebuiltVoice(\n",
        "            speaker_alias=SPEAKER_ALIAS_1,\n",
        "            speaker_id=SPEAKER_1,\n",
        "        ),\n",
        "        texttospeech.MultispeakerPrebuiltVoice(\n",
        "            speaker_alias=SPEAKER_ALIAS_2,\n",
        "            speaker_id=SPEAKER_2,\n",
        "        ),\n",
        "    ]\n",
        ")\n",
        "response = client.synthesize_speech(\n",
        "    input=texttospeech.SynthesisInput(\n",
        "        text=\"Zizu: Have you tried the new multi-speaker feature on Gemini?\\nGary: Yes! I am super excited about it\",\n",
        "        prompt=PROMPT,\n",
        "    ),\n",
        "    voice=texttospeech.VoiceSelectionParams(\n",
        "        language_code=LANGUAGE_CODE,\n",
        "        model_name=MODEL,\n",
        "        multi_speaker_voice_config=multi_speaker_voice_config,\n",
        "    ),\n",
        "    audio_config=texttospeech.AudioConfig(\n",
        "        audio_encoding=texttospeech.AudioEncoding.LINEAR16\n",
        "    ),\n",
        ")\n",
        "# play the generated audio\n",
        "display(Audio(response.audio_content))"
      ]
    },
    {
      "cell_type": "markdown",
      "source": [
        "## Relax safety filters\n",
        "Accounts with [monthly invoiced billing](https://cloud.google.com/billing/docs/how-to/invoiced-billing) may relax Gemini TTS's harmful content filters by setting `relax_safety_filters` in [AdvancedVoiceOptions](https://cloud.devsite.corp.google.com/python/docs/reference/texttospeech/latest/google.cloud.texttospeech_v1.types.AdvancedVoiceOptions).\n",
        "\n",
        "This field is not enabled for accounts without monthly invoiced billing."
      ],
      "metadata": {
        "id": "wzZNHtMWt2GR"
      }
    },
    {
      "cell_type": "code",
      "source": [
        "# @title Demonstrate relaxing safety filters\n",
        "\n",
        "# fmt: off\n",
        "PROMPT = \"Say the following\"  # @param {type: \"string\"}\n",
        "TEXT = \"This is input that would normally be blocked by Gemini TTS.\"  # @param {type: \"string\"}\n",
        "# fmt: on\n",
        "\n",
        "# Perform the text-to-speech request on the text input with the selected\n",
        "# voice parameters and audio file type\n",
        "response = client.synthesize_speech(\n",
        "    input=texttospeech.SynthesisInput(text=TEXT, prompt=PROMPT),\n",
        "    voice=voice,\n",
        "    # Select the type of audio file you want returned\n",
        "    audio_config=texttospeech.AudioConfig(\n",
        "        audio_encoding=texttospeech.AudioEncoding.MP3\n",
        "    ),\n",
        "    advanced_voice_options=texttospeech.AdvancedVoiceOptions(\n",
        "        relax_safety_filters=True\n",
        "    )\n",
        ")\n",
        "# play the generated audio\n",
        "display(Audio(response.audio_content))"
      ],
      "metadata": {
        "id": "hm4HaFvXm667",
        "outputId": "a6fb860e-5b38-46a9-bd60-8ea152470270",
        "colab": {
          "base_uri": "https://localhost:8080/",
          "height": 75
        }
      },
      "execution_count": null,
      "outputs": [
        {
          "output_type": "display_data",
          "data": {
            "text/plain": [
              "<IPython.lib.display.Audio object>"
            ],
            "text/html": [
              "\n",
              "                <audio  controls=\"controls\" >\n",
              "                    <source src=\"data:audio/wav;base64,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\" type=\"audio/wav\" />\n",
              "                    Your browser does not support the audio element.\n",
              "                </audio>\n",
              "              "
            ]
          },
          "metadata": {}
        }
      ]
    },
    {
      "cell_type": "markdown",
      "metadata": {
        "id": "SXuEKjCvljqm"
      },
      "source": [
        "### Synthesize speech using streaming processing\n",
        "\n",
        "You can use the `StreamingSynthesizeRequest` method to get audio streamed back as soon as it is ready. This method is more suitable for real-time scenarios where fast response time is important for better user-experience.\n",
        "\n",
        "A function like `request_generator` can be used to stream text into the API, for example from an LLM which generates the text as a response to a user action.\n",
        "\n",
        "The audio stream will start after the client stops sending the text input, as indicated by half-close message. In the example below, the completion of the `request_generator` model implies the half-close operation.\n",
        "\n",
        "In real-time applications, the streaming responses are meant to be heard immediately as the responses are sent from the TTS server. For example, in a web server scenario, where the client is connected to your webserver via websockets, you could use `emit(\"audio\", response.audio_content)` to pass the audio to the client immediately."
      ]
    },
    {
      "cell_type": "code",
      "execution_count": 18,
      "metadata": {
        "id": "m_tEMNPmlcYJ"
      },
      "outputs": [],
      "source": [
        "# @title Calling Streaming synthesize\n",
        "\n",
        "import datetime\n",
        "\n",
        "import numpy as np\n",
        "\n",
        "# fmt: off\n",
        "PROMPT = \"Say the following with a respectful tone\"  # @param {type: \"string\"} # fmt: skip\n",
        "TEXT = \"So.. tell me about this [coughs] AI thing. I would be super interested in learning the fundamentals and jump into the world of vibe coding\"  # @param {type: \"string\"} # fmt: skip\n",
        "# fmt: on\n",
        "\n",
        "\n",
        "config_request = texttospeech.StreamingSynthesizeRequest(\n",
        "    streaming_config=texttospeech.StreamingSynthesizeConfig(\n",
        "        voice=texttospeech.VoiceSelectionParams(\n",
        "            name=VOICE, language_code=LANGUAGE_CODE, model_name=MODEL\n",
        "        )\n",
        "    )\n",
        ")\n",
        "\n",
        "\n",
        "def request_generator():\n",
        "    yield config_request\n",
        "\n",
        "    yield texttospeech.StreamingSynthesizeRequest(\n",
        "        input=texttospeech.StreamingSynthesisInput(text=TEXT, prompt=PROMPT)\n",
        "    )\n",
        "\n",
        "\n",
        "request_start_time = datetime.datetime.now()\n",
        "streaming_responses = client.streaming_synthesize(request_generator())\n",
        "\n",
        "is_first_chunk_received = False\n",
        "final_audio_data = np.array([])\n",
        "num_chunks_received = 0\n",
        "for response in streaming_responses:\n",
        "    # just a simple progress indicator\n",
        "    num_chunks_received += 1\n",
        "    print(\".\", end=\"\")\n",
        "    if num_chunks_received % 40 == 0:\n",
        "        print(\"\")\n",
        "\n",
        "    # measuring time to first audio\n",
        "    if not is_first_chunk_received:\n",
        "        is_first_chunk_received = True\n",
        "        first_chunk_received_time = datetime.datetime.now()\n",
        "\n",
        "    # accumulating audio. In a web-server scenario, you would want to \"emit\" audio\n",
        "    # to the frontend as soon as it arrives.\n",
        "    #\n",
        "    # For example using flask socketio, you could do the following\n",
        "    # from flask_socketio import SocketIO, emit\n",
        "    # emit(\"audio\", response.audio_content)\n",
        "    # socketio.sleep(0)\n",
        "    audio_data = np.frombuffer(response.audio_content, dtype=np.int16)\n",
        "    final_audio_data = np.concatenate((final_audio_data, audio_data))\n",
        "\n",
        "time_to_first_audio = first_chunk_received_time - request_start_time\n",
        "time_to_completion = datetime.datetime.now() - request_start_time\n",
        "audio_duration = len(final_audio_data) / 24_000  # default sampling rate.\n",
        "\n",
        "print(\"\\n\")\n",
        "print(f\"Time to first audio: {time_to_first_audio.total_seconds()} seconds\")\n",
        "print(f\"Time to completion: {time_to_completion.total_seconds()} seconds\")\n",
        "print(f\"Audio duration: {audio_duration} seconds\")\n",
        "\n",
        "display(Audio(final_audio_data, rate=24_000, autoplay=False))"
      ]
    },
    {
      "cell_type": "markdown",
      "metadata": {
        "id": "LU1a9_Y1VKe3"
      },
      "source": [
        "## Further details\n"
      ]
    },
    {
      "cell_type": "markdown",
      "metadata": {
        "id": "N0PqTEalVc4B"
      },
      "source": [
        "Feel free to review the [Cloud Text-to-Speech Python SDK documentation](https://cloud.google.com/python/docs/reference/texttospeech/latest) to explore all available fields and options to customize the API behavior.\n",
        "\n",
        "\n",
        "To learn more about Gemini-TTS offering on Vertex AI, make sure to check out the [Gemini-TTS Guide](https://cloud.google.com/text-to-speech/docs/gemini-tts)."
      ]
    }
  ],
  "metadata": {
    "colab": {
      "name": "get_started_with_gemini_tts_voices.ipynb",
      "toc_visible": true
    },
    "kernelspec": {
      "display_name": "Python 3",
      "name": "python3"
    }
  },
  "nbformat": 4,
  "nbformat_minor": 0
}
