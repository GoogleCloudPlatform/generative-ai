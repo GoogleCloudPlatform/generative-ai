{
  "cells": [
    {
      "cell_type": "code",
      "execution_count": null,
      "metadata": {
        "id": "ur8xi4C7S06n"
      },
      "outputs": [],
      "source": [
        "# Copyright 2025 Google LLC\n",
        "#\n",
        "# Licensed under the Apache License, Version 2.0 (the \"License\");\n",
        "# you may not use this file except in compliance with the License.\n",
        "# You may obtain a copy of the License at\n",
        "#\n",
        "#     https://www.apache.org/licenses/LICENSE-2.0\n",
        "#\n",
        "# Unless required by applicable law or agreed to in writing, software\n",
        "# distributed under the License is distributed on an \"AS IS\" BASIS,\n",
        "# WITHOUT WARRANTIES OR CONDITIONS OF ANY KIND, either express or implied.\n",
        "# See the License for the specific language governing permissions and\n",
        "# limitations under the License."
      ]
    },
    {
      "cell_type": "markdown",
      "metadata": {
        "id": "TykEnWYpmYgd"
      },
      "source": [
        "# Intro to Google Agentspace\n",
        "\n",
        "<table align=\"left\">\n",
        "  <td style=\"text-align: center\">\n",
        "    <a href=\"https://colab.research.google.com/github/GoogleCloudPlatform/generative-ai/blob/main/search/agentspace/intro_agentspace.ipynb\">\n",
        "      <img src=\"https://cloud.google.com/ml-engine/images/colab-logo-32px.png\" alt=\"Google Colaboratory logo\"><br> Open in Colab\n",
        "    </a>\n",
        "  </td>\n",
        "  <td style=\"text-align: center\">\n",
        "    <a href=\"https://console.cloud.google.com/vertex-ai/colab/import/https:%2F%2Fraw.githubusercontent.com%2FGoogleCloudPlatform%2Fgenerative-ai%2Fmain%2Fsearch%2Fagentspace%2Fintro_agentspace.ipynb\">\n",
        "      <img width=\"32px\" src=\"https://cloud.google.com/ml-engine/images/colab-enterprise-logo-32px.png\" alt=\"Google Cloud Colab Enterprise logo\"><br> Open in Colab Enterprise\n",
        "    </a>\n",
        "  </td>    \n",
        "  <td style=\"text-align: center\">\n",
        "    <a href=\"https://console.cloud.google.com/vertex-ai/workbench/deploy-notebook?download_url=https://raw.githubusercontent.com/GoogleCloudPlatform/generative-ai/main/search/agentspace/intro_agentspace.ipynb\">\n",
        "      <img src=\"https://lh3.googleusercontent.com/UiNooY4LUgW_oTvpsNhPpQzsstV5W8F7rYgxgGBD85cWJoLmrOzhVs_ksK_vgx40SHs7jCqkTkCk=e14-rj-sc0xffffff-h130-w32\" alt=\"Vertex AI logo\"><br> Open in Workbench\n",
        "    </a>\n",
        "  </td>\n",
        "  <td style=\"text-align: center\">\n",
        "    <a href=\"https://github.com/GoogleCloudPlatform/generative-ai/blob/main/search/agentspace/intro_agentspace.ipynb\">\n",
        "      <img src=\"https://cloud.google.com/ml-engine/images/github-logo-32px.png\" alt=\"GitHub logo\"><br> View on GitHub\n",
        "    </a>\n",
        "  </td>\n",
        "</table>"
      ]
    },
    {
      "cell_type": "markdown",
      "metadata": {
        "id": "q9SSXN56moZJ"
      },
      "source": [
        "| | |\n",
        "|-|-|\n",
        "| Author(s) | [Dave Wang](https://github.com/wadave/) |"
      ]
    },
    {
      "cell_type": "markdown",
      "metadata": {
        "id": "JAPoU8Sm5E6e"
      },
      "source": [
        "# Overview\n",
        "This notebook demonstrates how to use the Agentspace REST API and Python SDK to access the search engine.\n",
        "\n",
        "There are several ways to interact with the Agentspace engine:\n",
        "\n",
        "- 1. Search Functionality:\n",
        " - 1.1 API: search method\n",
        " - 1.2 SDK: search method\n",
        "- 2. Answer Retrieval:\n",
        " - 2.1 API: answer method\n",
        " - 2.2 SDK: answer method"
      ]
    },
    {
      "cell_type": "markdown",
      "metadata": {
        "id": "vteogUpKqVt9"
      },
      "source": [
        "**Reference:**\n",
        "\n",
        "- https://cloud.google.com/agentspace/agentspace-enterprise/docs/libraries#client-libraries-usage-python\n",
        "- https://cloud.google.com/agentspace/agentspace-enterprise/docs/reference/rest"
      ]
    },
    {
      "cell_type": "markdown",
      "metadata": {
        "id": "i7EUnXsZhAGF"
      },
      "source": [
        "## Get Started\n",
        "\n",
        "Install the following packages required to execute this notebook.\n"
      ]
    },
    {
      "cell_type": "code",
      "execution_count": null,
      "metadata": {
        "id": "2b4ef9b72d43"
      },
      "outputs": [],
      "source": [
        "%pip install --upgrade --quiet google-cloud-discoveryengine"
      ]
    },
    {
      "cell_type": "markdown",
      "metadata": {
        "id": "f42d12d15616"
      },
      "source": [
        "### Restart runtime\n",
        "\n",
        "To use the newly installed packages in this Jupyter runtime, you must restart the runtime. You can do this by running the cell below, which restarts the current kernel.\n",
        "\n",
        "The restart might take a minute or longer. After it's restarted, continue to the next step."
      ]
    },
    {
      "cell_type": "code",
      "execution_count": null,
      "metadata": {
        "id": "f3d98395d9a4"
      },
      "outputs": [],
      "source": [
        "import IPython\n",
        "\n",
        "app = IPython.Application.instance()\n",
        "app.kernel.do_shutdown(True)"
      ]
    },
    {
      "cell_type": "markdown",
      "metadata": {
        "id": "89cf56cd5a4d"
      },
      "source": [
        "<div class=\"alert alert-block alert-warning\">\n",
        "<b>⚠️ The kernel is going to restart. Wait until it's finished before continuing to the next step. ⚠️</b>\n",
        "</div>"
      ]
    },
    {
      "cell_type": "markdown",
      "metadata": {
        "id": "0DkP9PmeoS3K"
      },
      "source": [
        "# Prerequisites\n",
        "- You need to follow [this link](https://cloud.google.com/agentspace/agentspace-enterprise/docs/quickstart-agentspace) to set up datastore and engine first.\n",
        "- Make a note of your agentspace app engine id (aka, app id)"
      ]
    },
    {
      "cell_type": "markdown",
      "metadata": {
        "id": "2FyOKZ4aIW5h"
      },
      "source": [
        "### Authenticate your notebook environment (Colab only)\n",
        "\n",
        "If you're running this notebook on Google Colab, run the cell below to authenticate your environment."
      ]
    },
    {
      "cell_type": "code",
      "execution_count": 1,
      "metadata": {
        "id": "XXpf9rYGIb60"
      },
      "outputs": [],
      "source": [
        "import sys\n",
        "\n",
        "if \"google.colab\" in sys.modules:\n",
        "    from google.colab import auth\n",
        "\n",
        "    auth.authenticate_user()"
      ]
    },
    {
      "cell_type": "markdown",
      "metadata": {
        "id": "WReHDGG5g0XY"
      },
      "source": [
        "#### Set your project ID\n",
        "\n",
        "**If you don't know your project ID**, try the following:\n",
        "* Run gcloud config list.\n",
        "* Run gcloud projects list.\n",
        "* See the support page: [Locate the project ID](https://support.google.com/googleapi/answer/7014113)"
      ]
    },
    {
      "cell_type": "code",
      "execution_count": 2,
      "metadata": {
        "id": "oM1iC_MfAts1"
      },
      "outputs": [],
      "source": [
        "# TODO use your own project ID\n",
        "PROJECT_ID = \"ace-chatbot-demo\"  # @param {type:\"string\"}\n",
        "\n",
        "# Set the project id\n",
        "#! gcloud config set project {PROJECT_ID}"
      ]
    },
    {
      "cell_type": "markdown",
      "metadata": {
        "id": "region"
      },
      "source": [
        "#### Region\n",
        "\n",
        "You can also change the `REGION` variable used by Vertex AI. Learn more about [Vertex AI regions](https://cloud.google.com/vertex-ai/docs/general/locations)."
      ]
    },
    {
      "cell_type": "code",
      "execution_count": 3,
      "metadata": {
        "id": "dS5fu-mFIBEu"
      },
      "outputs": [],
      "source": [
        "REGION = \"us-central1\"  # @param {type: \"string\"}"
      ]
    },
    {
      "cell_type": "markdown",
      "metadata": {
        "id": "ygUXErJxaSVj"
      },
      "source": [
        "## Import libraries"
      ]
    },
    {
      "cell_type": "code",
      "execution_count": 4,
      "metadata": {
        "id": "63yT2Wg7aWiP"
      },
      "outputs": [],
      "source": [
        "import pprint\n",
        "\n",
        "from google.api_core.client_options import ClientOptions\n",
        "import google.auth.transport.requests\n",
        "from google.cloud import discoveryengine_v1 as discoveryengine\n",
        "import requests"
      ]
    },
    {
      "cell_type": "markdown",
      "metadata": {
        "id": "YjgeLM3KIBEv"
      },
      "source": [
        "# 1. Search method:"
      ]
    },
    {
      "cell_type": "code",
      "execution_count": 5,
      "metadata": {
        "id": "F_HbNYDjIBEv"
      },
      "outputs": [],
      "source": [
        "# TODO(developer): Uncomment these variables before running the sample.\n",
        "project_id = PROJECT_ID\n",
        "location = \"global\"  # Values: \"global\", \"us\", \"eu\"\n",
        "engine_id = \"cymbal-bank-agentspace-sea_1738108565573\""
      ]
    },
    {
      "cell_type": "markdown",
      "metadata": {
        "id": "cqQZkIr8T0w4"
      },
      "source": [
        "## 1.1 Use search RestAPI"
      ]
    },
    {
      "cell_type": "code",
      "execution_count": 6,
      "metadata": {
        "id": "5F3oCX-PRcfl"
      },
      "outputs": [],
      "source": [
        "# get auth token\n",
        "creds, _ = google.auth.default()\n",
        "auth_req = google.auth.transport.requests.Request()\n",
        "creds.refresh(auth_req)"
      ]
    },
    {
      "cell_type": "code",
      "execution_count": 7,
      "metadata": {
        "id": "AGqQNV2tRcov"
      },
      "outputs": [],
      "source": [
        "def get_search_api_response(query):\n",
        "    \"\"\"\n",
        "    Retrieves search results from the Discovery Engine API.\n",
        "\n",
        "    This function uses the Search endpoint REST API to query the datastore\n",
        "    and retrieve relevant information based on the provided query.\n",
        "\n",
        "    Args:\n",
        "        query: The search query string.\n",
        "\n",
        "    Returns:\n",
        "        A requests.Response object containing the API response.  This response\n",
        "        will typically contain a JSON payload with search results, but may also\n",
        "        contain error information.  It is the caller's responsibility to\n",
        "        parse and handle the response appropriately.\n",
        "    \"\"\"\n",
        "\n",
        "    preamble = \"\"\"You are an assistant to answer question based on datastore resources\n",
        "       \"\"\"\n",
        "\n",
        "    url = f\"https://discoveryengine.googleapis.com/v1alpha/projects/{project_id}/locations/global/collections/default_collection/engines/{engine_id}/servingConfigs/default_search:search\"\n",
        "    resp = requests.post(\n",
        "        url,\n",
        "        headers={\n",
        "            \"Content-Type\": \"application/json\",\n",
        "            \"Authorization\": \"Bearer \" + creds.token,\n",
        "        },\n",
        "        json={\n",
        "            \"query\": query,\n",
        "            \"pageSize\": 10,\n",
        "            \"spellCorrectionSpec\": {\"mode\": \"AUTO\"},\n",
        "            \"contentSearchSpec\": {\n",
        "                \"snippetSpec\": {\"returnSnippet\": True},\n",
        "                \"summarySpec\": {\n",
        "                    \"summaryResultCount\": 3,\n",
        "                    \"includeCitations\": True,\n",
        "                    \"ignoreAdversarialQuery\": True,\n",
        "                    \"ignoreNonSummarySeekingQuery\": True,\n",
        "                    \"ignoreLowRelevantContent\": True,\n",
        "                    \"ignoreJailBreakingQuery\": True,\n",
        "                },\n",
        "            },\n",
        "        },\n",
        "    )\n",
        "\n",
        "    return resp"
      ]
    },
    {
      "cell_type": "code",
      "execution_count": 8,
      "metadata": {
        "id": "rWjwmD_fRct3"
      },
      "outputs": [],
      "source": [
        "query = \"who founded cymbal bank?\"\n",
        "resp = get_search_api_response(query)"
      ]
    },
    {
      "cell_type": "code",
      "execution_count": 9,
      "metadata": {
        "id": "Ud05mUzwSd7e"
      },
      "outputs": [],
      "source": [
        "pprint.pprint(resp.json()[\"summary\"][\"summaryText\"])"
      ]
    },
    {
      "cell_type": "markdown",
      "metadata": {
        "id": "12Fs9RcaT-LU"
      },
      "source": [
        "## 1.2 Use search Python SDK"
      ]
    },
    {
      "cell_type": "code",
      "execution_count": 10,
      "metadata": {
        "id": "T_EQbaViIBEv"
      },
      "outputs": [],
      "source": [
        "def get_search_sdk_response(\n",
        "    project_id: str,\n",
        "    location: str,\n",
        "    engine_id: str,\n",
        "    search_query: str,\n",
        "    prompt_preamble: str,\n",
        ") -> list[discoveryengine.SearchResponse]:\n",
        "    \"\"\"Retrieves search results from the Discovery Engine using the Python SDK.\n",
        "\n",
        "    This function queries the specified Discovery Engine with the provided search\n",
        "    query and configuration options.  It supports specifying a location-specific\n",
        "    endpoint for the API.\n",
        "\n",
        "    Args:\n",
        "        project_id: The Google Cloud project ID.\n",
        "        location: The location of the Discovery Engine (e.g., \"global\", \"us-central1\").\n",
        "        engine_id: The ID of the Discovery Engine.\n",
        "        search_query: The search query string.\n",
        "        prompt_preamble: The preamble to use for search summaries.\n",
        "\n",
        "    Returns:\n",
        "        A list of `discoveryengine.SearchResponse` objects containing the search results.\n",
        "        This list may be empty if no results are found.\n",
        "\n",
        "    #  For more information, refer to:\n",
        "    # https://cloud.google.com/generative-ai-app-builder/docs/locations#specify_a_multi-region_for_your_data_store\n",
        "\n",
        "    \"\"\"\n",
        "\n",
        "    client_options = (\n",
        "        ClientOptions(api_endpoint=f\"{location}-discoveryengine.googleapis.com\")\n",
        "        if location != \"global\"\n",
        "        else None\n",
        "    )\n",
        "\n",
        "    # Create a client\n",
        "    client = discoveryengine.SearchServiceClient(client_options=client_options)\n",
        "\n",
        "    # The full resource name of the search app serving config\n",
        "    serving_config = f\"projects/{project_id}/locations/{location}/collections/default_collection/engines/{engine_id}/servingConfigs/default_config\"\n",
        "\n",
        "    # Optional - only supported for unstructured data: Configuration options for search.\n",
        "    # Refer to the `ContentSearchSpec` reference for all supported fields:\n",
        "    # https://cloud.google.com/python/docs/reference/discoveryengine/latest/google.cloud.discoveryengine_v1.types.SearchRequest.ContentSearchSpec\n",
        "    content_search_spec = discoveryengine.SearchRequest.ContentSearchSpec(\n",
        "        # For information about snippets, refer to:\n",
        "        # https://cloud.google.com/generative-ai-app-builder/docs/snippets\n",
        "        snippet_spec=discoveryengine.SearchRequest.ContentSearchSpec.SnippetSpec(\n",
        "            return_snippet=True\n",
        "        ),\n",
        "        # For information about search summaries, refer to:\n",
        "        # https://cloud.google.com/generative-ai-app-builder/docs/get-search-summaries\n",
        "        summary_spec=discoveryengine.SearchRequest.ContentSearchSpec.SummarySpec(\n",
        "            summary_result_count=5,\n",
        "            include_citations=True,\n",
        "            ignore_adversarial_query=True,\n",
        "            ignore_non_summary_seeking_query=True,\n",
        "            model_prompt_spec=discoveryengine.SearchRequest.ContentSearchSpec.SummarySpec.ModelPromptSpec(\n",
        "                preamble=prompt_preamble\n",
        "            ),\n",
        "            model_spec=discoveryengine.SearchRequest.ContentSearchSpec.SummarySpec.ModelSpec(\n",
        "                version=\"preview\",\n",
        "            ),\n",
        "        ),\n",
        "        # -------extractive content-----\n",
        "        extractive_content_spec=discoveryengine.SearchRequest.ContentSearchSpec.ExtractiveContentSpec(\n",
        "            max_extractive_segment_count=2,\n",
        "            max_extractive_answer_count=2,\n",
        "            return_extractive_segment_score=True,\n",
        "        ),\n",
        "    )\n",
        "\n",
        "    # Refer to the `SearchRequest` reference for all supported fields:\n",
        "    # https://cloud.google.com/python/docs/reference/discoveryengine/latest/google.cloud.discoveryengine_v1.types.SearchRequest\n",
        "    request = discoveryengine.SearchRequest(\n",
        "        serving_config=serving_config,\n",
        "        query=search_query,\n",
        "        page_size=10,\n",
        "        content_search_spec=content_search_spec,\n",
        "        query_expansion_spec=discoveryengine.SearchRequest.QueryExpansionSpec(\n",
        "            condition=discoveryengine.SearchRequest.QueryExpansionSpec.Condition.AUTO,\n",
        "        ),\n",
        "        spell_correction_spec=discoveryengine.SearchRequest.SpellCorrectionSpec(\n",
        "            mode=discoveryengine.SearchRequest.SpellCorrectionSpec.Mode.AUTO\n",
        "        ),\n",
        "    )\n",
        "\n",
        "    response = client.search(request)\n",
        "    # print(response)\n",
        "\n",
        "    return response"
      ]
    },
    {
      "cell_type": "code",
      "execution_count": 11,
      "metadata": {
        "id": "9bxnz1ZnIBEv"
      },
      "outputs": [],
      "source": [
        "search_query = \"who founded cymbal bank?\"\n",
        "prompt_preamble = \" \""
      ]
    },
    {
      "cell_type": "code",
      "execution_count": 12,
      "metadata": {
        "id": "QwVpMIrBIBEv"
      },
      "outputs": [],
      "source": [
        "response = get_search_sdk_response(\n",
        "    project_id,\n",
        "    location,\n",
        "    engine_id,\n",
        "    search_query,\n",
        "    prompt_preamble,\n",
        ")"
      ]
    },
    {
      "cell_type": "code",
      "execution_count": 13,
      "metadata": {
        "id": "A9AlR_1rIBEv"
      },
      "outputs": [],
      "source": [
        "response.summary"
      ]
    },
    {
      "cell_type": "code",
      "execution_count": 14,
      "metadata": {
        "id": "0osSLrWOIBEv"
      },
      "outputs": [],
      "source": [
        "from google.protobuf.json_format import MessageToDict\n",
        "\n",
        "document_dict = MessageToDict(\n",
        "    response.results[0].document._pb, preserving_proto_field_name=True\n",
        ")"
      ]
    },
    {
      "cell_type": "code",
      "execution_count": 15,
      "metadata": {
        "id": "M5Ad5MORIBEv"
      },
      "outputs": [],
      "source": [
        "document_dict[\"derived_struct_data\"][\"extractive_answers\"][0][\"content\"]"
      ]
    },
    {
      "cell_type": "markdown",
      "metadata": {
        "id": "Fzxr_0yhIBEv"
      },
      "source": [
        "# 2. Answer method"
      ]
    },
    {
      "cell_type": "markdown",
      "metadata": {
        "id": "kTy0E_4gIBEv"
      },
      "source": [
        "## 2.1 Use answer REST API"
      ]
    },
    {
      "cell_type": "code",
      "execution_count": 16,
      "metadata": {
        "id": "AH33hv3FIBEv"
      },
      "outputs": [],
      "source": [
        "# refresh token\n",
        "creds, _ = google.auth.default()\n",
        "auth_req = google.auth.transport.requests.Request()\n",
        "\n",
        "creds.refresh(auth_req)"
      ]
    },
    {
      "cell_type": "code",
      "execution_count": 17,
      "metadata": {
        "id": "Qhgv983wIBEv"
      },
      "outputs": [],
      "source": [
        "engine_id = \"cymbal-bank-agentspace-sea_1738108565573\""
      ]
    },
    {
      "cell_type": "code",
      "execution_count": 18,
      "metadata": {
        "id": "9jzN_8Q_IBEv"
      },
      "outputs": [],
      "source": [
        "def get_answer_api_response(query):\n",
        "    \"\"\"Retrieves an answer from the Discovery Engine's Answer endpoint.\n",
        "\n",
        "    This function sends a POST request to the Discovery Engine's Answer endpoint\n",
        "    to retrieve an answer based on the provided query.\n",
        "\n",
        "    Args:\n",
        "        query: The query string to be answered.\n",
        "\n",
        "    Returns:\n",
        "        A `requests.Response` object containing the API response.  The response\n",
        "        will typically contain a JSON payload with the answer, citations, and\n",
        "        related questions.  It is the caller's responsibility to parse and\n",
        "        handle the response appropriately, including checking for errors.\n",
        "    \"\"\"\n",
        "\n",
        "    preamble = \"\"\"You are an assistant to answer question based on datastore resources\n",
        "       \"\"\"\n",
        "\n",
        "    url = f\"https://discoveryengine.googleapis.com/v1alpha/projects/{project_id}/locations/global/collections/default_collection/engines/{engine_id}/servingConfigs/default_search:answer\"\n",
        "    resp = requests.post(\n",
        "        url,\n",
        "        headers={\n",
        "            \"Content-Type\": \"application/json\",\n",
        "            \"Authorization\": \"Bearer \" + creds.token,\n",
        "        },\n",
        "        json={\n",
        "            \"query\": {\"text\": query},\n",
        "            \"safetySpec\": {\n",
        "                \"enable\": False,\n",
        "            },\n",
        "            \"relatedQuestionsSpec\": {\n",
        "                \"enable\": True,\n",
        "            },\n",
        "            \"queryUnderstandingSpec\": {\n",
        "                \"queryClassificationSpec\": {\n",
        "                    \"types\": \"ADVERSARIAL_QUERY\",\n",
        "                    \"types\": \"NON_ANSWER_SEEKING_QUERY\",\n",
        "                },\n",
        "                \"queryRephraserSpec\": {\n",
        "                    \"disable\": False,  # disable the rephraser\n",
        "                    \"maxRephraseSteps\": 5,  # controls the max hops we'd like to use for a given query\n",
        "                },\n",
        "            },\n",
        "            \"searchSpec\": {\n",
        "                \"searchParams\": {\n",
        "                    # Max search result will be put for answer generation.\n",
        "                    \"maxReturnResults\": 5,\n",
        "                    \"orderBy\": \"\",\n",
        "                },\n",
        "            },\n",
        "            \"answerGenerationSpec\": {\n",
        "                # enable the citations in the output\n",
        "                \"includeCitations\": True,\n",
        "                # force the answer to be generated in a target language.\n",
        "                \"answerLanguageCode\": \"en\",\n",
        "                \"modelSpec\": {\n",
        "                    \"modelVersion\": \"gemini-1.5-flash-001/answer_gen/v1\",\n",
        "                },\n",
        "                \"promptSpec\": {\"preamble\": preamble},\n",
        "                # \"ignoreAdversarialQuery\": True,\n",
        "                # \"ignoreNonAnswerSeekingQuery\": True,\n",
        "                # \"ignoreLowRelevantContent\": True,\n",
        "            },\n",
        "        },\n",
        "    )\n",
        "\n",
        "    return resp"
      ]
    },
    {
      "cell_type": "code",
      "execution_count": 19,
      "metadata": {
        "id": "c85LLg63IBEz"
      },
      "outputs": [],
      "source": [
        "query = \"who founded cymbal bank?\""
      ]
    },
    {
      "cell_type": "code",
      "execution_count": 20,
      "metadata": {
        "id": "PGuplfFwIBEz"
      },
      "outputs": [],
      "source": [
        "resp = get_answer_api_response(query)\n",
        "pprint.pprint(resp.json()[\"answer\"][\"answerText\"])"
      ]
    },
    {
      "cell_type": "markdown",
      "metadata": {
        "id": "Lrn9qqDMIBEz"
      },
      "source": [
        "## 2.2 Use answer Python SDK"
      ]
    },
    {
      "cell_type": "code",
      "execution_count": 21,
      "metadata": {
        "id": "qzRQ8MYRIBEz"
      },
      "outputs": [],
      "source": [
        "project_id = PROJECT_ID\n",
        "location = \"global\"  # Values: \"global\", \"us\", \"eu\"\n",
        "\n",
        "\n",
        "def get_answer_sdk_response(\n",
        "    project_id: str,\n",
        "    location: str,\n",
        "    engine_id: str,\n",
        "    query: str,\n",
        ") -> discoveryengine.AnswerQueryResponse:\n",
        "    \"\"\"Retrieves an answer from the Discovery Engine using the AnswerQuery API.\n",
        "\n",
        "    This function queries the specified Discovery Engine with the provided query\n",
        "    and configuration options using the `AnswerQuery` API. It supports\n",
        "    specifying a location-specific endpoint for the API.\n",
        "\n",
        "    Args:\n",
        "        project_id: The Google Cloud project ID.\n",
        "        location: The location of the Discovery Engine (e.g., \"global\", \"us-central1\").\n",
        "        engine_id: The ID of the Discovery Engine.\n",
        "        query: The query string.\n",
        "\n",
        "    Returns:\n",
        "        A `discoveryengine.AnswerQueryResponse` object containing the answer,\n",
        "        citations, and other related information.\n",
        "\n",
        "    #  For more information, refer to:\n",
        "    # https://cloud.google.com/generative-ai-app-builder/docs/locations#specify_a_multi-region_for_your_data_store\n",
        "    \"\"\"\n",
        "    client_options = (\n",
        "        ClientOptions(api_endpoint=f\"{location}-discoveryengine.googleapis.com\")\n",
        "        if location != \"global\"\n",
        "        else None\n",
        "    )\n",
        "\n",
        "    # Create a client\n",
        "    client = discoveryengine.ConversationalSearchServiceClient(\n",
        "        client_options=client_options\n",
        "    )\n",
        "\n",
        "    # The full resource name of the Search serving config\n",
        "    serving_config = f\"projects/{project_id}/locations/{location}/collections/default_collection/engines/{engine_id}/servingConfigs/default_serving_config\"\n",
        "\n",
        "    # Optional: Options for query phase\n",
        "    # The `query_understanding_spec` below includes all available query phase options.\n",
        "    # For more details, refer to https://cloud.google.com/generative-ai-app-builder/docs/reference/rest/v1/QueryUnderstandingSpec\n",
        "    query_understanding_spec = discoveryengine.AnswerQueryRequest.QueryUnderstandingSpec(\n",
        "        query_rephraser_spec=discoveryengine.AnswerQueryRequest.QueryUnderstandingSpec.QueryRephraserSpec(\n",
        "            disable=False,  # Optional: Disable query rephraser\n",
        "            max_rephrase_steps=1,  # Optional: Number of rephrase steps\n",
        "        ),\n",
        "        # Optional: Classify query types\n",
        "        query_classification_spec=discoveryengine.AnswerQueryRequest.QueryUnderstandingSpec.QueryClassificationSpec(\n",
        "            types=[\n",
        "                discoveryengine.AnswerQueryRequest.QueryUnderstandingSpec.QueryClassificationSpec.Type.ADVERSARIAL_QUERY,\n",
        "                discoveryengine.AnswerQueryRequest.QueryUnderstandingSpec.QueryClassificationSpec.Type.NON_ANSWER_SEEKING_QUERY,\n",
        "            ]  # Options: ADVERSARIAL_QUERY, NON_ANSWER_SEEKING_QUERY or both\n",
        "        ),\n",
        "    )\n",
        "\n",
        "    # Optional: Options for answer phase\n",
        "    # The `answer_generation_spec` below includes all available query phase options.\n",
        "    # For more details, refer to https://cloud.google.com/generative-ai-app-builder/docs/reference/rest/v1/AnswerGenerationSpec\n",
        "    answer_generation_spec = discoveryengine.AnswerQueryRequest.AnswerGenerationSpec(\n",
        "        ignore_adversarial_query=False,  # Optional: Ignore adversarial query\n",
        "        ignore_non_answer_seeking_query=False,  # Optional: Ignore non-answer seeking query\n",
        "        ignore_low_relevant_content=False,  # Optional: Return fallback answer when content is not relevant\n",
        "        model_spec=discoveryengine.AnswerQueryRequest.AnswerGenerationSpec.ModelSpec(\n",
        "            model_version=\"gemini-1.5-flash-001/answer_gen/v2\",  # Optional: Model to use for answer generation\n",
        "        ),\n",
        "        prompt_spec=discoveryengine.AnswerQueryRequest.AnswerGenerationSpec.PromptSpec(\n",
        "            preamble=\"Give a detailed answer.\",  # Optional: Natural language instructions for customizing the answer.\n",
        "        ),\n",
        "        include_citations=True,  # Optional: Include citations in the response\n",
        "        answer_language_code=\"en\",  # Optional: Language code of the answer\n",
        "    )\n",
        "\n",
        "    # Initialize request argument(s)\n",
        "    request = discoveryengine.AnswerQueryRequest(\n",
        "        serving_config=serving_config,\n",
        "        query=discoveryengine.Query(text=query),\n",
        "        session=None,  # Optional: include previous session ID to continue a conversation\n",
        "        query_understanding_spec=query_understanding_spec,\n",
        "        answer_generation_spec=answer_generation_spec,\n",
        "    )\n",
        "\n",
        "    # Make the request\n",
        "    response = client.answer_query(request)\n",
        "\n",
        "    # Handle the response\n",
        "    print(response)\n",
        "\n",
        "    return response"
      ]
    },
    {
      "cell_type": "code",
      "execution_count": 22,
      "metadata": {
        "id": "_zwOQEqJIBE0"
      },
      "outputs": [],
      "source": [
        "query = \"who founded cymbal bank?\"\n",
        "resp = get_answer_sdk_response(\n",
        "    project_id,\n",
        "    location,\n",
        "    engine_id,\n",
        "    query,\n",
        ")"
      ]
    },
    {
      "cell_type": "code",
      "execution_count": 23,
      "metadata": {
        "id": "2ubpuMNhIBE0"
      },
      "outputs": [],
      "source": [
        "resp.answer.answer_text"
      ]
    },
    {
      "cell_type": "markdown",
      "metadata": {
        "id": "TpV-iwP9qw9c"
      },
      "source": [
        "## Cleaning up\n",
        "\n",
        "To clean up all Google Cloud resources used in this project, you can [delete the Google Cloud\n",
        "project](https://cloud.google.com/resource-manager/docs/creating-managing-projects#shutting_down_projects) you used for the tutorial.\n",
        "\n",
        "Otherwise, you can delete the individual resources you created in this tutorial:\n",
        "\n",
        "{TODO: Include commands to delete individual resources below}"
      ]
    }
  ],
  "metadata": {
    "colab": {
      "name": "agentspace_api_and sdk_v1.ipynb",
      "toc_visible": true
    },
    "kernelspec": {
      "display_name": "Python 3",
      "name": "python3"
    }
  },
  "nbformat": 4,
  "nbformat_minor": 0
}
