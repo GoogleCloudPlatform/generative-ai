{
  "cells": [
    {
      "cell_type": "code",
      "execution_count": null,
      "metadata": {
        "id": "ur8xi4C7S06n"
      },
      "outputs": [],
      "source": [
        "# Copyright 2025 Google LLC\n",
        "#\n",
        "# Licensed under the Apache License, Version 2.0 (the \"License\");\n",
        "# you may not use this file except in compliance with the License.\n",
        "# You may obtain a copy of the License at\n",
        "#\n",
        "#     https://www.apache.org/licenses/LICENSE-2.0\n",
        "#\n",
        "# Unless required by applicable law or agreed to in writing, software\n",
        "# distributed under the License is distributed on an \"AS IS\" BASIS,\n",
        "# WITHOUT WARRANTIES OR CONDITIONS OF ANY KIND, either express or implied.\n",
        "# See the License for the specific language governing permissions and\n",
        "# limitations under the License."
      ]
    },
    {
      "cell_type": "markdown",
      "metadata": {
        "id": "TykEnWYpmYgd"
      },
      "source": [
        "# Agentspace Rest API and Python SDK\n",
        "\n",
        "<table align=\"left\">\n",
        "  <td style=\"text-align: center\">\n",
        "    <a href=\"https://colab.research.google.com/github/GoogleCloudPlatform/generative-ai/blob/main/search/agentspace/agentspace_api_and sdk_v1.ipynb\">\n",
        "      <img src=\"https://cloud.google.com/ml-engine/images/colab-logo-32px.png\" alt=\"Google Colaboratory logo\"><br> Open in Colab\n",
        "    </a>\n",
        "  </td>\n",
        "  <td style=\"text-align: center\">\n",
        "    <a href=\"https://console.cloud.google.com/vertex-ai/colab/import/https:%2F%2Fraw.githubusercontent.com%2FGoogleCloudPlatform%2Fgenerative-ai%2Fmain%2Fsearch%2Fagentspace%2Fagentspace_api_and%20sdk_v1.ipynb\">\n",
        "      <img width=\"32px\" src=\"https://cloud.google.com/ml-engine/images/colab-enterprise-logo-32px.png\" alt=\"Google Cloud Colab Enterprise logo\"><br> Open in Colab Enterprise\n",
        "    </a>\n",
        "  </td>    \n",
        "  <td style=\"text-align: center\">\n",
        "    <a href=\"https://console.cloud.google.com/vertex-ai/workbench/deploy-notebook?download_url=https://raw.githubusercontent.com/GoogleCloudPlatform/generative-ai/main/search/agentspace/agentspace_api_and sdk_v1.ipynb\">\n",
        "      <img src=\"https://lh3.googleusercontent.com/UiNooY4LUgW_oTvpsNhPpQzsstV5W8F7rYgxgGBD85cWJoLmrOzhVs_ksK_vgx40SHs7jCqkTkCk=e14-rj-sc0xffffff-h130-w32\" alt=\"Vertex AI logo\"><br> Open in Workbench\n",
        "    </a>\n",
        "  </td>\n",
        "  <td style=\"text-align: center\">\n",
        "    <a href=\"https://github.com/GoogleCloudPlatform/generative-ai/blob/main/search/agentspace/agentspace_api_and sdk_v1.ipynb\">\n",
        "      <img src=\"https://cloud.google.com/ml-engine/images/github-logo-32px.png\" alt=\"GitHub logo\"><br> View on GitHub\n",
        "    </a>\n",
        "  </td>\n",
        "</table>"
      ]
    },
    {
      "cell_type": "markdown",
      "metadata": {
        "id": "q9SSXN56moZJ"
      },
      "source": [
        "| | |\n",
        "|-|-|\n",
        "| Author(s) | [Dave Wang](https://github.com/wadave/) |"
      ]
    },
    {
      "cell_type": "markdown",
      "metadata": {
        "id": "JAPoU8Sm5E6e"
      },
      "source": [
        "# Overview\n",
        "This notebook demonstrates how to use the Agentspace REST API and Python SDK to access the search engine.\n",
        "\n",
        "There are several ways to interact with the Agentspace engine:\n",
        "\n",
        "- 1. Search Functionality:\n",
        " - 1.1 API: search method\n",
        " - 1.2 SDK: search method\n",
        "- 2. Answer Retrieval:\n",
        " - 2.1 API: answer method\n",
        " - 2.2 SDK: answer method"
      ]
    },
    {
      "cell_type": "markdown",
      "metadata": {
        "id": "vteogUpKqVt9"
      },
      "source": [
        "**Reference:**\n",
        "\n",
        "- https://cloud.google.com/agentspace/agentspace-enterprise/docs/libraries#client-libraries-usage-python\n",
        "- https://cloud.google.com/agentspace/agentspace-enterprise/docs/reference/rest"
      ]
    },
    {
      "cell_type": "markdown",
      "metadata": {
        "id": "i7EUnXsZhAGF"
      },
      "source": [
        "## Get Started\n",
        "\n",
        "Install the following packages required to execute this notebook.\n"
      ]
    },
    {
      "cell_type": "code",
      "execution_count": null,
      "metadata": {
        "id": "2b4ef9b72d43"
      },
      "outputs": [
        {
          "name": "stdout",
          "output_type": "stream",
          "text": [
            "\u001b[2K   \u001b[90m━━━━━━━━━━━━━━━━━━━━━━━━━━━━━━━━━━━━━━━━\u001b[0m \u001b[32m7.1/7.1 MB\u001b[0m \u001b[31m42.8 MB/s\u001b[0m eta \u001b[36m0:00:00\u001b[0m\n",
            "\u001b[2K   \u001b[90m━━━━━━━━━━━━━━━━━━━━━━━━━━━━━━━━━━━━━━━━\u001b[0m \u001b[32m2.9/2.9 MB\u001b[0m \u001b[31m64.7 MB/s\u001b[0m eta \u001b[36m0:00:00\u001b[0m\n",
            "\u001b[?25h"
          ]
        }
      ],
      "source": [
        "%pip3 install --upgrade --quiet google-cloud-discoveryengine"
      ]
    },
    {
      "cell_type": "markdown",
      "metadata": {
        "id": "f42d12d15616"
      },
      "source": [
        "### Restart runtime\n",
        "\n",
        "To use the newly installed packages in this Jupyter runtime, you must restart the runtime. You can do this by running the cell below, which restarts the current kernel.\n",
        "\n",
        "The restart might take a minute or longer. After it's restarted, continue to the next step."
      ]
    },
    {
      "cell_type": "code",
      "execution_count": null,
      "metadata": {
        "id": "f3d98395d9a4"
      },
      "outputs": [],
      "source": [
        "import IPython\n",
        "\n",
        "app = IPython.Application.instance()\n",
        "app.kernel.do_shutdown(True)"
      ]
    },
    {
      "cell_type": "markdown",
      "metadata": {
        "id": "89cf56cd5a4d"
      },
      "source": [
        "<div class=\"alert alert-block alert-warning\">\n",
        "<b>⚠️ The kernel is going to restart. Wait until it's finished before continuing to the next step. ⚠️</b>\n",
        "</div>"
      ]
    },
    {
      "cell_type": "markdown",
      "metadata": {
        "id": "0DkP9PmeoS3K"
      },
      "source": [
        "# Prerequisuites\n",
        "- You need to follow [this link](https://cloud.google.com/agentspace/agentspace-enterprise/docs/quickstart-agentspace) to set up datastore and engine first.\n",
        "- Make a note of your agentspace app engine id (aka, app id)"
      ]
    },
    {
      "cell_type": "markdown",
      "metadata": {
        "id": "2FyOKZ4aIW5h"
      },
      "source": [
        "### Authenticate your notebook environment (Colab only)\n",
        "\n",
        "If you're running this notebook on Google Colab, run the cell below to authenticate your environment."
      ]
    },
    {
      "cell_type": "code",
      "execution_count": 1,
      "metadata": {
        "id": "XXpf9rYGIb60"
      },
      "outputs": [],
      "source": [
        "import sys\n",
        "\n",
        "if \"google.colab\" in sys.modules:\n",
        "    from google.colab import auth\n",
        "\n",
        "    auth.authenticate_user()"
      ]
    },
    {
      "cell_type": "markdown",
      "metadata": {
        "id": "WReHDGG5g0XY"
      },
      "source": [
        "#### Set your project ID\n",
        "\n",
        "**If you don't know your project ID**, try the following:\n",
        "* Run gcloud config list.\n",
        "* Run gcloud projects list.\n",
        "* See the support page: [Locate the project ID](https://support.google.com/googleapi/answer/7014113)"
      ]
    },
    {
      "cell_type": "code",
      "execution_count": 2,
      "metadata": {
        "id": "oM1iC_MfAts1"
      },
      "outputs": [],
      "source": [
        "# TODO use your own project ID\n",
        "PROJECT_ID = \"ace-chatbot-demo\"  # @param {type:\"string\"}\n",
        "\n",
        "# Set the project id\n",
        "#! gcloud config set project {PROJECT_ID}"
      ]
    },
    {
      "cell_type": "markdown",
      "metadata": {
        "id": "region"
      },
      "source": [
        "#### Region\n",
        "\n",
        "You can also change the `REGION` variable used by Vertex AI. Learn more about [Vertex AI regions](https://cloud.google.com/vertex-ai/docs/general/locations)."
      ]
    },
    {
      "cell_type": "code",
      "execution_count": 3,
      "metadata": {
        "id": "dS5fu-mFIBEu"
      },
      "outputs": [],
      "source": [
        "REGION = \"us-central1\"  # @param {type: \"string\"}"
      ]
    },
    {
      "cell_type": "markdown",
      "metadata": {
        "id": "ygUXErJxaSVj"
      },
      "source": [
        "## Import libraries"
      ]
    },
    {
      "cell_type": "code",
      "execution_count": 4,
      "metadata": {
        "id": "63yT2Wg7aWiP"
      },
      "outputs": [],
      "source": [
        "import pprint\n",
        "\n",
        "from google.api_core.client_options import ClientOptions\n",
        "import google.auth.transport.requests\n",
        "from google.cloud import discoveryengine_v1 as discoveryengine\n",
        "import requests"
      ]
    },
    {
      "cell_type": "markdown",
      "metadata": {
        "id": "YjgeLM3KIBEv"
      },
      "source": [
        "# 1. Search method:"
      ]
    },
    {
      "cell_type": "code",
      "execution_count": 5,
      "metadata": {
        "id": "F_HbNYDjIBEv"
      },
      "outputs": [],
      "source": [
        "# TODO(developer): Uncomment these variables before running the sample.\n",
        "project_id = PROJECT_ID\n",
        "location = \"global\"  # Values: \"global\", \"us\", \"eu\"\n",
        "engine_id = \"cymbal-bank-agentspace-sea_1738108565573\""
      ]
    },
    {
      "cell_type": "markdown",
      "metadata": {
        "id": "cqQZkIr8T0w4"
      },
      "source": [
        "## 1.1 Use search RestAPI"
      ]
    },
    {
      "cell_type": "code",
      "execution_count": 6,
      "metadata": {
        "id": "5F3oCX-PRcfl"
      },
      "outputs": [],
      "source": [
        "# get auth token\n",
        "creds, _ = google.auth.default()\n",
        "auth_req = google.auth.transport.requests.Request()\n",
        "creds.refresh(auth_req)"
      ]
    },
    {
      "cell_type": "code",
      "execution_count": 7,
      "metadata": {
        "id": "AGqQNV2tRcov"
      },
      "outputs": [],
      "source": [
        "def get_search_api_response(query):\n",
        "    \"\"\"\n",
        "    Retrieves search results from the Discovery Engine API.\n",
        "\n",
        "    This function uses the Search endpoint REST API to query the datastore\n",
        "    and retrieve relevant information based on the provided query.\n",
        "\n",
        "    Args:\n",
        "        query: The search query string.\n",
        "\n",
        "    Returns:\n",
        "        A requests.Response object containing the API response.  This response\n",
        "        will typically contain a JSON payload with search results, but may also\n",
        "        contain error information.  It is the caller's responsibility to\n",
        "        parse and handle the response appropriately.\n",
        "    \"\"\"\n",
        "\n",
        "    preamble = \"\"\"You are an assistant to answer question based on datastore resources\n",
        "       \"\"\"\n",
        "\n",
        "    url = f\"https://discoveryengine.googleapis.com/v1alpha/projects/{project_id}/locations/global/collections/default_collection/engines/{engine_id}/servingConfigs/default_search:search\"\n",
        "    resp = requests.post(\n",
        "        url,\n",
        "        headers={\n",
        "            \"Content-Type\": \"application/json\",\n",
        "            \"Authorization\": \"Bearer \" + creds.token,\n",
        "        },\n",
        "        json={\n",
        "            \"query\": query,\n",
        "            \"pageSize\": 10,\n",
        "            \"spellCorrectionSpec\": {\"mode\": \"AUTO\"},\n",
        "            \"contentSearchSpec\": {\n",
        "                \"snippetSpec\": {\"returnSnippet\": True},\n",
        "                \"summarySpec\": {\n",
        "                    \"summaryResultCount\": 3,\n",
        "                    \"includeCitations\": True,\n",
        "                    \"ignoreAdversarialQuery\": True,\n",
        "                    \"ignoreNonSummarySeekingQuery\": True,\n",
        "                    \"ignoreLowRelevantContent\": True,\n",
        "                    \"ignoreJailBreakingQuery\": True,\n",
        "                },\n",
        "            },\n",
        "        },\n",
        "    )\n",
        "\n",
        "    return resp"
      ]
    },
    {
      "cell_type": "code",
      "execution_count": 8,
      "metadata": {
        "id": "rWjwmD_fRct3"
      },
      "outputs": [],
      "source": [
        "query = \"who founded cymbal bank?\"\n",
        "resp = get_search_api_response(query)"
      ]
    },
    {
      "cell_type": "code",
      "execution_count": 9,
      "metadata": {
        "id": "Ud05mUzwSd7e"
      },
      "outputs": [
        {
          "name": "stdout",
          "output_type": "stream",
          "text": [
            "('Lewis Cymbal founded Cymbal Bank in 1992. [1] The bank was initially located '\n",
            " 'in a small office in downtown Los Angeles. [1] Cymbal Bank is a fictional '\n",
            " 'bank headquartered in the United States. [2] It has branches in Asia, '\n",
            " \"Europe, Latin America, North America, and Oceania. [2] Cymbal Bank's growth \"\n",
            " 'was rapid, with 10 branches across Los Angeles by 2000. [1] \\n')\n"
          ]
        }
      ],
      "source": [
        "pprint.pprint(resp.json()[\"summary\"][\"summaryText\"])"
      ]
    },
    {
      "cell_type": "markdown",
      "metadata": {
        "id": "12Fs9RcaT-LU"
      },
      "source": [
        "## 1.2 Use search Python SDK"
      ]
    },
    {
      "cell_type": "code",
      "execution_count": 10,
      "metadata": {
        "id": "T_EQbaViIBEv"
      },
      "outputs": [],
      "source": [
        "def get_search_sdk_response(\n",
        "    project_id: str,\n",
        "    location: str,\n",
        "    engine_id: str,\n",
        "    search_query: str,\n",
        "    prompt_preamble: str,\n",
        ") -> list[discoveryengine.SearchResponse]:\n",
        "    \"\"\"Retrieves search results from the Discovery Engine using the Python SDK.\n",
        "\n",
        "    This function queries the specified Discovery Engine with the provided search\n",
        "    query and configuration options.  It supports specifying a location-specific\n",
        "    endpoint for the API.\n",
        "\n",
        "    Args:\n",
        "        project_id: The Google Cloud project ID.\n",
        "        location: The location of the Discovery Engine (e.g., \"global\", \"us-central1\").\n",
        "        engine_id: The ID of the Discovery Engine.\n",
        "        search_query: The search query string.\n",
        "        prompt_preamble: The preamble to use for search summaries.\n",
        "\n",
        "    Returns:\n",
        "        A list of `discoveryengine.SearchResponse` objects containing the search results.\n",
        "        This list may be empty if no results are found.\n",
        "\n",
        "    #  For more information, refer to:\n",
        "    # https://cloud.google.com/generative-ai-app-builder/docs/locations#specify_a_multi-region_for_your_data_store\n",
        "\n",
        "    \"\"\"\n",
        "\n",
        "    client_options = (\n",
        "        ClientOptions(api_endpoint=f\"{location}-discoveryengine.googleapis.com\")\n",
        "        if location != \"global\"\n",
        "        else None\n",
        "    )\n",
        "\n",
        "    # Create a client\n",
        "    client = discoveryengine.SearchServiceClient(client_options=client_options)\n",
        "\n",
        "    # The full resource name of the search app serving config\n",
        "    serving_config = f\"projects/{project_id}/locations/{location}/collections/default_collection/engines/{engine_id}/servingConfigs/default_config\"\n",
        "\n",
        "    # Optional - only supported for unstructured data: Configuration options for search.\n",
        "    # Refer to the `ContentSearchSpec` reference for all supported fields:\n",
        "    # https://cloud.google.com/python/docs/reference/discoveryengine/latest/google.cloud.discoveryengine_v1.types.SearchRequest.ContentSearchSpec\n",
        "    content_search_spec = discoveryengine.SearchRequest.ContentSearchSpec(\n",
        "        # For information about snippets, refer to:\n",
        "        # https://cloud.google.com/generative-ai-app-builder/docs/snippets\n",
        "        snippet_spec=discoveryengine.SearchRequest.ContentSearchSpec.SnippetSpec(\n",
        "            return_snippet=True\n",
        "        ),\n",
        "        # For information about search summaries, refer to:\n",
        "        # https://cloud.google.com/generative-ai-app-builder/docs/get-search-summaries\n",
        "        summary_spec=discoveryengine.SearchRequest.ContentSearchSpec.SummarySpec(\n",
        "            summary_result_count=5,\n",
        "            include_citations=True,\n",
        "            ignore_adversarial_query=True,\n",
        "            ignore_non_summary_seeking_query=True,\n",
        "            model_prompt_spec=discoveryengine.SearchRequest.ContentSearchSpec.SummarySpec.ModelPromptSpec(\n",
        "                preamble=prompt_preamble\n",
        "            ),\n",
        "            model_spec=discoveryengine.SearchRequest.ContentSearchSpec.SummarySpec.ModelSpec(\n",
        "                version=\"preview\",\n",
        "            ),\n",
        "        ),\n",
        "        # -------extractive content-----\n",
        "        extractive_content_spec=discoveryengine.SearchRequest.ContentSearchSpec.ExtractiveContentSpec(\n",
        "            max_extractive_segment_count=2,\n",
        "            max_extractive_answer_count=2,\n",
        "            return_extractive_segment_score=True,\n",
        "        ),\n",
        "    )\n",
        "\n",
        "    # Refer to the `SearchRequest` reference for all supported fields:\n",
        "    # https://cloud.google.com/python/docs/reference/discoveryengine/latest/google.cloud.discoveryengine_v1.types.SearchRequest\n",
        "    request = discoveryengine.SearchRequest(\n",
        "        serving_config=serving_config,\n",
        "        query=search_query,\n",
        "        page_size=10,\n",
        "        content_search_spec=content_search_spec,\n",
        "        query_expansion_spec=discoveryengine.SearchRequest.QueryExpansionSpec(\n",
        "            condition=discoveryengine.SearchRequest.QueryExpansionSpec.Condition.AUTO,\n",
        "        ),\n",
        "        spell_correction_spec=discoveryengine.SearchRequest.SpellCorrectionSpec(\n",
        "            mode=discoveryengine.SearchRequest.SpellCorrectionSpec.Mode.AUTO\n",
        "        ),\n",
        "    )\n",
        "\n",
        "    response = client.search(request)\n",
        "    # print(response)\n",
        "\n",
        "    return response"
      ]
    },
    {
      "cell_type": "code",
      "execution_count": 11,
      "metadata": {
        "id": "9bxnz1ZnIBEv"
      },
      "outputs": [],
      "source": [
        "search_query = \"who founded cymbal bank?\"\n",
        "prompt_preamble = \" \""
      ]
    },
    {
      "cell_type": "code",
      "execution_count": 12,
      "metadata": {
        "id": "QwVpMIrBIBEv"
      },
      "outputs": [],
      "source": [
        "response = get_search_sdk_response(\n",
        "    project_id,\n",
        "    location,\n",
        "    engine_id,\n",
        "    search_query,\n",
        "    prompt_preamble,\n",
        ")"
      ]
    },
    {
      "cell_type": "code",
      "execution_count": 13,
      "metadata": {
        "id": "A9AlR_1rIBEv"
      },
      "outputs": [
        {
          "data": {
            "text/plain": [
              "summary_text: \"Lewis Cymbal founded Cymbal Bank in 1992 in Los Angeles. [1]\\n\"\n",
              "summary_with_metadata {\n",
              "  summary: \"Lewis Cymbal founded Cymbal Bank in 1992 in Los Angeles.\\n\"\n",
              "  citation_metadata {\n",
              "    citations {\n",
              "      end_index: 56\n",
              "      sources {\n",
              "      }\n",
              "    }\n",
              "  }\n",
              "  references {\n",
              "    title: \"Cymbal Bank Founding Story\"\n",
              "    document: \"projects/971101266488/locations/global/collections/default_collection/dataStores/cymbal-bank-datastore_1738108528755/branches/0/documents/481fa3039e1f7d903998c371b71bb06f\"\n",
              "  }\n",
              "  references {\n",
              "    title: \"Cymbal Bank Organizations & Roles\"\n",
              "    document: \"projects/971101266488/locations/global/collections/default_collection/dataStores/cymbal-bank-datastore_1738108528755/branches/0/documents/29d1ba7dab82553580cfd57c491f59f7\"\n",
              "  }\n",
              "  references {\n",
              "    title: \"Cymbal Bank Business Travel Guide\"\n",
              "    document: \"projects/971101266488/locations/global/collections/default_collection/dataStores/cymbal-bank-datastore_1738108528755/branches/0/documents/99a6c8e738ead0ae50bb9a9b25b988f0\"\n",
              "  }\n",
              "  references {\n",
              "    title: \"Cymbal Bank New Employee Guide\"\n",
              "    document: \"projects/971101266488/locations/global/collections/default_collection/dataStores/cymbal-bank-datastore_1738108528755/branches/0/documents/8aa75d3a87559bb10887bdc95f901876\"\n",
              "  }\n",
              "  references {\n",
              "    title: \"Cymbal Bank Company Culture\"\n",
              "    document: \"projects/971101266488/locations/global/collections/default_collection/dataStores/cymbal-bank-datastore_1738108528755/branches/0/documents/4bf845e34952516c441e609e7be099fd\"\n",
              "  }\n",
              "}"
            ]
          },
          "execution_count": 13,
          "metadata": {},
          "output_type": "execute_result"
        }
      ],
      "source": [
        "response.summary"
      ]
    },
    {
      "cell_type": "code",
      "execution_count": 14,
      "metadata": {
        "id": "0osSLrWOIBEv"
      },
      "outputs": [],
      "source": [
        "from google.protobuf.json_format import MessageToDict\n",
        "\n",
        "document_dict = MessageToDict(\n",
        "    response.results[0].document._pb, preserving_proto_field_name=True\n",
        ")"
      ]
    },
    {
      "cell_type": "code",
      "execution_count": 15,
      "metadata": {
        "id": "M5Ad5MORIBEv"
      },
      "outputs": [
        {
          "data": {
            "application/vnd.google.colaboratory.intrinsic+json": {
              "type": "string"
            },
            "text/plain": [
              "'Cymbal Bank Founding Story Written July 12, 20 Authored by <b>Lewis Cymbal</b>, Founder &amp; CEO Lewis Cymbal founded Cymbal Bank in 1992 in a small office in downtown Los Angeles. The bank quickly grew, by 2000, it had 10 branches across the city.'"
            ]
          },
          "execution_count": 15,
          "metadata": {},
          "output_type": "execute_result"
        }
      ],
      "source": [
        "document_dict[\"derived_struct_data\"][\"extractive_answers\"][0][\"content\"]"
      ]
    },
    {
      "cell_type": "markdown",
      "metadata": {
        "id": "Fzxr_0yhIBEv"
      },
      "source": [
        "# 2. Answer method"
      ]
    },
    {
      "cell_type": "markdown",
      "metadata": {
        "id": "kTy0E_4gIBEv"
      },
      "source": [
        "## 2.1 Use answer REST API"
      ]
    },
    {
      "cell_type": "code",
      "execution_count": 16,
      "metadata": {
        "id": "AH33hv3FIBEv"
      },
      "outputs": [],
      "source": [
        "# refresh token\n",
        "creds, _ = google.auth.default()\n",
        "auth_req = google.auth.transport.requests.Request()\n",
        "\n",
        "creds.refresh(auth_req)"
      ]
    },
    {
      "cell_type": "code",
      "execution_count": 17,
      "metadata": {
        "id": "Qhgv983wIBEv"
      },
      "outputs": [],
      "source": [
        "engine_id = \"cymbal-bank-agentspace-sea_1738108565573\""
      ]
    },
    {
      "cell_type": "code",
      "execution_count": 18,
      "metadata": {
        "id": "9jzN_8Q_IBEv"
      },
      "outputs": [],
      "source": [
        "def get_answer_api_response(query):\n",
        "    \"\"\"Retrieves an answer from the Discovery Engine's Answer endpoint.\n",
        "\n",
        "    This function sends a POST request to the Discovery Engine's Answer endpoint\n",
        "    to retrieve an answer based on the provided query.\n",
        "\n",
        "    Args:\n",
        "        query: The query string to be answered.\n",
        "\n",
        "    Returns:\n",
        "        A `requests.Response` object containing the API response.  The response\n",
        "        will typically contain a JSON payload with the answer, citations, and\n",
        "        related questions.  It is the caller's responsibility to parse and\n",
        "        handle the response appropriately, including checking for errors.\n",
        "    \"\"\"\n",
        "\n",
        "    preamble = \"\"\"You are an assistant to answer question based on datastore resources\n",
        "       \"\"\"\n",
        "\n",
        "    url = f\"https://discoveryengine.googleapis.com/v1alpha/projects/{project_id}/locations/global/collections/default_collection/engines/{engine_id}/servingConfigs/default_search:answer\"\n",
        "    resp = requests.post(\n",
        "        url,\n",
        "        headers={\n",
        "            \"Content-Type\": \"application/json\",\n",
        "            \"Authorization\": \"Bearer \" + creds.token,\n",
        "        },\n",
        "        json={\n",
        "            \"query\": {\"text\": query},\n",
        "            \"safetySpec\": {\n",
        "                \"enable\": False,\n",
        "            },\n",
        "            \"relatedQuestionsSpec\": {\n",
        "                \"enable\": True,\n",
        "            },\n",
        "            \"queryUnderstandingSpec\": {\n",
        "                \"queryClassificationSpec\": {\n",
        "                    \"types\": \"ADVERSARIAL_QUERY\",\n",
        "                    \"types\": \"NON_ANSWER_SEEKING_QUERY\",\n",
        "                },\n",
        "                \"queryRephraserSpec\": {\n",
        "                    \"disable\": False,  # disable the rephraser\n",
        "                    \"maxRephraseSteps\": 5,  # controls the max hops we'd like to use for a given query\n",
        "                },\n",
        "            },\n",
        "            \"searchSpec\": {\n",
        "                \"searchParams\": {\n",
        "                    # Max search result will be put for answer generation.\n",
        "                    \"maxReturnResults\": 5,\n",
        "                    \"orderBy\": \"\",\n",
        "                },\n",
        "            },\n",
        "            \"answerGenerationSpec\": {\n",
        "                # enable the citations in the output\n",
        "                \"includeCitations\": True,\n",
        "                # force the answer to be generated in a target language.\n",
        "                \"answerLanguageCode\": \"en\",\n",
        "                \"modelSpec\": {\n",
        "                    \"modelVersion\": \"gemini-1.5-flash-001/answer_gen/v1\",\n",
        "                },\n",
        "                \"promptSpec\": {\"preamble\": preamble},\n",
        "                # \"ignoreAdversarialQuery\": True,\n",
        "                # \"ignoreNonAnswerSeekingQuery\": True,\n",
        "                # \"ignoreLowRelevantContent\": True,\n",
        "            },\n",
        "        },\n",
        "    )\n",
        "\n",
        "    return resp"
      ]
    },
    {
      "cell_type": "code",
      "execution_count": 19,
      "metadata": {
        "id": "c85LLg63IBEz"
      },
      "outputs": [],
      "source": [
        "query = \"who founded cymbal bank?\""
      ]
    },
    {
      "cell_type": "code",
      "execution_count": 20,
      "metadata": {
        "id": "PGuplfFwIBEz"
      },
      "outputs": [
        {
          "name": "stdout",
          "output_type": "stream",
          "text": [
            "('Lewis Cymbal founded Cymbal Bank in 1992 in a small office in downtown Los '\n",
            " 'Angeles. The bank quickly grew, and by 2000, it had 10 branches across the '\n",
            " 'city. In 2005, Cymbal Bank was acquired by a larger bank, but Lewis remained '\n",
            " 'CEO of the combined bank. Lewis was excited about the acquisition, as it '\n",
            " 'would allow Cymbal Bank to expand its reach and offer its customers more '\n",
            " 'services. He also saw it as an opportunity to create a more '\n",
            " 'customer-friendly bank. \\n')\n"
          ]
        }
      ],
      "source": [
        "resp = get_answer_api_response(query)\n",
        "pprint.pprint(resp.json()[\"answer\"][\"answerText\"])"
      ]
    },
    {
      "cell_type": "markdown",
      "metadata": {
        "id": "Lrn9qqDMIBEz"
      },
      "source": [
        "## 2.2 Use answer Python SDK"
      ]
    },
    {
      "cell_type": "code",
      "execution_count": 21,
      "metadata": {
        "id": "qzRQ8MYRIBEz"
      },
      "outputs": [],
      "source": [
        "project_id = PROJECT_ID\n",
        "location = \"global\"  # Values: \"global\", \"us\", \"eu\"\n",
        "\n",
        "\n",
        "def get_answer_sdk_response(\n",
        "    project_id: str,\n",
        "    location: str,\n",
        "    engine_id: str,\n",
        "    query: str,\n",
        ") -> discoveryengine.AnswerQueryResponse:\n",
        "    \"\"\"Retrieves an answer from the Discovery Engine using the AnswerQuery API.\n",
        "\n",
        "    This function queries the specified Discovery Engine with the provided query\n",
        "    and configuration options using the `AnswerQuery` API. It supports\n",
        "    specifying a location-specific endpoint for the API.\n",
        "\n",
        "    Args:\n",
        "        project_id: The Google Cloud project ID.\n",
        "        location: The location of the Discovery Engine (e.g., \"global\", \"us-central1\").\n",
        "        engine_id: The ID of the Discovery Engine.\n",
        "        query: The query string.\n",
        "\n",
        "    Returns:\n",
        "        A `discoveryengine.AnswerQueryResponse` object containing the answer,\n",
        "        citations, and other related information.\n",
        "\n",
        "    #  For more information, refer to:\n",
        "    # https://cloud.google.com/generative-ai-app-builder/docs/locations#specify_a_multi-region_for_your_data_store\n",
        "    \"\"\"\n",
        "    client_options = (\n",
        "        ClientOptions(api_endpoint=f\"{location}-discoveryengine.googleapis.com\")\n",
        "        if location != \"global\"\n",
        "        else None\n",
        "    )\n",
        "\n",
        "    # Create a client\n",
        "    client = discoveryengine.ConversationalSearchServiceClient(\n",
        "        client_options=client_options\n",
        "    )\n",
        "\n",
        "    # The full resource name of the Search serving config\n",
        "    serving_config = f\"projects/{project_id}/locations/{location}/collections/default_collection/engines/{engine_id}/servingConfigs/default_serving_config\"\n",
        "\n",
        "    # Optional: Options for query phase\n",
        "    # The `query_understanding_spec` below includes all available query phase options.\n",
        "    # For more details, refer to https://cloud.google.com/generative-ai-app-builder/docs/reference/rest/v1/QueryUnderstandingSpec\n",
        "    query_understanding_spec = discoveryengine.AnswerQueryRequest.QueryUnderstandingSpec(\n",
        "        query_rephraser_spec=discoveryengine.AnswerQueryRequest.QueryUnderstandingSpec.QueryRephraserSpec(\n",
        "            disable=False,  # Optional: Disable query rephraser\n",
        "            max_rephrase_steps=1,  # Optional: Number of rephrase steps\n",
        "        ),\n",
        "        # Optional: Classify query types\n",
        "        query_classification_spec=discoveryengine.AnswerQueryRequest.QueryUnderstandingSpec.QueryClassificationSpec(\n",
        "            types=[\n",
        "                discoveryengine.AnswerQueryRequest.QueryUnderstandingSpec.QueryClassificationSpec.Type.ADVERSARIAL_QUERY,\n",
        "                discoveryengine.AnswerQueryRequest.QueryUnderstandingSpec.QueryClassificationSpec.Type.NON_ANSWER_SEEKING_QUERY,\n",
        "            ]  # Options: ADVERSARIAL_QUERY, NON_ANSWER_SEEKING_QUERY or both\n",
        "        ),\n",
        "    )\n",
        "\n",
        "    # Optional: Options for answer phase\n",
        "    # The `answer_generation_spec` below includes all available query phase options.\n",
        "    # For more details, refer to https://cloud.google.com/generative-ai-app-builder/docs/reference/rest/v1/AnswerGenerationSpec\n",
        "    answer_generation_spec = discoveryengine.AnswerQueryRequest.AnswerGenerationSpec(\n",
        "        ignore_adversarial_query=False,  # Optional: Ignore adversarial query\n",
        "        ignore_non_answer_seeking_query=False,  # Optional: Ignore non-answer seeking query\n",
        "        ignore_low_relevant_content=False,  # Optional: Return fallback answer when content is not relevant\n",
        "        model_spec=discoveryengine.AnswerQueryRequest.AnswerGenerationSpec.ModelSpec(\n",
        "            model_version=\"gemini-1.5-flash-001/answer_gen/v2\",  # Optional: Model to use for answer generation\n",
        "        ),\n",
        "        prompt_spec=discoveryengine.AnswerQueryRequest.AnswerGenerationSpec.PromptSpec(\n",
        "            preamble=\"Give a detailed answer.\",  # Optional: Natural language instructions for customizing the answer.\n",
        "        ),\n",
        "        include_citations=True,  # Optional: Include citations in the response\n",
        "        answer_language_code=\"en\",  # Optional: Language code of the answer\n",
        "    )\n",
        "\n",
        "    # Initialize request argument(s)\n",
        "    request = discoveryengine.AnswerQueryRequest(\n",
        "        serving_config=serving_config,\n",
        "        query=discoveryengine.Query(text=query),\n",
        "        session=None,  # Optional: include previous session ID to continue a conversation\n",
        "        query_understanding_spec=query_understanding_spec,\n",
        "        answer_generation_spec=answer_generation_spec,\n",
        "    )\n",
        "\n",
        "    # Make the request\n",
        "    response = client.answer_query(request)\n",
        "\n",
        "    # Handle the response\n",
        "    print(response)\n",
        "\n",
        "    return response"
      ]
    },
    {
      "cell_type": "code",
      "execution_count": 22,
      "metadata": {
        "id": "_zwOQEqJIBE0"
      },
      "outputs": [
        {
          "name": "stdout",
          "output_type": "stream",
          "text": [
            "answer {\n",
            "  state: SUCCEEDED\n",
            "  answer_text: \"Lewis Cymbal founded Cymbal Bank in 1992.  He established the bank in a small office in downtown Los Angeles.  By 2000, the bank had expanded to ten branches across the city.  In 2005, Cymbal Bank was acquired by a larger bank, but Lewis Cymbal remained CEO of the combined entity.  Cymbal Bank is described as a fictional bank headquartered in the United States with branches in Asia, Europe, Latin America, North America, and Oceania.\\n\"\n",
            "  citations {\n",
            "    end_index: 41\n",
            "    sources {\n",
            "      reference_id: \"0\"\n",
            "    }\n",
            "  }\n",
            "  citations {\n",
            "    start_index: 43\n",
            "    end_index: 109\n",
            "    sources {\n",
            "      reference_id: \"0\"\n",
            "    }\n",
            "  }\n",
            "  citations {\n",
            "    start_index: 111\n",
            "    end_index: 174\n",
            "    sources {\n",
            "      reference_id: \"0\"\n",
            "    }\n",
            "  }\n",
            "  citations {\n",
            "    start_index: 176\n",
            "    end_index: 281\n",
            "    sources {\n",
            "      reference_id: \"0\"\n",
            "    }\n",
            "  }\n",
            "  citations {\n",
            "    start_index: 283\n",
            "    end_index: 436\n",
            "    sources {\n",
            "      reference_id: \"1\"\n",
            "    }\n",
            "  }\n",
            "  references {\n",
            "    chunk_info {\n",
            "      content: \"Cymbal Bank Founding Story Written July 12, 20\\nAuthored by Lewis Cymbal, Founder & CEO\\nLewis Cymbal founded Cymbal Bank in 1992 in a small office in downtown Los Angeles. The bank quickly grew,\\nby 2000, it had 10 branches across the city. In 2005, Cymbal Bank was acquired by a larger bank, but Lewis\\nremained CEO of the combined bank. Lewis was excited about the acquisition, as it would allow Cymbal Bank to expand its reach and offer its custome\\nmore services. He also saw it as an opportunity to create a more customer-friendly bank. One of Lewis\\'s first priorities as CEO of the combined bank was to integrate the two banks. This was a challengi\\ntask, as the two banks had different cultures and different ways of doing things. However, Lewis was abl\\nsuccessfully integrate the two banks, and the combined bank is now one of the largest banks in the city. Lewis has also been focused on expanding Cymbal Bank\\'s reach. The bank now has branches in several cities\\nacross the country, and it is planning to expand into new markets. Lewis is confident that Cymbal Bank wi\\ncontinue to grow and succeed in the years to come. \"\n",
            "      relevance_score: 0.9\n",
            "      document_metadata {\n",
            "        document: \"projects/971101266488/locations/global/collections/default_collection/dataStores/cymbal-bank-datastore_1738108528755/branches/0/documents/481fa3039e1f7d903998c371b71bb06f\"\n",
            "        uri: \"gs://cloud-samples-data/gen-app-builder/search/cymbal-bank-employee/Cymbal Bank Founding Story.pdf\"\n",
            "        title: \"Cymbal Bank Founding Story\"\n",
            "        page_identifier: \"1\"\n",
            "      }\n",
            "    }\n",
            "  }\n",
            "  references {\n",
            "    chunk_info {\n",
            "      content: \"Cymbal Bank Organizations and Roles Updated August 11, 2023\\nAuthored by Lewis Cymbal, Founder & CEO Organizations Cymbal Bank is a fictional bank that is headquartered in the United States. It has branches in Asia, Europ\\nLatin America, North America, and Oceania. Cymbal Bank is a full-service bank that offers a variety\\nproducts and services to its customers. Cymbal Bank (Asia) is the Asian branch of Cymbal Bank. It is headquartered in Hong Kong and has\\nbranches in China, Japan, and South Korea. Cymbal Bank (Asia) offers a variety of products and services\\nits customers, including checking and savings accounts, loans, and investments. Cymbal Bank (Europe) is the European branch of Cymbal Bank. It is headquartered in London and has\\nbranches in France, Germany, and Italy. Cymbal Bank (Europe) offers a variety of products and services\\nits customers, including checking and savings accounts, loans, and investments. Cymbal Bank (Latin America) is the Latin American branch of Cymbal Bank. It is headquartered in Mexico\\nCity and has branches in Argentina, Brazil, and Colombia. Cymbal Bank (Latin America) offers a variety\\nproducts and services to its customers, including checking and savings accounts, loans, and investments. Cymbal Bank (North America) is the North American branch of Cymbal Bank. \"\n",
            "      relevance_score: 0.8\n",
            "      document_metadata {\n",
            "        document: \"projects/971101266488/locations/global/collections/default_collection/dataStores/cymbal-bank-datastore_1738108528755/branches/0/documents/29d1ba7dab82553580cfd57c491f59f7\"\n",
            "        uri: \"gs://cloud-samples-data/gen-app-builder/search/cymbal-bank-employee/Cymbal Bank Organizations & Roles.pdf\"\n",
            "        title: \"Cymbal Bank Organizations & Roles\"\n",
            "        page_identifier: \"1\"\n",
            "      }\n",
            "    }\n",
            "  }\n",
            "  references {\n",
            "    chunk_info {\n",
            "      content: \"Cymbal Bank Business Travel Guide Updated August 11, 2023\\nAuthored by Lewis Cymbal, Founder & CEO 1. Book your flig\\nTo book your flight, you can use the company\\'s travel booking tool, called \\\"Cymbal Fly\\\". To use Cymbal Fly, you wi\\nneed to create an account and log in. Once you are logged in, you can search for flights by destination, date, a\\ntime. You can also filter your results by airline, price, and duration. Once you have found a flight that you\\ninterested in, you can book it by clicking on the \\\"Book Now\\\" butto 2. Book your hotel\\nTo book your hotel, you can use the company\\'s travel booking tool, called \\\"Cymbal Stay\\\". To use Cymbal Stay, you\\nwill need to create an account and log in. Once you are logged in, you can search for hotels by destination, date,\\nand time. You can also filter your results by price, rating, and amenities. Once you have found a hotel that you a\\ninterested in, you can book it by clicking on the \\\"Book Now\\\" butto 3. Book your rental car\\nTo book your rental car, you can use the company\\'s travel booking tool, called \\\"Cymbal Drive\\\". \"\n",
            "      relevance_score: 0.8\n",
            "      document_metadata {\n",
            "        document: \"projects/971101266488/locations/global/collections/default_collection/dataStores/cymbal-bank-datastore_1738108528755/branches/0/documents/99a6c8e738ead0ae50bb9a9b25b988f0\"\n",
            "        uri: \"gs://cloud-samples-data/gen-app-builder/search/cymbal-bank-employee/Cymbal Bank Business Travel Guide.pdf\"\n",
            "        title: \"Cymbal Bank Business Travel Guide\"\n",
            "        page_identifier: \"1\"\n",
            "      }\n",
            "    }\n",
            "  }\n",
            "  references {\n",
            "    chunk_info {\n",
            "      content: \"Cymbal Bank New Employe Guide Updated August 11, 2023\\nAuthored by Lewis Cymbal, CEO 1. Welcome to Cymbal Bank\\nCongratulations on joining Cymbal Bank! We are excited to have you on our team. 2. Your first d\\nYour first day at Cymbal Bank will be a busy one. You will meet with your manager, HR department, and te\\nmembers. You will also be given a tour of the office and introduced to your new colleagu 3. Your first we\\nIn your first week at Cymbal Bank, you will be given a lot of information to take in. You will learn about the compa\\nculture, the products and services that we offer, and the expectations that we have for our employees. You wi\\nalso be given a lot of paperwork to fill ou 4. Your first mon\\nIn your first month at Cymbal Bank, you will start to get into the swing of things. You will start to learn your job a\\nthe responsibilities that come with it. You will also start to build relationships with your colleagues. 5. Your first ye\\nIn your first year at Cymbal Bank, you will continue to learn and grow. You will start to take on more responsibili\\nand you will start to make a real impact on the company. You will also start to build a network of colleagues and\\nmentors. \"\n",
            "      relevance_score: 0.5\n",
            "      document_metadata {\n",
            "        document: \"projects/971101266488/locations/global/collections/default_collection/dataStores/cymbal-bank-datastore_1738108528755/branches/0/documents/8aa75d3a87559bb10887bdc95f901876\"\n",
            "        uri: \"gs://cloud-samples-data/gen-app-builder/search/cymbal-bank-employee/Cymbal Bank New Employee Guide.pdf\"\n",
            "        title: \"Cymbal Bank New Employee Guide\"\n",
            "        page_identifier: \"1\"\n",
            "      }\n",
            "    }\n",
            "  }\n",
            "  references {\n",
            "    chunk_info {\n",
            "      content: \"Cymbal Bank Company Culture Updated August 11, 2023\\nAuthored by Lewis Cymbal, CEO 1. Be open-minded\\nOne of the most important things you can do to be a productive member of an inclusive and diverse workforce is\\nto be open-minded. This means being willing to learn about different cultures and perspectives, and being willi\\nto change your own views when necessary. It also means being respectful of others, even if you disagree wi\\nthem. 2. Be respectf\\nRespect is essential for any productive workplace, but it is especially important in an inclusive and diverse\\nworkforce. This means being respectful of other people\\'s cultures, religions, and sexual orientations. It also mea\\nbeing respectful of other people\\'s opinions, even if you disagree with the 3. Be inclusive\\nInclusion is another important part of being a productive member of an inclusive and diverse workforce. This\\nmeans making sure that everyone feels welcome and included, regardless of their background or identity. It also\\nmeans making sure that everyone has an equal opportunity to participate and contribute. 4. Be diverse\\nDiversity is a strength, not a weakness. This means embracing different perspectives and experiences, and usi\\nthem to create a more innovative and successful workplace. It also means being willing to challenge your own\\nbiases and assumptions. \"\n",
            "      relevance_score: 0.5\n",
            "      document_metadata {\n",
            "        document: \"projects/971101266488/locations/global/collections/default_collection/dataStores/cymbal-bank-datastore_1738108528755/branches/0/documents/4bf845e34952516c441e609e7be099fd\"\n",
            "        uri: \"gs://cloud-samples-data/gen-app-builder/search/cymbal-bank-employee/Cymbal Bank Company Culture.pdf\"\n",
            "        title: \"Cymbal Bank Company Culture\"\n",
            "        page_identifier: \"1\"\n",
            "      }\n",
            "    }\n",
            "  }\n",
            "  references {\n",
            "    chunk_info {\n",
            "      content: \"7. Vendors: Third-party software vendors for cloud services, mobile app development, 8. Customers: Current and prospective customers of Cymbal Bank\\nProject Scope 1. Platform Feature - Digital account opening - Funds transfer (P2P, bill payments) - Mobile deposit - Budgeting and financial insigh - 24/7 customer support (chatbot - Biometric login and MFA \"\n",
            "      relevance_score: 0.2\n",
            "      document_metadata {\n",
            "        document: \"projects/971101266488/locations/global/collections/default_collection/dataStores/cymbal-bank-datastore_1738108528755/branches/0/documents/52792900185e4791a0f58ba5a64c7cce\"\n",
            "        uri: \"gs://cloud-samples-data/gen-app-builder/search/cymbal-bank-employee/Project Plan_ Implementation of New Digital Banking Platform for Cymbal Bank.pdf\"\n",
            "        title: \"Project Plan: Implementation of New Digital Banking Platform for Cymbal Bank\"\n",
            "        page_identifier: \"1\"\n",
            "      }\n",
            "    }\n",
            "  }\n",
            "  references {\n",
            "    chunk_info {\n",
            "      content: \"Metric FY 2023 (Actual) FY 2024 (Projected) FY 2025 (Projected) Operating Costs $800 million $760 million $730 million Customer Base (in millions) 4.0 4.6 5.3 8. Timeline & Milestones Key Initiative Milestone Target Date Digital Banking App Launch Full Launch Q3 2024 Branch Optimization Completed 10 Branches Closed Q2 2025 Customer Base Growth to 4.6\\nMillion Achieved Customer Growth Q4 2024 Financial Literacy Program Rollout Nationwide Implementation Q3 2024 9. Performance Metri - Customer Acquisition Cost (CAC): Reduce by 10% through targeted digital marketing. - Net Promoter Score (NPS): Improve from 55 to 65 by year-end 2024. - Loan Approval Time: Decrease average approval time from 10 days to 5 days. - Employee Engagement Score: Increase by 8% through enhanced training programs and workplace initiatives. 10. Appendices\\nAppendix A: Detailed Financial Statements\\nAppendix B: SWOT Analysis\\nAppendix C: Regulatory Compliance Checklist\\nAppendix D: Organizational Structure Cha This plan will guide Cymbal Bank in its efforts to achieve growth, operational efficiency, and customer satisfacti\\nthe next fiscal year. Regular reviews will be conducted to ensure alignment with these goal \"\n",
            "      relevance_score: 0.2\n",
            "      document_metadata {\n",
            "        document: \"projects/971101266488/locations/global/collections/default_collection/dataStores/cymbal-bank-datastore_1738108528755/branches/0/documents/145ab92fadb15d2b175a440cce0a82d8\"\n",
            "        uri: \"gs://cloud-samples-data/gen-app-builder/search/cymbal-bank-employee/Cymbal Bank - Strategic Plan for Fiscal Year 2024-2025.pdf\"\n",
            "        title: \"Cymbal Bank - Strategic Plan for Fiscal Year 2024-2025\"\n",
            "        page_identifier: \"4\"\n",
            "      }\n",
            "    }\n",
            "  }\n",
            "  references {\n",
            "    chunk_info {\n",
            "      content: \"Project Plan: Implementation of New Digital Banking\\nPlatform for Cymbal Ba Project Name: Digital Banking Transformation at Cymbal Bank\\nSponsor: CEO, Cymbal Bank\\nProject Manager: [Your Name]\\nStart Date: [Insert D\\nEnd Date: [Insert Dat Project Overview\\nCymbal Bank seeks to implement a modern digital banking platform to enhance customer experience, increa\\noperational efficiency, and enable new financial services. This project will introduce an integrated mobile an\\nbanking platform with features such as real-time payments, enhanced security, personalized financial insights,\\nself-service capabilities. Project Goals & Objectives - Enhance customer experience by providing intuitive, user-friendly mobile and web interface - Increase operational efficiency by automating processes like account management, loan applications, customer suppor - Enable future growth with scalable cloud infrastructure and the capability to integrate future financi services. - Improve security with multi-factor authentication (MFA), encryption, and compliance with banking\\nregulations. - Personalize banking services with AI-driven insights and customer-focused recommendations. Key Stakeholders 1. Executive Sponsor: CEO, Cymbal Bank 2. Project Manager: [Your Name] 3. IT Department: Head of IT, Lead Developers, Cybersecurity Te 4. Operations Team: Operations Manager, Customer Suppo 5. Legal and Compliance: Legal Officer, Compliance O 6. Marketing Team: Marketing Manager, Communications \"\n",
            "      relevance_score: 0.2\n",
            "      document_metadata {\n",
            "        document: \"projects/971101266488/locations/global/collections/default_collection/dataStores/cymbal-bank-datastore_1738108528755/branches/0/documents/52792900185e4791a0f58ba5a64c7cce\"\n",
            "        uri: \"gs://cloud-samples-data/gen-app-builder/search/cymbal-bank-employee/Project Plan_ Implementation of New Digital Banking Platform for Cymbal Bank.pdf\"\n",
            "        title: \"Project Plan: Implementation of New Digital Banking Platform for Cymbal Bank\"\n",
            "        page_identifier: \"1\"\n",
            "      }\n",
            "    }\n",
            "  }\n",
            "  references {\n",
            "    chunk_info {\n",
            "      content: \"Cymbal Bank - Strategic Plan for Fiscal Year\\n2024-2025 Date: September 20, 2024\\nPrepared by: Cymbal Bank Strategy Team\\nReview Committee: Executive Management Team, Board of Directo Table of Contents: 1. Executive Summary 2. Vision & Mission 3. Strategic Goals & Objectives 4. Market Analysis 5. Risk Assessment 6. Key Initiatives 7. Financial Projections 8. Timeline & Milestones 9. Performance Metri 10. Appendices 1. Executive Summary\\nCymbal Bank is positioning itself for growth in the upcoming fiscal year through innovation, customer-centric solution\\nand operational efficiency. This strategic plan outlines the bank’s goals, initiatives, and the steps necessary to achi\\nsustainable growth while addressing market challenges and evolving financial landscapes. Key areas of focus inclu\\nexpanding digital offerings, improving customer experience, and ensuring compliance with regulatory change 2. Vision & Mission Vision:\\nTo be the most trusted and innovative financial partner, delivering personalized and secure banking soluti Mission:\\nCymbal Bank strives to empower individuals, businesses, and communities through reliable banking services,\\ncutting-edge technology, and exceptional customer car 3. Strategic Goals & Objectives - Digital Transformation \"\n",
            "      relevance_score: 0.2\n",
            "      document_metadata {\n",
            "        document: \"projects/971101266488/locations/global/collections/default_collection/dataStores/cymbal-bank-datastore_1738108528755/branches/0/documents/145ab92fadb15d2b175a440cce0a82d8\"\n",
            "        uri: \"gs://cloud-samples-data/gen-app-builder/search/cymbal-bank-employee/Cymbal Bank - Strategic Plan for Fiscal Year 2024-2025.pdf\"\n",
            "        title: \"Cymbal Bank - Strategic Plan for Fiscal Year 2024-2025\"\n",
            "        page_identifier: \"1\"\n",
            "      }\n",
            "    }\n",
            "  }\n",
            "  references {\n",
            "    chunk_info {\n",
            "      content: \"They design\\nexecute tests, identify issues, and contribute to delivering reliable softwar\\nSystems Analyst\\nSystems Analysts assess and optimize Cymbal Bank\\'s IT systems and processes. They gather requirements,\\nrecommend solutions, and facilitate the integration of technology solutions. Systems Administrator\\nSystems Administrators manage and maintain Cymbal Bank\\'s IT systems and infrastructure. They ensure systems are\\noperational, secure, and up to date. Systems Engineer\\nSystems Engineers design and implement IT solutions for Cymbal Bank\\'s infrastructure. They configure system\\ntroubleshoot issues, and optimize performanc\\nTechnical Support Representati\\nTechnical Support Representatives assist Cymbal Bank\\'s customers and employees with technical issues. They provi\\nsolutions, troubleshoot problems, and ensure smooth technology usage. Trader \"\n",
            "      relevance_score: 0.2\n",
            "      document_metadata {\n",
            "        document: \"projects/971101266488/locations/global/collections/default_collection/dataStores/cymbal-bank-datastore_1738108528755/branches/0/documents/29d1ba7dab82553580cfd57c491f59f7\"\n",
            "        uri: \"gs://cloud-samples-data/gen-app-builder/search/cymbal-bank-employee/Cymbal Bank Organizations & Roles.pdf\"\n",
            "        title: \"Cymbal Bank Organizations & Roles\"\n",
            "        page_identifier: \"6\"\n",
            "      }\n",
            "    }\n",
            "  }\n",
            "  steps {\n",
            "    state: SUCCEEDED\n",
            "    description: \"Rephrase the query and search.\"\n",
            "    actions {\n",
            "      search_action {\n",
            "        query: \"who founded cymbal bank?\"\n",
            "      }\n",
            "      observation {\n",
            "        search_results {\n",
            "          document: \"projects/971101266488/locations/global/collections/default_collection/dataStores/cymbal-bank-datastore_1738108528755/branches/0/documents/481fa3039e1f7d903998c371b71bb06f\"\n",
            "          uri: \"gs://cloud-samples-data/gen-app-builder/search/cymbal-bank-employee/Cymbal Bank Founding Story.pdf\"\n",
            "          title: \"Cymbal Bank Founding Story\"\n",
            "          snippet_info {\n",
            "            snippet: \"... Cymbal <b>founded Cymbal Bank</b> in 1992 in a small office in downtown Los Angeles. The bank quickly grew, by 2000, it had 10 branches across the city. In 2005&nbsp;...\"\n",
            "            snippet_status: \"SUCCESS\"\n",
            "          }\n",
            "        }\n",
            "        search_results {\n",
            "          document: \"projects/971101266488/locations/global/collections/default_collection/dataStores/cymbal-bank-datastore_1738108528755/branches/0/documents/29d1ba7dab82553580cfd57c491f59f7\"\n",
            "          uri: \"gs://cloud-samples-data/gen-app-builder/search/cymbal-bank-employee/Cymbal Bank Organizations & Roles.pdf\"\n",
            "          title: \"Cymbal Bank Organizations & Roles\"\n",
            "          snippet_info {\n",
            "            snippet: \"<b>Cymbal Bank</b> Organizations and Roles Updated August 11, 2023 Authored by Lewis <b>Cymbal</b>, <b>Founder</b> &amp; CEO Organizations ○ <b>Cymbal Bank</b> is a fictional <b>bank</b> that is&nbsp;...\"\n",
            "            snippet_status: \"SUCCESS\"\n",
            "          }\n",
            "        }\n",
            "        search_results {\n",
            "          document: \"projects/971101266488/locations/global/collections/default_collection/dataStores/cymbal-bank-datastore_1738108528755/branches/0/documents/99a6c8e738ead0ae50bb9a9b25b988f0\"\n",
            "          uri: \"gs://cloud-samples-data/gen-app-builder/search/cymbal-bank-employee/Cymbal Bank Business Travel Guide.pdf\"\n",
            "          title: \"Cymbal Bank Business Travel Guide\"\n",
            "          snippet_info {\n",
            "            snippet: \"<b>Cymbal Bank</b> Business Travel Guide Updated August 11, 2023 Authored by Lewis <b>Cymbal</b>, <b>Founder</b> &amp; CEO 1. Book your flig To book your flight, you can use the&nbsp;...\"\n",
            "            snippet_status: \"SUCCESS\"\n",
            "          }\n",
            "        }\n",
            "        search_results {\n",
            "          document: \"projects/971101266488/locations/global/collections/default_collection/dataStores/cymbal-bank-datastore_1738108528755/branches/0/documents/8aa75d3a87559bb10887bdc95f901876\"\n",
            "          uri: \"gs://cloud-samples-data/gen-app-builder/search/cymbal-bank-employee/Cymbal Bank New Employee Guide.pdf\"\n",
            "          title: \"Cymbal Bank New Employee Guide\"\n",
            "          snippet_info {\n",
            "            snippet: \"<b>Cymbal Bank</b> New Employe Guide Updated August 11, 2023 Authored by Lewis <b>Cymbal</b>, CEO 1. Welcome to <b>Cymbal Bank</b> Congratulations on joining <b>Cymbal Bank</b>! We are&nbsp;...\"\n",
            "            snippet_status: \"SUCCESS\"\n",
            "          }\n",
            "        }\n",
            "        search_results {\n",
            "          document: \"projects/971101266488/locations/global/collections/default_collection/dataStores/cymbal-bank-datastore_1738108528755/branches/0/documents/4bf845e34952516c441e609e7be099fd\"\n",
            "          uri: \"gs://cloud-samples-data/gen-app-builder/search/cymbal-bank-employee/Cymbal Bank Company Culture.pdf\"\n",
            "          title: \"Cymbal Bank Company Culture\"\n",
            "          snippet_info {\n",
            "            snippet: \"<b>Cymbal Bank</b> Company Culture Updated August 11, 2023 Authored by Lewis <b>Cymbal</b>, CEO 1. Be open-minded One of the most important things you can do to be a&nbsp;...\"\n",
            "            snippet_status: \"SUCCESS\"\n",
            "          }\n",
            "        }\n",
            "        search_results {\n",
            "          document: \"projects/971101266488/locations/global/collections/default_collection/dataStores/cymbal-bank-datastore_1738108528755/branches/0/documents/52792900185e4791a0f58ba5a64c7cce\"\n",
            "          uri: \"gs://cloud-samples-data/gen-app-builder/search/cymbal-bank-employee/Project Plan_ Implementation of New Digital Banking Platform for Cymbal Bank.pdf\"\n",
            "          title: \"Project Plan: Implementation of New Digital Banking Platform for Cymbal Bank\"\n",
            "          snippet_info {\n",
            "            snippet: \"- Personalize <b>banking</b> services with AI-driven insights and customer-focused recommendations. Key Stakeholders 1. Executive Sponsor: CEO, <b>Cymbal Bank</b> 2.\"\n",
            "            snippet_status: \"SUCCESS\"\n",
            "          }\n",
            "        }\n",
            "        search_results {\n",
            "          document: \"projects/971101266488/locations/global/collections/default_collection/dataStores/cymbal-bank-datastore_1738108528755/branches/0/documents/145ab92fadb15d2b175a440cce0a82d8\"\n",
            "          uri: \"gs://cloud-samples-data/gen-app-builder/search/cymbal-bank-employee/Cymbal Bank - Strategic Plan for Fiscal Year 2024-2025.pdf\"\n",
            "          title: \"Cymbal Bank - Strategic Plan for Fiscal Year 2024-2025\"\n",
            "          snippet_info {\n",
            "            snippet: \"<b>Cymbal Bank&#39;s</b> compliance team wi proactively monitor and implement regulatory changes to minimize risk. - Operational Risks Efficiency programs may face&nbsp;...\"\n",
            "            snippet_status: \"SUCCESS\"\n",
            "          }\n",
            "        }\n",
            "      }\n",
            "    }\n",
            "  }\n",
            "  query_understanding_info {\n",
            "    query_classification_info {\n",
            "      type_: ADVERSARIAL_QUERY\n",
            "    }\n",
            "    query_classification_info {\n",
            "      type_: NON_ANSWER_SEEKING_QUERY\n",
            "    }\n",
            "  }\n",
            "}\n",
            "answer_query_token: \"NMwKDAj98ua8BhCFrM-nAxIkNjc5ODQ1YzctMDAwMC0yZGExLTk3ZWQtMDg5ZTA4MjVjMmJj\"\n",
            "\n"
          ]
        }
      ],
      "source": [
        "query = \"who founded cymbal bank?\"\n",
        "resp = get_answer_sdk_response(\n",
        "    project_id,\n",
        "    location,\n",
        "    engine_id,\n",
        "    query,\n",
        ")"
      ]
    },
    {
      "cell_type": "code",
      "execution_count": 23,
      "metadata": {
        "id": "2ubpuMNhIBE0"
      },
      "outputs": [
        {
          "data": {
            "application/vnd.google.colaboratory.intrinsic+json": {
              "type": "string"
            },
            "text/plain": [
              "'Lewis Cymbal founded Cymbal Bank in 1992.  He established the bank in a small office in downtown Los Angeles.  By 2000, the bank had expanded to ten branches across the city.  In 2005, Cymbal Bank was acquired by a larger bank, but Lewis Cymbal remained CEO of the combined entity.  Cymbal Bank is described as a fictional bank headquartered in the United States with branches in Asia, Europe, Latin America, North America, and Oceania.\\n'"
            ]
          },
          "execution_count": 23,
          "metadata": {},
          "output_type": "execute_result"
        }
      ],
      "source": [
        "resp.answer.answer_text"
      ]
    },
    {
      "cell_type": "markdown",
      "metadata": {
        "id": "TpV-iwP9qw9c"
      },
      "source": [
        "## Cleaning up\n",
        "\n",
        "To clean up all Google Cloud resources used in this project, you can [delete the Google Cloud\n",
        "project](https://cloud.google.com/resource-manager/docs/creating-managing-projects#shutting_down_projects) you used for the tutorial.\n",
        "\n",
        "Otherwise, you can delete the individual resources you created in this tutorial:\n",
        "\n",
        "{TODO: Include commands to delete individual resources below}"
      ]
    }
  ],
  "metadata": {
    "colab": {
      "name": "agentspace_api_and sdk_v1.ipynb",
      "toc_visible": true
    },
    "kernelspec": {
      "display_name": "Python 3",
      "name": "python3"
    }
  },
  "nbformat": 4,
  "nbformat_minor": 0
}
