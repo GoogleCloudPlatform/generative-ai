{
  "cells": [
    {
      "cell_type": "code",
      "execution_count": 1,
      "metadata": {
        "id": "CbAXAsjdHh_n"
      },
      "outputs": [],
      "source": [
        "# Copyright 2024 Google LLC\n",
        "#\n",
        "# Licensed under the Apache License, Version 2.0 (the \"License\");\n",
        "# you may not use this file except in compliance with the License.\n",
        "# You may obtain a copy of the License at\n",
        "#\n",
        "#     https://www.apache.org/licenses/LICENSE-2.0\n",
        "#\n",
        "# Unless required by applicable law or agreed to in writing, software\n",
        "# distributed under the License is distributed on an \"AS IS\" BASIS,\n",
        "# WITHOUT WARRANTIES OR CONDITIONS OF ANY KIND, either express or implied.\n",
        "# See the License for the specific language governing permissions and\n",
        "# limitations under the License."
      ]
    },
    {
      "cell_type": "markdown",
      "metadata": {
        "id": "HJrhVUWzZWhI"
      },
      "source": [
        "# Vertex AI Agent Builder Search Evaluation"
      ]
    },
    {
      "cell_type": "markdown",
      "metadata": {
        "id": "jx8l8JyMHwWn"
      },
      "source": [
        "<table align=\"left\">\n",
        "  <td style=\"text-align: center\">\n",
        "    <a href=\"https://colab.research.google.com/github/GoogleCloudPlatform/generative-ai/blob/main/search/vertex_search_evaluation.ipynb\">\n",
        "      <img src=\"https://cloud.google.com/ml-engine/images/colab-logo-32px.png\" alt=\"Google Colaboratory logo\"><br> Open in Colab\n",
        "    </a>\n",
        "  </td>\n",
        "  <td style=\"text-align: center\">\n",
        "    <a href=\"https://console.cloud.google.com/vertex-ai/colab/import/https:%2F%2Fraw.githubusercontent.com%2FGoogleCloudPlatform%2Fgenerative-ai%2Fmain%2Fsearch%2Fvertex_search_evaluation.ipynb\">\n",
        "      <img width=\"32px\" src=\"https://lh3.googleusercontent.com/JmcxdQi-qOpctIvWKgPtrzZdJJK-J3sWE1RsfjZNwshCFgE_9fULcNpuXYTilIR2hjwN\" alt=\"Google Cloud Colab Enterprise logo\"><br> Open in Colab Enterprise\n",
        "    </a>\n",
        "  </td>    \n",
        "  <td style=\"text-align: center\">\n",
        "    <a href=\"https://console.cloud.google.com/vertex-ai/workbench/deploy-notebook?download_url=https://raw.githubusercontent.com/GoogleCloudPlatform/generative-ai/main/search/vertex_search_evaluation.ipynb\">\n",
        "      <img src=\"https://lh3.googleusercontent.com/UiNooY4LUgW_oTvpsNhPpQzsstV5W8F7rYgxgGBD85cWJoLmrOzhVs_ksK_vgx40SHs7jCqkTkCk=e14-rj-sc0xffffff-h130-w32\" alt=\"Vertex AI logo\"><br> Open in Workbench\n",
        "    </a>\n",
        "  </td>\n",
        "  <td style=\"text-align: center\">\n",
        "    <a href=\"https://github.com/GoogleCloudPlatform/generative-ai/blob/main/search/vertex_search_evaluation.ipynb\">\n",
        "      <img src=\"https://cloud.google.com/ml-engine/images/github-logo-32px.png\" alt=\"GitHub logo\"><br> View on GitHub\n",
        "    </a>\n",
        "  </td>\n",
        "</table>"
      ]
    },
    {
      "cell_type": "markdown",
      "metadata": {
        "id": "qBQpaP2kZEjn"
      },
      "source": [
        "| | | | |\n",
        "|-|-|-|-|\n",
        "|Author(s) | [Rupjit Chakraborty](https://github.com/lazyprgmr)"
      ]
    },
    {
      "cell_type": "markdown",
      "metadata": {
        "id": "73910fb2b22b"
      },
      "source": [
        "# Overview"
      ]
    },
    {
      "cell_type": "markdown",
      "metadata": {
        "id": "5adf27b9f06f"
      },
      "source": [
        "This notebook demonstrates evaluation of search results for Vertex AI Agent Builder Search"
      ]
    },
    {
      "cell_type": "markdown",
      "metadata": {
        "id": "u99ipT8HJoqE"
      },
      "source": [
        "## Getting Started"
      ]
    },
    {
      "cell_type": "markdown",
      "metadata": {
        "id": "kCaWRKbUotUL"
      },
      "source": [
        "### Install required packages\n"
      ]
    },
    {
      "cell_type": "code",
      "execution_count": null,
      "metadata": {
        "id": "7c68fc21c0e0"
      },
      "outputs": [],
      "source": [
        "%pip install opendatasets==0.1.22 vertexai==1.70.0 pandas==2.2.3 google-cloud-discoveryengine==0.13.2 ndjson==0.3.1"
      ]
    },
    {
      "cell_type": "markdown",
      "metadata": {
        "id": "UXmrQ2Q4KOJi"
      },
      "source": [
        "### Restart runtime\n",
        "\n",
        "To use the newly installed packages in this Jupyter runtime, you must restart the runtime. You can do this by running the cell below, which restarts the current kernel.\n",
        "\n",
        "The restart might take a minute or longer. After its restarted, continue to the next step.\n"
      ]
    },
    {
      "cell_type": "code",
      "execution_count": null,
      "metadata": {
        "id": "zF-SsQAfZWhJ"
      },
      "outputs": [],
      "source": [
        "# Restart kernel after installs so that your environment can access the new packages\n",
        "import IPython\n",
        "\n",
        "app = IPython.Application.instance()\n",
        "app.kernel.do_shutdown(True)"
      ]
    },
    {
      "cell_type": "markdown",
      "metadata": {
        "id": "Q5pJHyT-ZWhK"
      },
      "source": [
        "<div class=\"alert alert-block alert-warning\">\n",
        "<b>⚠️ The kernel is going to restart. Please wait until it is finished before continuing to the next step. ⚠️</b>\n",
        "</div>\n"
      ]
    },
    {
      "cell_type": "markdown",
      "metadata": {
        "id": "I5VhU_S5ZWhK"
      },
      "source": [
        "### Authenticate your notebook environment (Colab only)\n",
        "\n",
        "If you are running this notebook on Google Colab, run the cell below to authenticate your environment.\n"
      ]
    },
    {
      "cell_type": "code",
      "execution_count": null,
      "metadata": {
        "id": "cil9JtGHKEXv"
      },
      "outputs": [],
      "source": [
        "import sys\n",
        "\n",
        "if \"google.colab\" in sys.modules:\n",
        "    from google.colab import auth\n",
        "\n",
        "    auth.authenticate_user()\n",
        "    print(\"Authenticated\")"
      ]
    },
    {
      "cell_type": "markdown",
      "metadata": {
        "id": "_fiL-DovoB8C"
      },
      "source": [
        "### Set Google Cloud project information and initialize Vertex AI SDK\n",
        "\n",
        "To get started using Vertex AI, you must have an existing Google Cloud project and [enable the Vertex AI API](https://console.cloud.google.com/flows/enableapi?apiid=aiplatform.googleapis.com).\n",
        "\n",
        "Learn more about [setting up a project and a development environment](https://cloud.google.com/vertex-ai/docs/start/cloud-environment).\n"
      ]
    },
    {
      "cell_type": "code",
      "execution_count": null,
      "metadata": {
        "id": "ZicXqcrFLJdp"
      },
      "outputs": [],
      "source": [
        "PROJECT_ID = \"\"  # @param {type:\"string\"}\n",
        "LOCATION = \"\"  # @param {type:\"string\"}\n",
        "MODEL_NAME = \"\"  # @param {type:\"string\"}\n",
        "BUCKET_URI = \"\"  # @param {type:\"string\"}"
      ]
    },
    {
      "cell_type": "markdown",
      "metadata": {
        "id": "Zc8bgArrZWhK"
      },
      "source": [
        "## Import packages"
      ]
    },
    {
      "cell_type": "code",
      "execution_count": null,
      "metadata": {
        "id": "7ef81d473de3"
      },
      "outputs": [],
      "source": [
        "import os\n",
        "\n",
        "from google.api_core.client_options import ClientOptions\n",
        "import google.auth\n",
        "import google.auth.transport.requests\n",
        "from google.cloud import discoveryengine, discoveryengine_v1\n",
        "import ndjson\n",
        "import opendatasets as od\n",
        "import pandas as pd\n",
        "import requests\n",
        "import vertexai\n",
        "\n",
        "vertexai.init(project=PROJECT_ID, location=LOCATION)"
      ]
    },
    {
      "cell_type": "markdown",
      "metadata": {
        "id": "6bc738bab5ff"
      },
      "source": [
        "## Downloading data from Kaggle\n",
        "\n",
        "In order to use the Kaggle public API, you must first authenticate using an API token. Go to the `Account` tab of your user profile and select `Create New Token`. This will trigger the download of `kaggle.json`, a file containing your API credentials.\n",
        "\n",
        "[Source](https://www.kaggle.com/docs/api)\n",
        "\n",
        "Once the `kaggle.json` has been downloaded, move it to this directory where this notebook is present."
      ]
    },
    {
      "cell_type": "code",
      "execution_count": null,
      "metadata": {
        "id": "6edf1eab9fe8"
      },
      "outputs": [],
      "source": [
        "# View the username and key\n",
        "\n",
        "! cat \"kaggle.json\""
      ]
    },
    {
      "cell_type": "code",
      "execution_count": null,
      "metadata": {
        "id": "7e51ed05c087"
      },
      "outputs": [],
      "source": [
        "# Download the data from Kaggle by providing the username and password from \"kaggle.json\"\n",
        "\n",
        "dataset = \"https://www.kaggle.com/datasets/muhammetvarl/seo-sample-data\"\n",
        "od.download(dataset)"
      ]
    },
    {
      "cell_type": "code",
      "execution_count": null,
      "metadata": {
        "id": "cec730d3f1fd"
      },
      "outputs": [],
      "source": [
        "# The downloaded data should be visible in a folder (seo-sample-data)\n",
        "\n",
        "os.listdir()"
      ]
    },
    {
      "cell_type": "code",
      "execution_count": null,
      "metadata": {
        "id": "17c730cc6353"
      },
      "outputs": [],
      "source": [
        "# Load the csv file\n",
        "\n",
        "data = pd.read_csv(\"seo-sample-data/SEO_data.csv\")"
      ]
    },
    {
      "cell_type": "code",
      "execution_count": null,
      "metadata": {
        "id": "4307c558ca56"
      },
      "outputs": [],
      "source": [
        "# Checkout the data\n",
        "\n",
        "data.head()"
      ]
    },
    {
      "cell_type": "code",
      "execution_count": null,
      "metadata": {
        "id": "277c9ac301a0"
      },
      "outputs": [],
      "source": [
        "# Identify the number of unique search queries in the data and the number of search results for each\n",
        "\n",
        "data.groupby([\"words\"]).count()"
      ]
    },
    {
      "cell_type": "code",
      "execution_count": null,
      "metadata": {
        "id": "e6dd56505b43"
      },
      "outputs": [],
      "source": [
        "# For this demonstration we will just take 'five' search terms and 'ten' associated result links\n",
        "num_terms = 5\n",
        "# select first five unique search terms\n",
        "search_terms = data[\"words\"].unique()[:num_terms].tolist()\n",
        "# filter dataframe based on first five unique search terms\n",
        "selected_data = data[data[\"words\"].isin(search_terms)]\n",
        "# select results upto rank 10 for each search term\n",
        "selected_data = selected_data[selected_data[\"rank\"].isin(range(1, 11))]\n",
        "# keep only the words and links column\n",
        "selected_data = selected_data.loc[:, [\"words\", \"links\"]]\n",
        "# view the final data\n",
        "selected_data.head()"
      ]
    },
    {
      "cell_type": "code",
      "execution_count": null,
      "metadata": {
        "id": "43549bf18695"
      },
      "outputs": [],
      "source": [
        "len(selected_data)"
      ]
    },
    {
      "cell_type": "markdown",
      "metadata": {
        "id": "9c5b2c67c571"
      },
      "source": [
        "## Creating a datastore"
      ]
    },
    {
      "cell_type": "markdown",
      "metadata": {
        "id": "0d8bb5adee62"
      },
      "source": [
        "**NOTE**: Make sure the Vertex AI Agent Builder API is [enabled](https://cloud.google.com/generative-ai-app-builder/docs/before-you-begin#turn-on-discovery-engine) before executing the next cell"
      ]
    },
    {
      "cell_type": "code",
      "execution_count": null,
      "metadata": {
        "id": "36451b8b78fd"
      },
      "outputs": [],
      "source": [
        "DATA_STORE_ID = \"\"\n",
        "DS_LOC = \"\""
      ]
    },
    {
      "cell_type": "code",
      "execution_count": null,
      "metadata": {
        "id": "129474cb0e60"
      },
      "outputs": [],
      "source": [
        "# create a data store\n",
        "# Ref: https://cloud.google.com/generative-ai-app-builder/docs/create-data-store-es#website\n",
        "# Instructions for enabling the search api\n",
        "\n",
        "\n",
        "def create_data_store() -> str:\n",
        "    #  For more information, refer to:\n",
        "    # https://cloud.google.com/generative-ai-app-builder/docs/locations#specify_a_multi-region_for_your_data_store\n",
        "    client_options = (\n",
        "        ClientOptions(api_endpoint=f\"{DS_LOC}-discoveryengine.googleapis.com\")\n",
        "        if DS_LOC != \"global\"\n",
        "        else None\n",
        "    )\n",
        "\n",
        "    # Create a client\n",
        "    client = discoveryengine.DataStoreServiceClient(client_options=client_options)\n",
        "\n",
        "    # The full resource name of the collection\n",
        "    # e.g. projects/{project}/locations/{location}/collections/default_collection\n",
        "    parent = client.collection_path(\n",
        "        project=PROJECT_ID,\n",
        "        location=DS_LOC,\n",
        "        collection=\"default_collection\",\n",
        "    )\n",
        "\n",
        "    data_store = discoveryengine.DataStore(\n",
        "        display_name=\"Search Evaluation Demo\",\n",
        "        # Options: GENERIC, MEDIA\n",
        "        industry_vertical=discoveryengine.IndustryVertical.GENERIC,\n",
        "        # Options: SOLUTION_TYPE_RECOMMENDATION, SOLUTION_TYPE_SEARCH, SOLUTION_TYPE_CHAT, SOLUTION_TYPE_GENERATIVE_CHAT\n",
        "        solution_types=[discoveryengine.SolutionType.SOLUTION_TYPE_SEARCH],\n",
        "        # TODO(developer): Update content_config based on data store type.\n",
        "        # Options: NO_CONTENT, CONTENT_REQUIRED, PUBLIC_WEBSITE\n",
        "        content_config=discoveryengine.DataStore.ContentConfig.PUBLIC_WEBSITE,\n",
        "    )\n",
        "\n",
        "    request = discoveryengine.CreateDataStoreRequest(\n",
        "        parent=parent,\n",
        "        data_store_id=DATA_STORE_ID,\n",
        "        data_store=data_store,\n",
        "        # Optional: For Advanced Site Search Only\n",
        "        # create_advanced_site_search=True,\n",
        "    )\n",
        "\n",
        "    # Make the request\n",
        "    operation = client.create_data_store(request=request)\n",
        "\n",
        "    print(f\"Waiting for operation to complete: {operation.operation.name}\")\n",
        "    response = operation.result()\n",
        "\n",
        "    # After the operation is complete,\n",
        "    # get information from operation metadata\n",
        "    metadata = discoveryengine.CreateDataStoreMetadata(operation.metadata)\n",
        "\n",
        "    # Handle the response\n",
        "    print(response)\n",
        "    print(metadata)\n",
        "\n",
        "    return operation.operation.name"
      ]
    },
    {
      "cell_type": "code",
      "execution_count": null,
      "metadata": {
        "id": "9e7de4aefd92"
      },
      "outputs": [],
      "source": [
        "create_data_store()"
      ]
    },
    {
      "cell_type": "markdown",
      "metadata": {
        "id": "bef33eddbe1e"
      },
      "source": [
        "## Importing data into datastore"
      ]
    },
    {
      "cell_type": "code",
      "execution_count": null,
      "metadata": {
        "id": "9d01de85bbc5"
      },
      "outputs": [],
      "source": [
        "# Import data into the datastore\n",
        "# Ref: https://cloud.google.com/generative-ai-app-builder/docs/create-data-store-es#website\n",
        "\n",
        "# NOTE: Do not include http or https protocol in the URI pattern\n",
        "# eg. uri_pattern = \"cloud.google.com/generative-ai-app-builder/docs/*\"\n",
        "uri_patterns = selected_data[\"links\"].values.tolist()\n",
        "print(f\"Number of urls to index: {len(uri_pattern)}\")\n",
        "\n",
        "#  For more information, refer to:\n",
        "# https://cloud.google.com/generative-ai-app-builder/docs/locations#specify_a_multi-region_for_your_data_store\n",
        "client_options = (\n",
        "    ClientOptions(api_endpoint=f\"{location}-discoveryengine.googleapis.com\")\n",
        "    if DS_LOC != \"global\"\n",
        "    else None\n",
        ")\n",
        "\n",
        "# Create a client\n",
        "client = discoveryengine_v1.SiteSearchEngineServiceClient(client_options=client_options)\n",
        "\n",
        "# The full resource name of the data store\n",
        "# e.g. projects/{project}/locations/{location}/dataStores/{data_store_id}\n",
        "site_search_engine = client.site_search_engine_path(\n",
        "    project=PROJECT_ID, location=DS_LOC, data_store=DATA_STORE_ID\n",
        ")\n",
        "\n",
        "\n",
        "target_sites = []\n",
        "for uri_pattern in uri_patterns:\n",
        "    # Remove the protocol information\n",
        "    if uri_pattern.startswith(\"https://\"):\n",
        "        uri_pattern = uri_pattern.replace(\"https://\", \"\")\n",
        "    elif uri_pattern.startswith(\"http://\"):\n",
        "        uri_pattern = uri_pattern.replace(\"http://\", \"\")\n",
        "\n",
        "    # Create the TargetSite object\n",
        "    target_site = discoveryengine_v1.TargetSite(\n",
        "        provided_uri_pattern=uri_pattern,\n",
        "        # Options: INCLUDE, EXCLUDE\n",
        "        type_=discoveryengine_v1.TargetSite.Type.INCLUDE,\n",
        "        exact_match=False,\n",
        "    )\n",
        "\n",
        "    # Create a CreateTargetSiteRequest object from the TargetSite object and then save it in a list\n",
        "    target_sites.append(\n",
        "        discoveryengine_v1.CreateTargetSiteRequest(\n",
        "            parent=f\"projects/{PROJECT_ID}/locations/{DS_LOC}/collections/default_collection/dataStores/{DATA_STORE_ID}/siteSearchEngine\",\n",
        "            target_site=target_site,\n",
        "        )\n",
        "    )\n",
        "\n",
        "# Create the batch request object (0 < batch size <= 20)\n",
        "batch_size = 10\n",
        "for idx in range(0, len(target_sites), batch_size):\n",
        "    target_sites_batch = target_sites[idx : idx + batch_size]\n",
        "    batch_create_site_req = discoveryengine_v1.BatchCreateTargetSitesRequest(\n",
        "        parent=f\"projects/{PROJECT_ID}/locations/{DS_LOC}/collections/default_collection/dataStores/{DATA_STORE_ID}/siteSearchEngine\",\n",
        "        requests=target_sites_batch,\n",
        "    )\n",
        "\n",
        "    # Make the request\n",
        "    operation = client.batch_create_target_sites(request=batch_create_site_req)\n",
        "\n",
        "    print(f\"Waiting for operation to complete: {operation.operation.name}\")\n",
        "    response = operation.result()\n",
        "\n",
        "    # After the operation is complete,\n",
        "    # get information from operation metadata\n",
        "    metadata = discoveryengine_v1.CreateTargetSiteMetadata(operation.metadata)\n",
        "\n",
        "    # Handle the response\n",
        "    print(response)\n",
        "    print(metadata)"
      ]
    },
    {
      "cell_type": "markdown",
      "metadata": {
        "id": "6e0f6254d4d5"
      },
      "source": [
        "## Preparing data for evaluation"
      ]
    },
    {
      "cell_type": "code",
      "execution_count": null,
      "metadata": {
        "id": "52664d14c272"
      },
      "outputs": [],
      "source": [
        "eval_dict = {}\n",
        "search_terms = selected_data[\"words\"].unique()\n",
        "for s in search_terms:\n",
        "    eval_dict[s] = selected_data[selected_data[\"words\"] == s][\"links\"].tolist()"
      ]
    },
    {
      "cell_type": "code",
      "execution_count": null,
      "metadata": {
        "id": "57e9e79f5bb5"
      },
      "outputs": [],
      "source": [
        "eval_dict"
      ]
    },
    {
      "cell_type": "code",
      "execution_count": null,
      "metadata": {
        "id": "93d0da538caa"
      },
      "outputs": [],
      "source": [
        "def create_query_datum(question: str, uris: list[str]) -> dict:\n",
        "    \"\"\"Create a data point for search evaluation.\n",
        "\n",
        "    Args:\n",
        "        question: The test question\n",
        "        uris: The links containing the answer for the test question\n",
        "\n",
        "    Returns:\n",
        "        A dict in a format defined in\n",
        "        https://cloud.google.com/generative-ai-app-builder/docs/evaluate-search-quality#bq-gcs-templates\n",
        "    \"\"\"\n",
        "    query_set = {\"queryEntry\": {\"query\": \"\", \"targets\": []}}\n",
        "    query_set[\"queryEntry\"][\"query\"] = question\n",
        "    query_set[\"queryEntry\"][\"targets\"] = [{\"uri\": uri} for uri in uris]\n",
        "    return query_set"
      ]
    },
    {
      "cell_type": "code",
      "execution_count": null,
      "metadata": {
        "id": "91a4736a589e"
      },
      "outputs": [],
      "source": [
        "# Convert the test data to n-dimensional json\n",
        "\n",
        "\n",
        "test_data_formatted = []\n",
        "\n",
        "for ques, refs in eval_dict.items():\n",
        "    test_data_formatted.append(create_query_datum(ques, refs))\n",
        "\n",
        "with open(\"test_data.ndjson\", \"w\") as f_handle:\n",
        "    ndjson.dump(test_data_formatted, f_handle)"
      ]
    },
    {
      "cell_type": "code",
      "execution_count": null,
      "metadata": {
        "id": "0e88c4413814"
      },
      "outputs": [],
      "source": [
        "# Move the n-dimensional json to GCS\n",
        "\n",
        "! gsutil cp test_data.ndjson $BUCKET_URI"
      ]
    },
    {
      "cell_type": "markdown",
      "metadata": {
        "id": "26c087cedd1b"
      },
      "source": [
        "## Query set creation"
      ]
    },
    {
      "cell_type": "code",
      "execution_count": null,
      "metadata": {
        "id": "eb6b98713b69"
      },
      "outputs": [],
      "source": [
        "def get_access_token():\n",
        "    creds, project = google.auth.default()\n",
        "\n",
        "    # creds.valid is False, and creds.token is None\n",
        "    # Need to refresh credentials to populate those\n",
        "    auth_req = google.auth.transport.requests.Request()\n",
        "    creds.refresh(auth_req)\n",
        "\n",
        "    return creds.token"
      ]
    },
    {
      "cell_type": "code",
      "execution_count": null,
      "metadata": {
        "id": "1bf6b763e281"
      },
      "outputs": [],
      "source": [
        "QUERY_SET_ID = \"\"\n",
        "DISPLAY_NAME = \"\"\n",
        "\n",
        "headers = {\n",
        "    \"Authorization\": f\"Bearer {get_access_token()}\",\n",
        "    \"Content-Type\": \"application/json\",\n",
        "    \"X-Goog-User-Project\": PROJECT_ID,\n",
        "}\n",
        "query_set_uri = f\"https://discoveryengine.googleapis.com/v1beta/projects/{PROJECT_ID}/locations/{DS_LOC}/sampleQuerySets?sampleQuerySetId={QUERY_SET_ID}\"\n",
        "data = {\"displayName\": DISPLAY_NAME}\n",
        "query_set_creation_response = requests.post(\n",
        "    url=query_set_uri,\n",
        "    headers=headers,\n",
        "    json=data,\n",
        ")\n",
        "\n",
        "# Check the response status code\n",
        "if query_set_creation_response.status_code == 200:\n",
        "    print(query_set_creation_response.json())  # Print the JSON response\n",
        "else:\n",
        "    print(f\"Request failed with status code: {query_set_creation_response.status_code}\")\n",
        "    print(query_set_creation_response.text)  # Print the error message"
      ]
    },
    {
      "cell_type": "markdown",
      "metadata": {
        "id": "1fc67e617719"
      },
      "source": [
        "## Importing the sample query data"
      ]
    },
    {
      "cell_type": "code",
      "execution_count": null,
      "metadata": {
        "id": "e76ea667db4f"
      },
      "outputs": [],
      "source": [
        "headers = {\n",
        "    \"Authorization\": f\"Bearer {get_access_token()}\",\n",
        "    \"Content-Type\": \"application/json\",\n",
        "    \"X-Goog-User-Project\": PROJECT_ID,\n",
        "}\n",
        "query_set_import_uri = f\"https://discoveryengine.googleapis.com/v1beta/projects/{PROJECT_ID}/locations/{DS_LOC}/sampleQuerySets/{QUERY_SET_ID}/sampleQueries:import\"\n",
        "data = {\n",
        "    \"gcsSource\": {\n",
        "        \"inputUris\": [f\"{BUCKET_URI}/test_data.ndjson\"],\n",
        "    },\n",
        "    \"errorConfig\": {\"gcsPrefix\": f\"{BUCKET_URI}/errors/\"},\n",
        "}\n",
        "sample_data_import_response = requests.post(\n",
        "    url=query_set_import_uri,\n",
        "    headers=headers,\n",
        "    json=data,\n",
        ")\n",
        "\n",
        "# Check the response status code\n",
        "if sample_data_import_response.status_code == 200:\n",
        "    print(sample_data_import_response.json())  # Print the JSON response\n",
        "else:\n",
        "    print(f\"Request failed with status code: {sample_data_import_response.status_code}\")\n",
        "    print(sample_data_import_response.text)  # Print the error message"
      ]
    },
    {
      "cell_type": "code",
      "execution_count": null,
      "metadata": {
        "id": "33a15bc26770"
      },
      "outputs": [],
      "source": [
        "sample_data_import_response.json()[\"name\"]"
      ]
    },
    {
      "cell_type": "markdown",
      "metadata": {
        "id": "887ad1ec790f"
      },
      "source": [
        "### Check status of data import operation"
      ]
    },
    {
      "cell_type": "code",
      "execution_count": null,
      "metadata": {
        "id": "c73f1dfc37f5"
      },
      "outputs": [],
      "source": [
        "headers = {\n",
        "    \"Authorization\": f\"Bearer {get_access_token()}\",\n",
        "}\n",
        "data_import_status_uri = f\"https://discoveryengine.googleapis.com/v1beta/{sample_data_import_response.json()['name']}\"\n",
        "import_status_response = requests.get(\n",
        "    url=data_import_status_uri,\n",
        "    headers=headers,\n",
        ")\n",
        "\n",
        "# Check the response status code\n",
        "if import_status_response.status_code == 200:\n",
        "    print(import_status_response.json())  # Print the JSON response\n",
        "else:\n",
        "    print(f\"Request failed with status code: {import_status_response.status_code}\")\n",
        "    print(import_status_response.text)  # Print the error message"
      ]
    },
    {
      "cell_type": "markdown",
      "metadata": {
        "id": "96e3db53625e"
      },
      "source": [
        "## Search quality evaluation\n",
        "\n",
        "Before running the next cell [create a search app and connect it to the datastore](https://cloud.google.com/generative-ai-app-builder/docs/create-engine-es).\n",
        "Then copy the `ID` of the app and assign it to the `APP_ID` constant below."
      ]
    },
    {
      "cell_type": "code",
      "execution_count": null,
      "metadata": {
        "id": "aad83c233f1f"
      },
      "outputs": [],
      "source": [
        "APP_ID = \"\"\n",
        "\n",
        "headers = {\n",
        "    \"Authorization\": f\"Bearer {get_access_token()}\",\n",
        "    \"Content-Type\": \"application/json\",\n",
        "    \"X-Goog-User-Project\": PROJECT_ID,\n",
        "}\n",
        "search_evaluation_uri = f\"https://discoveryengine.googleapis.com/v1beta/projects/{PROJECT_ID}/locations/{DS_LOC}/evaluations\"\n",
        "data = {\n",
        "    \"evaluationSpec\": {\n",
        "        \"querySetSpec\": {\n",
        "            \"sampleQuerySet\": f\"projects/{PROJECT_ID}/locations/{DS_LOC}/sampleQuerySets/{QUERY_SET_ID}\"\n",
        "        },\n",
        "        \"searchRequest\": {\n",
        "            \"servingConfig\": f\"projects/{PROJECT_ID}/locations/{DS_LOC}/collections/default_collection/engines/{APP_ID}/servingConfigs/default_search\"\n",
        "        },\n",
        "    }\n",
        "}\n",
        "search_eval_response = requests.post(\n",
        "    url=search_evaluation_uri,\n",
        "    headers=headers,\n",
        "    json=data,\n",
        ")\n",
        "\n",
        "# Check the response status code\n",
        "if search_eval_response.status_code == 200:\n",
        "    print(search_eval_response.json())  # Print the JSON response\n",
        "else:\n",
        "    print(f\"Request failed with status code: {search_eval_response.status_code}\")\n",
        "    print(search_eval_response.text)  # Print the error message"
      ]
    },
    {
      "cell_type": "code",
      "execution_count": null,
      "metadata": {
        "id": "e5e3b4dc7aac"
      },
      "outputs": [],
      "source": [
        "search_eval_response.json()[\"response\"][\"name\"]"
      ]
    },
    {
      "cell_type": "code",
      "execution_count": null,
      "metadata": {
        "id": "f532ae451c1f"
      },
      "outputs": [],
      "source": [
        "headers = {\n",
        "    \"Authorization\": f\"Bearer {get_access_token()}\",\n",
        "    \"Content-Type\": \"application/json\",\n",
        "    \"X-Goog-User-Project\": PROJECT_ID,\n",
        "}\n",
        "\n",
        "evaluation_status_url = f\"https://discoveryengine.googleapis.com/v1beta/{search_eval_response.json()['response']['name']}\"\n",
        "eval_status_response = requests.get(url=evaluation_status_url, headers=headers)\n",
        "\n",
        "# Check the response status code\n",
        "if eval_status_response.status_code == 200:\n",
        "    print(eval_status_response.json())  # Print the JSON response\n",
        "else:\n",
        "    print(f\"Request failed with status code: {eval_status_response.status_code}\")\n",
        "    print(eval_status_response.text)  # Print the error message"
      ]
    },
    {
      "cell_type": "markdown",
      "metadata": {
        "id": "a1c9ef5ea63d"
      },
      "source": [
        "## Results\n",
        "\n",
        "### Aggregate results"
      ]
    },
    {
      "cell_type": "code",
      "execution_count": null,
      "metadata": {
        "id": "5e69adffbfcf"
      },
      "outputs": [],
      "source": [
        "headers = {\n",
        "    \"Authorization\": f\"Bearer {get_access_token()}\",\n",
        "    \"Content-Type\": \"application/json\",\n",
        "    \"X-Goog-User-Project\": PROJECT_ID,\n",
        "}\n",
        "\n",
        "search_results_url = f\"https://discoveryengine.googleapis.com/v1beta/{search_eval_response.json()['response']['name']}\"\n",
        "aggregate_result_response = requests.get(url=search_results_url, headers=headers)\n",
        "\n",
        "# Check the response status code\n",
        "if aggregate_result_response.status_code == 200:\n",
        "    print(aggregate_result_response.json())  # Print the JSON response\n",
        "else:\n",
        "    print(f\"Request failed with status code: {aggregate_result_response.status_code}\")\n",
        "    print(aggregate_result_response.text)  # Print the error message"
      ]
    },
    {
      "cell_type": "code",
      "execution_count": null,
      "metadata": {
        "id": "0ea5f0d79867"
      },
      "outputs": [],
      "source": [
        "aggregate_result_response.json()[\"qualityMetrics\"]"
      ]
    },
    {
      "cell_type": "markdown",
      "metadata": {
        "id": "04a90fe1dbc6"
      },
      "source": [
        "### Query level results"
      ]
    },
    {
      "cell_type": "code",
      "execution_count": null,
      "metadata": {
        "id": "829db19aa1f2"
      },
      "outputs": [],
      "source": [
        "headers = {\n",
        "    \"Authorization\": f\"Bearer {get_access_token()}\",\n",
        "    \"Content-Type\": \"application/json\",\n",
        "    \"X-Goog-User-Project\": PROJECT_ID,\n",
        "}\n",
        "\n",
        "eval_id = search_eval_response.json()[\"response\"][\"name\"].split(\"/\")[-1]\n",
        "search_results_detailed_url = f\"https://discoveryengine.googleapis.com/v1beta/projects/{PROJECT_ID}/locations/global/evaluations/{eval_id}:listResults\"\n",
        "detailed_result_response = requests.get(\n",
        "    url=search_results_detailed_url, headers=headers\n",
        ")\n",
        "\n",
        "# Check the response status code\n",
        "if detailed_result_response.status_code == 200:\n",
        "    print(detailed_result_response.json())  # Print the JSON response\n",
        "else:\n",
        "    print(f\"Request failed with status code: {detailed_result_response.status_code}\")\n",
        "    print(detailed_result_response.text)  # Print the error message"
      ]
    }
  ],
  "metadata": {
    "colab": {
      "name": "vertex_search_evaluation.ipynb",
      "toc_visible": true
    },
    "kernelspec": {
      "display_name": "Python 3",
      "name": "python3"
    }
  },
  "nbformat": 4,
  "nbformat_minor": 0
}
