{
  "cells": [
    {
      "cell_type": "code",
      "execution_count": null,
      "metadata": {
        "id": "ur8xi4C7S06n"
      },
      "outputs": [],
      "source": [
        "# Copyright 2024 Google LLC\n",
        "#\n",
        "# Licensed under the Apache License, Version 2.0 (the \"License\");\n",
        "# you may not use this file except in compliance with the License.\n",
        "# You may obtain a copy of the License at\n",
        "#\n",
        "#     https://www.apache.org/licenses/LICENSE-2.0\n",
        "#\n",
        "# Unless required by applicable law or agreed to in writing, software\n",
        "# distributed under the License is distributed on an \"AS IS\" BASIS,\n",
        "# WITHOUT WARRANTIES OR CONDITIONS OF ANY KIND, either express or implied.\n",
        "# See the License for the specific language governing permissions and\n",
        "# limitations under the License."
      ]
    },
    {
      "cell_type": "markdown",
      "metadata": {
        "id": "84f0f73a0f76"
      },
      "source": [
        "# Handling large-scale embedding generation for Vertex AI Vector Search\n",
        "\n",
        "<table align=\"left\">\n",
        "  <td style=\"text-align: center\">\n",
        "    <a href=\"https://colab.research.google.com/github/GoogleCloudPlatform/generative-ai/blob/main/embeddings/generate-embs-for-vvs.ipynb\">\n",
        "      <img width=\"32px\" src=\"https://www.gstatic.com/pantheon/images/bigquery/welcome_page/colab-logo.svg\" alt=\"Google Colaboratory logo\"><br> Open in Colab\n",
        "    </a>\n",
        "  </td>\n",
        "  <td style=\"text-align: center\">\n",
        "    <a href=\"https://console.cloud.google.com/vertex-ai/colab/import/https:%2F%2Fraw.githubusercontent.com%2FGoogleCloudPlatform%2Fgenerative-ai%2Fmain%2Fembeddings%2Fgenerate-embs-for-vvs.ipynb\">\n",
        "      <img width=\"32px\" src=\"https://lh3.googleusercontent.com/JmcxdQi-qOpctIvWKgPtrzZdJJK-J3sWE1RsfjZNwshCFgE_9fULcNpuXYTilIR2hjwN\" alt=\"Google Cloud Colab Enterprise logo\"><br> Open in Colab Enterprise\n",
        "    </a>\n",
        "  </td>\n",
        "  <td style=\"text-align: center\">\n",
        "    <a href=\"https://console.cloud.google.com/vertex-ai/workbench/deploy-notebook?download_url=https://raw.githubusercontent.com/GoogleCloudPlatform/generative-ai/main/embeddings/generate-embs-for-vvs.ipynb\">\n",
        "      <img src=\"https://www.gstatic.com/images/branding/gcpiconscolors/vertexai/v1/32px.svg\" alt=\"Vertex AI logo\"><br> Open in Vertex AI Workbench\n",
        "    </a>\n",
        "  </td>\n",
        "  <td style=\"text-align: center\">\n",
        "    <a href=\"https://github.com/GoogleCloudPlatform/generative-ai/blob/main/embeddings/generate-embs-for-vvs.ipynb\">\n",
        "      <img width=\"32px\" src=\"https://upload.wikimedia.org/wikipedia/commons/9/91/Octicons-mark-github.svg\" alt=\"GitHub logo\"><br> View on GitHub\n",
        "    </a>\n",
        "  </td>\n",
        "</table>\n",
        "\n",
        "<div style=\"clear: both;\"></div>\n",
        "\n",
        "<b>Share to:</b>\n",
        "\n",
        "<a href=\"https://www.linkedin.com/sharing/share-offsite/?url=https%3A//github.com/GoogleCloudPlatform/generative-ai/blob/main/embeddings/generate-embs-for-vvs.ipynb\" target=\"_blank\">\n",
        "  <img width=\"20px\" src=\"https://upload.wikimedia.org/wikipedia/commons/8/81/LinkedIn_icon.svg\" alt=\"LinkedIn logo\">\n",
        "</a>\n",
        "\n",
        "<a href=\"https://bsky.app/intent/compose?text=https%3A//github.com/GoogleCloudPlatform/generative-ai/blob/main/embeddings/generate-embs-for-vvs.ipynb\" target=\"_blank\">\n",
        "  <img width=\"20px\" src=\"https://upload.wikimedia.org/wikipedia/commons/7/7a/Bluesky_Logo.svg\" alt=\"Bluesky logo\">\n",
        "</a>\n",
        "\n",
        "<a href=\"https://twitter.com/intent/tweet?url=https%3A//github.com/GoogleCloudPlatform/generative-ai/blob/main/embeddings/generate-embs-for-vvs.ipynb\" target=\"_blank\">\n",
        "  <img width=\"20px\" src=\"https://upload.wikimedia.org/wikipedia/commons/5/53/X_logo_2023_original.svg\" alt=\"X logo\">\n",
        "</a>\n",
        "\n",
        "<a href=\"https://reddit.com/submit?url=https%3A//github.com/GoogleCloudPlatform/generative-ai/blob/main/embeddings/generate-embs-for-vvs.ipynb\" target=\"_blank\">\n",
        "  <img width=\"20px\" src=\"https://redditinc.com/hubfs/Reddit%20Inc/Brand/Reddit_Logo.png\" alt=\"Reddit logo\">\n",
        "</a>\n",
        "\n",
        "<a href=\"https://www.facebook.com/sharer/sharer.php?u=https%3A//github.com/GoogleCloudPlatform/generative-ai/blob/main/embeddings/generate-embs-for-vvs.ipynb\" target=\"_blank\">\n",
        "  <img width=\"20px\" src=\"https://upload.wikimedia.org/wikipedia/commons/5/51/Facebook_f_logo_%282019%29.svg\" alt=\"Facebook logo\">\n",
        "</a>\n",
        "\n",
        "| | |\n",
        "|-|-|\n",
        "| Author(s) |  [Kaz Sato](https://github.com/kazunori279/) |"
      ]
    },
    {
      "cell_type": "markdown",
      "metadata": {
        "id": "tvgnzT1CKxrO"
      },
      "source": [
        "\n",
        "## Overview\n",
        "\n",
        "This tutorial provides a simple example of how to efficiently generate text and multimodal embeddings for millions of items on a notebook, using [Vertex AI Embeddings API](https://cloud.google.com/vertex-ai/generative-ai/docs/embeddings) and [Vector Search](https://cloud.google.com/vertex-ai/docs/vector-search/overview).\n",
        "\n",
        "Embeddings API provides [batch predictions](https://cloud.google.com/vertex-ai/generative-ai/docs/embeddings/batch-prediction-genai-embeddings#generative-ai-batch-embedding-python_vertex_ai_sdk) for generating text embeddings for large datasets, but there are limitations such as 1) some models including multimodal and multilingual are not supported, and 2) you can not specify [task types](https://cloud.google.com/vertex-ai/generative-ai/docs/embeddings/task-types) for the text embeddings. For those cases, you may find this notebook useful.\n",
        "\n",
        "### Things to consider\n",
        "\n",
        "When processing a large dataset to generate embeddings, you'll need code that does:\n",
        "\n",
        "1. **Rate Limiting**: Control the frequency of your API calls to stay within your usage limits. This prevents exceeding quotas and ensures continuous processing for the large dataset.\n",
        "1. **Multithreading**: Process data and make API calls concurrently. This maximizes your quota usage and reduces the impact of latency, speeding up the overall process.\n",
        "1. **Checkpointing**: To avoid starting from scratch if an error occurs, Save the progress periodically. This lets you resume from the last saved point.\n",
        "\n",
        "This tutorial provides a straightforward example of how to implement these techniques effectively. You can choose the size of sample dataset from 10K, 100K or 1M items. With the default quota limit of Embedding API (as of Dec 2024), this example can generate:\n",
        "\n",
        "- 10K text embeddings in a few minutes\n",
        "- 100K text embeddings in roughly 5 minutes\n",
        "- 1M text embeddings in roughly one hour\n",
        "\n",
        "**Note**: This approach is intended for development purposes only. For production environments, consider building a robust MLOps pipeline with [Vertex AI Pipelines](https://cloud.google.com/vertex-ai/docs/pipelines/introduction) and [Dataflow](https://cloud.google.com/products/dataflow) to manage your embedding generation workflow."
      ]
    },
    {
      "cell_type": "markdown",
      "source": [
        "## Understanding quota for Embeddings API\n",
        "\n",
        "When using any Vertex AI API extensively, it's essential to ensure you have enough quota for your API calls. For the Embeddings API, the following pages detail the relevant quotas (Quota values listed below are current for us-central1 as of December 2024, but each region has different values and may change at any time. Please check the individual pages for the most up-to-date information).\n",
        "\n",
        "### [Quotas by region and by model](https://cloud.google.com/vertex-ai/generative-ai/docs/quotas#view-the-quotas-by-region-and-by-model)\n",
        "\n",
        "- base_model: textembedding-gecko\t**1,500 requests per minute**\t(region: us-central1)\n",
        "- base_model: multimodalembedding\t**120 requests per minute** (region: us-central1)\n",
        "\n",
        "These are quotas that limits the number of API calls you can make. If you exceed this limit, you'll encounter ResourceExhausted errors. We will cover how to implement \"throttling\" in a later section to prevent this from happening. This will involve using code to control the rate of your API calls and stay within the quota.\n",
        "\n",
        "In many cases, you might need to request a quota increase to generate a large number of embeddings in a timely manner.  See the [View and manage quotas](https://cloud.google.com/docs/quotas/view-manage) page for instructions on how to check your current quota values and make increase requests.\n",
        "\n",
        "### [Text embedding limits](https://cloud.google.com/vertex-ai/generative-ai/docs/quotas#text-embedding-limits)\n",
        "\n",
        "- Each text embedding model request can have up to **250 input texts**\n",
        "- **20,000 tokens per request**\n",
        "\n",
        "This is the limits on the number of texts (or tokens of the texts) you can send with a single API call. Sending too many at once, such as the maximums shown above, can cause processing delays and make it difficult to monitor system health. We'll discuss strategies for finding the right balance later on."
      ],
      "metadata": {
        "id": "W_PpmLpTUd_O"
      }
    },
    {
      "cell_type": "markdown",
      "metadata": {
        "id": "61RBz8LLbxCR"
      },
      "source": [
        "## Get started\n",
        "\n",
        "Let's get started. In this section, we'll set up the necessary libraries and environment variables for this tutorial."
      ]
    },
    {
      "cell_type": "markdown",
      "metadata": {
        "id": "No17Cw5hgx12"
      },
      "source": [
        "### Install Vertex AI SDK and other required packages\n"
      ]
    },
    {
      "cell_type": "markdown",
      "source": [
        "This line installs the Google Cloud AI Platform library, which is necessary for interacting with Vertex AI services, including the Embeddings API."
      ],
      "metadata": {
        "id": "Gha9AHphiR-M"
      }
    },
    {
      "cell_type": "code",
      "execution_count": null,
      "metadata": {
        "id": "tFy3H3aPgx12"
      },
      "outputs": [],
      "source": [
        "%pip install --upgrade --user --quiet google-cloud-aiplatform"
      ]
    },
    {
      "cell_type": "markdown",
      "metadata": {
        "id": "R5Xep4W9lq-Z"
      },
      "source": [
        "### Restart runtime\n",
        "\n",
        "To use the newly installed packages in this Jupyter runtime, you must restart the runtime. You can do this by running the cell below, which restarts the current kernel.\n",
        "\n",
        "The restart might take a minute or longer. After it's restarted, continue to the next step."
      ]
    },
    {
      "cell_type": "code",
      "execution_count": 2,
      "metadata": {
        "id": "XRvKdaPDTznN",
        "colab": {
          "base_uri": "https://localhost:8080/"
        },
        "outputId": "edacd1f4-6335-4e7a-83e8-35ee5b5d3079"
      },
      "outputs": [
        {
          "output_type": "execute_result",
          "data": {
            "text/plain": [
              "{'status': 'ok', 'restart': True}"
            ]
          },
          "metadata": {},
          "execution_count": 2
        }
      ],
      "source": [
        "import IPython\n",
        "\n",
        "app = IPython.Application.instance()\n",
        "app.kernel.do_shutdown(True)"
      ]
    },
    {
      "cell_type": "markdown",
      "metadata": {
        "id": "SbmM4z7FOBpM"
      },
      "source": [
        "<div class=\"alert alert-block alert-warning\">\n",
        "<b>⚠️ The kernel is going to restart. In Colab or Colab Enterprise, you might see an error message that says \"Your session crashed for an unknown reason.\" This is expected. Wait until it's finished before continuing to the next step. ⚠️</b>\n",
        "</div>\n"
      ]
    },
    {
      "cell_type": "markdown",
      "metadata": {
        "id": "dmWOrTJ3gx13"
      },
      "source": [
        "### Authenticate your notebook environment (Colab only)\n",
        "\n",
        "If you're running this notebook on Google Colab, run the cell below to authenticate your environment."
      ]
    },
    {
      "cell_type": "code",
      "execution_count": null,
      "metadata": {
        "id": "NyKGtVQjgx13"
      },
      "outputs": [],
      "source": [
        "import sys\n",
        "\n",
        "if \"google.colab\" in sys.modules:\n",
        "    from google.colab import auth\n",
        "\n",
        "    auth.authenticate_user()"
      ]
    },
    {
      "cell_type": "markdown",
      "metadata": {
        "id": "DF4l8DTdWgPY"
      },
      "source": [
        "### Set Google Cloud project information and initialize Vertex AI SDK\n",
        "\n",
        "To get started using Vertex AI, you must have an existing Google Cloud project and [enable the Vertex AI API](https://console.cloud.google.com/flows/enableapi?apiid=aiplatform.googleapis.com). Learn more about [setting up a project and a development environment](https://cloud.google.com/vertex-ai/docs/start/cloud-environment).\n",
        "\n",
        "The following code defines project configuration variables. If you're running this notebook on Google Colab, you'll need to enter the `PROJECT_ID` manually. However, on Colab Enterprise and Vertex AI Workbench, it will be detected automatically. The code also generates a unique session ID based on the current timestamp."
      ]
    },
    {
      "cell_type": "code",
      "execution_count": 1,
      "metadata": {
        "id": "Nqwi-5ufWp_B",
        "colab": {
          "base_uri": "https://localhost:8080/",
          "height": 35
        },
        "outputId": "f35500a3-c468-4d14-83d8-0613144556f1"
      },
      "outputs": [
        {
          "output_type": "execute_result",
          "data": {
            "text/plain": [
              "'Unique ID for this session is: 0111223214'"
            ],
            "application/vnd.google.colaboratory.intrinsic+json": {
              "type": "string"
            }
          },
          "metadata": {},
          "execution_count": 1
        }
      ],
      "source": [
        "# Use the environment variable if the user doesn't provide Project ID.\n",
        "import os\n",
        "\n",
        "PROJECT_ID = \"\"  # @param {type: \"string\", placeholder: \"[your-project-id]\", isTemplate: true}\n",
        "if not PROJECT_ID or PROJECT_ID == \"[your-project-id]\":\n",
        "    PROJECT_ID = str(os.environ.get(\"GOOGLE_CLOUD_PROJECT\"))\n",
        "LOCATION = os.environ.get(\"GOOGLE_CLOUD_REGION\", \"us-central1\")\n",
        "\n",
        "# generate an unique id for this session\n",
        "from datetime import datetime\n",
        "UID = datetime.now().strftime(\"%m%d%H%M%S\")\n",
        "f\"Unique ID for this session is: {UID}\""
      ]
    },
    {
      "cell_type": "markdown",
      "metadata": {
        "id": "EdvJRUWRNGHE"
      },
      "source": [
        "## Prepare dataset"
      ]
    },
    {
      "cell_type": "markdown",
      "metadata": {
        "id": "5303c05f7aa6"
      },
      "source": [
        "### Download GBIF dataset\n",
        "\n",
        "The following code downloads a [GBIF (Global Biodiversity Information Facility)](https://www.gbif.org/) dataset from Google Cloud Storage as a sample dataset that contains animal photos with their name and description. You can choose between 10k, 100k, or 1M items. It then uncompresses the downloaded gzip file to make it usable."
      ]
    },
    {
      "cell_type": "code",
      "execution_count": 2,
      "metadata": {
        "id": "53a72916-d6ad-4aaf-adc2-cbad67b4887c",
        "colab": {
          "base_uri": "https://localhost:8080/"
        },
        "outputId": "23b41ac9-eaf2-4616-81dd-1778aad84889"
      },
      "outputs": [
        {
          "output_type": "stream",
          "name": "stdout",
          "text": [
            "--2025-01-11 22:32:17--  https://storage.googleapis.com/gcp-samples-ic0-ac/datasets/gbif_10k.json.gz\n",
            "Resolving storage.googleapis.com (storage.googleapis.com)... 64.233.179.207, 142.250.125.207, 173.194.64.207, ...\n",
            "Connecting to storage.googleapis.com (storage.googleapis.com)|64.233.179.207|:443... connected.\n",
            "HTTP request sent, awaiting response... 200 OK\n",
            "Length: 658337 (643K) [application/octet-stream]\n",
            "Saving to: ‘gbif_10k.json.gz’\n",
            "\n",
            "\rgbif_10k.json.gz      0%[                    ]       0  --.-KB/s               \rgbif_10k.json.gz    100%[===================>] 642.91K  --.-KB/s    in 0.01s   \n",
            "\n",
            "2025-01-11 22:32:17 (62.5 MB/s) - ‘gbif_10k.json.gz’ saved [658337/658337]\n",
            "\n"
          ]
        }
      ],
      "source": [
        "# choose dataset\n",
        "FILE_NAME = \"gbif_10k.json\"\n",
        "#FILE_NAME = \"gbif_100k.json\"\n",
        "#FILE_NAME = \"gbif_1m.json\"\n",
        "\n",
        "# download dataset\n",
        "!rm -rf ./gbif_*.json.gz\n",
        "!wget https://storage.googleapis.com/gcp-samples-ic0-ac/datasets/{FILE_NAME}.gz\n",
        "\n",
        "# uncompress the gzip file\n",
        "!rm -rf ./gbif_*.json\n",
        "!gzip -d ./gbif_*.json.gz"
      ]
    },
    {
      "cell_type": "markdown",
      "source": [
        "This code then loads the json file into a list. The first three items of the list are then printed. We will use `name` and `description` for generating text embeddings, and `gcsUri` for generating multimodal embeddings for the animal photo."
      ],
      "metadata": {
        "id": "bV7xDxu1lt92"
      }
    },
    {
      "cell_type": "code",
      "source": [
        "import json\n",
        "\n",
        "with open(FILE_NAME, 'r') as f:\n",
        "    items = [json.loads(line) for line in f]\n",
        "items[:3]"
      ],
      "metadata": {
        "colab": {
          "base_uri": "https://localhost:8080/"
        },
        "id": "SUhYN907pEho",
        "outputId": "dcc053e8-ff89-4d49-c11f-769846e27a8d"
      },
      "execution_count": 3,
      "outputs": [
        {
          "output_type": "execute_result",
          "data": {
            "text/plain": [
              "[{'id': '2251880622',\n",
              "  'name': 'Dark tiger',\n",
              "  'url': 'https://storage.googleapis.com/gcp-samples-ic0/gbif/img/thumb/2251880622.jpg',\n",
              "  'gcsUri': 'gs://gcp-samples-ic0/gbif/img/thumb/2251880622.jpg',\n",
              "  'description': 'Tirumala hamata, the dark tiger, is a butterfly of the family Nymphalidae.'},\n",
              " {'id': '1801694925',\n",
              "  'name': 'Acalitus longisetosus',\n",
              "  'url': 'https://storage.googleapis.com/gcp-samples-ic0/gbif/img/thumb/1801694925.jpg',\n",
              "  'gcsUri': 'gs://gcp-samples-ic0/gbif/img/thumb/1801694925.jpg',\n",
              "  'description': 'Acalitus is a genus of mites in the family Eriophyidae.'},\n",
              " {'id': '3070525326',\n",
              "  'name': 'Fox squirrel',\n",
              "  'url': 'https://storage.googleapis.com/gcp-samples-ic0/gbif/img/thumb/3070525326.jpg',\n",
              "  'gcsUri': 'gs://gcp-samples-ic0/gbif/img/thumb/3070525326.jpg',\n",
              "  'description': \"The fox squirrel (Sciurus niger), also known as the eastern fox squirrel or Bryant's fox squirrel, is the largest species of tree squirrel native to North America.\"}]"
            ]
          },
          "metadata": {},
          "execution_count": 3
        }
      ]
    },
    {
      "cell_type": "code",
      "source": [
        "# print the animal image of the first item\n",
        "from IPython.display import Image\n",
        "print(f\"Name: {items[0]['name']}\")\n",
        "print(f\"Description: {items[0]['description']}\")\n",
        "Image(url=items[0][\"url\"])"
      ],
      "metadata": {
        "colab": {
          "base_uri": "https://localhost:8080/",
          "height": 568
        },
        "id": "c_pGU33-myJJ",
        "outputId": "694fb8a8-6496-42b5-9993-71a9e77d0980"
      },
      "execution_count": 4,
      "outputs": [
        {
          "output_type": "stream",
          "name": "stdout",
          "text": [
            "Name: Dark tiger\n",
            "Description: Tirumala hamata, the dark tiger, is a butterfly of the family Nymphalidae.\n"
          ]
        },
        {
          "output_type": "execute_result",
          "data": {
            "text/html": [
              "<img src=\"https://storage.googleapis.com/gcp-samples-ic0/gbif/img/thumb/2251880622.jpg\"/>"
            ],
            "text/plain": [
              "<IPython.core.display.Image object>"
            ]
          },
          "metadata": {},
          "execution_count": 4
        }
      ]
    },
    {
      "cell_type": "markdown",
      "source": [
        "## Generate text embeddings\n",
        "\n",
        "In this section, we will generate text embeddings for the sample dataset.\n",
        "\n",
        "### How to use Embedding API for text\n",
        "\n",
        "This code utilizes the Embeddings API to obtain [an embedding model](https://cloud.google.com/vertex-ai/generative-ai/docs/embeddings/get-text-embeddings#supported-models). It defines a function `generate_text_embeddings()` that accepts a list of items and generates their text embeddings using the model, with a specified [task type](https://cloud.google.com/vertex-ai/generative-ai/docs/embeddings/task-types) and dimensionality."
      ],
      "metadata": {
        "id": "TEEq5WuB0sUl"
      }
    },
    {
      "cell_type": "code",
      "source": [
        "import vertexai\n",
        "from vertexai.language_models import TextEmbeddingInput, TextEmbeddingModel\n",
        "\n",
        "TEXT_EMB_MODEL_NAME = \"text-embedding-005\"\n",
        "TEXT_EMB_TASK_TYPE = \"SEMANTIC_SIMILARITY\"\n",
        "TEXT_EMB_DIMENSIONALITY = 768\n",
        "\n",
        "vertexai.init(project=PROJECT_ID, location=LOCATION)\n",
        "text_emb_model = TextEmbeddingModel.from_pretrained(TEXT_EMB_MODEL_NAME)"
      ],
      "metadata": {
        "id": "nqcrrbh3365v"
      },
      "execution_count": 5,
      "outputs": []
    },
    {
      "cell_type": "code",
      "source": [
        "from typing import List, Dict, Any, Callable\n",
        "\n",
        "def generate_text_embeddings(items: List[Dict[str, Any]]) -> List[List[float]]:\n",
        "    \"\"\"\n",
        "    Generate text embeddings for items.\n",
        "    \"\"\"\n",
        "\n",
        "    # Combine name and description for embedding input.\n",
        "    names: List[str] = [item['name'] + \" \" + item['description'] for item in items]\n",
        "\n",
        "    # Prepare inputs for the text embedding model.\n",
        "    inputs: List[TextEmbeddingInput] = [TextEmbeddingInput(name, TEXT_EMB_TASK_TYPE) for name in names]\n",
        "    kwargs = {\"output_dimensionality\": TEXT_EMB_DIMENSIONALITY}\n",
        "\n",
        "    # Get embeddings from the model.\n",
        "    return [emb.values for emb in text_emb_model.get_embeddings(inputs, **kwargs)]"
      ],
      "metadata": {
        "id": "bj5Big704X_I"
      },
      "execution_count": 6,
      "outputs": []
    },
    {
      "cell_type": "code",
      "source": [
        "# test it\n",
        "test_items = items[:1]\n",
        "print(generate_text_embeddings(test_items))"
      ],
      "metadata": {
        "colab": {
          "base_uri": "https://localhost:8080/"
        },
        "id": "Ohmqa5TdVjkC",
        "outputId": "ff870934-b1e0-4902-8faf-bfea66863d4d"
      },
      "execution_count": 7,
      "outputs": [
        {
          "output_type": "stream",
          "name": "stdout",
          "text": [
            "[[-0.005421683192253113, 0.030090663582086563, -0.012513845227658749, -0.025768836960196495, 0.04491829127073288, 0.017601480707526207, -0.007217531092464924, -0.06035109609365463, -0.007363894488662481, -0.02790762484073639, -0.005929126869887114, -0.054085638374090195, 0.03857948258519173, 0.03601745143532753, -0.04441768676042557, 0.021894412115216255, 0.11101284623146057, -0.04031461477279663, -0.032030679285526276, -0.06746482104063034, 0.029898932203650475, -0.06854812800884247, -0.09828107804059982, -0.02389509603381157, 0.05592525377869606, -0.015668349340558052, 0.03430311381816864, -0.010530456900596619, -0.004419129807502031, -0.0035718355793505907, -0.014037798158824444, 0.014706180430948734, 0.038813021034002304, -0.007413661573082209, 0.012286162003874779, 0.012501291930675507, 0.0027588147204369307, 0.028840098530054092, 0.03271157294511795, 0.030791323632001877, 0.0633736252784729, -0.008182264864444733, 0.03318390995264053, -0.049585893750190735, -0.04510827735066414, -0.0552997849881649, 0.01651601679623127, -0.054835543036460876, -0.05879130959510803, 0.01204161997884512, -0.01038334146142006, -0.01802508905529976, -0.030135570093989372, 0.029479006305336952, 0.09094526618719101, -0.026591064408421516, -0.00040490581886842847, -0.03337671980261803, 0.0036985636688768864, 0.006714083254337311, 0.0276420246809721, -0.00818265788257122, -0.06451184302568436, 0.03318900614976883, 0.023055126890540123, 0.08596751093864441, 0.06079551950097084, 0.0016834725392982364, -0.04508055001497269, -0.028506239876151085, 0.03658478334546089, 0.025408780202269554, -0.01228439249098301, 0.0025036523584276438, -0.03533237427473068, 0.043742835521698, 0.030411219224333763, 0.045150984078645706, 0.04427255317568779, 0.004242430441081524, -0.07787588983774185, 0.04787123203277588, -0.005275866948068142, 0.006223940756171942, 0.04897464066743851, -0.05676175281405449, 0.004921450279653072, -0.011870576068758965, 0.06423825025558472, -0.0072730425745248795, 0.02651771530508995, -0.04456524923443794, -0.09704318642616272, 0.018771715462207794, 0.03016149066388607, 0.02255016379058361, 0.013328966684639454, 0.06852394342422485, -0.009812123142182827, -0.03915196284651756, 0.022930007427930832, 0.03231949359178543, -0.011900743469595909, -0.012368162162601948, -0.03220530226826668, -0.02590714953839779, -0.01571749895811081, 0.1264151930809021, 0.045130468904972076, -0.01776641607284546, -0.10108616948127747, -0.014930819161236286, 0.03324200212955475, -0.020652221515774727, 0.01969858817756176, 0.04323730990290642, -0.027521910145878792, 0.05882084369659424, -0.07354538142681122, -0.05556882172822952, 0.005179152823984623, 0.028481805697083473, 0.0226704403758049, 0.07971625030040741, 0.0039325496181845665, 0.013609246350824833, -0.029467253014445305, 0.010929937474429607, 0.025494756177067757, -0.003798668272793293, 0.05340484529733658, -0.03271036222577095, 0.035516053438186646, 0.0015804229769855738, 0.028911199420690536, -0.061667054891586304, -0.08055973052978516, -0.03753549978137016, 0.041630636900663376, -0.005746574141085148, 0.010731990449130535, 0.0025442587211728096, 0.0004588031442835927, -0.0030715051107108593, 0.01753033883869648, 0.011229995638132095, 0.016316091641783714, -0.04862022399902344, 0.03392837196588516, -0.05863527953624725, -0.05006812885403633, -0.007566799875348806, -0.024587277323007584, -0.0033692861907184124, 0.051854174584150314, -0.08214347064495087, 0.03043678216636181, 0.057485923171043396, -0.041649822145700455, -0.04377792775630951, 0.05791758745908737, 0.007260402664542198, 0.011719082482159138, 0.07232336699962616, 0.031116532161831856, -0.02860638126730919, 0.09641064703464508, -0.01763094775378704, -0.02028018608689308, -0.007708347402513027, -0.00970478169620037, -0.048488542437553406, 0.022621283307671547, 0.009791403077542782, 0.038091905415058136, -0.021112727001309395, -0.013931090012192726, 0.018033331260085106, 0.020743640139698982, -0.041087932884693146, -0.015689019113779068, 0.0024246189277619123, 0.010748371481895447, -0.0019563816022127867, -0.061335209757089615, 0.004906333051621914, -0.008480298332870007, -0.005882978904992342, -0.061085257679224014, -0.055318448692560196, -0.08057304471731186, -0.007954568602144718, 0.0013900352641940117, 0.038442134857177734, 0.010217025876045227, 0.04186919704079628, 0.06225141882896423, 0.014376714825630188, -0.03285481035709381, 0.057949040085077286, 0.0009249066933989525, 0.038330644369125366, 0.04145374894142151, 0.0038130430039018393, 0.007706860546022654, -0.06336505711078644, 0.017677532508969307, -0.009022717364132404, 0.03406577929854393, -0.08185110986232758, 0.030207617208361626, -0.02025078982114792, -0.06827498972415924, -0.003804214997217059, -0.049812790006399155, -0.015148941427469254, 0.01025992352515459, -0.070903480052948, -0.023604750633239746, 0.014002776704728603, 0.05776612460613251, 0.009513507597148418, -0.0037118394393473864, 0.06207631155848503, 0.016652192920446396, -0.004589831922203302, 0.044689614325761795, -0.022664887830615044, -0.004419440403580666, 0.034022342413663864, -0.01143083069473505, 0.04267147183418274, -0.04985189810395241, 0.009933109395205975, -0.03294259309768677, 0.024444734677672386, -0.06413880735635757, 0.050155699253082275, -0.05624670162796974, -0.05225960910320282, 0.014391280710697174, 0.058238763362169266, 0.02123323455452919, 0.011340746656060219, 0.0014670075615867972, -0.0024492221418768167, 0.04038811847567558, 0.07912176102399826, -0.03062427043914795, -0.04209624230861664, -0.00926248449832201, -0.025609122589230537, 0.027374250814318657, -0.0002243999479105696, 0.08447025716304779, -0.03337560221552849, -0.030305033549666405, 0.015374165959656239, -0.00019762666488531977, 0.06725721806287766, -0.004885725677013397, 0.05054355412721634, 0.05193842574954033, -0.022567778825759888, 0.05553087592124939, 0.01986411213874817, -0.0442548431456089, 0.01622561365365982, -0.06410916894674301, 0.011481459252536297, -0.01873868517577648, 0.03545358404517174, 0.008208530955016613, 0.007925069890916348, -0.0648944079875946, -0.0035679666325449944, -0.05388867110013962, -0.011330869048833847, -0.024158071726560593, -0.00936515349894762, 0.005767849273979664, -0.005843494553118944, -0.04385519027709961, 0.08696287870407104, -0.010205632075667381, 0.022227002307772636, -0.018973074853420258, 0.00633408734574914, -0.04921935871243477, 0.04914329573512077, -0.0362987257540226, 0.07270387560129166, 0.034732282161712646, -0.014397538267076015, 0.009030371904373169, 0.010367115028202534, 0.01155050192028284, -0.015110104344785213, -0.020269883796572685, -0.021019015461206436, 0.014150593429803848, 0.009591937996447086, -0.002140119904652238, 0.008001904934644699, 0.022128213196992874, 0.012478782795369625, 0.009254006668925285, -0.05323942378163338, -0.003004869446158409, -0.007491712924093008, -0.012027746066451073, -0.050420623272657394, 0.022020338103175163, -0.013464211486279964, -0.004595031496137381, -0.028996426612138748, 0.036404162645339966, -0.06651747971773148, 0.04045385867357254, -0.06294857710599899, 0.04178816080093384, 0.01470606867223978, -0.00038292407407425344, -0.07087953388690948, -0.01805374026298523, -0.03316628932952881, -0.016448531299829483, -0.020828478038311005, 0.012676903046667576, -0.036186110228300095, -0.023228934034705162, -0.0386490598320961, 0.011093711480498314, -0.02803298644721508, 0.03441895171999931, 0.04586580768227577, -0.007035772316157818, 0.011018745601177216, -0.023826321586966515, 0.05619846656918526, 0.03446068987250328, 0.027633631601929665, -0.07246094197034836, 0.050384100526571274, -0.036869700998067856, -0.08303513377904892, -0.06671012938022614, 0.02987655997276306, -0.00893387570977211, 0.06158718839287758, 0.02069883793592453, 0.053002990782260895, 0.01405953150242567, -0.037014808505773544, -0.048248063772916794, -0.058528706431388855, 0.0072245048359036446, 0.03102242760360241, 0.02743285521864891, 0.01798875629901886, 0.0298477616161108, -0.010483408346772194, -0.03049168549478054, 0.0032188647892326117, -0.009606785140931606, -0.05509715527296066, -0.0040359473787248135, -0.0189509280025959, 0.011948189698159695, 0.0007889331900514662, 0.013895836658775806, 0.015022139996290207, 0.015568561851978302, -0.019781293347477913, -0.021489540114998817, 4.493827873375267e-05, -0.030395731329917908, 0.009461221285164356, -0.00047875955351628363, 0.07333110272884369, 0.007763233967125416, 0.005042564123868942, -0.030472496524453163, -0.00303396163508296, -0.019590575248003006, 0.05150273069739342, -0.011705347336828709, 0.009430816397070885, 0.010968538001179695, -0.010026061907410622, -0.03914888948202133, 0.08599695563316345, -0.020978156477212906, 0.009018171578645706, 0.002212179359048605, -0.013386704958975315, -0.020674031227827072, -0.01578744500875473, 0.0007167179719544947, -0.010175121948122978, 0.035996031016111374, 0.047818537801504135, 0.01359887607395649, 0.020504726096987724, -0.058674439787864685, 0.02723722904920578, -0.054969627410173416, -0.026626117527484894, -0.02709750086069107, -0.015278657898306847, 0.011070631444454193, -0.017400352284312248, 0.015136929228901863, 0.005621735472232103, -0.023896094411611557, -0.04832802712917328, 0.032002922147512436, 0.021454541012644768, -0.02685646153986454, 0.003618499031290412, -0.03670761361718178, 0.02310001105070114, 0.01043795794248581, -0.05933534726500511, -0.023327400907874107, -0.019577333703637123, 0.04601120948791504, -0.016996033489704132, 0.07182995229959488, 0.05144296586513519, -0.031133174896240234, -0.009454643353819847, 0.01713929884135723, 0.0072322869673371315, -0.042576853185892105, 0.005254643503576517, 0.049467530101537704, 0.005548146087676287, 0.06784790754318237, -0.05280090495944023, -0.01625182293355465, 0.024356696754693985, 0.02366199903190136, 0.016019761562347412, -0.012759369798004627, 0.013483382761478424, 0.02581895887851715, -0.05446860194206238, -0.008856487460434437, -0.012265421450138092, 0.0022856607101857662, 0.01171509362757206, -0.005290112923830748, 0.037603508681058884, 0.0479302816092968, 0.01286132913082838, -0.0022128501441329718, -0.011261805891990662, 0.04378657788038254, -0.015734096989035606, 0.03751677647233009, -0.020711097866296768, -0.050159960985183716, 0.0013775317929685116, 0.06632301211357117, -0.026119936257600784, 0.04576275125145912, -0.04552166163921356, -0.0015892438823357224, 0.0026765307411551476, 0.011427873745560646, -0.00412861118093133, -0.010580760426819324, 0.02523927576839924, 0.009455508552491665, 0.020293941721320152, 0.003074048552662134, -0.01211615465581417, -0.03398118540644646, -0.018596230074763298, -0.007937423884868622, 0.07490736246109009, 0.02738332748413086, 0.017727036029100418, -0.028913702815771103, 0.06531848013401031, -0.04540177807211876, -0.02090045064687729, -0.002916246885433793, -0.007926695048809052, 0.0007331254309974611, 0.027756063267588615, 0.0031028427183628082, -0.056408416479825974, -0.012584919109940529, 0.0008967611356638372, -0.006578158587217331, 0.018437720835208893, -0.05210141837596893, -0.057650137692689896, -0.05439012125134468, -0.004661455750465393, -0.06388100236654282, -0.0011681666364893317, -0.019158050417900085, 0.024441031739115715, -0.01670287363231182, 0.02362482249736786, -0.01054153498262167, -0.035442184656858444, 0.01553016435354948, 0.004712588153779507, -0.003845311002805829, -0.0025672006886452436, 0.026681724935770035, 0.06316845118999481, 0.05202120169997215, -0.036265138536691666, 0.03128686547279358, 0.03694213181734085, -0.022753896191716194, -0.0018301076488569379, -0.0158297847956419, 0.0029623364098370075, -0.02483249455690384, 0.019455617293715477, 0.018185270950198174, 0.014423171989619732, -0.045088399201631546, 0.08260078728199005, -0.0433785617351532, 0.007569432258605957, -0.04462035372853279, 0.01051215548068285, -0.013808620162308216, -0.05414455011487007, -0.04773231968283653, -0.0038857455365359783, -0.054314710199832916, 0.026531655341386795, 0.00032874380121938884, -0.001952852588146925, 0.032906804233789444, 0.04145173728466034, -0.01624310575425625, 0.005355246365070343, -0.003042993601411581, -0.07887214422225952, -0.022343793883919716, 0.07452303916215897, -0.027771761640906334, -0.02458779513835907, -0.03219228610396385, 0.0033603713382035494, -0.04033460468053818, 0.019540809094905853, 0.014938806183636189, -0.0673067644238472, 0.003193098120391369, -0.04403797164559364, 0.008953147567808628, -0.00842862669378519, 0.015883928164839745, 0.028812477365136147, 0.018443208187818527, -0.020493119955062866, -0.057301897555589676, 0.03463710471987724, -0.014591848477721214, 6.278444197960198e-05, 0.027031200006604195, -0.023036057129502296, -0.04536810517311096, 0.027106786146759987, 0.02523464523255825, -0.027075443416833878, -0.0020954012870788574, 0.0853193998336792, -0.008795935660600662, 0.02352135442197323, 0.00832933560013771, 0.010205666534602642, 0.052182137966156006, 0.04133688285946846, -0.012727499008178711, -0.00976367387920618, -0.012186184525489807, -0.05094396695494652, 0.04874993488192558, -0.059800539165735245, 0.01886114850640297, -0.0090407719835639, -0.005525724496692419, 0.029848190024495125, -0.01841040700674057, 0.02694672904908657, -0.044215139001607895, -0.013722417876124382, 0.0786733403801918, -0.013739216141402721, -0.02321389876306057, -0.040193215012550354, -0.030280573293566704, -0.031608905643224716, 0.025994017720222473, 0.007384269963949919, -0.0463378019630909, -0.02181517332792282, -0.005985838361084461, -0.04678454250097275, 0.04665687307715416, -0.024943901225924492, -0.018151048570871353, -7.077615009620786e-05, -0.0300274807959795, 0.0025036120787262917, 0.023218227550387383, -0.04991552233695984, -0.060789160430431366, 0.026667596772313118, -0.005547679495066404, -0.03246254846453667, -0.014289557002484798, 0.019458739086985588, 0.027280855923891068, -0.01028895191848278, 0.022504348307847977, -0.014402786269783974, -0.023601334542036057, 0.000127232022350654, 0.04197361692786217, 0.02484782785177231, 0.013714882545173168, -0.014669648371636868, -0.05092627555131912, 0.048409268260002136, 0.03057296946644783, 0.01804307848215103, -0.016625450924038887, 0.07880070805549622, -0.02662866748869419, -0.026441540569067, 0.0012713790638372302, 0.029690628871321678, 0.012849071994423866, -0.014173642732203007, 0.00243203598074615, -0.02908342145383358, 0.002813733648508787, 0.012405790388584137, -0.003513485658913851, -0.011872848495841026, -0.05962391570210457, 0.002992017427459359, -0.04296299070119858, -0.018256109207868576, 0.07794062048196793, -0.03366640582680702, -0.024315176531672478, 0.00518318684771657, -0.007223160937428474, -0.02343977615237236, -0.06896066665649414, 0.02261999435722828, -0.034287113696336746, -0.02553964965045452, -0.01780661754310131, 0.004529276862740517, -0.06170150265097618, -0.046081267297267914, 0.013960525393486023, 0.005946402437984943, -0.08445435017347336, 0.005835505202412605, -0.0190939512103796, -0.02901921235024929, 0.060323599725961685, -0.03807219862937927, 0.004518766421824694, 0.025575563311576843, 0.0574263297021389, 0.01658446341753006, -0.02051510103046894, 0.0024027822073549032, -0.05855919420719147, -0.0018534865230321884, 0.03847987577319145, -0.05387206748127937, -0.030424147844314575, 0.024592384696006775, -0.06124810501933098, 0.04666224494576454, -0.018648449331521988, -0.12757016718387604, 0.03864563629031181, -0.007862093858420849, -0.013126270845532417, 0.0010163052938878536, 0.005430734250694513, 0.009481240063905716, -0.04218224436044693, -0.042033225297927856, 0.015710048377513885, 0.02550307847559452, 0.07221692055463791, -0.044715285301208496, 0.026567695662379265, 0.01260296255350113, -0.01632518693804741, 0.04337621107697487, 0.004587982315570116, -0.023458676412701607, 0.04620307311415672, -0.04201912879943848, -0.03889280930161476, -0.04636753350496292, -0.024552663788199425, 0.01866598054766655, -0.04331532120704651, 0.007864571176469326, 0.13494402170181274, -0.04041261598467827, 0.03655346855521202, -0.03437364846467972, 0.026887157931923866, 0.013132129795849323, 0.005020111333578825, -0.03791958838701248, 0.019554875791072845, 0.03620102256536484, -0.004898665007203817, -0.06411831080913544, -0.02933873049914837, -0.03296990320086479, 0.0019014198333024979, -0.012968041934072971, -0.07471524924039841, -0.0007003688369877636, 0.014085015282034874, 0.0014695661375299096, -0.007485782261937857, 0.0008844129624776542, 0.044831108301877975, -0.016375815495848656, -0.011139041744172573, -0.0061204866506159306, 0.0005068282480351627, -0.013683740049600601, 0.024317653849720955, 0.02303215302526951, -0.041954245418310165, 0.02197590097784996, 0.0034167759586125612, -0.014797279611229897, 0.035591971129179, 0.020581349730491638, -0.013184797018766403, 0.012245072051882744, 0.005208103451877832, 0.00676706014201045, -0.02153308130800724, 0.03476816043257713, 0.02473672665655613, 0.025002751499414444, 0.008943297900259495, -0.034658681601285934, 0.05384339019656181, -0.019545407965779305]]\n"
          ]
        }
      ]
    },
    {
      "cell_type": "markdown",
      "source": [
        "### Define a worker thread\n",
        "\n",
        "Instead of generating embeddings for each item individually, we'll use multiple worker threads per API call to maximize quota utilization and make the entire job robust to errors. This code defines `run_worker_thread()`, which wraps `generate_text_embeddings()` to run as a worker thread, adding generated embeddings (or errors) into a queue."
      ],
      "metadata": {
        "id": "dprKR-piYddZ"
      }
    },
    {
      "cell_type": "code",
      "source": [
        "import queue\n",
        "\n",
        "def run_worker_thread(generation_func: Callable[[List[Dict[str, Any]], \"queue.Queue\"], None],\n",
        "                      items: List[Dict[str, Any]],\n",
        "                      emb_queue: \"queue.Queue\",\n",
        "                      err_queue: \"queue.Queue\") -> None:\n",
        "    \"\"\"\n",
        "    Runs a worker thread that generates embeddings with a single API call and handles\n",
        "    potential errors.\n",
        "\n",
        "    Args:\n",
        "        generation_func: A function that takes a list of items and returns their embeddings.\n",
        "        items: The list of items to process. Each item should be a dictionary.\n",
        "        emb_queue: The queue to put the generated embeddings into.\n",
        "        err_queue: The queue to put any encountered errors into.\n",
        "    \"\"\"\n",
        "    try:\n",
        "        embs = generation_func(items)\n",
        "        for i in range(0, len(items)):\n",
        "            emb_queue.put({\"id\": items[i]['id'], \"embedding\": embs[i]})\n",
        "    except Exception as e:\n",
        "        err_queue.put(str(e))"
      ],
      "metadata": {
        "id": "hChtZdfUYY44"
      },
      "execution_count": 8,
      "outputs": []
    },
    {
      "cell_type": "markdown",
      "source": [
        "### Prepare a Cloud Storage bucket\n",
        "\n",
        "We will store the generated embeddings to a Cloud Storage bucket and folder created by this code."
      ],
      "metadata": {
        "id": "XvDX3FYi1GqZ"
      }
    },
    {
      "cell_type": "code",
      "source": [
        "from google.cloud import storage\n",
        "GCS_BUCKET = f\"{PROJECT_ID}-embs-{UID}\"\n",
        "GCS_TEXT_EMB_PATH = \"text_embs\"\n",
        "\n",
        "# create a bucket\n",
        "storage_client = storage.Client()\n",
        "storage_bucket = storage_client.bucket(GCS_BUCKET)\n",
        "storage_bucket = storage_client.create_bucket(storage_bucket, location=\"us-central1\")\n",
        "\n",
        "# create a folder for storing text embeddings\n",
        "empty_blob = storage_bucket.blob(GCS_TEXT_EMB_PATH + \"/\")\n",
        "empty_blob.upload_from_string(\"\")\n",
        "print(f\"\\nCreated text embedding folder: gs://{GCS_BUCKET}/{GCS_TEXT_EMB_PATH}\")"
      ],
      "metadata": {
        "id": "PyMhU6Vs1K5J",
        "colab": {
          "base_uri": "https://localhost:8080/"
        },
        "outputId": "5029c04f-87e9-4ad2-f86f-222c8941a6c1"
      },
      "execution_count": 9,
      "outputs": [
        {
          "output_type": "stream",
          "name": "stdout",
          "text": [
            "\n",
            "Created text embedding folder: gs://gcp-samples-ic0-embs-0111223214/text_embs\n"
          ]
        }
      ]
    },
    {
      "cell_type": "markdown",
      "source": [
        "### Prepare a queue manager thread\n",
        "\n",
        "This code defines a queue manager, `run_queue_manager_thread()`, that receives embeddings from the worker threads and handles potential errors. The manager periodically flushes successful embeddings to Cloud Storage using `flush_emb_queue()` and errors to a log file using `flush_err_queue()`."
      ],
      "metadata": {
        "id": "eDI7lYcZ4_Nv"
      }
    },
    {
      "cell_type": "code",
      "source": [
        "QUEUE_FLUSH_THRESHOLD = 10000\n",
        "ERR_FILE_NAME = f\"err_{UID}.log\"\n",
        "\n",
        "is_queue_manager_enabled: bool = True\n",
        "\n",
        "def flush_emb_queue(emb_queue: queue.Queue, gcs_path: str, count: int) -> None:\n",
        "    \"\"\"\n",
        "    Flushes the embedding queue to Cloud Storage.\n",
        "\n",
        "    Args:\n",
        "    emb_queue: The queue containing embedding dictionaries.\n",
        "    gcs_path: The destination path in Cloud Storage.\n",
        "    count: The number of embeddings to flush from the queue.\n",
        "    \"\"\"\n",
        "    timestamp: str = datetime.now().strftime(\"%m%d%H%M-%S%f\")\n",
        "    embs: str = \"\"\n",
        "    for _ in range(0, count):\n",
        "        emb: Dict = emb_queue.get()\n",
        "        embs += json.dumps(emb) + \"\\n\"\n",
        "    gcs_file = storage_bucket.blob(f\"{gcs_path}/{timestamp}_embs.json\")\n",
        "    gcs_file.upload_from_string(embs, content_type='application/json')\n",
        "    print(f\"Uploaded {count} embeddings to {gcs_file.name}\")\n",
        "\n",
        "def flush_err_queue(err_queue: queue.Queue) -> None:\n",
        "    \"\"\"Flushes the error queue to the error log file.\"\"\"\n",
        "    with open(ERR_FILE_NAME, \"a\") as file:\n",
        "        while not err_queue.empty():\n",
        "            error = err_queue.get()\n",
        "            file.write(f\"Error {error}\\n\")\n",
        "            print(f\"Error {error}\")\n",
        "\n",
        "def run_queue_manager_thread(emb_queue: queue.Queue, err_queue: queue.Queue, gcs_path: str) -> None:\n",
        "    \"\"\"Runs the queue manager thread, which monitors and flushes the embedding and error queues.\n",
        "\n",
        "    Args:\n",
        "        emb_queue: The queue for storing embeddings.\n",
        "        err_queue: The queue for storing errors.\n",
        "        gcs_path: The path to Cloud Storage where embeddings will be stored.\n",
        "    \"\"\"\n",
        "\n",
        "    # Continue managing the queues while enabled\n",
        "    global is_queue_manager_enabled\n",
        "    while is_queue_manager_enabled:\n",
        "        time.sleep(0.1)\n",
        "\n",
        "        # Flush the embedding queue if it exceeds the threshold\n",
        "        if emb_queue.qsize() > QUEUE_FLUSH_THRESHOLD:\n",
        "            flush_emb_queue(emb_queue, gcs_path, QUEUE_FLUSH_THRESHOLD)\n",
        "\n",
        "        # Flush the error queue if it contains any errors\n",
        "        if err_queue.qsize() > 0:\n",
        "            flush_err_queue(err_queue)\n",
        "\n",
        "    # Perform a final flush of both queues when the queue manager is disabled\n",
        "    flush_emb_queue(emb_queue, gcs_path, emb_queue.qsize())\n",
        "    flush_err_queue(err_queue)"
      ],
      "metadata": {
        "id": "2k6cV2cVSyZ-"
      },
      "execution_count": 10,
      "outputs": []
    },
    {
      "cell_type": "markdown",
      "source": [
        "### Define the main loop\n",
        "\n",
        "`generate_embeddings()` is the main loop that performs the following: 1) initializes and starts the queue manager thread, 2) runs a loop that spawns a new worker thread for each API call, adhering to the quota limit, and 3) ensures all embeddings and any errors are processed from the queue."
      ],
      "metadata": {
        "id": "4RsMKj_hHJhS"
      }
    },
    {
      "cell_type": "code",
      "execution_count": 11,
      "metadata": {
        "tags": [],
        "id": "f98aab72-0540-4b05-a1ee-54989a744baa"
      },
      "outputs": [],
      "source": [
        "import time\n",
        "import threading\n",
        "from tqdm.notebook import tqdm\n",
        "\n",
        "def generate_embeddings(generation_func: Callable[[List[Dict[str, Any]], \"queue.Queue\"], None],\n",
        "                        reqs_per_min_quota: int,\n",
        "                        items_per_req: int,\n",
        "                        gcs_path: str,\n",
        "                        items: List[Dict[str, Any]]) -> None:\n",
        "    \"\"\"\n",
        "    Generates embeddings with throttling and error handling.\n",
        "\n",
        "    Args:\n",
        "        generation_func: The function used to generate the embeddings.\n",
        "        reqs_per_min_quota: The maximum number of requests allowed per minute for the model.\n",
        "        items_per_req: The number of items to include in each request.\n",
        "        items: The dataset we'll be working with.\n",
        "    \"\"\"\n",
        "\n",
        "    # All threads.\n",
        "    threads: List[threading.Thread] = []\n",
        "\n",
        "    # Throttling interval.\n",
        "    req_interval: float = 1.0 / (reqs_per_min_quota / 60)\n",
        "\n",
        "    # Start queue manager thread.\n",
        "    global is_queue_manager_enabled\n",
        "    is_queue_manager_enabled = True\n",
        "    emb_queue: \"queue.Queue\" = queue.Queue()\n",
        "    err_queue: \"queue.Queue\" = queue.Queue()\n",
        "    queue_manager_thread: threading.Thread = threading.Thread(target=run_queue_manager_thread,\n",
        "                                                            args=(emb_queue, err_queue, gcs_path))\n",
        "    queue_manager_thread.start()\n",
        "\n",
        "    # Generate embeddings.\n",
        "    for i in tqdm(range(0, len(items), items_per_req)):\n",
        "\n",
        "        # Throttle requests.\n",
        "        time.sleep(req_interval)\n",
        "\n",
        "        # Start a worker thread.\n",
        "        items_slice: List[Dict[str, Any]] = items[i:i + items_per_req]\n",
        "        worker_thread: threading.Thread = threading.Thread(target=run_worker_thread,\n",
        "                                                          args=(generation_func, items_slice, emb_queue, err_queue))\n",
        "        worker_thread.start()\n",
        "        threads.append(worker_thread)\n",
        "\n",
        "    # Wait for all worker threads to finish.\n",
        "    print(f\"Waiting for {len(threads)} threads to finish...\")\n",
        "    for i in tqdm(range(0, len(threads), 1)):\n",
        "        threads[i].join()\n",
        "\n",
        "    # Wait for the queue manager to stop.\n",
        "    print(\"Waiting for the queue manager to finish...\")\n",
        "    is_queue_manager_enabled = False\n",
        "    queue_manager_thread.join()\n",
        "\n",
        "    # Print error count.\n",
        "    if os.path.exists(ERR_FILE_NAME):\n",
        "        with open(ERR_FILE_NAME, 'r') as f:\n",
        "            error_count: int = len(f.readlines())\n",
        "        print(f\"{error_count} errors recorded in {ERR_FILE_NAME}\")\n",
        "    else:\n",
        "        print(\"No errors recorded\")\n",
        "    print(\"Done!\")\n"
      ]
    },
    {
      "cell_type": "markdown",
      "source": [
        "### Run it\n",
        "\n",
        "Okay, let's run this! We'll use the following parameters:\n",
        "\n",
        "- `generation_func`: The function used to generate the embeddings.\n",
        "- `reqs_per_min_quota`: The maximum number of requests allowed per minute for the model.\n",
        "- `items_per_req`: The number of items to include in each request.\n",
        "- `items`: The dataset we'll be working with.\n",
        "\n",
        "Regarding `items_per_req`, the text embedding model allows a maximum of 250 items per request, as mentioned earlier. However, setting it to the maximum value slows down the entire throughput. You might want to choose a more moderate value, like 20, for better performance."
      ],
      "metadata": {
        "id": "4gBAj_Evx_JM"
      }
    },
    {
      "cell_type": "code",
      "source": [
        "# Start generating text embeddings\n",
        "generate_embeddings(generation_func=generate_text_embeddings,\n",
        "                    reqs_per_min_quota=1500,\n",
        "                    items_per_req=20,\n",
        "                    gcs_path=GCS_TEXT_EMB_PATH,\n",
        "                    items=items)\n",
        "\n",
        "print(f\"\\nCreated text embeddings on folder: gs://{GCS_BUCKET}/{GCS_TEXT_EMB_PATH}\")"
      ],
      "metadata": {
        "colab": {
          "base_uri": "https://localhost:8080/",
          "height": 203,
          "referenced_widgets": [
            "73cfe45c3bcd4fea89df9e8356dac6a6",
            "1140471f9bde4a18bd0a21c871d4d2c1",
            "c1dc6c32510246a19fe1fd2490ffaf27",
            "faf1f625fbb74c028a9724519f9f9564",
            "37da19c9a58a4f0d9d7a9399658f83d0",
            "ca9f06529d244e08891af8b4898134f0",
            "b767a9bfe1fd479a9d51155f2023d1fc",
            "95ea79d1340c4bafb03fed93dc0bce7e",
            "9cf87d1e1b0644b6873f0136dc19c1ba",
            "9cc1f44f52eb46db9f24674d74cdca86",
            "fc50f5ff54d143418ff12e9dd5e1e35e",
            "4835f7bb14c44bed947803e0840fcca3",
            "95c5176941874935978a5a4e25bbb026",
            "974db7a267474ec6accc0154d2db5eea",
            "64ac9c66347d4d8ebbe949b4a8bfafa5",
            "ddd4d60ac6a243118667dcc8dbcd690f",
            "d56314ddfa534ea9b9e9885a1b319a98",
            "26a5ebd1b0184a74a766813508ffa27e",
            "4ff0df185b594133ad9edc702eaac1b0",
            "f6f8d62d397b45859edfa352fe812912",
            "286488d3c8d5447ebc170a9f352772a2",
            "4e89a392c1b4449a8528f06aec4c0235"
          ]
        },
        "id": "KqT4-hoTBfTp",
        "outputId": "732218a6-6452-4f10-f135-38d90fd57899"
      },
      "execution_count": 12,
      "outputs": [
        {
          "output_type": "display_data",
          "data": {
            "text/plain": [
              "  0%|          | 0/500 [00:00<?, ?it/s]"
            ],
            "application/vnd.jupyter.widget-view+json": {
              "version_major": 2,
              "version_minor": 0,
              "model_id": "73cfe45c3bcd4fea89df9e8356dac6a6"
            }
          },
          "metadata": {}
        },
        {
          "output_type": "stream",
          "name": "stdout",
          "text": [
            "Waiting for 500 threads to finish...\n"
          ]
        },
        {
          "output_type": "display_data",
          "data": {
            "text/plain": [
              "  0%|          | 0/500 [00:00<?, ?it/s]"
            ],
            "application/vnd.jupyter.widget-view+json": {
              "version_major": 2,
              "version_minor": 0,
              "model_id": "4835f7bb14c44bed947803e0840fcca3"
            }
          },
          "metadata": {}
        },
        {
          "output_type": "stream",
          "name": "stdout",
          "text": [
            "Waiting for the queue manager to finish...\n",
            "Uploaded 10000 embeddings to text_embs/01112233-37051350_embs.json\n",
            "0 errors recorded in err_0111223214.log\n",
            "Done!\n",
            "\n",
            "Created text embeddings on folder: gs://gcp-samples-ic0-embs-0111223214/text_embs\n"
          ]
        }
      ]
    },
    {
      "cell_type": "markdown",
      "source": [
        "### Monitoring errors\n",
        "\n",
        "While embedding generation is in progress, you can monitor the error log for any recorded errors.\n",
        "\n",
        "### Monitoring quota usage\n",
        "\n",
        "You can also monitor your quota usage in the Google Cloud console. To do this, follow the instructions under [View quotas in the Google Cloud console](https://cloud.google.com/docs/quotas/view-manage#viewing_your_quota_console). Use the filter and type \"embedding\" to find the relevant quota, then click the Show usage chart button on the right to see your usage details.\n",
        "\n",
        "Typically, you'll find that this tool utilizes around 80-90% of the specified quota limit.\n",
        "\n",
        "<br/>\n",
        "<center><img src=\"https://storage.googleapis.com/gcp-samples-ic0-ac/images/quota_usage.png\" width=\"400\"/></center>\n",
        "<br/>\n"
      ],
      "metadata": {
        "id": "ooNs0butatqs"
      }
    },
    {
      "cell_type": "markdown",
      "source": [
        "### (Optional) Creating a Vector Search index\n",
        "\n",
        "Optionally, you can try using the generated embeddings for building [Vertex AI Vector Search](https://cloud.google.com/vertex-ai/docs/vector-search/overview) index for semantic search.\n",
        "\n",
        "Check out the JSONL files stored on the Cloud Storage folder by using [Cloud Storage console](https://console.cloud.google.com/storage/browser). The file looks like:\n",
        "\n",
        "```\n",
        "{\n",
        "    \"id\": \"2251880622\",\n",
        "    \"embedding\": [-0.005421683192253113, 0.030090663582086563,...\n",
        "}\n",
        "...\n",
        "```\n",
        "\n",
        "This format conforms the [input data format of Vertex AI Vector Search](https://cloud.google.com/vertex-ai/docs/vector-search/setup/format-structure). You can directly use the files to create an index by either:\n",
        "\n",
        "- Using [Vector Search console](https://cloud.google.com/vertex-ai/docs/vector-search/create-manage-index#create_index-console): Specify the Cloud Storage path `gs://...` on the create new index dialog.\n",
        "- Using [Vector Search Python SDK](https://cloud.google.com/vertex-ai/docs/vector-search/create-manage-index#create_index-python_vertex_ai_sdk): Specify the Cloud Storage path `gs://...` as `contents_delta_uri` parameter of `create_tree_ah_index()`.\n",
        "\n",
        "For further usage of Vector Search, refer to [the product documentation](https://cloud.google.com/vertex-ai/docs/vector-search/overview)."
      ],
      "metadata": {
        "id": "djBMLcin2XoN"
      }
    },
    {
      "cell_type": "markdown",
      "source": [
        "## Generate Multimodal Embeddings\n",
        "\n",
        "The tool above can be reused to generate other types of embeddings by defining a new `generation_func`. The following code demonstrates how to generate multimodal embeddings for the animal photos."
      ],
      "metadata": {
        "id": "qV7AVEqh0Qnz"
      }
    },
    {
      "cell_type": "code",
      "source": [
        "# Create a folder for storing multimodal embeddings\n",
        "GCS_MM_EMB_PATH = \"mm_embs\"\n",
        "empty_blob = storage_bucket.blob(GCS_MM_EMB_PATH + '/')\n",
        "empty_blob.upload_from_string('')\n",
        "print(f\"\\nCreated multimodal embedding folder: gs://{GCS_BUCKET}/{GCS_MM_EMB_PATH}\")"
      ],
      "metadata": {
        "colab": {
          "base_uri": "https://localhost:8080/"
        },
        "id": "Bb4lI3x1CrlP",
        "outputId": "03dbcf6c-6b44-40e4-a32b-bc6747b24903"
      },
      "execution_count": 13,
      "outputs": [
        {
          "output_type": "stream",
          "name": "stdout",
          "text": [
            "\n",
            "Created multimodal embedding folder: gs://gcp-samples-ic0-embs-0111223214/mm_embs\n"
          ]
        }
      ]
    },
    {
      "cell_type": "code",
      "source": [
        "# Prepare a multimodal embedding model\n",
        "from vertexai.vision_models import Image, MultiModalEmbeddingModel, MultiModalEmbeddingResponse\n",
        "\n",
        "MM_EMB_MODEL_NAME = \"multimodalembedding\"\n",
        "MM_EMB_DIMENSIONALITY = 1408\n",
        "\n",
        "mm_emb_model = MultiModalEmbeddingModel.from_pretrained(MM_EMB_MODEL_NAME)"
      ],
      "metadata": {
        "id": "Ijlo_3b43KHk"
      },
      "execution_count": 14,
      "outputs": []
    },
    {
      "cell_type": "code",
      "source": [
        "def generate_mm_embeddings(items: List[Dict[str, Any]]) -> List[List[float]]:\n",
        "    \"\"\"\n",
        "    Generate multimodal embeddings for items.\n",
        "    \"\"\"\n",
        "\n",
        "    # Extract GCS URIs from items.\n",
        "    gcsUris: List[str] = [item['gcsUri'] for item in items]\n",
        "\n",
        "    # Load images from the GCS URIs.\n",
        "    images: List[Image] = [Image.load_from_file(gcsUri) for gcsUri in gcsUris]\n",
        "\n",
        "    # Get multimodal embeddings.\n",
        "    embs: List[MultiModalEmbeddingResponse] = \\\n",
        "        [mm_emb_model.get_embeddings(image=image, dimension=MM_EMB_DIMENSIONALITY) for image in images]\n",
        "\n",
        "    # Return the image embeddings.\n",
        "    return [emb.image_embedding for emb in embs]"
      ],
      "metadata": {
        "id": "eawEVliy-f6E"
      },
      "execution_count": 15,
      "outputs": []
    },
    {
      "cell_type": "code",
      "source": [
        "# Run it\n",
        "generate_embeddings(generation_func=generate_mm_embeddings,\n",
        "                    reqs_per_min_quota=120,\n",
        "                    items_per_req=1,\n",
        "                    gcs_path=GCS_MM_EMB_PATH,\n",
        "                    items=items)"
      ],
      "metadata": {
        "colab": {
          "base_uri": "https://localhost:8080/",
          "height": 168,
          "referenced_widgets": [
            "15210e62d6db448594c2c9246ab6d4f2",
            "5f2d7aa329c542c8887150144556cbe6",
            "d19f5adb5c2d4a6881ea7f79064e77d6",
            "4dc3ba9a915b4877b4d4d35f7e93a8b0",
            "822967e3d26d4b9fa67396dc93868966",
            "526840c8b1af465eace3ea064a75a10a",
            "d711ec43ef624da996cd2a63e3e1694a",
            "362ab383b9bd47d8a637706398864622",
            "3ec78fcebce04d519f6afce3923f5abb",
            "eee298ffb12c4db2b75f94d02efbe25b",
            "a3e187389dda4c49bc9131aceb64bfa3",
            "e67985afabd041dd950711d3b1fb2104",
            "6d53edf0642540f38a1317c9c3998969",
            "bd0484d5aba94c409d1e1b09ee3758dc",
            "df72a99d583f4ab684d38c07ed402cc9",
            "adc89e35b01b426f9d7b44a04786a606",
            "6ff0b4859a644c54ad5608eeb255385f",
            "192dee4b56334b49af4901d8b49f7a13",
            "2b47e9ad1fa54294b16adad0cefec62e",
            "7b927c647bc843cf99e429081419f5c8",
            "379ef99ded9d40e68cd767e6bd66fbf8",
            "40784dac77c94161a7009e957f147e9c"
          ]
        },
        "outputId": "4840b751-976f-4b51-d892-9856b5602321",
        "id": "5erkBoCeEFqW"
      },
      "execution_count": 16,
      "outputs": [
        {
          "output_type": "display_data",
          "data": {
            "text/plain": [
              "  0%|          | 0/10000 [00:00<?, ?it/s]"
            ],
            "application/vnd.jupyter.widget-view+json": {
              "version_major": 2,
              "version_minor": 0,
              "model_id": "15210e62d6db448594c2c9246ab6d4f2"
            }
          },
          "metadata": {}
        },
        {
          "output_type": "stream",
          "name": "stdout",
          "text": [
            "Waiting for 10000 threads to finish...\n"
          ]
        },
        {
          "output_type": "display_data",
          "data": {
            "text/plain": [
              "  0%|          | 0/10000 [00:00<?, ?it/s]"
            ],
            "application/vnd.jupyter.widget-view+json": {
              "version_major": 2,
              "version_minor": 0,
              "model_id": "e67985afabd041dd950711d3b1fb2104"
            }
          },
          "metadata": {}
        },
        {
          "output_type": "stream",
          "name": "stdout",
          "text": [
            "Waiting for the queue manager to finish...\n",
            "Uploaded 10000 embeddings to mm_embs/01112241-16637034_embs.json\n",
            "0 errors recorded in err_0111223214.log\n",
            "Done!\n"
          ]
        }
      ]
    },
    {
      "cell_type": "markdown",
      "source": [
        "For generating multimodal embeddings, there is a couple of difference from the text embeddings:\n",
        "\n",
        "- `reqs_per_min_quota`: The default quota limit is lower than text embedding mode.\n",
        "- `items_per_req`: The multimodal model can only take single image per request.\n",
        "\n",
        "With these differences, it would take much longer time to generate embeddings for all items."
      ],
      "metadata": {
        "id": "TsLypcRV8alx"
      }
    },
    {
      "cell_type": "markdown",
      "metadata": {
        "id": "2a4e033321ad"
      },
      "source": [
        "## Cleaning up\n",
        "\n",
        "That was it. Finally, remove the Cloud Storage bucket that use used for this tutorial."
      ]
    },
    {
      "cell_type": "code",
      "source": [
        "storage_bucket.delete(force=True)\n",
        "print('Storage bucket deleted')"
      ],
      "metadata": {
        "id": "AVG9aMs8eeTt"
      },
      "execution_count": null,
      "outputs": []
    }
  ],
  "metadata": {
    "colab": {
      "name": "generate_embs_for_vvs (1).ipynb",
      "provenance": []
    },
    "kernelspec": {
      "display_name": "Python 3",
      "name": "python3"
    },
    "widgets": {
      "application/vnd.jupyter.widget-state+json": {
        "73cfe45c3bcd4fea89df9e8356dac6a6": {
          "model_module": "@jupyter-widgets/controls",
          "model_name": "HBoxModel",
          "model_module_version": "1.5.0",
          "state": {
            "_dom_classes": [],
            "_model_module": "@jupyter-widgets/controls",
            "_model_module_version": "1.5.0",
            "_model_name": "HBoxModel",
            "_view_count": null,
            "_view_module": "@jupyter-widgets/controls",
            "_view_module_version": "1.5.0",
            "_view_name": "HBoxView",
            "box_style": "",
            "children": [
              "IPY_MODEL_1140471f9bde4a18bd0a21c871d4d2c1",
              "IPY_MODEL_c1dc6c32510246a19fe1fd2490ffaf27",
              "IPY_MODEL_faf1f625fbb74c028a9724519f9f9564"
            ],
            "layout": "IPY_MODEL_37da19c9a58a4f0d9d7a9399658f83d0"
          }
        },
        "1140471f9bde4a18bd0a21c871d4d2c1": {
          "model_module": "@jupyter-widgets/controls",
          "model_name": "HTMLModel",
          "model_module_version": "1.5.0",
          "state": {
            "_dom_classes": [],
            "_model_module": "@jupyter-widgets/controls",
            "_model_module_version": "1.5.0",
            "_model_name": "HTMLModel",
            "_view_count": null,
            "_view_module": "@jupyter-widgets/controls",
            "_view_module_version": "1.5.0",
            "_view_name": "HTMLView",
            "description": "",
            "description_tooltip": null,
            "layout": "IPY_MODEL_ca9f06529d244e08891af8b4898134f0",
            "placeholder": "​",
            "style": "IPY_MODEL_b767a9bfe1fd479a9d51155f2023d1fc",
            "value": "100%"
          }
        },
        "c1dc6c32510246a19fe1fd2490ffaf27": {
          "model_module": "@jupyter-widgets/controls",
          "model_name": "FloatProgressModel",
          "model_module_version": "1.5.0",
          "state": {
            "_dom_classes": [],
            "_model_module": "@jupyter-widgets/controls",
            "_model_module_version": "1.5.0",
            "_model_name": "FloatProgressModel",
            "_view_count": null,
            "_view_module": "@jupyter-widgets/controls",
            "_view_module_version": "1.5.0",
            "_view_name": "ProgressView",
            "bar_style": "success",
            "description": "",
            "description_tooltip": null,
            "layout": "IPY_MODEL_95ea79d1340c4bafb03fed93dc0bce7e",
            "max": 500,
            "min": 0,
            "orientation": "horizontal",
            "style": "IPY_MODEL_9cf87d1e1b0644b6873f0136dc19c1ba",
            "value": 500
          }
        },
        "faf1f625fbb74c028a9724519f9f9564": {
          "model_module": "@jupyter-widgets/controls",
          "model_name": "HTMLModel",
          "model_module_version": "1.5.0",
          "state": {
            "_dom_classes": [],
            "_model_module": "@jupyter-widgets/controls",
            "_model_module_version": "1.5.0",
            "_model_name": "HTMLModel",
            "_view_count": null,
            "_view_module": "@jupyter-widgets/controls",
            "_view_module_version": "1.5.0",
            "_view_name": "HTMLView",
            "description": "",
            "description_tooltip": null,
            "layout": "IPY_MODEL_9cc1f44f52eb46db9f24674d74cdca86",
            "placeholder": "​",
            "style": "IPY_MODEL_fc50f5ff54d143418ff12e9dd5e1e35e",
            "value": " 500/500 [00:44&lt;00:00, 12.41it/s]"
          }
        },
        "37da19c9a58a4f0d9d7a9399658f83d0": {
          "model_module": "@jupyter-widgets/base",
          "model_name": "LayoutModel",
          "model_module_version": "1.2.0",
          "state": {
            "_model_module": "@jupyter-widgets/base",
            "_model_module_version": "1.2.0",
            "_model_name": "LayoutModel",
            "_view_count": null,
            "_view_module": "@jupyter-widgets/base",
            "_view_module_version": "1.2.0",
            "_view_name": "LayoutView",
            "align_content": null,
            "align_items": null,
            "align_self": null,
            "border": null,
            "bottom": null,
            "display": null,
            "flex": null,
            "flex_flow": null,
            "grid_area": null,
            "grid_auto_columns": null,
            "grid_auto_flow": null,
            "grid_auto_rows": null,
            "grid_column": null,
            "grid_gap": null,
            "grid_row": null,
            "grid_template_areas": null,
            "grid_template_columns": null,
            "grid_template_rows": null,
            "height": null,
            "justify_content": null,
            "justify_items": null,
            "left": null,
            "margin": null,
            "max_height": null,
            "max_width": null,
            "min_height": null,
            "min_width": null,
            "object_fit": null,
            "object_position": null,
            "order": null,
            "overflow": null,
            "overflow_x": null,
            "overflow_y": null,
            "padding": null,
            "right": null,
            "top": null,
            "visibility": null,
            "width": null
          }
        },
        "ca9f06529d244e08891af8b4898134f0": {
          "model_module": "@jupyter-widgets/base",
          "model_name": "LayoutModel",
          "model_module_version": "1.2.0",
          "state": {
            "_model_module": "@jupyter-widgets/base",
            "_model_module_version": "1.2.0",
            "_model_name": "LayoutModel",
            "_view_count": null,
            "_view_module": "@jupyter-widgets/base",
            "_view_module_version": "1.2.0",
            "_view_name": "LayoutView",
            "align_content": null,
            "align_items": null,
            "align_self": null,
            "border": null,
            "bottom": null,
            "display": null,
            "flex": null,
            "flex_flow": null,
            "grid_area": null,
            "grid_auto_columns": null,
            "grid_auto_flow": null,
            "grid_auto_rows": null,
            "grid_column": null,
            "grid_gap": null,
            "grid_row": null,
            "grid_template_areas": null,
            "grid_template_columns": null,
            "grid_template_rows": null,
            "height": null,
            "justify_content": null,
            "justify_items": null,
            "left": null,
            "margin": null,
            "max_height": null,
            "max_width": null,
            "min_height": null,
            "min_width": null,
            "object_fit": null,
            "object_position": null,
            "order": null,
            "overflow": null,
            "overflow_x": null,
            "overflow_y": null,
            "padding": null,
            "right": null,
            "top": null,
            "visibility": null,
            "width": null
          }
        },
        "b767a9bfe1fd479a9d51155f2023d1fc": {
          "model_module": "@jupyter-widgets/controls",
          "model_name": "DescriptionStyleModel",
          "model_module_version": "1.5.0",
          "state": {
            "_model_module": "@jupyter-widgets/controls",
            "_model_module_version": "1.5.0",
            "_model_name": "DescriptionStyleModel",
            "_view_count": null,
            "_view_module": "@jupyter-widgets/base",
            "_view_module_version": "1.2.0",
            "_view_name": "StyleView",
            "description_width": ""
          }
        },
        "95ea79d1340c4bafb03fed93dc0bce7e": {
          "model_module": "@jupyter-widgets/base",
          "model_name": "LayoutModel",
          "model_module_version": "1.2.0",
          "state": {
            "_model_module": "@jupyter-widgets/base",
            "_model_module_version": "1.2.0",
            "_model_name": "LayoutModel",
            "_view_count": null,
            "_view_module": "@jupyter-widgets/base",
            "_view_module_version": "1.2.0",
            "_view_name": "LayoutView",
            "align_content": null,
            "align_items": null,
            "align_self": null,
            "border": null,
            "bottom": null,
            "display": null,
            "flex": null,
            "flex_flow": null,
            "grid_area": null,
            "grid_auto_columns": null,
            "grid_auto_flow": null,
            "grid_auto_rows": null,
            "grid_column": null,
            "grid_gap": null,
            "grid_row": null,
            "grid_template_areas": null,
            "grid_template_columns": null,
            "grid_template_rows": null,
            "height": null,
            "justify_content": null,
            "justify_items": null,
            "left": null,
            "margin": null,
            "max_height": null,
            "max_width": null,
            "min_height": null,
            "min_width": null,
            "object_fit": null,
            "object_position": null,
            "order": null,
            "overflow": null,
            "overflow_x": null,
            "overflow_y": null,
            "padding": null,
            "right": null,
            "top": null,
            "visibility": null,
            "width": null
          }
        },
        "9cf87d1e1b0644b6873f0136dc19c1ba": {
          "model_module": "@jupyter-widgets/controls",
          "model_name": "ProgressStyleModel",
          "model_module_version": "1.5.0",
          "state": {
            "_model_module": "@jupyter-widgets/controls",
            "_model_module_version": "1.5.0",
            "_model_name": "ProgressStyleModel",
            "_view_count": null,
            "_view_module": "@jupyter-widgets/base",
            "_view_module_version": "1.2.0",
            "_view_name": "StyleView",
            "bar_color": null,
            "description_width": ""
          }
        },
        "9cc1f44f52eb46db9f24674d74cdca86": {
          "model_module": "@jupyter-widgets/base",
          "model_name": "LayoutModel",
          "model_module_version": "1.2.0",
          "state": {
            "_model_module": "@jupyter-widgets/base",
            "_model_module_version": "1.2.0",
            "_model_name": "LayoutModel",
            "_view_count": null,
            "_view_module": "@jupyter-widgets/base",
            "_view_module_version": "1.2.0",
            "_view_name": "LayoutView",
            "align_content": null,
            "align_items": null,
            "align_self": null,
            "border": null,
            "bottom": null,
            "display": null,
            "flex": null,
            "flex_flow": null,
            "grid_area": null,
            "grid_auto_columns": null,
            "grid_auto_flow": null,
            "grid_auto_rows": null,
            "grid_column": null,
            "grid_gap": null,
            "grid_row": null,
            "grid_template_areas": null,
            "grid_template_columns": null,
            "grid_template_rows": null,
            "height": null,
            "justify_content": null,
            "justify_items": null,
            "left": null,
            "margin": null,
            "max_height": null,
            "max_width": null,
            "min_height": null,
            "min_width": null,
            "object_fit": null,
            "object_position": null,
            "order": null,
            "overflow": null,
            "overflow_x": null,
            "overflow_y": null,
            "padding": null,
            "right": null,
            "top": null,
            "visibility": null,
            "width": null
          }
        },
        "fc50f5ff54d143418ff12e9dd5e1e35e": {
          "model_module": "@jupyter-widgets/controls",
          "model_name": "DescriptionStyleModel",
          "model_module_version": "1.5.0",
          "state": {
            "_model_module": "@jupyter-widgets/controls",
            "_model_module_version": "1.5.0",
            "_model_name": "DescriptionStyleModel",
            "_view_count": null,
            "_view_module": "@jupyter-widgets/base",
            "_view_module_version": "1.2.0",
            "_view_name": "StyleView",
            "description_width": ""
          }
        },
        "4835f7bb14c44bed947803e0840fcca3": {
          "model_module": "@jupyter-widgets/controls",
          "model_name": "HBoxModel",
          "model_module_version": "1.5.0",
          "state": {
            "_dom_classes": [],
            "_model_module": "@jupyter-widgets/controls",
            "_model_module_version": "1.5.0",
            "_model_name": "HBoxModel",
            "_view_count": null,
            "_view_module": "@jupyter-widgets/controls",
            "_view_module_version": "1.5.0",
            "_view_name": "HBoxView",
            "box_style": "",
            "children": [
              "IPY_MODEL_95c5176941874935978a5a4e25bbb026",
              "IPY_MODEL_974db7a267474ec6accc0154d2db5eea",
              "IPY_MODEL_64ac9c66347d4d8ebbe949b4a8bfafa5"
            ],
            "layout": "IPY_MODEL_ddd4d60ac6a243118667dcc8dbcd690f"
          }
        },
        "95c5176941874935978a5a4e25bbb026": {
          "model_module": "@jupyter-widgets/controls",
          "model_name": "HTMLModel",
          "model_module_version": "1.5.0",
          "state": {
            "_dom_classes": [],
            "_model_module": "@jupyter-widgets/controls",
            "_model_module_version": "1.5.0",
            "_model_name": "HTMLModel",
            "_view_count": null,
            "_view_module": "@jupyter-widgets/controls",
            "_view_module_version": "1.5.0",
            "_view_name": "HTMLView",
            "description": "",
            "description_tooltip": null,
            "layout": "IPY_MODEL_d56314ddfa534ea9b9e9885a1b319a98",
            "placeholder": "​",
            "style": "IPY_MODEL_26a5ebd1b0184a74a766813508ffa27e",
            "value": "100%"
          }
        },
        "974db7a267474ec6accc0154d2db5eea": {
          "model_module": "@jupyter-widgets/controls",
          "model_name": "FloatProgressModel",
          "model_module_version": "1.5.0",
          "state": {
            "_dom_classes": [],
            "_model_module": "@jupyter-widgets/controls",
            "_model_module_version": "1.5.0",
            "_model_name": "FloatProgressModel",
            "_view_count": null,
            "_view_module": "@jupyter-widgets/controls",
            "_view_module_version": "1.5.0",
            "_view_name": "ProgressView",
            "bar_style": "success",
            "description": "",
            "description_tooltip": null,
            "layout": "IPY_MODEL_4ff0df185b594133ad9edc702eaac1b0",
            "max": 500,
            "min": 0,
            "orientation": "horizontal",
            "style": "IPY_MODEL_f6f8d62d397b45859edfa352fe812912",
            "value": 500
          }
        },
        "64ac9c66347d4d8ebbe949b4a8bfafa5": {
          "model_module": "@jupyter-widgets/controls",
          "model_name": "HTMLModel",
          "model_module_version": "1.5.0",
          "state": {
            "_dom_classes": [],
            "_model_module": "@jupyter-widgets/controls",
            "_model_module_version": "1.5.0",
            "_model_name": "HTMLModel",
            "_view_count": null,
            "_view_module": "@jupyter-widgets/controls",
            "_view_module_version": "1.5.0",
            "_view_name": "HTMLView",
            "description": "",
            "description_tooltip": null,
            "layout": "IPY_MODEL_286488d3c8d5447ebc170a9f352772a2",
            "placeholder": "​",
            "style": "IPY_MODEL_4e89a392c1b4449a8528f06aec4c0235",
            "value": " 500/500 [00:00&lt;00:00, 2266.69it/s]"
          }
        },
        "ddd4d60ac6a243118667dcc8dbcd690f": {
          "model_module": "@jupyter-widgets/base",
          "model_name": "LayoutModel",
          "model_module_version": "1.2.0",
          "state": {
            "_model_module": "@jupyter-widgets/base",
            "_model_module_version": "1.2.0",
            "_model_name": "LayoutModel",
            "_view_count": null,
            "_view_module": "@jupyter-widgets/base",
            "_view_module_version": "1.2.0",
            "_view_name": "LayoutView",
            "align_content": null,
            "align_items": null,
            "align_self": null,
            "border": null,
            "bottom": null,
            "display": null,
            "flex": null,
            "flex_flow": null,
            "grid_area": null,
            "grid_auto_columns": null,
            "grid_auto_flow": null,
            "grid_auto_rows": null,
            "grid_column": null,
            "grid_gap": null,
            "grid_row": null,
            "grid_template_areas": null,
            "grid_template_columns": null,
            "grid_template_rows": null,
            "height": null,
            "justify_content": null,
            "justify_items": null,
            "left": null,
            "margin": null,
            "max_height": null,
            "max_width": null,
            "min_height": null,
            "min_width": null,
            "object_fit": null,
            "object_position": null,
            "order": null,
            "overflow": null,
            "overflow_x": null,
            "overflow_y": null,
            "padding": null,
            "right": null,
            "top": null,
            "visibility": null,
            "width": null
          }
        },
        "d56314ddfa534ea9b9e9885a1b319a98": {
          "model_module": "@jupyter-widgets/base",
          "model_name": "LayoutModel",
          "model_module_version": "1.2.0",
          "state": {
            "_model_module": "@jupyter-widgets/base",
            "_model_module_version": "1.2.0",
            "_model_name": "LayoutModel",
            "_view_count": null,
            "_view_module": "@jupyter-widgets/base",
            "_view_module_version": "1.2.0",
            "_view_name": "LayoutView",
            "align_content": null,
            "align_items": null,
            "align_self": null,
            "border": null,
            "bottom": null,
            "display": null,
            "flex": null,
            "flex_flow": null,
            "grid_area": null,
            "grid_auto_columns": null,
            "grid_auto_flow": null,
            "grid_auto_rows": null,
            "grid_column": null,
            "grid_gap": null,
            "grid_row": null,
            "grid_template_areas": null,
            "grid_template_columns": null,
            "grid_template_rows": null,
            "height": null,
            "justify_content": null,
            "justify_items": null,
            "left": null,
            "margin": null,
            "max_height": null,
            "max_width": null,
            "min_height": null,
            "min_width": null,
            "object_fit": null,
            "object_position": null,
            "order": null,
            "overflow": null,
            "overflow_x": null,
            "overflow_y": null,
            "padding": null,
            "right": null,
            "top": null,
            "visibility": null,
            "width": null
          }
        },
        "26a5ebd1b0184a74a766813508ffa27e": {
          "model_module": "@jupyter-widgets/controls",
          "model_name": "DescriptionStyleModel",
          "model_module_version": "1.5.0",
          "state": {
            "_model_module": "@jupyter-widgets/controls",
            "_model_module_version": "1.5.0",
            "_model_name": "DescriptionStyleModel",
            "_view_count": null,
            "_view_module": "@jupyter-widgets/base",
            "_view_module_version": "1.2.0",
            "_view_name": "StyleView",
            "description_width": ""
          }
        },
        "4ff0df185b594133ad9edc702eaac1b0": {
          "model_module": "@jupyter-widgets/base",
          "model_name": "LayoutModel",
          "model_module_version": "1.2.0",
          "state": {
            "_model_module": "@jupyter-widgets/base",
            "_model_module_version": "1.2.0",
            "_model_name": "LayoutModel",
            "_view_count": null,
            "_view_module": "@jupyter-widgets/base",
            "_view_module_version": "1.2.0",
            "_view_name": "LayoutView",
            "align_content": null,
            "align_items": null,
            "align_self": null,
            "border": null,
            "bottom": null,
            "display": null,
            "flex": null,
            "flex_flow": null,
            "grid_area": null,
            "grid_auto_columns": null,
            "grid_auto_flow": null,
            "grid_auto_rows": null,
            "grid_column": null,
            "grid_gap": null,
            "grid_row": null,
            "grid_template_areas": null,
            "grid_template_columns": null,
            "grid_template_rows": null,
            "height": null,
            "justify_content": null,
            "justify_items": null,
            "left": null,
            "margin": null,
            "max_height": null,
            "max_width": null,
            "min_height": null,
            "min_width": null,
            "object_fit": null,
            "object_position": null,
            "order": null,
            "overflow": null,
            "overflow_x": null,
            "overflow_y": null,
            "padding": null,
            "right": null,
            "top": null,
            "visibility": null,
            "width": null
          }
        },
        "f6f8d62d397b45859edfa352fe812912": {
          "model_module": "@jupyter-widgets/controls",
          "model_name": "ProgressStyleModel",
          "model_module_version": "1.5.0",
          "state": {
            "_model_module": "@jupyter-widgets/controls",
            "_model_module_version": "1.5.0",
            "_model_name": "ProgressStyleModel",
            "_view_count": null,
            "_view_module": "@jupyter-widgets/base",
            "_view_module_version": "1.2.0",
            "_view_name": "StyleView",
            "bar_color": null,
            "description_width": ""
          }
        },
        "286488d3c8d5447ebc170a9f352772a2": {
          "model_module": "@jupyter-widgets/base",
          "model_name": "LayoutModel",
          "model_module_version": "1.2.0",
          "state": {
            "_model_module": "@jupyter-widgets/base",
            "_model_module_version": "1.2.0",
            "_model_name": "LayoutModel",
            "_view_count": null,
            "_view_module": "@jupyter-widgets/base",
            "_view_module_version": "1.2.0",
            "_view_name": "LayoutView",
            "align_content": null,
            "align_items": null,
            "align_self": null,
            "border": null,
            "bottom": null,
            "display": null,
            "flex": null,
            "flex_flow": null,
            "grid_area": null,
            "grid_auto_columns": null,
            "grid_auto_flow": null,
            "grid_auto_rows": null,
            "grid_column": null,
            "grid_gap": null,
            "grid_row": null,
            "grid_template_areas": null,
            "grid_template_columns": null,
            "grid_template_rows": null,
            "height": null,
            "justify_content": null,
            "justify_items": null,
            "left": null,
            "margin": null,
            "max_height": null,
            "max_width": null,
            "min_height": null,
            "min_width": null,
            "object_fit": null,
            "object_position": null,
            "order": null,
            "overflow": null,
            "overflow_x": null,
            "overflow_y": null,
            "padding": null,
            "right": null,
            "top": null,
            "visibility": null,
            "width": null
          }
        },
        "4e89a392c1b4449a8528f06aec4c0235": {
          "model_module": "@jupyter-widgets/controls",
          "model_name": "DescriptionStyleModel",
          "model_module_version": "1.5.0",
          "state": {
            "_model_module": "@jupyter-widgets/controls",
            "_model_module_version": "1.5.0",
            "_model_name": "DescriptionStyleModel",
            "_view_count": null,
            "_view_module": "@jupyter-widgets/base",
            "_view_module_version": "1.2.0",
            "_view_name": "StyleView",
            "description_width": ""
          }
        },
        "15210e62d6db448594c2c9246ab6d4f2": {
          "model_module": "@jupyter-widgets/controls",
          "model_name": "HBoxModel",
          "model_module_version": "1.5.0",
          "state": {
            "_dom_classes": [],
            "_model_module": "@jupyter-widgets/controls",
            "_model_module_version": "1.5.0",
            "_model_name": "HBoxModel",
            "_view_count": null,
            "_view_module": "@jupyter-widgets/controls",
            "_view_module_version": "1.5.0",
            "_view_name": "HBoxView",
            "box_style": "",
            "children": [
              "IPY_MODEL_5f2d7aa329c542c8887150144556cbe6",
              "IPY_MODEL_d19f5adb5c2d4a6881ea7f79064e77d6",
              "IPY_MODEL_4dc3ba9a915b4877b4d4d35f7e93a8b0"
            ],
            "layout": "IPY_MODEL_822967e3d26d4b9fa67396dc93868966"
          }
        },
        "5f2d7aa329c542c8887150144556cbe6": {
          "model_module": "@jupyter-widgets/controls",
          "model_name": "HTMLModel",
          "model_module_version": "1.5.0",
          "state": {
            "_dom_classes": [],
            "_model_module": "@jupyter-widgets/controls",
            "_model_module_version": "1.5.0",
            "_model_name": "HTMLModel",
            "_view_count": null,
            "_view_module": "@jupyter-widgets/controls",
            "_view_module_version": "1.5.0",
            "_view_name": "HTMLView",
            "description": "",
            "description_tooltip": null,
            "layout": "IPY_MODEL_526840c8b1af465eace3ea064a75a10a",
            "placeholder": "​",
            "style": "IPY_MODEL_d711ec43ef624da996cd2a63e3e1694a",
            "value": "100%"
          }
        },
        "d19f5adb5c2d4a6881ea7f79064e77d6": {
          "model_module": "@jupyter-widgets/controls",
          "model_name": "FloatProgressModel",
          "model_module_version": "1.5.0",
          "state": {
            "_dom_classes": [],
            "_model_module": "@jupyter-widgets/controls",
            "_model_module_version": "1.5.0",
            "_model_name": "FloatProgressModel",
            "_view_count": null,
            "_view_module": "@jupyter-widgets/controls",
            "_view_module_version": "1.5.0",
            "_view_name": "ProgressView",
            "bar_style": "success",
            "description": "",
            "description_tooltip": null,
            "layout": "IPY_MODEL_362ab383b9bd47d8a637706398864622",
            "max": 10000,
            "min": 0,
            "orientation": "horizontal",
            "style": "IPY_MODEL_3ec78fcebce04d519f6afce3923f5abb",
            "value": 10000
          }
        },
        "4dc3ba9a915b4877b4d4d35f7e93a8b0": {
          "model_module": "@jupyter-widgets/controls",
          "model_name": "HTMLModel",
          "model_module_version": "1.5.0",
          "state": {
            "_dom_classes": [],
            "_model_module": "@jupyter-widgets/controls",
            "_model_module_version": "1.5.0",
            "_model_name": "HTMLModel",
            "_view_count": null,
            "_view_module": "@jupyter-widgets/controls",
            "_view_module_version": "1.5.0",
            "_view_name": "HTMLView",
            "description": "",
            "description_tooltip": null,
            "layout": "IPY_MODEL_eee298ffb12c4db2b75f94d02efbe25b",
            "placeholder": "​",
            "style": "IPY_MODEL_a3e187389dda4c49bc9131aceb64bfa3",
            "value": " 10000/10000 [07:05&lt;00:00, 23.52it/s]"
          }
        },
        "822967e3d26d4b9fa67396dc93868966": {
          "model_module": "@jupyter-widgets/base",
          "model_name": "LayoutModel",
          "model_module_version": "1.2.0",
          "state": {
            "_model_module": "@jupyter-widgets/base",
            "_model_module_version": "1.2.0",
            "_model_name": "LayoutModel",
            "_view_count": null,
            "_view_module": "@jupyter-widgets/base",
            "_view_module_version": "1.2.0",
            "_view_name": "LayoutView",
            "align_content": null,
            "align_items": null,
            "align_self": null,
            "border": null,
            "bottom": null,
            "display": null,
            "flex": null,
            "flex_flow": null,
            "grid_area": null,
            "grid_auto_columns": null,
            "grid_auto_flow": null,
            "grid_auto_rows": null,
            "grid_column": null,
            "grid_gap": null,
            "grid_row": null,
            "grid_template_areas": null,
            "grid_template_columns": null,
            "grid_template_rows": null,
            "height": null,
            "justify_content": null,
            "justify_items": null,
            "left": null,
            "margin": null,
            "max_height": null,
            "max_width": null,
            "min_height": null,
            "min_width": null,
            "object_fit": null,
            "object_position": null,
            "order": null,
            "overflow": null,
            "overflow_x": null,
            "overflow_y": null,
            "padding": null,
            "right": null,
            "top": null,
            "visibility": null,
            "width": null
          }
        },
        "526840c8b1af465eace3ea064a75a10a": {
          "model_module": "@jupyter-widgets/base",
          "model_name": "LayoutModel",
          "model_module_version": "1.2.0",
          "state": {
            "_model_module": "@jupyter-widgets/base",
            "_model_module_version": "1.2.0",
            "_model_name": "LayoutModel",
            "_view_count": null,
            "_view_module": "@jupyter-widgets/base",
            "_view_module_version": "1.2.0",
            "_view_name": "LayoutView",
            "align_content": null,
            "align_items": null,
            "align_self": null,
            "border": null,
            "bottom": null,
            "display": null,
            "flex": null,
            "flex_flow": null,
            "grid_area": null,
            "grid_auto_columns": null,
            "grid_auto_flow": null,
            "grid_auto_rows": null,
            "grid_column": null,
            "grid_gap": null,
            "grid_row": null,
            "grid_template_areas": null,
            "grid_template_columns": null,
            "grid_template_rows": null,
            "height": null,
            "justify_content": null,
            "justify_items": null,
            "left": null,
            "margin": null,
            "max_height": null,
            "max_width": null,
            "min_height": null,
            "min_width": null,
            "object_fit": null,
            "object_position": null,
            "order": null,
            "overflow": null,
            "overflow_x": null,
            "overflow_y": null,
            "padding": null,
            "right": null,
            "top": null,
            "visibility": null,
            "width": null
          }
        },
        "d711ec43ef624da996cd2a63e3e1694a": {
          "model_module": "@jupyter-widgets/controls",
          "model_name": "DescriptionStyleModel",
          "model_module_version": "1.5.0",
          "state": {
            "_model_module": "@jupyter-widgets/controls",
            "_model_module_version": "1.5.0",
            "_model_name": "DescriptionStyleModel",
            "_view_count": null,
            "_view_module": "@jupyter-widgets/base",
            "_view_module_version": "1.2.0",
            "_view_name": "StyleView",
            "description_width": ""
          }
        },
        "362ab383b9bd47d8a637706398864622": {
          "model_module": "@jupyter-widgets/base",
          "model_name": "LayoutModel",
          "model_module_version": "1.2.0",
          "state": {
            "_model_module": "@jupyter-widgets/base",
            "_model_module_version": "1.2.0",
            "_model_name": "LayoutModel",
            "_view_count": null,
            "_view_module": "@jupyter-widgets/base",
            "_view_module_version": "1.2.0",
            "_view_name": "LayoutView",
            "align_content": null,
            "align_items": null,
            "align_self": null,
            "border": null,
            "bottom": null,
            "display": null,
            "flex": null,
            "flex_flow": null,
            "grid_area": null,
            "grid_auto_columns": null,
            "grid_auto_flow": null,
            "grid_auto_rows": null,
            "grid_column": null,
            "grid_gap": null,
            "grid_row": null,
            "grid_template_areas": null,
            "grid_template_columns": null,
            "grid_template_rows": null,
            "height": null,
            "justify_content": null,
            "justify_items": null,
            "left": null,
            "margin": null,
            "max_height": null,
            "max_width": null,
            "min_height": null,
            "min_width": null,
            "object_fit": null,
            "object_position": null,
            "order": null,
            "overflow": null,
            "overflow_x": null,
            "overflow_y": null,
            "padding": null,
            "right": null,
            "top": null,
            "visibility": null,
            "width": null
          }
        },
        "3ec78fcebce04d519f6afce3923f5abb": {
          "model_module": "@jupyter-widgets/controls",
          "model_name": "ProgressStyleModel",
          "model_module_version": "1.5.0",
          "state": {
            "_model_module": "@jupyter-widgets/controls",
            "_model_module_version": "1.5.0",
            "_model_name": "ProgressStyleModel",
            "_view_count": null,
            "_view_module": "@jupyter-widgets/base",
            "_view_module_version": "1.2.0",
            "_view_name": "StyleView",
            "bar_color": null,
            "description_width": ""
          }
        },
        "eee298ffb12c4db2b75f94d02efbe25b": {
          "model_module": "@jupyter-widgets/base",
          "model_name": "LayoutModel",
          "model_module_version": "1.2.0",
          "state": {
            "_model_module": "@jupyter-widgets/base",
            "_model_module_version": "1.2.0",
            "_model_name": "LayoutModel",
            "_view_count": null,
            "_view_module": "@jupyter-widgets/base",
            "_view_module_version": "1.2.0",
            "_view_name": "LayoutView",
            "align_content": null,
            "align_items": null,
            "align_self": null,
            "border": null,
            "bottom": null,
            "display": null,
            "flex": null,
            "flex_flow": null,
            "grid_area": null,
            "grid_auto_columns": null,
            "grid_auto_flow": null,
            "grid_auto_rows": null,
            "grid_column": null,
            "grid_gap": null,
            "grid_row": null,
            "grid_template_areas": null,
            "grid_template_columns": null,
            "grid_template_rows": null,
            "height": null,
            "justify_content": null,
            "justify_items": null,
            "left": null,
            "margin": null,
            "max_height": null,
            "max_width": null,
            "min_height": null,
            "min_width": null,
            "object_fit": null,
            "object_position": null,
            "order": null,
            "overflow": null,
            "overflow_x": null,
            "overflow_y": null,
            "padding": null,
            "right": null,
            "top": null,
            "visibility": null,
            "width": null
          }
        },
        "a3e187389dda4c49bc9131aceb64bfa3": {
          "model_module": "@jupyter-widgets/controls",
          "model_name": "DescriptionStyleModel",
          "model_module_version": "1.5.0",
          "state": {
            "_model_module": "@jupyter-widgets/controls",
            "_model_module_version": "1.5.0",
            "_model_name": "DescriptionStyleModel",
            "_view_count": null,
            "_view_module": "@jupyter-widgets/base",
            "_view_module_version": "1.2.0",
            "_view_name": "StyleView",
            "description_width": ""
          }
        },
        "e67985afabd041dd950711d3b1fb2104": {
          "model_module": "@jupyter-widgets/controls",
          "model_name": "HBoxModel",
          "model_module_version": "1.5.0",
          "state": {
            "_dom_classes": [],
            "_model_module": "@jupyter-widgets/controls",
            "_model_module_version": "1.5.0",
            "_model_name": "HBoxModel",
            "_view_count": null,
            "_view_module": "@jupyter-widgets/controls",
            "_view_module_version": "1.5.0",
            "_view_name": "HBoxView",
            "box_style": "",
            "children": [
              "IPY_MODEL_6d53edf0642540f38a1317c9c3998969",
              "IPY_MODEL_bd0484d5aba94c409d1e1b09ee3758dc",
              "IPY_MODEL_df72a99d583f4ab684d38c07ed402cc9"
            ],
            "layout": "IPY_MODEL_adc89e35b01b426f9d7b44a04786a606"
          }
        },
        "6d53edf0642540f38a1317c9c3998969": {
          "model_module": "@jupyter-widgets/controls",
          "model_name": "HTMLModel",
          "model_module_version": "1.5.0",
          "state": {
            "_dom_classes": [],
            "_model_module": "@jupyter-widgets/controls",
            "_model_module_version": "1.5.0",
            "_model_name": "HTMLModel",
            "_view_count": null,
            "_view_module": "@jupyter-widgets/controls",
            "_view_module_version": "1.5.0",
            "_view_name": "HTMLView",
            "description": "",
            "description_tooltip": null,
            "layout": "IPY_MODEL_6ff0b4859a644c54ad5608eeb255385f",
            "placeholder": "​",
            "style": "IPY_MODEL_192dee4b56334b49af4901d8b49f7a13",
            "value": "100%"
          }
        },
        "bd0484d5aba94c409d1e1b09ee3758dc": {
          "model_module": "@jupyter-widgets/controls",
          "model_name": "FloatProgressModel",
          "model_module_version": "1.5.0",
          "state": {
            "_dom_classes": [],
            "_model_module": "@jupyter-widgets/controls",
            "_model_module_version": "1.5.0",
            "_model_name": "FloatProgressModel",
            "_view_count": null,
            "_view_module": "@jupyter-widgets/controls",
            "_view_module_version": "1.5.0",
            "_view_name": "ProgressView",
            "bar_style": "success",
            "description": "",
            "description_tooltip": null,
            "layout": "IPY_MODEL_2b47e9ad1fa54294b16adad0cefec62e",
            "max": 10000,
            "min": 0,
            "orientation": "horizontal",
            "style": "IPY_MODEL_7b927c647bc843cf99e429081419f5c8",
            "value": 10000
          }
        },
        "df72a99d583f4ab684d38c07ed402cc9": {
          "model_module": "@jupyter-widgets/controls",
          "model_name": "HTMLModel",
          "model_module_version": "1.5.0",
          "state": {
            "_dom_classes": [],
            "_model_module": "@jupyter-widgets/controls",
            "_model_module_version": "1.5.0",
            "_model_name": "HTMLModel",
            "_view_count": null,
            "_view_module": "@jupyter-widgets/controls",
            "_view_module_version": "1.5.0",
            "_view_name": "HTMLView",
            "description": "",
            "description_tooltip": null,
            "layout": "IPY_MODEL_379ef99ded9d40e68cd767e6bd66fbf8",
            "placeholder": "​",
            "style": "IPY_MODEL_40784dac77c94161a7009e957f147e9c",
            "value": " 10000/10000 [00:00&lt;00:00, 57911.08it/s]"
          }
        },
        "adc89e35b01b426f9d7b44a04786a606": {
          "model_module": "@jupyter-widgets/base",
          "model_name": "LayoutModel",
          "model_module_version": "1.2.0",
          "state": {
            "_model_module": "@jupyter-widgets/base",
            "_model_module_version": "1.2.0",
            "_model_name": "LayoutModel",
            "_view_count": null,
            "_view_module": "@jupyter-widgets/base",
            "_view_module_version": "1.2.0",
            "_view_name": "LayoutView",
            "align_content": null,
            "align_items": null,
            "align_self": null,
            "border": null,
            "bottom": null,
            "display": null,
            "flex": null,
            "flex_flow": null,
            "grid_area": null,
            "grid_auto_columns": null,
            "grid_auto_flow": null,
            "grid_auto_rows": null,
            "grid_column": null,
            "grid_gap": null,
            "grid_row": null,
            "grid_template_areas": null,
            "grid_template_columns": null,
            "grid_template_rows": null,
            "height": null,
            "justify_content": null,
            "justify_items": null,
            "left": null,
            "margin": null,
            "max_height": null,
            "max_width": null,
            "min_height": null,
            "min_width": null,
            "object_fit": null,
            "object_position": null,
            "order": null,
            "overflow": null,
            "overflow_x": null,
            "overflow_y": null,
            "padding": null,
            "right": null,
            "top": null,
            "visibility": null,
            "width": null
          }
        },
        "6ff0b4859a644c54ad5608eeb255385f": {
          "model_module": "@jupyter-widgets/base",
          "model_name": "LayoutModel",
          "model_module_version": "1.2.0",
          "state": {
            "_model_module": "@jupyter-widgets/base",
            "_model_module_version": "1.2.0",
            "_model_name": "LayoutModel",
            "_view_count": null,
            "_view_module": "@jupyter-widgets/base",
            "_view_module_version": "1.2.0",
            "_view_name": "LayoutView",
            "align_content": null,
            "align_items": null,
            "align_self": null,
            "border": null,
            "bottom": null,
            "display": null,
            "flex": null,
            "flex_flow": null,
            "grid_area": null,
            "grid_auto_columns": null,
            "grid_auto_flow": null,
            "grid_auto_rows": null,
            "grid_column": null,
            "grid_gap": null,
            "grid_row": null,
            "grid_template_areas": null,
            "grid_template_columns": null,
            "grid_template_rows": null,
            "height": null,
            "justify_content": null,
            "justify_items": null,
            "left": null,
            "margin": null,
            "max_height": null,
            "max_width": null,
            "min_height": null,
            "min_width": null,
            "object_fit": null,
            "object_position": null,
            "order": null,
            "overflow": null,
            "overflow_x": null,
            "overflow_y": null,
            "padding": null,
            "right": null,
            "top": null,
            "visibility": null,
            "width": null
          }
        },
        "192dee4b56334b49af4901d8b49f7a13": {
          "model_module": "@jupyter-widgets/controls",
          "model_name": "DescriptionStyleModel",
          "model_module_version": "1.5.0",
          "state": {
            "_model_module": "@jupyter-widgets/controls",
            "_model_module_version": "1.5.0",
            "_model_name": "DescriptionStyleModel",
            "_view_count": null,
            "_view_module": "@jupyter-widgets/base",
            "_view_module_version": "1.2.0",
            "_view_name": "StyleView",
            "description_width": ""
          }
        },
        "2b47e9ad1fa54294b16adad0cefec62e": {
          "model_module": "@jupyter-widgets/base",
          "model_name": "LayoutModel",
          "model_module_version": "1.2.0",
          "state": {
            "_model_module": "@jupyter-widgets/base",
            "_model_module_version": "1.2.0",
            "_model_name": "LayoutModel",
            "_view_count": null,
            "_view_module": "@jupyter-widgets/base",
            "_view_module_version": "1.2.0",
            "_view_name": "LayoutView",
            "align_content": null,
            "align_items": null,
            "align_self": null,
            "border": null,
            "bottom": null,
            "display": null,
            "flex": null,
            "flex_flow": null,
            "grid_area": null,
            "grid_auto_columns": null,
            "grid_auto_flow": null,
            "grid_auto_rows": null,
            "grid_column": null,
            "grid_gap": null,
            "grid_row": null,
            "grid_template_areas": null,
            "grid_template_columns": null,
            "grid_template_rows": null,
            "height": null,
            "justify_content": null,
            "justify_items": null,
            "left": null,
            "margin": null,
            "max_height": null,
            "max_width": null,
            "min_height": null,
            "min_width": null,
            "object_fit": null,
            "object_position": null,
            "order": null,
            "overflow": null,
            "overflow_x": null,
            "overflow_y": null,
            "padding": null,
            "right": null,
            "top": null,
            "visibility": null,
            "width": null
          }
        },
        "7b927c647bc843cf99e429081419f5c8": {
          "model_module": "@jupyter-widgets/controls",
          "model_name": "ProgressStyleModel",
          "model_module_version": "1.5.0",
          "state": {
            "_model_module": "@jupyter-widgets/controls",
            "_model_module_version": "1.5.0",
            "_model_name": "ProgressStyleModel",
            "_view_count": null,
            "_view_module": "@jupyter-widgets/base",
            "_view_module_version": "1.2.0",
            "_view_name": "StyleView",
            "bar_color": null,
            "description_width": ""
          }
        },
        "379ef99ded9d40e68cd767e6bd66fbf8": {
          "model_module": "@jupyter-widgets/base",
          "model_name": "LayoutModel",
          "model_module_version": "1.2.0",
          "state": {
            "_model_module": "@jupyter-widgets/base",
            "_model_module_version": "1.2.0",
            "_model_name": "LayoutModel",
            "_view_count": null,
            "_view_module": "@jupyter-widgets/base",
            "_view_module_version": "1.2.0",
            "_view_name": "LayoutView",
            "align_content": null,
            "align_items": null,
            "align_self": null,
            "border": null,
            "bottom": null,
            "display": null,
            "flex": null,
            "flex_flow": null,
            "grid_area": null,
            "grid_auto_columns": null,
            "grid_auto_flow": null,
            "grid_auto_rows": null,
            "grid_column": null,
            "grid_gap": null,
            "grid_row": null,
            "grid_template_areas": null,
            "grid_template_columns": null,
            "grid_template_rows": null,
            "height": null,
            "justify_content": null,
            "justify_items": null,
            "left": null,
            "margin": null,
            "max_height": null,
            "max_width": null,
            "min_height": null,
            "min_width": null,
            "object_fit": null,
            "object_position": null,
            "order": null,
            "overflow": null,
            "overflow_x": null,
            "overflow_y": null,
            "padding": null,
            "right": null,
            "top": null,
            "visibility": null,
            "width": null
          }
        },
        "40784dac77c94161a7009e957f147e9c": {
          "model_module": "@jupyter-widgets/controls",
          "model_name": "DescriptionStyleModel",
          "model_module_version": "1.5.0",
          "state": {
            "_model_module": "@jupyter-widgets/controls",
            "_model_module_version": "1.5.0",
            "_model_name": "DescriptionStyleModel",
            "_view_count": null,
            "_view_module": "@jupyter-widgets/base",
            "_view_module_version": "1.2.0",
            "_view_name": "StyleView",
            "description_width": ""
          }
        }
      }
    }
  },
  "nbformat": 4,
  "nbformat_minor": 0
}