{
  "cells": [
    {
      "cell_type": "code",
      "execution_count": null,
      "metadata": {
        "id": "ijGzTHJJUCPY"
      },
      "outputs": [],
      "source": [
        "# Copyright 2024 Google LLC\n",
        "#\n",
        "# Licensed under the Apache License, Version 2.0 (the \"License\");\n",
        "# you may not use this file except in compliance with the License.\n",
        "# You may obtain a copy of the License at\n",
        "#\n",
        "#     https://www.apache.org/licenses/LICENSE-2.0\n",
        "#\n",
        "# Unless required by applicable law or agreed to in writing, software\n",
        "# distributed under the License is distributed on an \"AS IS\" BASIS,\n",
        "# WITHOUT WARRANTIES OR CONDITIONS OF ANY KIND, either express or implied.\n",
        "# See the License for the specific language governing permissions and\n",
        "# limitations under the License."
      ]
    },
    {
      "cell_type": "markdown",
      "metadata": {
        "id": "NDsTUvKjwHBW"
      },
      "source": [
        "# Introduction to Vertex AI Embeddings - Text & Multimodal\n",
        "\n",
        "<table align=\"left\">\n",
        "  <td style=\"text-align: center\">\n",
        "    <a href=\"https://colab.research.google.com/github/GoogleCloudPlatform/generative-ai/blob/main/embeddings/intro_multimodal_embeddings.ipynb\">\n",
        "      <img width=\"32px\" src=\"https://www.gstatic.com/pantheon/images/bigquery/welcome_page/colab-logo.svg\" alt=\"Google Colaboratory logo\"><br> Run in Colab\n",
        "    </a>\n",
        "  </td>\n",
        "  <td style=\"text-align: center\">\n",
        "    <a href=\"https://console.cloud.google.com/vertex-ai/colab/import/https:%2F%2Fraw.githubusercontent.com%2FGoogleCloudPlatform%2Fgenerative-ai%2Fmain%2Fembeddings%2Fintro_multimodal_embeddings.ipynb\">\n",
        "      <img width=\"32px\" src=\"https://lh3.googleusercontent.com/JmcxdQi-qOpctIvWKgPtrzZdJJK-J3sWE1RsfjZNwshCFgE_9fULcNpuXYTilIR2hjwN\" alt=\"Google Cloud Colab Enterprise logo\"><br> Run in Colab Enterprise\n",
        "    </a>\n",
        "  </td>\n",
        "  <td style=\"text-align: center\">\n",
        "    <a href=\"https://github.com/GoogleCloudPlatform/generative-ai/blob/main/embeddings/intro_multimodal_embeddings.ipynb\">\n",
        "      <img width=\"32px\" src=\"https://upload.wikimedia.org/wikipedia/commons/9/91/Octicons-mark-github.svg\" alt=\"GitHub logo\"><br> View on GitHub\n",
        "    </a>\n",
        "  </td>\n",
        "  <td style=\"text-align: center\">\n",
        "    <a href=\"https://console.cloud.google.com/vertex-ai/workbench/deploy-notebook?download_url=https://raw.githubusercontent.com/GoogleCloudPlatform/generative-ai/main/embeddings/intro_multimodal_embeddings.ipynb\">\n",
        "      <img src=\"https://www.gstatic.com/images/branding/gcpiconscolors/vertexai/v1/32px.svg\" alt=\"Vertex AI logo\"><br> Open in Vertex AI Workbench\n",
        "    </a>\n",
        "  </td>    \n",
        "</table>\n",
        "\n",
        "<div style=\"clear: both;\"></div>\n",
        "\n",
        "<b>Share to:</b>\n",
        "\n",
        "<a href=\"https://www.linkedin.com/sharing/share-offsite/?url=https%3A//github.com/GoogleCloudPlatform/generative-ai/blob/main/embeddings/intro_multimodal_embeddings.ipynb\" target=\"_blank\">\n",
        "  <img width=\"20px\" src=\"https://upload.wikimedia.org/wikipedia/commons/8/81/LinkedIn_icon.svg\" alt=\"LinkedIn logo\">\n",
        "</a>\n",
        "\n",
        "<a href=\"https://bsky.app/intent/compose?text=https%3A//github.com/GoogleCloudPlatform/generative-ai/blob/main/embeddings/intro_multimodal_embeddings.ipynb\" target=\"_blank\">\n",
        "  <img width=\"20px\" src=\"https://upload.wikimedia.org/wikipedia/commons/7/7a/Bluesky_Logo.svg\" alt=\"Bluesky logo\">\n",
        "</a>\n",
        "\n",
        "<a href=\"https://twitter.com/intent/tweet?url=https%3A//github.com/GoogleCloudPlatform/generative-ai/blob/main/embeddings/intro_multimodal_embeddings.ipynb\" target=\"_blank\">\n",
        "  <img width=\"20px\" src=\"https://upload.wikimedia.org/wikipedia/commons/5/53/X_logo_2023_original.svg\" alt=\"X logo\">\n",
        "</a>\n",
        "\n",
        "<a href=\"https://reddit.com/submit?url=https%3A//github.com/GoogleCloudPlatform/generative-ai/blob/main/embeddings/intro_multimodal_embeddings.ipynb\" target=\"_blank\">\n",
        "  <img width=\"20px\" src=\"https://redditinc.com/hubfs/Reddit%20Inc/Brand/Reddit_Logo.png\" alt=\"Reddit logo\">\n",
        "</a>\n",
        "\n",
        "<a href=\"https://www.facebook.com/sharer/sharer.php?u=https%3A//github.com/GoogleCloudPlatform/generative-ai/blob/main/embeddings/intro_multimodal_embeddings.ipynb\" target=\"_blank\">\n",
        "  <img width=\"20px\" src=\"https://upload.wikimedia.org/wikipedia/commons/5/51/Facebook_f_logo_%282019%29.svg\" alt=\"Facebook logo\">\n",
        "</a>            "
      ]
    },
    {
      "cell_type": "markdown",
      "metadata": {
        "id": "4uoRmYQsKBgl"
      },
      "source": [
        "| | |\n",
        "|-|-|\n",
        "|Author(s) | [Lavi Nigam](https://github.com/lavinigam-gcp) , [Kaz Sato]()  |"
      ]
    },
    {
      "cell_type": "markdown",
      "metadata": {
        "id": "RQT500QqVPIb"
      },
      "source": [
        "### Objectives\n",
        "\n",
        "In this notebook, you will explore:\n",
        "* Vertex AI Multimodal Embeddings API (Texts, Images & Video)\n",
        "* Building simple search with e-commerce data\n",
        "    - Find product based on text query\n",
        "    - Find product based on image\n",
        "    - Find Video based on video"
      ]
    },
    {
      "cell_type": "markdown",
      "metadata": {
        "id": "76476d2db2c0"
      },
      "source": [
        "## Multimodal Embeddings\n",
        "\n",
        "[Vertex AI Multimodal Embeddings API](https://cloud.google.com/vertex-ai/generative-ai/docs/embeddings/get-multimodal-embeddings) generates [ 128, 256, 512, and 1408 (default) ] -dimension vectors based on the input you provide, which can include a combination of image, text, and video data. The embedding vectors can then be used for subsequent tasks like image classification or video content moderation.\n",
        "\n",
        "The image embedding vector and text embedding vector generated with this API shares the semantic space. Consequently, these vectors can be used interchangeably for use cases like searching image by text, or searching video by image.\n",
        "\n",
        "**Use cases**\n",
        "\n",
        "**Image and text:**\n",
        "\n",
        "* Image classification: Takes an image as input and predicts one or more classes (labels).\n",
        "* Image search: Search relevant or similar images.\n",
        "* Recommendations: Generate product or ad recommendations based on images.\n",
        "\n",
        "**Image, text, and video:**\n",
        "\n",
        "* Recommendations: Generate product or advertisement recommendations based on videos (similarity search).\n",
        "* Video content search\n",
        "    * Using semantic search: Take a text as an input, and return a set of ranked frames matching the query.\n",
        "* Using similarity search:\n",
        "    * Take a video as an input, and return a set of videos matching the query.\n",
        "    * Take an image as an input, and return a set of videos matching the query.\n",
        "* Video classification: Takes a video as input and predicts one or more classes."
      ]
    },
    {
      "cell_type": "markdown",
      "metadata": {
        "id": "DXJpXzKrh2rJ"
      },
      "source": [
        "## Getting Started"
      ]
    },
    {
      "cell_type": "markdown",
      "metadata": {
        "id": "N5afkyDMSBW5"
      },
      "source": [
        "### Install Vertex AI SDK for Python and other dependencies"
      ]
    },
    {
      "cell_type": "code",
      "execution_count": null,
      "metadata": {
        "id": "kc4WxYmLSBW5"
      },
      "outputs": [],
      "source": [
        "%pip install --upgrade --user google-cloud-aiplatform"
      ]
    },
    {
      "cell_type": "markdown",
      "metadata": {
        "id": "R5Xep4W9lq-Z"
      },
      "source": [
        "### Restart current runtime\n",
        "\n",
        "To use the newly installed packages in this Jupyter runtime, you must restart the runtime. You can do this by running the cell below, which will restart the current kernel."
      ]
    },
    {
      "cell_type": "code",
      "execution_count": null,
      "metadata": {
        "id": "XRvKdaPDTznN"
      },
      "outputs": [],
      "source": [
        "# Restart kernel after installs so that your environment can access the new packages\n",
        "import IPython\n",
        "\n",
        "app = IPython.Application.instance()\n",
        "app.kernel.do_shutdown(True)"
      ]
    },
    {
      "cell_type": "markdown",
      "metadata": {
        "id": "SbmM4z7FOBpM"
      },
      "source": [
        "<div class=\"alert alert-block alert-warning\">\n",
        "<b>⚠️ The kernel is going to restart. Please wait until it is finished before continuing to the next step. ⚠️</b>\n",
        "</div>\n"
      ]
    },
    {
      "cell_type": "markdown",
      "metadata": {
        "id": "FtsU9Bw9h2rL"
      },
      "source": [
        "### Authenticate your notebook environment (Colab only)\n",
        "\n",
        "If you are running this notebook on Google Colab, run the following cell to authenticate your environment. This step is not required if you are using [Vertex AI Workbench](https://cloud.google.com/vertex-ai-workbench)."
      ]
    },
    {
      "cell_type": "code",
      "execution_count": 1,
      "metadata": {
        "id": "GpYEyLsOh2rL"
      },
      "outputs": [],
      "source": [
        "import sys\n",
        "\n",
        "# Additional authentication is required for Google Colab\n",
        "if \"google.colab\" in sys.modules:\n",
        "    # Authenticate user to Google Cloud\n",
        "    from google.colab import auth\n",
        "\n",
        "    auth.authenticate_user()"
      ]
    },
    {
      "cell_type": "markdown",
      "metadata": {
        "id": "O1vKZZoEh2rL"
      },
      "source": [
        "### Set Google Cloud project information and initialize Vertex AI SDK\n",
        "\n",
        "To get started using Vertex AI, you must have an existing Google Cloud project and [enable the Vertex AI API](https://console.cloud.google.com/flows/enableapi?apiid=aiplatform.googleapis.com).\n",
        "\n",
        "Learn more about [setting up a project and a development environment](https://cloud.google.com/vertex-ai/docs/start/cloud-environment)."
      ]
    },
    {
      "cell_type": "code",
      "execution_count": 2,
      "metadata": {
        "id": "gJqZ76rJh2rM"
      },
      "outputs": [
        {
          "name": "stdout",
          "output_type": "stream",
          "text": [
            "Your project ID is: gcp-samples-ic0\n"
          ]
        }
      ],
      "source": [
        "# Define project information\n",
        "\n",
        "import sys\n",
        "\n",
        "# if not running on Colab, try to get the PROJECT_ID automatically\n",
        "if \"google.colab\" not in sys.modules:\n",
        "    import subprocess\n",
        "\n",
        "    PROJECT_ID = subprocess.check_output(\n",
        "        [\"gcloud\", \"config\", \"get-value\", \"project\"], text=True\n",
        "    ).strip()\n",
        "else:\n",
        "    PROJECT_ID = \"[YOUR PROJECT ID]\"  # @param {type:\"string\"}\n",
        "LOCATION = \"us-central1\"\n",
        "\n",
        "print(f\"Your project ID is: {PROJECT_ID}\")"
      ]
    },
    {
      "cell_type": "code",
      "execution_count": 3,
      "metadata": {
        "id": "2ebff23fd88a"
      },
      "outputs": [],
      "source": [
        "import sys\n",
        "\n",
        "# Initialize Vertex AI\n",
        "import vertexai\n",
        "\n",
        "vertexai.init(project=PROJECT_ID, location=LOCATION)"
      ]
    },
    {
      "cell_type": "markdown",
      "metadata": {
        "id": "BuQwwRiniVFG"
      },
      "source": [
        "### Import libraries"
      ]
    },
    {
      "cell_type": "code",
      "execution_count": 4,
      "metadata": {
        "id": "rtMowvm-yQ97"
      },
      "outputs": [],
      "source": [
        "# for image processing\n",
        "\n",
        "# for data processing\n",
        "import numpy as np\n",
        "import pandas as pd\n",
        "\n",
        "pd.options.mode.chained_assignment = None  # default='warn'\n",
        "\n",
        "# for showing images and videos\n",
        "from IPython.display import HTML\n",
        "from IPython.display import Image as ImageByte\n",
        "from IPython.display import display\n",
        "\n",
        "# vertex ai sdk\n",
        "import vertexai\n",
        "from vertexai.vision_models import Image as VMImage\n",
        "from vertexai.vision_models import MultiModalEmbeddingModel\n",
        "from vertexai.vision_models import Video as VMVideo\n",
        "from vertexai.vision_models import VideoSegmentConfig"
      ]
    },
    {
      "cell_type": "markdown",
      "metadata": {
        "id": "r-TX_R_xh2rM"
      },
      "source": [
        "### Load Vertex AI Text and Multimodal Embeddings"
      ]
    },
    {
      "cell_type": "code",
      "execution_count": 5,
      "metadata": {
        "id": "SvMwSRJJh2rM"
      },
      "outputs": [],
      "source": [
        "mm_embedding_model = MultiModalEmbeddingModel.from_pretrained(\"multimodalembedding\")"
      ]
    },
    {
      "cell_type": "markdown",
      "metadata": {
        "id": "2176030e88a0"
      },
      "source": [
        "## Generate Text Embeddings"
      ]
    },
    {
      "cell_type": "code",
      "execution_count": 6,
      "metadata": {
        "id": "v28L_YJRzcEK"
      },
      "outputs": [],
      "source": [
        "def get_text_embedding(\n",
        "    text: str = \"banana muffins\",\n",
        "    dimension: int | None = 1408,\n",
        ") -> list[float]:\n",
        "    embedding = mm_embedding_model.get_embeddings(\n",
        "        contextual_text=text,\n",
        "        dimension=dimension,\n",
        "    )\n",
        "    return embedding.text_embedding"
      ]
    },
    {
      "cell_type": "code",
      "execution_count": 7,
      "metadata": {
        "id": "beaMkDH9zlr2"
      },
      "outputs": [
        {
          "name": "stdout",
          "output_type": "stream",
          "text": [
            "length of embedding:  1408\n",
            "First five values are:  [-0.0211111214, -0.0376161486, 0.00776624819, -0.00773079833, 0.0153800147]\n"
          ]
        }
      ],
      "source": [
        "text_emb = get_text_embedding(text=\"What is life?\")\n",
        "print(\"length of embedding: \", len(text_emb))\n",
        "print(\"First five values are: \", text_emb[:5])"
      ]
    },
    {
      "cell_type": "markdown",
      "metadata": {
        "id": "oXC0cEjDywIM"
      },
      "source": [
        "#### Embeddings and Pandas DataFrames"
      ]
    },
    {
      "cell_type": "markdown",
      "metadata": {
        "id": "oug-MkjFywzc"
      },
      "source": [
        "If your text is stored in a column of a DataFrame, you can create a new column with the embeddings with the example below."
      ]
    },
    {
      "cell_type": "code",
      "execution_count": 8,
      "metadata": {
        "id": "trpS0J6ByNd0"
      },
      "outputs": [
        {
          "data": {
            "text/html": [
              "<div>\n",
              "<style scoped>\n",
              "    .dataframe tbody tr th:only-of-type {\n",
              "        vertical-align: middle;\n",
              "    }\n",
              "\n",
              "    .dataframe tbody tr th {\n",
              "        vertical-align: top;\n",
              "    }\n",
              "\n",
              "    .dataframe thead th {\n",
              "        text-align: right;\n",
              "    }\n",
              "</style>\n",
              "<table border=\"1\" class=\"dataframe\">\n",
              "  <thead>\n",
              "    <tr style=\"text-align: right;\">\n",
              "      <th></th>\n",
              "      <th>text</th>\n",
              "    </tr>\n",
              "  </thead>\n",
              "  <tbody>\n",
              "    <tr>\n",
              "      <th>0</th>\n",
              "      <td>i really enjoyed the movie last night</td>\n",
              "    </tr>\n",
              "    <tr>\n",
              "      <th>1</th>\n",
              "      <td>so many amazing cinematic scenes yesterday</td>\n",
              "    </tr>\n",
              "    <tr>\n",
              "      <th>2</th>\n",
              "      <td>had a great time writing my Python scripts a f...</td>\n",
              "    </tr>\n",
              "    <tr>\n",
              "      <th>3</th>\n",
              "      <td>huge sense of relief when my .py script finall...</td>\n",
              "    </tr>\n",
              "    <tr>\n",
              "      <th>4</th>\n",
              "      <td>O Romeo, Romeo, wherefore art thou Romeo?</td>\n",
              "    </tr>\n",
              "  </tbody>\n",
              "</table>\n",
              "</div>"
            ],
            "text/plain": [
              "                                                text\n",
              "0              i really enjoyed the movie last night\n",
              "1         so many amazing cinematic scenes yesterday\n",
              "2  had a great time writing my Python scripts a f...\n",
              "3  huge sense of relief when my .py script finall...\n",
              "4          O Romeo, Romeo, wherefore art thou Romeo?"
            ]
          },
          "execution_count": 8,
          "metadata": {},
          "output_type": "execute_result"
        }
      ],
      "source": [
        "import pandas as pd\n",
        "\n",
        "text = [\n",
        "    \"i really enjoyed the movie last night\",\n",
        "    \"so many amazing cinematic scenes yesterday\",\n",
        "    \"had a great time writing my Python scripts a few days ago\",\n",
        "    \"huge sense of relief when my .py script finally ran without error\",\n",
        "    \"O Romeo, Romeo, wherefore art thou Romeo?\",\n",
        "]\n",
        "\n",
        "df = pd.DataFrame(text, columns=[\"text\"])\n",
        "df"
      ]
    },
    {
      "cell_type": "markdown",
      "metadata": {
        "id": "luwdn0qA0QZN"
      },
      "source": [
        "Create a new column, `embeddings`, using the [apply](https://pandas.pydata.org/docs/reference/api/pandas.DataFrame.apply.html) function in pandas with the embeddings model."
      ]
    },
    {
      "cell_type": "code",
      "execution_count": 9,
      "metadata": {
        "id": "etrempeSyQ9V"
      },
      "outputs": [
        {
          "data": {
            "text/html": [
              "<div>\n",
              "<style scoped>\n",
              "    .dataframe tbody tr th:only-of-type {\n",
              "        vertical-align: middle;\n",
              "    }\n",
              "\n",
              "    .dataframe tbody tr th {\n",
              "        vertical-align: top;\n",
              "    }\n",
              "\n",
              "    .dataframe thead th {\n",
              "        text-align: right;\n",
              "    }\n",
              "</style>\n",
              "<table border=\"1\" class=\"dataframe\">\n",
              "  <thead>\n",
              "    <tr style=\"text-align: right;\">\n",
              "      <th></th>\n",
              "      <th>text</th>\n",
              "      <th>embedding</th>\n",
              "    </tr>\n",
              "  </thead>\n",
              "  <tbody>\n",
              "    <tr>\n",
              "      <th>0</th>\n",
              "      <td>i really enjoyed the movie last night</td>\n",
              "      <td>[0.00766784186, -0.0263111852, -0.00322942785,...</td>\n",
              "    </tr>\n",
              "    <tr>\n",
              "      <th>1</th>\n",
              "      <td>so many amazing cinematic scenes yesterday</td>\n",
              "      <td>[-0.00605897605, -0.0173093341, 0.0134883579, ...</td>\n",
              "    </tr>\n",
              "    <tr>\n",
              "      <th>2</th>\n",
              "      <td>had a great time writing my Python scripts a f...</td>\n",
              "      <td>[0.0103363758, 0.00213950383, 0.000450726831, ...</td>\n",
              "    </tr>\n",
              "    <tr>\n",
              "      <th>3</th>\n",
              "      <td>huge sense of relief when my .py script finall...</td>\n",
              "      <td>[0.0146734193, -0.045813, 0.014104994, -0.0010...</td>\n",
              "    </tr>\n",
              "    <tr>\n",
              "      <th>4</th>\n",
              "      <td>O Romeo, Romeo, wherefore art thou Romeo?</td>\n",
              "      <td>[0.0184159577, -0.0649260134, -0.0103790155, -...</td>\n",
              "    </tr>\n",
              "  </tbody>\n",
              "</table>\n",
              "</div>"
            ],
            "text/plain": [
              "                                                text  \\\n",
              "0              i really enjoyed the movie last night   \n",
              "1         so many amazing cinematic scenes yesterday   \n",
              "2  had a great time writing my Python scripts a f...   \n",
              "3  huge sense of relief when my .py script finall...   \n",
              "4          O Romeo, Romeo, wherefore art thou Romeo?   \n",
              "\n",
              "                                           embedding  \n",
              "0  [0.00766784186, -0.0263111852, -0.00322942785,...  \n",
              "1  [-0.00605897605, -0.0173093341, 0.0134883579, ...  \n",
              "2  [0.0103363758, 0.00213950383, 0.000450726831, ...  \n",
              "3  [0.0146734193, -0.045813, 0.014104994, -0.0010...  \n",
              "4  [0.0184159577, -0.0649260134, -0.0103790155, -...  "
            ]
          },
          "execution_count": 9,
          "metadata": {},
          "output_type": "execute_result"
        }
      ],
      "source": [
        "df[\"embedding\"] = df.apply(lambda x: get_text_embedding(x.text), axis=1)\n",
        "df"
      ]
    },
    {
      "cell_type": "markdown",
      "metadata": {
        "id": "3_rtywdA0cv6"
      },
      "source": [
        "#### Comparing similarity of text examples using cosine similarity"
      ]
    },
    {
      "cell_type": "code",
      "execution_count": 10,
      "metadata": {
        "id": "BXtUBuV9y4oX"
      },
      "outputs": [
        {
          "data": {
            "text/html": [
              "<div>\n",
              "<style scoped>\n",
              "    .dataframe tbody tr th:only-of-type {\n",
              "        vertical-align: middle;\n",
              "    }\n",
              "\n",
              "    .dataframe tbody tr th {\n",
              "        vertical-align: top;\n",
              "    }\n",
              "\n",
              "    .dataframe thead th {\n",
              "        text-align: right;\n",
              "    }\n",
              "</style>\n",
              "<table border=\"1\" class=\"dataframe\">\n",
              "  <thead>\n",
              "    <tr style=\"text-align: right;\">\n",
              "      <th></th>\n",
              "      <th>i really enjoyed the movie last night</th>\n",
              "      <th>so many amazing cinematic scenes yesterday</th>\n",
              "      <th>had a great time writing my Python scripts a few days ago</th>\n",
              "      <th>huge sense of relief when my .py script finally ran without error</th>\n",
              "      <th>O Romeo, Romeo, wherefore art thou Romeo?</th>\n",
              "    </tr>\n",
              "  </thead>\n",
              "  <tbody>\n",
              "    <tr>\n",
              "      <th>i really enjoyed the movie last night</th>\n",
              "      <td>1.000000</td>\n",
              "      <td>0.804743</td>\n",
              "      <td>0.707345</td>\n",
              "      <td>0.474272</td>\n",
              "      <td>0.387895</td>\n",
              "    </tr>\n",
              "    <tr>\n",
              "      <th>so many amazing cinematic scenes yesterday</th>\n",
              "      <td>0.804743</td>\n",
              "      <td>1.000000</td>\n",
              "      <td>0.673480</td>\n",
              "      <td>0.449804</td>\n",
              "      <td>0.375416</td>\n",
              "    </tr>\n",
              "    <tr>\n",
              "      <th>had a great time writing my Python scripts a few days ago</th>\n",
              "      <td>0.707345</td>\n",
              "      <td>0.673480</td>\n",
              "      <td>1.000000</td>\n",
              "      <td>0.457659</td>\n",
              "      <td>0.337939</td>\n",
              "    </tr>\n",
              "    <tr>\n",
              "      <th>huge sense of relief when my .py script finally ran without error</th>\n",
              "      <td>0.474272</td>\n",
              "      <td>0.449804</td>\n",
              "      <td>0.457659</td>\n",
              "      <td>1.000000</td>\n",
              "      <td>0.399580</td>\n",
              "    </tr>\n",
              "    <tr>\n",
              "      <th>O Romeo, Romeo, wherefore art thou Romeo?</th>\n",
              "      <td>0.387895</td>\n",
              "      <td>0.375416</td>\n",
              "      <td>0.337939</td>\n",
              "      <td>0.399580</td>\n",
              "      <td>1.000000</td>\n",
              "    </tr>\n",
              "  </tbody>\n",
              "</table>\n",
              "</div>"
            ],
            "text/plain": [
              "                                                    i really enjoyed the movie last night  \\\n",
              "i really enjoyed the movie last night                                            1.000000   \n",
              "so many amazing cinematic scenes yesterday                                       0.804743   \n",
              "had a great time writing my Python scripts a fe...                               0.707345   \n",
              "huge sense of relief when my .py script finally...                               0.474272   \n",
              "O Romeo, Romeo, wherefore art thou Romeo?                                        0.387895   \n",
              "\n",
              "                                                    so many amazing cinematic scenes yesterday  \\\n",
              "i really enjoyed the movie last night                                                 0.804743   \n",
              "so many amazing cinematic scenes yesterday                                            1.000000   \n",
              "had a great time writing my Python scripts a fe...                                    0.673480   \n",
              "huge sense of relief when my .py script finally...                                    0.449804   \n",
              "O Romeo, Romeo, wherefore art thou Romeo?                                             0.375416   \n",
              "\n",
              "                                                    had a great time writing my Python scripts a few days ago  \\\n",
              "i really enjoyed the movie last night                                                        0.707345           \n",
              "so many amazing cinematic scenes yesterday                                                   0.673480           \n",
              "had a great time writing my Python scripts a fe...                                           1.000000           \n",
              "huge sense of relief when my .py script finally...                                           0.457659           \n",
              "O Romeo, Romeo, wherefore art thou Romeo?                                                    0.337939           \n",
              "\n",
              "                                                    huge sense of relief when my .py script finally ran without error  \\\n",
              "i really enjoyed the movie last night                                                        0.474272                   \n",
              "so many amazing cinematic scenes yesterday                                                   0.449804                   \n",
              "had a great time writing my Python scripts a fe...                                           0.457659                   \n",
              "huge sense of relief when my .py script finally...                                           1.000000                   \n",
              "O Romeo, Romeo, wherefore art thou Romeo?                                                    0.399580                   \n",
              "\n",
              "                                                    O Romeo, Romeo, wherefore art thou Romeo?  \n",
              "i really enjoyed the movie last night                                                0.387895  \n",
              "so many amazing cinematic scenes yesterday                                           0.375416  \n",
              "had a great time writing my Python scripts a fe...                                   0.337939  \n",
              "huge sense of relief when my .py script finally...                                   0.399580  \n",
              "O Romeo, Romeo, wherefore art thou Romeo?                                            1.000000  "
            ]
          },
          "execution_count": 10,
          "metadata": {},
          "output_type": "execute_result"
        }
      ],
      "source": [
        "from sklearn.metrics.pairwise import cosine_similarity\n",
        "\n",
        "cos_sim_array = cosine_similarity(list(df.embedding.values))\n",
        "\n",
        "# display as DataFrame\n",
        "df = pd.DataFrame(cos_sim_array, index=text, columns=text)\n",
        "df"
      ]
    },
    {
      "cell_type": "markdown",
      "metadata": {
        "id": "BFE6uErz0gGe"
      },
      "source": [
        "To make this easier to understand, you can use a heatmap. Naturally, text is most similar when they are identical (score of 1.0). The next highest scores are when sentences are semantically similar. The lowest scores are when sentences are quite different in meaning."
      ]
    },
    {
      "cell_type": "code",
      "execution_count": 11,
      "metadata": {
        "id": "6E4cfugj0gmC"
      },
      "outputs": [
        {
          "data": {
            "text/plain": [
              "[Text(0.5, 1, 'i really enjoyed the movie last night'),\n",
              " Text(1.5, 1, 'so many amazing cinematic scenes yesterday'),\n",
              " Text(2.5, 1, 'had a great time writing my Python scripts a few days ago'),\n",
              " Text(3.5, 1, 'huge sense of relief when my .py script finally ran without error'),\n",
              " Text(4.5, 1, 'O Romeo, Romeo, wherefore art thou Romeo?')]"
            ]
          },
          "execution_count": 11,
          "metadata": {},
          "output_type": "execute_result"
        },
        {
          "data": {
            "image/png": "[encoded data removed]",
            "text/plain": [
              "<Figure size 640x480 with 2 Axes>"
            ]
          },
          "metadata": {},
          "output_type": "display_data"
        }
      ],
      "source": [
        "import seaborn as sns\n",
        "\n",
        "ax = sns.heatmap(df, annot=True, cmap=\"crest\")\n",
        "ax.xaxis.tick_top()\n",
        "ax.set_xticklabels(text, rotation=90)"
      ]
    },
    {
      "cell_type": "markdown",
      "metadata": {
        "id": "7a2d7f3e3a33"
      },
      "source": [
        "## Generate Image Embeddings"
      ]
    },
    {
      "cell_type": "code",
      "execution_count": 14,
      "metadata": {
        "id": "8ffbc9f5b2fa"
      },
      "outputs": [],
      "source": [
        "def get_image_embedding(\n",
        "    image_path: str = None,\n",
        "    dimension: int | None = 1408,\n",
        ") -> list[float]:\n",
        "    image = VMImage.load_from_file(image_path)\n",
        "    embedding = mm_embedding_model.get_embeddings(\n",
        "        image=image,\n",
        "        dimension=dimension,\n",
        "    )\n",
        "    return embedding.image_embedding"
      ]
    },
    {
      "cell_type": "code",
      "execution_count": 15,
      "metadata": {
        "id": "5541ff1181e4"
      },
      "outputs": [],
      "source": [
        "def get_public_url_from_gcs(gcs_uri: str) -> str:\n",
        "    return gcs_uri.replace(\"gs://\", \"https://storage.googleapis.com/\").replace(\n",
        "        \" \", \"%20\"\n",
        "    )"
      ]
    },
    {
      "cell_type": "code",
      "execution_count": 17,
      "metadata": {
        "id": "10kzx4YoVjMU"
      },
      "outputs": [
        {
          "name": "stdout",
          "output_type": "stream",
          "text": [
            "https://storage.googleapis.com/github-repo/embeddings/getting_started_embeddings/gms_images/GGOEACBA104999.jpg\n",
            "length of embedding:  1408\n",
            "First five values are:  [-0.000501763599, 0.0334774517, -0.0165628586, 0.0210418757, -0.00548506668]\n"
          ]
        }
      ],
      "source": [
        "# Image embeddings with default 1408 dimension\n",
        "image_path = \"gs://github-repo/embeddings/getting_started_embeddings/gms_images/GGOEACBA104999.jpg\"\n",
        "print(get_public_url_from_gcs(image_path))\n",
        "\n",
        "image_emb = get_image_embedding(\n",
        "    image_path=image_path,\n",
        ")\n",
        "print(\"length of embedding: \", len(image_emb))\n",
        "print(\"First five values are: \", image_emb[:5])"
      ]
    },
    {
      "cell_type": "markdown",
      "metadata": {
        "id": "73CFiID6WNo8"
      },
      "source": [
        "### Find product images based on text search query"
      ]
    },
    {
      "cell_type": "code",
      "execution_count": 18,
      "metadata": {
        "id": "nigd4xO7Vow5"
      },
      "outputs": [
        {
          "data": {
            "text/html": [
              "<div>\n",
              "<style scoped>\n",
              "    .dataframe tbody tr th:only-of-type {\n",
              "        vertical-align: middle;\n",
              "    }\n",
              "\n",
              "    .dataframe tbody tr th {\n",
              "        vertical-align: top;\n",
              "    }\n",
              "\n",
              "    .dataframe thead th {\n",
              "        text-align: right;\n",
              "    }\n",
              "</style>\n",
              "<table border=\"1\" class=\"dataframe\">\n",
              "  <thead>\n",
              "    <tr style=\"text-align: right;\">\n",
              "      <th></th>\n",
              "      <th>parent_sku</th>\n",
              "      <th>parent_description</th>\n",
              "      <th>retail_price</th>\n",
              "      <th>img_url</th>\n",
              "      <th>seo_url</th>\n",
              "      <th>title</th>\n",
              "      <th>shortdesc</th>\n",
              "      <th>longdesc</th>\n",
              "      <th>keywords</th>\n",
              "      <th>metadescription</th>\n",
              "      <th>file_path</th>\n",
              "      <th>gcs_path</th>\n",
              "      <th>combined_text</th>\n",
              "      <th>image_embeddings</th>\n",
              "      <th>text_embeddings</th>\n",
              "    </tr>\n",
              "  </thead>\n",
              "  <tbody>\n",
              "    <tr>\n",
              "      <th>0</th>\n",
              "      <td>GGOEAXXX1947</td>\n",
              "      <td>Android Keyboard Sticker</td>\n",
              "      <td>2.0</td>\n",
              "      <td>https://shop.googlemerchandisestore.com/store/...</td>\n",
              "      <td>https://shop.googlemerchandisestore.com/Google...</td>\n",
              "      <td>Android Keyboard Sticker</td>\n",
              "      <td>Add some character to your keyboard!  This sma...</td>\n",
              "      <td>&lt;div&gt;&lt;p dir=\"ltr\"&gt;&lt;span&gt;Sticker measures ½  x ...</td>\n",
              "      <td>Android Keyboard Sticker</td>\n",
              "      <td>Shop Google Merchandise store for Android Keyb...</td>\n",
              "      <td>/content/data/gms_images/GGOEAFKA194799.jpg</td>\n",
              "      <td>gs://github-repo/embeddings/getting_started_em...</td>\n",
              "      <td>Android Keyboard Sticker Android Keyboard Stic...</td>\n",
              "      <td>[-0.019712951, -0.00683932705, 0.0385046713, 0...</td>\n",
              "      <td>[-0.0003441123408265412, -0.020794985815882683...</td>\n",
              "    </tr>\n",
              "    <tr>\n",
              "      <th>1</th>\n",
              "      <td>GGOEGXXX1238</td>\n",
              "      <td>Google Pen Neon Coral</td>\n",
              "      <td>2.0</td>\n",
              "      <td>https://shop.googlemerchandisestore.com/store/...</td>\n",
              "      <td>https://shop.googlemerchandisestore.com/Google...</td>\n",
              "      <td>Google Pen Neon Coral</td>\n",
              "      <td>Whether you are signing official documents or ...</td>\n",
              "      <td>&lt;div&gt;&lt;p&gt;Soft touch surface.&lt;/p&gt;&lt;p&gt;Fine point g...</td>\n",
              "      <td>Google Pen Neon Coral, Google, pen, orange, co...</td>\n",
              "      <td>Shop Google Merchandise Store for Google Pen N...</td>\n",
              "      <td>/content/data/gms_images/GGOEGOAN123899.jpg</td>\n",
              "      <td>gs://github-repo/embeddings/getting_started_em...</td>\n",
              "      <td>Google Pen Neon Coral Google Pen Neon Coral, G...</td>\n",
              "      <td>[0.0312964357, 0.0266801305, -0.00428772392, 0...</td>\n",
              "      <td>[0.015119598247110844, -0.05192413181066513, -...</td>\n",
              "    </tr>\n",
              "    <tr>\n",
              "      <th>2</th>\n",
              "      <td>GGOEGXXX1983</td>\n",
              "      <td>Google Hologram Sunnyvale Campus Sticker</td>\n",
              "      <td>2.0</td>\n",
              "      <td>https://shop.googlemerchandisestore.com/store/...</td>\n",
              "      <td>https://shop.googlemerchandisestore.com/Google...</td>\n",
              "      <td>Google Hologram Sunnyvale Campus Sticker</td>\n",
              "      <td>Nostalgic and fun for everyone, our exclusive ...</td>\n",
              "      <td>&lt;div&gt;&lt;p dir=\"ltr\"&gt;&lt;span&gt;Sticker measures 3 H&lt;/...</td>\n",
              "      <td>Google Hologram Sunnyvale Campus Sticker</td>\n",
              "      <td>Shop Google Merchandise store for Google Holog...</td>\n",
              "      <td>/content/data/gms_images/GGOEGCKA198399.jpg</td>\n",
              "      <td>gs://github-repo/embeddings/getting_started_em...</td>\n",
              "      <td>Google Hologram Sunnyvale Campus Sticker Googl...</td>\n",
              "      <td>[-0.0115588326, 0.0233894847, 0.0509909727, 0....</td>\n",
              "      <td>[0.008340244181454182, -0.019928857684135437, ...</td>\n",
              "    </tr>\n",
              "    <tr>\n",
              "      <th>3</th>\n",
              "      <td>GGOEGXXX1773</td>\n",
              "      <td>Google Maps Wheat Pen</td>\n",
              "      <td>2.0</td>\n",
              "      <td>https://shop.googlemerchandisestore.com/store/...</td>\n",
              "      <td>https://shop.googlemerchandisestore.com/Google...</td>\n",
              "      <td>Google Maps Wheat Pen</td>\n",
              "      <td>Drop your pen to paper and start planning your...</td>\n",
              "      <td>&lt;div&gt;&lt;p&gt;Black Ink &lt;/p&gt;&lt;p&gt;Retractable medium ba...</td>\n",
              "      <td>Google Maps Wheat Pen</td>\n",
              "      <td>Shop Google Merchandise Store for Google Maps ...</td>\n",
              "      <td>/content/data/gms_images/GGOEGOAB177399.jpg</td>\n",
              "      <td>gs://github-repo/embeddings/getting_started_em...</td>\n",
              "      <td>Google Maps Wheat Pen Google Maps Wheat Pen Sh...</td>\n",
              "      <td>[0.0108120618, 0.0177407321, -0.0159502737, 0....</td>\n",
              "      <td>[0.0009172282880172133, -0.05302327498793602, ...</td>\n",
              "    </tr>\n",
              "    <tr>\n",
              "      <th>4</th>\n",
              "      <td>GGOECXXX1946</td>\n",
              "      <td>Google Cloud Keyboard Sticker</td>\n",
              "      <td>2.0</td>\n",
              "      <td>https://shop.googlemerchandisestore.com/store/...</td>\n",
              "      <td>https://shop.googlemerchandisestore.com/Google...</td>\n",
              "      <td>Google Cloud Keyboard Sticker</td>\n",
              "      <td>Add some character to your keyboard!  This sma...</td>\n",
              "      <td>&lt;div&gt;&lt;p dir=\"ltr\"&gt;&lt;span&gt;Sticker measures ½  x ...</td>\n",
              "      <td>Google Cloud Keyboard Sticker</td>\n",
              "      <td>Shop Google Merchandise store for Google Cloud...</td>\n",
              "      <td>/content/data/gms_images/GGOECFKA194699.jpg</td>\n",
              "      <td>gs://github-repo/embeddings/getting_started_em...</td>\n",
              "      <td>Google Cloud Keyboard Sticker Google Cloud Key...</td>\n",
              "      <td>[-0.0243009, 0.0230779219, 0.039797049, 0.0337...</td>\n",
              "      <td>[0.015464423224329948, -0.025598861277103424, ...</td>\n",
              "    </tr>\n",
              "  </tbody>\n",
              "</table>\n",
              "</div>"
            ],
            "text/plain": [
              "     parent_sku                        parent_description  retail_price  \\\n",
              "0  GGOEAXXX1947                  Android Keyboard Sticker           2.0   \n",
              "1  GGOEGXXX1238                     Google Pen Neon Coral           2.0   \n",
              "2  GGOEGXXX1983  Google Hologram Sunnyvale Campus Sticker           2.0   \n",
              "3  GGOEGXXX1773                     Google Maps Wheat Pen           2.0   \n",
              "4  GGOECXXX1946             Google Cloud Keyboard Sticker           2.0   \n",
              "\n",
              "                                             img_url  \\\n",
              "0  https://shop.googlemerchandisestore.com/store/...   \n",
              "1  https://shop.googlemerchandisestore.com/store/...   \n",
              "2  https://shop.googlemerchandisestore.com/store/...   \n",
              "3  https://shop.googlemerchandisestore.com/store/...   \n",
              "4  https://shop.googlemerchandisestore.com/store/...   \n",
              "\n",
              "                                             seo_url  \\\n",
              "0  https://shop.googlemerchandisestore.com/Google...   \n",
              "1  https://shop.googlemerchandisestore.com/Google...   \n",
              "2  https://shop.googlemerchandisestore.com/Google...   \n",
              "3  https://shop.googlemerchandisestore.com/Google...   \n",
              "4  https://shop.googlemerchandisestore.com/Google...   \n",
              "\n",
              "                                      title  \\\n",
              "0                  Android Keyboard Sticker   \n",
              "1                     Google Pen Neon Coral   \n",
              "2  Google Hologram Sunnyvale Campus Sticker   \n",
              "3                     Google Maps Wheat Pen   \n",
              "4             Google Cloud Keyboard Sticker   \n",
              "\n",
              "                                           shortdesc  \\\n",
              "0  Add some character to your keyboard!  This sma...   \n",
              "1  Whether you are signing official documents or ...   \n",
              "2  Nostalgic and fun for everyone, our exclusive ...   \n",
              "3  Drop your pen to paper and start planning your...   \n",
              "4  Add some character to your keyboard!  This sma...   \n",
              "\n",
              "                                            longdesc  \\\n",
              "0  <div><p dir=\"ltr\"><span>Sticker measures ½  x ...   \n",
              "1  <div><p>Soft touch surface.</p><p>Fine point g...   \n",
              "2  <div><p dir=\"ltr\"><span>Sticker measures 3 H</...   \n",
              "3  <div><p>Black Ink </p><p>Retractable medium ba...   \n",
              "4  <div><p dir=\"ltr\"><span>Sticker measures ½  x ...   \n",
              "\n",
              "                                            keywords  \\\n",
              "0                           Android Keyboard Sticker   \n",
              "1  Google Pen Neon Coral, Google, pen, orange, co...   \n",
              "2           Google Hologram Sunnyvale Campus Sticker   \n",
              "3                              Google Maps Wheat Pen   \n",
              "4                      Google Cloud Keyboard Sticker   \n",
              "\n",
              "                                     metadescription  \\\n",
              "0  Shop Google Merchandise store for Android Keyb...   \n",
              "1  Shop Google Merchandise Store for Google Pen N...   \n",
              "2  Shop Google Merchandise store for Google Holog...   \n",
              "3  Shop Google Merchandise Store for Google Maps ...   \n",
              "4  Shop Google Merchandise store for Google Cloud...   \n",
              "\n",
              "                                     file_path  \\\n",
              "0  /content/data/gms_images/GGOEAFKA194799.jpg   \n",
              "1  /content/data/gms_images/GGOEGOAN123899.jpg   \n",
              "2  /content/data/gms_images/GGOEGCKA198399.jpg   \n",
              "3  /content/data/gms_images/GGOEGOAB177399.jpg   \n",
              "4  /content/data/gms_images/GGOECFKA194699.jpg   \n",
              "\n",
              "                                            gcs_path  \\\n",
              "0  gs://github-repo/embeddings/getting_started_em...   \n",
              "1  gs://github-repo/embeddings/getting_started_em...   \n",
              "2  gs://github-repo/embeddings/getting_started_em...   \n",
              "3  gs://github-repo/embeddings/getting_started_em...   \n",
              "4  gs://github-repo/embeddings/getting_started_em...   \n",
              "\n",
              "                                       combined_text  \\\n",
              "0  Android Keyboard Sticker Android Keyboard Stic...   \n",
              "1  Google Pen Neon Coral Google Pen Neon Coral, G...   \n",
              "2  Google Hologram Sunnyvale Campus Sticker Googl...   \n",
              "3  Google Maps Wheat Pen Google Maps Wheat Pen Sh...   \n",
              "4  Google Cloud Keyboard Sticker Google Cloud Key...   \n",
              "\n",
              "                                    image_embeddings  \\\n",
              "0  [-0.019712951, -0.00683932705, 0.0385046713, 0...   \n",
              "1  [0.0312964357, 0.0266801305, -0.00428772392, 0...   \n",
              "2  [-0.0115588326, 0.0233894847, 0.0509909727, 0....   \n",
              "3  [0.0108120618, 0.0177407321, -0.0159502737, 0....   \n",
              "4  [-0.0243009, 0.0230779219, 0.039797049, 0.0337...   \n",
              "\n",
              "                                     text_embeddings  \n",
              "0  [-0.0003441123408265412, -0.020794985815882683...  \n",
              "1  [0.015119598247110844, -0.05192413181066513, -...  \n",
              "2  [0.008340244181454182, -0.019928857684135437, ...  \n",
              "3  [0.0009172282880172133, -0.05302327498793602, ...  \n",
              "4  [0.015464423224329948, -0.025598861277103424, ...  "
            ]
          },
          "execution_count": 18,
          "metadata": {},
          "output_type": "execute_result"
        }
      ],
      "source": [
        "# get product list with pre-computed image embeddings\n",
        "product_image_list = pd.read_csv(\n",
        "    \"https://storage.googleapis.com/github-repo/embeddings/getting_started_embeddings/image_data_with_embeddings.csv\"\n",
        ")\n",
        "product_image_list.head()"
      ]
    },
    {
      "cell_type": "code",
      "execution_count": 19,
      "metadata": {
        "id": "8gUufHrb0glL"
      },
      "outputs": [],
      "source": [
        "def print_similar_products(query_emb, data_frame):\n",
        "    # calc dot product\n",
        "    image_embs = data_frame[\"image_embeddings\"]\n",
        "    scores = [np.dot(eval(image_emb), query_emb) for image_emb in image_embs]\n",
        "    data_frame[\"score\"] = scores\n",
        "    data_frame = data_frame.sort_values(by=\"score\", ascending=False)\n",
        "\n",
        "    # print results\n",
        "    print(data_frame.head()[[\"score\", \"title\"]])\n",
        "    for url in data_frame.head()[\"img_url\"]:\n",
        "        display(ImageByte(url=url, width=200, height=200))"
      ]
    },
    {
      "cell_type": "code",
      "execution_count": 20,
      "metadata": {
        "id": "SIiC_5JxWRMw"
      },
      "outputs": [
        {
          "name": "stdout",
          "output_type": "stream",
          "text": [
            "        score                              title\n",
            "235  0.120895  Chrome Dino Collectible Figurines\n",
            "15   0.105889       Chrome Dino Keyboard Sticker\n",
            "84   0.098711               Chrome Dino Keychain\n",
            "91   0.098204        YouTube Kids T-Rex Keychain\n",
            "252  0.097236         Chrome Dino Food Container\n"
          ]
        },
        {
          "data": {
            "text/html": [
              "<img src=\"https://shop.googlemerchandisestore.com/store/20160512512/assets/items/images/GGOEGABJ125299.jpg\" width=\"200\" height=\"200\"/>"
            ],
            "text/plain": [
              "<IPython.core.display.Image object>"
            ]
          },
          "metadata": {},
          "output_type": "display_data"
        },
        {
          "data": {
            "text/html": [
              "<img src=\"https://shop.googlemerchandisestore.com/store/20160512512/assets/items/images/GGOEGFKA194899.jpg\" width=\"200\" height=\"200\"/>"
            ],
            "text/plain": [
              "<IPython.core.display.Image object>"
            ]
          },
          "metadata": {},
          "output_type": "display_data"
        },
        {
          "data": {
            "text/html": [
              "<img src=\"https://shop.googlemerchandisestore.com/store/20160512512/assets/items/images/GGOEGCBA195199.jpg\" width=\"200\" height=\"200\"/>"
            ],
            "text/plain": [
              "<IPython.core.display.Image object>"
            ]
          },
          "metadata": {},
          "output_type": "display_data"
        },
        {
          "data": {
            "text/html": [
              "<img src=\"https://shop.googlemerchandisestore.com/store/20160512512/assets/items/images/GGOEYCBA182599.jpg\" width=\"200\" height=\"200\"/>"
            ],
            "text/plain": [
              "<IPython.core.display.Image object>"
            ]
          },
          "metadata": {},
          "output_type": "display_data"
        },
        {
          "data": {
            "text/html": [
              "<img src=\"https://shop.googlemerchandisestore.com/store/20160512512/assets/items/images/GGOEGCBB165899.jpg\" width=\"200\" height=\"200\"/>"
            ],
            "text/plain": [
              "<IPython.core.display.Image object>"
            ]
          },
          "metadata": {},
          "output_type": "display_data"
        }
      ],
      "source": [
        "# calc_scores for a text query\n",
        "query_emb = get_text_embedding(\"something related to dinosaurs theme\")\n",
        "print_similar_products(query_emb, product_image_list)"
      ]
    },
    {
      "cell_type": "code",
      "execution_count": 21,
      "metadata": {
        "id": "B3Dui6Y1gM4G"
      },
      "outputs": [
        {
          "name": "stdout",
          "output_type": "stream",
          "text": [
            "        score                             title\n",
            "133  0.128208                 Google Bike Socks\n",
            "146  0.104420          YouTube Expressive Socks\n",
            "141  0.096457       YouTube Tie-Dye Woven Socks\n",
            "131  0.092857                 Chrome Dino Socks\n",
            "66   0.090372  Google Checkered Shoelaces White\n"
          ]
        },
        {
          "data": {
            "text/html": [
              "<img src=\"https://shop.googlemerchandisestore.com/store/20160512512/assets/items/images/GGOEGAKC171799.jpg\" width=\"200\" height=\"200\"/>"
            ],
            "text/plain": [
              "<IPython.core.display.Image object>"
            ]
          },
          "metadata": {},
          "output_type": "display_data"
        },
        {
          "data": {
            "text/html": [
              "<img src=\"https://shop.googlemerchandisestore.com/store/20160512512/assets/items/images/GGOEYAXA197410.jpg\" width=\"200\" height=\"200\"/>"
            ],
            "text/plain": [
              "<IPython.core.display.Image object>"
            ]
          },
          "metadata": {},
          "output_type": "display_data"
        },
        {
          "data": {
            "text/html": [
              "<img src=\"https://shop.googlemerchandisestore.com/store/20160512512/assets/items/images/GGOEYAKA179210.jpg\" width=\"200\" height=\"200\"/>"
            ],
            "text/plain": [
              "<IPython.core.display.Image object>"
            ]
          },
          "metadata": {},
          "output_type": "display_data"
        },
        {
          "data": {
            "text/html": [
              "<img src=\"https://shop.googlemerchandisestore.com/store/20160512512/assets/items/images/GGOEGAKB165910.jpg\" width=\"200\" height=\"200\"/>"
            ],
            "text/plain": [
              "<IPython.core.display.Image object>"
            ]
          },
          "metadata": {},
          "output_type": "display_data"
        },
        {
          "data": {
            "text/html": [
              "<img src=\"https://shop.googlemerchandisestore.com/store/20160512512/assets/items/images/GGOEGCBA186299.jpg\" width=\"200\" height=\"200\"/>"
            ],
            "text/plain": [
              "<IPython.core.display.Image object>"
            ]
          },
          "metadata": {},
          "output_type": "display_data"
        }
      ],
      "source": [
        "query_emb = get_text_embedding(\"Socks in checkered patterns\")\n",
        "print_similar_products(query_emb, product_image_list)"
      ]
    },
    {
      "cell_type": "markdown",
      "metadata": {
        "id": "fdcec1fefb20"
      },
      "source": [
        "## Generate Video Embeddings"
      ]
    },
    {
      "cell_type": "code",
      "execution_count": 22,
      "metadata": {
        "id": "3bfd2b9e6a33"
      },
      "outputs": [],
      "source": [
        "def get_video_embedding(\n",
        "    video_path: str,\n",
        "    dimension: int | None = 1408,\n",
        "    video_segment_config: VideoSegmentConfig | None = None,\n",
        ") -> list[float]:\n",
        "    video = VMVideo.load_from_file(video_path)\n",
        "    embedding = mm_embedding_model.get_embeddings(\n",
        "        video=video,\n",
        "        dimension=dimension,\n",
        "        video_segment_config=video_segment_config,\n",
        "    )\n",
        "    return [video_emb.embedding for video_emb in embedding.video_embeddings]"
      ]
    },
    {
      "cell_type": "code",
      "execution_count": 23,
      "metadata": {
        "id": "8a30c7bd90e9"
      },
      "outputs": [],
      "source": [
        "def display_video_from_gcs(\n",
        "    gcs_uri: str = None,\n",
        ") -> None:\n",
        "    html_code = f\"\"\"\n",
        "    <video width=\"640\" height=\"480\" controls>\n",
        "        <source src=\"{get_public_url_from_gcs(gcs_uri)}\" type=\"video/mp4\">\n",
        "        Your browser does not support the video tag.\n",
        "    </video>\n",
        "    \"\"\"\n",
        "    display(HTML(html_code))"
      ]
    },
    {
      "cell_type": "code",
      "execution_count": 24,
      "metadata": {
        "id": "QeGOaYxGwtdp"
      },
      "outputs": [
        {
          "data": {
            "text/html": [
              "\n",
              "    <video width=\"640\" height=\"480\" controls>\n",
              "        <source src=\"https://storage.googleapis.com/github-repo/embeddings/getting_started_embeddings/UCF-101-subset/BrushingTeeth/v_BrushingTeeth_g01_c02.mp4\" type=\"video/mp4\">\n",
              "        Your browser does not support the video tag.\n",
              "    </video>\n",
              "    "
            ],
            "text/plain": [
              "<IPython.core.display.HTML object>"
            ]
          },
          "metadata": {},
          "output_type": "display_data"
        },
        {
          "name": "stdout",
          "output_type": "stream",
          "text": [
            "length of embedding:  1408\n",
            "First five values of the first segment are:  [-0.0117426617, 0.0195700061, -0.00300012343, -0.0172459967, -0.00545583107]\n"
          ]
        }
      ],
      "source": [
        "# Video embeddings with 1408 dimension\n",
        "\n",
        "\n",
        "video_path = \"gs://github-repo/embeddings/getting_started_embeddings/UCF-101-subset/BrushingTeeth/v_BrushingTeeth_g01_c02.mp4\"\n",
        "display_video_from_gcs(video_path)\n",
        "\n",
        "video_emb = get_video_embedding(\n",
        "    video_path=video_path,\n",
        ")\n",
        "\n",
        "print(\"length of embedding: \", len(video_emb[0]))\n",
        "print(\"First five values of the first segment are: \", video_emb[0][:5])"
      ]
    },
    {
      "cell_type": "markdown",
      "metadata": {
        "id": "113e181c0cef"
      },
      "source": [
        "### Find videos based on text search query"
      ]
    },
    {
      "cell_type": "code",
      "execution_count": 45,
      "metadata": {
        "id": "6a8c536bb20a"
      },
      "outputs": [
        {
          "name": "stdout",
          "output_type": "stream",
          "text": [
            "Items in the video list: 50\n"
          ]
        },
        {
          "data": {
            "text/html": [
              "<div>\n",
              "<style scoped>\n",
              "    .dataframe tbody tr th:only-of-type {\n",
              "        vertical-align: middle;\n",
              "    }\n",
              "\n",
              "    .dataframe tbody tr th {\n",
              "        vertical-align: top;\n",
              "    }\n",
              "\n",
              "    .dataframe thead th {\n",
              "        text-align: right;\n",
              "    }\n",
              "</style>\n",
              "<table border=\"1\" class=\"dataframe\">\n",
              "  <thead>\n",
              "    <tr style=\"text-align: right;\">\n",
              "      <th></th>\n",
              "      <th>Unnamed: 0</th>\n",
              "      <th>gcs_path</th>\n",
              "      <th>category</th>\n",
              "      <th>file_name</th>\n",
              "      <th>video_embeddings</th>\n",
              "    </tr>\n",
              "  </thead>\n",
              "  <tbody>\n",
              "    <tr>\n",
              "      <th>0</th>\n",
              "      <td>0</td>\n",
              "      <td>gs://github-repo/embeddings/getting_started_em...</td>\n",
              "      <td>TaiChi</td>\n",
              "      <td>v_TaiChi_g25_c04.mp4</td>\n",
              "      <td>[0.0212469846, 0.021904517, 0.00673244661, 0.0...</td>\n",
              "    </tr>\n",
              "    <tr>\n",
              "      <th>1</th>\n",
              "      <td>1</td>\n",
              "      <td>gs://github-repo/embeddings/getting_started_em...</td>\n",
              "      <td>TaiChi</td>\n",
              "      <td>v_TaiChi_g25_c03.mp4</td>\n",
              "      <td>[0.0150156552, 0.0182044469, 0.00531015405, 0....</td>\n",
              "    </tr>\n",
              "    <tr>\n",
              "      <th>2</th>\n",
              "      <td>2</td>\n",
              "      <td>gs://github-repo/embeddings/getting_started_em...</td>\n",
              "      <td>TaiChi</td>\n",
              "      <td>v_TaiChi_g13_c03.mp4</td>\n",
              "      <td>[0.0176973231, 0.0306478031, 0.0060283, 0.0190...</td>\n",
              "    </tr>\n",
              "    <tr>\n",
              "      <th>3</th>\n",
              "      <td>3</td>\n",
              "      <td>gs://github-repo/embeddings/getting_started_em...</td>\n",
              "      <td>TaiChi</td>\n",
              "      <td>v_TaiChi_g21_c04.mp4</td>\n",
              "      <td>[0.00879747886, 0.00810849108, -0.00468777, 0....</td>\n",
              "    </tr>\n",
              "    <tr>\n",
              "      <th>4</th>\n",
              "      <td>4</td>\n",
              "      <td>gs://github-repo/embeddings/getting_started_em...</td>\n",
              "      <td>TaiChi</td>\n",
              "      <td>v_TaiChi_g07_c02.mp4</td>\n",
              "      <td>[0.0203397758, -0.000400501624, 0.00930729136,...</td>\n",
              "    </tr>\n",
              "  </tbody>\n",
              "</table>\n",
              "</div>"
            ],
            "text/plain": [
              "   Unnamed: 0                                           gcs_path category  \\\n",
              "0           0  gs://github-repo/embeddings/getting_started_em...   TaiChi   \n",
              "1           1  gs://github-repo/embeddings/getting_started_em...   TaiChi   \n",
              "2           2  gs://github-repo/embeddings/getting_started_em...   TaiChi   \n",
              "3           3  gs://github-repo/embeddings/getting_started_em...   TaiChi   \n",
              "4           4  gs://github-repo/embeddings/getting_started_em...   TaiChi   \n",
              "\n",
              "              file_name                                   video_embeddings  \n",
              "0  v_TaiChi_g25_c04.mp4  [0.0212469846, 0.021904517, 0.00673244661, 0.0...  \n",
              "1  v_TaiChi_g25_c03.mp4  [0.0150156552, 0.0182044469, 0.00531015405, 0....  \n",
              "2  v_TaiChi_g13_c03.mp4  [0.0176973231, 0.0306478031, 0.0060283, 0.0190...  \n",
              "3  v_TaiChi_g21_c04.mp4  [0.00879747886, 0.00810849108, -0.00468777, 0....  \n",
              "4  v_TaiChi_g07_c02.mp4  [0.0203397758, -0.000400501624, 0.00930729136,...  "
            ]
          },
          "execution_count": 45,
          "metadata": {},
          "output_type": "execute_result"
        }
      ],
      "source": [
        "video_list = pd.read_csv(\n",
        "    \"https://storage.googleapis.com/github-repo/embeddings/getting_started_embeddings/video_data_with_embeddings.csv\"\n",
        ")\n",
        "print(f\"Items in the video list: {len(video_list)}\")\n",
        "video_list.head()"
      ]
    },
    {
      "cell_type": "code",
      "execution_count": 48,
      "metadata": {
        "id": "b9ad91799cf9"
      },
      "outputs": [],
      "source": [
        "def print_similar_videos(query_emb, data_frame):\n",
        "    # calc dot product\n",
        "    video_embs = data_frame[\"video_embeddings\"]\n",
        "    scores = [np.dot(eval(video_emb), query_emb) for video_emb in video_embs]\n",
        "    data_frame[\"score\"] = scores\n",
        "    data_frame = data_frame.sort_values(by=\"score\", ascending=False)\n",
        "\n",
        "    # print results\n",
        "    print(data_frame.head()[[\"score\", \"file_name\"]])\n",
        "    url = data_frame.iloc[0][\"gcs_path\"]\n",
        "    display_video_from_gcs(url)"
      ]
    },
    {
      "cell_type": "code",
      "execution_count": 52,
      "metadata": {
        "id": "3a3c0614b7c3"
      },
      "outputs": [
        {
          "name": "stdout",
          "output_type": "stream",
          "text": [
            "       score                    file_name\n",
            "12  0.068436  v_PlayingViolin_g06_c02.mp4\n",
            "10  0.061663  v_PlayingViolin_g13_c03.mp4\n",
            "11  0.059950  v_PlayingViolin_g13_c01.mp4\n",
            "14  0.059190  v_PlayingViolin_g24_c01.mp4\n",
            "13  0.049865  v_PlayingViolin_g10_c04.mp4\n"
          ]
        },
        {
          "data": {
            "text/html": [
              "\n",
              "    <video width=\"640\" height=\"480\" controls>\n",
              "        <source src=\"https://storage.googleapis.com/github-repo/embeddings/getting_started_embeddings/UCF-101-subset/PlayingViolin/v_PlayingViolin_g06_c02.mp4\" type=\"video/mp4\">\n",
              "        Your browser does not support the video tag.\n",
              "    </video>\n",
              "    "
            ],
            "text/plain": [
              "<IPython.core.display.HTML object>"
            ]
          },
          "metadata": {},
          "output_type": "display_data"
        }
      ],
      "source": [
        "query_emb = get_text_embedding(\"A music concert\")\n",
        "print_similar_videos(query_emb, video_list)"
      ]
    },
    {
      "cell_type": "code",
      "execution_count": 53,
      "metadata": {
        "id": "ad004ac41e8f"
      },
      "outputs": [
        {
          "name": "stdout",
          "output_type": "stream",
          "text": [
            "      score             file_name\n",
            "3  0.179601  v_TaiChi_g21_c04.mp4\n",
            "2  0.177981  v_TaiChi_g13_c03.mp4\n",
            "4  0.161105  v_TaiChi_g07_c02.mp4\n",
            "0  0.154910  v_TaiChi_g25_c04.mp4\n",
            "1  0.153621  v_TaiChi_g25_c03.mp4\n"
          ]
        },
        {
          "data": {
            "text/html": [
              "\n",
              "    <video width=\"640\" height=\"480\" controls>\n",
              "        <source src=\"https://storage.googleapis.com/github-repo/embeddings/getting_started_embeddings/UCF-101-subset/TaiChi/v_TaiChi_g21_c04.mp4\" type=\"video/mp4\">\n",
              "        Your browser does not support the video tag.\n",
              "    </video>\n",
              "    "
            ],
            "text/plain": [
              "<IPython.core.display.HTML object>"
            ]
          },
          "metadata": {},
          "output_type": "display_data"
        }
      ],
      "source": [
        "query_emb = get_text_embedding(\"A person playing a TaiChi\")\n",
        "print_similar_videos(query_emb, video_list)"
      ]
    },
    {
      "cell_type": "markdown",
      "metadata": {
        "id": "btCIJCh2OnSP"
      },
      "source": [
        "### Find Similar videos"
      ]
    },
    {
      "cell_type": "markdown",
      "metadata": {
        "id": "IddiO0T-wdno"
      },
      "source": [
        "Next in the series:\n",
        "\n",
        "- Learn how to store the vectors (embeddings) into Vertex Vector Store: [Notebook](https://github.com/lavinigam-gcp/generative-ai/blob/main/embeddings/vector-search-quickstart.ipynb)\n",
        "\n",
        "- Learn how to tune the embeddings with your own data: [Notebook](https://github.com/lavinigam-gcp/generative-ai/blob/main/embeddings/intro_embeddings_tuning.ipynb)\n",
        "\n",
        "- Learn how to use embeddings to do Text RAG and Multimodal RAG: [Notebook](https://github.com/lavinigam-gcp/generative-ai/blob/main/gemini/use-cases/retrieval-augmented-generation/intro_multimodal_rag.ipynb)"
      ]
    }
  ],
  "metadata": {
    "colab": {
      "name": "intro_multimodal_embeddings.ipynb",
      "toc_visible": true
    },
    "kernelspec": {
      "display_name": "Python 3",
      "name": "python3"
    }
  },
  "nbformat": 4,
  "nbformat_minor": 0
}
