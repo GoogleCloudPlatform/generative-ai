{
  "cells": [
    {
      "cell_type": "code",
      "execution_count": null,
      "metadata": {
        "id": "2eec5cc39a59"
      },
      "outputs": [],
      "source": [
        "# Copyright 2024 Google LLC\n",
        "#\n",
        "# Licensed under the Apache License, Version 2.0 (the \"License\");\n",
        "# you may not use this file except in compliance with the License.\n",
        "# You may obtain a copy of the License at\n",
        "#\n",
        "#     https://www.apache.org/licenses/LICENSE-2.0\n",
        "#\n",
        "# Unless required by applicable law or agreed to in writing, software\n",
        "# distributed under the License is distributed on an \"AS IS\" BASIS,\n",
        "# WITHOUT WARRANTIES OR CONDITIONS OF ANY KIND, either express or implied.\n",
        "# See the License for the specific language governing permissions and\n",
        "# limitations under the License."
      ]
    },
    {
      "cell_type": "markdown",
      "metadata": {
        "id": "JAPoU8Sm5E6e"
      },
      "source": [
        "# Anomaly Detection of Infrastructure Logs using Gemini and BigQuery Vector Search\n",
        "\n",
        "<table align=\"left\">\n",
        "  <td style=\"text-align: center\">\n",
        "    <a href=\"https://colab.research.google.com/github/GoogleCloudPlatform/generative-ai/blob/main/embeddings/use-cases/outlier-detection/bq-vector-search-outlier-detection-infra-logs.ipynb\">\n",
        "      <img width=\"32px\" src=\"https://www.gstatic.com/pantheon/images/bigquery/welcome_page/colab-logo.svg\" alt=\"Google Colaboratory logo\"><br> Open in Colab\n",
        "    </a>\n",
        "  </td>\n",
        "  <td style=\"text-align: center\">\n",
        "    <a href=\"https://console.cloud.google.com/vertex-ai/colab/import/https:%2F%2Fraw.githubusercontent.com%2FGoogleCloudPlatform%2Fgenerative-ai%2Fmain%2Fembeddings%2Fuse-cases%2Foutlier-detection%2Fbq-vector-search-outlier-detection-infra-logs.ipynb\">\n",
        "      <img width=\"32px\" src=\"https://lh3.googleusercontent.com/JmcxdQi-qOpctIvWKgPtrzZdJJK-J3sWE1RsfjZNwshCFgE_9fULcNpuXYTilIR2hjwN\" alt=\"Google Cloud Colab Enterprise logo\"><br> Open in Colab Enterprise\n",
        "    </a>\n",
        "  </td>\n",
        "  <td style=\"text-align: center\">\n",
        "    <a href=\"https://console.cloud.google.com/vertex-ai/workbench/deploy-notebook?download_url=https://raw.githubusercontent.com/GoogleCloudPlatform/generative-ai/main/embeddings/use-cases/outlier-detection/bq-vector-search-outlier-detection-infra-logs.ipynb\">\n",
        "      <img src=\"https://www.gstatic.com/images/branding/gcpiconscolors/vertexai/v1/32px.svg\" alt=\"Vertex AI logo\"><br> Open in Vertex AI Workbench\n",
        "    </a>\n",
        "  </td>\n",
        "  <td style=\"text-align: center\">\n",
        "    <a href=\"https://console.cloud.google.com/bigquery/import?url=https://github.com/GoogleCloudPlatform/generative-ai/blob/main/embeddings/use-cases/outlier-detection/bq-vector-search-outlier-detection-infra-logs.ipynb\">\n",
        "      <img src=\"https://www.gstatic.com/images/branding/gcpiconscolors/bigquery/v1/32px.svg\" alt=\"BigQuery Studio logo\"><br> Open in BigQuery Studio\n",
        "    </a>\n",
        "  </td>\n",
        "  <td style=\"text-align: center\">\n",
        "    <a href=\"https://github.com/GoogleCloudPlatform/generative-ai/blob/main/embeddings/use-cases/outlier-detection/bq-vector-search-outlier-detection-infra-logs.ipynb\">\n",
        "      <img width=\"32px\" src=\"https://upload.wikimedia.org/wikipedia/commons/9/91/Octicons-mark-github.svg\" alt=\"GitHub logo\"><br> View on GitHub\n",
        "    </a>\n",
        "  </td>\n",
        "</table>\n",
        "\n",
        "<div style=\"clear: both;\"></div>\n",
        "\n",
        "<b>Share to:</b>\n",
        "\n",
        "<a href=\"https://www.linkedin.com/sharing/share-offsite/?url=https%3A//github.com/GoogleCloudPlatform/generative-ai/blob/main/embeddings/use-cases/outlier-detection/bq-vector-search-outlier-detection-infra-logs.ipynb\" target=\"_blank\">\n",
        "  <img width=\"20px\" src=\"https://upload.wikimedia.org/wikipedia/commons/8/81/LinkedIn_icon.svg\" alt=\"LinkedIn logo\">\n",
        "</a>\n",
        "\n",
        "<a href=\"https://bsky.app/intent/compose?text=https%3A//github.com/GoogleCloudPlatform/generative-ai/blob/main/embeddings/use-cases/outlier-detection/bq-vector-search-outlier-detection-infra-logs.ipynb\" target=\"_blank\">\n",
        "  <img width=\"20px\" src=\"https://upload.wikimedia.org/wikipedia/commons/7/7a/Bluesky_Logo.svg\" alt=\"Bluesky logo\">\n",
        "</a>\n",
        "\n",
        "<a href=\"https://twitter.com/intent/tweet?url=https%3A//github.com/GoogleCloudPlatform/generative-ai/blob/main/embeddings/use-cases/outlier-detection/bq-vector-search-outlier-detection-infra-logs.ipynb\" target=\"_blank\">\n",
        "  <img width=\"20px\" src=\"https://upload.wikimedia.org/wikipedia/commons/5/53/X_logo_2023_original.svg\" alt=\"X logo\">\n",
        "</a>\n",
        "\n",
        "<a href=\"https://reddit.com/submit?url=https%3A//github.com/GoogleCloudPlatform/generative-ai/blob/main/embeddings/use-cases/outlier-detection/bq-vector-search-outlier-detection-infra-logs.ipynb\" target=\"_blank\">\n",
        "  <img width=\"20px\" src=\"https://redditinc.com/hubfs/Reddit%20Inc/Brand/Reddit_Logo.png\" alt=\"Reddit logo\">\n",
        "</a>\n",
        "\n",
        "<a href=\"https://www.facebook.com/sharer/sharer.php?u=https%3A//github.com/GoogleCloudPlatform/generative-ai/blob/main/embeddings/use-cases/outlier-detection/bq-vector-search-outlier-detection-infra-logs.ipynb\" target=\"_blank\">\n",
        "  <img width=\"20px\" src=\"https://upload.wikimedia.org/wikipedia/commons/5/51/Facebook_f_logo_%282019%29.svg\" alt=\"Facebook logo\">\n",
        "</a>            "
      ]
    },
    {
      "cell_type": "markdown",
      "metadata": {
        "id": "84f0f73a0f76"
      },
      "source": [
        "| | |\n",
        "|-|-|\n",
        "| Author: | [Roy Arsan](https://github.com/rarsan) |"
      ]
    },
    {
      "cell_type": "markdown",
      "metadata": {
        "id": "tvgnzT1CKxrO"
      },
      "source": [
        "## Overview\n",
        "\n",
        "This notebook guides you through processing large volumes of logs using Gemini, vector embeddings and [BigQuery Vector Search](https://cloud.google.com/bigquery/docs/vector-search-intro) to perform anomaly detection. We evaluate the accuracy using publicly available labelled [HDFS](https://github.com/logpai/loghub) dataset, and contrast it with other common log anomaly detection techniques.\n",
        "\n",
        "\n",
        "As part of this notebook you will learn how to:\n",
        "1. Use SQL for preprocessing raw logs at scale, interact with LLMs and do vector search analysis\n",
        "1. Use Gemini 1.5 Flash to translate a log sequence into simple natural language summary directly from BigQuery\n",
        "1. Use a text embedding model to generate a vector embedding for each log summary directly from BigQuery, and store all embeddings in BigQuery vector index for fast lookup\n",
        "1. Tune and run vector search-based anomaly detection using BigQuery vector search\n",
        "1. Evaluate performance and compare against popular unsupervised and semi-supervised outlier detection ML algorithms\n",
        "\n",
        "\n",
        "This notebook demonstrates how using off-the-shelf Gemini 1.5 Flash + Text Embeddings + BigQuery vector search yields comparable results to custom pre-trained language models including DeepLog, an [LSTM deep neural network](https://dl.acm.org/doi/10.1145/3133956.3134015).\n",
        "\n",
        "We also compare vector search-based outlier detection with common [scikit outlier detection](https://scikit-learn.org/stable/modules/outlier_detection.html#) algorithms (OneClassSVM, LocalOutlierFactor) using the same generated embeddings and we found that a custom SQL logic using BigQuery vector search to be more accurate and flexible for this use case and dataset.\n",
        "\n",
        "For performance results, see `Summary` section at the bottom.\n",
        "\n",
        " You can use and tweak this notebook to evaluate for your own outlier detection use case, with your own dataset and target sensitivity level."
      ]
    },
    {
      "cell_type": "markdown",
      "metadata": {
        "id": "DW8bwUaS2JQj"
      },
      "source": [
        "### Data pipeline"
      ]
    },
    {
      "cell_type": "markdown",
      "metadata": {
        "id": "Rt10T8iZrNSc"
      },
      "source": [
        "![Anomaly detection data pipeline.png](data:image/png;base64,iVBORw0KGgoAAAANSUhEUgAAA50AAAF/CAIAAABFXTq9AAAAAXNSR0IArs4c6QAAAFBlWElmTU0AKgAAAAgAAgESAAMAAAABAAEAAIdpAAQAAAABAAAAJgAAAAAAA6ABAAMAAAABAAEAAKACAAQAAAABAAADnaADAAQAAAABAAABfwAAAAC0AtlNAAABWWlUWHRYTUw6Y29tLmFkb2JlLnhtcAAAAAAAPHg6eG1wbWV0YSB4bWxuczp4PSJhZG9iZTpuczptZXRhLyIgeDp4bXB0az0iWE1QIENvcmUgNi4wLjAiPgogICA8cmRmOlJERiB4bWxuczpyZGY9Imh0dHA6Ly93d3cudzMub3JnLzE5OTkvMDIvMjItcmRmLXN5bnRheC1ucyMiPgogICAgICA8cmRmOkRlc2NyaXB0aW9uIHJkZjphYm91dD0iIgogICAgICAgICAgICB4bWxuczp0aWZmPSJodHRwOi8vbnMuYWRvYmUuY29tL3RpZmYvMS4wLyI+CiAgICAgICAgIDx0aWZmOk9yaWVudGF0aW9uPjE8L3RpZmY6T3JpZW50YXRpb24+CiAgICAgIDwvcmRmOkRlc2NyaXB0aW9uPgogICA8L3JkZjpSREY+CjwveDp4bXBtZXRhPgoZXuEHAABAAElEQVR4AeydBXgTSxeGU3elQPHi7n5xd3d3d3d3ucCFi3Nxd3d3d3d3St3lf7cL+UOblkqSpmWWPGF2dvTb08mZY2MQGhqqEJdAQCAgEBAICAQEAgIBgYBAIIEjYJjAxy+GLxAQCAgEBAICAYGAQEAgIBCQEBB8raADgYBAQCAgEBAICAQEAgKBxICA4GsTw1sUcxAICAQEAgIBgYBAQCAgEBB8raABgYBAQCAgEBAICAQEAgKBxICA4GsTw1sUcxAICAQEAgIBgYBAQCAgEBB8raABgYBAQCAgEBAICAQEAgKBxICA4GsTw1sUcxAICAQEAgIBgYBAQCAgEBB8raABgYBAQCAgEBAICAQEAgKBxICA4GsTw1sUcxAICAQEAgIBgYBAQCAgEBB8raABgYBAQCAgEBAICAQEAgKBxICA4GsTw1sUcxAICAQEAgIBgYBAQCAgEBB8raABgYBAQCAgEBAICAQEAgKBxICA4GsTw1sUcxAICAQEAgIBgYBAQCAgEBB8raABgYBAQCAgEBAICAQEAgKBxICA4GsTw1sUcxAICAQEAgIBgYBAQCAgEBB8raABgYBAQCAgEBAICAQEAgKBxICAcWKYRKKYQ0hIyLPnL54+e/7y5esmjeo7OjowrWEjx334+FGe3+QJY1KmcCY9fNS49x9EpkIAIohB/CFAA+IPQfwhiD+EePlDWLNuo4mJSXqXdNmyZrGzs2UM4tIHBAxCQ0P1YRxiDH/Pnufp5cWfR9q0afLnzWNhYS4wEQgIBAQCAgGBgEBAPxG4fefuo8dPXrx8/fLVq+mTJ1hbW+nnOP+0UQm+Nt7eODuKy1evmZqY5s+Xh0EEh4QYGQqzkHh7HaJjgYBAQCAgEBAIxAWB79/ddu7eW6tGNSenJHFpR9SNCwKCkYoLerGv++Llq7ETpx4+ctzKylJuRTC1sUdT1BQICAQEAgIBgUB8I2Bubm5vbz9u4tSdu/cFBwfH93D+0P6FvDYeXryXl/e4SVMb1K1drGjheOhedCkQEAgIBAQCAgGBgHYQcHNzX712Q5EiBYsVET/x2oE4ylYFXxslPFp7iJeYobA60Bq8omGBgEBAICAQEAgIBP5ABIQdgu5euqvr9x279sr9CaZWd7iLngQCAgGBgEBAIBAfCFy6cpVIR/HR85/bp+BrdfTuXb9/nzJjlvCX1BHcohuBgEBAICAQEAjENwIW5hbz5i/+/OVLfA/kD+pf8LW6eNn+/v5z5i4oX6Z0pQrldNGf6EMgIBAQCAgEBAICgfhGIE/unLVqVluwaJlwI9PZqxB8rS6gxoq8QP681apW0kVnog+BgEBAICAQEAgIBPQDgQrlyqRI4UwQJP0YTuIfhfAbS/zvWMxQICAQEAgIBAQCAgGBQDQR+OQRcvlFwPMvwSGhioxJjQqnN0lhZxTNuvFeTJyjq91X4OfnZxx2abebSFo/dOjQihUrcubMaWpqqrbIt2/frl69miJFimHDhuXKlUttGZEpENAlAlOmTHn16lWaNGn4u1Hb79OnTx89elShQoX27dtTTG0ZkSkQiHcETp48uWDBgty5c0e2/Lq5uV26dClp0qQjRozIk0c6nUdcAoF4R+DRx6DJ+72OP/CHo1W9ymUzHVrNJlcq9cuyasl4TyeAIcY7RnEZwJ59Bw0MDBrWrxOXRmJd19fXF551wIABlpY/Tn8I19Tz58/Hjx+/Z88eQkkPGjTIxcUlXAFxKxDQMQLu7u6lSpVq1KhRZNzAsWPHxo0bt27dOjs7uxYtWsAW6HiEojuBQHQQQKgBcUax/L5+/frLly/btm2DkocOHZohQ4boNCvKJFwEVqxe16BuLVtbW72dwobLvsO2eQYGh5oZG5TMbJrN2djQQPHoU9CZxwEnHgacefJtTC2b9iXVsxP6MynB12rxXXD+wqkzZ8ePGaHFPjTRtKurK2uro6Njz549kydProkmRRsCAe0i8OTJk5UrV7Ifq1evHmyBdjsTrQsEtIYAUtsdO3aw/Pbt29fZ2Vlr/YiG9QCB0NCz5y9Wr1pZD4aiZgjbrvkN2uIRGqpoVdxicFVrR6v/+1+5+4bMPuy97KzPqJ2eJkYGFFBTX2+y/j9uvRlS4hnI2fMX8uXJ7ejgoP9T+vz58+rVq9euXYu0TP9HK0YoEACBO3fuLF269OjRoz4+PgIQgUDCRQB7sDVr1qxatUosvwn3JUZn5CX+Knbp8tXolNR9mTeuwUO3SUzthLo2UxvYqjK1DMbOwnBsHZuZjSRJ8+hdns++BOl+hNHvUfC10ccqxiU5VKxC+bIxrqbDCthIoO3FkNHIyOjjx4/Lly8/ePCgDvsXXQkEYowAtCoTLYebXL9+HantzZs3Y9yKqCAQiG8EIGAzMzN5+cUggeV3794fB/fE99BE/1pBIFPGDN9cXYmPpJXW49boP0e9fQJC6+U3j8LMoGkRixZFLQKCQmce8o5bb9qtLewQtIiv3qoblHNGjVulShXZ3Cc0NBSxwf79+5s0aaIsIBICAX1DIF26dFjf5suXj4EREvLFixc3btz466+/9G2cYjwCgagRsLGxqVSpkoWFpNJl+f3+/TuuDpiMR11LPE24CLCTGTNiqJ2d3tnXYlC7+5afgYFiYBVrVXhhdg0NFb3KWykz+1e23njF9+Bdf2//UCszA2W+XiUEX6tXr0PXg3FwcGgQdtFxUFDQxYsX//33X10PQvQnEIgJAunTp+/SpYtcA9echQsXBgYGxqQBUVYgoBcIYBdeN+xiNOzQrl27RjAQvRiZGITWEEia1Elrbce+4Xvvg+BTszobuzj9Eszr6AN/E0MDVb7W2c4wT2qTG68Db78NLJ5RfZyl2I9DQzUFX6shICM0c/nKNReXtMniyVmbSAjPnj27fPkyQZF27dqFtivCAMNnsLA+fvz43bt3+Jvnz58fP4bwJcS9QECbCGBcePfuXRzC4FZNTEwii/OlOgQ42tu3b2OZcOXKlezZs1tb/yJsUC0p0gIBnSEAARNq5sKFC3xHc/nFaI0V+8OHD0eOHClQoECSJEl0NlrRkUDgs0cIIKR1/MHUzj7inSOlcZWc6tmGdEmM4Gs/uEtV9PMSfK223suRYycaNagbX3wtEWRwqdm5cye/9IRRROGFZxhMg7e3NxEPcuTIQT5WBw8fPuSbnCxZsjx48IC4oZ6enhMmTOjTpw9u5tqCRrQrEFCHAPKqefPmwQ1ky5aNXRZGtOzK+LHnJ58QSIhpYXbfvn0L48u2DYpFgUsaUoevDQgIIJpHkSJF1DUs8gQCOkUAKv3vv/8IMgOJnjhxArks5rNswFh+ifxFQHEWZKwOWHLJT5YsGVsyeflla0cMOwIjNGzYUKcjFp3pCoGPHz8tX7V2+JABuuowWv0Yh3laBf2MWDv7iFfDghaqfO3N14FPPgc1KGhB2C+MFmjU5BfBbrR60Vkh4TemLai/fP2a1CneNA6IXc+fP8/catasWatWraJFi2bMmJGVFCsuAtpXq1atWLFiPCpevDgsAjwuxggswe/fv4evxc0cgwRt4SLaFQhEggCEhx9Y6tSp69evD5VCotjJ8MMPKwDFlitXrnTp0hAzlOzl5cUxItzCzrIxY8+GvBZtQyQNi2yBgE4RwAf33LlzWHbVqFGjdu3abLcyZ85MPC/UC+XLlycT2ua7ZMmSSHbNzc0bN25sZWXFog1hI32grk6HKzrTIQImpia4jumww2h1lS7M/ODBhyDiIai9tl/367vRIyiMo8VogTJIbdWW1IdMIa/V1lvw8/WzsIy3GG+IuLiyZs0Kw8qv/vbt21lqyalcuTI5qMY4Zox0u3btYAv8/f1ZdpXBouF9KaktXES7AoFIEIDqoD1++GFq0cayuUKfgKyrdevWmTJl2rp1K5xBq1atuOXnnwNHcCCTfW5oj7pckTQssgUCOkUAUkThwAYMsSsiWM4QYRGGza1atWqzZs1YflFKVKxYkQPzvn79irgB5YMyBjN/AtTV6XBFZzpEwNLCwsfHV4cdRqurDE7GKe2N3rsFX3gW8Fcm0zJZ1Fgg1MxrbmpsgOD25dfgJNaGOVOaRKvp+Cgk5LXaQr1a1UpmkZxeq60uI7SL8PXTp0+IY5F7sbzCuSK4ZYVdvHgxa+vmzZtxz+Rspwj1RIZAIN4QgD49PDyQ0WJfSwKOFrMZlA8bNmxYv3798ePHYWcxVIi38YmOBQLRQ4DdF9IEznrEWJbll3UY/Rhc7KJFi4h7ADHDv5YtWzZ6jYlSiQQBxPMI6fVtMkRCkI9amLjPKyhYsbi1XcUcv7C2lXOazW1mGxQiBa9l8C2LWRjpMfOox0PTtzcfw/HUqVWD6LAxrKTh4oi7iO4Jo4BcFpstQiPB2iKdRe6FVIC/LgLaKyVeGu5bNCcQiBUCnLOwadMm3Bb79evXsmVL2Y4WBhfbRMRg8ndkR+zGqkNRSSCgFQSwDl+xYgXGXW3atOE0XZxx5eVXtgdjHWb5jeyEc60MSDSqBwjAFcyYMkEPBhJ+CB1LWWJacOtNYI/17pjbVs8t8bX9Klr1rCCdmsuZuljW9tngfu1VYBpHo+7l/h/5K3xDenAv+FptvYSpM2Zrq+lot4v14aVLl4gdg8EWklr8FTDhQnjACss3tgcwtXje0B6yMWLZcooj+Qhxo92DKCgQ0DAC/Nhv2bJl+vTpWMhgU8sPP+c8Q6todVOlSsU3WgjEYPRKlA8nJyeIFnYh3veQGkZBNJfwEcCaFlfISZMm4blbuHDhvHnzvnnzBtUZ4Q7YtkHS2NQiemCiOD7Kyy/0LJbfhP/mfzMDJyd9DHZhaWqwvK29vaXh3lt+Vee4Hrjrj39Y+exm5bOZIcE9dM+fzJ03JEmzf2DoR3e9NpUR9rW/IcFYP374KP69WPAixzmMRZNlFI4WpxwkXnny5OnRowc+OijFsFJAsZsyZUqsu/BjYKmlGFEUYj1rUVEgEEcEOGEBEoVouQjQgSUiYRAIX9+1a1d8HHG4wTT83r17MAouLi443GBIg5UCJePYr6guENAsAhjMEJ0WMkZYQAAvTg9B21CoUCECd5BG0MDODe0EnC4bMzwjifjBgox5mGaHIVoTCEQTgWwpjLd3d+iyxv3Rx6COK93gdIn8hdb51bdgjiKjkUzJjIlfe/ZJQKOF37d0c+A2mi3ruJieDkvHKCS+7lhMEcFiv4U0K23atKhxOX/88OHDZCLlYg3FOwdml+AylCRSEm46gIAwDLkXZeAkEh8mYkZ6jgCEh7AKGwNsavmxf/ToEf6OKByQcsEQwAcgr+WpbIrAJo0ASUhzIVoiIaDtpbqeT1AM7w9BgEWVJZRvQijC3aJhWL169YEDByBvKBYJAssvzC6GCpQhKJh8ejmUDHlDxsLMJnHTycChI2dOnaifc+RohiP9Hddf8t1wye/Ou8CHH6XQB1yEs+UQ3dbFLQiY0GGV+/EH/vrM2hpgZymPW3xrFoG2HbutXLZQs21GvzUEWgsWLNi3bx9WXCysuOIi65Krw7mytiLKRV6L/82tW7dYc1leoQTKoPPFDLdjx4747Ua/O1FSIBB3BPh1x6MRmxm0B/zqY/+tPEgMhoBMHMhKlCjBIwj77NmzZEK0WCvSNf43HEJG4KS4D0O0IBCIIwJsyVh+d+/ejVENUljkCyTkNll+sf4ik+UXemahXr58ubz8QvCER0BZ0aFDB+J+xHEMorreIhC/vEH0YfHwDX3nJtkbpLQ3tLP4v3ViQFBox1Xuxx74Z09hfHSAPtpUCL42+m85ZiWxQ8iWNUvM6miuNJa1HHWD0xj2Bk2aNInsvDHWU8QD8L70zOKLrS2CWwKDIxvDe1dzwxEtCQR+jwC//eyyZsyYgVwWe4PI5K9IwmBn2arRIowvFAsZo9uFS8DX+PfdiBICAS0jAFm+ePECFRknPrZo0SI6yy8WYqzYsMIci4Mpjlh+tfyK4rP5hMLXRoERrO2IHZ5ERcibRh9Vu0JzF8W7i9OjeGRqGTeaLGSxMAfwrMRQRED728nAKBAxFMsEoof+trAoIBDQOAJQKUIsAiDkzp27UaNG0dHGIuLi4AZkYPjiaHw8okGBQOwQYOsFGaNbQP0VzeUXsQJOZnJY8dh1KmoJBGKHAKeMobaXNfc/TxyTWlJNY2WrGt2JJXdKfbx1pTLESdC3S/C1+vZGxHgEAgIBgYBAQCAgEEicCMSLcS0MaHCIxIZyfI30HZbACFVThqhwt7C5fEsfwx/fRmGZun+Lgq/VFubE+Ro6qJ+2Wo92u0hhUe9Gx4qakki/ot2wKCgQ0BYCWNHgHKY0ro2iG9QRFIuOZDeKRsQjgYCWEGBRhZKjs/wir1W6QGhpMKJZPUFAB3G+YFg5tA5GlpMUJHY2RKFtPyoYZfqIGP0LZpcTHAiIy7f80cFbEHyttkDWhzhfqMM4lIEo99H54cfAC89cQipqCxHRrkAgGghgI3vz5k0YVqxmf1scvgGjcGGE8FugRAHdI4CBOJG8iNsVzeWXWGBi+dX9a0pMPRJoNjBYwTfsrJ5cyIOl8fxkeGFz4XFNjBUmyHT/74qm4cEKvlbDgOpVc6lTp8Z5fOvWrdEcFWEUa9euHc3CophAQBsIEI4DVuD27dvRbJxwH1mzZo1mYVFMIKAzBFKkSEGYxegvvzY2NoQA09nwREfxhYDG43zBNQYEKQKCNWZUoD1kYHPhvPlwIb41NZY+GrfQFfEQtPUGE4HPo7agEe0KBAQCAgGBgEDgj0RAg7yBf6DCP0iyNEjQl4mRwtxUkuNq6hLyWk0hGb4dfTCuDT8mcS8QEAgIBAQCAgGBQAJHAJGnj7/k/pUILkmC6ysJbi1NJeezuF+Cr407hupbiN84X+rHJHIFAgIBgYBAQCAgEEjICPgFKnwDEvIE1I0dUwoMKqzNJfuEOF6xt0M4c+FKYOCPM9biOAi9rW5iYlyqeGG9HZ4YmEBAICAQEAgIBAQCCQiBr1+/xSUkAtJNr8QbuAhbW1vLX2LlxuLNxl5eC1NbolihWHSZgKqcu3g11qPVkzhfsR6/qCgQEAgIBAQCAgGBgGYRiAtTy0gwqE3EF5YVSG2xuI3LFXu+Ni69/gl19SHO15+As5ijQEAgkOi1Z0J1lviIPNETLa9MK3SbKGxqo6DnuBsNC742CnjFoz8OgUS/1Gplnf3jyETvJpzotWdxUZ3p3dsSAwpDINETLbNUS7dxjPOV0KMfRE3+2CHEfYKCr40aZPH0z0Ig0S+1atfZP+sdi9kKBAQCAoH4QwD72rh0TpxaQmIRNiDxyW1han0CFXZxM0IA2xjwtRFFWYnpN9LYxLhowXxxobZwdUWcr3CAiFuBgEBAICAQEAgIBOKIgE+AdF6Xmal0QG7iuGDTifAlRS7TxHxiwNcmblGWxnl0EedLE/Qp2hAICAQEAgIBgYBA4BcEAkMUgX4Kcw6kNVIEJ2TJLewscb0Q08bd/EAJUAz4WmUdkRAICAQEAgKB+EIgouqMkWh8Zx5fs6NfjWvP4nEuomslAhHp9s8k2plTJyoxiWPCL0jBx9hIYcZptIqExOAioDU0VASFKPwCNH+6hOBr40hXkVYXcb4ihUZvHkRcZxnan7nU6s07EQP5PQKJW3WWyP4Gf/86/5gSiZtuo//DEcc4XxHphcBYfLg40UBicMPONdBDEwWZlw0Ni+TFKQwaMTmIiAY5gq9VC4sGMkWcLw2AqOUmEvc6C3jRX2q1jLRoXiAgEBAICAS0iwCqfExv5cvIQDqZFh4XZyxYSemj3c7VtC7ZGNC7QpLIBnNYrjZ5WdXu43xgmWpjIi0QEAgIBAQCAgGBgEBAIBAJAsT5iuSJJrMxuvUNVHj7Kzz9FF7+Cu8ABYEUZCEuvCaSXT5wvdI3ctQ4XFQ3UDZFoIYwRjYoVOGv7N1PcgjjOAntCWjDDV+9vFatfpaaiUn8I0y4wpGCuBUICAQEAgIBgYBAQKsIxDHOV6zHJpkrRF4ZBheWVDIVCPv+f0GyVCS9JJVuaoiHEQPr4aWer030+lnehLZ5dBHnSw/JXQxJIJDgEFArZdD28qVLlHQvYuAHXvnbrMuZ6klfMCo40cPEaO9SS7R0J+hWe5jHsWUNhiOI40jiXl09Xxv3dkULUcf5ksxNQjTvBpggYGc5lZUgOh6t2qVWrLOxeAtolLCU0suNeixmE5sqxEVX+mfEpn5M6iR6KYMu/waxPvT0lbyw//ALptbCRGFn8cPHSONoJHqiBTFd0q3GX1DiblDwtbp+v36Bkr0LzoB/+AVra2mqsDHXrthAFeREv9TqYJ2Fo3Xz+eF7q4rtH5hme2ZlrrC1kDR34koQCLj7Krz8EsRItT5I1Mew+Pw5O9lIh1eJS5cIaDDOly6HnYD6EhStrZdFnK+ITcPRfvMSTK0EDOJq0Pji+YcKrSPShv7nsCX76imY2h8vCnE1TJKrl/6/NzFCCQHYOMHUhiMFFmFBwOEw0cGtxuN86WDMCasLwddq631FjPPlG6Dw8NVWdwm03cBgsbAmjFeH5cx374QxVF2OEl5fcEu6BDzWfWF+IK6ICLAC88MkLoFAYkJA8LW6e5uCqVWLNbowAoKIS88RIF4MrK24IiJADB1x6TkCkif4H29TG9k7Ym8mLl0ioJs4X7qckb71JfhaHb0RtsViYY0Ma8LsiUvPERAW4ZG9IJS58mE/kRUQ+fGOgFh7o3gFApwowNHGo/iK86WNuehnm8JvTFvvJVycL378xBUZAgKcyJDRn3wdvyMfH+/QkBAra5uICLi7udnZ20fMV+Z8+fwxaTJn5a0OEgSNEiupDnBOQF28fvXi25fPygGbmpnlzJ1PeSsSAgGBgPYQEKuxtrANF+dLs+GLVRdNQ0PDTFmzDxvQbcLUeUcP7bG1s69UtZa2ZvWz3VFDevfqPyxZ8hQ/M+L0v2bBidNQRGVNIxAcFLTqv4XKVjNmzlqmfGXlbWSJw/t3e3i4tW7fLVyBa1cuTB47dNu+U+HyVW87t2m048AZ1RyRFgjoGIE7t67funH504cP7LJy5c1va2P/W772xbPHx48e6NClj46HKroTCCQyBARfmyBf6IZVSz98eJfMWRJKGRkYDcxboHLVWtY2Nl5ensbGJmTu3LohVZq0hYuW0NL0XL99CRLKVy2Bm7iaDQgM3LF1Xffeg+Vp2Ts4xmV+BQsXX75uZ1xaEHUFAjpAoEbtBnxOnzhy5eLZAcPGyT2yK4PTzZQlW5ZsOeB3AwICUqVOy6OHD+46O6e8fvUSn8JFr+bJV0gHIxRdxBcCIs6XtpEXfK22ECbOVzhTBM321KRlu+IlyirbLPpXaSMjI/kWHe7jR/f9A/yyZM1hZ+8QEOB/9fIFU1PT/AWLUsbX1yckJOTVi2d2dvap0qRTtvDu7euH9+9kzpojbbr0ZLq6frW0tLp+5aK1rW2evAXlYh/ev3vy6P5vBQ/KNkVCIAACEFK1WvWVUDy8f/v7d1eoNzQ0dNP6FbXqNDp/9mTadBn2793OsYyNm7VRJcu3r19u3bzGz9evQuXq7NM8PdzPnT5RvXb9Y4f3OTklO3Joj4W5Zct2XdVaJlw8d+rk0YMYMzRu0Ta5c0oGcOvG1QN7dzg6JilU5C9jUxMI+8zJo+dOHXN0StqoWRsHxyTKQYqEQECzCCycN+Pd61eFipaYPmkUq3fBwsWG9+40b/Ha16+eL5w7fdrsxU8e3vdw+3775jXB12oWeX1rTcT50vYb0Ue/MW9v729fv2p75tpuP2KcL632iO5V2f6De7fRgp0+fvjMySNu3127tG104+qlIwd29+nWOjg4+OjhfZ1bN1i3asmzJ4+UVY4c3DNh1MBXL55jYHD4wG7yJ4wcOKRvl3t3bs6dMXHb5rXkIHsY0LMdjY8e2vvzpw/KuiIhEIgaAX9/PyhQ/ri7fXfJkHnZwjnv373ds2PT+zev4Tshzn9mTixbrjJbpn4923l5esgNsiUb2r9r8b/KVKtZb/a0cShqPT089u3ZylP4Wmi4Ws36hsZG8/+ZEnEAJ44eWLVsQbXaDbJmz9mve1tvL8/HD+9PmzAc/jhb9lwTxwy+e+vGo/t3Vv63oGGzNk7JkjOAiI2IHIGARhBgP3bmxJHx0+bWbdhsxLhpm9etcHR06tC518wpo+fMmDhi3AxrG9vqdRumc8nYsm0XjfQoGhEIRIYAsq0vnz9F9jQR5MdGXjt61Kj06dO3a99enn/rVi1nzJyZPLnGHDX27dt39OiRJUuWyu17eXnVr1ePtJWVVbZs2Xr17p0ypSR6+cOvhXNnrl+9DBDyFyjavksvVTTQ1RYvUTpT5myVq9dZumB2zbqNGzRuSQFscK9dPk8COe6Yyb8cG4Hoa/qcpbZ2duUqVf1nxsTK1WpTrEmLdn+VKlexaq3Z08fRwuJ/Z85esBK5l6+vb8OaZVR7FGmBQBQI+Hh7H9i3XS7QoHFrGM3+Q8ZOHDUwMCjw36Xr5Py2HbvnL1SU9IP7t8+fOSFnmpqaLV2znepoGCpWrfnowT1VUVbjFu3gg9Hk9u3eRi6v+r19y7pBI8ZnyJRVkb8QHC27spcvn2GwKxvnPH36kMJ48/izxH/5iBlP/UYtVKuLtEBAgwig6XJ3/45kQW4zdZiirHT5yquXL8xfqFjKVKk12JdoSs8RIM6XLk0Rpk4YERIiHXCKP0y1GvXQhu3ctuHerRsTZ/yrFiiMDDevX4Xylt1+7XqNVZdcteX1MDM2fO3du3fnz/+3bLlycLdM6dKlS35+WgzhGBQUdPPmjStXr/Hbtm3b1urVqt64ecuA863/7Aums0ChYmBgYWERBRIvXjy9eOHMyWMHVcukSZdB9ZY00oIp44eS8Pf3x+pLfpoyzPbL2trGz9cX8H18fGRlLj1myJQlXAviViAQGQLo94ePmab6FIkppgily1U0MzOX85MmSy4nnJySu33/DsfJbVBg4NB+XW1s7czMzW/fuNKuU2/VRmzCoiUYGxsHqwvW4ObqqoyKkNTZ2c3N1dfb29beQW4BP56AwID0GbMMGzP12JF9S+bPwi6ic4/+qu3rZ/rihQsFChbErCh2w3vz5s2Z06fBs1q1apaWlrFrRNSKKQLJkjs7OCSZu2gNv1xIy75/+0YLqNRSp3W5ffMqXG+KlKl4FKoIjWnLCaK8h4fHs2fP8ufPH+vRQvZPnz5NkzZNmTJlY92InlTUcZwv1LYTp81j7l+/fenfs/3KjXubtewQ0lx9hKZvX7/06tyiSYv2dRo0+/Th3dyZk5q17lihcg09gS6aw4ilHUK5cuW6de2KeZxqN/v37ytfvlzRIoXXrllD/qtXr9q3b9egfr3Zs2fBB48ZPbpUyRJ8Dh062Llzp/z58g4fNkyuvmrlytKlS5UtW+bAgf2qDSrTuPynS5cONnrgwEHv3r3DSsH12zcaKVyoYLu2bUjfunVr1MiRlCfdpPEPjTyCZHd3d2UjOk5o1biWuTgmScJSyCcyRxz57SRxdGrVtjNWXHzGTJxVuFhJtThMmziybYfuU/5e2KV7P7UFeAVhK7J0aA8tf/4o7BD+j9PMmTNg+v9/L1K/Q2DFsn9r12+M/BWPGbnsrRvX5AQ/8xky/9g1PXp4z8TUdOL0eaPGz8j908j7d23/eJ4pc1a8cOQbzMQzZs6WJUcujBPIwRrn9KkjJDBs8Pb26t1/xLI1O/bu3PKjpn7/17hx46+xNdM6fvxY1SqV37x9c/nSpRJ/Ff/06aN+zzXxjI5VOk/+wlPHDzuwZ/vIwb1uXL/83fXbf0vmobjoM3AkMgUEB87OqR7ev7tl/arEM+2fM7l3927v3r8oFX8+idb/AwcMGDdu3KfPnxYtXNimdato1RGFfiJgZGSMKoxPpSo1U6RM/e3LJzwcjh2ReC02VFPGDR3ctzOuCP8t/oec1f8taNaqQ50GTWEt8hUsMv2fJehpWTDxQ7h57bLc5Pw508ghjfkidceN6P/i+RNu0bORw+2l86fXrVzy/u0buTxOFG9ev5DTuvmOjbyWkbVu03bJ4sUrli9v36GDPNAnT55AfEeOHrMwN69SpTJsaBInpwP79+/YsTNrtmzjx43z9fM9eer0zp07GzZocPbc+Sz/ZClTulT9Bg3s7e03bNhw4MBBV1fXYsWKvnnzNrKZ85e/adOm5MmTw9JNnDChQIEC2CqMGzt21qxZI0aOXL9+3bjx4w8cOHDs2DHYXGfn5A8ePLCzs4usNW3nh4vzpe3uwrWfNKnz6ZNH0DvUrt90/MgBhoZGQUGBK5b8u2S1ZJsY8XJwcLx29ZKnlyfa24hP5ZxqtepNGjMY+zDEDB4e8bZhiGx48Zg/c8aMdm3bCelXZK/g65fPvbq0lJ/isFWkWElsbectWVe6XOUxQ/vM/28Dj/bv2Ya166fPH80tLDCkefv6FZnpM2Z+//b1P39P9HB3f/XyWaEiJSLrImJ+x259B/TueOnCmQ/v3hD8DvMDFpBrF8+1alwDi6Yfuggb2xGDehYtURr5GX48ERtJEDlubm57dks28bXr1JFXvM+fP23fvt3FxcXezj6di0uKFCnkibBiDx06rFVrSRvu4Oiwa+euzl26IEvbuWMH+4e6devKyh8Eunfv3S1bttzjx4/r1Klz/ty5VKlTs6QjJjh79myNGpLw5saNGzDHSOCKFC2KkufQoUMZMmSgZKHChVmZKeDp6bl3z57AwMB69evb2NiQ8+jRo5MnTmTNlpWWuf0TLkxukjgllWc6cNg49Gb4MLRq2wWO4fnTRyPGTsP0K4dd3pZtOqNPQGXBFu7tG4ny/4SLH+jTp06lc0lXpUpVhCZM+cqVK9euXS1VqvTDhw8bNGggg4AYZcmSxW/fvbe1tSVdsWKFly9fQtvhyAk147atW6G3fPnzw3VBmfAVTZo0QSJz584dmsqdOzf5Bw8efPvmTZ26dZydU8C04Mzz4QNG/m/q16/vlFR6U0iFodJUqVNVq1ZdHgBWkc+ePqtUuTIULuckrO/AwAB2U4z5w4e3ltbW2CGcOn7o4d3b5StWG9irffsuvbNmy7ls0T/4LxJj7vrVi+1VIs05JkmaOo3Li2dPnj5+mDRZMuiWdk4dP9i15wBkBERj7DtoJKGZhvTrsmrj3qdPHh7ev2vI6MkpUqR+8+rlvt1bO3Xvhxf79k1rGzb5YYGjG+hiyddChfMXLChXtkzVatXkge7bt7devfqpUqXitlOnznv27Gnbrl2mzJmLFS8uFyhWtBjO+MWKFUuTJk3evHnJzJkr14cPHwoVKjRr9uyFCxf4Yc3g58dqKJdX/WblzZolMxpyMzPTQ4ePQKkwsrDIEydOePLkMSsyy3HevPlu3ry5d++eMWPH7tmzO2vWbPy1qDai1bSHj2LjJf8GhU2SWMdSBB6j4eFhQFwY1Sq9BwzntmTp8iamkgK3XqPm+NNAUuzSRk2YeWjfTgsryxlzl1pYWObPXxgDWdW6pIePnbp9y9pL50537IJPmCTFQfuQNGkyEja2tm079STRsWvfg3t3nDp2iNgLWIY5ODqSKS61CFy9enXFiuUQfJcuXXPmzEmZU6dOrl+/PlXKVPATlStXyZo1q9qKiS/T3Nx87db/m8HA/RsYGM6Yu4y/Ykxjp89dKv+kDRo+gfUXrUC2HHkAoXL12pzLQCCF5et3Pbh7GwMYIh4YGhlhcTthqiRXoLyNjS0JSyvr2fNXqOK2ZJUkeWX5Xr1p7/07t/BLy5w1Ozm0363PYPx1jE1MVi6dD7OFoQLtIzY2NzPLmiO3aiMJJQ1TW7ZM6abNmmGvReLU6TOMvFTJkq1atebRP3PmrFm7VsnXwoMuX7E8f4ECuXLlgsGlJEtrxQrlqf71y1f0ZgcPHVq/bt3ff8/s2bPX5EkTERDA11KlatVq8LUs1xPGj4Ov3bp167x5czt17NS3b5/BQ4bSHXqz5i1a5Mmdp07t2mfPnUuWLFn5cmXr1K3L2ydx+szZK1cuDx40qFu37lOnTIVr6dq1W0JBOC7jhG5l2y0ageDLV/rBKnErWX7/vIoULyUns+fMw+dndmL+H2ZxyODB3bv3WLlixf79++fOnXfkyOHevXr169cfBe/uXbuUfC3rA3Q7edKkQYMGISw7duw4uJw+fSocObVs0Zz9asmSpRDo1q5dB762d6+eDRs2BHY0yexp4Ws7tG/HMpIlS5by5cqdPn2G/dukSRN79ur15fOXevXqnjl77tLFi+iBIf5NGzeeOH5i+owZw4YOhfEtUaJkjerV9uzdlylTpri/FV0a1zJa5o5cloR/gL+3pydmMPIUnj66nyZdetnGoFO3vqOG9ibfz88XGOUC8jfrp4+vt2qOnIZXJmId4Tu4ZaFmlSZRo26j3HmkbS2+PTisd+jah5DMdKEM1iTX1fZ3LPlahsUyN2jw4F49e8hDZLfEEiansXhjkY1s6PLPmPIp1roYDMDapk+fYeHChcp81QQbtUePnyAVyJsnt6zwHTRwIFu3jp06nUt69sLFCxSuWrUq5Pvl69cOHTpWr17t48ePzZo2U21Eq2lbS4WTtWHjeb4OFgYlshm1LmmydOE/2jNFkElHdUblKkobDJStcia/3LKvGLfESuSjLIxFlzKtTGABqYwHLi+4CNXkp+bmFn+VLEuaF0e0JtWATcrq+pPAMkba+MfrhZQLkl68eIm3j3f9enVRU7CRaNumzX/Ll4Nhi+bN2df9OXwtU0alFdkLgcuUH1EsRy5puytfLJRyAvKT/cl+PsECRxKrKGNy8bvlFLYBUxZQmtXCBMsCBvkREUMH9encvdcg/NUO7d8lu6zRft78CThc6Nq1aypUqCgzqSx6/B7zs1S0aNGRo0Yx6yuXf6gOZQR69eptZ2vXsUN7luv+/Qe0bNVq86ZN/GaTpgBmXRhBLlq86N9/5xf/668qLKlVKssVw31PmTxp46bNmTNnRmw2ffp0+FrkxPPmSW4o58+fQ5TLT2n27NlHjpTGwO8CDPH0afybjnFkyVKlmjZprG2+9syjoIzJDFM66ELKEA6cP/M2poBPnTp1zpx/SpUu3bpNG3SbI0aMWLpkyYSJk+BEcUnfsX27Kozbtm2fNnVqkSKFc+fOg1aW9VMiphkzSpcuI5MTjCyy3qfPnsM/IR77/OmzanU5jXQWwe216ze4ffH8xW5ZxVG7Dpw0OU5JHJHmLlgwf/SYsbDUSOVGjhjBznDjxg1Pnj6DpfHw9CAtk3TExmOUE6M4XzEFNuJI8GFQepYv+GcakimLMMN62FzkXHJ5i5+8bJq06Z8+fYT/A/mzpo7t3nfIsycP06ZNf+2SxGWpXjj045Yj5zRp3i6tS4a7d24QdVHOQRGRLXtOpL/IwoaNnqJaMUbp999Dnn0OKZU1ZpxqzEqHGxCyqC1btuCIQH65suW6dOncr39/MzMzrAWIWhCucGS3KCMyZsyIZgqyw/EZbjWykrQ8YsRIrHJ37tp16/atYcOGIQlDuoBchypIjlmX+/Tti0DIOXnyUydP8mcTWVPRz68wWc1OJYrq331C914P2nc9yNJL2rWIS8cIePmF3nwV/PpraPZUhjlTGZmZ6Lh/qbsN69e3aduWJZt03br1tm/fRgJtRvnyFUgUKlSYb32+/AMVl58HFUxvZGmqoz0CkQ2SO//QlWsPGZbsKX8vOLRvl4mpycy5S5UKYu31GNOWY4H8q5evkD/JHbFZYjVGIYCMQM6B6Q83BtgIPvfu3UPCys8bKt3Dhw9VrlSJYhgjITv49PFjxkwZw9UKd0ut7t27GYRtITNlliRYJiY//tLYUaMLxnJXOQakXxR4+fLFqFGjzMPcBFnwwzWo8ducqY06LvVtWcKkXiGTMBW3xnsQDf6CQEwBf/XyZZasEt1COS7p0799++7T58+yoj8i0bJrmjxlyoSJE3ft2lWrZs2bt25BTiNHjlSS06dPn2hEFgqyQ/5lZD9vqPLx0yeZ1MkrWLAg4gal/yWdwte+//ABNx55VHDOCN3g3qr/VErXql3rZ2O6+z+mwEY9srdvXxPfAKNEimXKkp14oAT8wgBm/27pR4qrbsPm8L7T5yxhw4+qoWfH5lgpYB1uZWUtR18lcujXL18omS1nLlRespxr3aqlSkFDWDPSV816jZcvnmtiYiofPqLMj2YCTnDH1cC15wKXdbKIZhVlsdjwtUmTJbW0lHqCFBBK1aldi91M4SJFOnTsWKxoEWirUaPGNWvWxE4lRdiBWJR0dHS0srYmYWxslOpnTBOnJE60U6FCBfgABLEwqbnz5MElAnkDj5RDpBdMF+TbFi1brl6z+vr169B03z59IEr6RTbA07Rp0+bPX6BOnbqkGzdpeuLEcUalbCTWiWPDf5HJh2sHrldZYPuVwPlHA8yMFWWzG3coazKg70aFoky48uJW2wjYmBuwt/ueOnTjhcCx2/xdkhrmT2eYN50RPK62u1a2/831W768P86Cd0ziiFUifxQklAX0PMFmwNbCoPl831ypDMvkMC6RResMLka3usEkfYbMXXsN1E1fsehFRr7ZfN8kVooSWYybFjexMlP/I61s3CW9y7379+RbfoaLFyvOuYNKMW1AgPQDpryqVqmCZixHjhwsthgJ3LxxI3Wa1GXKll2wQFKUwdQiO0idJs3jR4+TJUsur6vkI3AlIgoJGFa5qdSpU8+ePQdjBrmWVwTjsbRp02FrKxdGzPHXX3+lTp2m/4D+WODIVeRH2vt2tDIokM5o/pGAI3eCR9UzddSJeZj2pqP/LQN40YwS4AdvB4+tb/rbAcOG3r9/n/CgqA6eP3vmki5d2jRpkG1hnE2OanUyu3XrevjwEVZRrGCnTpn8/PnzcOTk7u728sULtMT86MOeytXhzDBuhG+GbqkL4+Ho4IClDRyFTOrL//tPtSPScBryGGgKSxu2gDSya/duDB0ZlXLzFq5WTG9jFOcLYCvkNAbYXdeCxjUw4xctpt0RDrxRrbLUIm5MkaIliN15+sRhbtGJ4bPYp2srwClfqYbcbOlylTDDbdO0VuYs2d++eUmgejlKTNmKVXp2bvHyxVMCkMuu6q3bdRvQqz3RlsjJmSsvjcgtKL+J1zRt4ojO3SVxeEwvxLQTdwY8+hDMrzkIxLR6bDg/eFllN6ii7j94KN/26NGTj/IRliibt2yVb0eNHi0noOPDR47IaaLeyontO3bICfmbirJrgnyLEQJBvuQ0FHnkyFE5feu2ZAyuekGy8i3Uz6X6SNtp7Gu/eoVs7mWhG/tabU8nXtr39A31/rmguXmH+gf+kNx/9QpVxnH65P5DoB9CTAaPHwU40Jcy8pipRV05zb793ttgPuz54A+qpLcroZOJFchf4Nixo7hUMtaTJ0727dc3KCh4/r+Slpacb9++6mQU6js58zr5pGirIC49C772MmTeYcXfzc3tLGO8nqofQWLMXXcucN25n7SriQl6+SpefQ3ccTWoR6Uwe/lf28Rq1sbWhjy8CFq2bIWfA1osfolv37oFu0n+xAnje/fuZWhgeOHC+V4qfuidOndu3qwpqgN+6Tdt2rht+w7MydD/9u/XL1nyZLh5HT9xElsF2AiEFJCu3C16Bhp8+erliRMn5JxRo8e0aN4MCif6UtFixVq1bCXnK78xYZgxfRqexGjPCMKAke7wEcO7dO7MADCuxZsNJbKycHQSMaJbZYOsAK9dQ7qv9JvUyNzeShCwEphfElsvBW69rBnqBfC3riHdVvo1yRpexvb+3Tv8YeSOET8hmerRvTvq/tOnTrdo0RLDWWxtW7Vq+ejhwzt3bquODx4DGSp220WLFX3x4gVbL+wQhg0f1rVLF5mcHOwdkK0SeJRQSH+VKPHfsmVI1mihfPlyXTp3ypgxEz7lmCyynUNG27hRQzRpmOv8t3yFai9yunfvPtjpvnnz+sL589g84KHeqlWrunXqVK9RHX8eYjJg+RCxVhQ5a+9knHQ2gsrXdlhM9cCGBopPHqG9V/v93SLGlHz8wt1wIyxboSofMu0dHddvP0yCgAYEopGLYVRQu17Tj+/f2Dsk8fLykDPxQccz7OOHd3iQ4tEk1XVwXLp6O+68nGkqm5MRHVwuLH+HBAfDOpcpV1k1MzppfuX7rfMLDMb0UYEZRoXJaoxakbzs6PfD5iFimwZq9f7HT18oUaxQxNKJKefcxauqcwx3K8+UzPKli0cxa1V5bbhinDemGhLBN0DhGoG8w1X5Y2/3XAvccjnAxsLA6uc+397KwMzkxy7NydrA+OdWMJmtAfHGAIqv5HY/ChgZYtz8I00t6spIvvgcPG67P+qMqnlN2pY2uXHtouob1yDazsmTZc+Rw8RYUsWWLVd20KDBcA9u7u5IC3BWQBiG6Kte3bqu310RfT17+nTVqtWylYIGx0BTEWlYbU7UJK0c0rzDATuvBqZ1MhxX34zvzx4KFhpxqUXAyUaBokYj163XwaO3+edKaVg25w9JebjVGFaSyLtyX05OSfm1xuUAL2/kJVWqVJGdHLALJEBBmtSp+SUeM2YMP/bKsX38+OHkyVOItcqWKSM7gKONpTpSLqqjWKQkBrIP7t/PkjVr+3Ztb9+RfhQJffDs+fOSJUt++fIFiRo5qOMYCRYFWOLCJd+4fh3nHvLxUnd0dMDlFJEY0WnIIVAuvAgJbCTw1HFO4Swb5JAjX2qpNNyf6m+X4p+N/fhfhjFPasPS2SUYWTS+eYUrIm5/IGBqrEgqvfY4XeEAv3jxl8UW90SC0Cs74HwlFAKvX7+GHiAhpXM5e56rV67kyZu3RvXqb96+VZYngZL2/r17yZ2TY7Ioy03DkRMEDL3x/fz5M7fvbpjhImElh78LFmGME9Do0g67rA/vP6CjQOfA34KPj69s/IB6AUqm2Pv37zFidHFx4VYegBw6l/0bHLbqkMLRbbhbuaRaum3bsdvKZZKGRO0VjqkA2DEsCCqqsy+eigA1nJ7axn6TObB3x7Qu6bNly7Vjy3oOG5e9dH5TJ3qPCZp06MCuXHkLECs3ejX+X8oBftUg9Nzj4NMPgm6/DRnfwCxv2p8cwM9S4VD6mf3jfw0txuFaFbdYn4QZDwkkooNAw6ImXSv+sM+LTvnolGE5mL43oE5BE5S5Dj853ehUjEWZjxHcFLZs3YaJIeoFOaYEiZWrVhFTBkMxwtshBohFL7qs4uodeuK+JCzUqnmiu5sb7smq8yKel6mZKbo/1UxNpdnDcwwvDg0RG6RftfkRS2o1B/taD9/QDT0sorBsVjIBypEgE1VVT8HmNmvaFAHVmbNnCPhVsNAvEgrCGzVt2lRZlwQ61nphBzoqM/El5+IHXpkDzyqzrUqTMLRqXHIB+Az5KbdKh0h4WQKHKVsgQV1iJqjmaCkdEUa/wFh2def29aCfthw4hqs64EZssWu7xotWbI6YH1nO0oWz8xcsqmqEw7nlnBJCQOUOLeuOHDedc0Miq6tX+REBDzc8lK4RJZ0wmhgWKksS2J44GzVq1MTSoEUEOmE3JW+olOXDkRP8K9aPPMX3Sy6DmSKKAmV5OaG6p+JvQflUuffjNNNmzZsr80nwFxfxj061gPbSMrDro1wQ4tL71L8XHj6w593bN70GDFd1241Lm3LdNC4ZGjRuVSC2wRNZACvlMubjExB67UUwOGCjFf1L8LXRxyqRlzx5/BCRPpu16pgI5vngfcj1F8HLO1tom6ONAivVk6URV9SsUR1ncLwkZevGKCrqwyOMN/5tY65Vd3Jk2JzGvHjlZtWAR6uWzc+dr4CsI4uIA8G9d23d6OHp5uycukGTlui/IpaJIoeo4csWzyX4V8Qynds27DtwZLESMVMyRmwnjjms3TH1/I3YI2zuosWL8VaEmcCuQJaVRiz22xxkt926d/9tMT0soBEY5XmNGNizWIlScjpVqnRR87WfYnhajYebW4C/vyqA3HLYHjlYJRKoTvWRPqc1AjhxOS0tLE+fOd2ocZNwO6IYzb1wocIEoolRFR0Xjn6cL40AG8Xs8PKsXlsrFpvpM2TiE0XX0XwEgxuLJVHwtdGEN8bFps6Yrb04XzEeTTQq+Pn4RPT/iEY9fSzi4mSQPeVPmwY9GCAcBtG+rl+71qRpU4zD9GBEvxlCLJaS37QY4TEy7K17T8KbojqEwd1x4GyEIr9k3L19Y/LYIe0690qWzBkpWue2jZav3YEI7ZdCUd6UKlcpX0FJVx7xWrxiiz7IayMOLHY5WM3K0YtiV12uJfG13RIkXxuXWUesG+4I6Af3bmN3yMEiOfPks7d34KAmTA/lUHRosTmG9NL5M07JkinjJL5784qz9OwdHAj7LfvWvH398vbN62lcXJR9YQpy9vQxYyMjZeAkOwdHI0MjV9evgQEBL58/df32tXjJsrK/Dq48Vy9dSJ4iBW7mHDeNaePLF8+I04xVCcdJRhYNQNmXPiewzoq7gRau5Po8R8YWozhfej4X/RyejkzpT506OWH8eP2EQEujwr5WGy0jsjp94ghqU8Jz0L63txdhlm/duIpBN7dk8vTF86dy1xQjzLKcJngnCVwjWUMfP7x/7vRxf38/+VHEb1qgHY6JUj5iLSYHxbHcL/lPHj0gh3VcWUZ/Eha6ClAV/Smjq8VCK0EwtdGfVHRKcpoitlaU5Bd61bIFskH/0UN7OUf06OF9QYGBWzauIsDf8sXz8Kul2PfvrpzTOGPyKA65VW1/9owJ46b8U6lqrbwFCrds2wWzrU8fJUU5hP3vrCnTxg8/f/Ykt95enpx5s2Pr+qnjht2/e+vU8cOTxw05fGA3jwhQc+niGRJEFL91/cr0SaMWzpvBXxA5F8+d9HB3IyEugUDUCIwa0nvF0rk+3l59u7Xh/EUfX585MydeuXSOWgEB/hzuyBq7ad0KgiWRw9GjhLv3D/AjOj2PyME7hyDKnl7uOzavu3DuFDmsw907NHl07w5Hkc2b9SPS5/SJIzw9Pa5ePNerc4t7d2++evm8V5dWqDjw78Et3d3d9fTJoz07taAAfPaYYX2DgwN3b9+0+r9IrTbpSFwCgT8EAR3xtV++fL3/MxjNH4KsNqa5e/vGEYN6PX3yYMTgHu2a12aZ27trS6dW9bdtWvPqxbPzZ0707daaZW76hBHyWc//LZpz9dJ5eSSd2zQisXnDSuJ6bFy3HDFD++Z14FMjjnPpgtnTJgynHUpSjAJ7dm0ZNrAH/Y4c0rN9izrBQUGrly+EJ3j04C7L7ru3ryM2InIEAjICnFe3fOk80jeuX167cvHjB3dJY2/A2bY7Nq/FBQr5KweJcXaDHJhv59YNnAOSM1d+TrhVYgihBvj5yseGyZmc54wBA5u0/j07IDkLi5U47/KFM15enjMmj7a2tilTscqgPp1u3bxSv1GLNcsXIdMi7OLRg3uofmDfjq2b1tSs05DwVcsWzSHn4L6d8NPK7hJcAjvajRs3bt68+XuYFls348ctkjOidNNXvPUSGkqMJPmzd6dkO4s3Ur/BYxs2a50zd75a9ZrUa9i8UdNWd2/d4BHkNHri3/jfTJ+9GLMutlgrl80fOmoKZTCWffr4AXuwtSsWDx01CZdzSiZPkZJaJ48e5Jydnv2Hte3Uo06DX0yfeZo7X6H2nXsTnA7zEiS1HEnapccArMX6DRolB8//8P5tqjRpK1atNWrizKo1fzFoproeXrgZcFqY8oMDYtSDbNhACt8RdRnlU0Jw4HymvCXBsWRYf3GO6cmTJ1Tz4zFNnK947F0bXSNBQ+IWrmU0bOFydHYbb3YIWBwOGzYUd0gcFIj5gjEiKzIH33FyI0E6Xrx8sXz5Cvwlhw4ZzOlN2HoTllkj8Wh1hqzGO0LQtXr5ohXrd9nYBcf0OQAAQABJREFU2rl++1K/xg9bQMRXnClKdy0aVJk1fwWxlFHstm5cvU79ZmrHgInYwGGS7BzedOfW9W06/qJqZOkkuN2qTftQE9eu33Rwn44YHa5eNn/Zmp24+CBjq19DOm4AkuU8sxKly1evVV8+vERtXwkxkyOXiGtI7IJy5co3bizFixFXXBCAXMNien+5cO5ky3Zdzp89ZWZhmS59JlknS8tlyleZN2uy8hw7uAS0uvk53mLtf54e7lSnDCyCtfWPs23Ys928foXMylVr2do5cKC0vb0jhonYQZ44cqBt557pXDIg1qUAWt22HXpiYFCgUFHUwcpzyHjUsk0nDs61s7OfPH4Ytwn6Ys0kwhHBktjojh83luhdSuctrc7Lze37qZOnKlWqrNVe4rlxA4Mte06qjgG6xdOOHDQwtmHESeT5kFApVgjhjuTDPoyMjQmHxFr6/t3rubMmybYBjk5J4YnJypApi9xgprDjIcNysso5mbNkw3VMTsvf7PrkBEdDUf3r18/pXDLKOenSSwn+fF6/fNGrUws67dS9n/LYXrmMHn6zwBIYrlPnTvLYChUqpHRAVDva8xcuQNhqH0XM5MAmfENV8/nrgOv6ZmFx9sxZYimoPoqv9Nev37TdNXpUDvpq0bazRjpCtRUUFKBsqthfZVRPhCb//t2bKBAGj5D4EOWFZmPHgTPKW10m4o2v7d+/H0HpCCJDtLnWrVofOnx4xIjhKVOmWrV6zZrVq7dskXbGI0cMr1at+pq163r16slBI8oDo7UEECE5wrVsYhJ7fDRuXItFgSXmhGErKUeJyo72DJgjnvlGyRsYGCAvaqy8/GYTWC7cdOTbnLny/Ujkzrdv19ZwZRBrZc+VB6aWfERo+Fb7+HhzEJ/st86ZIvI6263XwLl/T8afN0/egl17DwrXSMK9JfJL5UoVJ06anCpVygXz5xNZZuy4cQl3OnoycrZG165cePbk0bTZSwb27oC1cbGSP3ZlEUeoNDHkr48dmlwAev/06QO30DZuttVrNcSW4P27tyEhoX7+vjeuXaaYoYFRsZJlScBnyLUI4Ep0BdIGhIL79ZINc2EF/h8b+dcCCeiOMxeJAyofpYtlLUfjduvW7cbNGzLHyXFiBQsU9PL2/vjhw3e37xwVxqGjBOE6euRIhowZOIOXmSLo5ZAFRGh5cufJlz//rp07gbp+gwbICHl66eJFmINs2bPJLu0cQIonO4HAqteooYyFRIx9hBT4RMr2kZzSRCOE1K1dp46DQ8zc+xIQ8uGGissXLBT7KPiw9+/fJnFKnsw55YChYzkNhJKcR4pFLGc7vX3zKnvOPOS8efWiaPFSTsmTv3z6RG7q9euXciKy71Sp0j64dytTFum8dMxs2MLhrIbrD7Jedm4DenfcuONIZHX1Jz958mSqB9ISeePF8+e+fr7IbvnF59fnwP796VzS4Ukmj5mzEs6ePZM7V+4SJUvKOSgKnj97XqlyZTlK19u3b/fu3aMah+vdu3d79uxWcsy2NjaFixSmLlLbdOlcTp86xUFRhAFhPUFgtG/fPsLrlitf/u3bN4gzoNu9e/ei3uEoaWUAEP1BLzojQW118cJpTfG1VarXIRgtarcyZStnzJxV//dO4Zf76ECmkTK7d+2SPRsIAI6agDOZCBrXtVs3aBrykrvg+DFOF9u4YcOE8RO0zdTSI3E9w31KFZf+EmJ3aTzOF8GPkFrBZTIe1LJffxq2ysIAQiUHBgYprWk/vn8H72tobCSfmIfhF1yvPBGl0+6nDx/kcMqqE0ySxAn5gZyD5S5/84RWRuEomyEiP5ONbmEdkA3/t3anuYXF5nUrVVtI0OmbN29mypS5WbNm/ITPnTcPAQnTgbWfOGFCp04d2VzJs+M0u86dO40bO3bmzBmECkfzxeE08qNJkyaypJK+du0aZ42iF5Nv5879h7WyZ88egwYOdP0m7dfRoU+ePIlm165ZI9dFNUE4fT4kyAH2adOmUmDhwgXRl1jITenVN/v7Xds2pEqdDkEXYqcjh/YWKy5J/eULAuYgnJ936v9nZ5U3fyEscXmM9wyfU2FH5mTInAVS5PRzPoWK/UUsRvX1E3UudtvwsnCfzBIGl0NwEInNnDFTnvSMGTM4nwlqbNSoEXT16eOnUiVLDBk8iEi3qGhhUinWsUP7JYsXE4C5RYvmderURmmLW3rXLpKwB7kDEXBhcPlet3YtOaNGjhgyeDCH6n38+BHxMDlHjx6hBV7t2HFjVyxfTg6bwzdv33z+8rl0qZLw0OQk3AvLb/mDOVbUs8CLa/yoAey4Jo4ZnK9AERjc5q07TRo9eN/ubUvmz1q6ULJ4ady87ZTxw2lq/uypz8MsyMtVqHrx/ClMdDAn27pBovAorkbN26xbvWz29PEjB/WU12QOhRrSrwtmD1jXpE3rEkVdvX10797dxk0a3759G51tmdKl+/TuDb2xurJhk8c8fdpUYyNjjgvZvn07OUOHDOERrEKN6tUg9S9fPpcvVxYN8IXzF65dlYRTsKQcVgJTQRjdK1ekTe+Lly+nTZMsnv+dN69Dh/YspxAqqys5Y0aPnjeX415NunbtwlNyWNtPnjgRFBxUsUJ5ouSSkziuk8cODhvQDTvvRw/uyTO6evk8OZPGDsEPgadkHjm4Z0CvDlPGDX396v92Bay96NAcHJJgCUYiZeo0GCgOH9SDD44KclPBQYHYdPXv2X7rhtWyE4USNAx4CJTLH4XOTBZjL49UDjp2CbZEyqOZjYyko5khNWWO3Cbx7dmxHTiwv0yZ0gsXLoq7p2Tshqontfj5x6hrQI/2JcqUv33zGrrdcAOrVbcxJFuvUQt8dUGSKBvZs+fGWtHW1h6SRXYll9+1fWNy5xQWVlarVyycMnN+uEYyZs5GR6zCRJ5jna1TX7L3atysbf8e7UqVrajsd8mC2anTpCtctARMcMHCxcM1knBvixf/a8Db/rCe8AecNYr1C3Np1bIFcoI+ffry481JjMmdnTu0b79i5UqAat68eZnSZQgrc/zY8V69elMYSQOn6WBDRkz7Zcv+Q9JQv17dS5evUID43qPHjJ0//9+pU6die8NZOEgOBgwYOGL4MIi/arWqlJy/YAFsNGdT37x1e/q0aa6ursjh4EJY1jlcJxbAhtNCxEUFEYve5SqIl1jRmrRoz23RYqX2793mlDSZsjV+n9Kkcxk+sHvPfsOVmRETfQeNHj6w2+UwZ3McH4uVkDhjDBNxA8eDJ01al9u3rs+cuywk5IeIN2ILiTWH4LWInYYOG/rh/fuevXpxbpPamVaoUJ7jlHiERmzK1GnEw4fS4IZr164NJc+eM4dvyNXewb5zly4NvzUsVkyKHUFcT4IuIe719PI8cfKEHHCUOGJo2ziCQe4IeuacM9jrQoULd+7UsVXr1mz2ELzhJYn0K3ZbMn2gW2bXZ+AIZSguDmcip/eAH1Rat0GzNGH7KILPy7HqhoychG0A9rLFWaMrVZfQK1kW04RL505Dn+069SQH3YWDg+OFc6fz5C9UsUoNhyROrOT/Ll1PEHtOI5zy9yKsFyjWoUsfSyurXHkKYLHDLVfzNp0wcqDwivW7H967nTxFqh1b1sFJE3gBa/LLF846OSVvMbWLXFjPv9loVa5USR7kxk2bSBQvVqx/f8mvjh3a6DFj8uXLx7Jw8dJFOeDxwkWLrays0qZLO2f2nHLlynFU3pOnz7BLdPdw37hxAwoBot4OHjyE6pAo39u2batardqQIUNJnzp1im/Va9iwYagyXNK7zJs7Dw5syZLFd+/eYxnhTOlFCyXHO9R0Q4YOQ5pLZEbLMJsT1epRpMMRLSXVrrfRj/MVRV8xfQTnunn9qoHDxiIUGzO875wFK319vGdNHTtqwkwDA8WEUYNKl6sM9a5fvXT81H9w9oUHmDhd4vIjXvzoL1s0d+T46bhIjh3eD9tIyhw/cmDIqEmVq9VZNG8GqLIBkyvu2rbx+tWL/QeP4QzeQb07rtkinZQRsU3N5sQbX1uyZKkN69ezAh4/fix58uSOjo7FihXbunUL3AO7N3mS1atV46xdqNPXx/fsubMJi6/VRpwvfMD5IUffNGz0lC7tGvGXX6RYKSVBILJCEnbq+KH06TNNnb2IfJwJAoOCyOEckUJFS8glm7fqiMiWIKDjp/yjGvc7d76C8uqMsnj/ri2wwhUq16hYpSa18ITANQet2dDRk7u1a4KXz7AxU3duW39o384SpcpVqZEAnBWUKEWd4NyEi5cu//ffMrhS1s2ly/4jJsuFixf79O3r6voNot2/fz8njjZt2owlj6ZQjaltECUDKlo0a6yV8KZYilMMhoODduBCWE+RBB85cuTtu/f8kc+d9++b16937dyVPXt2eAtWcIZx88YNQyPDDx/eI9xdvmIl+0C1Hf02M5qni/22nbgUYFLL1++ys7WnkToNm1aqJhm/cs1esArxLYl/FqxCb4uRfZuOPWTLATKnz1mKb5lULuzCEmb+sg1PHz9EadBnwEgiL8oMB2GYyESVQWhxU1MzdsiTZv4rV5m7eA2CXtLtO/U2MzcjcNLQUZO5HTtplp29xKNgcTtxhrR243MjD490QryIP88FN8lZtfyoFCmsJtSRQZhxEbNj04tsVU7IHjm8IC5yCHYr2x4Ar/zo1auXnTp2KFCwIHSITEsGJ5wA4tXLl0OGDjENM/9AL8wfzpYtWydPmgiX3LJVKwwo5Vox+tYHumXArIHhhq08kwnHBvkR1gVyonQ5iVcL57GAd5fs4KVsByMxPspbEugf8CSTc7D+IoHrAt8IxuRMvuXAYXhGbt6waszEv1mOzp0+1rSltFckor5mg+orO9VSAiI5fOQXewl+y+S+lMQZpoEMlDNl1xqkAPhHYnKAlQu8gfyoTt06qCDSZ0gv38rtoEmgix85PwU68i3fMvWinWARRifG3wtMLflKfmvlqtXTp08bN3ZM5cpVJk6apKz420Q0iTZe4nzt2721Z7+h8k98rTqNThw9EOAf0Kh5W9kkpn7jlmhibWzsWEgJQpcnX4HImFpAgETnL1vHqotVJNXfhzmOE8ZO5hZ69R+BZa2Sr8XMF6uzWzcksS7Cy+dPH6u6//4W0tgV0BFfa2lpga5WuUWDW12wcGGnjh2nTJmcKnVqyIjRT5g4Ce+HxYsWYaQlL7KDhwzu0L4daizsbleuWhm7GcZXLW3E+Zo5ZXThoiXhIy+dPy3buIQLfVypSk0+yinzR16jdgM+yhwSFtZWSppTzVeuzvzmNWjaWvURaq98BQpXrVmPcDZI2ng7lInF+XiqbepnGkUYq1vfvv34oOriF33Zf8vhh06fPs2AEWVx5s31a9cdk0hcURTX129fP3/6LNdq07athYXEXckXLwUJFqIyFMHySpoq7ELSwNG7cpWatWolTZZs+PARO3bsWLR4EYeULl6ylL3fzzYS3v9KixdYTz7yBLA1lBNwUWnDzMRR3SrnpirTVWbKloXyrcyzklbNBFIscOQCyvaVzWIgziNlAWVh5fDkignru22b1tAYklFkqCgQTp0+hRWN388oftH3JVc76+nTp8+aNZvjxIi3cOjgAbVlWMPHjx9Ppzxluf7w4QPa4U2bt0DkRYsURueG6kNtRZEZUwSKFC/15vXLkYN78UeEu7DsphbTRhJcebhPdlxY0cAJpEyRgs3w7j17WD9hTNlrLVu69Pad2/KkZMsxjGKvXb8m5wQG/WCO1c6aHzKQ5GxINtWywQx/L5jq4rbODrlB/foY6jRs2FBt3YSVSXB65UE2do6OnMHE+DkIQ54F1oYkWHLnLFh96sShv6eMhWedMG2u2jkirx3ct/NfpcqGBAVjh9C8dUeKyR44JAjVDHOsrOjl5aF0mWjboXuy5M7KR9pL6IivrV6dA5/Db3wPHDyoOjHo6eChwwQDxwwR7pZHeC8iPFMto9n05y/f3D08vby8saRRqy/QbHdxb42wnbCYyxb9kyJFynDRwqPZOAc1OfyOJ4vYVIs2nWZNG7d8yb/OzilHjJsRsUCiydmwYf2Vy5dXrFzFjHLlzv3161cXFxfS7dq1h/nEUhZplq+vn2RoOFCaNDEm+cYtGkaWBEuhW1joNOS4eJDIvhF3795VOvlJdcIue3t7VmoEbPAiBw8egA/InTvPieMnRowYybbh3r17yBvY9REbBMty/hzosXDhH/Khn22I/wUCEgLtO3To0b17vXr1oRxUtIgMsmbNik3CsKFD3dzd7t29GxeYOD937NixyFz37dsLraptauTIkd26dsVOBhPJ1KlSDxs+/J9/5sCFWFlLP5Y4mamtJTJjh0CDJq34xK6untT69OnzxIkT5MHkyZNXddsfcYQIAjAAy5s33+rVq+b9+28SJyc2b3Xr1KlWvdrOnTvxvWnYqNGsWX9jLO7l7fUoLMhXg4YN8XzAnIzowhgVRGxTNadP3z4NGzRg97V79y4YYhjlM6fPIIbLnTv3kyePsYhQLayRNHG+dG+KkD1H7gtnTmLKyBQunDlRtUY9Zrpx7XKUuuQc2r8LySs2tbdvXSOKHB9i2+EBIit2ws366pXzxYqX6tZrEL93mIbLT69fuUQwciQUly6cUT2WD9UEYULQclB4w5plSt46XJuavdURXxudQb98+aJli+Y2Nrb4pK9eszY6VeJYBkvzJA72LmlTmaJC+6lii2ObWq3unCLVtNmL49JF7A7N40CdqbOknUaiv9q37wBfW6RwIX6MYS6nTpvOH/bMv//GgaBIkSI4OCI3xR4RCQHWitZW1q9fS7vePHkk7+aaNWp4eHqwTSLduk2bAwcOlC9fzk6KcmWplp6xaKxdqyZ1YWo3btqcLl06Fta/ihejaxrZum1b9uw56tapjdkizhBLliyNX/AN4rd70XvkCCAoPXX6zLFjx9ADHDt+gg0YZc+eO3f8+IkM6dP36NET0oIlVQpNV61a7eTkRBk4gzJly5LYu3cf31zt2reXjQ0whtm4UTJ8xMT82LGjfn7+ffv2xfmGHDQYcnWYgAULpWWhYsVK+w8cPHvmTOvWreVQSmfPnT8YJrYggaiCMvF7RYiHEb/D0a/ejXT7t41h95q1a5QQICgluE/KsRLRckFR0BWJsmXLyKfYbN+2PU3atCeOH9+ydZucM3XatAvnz7NsLl26TI54cPbsOQwbSEPtrJ+QHDkEWcqUMSM5qVOnZsuH2oFmx42fIP+B4JU+ZarkNzZw4CBEBp8/f+mVLp0cj3nb9u24Qrq7exw7ftzZOQVlNHvpIM4XA753+ya8qTzyFm26tO7QvX+v9pcvneX4G2IolSxTAUw40alJnQocbofhASUR/+/Ysv7imZNY0BE4WS1TS7HCRf4iDPM3169urt8wF5G7wGq8S/smnIJH3JuZ85bJmXx36taXg0iOHd7/7cvn4qXKKvO1mjDAuCRiB8dPXyhRrFDEfB3kyBoBHXSEiXc0rWGiGEyFyd7HhksyiYgXdgiqIRH8gxRf/y+bj1j8j86xMFU4qkdRk7BEn6qxiMUl3NnZGZGqPAL8wJDdpkyZUv7VJxM/WfwVGjVsiAaWkxv5O8KIlgVaNk+Ua0HMrB3JfmrbI04GRe2XL19Yx5FJyE/x5CVgGx3Jt3IBDNBRukWsHi4Hks6RLZOnp7e3jw9C5aDgEIUiNC4xPVTbd/VS+Eal0FMt+8elne0U2uOcok+3CRR3td42mqJbJSYf3BQhan7rlM//3IS9pcLqxzqnMRASENGOHTMG4/usWbNNmTxp3PjxERXLkYESjm5R+UaTaNt27LZymeSgpvaKgqmQy3/xVATE0ttCQRxPXA9lAy3iHWEai6c4zXJUE99Nw1x7OdPO3NxStvNWO0Iyibz04f3bFClTE6ZJWYYGOfc0TRoXpLbKTBJIal+/ek44BfkgaNVHatMOlgrL3xFk1CjpkbxWniG7N7VTTXCZqkwtgzc1UuCYoW4TkeBmpvkBm+kZGWLJGs6YFfEVl+rMZaGCMgf+FamY8lZO/JaYYYLD1ZI9GJTtRCygfKQ28eHjF3s7m1Qpna0sLXCM0KB1jbmp4GvVQq4wMdIiU6u+y0SXG3cRw28hsTZXePj+ttQfV8DQQGH5Q+L2x81dnvCIkSOJn/Do0UNExTG19dIB3Wr2rbiEneUht+nv5zd8UM+GjVsRVWP3to1zFq6S8+Vwy1H3CzsbsRh2zxEzaQc3BrX5UXcRl6d6xlDEZSr6XRem1spU4eWv36OMj9GxsCKvTaDXtOnTIzM6jJcZ5c+TQ0v98o48/RRBwVpqPgE3a/t/gUUCnkWiHzp8LUozf6FzUHnTGCA4WksClz/5YvfftGlTXSKge+NatbNDerpw+UYsawO9A/9ZtFr1OEa15RNQZqLia9EF+/sTvMLf3y/ALyAgKDCIYJYcSBAaEuLnH6BQSH++lJFdJjUoylL7viPG+eL3j4U1UHAGv+LlYMVJUb9mJZw72bI24Yw39iPlFSWxUnz1IlZL7BtJfDVtzBXmv+jcEt8UE8mMJAK2lkS23n4KYY/AS0XPgAWCaaJiARIGrcZLnC+10BAHJlHGNUrARB0SGooZofzx5UAsH5+AgEBzLCLNzCwsMJgxszAzMzI2IqqQoaEBt/J7xZARLzG171izmRHjfLEtdrJRuPkofOGxxYV6wlCBJY2ZLt6GgFsDCBgbKZLaSJwBhrbCoga2gJ2qYGo1QFi6agLW1s5CwVYEqW3QH7w9Q44A9QqOVld0J/rRNQIJjK9FBOvOuTdcHIDj44O/HnaENtZWSZLYW1tampv/zthY1/CG748FBQepwLCFFbnXH+vHAIfEwgpHm2AFteHfrJbuESwRVVG6ZBVEUBA2+OzfQkJDUE3InUJFgWHn/WpbBUF30lbESmFPj8F/tNDL2FDY1EZF8izUKMoCAwLRnnGkCOEUJGUadBsSglukXBNK5uhv0jqgW9WxJmjDJ9WJiLTGEYBWWV3R6Pqj7w2jW1ZXbn+h26BgTjui61jTbbzE+dI4VvrcYALga5HLenh4unt4uLl5+Pr5OxA5yc4mWdIktjY2RtpzQtbmS4Ol4yMugUA4BOBiJf0DbqVs2nz8vH19YF4l/YO5KQoHQiKYW1oYGRuT/lUFYRDu/KdwzWr8Fs2DEPZoHNWE2yAcrJe3D8HzoV5vX+kb+oRuzc3wSJGCKDo42ONYSZIVWxlREWWaiXEC+AFKuO9FjDxqBOBepdAxkrKXUK1+fBkaGslEyxqL3a1aujXmTPO40a1u4nxFPffE/VR/lxV2/K5u7t+/u393d7e2snR0sM+aOYOtjTXrY4J4JUMH9UsQ4xSDjF8EOFoQ9YOHhzcHhKCF4Lffyooj4axSp7Kz4pg+lYPK4neconeBgBIBhK+wAhLdoj3z8g4JDrG1tUF1Zm9vlzpVCqiW335lYZEQCOgJAiy2Xp7enhyHxbeXl6GBoQ3aXksLJ0cHvllu8dzXk6GKYcQFAb3jaxFQuX7/7vrdzdPLx8HeNqmTY7YsGXRjERsXHCPWDRfnK2IBkfMnI4B8i1Nz3SBzb28ba0s7W9t0aVLa2drEURLwJ0Mq5q5tBBBtQbTEq3f38GLHherMOVnSzBldLKIRXFnbYxPtCwTUIsAeDC4Wfa90tqi3D3wskRBTp0xua5MpIfIVaucoMsMhoC98Lday8LJ8sG5JksQhbeqUqACMfgarDzdocSsQSIgIsMKytn77zr7N3cDI0MnBgbPu7O1tBZ0nxLf5h4wZERdmYKzMbm7uRITigEaiI+fKbis2YH8IASTQaWIgi+Hid+jWwxNZLPreDC5p7WytlSfgxOO89CTOVzwioO2u45OvxQeGn3k2UtgbGBoYJE3imCVTejs724RhZ/C7NxMxztfvaojniRMBfA7c3D2/cYjZd3dMZJMmsU+XJwdLbeKcrZhVokAAvdl32AK374hmMTGALUiXJpUg2kTxbhPtJBAcIJNFn/DtuztOi+zBkidzyp4tk9KkW09m7uSURE9GkliHoZ6vxcjv1p37mJtwtL2luRknLSmPD40jEDgSenmhFICd9cRSG42Ag70d0tnEt2JGjPMVR+hE9YSFAO7eMLIY1bi5e2Avm9QpSaYM6ZTx5hLWXMRo/wQE2ICxOEOuSGdZqGELUjonz50jqzA6/BPefsKdI8Hp4WXDzLo8LK0sodscWTJg8J1wZyRGHkcE1PO1xYsWwCMbYxSM/z58IqjWy5CQUERNYX7ZRNMyMzE1ZrHD49XYyDAyhRQ7/qDgIFxl/fwC/Tiyzc/f29ubMEU21tYYzmbNlD4BOYHFEWVR/c9BABtEVBAws/zZ2NlIgTuyZ8kU64gwfw5uYqaRIYCU4ebtez+kDBbm7JE0JWWgR8mTxssrTMolWR8iX0jiaJ89ayYW58jGI/IFAr9FQKtES++S26IH/7w9vDyJOIh0LAGttCLO12/pJ44F1PO1WAVYW1vxUSiSyh1gM0A4DCmSi6+/r5+vuyf7eSkqYSCsa1gsN4pJ4WNDQ8NO9pIqwf7iFYtpNl4FOBk42ttJnofCv1sGVHzrHIGfS60lAQcsNcof8IcAZ+CGa4K7p5GhAYtsKufkSXJkS6Bx6HT+ZkSHUSGglDJ4eHl/+PgZ7pNDMYhGxHrLP+nbHDED4gVjgmpF1RCxkAnFGYCUgficxDYiIBfBufxtbPCksU2fLjVui0I0GzWA4mk0EVASrSQa+/jVy/vlL0QL9VqYGRkZE+jtt0QbFgc5SArhzcfPH5UCsgMWc5S9Tk4OmTKmTXBuiyLOVzSpKNbF1PO1EZuDQ8WRkE/ER8ocaE4KUvi7tVVZPnEnRJwvfXu/qkvtx09ff2ohYAuk0+kkLQRiVWPiF7LgwiaoCfiC/ZYUtZuFNjBIUkFIezw/llmUF3gkJLG3y5Q+4S2y+vaaxHjCIaCUMjgn/yFlQKiAERfBvKV4sd4+X7+5BgZi9gJN+kPBhlKsIumkWDhd5BFyazwlDTdsYmpqYU5EZOy8HazTpbK0tKT9cD2KW4FAHBFQEq1SNAbRQrI+YapbIsV+dXULk4lJ0jEINWxDFZ5oMYxhqZUCIJuYsEpDtHAgKZIns7YikFx0WZc4TkRUT4gIaJI4oLyECIGWxizifGkJ2Fg3G3GplbUQ8Ka+YRwqft/S4uvvT+xkDGboSN6nYYSDmEt5C/vLOovEl0U2ebIkREAU4eVj/VJExVggAL2Z2FirNRVgxwWHK7cJJ6v8+YdzUKZj0aOoIhCIIwIy0bJaRmwHQlVuwGB2IVW5DPouDZrcROw3geZwYF7ivuK+0dYkX5u4sRazS3wI8GMftRZCOsbWz5/Dk3R8oFfig1rMSDcIoHJQMeYWggbdoC56iRMC7LhUNl2Jn2jjGOfL3ETh9+Ms6jjBrp+V4drNTOI6NMO4NiDqR4IAcb4ieSKyEwwCbIzRQgimNsG8MDFQgYBAQCCg3wjEMc6XlZnC4jeG9Po9/8hHxw+ug5Ui7gJpwddGjnHcnog4X3HDT9QWCAgEBAICAYGAQCA8Ao5WClsLRSKzRzA2VDjZKJBGx/0SfG3cMRQtCAQEAgIBgYBAQCAgEPg9AsT5+n2h35WwMVckt1NYmiUG7tbIUGFvqUhmpzDVkGGshpr53TsQzwUCAgGBgEBAICAQEAj84QhoKs4X7KCDpcLOQuHtr/ANUAT+8BdNMOjiH2ZmLLHmFpqQ0apOW/C1qmhoMi3ifGkSTdGWviLwzTPI1z8ktVMiNfjSV9jFuAQCAgGBAAhgjYrslk9QiMIvQOEXpAgI4iAB/cUGdhx2FnsDPnEPfaB2nsIOQS0sGsgUcb40AKJoQu8RGLPmbfH+9/RkmN+9gjac+vb8o3+MxrPljOvlR14xqkLhQ9fcj95wj2ktUV4bCGw6/e3KY29ttKzPbULnUDs0H9NBfnEPpOKbL1LsQtXr5G2PfVfcyLn+1PufXR8Dg/WYOVIdt0iHIYB9qrW5wslakcJekdRGYWepsDRVmKiJw65rvOC8MTCwNlNgFuxsJ31wDsP1TUtMLdMTfK2u37HoTyAgENASAm+/BvSY//JSDJnU/ktfrTv5LaZDmr71/awdH2NaS5TXBgJ9Fr1af/KrNlqORZs7L3zvueBlcIjWmcILD7yg9tcR2NPfjvnpe38q3nzuE67kvD2fJm54RyaEPW7duzsvwhcIV17cxg6BOMb5+m2n+JPJfCTsYzJbRUp76Vt2NUPpj6wUDlhLPmewsHDSCGLhYmGsk1hLXKySz4aXRVirg0vYIWgLZOJ8CVMEbYEr2tUVAssOfTlxy6NGEftF/2PvKsCiarowtXR3SCuCKCIWKiKCErZidyDY3e1n92d3d2FjF4rdomIioijSvSwL/O96/Vc+SmIXluVceda5cyfOvHPjnTNnzpyLVJKXXjzQ+NTduDP34ww0ZVcPMTXXy9/ZZNjP9Dn7vz39kNK4hoqBJutzZPr2MRYQ+djt2K0XfsanZDrXVJnV00hFQXrdmcinH1Ma2ahsu/AT5c/rW6WxDc9z+6P3KcuOfX/3jV3HUnF6d0NLA/lrzxP/PfnDx0Nn47mf1Yzklw0yRoLLTxPZGVnNaqrM7lXl0w/2mM1hyItkV58lbhttnsLOmnfwG7RQqorSA911ujfTygUbyEfHee/ZnOxLTxLazX23Y6yFlorMpoDIQzdjcal1ffWJnQ3efmVP3RXu7qA2oq0eNLt7r0X7tdI9fS/ufUQ6XuLI9U+fKvYWirlKplNhIIBOwT7VTMnQJrKk//515mZmy+RJlm8kis23zJyV5tsoDjdbVuaPJOCLB27ErPQ1zfkJL6jGXAUWlIwvA9gydj3kg8DPjvj/A/M7juHVuSL55fAzMoFc8XgMvZto1rH8z/aiecEpSNpchdNpLgRK6ecrV2l/PYVaFFwzr+IWA6+sLAncJ/jLzOKZLjD3DApkTpmSP0ZmWer9h41KSf2+2XB3oXDc57j78Zvzhv+rVEJNQLxWWPCSny9hIUvlliECoT/SwflCwtPqVFUCmfOcEQJT2ppmimfuxcECYc8Ey7yysDlZYHtxyZmdnTSR8dDNGGMdnvXtkVuxQ9aG9nHTNtOVW382EtOgh6ZU/RDBPnM/HpPIoLNnHsT7rgl9uaEW6CxKaFhd2ddLZ9+1GIQfrq75Mz7j9qskkAYPBzVtVZlbwUlHb8f2ddNOTc9acyoStmVDW+nqa6CiVHBTQ03eSoReSz+8CWcPb6OL32HrPyvJS7VtqJFTYOwnZ6Ijez8E83fSCIAALT4SAVo8tI0e3tFQXyWzsxb0q2KsLfvPgW/Vq8hP3vEFlBoCQGA5GUls2IFcCrL/eennLJ/CAkHAbeobW1NFqA+fh6bamSuO72QwbVf4txgO7hD/GdUU5PLHH12JHuRkZPdqrhUYnDSgpc7Idnq464Zv+IwbSY4l2ddNB52LTochjaO1Mvr09Zc0SwO5o9OqmenJwWp80o4vhwNjwd5a1lFbN8xUR42FuygpNVNaWhLPwtqhZrgPp+8Ohz2AvKxU/xba8/sZLzj0bdflKLS6/uhgHw9d1Hg8KHbGnq+RcRlGWrLLfEw866rliwnGilN2hn+PzcA4cPEAY9yoN18mQg+NhwhjS9zkYzrog0BjeInsGMUNba3LlHPwRozXzLcQspuz5rJBJpAkOS1z3NYvJ+7EZWVnt6qnvmaoqYayDCLHbPly8k4s4Mo5wMPTPX7rF4BZ30qJPwA4ez9++8WfHnXVoBIevzXM20lz64WoFHZmTxetNUPMQGUwuJ28MxyPJB5bloyUhrI0xoT5tosiRRaB32T0b/JNPpR2ddp/Rjh/y1H+1/N/I5S/XCQBIUAIiAYC0OWAv0L96VVPDV9W/xlWO8daONmqgATkK+CNl0lgD2uGmK4cbHJubnUQESbZ6pM/oHYFgdDXZLnZq15+mhCVwDMNxCf52PRqm0aaD3LXiYjhYCHa5vM/oZTq0EhDXVmmnaMGPvZQ1jKFzOlltHW0OXS9LeqobRhuhkhojm1NFWAgC8Y5pasBYkCdoUOFGhhsBnpWHXWWcy0V0PH913MbG0DfsG6YmSxLsnENZQQU5aQ2nIusZ6UEClvVUL5hdSVmdnvJQGOQkh6LP0CNsXmkOT7/EMNEVxYcCLmQmJGNfoWEwNfojP3Xo5vZqfZ21X4Rmjpw1SdwuC5NNWFwAtaYb6WwH1167HsLe7V//UzehKdhxiA+hQt1VI8lH2Bdenhq1Xl9jXdfidoU8BPZcbvuuRrdrJYKVPIfv6evOskzL5m2OxwjLvTv7vEWLz+njtvyBZFgcrBATUjJnNu7SjVDueCwVFDeU7OtQJpRVMDD+AZWyjbGCkjZ3VmrtoUiph381oSCXCKNQ1UlSI47HFdzHeDrg/4Nda2tdnq2FeYuMLqDwGmcbNgYYPA2pash7sblx7+fvR8HRos7GaOs9Izfdg7nHsTP7GEE+ovbe8HhCJQ8ftsXzLFsHmm2bbTFg3fJoMuInL7n64k7sXg0pnQxRLsYAVB+vxWfWDKSYNK4w8FimXhghUvYPxx8GgFQ56ldDfDkoop7Icnvv7EhoYEGa7WfqZG2LPg3YGEy0m9REBCIn6+iVFRp05C+ttJ2PTWcECgqAqCMSIrZfGiDGOUrwgUtK2EWspjr80wUoNox1ZVjYmD8qqwghW8kU2uTGippnCyEMYdr9at8sFicZmZmIyW4I5+ygEPzZ5z5M/6wZ5i8I7yprQpY6fsINlSqTLH8XxSC8KuwVBhFIAAN3F+dNiSkcGG6ANUaX8haZoqg3coK0u0c1deejoT5BMrhV0GBMkMAfBFjCQyxoP53ra06o4dRYmomzELCfuZDEyEV2J6eBmvnOAsMXcBubfxeIPLxe55GFqrQJx94lqNgckgGLoswenZBP2MmY1hkOu5tVAQlMeYrEAlaefFJAu4EhHEzHJxsiQcBYbA60NnDN2NgQoNTzDOM66h/NyQZhHu8twFubBjG4E7WUZO58zoZDw6mMjBCAztH4pwH7jfMAmOSIeh1Mu5ScNYrzxKZ23VyF0NoSZXkpEZvDpvbpwpsYwDCrL1fI/9PJTeMMMNTgNLAmKGjndzZAL91qyrBTgaRFvryYNsIIBJ5V/maIozmgN8jgOanZ2TtGmeBwaevl+6XqBAoZRGf65jZ06hHMy2U6Tnz7eef6Y8/pACfbWMsMK5DW4BqrvR0WjgCgvLzVXgtlfkq8Vph9T4Z1woLWSq3zBEAPWWO//+fjwShkelHAmNhxgouiMtbAn7CGBdmBjBvVVfmffWtjeVhnHBgkiWYAZS1Ur9sABDPL5xfqI2x/K3gxBU+JuDTUA6BKDSvrer/SzPHTwydE9gw1GBQwjUYHczklcWCCAmJqPgMTCIzajM3ezWY54KRgAfnMkLgVwfSjCxIA3tfzDUb62AmuiroCFbZVzOURyA4LG1zwE9D0KCH8ecfxXvVU0dexMcmcUEyMNNd0FQ4vwoKlBIB6PhRAuxKYR+ir8ELMyatmGrPt+QMbrY8C3YivIv83sG4BafK8r9nKbs6a+mq//4C8sc8crJSKBIEFOQSbJIpHGMw/DHWh3rqMgypxQ3TetZb1NHNWSs8ikcioeBk0vN/E1IzUTvMXRCDuwsklbkt+QmYABTAsItgxIVZC5LVNFWAGTquQi2KXwze/oR/2fLy62IS4Cpggd4XAzMIBpMbxOBwsVPFH+5StIjBDZEMmAgwLBaWD7ykEjxi/T4iH17LgCPL4pUJcDBpgwAmN/CLljFoIExHURDATBRzPxQlMaUpGQK/7/6SZaZchSBAfr4KAYcuiR8COy5FLTkagZVh+CQPaaWLiWDTfs9aTguBjpZpLIwHoEO1HxEMc8nuiz9gZrkgEIa30QO/dJ70puX0EPxuOBuJr3KuxPWqQSPFxiyqx4yQH3G/p0GhTMVHGkvWagx5AaUUZodX+H9vPP41Kp2z7xvoaa5CmFPM/F54nKDb4wmo+dzeRqDUSI9cQ9d9Pv8oAV/xoetC1ZRkri+2BmWHBo4xn0Au6Od0uj+58oy8feWLazlEwvZg5MYw0Djo+KGnx+p+zK2P3RLGiGJvqQT6mMzOhNkrBmAgo7hJ8pUSHBQE9Ed8Rm9XrTEd9DCxgPsq5+Iw5IpO5E3WwyJichcDj7q8oQ5zMPbWd98kYUgGNTP0yrBYQBrcsVCymuan74fFC2b8YdmCZI1slCNiORa/pjtQIH8g9//ic/+/6EgEGDBMbgIeJUClqqvOwlOAW3RAS+3R7fUSU7mmurIYD2Ci43hQHGyIYeez9Oh3phSIhMC8gxGwvsVQE6swc5f+6/zX6ODPFUY9DFvzoNdJeL4Kskf6k4FCORDgcrksFukTcyAihCDhKwRQqUhCQFwQ6OykUdNMgVl/jTlH55qqTMsGe+nGJfG0X4hsVosXOay1HpbRYI0Owgv7G8PuELTA1kRhwaEIrEpBJDReN5fYwF4Qas4hrfSwGAWRmGPFhxwBHFiPBfagpsSzdri+xAbTu1jv1cVJs4eLFnhGQ2vl9cPNTHR/mwFM62YI/RO+qd5N9EA6QVZQAljLhXnWsCOEShinKwabwGgSi4QwTYzqQLh51eQ5towyBwuH7spQUxZsBmrgE3fjuNxsTHzDPBdcfFgbPcSDamNeG1PMMNDEzPKM7oawrP0Gpm5RwRZV5AFAfCIwoY/peAxO4LMCPQV/VfjDDcYobnF/LhloMmHblyp9nqLNmioygzx0Cmo8DMS7LHxfa+hLJIBu/l8/3gx+zgO3H0pe6f/j9L34nNP3MEPH0kP42UDhsG3Awiyf1aH4Q15MO8CAJ2chTBgPEUZQ8L2FP8SAlOMpyJss3xiM1iwGPMMltG5+3yrgwWuHmvZc8tHal2d6AS6+cYQ5ArAR7zT/PQaBCDNmRQhAlYs1ZPuuReMPbcQiSET+9cAKM5j8whvJ2QfxeGALcory13IqZwIWi7V00bzK2fYya7UktOJlVpn4VeS2MKWgpYL7Dx5xdmpsbFxF/FpNLSIECkEACir36SHQG0H5hFU4oBEw3cMXt5AsZXYJ1o18w0SmUhhfgqSWmQBUUQkQwKJADF2Y9Xl33iTDEgALEDHnf+d1EoxWYcDNj8QKMIxwmLl+jHnA6pLSMrVVWbWHv4Trg6Gteaa0WJIFyxYYn2Dpofov+gidLu4BRneL5YZY4M8MgWAXjhsGCnus+kctyPsqLA0GqVgBxrQC0wjYngMJWtRRxSWkYazPMRZC7RADp5ATMwARcHSgwcIIsCD9K77Dt14lYQSoq8YC/QURx/APhcD3CITEUAr+5qBzxYANyyg/fmeDXMJ6ATMGiLz+IhG+6iAD/B4wgkGXjKVjWCgHu2GYETORUOIiJUwUEPn8U6qNiQI8h+AS6oXADayU4PUJ6MG9F1TdQBKsHZrgN1/SME0Bng0LB4CDUR8ebcyQxCdzcRWGuY3HvaptoYTVdUwt9FtKBAohFaUsuWTZRU0ephWFS0W8tmR9/TtXIeDu2L3PwtzMxdmpVBVQZkKgAiKw/WLU7H1fMbUK2bHKB2pOKFxFoR1wGQb1bU5JAv6pjoXeOWMoLAYIYHMEOB9o21AdTgb2XY8O/px2d2UNUVjzhxn/9Wd5Thj4BzS4fKdd/EhRDoD1Oo59Vb2KAhyYXHuRCJ9fcPIF7yWiLHMFkq0QUlEurRA1eRgQCpeKFBXCulVMTYxDQz8TrxUWvlSuCCOAGVgYJECZpKfOwrJ00ZEUfpRERxiSRHgIwD3c1G6G2y5EYX0hFL17JliIAqlFe+G96+B/t0bT15StWLwWaml4u4NPMbhowNMNn3pEaot+Jx88fExPT9fVxbnoWShlcREgXltcxIqa3tbGOuDCpaKmLtt0UdHRAecvtm/bRl09fyfhhYjzMvhVyNu3nTt1FN6iTg6Hc+SYf+NGjlB4FyIJXRJlBGAjy/dcK8pykmxiiQDm8Sd6G+BP1FoHg4dn62uJmlTFlQfDBvwVNxelBwLv3n+oX8+BoBAqAuQPQVjw6uvrTRw7qsSl791/cNXqtSXOXnjGu/fub9ux8/FT3uKJ4h7H/U+s27ApLi6uuBn/mn7JshVHjh1Hss9hYZu3brtwUURHBX9tCCUgBAgBQoAQIARyIRAfnwClkrlZ7jWIuZLRaSkRIF5bSgALyw5qW9jl/15LTEr6+TOKH3f/wcMrV6/xTxFISU1NTv69H0zCryPX1R8/eNvk5DoQmcHlrVtPTU2NjolhrrZp3Wrf7p1uzV34iVF4bOx/du7B48dms/kJ+IEpkyce3r9HU5O3mJ05YuPiUlL+uObOyspCpfj9//Xf/6N21JIzMiYmNi6e5zOcOS5cuvzo8ROErapVO7hv92Cfgf+/IhH582deYVApquanoQAhQAgQAoQAISCyCHz8FFrHvra0tEgsNhBZlEovGNkhlB7DwkpIS2NLS0vJyhbmPwUU8J8Fi65eu46CDAz0/5k9a9/+A89f8Ly0NG3e4sK5056t28EbbtiX8A7t2/bq3m3OvAUM/3Nq3Hju7BkyMjLLVv57/sLFzMxMHW3tf+bMqmlbo3e/AZmZWagaubS1tNq3a7t3/wHM7zs3dVrwz5yLFy8tXLJs/j9z4Jhw+qw5jg0boED41WvTymvyxPFgn5OnzoAA8vLyBvr6YWFhN69d5jdy+cp/L166HHD6xLYdu/xPnoIMt+/cgQyTJozz8nD/+OnTpKnTQdD19fXT2WxLS4tVy5eGfv48c84/YWFf8Dx37eI9zM8XdHbCpKnv3r9HsbVq2i6c909/n8EQAIpkH79h0yZP7DdocJ9ePXx9BkEwiBoVFcWSkenerauvz8AbNwNRGl/mdm1aTxw/li8eBQgBQoAQIAQIARFEoK6DvUOd2iIomJiJRPpa4XbooSPHLly6Wngd9+4/AKkdOXzozm2bZaRljvmfGDSwf1VLSyVFxTWrVsj8Gtt9Cv3cysujXl0H2AA8efoMzG/8mNFBd+/CDvXZ8xcgf4MG9N++ZWNScjJm8JnqoqOj+/Tq2a9PLyhKwQUXL5hX16FO4K3bX8LDc8kDYr1k0XxoSc+dv4CJkkOHj4DUdu3sPWPalITExFyJc53CkdmiBf+AuB8+cgyXVqxaHRcbB+m6d+kMnTKTePbc+YkJiRDAu1OHg4eOPHz0+Ogxf5Datf+unDdnVlR0zKUrV+bPnQPWa1vDBg3jVwEd7ay58+Tl5FYsXezSzBnU/NbtIP5VyFytquWZcwFQdfMjKUAIEAKEACFACIgmAsJblyKa7S0XqYjXChf21q08Ll+9VjjxwupIUDpwynv3H86HAnbqZHMzMyUlJURizoJ5DJwaNxozckSDevXu3L2nrq7+IzIyLj4ObPLFi5cOdeyXLJyPZEF37srJysbG/p6aR7Ee7i1burmhhY0cG9SvV7dhg/oIJyTkpqowSEDJdevWgTNjkFEQZWhqhw3xbdbUqXq1aoUD1Klje6hsqxgZxSdgK1Luq9dvHBzqQO8LCivD4i2E//79B/S1Ojo6ILLZv/aZfPHypaEhbz3Hnn374xMSNqz9FxwaOmY0QVVVtbrVnxXrWKOWlJTUsUM7SD9sqB+y3L1/n5HHzbU5ZHao81tmJpJ+CQFCgBAgBAgBUUMA39YbgbcxJylqgomlPMRrhdutujo62J3hwMGjhVRjaWGxbvXKalWrHjpyFPPvh4/yFJ+5DuwdzsSkpaWlp6c/ffYcfzVsrKEuBfkbONgPSlBVFVVQ4VwZc+7DyFDkgnbikJTgbZeYLZGNZ09eXi6fonIX/eecKRmGEFD9Kiv9Z/slCIx0MDyAwB8+fgRT19LUAvGdM4tnQbF+w6buvfri0p+ycoTQUpwpKiriF1pb/Kan83au4h+Ft4ifjAKEACFACBAChEB5IQCl1c3A28X6qpaXqGJQL/FaoXci3GlZWJgVUs2ZswFbtu0Y6jv4xNFDcLx19doNJIZpLNSfeYd3VlbVQEzHjh4JEwWYlvbr2/vxk6cglIMH9YehQiG1FP2SubkZrBHANSFAdOzvpWZFyQ7qaWhg8PT5C7BYLDuDVMhlZGQIgwpFRQWYHKxYtsTTvWW7tq3Xrt/IM41YOH/LpvWw+mWsC6SkpBgSzK+rWrWqUpKSuAq6fPPWbcT/VX/Mz0sBQoAQIAQIAUKg3BHAhO3hY/69e3ZjFDHlLo/YC0C8VuhdLCvLcm/hWkg1dna1YD470HeI3/CRIJQtfyXGdDxIXvOWnjk9BqCQ0SOHg//1HeDTzM193sLFDx8+gnUB1lRhGVa7jp1T09ISk3KbGRRSdb6XunXpAiuIUWPHt/Bo9flzWL5pCoocNKAfXIB18O7atUfv7F8uEeTk5MDCv3791qaDNwr8d+16mCWgybeD7vTpN3Dq9Fmwpmj2a1c2rI2DCQTUt/zC9XR1e3TvBvuK5i08Fi9dDmvatm1a8a9SgBAgBAgBQoAQEHEE/E+cbtqkkaWFuYjLKTbi0T66perKwjdzy1X0m5B3BgZ66mpqueJxiuVZYKjs9HQb6+owS0AMNLWBt4MwEQ/j16vXb8AvgX1tOyYjTGBhdYDEdrVqmhgbIxJOD4JfvYKRK+wIIr7/aOHaHGvREN/UqQmcYaEcC3MzEGUQypC37+BJAJGwXmCMd7EKDR4JkPftu3eg185OTUBqUeDL4GAYUcDN7ZfwrxfOnmKqxu/zFy8jvn9v4eb6/v17JGvezBnGuLD6hTyuLs2gSwY3/RYRYVylyqgx4yAAvC4gF6xs4S4XFBYmsYyPMBSCqjEvAzNZLS1NpMGg9vbtIDU1NbTr9p27eAtgKRviYbMLyVVVVBo1cgSDhxMxqISRxsjQEM3BJTh5gEoYKekgBAgBQoAQIARECoHU1DQ5OdkiGiEUi1SUQTNFTR6myYVLRby2VDdG4eDmKvr8xcuBt+5MmThWTU011yWROv30KXTUuAng0zGxsTcDb3Vs327cmFFFlPDEqdPwddCkcaNnz5+DdGIZXDPnpkXMS8kIAUKAECAECAGxQQArTqT/vzamiI0qFqkoYpmlSSZq8jBtKVwqskMoTY8XL6+XR0unJo3mL1oWEfG9eDnLNrWxiXH3rl0+hYbCF4HfYJ+RI4YVvX5nJyc4I3sTEqKhrvHP7JlEaosOHaUkBAgBQoAQEBsEzp2/tGnLdrFpTgVqCO3LUKad1drLXVND/WPoZ8bRVZnWXeTKMNffu2d3/BU5x5+EsCgounL3TzYKEQKEACFACBACYoFARkbGvgOHYdc3fuxIsWhQBWsE8dqy7jC4kuVXCbMbOArgn1KAECAECAFCgBAgBCo0AsdPnE7ncKZPnci4p6zQbamIwhOvLbdewwKvRUtWuLd0a+HqoqAgX25yUMWEACFACBAChAAhUDoEoKZl/dqNyLtjOyZQuvIodwkRIPvaEgJX+myGBvqzpk/+/v37xKkz7t7juS+ggxAgBAgBQoAQIAQqFgLv3n/YtmP3lOlzGK/tRGrLt/tIX1ue+OvoaPv6DIiLww60GYwcd+49SGezsYsY3IFpa2uVp3BUNyFACBAChAAhQAj8F4EUWBCmpmETJWyZiSsLFi9ns9mNHRv26N6liM68/lsenQkYAeK1Aga0BMVpaKjzc8lIS4eEfQm6ex/bMfgM6GdjbYVLS1esfv0mhEkzecIY+LilSAIE9wDdDPQg0INADwJ9Ecr4Ewl36QqKCr6D+ltVq4rbb8yoYeRAHTiIzkH+a0vVF4U7UStV0ZSZECAECAFCgBAgBCoTAqJGKkRNHuZeKFwqsq+tTE8MtZUQIAQIAUKAECAECAHxRYB4rfj2LbWMECAECAFCgBAgBAiByoQA8drK1NvUVkKAEP2INKsAAEAASURBVCAECAFCgBAgBMQXAeK14tu31DJCgBAgBAgBQoAQIAQqEwLEaytTb1NbCQFCgBAgBAgBQoAQEF8EiNeKb99SywgBQoAQIAQIAUKAEKhMCBCvrUy9TW0lBAgBQoAQIAQIAUJAfBEgXiu+fUstIwQIAUKAECAECAFCoDIhQLy2MvU2tZUQIAQIAUKAECAECAHxRYB4rfj2LbWMECAECAFCgBAgBAiByoQA8drK1NvUVkKAECAECAFCgBAgBMQXAeK14tu31DJCgBAgBAgBQoAQIAQqEwLEaytTb1NbCQFCgBAgBAgBQoAQEF8EiNeKb99SywgBQoAQIAQIAUKAEKhMCBCvrUy9TW0lBAgBQoAQIAQIAUJAfBEgXiu+fUstIwQIAUKAECAECAFCoDIhQLy2MvU2tZUQIAQIAUKAECAECAHxRYB4rfj2LbWMECAECAFCgBAgBAiByoQA8drK1NvUVkKAECAECAFCgBAgBMQXARnxbRq1jBAgBAgBQqBCIvAm5N29Bw+/fv2WkJjYvJlzay93NOP4idNnzp1n2uPdsX3b1p4USYDgHij7m8H/5Ok79x4oKykZGRk2bdLIuroVc1vSryggIJmdnS0KclRQGdwWplydplRBhSexCQFCgBAQHQRSUlJ+RP60tDCHSB8+fgr7Em5maqKmqqqlpSkpKSk6cpIkhACIU0xMbHJKSnj4VxPjKqamJsDk+YtgfX09PV2d0uAjaqRC1ORhsC1cKtLXluYOpLyEACFACBACpUUgNTXt9NmAW7fvuLm6MLy2qqUF/kpbLuUnBISDAAZa2tpa+MPQi1/D9x8/tu/cU61a1S6d2oPg8uMpUMYIkH1tGQNO1REChAAhQAj8QYDL5c6etzCdw1k4b3anDm3/XKAQIVChEPB0b7Fi6YKqluZrNmzGXV2hZBcrYUlfK1bdSY0hBAgBQqBiISAjIzNn5lQlRcWKJTZJSwjkRYDFYnl5tATBJcuZvOCUWQzpa8sMaqqIECAECAFC4DcCSUnJZ85dYE6I1NJtIU4I8Entlm07P34KFaemVYi2EK+tEN1EQhIChAAhID4IJCYmLlq6guZqxadHqSX5IdCoUcPVazeGfg7L7yLFCQsB4rXCQpbKJQQIAUKAEMiLAIfDWbVmQ4P69Tq2b5P3KsUQAmKDQC3bGoMG9AW1jYqKFptGiX5DiNeKfh+RhIQAIUAIiA8CcfEJNW1rdGjXWnyaRC0hBApAoLZdzb59esjJyxVwnaIFjwCtGxM8plQiIUAIEAKEQEEIwMGnd8d2BV2leEJAzBBwsK8tZi0S8eaQvlbEO4jEIwQIAUJATBBgs9lkUysmfUnNKCYCcXHx0dExxcxEyUuCAPHakqBGeQgBQoAQIASKi8Dps+dPnQkobi5KTwiIAQL3Hz46fMxfDBoi+k0gXiv6fUQSEgKEACFQ4RFISk4OvB3k1rxZhW8JNYAQKD4Cri7O795/+PEjsvhZKUfxECBeWzy8KDUhQAgQAoRACRC4HXS3Tm07dXW1EuSlLIRARUdAVlbWqXGjm7eDKnpDRF9+4rWi30ckISFACBACFR6BrKxsV1LWVvhupAaUHAEXZydzU9OS56ecRUOA/CEUDSdKRQgQAoQAIVAKBFp7uZcityhmXbp06aFDhxISEvj7S+WSMjU11draeurUqW5ublJSpEXKBU+lO9XR0cZfpWt2mTeYeG2ZQ04VEgKEACFACFR8BL58+TJ79uxWrVqxWKx8WxMQEDB37tzVq1erqKg0bNiwIPqbb16KJAQIgZIhQLy2ZLhRLkKAECAECIGiIvDg4WNzM9PKqawCu1VXVwe1rVGjBlHbot4xYpru46fQd+8+eHm2FNP2iUSzaGZEJLqBhCAECAFCQIwRuHz1elx8vBg3sJCmZWdnHz58eOPGjdDvFpKMLlUGBODC+dGTp5WhpeXYRuK15Qg+VU0IEAKEQKVAICo6Wke78loWYjeKHTt2bN26NTo6ulL0NzWyAATU1NRiYmILuEjRgkGAeK1gcKRSCAFCgBAgBApCgJ3GVlBUKOiquMYrKCgoKSnJ/zqgtT148OCFCxfEtbHUrqIgoKammsZmFyUlpSkxAmRfW2LoKCMhQAgQAoRAkRBI53DkZGWLlFSMErm4uDRr1gyMFm3CBPSKFSvS09PFqH3Fbsqtuw8zMrjFzlYBM7BYMk0b1c8ruLKSUp9e3fPGU4wAESBeK0AwqShCgBAgBAiBfBAAt6uES6bQZH6rpaWlydUXSG0Tx3r53B9iFxV071G+bcL94NTYMd9LFCkoBIjXCgpJKocQIAQIAUKgUiDw7t27DRs2nD59+ubNmytXruST10IaD2YfHh6uqKgYHx/fo0cPQ0PDQhLTJUKAECgxAmRfW2LoKCMhQAgQAoRAkRBYvnh+kdJVkERgtP7+/tiRwdnZecqUKbNmzbK0tHz16lVwcLCNjc3EiROnT59er169z58/P3361N7e3tHR8evXrzh98+bN/v37Hz58WEEaSmIKHoFtO/cIvlAqMQcCxGtzgEFBQoAQIAQIASEgoK2tJYRSy61IGMtmZGQMHjzYz8/v+/fvDx48iIiIgDTguGPGjEE4LCxsyJAho0aNMjMzs7Ozq1OnjrKyMlS2WVlZHA4HectNdKq4vBG4HXS3vEUQ8/rJDkHMO5iaRwgQAoQAISAMBPT09GRlZaF8PX78eFxcnJOTU+PGjc+cObNu3bqYmJhFixZBm/vs2TOY1eLg2yowy8iEIQ+VSQgQAkCA9LV0GxAChAAhQAgIF4EJU2YIt4LyKP3IkSPQy4K/gte2aNGiatWqGhoaHz9+hL42OTkZl7C/LnYaKw/RqE5CoPIiQLy28vY9tZwQIAQIgbJBIDo6pmwqKstaYDvbp0+fYcOGwU/t0KFDLSwssP8C7A3k5OQgBgKZmZmwWChLkcS1LijF9+3dy29dQMC5J0+e8E+LHrh27WrQ7dtFTy+MlD4D+wmjWCqTjwDxWj4UFCAECAFCgBAgBIqKQK1atczNzaGgjYyMxN4LWDSGnXLbtWvn6urq4eEBz7Vwm4ADxWlra8PEtmnTpqampnD4VdQKKN3/EXj06KGv72A+JQ0ICHhaMl579drtoHLmteTn6/+9Kqz/yb5WWMhSuYQAIUAIEAJijED79u2hr4XtAaxply1bhr3EsE3uuHHjsF8u7G6xnmzv3r2fPn2CQS3sbh0cHKC+Xb58+ZUrV8QYE+E1zdbWdtiwofcfPMQQgl9Lamrq2rVr4Giic+fObm4t9u7Z06JlSwMDgytXLmtoaNatWxcOKN6/f4/BBj9LrgBKWL9+HYYfLVq07NatG67CzcWK5cvjE+K9vLzY7PSOHTvmykKnIo4A8VoR7yASjxD4OwKY/cQKaxzMguu/ZxBaCmaJDMwKcZBeSmgwV7yCxczPF2wMcIevWrXqwIEDoFlwSQtGC5ODGzduwDjBxMQEa8hat27dq1cvsNtJkybNnTuX6TNwpmrVquVkZhWvL8tJ4kaNG+P9Nn/evPkLFvBF6Nmjh1NTp359+w0Z4rdj566QkBDs6OYzePD8+fOhSt+5c9fhQ4eMjIz46fMG+vTuVbu2va+v3+xZs+LiYocMGeozaKCFhWXPHj1hOa2uriZwXgs/Xz4D+uaVhGIEhQDxWkEhSeUQAuWAADRAaWlp+IV+CC7fGVpZDnL8v0q4McIBho11M/jww+6Qvwz8/0no/8qIgJj5+eratSueuO3btxsbG4M/oUf5Xg5ww+MxBHOF8y/c//BiW716dSTAQ/r48eMaNWoMGjQI6tvKeBOUus0LFixsUL9eJ29vpiTscwEr23Hjx3EyOE2cnALOnYOGdePGDW3btdXS1Ax58wYvopuBN/fs+WOYm0sErPB78eLFseP+6LUVK1eC4/br1x+DkwMHD+H1NcjH5/ixo7mylP4Ufr6I15YexkJKIF5bCDh0iRAQaQTgCBOTaPh2QnskIoIyxFpGRgbfdaivEhMTIRspbkWkd0gMQSGgr6/fr18/+PBycXFxd3cHB8q3ZGZQx1BePA5r165FRuhxmYVl+WahyEIQUFVVXb1mzRA/3zoODkgWFRXFYskEBgYiDNuDhg0bOjZq5Ofne+b0mbZt20F3e/HixXQ2G2OPgspECXDWxnSTnq4unLWlpqQwyviCslC86CNAvFb0+4gkJATyQQCkFppaFRUV0WSN+FSAcIPgJiUliayQ+cBKUcJBAH6+xMkUAeM3JSUlqGzxq6amVhCvzYkluCwGe3goyAghJyzFDXt4eB4+fPj4sWMN6jeAAwrscTFs6DBNLa0fP76rqKjihQM75pUrV9wMDLS2th42bGirVq0LqQKu2cLCvkRHRWnr6ATeugWDBBSF9DDYxYYacbGxheSlSyKLAPFake0aEowQKBABzGlCUyv6fBHfe3z4YZMARQujFCmwSXRBrBEQSz9fYt1jotu45ctXXLnMW3sH38DYwdjZuSlMb+EeAfa12NrN09Pr67dvOjq62to60L/CMiFXS3bu2HH1ylUm8sTJkzCidXVtDm8Vz58/P3T4CF5TsOBt2cKtUaNG2Bi5Zs2aubKX/pT8fJUew8JLIF5bOD50lRAQRQSgqYXiRzQ1tbnwArWFWgsCw/w31yU6JQQqOgJYLob9F6Am/GtDsJ4JZjmYLv9rSkqQF4HevftkcDhMvKamJixA8FrB6WBf3y5du2JxHnS3jHUHThkuC4Z6/8EDsNucpY2fMAFZ+DF4i/bu06dtu3ZMCXhT4VL7Dh08PT3jExLgVCHkTQg/saAC5OdLUEgWVM7fn8aCcvLjb919mJHB5Z+KXwAWPE0b1Re/dlGLKigC8H4AfW0hNrWw50MaZglXGbQRc7Jg2DgK0shi4hVfdMiMNGUgD1VBCJQNAlhoD5PZBTmW5xdSL55KkFpoAQtJQ5cKQgBzUzkvMdYCTAy0tjj4V8FN+Vd1dfX48UwATtlw5IqEJQkOfuTiRYsivkcYVzE+evSI/4mT/HgKVBQEBMBrQWqbONarKA0ugZxB9x6VIBdlIQSEhAAW+TJ6hXzLx1WY3vJXZ+ebRrCRIKyoFKQW+pJ8FVe4BIGRhnitYJGvQKWJk3EtH/apvw7+KQXEA4EFCxfCAiEmJnrsuHF5SXDp20h+vkqPYeEl0H5jheNDVwkBkUMAutiC1qlgzTWmO8uS1PLRQaWoHZSaH5MzAIHBa3PGUDhfBLiZEvuCMnpvSN1xnc0Ro2kwMfPzlW/fUaTYIIA9IJydmwmD1AIi+PkSG6BEsyHEa0WzX0gqQqBABGBggKn/vJfBKUF588aXZQxkyJe/QmCIXZaSVMS67n/MHLA5LTg0vZdtakgYp+/65OuvaDBQEXuSZCYECIFyQ0AAdgjlJjtVTAhUSgTy5bVQlxakKy1jkCAGrBFy2doSry28F77HZ6+/nB4Wldm1Rnp1Ld7gxFKT/S5Gatf17FOPOKO9FMx18xnJFF6mSF0VMz9fIoWteAsD0/zdu3dhn1uHOg5Y41XQVJV4g0CtKxYCxea1+a4SEycLVBmWTMO69sUCkRITAuWOQL5a0nKRCgwbFrf5GtqWizwiXimMDQ7e5Zx8xHWvmtHLKV1a8o+8VlpZU5ul3fosM3ZfdnNr6UGu8sryOS7/SVgBQuTnqwJ0kuiJiJeJh3vLNm3bdunS5YT/ie7duh73PyF6YhZPIvLzVTy8ip+62LyWVokVH2TKQQgIHQFQSaHXUeQKYA5BvLYoaAW9y4Sa1lw9a4pTmoZ8dt4sUNI2M+PWN8w8FSLbd0NWf2dW27qykhWV3OZtH8UQAoUhEB0d9enTp+nTZyARDF47dewI9S2cYe/ft+/GzRuODR0HDhqEqSGkWbN6Nfyu1G/QwNTUtFatWhs2rB87dhxyXbhwXl/fwN7ePjLyx5rVa5JTkn18BiNBYOBNLEW4eeNmSkrKyFGj4CYMiQ8dOnT16hX4skUaLHVNSEhAsZE/I3v17AUXuYUJWpxr5OerOGiVJG3FntsqSYspDyEgjghAsSE6zRIpYUQHlpySfIvNmnKQveUKu6dtWj+71HxJLT+9omx2D7v0EQ3TAh6nD96S8vJLOVtR8wWjACEgVASwvYK9fZ3+/fo+fPgQFfmfOAFSu2zZ0suXL/n5Dbl06SL4K+ipl6cHdmTo1KnTooULHj96hJiVK1Yygp0/f/7F8+fwn+3l6Wlfpw42Mfbu1DE2NjbwZuC0qVPdPdyrGFcZ4ueHxCjq8KFDKPbjh4+4hJdY27ZtsMtu927dBw0aCOos1JZS4QJEgHitAMGkogiBckOAqGS5QV/MitkZEttvcEbsTrNQZk91SrHSKqqivYpq1rjGaa5m6XP92f8cT4tOEqGRzF8xEEs/X39tNSUoPQJnz51zcmo6ceIEu1o1r1+/hgK3bd3auk3b1NQUV1e306dOP3zwwMTUFIrbBg0bYrOxfGtERlU1NT09Xeh0LS2rBgYGIlmv3r2hA4Zq9u3btzg9sH//vPnz69Wrh9/mrq7Y+gH76FrbWGdlZ9WtW/fixQv5llyCSPj5KkEuylJ0BIjXFh0rSkkIEAKEQKkQuPmG239TalhE+jSnVBczjlTxLQrqGXLnuKQpZbN9tqTuDUyHX7AKcZCfrwrRTaImJIwEEhMSfAYPvnHj5vbtO3r37o39w6Oiol6/egVuGhUd1bVr18SkRF2d/2wqlrcVUT+jOOnpyIKjiVMTc3NzpGHWtmJJa2YW7ynCprtaWloIYGdEqHWjon4izGSpbm1tV8sOpwI5yM+XQGAspJC/2NfSKrFCsKNLhAAhQAgUEYEvMVlrLnBiEjP726VZaJbK5ZmsdHbb6hmNjTOPvWadf8Ed7i7XxOovb/IiCknJCAGRQuD5s2ejR4+6d/8BtnSpZWeXnZWVkpJco0YNl+YuzZq5wN4AHBcOWB4/foyFs3CVkJycDPlBTDmcdCYmIT4eMciC06lTp6Gc0NBQ2OCeOX06V0vhsxbWDu3atcPGyMuXL5s4cRKsF8aNG4/SwsPDYZCQKz2diiwCf3kb0ioxke25shcMs57YLzkzS6IiTX8KCCao1aSlJFjSGOILqEQqptIgkMrJ3nc748LzjFZWGU52HEHNkWkpZvnVSw+J5m68mH3ivtToVvLGWoIqW/B9Q36+BI9pJSixcZMmHh6edR3qYEHYo4cPYTMAi9sVK1b279/P0dER9gMjR47q0bOnu4eHc1MnaGFBcG1sbLBotW27dh4e7upq6sHBL2GugOwwOWjSuJG1tfXHjx9PnjyVF7zZc+b26N7thP/x4OBgbDlmYmIy2NfXqUljWOW+Cg4+dPgIo+XNm5FiRA2Bv/BaUROX5CkXBLAkKYktkZIukVUJKW0OxEFqFWUlVBUkSjB9nKMYClYiBK6+4m6+yqmhkzndma0iK/jnx1o7c0az1JufWaN2ZbeoKT3ARU5RThTHXuTnqxLd9AJt6vwFCyZOmgSNqaGBgeYvO4GGjo5Pnz2H2tXQ0FBNTQ21rVmzFqewnV2/bh1T+bZt20NCQrS1tKRlZBiXtytWroRpAe5DUFtYIIwYORIWCEisrKx87959BHj62kePUU6VKlUQiZjJk6cM9hkc+fNntWrVSuPgBSPbx6GZDSxk5Fg86cjPFw8FYR7Ea4WJrliUDS4bnSSRUUHM+IQKOfg9yH16hoSWioSM6KrGio0BZug+fPjw4sWLnz9/4o1vYGAATzdQV5TmVV5sIcQuQ2gUz/AgKZU70D7dQkOIzw9GWc3NM+oZcU+FsPpuyBzYXNbLniWK3FbsupgaVDYIgLwy/JVfHSgs9LL8UwTyKlPBX3MmQBi6Xvwxkerq6kwAbzwQWSYsJyeXKxeYNEOmmQTF+gWdvfkm8/TjjPDY7AVd5RhSixLIz1exYCxBYuK1JQCtcmWJTSZS+58e52ZJxCRL6KqIiU0CrNMePXp09+7diIgIrMlAU798+fLt2zdnZ2coMGh3n//0fdFOUtKzd9/KuPIyo41VRpPanLKxXYEyuLcd50sC98i9rNO/tiizMRKjsVfRkGdSYeTJyZTAc1oZTaZ4y6F4RlPyLJ7dlACPjqtSE9NKO+HgbKLXxFGAQuUuapCPDyhv7tjyOH8eqfnv2jS8CpjKx+1jF1EKVQUakxYRqgKTEa8tEBq6AATSOBLp5Cszz62ARehQ3CqLxPszj3DFjICNWlBQELwz8nd2iI+PxzJkTNLBVSTjrryYRVbq5Jdecrde49TS5c50TlcSguFB4eCaqGVNaJJ2/6vMzCPZdc2l/VrKayqJxGeybPx8YfO2uFSJiuIjovCuLOXVxDQJKAg1FHkcVyAHSO3VaUqlLOpaYKSEhHEpCykke16tbSGJhXqptl6sX3srbLwS+Ib7PDxrXme52ia/xxnw8+UzoK9Qa6/khQvolq/kKIpv81M54tu20rVMPJCBBQJ4LWzX+KSWQYWxTICpGXYOKx1OAss9ZvzEc+d/u5AM+xLeoXNXRrsssApKXdCHyKxRu9nH77J9HVK712SXPanlt6BhFe5sl1RpTvrAzakHgzg8zWV5H2Xg5wukNjqZSO2fnobeOiqpsi+K+ANHmYcUZSVb1pSZ10X+0AgFjArQHcxBfr6E3RWkrxU2whW7fDKrLaj/gAxmmERCFVaQiEWIBzWE10Y2O585MlzCrjy4xCyhKEJhwk0ybIjvjNlz3Vu2YMnI7Ni5q1+f3vC/gyqhWsavktIfTVJ0TAzWiwhXmv+WnsTO3nkz48brjPbWHMcqGaJwV8jJSHSw4TQ2yTj2Su7cM+4oT7kGlgKdlv4vAuV+hocxNkVClDbdK3dIeALAfU18qoTmn4dDJKT6qxBv3rw5fvwYP5l7S3fsucA/zRXAbrft27eDg9tc8QWdNm3qdPbsuZwGu82aOcNDAoyvXr161a1bt4IyljgeBLdpdeJaJcav2BlJX1tsyCpVBrwW6SgIgayKD05WxWmDVbVqtWrWPHsu4P2Hjx8/fWrXpjX6Zd2GTWMnTPYbPnLv/gM4DX71qu8An4WLl/Yf5Pvjx4+COk6A8aBT55/ztlpIimfPapbSSDRILb+BukrZwxqwO9uk/XsubcqB1G9x5XbLws8XXyphBNgcHoejIy8CsCWrcMjAlcGF8+fNTM2YPxVV1bzt4sdgrunb16/8078GvuaZnkJMVmYmFo2pq/O8K9BR0RGgMURF70GSnxAoOQJQc2JdMF7o8HCeqxREQqWB31zx5Xg6eNCA0WMnGBkF+foMgn91OOUBxd2ycV0Gl9uzT//WrbxOnT7bu2d36HRvBt76+ClUX19fqNK+/Q6PB+wsbvawemnGaqLLquBlbKZL6tVPrOE7s1vZyfRxllWQLWudsrD9fMEIgY6CEAA4CrIFXRTRePhj6d2nD1847Jjw/ft3uLCNjYv18xvy/v378+cDGtRvgK3ImDR7du++dftWixYtGYVrbEzM6tWrkbhfv/7YGhdpTp48ee7c2UaOjfhlnj59+syZ044NHZkYrKDlcHi2Aps2bYSzhSNHjmD7hjFjxsrKykZG/li5YiWss1q6t8RSWtTCL6QEAfLzVQLQipWF9LXFgosSEwJihQBe2VZWVnADybhy5LcNvm+wYszMzEyk/CHo6+k1dWoCAwn4YIeo0M5++xYxauz48RMnwxohPPxrm9Zee/cf/Gf+QlyFD3Z+cwQegLXcynPp0w+nOeqnj3VMEWVSy7RdWlLC3TJjhnPql+/svhtTL738v62fwKEppwIzf687L6fqRbvaiuh3PCo6OjDwJv6Cbt8Guo8ePZw9a6a7uzv2s3VzbY59yAYNHLR7964LF87jKkwIklOS+/frv3jRQvBdrApo1cqratWqnTp16t2rJzy9XLt2dc7sWUiAS/BmiCw3b96YOWN6v779srOzmbkdGCGA5uLSpo0bjx492rdP36DbQbt27kRMZ29vDU0Nb2/vxYsXX750GTGlOcjPV2nQK0pe0tcWBSVKQwiILQJ4+zdp0gTNw7cB+goEoKMFo3VycoLKRNSabW5uxhjUQjAWS9bRsUGv7r/t4TQ1NRMSE3fv2Aol7uat2yMjf3bt4i1w+WHBefYpd2dgen3DzJnN2AoV6g2qKpfd1z49NJ57JCjr1KOM0V7yVvqk2hD4PSJyBVZEzv8lLGzv3r2AEq+jJk68cayXVysn2MY2bTpp0sRp06cj3tPLCxYLDRs6GhkZDRs2HGmw7a2/v7+qiiosrEzNTBFTq1atq1eu3Ll7Z+zYcSgHf4sW8ca9YK7QxTIFMjGI5B9TpkyFU9v27dtj7zFsqwviixhc7dWzF7Yr4yejgGgiUKHeyqIJIUlFCFRkBGCKULduXZgcYGsGrMCAplZDQwNKXHjMERFPkAWh69y0ybgJk1u4usKU4uix46NHDl++8l+HOvbNmjpBs5vOyW1ZUVA5RY9//Y1neCCdnTWqAdtQRXQNDwpvkbl65sQmaXfDZaYezHKsKj3YTV5dUehmCWXj56vwhtPVCoQAXkpbt27LV2DYIDFbxiCQa4WAhqZmUmLiz6goGN0GBgYie217e2y1cPHiBW0dnZylJSYk5IrJeZUJM+UnJSVpa2vnvVriGPLzVWLoiphRwLwWyxih3h8yZChTPSYRJCUkmzo7F1EafrL79+5dvsLT9mNMhs2dcYvzL1GAECAEBIsAqG3t2rWrV68OVSh4LRwgwD5BsFUIqrQqRkZ8CmZibDxn1vRj/ifxDWvTygsmE9MmT9x/8PDK1Wtr2Fh379pFUJWinPjU7C1XOQ8/cjvYQFNb4W05gWFjY66DPvfce9kBm7J6N2F1qC8rKEen+cJeBn6+8q2XIisDAnhxpaWlKSgoPLh/38qqOqxjcTpp0mS8x6BthTbX2sYGl1q3bo2FBIz7Fyambdu2iEHiQlDCCP9LeDj8xmDAD4PdQlIW8RL8fJH/2iJiVbJkgue1Y0aP1tXVg10LBIJ5jKRUiXgt7sF792EAjonRvn16z/1nXufOnUvWQspFCBACRUEAY0i+FqQo6cslTW27WvjjV13T1hZ//FNoneEOjH8qkABsE089zth7Cw68uDObpcsL+JUpEBlLWAi2pPKuwXEyyTgaLHfmCXeUl5yDmTj7AishTJStPBAIvHXLveXv5VkDBgwoXAQpaelOHTuqqCi/fPny2vUb2Am8a9dujRs51rKzC3nz5thx/yF+Q9zcXF+/fpWSkoqhO0rz8/VDzJs3r1NT0wrfOhLD/gkTJqA06NeeP3/eqhXPEwsdooyA4F/SGCpNnjTRxcUF5m78lmMh4dq1a6DNxT3RsWNHWMDA6qVatWp379zJ4GY4OzfD1p3Y9KhHjx78LDVq1GCWQyopKx8+dBC8FgOvDevXwzwcfBdZ+IXcu3uXk8FBDNzL3759O2ch/NIoQAgQArkQwIIJrMGCHgLmBwhAb4HnFGmg5IAFArzDYn4fB8LMlyBX9spwGhye+e/5dAXprDGOafrKFdFM8e+9pKecPaIB+0WkzLLT2Zb6UiPc5fXV+Trxv2cvYgr4+SJThCJiRck8PDyCgu7wccBbCAtb+XvEPHv+AhYCuMrY1KqoqGAncDU19c+fP/Otp+bMnTty5EgYJMCkikkM9ynYVRFrBvC6Ywp88PARjGXh9AAxMGCANtfN1RXFBpy/oKenh4B3585t27VDwMdncLdu3SHAju3b5RXEYp9JtEp8D8HzWtxGdrVrT5w4Yfv2HXzchg4dYmhgOHTosNGjRykqKnz9Go6R04wZM1euXIHREijp2bNn8H3lp88ZePb0qampGaYaPT3cV65apaOj271b11u3g759+8ovJDk5hSkkJiYmZ14KEwKEQF4E8DRhs1z4zfmKRzE8HKsimC0YEI/E+AyA1GppaUHtgcUTOBDAnrq5fCbkLVacYmKSYXiQ/vQzt5N1uoMhDxbxPuz0uLY6mZc/sYbsyGrvINOziRx2YRXgIWw/XwIUlYoqdwTw/gHdLEgMY2Nj5hJ/bwV9fQPEQKeWM4sWbF9y2MViuA5DWyRA4UwyxDBZmBjoZXHgEvzDMAn4W9KMHz8Oc1kqyioBAecultofAvn5YuAV3q/geS1khV0LlPaXLl1k5Ibty8kTJ477+ycnJ7k0czlz5szo0WOGDPHD0sWEhMSs7Cww2ps3bkyaPCVnO7HdyNOnT8PDv1StWm3vvn341r4MfvXk8WM4rsNg6927t1gd6es7ePz4CXHx8cjIFDJh4qSchVBYLBFISUmG1b+BoZFYtk7YjcIyCHDZ169fY84uKiqKrwXh1wt2izQ4oP+A0SpILWZXbG1tYaYGCzZ+MnENwIn9iQcZ++9ymhhnzGqWISstnmravN0nLZXtWZW3X9rJELk+G7lD3eSa2wrlA5G3aoohBEQZgS1btoKNJCUlzp4zh0+LSyww+fkqMXRFzCiU1xa+hZs2b4HfuHbt2quqqUIzhLHOrVu3IJOcvJybWwtYIMBt8qlTp9xauMGq73xAANiqg4NDTqG9vTsvWbp029atWIgGIouvL6xhmrs0h1siZlYUgbjYWDhbdnNzw1RpwLlz7969oxVmOTEUhfDqFfNHj58hEEliY6PVVNWxFPZiwKkHd28tXrmpKMWCBCOZkpJyURKLfRpMaOAFfe/ePXj1YrSzhTcZlgmwEYIDSDxcjRo1qlmzJh7GwrNU6KvPwjJXn09Xlc2c0Iito1RZGG3OLlOXz+5vz/4YK7U3MOvkIxkY3VrqipUvsB/fv+kb/BkSx8XGKCopyckJZXI55E0wNrKqblMTepmcIJcsfPXSObz9XFw9SpadcpUGgTp16pQmO+UtSwSEwmvRAPDLTp28sW/HuPHjsesP3hq9e/eBU8yY6GiGlcLLAfwknzh5ChqgTh071G/QIF8bvv4DBqxZs/rhgweqampQ0cFoBn49UCxMA1ELKDIK8T9xEtMHHTu0r1e/fr6FlBLQW1/0Fizk7UGf91BVELwhWt5aKnTM1YsBguK1c6eNGzNplrlF1U5deuGviLCcPXU0k5vZs69PEdOLd7IHDx5cvXo1MTGxWM3EqBIjT9gq4PlinN0WK3uFSByVlL3pcvqrr1xvG05tfQF4PHj24vGPH9883Xn2ecI41m9aAQ2C76BRuQp/+Pju6bPHMJAb2G+ork4Jd1yz1Mya3CQtKJw1cV9WU2sZn+ayKqV714mOce3sqWPGTpppXcMOuOE74tvPe/22g7p6vInsQg58fY4f3jvAd0QhaXJeQvrxIwdqaevISMuEhYWu2bRHQ1MrZ4IShH9GfmfJiKijkhI0p9JmIT9fwu56YfFayD1z1qzTp08hgKHqv6tXe3l6NGrc+OWLF//+uxq+kb1aecGlHBaHIQFUtp6eXvk2FYre2XPmTp4y+eLFS5paWl6ennBLCSvvqKhopEch2FwEM6QIQ2ULy4R8CyllZFOTyNm9LUpZSCXPHvL6xYcP74KfP/35I6JD556OTZy3rl81fCzP8gRa2IDTx3v397t148pp/8MsWVb33gPt7OulpaVu2bDy0/t3trXs+w8efunCmc+hH7ZuWNmpa29VVfXQj+88Wnf4HvFt68ZV8XGx3l17v3r5zHf4uKTEhJ3b1r1/+8bauubAIaPDPn+8fP5stkQ2lsD26OPz5OG9wwd24mMGWuzYpFkl7JTIyMjiklo+StD1gtryT8UmwM2SOHqPc+RehrNZxkznDJaADA/Wblj64eM7VxdPmPGVGVbff0RMnj5ywdxVr14/R2DnlqMlrhqPDFwlOBhknHsn13cTt19TVru6slIlHchra5eW1ZW4IbkytnBvc+3yeYbXvnz+WN+wCkgt3gkf3oXIsFgYNvPT4yUjJS1jasZ7+YeFfbx5/aJnm476BoYY3eE9E/b5U1Ura3l5nmVOdNRP0FaUUK26DWOGfvniGYd6DYeO4tnFgRA/eXTPzZ23jh7q4fDwz1bVazAZERP5IwLZEcOSlYUYMdFRyioq38LDLKvxjEE/h35EZE6pkDjq5w8ra1uB6IBRBR1ljAD5+RI24ALmtZ6enk1/bXEJuUE0sbqLaQB8ILRs2RLGfNDdMiZ6zZu73rhxk7l67lwA1LE5m9q//wD+JClchmF/ZxDcy5evYEpUR0cHC7dxivQuLs1v3PxdyNmz53IVkrNACpcvAiCg2zeuXrh8PT6W0yaM2NsgICQkOPTTB7yvr18+LyUl/fTR/YN7t8+YuzQxMW7W1DHrtx48cXS/ooLSrPkrjh3ac+PqRbvadbV1dJs2a2FqZvn2TfDr4OctvdpNGu0zwHckpvl2bVsf8uoFeO2GNctsa9r17DP48L4dOzat7j3Ar4ZtrcyszAaOTp8+vF2/evHMeSuyMrnQ2ejpG5hbWgkKllRO9uPQzAYWMoJdbSMo8UStHNGBC722+kK6tgJ3YhOOtqLAtlqI+P4tNjbGrbnnlWvnW3m2B/4HDu/UUNe8euOivJz8yGET9XQNYOOxffeGFy+f2NrY+QwYgeH99l0btLS0r924pK6mPqj/8CPH9n75+rl9my4tXHnD/nMXTp6/eEpbS3fwwBFGhr+Xzly+GoBymCrmLpgyeODIzev2VatqXc2y+qGje0rf74osiS626U1MMo49y+L5AvOUq23ynyl10enKIjbW1b3VsEHdh42ejPRXLpz18GoHU6WJI3109PQTE+LV1DVmL1gJJ6cTRvkoKirhM4RhyYJl6zesWvL929eFcycvW7314rlTRw/uql6jFsbS02YvwiB84mgfDQ0tbBcwZ+FKJWUVlKynZxBwxj/8S6ixibl3tz6MbMcO7rl04bSpuSVG+AuWrbWoWn3D6iWwVdDS1H4b8mrd1v0qKmp+/btoammD1E6YMmfSGF94sGJcASz7dwsKuXbl/MMHQZz0dBgkLF+T/7YFTF0F/Va4/iqoIRRPCBSEgIB5LUyqc1pV5zTFw9JCHHw5MNbk7/aRc9EikwCLr/kpMThmlkYiAEsGxDOLFhFAIXCPwKTMWwgTT78igkAjJxcbW97cn5lFVWht3Vu1v34lwNx31LXLAXMW/rt985qq1ao/f/oQCfT0DZ8+vo9lYdDRgrN26zVAXYPnM05ZWdXa1k5HVw+8FqfQpujqG7q25CnpfYeNHTd8AAKTZ8zHtyQ8LNTJpcXenZvwlTIyMYUdAr4TW9avNDWv+ib4OZIZVjG5f+926XktPhKXg7lnn3AjE7PndRbwEnLIKWYH4Ap8m3nmUUZYTPaCruUMV2RC9vpL6R++Z3a2ZdfUFbDHg5OnD7dp1aleXcc165cwpPP+wztZWZkTxszwP3lozYalC+asWrBkOpjQ9Mnzd+3dPGf+pEXzVt+5d9PE2Hzy+NkguN37tF67aoesrJzf8F6NHZ2fPHu47+D2xfNWIwBF7L6dJ5l7A/xp5tzxqOJNSPDzl08M/285um7T8nZtBObzG5urjWqY9uS79KITWTZVZIa2lFOWl7j+mgumGxFfpDtfdPx8wTZAz8AQM0jVqtveDryGwfDRA7vxumBMlUYP6fvi2ePXwc8wkMYlgLx53Yof3yPmLFo1Y9LItZv3wcDgwJ6tuw6dhYIGylSMkHcfOoNkmGVq0Kgp/4F1auaWkBA/bfxwGO9idgiTS5hWOnFs/+5DZ6EVxtzUzq3r5y1ZA20xw7B3bF57/cqFdh27QaG7dc8xTS2dE8cOmFpYMkZcO7as+fYtHIXrGxrNmrccgYG92kNZUPS1s3j0gt5lBr7hvgjP+ofeVPx+KmaAy81kQ6+GgQWbA5NINjsdIx9uJjedkwG1OlNYOjsdIRZLwOSqmJJW6uQEfaXu/rJsvKLCb+8q0lK8zQ9d3TxH+PZq1dYbttegqinJSRrGpow8rdp0sq1Z28jYFKqOh/eDtm5Y1XfQ0JaebXNJm5HBwZwAE8mf1Nu4Zik+NtWta354/4b/omHSQCsDRy1MGGsvrGvUzFVgcU+vveauuchJ5b3EeMe4fWwmIOzfrvWk/dyFXYngy78WIr37TlpKmcNVUEtgHK/Myp7SNEXgWy3gxjt55ujeHf5Qyn7/8Q26W4ZudvXubWpi0dzFY8Xq+Uhz+tzxOzdeQX07adzsxi6282bz+AoYKnSxLd1ahX0JrefgiBgjI+MfkRFOjV2qWlo9enKfzU4L/fyB3yi7mnXwnf0c9vHajYutPTsw8XsPbIuM/D5z6kJ+MoEEHAwyrbVTl91RGrYzLZ0rUbw7X3WqWwGrFAQiW9eGsm0ciuqZrKUHzxQBDNXGtpayiurbkGCYrt4NugFJEuLjE+Lj3oW8BsVkBPMbMR4BWAswp5j2qWFrx8w6mplbpuGOTuc9+BiBMwn4v63beeMPw+/VyxfExERXt7HFFq9jR/CG35kZXDUNDQSMTcymTxyOQFpqqkN9Xndr6+qC1CIAGZq6tEAAx0DfUfjF7KeNTa1fERLa2rp4ZzLhv/5eCebuuMEp5aNXCReTZGZlwQ8ptnJI+fXLTmdnZWUrKMCDrZyCvDzUapqa6jK/NvWVl5OF3o3pCHl5ucJ7hPx8FY5P6a8Sry09hlRCSRDAbJ1RFVPoUD1a8WZpa9SqnZyU6NW2E8JH9u9SUVUPOO1vZV1j8LCxjk7N9u/aAl6L+bgMDodfGbStb9+8ivj21dCoypmTR5n4q5cCoD5B4ZcvnLlwjqfTkpaUTktPRQBfo2dPHzFVnD15hJku5JdWgoBrDZkmVtLQgtx4zQ3+ytOC5JqiLUGZRclSkKfnouTFnAkc0xYlZb5pmM95vpf+GulqnelVV4VRGj0Pz4J6u2zgKkgw6Gs3XuEsu6PcxY5jrf7nvioofdHjHz66GxkZMWHqMGRJSEw4cerQ8CE8bsQcvO9ftgR2UgS1BalFJJZ/SUlLMZtiMGmkJDH//Hu6H1uR42v6+On9+Yum9+nlY6D/Zy0/kxh62fOXzly7eWndqp1MzINHd8aOmoYPLnMqqN8X0bL+r1g2RjJ+brLQ1/Lu/Ffcl9+K1JX9fYbu2rZRUJLkLSc2RSKtyH3YzNVzyIAu8fGx7l68l4+Kqmr7Tt0Zg3u8YWDn+vDebVxlaoFaNOdkIBLDwoS5lMnl8tKzZPPKA5MDi6pWoKp4TUHvu3PLunoNGlvZ2DLGA9yMDBgSgEAvWzBjw/bD6uoam9evZApBdzMBZWWV+P+bs8OHA7PsjE+e8tZYSEyLmjLutaQxDj/9iKdfx1RJ+T56hYha7pcyuNykpOTExOT4xCTsr6ukqKCqoqyqolTFQBeMFo9q6SUkP1+lx7DwEgT84iu8MrpKCOREAIz2nxnjJ06fj0hM1U0a7QtbAuw/B30VTKUxxTZj8kg7e4c3r4L9fk0IYq5w1tTRA31Hwu4NWaDonTRj/tTxQ8ETWni0YUqGAnj00P5GVYzxxWFiHOo3nDzWLy42etSEGYE3Lg8f3BMZ5RUUvNp6MwlK86soK9mypgz+MM0HS830DAkRt6/Fvn04StPk0uQVKbj01CTneMuh19ZektRTZnWsztaUE4w1wvGTB+fOWtahbVdg9S0ivJ+P9zA/3ox2zgPWtCbGZo+e3INS9kXwUx1tPYX/T2jkTMYP37kX6Nrco1P77u/yTES0a+3dZ1BHIwNjA31DJv3alX/2xOGXUJrAjxRp/7fyKRlSk9vJ8ilRxbrzczYfr5cqxqb3gm5NnDoP8V6tO61fvVRdUwtTQEvnTd+8+1jLVu2WLZgFgyhMMS/5Z9qmnUeg1sVqLUwf2depn5qaAtraoHHTYwd3O7u0zHe/kiompiuXzIH/FpjM7tmx0b5uAywpi4uLPXv6mINDwz3bN1SzsW3p0Rbz2rBPiImKvHcn0KNVu5xCYiT/z4xxVUxN4VFh4ZzJazbvzXm1uGE8em3sWfirKG+q4jawlOmTk5LjEhJj4xPS0tjqcCeppmqjr6OirFSygUQphaHspUSgrHntxo0bunTuwresLaX0lF30ETh96Q6EbN7CC3+MtMvWbGUCmGW7fJtn7YoDXHP1pj1QS0D5AQM4xNSp1xCa15ioKHVNTYbIwumBZ6v24KRQdcB8DWlYMizGuO3rl8/4MCBmoN/I9t7doQnDIjOc4sDijEMnrmAKCQowrP/AxwmROrr6vy4K7AefjabVy/ppEpj0ZV6Q6MBV11x622CFY/czlt6WdKuW6WLELqU/BOw+E3j76uzpixlQMUiDNcL9h79X0OZEev7slZOmjwAZ/fnzx4J//s15KW+4lUeHwcN6QBGLxZTgVVD38tNUMTIx1K/CWPEykb36t58zcymWjvHTlDiQmiFxOUzx3hepvk6stg6svP4QitiVouPni4Gin8/wiIivUM3iFK8anyGjMCmkrKQ8e8EqvG1gXDty7JTD+3fC4TpiVFTVkGzc5DmYDrKzrwudK0xsN61bbmtbu3ufQbjUwbsnBstMycwvtL94pwWc9cc0tpOza+v2XcCQlq3ecmDX1ru3rjvUc8RIHjETpv2za+s6HX39UeOnYagDLX2X7v2YEjBbhRpPHNmP1920OUtgnFCztgOMuJirWDWrmWMzrZxVFx4uYn8VXoh4XMVnArvPREXHxcbFww+PtqaGlaW5mprKb4W50BpJfr6EBu3vgiXRtYXUcS3wbhPHeoUkKO4lu1o1Dx0+wrj3Km5eYaQPuvcoVwPzjXF1biSM2kW/zG9xIi3jjIkjYKZmW7POmROHvbv34Wtty0ZofTUJaamyqeo/tcAOQeOXcV7OWOzqV/iznDOxsMMYQuS1WMhXbGFLUvTy4b9281XO62/crjW5NTTTi56xNClhaA4DXEODKkVRCyFxXHws1s7nrdG7h8fWDQc0NX5bmID1lt65GL4MD37In3wt42wtM7AZq5T+a/PKLNiYYtkhCLZq0S9NTVFC+S82n2XUCIEzipLJnZiYFBUTB7eF8nJyupgr0dH6q1FsySrKN5ewbXLyrbTEkTCLvzqNN0EqUkfhUpW/hgn+3jesXw9PTPDtxWw5hv2Qtm/fpqWpZVe7to2NDUjw7Vu3Dh0+pKaqNnzECP7ezSKFMglTLgjMXbz6xtULEd/CR02YzjhbKBcxRKFSECPR4bWiAEhxZdBRkZzRQe5ZmAzWAt5WkPG2ZmvJC8YsoRBJMIXN99hVSDLmEhLnJbWfQt8vWzWvlq09n9QicelJbWiCzLE3csoK0kt7yorZfmN/xZkSiCsCyckpMbHxUTExLBkZXR0tc/taMJkV18ZW5naVM6/9+TOybZvWy5avUFRU6NG929lzAVjU0rFDh+UrVmhpaQ4aOBCXVFRUfH0H7923H3s6eHfqePfefWF3GG79pOTkVGwMkJoGHQk57BA24CUuH3pBxtt5iUsQm4xFUfiVWWPztTgss9pLU5G9qfRWH4UTDzOWBUm6VM1yM05jSRU2o1WaugSSV0tTx3fgSPvaAptVS0iXPPNR4V2UlJ+rbPMaAvtAiI6fL4HAToVUIARS09gxMXGgszAw0NPVtq9VA6vBKpD8JGpxERDYa6u4FTPp/f39W7Vq3bYtz4WTz+DBB/bvr2Fr26RJY2ZpS3NXV8SDWWKlMHao79yli6sbz6pS2MfPqGgNdVVtTXWwbWwAgbGdsGuk8gmBUiKAG5W/lUkpiyp9dv5a/tIXVfYlwLakc0NWc1uZrdc48wKlutbKqKlVRmYJJWismpp6Hfv6JciYN0tmluSNcPlL76Xb15WZ3klWsCsgo6N/+xDIWy/FVB4EMJPw6s07VVUVNazJUlLCphNCavsv29mUhMTEmLh4OJiFdramjRXqFFJ1xSqW/HwVC64SJC5nxhYdHa2r93t9j462zvNvz5OTknI6VUGTsCnDiZOn9u/bN2f2rI6dOs2YMbME7SxWFvtaNsVKT4kJgXJHALyWcR1V7pJAWctsB1jukpRGAC1lySnt5ILDM1dflLz9heVtk6YjfLOE0ghcyrzB0azjr+Wq6kttHCCnry7slTOlFJayV1QEGjWok5CQFJ+Q8OVrRHJKiqKCgqoqj+BCgQqPsKWfdMKWCVgKxvNsEJcAL7NamhrW1SzUVFVECi/y8yXs7ihnXmtvX2fjhg1TpkxFO28G3nRp5mJtbb116xboaPF1jI3heRC8ExT09u3bRYsXz54zx9BAf9q06RV3llPY3UnlV1oE8EmALgQu+ssdASzrLncZBCVATWPpzYMUTj3OWHlbwtky29U4VU5apM0SStDwnylS/u8U4tlS41vLOpj9Xm5fgnIoCyHwVwSwKbCmhhr+kBJfeRi8JiQlJyQkfov4AQdbitjygPcHRiqLf9iQEL4gsPFBvsVCI8vhZHAyMtLZ7FT8pbLhd1ZCUlJdTUVLQ93K0qz0Vub51kuRoo9AOfBa38G8fbcBjb29/ZKlS48fP+bq2hz+yXH07NULfo8tLS2bOjXBBrnBwS+RDEx33Lixly9fioqO7tevP5Fa0b+rSMJyQQDPzq93/R8PUGUvBr5FFdoIIS9i8GzVsR4Llqa/zBKUutpx7bR4+0uJwcHOkLgUpnA3TLpXE1b7uiyhzQnzoBI1P19i0H0VvQn4lMMgAX9MQ0BzeZt7pYGhpiWnpMbExrF5+9VyuFwuBu1ycv/Z/IKbwcVmYIiUk5WFKwNlJUV1fVXVaha5kokmROTnS9j9Uta89sLFS/xtdXA74n7duXNXZOSPjAxulSpVmNau37AxPj4ey8V69uihqYltVrTu3X8QGhoKa1c9PQG7HUWNcfHxSUnYKg/rxNgZmbRKTNi3HJUvRASgosDXAgYJ+EgIsZr8ika94kdq+Q1VV5Sc2Ebu9bestRfTb4WxutRI05Xn8q9WuAB0zg+/y556w3KsJrPdVxatE3YTtLV/+yATdkVUfgVFAC8QZTgQzs8EFrdrOvs/M1FYzF1xx8+3g+76DOhbQbupQohd1rw2Xy9dOdkqWG/79u0aNmj4M+ontp5q2tSZwdHc3FxIgH7/EYWZCyNDfZj4wM8/eT8QEs5UbNkggIk7HFhDhqNsPH9hdIpvTMX9zBS9X2oYSW0YoHD2KXfVrewm5tktTVPlRNtbQr5NC/vlwwuK9QXdZK30hbVwJ9+qKZIQKAECGHWVpX/ZEkhIWUQKgbLmtX9tPHjlpUuXnzx+jNFb3Xr18PvXLKVMUMeuRilLoOyEgKghUEmIZtnDjk2b2zrINLOR3nadM++mUme7THuttLIXo2Q1JqZLnvuo8DpSysdVFrvglqyQkuUiP18lw41yEQKEQHERKNNXWxGFA7Vt6OhYxMSUjBAgBAiBMkZAVUFyXCu5t99/mSWEqnStydaTzyhjGYpVXWa2xM0vchffs1rby0zqyFKQFbrhQS7xhO3nq6zbk6t5on1K4IhU/5CfL2F3hyjyWmG3mcovOgLQThW60XLRSxLDlACHjsqMQHUDqbX9FS48566+kd3QTM7dLEVBJM0S3sTIHHslb6Ijta6/rJGG0GfAyuWWkMl/0Xy5yCJylcrk6PNUTvbj0MwGFjKC9U8scm0WYYHIz5ewO0cMeS3Pxpw52Bw2h7eaEoaGcAiSlZ2FxZUMoFnZEhkcXpisaQu/w7BEmiv0zUQLF0FEr4LUYqU8HZUcAdwCXrVlnKpL77yZMe+GUpfaPLME0bkvfqZInnynEJUiPcpLtr6FOFM/eZZEYoWxBynThwavKVmWBOhsYEjm6ccZX+Oy53WGB60ylYEqIwTKEoEKz2vBYuHJgLfnLTwapLJT0lJBXrEuW0FeVl7ul/MwRQX4wENYSkoSvwy4CJNzu6LcZ/IyEsnEa/NDCsjQQQgwCKjIS47ykG1lL7P2IufmJ+lutTgG8uXpbQ1SpXMlLn+Wv/VZpnsjlncDVk6NXbn0mrD9fLGkJRRkJdK10n2CAAA3LUlEQVTKGfVygfYvlaoqSGBKYcMVTmo6vpa8Y9w+MXFUxzSHfoWKAGyuhFq+MAqvkB9nOK7DniKJiSlJyclJySnwYKekpIBNS6oYqSnBGZiCvDCQqpxlKslLpKRL/H4dVk4ICmi1Mt1lBSBTaaOr6kmt7it/6SV3/XUJB2PZVhap8lJl7W2NAf/hd9apN7L1LHk+vDSVROKzVAZ+vjQUJTKzJDgV2P2a4B8dJTkJ/GFKASsdg95lXnvFffUtC/ra2ibirLwXPI4CLbG/z9Bd2zYKtEgq7D8IVCReC1/N2H8P3max/56KsqKamqqpsSG2yINXo/+0iU4EhwDUPGqKEvGpgitRLEoCqZWtmDddYmIiXCVg38qS9UNsbCz2T1FUVCxZ9sqQy72WTBMr6d23MubeUOxsl11XO6UsW/0lUer4GwUpaam5XeRsDHOYVZalEOVUF0yDtFUkktm8oTgIbiU/oMBWkefpsJlDUVYSHjDwx9jXpmdIkClCJb9DxLj5ov5xhgPOhMSkmLi4uNgESWkpbU0NMxMjdXVVbMcnxr0iUk3DcB9HQhotIOPhAN2XigLvgyGaR3h4+JQpU0aNGnXgwAE+hR0+fLiVlRUepc2bNz958gSSe3p6durUqShNmD59+qxZs2DYA5P1hQsXYsOUlJSUzp07o4SiZK+caZTkJIe1kIWSjGeW8FG5ux3XUEHoM79JHMlzH+Rf/pAe1FzWw05GJJS0Obq/bPx88R5Ped4feC3+KudEEwxqsS6iIOt/ENym1UX9u5/jxqEgIVBsBET0/sZuSfEJSTHQDsUlyCvI62iqm9rVwL4JxW4fZRAEAqC2WJYBLQiM9spREeL/IKNTg3Jb74BPBXS0SrISor/yuuGvY+3atfr6+l26dGFugRcvXjx//nzNmjXJycnjx49v9L/2zgOu6eP94xBCEqZsFNyT5RZRcO/WOlpnW2e17tWl1Vq1ah217rpx74l74957o4iiCA6GMhSSEML/g+k/5QeIIAEyPnnxipf73vfuufcF+eTJc8/VrXv8+HEIVvyStW7d2tHRcceOHfj8WK9ePS8vL9UtYWFhzs7OaIOXKD99+hTKODw8/MKFC6gJDAx8+PBh1apV0dWDBw9OnDjh4ODQvn17QzigQcUn++cyjoJZ3SSBdxWLjhlVdbVsXU5qJsiX78ixC/Z0mOjAQ9MWVUxXtzc1F2ubpk3jlN95vjKsBX5b8cMHCWghAeb5yu9F0S5di8QFELKv37yJjYtHvKyTg335sqXUm73ymwX7z4YA/khg/0HhPrZflg9qXmi6tnDnnvfRIUxLlSqFKAI8IEAhUi9dugRJCtm6YsWKBg0aQPh+/fXXBw8eVOta6Fc0UA1dtmzZypUr//DDD/Xr1//yyy+vX7++e/fu3r17L168GOp5xowZffr0OXDgAHpu2LBh3q3Vmx6aegrrVjBZdyZ54nHJl1VTvR0TjTWaOe8BcnjdExezNZnbQ1TCnlJOb944nIjeEmCer/xeWq3QtYlJ0rj4eIjZhIS3RaysnRzt3CuWZwau/F579m9QBKBfk5L+zYSEAtQtpg+pisQgFy9ehJY9d+7csmXLGjdurMZy48YN+F9VL+VyOZQr4hC2b98+Z84cd3d31Ozduxehuvfu3cNRulDAahGs7oEFEMA3v/2aiFq9D0s4EWLxbTWFq0QDYQkxiYKAYPHzBOGg5iLfCtwGxPcaCZAACaQR+Mjne6QauHHrbnBIaMSLl29iY5OTNXamjlQqi4yKefgo9PK1W/cfPJQmSV2LOvv51Kpa2a1YUSeKWr49SUCzBKpXr47o2yNHjkCYIs7Hzc0N/UOSQtTC4Xrnzp1y5cp17959586diMTFpdDQUFdXV3U6vODg4FGjRiFQoVixYnFxcaVLl8a5gO3atWvSpImfnx9uuXz58uzZs8+fP69Zs/Wmt5L2ghnfSLrXEy29KNwSbJWY+uk+BXmK8f4Q8V/nzKuVk6zqb6YToja/83zpzfuEE9F7Av4r1+j9HAt3gh/5v7WuTw3khUUiAqQgePkqOuHtE6UyVSIRp6WGTcsOK8bfNqHQBGUE1aGQeTL4g4czEeRQxMkKqUwKOZuUJEWHQhOTItaWdjZFypUpafbedZT5XtaQAAnkigC8p4gTUN0Cl2qRIkXUtyOCdsyYMdC1+J0dP368yl8bHR0Njfvdd9/Z2toGBATAZTt8+HA4X3EXghDqpDvOGnG0vXr1On36NIbAvjRIXgTmIqa2ZMmS1tbWP/74I8JtUent7a0ekYXMBBq6C33KC9eflU88JmlfObWOc2Ju92NefSEMuC+uVlq4rK/IwUobQ2kzzxo1BZDnK8txWUkC2kbgzNnzfXv30Dar9MkexHrlbs8oTu9KksK7Kk1KkuE5TbEqIFhlCvyTkpbBH38UxWIR5C++plS/xJ9SkampuRn2gCFJkMTKyhJyWJ84ci4FQKDplHeBYz4xQVUBmFdgQ8BpChma9+FGjBjRr18/Dw+PLLuCU9bKykqgucQjmjI7S2t1rjLitXL+YfmruNRuNRQlJDk6KSscObzumymMBENbiryKZ+FE0DkINJgEDJAA89fmfdGzFwO5FpdwylpZWuDnQ5ZBJsukMh7o9SE+rCcBLSEwZMgQFxeXDxmT3tf7oTas/2QCrnaCaV0lSJW/8GhqRSerthWlFsYfjPJKlBvvDZFcf2HyXSPR51WF7/3pnzxy4dxYMHm+CmduHJUESECbCORa137UeHwxhviEjzZjAxIggcIlUL58+cI1gKPjBAfvsuYbz8snHRO3qSz2K/rOCFm70j1wvMDZp6b7HoqaepmubmdqKdGZwIN0k0grFnCerwyj8yUJaA8B5vnK77X4yL6x/B6e/ZMACeSWAGIDEBSb27vQ/tGjR0ePHs3+RuTamzx5MnLcZt8st1dhsAZDGnI7uja3R1LknvVFC3qZPXotmHLaMkz631luwTGC6Wcs7sVJZnUzG9xcpLuiVpv50zYSKGACzPOV38A176/Nb4vZPwkYOAGEsH+aTMTJC0jdhcQI9vb2KobYzonYd1UZyb/MzMwQcI8kCZkzn+C8MdUBDUuXLrWzs8ORY7laBRis2o6Wq7sMp3ExG+PJnSQXH6UsOCwvZW/dqJT0aLDJ0zjBgGbiBm78X9pw3gicKQmQQF4J8H/MvBLk/SRQwASgRBUKhTCXOy+xDywoKKhWrVpnzpxBfq6hQ4di8xkOD0OG2po1a/7111+QrUhuMGDAAEzn8ePHCxYswOli06ZNw+Fl9+/ff/XqFU7Q7dKlC/IkwPMKcYy8YDmfOAxWC+ic32VoLX3KmdTsZ7bpQvKqa+IWlYV/1DGFN1c/HszzpR/ryFnknQDyfDEfQt4xZtMD4xCygcNLJKCNBCAQVclGcmXc2bNnPT09kW721KlTqhs7dOjQs2dPHK4LNy2O223UqBGyz6o8tThdDPvGrly5EhISAl2L7LY4cwHZbZE7DMm/WrVqlStRi+FgMHVtTtYLyRK7+ZmuHWjWvZ7+iFpMnHm+crL6bGMIBJDnyxCmWYhzpK4tRPgcmgQ+hYDKU5s5VCD7vpB6Fv5af3//Fy9e4JAFNIbQRFcIqL179y6OwEVWLwQh4KWqH19f340bN1aqVMnS0hIJa+GshfsW/t3sR8nyqsrU3DqYs+yKlSRAAiRAAiSQDQHq2mzg8BIJaCkBnKqgPhQ3JyY+ffr0+fPn8+bNmz9/fsOGDdUuW9W9CBJISEi4dOkSXqKsqoSuxakNeEYNYmrxjEERgWBjYwO3bq4ErvrY3pyYyjZ6SQB5vvRyXpwUCZCAthHQl+gtbeNKe0ggPwngeFs4QRMTE83N/9s+n82AOBIMZ4ypGnfu3BlHhSHqAMlrixcvjkPCcCguImvhl23dujWibMeOHas6kQFCFueHoWb69Ok4VrdZs2bOzs4VK1asXLlyzg+GgJE4jFB9Hm82RvKSHhOIiXmNbwO4d1CPl5hTyyEB5vnKIahPbkZ/7Sej440kUJgEIFLhQ82h1xYyFCGzKnNRRnQskteiB+hdiFrUowaa1c3NDbG2OIEMMQPYMYbtZTg1F1dVlWiAMi4hylZVj5fZP2AejMyh+M6+K17VaQL4jIRT1HV0CgOHDPui3Vf5avzuvfvqN2528dLloPv3v+ne6+q16x8dbtKUaaPHjvtoMzbQNgLM85XfK0Jdm9+E2T8J5AsBuL7gVYVqRK7ZT0tnm71ZU6dOha7Nvk02V2ESDIN5MJJeumxAGcglczOzxKQcHRdsIEA+NE1jYwHi3j/0K7Nw8dJOX3d7l5iI2/EJk3sxP4SR9YZMgHEIhrz6nLtuE1BJW7jB4uPj8RcO3/XjG//CPf4AchY7z5D9AGEScNHhoduIab2GCEyaMNbc3ExDnaV18/RpGLybKDSo71e0aNE3sbEXLl7ycHcPfvgwMjKyUcMGru/PiMY3BqfPnH0VGVmtatXKXp5of/3GTcThVKpU8dTpM/gKokmjhucvXHwY8si3jk+FCuXRALHmZ86ei4yKrlqlcrWqVVCjeuCui5evlC5V0t3NLS4+/tz5CyWKu3p5pvWJx42bt2JiYhDPg3oPdzfvWjVReezEySLW1vgNRQxGPT9fGAljsAWzvp8fIoDQAOYdPhqoSFbIk+VpvRgZ2dradO3S2cnREWX8KsGSx6Ghbm6V6iLd3oPgu/fuvXz58siRwObNmtSv54sb399kFBkZdfrsWXyMxCiqiR86fKRYsWKpqcpr12/UrFGjSmUvVUs+Fy6BZ+ERl69c+6p9m8I1Q79Hp67V7/Xl7PSfALSjKtwWfz4hK/EoxDlDVeMBexC6gEIhWsKhtYqAZkXtiZOnxk+cjNhw6MtlK1YuW7wgIeHtlGl/WSOnx3thunnLti2b1suk0v6Dhj5/8QKx40v9V/Tp3atXj27bA3aePXcevzX4TUHw99p1G6JjYqBlV69dt371SrFY1KffQHwws7Wz9V+xcsigAV06/XsECd7Ss2bPRQDPon/mnjx1esbM2WNHj1Lr2p27dh8/eQptUhQKqUw2YtiQDl+2nzt/AbrCFxdQzyVKlBg8bASELD6C+q9YNWvGdOjs4T/+gsADaF9Yolqvhw9DMJFRv/zk4ury86jRV65es7EpEhsb91X7dsiVBv2NZus2bPT2rum/fBV6hoK/ees2WkI64xKmOX3K5Fo1a0yfMRPGKN5/yFy1eu3ihfMhx7XqLWGYxjx+HIqPN4Y59wKbNf/wFBhqDkQC+UUAChK7u/CNP5LOIny2EB8wAGbAGIra/Fpsne0X3kRN2Z6iVEKhrl6xbOL43/FxDk5QVc9NGjfavzugc6cOkA6PHj3eun1HxPPn06dO3rtze80a1aFccToJWsKSlf5LNq5dhW88BCaCXdu3/PLTD/iG4ebt21CQbdu0njdn5pqVyyEoDx8JVNsMmejnW/deUBA6gVMWb/L69fzUV1GAUF7lvyRg22YHe/tNm7eqLuErlL+nT+3fr+/K1WsgQ1cvXxawdZOlhQW0KVy8ELVftmu7d9eOr7t2Sd8VypcuXYao7f993z0B2xvWr4cA3K6dO0HF4tKq5UtVTlnVLUuW+WOULRvXbdu0AUYuXLJUVe/g6ICeJ/8xXpmaeuXqxwN2VXfxOV8JPH7ytFTJEvk6BDunv5bvARIgARIggfwlEBUV/dfMuTOmTdLIMF6eHviC/psevZLlyegQYS+qblVbG1Vf4sNRGvLoMT5f+dSuLTA2rlvHB5uxQp88VbVEG1yCrkUBotDRweF9P/JSpUoqTyonTp6SmCSFD9imiI2qveq5WdMmgcdPnDx95urVa+gw84ZInFANd6ynpwccusnvdXxxVxef2t64HUecYKC/Zs5CGadSh4dHhEdEoKy66uzspBpC/Rz65AnKiIXA8+SJE/D8oQemCV+sna0tGnh6uCMeQ+W7dbCzR4ZqR8d/p/ah21lfkATu3bvfsnnTghzRAMeirjXAReeUSYAESKBACaSpK2MjBBciJjXvA+NL9nv3gmbOmI7I8pGjf/tQhxKxGApPmpQEAQpfKZrByfqhxqr6fQcOrlqzbvDA/o0a1B8y/McMjX18auPriJWr1iDSABo3w1X1S0TQYlMXVKy6BgUEwENHf9ayhRGeW7XERjqZPC2mFv7m9M3UZVVsepI0bbPdixcvX756pdK46gbqAqaZlPRvGAOGxhw/tO1MfQsLhUWg//e9XYoVLazRDWRcxiEYyEJzmiRAAiRQmATq1K6lqRNEEQ4rMDF5l/ju4uW0rWMfiimHSxW6dvbc+UcCj+3Zt9/JybFC+XLZI4iPT0AD3HXr9p3YuLgMPcP9iZAAxOMiz11dn9qZu9qwacuuPXtv3rxVpXJlqNj0DbCjC2r49t27VpaWCDCAqK3i5Qmf8cbNW+EATh/woLoLMbK4umHjZgQTjxozdsKkP6FWIWFxde/+A4iXUHfuW7cOtpRt2ISg4u2379zFS/UlFrSNQPlyZbXNJP2zh7pW/9aUMyIBEiABrSMARQi3o0bM6te3D1TjT7/8Ghb2DAUcDZ1lty2aN/umaxckJUBcAUJaJ/8xAW7ULFuqK9t88bm7WyWk08IGrKJFnaOiozOEBavctA3q+WFzpPoudeHsuXN/z5qDwNYRwwarK1WFnt2/bd+2zcFDR5B0NijoflFnZ6RxgGMY6Q7+mDg58766EsWLj/r5R2wj+33CROw2Gz92NHRt82ZNIakXLFqCuGF1/+gEWnbRkmXzFyyCGv5h2BD1JRa0hwDeSBneS9pjm55ZYqwKxNGzWXE6ekmg6ZR3gWMs9HJqnBQJkEBuCcBri6iAj94FnytaYkfjR1uqG2TTM/aojfl9/My/ptX2rqVuj8KEiZMRenvs8AFkNshmLKTuQvZZ5G1Q34s4YFiYTUY8uGaxg03dPi2yQirF/jB1jaqASlzKXJ+hGV8WFoF9Bw5HRUX16vFtYRmgT+NmLwY+8uFVn0BwLiRAAiRAAnpDICeiFpPFt/nZCM0saXyoZzhEd+zcVbZsGbhFs7wRldmPhaDb9KIW7bP0+6bvPL2oRT28tlmK12yUcfreWC4UAm/fvjt0+OiYX38qlNENbVDqWkNbcc6XBEiABAqNwLNn4RcuXenUoX2hWZCHgatXr2pnZ/v5Z62glTN0075dW+wqM/lYnEOGu/jSQAhs3LLNt64Pgk8MZL6FO03q2sLlz9FJgARIwIAIYPPWlWvXy5YpXbNGNZ2bdj1fX/xkaTZOJkt/OFmWbVhpmAQQH+Lk6NCqRTPDnH7Bzzrjh86Ct4AjkgAJkAAJGAgBZKHq37f36rUbnj/PerOXgXDgNA2HAEJH2rVp/dEcc4YDJL9nSl2b34TZPwmQAAmQwH8E4Kzt2qXj/eCH/1WxRAL6SODNm9jHoU/0cWZaPSfqWq1eHhpHAiRAAvpHwLdO7SaN0o6E5YME9JVAzOvXU/+a9fhxqL5OUGvnxfharV0aGkYCJEACek7gxs1blpaWTFav58tseNPD4cYLFi/74vNWTRs3NLzZF/KM6a8t5AXg8CRAAiRgsAQEApN5C5YgtWeKUmmwEDhx/SOA8IPvenWnqC2UlaWuLRTsHJQESIAESMCoSmXP8WNH4RjYqdNnYts4iZCAThMID49Q2d+iWZPKnh46PRfdNZ5xCLq7drScBEiABHSegL2d3U8jhjx/8RLbxjGZd+/emZrisAJTnZ8YJ2AwBOTy5Gs3bhwNPJGYlDTut1ESsdhgpq6NE6Wu1cZVoU0kQAIkYFAEXIoVVc33/IVL23fu8XCvVLFC+ZrVqzk42BsUB05WJwgkvH0rk8rMzCQWFmlHuy9cvEyZqkSGWmRlVn0804lZ6KuR1LX6urKcFwmQAAnoHoFmTRvXrVP79p17jx6HvoqMUula/xWrz5y7oJpM3+961vOtg7L/yjVnzp5nJYEU/JvBysoS+Wh7fNu1SmUvjD50yACTTEfQqd6ZfC54AsYMaSp46Bzx0wg0nfIucEzah2M+SIAESIAESIAEDJNA9mKA+8YM813BWZMACZAACZAACZCAvhGgrtW3FeV8SIAESIAESIAESMAwCVDXGua6c9YkQAIkQAIkQAIkoG8EqGv1bUU5HxIgARIgARIgARIwTALUtYa57ro0ayRrT0j6L2E7ykzfrkvrR1tJgARIgARIoKAIUNcWFGmO86kEkKz9RliK+m6U36dvV1ewQAIkQAIkQAIkQAJpBKhr+T7QAQLPYlJfv0tz2eIZZR2wmCaSAAmQAAmQAAkUOAHq2gJHzgFzT8DNRbD5fDLuwzPKue+Ad5AACZAACZAACeg/AUoE/V9jPZihp6vJwVsKTATPKOvBjDgFEiABEiABEiABjROgrtU4UnaoeQJiUyMna2P062BljDIfJEACJEACJEACJJCZAHVtZias0UYCtcumuWmrl6KzVhtXhzaRAAmQAAmQgDYQoK7VhlWgDR8nUPO9rvWtSF37cVZsQQIkQAIkQAKGSYC61jDXXfdmjbBaM5Exg2t1b+VoMQmQAAmQAAkUFAHq2oIizXHyQECRYrTlolxgnIpnlPkgARIgARIgARIggcwEqGszM2GNdhG4+Cil1+LEWyGyXlWlac+LE1GjXSbSGhIgARIgARIgAS0gINQCG2gCCWRN4EVs6vxD0rAoZScPqbtjmpb1ck4KijKZf0C5y9FkaEtJMZu0JAl8kAAJkAAJkAAJkAAI0F/Lt4E2EpArjFadkg9ckegilv3W4J1K1KoMRfm3BqiX4uqqUzK05IMESIAESIAESIAEQID+Wr4NtI7A2eCUfw5LS1mnjK4vs5VkcWquibFRi3LJ3q6KgCBxz1uKIS0kfsyToHXLSINIgARIgARIoKAJUNcWNHGOlw2BiNfKuQdlL16nfOspq+jwkSBaSN7vqkuDo00WH07dedlkxGdiVzt+/5ANXV4iARIgARIgAT0nQB2g5wusK9OTJhv5H5cPXpVU1kKKMIOPilr1vNAS7XEX7l12TIZ++CABEiABEiABEjBMAvTXGua6a9esTwYpFh6RlbdN+a2+rEhWgQfZmyswNmpaLrmWq2JnkKjnIsXAZuJGHnxjZ8+MV0mABEiABEhADwnwz78eLqoOTSksRjl3vywmIQU5vMrZKfNiOQRxz+qyR6+TVx5P3X1VMOJzSUl7fh2RF6K8lwRIgARIgAR0jAB1rY4tmN6YmyhPXXtKfvCWolV5WcNqCk0pUIjj0Q0ST4YKh69KbVlF2KOhyFzEXGB6867hREiABEiABEggOwKakhPZjcFrJJCBwNE7ip6LEsNfSsc2TGxcRmOiVjUK3tPoc2yjxIhXUoxy9A5DbjPg50sSIAESIAES0E8C9Nfq57pq7axCo9ICDxISFX2qy8vafiTjQV5mYSVK7V5V9viNYsMp5Z6ryQhLKOPIT3F5Icp7SYAESIAESEDbCVDXavsK6Y1972SpK0/KA+8oWleQ16+ebFwg0QGQzqPqJZ1+avrj2tQmnsLvGoksxAUysN4sGydCAiRAAiRAArpDgB4s3VkrXbb00K1khARER0nHNUxsULqARK0KGAQ0RsS40dFJsAGW6DJI2k4CJEACJEACJPBBAvTXfhANL2iEQMgr5Zz9UpkspX9NWSmbPGU8yIs9FqLUb6vIn8YqtpxV7rmSPKK1pLwzP9TlhSjvJQESIAESIAGtI8A/7Vq3JHpjUII0dc5+2cj1SbWcZD/7JRWiqFUjhQ0/10uq5Sz7ZX3i7H1SWKi+ZCCF6zduRkVFFfxkX7x4efvO3czjpqSkBB4/kbk+fc3Lly9v3b6TvkbbymfPnX+XmJjeqouXLsfFxaWvYZkESIAESKAACFDXFgBkgxsCanH/jbTAg/g46bhG73xLJmtPTCssgT3jGyUmxMtg4b7ryQWsbU+eOj1h0p/q98ToseOggdQvP1TYvmNn52+6der67ZZt29VtXr9+PXjYCPXL+QsWoXP1yywLO3buCnn0OPOlZIXixMlTmes1VXMvKGjv/gOZe0tOTp43f0Hm+vQ19+4/2Ltvv7omJuZ1z+/6ql9mWejRu++7d++yvJTbykl/Th32w099+w/q1acfCvjJ3MPyVavfvH6Tvn7dho0Rz5+nr2GZBEiABEigAAgwDqEAIBvWEA9eIPAgSalQDvaWlShSaIEH2UM3NzXq6iXzK5G85aJy71X5iM/NKrkU0Ge8en6+y5avgAOySmWvS1euREVF1/aupbIWzksTExO15UqlUiBIs0omk+07eHDNCn/UdOz6bfu2bUQiEerRPjIqWt0+Ni4uMSlJ/TJDbxleopm6f5STkpL+Wbi4UcMGH7pdXZ/+rsx9qptlX0jfiapl5q4y16ha2tvbLVn0nxROxcPISPC/+xBfRUZiiAw25GTQzG1+/200+sHngYiI50MHD1T3mbnlhwxWpqbi05Tx/1qo7ocFEiABEiABDRKgrtUgTEPvKj4pdclR6YWQlHZu8jrFFdqPA7L7J7+kC+HCMZtSfcqbDGgusTbLd88ylOuAft/7r1g5d9bf/stXDhrQD4rnzt27f8+aKxaLrawsJ0+cYCIQjPtj0ps3b96+fdund6/GjRquWLoYPOGDNBUK02vfzJAfBAdPnjLdzs4uMjKyTJnSkyaMQ/s58/85f/6io6PD6/duRUjBmbPnBj98mJQkbd6sSbu2bcaMHfcmNvbX336f9uekm7duz547H9LZpkiRyRPHqzQ0Bpo4ecqLl68ioyKhsI8EHtu6bYepqSmGGPPryO07AhITk77r1QP1h48cnTFtystXr0aN/m31Cv8MFp47f2HZ8pVmZhLUoxlsk8nlI3/9Leb1a4HAeOaM6dZWVsdPnFy1dp3AWFCpYoVRv2T0j0Kz/vDTyA1rV03/exYQJSYmPnsWPnzo4PSiPMOgmO+cef/cuHkT0rNZ0ya9enRHzdTpMxAaYW9vn/A24cfhw9wqVfx9/ESU8ej/fd/69fwydKJ++Sw8fNKf0yQS8Zs3seN/H1O+XDlcmvfPQtwbHfN68h/jKlWsqG68bsOmo4HHFCmK1q1afd21s7qeBRIgARIggfwgUEA+qvwwnX1qDwF4zHZfSe65ODE5UTauUaJOiFo1PVg7rnGa5QhL2HUlOc37l88PuGzh7YPSsrGxqVG9Gvx50ElQkEsWznd1cdm3/wCUpVwmX7xg/t/Tp0IIqsyBJvtj0pQe3b7NXteicapR6qwZ09avWQlZjOgCqDe4h/Fy3pxZRYoUQQNIQ1tbm6WLFqxYtnjTlm3mZmZT/5xka2MDUQvD/pw2fcrkP5Yu+sfJyXH/wUPpYdSv57t980Yo4E2bt/ovWbhq+VJI24CAXXV9fK5cvYqWZ8+eCw+PgNZEIG/dOnXS36sqIyBh2pRJC+fPLVWq1In3URMpCsWvo35evnSRl6fnlq3b4hMSFixasmDu7JX+S+DMvnwlrdsPPSB8582eOW7smO0BOz/UBvXHTpx88fLlyuXLVvovPX3mHGicv3DxWXgEmMydNcPo/ZJfu35DYCJY9M+8aX9OVjPPss+794L6f98H437TtfO27QGqNh2+ao97B/X/fuHipeq7MNnTZ84C8splSwJ2746K/s+5rm7DAgmQAAmQgAYJ0F+rQZgG2tW9COWcfUkmRsrhPjIXq4xf/moQys49W3y86xUr6qLBPlVdmQmNOnnK/UoqNl9V7rsmH/65mWfx/P3IN7B/v4FDhq1esQwGYF8UQgjWrNuAckREBPRry+bNkqRJI0f/5udb96cfhquM3Lp9h52dLfST6mU2z1CoKu1bt45PyKNHsbFxtWrWEArTftkdHOzxXNTZuVTJkgjtFYtEyXJ5klSq7g1RofFx8avWrENNeHh4Bg2Nu1B/+/adGjWqmZmZodykUcM9+/Z37tQBo8TFx0O6ff5ZywuXLkPXtv6spbpbdaFF82boPCYmBtq6TOlSqDc3N7eztUWhjk/tgF27799/AG09b8Ei1MCJ+zg01MnJSX17hkLJ9/bAOZ19NC08tfX9/BCrIDA1hTSHrlUoFLW9a6rCPOCyRbceHu6r166Dx9q3bp3hw4ZkGCj9y3q+dddv3LRh42ZlqtLCwkJ1CR9IUPCp7T1j1hx145s3b0ulSdNmzEQNlvXJk6eODg7qqyyQAAmQAAlonAB1rcaRGlCHsYmpiw9Lr4SmtHeX13bNU+BB0P073/Rq6+VZVYWv/RedOnz5TQaUAbs2lypRJj90rWogiPIffJMuRQjHb02tWdpkYEuJjXl+hSVUrFAeQrNM6dIYGtrRwtz8u57dVWaYmZujMGP6VGwLO3T4yA8/j4QjEDVQTpBNqjaqZ1NTEeJi1TUoq2MGVJUIM0ANHnK5XN0MhRs3b8HBOfOvadCUX3bskv6S0ERoZWWVwZj0DVBGhzLZvx0iolciSQsqQJTwytVr4H5uUL/+qjVrn4aFwf+a4Ua8/HnU6D/G/e7uVmmp//IMV6VSKby/oFGsWFG1ATDm4uUrGVrm9mWawXKZ6i7ESzg5WSoUJhnyFUD1zpoxPTomZv+BQyN/HQN37IdGQZCGm1ulmTOmnb94cd/+g+mbYQoikam6BnPx8PDo2S3tnYwZ2b6X7+qrLJAACZAACWicQP46pTRuLjvUEgLKVKPtl+S9Fycay9ICD/IoalWTKlWyzNrlAaoflajFfqmnYY/fvk3IMGsERz4NC339JkZdj5ZPnj6Syv7zO6ov5baAuWBGArms96LEbRdlmGl+P5ydnOBGPX/xkrW1NTyd8Oohb9SEiZMR3lrb2xtuUJUBzs5O1lbW6Y2xsSlSrKjzxs1bkLoLSRWCgu5DVqJB2LPwp0/D4HmFLEYP3rVq4NtwRNPCd4s2aAD5pVSmvn7zBl/Qo3+4EuG4RWVkZBQ0JcyAlMQzTAoLe5Z+RFW5Vq2acMfevHULKnDzlm1NGzdCPXzDO3ftQYhFqZIlcFfJ4sUz+HpV98qkMuhvWHLh4iWMi0oYgGAJxONu2xHg413L09Pj1avIkMePYcChI4GIeVDdmNvnyKgoOMLxgH5t3LDhzt17wiMigODEqVNwuOITwtHA449DnyBUICTkETpHKglEg8Bz7F2rZgbJm2FovNng7kVvR44EqqaABgcOHcYqrN+4GcDV7eH6vXz5ypvYOHxW2R6wC+9b9SUWSIAESIAE8oOAyYQJE/KjX/apxwRuh6WM2ZQUEZnct6bU2zVFqIkPR9HRkYHHD3bt1FPN7frNKwOGdINCm7fwr4oV3F1dSuzcvaVO7Xo2Nnbd+3x55+7NtRuWx8fH1qzuA19v30FfPwl7PHveVDSwt8vrV72YkbtjSmVnxd5bRjuuKMo6CpxtNDFJ9dzeFyC8ILBUdYg3OHrsGDbd48t9bGxC2ChEJyITQkNDhw8dYm9nh2aBx07AxVusaNH03aAHiOBde/a+ePHi5x9HuBQrhq/4r924AY114OChL9u3QwNLS8virq7r1m8MDX3i41MbnVf28oqNi922fSc2acFzXKF8OWhoebJ89959zZs2gTFQbAgJsLSwgGbFoKoRIUBLly4NYyRicfVqVTdu2gJZ3LZNa9WGLSdHRwQitGn9ORpjFtWqVoUxalPfOzJFFStU8HB3gxCHvsTGLAT7li1TBq5fJH9F/jKI8k4dO2BjHIzcEbAL4Q2lS5VEkK5MJhWZmlasWEHVG6IUsLULkRXxcXElirs6OjqmKFLghVVpelUb7Jm7efvO9Zu38AMZjbEQALBm3Xo4qgcPHFCuXFmEaiD8YN36Dc9fvIRtELq+vr64a+36DRDlYI74Y7XxKKB/S0uLsmXLoIwpHD4aiH14derUxu4xoIiOjkEsMnJ7wc4hgwZg/x/257m7u7m6usBsBC0cP35SRT59nyyTAAmQAAl8AoE1p5N71k9LCpTlw5guhCy5sDJLAjFvUxcdlt4MS+ngLqvhkuZs09QD2rTn9x2aNmql6nDqpLmQudCybpU89+zfce78SdT07NthxJBf8Y6dMWfSxtV74MeF5B0zctI3Pdv+OHxMrRp19h/cdezkob+nLtSUVejn2nOT7ffEVUsKBrY0s7fMr7AEDRqMfAjI2DV/ziwN9ql/XUHswkncqmULfLoYMGjoqhXLilj/jy9c/6bMGZEACZCAfhBoOuVd4Jh/9zZknhHjazMzYU0WBFKURtsvyDZcUPgVl49vpBCZaP4bVZsitl+2/S/WE4r27zmT4uPjU1IU8NGqbarsVb1k8dJtOzb2q9uwV7f+qL8XdGvO/GnGAmNsw0cSLHVLjRQg372ckw4EC/ssSf26jrBjXbGJ5l23GrH0304QdKvy72qyU73rCy5VeGoHDR2Bd9fIn3+kqNW7FeaESIAEDJQAda2BLnyupn39iQIn4hYRpfziK3O00LyiVRljbm5R29tXbdjkab+1b9u5ZbMvjp08vHvvNnV9dEzUsMEj7e0djxzd1+279scOXsGN82evsE2nfdWNNVKAiG/nnuyLbAl3xPtvKkZ8Lq5eWnt/ccqWKT1h3FiNTFyPO0EmhD69e+JHj+fIqZEACZCAARLQ3j/PBrgYWjjlqITUBQelQc9TOnrIqxbNU8aD3M7Owtzixs0rlhZWq9YutrL87zvi0Cchf8+e9MfvM7DJXSxO24n/Vfuvx0/8ZVD/H69cS0v12u3rPrkdKyftIeiH+EhvvhRO26V0K2Yy5DMzRysdCEvIydTYhgRIgARIgAT0gwD3jenHOmp+Fgql0cYzsmm7ZRVtZX2qy12s8zExLayHQjQ3t1Tn+UJN7Vp+t+5cD3n0oGvHHtbWNriEc7ncKnl5uHk5OhXds39bbNyb30ZNtrYugr1iOOrp0JE9Zmbm33TuhVxRmsfx/z0WtVTWL5kSHpv6T6BSoUj1KCEUUNz+Pxz+SwIkQAIkQAL5TYD7xvKbsB72f+WxYu4BmYNZCk4rcDDPX0Wro/iiEwVb75hGSYXDW4m9y/F7Dx1dRppNAiRAAiSgYwS4b0zHFqxwzX0VlzrvQNLjV8pOXjIvJ01mPCjceWl8dMj9gbVldyIVs/amlnUSDPvMzNmGnluNY2aHJEACJEACJJALAszzlQtYhtC0+6LEVIVyZL1ECV2QOVtvqcLor9PmbxWCBGl+7ajLmSFsRQIkQAIkQAL6T8DazDjgh7SDObN8UNdmicVwK+GvXXhEHvJS0dFD5ulYoBvFdBH6nUhkt5WUL2YyqLnYuQj9tbq4hrSZBEiABEhAfwhQ1+rPWmpwJldDU+YdkjuaKb5yk2lDfC3OFbO0tEZuJvUcE97Gm5uZm5h83KucnJwcFR3pUsxVfa9GCoiv3R4kjpaaDGsprllGw0lzNWIhOyEBEiABEiABQyNAXWtoK57T+SIfwraLyZsvyBuVUTQrLTfV0EEMDZpVg8Q0FYmePw+vXct34ri/c5K+YNhPffv2HlzFq/rqdUu7dOohEUt+m/DD5y3b42iG7Odz6fK5sX/85OTojOQJ61bstLGxzb59Tq4mpxgfCTU9+cS0Sx1RRx9TjRwjnJNx2YYESIAESIAESCB7AtS12fMx9KvIX7skUH73maKDu7yKc3LecUDXbt1wwNmpWIoyZdCwno0aNPu6cy90Gx4RBrXq4OCkGgKnQIVHPCtibaNSojiLwdqqSMzr6C7dPl/yz7qKFdzi4uNwHMO7d2+R4BZnR+GuFy+fOzsVhU83Li4WKrZUyTKonPvPtAb1mlav5j1+0i+eHlU7d+im6v+Tn2+9Em4LEnkWNx3QTMT8tZ+MkTeSAAmQAAmQQH4Q+PjXuPkxKvvUFQKQbmPbi288Fc49KDgbbtrRLUlT542ZCEzgf4UYlcvlA4d1FwhMEGxQqaIHPLgo9OrXuUypsiGPg6F6u3bqMXLMYBy7cOjIXoQf+K/85/fRUydOGd32i4537900k5j17T0kMuplz74dDu89v2b9sr37d+A0sneJb1cs3jx8yK8q1M9fRDRt3Cov2KPeGW8NksTJTX5tK65WioEHeWHJe0mABEiABEggXwj8F7CYL92zU70gABnn/72Zn7v47/MWex+K5Sl52iCFU8QQHrD3QMDWHesa1W+G56JFXZYt3LBxzd6QR8HnL56+cv2Ss6PzzOmL/RdufPkyQo0QpzDAfQtRqw4naNu648Eje9Dg6LEDbVp/BXW7au2SdSt3LZq3xtbG/vjJI6p7Fy2bg8PJ4LhVd5WrAua7JxhzN6/nIfH/3pyiNlf02JgESIAESIAECowA/bUFhlq3BzIRGCGWtLGncNkxk0mnhF+5y6p/6rG6Bw7vwZYvV5cSC+au9nSvsi1gAw4MAx2EEPjU9rsXdPubLr127t7yZedm9es16fFN32zAIdhAKDRFDMPho/v++P2v+w/uwk3bZ2AX3BIR8ayyVzUUnoY93h6wYf/OM9n0k82lay+EAUHi6qWF/t+L7C3zJOizGYWXSIAESIAESIAE8k6AujbvDA2oBwg7fAt/55lwzkHBufCUDm5JRS1znbR19C9/IL5WTc3KyvpN7GvVy5iYqOIuJRBH+9uoSVaW1jv3bOk3+Nsdm/91u6pvSV9o90XHjVtWy+SyUiXLIu9BxfLua5cHpG+Aw3UnT5gFf236ypyUX7413hZklpgi+P0rsVcJBh7khBnbkAAJkAAJkEBhEmAcQmHS19GxIfKW9jVrVFk854LF7mAJDibIy6N9m87rNi6/cOnMoSN7zl041bTxZ7fvXP9x5ICnYaEiU3EGPYpdYmgjlUnVIyIrwvpNK7747EvUVKtS8/WbaITYwnE7ZvwPoU9CUGlsZBz7/7pZfVf2BcxoV3Da7BpXES/ta05Rmz0uXiUBEiABEiABLSFgMmHCBC0xhWboEAFjYyN3F5OWVYVXnxlvvCEsIjFysVLm0P7qVb3Tq1VHB6cqlWtgs1dk1CvEzjo7F6tQ3g2BCnv275Any3/9eYKFhSV6dqvkBc9u2TLljwTu9/H2MzMzK1+2oq2NnUQicbB3atW8jURihs1nrVq0RYQufhrWb1qrZl3c+PpNTND9Oxgih+ZdeS5cctXM1VE0sZOkeikTzJQPEiABEiABEiABnSDAPF86sUxabeS9COW8gzJTY2UH9yQXy5yqWy2c0vMEAQIPFEaCYa3EHq78KkMLl4gmkQAJkAAJkEB2BKhrs6PDazkkkJpqtPe6YuUpuU+JlFZlk8x0LWw7SWF04JHkUriwdwPRF9WF9NHmcN3ZjARIgARIgAS0igB1rVYth24bE5+U6n9cfj5Y0d5D7l1MA4c4FAyOS89NdwaJfCsK+zYWWZsx7KBgqHMUEiABEiABEtA8AepazTM18B4fvFDOPyRTKpQd3aXFrVO0mcazeMH2IDNjk7TAg0rFGHigzWtF20iABEiABEjg4wSoaz/OiC1ySwCpvw7eVMB3W6t4ymdlk8xNc9tBvrdPTDbaH2J29bkJfLStqgrppM134hyABEiABEiABPKfAHVt/jM21BESpKkrTyafDEpu755c20WuJdoRmvtihGhXkGlDD9PeDU2tJFpil6G+SzhvEiABEiABEtAcAepazbFkT1kRCHmFsAS5TJbS0UNasrDDEsLiBFuDJBKxcGhLUXlnBh5ktWCsIwESIAESIAGdJUBdq7NLp1OGH76dFpZQpWhK63JSC1GujyjL+1zfyY33hkhuvTT5vomoRWVdy9eQ9/mzBxIgARIgARIwAALUtQawyNoxxXey1NWnk4/eSW7rpqjrIiuwXFrIQXYuQrzngbCZl2nP+qYWYgYeaMcbglaQAAmQAAmQgKYJUNdqmij7y5ZAaFRaWMLbRIQlyEoXydsJvNkOpLoYGivcdk9sZWGCwIMyjgw8yAEyNiEBEiABEiABnSVAXauzS6fLhgfeVSw9Jvd0UrYun2SVP2EJCQg8eCi5G2nSv6moqScDD3T57ULbSYAESIAESCBnBKhrc8aJrTRNIFGeuu5MMtKBfeGW7FtcpkFXKk7yPftMtO9BWgKvbvVMzUUMPND04rE/EiABEiABEtBKAtS1WrksBmNUWExaWEJMgrKLp7SMJsISHr8x2XJPYm+dFnhQ0l6DatlgloQTJQESIAESIAGdJUBdq7NLp0eGnwxSLA6UV3JUflEuyVr8idkS4qTGex+ZBUcLBjQVNXRn4IEevT84FRIgARIgARLIGQHq2pxxYqt8JiBNNlp/Vr73uuKLSgq/4lJBbmIHlKlGp5+J9webflFd+K2fSKJ9x5vlMzx2TwIkQAIkQAIkkEaAupbvAy0iEPFaOf+w/OUbZRcvWTmb5JxYFvJGuOWupKitYGgLkasdAw9ywoxtSIAESIAESEA/CVDX6ue66vSszganLDwqK2uX2qZ8ko0Y28CyfryRGe95aB76xnhQM7FfRZOsG7GWBEiABEiABEjAYAhQ1xrMUuvUROUKo43n5buuKlpVVNQvLjX537CElFSjU88kB4OF7WsJv64rEjGYVqcWl8aSAAmQAAmQQD4RoK7NJ7DsVgMEXsSmLjgiC4tOC0uo8P9hCcHvAw9KOggGNxcXs/lfwauBMdkFCZAACZAACZCArhKgrtXVlTMcuy8+SllwWF68iLJhCemJMElEvGBwC5FPOQYeGM5bgDMlARIgARIggRwRoK7NESY2KlwCihSjTReSD91StKwi7FrHVEhNW7jrwdFJgARIgARIQCsJUNdq5bLQKBIgARIgARIgARIggVwSYF6kXAJjcxIgARIgARIgARIgAa0kQF2rlctCo0iABEiABEiABEiABHJJgLo2l8DYnARIgARIgARIgARIQCsJUNdq5bLQKBIgARIgARIgARIggVwS+D+wRJ7EiKeKVAAAAABJRU5ErkJggg==)"
      ]
    },
    {
      "cell_type": "markdown",
      "metadata": {
        "id": "sh4i937UcI2q"
      },
      "source": [
        "### Task, metrics and dataset"
      ]
    },
    {
      "cell_type": "markdown",
      "metadata": {
        "id": "YWviBrbU7cJ_"
      },
      "source": [
        "Outlier detection, specifically novelty detection, is about detecting all anomalies including 'unknown' types of anomalies (e.g. system failures, new cyberattacks, etc.). Therefore supervised approaches where you train the model on both normal and abnormal logs are simply not applicable. Therefore, the approach described in this notebook is compared against leading and popular unsupervised and semi-supervised techniques. **Recall** is our primary objective for outlier detection (minimize false negatives) while also keeping reasonably high **precision** (minimize false positives).\n",
        "\n",
        "We use the open-source labelled HDFS dataset from [Loghub]((https://github.com/logpai/loghub) which is freely accessible and commonly used in log analysis evaluations, including anomaly detection. HDFS dataset provides 11M+ system log lines (\\~575k log sessions) collected from a real Hadoop cluster on 200 nodes, and labelled by Hadoop domain experts to identify the runtime anomalies. For the purpose of this notebook, we use a subset of the HDFS dataset (70k log sessions or ~12%) taking into consideration default BigQuery ML quota limits (e.g. 200 rpm and 72,000 rows per job with `gemini-1.5-flash` at the time of this writing). This way you can run this notebook as is in your own Google Cloud project in a timely fashion without necessarily requesting quota increases."
      ]
    },
    {
      "cell_type": "markdown",
      "metadata": {
        "id": "61RBz8LLbxCR"
      },
      "source": [
        "## Getting started"
      ]
    },
    {
      "cell_type": "markdown",
      "metadata": {
        "id": "No17Cw5hgx12"
      },
      "source": [
        "### Install Vertex AI SDK and other required packages\n"
      ]
    },
    {
      "cell_type": "code",
      "execution_count": null,
      "metadata": {
        "id": "tFy3H3aPgx12"
      },
      "outputs": [],
      "source": [
        "%pip install --upgrade --user --quiet \\\n",
        "    google-cloud-aiplatform \\\n",
        "    google-cloud-bigquery \\\n",
        "    scikit-learn==1.3.1"
      ]
    },
    {
      "cell_type": "markdown",
      "metadata": {
        "id": "R5Xep4W9lq-Z"
      },
      "source": [
        "### Restart runtime\n",
        "\n",
        "To use the newly installed packages in this Jupyter runtime, you must restart the runtime. You can do this by running the cell below, which restarts the current kernel.\n",
        "\n",
        "The restart might take a minute or longer. After it's restarted, continue to the next step."
      ]
    },
    {
      "cell_type": "code",
      "execution_count": null,
      "metadata": {
        "id": "XRvKdaPDTznN"
      },
      "outputs": [],
      "source": [
        "import IPython\n",
        "\n",
        "app = IPython.Application.instance()\n",
        "app.kernel.do_shutdown(True)"
      ]
    },
    {
      "cell_type": "markdown",
      "metadata": {
        "id": "SbmM4z7FOBpM"
      },
      "source": [
        "<div class=\"alert alert-block alert-warning\">\n",
        "<b>⚠️ The kernel is going to restart. Wait until it's finished before continuing to the next step. ⚠️</b>\n",
        "</div>\n"
      ]
    },
    {
      "cell_type": "markdown",
      "metadata": {
        "id": "dmWOrTJ3gx13"
      },
      "source": [
        "### Authenticate your notebook environment (Colab only)\n",
        "\n",
        "If you're running this notebook on Google Colab, run the cell below to authenticate your environment."
      ]
    },
    {
      "cell_type": "code",
      "execution_count": null,
      "metadata": {
        "id": "NyKGtVQjgx13"
      },
      "outputs": [],
      "source": [
        "import sys\n",
        "\n",
        "if \"google.colab\" in sys.modules:\n",
        "    from google.colab import auth\n",
        "\n",
        "    auth.authenticate_user()"
      ]
    },
    {
      "cell_type": "markdown",
      "metadata": {
        "id": "DF4l8DTdWgPY"
      },
      "source": [
        "### Set Google Cloud project information and initialize Vertex AI SDK\n",
        "\n",
        "To get started using Vertex AI, you must have an existing Google Cloud project and [enable the Vertex AI API](https://console.cloud.google.com/flows/enableapi?apiid=aiplatform.googleapis.com).\n",
        "\n",
        "Learn more about [setting up a project and a development environment](https://cloud.google.com/vertex-ai/docs/start/cloud-environment)."
      ]
    },
    {
      "cell_type": "code",
      "execution_count": null,
      "metadata": {
        "id": "Nqwi-5ufWp_B"
      },
      "outputs": [],
      "source": [
        "PROJECT_ID = \"[project-id]\"  # @param {type:\"string\"}\n",
        "REGION = \"us-central1\"  # @param {type:\"string\"}\n",
        "LOCATION = \"US\"  # @param {type:\"string\"}\n",
        "\n",
        "import vertexai\n",
        "\n",
        "vertexai.init(project=PROJECT_ID, location=REGION)"
      ]
    },
    {
      "cell_type": "markdown",
      "metadata": {
        "id": "5303c05f7aa6"
      },
      "source": [
        "### Import libraries"
      ]
    },
    {
      "cell_type": "code",
      "execution_count": null,
      "metadata": {
        "id": "01qn1OZeh_EP"
      },
      "outputs": [],
      "source": [
        "import bigframes.pandas as bpd\n",
        "from google.cloud import bigquery\n",
        "import matplotlib.pyplot as plt\n",
        "\n",
        "# Import necessary libraries\n",
        "import numpy as np\n",
        "import seaborn as sns\n",
        "from sklearn.manifold import TSNE"
      ]
    },
    {
      "cell_type": "code",
      "execution_count": null,
      "metadata": {
        "id": "jLc02A9ch_EP"
      },
      "outputs": [],
      "source": [
        "# initialize bigquery client\n",
        "client = bigquery.Client()\n",
        "\n",
        "# initialize bigquery dataframes client\n",
        "bpd.close_session()\n",
        "bpd.options.bigquery.project = PROJECT_ID\n",
        "bpd.options.bigquery.location = LOCATION"
      ]
    },
    {
      "cell_type": "code",
      "execution_count": null,
      "metadata": {
        "id": "_68282UqlxrR"
      },
      "outputs": [],
      "source": [
        "DATASET = \"vs_logs_demo\"  # @param {type:\"string\"}"
      ]
    },
    {
      "cell_type": "markdown",
      "metadata": {
        "id": "aF5qTVGRh_EP"
      },
      "source": [
        "### Create a new dataset"
      ]
    },
    {
      "cell_type": "code",
      "execution_count": null,
      "metadata": {
        "id": "L6OQ55Axh_EP"
      },
      "outputs": [],
      "source": [
        "%%bigquery\n",
        "CREATE SCHEMA `vs_logs_demo` OPTIONS (LOCATION = 'US');"
      ]
    },
    {
      "cell_type": "markdown",
      "metadata": {
        "id": "AxdBl98uUM09"
      },
      "source": [
        "### Create Cloud resource connection for Vertex AI"
      ]
    },
    {
      "cell_type": "markdown",
      "metadata": {
        "id": "qsJ_dwvG-28r"
      },
      "source": [
        "You need to create a Cloud resource connection to enable BigQuery to interact with Vertex AI services such as LLM remote models."
      ]
    },
    {
      "cell_type": "code",
      "execution_count": null,
      "metadata": {
        "id": "7EZlKHyyUMNY"
      },
      "outputs": [],
      "source": [
        "CONNECTION_NAME = \"bq-llm-connection\""
      ]
    },
    {
      "cell_type": "code",
      "execution_count": null,
      "metadata": {
        "id": "BVbxqd9C_Tki"
      },
      "outputs": [],
      "source": [
        "!bq mk --connection --location={LOCATION} --project_id={PROJECT_ID} \\\n",
        "    --connection_type=CLOUD_RESOURCE {CONNECTION_NAME}"
      ]
    },
    {
      "cell_type": "markdown",
      "metadata": {
        "id": "pQphx8hz_cyj"
      },
      "source": [
        "Retrieve the connection service account ID"
      ]
    },
    {
      "cell_type": "code",
      "execution_count": null,
      "metadata": {
        "id": "5hgJatLm_eFF"
      },
      "outputs": [],
      "source": [
        "!bq show --connection {PROJECT_ID}.{LOCATION}.{CLOUD_RESOURCE_CONN}"
      ]
    },
    {
      "cell_type": "markdown",
      "metadata": {
        "id": "1YVxe9B3_hhe"
      },
      "source": [
        "Copy the service account ID in the following parameter:"
      ]
    },
    {
      "cell_type": "code",
      "execution_count": null,
      "metadata": {
        "id": "XPqGhAt6_jUU"
      },
      "outputs": [],
      "source": [
        "# Copy the value of `serviceAccountId` field in last cell's output\n",
        "CONNECTION_SA_ID = \"[bq-connection-service-account]\"  # @param {type:\"string\"}"
      ]
    },
    {
      "cell_type": "markdown",
      "metadata": {
        "id": "wlsjW4-X_vOw"
      },
      "source": [
        "Give that service account access to Vertex AI"
      ]
    },
    {
      "cell_type": "code",
      "execution_count": null,
      "metadata": {
        "id": "oKYvvcZM_wMu"
      },
      "outputs": [],
      "source": [
        "!gcloud projects add-iam-policy-binding {PROJECT_ID} --member='serviceAccount:{CONNECTION_SA_ID}' --role='roles/aiplatform.user' --condition=None --no-user-output-enabled"
      ]
    },
    {
      "cell_type": "markdown",
      "metadata": {
        "id": "E0qF8NR7_0o3"
      },
      "source": [
        "If your notebook environment does not have `setIamPolicy` permission on the project, you (or your project's administrator) can alternatively grant  permissions to that cloud connection's service account using Cloud Console following these steps: https://cloud.google.com/bigquery/docs/generate-text-tutorial-gemini#grant-permissions"
      ]
    },
    {
      "cell_type": "markdown",
      "metadata": {
        "id": "HysosuDkh_Ec"
      },
      "source": [
        "## Import logs dataset into BigQuery"
      ]
    },
    {
      "cell_type": "markdown",
      "metadata": {
        "id": "iVPIbKUzXx5l"
      },
      "source": [
        "The HDFS dataset was originally developed by Wei Xu et al. in [Detecting Large-Scale System Problems by Mining Console Logs](https://people.eecs.berkeley.edu/~jordan/papers/xu-etal-sosp09.pdf) and made available in [Wei Xu's website](https://people.iiis.tsinghua.edu.cn/~weixu/sospdata.html). The raw logs are also available at [loghub](https://github.com/logpai/loghub) thanks to the work of Zhu et al. in [Loghub: A Large Collection of System Log Datasets for AI-driven Log Analytics](https://arxiv.org/abs/2008.06448). To facilitate log ingestion and analysis in this notebook, the logs are expected to be converted to structured format (csv) using a standard log parser such as [this one](https://github.com/logpai/logparser/blob/main/logparser/Drain/README.md) from [logparser](https://github.com/logpai/logparser).\n",
        "\n",
        "For the purpose of this notebook, the pre-parsed logs are available as .csv files in a GCS bucket:\n",
        "\n",
        "*   Full dataset: `HDFS.log_structured.csv` (2.9 GB)\n",
        "*   Limited 2k dataset: `HDFS_2k.log_structured.csv` (< 1 MB)\n",
        "\n",
        "You will import the full dataset in this notebook, but subsequently process ~15% of the data."
      ]
    },
    {
      "cell_type": "markdown",
      "metadata": {
        "id": "aRBDEawbh_Ef"
      },
      "source": [
        "### Load logs from GCS"
      ]
    },
    {
      "cell_type": "code",
      "execution_count": null,
      "metadata": {
        "id": "2zn4ds3gh_Ef"
      },
      "outputs": [],
      "source": [
        "gcs_bucket = \"gs://csa-datasets-public/hdfs/\"\n",
        "gcs_filename = \"HDFS.log_structured.csv\"  # @param {type:\"string\"}\n",
        "\n",
        "gcs_uri = gcs_bucket + gcs_filename\n",
        "\n",
        "\n",
        "def camelCase(col):\n",
        "    return col[0].lower() + col[1:]\n",
        "\n",
        "\n",
        "df = bpd.read_csv(gcs_uri, engine=\"bigquery\")\n",
        "# lowercase first letter of each column name\n",
        "df.columns = [camelCase(col) for col in df.columns]\n",
        "print(df.info())\n",
        "\n",
        "df.to_gbq(\"vs_logs_demo.hdfs_full_structured\", if_exists=\"replace\")"
      ]
    },
    {
      "cell_type": "markdown",
      "metadata": {
        "id": "CUseo2PAh_Ef"
      },
      "source": [
        "### Group logs by sessions"
      ]
    },
    {
      "cell_type": "markdown",
      "metadata": {
        "id": "mgfkFhITXVm-"
      },
      "source": [
        "Grouping logs by session ID or other unique identifiers allows us to correlate events that belong to the same user or transaction, providing context and a clear chronological sequence of actions. This is essential for understanding user behavior, troubleshooting issues, and identifying patterns that might otherwise be lost in the noise of a massive, undifferentiated log stream.\n",
        "\n",
        "In our case, since HDFS logs are records of events related to file system operations at the block level, such as block replication and deletion, we need to group HDFS logs by unique `blockId`."
      ]
    },
    {
      "cell_type": "code",
      "execution_count": null,
      "metadata": {
        "id": "D-fsGL0Uh_Eg"
      },
      "outputs": [],
      "source": [
        "%%bigquery\n",
        "CREATE OR REPLACE TABLE `vs_logs_demo.hdfs_full_sessionized` AS (\n",
        "  SELECT\n",
        "    blockId,\n",
        "    -- Capture start and end time\n",
        "    MIN(timestamp) AS ts_start,\n",
        "    MAX(timestamp) AS ts_end,\n",
        "    COUNT(*) AS numEvents,\n",
        "    -- Concatenate sequence of events\n",
        "    STRING_AGG(CONCAT(\n",
        "     component, \" \", level, \" \", content\n",
        "    ), '\\n' ORDER BY timestamp ASC) AS eventSequence,\n",
        "    -- Concatenate sequence of event templates\n",
        "    STRING_AGG(CONCAT(\n",
        "     component, \" \", level, \" \", eventTemplate\n",
        "    ), '\\n' ORDER BY timestamp ASC) AS eventTemplateSequence,\n",
        "    -- For debug only\n",
        "    ARRAY_AGG(STRUCT(\n",
        "        timestamp, level, component, content, eventId, eventTemplate\n",
        "    ) ORDER BY timestamp ASC) AS sequence,\n",
        "  FROM (\n",
        "    SELECT\n",
        "      PARSE_TIMESTAMP('%y%m%d %H%M%S', CONCAT(LPAD(CAST(date AS STRING), 6, '0'), ' ', LPAD(CAST(time AS STRING), 6, '0'))) AS timestamp,\n",
        "      REGEXP_EXTRACT(content, r'(blk_-?[0-9]+)') AS blockId,\n",
        "      * EXCEPT(date, time)\n",
        "    FROM `vs_logs_demo.hdfs_full_structured`\n",
        "  )\n",
        "  GROUP BY\n",
        "    blockId\n",
        "  ORDER BY\n",
        "    ts_start ASC, blockId ASC\n",
        ");"
      ]
    },
    {
      "cell_type": "markdown",
      "metadata": {
        "id": "DhANs7B7h_Eg"
      },
      "source": [
        "### Label log sequences"
      ]
    },
    {
      "cell_type": "markdown",
      "metadata": {
        "id": "xjRjHbkLawlP"
      },
      "source": [
        "This is a labelled dataset where each `blockId` has a binary label: either 'Normal' or 'Anomaly'. Let's retrieve the labels CSV file and store it in separate BigQuery table `hdfs_labels`."
      ]
    },
    {
      "cell_type": "code",
      "execution_count": null,
      "metadata": {
        "id": "sbTbkLv5h_Eg"
      },
      "outputs": [],
      "source": [
        "gcs_uri = \"gs://csa-datasets-public/hdfs/anomaly_label.csv\"\n",
        "df_labels = bpd.read_csv(gcs_uri, engine=\"bigquery\", header=0)\n",
        "df_labels.columns = [\"blockId\", \"label\"]\n",
        "print(df_labels.info())\n",
        "\n",
        "df_labels.to_gbq(\"vs_logs_demo.hdfs_labels\", if_exists=\"replace\")"
      ]
    },
    {
      "cell_type": "markdown",
      "metadata": {
        "id": "ADUU9kcJh_Eg"
      },
      "source": [
        "Let's correlate the log sequences with the labels table, and create a new labelled table for log sequences by setting a new boolean column `abnormal`. We also capture the sequential order of rows in `sessionId` which will come in handy later on for splitting the dataset and batching calls to Vertex AI API given its rate limits."
      ]
    },
    {
      "cell_type": "code",
      "execution_count": null,
      "metadata": {
        "id": "iFmql46fh_Eh"
      },
      "outputs": [],
      "source": [
        "%%bigquery\n",
        "CREATE OR REPLACE TABLE `vs_logs_demo.hdfs_full_labelled` AS (\n",
        "SELECT\n",
        "  -- Capture sequential order of sessions\n",
        "  ROW_NUMBER() OVER(ORDER BY logs.ts_start ASC) AS sessionId,\n",
        "  logs.* EXCEPT(sequence),\n",
        "  CASE\n",
        "    WHEN labels.label = 'Anomaly' THEN TRUE\n",
        "    ELSE FALSE\n",
        "  END AS abnormal\n",
        "FROM `vs_logs_demo.hdfs_full_sessionized` logs\n",
        "LEFT JOIN `vs_logs_demo.hdfs_labels` labels USING (blockId)\n",
        ")\n"
      ]
    },
    {
      "cell_type": "markdown",
      "metadata": {
        "id": "A52AUFlzh_Eh"
      },
      "source": [
        "### Exploratory data analysis"
      ]
    },
    {
      "cell_type": "code",
      "execution_count": null,
      "metadata": {
        "id": "TgKum7IZh_Eh"
      },
      "outputs": [],
      "source": [
        "df = bpd.read_gbq(\"vs_logs_demo.hdfs_full_labelled\")\n",
        "df.shape"
      ]
    },
    {
      "cell_type": "code",
      "execution_count": null,
      "metadata": {
        "id": "nUtFdr5lh_Eh"
      },
      "outputs": [],
      "source": [
        "df.head(5)"
      ]
    },
    {
      "cell_type": "markdown",
      "metadata": {
        "id": "XwpnSSbjh_Eh"
      },
      "source": [
        "Let's see the distribution of log sequence length, by displaying summary stats for `numEvents` numeric column"
      ]
    },
    {
      "cell_type": "code",
      "execution_count": null,
      "metadata": {
        "id": "VZq7oaj9h_Ei"
      },
      "outputs": [],
      "source": [
        "df.describe()"
      ]
    },
    {
      "cell_type": "markdown",
      "metadata": {
        "id": "OYm6XxT6VI1e"
      },
      "source": [
        "Let's the sample the data and get a breakdown of lengths of log sequences"
      ]
    },
    {
      "cell_type": "code",
      "execution_count": null,
      "metadata": {
        "id": "RxNtzI0Ph_Ei"
      },
      "outputs": [],
      "source": [
        "bpd.options.sampling.enable_downsampling = True  # enable downsampling\n",
        "bpd.options.sampling.max_download_size = 200  # download only 200 mb of data"
      ]
    },
    {
      "cell_type": "code",
      "execution_count": null,
      "metadata": {
        "id": "dQ-ODwuHh_Ei"
      },
      "outputs": [],
      "source": [
        "local_df = df.to_pandas(\n",
        "    max_download_size=200, sampling_method=\"uniform\", random_state=101\n",
        ")"
      ]
    },
    {
      "cell_type": "code",
      "execution_count": null,
      "metadata": {
        "id": "9yrQLumPh_Ej"
      },
      "outputs": [
        {
          "data": {
            "text/plain": [
              "<Axes: xlabel='abnormal', ylabel='count'>"
            ]
          },
          "execution_count": 73,
          "metadata": {},
          "output_type": "execute_result"
        },
        {
          "data": {
            "image/png": "[encoded data removed]",
            "text/plain": [
              "<Figure size 640x480 with 1 Axes>"
            ]
          },
          "metadata": {},
          "output_type": "display_data"
        }
      ],
      "source": [
        "sns.countplot(x=\"abnormal\", data=local_df)"
      ]
    },
    {
      "cell_type": "code",
      "execution_count": null,
      "metadata": {
        "id": "9u6ADdKwh_Ej"
      },
      "outputs": [
        {
          "data": {
            "image/png": "[encoded data removed]",
            "text/plain": [
              "<Figure size 1000x600 with 1 Axes>"
            ]
          },
          "metadata": {},
          "output_type": "display_data"
        }
      ],
      "source": [
        "plt.figure(figsize=(10, 6))\n",
        "\n",
        "# Plot with Seaborn (hue creates separate bars for each boolean value)\n",
        "sns.countplot(\n",
        "    data=local_df,\n",
        "    x=\"numEvents\",\n",
        "    hue=\"abnormal\",\n",
        "    palette=[\"blue\", \"red\"],\n",
        "    order=local_df[\"numEvents\"].value_counts().iloc[:15].index,\n",
        ")\n",
        "plt.title(\"Distribution of log sequence length by abnormality\")\n",
        "plt.xlabel(\"Events#/Sequence\")\n",
        "plt.ylabel(\"Count\")\n",
        "plt.show()"
      ]
    },
    {
      "cell_type": "markdown",
      "metadata": {
        "id": "gzFpxV9Mh_Ej"
      },
      "source": [
        "## Create and store embeddings in vector index"
      ]
    },
    {
      "cell_type": "markdown",
      "metadata": {
        "id": "U1tK1ZSGh_Ej"
      },
      "source": [
        "### Explain log sequences\n",
        "Prompt Gemini 1.5 Flash to translate log sequences into natural language"
      ]
    },
    {
      "cell_type": "markdown",
      "metadata": {
        "id": "l7A220hCh_Ek"
      },
      "source": [
        "#### Create the remote model for Gemini 1.5 Flash in BigQuery"
      ]
    },
    {
      "cell_type": "code",
      "execution_count": null,
      "metadata": {
        "id": "8c6ac9ace0f4"
      },
      "outputs": [],
      "source": [
        "#"
      ]
    },
    {
      "cell_type": "code",
      "execution_count": null,
      "metadata": {
        "id": "6PJ71LkVh_Ek"
      },
      "outputs": [],
      "source": [
        "%%bigquery\n",
        "CREATE OR REPLACE MODEL `vs_logs_demo.gemini_1_5_flash`\n",
        "REMOTE WITH CONNECTION `us.bq-llm-connection`\n",
        "OPTIONS (endpoint = 'gemini-1.5-flash-001')"
      ]
    },
    {
      "cell_type": "markdown",
      "metadata": {
        "id": "tejGKDOtcgOy"
      },
      "source": [
        "#### Prepare prompt"
      ]
    },
    {
      "cell_type": "code",
      "execution_count": null,
      "metadata": {
        "id": "w7Rqy_tJc_aE"
      },
      "outputs": [],
      "source": [
        "# Prompt for Gemini\n",
        "prompt_prefix = f\"\"\"\\\n",
        "You're an IT expert and administrator of a Hadoop Distributed File System or HDFS cluster.\n",
        "You are provided with a sequence of HDFS logs in chronological order, where each log line contains the log source component, followed by the log severity and the log content itself.\n",
        "Describe succinctly in plain english the events corresponding to this sequence of logs.\n",
        "Do not repeat the raw logs in your explanation. Do not speculate, explain or make stuff up.\n",
        "Be concise in your answer and combine similar events together.\n",
        "Output must be formatted as an ordered numbered list and without any preamble.\n",
        "\"\"\"\n",
        "\n",
        "# One-shot example where the input is the raw log sequence for one session,\n",
        "# and the output is the corresponding log explanation in natural language.\n",
        "example_input = f\"\"\"\\\n",
        "dfs.DataNode$DataXceiver INFO Receiving block blk_4970672161979262840 src: /10.251.111.130:54916 dest: /10.251.111.130:50010\n",
        "dfs.FSNamesystem INFO BLOCK* NameSystem.allocateBlock: /user/root/rand5/_temporary/_task_200811101024_0011_m_000844_0/part-00844. blk_4970672161979262840\n",
        "dfs.DataNode$DataXceiver INFO Receiving block blk_4970672161979262840 src: /10.251.66.102:49145 dest: /10.251.66.102:50010\n",
        "dfs.DataNode$DataXceiver INFO Receiving block blk_4970672161979262840 src: /10.251.111.130:34614 dest: /10.251.111.130:50010\n",
        "dfs.DataNode$PacketResponder INFO PacketResponder 1 for block blk_4970672161979262840 terminating\n",
        "dfs.DataNode$PacketResponder INFO PacketResponder 0 for block blk_4970672161979262840 terminating\n",
        "dfs.DataNode$PacketResponder INFO PacketResponder 2 for block blk_4970672161979262840 terminating\n",
        "dfs.DataNode$PacketResponder INFO Received block blk_4970672161979262840 of size 67108864 from /10.251.111.130\n",
        "dfs.FSNamesystem INFO BLOCK* NameSystem.addStoredBlock: blockMap updated: 10.251.111.130:50010 is added to blk_4970672161979262840 size 67108864\n",
        "dfs.FSNamesystem INFO BLOCK* NameSystem.addStoredBlock: blockMap updated: 10.251.66.102:50010 is added to blk_4970672161979262840 size 67108864\n",
        "dfs.DataNode$PacketResponder INFO Received block blk_4970672161979262840 of size 67108864 from /10.251.66.102\n",
        "dfs.DataNode$PacketResponder INFO Received block blk_4970672161979262840 of size 67108864 from /10.251.111.130\n",
        "dfs.FSNamesystem WARN BLOCK* NameSystem.addStoredBlock: Redundant addStoredBlock request received for blk_4970672161979262840 on 10.251.194.147:50010 size 67108864\n",
        "dfs.FSNamesystem INFO BLOCK* NameSystem.addStoredBlock: blockMap updated: 10.251.194.147:50010 is added to blk_4970672161979262840 size 67108864\n",
        "dfs.FSNamesystem INFO BLOCK* NameSystem.delete: blk_4970672161979262840 is added to invalidSet of 10.251.66.102:50010\n",
        "dfs.FSNamesystem INFO BLOCK* NameSystem.delete: blk_4970672161979262840 is added to invalidSet of 10.251.111.130:50010\n",
        "dfs.FSNamesystem INFO BLOCK* NameSystem.delete: blk_4970672161979262840 is added to invalidSet of 10.251.194.147:50010\n",
        "dfs.FSDataset INFO Deleting block blk_4970672161979262840 file /mnt/hadoop/dfs/data/current/subdir59/blk_4970672161979262840\n",
        "dfs.FSDataset INFO Deleting block blk_4970672161979262840 file /mnt/hadoop/dfs/data/current/subdir9/blk_4970672161979262840\n",
        "dfs.FSDataset INFO Deleting block blk_4970672161979262840 file /mnt/hadoop/dfs/data/current/subdir31/blk_4970672161979262840\n",
        "\"\"\"\n",
        "\n",
        "example_output = f\"\"\"\\\n",
        "1. The NameNode allocates a new block for a file in the user directory.\n",
        "2. Three DataNodes are receiving the block.\n",
        "3. The DataNodes packet responders for that block are terminating.\n",
        "4. The DataNodes receives the block.\n",
        "5. The NameNode updates block map after receiving confirmation that the block has been received by the three DataNodes.\n",
        "6. The NameNode reports a warning that it received a redundant confirmation from one of the DataNodes.\n",
        "7. The NameNode deletes the block and marks it as invalid on all three DataNodes.\n",
        "8. The DataNodes delete the block from their local storage.\n",
        "\"\"\"\n",
        "\n",
        "# Escape newlines before subsequent use in f-strings\n",
        "prompt_prefix = prompt_prefix.replace(\"\\n\", \"\\\\n\")\n",
        "example_input = example_input.replace(\"\\n\", \"\\\\n\")\n",
        "example_output = example_output.replace(\"\\n\", \"\\\\n\")\n",
        "\n",
        "params = {\n",
        "    \"prompt_prefix\": prompt_prefix,\n",
        "    \"example_input\": example_input,\n",
        "    \"example_output\": example_output,\n",
        "}"
      ]
    },
    {
      "cell_type": "markdown",
      "metadata": {
        "id": "J53myNZ5cMBn"
      },
      "source": [
        "Let's save the prompt and one-shot example in a new BigQuery table `hdfs_prompts`"
      ]
    },
    {
      "cell_type": "code",
      "execution_count": null,
      "metadata": {
        "id": "i8t9yIgRr9n-"
      },
      "outputs": [],
      "source": [
        "sql = f\"\"\"\\\n",
        "CREATE OR REPLACE TABLE `vs_logs_demo.hdfs_prompts` AS (\n",
        "  SELECT * FROM UNNEST([STRUCT(\n",
        "    'Explain HDFS log sequences' AS task,\n",
        "    \"{prompt_prefix}\" AS prompt_prefix,\n",
        "    \"{example_input}\" AS example_input,\n",
        "    \"{example_output}\" AS example_output\n",
        "  )])\n",
        ");\n",
        "\"\"\"\n",
        "\n",
        "query_job = client.query(sql)\n",
        "print(query_job.result())  # Wait for the job to complete.\n",
        "print(f\"Created Table {PROJECT_ID}.vs_logs_demo.hdfs_prompts\")"
      ]
    },
    {
      "cell_type": "markdown",
      "metadata": {
        "id": "2VnrZSeKZfHJ"
      },
      "source": [
        "As an example, let's take the following 'normal' raw log sequence for specific blockID `blk_-3750780870143089898`:"
      ]
    },
    {
      "cell_type": "code",
      "execution_count": null,
      "metadata": {
        "id": "wwdVnGOnZxeT"
      },
      "outputs": [],
      "source": [
        "dfs.DataNode$DataXceiver INFO Receiving block blk_-3750780870143089898 src: /10.251.67.211:46933 dest: /10.251.67.211:50010\n",
        "dfs.FSNamesystem INFO BLOCK* NameSystem.allocateBlock: /user/root/randtxt5/_temporary/_task_200811101024_0012_m_000993_0/part-00993. blk_-3750780870143089898\n",
        "dfs.DataNode$DataXceiver INFO Receiving block blk_-3750780870143089898 src: /10.251.42.207:51200 dest: /10.251.42.207:50010\n",
        "dfs.DataNode$DataXceiver INFO Receiving block blk_-3750780870143089898 src: /10.251.67.211:50346 dest: /10.251.67.211:50010\n",
        "dfs.DataNode$PacketResponder INFO PacketResponder 0 for block blk_-3750780870143089898 terminating\n",
        "dfs.DataNode$PacketResponder INFO PacketResponder 2 for block blk_-3750780870143089898 terminating\n",
        "dfs.FSNamesystem INFO BLOCK* NameSystem.addStoredBlock: blockMap updated: 10.251.42.207:50010 is added to blk_-3750780870143089898 size 67108864\n",
        "dfs.FSNamesystem INFO BLOCK* NameSystem.addStoredBlock: blockMap updated: 10.251.67.211:50010 is added to blk_-3750780870143089898 size 67108864\n",
        "dfs.DataNode$PacketResponder INFO Received block blk_-3750780870143089898 of size 67108864 from /10.251.67.211\n",
        "dfs.FSNamesystem INFO BLOCK* NameSystem.addStoredBlock: blockMap updated: 10.251.194.129:50010 is added to blk_-3750780870143089898 size 67108864\n",
        "dfs.DataNode$PacketResponder INFO PacketResponder 1 for block blk_-3750780870143089898 terminating\n",
        "dfs.DataNode$PacketResponder INFO Received block blk_-3750780870143089898 of size 67108864 from /10.251.67.211\n",
        "dfs.DataNode$PacketResponder INFO Received block blk_-3750780870143089898 of size 67108864 from /10.251.42.207\n",
        "dfs.FSNamesystem INFO BLOCK* NameSystem.delete: blk_-3750780870143089898 is added to invalidSet of 10.251.42.207:50010\n",
        "dfs.FSNamesystem INFO BLOCK* NameSystem.delete: blk_-3750780870143089898 is added to invalidSet of 10.251.67.211:50010\n",
        "dfs.FSNamesystem INFO BLOCK* NameSystem.delete: blk_-3750780870143089898 is added to invalidSet of 10.251.194.129:50010\n",
        "dfs.FSNamesystem INFO BLOCK* ask 10.251.194.129:50010 to delete  blk_-3750780870143089898 blk_8839488796462659348 blk_-1076638448786103147 blk_-2607303556568476338 blk_-872077376619694315 blk_3658484321727696675 blk_-8783295298979970351 blk_7253228695508151434 blk_8353593257930202451 blk_6896918372378359715 blk_8476431461885450664 blk_-453468701147780383 blk_2747276825479054342 blk_7831811674826419739 blk_-4676554322964835078 blk_838168686993939059 blk_-3667727247990911503 blk_554950885642981306 blk_3690236354878191248 blk_3594952792786303214 blk_710500522210229744 blk_-641656950218902981 blk_-8914315030958124984 blk_8473337661129085162 blk_8747565120239750968 blk_8483881408521191191 blk_970871787748196992 blk_-1238776083272375823 blk_-4355328787228390393 blk_-6232254141637974415 blk_2851445563013723058 blk_4729371515425302371 blk_-8138185632733985405 blk_3530286662170963267 blk_6705596331043244121 blk_5856355648225187587 blk_-5271003563714979606 blk_6099159980310485523 blk_5770736739131705773 blk_-4630334698677080743 blk_-316813592070079363 blk_-8376103172399604209 blk_-5004999163141797571 blk_-1184480050082523451 blk_-8644451221914479826 blk_-4421425625682059690 blk_8309579147878024429 blk_3172294788463323663 blk_-426829215056729544 blk_-785413567218674273 blk_2115841663373157801 blk_2855785622370264073 blk_8386172561326404060 blk_6747728035734009764 blk_7206820189825343828 blk_9222274141331127342 blk_-7791132919862479353 blk_-1813922770106404412 blk_-6794746648243431237 blk_-3114372317175128819 blk_-5375459594742433201 blk_6912573532770191892 blk_124792821150689426 blk_8787609558519171611 blk_-5450607639120667562 blk_769133640763536215 blk_4689006757714287009 blk_-2322954586860795404 blk_-3083400559019231217 blk_-2398840409229247956 blk_4606567481735284177 blk_-1098865217826643562 blk_-3075042532557633130 blk_6737487517130970246 blk_3299232526334609785 blk_-1866148958272946201 blk_4803758272177687030 blk_2068490022276187676 blk_-4724682685867818017 blk_-1311156078103024510 blk_-1781420834572645132 blk_-8680808247265383818 blk_7865294689332645011 blk_-7864388093305159311 blk_-7259235578951211339 blk_4437793449639312068 blk_2972756848238658967 blk_160665971665268866 blk_7862577900146719312 blk_2141823066215925124 blk_4044494381360076828 blk_868975602193282101 blk_-8493544210473294093 blk_-3909434520726038447 blk_-2397800658299122228 blk_-6929912433144478107 blk_-2022835339724037507 blk_-251514397381670680 blk_-4491187364929180193 blk_-4766279731310845414\n",
        "dfs.FSDataset INFO Deleting block blk_-3750780870143089898 file /mnt/hadoop/dfs/data/current/subdir32/blk_-3750780870143089898\n",
        "dfs.FSDataset INFO Deleting block blk_-3750780870143089898 file /mnt/hadoop/dfs/data/current/subdir16/blk_-3750780870143089898\n",
        "dfs.FSDataset INFO Deleting block blk_-3750780870143089898 file /mnt/hadoop/dfs/data/current/subdir55/blk_-3750780870143089898"
      ]
    },
    {
      "cell_type": "markdown",
      "metadata": {
        "id": "fbR3E9SCaOsD"
      },
      "source": [
        "The Gemini prompt above converts those raw log entries into a sequence of events in natural language which captures concisely the execution path including detailed semantics information while excluding specific identifiers:\n",
        "\n",
        "```\n",
        "1. The NameNode allocates a new block for a file in the user directory.\n",
        "2. Three DataNodes are receiving the block.\n",
        "3. The NameNode updates block map after receiving confirmation that the block has been received by the three DataNodes.\n",
        "4. The NameNode asks one of the DataNodes to delete the block.\n",
        "5. The DataNodes delete the block from their local storage.\n",
        "```"
      ]
    },
    {
      "cell_type": "markdown",
      "metadata": {
        "id": "GA6jBUfF59yX"
      },
      "source": [
        "#### Run on subset of logs"
      ]
    },
    {
      "cell_type": "markdown",
      "metadata": {
        "id": "OPRRTIHjNm86"
      },
      "source": [
        "The following **may take 6 hours or less** depending on your Vertex AI quota of requests per minute for `gemini-1.5-flash` base model. The following query goes over a small subset of the dataset: 70k log sequences will be translated into natural language summary. At the time of this writing, the default rate limit for `gemini-1.5-flash` in `us-central1` region is **200 requests/min**. To speed up this step, you can [request quota increase](https://cloud.google.com/vertex-ai/generative-ai/docs/quotas#view-quotas-in-console) for Vertex AI endpoint for `gemini-1.5-flash` for your specific region and project. If you do increase that Vertex AI quota, send an email to bqml-feedback@google.com to adjust and increase your BigQuery ML quota for `ML.GENERATE_TEXT` calls to that base model, since BigQuery ML rate-limits the calls to Vertex AI endpoint accordingly.\n",
        "\n",
        "The following SQL code firsts create the table `hdfs_full_explained`, then creates a procedure to generate content from Gemini and inserts into the destination table. You call the procedure iteratively to process data in batches and avoid losing processed results due to runtime error like query timeout or quota exhaustion, both of which are unlikely with smaller batches."
      ]
    },
    {
      "cell_type": "code",
      "execution_count": null,
      "metadata": {
        "id": "LoCQyX7sMhvX"
      },
      "outputs": [],
      "source": [
        "%%bigquery\n",
        "CREATE OR REPLACE TABLE `vs_logs_demo.hdfs_full_explained`\n",
        "(\n",
        "  sessionId INT64,\n",
        "  blockId STRING,\n",
        "  abnormal BOOL,\n",
        "  numEvents INT64,\n",
        "  eventSequence STRING,\n",
        "  eventTemplateSequence STRING,\n",
        "  status STRING,\n",
        "  response STRING,\n",
        "  input_tokens INT64,\n",
        "  output_tokens INT64,\n",
        "  total_token_count INT64\n",
        ")\n",
        "PARTITION BY RANGE_BUCKET(sessionId, GENERATE_ARRAY(0, 600000, 10000))\n",
        "CLUSTER BY abnormal, numEvents;"
      ]
    },
    {
      "cell_type": "code",
      "execution_count": null,
      "metadata": {
        "id": "ye-yBze9f8Kh"
      },
      "outputs": [],
      "source": [
        "params[\"prompt_prefix\"]"
      ]
    },
    {
      "cell_type": "code",
      "execution_count": null,
      "metadata": {
        "id": "o8jZ9EnLMs46"
      },
      "outputs": [],
      "source": [
        "%%bigquery\n",
        "CREATE OR REPLACE PROCEDURE `vs_logs_demo.explain_hdfs_logs_test`(\n",
        "  start_row INT64,\n",
        "  batch_size INT64\n",
        ")\n",
        "BEGIN\n",
        "  INSERT INTO `vs_logs_demo.hdfs_full_explained`\n",
        "  SELECT\n",
        "    sessionId, blockId, abnormal, numEvents, eventSequence, eventTemplateSequence,\n",
        "    ml_generate_text_status AS status,\n",
        "    LAX_STRING(ml_generate_text_result.candidates[0].content.parts[0].text) AS response,\n",
        "    LAX_INT64(ml_generate_text_result.usage_metadata.prompt_token_count) AS input_tokens,\n",
        "    LAX_INT64(ml_generate_text_result.usage_metadata.candidates_token_count) AS output_tokens,\n",
        "    LAX_INT64(ml_generate_text_result.usage_metadata.total_token_count) AS total_token_count\n",
        "  FROM\n",
        "    ML.GENERATE_TEXT(\n",
        "      MODEL `vs_logs_demo.gemini_1_5_flash`,\n",
        "      (\n",
        "        SELECT\n",
        "          -- A prompt for HDFS logs explanation with one-shot example.\n",
        "          sessionId, blockId, abnormal, numEvents, eventSequence, eventTemplateSequence,\n",
        "          CONCAT(llm.prompt_prefix,\n",
        "            \"Here is one-shot example:\\n\",\n",
        "            \"Log sequence:\\n\", llm.example_input,\n",
        "            \"Log sequence summary:\\n\", llm.example_output,\n",
        "            \"Here is the input:\\n\",\n",
        "            \"Log sequence: \", eventSequence, \"\\n\",\n",
        "            \"Answer: \"\n",
        "        ) AS prompt\n",
        "        FROM `vs_logs_demo.hdfs_full_labelled`, `vs_logs_demo.hdfs_prompts` AS llm\n",
        "        WHERE\n",
        "          llm.task = \"Explain HDFS log sequences\"\n",
        "          AND sessionId BETWEEN start_row AND start_row + batch_size -1\n",
        "      ),\n",
        "      STRUCT(\n",
        "        0.2 AS temperature,\n",
        "        2048 AS max_output_tokens, -- limit response to ~1400 words\n",
        "        FALSE AS flatten_json_output\n",
        "      )\n",
        "    );\n",
        "END;"
      ]
    },
    {
      "cell_type": "code",
      "execution_count": null,
      "metadata": {
        "id": "Msl7KJBi90Nc"
      },
      "outputs": [],
      "source": [
        "%%bigquery\n",
        "-- Process 70k sequences with batches of 20k at a time to stay well within #rows/job quota\n",
        "-- for ML.GENERATE_TEXT (72k with Gemini 1.5 Flash, 21.6k with Gemini 1.5 Pro)\n",
        "-- https://cloud.google.com/bigquery/quotas#cloud_ai_service_functions\n",
        "BEGIN\n",
        "  CALL `vs_logs_demo.explain_hdfs_logs`(1, 20000);\n",
        "  CALL `vs_logs_demo.explain_hdfs_logs`(20001, 20000);\n",
        "  CALL `vs_logs_demo.explain_hdfs_logs`(40001, 20000);\n",
        "  CALL `vs_logs_demo.explain_hdfs_logs`(60001, 10000);\n",
        "END;"
      ]
    },
    {
      "cell_type": "markdown",
      "metadata": {
        "id": "0H5-RmNwZGBp"
      },
      "source": [
        "To process even larger datasets, you can use the procedure iteratively  sequentially while accounting for the quota limit of 72k rows per job.\n",
        "Note the cumulative time limit for a multi-statement query in BigQuery is 24 hours. If the above code times out (unlikely with small 20k batches for a total of 70k), simply comment out the successfully completed batches before running it again so it can resume after that batch."
      ]
    },
    {
      "cell_type": "markdown",
      "metadata": {
        "id": "sdGQq2Rwh_Ek"
      },
      "source": [
        "### Generate embeddings for log sequences"
      ]
    },
    {
      "cell_type": "markdown",
      "metadata": {
        "id": "EjbNVI1Fh_El"
      },
      "source": [
        "#### Create the remote model for generating text embeddings"
      ]
    },
    {
      "cell_type": "code",
      "execution_count": null,
      "metadata": {
        "id": "01yw0xUoh_El"
      },
      "outputs": [],
      "source": [
        "%%bigquery\n",
        "CREATE OR REPLACE MODEL `vs_logs_demo.text_embedding`\n",
        "REMOTE WITH CONNECTION `us.bq-llm-connection`\n",
        "OPTIONS (endpoint = 'text-embedding-004')"
      ]
    },
    {
      "cell_type": "markdown",
      "metadata": {
        "id": "gZnn6PJXU5sY"
      },
      "source": [
        "#### Generate embeddings"
      ]
    },
    {
      "cell_type": "markdown",
      "metadata": {
        "id": "EbUr8Zvbddwn"
      },
      "source": [
        "Let's generate vector embedding for each log sequence to capture the semantic meaning of the Gemini-produced sequence of operations over each `blockId`.\n",
        "\n",
        "The following **will take several minutes** depending on your quota of requests per minute for `text-embedding` base model. At the time of this writing, the default rate limit for `text-embedding` in `us-central1` region is 1500 requests/min.\n",
        "\n",
        "The following query processes the entire `hdfs_full_explained` table. Unlike the previous section, where `ML.GENERATE_TEXT` was run in iterative batches, we run `ML.GENERATE_TEXT_EMBEDDING` as one job given the higher limit of 2,700,000 rows per job, that is well above our dataset of 70,000 session records.\n",
        "\n",
        "\n",
        "**Important Note:** we use `CLUSTERING` embedding task type which is best suited for (clustering-based) anomaly detection task, as opposed to other tasks like document retrieval (RAG) or semantic similarity search."
      ]
    },
    {
      "cell_type": "code",
      "execution_count": null,
      "metadata": {
        "id": "_qD7SJeeh_El"
      },
      "outputs": [],
      "source": [
        "%%bigquery\n",
        "CREATE OR REPLACE TABLE `vs_logs_demo.hdfs_full_embeddings` AS (\n",
        "  SELECT\n",
        "    * EXCEPT(ml_generate_embedding_result, ml_generate_embedding_status, ml_generate_embedding_statistics),\n",
        "    ml_generate_embedding_status AS status,\n",
        "    LAX_INT64(ml_generate_embedding_statistics.token_count) AS token_count,\n",
        "    LAX_BOOL(ml_generate_embedding_statistics.truncated) AS truncated,\n",
        "    ml_generate_embedding_result AS embeddings\n",
        "  FROM\n",
        "    ML.GENERATE_EMBEDDING(\n",
        "      MODEL `vs_logs_demo.text_embedding`,\n",
        "      (\n",
        "        SELECT\n",
        "          # sessionId, timeInterval, numEvents, sequence, abnormal,\n",
        "          sessionId, blockId, abnormal, numEvents, eventSequence, eventTemplateSequence,\n",
        "          response as content\n",
        "        FROM `vs_logs_demo.hdfs_full_explained`\n",
        "        -- skip records where previous ml.generate_text step failed due to quota exhaustion\n",
        "        WHERE status=\"\"\n",
        "        ORDER BY sessionId ASC\n",
        "        LIMIT 70000\n",
        "      ),\n",
        "      STRUCT(\n",
        "          TRUE AS flatten_json_output,\n",
        "          'CLUSTERING' as task_type\n",
        "      )\n",
        "    )\n",
        ")\n",
        "PARTITION BY RANGE_BUCKET(sessionId, GENERATE_ARRAY(0, 600000, 10000))\n",
        "CLUSTER BY abnormal, numEvents;"
      ]
    },
    {
      "cell_type": "markdown",
      "metadata": {
        "id": "q3hRmLiY2O0w"
      },
      "source": [
        "### Create vector index"
      ]
    },
    {
      "cell_type": "code",
      "execution_count": null,
      "metadata": {
        "id": "bH9FNwlfbUmv"
      },
      "outputs": [],
      "source": [
        "%%bigquery\n",
        "CREATE VECTOR INDEX index_treeah_1000 ON `vs_logs_demo.hdfs_full_embeddings`(embeddings)\n",
        "# STORING (abnormal, sessionId, numEvents)\n",
        "OPTIONS (index_type = 'TREE_AH',\n",
        "  distance_type = 'COSINE',\n",
        "  tree_ah_options = '{\"leaf_node_embedding_count\": 1000}');"
      ]
    },
    {
      "cell_type": "markdown",
      "metadata": {
        "id": "EGO4QPhZh_Em"
      },
      "source": [
        "Inspect vector index progress, and total storage (chargeable) from INFORMATION_SCHEMA.VECTOR_INDEXES view:"
      ]
    },
    {
      "cell_type": "code",
      "execution_count": null,
      "metadata": {
        "id": "IOmgcRWfh_Em"
      },
      "outputs": [],
      "source": [
        "%%bigquery\n",
        "SELECT\n",
        "  table_name,\n",
        "  index_name,\n",
        "  coverage_percentage,\n",
        "  unindexed_row_count,\n",
        "  last_refresh_time,\n",
        "  total_logical_bytes,\n",
        "  total_storage_bytes\n",
        "FROM `vs_logs_demo.INFORMATION_SCHEMA.VECTOR_INDEXES`\n",
        "WHERE index_status = 'ACTIVE';"
      ]
    },
    {
      "cell_type": "markdown",
      "metadata": {
        "id": "ul3FaK8Ph_Em"
      },
      "source": [
        "## Visualize clusters of log sequences"
      ]
    },
    {
      "cell_type": "markdown",
      "metadata": {
        "id": "c6qQx9zHlXoJ"
      },
      "source": [
        "As log sequences are projected into the 768-dimension vector space, similar log sequences are clustered as \"neighbors\" in the sense they share a similar sequence of what actually occurred.\n",
        "\n",
        "Let's do a first-order evaluation to see how the clustering is performing qualitatively. Specifically, we're looking at how well-defined the clusters are and how much separation there is between clusters."
      ]
    },
    {
      "cell_type": "markdown",
      "metadata": {
        "id": "XYdXKXd1fzoy"
      },
      "source": [
        "We use dimensionality reduction for visualizing in 2D space the clusters of HDFS log sequences embeddings by going from 768 to 2 dimension vectors."
      ]
    },
    {
      "cell_type": "markdown",
      "metadata": {
        "id": "PIjQeAU78HeB"
      },
      "source": [
        "### Visualize embeddings"
      ]
    },
    {
      "cell_type": "code",
      "execution_count": null,
      "metadata": {
        "id": "nM03efDp8GPk"
      },
      "outputs": [
        {
          "data": {
            "text/html": [
              "\n",
              "  <div id=\"df-f68f87a2-abe3-4de3-b49b-731e0177b78c\" class=\"colab-df-container\">\n",
              "    <div>\n",
              "<style scoped>\n",
              "    .dataframe tbody tr th:only-of-type {\n",
              "        vertical-align: middle;\n",
              "    }\n",
              "\n",
              "    .dataframe tbody tr th {\n",
              "        vertical-align: top;\n",
              "    }\n",
              "\n",
              "    .dataframe thead th {\n",
              "        text-align: right;\n",
              "    }\n",
              "</style>\n",
              "<table border=\"1\" class=\"dataframe\">\n",
              "  <thead>\n",
              "    <tr style=\"text-align: right;\">\n",
              "      <th></th>\n",
              "      <th>sessionId</th>\n",
              "      <th>blockId</th>\n",
              "      <th>abnormal</th>\n",
              "      <th>numEvents</th>\n",
              "      <th>eventSequence</th>\n",
              "      <th>eventTemplateSequence</th>\n",
              "      <th>content</th>\n",
              "      <th>status</th>\n",
              "      <th>token_count</th>\n",
              "      <th>truncated</th>\n",
              "      <th>embeddings</th>\n",
              "    </tr>\n",
              "  </thead>\n",
              "  <tbody>\n",
              "    <tr>\n",
              "      <th>0</th>\n",
              "      <td>119899</td>\n",
              "      <td>blk_-9060541879596316494</td>\n",
              "      <td>True</td>\n",
              "      <td>2</td>\n",
              "      <td>dfs.DataNode$DataXceiver INFO Receiving block ...</td>\n",
              "      <td>dfs.DataNode$DataXceiver INFO Receiving block ...</td>\n",
              "      <td>1. The NameNode allocates a new block for a fi...</td>\n",
              "      <td></td>\n",
              "      <td>30</td>\n",
              "      <td>False</td>\n",
              "      <td>[0.02920735441148281, 0.04813070967793465, -0....</td>\n",
              "    </tr>\n",
              "    <tr>\n",
              "      <th>1</th>\n",
              "      <td>17072</td>\n",
              "      <td>blk_8929107803467731944</td>\n",
              "      <td>True</td>\n",
              "      <td>2</td>\n",
              "      <td>dfs.DataNode$DataXceiver INFO Receiving block ...</td>\n",
              "      <td>dfs.DataNode$DataXceiver INFO Receiving block ...</td>\n",
              "      <td>1. The NameNode allocates a new block for a fi...</td>\n",
              "      <td></td>\n",
              "      <td>30</td>\n",
              "      <td>False</td>\n",
              "      <td>[0.02920735441148281, 0.04813070967793465, -0....</td>\n",
              "    </tr>\n",
              "  </tbody>\n",
              "</table>\n",
              "</div>\n",
              "    <div class=\"colab-df-buttons\">\n",
              "\n",
              "  <div class=\"colab-df-container\">\n",
              "    <button class=\"colab-df-convert\" onclick=\"convertToInteractive('df-f68f87a2-abe3-4de3-b49b-731e0177b78c')\"\n",
              "            title=\"Convert this dataframe to an interactive table.\"\n",
              "            style=\"display:none;\">\n",
              "\n",
              "  <svg xmlns=\"http://www.w3.org/2000/svg\" height=\"24px\" viewBox=\"0 -960 960 960\">\n",
              "    <path d=\"M120-120v-720h720v720H120Zm60-500h600v-160H180v160Zm220 220h160v-160H400v160Zm0 220h160v-160H400v160ZM180-400h160v-160H180v160Zm440 0h160v-160H620v160ZM180-180h160v-160H180v160Zm440 0h160v-160H620v160Z\"/>\n",
              "  </svg>\n",
              "    </button>\n",
              "\n",
              "  <style>\n",
              "    .colab-df-container {\n",
              "      display:flex;\n",
              "      gap: 12px;\n",
              "    }\n",
              "\n",
              "    .colab-df-convert {\n",
              "      background-color: #E8F0FE;\n",
              "      border: none;\n",
              "      border-radius: 50%;\n",
              "      cursor: pointer;\n",
              "      display: none;\n",
              "      fill: #1967D2;\n",
              "      height: 32px;\n",
              "      padding: 0 0 0 0;\n",
              "      width: 32px;\n",
              "    }\n",
              "\n",
              "    .colab-df-convert:hover {\n",
              "      background-color: #E2EBFA;\n",
              "      box-shadow: 0px 1px 2px rgba(60, 64, 67, 0.3), 0px 1px 3px 1px rgba(60, 64, 67, 0.15);\n",
              "      fill: #174EA6;\n",
              "    }\n",
              "\n",
              "    .colab-df-buttons div {\n",
              "      margin-bottom: 4px;\n",
              "    }\n",
              "\n",
              "    [theme=dark] .colab-df-convert {\n",
              "      background-color: #3B4455;\n",
              "      fill: #D2E3FC;\n",
              "    }\n",
              "\n",
              "    [theme=dark] .colab-df-convert:hover {\n",
              "      background-color: #434B5C;\n",
              "      box-shadow: 0px 1px 3px 1px rgba(0, 0, 0, 0.15);\n",
              "      filter: drop-shadow(0px 1px 2px rgba(0, 0, 0, 0.3));\n",
              "      fill: #FFFFFF;\n",
              "    }\n",
              "  </style>\n",
              "\n",
              "    <script>\n",
              "      const buttonEl =\n",
              "        document.querySelector('#df-f68f87a2-abe3-4de3-b49b-731e0177b78c button.colab-df-convert');\n",
              "      buttonEl.style.display =\n",
              "        google.colab.kernel.accessAllowed ? 'block' : 'none';\n",
              "\n",
              "      async function convertToInteractive(key) {\n",
              "        const element = document.querySelector('#df-f68f87a2-abe3-4de3-b49b-731e0177b78c');\n",
              "        const dataTable =\n",
              "          await google.colab.kernel.invokeFunction('convertToInteractive',\n",
              "                                                    [key], {});\n",
              "        if (!dataTable) return;\n",
              "\n",
              "        const docLinkHtml = 'Like what you see? Visit the ' +\n",
              "          '<a target=\"_blank\" href=https://colab.research.google.com/notebooks/data_table.ipynb>data table notebook</a>'\n",
              "          + ' to learn more about interactive tables.';\n",
              "        element.innerHTML = '';\n",
              "        dataTable['output_type'] = 'display_data';\n",
              "        await google.colab.output.renderOutput(dataTable, element);\n",
              "        const docLink = document.createElement('div');\n",
              "        docLink.innerHTML = docLinkHtml;\n",
              "        element.appendChild(docLink);\n",
              "      }\n",
              "    </script>\n",
              "  </div>\n",
              "\n",
              "\n",
              "<div id=\"df-c3770d90-8434-48aa-b939-5655029b6c04\">\n",
              "  <button class=\"colab-df-quickchart\" onclick=\"quickchart('df-c3770d90-8434-48aa-b939-5655029b6c04')\"\n",
              "            title=\"Suggest charts\"\n",
              "            style=\"display:none;\">\n",
              "\n",
              "<svg xmlns=\"http://www.w3.org/2000/svg\" height=\"24px\"viewBox=\"0 0 24 24\"\n",
              "     width=\"24px\">\n",
              "    <g>\n",
              "        <path d=\"M19 3H5c-1.1 0-2 .9-2 2v14c0 1.1.9 2 2 2h14c1.1 0 2-.9 2-2V5c0-1.1-.9-2-2-2zM9 17H7v-7h2v7zm4 0h-2V7h2v10zm4 0h-2v-4h2v4z\"/>\n",
              "    </g>\n",
              "</svg>\n",
              "  </button>\n",
              "\n",
              "<style>\n",
              "  .colab-df-quickchart {\n",
              "      --bg-color: #E8F0FE;\n",
              "      --fill-color: #1967D2;\n",
              "      --hover-bg-color: #E2EBFA;\n",
              "      --hover-fill-color: #174EA6;\n",
              "      --disabled-fill-color: #AAA;\n",
              "      --disabled-bg-color: #DDD;\n",
              "  }\n",
              "\n",
              "  [theme=dark] .colab-df-quickchart {\n",
              "      --bg-color: #3B4455;\n",
              "      --fill-color: #D2E3FC;\n",
              "      --hover-bg-color: #434B5C;\n",
              "      --hover-fill-color: #FFFFFF;\n",
              "      --disabled-bg-color: #3B4455;\n",
              "      --disabled-fill-color: #666;\n",
              "  }\n",
              "\n",
              "  .colab-df-quickchart {\n",
              "    background-color: var(--bg-color);\n",
              "    border: none;\n",
              "    border-radius: 50%;\n",
              "    cursor: pointer;\n",
              "    display: none;\n",
              "    fill: var(--fill-color);\n",
              "    height: 32px;\n",
              "    padding: 0;\n",
              "    width: 32px;\n",
              "  }\n",
              "\n",
              "  .colab-df-quickchart:hover {\n",
              "    background-color: var(--hover-bg-color);\n",
              "    box-shadow: 0 1px 2px rgba(60, 64, 67, 0.3), 0 1px 3px 1px rgba(60, 64, 67, 0.15);\n",
              "    fill: var(--button-hover-fill-color);\n",
              "  }\n",
              "\n",
              "  .colab-df-quickchart-complete:disabled,\n",
              "  .colab-df-quickchart-complete:disabled:hover {\n",
              "    background-color: var(--disabled-bg-color);\n",
              "    fill: var(--disabled-fill-color);\n",
              "    box-shadow: none;\n",
              "  }\n",
              "\n",
              "  .colab-df-spinner {\n",
              "    border: 2px solid var(--fill-color);\n",
              "    border-color: transparent;\n",
              "    border-bottom-color: var(--fill-color);\n",
              "    animation:\n",
              "      spin 1s steps(1) infinite;\n",
              "  }\n",
              "\n",
              "  @keyframes spin {\n",
              "    0% {\n",
              "      border-color: transparent;\n",
              "      border-bottom-color: var(--fill-color);\n",
              "      border-left-color: var(--fill-color);\n",
              "    }\n",
              "    20% {\n",
              "      border-color: transparent;\n",
              "      border-left-color: var(--fill-color);\n",
              "      border-top-color: var(--fill-color);\n",
              "    }\n",
              "    30% {\n",
              "      border-color: transparent;\n",
              "      border-left-color: var(--fill-color);\n",
              "      border-top-color: var(--fill-color);\n",
              "      border-right-color: var(--fill-color);\n",
              "    }\n",
              "    40% {\n",
              "      border-color: transparent;\n",
              "      border-right-color: var(--fill-color);\n",
              "      border-top-color: var(--fill-color);\n",
              "    }\n",
              "    60% {\n",
              "      border-color: transparent;\n",
              "      border-right-color: var(--fill-color);\n",
              "    }\n",
              "    80% {\n",
              "      border-color: transparent;\n",
              "      border-right-color: var(--fill-color);\n",
              "      border-bottom-color: var(--fill-color);\n",
              "    }\n",
              "    90% {\n",
              "      border-color: transparent;\n",
              "      border-bottom-color: var(--fill-color);\n",
              "    }\n",
              "  }\n",
              "</style>\n",
              "\n",
              "  <script>\n",
              "    async function quickchart(key) {\n",
              "      const quickchartButtonEl =\n",
              "        document.querySelector('#' + key + ' button');\n",
              "      quickchartButtonEl.disabled = true;  // To prevent multiple clicks.\n",
              "      quickchartButtonEl.classList.add('colab-df-spinner');\n",
              "      try {\n",
              "        const charts = await google.colab.kernel.invokeFunction(\n",
              "            'suggestCharts', [key], {});\n",
              "      } catch (error) {\n",
              "        console.error('Error during call to suggestCharts:', error);\n",
              "      }\n",
              "      quickchartButtonEl.classList.remove('colab-df-spinner');\n",
              "      quickchartButtonEl.classList.add('colab-df-quickchart-complete');\n",
              "    }\n",
              "    (() => {\n",
              "      let quickchartButtonEl =\n",
              "        document.querySelector('#df-c3770d90-8434-48aa-b939-5655029b6c04 button');\n",
              "      quickchartButtonEl.style.display =\n",
              "        google.colab.kernel.accessAllowed ? 'block' : 'none';\n",
              "    })();\n",
              "  </script>\n",
              "</div>\n",
              "    </div>\n",
              "  </div>\n"
            ],
            "text/plain": [
              "   sessionId                   blockId  abnormal  numEvents  \\\n",
              "0     119899  blk_-9060541879596316494      True          2   \n",
              "1      17072   blk_8929107803467731944      True          2   \n",
              "\n",
              "                                       eventSequence  \\\n",
              "0  dfs.DataNode$DataXceiver INFO Receiving block ...   \n",
              "1  dfs.DataNode$DataXceiver INFO Receiving block ...   \n",
              "\n",
              "                               eventTemplateSequence  \\\n",
              "0  dfs.DataNode$DataXceiver INFO Receiving block ...   \n",
              "1  dfs.DataNode$DataXceiver INFO Receiving block ...   \n",
              "\n",
              "                                             content status  token_count  \\\n",
              "0  1. The NameNode allocates a new block for a fi...                  30   \n",
              "1  1. The NameNode allocates a new block for a fi...                  30   \n",
              "\n",
              "   truncated                                         embeddings  \n",
              "0      False  [0.02920735441148281, 0.04813070967793465, -0....  \n",
              "1      False  [0.02920735441148281, 0.04813070967793465, -0....  "
            ]
          },
          "execution_count": 22,
          "metadata": {},
          "output_type": "execute_result"
        }
      ],
      "source": [
        "client = bigquery.Client()\n",
        "\n",
        "# sql = f\"\"\"\n",
        "# SELECT *\n",
        "# FROM `vs_logs_demo.hdfs_full_embeddings`\n",
        "# TABLESAMPLE SYSTEM (10 PERCENT)\n",
        "# \"\"\"\n",
        "# df = client.query(sql).to_dataframe()\n",
        "\n",
        "table_id = \"vs_logs_demo.hdfs_full_embeddings\"\n",
        "df = client.list_rows(table_id).to_dataframe()\n",
        "df.head(2)"
      ]
    },
    {
      "cell_type": "code",
      "execution_count": null,
      "metadata": {
        "id": "JsVt6qXph_Eo"
      },
      "outputs": [
        {
          "name": "stdout",
          "output_type": "stream",
          "text": [
            "1. A block with ID blk_7780858808264270321 was allocated by the NameNode.\n",
            "2. Three DataNodes received the block from different sources.\n",
            "3. The NameNode recorded that the block was stored on three DataNodes.\n",
            "4. The NameNode instructed the three DataNodes to delete the block.\n",
            "5. The three DataNodes deleted the block from their local storage. \n",
            "\n"
          ]
        }
      ],
      "source": [
        "print(df.iloc[70].content)"
      ]
    },
    {
      "cell_type": "code",
      "execution_count": null,
      "metadata": {
        "id": "4PCddtSs8GPl"
      },
      "outputs": [],
      "source": [
        "# Reduce dimensionality using t-SNE. Will take 5 minutes with 10% of the data\n",
        "tsne = TSNE(n_components=2, random_state=0)\n",
        "embeddings_array = np.array(df[\"embeddings\"].to_list(), dtype=np.float32)\n",
        "embeddings_2d = tsne.fit_transform(embeddings_array)"
      ]
    },
    {
      "cell_type": "code",
      "execution_count": null,
      "metadata": {
        "id": "wEx5o4a07Dxd"
      },
      "outputs": [],
      "source": [
        "# Mapping boolean values to colors\n",
        "color_map = {True: \"red\", False: \"blue\"}\n",
        "colors = df[\"abnormal\"].map(color_map)\n",
        "\n",
        "# Create a scatter plot of the embeddings\n",
        "plt.figure(figsize=(10, 8))\n",
        "plt.scatter(embeddings_2d[:, 0], embeddings_2d[:, 1], c=colors, s=25, alpha=0.7)\n",
        "\n",
        "plt.title(\"Log Embeddings Clusters\")\n",
        "plt.xlabel(\"TSNE-1\")\n",
        "plt.ylabel(\"TSNE-2\")\n",
        "plt.show()"
      ]
    },
    {
      "cell_type": "markdown",
      "metadata": {
        "id": "ecf8102c85e7"
      },
      "source": [
        "Results should be rendered in a scatter plot as follows:"
      ]
    },
    {
      "attachments": {
        "830d2fb9-2eb8-481f-b3ff-47129a741321.png": {
          "image/png": "[encoded data removed]"
        }
      },
      "cell_type": "markdown",
      "metadata": {
        "id": "394a7829ce06"
      },
      "source": [
        "![image.png](attachment:830d2fb9-2eb8-481f-b3ff-47129a741321.png)"
      ]
    },
    {
      "cell_type": "markdown",
      "metadata": {
        "id": "EWDzewJyiCHc"
      },
      "source": [
        "We can visually see many blue clusters (30-50), depicting different normal types of log sequences. The red dots are the abnormal log sequences that ultimately should be identified as outliers. While many of the red dots are clustered together, some are scattered and at the periphery of blue clusters."
      ]
    },
    {
      "cell_type": "markdown",
      "metadata": {
        "id": "BVy4K8xnh_Ew"
      },
      "source": [
        "## Detect outliers with BigQuery vector search"
      ]
    },
    {
      "cell_type": "markdown",
      "metadata": {
        "id": "dyCvM3ssh_E0"
      },
      "source": [
        "Let's implement a simple outlier detection logic leveraging BQ built-in optimized vector search using simple SQL."
      ]
    },
    {
      "cell_type": "markdown",
      "metadata": {
        "id": "YTp-jko3ln7B"
      },
      "source": [
        "### Split dataset into training and test"
      ]
    },
    {
      "cell_type": "markdown",
      "metadata": {
        "id": "7CBZnNDOmkHH"
      },
      "source": [
        "First, let's split the dataset into training and test datasets in BigQuery.\n",
        "\n",
        "We use a session cutoff to split the first 50,000 sessions (ordered chronologically) to use for 'training' and then a subsequent 20,000 sessions for testing. Since this is semi-supervised learning on the negative class only (normal logs), we use only the normal logs sequences in the first 50,000 sessions.\n",
        "\n",
        "In the context of BigQuery vector search, the vector index uses a k-means algorithm to cluster these records as they are ingested. That process is managed by BigQuery during and after index creation. We still writing the training and test dataset in separate table to facilitate testing of other ML models in subsequent section."
      ]
    },
    {
      "cell_type": "code",
      "execution_count": null,
      "metadata": {
        "id": "IWM6FBBDYadc"
      },
      "outputs": [],
      "source": [
        "session_id_cutoff = 50000  # Split train and eval datasets\n",
        "num_sessions = 20000  # Number of sessions to use for testing"
      ]
    },
    {
      "cell_type": "markdown",
      "metadata": {
        "id": "gVH6LbLBpRuw"
      },
      "source": [
        "Retrieve and write test and training datasets in separate tables"
      ]
    },
    {
      "cell_type": "code",
      "execution_count": null,
      "metadata": {
        "id": "1D4PINTvTe26"
      },
      "outputs": [],
      "source": [
        "# Train dataset\n",
        "sql = f\"\"\"\n",
        "SELECT * FROM `vs_logs_demo.hdfs_full_embeddings`\n",
        "WHERE\n",
        "  abnormal=FALSE\n",
        "  AND sessionId <= {session_id_cutoff}\n",
        "\"\"\"\n",
        "y_train = bpd.read_gbq(sql, index_col=\"sessionId\")\n",
        "\n",
        "# Persist the train dataset in a separate table to be used later for other models e.g. scikit-learn algor\n",
        "y_train.to_gbq(\"vs_logs_demo.hdfs_full_embeddings_train\", if_exists=\"replace\")\n",
        "\n",
        "# Test dataset\n",
        "sql = f\"\"\"\n",
        "SELECT\n",
        "  sessionId, blockId, embeddings,\n",
        "  CAST(abnormal AS INT64) AS label\n",
        "FROM `vs_logs_demo.hdfs_full_embeddings`\n",
        "WHERE sessionId > {session_id_cutoff}\n",
        "ORDER BY sessionId ASC\n",
        "LIMIT {num_sessions}\n",
        "\"\"\"\n",
        "y_test = bpd.read_gbq(sql, index_col=\"sessionId\")\n",
        "\n",
        "# Persist the test dataset in a separate table to be used several times with different vector search configurations\n",
        "y_test.to_gbq(\"vs_logs_demo.hdfs_full_embeddings_test\", if_exists=\"replace\")"
      ]
    },
    {
      "cell_type": "markdown",
      "metadata": {
        "id": "hRS72B88h_E3"
      },
      "source": [
        "### Predict anomalies with vector search"
      ]
    },
    {
      "cell_type": "markdown",
      "metadata": {
        "id": "aY4PKVQy2MDJ"
      },
      "source": [
        "The premise behind outlier detection is to identify log sequences that do not belong to any known 'normal' blue clusters. Given a log sequence test vector, if there is a sufficient number of 'normal' neighboring base vectors within a certain distance, then that log sequence is considered 'normal'. Otherwise, it is considered an outlier or an anomaly."
      ]
    },
    {
      "cell_type": "markdown",
      "metadata": {
        "id": "d2iVXlbdWFSm"
      },
      "source": [
        " To get the best performance in terms of outlier detection, the following procedure uses a brute force search to maximize recall of top-k closest 'normal' neighbors for every query vector."
      ]
    },
    {
      "cell_type": "code",
      "execution_count": null,
      "metadata": {
        "id": "TEkbws0mh_E3"
      },
      "outputs": [],
      "source": [
        "def predict_anomalies(n_neighbors, distance_threshold):\n",
        "    sql = f\"\"\"\n",
        "    SELECT\n",
        "      query.blockId AS blockId,\n",
        "      ANY_VALUE(query.sessionId) AS sessionId,\n",
        "      COUNTIF(distance < {distance_threshold}) AS similar_normal_instances,\n",
        "      IF(COUNTIF(distance < {distance_threshold}) >= {n_neighbors}, 0, 1) as predicted\n",
        "    FROM VECTOR_SEARCH(\n",
        "      (SELECT * FROM `vs_logs_demo.hdfs_full_embeddings` WHERE abnormal=FALSE AND sessionId <= {session_id_cutoff}), # TreeAH index\n",
        "      'embeddings',\n",
        "      TABLE `vs_logs_demo.hdfs_full_embeddings_test`,\n",
        "      --(SELECT blockId, sessionId, embeddings FROM `vs_logs_demo.hdfs_full_embeddings` WHERE sessionId > {session_id_cutoff} ORDER BY sessionId ASC LIMIT {num_sessions}),\n",
        "      top_k => {n_neighbors}, # Increase top_k value to 3x if using TreeAH with post-filtering\n",
        "      distance_type => 'COSINE',\n",
        "      options => '{{\"use_brute_force\":true}}'\n",
        "      --options => '{{\"fraction_lists_to_search\":0.1}}'\n",
        "    )\n",
        "    GROUP BY\n",
        "      query.blockId\n",
        "    \"\"\"\n",
        "    return bpd.read_gbq(sql, index_col=\"sessionId\")"
      ]
    },
    {
      "cell_type": "markdown",
      "metadata": {
        "id": "cZsxyyQnYq6s"
      },
      "source": [
        "**Note**: While the above procedure runs a brute force job for best outlier detection performance, you can still experiment with using the vector index by setting `fraction_lists_to_search` to optimize speed and cost while trading off some recall. For example, you could set it to 0.1 to only search only 10% of the clusters, those with the closest centroids, thereby reducing total latency and slot usage. Since we're using a TreeAH index, the prefilters on the base table are treated as post-filters and may reduce the top-k result set. In that case, make sure to multiply top_k value by say 3x to have a sufficient result set post-filtering."
      ]
    },
    {
      "cell_type": "markdown",
      "metadata": {
        "id": "T91-nLT25rpH"
      },
      "source": [
        "Let's run the batch prediction: this will compare 20,000 test records against 47,770 'normal' base records, essentially doing 955 Millions distance calculations of 768-dimentional vectors. The following completes in **only 1 minute** given the small base table and sufficient parallel shards."
      ]
    },
    {
      "cell_type": "code",
      "execution_count": null,
      "metadata": {
        "id": "jv4n_N51h_E3"
      },
      "outputs": [],
      "source": [
        "n_neighbors = 10  # Number of neighbors to compare with\n",
        "dist_threshold = 0.004\n",
        "# Neighbor within this distance is a match\n",
        "\n",
        "# Batch predict on the test set\n",
        "y_pred = predict_anomalies(n_neighbors, dist_threshold)"
      ]
    },
    {
      "cell_type": "markdown",
      "metadata": {
        "id": "welzwxwC6gW6"
      },
      "source": [
        "Let's see how much data was processed and the total time it took to predict anomalies across 20,000 test records. Replace `insert-job-id` with the BigQuery job ID returned in the last cell output."
      ]
    },
    {
      "cell_type": "code",
      "execution_count": null,
      "metadata": {
        "id": "7ZaKLkSHh_E4"
      },
      "outputs": [
        {
          "name": "stdout",
          "output_type": "stream",
          "text": [
            "Job ID: 199dd3dc-10fe-4ca1-b81c-386b21283a55\n",
            "Total Bytes Processed: 938.72 MB\n",
            "Slot-hours Used: 1.58\n",
            "Query Execution Time: 6.67 seconds\n"
          ]
        }
      ],
      "source": [
        "vs_job_id = \"[insert-job-id]\"\n",
        "\n",
        "client = bigquery.Client()\n",
        "job = client.get_job(vs_job_id)\n",
        "\n",
        "print(f\"Job ID: {vs_job_id}\")\n",
        "print(\n",
        "    f\"Total Bytes Processed: {round(job.total_bytes_processed / (1024 * 1024) , 2) } MB\"\n",
        ")\n",
        "print(f\"Slot-hours Used: {round(job.slot_millis / (1000 * 60 * 60), 2)}\")\n",
        "\n",
        "start_time = job.started\n",
        "end_time = job.ended\n",
        "execution_time = (end_time - start_time).total_seconds()\n",
        "print(f\"Query Execution Time: {execution_time:.2f} seconds\")"
      ]
    },
    {
      "cell_type": "markdown",
      "metadata": {
        "id": "2fhhcrCF6-gC"
      },
      "source": [
        "Make sure the predicted result set `y_pred` is of the same size as the test dataset `y_test`, that is 20,000 records:"
      ]
    },
    {
      "cell_type": "code",
      "execution_count": null,
      "metadata": {
        "id": "_J7BqRzJh_E4"
      },
      "outputs": [
        {
          "name": "stdout",
          "output_type": "stream",
          "text": [
            "(20000, 3)\n",
            "(20000, 3)\n"
          ]
        }
      ],
      "source": [
        "print(y_test.shape)\n",
        "print(y_pred.shape)"
      ]
    },
    {
      "cell_type": "markdown",
      "metadata": {
        "id": "qmZ1waubh_E5"
      },
      "source": [
        "### Evaluate performance"
      ]
    },
    {
      "cell_type": "code",
      "execution_count": null,
      "metadata": {
        "id": "kUxPZ0x-ASfL"
      },
      "outputs": [],
      "source": [
        "from sklearn.metrics import (\n",
        "    ConfusionMatrixDisplay,\n",
        "    accuracy_score,\n",
        "    classification_report,\n",
        "    confusion_matrix,\n",
        "    f1_score,\n",
        "    recall_score,\n",
        ")"
      ]
    },
    {
      "cell_type": "code",
      "execution_count": null,
      "metadata": {
        "id": "AlrYy0Mch_E5"
      },
      "outputs": [],
      "source": [
        "cnf_matrix = confusion_matrix(\n",
        "    y_test[\"label\"].to_pandas(), y_pred[\"predicted\"].to_pandas()\n",
        ")\n",
        "print(cnf_matrix)"
      ]
    },
    {
      "cell_type": "code",
      "execution_count": null,
      "metadata": {
        "id": "EcXfacuEAkf9"
      },
      "outputs": [],
      "source": [
        "disp = ConfusionMatrixDisplay(\n",
        "    confusion_matrix=cnf_matrix, display_labels=[\"normal\", \"abnormal\"]\n",
        ")\n",
        "disp.plot()\n",
        "plt.show()"
      ]
    },
    {
      "attachments": {
        "3823d730-4998-48f5-86c8-874384d16f68.png": {
          "image/png": "[encoded data removed]"
        }
      },
      "cell_type": "markdown",
      "metadata": {
        "id": "1b7d5522cd39"
      },
      "source": [
        "You should see the following confusion matrix rendered:\n",
        "\n",
        "![image.png](attachment:3823d730-4998-48f5-86c8-874384d16f68.png)"
      ]
    },
    {
      "cell_type": "code",
      "execution_count": null,
      "metadata": {
        "id": "88Nw7619Akf-"
      },
      "outputs": [],
      "source": [
        "target_names = [\"normal\", \"abnormal\"]\n",
        "report = classification_report(\n",
        "    y_test[\"label\"].to_pandas(),\n",
        "    y_pred[\"predicted\"].to_pandas(),\n",
        "    target_names=target_names,\n",
        ")\n",
        "print(\"Classification Report:\\n\", report)"
      ]
    },
    {
      "attachments": {
        "9f900d6f-09c7-479a-b93d-c441e1a97dec.png": {
          "image/png": "[encoded data removed]"
        }
      },
      "cell_type": "markdown",
      "metadata": {
        "id": "19c10f1027b6"
      },
      "source": [
        "You should observe the following classification metrics:\n",
        "\n",
        "![image.png](attachment:9f900d6f-09c7-479a-b93d-c441e1a97dec.png)    "
      ]
    },
    {
      "cell_type": "markdown",
      "metadata": {
        "id": "7d67bcafbbf8"
      },
      "source": [
        "In particular, results for 'abnormal' show 92% recall and 90% precision:\n",
        "\n",
        "|  | precision |   recall | f1-score | support |\n",
        "|---|---|---|---|---|\n",
        "| normal    |   1.00   |   1.00  |    1.00   |  19169 |\n",
        "| abnormal    |   0.90    |  0.92  |    0.91   |    831 |"
      ]
    },
    {
      "cell_type": "markdown",
      "metadata": {
        "id": "GZJ6u6Bih_E5"
      },
      "source": [
        "#### Grid search to tune hyper-parameters\n"
      ]
    },
    {
      "cell_type": "code",
      "execution_count": null,
      "metadata": {
        "id": "1aw_kVg0h_E6"
      },
      "outputs": [],
      "source": [
        "from sklearn.metrics import f1_score, precision_score, recall_score\n",
        "\n",
        "# Define the parameter grid for BQ vector search (adjust values as needed)\n",
        "param_grid = {\n",
        "    \"n_neighbors\": [6, 10, 12, 15],  # Number of neighbors to consider\n",
        "    \"dist_threshold\": [0.004, 0.006, 0.008, 0.01],  # Distance threshold for a match\n",
        "}\n",
        "\n",
        "# Initialize variables to track the best score and parameters\n",
        "best_f1 = 0\n",
        "best_recall = 0\n",
        "best_params = {}\n",
        "\n",
        "y_test_pd = y_test[\"label\"].to_pandas()\n",
        "\n",
        "# Manually iterate through parameter combinations\n",
        "for n_neighbors in param_grid[\"n_neighbors\"]:\n",
        "    for dist_threshold in param_grid[\"dist_threshold\"]:\n",
        "        # No need to train any model - simply do a vector search\n",
        "\n",
        "        # Make predictions on the test set\n",
        "        y_pred_df = predict_anomalies(n_neighbors, dist_threshold)\n",
        "        y_pred_pd = y_pred_df[\"predicted\"].to_pandas()\n",
        "\n",
        "        # Calculate F1-score\n",
        "        f1 = f1_score(y_test_pd, y_pred_pd)\n",
        "        # Calculate Recall\n",
        "        recall = recall_score(y_test_pd, y_pred_pd)\n",
        "        # Calculate Precision\n",
        "        precision = precision_score(y_test_pd, y_pred_pd)\n",
        "\n",
        "        # Update f1 score and parameters if current combination is better\n",
        "        if f1 > best_f1:\n",
        "            best_f1 = f1\n",
        "            best_params = {\"n_neighbors\": n_neighbors, \"dist_threshold\": dist_threshold}\n",
        "\n",
        "        print(\n",
        "            f\"Parameters: n_neighbors={n_neighbors}, dist_threshold={dist_threshold}, Recall: {recall}, Precision: {precision}, F1-Score: {f1}\"\n",
        "        )\n",
        "\n",
        "# Print the best parameters and score\n",
        "print(\"Best Parameters:\", best_params)\n",
        "print(\"Best F1-Score:\", best_f1)"
      ]
    },
    {
      "cell_type": "markdown",
      "metadata": {
        "id": "X4VepQhgh_Er"
      },
      "source": [
        "## Detect outliers with scikit-learn algorithms"
      ]
    },
    {
      "cell_type": "markdown",
      "metadata": {
        "id": "KqZSOjAE8hL3"
      },
      "source": [
        "As a baseline comparison, we'll evaluate popular [outlier detection algorithms](https://scikit-learn.org/stable/modules/outlier_detection.html#overview-of-outlier-detection-methods) implemented in scikit-learn, using the same logs embeddings that were generated and stored in BigQuery. [One-Class SVM](https://scikit-learn.org/stable/modules/outlier_detection.html#novelty-detection) and [Local Outlier Factor](https://scikit-learn.org/stable/modules/outlier_detection.html#novelty-detection-with-local-outlier-factor) are both semi-supervised learning methods suitable for novelty detection, and are available in the `svm` and `neighbors` modules respectively:"
      ]
    },
    {
      "cell_type": "code",
      "execution_count": null,
      "metadata": {
        "id": "iA2joe7Uh_Er"
      },
      "outputs": [],
      "source": [
        "from sklearn import neighbors, svm"
      ]
    },
    {
      "cell_type": "markdown",
      "metadata": {
        "id": "25svuP1jovxf"
      },
      "source": [
        "### Use binary classifiers (semi-supervised on negative class only)"
      ]
    },
    {
      "cell_type": "markdown",
      "metadata": {
        "id": "oAUh7rFPovxg"
      },
      "source": [
        "We will use the same training and test datasets persisted in BigQuery tables"
      ]
    },
    {
      "cell_type": "code",
      "execution_count": null,
      "metadata": {
        "id": "g2djOrYJxqsa"
      },
      "outputs": [],
      "source": [
        "# read a BigQuery table to a BigQuery DataFrame\n",
        "df_train = bpd.read_gbq(\n",
        "    \"vs_logs_demo.hdfs_full_embeddings_train\", index_col=\"sessionId\"\n",
        ")\n",
        "\n",
        "# X_train = list(df_train['embeddings'].to_list())\n",
        "X_train = df_train[[\"embeddings\"]].to_list()"
      ]
    },
    {
      "cell_type": "code",
      "execution_count": null,
      "metadata": {
        "id": "gtwOE_j5sdt_"
      },
      "outputs": [],
      "source": [
        "df_test = bpd.read_gbq(\"vs_logs_demo.hdfs_full_embeddings_test\", index_col=\"sessionId\")\n",
        "\n",
        "X_test = df_test[\"embeddings\"].to_list()\n",
        "y_test = df_test[\"label\"].to_list()"
      ]
    },
    {
      "cell_type": "code",
      "execution_count": null,
      "metadata": {
        "id": "YxLPlWO5ovxg"
      },
      "outputs": [
        {
          "name": "stdout",
          "output_type": "stream",
          "text": [
            "(47766, 768)\n"
          ]
        }
      ],
      "source": [
        "print(np.array(X_train).shape)\n",
        "print(np.array(X_test).shape)\n",
        "print(np.array(y_test).shape)"
      ]
    },
    {
      "cell_type": "markdown",
      "metadata": {
        "id": "O2GoQSEQovxg"
      },
      "source": [
        "#### Use Novelty Detection with One-Class SVM"
      ]
    },
    {
      "cell_type": "code",
      "execution_count": null,
      "metadata": {
        "id": "3FzknanWovxg"
      },
      "outputs": [
        {
          "data": {
            "text/html": [
              "<style>#sk-container-id-3 {\n",
              "  /* Definition of color scheme common for light and dark mode */\n",
              "  --sklearn-color-text: black;\n",
              "  --sklearn-color-line: gray;\n",
              "  /* Definition of color scheme for unfitted estimators */\n",
              "  --sklearn-color-unfitted-level-0: #fff5e6;\n",
              "  --sklearn-color-unfitted-level-1: #f6e4d2;\n",
              "  --sklearn-color-unfitted-level-2: #ffe0b3;\n",
              "  --sklearn-color-unfitted-level-3: chocolate;\n",
              "  /* Definition of color scheme for fitted estimators */\n",
              "  --sklearn-color-fitted-level-0: #f0f8ff;\n",
              "  --sklearn-color-fitted-level-1: #d4ebff;\n",
              "  --sklearn-color-fitted-level-2: #b3dbfd;\n",
              "  --sklearn-color-fitted-level-3: cornflowerblue;\n",
              "\n",
              "  /* Specific color for light theme */\n",
              "  --sklearn-color-text-on-default-background: var(--sg-text-color, var(--theme-code-foreground, var(--jp-content-font-color1, black)));\n",
              "  --sklearn-color-background: var(--sg-background-color, var(--theme-background, var(--jp-layout-color0, white)));\n",
              "  --sklearn-color-border-box: var(--sg-text-color, var(--theme-code-foreground, var(--jp-content-font-color1, black)));\n",
              "  --sklearn-color-icon: #696969;\n",
              "\n",
              "  @media (prefers-color-scheme: dark) {\n",
              "    /* Redefinition of color scheme for dark theme */\n",
              "    --sklearn-color-text-on-default-background: var(--sg-text-color, var(--theme-code-foreground, var(--jp-content-font-color1, white)));\n",
              "    --sklearn-color-background: var(--sg-background-color, var(--theme-background, var(--jp-layout-color0, #111)));\n",
              "    --sklearn-color-border-box: var(--sg-text-color, var(--theme-code-foreground, var(--jp-content-font-color1, white)));\n",
              "    --sklearn-color-icon: #878787;\n",
              "  }\n",
              "}\n",
              "\n",
              "#sk-container-id-3 {\n",
              "  color: var(--sklearn-color-text);\n",
              "}\n",
              "\n",
              "#sk-container-id-3 pre {\n",
              "  padding: 0;\n",
              "}\n",
              "\n",
              "#sk-container-id-3 input.sk-hidden--visually {\n",
              "  border: 0;\n",
              "  clip: rect(1px 1px 1px 1px);\n",
              "  clip: rect(1px, 1px, 1px, 1px);\n",
              "  height: 1px;\n",
              "  margin: -1px;\n",
              "  overflow: hidden;\n",
              "  padding: 0;\n",
              "  position: absolute;\n",
              "  width: 1px;\n",
              "}\n",
              "\n",
              "#sk-container-id-3 div.sk-dashed-wrapped {\n",
              "  border: 1px dashed var(--sklearn-color-line);\n",
              "  margin: 0 0.4em 0.5em 0.4em;\n",
              "  box-sizing: border-box;\n",
              "  padding-bottom: 0.4em;\n",
              "  background-color: var(--sklearn-color-background);\n",
              "}\n",
              "\n",
              "#sk-container-id-3 div.sk-container {\n",
              "  /* jupyter's `normalize.less` sets `[hidden] { display: none; }`\n",
              "     but bootstrap.min.css set `[hidden] { display: none !important; }`\n",
              "     so we also need the `!important` here to be able to override the\n",
              "     default hidden behavior on the sphinx rendered scikit-learn.org.\n",
              "     See: https://github.com/scikit-learn/scikit-learn/issues/21755 */\n",
              "  display: inline-block !important;\n",
              "  position: relative;\n",
              "}\n",
              "\n",
              "#sk-container-id-3 div.sk-text-repr-fallback {\n",
              "  display: none;\n",
              "}\n",
              "\n",
              "div.sk-parallel-item,\n",
              "div.sk-serial,\n",
              "div.sk-item {\n",
              "  /* draw centered vertical line to link estimators */\n",
              "  background-image: linear-gradient(var(--sklearn-color-text-on-default-background), var(--sklearn-color-text-on-default-background));\n",
              "  background-size: 2px 100%;\n",
              "  background-repeat: no-repeat;\n",
              "  background-position: center center;\n",
              "}\n",
              "\n",
              "/* Parallel-specific style estimator block */\n",
              "\n",
              "#sk-container-id-3 div.sk-parallel-item::after {\n",
              "  content: \"\";\n",
              "  width: 100%;\n",
              "  border-bottom: 2px solid var(--sklearn-color-text-on-default-background);\n",
              "  flex-grow: 1;\n",
              "}\n",
              "\n",
              "#sk-container-id-3 div.sk-parallel {\n",
              "  display: flex;\n",
              "  align-items: stretch;\n",
              "  justify-content: center;\n",
              "  background-color: var(--sklearn-color-background);\n",
              "  position: relative;\n",
              "}\n",
              "\n",
              "#sk-container-id-3 div.sk-parallel-item {\n",
              "  display: flex;\n",
              "  flex-direction: column;\n",
              "}\n",
              "\n",
              "#sk-container-id-3 div.sk-parallel-item:first-child::after {\n",
              "  align-self: flex-end;\n",
              "  width: 50%;\n",
              "}\n",
              "\n",
              "#sk-container-id-3 div.sk-parallel-item:last-child::after {\n",
              "  align-self: flex-start;\n",
              "  width: 50%;\n",
              "}\n",
              "\n",
              "#sk-container-id-3 div.sk-parallel-item:only-child::after {\n",
              "  width: 0;\n",
              "}\n",
              "\n",
              "/* Serial-specific style estimator block */\n",
              "\n",
              "#sk-container-id-3 div.sk-serial {\n",
              "  display: flex;\n",
              "  flex-direction: column;\n",
              "  align-items: center;\n",
              "  background-color: var(--sklearn-color-background);\n",
              "  padding-right: 1em;\n",
              "  padding-left: 1em;\n",
              "}\n",
              "\n",
              "\n",
              "/* Toggleable style: style used for estimator/Pipeline/ColumnTransformer box that is\n",
              "clickable and can be expanded/collapsed.\n",
              "- Pipeline and ColumnTransformer use this feature and define the default style\n",
              "- Estimators will overwrite some part of the style using the `sk-estimator` class\n",
              "*/\n",
              "\n",
              "/* Pipeline and ColumnTransformer style (default) */\n",
              "\n",
              "#sk-container-id-3 div.sk-toggleable {\n",
              "  /* Default theme specific background. It is overwritten whether we have a\n",
              "  specific estimator or a Pipeline/ColumnTransformer */\n",
              "  background-color: var(--sklearn-color-background);\n",
              "}\n",
              "\n",
              "/* Toggleable label */\n",
              "#sk-container-id-3 label.sk-toggleable__label {\n",
              "  cursor: pointer;\n",
              "  display: block;\n",
              "  width: 100%;\n",
              "  margin-bottom: 0;\n",
              "  padding: 0.5em;\n",
              "  box-sizing: border-box;\n",
              "  text-align: center;\n",
              "}\n",
              "\n",
              "#sk-container-id-3 label.sk-toggleable__label-arrow:before {\n",
              "  /* Arrow on the left of the label */\n",
              "  content: \"▸\";\n",
              "  float: left;\n",
              "  margin-right: 0.25em;\n",
              "  color: var(--sklearn-color-icon);\n",
              "}\n",
              "\n",
              "#sk-container-id-3 label.sk-toggleable__label-arrow:hover:before {\n",
              "  color: var(--sklearn-color-text);\n",
              "}\n",
              "\n",
              "/* Toggleable content - dropdown */\n",
              "\n",
              "#sk-container-id-3 div.sk-toggleable__content {\n",
              "  max-height: 0;\n",
              "  max-width: 0;\n",
              "  overflow: hidden;\n",
              "  text-align: left;\n",
              "  /* unfitted */\n",
              "  background-color: var(--sklearn-color-unfitted-level-0);\n",
              "}\n",
              "\n",
              "#sk-container-id-3 div.sk-toggleable__content.fitted {\n",
              "  /* fitted */\n",
              "  background-color: var(--sklearn-color-fitted-level-0);\n",
              "}\n",
              "\n",
              "#sk-container-id-3 div.sk-toggleable__content pre {\n",
              "  margin: 0.2em;\n",
              "  border-radius: 0.25em;\n",
              "  color: var(--sklearn-color-text);\n",
              "  /* unfitted */\n",
              "  background-color: var(--sklearn-color-unfitted-level-0);\n",
              "}\n",
              "\n",
              "#sk-container-id-3 div.sk-toggleable__content.fitted pre {\n",
              "  /* unfitted */\n",
              "  background-color: var(--sklearn-color-fitted-level-0);\n",
              "}\n",
              "\n",
              "#sk-container-id-3 input.sk-toggleable__control:checked~div.sk-toggleable__content {\n",
              "  /* Expand drop-down */\n",
              "  max-height: 200px;\n",
              "  max-width: 100%;\n",
              "  overflow: auto;\n",
              "}\n",
              "\n",
              "#sk-container-id-3 input.sk-toggleable__control:checked~label.sk-toggleable__label-arrow:before {\n",
              "  content: \"▾\";\n",
              "}\n",
              "\n",
              "/* Pipeline/ColumnTransformer-specific style */\n",
              "\n",
              "#sk-container-id-3 div.sk-label input.sk-toggleable__control:checked~label.sk-toggleable__label {\n",
              "  color: var(--sklearn-color-text);\n",
              "  background-color: var(--sklearn-color-unfitted-level-2);\n",
              "}\n",
              "\n",
              "#sk-container-id-3 div.sk-label.fitted input.sk-toggleable__control:checked~label.sk-toggleable__label {\n",
              "  background-color: var(--sklearn-color-fitted-level-2);\n",
              "}\n",
              "\n",
              "/* Estimator-specific style */\n",
              "\n",
              "/* Colorize estimator box */\n",
              "#sk-container-id-3 div.sk-estimator input.sk-toggleable__control:checked~label.sk-toggleable__label {\n",
              "  /* unfitted */\n",
              "  background-color: var(--sklearn-color-unfitted-level-2);\n",
              "}\n",
              "\n",
              "#sk-container-id-3 div.sk-estimator.fitted input.sk-toggleable__control:checked~label.sk-toggleable__label {\n",
              "  /* fitted */\n",
              "  background-color: var(--sklearn-color-fitted-level-2);\n",
              "}\n",
              "\n",
              "#sk-container-id-3 div.sk-label label.sk-toggleable__label,\n",
              "#sk-container-id-3 div.sk-label label {\n",
              "  /* The background is the default theme color */\n",
              "  color: var(--sklearn-color-text-on-default-background);\n",
              "}\n",
              "\n",
              "/* On hover, darken the color of the background */\n",
              "#sk-container-id-3 div.sk-label:hover label.sk-toggleable__label {\n",
              "  color: var(--sklearn-color-text);\n",
              "  background-color: var(--sklearn-color-unfitted-level-2);\n",
              "}\n",
              "\n",
              "/* Label box, darken color on hover, fitted */\n",
              "#sk-container-id-3 div.sk-label.fitted:hover label.sk-toggleable__label.fitted {\n",
              "  color: var(--sklearn-color-text);\n",
              "  background-color: var(--sklearn-color-fitted-level-2);\n",
              "}\n",
              "\n",
              "/* Estimator label */\n",
              "\n",
              "#sk-container-id-3 div.sk-label label {\n",
              "  font-family: monospace;\n",
              "  font-weight: bold;\n",
              "  display: inline-block;\n",
              "  line-height: 1.2em;\n",
              "}\n",
              "\n",
              "#sk-container-id-3 div.sk-label-container {\n",
              "  text-align: center;\n",
              "}\n",
              "\n",
              "/* Estimator-specific */\n",
              "#sk-container-id-3 div.sk-estimator {\n",
              "  font-family: monospace;\n",
              "  border: 1px dotted var(--sklearn-color-border-box);\n",
              "  border-radius: 0.25em;\n",
              "  box-sizing: border-box;\n",
              "  margin-bottom: 0.5em;\n",
              "  /* unfitted */\n",
              "  background-color: var(--sklearn-color-unfitted-level-0);\n",
              "}\n",
              "\n",
              "#sk-container-id-3 div.sk-estimator.fitted {\n",
              "  /* fitted */\n",
              "  background-color: var(--sklearn-color-fitted-level-0);\n",
              "}\n",
              "\n",
              "/* on hover */\n",
              "#sk-container-id-3 div.sk-estimator:hover {\n",
              "  /* unfitted */\n",
              "  background-color: var(--sklearn-color-unfitted-level-2);\n",
              "}\n",
              "\n",
              "#sk-container-id-3 div.sk-estimator.fitted:hover {\n",
              "  /* fitted */\n",
              "  background-color: var(--sklearn-color-fitted-level-2);\n",
              "}\n",
              "\n",
              "/* Specification for estimator info (e.g. \"i\" and \"?\") */\n",
              "\n",
              "/* Common style for \"i\" and \"?\" */\n",
              "\n",
              ".sk-estimator-doc-link,\n",
              "a:link.sk-estimator-doc-link,\n",
              "a:visited.sk-estimator-doc-link {\n",
              "  float: right;\n",
              "  font-size: smaller;\n",
              "  line-height: 1em;\n",
              "  font-family: monospace;\n",
              "  background-color: var(--sklearn-color-background);\n",
              "  border-radius: 1em;\n",
              "  height: 1em;\n",
              "  width: 1em;\n",
              "  text-decoration: none !important;\n",
              "  margin-left: 1ex;\n",
              "  /* unfitted */\n",
              "  border: var(--sklearn-color-unfitted-level-1) 1pt solid;\n",
              "  color: var(--sklearn-color-unfitted-level-1);\n",
              "}\n",
              "\n",
              ".sk-estimator-doc-link.fitted,\n",
              "a:link.sk-estimator-doc-link.fitted,\n",
              "a:visited.sk-estimator-doc-link.fitted {\n",
              "  /* fitted */\n",
              "  border: var(--sklearn-color-fitted-level-1) 1pt solid;\n",
              "  color: var(--sklearn-color-fitted-level-1);\n",
              "}\n",
              "\n",
              "/* On hover */\n",
              "div.sk-estimator:hover .sk-estimator-doc-link:hover,\n",
              ".sk-estimator-doc-link:hover,\n",
              "div.sk-label-container:hover .sk-estimator-doc-link:hover,\n",
              ".sk-estimator-doc-link:hover {\n",
              "  /* unfitted */\n",
              "  background-color: var(--sklearn-color-unfitted-level-3);\n",
              "  color: var(--sklearn-color-background);\n",
              "  text-decoration: none;\n",
              "}\n",
              "\n",
              "div.sk-estimator.fitted:hover .sk-estimator-doc-link.fitted:hover,\n",
              ".sk-estimator-doc-link.fitted:hover,\n",
              "div.sk-label-container:hover .sk-estimator-doc-link.fitted:hover,\n",
              ".sk-estimator-doc-link.fitted:hover {\n",
              "  /* fitted */\n",
              "  background-color: var(--sklearn-color-fitted-level-3);\n",
              "  color: var(--sklearn-color-background);\n",
              "  text-decoration: none;\n",
              "}\n",
              "\n",
              "/* Span, style for the box shown on hovering the info icon */\n",
              ".sk-estimator-doc-link span {\n",
              "  display: none;\n",
              "  z-index: 9999;\n",
              "  position: relative;\n",
              "  font-weight: normal;\n",
              "  right: .2ex;\n",
              "  padding: .5ex;\n",
              "  margin: .5ex;\n",
              "  width: min-content;\n",
              "  min-width: 20ex;\n",
              "  max-width: 50ex;\n",
              "  color: var(--sklearn-color-text);\n",
              "  box-shadow: 2pt 2pt 4pt #999;\n",
              "  /* unfitted */\n",
              "  background: var(--sklearn-color-unfitted-level-0);\n",
              "  border: .5pt solid var(--sklearn-color-unfitted-level-3);\n",
              "}\n",
              "\n",
              ".sk-estimator-doc-link.fitted span {\n",
              "  /* fitted */\n",
              "  background: var(--sklearn-color-fitted-level-0);\n",
              "  border: var(--sklearn-color-fitted-level-3);\n",
              "}\n",
              "\n",
              ".sk-estimator-doc-link:hover span {\n",
              "  display: block;\n",
              "}\n",
              "\n",
              "/* \"?\"-specific style due to the `<a>` HTML tag */\n",
              "\n",
              "#sk-container-id-3 a.estimator_doc_link {\n",
              "  float: right;\n",
              "  font-size: 1rem;\n",
              "  line-height: 1em;\n",
              "  font-family: monospace;\n",
              "  background-color: var(--sklearn-color-background);\n",
              "  border-radius: 1rem;\n",
              "  height: 1rem;\n",
              "  width: 1rem;\n",
              "  text-decoration: none;\n",
              "  /* unfitted */\n",
              "  color: var(--sklearn-color-unfitted-level-1);\n",
              "  border: var(--sklearn-color-unfitted-level-1) 1pt solid;\n",
              "}\n",
              "\n",
              "#sk-container-id-3 a.estimator_doc_link.fitted {\n",
              "  /* fitted */\n",
              "  border: var(--sklearn-color-fitted-level-1) 1pt solid;\n",
              "  color: var(--sklearn-color-fitted-level-1);\n",
              "}\n",
              "\n",
              "/* On hover */\n",
              "#sk-container-id-3 a.estimator_doc_link:hover {\n",
              "  /* unfitted */\n",
              "  background-color: var(--sklearn-color-unfitted-level-3);\n",
              "  color: var(--sklearn-color-background);\n",
              "  text-decoration: none;\n",
              "}\n",
              "\n",
              "#sk-container-id-3 a.estimator_doc_link.fitted:hover {\n",
              "  /* fitted */\n",
              "  background-color: var(--sklearn-color-fitted-level-3);\n",
              "}\n",
              "</style><div id=\"sk-container-id-3\" class=\"sk-top-container\"><div class=\"sk-text-repr-fallback\"><pre>OneClassSVM(gamma=&#x27;auto&#x27;, nu=0.02)</pre><b>In a Jupyter environment, please rerun this cell to show the HTML representation or trust the notebook. <br />On GitHub, the HTML representation is unable to render, please try loading this page with nbviewer.org.</b></div><div class=\"sk-container\" hidden><div class=\"sk-item\"><div class=\"sk-estimator fitted sk-toggleable\"><input class=\"sk-toggleable__control sk-hidden--visually\" id=\"sk-estimator-id-3\" type=\"checkbox\" checked><label for=\"sk-estimator-id-3\" class=\"sk-toggleable__label fitted sk-toggleable__label-arrow fitted\">&nbsp;&nbsp;OneClassSVM<a class=\"sk-estimator-doc-link fitted\" rel=\"noreferrer\" target=\"_blank\" href=\"https://scikit-learn.org/1.5/modules/generated/sklearn.svm.OneClassSVM.html\">?<span>Documentation for OneClassSVM</span></a><span class=\"sk-estimator-doc-link fitted\">i<span>Fitted</span></span></label><div class=\"sk-toggleable__content fitted\"><pre>OneClassSVM(gamma=&#x27;auto&#x27;, nu=0.02)</pre></div> </div></div></div></div>"
            ],
            "text/plain": [
              "OneClassSVM(gamma='auto', nu=0.02)"
            ]
          },
          "execution_count": 58,
          "metadata": {},
          "output_type": "execute_result"
        }
      ],
      "source": [
        "# Train a single-class classifier (e.g., One Class SVM)\n",
        "clf = svm.OneClassSVM(\n",
        "    nu=0.02, kernel=\"rbf\", gamma=\"auto\"\n",
        ")  # Adjust parameters as needed (highest recall, then f1-score)\n",
        "# clf = svm.OneClassSVM(nu=0.01, kernel=\"poly\", gamma='scale')  # Adjust parameters as needed (highest f1-score)\n",
        "clf.fit(X_train)"
      ]
    },
    {
      "cell_type": "code",
      "execution_count": null,
      "metadata": {
        "id": "BJJW8JJtovxg"
      },
      "outputs": [],
      "source": [
        "# Make predictions on the test set (consider outliers as the positive class)\n",
        "y_pred = clf.predict(X_test)\n",
        "y_pred = [1 if y == -1 else 0 for y in y_pred]  # Convert -1 (outlier) to 1"
      ]
    },
    {
      "cell_type": "code",
      "execution_count": null,
      "metadata": {
        "id": "Qmp0u021ovxh"
      },
      "outputs": [
        {
          "data": {
            "text/plain": [
              "array([[18823,   346],\n",
              "       [  156,   675]])"
            ]
          },
          "execution_count": 60,
          "metadata": {},
          "output_type": "execute_result"
        }
      ],
      "source": [
        "cnf_matrix = confusion_matrix(y_test, y_pred)\n",
        "cnf_matrix"
      ]
    },
    {
      "cell_type": "code",
      "execution_count": null,
      "metadata": {
        "id": "gUEOX79Sovxh"
      },
      "outputs": [
        {
          "data": {
            "image/png": "[encoded data removed]",
            "text/plain": [
              "<Figure size 640x480 with 2 Axes>"
            ]
          },
          "metadata": {},
          "output_type": "display_data"
        }
      ],
      "source": [
        "disp = ConfusionMatrixDisplay(\n",
        "    confusion_matrix=cnf_matrix, display_labels=[\"normal\", \"abnormal\"]\n",
        ")\n",
        "disp.plot()\n",
        "plt.show()"
      ]
    },
    {
      "cell_type": "code",
      "execution_count": null,
      "metadata": {
        "id": "V24LufrGovxh"
      },
      "outputs": [
        {
          "name": "stdout",
          "output_type": "stream",
          "text": [
            "Accuracy: 0.9749\n",
            "Classification Report:\n",
            "               precision    recall  f1-score   support\n",
            "\n",
            "      normal       0.99      0.98      0.99     19169\n",
            "    abnormal       0.66      0.81      0.73       831\n",
            "\n",
            "    accuracy                           0.97     20000\n",
            "   macro avg       0.83      0.90      0.86     20000\n",
            "weighted avg       0.98      0.97      0.98     20000\n",
            "\n"
          ]
        }
      ],
      "source": [
        "# Evaluate the classifier\n",
        "accuracy = accuracy_score(y_test, y_pred)\n",
        "target_names = [\"normal\", \"abnormal\"]\n",
        "report = classification_report(y_test, y_pred, target_names=target_names)\n",
        "\n",
        "print(f\"Accuracy: {accuracy}\")\n",
        "print(\"Classification Report:\\n\", report)"
      ]
    },
    {
      "cell_type": "markdown",
      "metadata": {
        "id": "aNNvclFYovxh"
      },
      "source": [
        "Let's do some naive hyperparameter tuning"
      ]
    },
    {
      "cell_type": "code",
      "execution_count": null,
      "metadata": {
        "id": "y4UmwsRgovxh"
      },
      "outputs": [],
      "source": [
        "# Define the parameter grid for hyperparameter tuning\n",
        "param_grid = {\n",
        "    \"nu\": [0.01, 0.02],  # Regularization parameter (controls the fraction of outliers)\n",
        "    \"kernel\": [\"linear\", \"rbf\", \"poly\"],  # Kernel type\n",
        "    \"gamma\": [\"scale\", \"auto\"],  # Kernel coefficient for 'rbf', 'poly', and 'sigmoid'\n",
        "    # 'gamma': ['scale', 'auto', 0.1, 1, 10]  # Kernel coefficient for 'rbf', 'poly', and 'sigmoid'\n",
        "}\n",
        "\n",
        "# Initialize variables to track the best score and parameters\n",
        "best_f1_score = 0\n",
        "best_params = {}\n",
        "\n",
        "# Manually iterate through parameter combinations\n",
        "for nu in param_grid[\"nu\"]:\n",
        "    for kernel in param_grid[\"kernel\"]:\n",
        "        for gamma in param_grid[\"gamma\"]:\n",
        "            # Create and train the OneClassSVM classifier\n",
        "            clf = svm.OneClassSVM(nu=nu, kernel=kernel, gamma=gamma)\n",
        "            clf.fit(X_train)\n",
        "\n",
        "            # Make predictions on the test set\n",
        "            y_pred = clf.predict(X_test)\n",
        "            y_pred = [1 if y == -1 else 0 for y in y_pred]\n",
        "\n",
        "            # Calculate F1-score\n",
        "            f1 = f1_score(y_test, y_pred)\n",
        "            # Calculate Recall\n",
        "            recall = recall_score(y_test, y_pred)\n",
        "            # Calculate Precision\n",
        "            precision = precision_score(y_test_pd, y_pred_pd)\n",
        "\n",
        "            # Update best score and parameters if current combination is better\n",
        "            if f1 > best_f1_score:\n",
        "                best_f1_score = f1\n",
        "                best_params = {\"nu\": nu, \"kernel\": kernel, \"gamma\": gamma}\n",
        "\n",
        "            print(\n",
        "                f\"Parameters: nu={nu}, kernel='{kernel}', gamma='{gamma}', Recall: {recall}, Precision: {precision}, F1-Score: {f1}\"\n",
        "            )\n",
        "\n",
        "# Print the best parameters and score\n",
        "print(\"Best Parameters:\", best_params)\n",
        "print(\"Best F1-Score:\", best_f1_score)"
      ]
    },
    {
      "cell_type": "markdown",
      "metadata": {
        "id": "ar0_xsdOovxh"
      },
      "source": [
        "#### Use Novelty Detection with Local Outlier Factor"
      ]
    },
    {
      "cell_type": "code",
      "execution_count": null,
      "metadata": {
        "id": "cXRKK_Z1ovxh"
      },
      "outputs": [
        {
          "data": {
            "text/html": [
              "<style>#sk-container-id-5 {\n",
              "  /* Definition of color scheme common for light and dark mode */\n",
              "  --sklearn-color-text: black;\n",
              "  --sklearn-color-line: gray;\n",
              "  /* Definition of color scheme for unfitted estimators */\n",
              "  --sklearn-color-unfitted-level-0: #fff5e6;\n",
              "  --sklearn-color-unfitted-level-1: #f6e4d2;\n",
              "  --sklearn-color-unfitted-level-2: #ffe0b3;\n",
              "  --sklearn-color-unfitted-level-3: chocolate;\n",
              "  /* Definition of color scheme for fitted estimators */\n",
              "  --sklearn-color-fitted-level-0: #f0f8ff;\n",
              "  --sklearn-color-fitted-level-1: #d4ebff;\n",
              "  --sklearn-color-fitted-level-2: #b3dbfd;\n",
              "  --sklearn-color-fitted-level-3: cornflowerblue;\n",
              "\n",
              "  /* Specific color for light theme */\n",
              "  --sklearn-color-text-on-default-background: var(--sg-text-color, var(--theme-code-foreground, var(--jp-content-font-color1, black)));\n",
              "  --sklearn-color-background: var(--sg-background-color, var(--theme-background, var(--jp-layout-color0, white)));\n",
              "  --sklearn-color-border-box: var(--sg-text-color, var(--theme-code-foreground, var(--jp-content-font-color1, black)));\n",
              "  --sklearn-color-icon: #696969;\n",
              "\n",
              "  @media (prefers-color-scheme: dark) {\n",
              "    /* Redefinition of color scheme for dark theme */\n",
              "    --sklearn-color-text-on-default-background: var(--sg-text-color, var(--theme-code-foreground, var(--jp-content-font-color1, white)));\n",
              "    --sklearn-color-background: var(--sg-background-color, var(--theme-background, var(--jp-layout-color0, #111)));\n",
              "    --sklearn-color-border-box: var(--sg-text-color, var(--theme-code-foreground, var(--jp-content-font-color1, white)));\n",
              "    --sklearn-color-icon: #878787;\n",
              "  }\n",
              "}\n",
              "\n",
              "#sk-container-id-5 {\n",
              "  color: var(--sklearn-color-text);\n",
              "}\n",
              "\n",
              "#sk-container-id-5 pre {\n",
              "  padding: 0;\n",
              "}\n",
              "\n",
              "#sk-container-id-5 input.sk-hidden--visually {\n",
              "  border: 0;\n",
              "  clip: rect(1px 1px 1px 1px);\n",
              "  clip: rect(1px, 1px, 1px, 1px);\n",
              "  height: 1px;\n",
              "  margin: -1px;\n",
              "  overflow: hidden;\n",
              "  padding: 0;\n",
              "  position: absolute;\n",
              "  width: 1px;\n",
              "}\n",
              "\n",
              "#sk-container-id-5 div.sk-dashed-wrapped {\n",
              "  border: 1px dashed var(--sklearn-color-line);\n",
              "  margin: 0 0.4em 0.5em 0.4em;\n",
              "  box-sizing: border-box;\n",
              "  padding-bottom: 0.4em;\n",
              "  background-color: var(--sklearn-color-background);\n",
              "}\n",
              "\n",
              "#sk-container-id-5 div.sk-container {\n",
              "  /* jupyter's `normalize.less` sets `[hidden] { display: none; }`\n",
              "     but bootstrap.min.css set `[hidden] { display: none !important; }`\n",
              "     so we also need the `!important` here to be able to override the\n",
              "     default hidden behavior on the sphinx rendered scikit-learn.org.\n",
              "     See: https://github.com/scikit-learn/scikit-learn/issues/21755 */\n",
              "  display: inline-block !important;\n",
              "  position: relative;\n",
              "}\n",
              "\n",
              "#sk-container-id-5 div.sk-text-repr-fallback {\n",
              "  display: none;\n",
              "}\n",
              "\n",
              "div.sk-parallel-item,\n",
              "div.sk-serial,\n",
              "div.sk-item {\n",
              "  /* draw centered vertical line to link estimators */\n",
              "  background-image: linear-gradient(var(--sklearn-color-text-on-default-background), var(--sklearn-color-text-on-default-background));\n",
              "  background-size: 2px 100%;\n",
              "  background-repeat: no-repeat;\n",
              "  background-position: center center;\n",
              "}\n",
              "\n",
              "/* Parallel-specific style estimator block */\n",
              "\n",
              "#sk-container-id-5 div.sk-parallel-item::after {\n",
              "  content: \"\";\n",
              "  width: 100%;\n",
              "  border-bottom: 2px solid var(--sklearn-color-text-on-default-background);\n",
              "  flex-grow: 1;\n",
              "}\n",
              "\n",
              "#sk-container-id-5 div.sk-parallel {\n",
              "  display: flex;\n",
              "  align-items: stretch;\n",
              "  justify-content: center;\n",
              "  background-color: var(--sklearn-color-background);\n",
              "  position: relative;\n",
              "}\n",
              "\n",
              "#sk-container-id-5 div.sk-parallel-item {\n",
              "  display: flex;\n",
              "  flex-direction: column;\n",
              "}\n",
              "\n",
              "#sk-container-id-5 div.sk-parallel-item:first-child::after {\n",
              "  align-self: flex-end;\n",
              "  width: 50%;\n",
              "}\n",
              "\n",
              "#sk-container-id-5 div.sk-parallel-item:last-child::after {\n",
              "  align-self: flex-start;\n",
              "  width: 50%;\n",
              "}\n",
              "\n",
              "#sk-container-id-5 div.sk-parallel-item:only-child::after {\n",
              "  width: 0;\n",
              "}\n",
              "\n",
              "/* Serial-specific style estimator block */\n",
              "\n",
              "#sk-container-id-5 div.sk-serial {\n",
              "  display: flex;\n",
              "  flex-direction: column;\n",
              "  align-items: center;\n",
              "  background-color: var(--sklearn-color-background);\n",
              "  padding-right: 1em;\n",
              "  padding-left: 1em;\n",
              "}\n",
              "\n",
              "\n",
              "/* Toggleable style: style used for estimator/Pipeline/ColumnTransformer box that is\n",
              "clickable and can be expanded/collapsed.\n",
              "- Pipeline and ColumnTransformer use this feature and define the default style\n",
              "- Estimators will overwrite some part of the style using the `sk-estimator` class\n",
              "*/\n",
              "\n",
              "/* Pipeline and ColumnTransformer style (default) */\n",
              "\n",
              "#sk-container-id-5 div.sk-toggleable {\n",
              "  /* Default theme specific background. It is overwritten whether we have a\n",
              "  specific estimator or a Pipeline/ColumnTransformer */\n",
              "  background-color: var(--sklearn-color-background);\n",
              "}\n",
              "\n",
              "/* Toggleable label */\n",
              "#sk-container-id-5 label.sk-toggleable__label {\n",
              "  cursor: pointer;\n",
              "  display: block;\n",
              "  width: 100%;\n",
              "  margin-bottom: 0;\n",
              "  padding: 0.5em;\n",
              "  box-sizing: border-box;\n",
              "  text-align: center;\n",
              "}\n",
              "\n",
              "#sk-container-id-5 label.sk-toggleable__label-arrow:before {\n",
              "  /* Arrow on the left of the label */\n",
              "  content: \"▸\";\n",
              "  float: left;\n",
              "  margin-right: 0.25em;\n",
              "  color: var(--sklearn-color-icon);\n",
              "}\n",
              "\n",
              "#sk-container-id-5 label.sk-toggleable__label-arrow:hover:before {\n",
              "  color: var(--sklearn-color-text);\n",
              "}\n",
              "\n",
              "/* Toggleable content - dropdown */\n",
              "\n",
              "#sk-container-id-5 div.sk-toggleable__content {\n",
              "  max-height: 0;\n",
              "  max-width: 0;\n",
              "  overflow: hidden;\n",
              "  text-align: left;\n",
              "  /* unfitted */\n",
              "  background-color: var(--sklearn-color-unfitted-level-0);\n",
              "}\n",
              "\n",
              "#sk-container-id-5 div.sk-toggleable__content.fitted {\n",
              "  /* fitted */\n",
              "  background-color: var(--sklearn-color-fitted-level-0);\n",
              "}\n",
              "\n",
              "#sk-container-id-5 div.sk-toggleable__content pre {\n",
              "  margin: 0.2em;\n",
              "  border-radius: 0.25em;\n",
              "  color: var(--sklearn-color-text);\n",
              "  /* unfitted */\n",
              "  background-color: var(--sklearn-color-unfitted-level-0);\n",
              "}\n",
              "\n",
              "#sk-container-id-5 div.sk-toggleable__content.fitted pre {\n",
              "  /* unfitted */\n",
              "  background-color: var(--sklearn-color-fitted-level-0);\n",
              "}\n",
              "\n",
              "#sk-container-id-5 input.sk-toggleable__control:checked~div.sk-toggleable__content {\n",
              "  /* Expand drop-down */\n",
              "  max-height: 200px;\n",
              "  max-width: 100%;\n",
              "  overflow: auto;\n",
              "}\n",
              "\n",
              "#sk-container-id-5 input.sk-toggleable__control:checked~label.sk-toggleable__label-arrow:before {\n",
              "  content: \"▾\";\n",
              "}\n",
              "\n",
              "/* Pipeline/ColumnTransformer-specific style */\n",
              "\n",
              "#sk-container-id-5 div.sk-label input.sk-toggleable__control:checked~label.sk-toggleable__label {\n",
              "  color: var(--sklearn-color-text);\n",
              "  background-color: var(--sklearn-color-unfitted-level-2);\n",
              "}\n",
              "\n",
              "#sk-container-id-5 div.sk-label.fitted input.sk-toggleable__control:checked~label.sk-toggleable__label {\n",
              "  background-color: var(--sklearn-color-fitted-level-2);\n",
              "}\n",
              "\n",
              "/* Estimator-specific style */\n",
              "\n",
              "/* Colorize estimator box */\n",
              "#sk-container-id-5 div.sk-estimator input.sk-toggleable__control:checked~label.sk-toggleable__label {\n",
              "  /* unfitted */\n",
              "  background-color: var(--sklearn-color-unfitted-level-2);\n",
              "}\n",
              "\n",
              "#sk-container-id-5 div.sk-estimator.fitted input.sk-toggleable__control:checked~label.sk-toggleable__label {\n",
              "  /* fitted */\n",
              "  background-color: var(--sklearn-color-fitted-level-2);\n",
              "}\n",
              "\n",
              "#sk-container-id-5 div.sk-label label.sk-toggleable__label,\n",
              "#sk-container-id-5 div.sk-label label {\n",
              "  /* The background is the default theme color */\n",
              "  color: var(--sklearn-color-text-on-default-background);\n",
              "}\n",
              "\n",
              "/* On hover, darken the color of the background */\n",
              "#sk-container-id-5 div.sk-label:hover label.sk-toggleable__label {\n",
              "  color: var(--sklearn-color-text);\n",
              "  background-color: var(--sklearn-color-unfitted-level-2);\n",
              "}\n",
              "\n",
              "/* Label box, darken color on hover, fitted */\n",
              "#sk-container-id-5 div.sk-label.fitted:hover label.sk-toggleable__label.fitted {\n",
              "  color: var(--sklearn-color-text);\n",
              "  background-color: var(--sklearn-color-fitted-level-2);\n",
              "}\n",
              "\n",
              "/* Estimator label */\n",
              "\n",
              "#sk-container-id-5 div.sk-label label {\n",
              "  font-family: monospace;\n",
              "  font-weight: bold;\n",
              "  display: inline-block;\n",
              "  line-height: 1.2em;\n",
              "}\n",
              "\n",
              "#sk-container-id-5 div.sk-label-container {\n",
              "  text-align: center;\n",
              "}\n",
              "\n",
              "/* Estimator-specific */\n",
              "#sk-container-id-5 div.sk-estimator {\n",
              "  font-family: monospace;\n",
              "  border: 1px dotted var(--sklearn-color-border-box);\n",
              "  border-radius: 0.25em;\n",
              "  box-sizing: border-box;\n",
              "  margin-bottom: 0.5em;\n",
              "  /* unfitted */\n",
              "  background-color: var(--sklearn-color-unfitted-level-0);\n",
              "}\n",
              "\n",
              "#sk-container-id-5 div.sk-estimator.fitted {\n",
              "  /* fitted */\n",
              "  background-color: var(--sklearn-color-fitted-level-0);\n",
              "}\n",
              "\n",
              "/* on hover */\n",
              "#sk-container-id-5 div.sk-estimator:hover {\n",
              "  /* unfitted */\n",
              "  background-color: var(--sklearn-color-unfitted-level-2);\n",
              "}\n",
              "\n",
              "#sk-container-id-5 div.sk-estimator.fitted:hover {\n",
              "  /* fitted */\n",
              "  background-color: var(--sklearn-color-fitted-level-2);\n",
              "}\n",
              "\n",
              "/* Specification for estimator info (e.g. \"i\" and \"?\") */\n",
              "\n",
              "/* Common style for \"i\" and \"?\" */\n",
              "\n",
              ".sk-estimator-doc-link,\n",
              "a:link.sk-estimator-doc-link,\n",
              "a:visited.sk-estimator-doc-link {\n",
              "  float: right;\n",
              "  font-size: smaller;\n",
              "  line-height: 1em;\n",
              "  font-family: monospace;\n",
              "  background-color: var(--sklearn-color-background);\n",
              "  border-radius: 1em;\n",
              "  height: 1em;\n",
              "  width: 1em;\n",
              "  text-decoration: none !important;\n",
              "  margin-left: 1ex;\n",
              "  /* unfitted */\n",
              "  border: var(--sklearn-color-unfitted-level-1) 1pt solid;\n",
              "  color: var(--sklearn-color-unfitted-level-1);\n",
              "}\n",
              "\n",
              ".sk-estimator-doc-link.fitted,\n",
              "a:link.sk-estimator-doc-link.fitted,\n",
              "a:visited.sk-estimator-doc-link.fitted {\n",
              "  /* fitted */\n",
              "  border: var(--sklearn-color-fitted-level-1) 1pt solid;\n",
              "  color: var(--sklearn-color-fitted-level-1);\n",
              "}\n",
              "\n",
              "/* On hover */\n",
              "div.sk-estimator:hover .sk-estimator-doc-link:hover,\n",
              ".sk-estimator-doc-link:hover,\n",
              "div.sk-label-container:hover .sk-estimator-doc-link:hover,\n",
              ".sk-estimator-doc-link:hover {\n",
              "  /* unfitted */\n",
              "  background-color: var(--sklearn-color-unfitted-level-3);\n",
              "  color: var(--sklearn-color-background);\n",
              "  text-decoration: none;\n",
              "}\n",
              "\n",
              "div.sk-estimator.fitted:hover .sk-estimator-doc-link.fitted:hover,\n",
              ".sk-estimator-doc-link.fitted:hover,\n",
              "div.sk-label-container:hover .sk-estimator-doc-link.fitted:hover,\n",
              ".sk-estimator-doc-link.fitted:hover {\n",
              "  /* fitted */\n",
              "  background-color: var(--sklearn-color-fitted-level-3);\n",
              "  color: var(--sklearn-color-background);\n",
              "  text-decoration: none;\n",
              "}\n",
              "\n",
              "/* Span, style for the box shown on hovering the info icon */\n",
              ".sk-estimator-doc-link span {\n",
              "  display: none;\n",
              "  z-index: 9999;\n",
              "  position: relative;\n",
              "  font-weight: normal;\n",
              "  right: .2ex;\n",
              "  padding: .5ex;\n",
              "  margin: .5ex;\n",
              "  width: min-content;\n",
              "  min-width: 20ex;\n",
              "  max-width: 50ex;\n",
              "  color: var(--sklearn-color-text);\n",
              "  box-shadow: 2pt 2pt 4pt #999;\n",
              "  /* unfitted */\n",
              "  background: var(--sklearn-color-unfitted-level-0);\n",
              "  border: .5pt solid var(--sklearn-color-unfitted-level-3);\n",
              "}\n",
              "\n",
              ".sk-estimator-doc-link.fitted span {\n",
              "  /* fitted */\n",
              "  background: var(--sklearn-color-fitted-level-0);\n",
              "  border: var(--sklearn-color-fitted-level-3);\n",
              "}\n",
              "\n",
              ".sk-estimator-doc-link:hover span {\n",
              "  display: block;\n",
              "}\n",
              "\n",
              "/* \"?\"-specific style due to the `<a>` HTML tag */\n",
              "\n",
              "#sk-container-id-5 a.estimator_doc_link {\n",
              "  float: right;\n",
              "  font-size: 1rem;\n",
              "  line-height: 1em;\n",
              "  font-family: monospace;\n",
              "  background-color: var(--sklearn-color-background);\n",
              "  border-radius: 1rem;\n",
              "  height: 1rem;\n",
              "  width: 1rem;\n",
              "  text-decoration: none;\n",
              "  /* unfitted */\n",
              "  color: var(--sklearn-color-unfitted-level-1);\n",
              "  border: var(--sklearn-color-unfitted-level-1) 1pt solid;\n",
              "}\n",
              "\n",
              "#sk-container-id-5 a.estimator_doc_link.fitted {\n",
              "  /* fitted */\n",
              "  border: var(--sklearn-color-fitted-level-1) 1pt solid;\n",
              "  color: var(--sklearn-color-fitted-level-1);\n",
              "}\n",
              "\n",
              "/* On hover */\n",
              "#sk-container-id-5 a.estimator_doc_link:hover {\n",
              "  /* unfitted */\n",
              "  background-color: var(--sklearn-color-unfitted-level-3);\n",
              "  color: var(--sklearn-color-background);\n",
              "  text-decoration: none;\n",
              "}\n",
              "\n",
              "#sk-container-id-5 a.estimator_doc_link.fitted:hover {\n",
              "  /* fitted */\n",
              "  background-color: var(--sklearn-color-fitted-level-3);\n",
              "}\n",
              "</style><div id=\"sk-container-id-5\" class=\"sk-top-container\"><div class=\"sk-text-repr-fallback\"><pre>LocalOutlierFactor(n_neighbors=5, novelty=True)</pre><b>In a Jupyter environment, please rerun this cell to show the HTML representation or trust the notebook. <br />On GitHub, the HTML representation is unable to render, please try loading this page with nbviewer.org.</b></div><div class=\"sk-container\" hidden><div class=\"sk-item\"><div class=\"sk-estimator fitted sk-toggleable\"><input class=\"sk-toggleable__control sk-hidden--visually\" id=\"sk-estimator-id-5\" type=\"checkbox\" checked><label for=\"sk-estimator-id-5\" class=\"sk-toggleable__label fitted sk-toggleable__label-arrow fitted\">&nbsp;&nbsp;LocalOutlierFactor<a class=\"sk-estimator-doc-link fitted\" rel=\"noreferrer\" target=\"_blank\" href=\"https://scikit-learn.org/1.5/modules/generated/sklearn.neighbors.LocalOutlierFactor.html\">?<span>Documentation for LocalOutlierFactor</span></a><span class=\"sk-estimator-doc-link fitted\">i<span>Fitted</span></span></label><div class=\"sk-toggleable__content fitted\"><pre>LocalOutlierFactor(n_neighbors=5, novelty=True)</pre></div> </div></div></div></div>"
            ],
            "text/plain": [
              "LocalOutlierFactor(n_neighbors=5, novelty=True)"
            ]
          },
          "execution_count": 75,
          "metadata": {},
          "output_type": "execute_result"
        }
      ],
      "source": [
        "# lof = neighbors.LocalOutlierFactor(novelty=True, contamination=0.3, n_neighbors=12)\n",
        "lof = neighbors.LocalOutlierFactor(novelty=True, contamination=\"auto\", n_neighbors=5)\n",
        "lof.fit(X_train)"
      ]
    },
    {
      "cell_type": "code",
      "execution_count": null,
      "metadata": {
        "id": "4MytWnctovxh"
      },
      "outputs": [],
      "source": [
        "# Make predictions on the test set (consider outliers as the positive class)\n",
        "y_pred = lof.predict(X_test)\n",
        "y_pred = [1 if y == -1 else 0 for y in y_pred]  # Convert -1 (outlier) to 1"
      ]
    },
    {
      "cell_type": "code",
      "execution_count": null,
      "metadata": {
        "id": "p0NWdGtcovxi"
      },
      "outputs": [
        {
          "data": {
            "text/plain": [
              "array([[18906,   263],\n",
              "       [  125,   706]])"
            ]
          },
          "execution_count": 77,
          "metadata": {},
          "output_type": "execute_result"
        }
      ],
      "source": [
        "cnf_matrix = confusion_matrix(y_test, y_pred)\n",
        "cnf_matrix"
      ]
    },
    {
      "cell_type": "code",
      "execution_count": null,
      "metadata": {
        "id": "Asx1Yemyovxi"
      },
      "outputs": [
        {
          "data": {
            "image/png": "[encoded data removed]",
            "text/plain": [
              "<Figure size 640x480 with 2 Axes>"
            ]
          },
          "metadata": {},
          "output_type": "display_data"
        }
      ],
      "source": [
        "disp = ConfusionMatrixDisplay(\n",
        "    confusion_matrix=cnf_matrix, display_labels=[\"normal\", \"abnormal\"]\n",
        ")\n",
        "disp.plot()\n",
        "plt.show()"
      ]
    },
    {
      "cell_type": "code",
      "execution_count": null,
      "metadata": {
        "id": "6Ze54m7dovxi"
      },
      "outputs": [
        {
          "name": "stdout",
          "output_type": "stream",
          "text": [
            "Accuracy: 0.9806\n",
            "Classification Report:\n",
            "               precision    recall  f1-score   support\n",
            "\n",
            "      normal       0.99      0.99      0.99     19169\n",
            "    abnormal       0.73      0.85      0.78       831\n",
            "\n",
            "    accuracy                           0.98     20000\n",
            "   macro avg       0.86      0.92      0.89     20000\n",
            "weighted avg       0.98      0.98      0.98     20000\n",
            "\n"
          ]
        }
      ],
      "source": [
        "# Evaluate the novel detection\n",
        "accuracy = accuracy_score(y_test, y_pred)\n",
        "target_names = [\"normal\", \"abnormal\"]\n",
        "report = classification_report(y_test, y_pred, target_names=target_names)\n",
        "\n",
        "print(f\"Accuracy: {accuracy}\")\n",
        "print(\"Classification Report:\\n\", report)"
      ]
    },
    {
      "cell_type": "markdown",
      "metadata": {
        "id": "849b1e62a910"
      },
      "source": [
        "Let's do some naive hyperparameter tuning"
      ]
    },
    {
      "cell_type": "code",
      "execution_count": null,
      "metadata": {
        "id": "dC0C1Fv7ovxi"
      },
      "outputs": [],
      "source": [
        "# Define the parameter grid for LocalOutlierFactor (adjust values as needed)\n",
        "param_grid = {\n",
        "    \"n_neighbors\": [5, 10, 15, 20],  # Number of neighbors to consider\n",
        "    \"contamination\": [\n",
        "        0.01,\n",
        "        0.02,\n",
        "        0.1,\n",
        "        0.2,\n",
        "        \"auto\",\n",
        "    ],  # Estimated proportion of outliers in the data set\n",
        "    \"novelty\": [True],  # Must be True for anomaly detection\n",
        "}\n",
        "\n",
        "# Initialize variables to track the best score and parameters\n",
        "best_f1_score = 0\n",
        "best_recall = 0\n",
        "best_params = {}\n",
        "\n",
        "# Manually iterate through parameter combinations\n",
        "for n_neighbors in param_grid[\"n_neighbors\"]:\n",
        "    for contamination in param_grid[\"contamination\"]:\n",
        "        # Create and train the OneClassSVM classifier\n",
        "        clf = neighbors.LocalOutlierFactor(\n",
        "            novelty=True, contamination=contamination, n_neighbors=n_neighbors\n",
        "        )\n",
        "        clf.fit(X_train)\n",
        "\n",
        "        # Make predictions on the test set\n",
        "        y_pred = clf.predict(X_test)\n",
        "        y_pred = [1 if y == -1 else 0 for y in y_pred]\n",
        "\n",
        "        # Calculate F1-score\n",
        "        f1 = f1_score(y_test, y_pred)\n",
        "        # Calculate Recall\n",
        "        recall = recall_score(y_test, y_pred)\n",
        "        # Calculate Precision\n",
        "        precision = precision_score(y_test, y_pred)\n",
        "\n",
        "        # Update best score and parameters if current combination is better\n",
        "        if f1 > best_f1_score:\n",
        "            best_f1_score = f1\n",
        "            best_params = {\"n_neighbors\": n_neighbors, \"contamination\": contamination}\n",
        "\n",
        "        print(\n",
        "            f\"Parameters: n_neighbors={n_neighbors}, contamination={contamination}, Recall: {recall}, Precision: {precision}, F1-Score: {f1}\"\n",
        "        )\n",
        "\n",
        "# Print the best parameters and score\n",
        "print(\"Best Parameters:\", best_params)\n",
        "print(\"Best F1-Score:\", best_recall)"
      ]
    },
    {
      "cell_type": "markdown",
      "metadata": {
        "id": "ihfuDUFXm-lO"
      },
      "source": [
        "## Summary"
      ]
    },
    {
      "cell_type": "markdown",
      "metadata": {
        "id": "SlEDYC1PglVH"
      },
      "source": [
        "Here's the summary of the HDFS logs outlier detection you did in this notebook:\n",
        "\n",
        "| Outlier Detection Method | Recall | Precision | F1-score |\n",
        "|---|---|---|---|\n",
        "| **Embeddings + BQ Vector Search** | **0.92** | **0.90** | **0.91** |\n",
        "| Embeddings + LocalOutlierFactor | 0.85 | 0.73 | 0.78 |\n",
        "| Embeddings + OneClassSVM | 0.81 | 0.66 | 0.73 |\n",
        "\n",
        "These metrics show how **BigQuery vector search** can perform similar, or even better than common novelty or outlier detection algorithms. This demonstrates the robustness of its underlying native k-means clustering. These results stem from a combination of factors:\n",
        "\n",
        "- First, Gemini 1.5 Flash effectively summarizes logs sequence including any abnormal activity.\n",
        "- Second, the vector embeddings generated by the text embedding model are well suited for clustering similar normal log sequences together, capturing nuances and representing most abherrations into outliers.\n",
        "- Finally, vector search offers speed and flexibility in fine-tuning distance and neighbor count parameters to optimize the balance between precision and recall.\n"
      ]
    },
    {
      "cell_type": "markdown",
      "metadata": {
        "id": "vK-9z_T_gSxa"
      },
      "source": [
        "Now, let's compare with other leading methods such as DeepLog, N-gram, IM and PCA which were evaluated on HDFS logs dataset by [DeepLog: Anomaly Detection and Diagnosis from System Logs through Deep Learning](https://dl.acm.org/doi/10.1145/3133956.3134015) paper:\n",
        "\n",
        "| Outlier Detection Method | Recall | Precision | F1-score |\n",
        "|---|---|---|---|\n",
        "| DeepLog (RNN using LSTM) | 0.96 | 0.95 | 0.96 |\n",
        "| N-gram | 0.96 | 0.92 | 0.94 |\n",
        "| **Embeddings* + BQ Vector Search** | **0.92** | **0.90** | **0.91** |\n",
        "| Invariants Mining (offline) | 0.95 | 0.88 | 0.91 |\n",
        "| PCA (offline) | 0.67 | 0.98 | 0.79 |\n",
        "\n",
        "\\* Given notebook constraints, this method was evaluated using a test subset of 20k log sessions (equivalent to 400,000 log entries) as opposed to the entire HDFS dataset. This method was also evaluated without incremental updates to the index/model.\n"
      ]
    },
    {
      "cell_type": "markdown",
      "metadata": {
        "id": "0ojJDnje0Hv_"
      },
      "source": [
        "Some observations:\n",
        "\n",
        "* Similar to N-gram and DeepLog, vector search-based outlier detection only requires a very small training set, about 1-10% of normal logs.\n",
        "\n",
        "* Unlike N-gram and DeepLog, vector search-based outlier detection **requires neither training nor serving a custom model**. Vector search results can improve with newly ingested data (e.g. normal log entries that were false positives) without necessarily requiring model retraining, or re-indexing in the case of vector index. However, re-indexing is recommended when a large dataset is added after initial index creation, to help handle data skew.\n",
        "\n",
        "* Unlike IM and PCA offline techniques, vector search-based outlier detection can be applied in a continuous fashion with streaming logs."
      ]
    },
    {
      "cell_type": "markdown",
      "metadata": {
        "id": "IL6KstPsuuBZ"
      },
      "source": [
        "### Next steps\n",
        "\n",
        "This notebook provides a step-by-step walkthrough of applying LLMs, vector embeddings and BigQuery vector search for anomaly detection in semi-structured logs using familiar SQL.  Use and extend this notebook to experiment with embeddings and evaluate vector search accuracy, speed and cost using the publicly available HDFS logs dataset or your own dataset.\n",
        "\n",
        "The performance achieved with HDFS logs dataset is satisfactory and incurs much lower overhead compared to other alternatives given the use of off-the-shelf embedding and Gemini models. More exploratory work can be done to further evaluate and optimize recall, from fine-tuning the embedding model itself to optimizing the vector search-based anomaly detection logic (e.g. distance normalization, dynamic vs fixed threshold, etc.). That also includes index-time settings (e.g. `num_lists` for vector index) and search-time settings (e.g. `normalization_type`, `fraction_lists_to_search` for vector search). Results will vary depending on your dataset and your specific configurations."
      ]
    },
    {
      "cell_type": "markdown",
      "metadata": {
        "id": "2a4e033321ad"
      },
      "source": [
        "## Cleaning up"
      ]
    },
    {
      "cell_type": "code",
      "execution_count": null,
      "metadata": {
        "id": "21f2a7432655"
      },
      "outputs": [],
      "source": [
        "# Delete BigQuery dataset. Uncomment and run the command below if you want to delete the BigQuery set.\n",
        "# from google.cloud import bigquery\n",
        "# Do this only if the dataset is created for this demo.\n",
        "# dataset = f\"{PROJECT_ID}.{DATASET_ID}\"\n",
        "# dataset_object = bigquery.Dataset(dataset)\n",
        "# client.delete_dataset(dataset_object, delete_contents=True, not_found_ok=True)"
      ]
    }
  ],
  "metadata": {
    "colab": {
      "collapsed_sections": [
        "rYn2yZ90cRG5"
      ],
      "name": "bq-vector-search-outlier-detection-infra-logs.ipynb",
      "toc_visible": true
    },
    "kernelspec": {
      "display_name": "Python 3",
      "name": "python3"
    }
  },
  "nbformat": 4,
  "nbformat_minor": 0
}
